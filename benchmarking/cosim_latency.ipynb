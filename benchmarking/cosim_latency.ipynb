{
 "cells": [
  {
   "cell_type": "markdown",
   "metadata": {},
   "source": [
    "### Sedaro Cosimulation Latency Benchmark\n",
    "\n",
    "This notebook analyzes the latency and associated command rates achievable over a Sedaro cosimulation channel.  The current benchmarks assume that the data volumes are negligible but we can add a case for higher payload sizes if relevant to your use case.\n",
    "\n",
    "**Notes:** Results may vary depending on location of client and server."
   ]
  },
  {
   "cell_type": "markdown",
   "metadata": {},
   "source": [
    "#### Important: Read Before Running\n",
    "\n",
    "This notebook makes changes to agent and scenario branches indicated in the settings section. Ensure any changes to the target branches are saved prior to running this code. Sedaro recommends committing current work and creating new branches in the target repositories to avoid loss of work.\n",
    "\n",
    "This notebook also requires that you have previously generated an API key in the web UI. That key should be stored in a file called `secrets.json` in the same directory as this notebook with the following format:\n",
    "\n",
    "```json\n",
    "{\n",
    "  \"API_KEY\": \"<API_KEY>\"\n",
    "}\n",
    "```\n",
    "\n",
    "This notebook also requires specific configuration of the HOST and SCENARIO_BRANCH_ID by defining them below or by\n",
    "including the following in `config.json`\n",
    "\n",
    "```json\n",
    "{\n",
    "  \"HOST\": \"...\",\n",
    "  \"LATENCY\": {\"SCENARIO_BRANCH_ID\": \"...\"}\n",
    "}\n",
    "```\n",
    "\n",
    "API keys grant full access to your repositories and should never be shared. If you think your API key has been compromised, you can revoke it in the user settings interface on the Sedaro website.\n"
   ]
  },
  {
   "cell_type": "markdown",
   "metadata": {},
   "source": [
    "#### Description of Test Set Up\n",
    "\n",
    "To analyze the end-to-end latence of a Sedaro cosimulation channel, we will configure a simple cosimulator on the default SuperDove scenario that will read out (\"consume\") `estimatedMagneticFieldVector` state from a running simulation and publish (\"produce\") `attitude` Quaternions into the running simulation \"per round\".  In this configuration, consuming `estimatedMagneticFieldVector` state will block until an `attitude` is produced each round.  This creates a dependency between the two cosimulator transactions to best characterizes end-to-end latency."
   ]
  },
  {
   "cell_type": "markdown",
   "metadata": {},
   "source": [
    "#### Install Dependencies"
   ]
  },
  {
   "cell_type": "code",
   "execution_count": null,
   "metadata": {},
   "outputs": [],
   "source": [
    "!pip install matplotlib numpy\n",
    "!pip install \"sedaro>=4.16.2\""
   ]
  },
  {
   "cell_type": "markdown",
   "metadata": {},
   "source": [
    "\n",
    "#### Client Initialization"
   ]
  },
  {
   "cell_type": "code",
   "execution_count": null,
   "metadata": {},
   "outputs": [],
   "source": [
    "import time\n",
    "import os\n",
    "from sedaro import SedaroApiClient\n",
    "import json\n",
    "import matplotlib.pyplot as plt\n",
    "import numpy as np\n",
    "import asyncio\n",
    "\n",
    "# Optionally set the following variables here instead of in config.json\n",
    "SCENARIO_BRANCH_ID = \"\" # ID of a SuperDove scenario\n",
    "HOST = \"\" # Optionally use another sedaro instance as host\n",
    "\n",
    "with open('../secrets.json', 'r') as file:\n",
    "    api_key = json.load(file)['API_KEY']\n",
    "\n",
    "try:\n",
    "    with open('../config.json', 'r') as file:\n",
    "        config = json.load(file)\n",
    "        SCENARIO_BRANCH_ID = SCENARIO_BRANCH_ID or config['LATENCY']['SCENARIO_BRANCH_ID']\n",
    "        HOST = HOST or config['HOST']\n",
    "except FileNotFoundError:\n",
    "    pass\n",
    "except KeyError as e:\n",
    "    raise KeyError(f\"Missing key in config.json: {e}\")\n",
    "finally:\n",
    "    assert SCENARIO_BRANCH_ID, \"SCENARIO_BRANCH_ID must be set if not present in config.json if not set directly.\"\n",
    "    assert HOST, \"HOST must be set if not present in config.json if not set directly.\"\n",
    "\n",
    "\n",
    "sedaro = SedaroApiClient(api_key=api_key, host=HOST)\n",
    "\n",
    "scenario = sedaro.scenario(SCENARIO_BRANCH_ID)\n",
    "agent_id = scenario.TemplatedAgent.get_where(name='SuperDove Base')[0].id"
   ]
  },
  {
   "cell_type": "markdown",
   "metadata": {},
   "source": [
    "#### Cosimulator Initialization\n",
    "\n",
    "Run the following code-cell once to initialze a cosimulation interface on the \"SuperDove Base\" agent."
   ]
  },
  {
   "cell_type": "code",
   "execution_count": 9,
   "metadata": {},
   "outputs": [],
   "source": [
    "scenario.delete_all_external_state_blocks()\n",
    "state_block = scenario.PerRoundExternalState.create(\n",
    "    engine='gnc',\n",
    "    agents=[agent_id],\n",
    "    consumed='(prev!(root!.estimatedMagneticFieldVector),)',\n",
    "    produced='(root!.attitude as Quaternion.body_eci,)'\n",
    ")"
   ]
  },
  {
   "cell_type": "markdown",
   "metadata": {},
   "source": [
    "#### Benchmark\n",
    "\n",
    "Start a simulation and produce/consume data over the cosimulation channel until the simulation terminates.  This may take a few minutes.  You can view the progress in the Sedaro UI."
   ]
  },
  {
   "cell_type": "code",
   "execution_count": 10,
   "metadata": {},
   "outputs": [
    {
     "name": "stderr",
     "output_type": "stream",
     "text": [
      "ERROR:root:Unexpected response state: 1\n",
      "ERROR:root:Consume operation failed for index 8641: Unexpected response state.\n"
     ]
    },
    {
     "name": "stdout",
     "output_type": "stream",
     "text": [
      "A exception was raised.  This is expected if the simulation termianted successfully.  Original exception: Unexpected response state.\n"
     ]
    }
   ],
   "source": [
    "times = []\n",
    "attitude = np.array([1.0, 0.0, 0.0, 0.0])\n",
    "\n",
    "simulation_handle = scenario.simulation.start(wait=True)\n",
    "async with simulation_handle.async_channel() as channel:\n",
    "    try:\n",
    "        while True: # Loop until the sim terminates and an exception is raised\n",
    "            t = time.time()\n",
    "            produce_future = channel.produce(agent_id=agent_id, external_state_id=state_block.id, values=(attitude,))\n",
    "            consume_future = channel.consume(agent_id=agent_id, external_state_id=state_block.id)\n",
    "            await asyncio.gather(produce_future, consume_future)\n",
    "            times.append(time.time() - t)\n",
    "    except Exception as e:\n",
    "        print('A exception was raised.  This is expected if the simulation terminated successfully.  Original exception:', e)\n",
    "        pass"
   ]
  },
  {
   "cell_type": "markdown",
   "metadata": {},
   "source": [
    "#### Results"
   ]
  },
  {
   "cell_type": "code",
   "execution_count": 21,
   "metadata": {},
   "outputs": [
    {
     "name": "stdout",
     "output_type": "stream",
     "text": [
      "Average latency: 31.86803289033748 ms\n",
      "Average Command Rate: 31.37940780471593 Hz\n",
      "# of Samples: 8640\n"
     ]
    },
    {
     "data": {
      "image/png": "[encoded data removed]",
      "text/plain": [
       "<Figure size 640x480 with 1 Axes>"
      ]
     },
     "metadata": {},
     "output_type": "display_data"
    }
   ],
   "source": [
    "fig, axs = plt.subplots(1, tight_layout=True)\n",
    "axs.hist(np.array(times)*1000, bins=50)\n",
    "axs.set_title('Latencies (ms)')\n",
    "print('Average latency:', np.mean(times)*1000, 'ms')\n",
    "print('Average Command Rate:', 1/np.mean(times), 'Hz')\n",
    "print('# of Samples:', len(times))"
   ]
  },
  {
   "cell_type": "markdown",
   "metadata": {},
   "source": [
    "##### What do these results mean?\n",
    "\n",
    "For high-speed cosimulation, we use dedicated and encrypted multiplexed gRPC channels which route cosimulator data directly into and out of a running simulation in the Sedaro cloud.  The latest generation of this interface has roughly 30ms round trip latency from our office in VA to our east coast cloud.  This allows for a ~33Hz command rate.\n",
    "\n",
    "Given the multiplexed nature of this link, we can send many commands concurrently within the 33Hz cycle for transactions like telemetry requests and housekeeping functions, effectively achieving much higher command rates. Should you find that your latency be much higher than ~30ms, contact us and inquire about a platform deployment that is geographically closer to you.\n",
    "\n",
    "Our team is happy to help write cosimulator middleware for your specific HIL/SIL application.  Reach out at support@sedarotech.com or drop a message in our [community Slack channel](https://join.slack.com/t/sedaro-community/shared_invite/zt-1jps4i711-mXy88AZQ9AV7YcEXr8x7Ow)."
   ]
  }
 ],
 "metadata": {
  "kernelspec": {
   "display_name": ".venvv",
   "language": "python",
   "name": "python3"
  },
  "language_info": {
   "codemirror_mode": {
    "name": "ipython",
    "version": 3
   },
   "file_extension": ".py",
   "mimetype": "text/x-python",
   "name": "python",
   "nbconvert_exporter": "python",
   "pygments_lexer": "ipython3",
   "version": "3.9.6"
  }
 },
 "nbformat": 4,
 "nbformat_minor": 2
}
