{
 "cells": [
  {
   "attachments": {},
   "cell_type": "markdown",
   "metadata": {},
   "source": [
    "### Sedaro Ephemeris Demo\n",
    "\n",
    "This notebook demonstrates how to upload an ephemeris file and use it to describe the position of a spacecraft or other object in Sedaro. We will use examples of the following types of ephemerides:\n",
    "\n",
    "SPICE SPK - Ephemeris format used by SPICE, a free information system created and maintained by NASA's Navigation and Ancillary\n",
    "    Information Facility (NAIF). SPICE ephemerides take the format of binary SPK kernels with the file extension .bsp.\n",
    "    More information can be found here:\n",
    "    https://naif.jpl.nasa.gov/naif/spiceconcept.html\n",
    "\n",
    "STK Ephemeris - STK ephemerides are stored in ASCII text files with extension .e. More information can be found here:\n",
    "    https://help.agi.com/stk/11.0.1/Content/stk/importfiles-02.htm"
   ]
  },
  {
   "attachments": {},
   "cell_type": "markdown",
   "metadata": {},
   "source": [
    "#### Important: Read Before Running\n",
    "\n",
    "This notebook makes changes to agent and scenario branches indicated in the settings section. Ensure any changes to the target branches are saved prior to running this code. Sedaro recommends committing current work and creating new branches in the target repositories to avoid loss of work.\n",
    "\n",
    "This notebook also requires that you have previously generated an API key in the web UI. That key should be stored in a file called `secrets.json` in the same directory as this notebook with the following format:\n",
    "\n",
    "```json\n",
    "{\n",
    "    \"API_KEY\": \"<API_KEY>\"\n",
    "}\n",
    "```\n",
    "\n",
    "API keys grant full access to your repositories and should never be shared. If you think your API key has been compromised, you can revoke it in the user settings interface on the Sedaro website."
   ]
  },
  {
   "cell_type": "markdown",
   "metadata": {},
   "source": [
    "#### Imports"
   ]
  },
  {
   "cell_type": "code",
   "execution_count": null,
   "metadata": {},
   "outputs": [],
   "source": [
    "import json\n",
    "import requests\n",
    "\n",
    "from sedaro import SedaroApiClient\n",
    "from datetime import datetime, timezone\n",
    "from tempfile import TemporaryDirectory\n"
   ]
  },
  {
   "cell_type": "markdown",
   "metadata": {},
   "source": [
    "#### User Settings\n",
    "\n",
    "We'll configure some variables to choose the ephemeris files, scenario branch, scenario start/stop, etc."
   ]
  },
  {
   "attachments": {},
   "cell_type": "markdown",
   "metadata": {},
   "source": [
    "#### Instantiate Client\n",
    "Instantiate the `SedaroApiClient` with our `API_KEY` and `HOST`."
   ]
  },
  {
   "cell_type": "code",
   "execution_count": null,
   "metadata": {},
   "outputs": [],
   "source": [
    "# Settings\n",
    "with open('./secrets.json', 'r') as file:\n",
    "    API_KEY = json.load(file)['API_KEY']\n",
    "\n",
    "HOST = \"https://api.sedaro.com\"\n",
    "sedaro = SedaroApiClient(api_key=API_KEY, host=HOST)\n"
   ]
  },
  {
   "cell_type": "markdown",
   "metadata": {},
   "source": [
    "Once we upload the ephemeris data below, you should be able to simulate if the start and stop time of your sim are configured correctly!  If they're not, we can set them with the SCENARIO_START and SCENARIO_END datetime objects created above, or you can set them using our UI."
   ]
  },
  {
   "cell_type": "code",
   "execution_count": null,
   "metadata": {},
   "outputs": [],
   "source": [
    "mjd_1900 = 15020.0\n",
    "dt_1900 = datetime(1900, 1, 1, 0, 0, 0, tzinfo=timezone.utc)\n",
    "\n",
    "def datetime_to_mjd(dt:datetime) -> float:\n",
    "    return (dt - dt_1900).total_seconds() / 86400.0 + mjd_1900\n",
    "\n",
    "\n",
    "def update_start_stop(scenario, start:datetime, stop:datetime):\n",
    "    scenario.ClockConfig.get_first().update(startTime=datetime_to_mjd(start), stopTime=datetime_to_mjd(stop))"
   ]
  },
  {
   "cell_type": "markdown",
   "metadata": {},
   "source": [
    "### SPICE Ephemeris\n",
    "\n",
    "Here we'll use a user supplied SPICE file or download one from NAIF."
   ]
  },
  {
   "cell_type": "code",
   "execution_count": null,
   "metadata": {},
   "outputs": [],
   "source": [
    "# General settings\n",
    "SCENARIO_BRANCH_ID = ''                                                # Scenario branch ID where we'll use the ephemeris. If you're not sure, use the SimpleSat Scenario.\n",
    "AGENT_ID = ''                                                          # ID of the scenario agent that will use the ephemeris. If none, we'll create a peripheral agent for this purpose\n",
    "NEW_AGENT_NAME = 'Ephemeris Demo Agent'                                # Name of the agent that will be created if AGENT_ID is None\n",
    "\n",
    "# Settings specific to this demo\n",
    "SPICE_FILENAME = None # Path to the SPICE SPK you'd like to use (.bsp). If none, use my choice below :)\n",
    "BACKUP_URL = 'https://naif.jpl.nasa.gov/pub/naif/APOLLO/kernels/spk/apollo15-1.bsp' # or you can edit this url\n",
    "OBJECT_NAME = '-915' # designator of the object as defined in the supplied file\n",
    "SCENARIO_START = datetime(1971, 7, 30, 21, 0, 0, tzinfo=timezone.utc)  # Start of the scenario\n",
    "SCENARIO_END = datetime(1971, 8, 1, 14, 0, 0, tzinfo=timezone.utc)     # End of the scenario"
   ]
  },
  {
   "cell_type": "code",
   "execution_count": null,
   "metadata": {},
   "outputs": [],
   "source": [
    "# Use the client to fetch the scenario branch\n",
    "scenario = sedaro.scenario(SCENARIO_BRANCH_ID)\n",
    "\n",
    "# Create the block that contains the ephemeris kinematics. For now the data is missing, but we'll add it later.\n",
    "ephem_block = scenario.SpkEphemeris.create(objectName=OBJECT_NAME)\n",
    "\n",
    "# Associate the block with the agent we've chosen, or create a new agent for the purpose\n",
    "if AGENT_ID:\n",
    "    agent = scenario.Agent.get(AGENT_ID)\n",
    "    agent.update(kinematics=ephem_block.id)\n",
    "    print(f'Updated agent {agent.name} with kinematics {ephem_block.id}.')\n",
    "else:\n",
    "    agent = scenario.PeripheralSpacePoint.create(name=NEW_AGENT_NAME, kinematics=ephem_block.id)\n",
    "    print(f'Created new agent {NEW_AGENT_NAME} with kinematics {ephem_block.id}.')"
   ]
  },
  {
   "cell_type": "code",
   "execution_count": null,
   "metadata": {},
   "outputs": [],
   "source": [
    "# Upload the ephemeris file\n",
    "route = f'https://sedaro.com/models/branches/{SCENARIO_BRANCH_ID}/ephem/{ephem_block.id}' # This is where we'll post the file\n",
    "\n",
    "headers = {'X-Api-Key': API_KEY} # This will authenticate the request\n",
    "\n",
    "# Use the file provided or temporarily download one from NAIF\n",
    "if SPICE_FILENAME:\n",
    "    files = {'ephemFile': open(SPICE_FILENAME, 'rb')}\n",
    "else:\n",
    "    with TemporaryDirectory() as temp_dir:\n",
    "        print(f'Downloading from {BACKUP_URL}...')\n",
    "        with open(f'{temp_dir}/ephem.bsp', 'wb') as file:\n",
    "            file.write(requests.get(BACKUP_URL).content)\n",
    "        print('Done!')\n",
    "        files = {'ephemFile': open(f'{temp_dir}/ephem.bsp', 'rb')}\n",
    "\n",
    "# Post the file\n",
    "response = requests.post(route, headers=headers, files=files)\n",
    "\n",
    "if response.status_code != 200:\n",
    "    print(f'Error: {response.status_code}')\n",
    "    print(response.text)"
   ]
  },
  {
   "cell_type": "code",
   "execution_count": null,
   "metadata": {},
   "outputs": [],
   "source": [
    "# (Optional) Set start and end time to the specified values\n",
    "update_start_stop(scenario, SCENARIO_START, SCENARIO_END)"
   ]
  },
  {
   "cell_type": "markdown",
   "metadata": {},
   "source": [
    "### STK Ephemeris\n",
    "\n",
    "I'll use an example from AGI, but we support any Earth-centered EphemerisTimePos or EphemerisTimePosVel. You can get the ephemeris file I'm using here:\n",
    "https://help.agi.com/stk/#stk/example_ephemeris3.htm"
   ]
  },
  {
   "cell_type": "code",
   "execution_count": null,
   "metadata": {},
   "outputs": [],
   "source": [
    "# General settings\n",
    "SCENARIO_BRANCH_ID = ''                                                # Scenario branch ID where we'll use the ephemeris. If you're not sure, use the SimpleSat Scenario.\n",
    "AGENT_ID = ''                                                          # ID of the scenario agent that will use the ephemeris. If none, we'll create a peripheral agent for this purpose\n",
    "NEW_AGENT_NAME = 'Ephemeris Demo Agent'                                # Name of the agent that will be created if AGENT_ID is None\n",
    "\n",
    "# Settings specific to this demo\n",
    "EPHEM_FILENAME = 'example_ephemeris.e' # Path to the .e file\n",
    "SCENARIO_START = datetime(1971, 7, 30, 21, 0, 0, tzinfo=timezone.utc)  # Start of the scenario\n",
    "SCENARIO_END = datetime(1971, 8, 1, 14, 0, 0, tzinfo=timezone.utc)     # End of the scenario"
   ]
  },
  {
   "cell_type": "code",
   "execution_count": null,
   "metadata": {},
   "outputs": [],
   "source": [
    "# Use the client to fetch the scenario branch\n",
    "scenario = sedaro.scenario(SCENARIO_BRANCH_ID)\n",
    "\n",
    "# Create the block that contains the ephemeris kinematics. For now the data is missing, but we'll add it later.\n",
    "ephem_block = scenario.StkEphemeris.create()\n",
    "\n",
    "# Associate the block with the agent we've chosen, or create a new agent for the purpose\n",
    "if AGENT_ID:\n",
    "    agent = scenario.Agent.get(AGENT_ID)\n",
    "    agent.update(kinematics=ephem_block.id)\n",
    "    print(f'Updated agent {agent.name} with kinematics {ephem_block.id}.')\n",
    "else:\n",
    "    agent = scenario.PeripheralSpacePoint.create(name='Ephemeris Demo', kinematics=ephem_block.id)\n",
    "    print(f'Created new agent {NEW_AGENT_NAME} with kinematics {ephem_block.id}.')\n"
   ]
  },
  {
   "cell_type": "code",
   "execution_count": null,
   "metadata": {},
   "outputs": [],
   "source": [
    "# Upload the ephemeris file\n",
    "route = f'https://sedaro.com/models/branches/{SCENARIO_BRANCH_ID}/ephem/{ephem_block.id}' # This is where we'll post the file\n",
    "\n",
    "headers = {'X-Api-Key': API_KEY} # This will authenticate the request\n",
    "\n",
    "files = {'ephemFile': open(EPHEM_FILENAME, 'rb')}\n",
    "\n",
    "# Post the file\n",
    "response = requests.post(route, headers=headers, files=files)\n",
    "\n",
    "if response.status_code != 200:\n",
    "    print(f'Error: {response.status_code}')\n",
    "    print(response.text)"
   ]
  },
  {
   "cell_type": "code",
   "execution_count": null,
   "metadata": {},
   "outputs": [],
   "source": [
    "# (Optional) Set start and end time to the specified values\n",
    "update_start_stop(scenario, SCENARIO_START, SCENARIO_END)"
   ]
  }
 ],
 "metadata": {
  "kernelspec": {
   "display_name": "base",
   "language": "python",
   "name": "python3"
  },
  "language_info": {
   "codemirror_mode": {
    "name": "ipython",
    "version": 3
   },
   "file_extension": ".py",
   "mimetype": "text/x-python",
   "name": "python",
   "nbconvert_exporter": "python",
   "pygments_lexer": "ipython3",
   "version": "3.11.3"
  },
  "orig_nbformat": 4,
  "vscode": {
   "interpreter": {
    "hash": "81de021ba986461d7022d4254dbf1b167982aed3c07d0636a22d459172aa19e2"
   }
  }
 },
 "nbformat": 4,
 "nbformat_minor": 2
}
