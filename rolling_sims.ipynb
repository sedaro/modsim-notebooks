{
 "cells": [
  {
   "attachments": {},
   "cell_type": "markdown",
   "metadata": {},
   "source": [
    "### Sedaro API \"Rolling Simulations\" Example\n",
    "\n",
    "This notebook shows a powerful use case of the Sedaro API where simulations are started and terminated on a rolling basis to inject incremental state corrections (i.e. from telemetry) over time.\n",
    "\n",
    "This is particularly useful to operations use cases where telemetry can tune the simulation to match the real system(s) - enabling the simulation to predict future performance and fill telemetry gaps."
   ]
  },
  {
   "attachments": {},
   "cell_type": "markdown",
   "metadata": {},
   "source": [
    "#### Important: Read Before Running\n",
    "\n",
    "This notebook makes changes to agent and scenario branches indicated in the settings section. Ensure any changes to the target branches are saved prior to running this code. Sedaro recommends committing current work and creating new branches in the target repositories to avoid loss of work.\n",
    "\n",
    "This notebook also requires that you have previously generated an API key in the web UI. That key should be stored in a file called `secrets.json` in the same directory as this notebook with the following format:\n",
    "\n",
    "```json\n",
    "{\n",
    "    \"API_KEY\": \"<API_KEY>\"\n",
    "}\n",
    "```\n",
    "\n",
    "API keys grant full access to your repositories and should never be shared. If you think your API key has been compromised, you can revoke it in the user settings interface on the Sedaro website."
   ]
  },
  {
   "attachments": {},
   "cell_type": "markdown",
   "metadata": {},
   "source": [
    "#### Settings and User-Specific Configuration"
   ]
  },
  {
   "cell_type": "code",
   "execution_count": null,
   "metadata": {},
   "outputs": [],
   "source": [
    "import json\n",
    "from datetime import datetime\n",
    "import time\n",
    "from random import random\n",
    "\n",
    "import requests\n",
    "from sedaro import SedaroApiClient, SedaroSimulationResult\n",
    "from IPython import display\n",
    "from tabulate import tabulate\n",
    "\n",
    "\n",
    "with open('./secrets.json', 'r') as file:\n",
    "    API_KEY = json.load(file)['API_KEY']\n",
    "\n",
    "with open('./config.json', 'r') as file:\n",
    "    config = json.load(file)\n",
    "\n",
    "# TODO: Obtain these IDs from the branch list within each repository and add to config.json\n",
    "AGENT_TEMPLATE_BRANCH_ID = config['AGENT_TEMPLATE_BRANCH_ID']    # ID of the Wildfire vehicle template branch\n",
    "SCENARIO_BRANCH_ID = config['SCENARIO_BRANCH_ID']                # ID of the Wildfire scenario template branch\n",
    "HOST = config['HOST']                                            # Sedaro instance URL\n",
    "WILDFIRE_AGENT_ID = 'NT06aqHUT5djI1_JPAsck'\n",
    "WILDFIRE_FLIGHT_COMPUTER_ID = 'NT4VO8jS_HPyoLi2pu1tF'\n",
    "FUTURE_OFFSET = 2/24 # 2 hours in units of days"
   ]
  },
  {
   "attachments": {},
   "cell_type": "markdown",
   "metadata": {},
   "source": [
    "#### Utility Functions"
   ]
  },
  {
   "cell_type": "code",
   "execution_count": null,
   "metadata": {},
   "outputs": [],
   "source": [
    "def now_mjd(): return datetime.utcnow().timestamp() / 86400 + 40587\n",
    "def mjd_to_datetime(mjd): return datetime.utcfromtimestamp(round((mjd - 40587) * 86400))\n",
    "def url(scenario): return f'https://satellite.sedaro.com/#/scenario/{scenario.id}/edit/time'\n",
    "def pretty_print(obj): print(json.dumps(obj, sort_keys=True, indent=2))\n",
    "\n",
    "def summarize_tlm(now, soc, v_batt, i_batt, t_fc, t_bpa, t_bpb, annotation):\n",
    "    print(f'Telemetry @ {mjd_to_datetime(now)} UTC ({annotation}):')\n",
    "    print(tabulate(\n",
    "        [\n",
    "            ('Battery State-of-Charge', soc*100, '%'),\n",
    "            ('Battery Voltage', v_batt, 'V'),\n",
    "            ('Battery Current', i_batt, 'A'),\n",
    "            ('Flight Computer Temperature',  t_fc, 'deg. C'),\n",
    "            ('Battery Pack A Temperature',  t_bpa, 'deg. C'),\n",
    "            ('Battery Pack B Temperature',  t_bpb, 'deg. C'),\n",
    "        ],\n",
    "        ['Label', 'Value', 'Units'],\n",
    "        tablefmt=\"github\"\n",
    "    ))"
   ]
  },
  {
   "attachments": {},
   "cell_type": "markdown",
   "metadata": {},
   "source": [
    "#### Introduction to Modeling in Sedaro\n",
    "\n",
    "In Sedaro, Branches most fundamentally define Templates - either an Agent Template or a Scenario Template. These Templates then define reusable, instantiatable definitions for an Agent or Scenario. An Agent is an actor within a simulation and a Scenario defines the simulation (including the involved Agents and which Templates define them). Therefore, Agent Templates capture the model for a system while Scenario Templates capture the instantiation of differentiated Agents, the resolution of their abstract \"Targets\", and the configuration of the simulation clock.\n",
    "\n",
    "Templates are defined in SedaroML. SedaroML is a modeling language for defining system properties and structure as normalized, interrelated, and hierarchical blocks of attributes. SedaroML is JSON-based and is designed to be easily human and machine readable/writeable.  This includes model interpretation, traversal, etc. The SedaroML model with all meta attributes is called a MetaModel.  A template MetaModel is located under the `data` key of a Repository's Branch.\n",
    "\n",
    "There are some specific concepts in SedaroML that are important to understand:\n",
    "  - **Attributes:** Individual properties of a Block (e.g., `mass`, `voltage`, etc.) captured as a key-value pair.\n",
    "  \n",
    "  - **Root:** A SedaroML model is composed of a `root` that contains a normalized set of `blocks`. The `root` can have Attributes, just like the `blocks`, but the `root` is not considered a `block` itself.\n",
    "\n",
    "  - **Blocks:** A `block` is a set of Attributes, including a `type` which defines the type of the `block` (e.g., `ReactionWheel`, `Battery`, etc.). All `blocks` are located under the `blocks` meta attributes of the model.\n",
    "\n",
    "  - **Hierarchy:** The `blocks` in a SedaroML model have hierarchy such that a BlockType can extend one or more BlockTypes (e.g., a `ReactionWheel` is a specialized `Actuator` and an `Actuator` is a specialized `Component`). The hierarchy of a model can be interpreted using the `index` and `_supers` meta attributes of a MetaModel.  `index` provides a lookup to traverse from a BlockType to its sub-BlockTypes, ultimately down to the individual `block` instances in the model. `_supers` provides a lookup to traverse from a BlockType to its super-BlockTypes.\n",
    "\n",
    "  - **Relationships:** The model Root and its Blocks can be related to one another using Relationship Attributes.  The `_relationships` meta attribute provides a lookup from BlockType to its relationships Attributes.\n",
    "\n",
    "  - **Quantity Kinds:** In SedaroML, an Attribute that has a value and a unit is called a \"Quantity\". Quantities may be composed of other Quantities, called Compound Quantities. A category of Quantities that share the same unit system is called a \"Quantity Kind\".  If a model Attribute is an explicit Quantity, it will be included in the `_quantityKinds` meta attribute lookup.  Attributes that are Explicit Quantity Kinds may be defined in any of the supported units for the Quantity Kind. For example, all angle Attributes in SedaroML may be defined in either degrees or radians. If the unit isn't provided, the default unit for the given Quantity Kind is assumed.\n",
    "\n",
    "SedaroML is used to define both AgentTemplates and Scenario models, with Scenario models referencing AgentTemplate Branches (and therefore their models) via the `templateRef` attribute of an `Agent` Block.\n"
   ]
  },
  {
   "cell_type": "code",
   "execution_count": null,
   "metadata": {},
   "outputs": [],
   "source": [
    "# Initialize Sedaro API client\n",
    "sedaro_client = SedaroApiClient(api_key=API_KEY, host=HOST)\n",
    "\n",
    "# Access Scenario SedaroML MetaModel\n",
    "scenario = sedaro_client.get_branch(SCENARIO_BRANCH_ID)\n",
    "scenario_metamodel = scenario.data\n",
    "pretty_print(scenario_metamodel)\n",
    "\n",
    "# Access AgentTemplate SedaroML MetaModel\n",
    "wildfire_agent_template = sedaro_client.get_branch(AGENT_TEMPLATE_BRANCH_ID)\n",
    "agent_metamodel = wildfire_agent_template.data"
   ]
  },
  {
   "attachments": {},
   "cell_type": "markdown",
   "metadata": {},
   "source": [
    "##### Time-Variable Models\n",
    "\n",
    "Using a Sedaro Results API, a SedaroML model can be fetched for a given Agent at a given timestamp.  To generate this model, each stream for that Agent is searched for the value at the given timestamp.  If the exact timestamp does not exist in the series, the most immediate previous value is used (also known as the value \"last observed carried forward\").\n",
    "\n",
    "##### Differentiating Models\n",
    "\n",
    "When using `differentiateState` to differentiate an Agent in a Scenario, pass a complete or subset SedaroML model.  This model will be merged with the Agent Template model, with the differentiating model taking precedence.  This allows for an Agent to be defined with a Template, and then differentiated with specific attributes. Or in the case of Rolling Simulations, a new simulation can be created using the complete state of an Agent from a prior simulation.\n",
    "\n",
    "#### Approach\n",
    "\n",
    "In order to achieve the rolling simulations use case, these modeling principles will be leveraged. \n",
    "\n",
    "**Note:** It is often confusing to discuss \"time\" with regards to simulations.  Here, \"wall time\" refers to the actual, real-world time and \"simulation time\" refers to time in the simulation.  For example, we could run a simulation for 24-hours of simulation time, and it take 20-minutes of wall time.\n",
    "\n",
    "**The rolling simulations approach is as follows:**\n",
    "1. Given an existing Scenario and associated Agent Templates, start a simulation where the simulation start time is the current wall time and set it to run for a fixed amount of simulation time into the future (e.g., 2-hours).\n",
    "1. Fetch the results of the simulation periodically, as the simulation progresses, and extract specific state frames at the current wall time as simulated telemetry.\n",
    "1. As real telemetry is collected during a downlink, save the full state of the Agent at the timestamp of the real telemetry (by accessing the time-variable MetaModel from the Results API) and then merge the telemetry into the MetaModel to override any telemetry-defined state.\n",
    "1. Replace the current simulation with a new simulation that starts from the telemetry timestamp and that uses the telemetry-informed MetaModel as the initial state of Agent. This is done via `Agent.differentiateState`.\n",
    "\n",
    "Cool - now lets do it!"
   ]
  },
  {
   "attachments": {},
   "cell_type": "markdown",
   "metadata": {},
   "source": [
    "##### 1. Start a Simulation\n",
    "\n",
    "Start a simulation from \"now\" for 2 hours into the future. This simulation is initialized using the latest TLE for the ISS from CelesTrak.  Before the simulation begins, Sedaro will propagate this TLE forward to the start time of the simulation."
   ]
  },
  {
   "cell_type": "code",
   "execution_count": null,
   "metadata": {},
   "outputs": [],
   "source": [
    "# Get latest TLEs from CelesTrak\n",
    "response = requests.get('https://celestrak.org/NORAD/elements/gp.php?GROUP=stations&FORMAT=tle')\n",
    "iss_tle = '\\n'.join(response.text.split('ISS (ZARYA)')[1].split('\\r\\n')[1:3])\n",
    "print('Using TLE:')\n",
    "print(iss_tle)\n",
    "\n",
    "# Get Wildfire's battery and flight computer blocks for querying later\n",
    "wildfire_battery = wildfire_agent_template.Battery.get_first()\n",
    "wildfire_flight_computer = wildfire_agent_template.Component.get(WILDFIRE_FLIGHT_COMPUTER_ID)\n",
    "\n",
    "# Update Wildfire's orbit\n",
    "wildfire_agent = scenario.Agent.get(WILDFIRE_AGENT_ID)\n",
    "wildfire_agent.orbit.update(\n",
    "    initialStateDefType='TLE',\n",
    "    initialStateDefParams={ 'tle': iss_tle },\n",
    ")\n",
    "\n",
    "# Update simulation clock config\n",
    "start = now_mjd()\n",
    "clock = scenario.ClockConfig.get(scenario.data['clockConfig'])\n",
    "clock.update(startTime=start, stopTime=start+FUTURE_OFFSET)\n",
    "\n",
    "# Start simulation\n",
    "sim_client = sedaro_client.get_sim_client(SCENARIO_BRANCH_ID)\n",
    "simulation_job = sim_client.start()\n",
    "print(f'Simulation started: {url(scenario)}')"
   ]
  },
  {
   "attachments": {},
   "cell_type": "markdown",
   "metadata": {},
   "source": [
    "##### 2. Fetch Results of Running Simulation\n",
    "\n",
    "Using the Sedaro Results API, fetch all available data from the running simulation. Running this periodically will fetch more data as the simulation progresses."
   ]
  },
  {
   "cell_type": "code",
   "execution_count": null,
   "metadata": {},
   "outputs": [],
   "source": [
    "def fetch_relevant_results():\n",
    "    def _fetch(tries=0):\n",
    "        try:\n",
    "            return SedaroSimulationResult.get_scenario_latest(API_KEY, SCENARIO_BRANCH_ID, host=HOST)\n",
    "        except KeyboardInterrupt as e:\n",
    "            raise e\n",
    "        except Exception as e:\n",
    "            print(e)\n",
    "            if tries < 5:\n",
    "                print(f'No results yet.  Retrying after 10s... ({tries+1} of 5)', end='\\r')\n",
    "                time.sleep(10)\n",
    "                return _fetch(tries+1)\n",
    "            raise ValueError(f'Failed to fetch results after {tries} tries')\n",
    "    results = _fetch()\n",
    "\n",
    "    wildfire_results = results.agent('Wildfire')\n",
    "    root_results = wildfire_results.block('root')\n",
    "    battery_results = wildfire_results.block(wildfire_battery.id)\n",
    "    return wildfire_results, root_results, battery_results\n",
    "\n",
    "wildfire_results, root_results, battery_results = fetch_relevant_results()"
   ]
  },
  {
   "attachments": {},
   "cell_type": "markdown",
   "metadata": {},
   "source": [
    "View the simulated future of the system by plotting the relevant telemetry series from the simulation."
   ]
  },
  {
   "cell_type": "code",
   "execution_count": null,
   "metadata": {},
   "outputs": [],
   "source": [
    "def plot_relevant_results():\n",
    "    display.clear_output(wait=True)\n",
    "    common = { 'linewidth': 1, 'elapsed_time': False, 'height': 2 }\n",
    "    root_results.position.eci.plot(**common, ylabel='ECI Position', label=['X', 'Y', 'Z'])\n",
    "    for pack in wildfire_battery.packs:\n",
    "        wildfire_results.block(pack.id).temperature.degC.plot(**common, show=False, label=pack.name)\n",
    "    wildfire_results.block(wildfire_flight_computer.id).temperature.degC.plot(\n",
    "        **common, \n",
    "        ylabel='Temperatures [C]', \n",
    "        label=wildfire_flight_computer.name,\n",
    "        color='g'\n",
    "    )\n",
    "    battery_results.soc.plot(**common, ylabel='Battery SoC', color='m')\n",
    "    battery_results.voltage.plot(**common, ylabel='Battery Voltage [V]', color='c')\n",
    "    battery_results.current.plot(**common, ylabel='Battery Current [A]')\n",
    "\n",
    "plot_relevant_results()"
   ]
  },
  {
   "attachments": {},
   "cell_type": "markdown",
   "metadata": {},
   "source": [
    "##### 3 & 4. Gap-Fill with Simulated Telemetry\n",
    "\n",
    "Fill the gaps in between real telemetry frames with simulated telemetry from the digital twin.  As new telemetry is received, replace the simulation with a new simulation that is informed by the latest real telemetry frame."
   ]
  },
  {
   "cell_type": "code",
   "execution_count": null,
   "metadata": {},
   "outputs": [],
   "source": [
    "tlm = None\n",
    "for i in range(120):\n",
    "\n",
    "    now = now_mjd()\n",
    "\n",
    "    # Fetch more data if necessary\n",
    "    current_start = battery_results.soc.mjd[0]\n",
    "    current_stop = battery_results.soc.mjd[-1]\n",
    "    if (current_stop-now)/(current_stop-current_start) < 0.1:\n",
    "        print('Fetching additional data...')\n",
    "        print('(If you are seeing this frequently, consider increasing `FUTURE_OFFSET`)')\n",
    "        wildfire_results, root_results, battery_results = fetch_relevant_results()\n",
    "\n",
    "    sim_tlm = [\n",
    "        battery_results.soc.value_at(now, interpolate=True), \n",
    "        battery_results.voltage.value_at(now, interpolate=True),\n",
    "        battery_results.current.value_at(now, interpolate=True),\n",
    "        wildfire_results.block(wildfire_flight_computer.id).temperature.degC.value_at(now, interpolate=True),\n",
    "        *[wildfire_results.block(pack.id).temperature.degC.value_at(now, interpolate=True) for pack in wildfire_battery.packs]\n",
    "    ]\n",
    "\n",
    "    if i == 5:\n",
    "        display.clear_output(wait=True)\n",
    "        print('New telemetry received. Updating simulation...')\n",
    "\n",
    "        # TODO: Inject real telemetry here\n",
    "        # The following is a placeholder for real telemetry\n",
    "        tlm = [t*(1-random()/30) for t in sim_tlm]\n",
    "        tlm_timestamp = now\n",
    "\n",
    "        # Compare telemetry to simulation\n",
    "        errors = [abs((s-a)/a) for a, s in zip(tlm, sim_tlm)]\n",
    "\n",
    "        # If the simulation is still running, first terminate it\n",
    "        try:\n",
    "            response = sim_client.terminate(simulation_job['id'])\n",
    "            print('Previous simulation terminated')\n",
    "        except:\n",
    "            print('Previous simulation already terminated')\n",
    "\n",
    "        # Update Wildfire's initial state to the prior simulation's state at the new telemetry's\n",
    "        # timestamp merged with all new telemetry.\n",
    "        wildfire_model = wildfire_results.model_at(tlm_timestamp)\n",
    "        wildfire_model['blocks'][wildfire_battery.id]['soc'] = tlm[0]\n",
    "        wildfire_model['blocks'][wildfire_battery.id]['voltage'] = tlm[1]\n",
    "        wildfire_model['blocks'][wildfire_battery.id]['current'] = tlm[2]\n",
    "        wildfire_model['blocks'][wildfire_flight_computer.id]['temperature'] = {'degC': tlm[3]}\n",
    "        wildfire_model['blocks'][wildfire_battery.packs[0].id]['temperature'] = {'degC': tlm[4]}\n",
    "        wildfire_model['blocks'][wildfire_battery.packs[1].id]['temperature'] = {'degC': tlm[5]}\n",
    "        wildfire_agent.update(differentiatingState=wildfire_model)\n",
    "\n",
    "        # Update the simulation clock to start at the new telemetry's \n",
    "        # timestamp and start the new simulation.\n",
    "        print('Starting new simulation with updated initial state...')\n",
    "        clock.update(startTime=now, stopTime=now + FUTURE_OFFSET)\n",
    "        simulation_job = sim_client.start()\n",
    "        print(f'Simulation started {url(scenario)}')\n",
    "\n",
    "        # Fetch new results\n",
    "        wildfire_results, root_results, battery_results = fetch_relevant_results()\n",
    "\n",
    "    display.clear_output(wait=True)\n",
    "    if tlm:\n",
    "        summarize_tlm(tlm_timestamp, *tlm, 'Actual')\n",
    "        print('\\nDeviation of simulated telemetry from actual telemetry:')\n",
    "        print(f' - Max Error: {round(max(errors), 3)*100}%')\n",
    "        print(f' - Average Error: {round(sum(errors)/len(errors), 3)*100}%')\n",
    "        print('\\n')\n",
    "    summarize_tlm(now, *sim_tlm, 'Simulated')\n",
    "    print(f'View Current Simulation: {url(scenario)}')\n",
    "\n",
    "    time.sleep(0.5)"
   ]
  }
 ],
 "metadata": {
  "kernelspec": {
   "display_name": "base",
   "language": "python",
   "name": "python3"
  },
  "language_info": {
   "codemirror_mode": {
    "name": "ipython",
    "version": 3
   },
   "file_extension": ".py",
   "mimetype": "text/x-python",
   "name": "python",
   "nbconvert_exporter": "python",
   "pygments_lexer": "ipython3",
   "version": "3.10.4"
  },
  "orig_nbformat": 4,
  "vscode": {
   "interpreter": {
    "hash": "81de021ba986461d7022d4254dbf1b167982aed3c07d0636a22d459172aa19e2"
   }
  }
 },
 "nbformat": 4,
 "nbformat_minor": 2
}
