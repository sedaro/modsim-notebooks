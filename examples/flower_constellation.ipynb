{
 "cells": [
  {
   "attachments": {},
   "cell_type": "markdown",
   "metadata": {},
   "source": [
    "### Flower Constellations in Sedaro\n",
    "\n",
    "The code here follows the derivations described in the two references below.\n",
    "\n",
    "1. Wilkins, M., \"The Flower Constellations - Theory, Design Process, and Applications\", Doctoral Dissertation, Texas A&M University, 2004.\n",
    "\n",
    "2. Ruggieri, M., et al. \"The Flower Constellation Set and its Possible Applications\", ACT Final Report, 2006.\n",
    "\n",
    "3. Mortari, D., \"Flower Constellations as Rigid Objects in Space\", First Workshop on Innovative System Concepts, 2006.\n"
   ]
  },
  {
   "attachments": {},
   "cell_type": "markdown",
   "metadata": {},
   "source": [
    "#### Important: Read Before Running\n",
    "\n",
    "This notebook makes changes to agent and scenario branches indicated in the settings section. Ensure any changes to the target branches are saved prior to running this code. Sedaro recommends committing current changes and creating new branches in the target repositories to avoid loss of work.\n",
    "\n",
    "This notebook also requires that you have previously generated an API key in the web UI. That key should be stored in a file called `secrets.json` in the same directory as this notebook with the following format:\n",
    "\n",
    "```json\n",
    "{\n",
    "  \"API_KEY\": \"<API_KEY>\"\n",
    "}\n",
    "```\n",
    "\n",
    "API keys grant full access to your repositories and should never be shared. If you think your API key has been compromised, you can revoke it in the user settings interface on the Sedaro website.\n"
   ]
  },
  {
   "cell_type": "code",
   "execution_count": null,
   "metadata": {},
   "outputs": [],
   "source": [
    "import json\n",
    "from sedaro import SedaroApiClient\n",
    "from math import sqrt, sin, cos, radians, pi, atan, degrees\n",
    "from scipy.optimize import minimize_scalar\n",
    "\n",
    "# Constants\n",
    "Re = 6378.1363        # Earth radius\n",
    "J2 = 1.0826269e-3     # Earth J2\n",
    "MU = 398600.4418      # Earth gravitational coefficient\n",
    "we = 7.2921158553e-5  # Earth angular rate"
   ]
  },
  {
   "attachments": {},
   "cell_type": "markdown",
   "metadata": {},
   "source": [
    "#### Constellation Configuration\n",
    "\n",
    "Flower constellations are defined by eight parameters\n",
    "\n",
    "$$\n",
    "[N_p, N_d, N_s, F_n, F_d, w, i, h_p]\n",
    "$$\n",
    "\n",
    "The code below includes several pre-defined options drawn from references [1] and [2].\n"
   ]
  },
  {
   "cell_type": "code",
   "execution_count": null,
   "metadata": {},
   "outputs": [],
   "source": [
    "# Configuration\n",
    "# Np - Nd - Ns - Fn - Fd\n",
    "\n",
    "Np = 38     # Number of petals (integer)\n",
    "Nd = 23     # Number of days to repeat (integer)\n",
    "Ns = 77    # Number of satellites\n",
    "\n",
    "Fn = 23     # Phasing parameter (integer)\n",
    "Fd = 77    # Number of distinct orbits (integer)\n",
    "\n",
    "w = 270    # Argument of perigee (degrees)\n",
    "i = 0      # Inclination (degrees)\n",
    "hp = 1300  # Height of perigee (km)\n",
    "\n",
    "\n",
    "# Pre-defined configurations\n",
    "# Np, Nd, Ns, Fn, Fd, w, i, hp = 3, 1, 5, 3, 5, 270, 45, 1291.271484      # Basic flower\n",
    "# Np, Nd, Ns, Fn, Fd, w, i, hp = 8, 1, 90, 1, 90, 270, 165, 3000          # Circles\n",
    "# Np, Nd, Ns, Fn, Fd, w, i, hp = 31, 18, 80, 18, 80, 270, 63.4, 600       # Helix\n",
    "# Np, Nd, Ns, Fn, Fd, w, i, hp = 37, 18, 19, 6, 19, 270, 63.4, 19702      # Figure Eight\n",
    "# Np, Nd, Ns, Fn, Fd, w, i, hp = 37, 18, 19*2, 6, 19*2, 270, 63.4, 19702  # Double Figure Eight\n",
    "Np, Nd, Ns, Fn, Fd, w, i, hp = 38, 23, 77, 23, 77, 270, 0, 1300         # Star\n",
    "# Np, Nd, Ns, Fn, Fd, w, i, hp = 38, 23, 146, 23, 146, 270, 0, 1300       # 8-Pointed Star\n",
    "\n",
    "\n",
    "# Misc. options\n",
    "raan_offset = 0          # Right ascension of the initial satellite (degrees)\n",
    "mean_anomaly_offset = 0  # Mean anomaly of the initial satellite (degrees)\n",
    "delete_existing = False   # Delete all existing agents in the scenario"
   ]
  },
  {
   "cell_type": "code",
   "execution_count": null,
   "metadata": {},
   "outputs": [],
   "source": [
    "# Scenario Settings\n",
    "with open('../secrets.json', 'r') as file:\n",
    "    API_KEY = json.load(file)['API_KEY']\n",
    "\n",
    "with open('../config.json', 'r') as file:\n",
    "    config = json.load(file)\n",
    "\n",
    "# Obtain these IDs from the branch list within each repository and add to config.json\n",
    "# AGENT_TEMPLATE_BRANCH_ID = config['FLOWERS']['AGENT_TEMPLATE_BRANCH_ID']    # ID of a vehicle template branch\\n\",\n",
    "AGENT_TEMPLATE_BRANCH_ID = None                                             # Toggle to use a templated agent\\n\",\n",
    "SCENARIO_BRANCH_ID = config['FLOWERS']['SCENARIO_BRANCH_ID']                # ID of a new scenario template branch\\n\",\n",
    "HOST = config['HOST']                                                       # Sedaro instance URL\""
   ]
  },
  {
   "attachments": {},
   "cell_type": "markdown",
   "metadata": {},
   "source": [
    "#### Constellation Derivation\n",
    "\n",
    "Derives the semimajor axis and orbit eccentricity necessary to satisfy the configuration above, then calculates the true anomaly and right ascension of the ascending node for each orbit.\n"
   ]
  },
  {
   "cell_type": "code",
   "execution_count": null,
   "metadata": {},
   "outputs": [],
   "source": [
    "# Convert to radians for calculations\n",
    "w = radians(w)\n",
    "i = radians(i)\n",
    "\n",
    "# Solve for compatible semimajor axis\n",
    "\n",
    "\n",
    "def fcn(a):\n",
    "    e = 1 - (Re + hp) / a\n",
    "    p = a * (1 - e * e)\n",
    "    n = sqrt(MU / a**3)\n",
    "    zeta = 3 * Re * Re * J2 / (4 * p * p)\n",
    "    tau = Nd / Np\n",
    "    Az = zeta * (4 + 2 * sqrt(1 - e * e) - (5 + 3 * sqrt(1 - e * e) * sin(i)**2))\n",
    "    return ((we * (1 - Az)) / (tau - 2 * zeta * cos(i)) - n)**2\n",
    "\n",
    "\n",
    "result = minimize_scalar(fcn, bounds=(Re + hp, 2.5e6))\n",
    "if not result.success:\n",
    "    raise ValueError(\"Could not solve for semimajor axis!\")\n",
    "else:\n",
    "    a = result.x\n",
    "    e = 1 - (Re + hp) / a\n",
    "\n",
    "    print(f\"Parameters found in {result.nit} iterations!\")\n",
    "    print(f\"    Semimajor Axis: {a:.3f}km\")\n",
    "    print(f\"    Eccentricity: {e:.6f}\")"
   ]
  },
  {
   "cell_type": "code",
   "execution_count": null,
   "metadata": {},
   "outputs": [],
   "source": [
    "def mean_anomaly_to_true(M, e):\n",
    "    E = minimize_scalar(lambda E: (E - e * sin(E) - M)**2, bounds=(0, 2 * pi)).x\n",
    "    beta = e / (1 + sqrt(1 - e * e))\n",
    "    return E + 2 * atan(beta * sin(E) / (1 - beta * cos(E)))\n",
    "\n",
    "\n",
    "mean_anomalies = [mean_anomaly_offset]\n",
    "true_anomalies = [mean_anomaly_to_true(0, e)]\n",
    "right_ascensions = [raan_offset]\n",
    "\n",
    "p = a * (1 - e * e)\n",
    "zeta = 3 * Re * Re * J2 / (4 * p * p)\n",
    "tau = Nd / Np\n",
    "Az = zeta * (4 + 2 * sqrt(1 - e * e) - (5 + 3 * sqrt(1 - e * e) * sin(i)**2))\n",
    "\n",
    "for _ in range(Ns - 1):\n",
    "    raan = right_ascensions[-1] - 2 * pi * Nd / Fd\n",
    "    mean_anomaly = mean_anomalies[-1] + 2 * pi * Np / Fd\n",
    "\n",
    "    right_ascensions.append(raan % (2 * pi))\n",
    "    mean_anomalies.append(mean_anomaly % (2 * pi))\n",
    "    true_anomalies.append(mean_anomaly_to_true(mean_anomalies[-1], e) % (2 * pi))"
   ]
  },
  {
   "attachments": {},
   "cell_type": "markdown",
   "metadata": {},
   "source": [
    "#### Agent Creation\n",
    "\n",
    "This code block will create the necessary agents in the target scenario. If `AGENT_BRANCH_TEMPLATE_ID` is defined, the agents will be created with that template. Otherwise, each agent will be a peripheral agent. If `delete_existing` is `True`, the existing agents in the scenario will be wiped out. If `False`, the new agents will be created alongside the existing entries.\n"
   ]
  },
  {
   "cell_type": "code",
   "execution_count": null,
   "metadata": {},
   "outputs": [],
   "source": [
    "sedaro = SedaroApiClient(api_key=API_KEY, host=HOST)\n",
    "\n",
    "scenario_branch = sedaro.scenario(SCENARIO_BRANCH_ID)\n",
    "\n",
    "if delete_existing:\n",
    "    agent_ids = [entry.id for entry in scenario_branch.Agent.get_all()]\n",
    "    orbit_ids = [entry.id for entry in scenario_branch.Orbit.get_all()]\n",
    "    if len(agent_ids) + len(orbit_ids) > 0:\n",
    "        scenario_branch.crud(delete=(agent_ids + orbit_ids))\n",
    "    agent_id_offset = 0\n",
    "else:\n",
    "    agent_id_offset = len(scenario_branch.Agent.get_all())\n",
    "\n",
    "orbits_and_agents = []\n",
    "for idx, (raan, true_anomaly) in enumerate(zip(right_ascensions, true_anomalies)):\n",
    "    orbit = dict(\n",
    "        id=f'$-orbit-{idx}',\n",
    "        type='PropagatedOrbitKinematics',\n",
    "        initialStateDefType='ORBITAL_ELEMENTS',\n",
    "        initialStateDefParams={\n",
    "            'a': a,\n",
    "            'e': e,\n",
    "            'inc': degrees(i),\n",
    "            'om': degrees(w),\n",
    "            'nu': degrees(true_anomaly),\n",
    "            'raan': degrees(raan),\n",
    "        }\n",
    "    )\n",
    "\n",
    "    agent = dict(\n",
    "        kinematics=f'$-orbit-{idx}',\n",
    "        name=f'Sat-{idx + agent_id_offset}',\n",
    "    )\n",
    "    if AGENT_TEMPLATE_BRANCH_ID is not None:\n",
    "        agent['type'] = 'TemplatedAgent'\n",
    "        agent['templateRef'] = AGENT_TEMPLATE_BRANCH_ID\n",
    "    else:\n",
    "        agent['type'] = 'PeripheralSpacePoint'\n",
    "\n",
    "    orbits_and_agents.extend([orbit, agent])\n",
    "\n",
    "result = scenario_branch.crud(blocks=orbits_and_agents)\n",
    "orbit_and_agent_ids = result['crud']['blocks']"
   ]
  },
  {
   "cell_type": "code",
   "execution_count": null,
   "metadata": {},
   "outputs": [],
   "source": [
    "# Display orbits\n",
    "col_width = 16\n",
    "width = (col_width + 1) * 6 + 1\n",
    "headers = ['a', 'e', 'i', 'w', 'nu', 'raan']\n",
    "\n",
    "print(f'{len(mean_anomalies)} Created Orbits'.center(width))\n",
    "print('-' * width)\n",
    "print('|' + '|'.join(entry.center(col_width) for entry in headers) + '|')\n",
    "print('-' * width)\n",
    "for raan, nu in zip(right_ascensions, true_anomalies):\n",
    "    print(\n",
    "        f'| {a:>14.6f} | {e:>14.12f} | {degrees(i):>14.10f} | {degrees(w):>14.10f} '\n",
    "        f'| {degrees(nu):>14.10f} | {degrees(raan):14.10f} |'\n",
    "    )"
   ]
  },
  {
   "attachments": {},
   "cell_type": "markdown",
   "metadata": {},
   "source": [
    "#### Cleanup\n"
   ]
  },
  {
   "cell_type": "code",
   "execution_count": null,
   "metadata": {},
   "outputs": [],
   "source": [
    "# Delete created Agents and Orbits\n",
    "scenario_branch.crud(delete=orbit_and_agent_ids)"
   ]
  }
 ],
 "metadata": {
  "kernelspec": {
   "display_name": "base",
   "language": "python",
   "name": "python3"
  },
  "language_info": {
   "codemirror_mode": {
    "name": "ipython",
    "version": 3
   },
   "file_extension": ".py",
   "mimetype": "text/x-python",
   "name": "python",
   "nbconvert_exporter": "python",
   "pygments_lexer": "ipython3",
   "version": "3.11.6"
  },
  "orig_nbformat": 4,
  "vscode": {
   "interpreter": {
    "hash": "81de021ba986461d7022d4254dbf1b167982aed3c07d0636a22d459172aa19e2"
   }
  }
 },
 "nbformat": 4,
 "nbformat_minor": 2
}
