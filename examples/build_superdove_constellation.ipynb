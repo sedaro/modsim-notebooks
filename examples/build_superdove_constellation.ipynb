{
 "cells": [
  {
   "attachments": {},
   "cell_type": "markdown",
   "metadata": {},
   "source": [
    "### Build a SuperDove Constellation in Sedaro\n",
    "\n",
    "This notebook exercises functionality of deleting any agents with outdated TLEs in the [DEMO] Planet SuperDove Scenario and repopulating the scenario with new agents using current TLEs through the Sedaro API.\n"
   ]
  },
  {
   "cell_type": "code",
   "execution_count": null,
   "metadata": {},
   "outputs": [],
   "source": [
    "import json\n",
    "import requests\n",
    "\n",
    "from sedaro import SedaroApiClient"
   ]
  },
  {
   "attachments": {},
   "cell_type": "markdown",
   "metadata": {},
   "source": [
    "#### Important: Read Before Running\n",
    "\n",
    "This notebook makes changes to a scenario branche indicated in the settings section. Ensure any changes to the target branches are saved prior to running this code. Sedaro recommends committing current work and creating new branches in the target repositories to avoid loss of work.\n",
    "\n",
    "This notebook also requires that you have previously generated an API key in the web UI. That key should be stored in a file called `secrets.json` in the same directory as this notebook with the following format:\n",
    "\n",
    "```json\n",
    "{\n",
    "  \"API_KEY\": \"<API_KEY>\"\n",
    "}\n",
    "```\n",
    "\n",
    "API keys grant full access to your repositories and should never be shared. If you think your API key has been compromised, you can revoke it in the user settings interface on the Sedaro website.\n"
   ]
  },
  {
   "cell_type": "code",
   "execution_count": null,
   "metadata": {},
   "outputs": [],
   "source": [
    "# Settings\n",
    "with open('../secrets.json', 'r') as file:\n",
    "    API_KEY = json.load(file)['API_KEY']\n",
    "\n",
    "with open('../config.json', 'r') as file:\n",
    "    config = json.load(file)\n",
    "\n",
    "# Obtain these IDs from the branch list within each repository and add to config.json\n",
    "SCENARIO_BRANCH_ID = config['SUPERDOVE']['SCENARIO_BRANCH_ID']      # ID of the scenario branch\n",
    "HOST = config['HOST']                                               # Sedaro instance URL\n",
    "BASE_AGENT_ID = 'NT-KoZFSELKK8eomP3lkV'"
   ]
  },
  {
   "attachments": {},
   "cell_type": "markdown",
   "metadata": {},
   "source": [
    "#### Instantiate Client\n",
    "\n",
    "Instantiate the `SedaroApiClient` with our `API_KEY` and `HOST`, and fetch the desired branch.\n"
   ]
  },
  {
   "cell_type": "code",
   "execution_count": null,
   "metadata": {},
   "outputs": [],
   "source": [
    "sedaro = SedaroApiClient(api_key=API_KEY, host=HOST)\n",
    "\n",
    "scenario_branch = sedaro.scenario(SCENARIO_BRANCH_ID)"
   ]
  },
  {
   "attachments": {},
   "cell_type": "markdown",
   "metadata": {},
   "source": [
    "### Delete satelllites with old TLEs\n",
    "\n",
    "This is a cleanup step to remove any satellites that were created in a previous run of this notebook. This is not necessary if you are running this notebook for the first time.\n"
   ]
  },
  {
   "cell_type": "code",
   "execution_count": null,
   "metadata": {},
   "outputs": [],
   "source": [
    "delete_ids = [agent_id for agent_id in scenario_branch.TemplatedAgent.get_all_ids() if agent_id != BASE_AGENT_ID]\n",
    "\n",
    "if not delete_ids:\n",
    "    print('No blocks were deleted')\n",
    "else:\n",
    "    scenario_branch.crud(delete=delete_ids)\n",
    "    print(f'Deleted {len(delete_ids)} spacecraft digital twin agents.')"
   ]
  },
  {
   "attachments": {},
   "cell_type": "markdown",
   "metadata": {},
   "source": [
    "### Fetch Constellation TLEs\n"
   ]
  },
  {
   "cell_type": "code",
   "execution_count": null,
   "metadata": {},
   "outputs": [],
   "source": [
    "# Load TLE file\n",
    "url = 'https://ephemerides.planet-labs.com/planet_mc.tle'\n",
    "tle_file = requests.get(url).text.splitlines()\n",
    "tles = [[tle_file[x].strip()] + tle_file[x+1:x+3] for x in range(0, len(tle_file), 3)]  # split into 3 line TLEs\n",
    "print(f\"Fetched {len(tles)} TLEs.\")"
   ]
  },
  {
   "attachments": {},
   "cell_type": "markdown",
   "metadata": {},
   "source": [
    "### Create new agents with new TLEs\n"
   ]
  },
  {
   "cell_type": "code",
   "execution_count": null,
   "metadata": {},
   "outputs": [],
   "source": [
    "base_agent = scenario_branch.Agent.get(BASE_AGENT_ID)\n",
    "\n",
    "orbits = [\n",
    "    {\n",
    "        **base_agent.kinematics.data,\n",
    "        'initialStateDefParams': {'tle': '\\n'.join(tle[1:3])},\n",
    "        'id': f'$-{tle[0]}-orbit',\n",
    "    } for tle in tles\n",
    "]\n",
    "\n",
    "agents = [\n",
    "    {\n",
    "        **base_agent.data,\n",
    "        'id': f'$-{tle[0]}-agent',\n",
    "        'name': tle[0][2:],\n",
    "        'kinematics': f'$-{tle[0]}-orbit',\n",
    "    } for tle in tles\n",
    "]\n",
    "\n",
    "scenario_branch.crud(blocks=orbits + agents)\n",
    "print(f'Created {len(tles)} orbits from TLEs and {len(tles)} spacecraft digital twin agents.')"
   ]
  },
  {
   "cell_type": "markdown",
   "metadata": {},
   "source": [
    "### Update Simulation Clock\n"
   ]
  },
  {
   "cell_type": "code",
   "execution_count": null,
   "metadata": {},
   "outputs": [],
   "source": [
    "from datetime import datetime, UTC\n",
    "\n",
    "mjd_days = (datetime.now(UTC) - datetime(year=1858, month=11, day=17, tzinfo=UTC)).days\n",
    "scenario_branch.ClockConfig.get_first().update(\n",
    "    startTime=mjd_days,\n",
    "    stopTime=mjd_days + 1\n",
    ")"
   ]
  }
 ],
 "metadata": {
  "kernelspec": {
   "display_name": "Python 3",
   "language": "python",
   "name": "python3"
  },
  "language_info": {
   "codemirror_mode": {
    "name": "ipython",
    "version": 3
   },
   "file_extension": ".py",
   "mimetype": "text/x-python",
   "name": "python",
   "nbconvert_exporter": "python",
   "pygments_lexer": "ipython3",
   "version": "3.11.7"
  },
  "orig_nbformat": 4
 },
 "nbformat": 4,
 "nbformat_minor": 2
}
