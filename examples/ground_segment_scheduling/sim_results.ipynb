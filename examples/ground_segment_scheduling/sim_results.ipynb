{
 "cells": [
  {
   "cell_type": "markdown",
   "metadata": {},
   "source": [
    "## Ground Segment Simulation Results\n",
    "\n",
    "This notebook contains advanced plotting utilities for visualizing the results of a Ground Segment simulation with a\n",
    "`ContactScheduler` block (either pure simulation or cosim). Use the code cells below to see the generated contact\n",
    "schedule and contact report for each target-antenna pair."
   ]
  },
  {
   "cell_type": "markdown",
   "metadata": {},
   "source": [
    "## Setup\n",
    "\n",
    "This notebook requires that you have previously generated an API key in the web UI. That key should be stored in a file called `secrets.json` in the root directory of this repository (two levels above this notebook) with the following format:\n",
    "\n",
    "```json\n",
    "{\n",
    "    \"API_KEY\": \"<API_KEY>\"\n",
    "}\n",
    "```\n",
    "\n",
    "API keys grant full access to your repositories and should never be shared. If you think your API key has been\n",
    "compromised, you can revoke it in the user settings interface on the Sedaro website.\n",
    "\n",
    "The variables below must be populated directly or by setting them in `config.json` as follows:\n",
    "\n",
    "```jsonc\n",
    "{\n",
    "  \"HOST\": \"<HOST>\",\n",
    "  \"EXAMPLES\": {\n",
    "    \"GROUND_SEGMENT\": {\n",
    "      \"PURE_SIM_SCENARIO_BRANCH_ID\": \"<BRANCH ID>\",\n",
    "      // etc.\n",
    "    } \n",
    "  }\n",
    "}\n",
    "```\n",
    "\n",
    "Install required packages by running the pip install in optimization_cosimulation.ipynb or by running\n",
    "`pip install -r requirements.txt`"
   ]
  },
  {
   "cell_type": "markdown",
   "metadata": {},
   "source": [
    "## Download Simulation Results\n",
    "\n",
    "Here we will also get some relevant branch information for plotting purposes."
   ]
  },
  {
   "cell_type": "code",
   "execution_count": null,
   "metadata": {},
   "outputs": [
    {
     "name": "stdout",
     "output_type": "stream",
     "text": [
      "Downloading...\n",
      "...download complete!\n"
     ]
    }
   ],
   "source": [
    "from utils import sedaroLogin, schedule_table, target_analytics\n",
    "import plotly.express as px\n",
    "import json\n",
    "\n",
    "\n",
    "# Settings\n",
    "# Set this to the scenario branch ID of the simulation you want to visualize. For example, you can leave as if you want\n",
    "# to see the pure sim results of the demo, or you can change it to the cosimulated branch ID.\n",
    "PURE_SIM_SCENARIO_BRANCH_ID = ''\n",
    "# Set this to the branch ID of the ground segment template used in the simulation. You may not need to change this.\n",
    "AGENT_TEMPLATE_BRANCH_ID = '' \n",
    "GS_AGENT_NAME = ''\n",
    "PURE_SIM_JOB_ID = None # If None, the most recent results will be downloaded\n",
    "\n",
    "\n",
    "try:\n",
    "    with open('../../config.json', 'r') as file:\n",
    "        config = json.load(file)\n",
    "        gs_config = config.get('EXAMPLES', {}).get('GROUND_SEGMENT', {})\n",
    "        PURE_SIM_SCENARIO_BRANCH_ID = PURE_SIM_SCENARIO_BRANCH_ID or gs_config['PURE_SIM_SCENARIO_BRANCH_ID']\n",
    "        AGENT_TEMPLATE_BRANCH_ID = AGENT_TEMPLATE_BRANCH_ID or gs_config['AGENT_TEMPLATE_BRANCH_ID']\n",
    "        GS_AGENT_NAME = GS_AGENT_NAME or gs_config['GS_AGENT_NAME']\n",
    "        PURE_SIM_JOB_ID = PURE_SIM_JOB_ID or gs_config.get('PURE_SIM_JOB_ID')\n",
    "except FileNotFoundError:\n",
    "    pass\n",
    "except KeyError as e:\n",
    "    raise KeyError(f\"Missing key in config.json: {e}\")\n",
    "finally:\n",
    "    PURE_SIM_JOB_ID = PURE_SIM_JOB_ID or None\n",
    "    assert PURE_SIM_SCENARIO_BRANCH_ID, \"Please set PURE_SIM_SCENARIO_BRANCH_ID in the script or in config.json\"\n",
    "    assert AGENT_TEMPLATE_BRANCH_ID, \"Please set AGENT_TEMPLATE_BRANCH_ID in the script or in config.json\"\n",
    "    assert GS_AGENT_NAME, \"Please set GS_AGENT_NAME in the script or in config.json\"\n",
    "\n",
    "\n",
    "# Login\n",
    "client = sedaroLogin()\n",
    "\n",
    "# Load the results of the pure simulation\n",
    "scenario = client.scenario(PURE_SIM_SCENARIO_BRANCH_ID)\n",
    "template = client.agent_template(AGENT_TEMPLATE_BRANCH_ID)\n",
    "pure_sim = scenario.simulation.results(job_id=PURE_SIM_JOB_ID)\n",
    "ground_segment_results = pure_sim.agent(GS_AGENT_NAME)"
   ]
  },
  {
   "cell_type": "markdown",
   "metadata": {},
   "source": [
    "## Contact Schedule\n",
    "\n",
    "By accessing the simulation results of the `ContactScheduler` block, we can see the schedule that was generated. Note\n",
    "that some of the colors are duplicated, but you can hover/zoom in on the interactive plot to see more information about\n",
    "each contact."
   ]
  },
  {
   "cell_type": "code",
   "execution_count": 4,
   "metadata": {},
   "outputs": [
    {
     "data": {
      "application/vnd.plotly.v1+json": {
       "config": {
        "plotlyServerURL": "https://plot.ly"
       },
       "data": [
        {
         "alignmentgroup": "True",
         "base": [
          "2024-10-31T00:21:10.000086+00:00",
          "2024-10-31T01:52:10.000086+00:00",
          "2024-10-31T03:33:00.000086+00:00",
          "2024-10-31T05:16:10.000086+00:00",
          "2024-10-31T08:38:40.000086+00:00",
          "2024-10-31T11:27:00.000086+00:00",
          "2024-10-31T00:43:20.000087+00:00",
          "2024-10-31T02:10:30.000086+00:00",
          "2024-10-31T03:47:10.000086+00:00",
          "2024-10-31T04:37:50.000086+00:00",
          "2024-10-31T05:37:40.000086+00:00",
          "2024-10-31T08:05:40.000086+00:00",
          "2024-10-31T09:45:40.000087+00:00",
          "2024-10-31T10:04:30.000086+00:00",
          "2024-10-31T11:16:20.000086+00:00"
         ],
         "hovertemplate": "target=Spacecraft 1-1<br>start=%{base}<br>end=%{x}<br>antenna=%{y}<extra></extra>",
         "legendgroup": "Spacecraft 1-1",
         "marker": {
          "color": "#636efa",
          "pattern": {
           "shape": ""
          }
         },
         "name": "Spacecraft 1-1",
         "offsetgroup": "Spacecraft 1-1",
         "orientation": "h",
         "showlegend": true,
         "textposition": "auto",
         "type": "bar",
         "x": [
          120000.001,
          680000,
          690000.001,
          540000.001,
          190000,
          290000,
          429999.999,
          130000,
          730000,
          400000,
          50000,
          710000,
          679999.999,
          10000,
          710000
         ],
         "xaxis": "x",
         "y": [
          "Dundee",
          "Dundee",
          "Dundee",
          "Dundee",
          "Dundee",
          "Chitose",
          "Harmon",
          "Dubai",
          "Dubai",
          "Tahiti",
          "Mwulire",
          "Paumalu",
          "Paumalu",
          "Mojave",
          "Harmon"
         ],
         "yaxis": "y"
        },
        {
         "alignmentgroup": "True",
         "base": [
          "2024-10-31T00:05:00.000086+00:00",
          "2024-10-31T01:39:40.000086+00:00",
          "2024-10-31T03:20:40.000086+00:00",
          "2024-10-31T05:01:40.000086+00:00",
          "2024-10-31T06:21:40.000086+00:00",
          "2024-10-31T06:44:00.000086+00:00",
          "2024-10-31T08:02:10.000086+00:00",
          "2024-10-31T08:21:40.000086+00:00",
          "2024-10-31T00:29:50.000086+00:00",
          "2024-10-31T03:34:40.000086+00:00",
          "2024-10-31T04:27:10.000086+00:00",
          "2024-10-31T05:25:20.000086+00:00",
          "2024-10-31T07:53:30.000086+00:00",
          "2024-10-31T09:34:10.000086+00:00",
          "2024-10-31T11:04:30.000086+00:00"
         ],
         "hovertemplate": "target=Spacecraft 1-2<br>start=%{base}<br>end=%{x}<br>antenna=%{y}<extra></extra>",
         "legendgroup": "Spacecraft 1-2",
         "marker": {
          "color": "#EF553B",
          "pattern": {
           "shape": ""
          }
         },
         "name": "Spacecraft 1-2",
         "offsetgroup": "Spacecraft 1-2",
         "orientation": "h",
         "showlegend": true,
         "textposition": "auto",
         "type": "bar",
         "x": [
          380000.001,
          750000,
          740000,
          320000,
          720000,
          70000,
          250000,
          370000,
          560000.001,
          750000,
          210000.001,
          30000,
          720000,
          690000.001,
          710000
         ],
         "xaxis": "x",
         "y": [
          "Dundee",
          "Dundee",
          "Dundee",
          "Dundee",
          "Mojave",
          "Dundee",
          "Mojave",
          "Dundee",
          "Harmon",
          "Dubai",
          "Tahiti",
          "Dubai",
          "Paumalu",
          "Paumalu",
          "Harmon"
         ],
         "yaxis": "y"
        },
        {
         "alignmentgroup": "True",
         "base": [
          "2024-10-31T00:11:20.000087+00:00",
          "2024-10-31T01:27:00.000086+00:00",
          "2024-10-31T03:07:40.000086+00:00",
          "2024-10-31T04:48:40.000086+00:00",
          "2024-10-31T06:08:30.000086+00:00",
          "2024-10-31T06:33:40.000086+00:00",
          "2024-10-31T07:49:40.000086+00:00",
          "2024-10-31T08:09:50.000086+00:00",
          "2024-10-31T09:35:00.000087+00:00",
          "2024-10-31T00:16:40.000087+00:00",
          "2024-10-31T03:22:30.000086+00:00",
          "2024-10-31T05:12:30.000086+00:00",
          "2024-10-31T05:51:30.000086+00:00",
          "2024-10-31T07:41:20.000087+00:00",
          "2024-10-31T09:21:30.000086+00:00",
          "2024-10-31T10:53:20.000086+00:00"
         ],
         "hovertemplate": "target=Spacecraft 1-3<br>start=%{base}<br>end=%{x}<br>antenna=%{y}<extra></extra>",
         "legendgroup": "Spacecraft 1-3",
         "marker": {
          "color": "#00cc96",
          "pattern": {
           "shape": ""
          }
         },
         "name": "Spacecraft 1-3",
         "offsetgroup": "Spacecraft 1-3",
         "orientation": "h",
         "showlegend": true,
         "textposition": "auto",
         "type": "bar",
         "x": [
          289999.999,
          760000,
          780000,
          780000,
          790000,
          270000,
          750000,
          640000,
          399999.999,
          649999.999,
          730000,
          90000,
          510000,
          729999.999,
          760000,
          670000
         ],
         "xaxis": "x",
         "y": [
          "Chitose",
          "Dundee",
          "Dundee",
          "Dundee",
          "Mojave",
          "Dundee",
          "Mojave",
          "Dundee",
          "Mojave",
          "Harmon",
          "Dubai",
          "Dubai",
          "Tahiti",
          "Paumalu",
          "Paumalu",
          "Harmon"
         ],
         "yaxis": "y"
        },
        {
         "alignmentgroup": "True",
         "base": [
          "2024-10-31T00:00:00.000086+00:00",
          "2024-10-31T01:14:10.000086+00:00",
          "2024-10-31T02:54:50.000086+00:00",
          "2024-10-31T04:35:30.000086+00:00",
          "2024-10-31T06:00:10.000086+00:00",
          "2024-10-31T07:36:00.000087+00:00",
          "2024-10-31T08:06:20.000086+00:00",
          "2024-10-31T09:20:30.000086+00:00",
          "2024-10-31T00:03:40.000087+00:00",
          "2024-10-31T03:09:50.000086+00:00",
          "2024-10-31T04:58:40.000086+00:00",
          "2024-10-31T05:38:30.000086+00:00",
          "2024-10-31T07:28:20.000087+00:00",
          "2024-10-31T09:17:20.000086+00:00",
          "2024-10-31T10:40:30.000086+00:00",
          "2024-10-31T10:47:40.000086+00:00"
         ],
         "hovertemplate": "target=Spacecraft 1-4<br>start=%{base}<br>end=%{x}<br>antenna=%{y}<extra></extra>",
         "legendgroup": "Spacecraft 1-4",
         "marker": {
          "color": "#ab63fa",
          "pattern": {
           "shape": ""
          }
         },
         "name": "Spacecraft 1-4",
         "offsetgroup": "Spacecraft 1-4",
         "orientation": "h",
         "showlegend": true,
         "textposition": "auto",
         "type": "bar",
         "x": [
          300000,
          770000,
          770000,
          790000,
          500000,
          780000,
          80000,
          470000,
          699999.999,
          680000,
          220000,
          760000.001,
          249999.999,
          210000.001,
          20000,
          160000
         ],
         "xaxis": "x",
         "y": [
          "Chitose",
          "Dundee",
          "Dundee",
          "Dundee",
          "Mojave",
          "Mojave",
          "Dundee",
          "Mojave",
          "Harmon",
          "Dubai",
          "Dubai",
          "Tahiti",
          "Paumalu",
          "Paumalu",
          "Harmon",
          "Harmon"
         ],
         "yaxis": "y"
        },
        {
         "alignmentgroup": "True",
         "base": [
          "2024-10-31T01:01:50.000086+00:00",
          "2024-10-31T02:42:30.000086+00:00",
          "2024-10-31T04:23:30.000086+00:00",
          "2024-10-31T07:24:10.000087+00:00",
          "2024-10-31T07:49:00.000087+00:00",
          "2024-10-31T09:06:40.000086+00:00",
          "2024-10-31T00:00:00.000086+00:00",
          "2024-10-31T02:57:20.000086+00:00",
          "2024-10-31T04:44:30.000086+00:00",
          "2024-10-31T05:25:50.000086+00:00",
          "2024-10-31T06:19:50.000086+00:00",
          "2024-10-31T07:15:50.000087+00:00",
          "2024-10-31T08:56:00.000086+00:00",
          "2024-10-31T10:28:00.000086+00:00",
          "2024-10-31T10:39:00.000087+00:00"
         ],
         "hovertemplate": "target=Spacecraft 1-5<br>start=%{base}<br>end=%{x}<br>antenna=%{y}<extra></extra>",
         "legendgroup": "Spacecraft 1-5",
         "marker": {
          "color": "#FFA15A",
          "pattern": {
           "shape": ""
          }
         },
         "name": "Spacecraft 1-5",
         "offsetgroup": "Spacecraft 1-5",
         "orientation": "h",
         "showlegend": true,
         "textposition": "auto",
         "type": "bar",
         "x": [
          740000,
          740000,
          720000,
          699999.999,
          39999.999,
          500000,
          200000,
          620000,
          330000,
          710000,
          370000,
          259999.999,
          70000,
          460000,
          89999.999
         ],
         "xaxis": "x",
         "y": [
          "Dundee",
          "Dundee",
          "Dundee",
          "Mojave",
          "Dundee",
          "Mojave",
          "Harmon",
          "Dubai",
          "Dubai",
          "Tahiti",
          "Dubai",
          "Paumalu",
          "Paumalu",
          "Harmon",
          "Paumalu"
         ],
         "yaxis": "y"
        },
        {
         "alignmentgroup": "True",
         "base": [
          "2024-10-31T00:49:30.000086+00:00",
          "2024-10-31T02:30:10.000086+00:00",
          "2024-10-31T04:11:20.000086+00:00",
          "2024-10-31T05:52:50.000086+00:00",
          "2024-10-31T07:12:20.000087+00:00",
          "2024-10-31T07:35:50.000086+00:00",
          "2024-10-31T08:54:10.000087+00:00",
          "2024-10-31T09:15:00.000086+00:00",
          "2024-10-31T02:45:30.000086+00:00",
          "2024-10-31T02:54:40.000086+00:00",
          "2024-10-31T04:25:50.000086+00:00",
          "2024-10-31T04:30:40.000087+00:00",
          "2024-10-31T05:14:00.000086+00:00",
          "2024-10-31T06:07:10.000087+00:00",
          "2024-10-31T07:04:40.000086+00:00",
          "2024-10-31T08:44:20.000086+00:00",
          "2024-10-31T10:17:50.000086+00:00",
          "2024-10-31T10:26:30.000087+00:00"
         ],
         "hovertemplate": "target=Spacecraft 1-6<br>start=%{base}<br>end=%{x}<br>antenna=%{y}<extra></extra>",
         "legendgroup": "Spacecraft 1-6",
         "marker": {
          "color": "#19d3f3",
          "pattern": {
           "shape": ""
          }
         },
         "name": "Spacecraft 1-6",
         "offsetgroup": "Spacecraft 1-6",
         "orientation": "h",
         "showlegend": true,
         "textposition": "auto",
         "type": "bar",
         "x": [
          740000,
          740000,
          730000,
          430000,
          710000,
          10000.001,
          570000,
          210000,
          430000,
          10000,
          80000,
          429999.999,
          680000,
          500000,
          540000,
          700000,
          320000,
          89999.999
         ],
         "xaxis": "x",
         "y": [
          "Dundee",
          "Dundee",
          "Dundee",
          "Dundee",
          "Mojave",
          "Dundee",
          "Mojave",
          "Dundee",
          "Dubai",
          "Dubai",
          "Dubai",
          "Dubai",
          "Tahiti",
          "Dubai",
          "Paumalu",
          "Paumalu",
          "Harmon",
          "Paumalu"
         ],
         "yaxis": "y"
        },
        {
         "alignmentgroup": "True",
         "base": [
          "2024-10-31T00:36:40.000086+00:00",
          "2024-10-31T02:17:20.000086+00:00",
          "2024-10-31T03:58:10.000086+00:00",
          "2024-10-31T05:44:40.000087+00:00",
          "2024-10-31T06:58:50.000086+00:00",
          "2024-10-31T08:41:50.000086+00:00",
          "2024-10-31T09:03:40.000087+00:00",
          "2024-10-31T10:29:00.000086+00:00",
          "2024-10-31T11:51:30.000086+00:00",
          "2024-10-31T02:33:40.000086+00:00",
          "2024-10-31T04:12:40.000086+00:00",
          "2024-10-31T05:02:20.000086+00:00",
          "2024-10-31T06:00:10.000086+00:00",
          "2024-10-31T06:54:00.000087+00:00",
          "2024-10-31T07:32:30.000086+00:00",
          "2024-10-31T08:30:50.000086+00:00",
          "2024-10-31T09:10:50.000086+00:00",
          "2024-10-31T10:17:40.000087+00:00",
          "2024-10-31T11:42:20.000087+00:00"
         ],
         "hovertemplate": "target=Spacecraft 1-7<br>start=%{base}<br>end=%{x}<br>antenna=%{y}<extra></extra>",
         "legendgroup": "Spacecraft 1-7",
         "marker": {
          "color": "#FF6692",
          "pattern": {
           "shape": ""
          }
         },
         "name": "Spacecraft 1-7",
         "offsetgroup": "Spacecraft 1-7",
         "orientation": "h",
         "showlegend": true,
         "textposition": "auto",
         "type": "bar",
         "x": [
          770000,
          770000,
          790000,
          369999.999,
          810000.001,
          610000,
          179999.999,
          140000,
          380000,
          490000,
          790000,
          610000,
          250000,
          419999.999,
          530000.001,
          810000,
          390000,
          9999.999,
          819999.999
         ],
         "xaxis": "x",
         "y": [
          "Dundee",
          "Dundee",
          "Dundee",
          "Dundee",
          "Mojave",
          "Mojave",
          "Dundee",
          "Mojave",
          "Chitose",
          "Dubai",
          "Dubai",
          "Tahiti",
          "Dubai",
          "Paumalu",
          "Sunyani",
          "Paumalu",
          "Sunyani",
          "Paumalu",
          "Harmon"
         ],
         "yaxis": "y"
        },
        {
         "alignmentgroup": "True",
         "base": [
          "2024-10-31T00:23:10.000087+00:00",
          "2024-10-31T00:28:50.000086+00:00",
          "2024-10-31T02:03:30.000086+00:00",
          "2024-10-31T03:44:30.000087+00:00",
          "2024-10-31T05:07:00.000086+00:00",
          "2024-10-31T05:25:10.000087+00:00",
          "2024-10-31T06:45:10.000086+00:00",
          "2024-10-31T08:27:50.000086+00:00",
          "2024-10-31T08:52:00.000086+00:00",
          "2024-10-31T10:14:40.000087+00:00",
          "2024-10-31T11:38:50.000086+00:00",
          "2024-10-31T00:27:30.000086+00:00",
          "2024-10-31T00:57:30.000087+00:00",
          "2024-10-31T01:10:30.000087+00:00",
          "2024-10-31T02:21:40.000086+00:00",
          "2024-10-31T02:52:40.000086+00:00",
          "2024-10-31T03:59:20.000086+00:00",
          "2024-10-31T04:50:00.000086+00:00",
          "2024-10-31T05:51:10.000087+00:00",
          "2024-10-31T06:43:20.000087+00:00",
          "2024-10-31T07:20:10.000086+00:00",
          "2024-10-31T08:17:30.000086+00:00",
          "2024-10-31T08:57:10.000086+00:00",
          "2024-10-31T09:59:30.000086+00:00",
          "2024-10-31T10:40:50.000086+00:00",
          "2024-10-31T11:28:50.000086+00:00"
         ],
         "hovertemplate": "target=Spacecraft 1-8<br>start=%{base}<br>end=%{x}<br>antenna=%{y}<extra></extra>",
         "legendgroup": "Spacecraft 1-8",
         "marker": {
          "color": "#B6E880",
          "pattern": {
           "shape": ""
          }
         },
         "name": "Spacecraft 1-8",
         "offsetgroup": "Spacecraft 1-8",
         "orientation": "h",
         "showlegend": true,
         "textposition": "auto",
         "type": "bar",
         "x": [
          99999.999,
          470000,
          830000,
          819999.999,
          550000,
          829999.999,
          820000,
          650000,
          130000.001,
          180000,
          460000.001,
          80000,
          239999.999,
          820000,
          360000,
          120000,
          800000,
          520000,
          19999.999,
          129999.999,
          370000,
          800000,
          820000,
          300000,
          410000,
          780000
         ],
         "xaxis": "x",
         "y": [
          "Dundee",
          "Dundee",
          "Dundee",
          "Dundee",
          "Mojave",
          "Dundee",
          "Mojave",
          "Mojave",
          "Dundee",
          "Mojave",
          "Chitose",
          "Dundee",
          "Harmon",
          "Awarua",
          "Dubai",
          "Awarua",
          "Dubai",
          "Tahiti",
          "Mwulire",
          "Paumalu",
          "Sunyani",
          "Paumalu",
          "Sunyani",
          "Paumalu",
          "Sunyani",
          "Harmon"
         ],
         "yaxis": "y"
        },
        {
         "alignmentgroup": "True",
         "base": [
          "2024-10-31T00:05:00.000086+00:00",
          "2024-10-31T01:43:50.000086+00:00",
          "2024-10-31T03:25:30.000087+00:00",
          "2024-10-31T05:07:30.000086+00:00",
          "2024-10-31T06:47:40.000086+00:00",
          "2024-10-31T09:46:50.000087+00:00",
          "2024-10-31T11:27:50.000086+00:00",
          "2024-10-31T11:36:30.000086+00:00",
          "2024-10-31T01:25:10.000086+00:00",
          "2024-10-31T01:33:00.000087+00:00",
          "2024-10-31T03:39:40.000086+00:00",
          "2024-10-31T04:34:00.000086+00:00",
          "2024-10-31T06:21:00.000086+00:00",
          "2024-10-31T07:03:30.000086+00:00",
          "2024-10-31T08:37:00.000087+00:00",
          "2024-10-31T11:48:20.000086+00:00"
         ],
         "hovertemplate": "target=Spacecraft 2-1<br>start=%{base}<br>end=%{x}<br>antenna=%{y}<extra></extra>",
         "legendgroup": "Spacecraft 2-1",
         "marker": {
          "color": "#FF97FF",
          "pattern": {
           "shape": ""
          }
         },
         "name": "Spacecraft 2-1",
         "offsetgroup": "Spacecraft 2-1",
         "orientation": "h",
         "showlegend": true,
         "textposition": "auto",
         "type": "bar",
         "x": [
          380000.001,
          610000,
          699999.999,
          640000,
          680000,
          570000,
          90000,
          40000,
          280000,
          199999.999,
          710000,
          670000,
          270000.001,
          120000,
          460000,
          220000
         ],
         "xaxis": "x",
         "y": [
          "Chitose",
          "Chitose",
          "Chitose",
          "Chitose",
          "Chitose",
          "Dundee",
          "Dundee",
          "Dundee",
          "Dubai",
          "Dubai",
          "Paumalu",
          "Sunyani",
          "Sunyani",
          "Harmon",
          "Harmon",
          "Dubai"
         ],
         "yaxis": "y"
        },
        {
         "alignmentgroup": "True",
         "base": [
          "2024-10-31T01:31:10.000086+00:00",
          "2024-10-31T03:13:10.000086+00:00",
          "2024-10-31T04:54:10.000086+00:00",
          "2024-10-31T06:35:00.000087+00:00",
          "2024-10-31T09:33:20.000086+00:00",
          "2024-10-31T11:14:00.000086+00:00",
          "2024-10-31T11:29:20.000086+00:00",
          "2024-10-31T01:13:20.000086+00:00",
          "2024-10-31T03:26:50.000086+00:00",
          "2024-10-31T04:22:20.000086+00:00",
          "2024-10-31T06:07:10.000087+00:00",
          "2024-10-31T06:50:40.000086+00:00",
          "2024-10-31T08:24:10.000086+00:00"
         ],
         "hovertemplate": "target=Spacecraft 2-2<br>start=%{base}<br>end=%{x}<br>antenna=%{y}<extra></extra>",
         "legendgroup": "Spacecraft 2-2",
         "marker": {
          "color": "#FECB52",
          "pattern": {
           "shape": ""
          }
         },
         "name": "Spacecraft 2-2",
         "offsetgroup": "Spacecraft 2-2",
         "orientation": "h",
         "showlegend": true,
         "textposition": "auto",
         "type": "bar",
         "x": [
          610000.001,
          690000,
          800000,
          759999.999,
          810000.001,
          110000,
          430000,
          610000,
          770000,
          610000,
          320000,
          130000,
          570000
         ],
         "xaxis": "x",
         "y": [
          "Chitose",
          "Chitose",
          "Chitose",
          "Chitose",
          "Dundee",
          "Dundee",
          "Dubai",
          "Dubai",
          "Paumalu",
          "Sunyani",
          "Sunyani",
          "Harmon",
          "Harmon"
         ],
         "yaxis": "y"
        },
        {
         "alignmentgroup": "True",
         "base": [
          "2024-10-31T01:20:20.000086+00:00",
          "2024-10-31T03:00:20.000086+00:00",
          "2024-10-31T04:41:00.000086+00:00",
          "2024-10-31T06:21:40.000086+00:00",
          "2024-10-31T06:30:20.000086+00:00",
          "2024-10-31T08:05:00.000087+00:00",
          "2024-10-31T09:19:20.000086+00:00",
          "2024-10-31T11:01:40.000086+00:00",
          "2024-10-31T11:13:50.000086+00:00",
          "2024-10-31T11:15:50.000086+00:00",
          "2024-10-31T01:01:40.000087+00:00",
          "2024-10-31T03:14:10.000086+00:00",
          "2024-10-31T04:10:20.000086+00:00",
          "2024-10-31T05:48:20.000086+00:00",
          "2024-10-31T06:38:00.000087+00:00",
          "2024-10-31T08:10:20.000087+00:00"
         ],
         "hovertemplate": "target=Spacecraft 2-3<br>start=%{base}<br>end=%{x}<br>antenna=%{y}<extra></extra>",
         "legendgroup": "Spacecraft 2-3",
         "marker": {
          "color": "#636efa",
          "pattern": {
           "shape": ""
          }
         },
         "name": "Spacecraft 2-3",
         "offsetgroup": "Spacecraft 2-3",
         "orientation": "h",
         "showlegend": true,
         "textposition": "auto",
         "type": "bar",
         "x": [
          490000,
          660000.001,
          790000,
          180000,
          260000,
          289999.999,
          830000,
          60000.001,
          10000,
          720000,
          509999.999,
          760000,
          500000,
          700000,
          70000,
          640000
         ],
         "xaxis": "x",
         "y": [
          "Chitose",
          "Chitose",
          "Chitose",
          "Chitose",
          "Chitose",
          "Chitose",
          "Dundee",
          "Dundee",
          "Dundee",
          "Dubai",
          "Dubai",
          "Paumalu",
          "Sunyani",
          "Sunyani",
          "Harmon",
          "Harmon"
         ],
         "yaxis": "y"
        },
        {
         "alignmentgroup": "True",
         "base": [
          "2024-10-31T01:09:30.000086+00:00",
          "2024-10-31T02:47:20.000086+00:00",
          "2024-10-31T04:28:40.000086+00:00",
          "2024-10-31T06:09:50.000086+00:00",
          "2024-10-31T07:50:50.000087+00:00",
          "2024-10-31T09:08:00.000086+00:00",
          "2024-10-31T10:49:40.000086+00:00",
          "2024-10-31T11:02:40.000087+00:00",
          "2024-10-31T00:50:20.000086+00:00",
          "2024-10-31T01:24:30.000086+00:00",
          "2024-10-31T02:27:40.000086+00:00",
          "2024-10-31T02:32:30.000086+00:00",
          "2024-10-31T03:02:00.000086+00:00",
          "2024-10-31T03:59:00.000086+00:00",
          "2024-10-31T04:45:10.000086+00:00",
          "2024-10-31T05:36:20.000086+00:00",
          "2024-10-31T08:03:10.000086+00:00"
         ],
         "hovertemplate": "target=Spacecraft 2-4<br>start=%{base}<br>end=%{x}<br>antenna=%{y}<extra></extra>",
         "legendgroup": "Spacecraft 2-4",
         "marker": {
          "color": "#EF553B",
          "pattern": {
           "shape": ""
          }
         },
         "name": "Spacecraft 2-4",
         "offsetgroup": "Spacecraft 2-4",
         "orientation": "h",
         "showlegend": true,
         "textposition": "auto",
         "type": "bar",
         "x": [
          120000,
          650000,
          740000,
          710000,
          429999.999,
          350000,
          110000,
          669999.999,
          360000.001,
          40000,
          60000.001,
          70000,
          730000,
          310000,
          30000,
          720000,
          310000
         ],
         "xaxis": "x",
         "y": [
          "Chitose",
          "Chitose",
          "Chitose",
          "Chitose",
          "Chitose",
          "Dundee",
          "Dundee",
          "Dubai",
          "Dubai",
          "Mojave",
          "Dubai",
          "Dubai",
          "Paumalu",
          "Sunyani",
          "Paumalu",
          "Sunyani",
          "Harmon"
         ],
         "yaxis": "y"
        },
        {
         "alignmentgroup": "True",
         "base": [
          "2024-10-31T00:57:20.000086+00:00",
          "2024-10-31T01:11:30.000086+00:00",
          "2024-10-31T02:35:00.000086+00:00",
          "2024-10-31T04:16:20.000086+00:00",
          "2024-10-31T05:58:00.000086+00:00",
          "2024-10-31T06:00:10.000086+00:00",
          "2024-10-31T07:38:20.000087+00:00",
          "2024-10-31T08:55:30.000086+00:00",
          "2024-10-31T10:37:10.000087+00:00",
          "2024-10-31T10:51:30.000086+00:00",
          "2024-10-31T02:15:00.000086+00:00",
          "2024-10-31T02:19:10.000086+00:00",
          "2024-10-31T02:52:20.000086+00:00",
          "2024-10-31T04:32:30.000086+00:00",
          "2024-10-31T05:24:20.000086+00:00",
          "2024-10-31T07:05:30.000086+00:00"
         ],
         "hovertemplate": "target=Spacecraft 2-5<br>start=%{base}<br>end=%{x}<br>antenna=%{y}<extra></extra>",
         "legendgroup": "Spacecraft 2-5",
         "marker": {
          "color": "#00cc96",
          "pattern": {
           "shape": ""
          }
         },
         "name": "Spacecraft 2-5",
         "offsetgroup": "Spacecraft 2-5",
         "orientation": "h",
         "showlegend": true,
         "textposition": "auto",
         "type": "bar",
         "x": [
          70000,
          530000,
          630000,
          740000,
          120000,
          580000,
          539999.999,
          350000,
          180000,
          610000,
          110000.001,
          150000,
          580000,
          90000,
          720000,
          560000
         ],
         "xaxis": "x",
         "y": [
          "Chitose",
          "Mojave",
          "Chitose",
          "Chitose",
          "Chitose",
          "Chitose",
          "Chitose",
          "Dundee",
          "Dundee",
          "Dubai",
          "Dubai",
          "Dubai",
          "Paumalu",
          "Paumalu",
          "Sunyani",
          "Sunyani"
         ],
         "yaxis": "y"
        },
        {
         "alignmentgroup": "True",
         "base": [
          "2024-10-31T00:45:00.000086+00:00",
          "2024-10-31T00:58:30.000086+00:00",
          "2024-10-31T02:22:20.000086+00:00",
          "2024-10-31T04:03:40.000086+00:00",
          "2024-10-31T05:44:50.000086+00:00",
          "2024-10-31T07:26:00.000086+00:00",
          "2024-10-31T08:43:00.000086+00:00",
          "2024-10-31T10:23:40.000086+00:00",
          "2024-10-31T10:35:10.000086+00:00",
          "2024-10-31T10:40:10.000087+00:00",
          "2024-10-31T02:02:00.000086+00:00",
          "2024-10-31T02:12:40.000086+00:00",
          "2024-10-31T02:40:20.000086+00:00",
          "2024-10-31T04:18:40.000086+00:00",
          "2024-10-31T05:11:00.000086+00:00",
          "2024-10-31T06:12:30.000087+00:00",
          "2024-10-31T06:52:50.000086+00:00",
          "2024-10-31T07:36:30.000086+00:00",
          "2024-10-31T07:49:40.000086+00:00",
          "2024-10-31T09:30:30.000086+00:00",
          "2024-10-31T11:13:00.000086+00:00"
         ],
         "hovertemplate": "target=Spacecraft 2-6<br>start=%{base}<br>end=%{x}<br>antenna=%{y}<extra></extra>",
         "legendgroup": "Spacecraft 2-6",
         "marker": {
          "color": "#ab63fa",
          "pattern": {
           "shape": ""
          }
         },
         "name": "Spacecraft 2-6",
         "offsetgroup": "Spacecraft 2-6",
         "orientation": "h",
         "showlegend": true,
         "textposition": "auto",
         "type": "bar",
         "x": [
          30000,
          660000,
          640000,
          760000,
          790000,
          610000,
          270000,
          210000,
          120000.001,
          569999.999,
          510000,
          140000,
          370000.001,
          220000,
          800000,
          509999.999,
          640000,
          10000,
          810000,
          810000,
          290000
         ],
         "xaxis": "x",
         "y": [
          "Chitose",
          "Mojave",
          "Chitose",
          "Chitose",
          "Chitose",
          "Chitose",
          "Dundee",
          "Dundee",
          "Dundee",
          "Dubai",
          "Dubai",
          "Dubai",
          "Paumalu",
          "Paumalu",
          "Sunyani",
          "Awarua",
          "Sunyani",
          "Harmon",
          "Awarua",
          "Awarua",
          "Awarua"
         ],
         "yaxis": "y"
        },
        {
         "alignmentgroup": "True",
         "base": [
          "2024-10-31T00:26:30.000086+00:00",
          "2024-10-31T00:45:30.000086+00:00",
          "2024-10-31T02:09:30.000086+00:00",
          "2024-10-31T03:50:40.000086+00:00",
          "2024-10-31T05:31:40.000087+00:00",
          "2024-10-31T07:12:20.000087+00:00",
          "2024-10-31T08:31:50.000086+00:00",
          "2024-10-31T10:10:00.000086+00:00",
          "2024-10-31T10:20:00.000087+00:00",
          "2024-10-31T10:27:10.000086+00:00",
          "2024-10-31T11:50:40.000086+00:00",
          "2024-10-31T01:49:20.000086+00:00",
          "2024-10-31T02:28:40.000087+00:00",
          "2024-10-31T04:04:40.000086+00:00",
          "2024-10-31T04:58:10.000086+00:00",
          "2024-10-31T06:00:10.000086+00:00",
          "2024-10-31T06:39:10.000087+00:00",
          "2024-10-31T07:19:10.000086+00:00",
          "2024-10-31T07:36:40.000086+00:00",
          "2024-10-31T09:16:50.000086+00:00",
          "2024-10-31T10:59:10.000086+00:00"
         ],
         "hovertemplate": "target=Spacecraft 2-7<br>start=%{base}<br>end=%{x}<br>antenna=%{y}<extra></extra>",
         "legendgroup": "Spacecraft 2-7",
         "marker": {
          "color": "#FFA15A",
          "pattern": {
           "shape": ""
          }
         },
         "name": "Spacecraft 2-7",
         "offsetgroup": "Spacecraft 2-7",
         "orientation": "h",
         "showlegend": true,
         "textposition": "auto",
         "type": "bar",
         "x": [
          380000,
          710000,
          610000,
          740000,
          789999.999,
          669999.999,
          120000,
          280000.001,
          219999.999,
          480000,
          80000,
          760000,
          229999.999,
          340000,
          770000,
          420000.001,
          689999.999,
          270000,
          780000,
          810000,
          720000
         ],
         "xaxis": "x",
         "y": [
          "Chitose",
          "Mojave",
          "Chitose",
          "Chitose",
          "Chitose",
          "Chitose",
          "Dundee",
          "Dundee",
          "Dundee",
          "Dubai",
          "Dundee",
          "Dubai",
          "Paumalu",
          "Paumalu",
          "Sunyani",
          "Tahiti",
          "Sunyani",
          "Harmon",
          "Awarua",
          "Awarua",
          "Awarua"
         ],
         "yaxis": "y"
        },
        {
         "alignmentgroup": "True",
         "base": [
          "2024-10-31T00:16:10.000086+00:00",
          "2024-10-31T00:32:50.000086+00:00",
          "2024-10-31T01:56:30.000086+00:00",
          "2024-10-31T03:37:50.000086+00:00",
          "2024-10-31T05:18:10.000086+00:00",
          "2024-10-31T06:59:00.000086+00:00",
          "2024-10-31T09:56:20.000087+00:00",
          "2024-10-31T10:14:40.000087+00:00",
          "2024-10-31T11:37:10.000086+00:00",
          "2024-10-31T01:29:50.000086+00:00",
          "2024-10-31T01:37:10.000087+00:00",
          "2024-10-31T02:16:50.000087+00:00",
          "2024-10-31T03:51:30.000086+00:00",
          "2024-10-31T04:45:40.000086+00:00",
          "2024-10-31T06:25:30.000087+00:00",
          "2024-10-31T07:14:50.000086+00:00",
          "2024-10-31T07:23:40.000086+00:00",
          "2024-10-31T08:50:20.000086+00:00",
          "2024-10-31T09:03:20.000086+00:00",
          "2024-10-31T10:45:30.000087+00:00"
         ],
         "hovertemplate": "target=Spacecraft 2-8<br>start=%{base}<br>end=%{x}<br>antenna=%{y}<extra></extra>",
         "legendgroup": "Spacecraft 2-8",
         "marker": {
          "color": "#19d3f3",
          "pattern": {
           "shape": ""
          }
         },
         "name": "Spacecraft 2-8",
         "offsetgroup": "Spacecraft 2-8",
         "orientation": "h",
         "showlegend": true,
         "textposition": "auto",
         "type": "bar",
         "x": [
          530000,
          730000,
          610000,
          710000,
          810000.001,
          700000,
          819999.999,
          320000,
          810000,
          190000.001,
          719999.999,
          139999.999,
          450000,
          720000,
          750000,
          260000,
          770000,
          240000,
          810000,
          729999.999
         ],
         "xaxis": "x",
         "y": [
          "Chitose",
          "Mojave",
          "Chitose",
          "Chitose",
          "Chitose",
          "Chitose",
          "Dundee",
          "Dubai",
          "Dundee",
          "Mwulire",
          "Dubai",
          "Paumalu",
          "Paumalu",
          "Sunyani",
          "Sunyani",
          "Harmon",
          "Awarua",
          "Harmon",
          "Awarua",
          "Awarua"
         ],
         "yaxis": "y"
        },
        {
         "alignmentgroup": "True",
         "base": [
          "2024-10-31T01:14:50.000086+00:00",
          "2024-10-31T06:33:50.000087+00:00",
          "2024-10-31T07:58:00.000086+00:00",
          "2024-10-31T08:14:30.000087+00:00",
          "2024-10-31T09:19:40.000086+00:00",
          "2024-10-31T11:20:30.000086+00:00",
          "2024-10-31T00:24:50.000086+00:00",
          "2024-10-31T01:54:30.000086+00:00",
          "2024-10-31T02:47:10.000086+00:00",
          "2024-10-31T02:54:20.000086+00:00",
          "2024-10-31T04:26:10.000086+00:00",
          "2024-10-31T10:07:40.000086+00:00",
          "2024-10-31T10:52:40.000086+00:00",
          "2024-10-31T11:43:50.000086+00:00"
         ],
         "hovertemplate": "target=Spacecraft 3-1<br>start=%{base}<br>end=%{x}<br>antenna=%{y}<extra></extra>",
         "legendgroup": "Spacecraft 3-1",
         "marker": {
          "color": "#FF6692",
          "pattern": {
           "shape": ""
          }
         },
         "name": "Spacecraft 3-1",
         "offsetgroup": "Spacecraft 3-1",
         "orientation": "h",
         "showlegend": true,
         "textposition": "auto",
         "type": "bar",
         "x": [
          730000,
          679999.999,
          420000.001,
          780000,
          670000.001,
          390000,
          470000.001,
          740000,
          10000,
          160000,
          710000,
          380000,
          110000,
          700000
         ],
         "xaxis": "x",
         "y": [
          "Paumalu",
          "Mojave",
          "Chitose",
          "Mojave",
          "Dubai",
          "Chitose",
          "Mwulire",
          "Sunyani",
          "Harmon",
          "Harmon",
          "Harmon",
          "Tahiti",
          "Mwulire",
          "Tahiti"
         ],
         "yaxis": "y"
        },
        {
         "alignmentgroup": "True",
         "base": [
          "2024-10-31T01:02:10.000086+00:00",
          "2024-10-31T02:46:30.000087+00:00",
          "2024-10-31T07:47:20.000086+00:00",
          "2024-10-31T08:06:20.000086+00:00",
          "2024-10-31T09:06:50.000086+00:00",
          "2024-10-31T11:06:30.000086+00:00",
          "2024-10-31T11:15:50.000086+00:00",
          "2024-10-31T00:13:30.000086+00:00",
          "2024-10-31T01:42:00.000086+00:00",
          "2024-10-31T02:42:30.000086+00:00",
          "2024-10-31T04:13:10.000086+00:00",
          "2024-10-31T10:38:30.000086+00:00",
          "2024-10-31T11:30:30.000087+00:00"
         ],
         "hovertemplate": "target=Spacecraft 3-2<br>start=%{base}<br>end=%{x}<br>antenna=%{y}<extra></extra>",
         "legendgroup": "Spacecraft 3-2",
         "marker": {
          "color": "#B6E880",
          "pattern": {
           "shape": ""
          }
         },
         "name": "Spacecraft 3-2",
         "offsetgroup": "Spacecraft 3-2",
         "orientation": "h",
         "showlegend": true,
         "textposition": "auto",
         "type": "bar",
         "x": [
          760000,
          349999.999,
          210000.001,
          470000,
          610000,
          430000,
          120000,
          290000,
          750000,
          50000,
          780000,
          180000,
          799999.999
         ],
         "xaxis": "x",
         "y": [
          "Paumalu",
          "Paumalu",
          "Chitose",
          "Mojave",
          "Dubai",
          "Chitose",
          "Chitose",
          "Mwulire",
          "Sunyani",
          "Harmon",
          "Harmon",
          "Mwulire",
          "Tahiti"
         ],
         "yaxis": "y"
        },
        {
         "alignmentgroup": "True",
         "base": [
          "2024-10-31T00:49:50.000087+00:00",
          "2024-10-31T02:32:30.000086+00:00",
          "2024-10-31T04:28:40.000086+00:00",
          "2024-10-31T07:36:10.000086+00:00",
          "2024-10-31T08:54:30.000086+00:00",
          "2024-10-31T09:17:00.000086+00:00",
          "2024-10-31T10:35:00.000086+00:00",
          "2024-10-31T10:53:10.000087+00:00",
          "2024-10-31T01:30:00.000086+00:00",
          "2024-10-31T04:01:10.000086+00:00",
          "2024-10-31T10:26:30.000087+00:00",
          "2024-10-31T11:18:40.000087+00:00"
         ],
         "hovertemplate": "target=Spacecraft 3-3<br>start=%{base}<br>end=%{x}<br>antenna=%{y}<extra></extra>",
         "legendgroup": "Spacecraft 3-3",
         "marker": {
          "color": "#FF97FF",
          "pattern": {
           "shape": ""
          }
         },
         "name": "Spacecraft 3-3",
         "offsetgroup": "Spacecraft 3-3",
         "orientation": "h",
         "showlegend": true,
         "textposition": "auto",
         "type": "bar",
         "x": [
          739999.999,
          470000,
          340000,
          130000.001,
          500000,
          70000,
          300000,
          640000,
          110000.001,
          720000,
          149999.999,
          699999.999
         ],
         "xaxis": "x",
         "y": [
          "Paumalu",
          "Paumalu",
          "Mojave",
          "Chitose",
          "Dubai",
          "Chitose",
          "Dubai",
          "Chitose",
          "Sunyani",
          "Harmon",
          "Mwulire",
          "Tahiti"
         ],
         "yaxis": "y"
        },
        {
         "alignmentgroup": "True",
         "base": [
          "2024-10-31T00:37:20.000086+00:00",
          "2024-10-31T02:19:10.000086+00:00",
          "2024-10-31T04:16:50.000086+00:00",
          "2024-10-31T05:55:50.000086+00:00",
          "2024-10-31T07:23:20.000086+00:00",
          "2024-10-31T08:43:50.000086+00:00",
          "2024-10-31T09:02:50.000086+00:00",
          "2024-10-31T09:18:10.000086+00:00",
          "2024-10-31T10:22:10.000086+00:00",
          "2024-10-31T10:41:20.000087+00:00",
          "2024-10-31T01:18:20.000086+00:00",
          "2024-10-31T03:02:00.000086+00:00",
          "2024-10-31T03:48:50.000086+00:00",
          "2024-10-31T05:36:10.000086+00:00",
          "2024-10-31T10:14:00.000086+00:00",
          "2024-10-31T11:06:50.000086+00:00"
         ],
         "hovertemplate": "target=Spacecraft 3-4<br>start=%{base}<br>end=%{x}<br>antenna=%{y}<extra></extra>",
         "legendgroup": "Spacecraft 3-4",
         "marker": {
          "color": "#FECB52",
          "pattern": {
           "shape": ""
          }
         },
         "name": "Spacecraft 3-4",
         "offsetgroup": "Spacecraft 3-4",
         "orientation": "h",
         "showlegend": true,
         "textposition": "auto",
         "type": "bar",
         "x": [
          750000.001,
          570000.001,
          280000,
          250000,
          150000,
          390000,
          240000,
          90000,
          290000,
          640000,
          350000.001,
          130000,
          740000,
          220000,
          240000,
          710000.001
         ],
         "xaxis": "x",
         "y": [
          "Paumalu",
          "Paumalu",
          "Mojave",
          "Mojave",
          "Chitose",
          "Dubai",
          "Chitose",
          "Mojave",
          "Dubai",
          "Chitose",
          "Sunyani",
          "Sunyani",
          "Harmon",
          "Harmon",
          "Mwulire",
          "Tahiti"
         ],
         "yaxis": "y"
        },
        {
         "alignmentgroup": "True",
         "base": [
          "2024-10-31T00:24:40.000086+00:00",
          "2024-10-31T02:06:00.000086+00:00",
          "2024-10-31T03:35:40.000086+00:00",
          "2024-10-31T04:04:30.000086+00:00",
          "2024-10-31T05:43:50.000086+00:00",
          "2024-10-31T08:34:10.000086+00:00",
          "2024-10-31T08:50:20.000086+00:00",
          "2024-10-31T08:54:10.000087+00:00",
          "2024-10-31T10:20:00.000087+00:00",
          "2024-10-31T10:29:30.000087+00:00",
          "2024-10-31T10:40:00.000086+00:00",
          "2024-10-31T00:04:10.000086+00:00",
          "2024-10-31T00:18:20.000086+00:00",
          "2024-10-31T01:10:30.000087+00:00",
          "2024-10-31T02:47:20.000086+00:00",
          "2024-10-31T03:40:40.000086+00:00",
          "2024-10-31T05:23:10.000086+00:00",
          "2024-10-31T10:02:30.000086+00:00",
          "2024-10-31T10:54:30.000086+00:00"
         ],
         "hovertemplate": "target=Spacecraft 3-5<br>start=%{base}<br>end=%{x}<br>antenna=%{y}<extra></extra>",
         "legendgroup": "Spacecraft 3-5",
         "marker": {
          "color": "#636efa",
          "pattern": {
           "shape": ""
          }
         },
         "name": "Spacecraft 3-5",
         "offsetgroup": "Spacecraft 3-5",
         "orientation": "h",
         "showlegend": true,
         "textposition": "auto",
         "type": "bar",
         "x": [
          760000,
          650000.001,
          300000,
          240000,
          680000,
          150000,
          100000,
          19999.999,
          129999.999,
          329999.999,
          10000.001,
          510000,
          390000,
          469999.999,
          420000,
          490000,
          270000,
          310000,
          740000
         ],
         "xaxis": "x",
         "y": [
          "Paumalu",
          "Paumalu",
          "Harmon",
          "Mojave",
          "Mojave",
          "Dubai",
          "Chitose",
          "Chitose",
          "Dubai",
          "Chitose",
          "Chitose",
          "Awarua",
          "Tahiti",
          "Sunyani",
          "Sunyani",
          "Harmon",
          "Harmon",
          "Mwulire",
          "Tahiti"
         ],
         "yaxis": "y"
        },
        {
         "alignmentgroup": "True",
         "base": [
          "2024-10-31T00:11:50.000086+00:00",
          "2024-10-31T01:52:50.000086+00:00",
          "2024-10-31T03:23:00.000086+00:00",
          "2024-10-31T05:03:40.000086+00:00",
          "2024-10-31T05:31:00.000086+00:00",
          "2024-10-31T08:33:00.000086+00:00",
          "2024-10-31T08:36:40.000086+00:00",
          "2024-10-31T08:41:50.000086+00:00",
          "2024-10-31T08:52:00.000086+00:00",
          "2024-10-31T09:55:20.000086+00:00",
          "2024-10-31T10:17:40.000087+00:00",
          "2024-10-31T11:36:30.000086+00:00",
          "2024-10-31T00:00:00.000086+00:00",
          "2024-10-31T00:12:40.000086+00:00",
          "2024-10-31T00:56:10.000086+00:00",
          "2024-10-31T01:31:50.000087+00:00",
          "2024-10-31T02:33:30.000086+00:00",
          "2024-10-31T09:46:50.000087+00:00",
          "2024-10-31T10:41:30.000086+00:00",
          "2024-10-31T11:30:20.000086+00:00"
         ],
         "hovertemplate": "target=Spacecraft 3-6<br>start=%{base}<br>end=%{x}<br>antenna=%{y}<extra></extra>",
         "legendgroup": "Spacecraft 3-6",
         "marker": {
          "color": "#EF553B",
          "pattern": {
           "shape": ""
          }
         },
         "name": "Spacecraft 3-6",
         "offsetgroup": "Spacecraft 3-6",
         "orientation": "h",
         "showlegend": true,
         "textposition": "auto",
         "type": "bar",
         "x": [
          770000,
          690000,
          760000,
          720000.001,
          620000,
          70000,
          130000,
          120000,
          130000.001,
          560000,
          140000,
          530000,
          250000,
          50000,
          610000,
          609999.999,
          540000,
          549999.999,
          670000,
          10000.001
         ],
         "xaxis": "x",
         "y": [
          "Paumalu",
          "Paumalu",
          "Harmon",
          "Harmon",
          "Mojave",
          "Chitose",
          "Chitose",
          "Chitose",
          "Mojave",
          "Dubai",
          "Chitose",
          "Dubai",
          "Awarua",
          "Tahiti",
          "Sunyani",
          "Awarua",
          "Sunyani",
          "Mwulire",
          "Tahiti",
          "Mwulire"
         ],
         "yaxis": "y"
        },
        {
         "alignmentgroup": "True",
         "base": [
          "2024-10-31T00:00:00.000086+00:00",
          "2024-10-31T01:39:40.000086+00:00",
          "2024-10-31T03:10:30.000086+00:00",
          "2024-10-31T04:51:00.000086+00:00",
          "2024-10-31T05:18:10.000086+00:00",
          "2024-10-31T08:27:30.000087+00:00",
          "2024-10-31T08:38:50.000086+00:00",
          "2024-10-31T09:43:00.000086+00:00",
          "2024-10-31T11:48:20.000086+00:00",
          "2024-10-31T00:44:30.000087+00:00",
          "2024-10-31T01:24:10.000087+00:00",
          "2024-10-31T02:20:10.000086+00:00",
          "2024-10-31T09:34:30.000086+00:00",
          "2024-10-31T10:29:00.000086+00:00"
         ],
         "hovertemplate": "target=Spacecraft 3-7<br>start=%{base}<br>end=%{x}<br>antenna=%{y}<extra></extra>",
         "legendgroup": "Spacecraft 3-7",
         "marker": {
          "color": "#00cc96",
          "pattern": {
           "shape": ""
          }
         },
         "name": "Spacecraft 3-7",
         "offsetgroup": "Spacecraft 3-7",
         "orientation": "h",
         "showlegend": true,
         "textposition": "auto",
         "type": "bar",
         "x": [
          710000,
          730000,
          720000,
          720000,
          570000,
          180000,
          180000,
          700000,
          190000,
          699999.999,
          349999.999,
          620000.001,
          500000,
          570000
         ],
         "xaxis": "x",
         "y": [
          "Paumalu",
          "Paumalu",
          "Harmon",
          "Harmon",
          "Mojave",
          "Chitose",
          "Mojave",
          "Dubai",
          "Chitose",
          "Sunyani",
          "Awarua",
          "Sunyani",
          "Mwulire",
          "Tahiti"
         ],
         "yaxis": "y"
        },
        {
         "alignmentgroup": "True",
         "base": [
          "2024-10-31T01:27:00.000086+00:00",
          "2024-10-31T02:58:50.000086+00:00",
          "2024-10-31T04:38:00.000086+00:00",
          "2024-10-31T06:24:40.000086+00:00",
          "2024-10-31T08:14:10.000086+00:00",
          "2024-10-31T09:30:50.000087+00:00",
          "2024-10-31T09:54:40.000086+00:00",
          "2024-10-31T10:04:40.000086+00:00",
          "2024-10-31T11:13:40.000086+00:00",
          "2024-10-31T11:31:50.000086+00:00",
          "2024-10-31T11:45:20.000086+00:00",
          "2024-10-31T00:32:40.000087+00:00",
          "2024-10-31T01:06:20.000086+00:00",
          "2024-10-31T02:07:10.000086+00:00",
          "2024-10-31T06:26:20.000086+00:00",
          "2024-10-31T06:35:50.000086+00:00",
          "2024-10-31T08:15:40.000087+00:00",
          "2024-10-31T09:23:50.000086+00:00",
          "2024-10-31T09:56:00.000086+00:00",
          "2024-10-31T10:18:00.000086+00:00"
         ],
         "hovertemplate": "target=Spacecraft 3-8<br>start=%{base}<br>end=%{x}<br>antenna=%{y}<extra></extra>",
         "legendgroup": "Spacecraft 3-8",
         "marker": {
          "color": "#ab63fa",
          "pattern": {
           "shape": ""
          }
         },
         "name": "Spacecraft 3-8",
         "offsetgroup": "Spacecraft 3-8",
         "orientation": "h",
         "showlegend": true,
         "textposition": "auto",
         "type": "bar",
         "x": [
          760000,
          660000,
          780000,
          100000,
          20000.001,
          729999.999,
          40000,
          780000.001,
          130000,
          280000,
          180000,
          710000,
          250000.001,
          700000,
          240000,
          730000.001,
          669999.999,
          360000,
          390000,
          510000.001
         ],
         "xaxis": "x",
         "y": [
          "Paumalu",
          "Harmon",
          "Harmon",
          "Chitose",
          "Chitose",
          "Dubai",
          "Chitose",
          "Paumalu",
          "Dubai",
          "Chitose",
          "Paumalu",
          "Sunyani",
          "Awarua",
          "Sunyani",
          "Chitose",
          "Utqiagvik",
          "Utqiagvik",
          "Mwulire",
          "Utqiagvik",
          "Tahiti"
         ],
         "yaxis": "y"
        }
       ],
       "layout": {
        "barmode": "overlay",
        "legend": {
         "title": {
          "text": "target"
         },
         "tracegroupgap": 0,
         "traceorder": "normal"
        },
        "template": {
         "data": {
          "bar": [
           {
            "error_x": {
             "color": "#2a3f5f"
            },
            "error_y": {
             "color": "#2a3f5f"
            },
            "marker": {
             "line": {
              "color": "#E5ECF6",
              "width": 0.5
             },
             "pattern": {
              "fillmode": "overlay",
              "size": 10,
              "solidity": 0.2
             }
            },
            "type": "bar"
           }
          ],
          "barpolar": [
           {
            "marker": {
             "line": {
              "color": "#E5ECF6",
              "width": 0.5
             },
             "pattern": {
              "fillmode": "overlay",
              "size": 10,
              "solidity": 0.2
             }
            },
            "type": "barpolar"
           }
          ],
          "carpet": [
           {
            "aaxis": {
             "endlinecolor": "#2a3f5f",
             "gridcolor": "white",
             "linecolor": "white",
             "minorgridcolor": "white",
             "startlinecolor": "#2a3f5f"
            },
            "baxis": {
             "endlinecolor": "#2a3f5f",
             "gridcolor": "white",
             "linecolor": "white",
             "minorgridcolor": "white",
             "startlinecolor": "#2a3f5f"
            },
            "type": "carpet"
           }
          ],
          "choropleth": [
           {
            "colorbar": {
             "outlinewidth": 0,
             "ticks": ""
            },
            "type": "choropleth"
           }
          ],
          "contour": [
           {
            "colorbar": {
             "outlinewidth": 0,
             "ticks": ""
            },
            "colorscale": [
             [
              0,
              "#0d0887"
             ],
             [
              0.1111111111111111,
              "#46039f"
             ],
             [
              0.2222222222222222,
              "#7201a8"
             ],
             [
              0.3333333333333333,
              "#9c179e"
             ],
             [
              0.4444444444444444,
              "#bd3786"
             ],
             [
              0.5555555555555556,
              "#d8576b"
             ],
             [
              0.6666666666666666,
              "#ed7953"
             ],
             [
              0.7777777777777778,
              "#fb9f3a"
             ],
             [
              0.8888888888888888,
              "#fdca26"
             ],
             [
              1,
              "#f0f921"
             ]
            ],
            "type": "contour"
           }
          ],
          "contourcarpet": [
           {
            "colorbar": {
             "outlinewidth": 0,
             "ticks": ""
            },
            "type": "contourcarpet"
           }
          ],
          "heatmap": [
           {
            "colorbar": {
             "outlinewidth": 0,
             "ticks": ""
            },
            "colorscale": [
             [
              0,
              "#0d0887"
             ],
             [
              0.1111111111111111,
              "#46039f"
             ],
             [
              0.2222222222222222,
              "#7201a8"
             ],
             [
              0.3333333333333333,
              "#9c179e"
             ],
             [
              0.4444444444444444,
              "#bd3786"
             ],
             [
              0.5555555555555556,
              "#d8576b"
             ],
             [
              0.6666666666666666,
              "#ed7953"
             ],
             [
              0.7777777777777778,
              "#fb9f3a"
             ],
             [
              0.8888888888888888,
              "#fdca26"
             ],
             [
              1,
              "#f0f921"
             ]
            ],
            "type": "heatmap"
           }
          ],
          "heatmapgl": [
           {
            "colorbar": {
             "outlinewidth": 0,
             "ticks": ""
            },
            "colorscale": [
             [
              0,
              "#0d0887"
             ],
             [
              0.1111111111111111,
              "#46039f"
             ],
             [
              0.2222222222222222,
              "#7201a8"
             ],
             [
              0.3333333333333333,
              "#9c179e"
             ],
             [
              0.4444444444444444,
              "#bd3786"
             ],
             [
              0.5555555555555556,
              "#d8576b"
             ],
             [
              0.6666666666666666,
              "#ed7953"
             ],
             [
              0.7777777777777778,
              "#fb9f3a"
             ],
             [
              0.8888888888888888,
              "#fdca26"
             ],
             [
              1,
              "#f0f921"
             ]
            ],
            "type": "heatmapgl"
           }
          ],
          "histogram": [
           {
            "marker": {
             "pattern": {
              "fillmode": "overlay",
              "size": 10,
              "solidity": 0.2
             }
            },
            "type": "histogram"
           }
          ],
          "histogram2d": [
           {
            "colorbar": {
             "outlinewidth": 0,
             "ticks": ""
            },
            "colorscale": [
             [
              0,
              "#0d0887"
             ],
             [
              0.1111111111111111,
              "#46039f"
             ],
             [
              0.2222222222222222,
              "#7201a8"
             ],
             [
              0.3333333333333333,
              "#9c179e"
             ],
             [
              0.4444444444444444,
              "#bd3786"
             ],
             [
              0.5555555555555556,
              "#d8576b"
             ],
             [
              0.6666666666666666,
              "#ed7953"
             ],
             [
              0.7777777777777778,
              "#fb9f3a"
             ],
             [
              0.8888888888888888,
              "#fdca26"
             ],
             [
              1,
              "#f0f921"
             ]
            ],
            "type": "histogram2d"
           }
          ],
          "histogram2dcontour": [
           {
            "colorbar": {
             "outlinewidth": 0,
             "ticks": ""
            },
            "colorscale": [
             [
              0,
              "#0d0887"
             ],
             [
              0.1111111111111111,
              "#46039f"
             ],
             [
              0.2222222222222222,
              "#7201a8"
             ],
             [
              0.3333333333333333,
              "#9c179e"
             ],
             [
              0.4444444444444444,
              "#bd3786"
             ],
             [
              0.5555555555555556,
              "#d8576b"
             ],
             [
              0.6666666666666666,
              "#ed7953"
             ],
             [
              0.7777777777777778,
              "#fb9f3a"
             ],
             [
              0.8888888888888888,
              "#fdca26"
             ],
             [
              1,
              "#f0f921"
             ]
            ],
            "type": "histogram2dcontour"
           }
          ],
          "mesh3d": [
           {
            "colorbar": {
             "outlinewidth": 0,
             "ticks": ""
            },
            "type": "mesh3d"
           }
          ],
          "parcoords": [
           {
            "line": {
             "colorbar": {
              "outlinewidth": 0,
              "ticks": ""
             }
            },
            "type": "parcoords"
           }
          ],
          "pie": [
           {
            "automargin": true,
            "type": "pie"
           }
          ],
          "scatter": [
           {
            "fillpattern": {
             "fillmode": "overlay",
             "size": 10,
             "solidity": 0.2
            },
            "type": "scatter"
           }
          ],
          "scatter3d": [
           {
            "line": {
             "colorbar": {
              "outlinewidth": 0,
              "ticks": ""
             }
            },
            "marker": {
             "colorbar": {
              "outlinewidth": 0,
              "ticks": ""
             }
            },
            "type": "scatter3d"
           }
          ],
          "scattercarpet": [
           {
            "marker": {
             "colorbar": {
              "outlinewidth": 0,
              "ticks": ""
             }
            },
            "type": "scattercarpet"
           }
          ],
          "scattergeo": [
           {
            "marker": {
             "colorbar": {
              "outlinewidth": 0,
              "ticks": ""
             }
            },
            "type": "scattergeo"
           }
          ],
          "scattergl": [
           {
            "marker": {
             "colorbar": {
              "outlinewidth": 0,
              "ticks": ""
             }
            },
            "type": "scattergl"
           }
          ],
          "scattermapbox": [
           {
            "marker": {
             "colorbar": {
              "outlinewidth": 0,
              "ticks": ""
             }
            },
            "type": "scattermapbox"
           }
          ],
          "scatterpolar": [
           {
            "marker": {
             "colorbar": {
              "outlinewidth": 0,
              "ticks": ""
             }
            },
            "type": "scatterpolar"
           }
          ],
          "scatterpolargl": [
           {
            "marker": {
             "colorbar": {
              "outlinewidth": 0,
              "ticks": ""
             }
            },
            "type": "scatterpolargl"
           }
          ],
          "scatterternary": [
           {
            "marker": {
             "colorbar": {
              "outlinewidth": 0,
              "ticks": ""
             }
            },
            "type": "scatterternary"
           }
          ],
          "surface": [
           {
            "colorbar": {
             "outlinewidth": 0,
             "ticks": ""
            },
            "colorscale": [
             [
              0,
              "#0d0887"
             ],
             [
              0.1111111111111111,
              "#46039f"
             ],
             [
              0.2222222222222222,
              "#7201a8"
             ],
             [
              0.3333333333333333,
              "#9c179e"
             ],
             [
              0.4444444444444444,
              "#bd3786"
             ],
             [
              0.5555555555555556,
              "#d8576b"
             ],
             [
              0.6666666666666666,
              "#ed7953"
             ],
             [
              0.7777777777777778,
              "#fb9f3a"
             ],
             [
              0.8888888888888888,
              "#fdca26"
             ],
             [
              1,
              "#f0f921"
             ]
            ],
            "type": "surface"
           }
          ],
          "table": [
           {
            "cells": {
             "fill": {
              "color": "#EBF0F8"
             },
             "line": {
              "color": "white"
             }
            },
            "header": {
             "fill": {
              "color": "#C8D4E3"
             },
             "line": {
              "color": "white"
             }
            },
            "type": "table"
           }
          ]
         },
         "layout": {
          "annotationdefaults": {
           "arrowcolor": "#2a3f5f",
           "arrowhead": 0,
           "arrowwidth": 1
          },
          "autotypenumbers": "strict",
          "coloraxis": {
           "colorbar": {
            "outlinewidth": 0,
            "ticks": ""
           }
          },
          "colorscale": {
           "diverging": [
            [
             0,
             "#8e0152"
            ],
            [
             0.1,
             "#c51b7d"
            ],
            [
             0.2,
             "#de77ae"
            ],
            [
             0.3,
             "#f1b6da"
            ],
            [
             0.4,
             "#fde0ef"
            ],
            [
             0.5,
             "#f7f7f7"
            ],
            [
             0.6,
             "#e6f5d0"
            ],
            [
             0.7,
             "#b8e186"
            ],
            [
             0.8,
             "#7fbc41"
            ],
            [
             0.9,
             "#4d9221"
            ],
            [
             1,
             "#276419"
            ]
           ],
           "sequential": [
            [
             0,
             "#0d0887"
            ],
            [
             0.1111111111111111,
             "#46039f"
            ],
            [
             0.2222222222222222,
             "#7201a8"
            ],
            [
             0.3333333333333333,
             "#9c179e"
            ],
            [
             0.4444444444444444,
             "#bd3786"
            ],
            [
             0.5555555555555556,
             "#d8576b"
            ],
            [
             0.6666666666666666,
             "#ed7953"
            ],
            [
             0.7777777777777778,
             "#fb9f3a"
            ],
            [
             0.8888888888888888,
             "#fdca26"
            ],
            [
             1,
             "#f0f921"
            ]
           ],
           "sequentialminus": [
            [
             0,
             "#0d0887"
            ],
            [
             0.1111111111111111,
             "#46039f"
            ],
            [
             0.2222222222222222,
             "#7201a8"
            ],
            [
             0.3333333333333333,
             "#9c179e"
            ],
            [
             0.4444444444444444,
             "#bd3786"
            ],
            [
             0.5555555555555556,
             "#d8576b"
            ],
            [
             0.6666666666666666,
             "#ed7953"
            ],
            [
             0.7777777777777778,
             "#fb9f3a"
            ],
            [
             0.8888888888888888,
             "#fdca26"
            ],
            [
             1,
             "#f0f921"
            ]
           ]
          },
          "colorway": [
           "#636efa",
           "#EF553B",
           "#00cc96",
           "#ab63fa",
           "#FFA15A",
           "#19d3f3",
           "#FF6692",
           "#B6E880",
           "#FF97FF",
           "#FECB52"
          ],
          "font": {
           "color": "#2a3f5f"
          },
          "geo": {
           "bgcolor": "white",
           "lakecolor": "white",
           "landcolor": "#E5ECF6",
           "showlakes": true,
           "showland": true,
           "subunitcolor": "white"
          },
          "hoverlabel": {
           "align": "left"
          },
          "hovermode": "closest",
          "mapbox": {
           "style": "light"
          },
          "paper_bgcolor": "white",
          "plot_bgcolor": "#E5ECF6",
          "polar": {
           "angularaxis": {
            "gridcolor": "white",
            "linecolor": "white",
            "ticks": ""
           },
           "bgcolor": "#E5ECF6",
           "radialaxis": {
            "gridcolor": "white",
            "linecolor": "white",
            "ticks": ""
           }
          },
          "scene": {
           "xaxis": {
            "backgroundcolor": "#E5ECF6",
            "gridcolor": "white",
            "gridwidth": 2,
            "linecolor": "white",
            "showbackground": true,
            "ticks": "",
            "zerolinecolor": "white"
           },
           "yaxis": {
            "backgroundcolor": "#E5ECF6",
            "gridcolor": "white",
            "gridwidth": 2,
            "linecolor": "white",
            "showbackground": true,
            "ticks": "",
            "zerolinecolor": "white"
           },
           "zaxis": {
            "backgroundcolor": "#E5ECF6",
            "gridcolor": "white",
            "gridwidth": 2,
            "linecolor": "white",
            "showbackground": true,
            "ticks": "",
            "zerolinecolor": "white"
           }
          },
          "shapedefaults": {
           "line": {
            "color": "#2a3f5f"
           }
          },
          "ternary": {
           "aaxis": {
            "gridcolor": "white",
            "linecolor": "white",
            "ticks": ""
           },
           "baxis": {
            "gridcolor": "white",
            "linecolor": "white",
            "ticks": ""
           },
           "bgcolor": "#E5ECF6",
           "caxis": {
            "gridcolor": "white",
            "linecolor": "white",
            "ticks": ""
           }
          },
          "title": {
           "x": 0.05
          },
          "xaxis": {
           "automargin": true,
           "gridcolor": "white",
           "linecolor": "white",
           "ticks": "",
           "title": {
            "standoff": 15
           },
           "zerolinecolor": "white",
           "zerolinewidth": 2
          },
          "yaxis": {
           "automargin": true,
           "gridcolor": "white",
           "linecolor": "white",
           "ticks": "",
           "title": {
            "standoff": 15
           },
           "zerolinecolor": "white",
           "zerolinewidth": 2
          }
         }
        },
        "title": {
         "text": "Up/Downlink Schedule"
        },
        "xaxis": {
         "anchor": "y",
         "domain": [
          0,
          1
         ],
         "type": "date"
        },
        "yaxis": {
         "anchor": "x",
         "categoryorder": "category descending",
         "domain": [
          0,
          1
         ],
         "title": {
          "text": "antenna"
         }
        }
       }
      }
     },
     "metadata": {},
     "output_type": "display_data"
    },
    {
     "data": {
      "application/vnd.plotly.v1+json": {
       "config": {
        "plotlyServerURL": "https://plot.ly"
       },
       "data": [
        {
         "alignmentgroup": "True",
         "base": [
          "2024-10-31T00:21:10.000086+00:00",
          "2024-10-31T01:52:10.000086+00:00",
          "2024-10-31T03:33:00.000086+00:00",
          "2024-10-31T05:16:10.000086+00:00",
          "2024-10-31T08:38:40.000086+00:00",
          "2024-10-31T00:05:00.000086+00:00",
          "2024-10-31T01:39:40.000086+00:00",
          "2024-10-31T03:20:40.000086+00:00",
          "2024-10-31T05:01:40.000086+00:00",
          "2024-10-31T06:44:00.000086+00:00",
          "2024-10-31T08:21:40.000086+00:00",
          "2024-10-31T01:27:00.000086+00:00",
          "2024-10-31T03:07:40.000086+00:00",
          "2024-10-31T04:48:40.000086+00:00",
          "2024-10-31T06:33:40.000086+00:00",
          "2024-10-31T08:09:50.000086+00:00",
          "2024-10-31T01:14:10.000086+00:00",
          "2024-10-31T02:54:50.000086+00:00",
          "2024-10-31T04:35:30.000086+00:00",
          "2024-10-31T08:06:20.000086+00:00",
          "2024-10-31T01:01:50.000086+00:00",
          "2024-10-31T02:42:30.000086+00:00",
          "2024-10-31T04:23:30.000086+00:00",
          "2024-10-31T07:49:00.000087+00:00",
          "2024-10-31T00:49:30.000086+00:00",
          "2024-10-31T02:30:10.000086+00:00",
          "2024-10-31T04:11:20.000086+00:00",
          "2024-10-31T05:52:50.000086+00:00",
          "2024-10-31T07:35:50.000086+00:00",
          "2024-10-31T09:15:00.000086+00:00",
          "2024-10-31T00:36:40.000086+00:00",
          "2024-10-31T02:17:20.000086+00:00",
          "2024-10-31T03:58:10.000086+00:00",
          "2024-10-31T05:44:40.000087+00:00",
          "2024-10-31T09:03:40.000087+00:00",
          "2024-10-31T00:23:10.000087+00:00",
          "2024-10-31T00:28:50.000086+00:00",
          "2024-10-31T02:03:30.000086+00:00",
          "2024-10-31T03:44:30.000087+00:00",
          "2024-10-31T05:25:10.000087+00:00",
          "2024-10-31T08:52:00.000086+00:00",
          "2024-10-31T00:27:30.000086+00:00",
          "2024-10-31T09:46:50.000087+00:00",
          "2024-10-31T11:27:50.000086+00:00",
          "2024-10-31T11:36:30.000086+00:00",
          "2024-10-31T09:33:20.000086+00:00",
          "2024-10-31T11:14:00.000086+00:00",
          "2024-10-31T09:19:20.000086+00:00",
          "2024-10-31T11:01:40.000086+00:00",
          "2024-10-31T11:13:50.000086+00:00",
          "2024-10-31T09:08:00.000086+00:00",
          "2024-10-31T10:49:40.000086+00:00",
          "2024-10-31T08:55:30.000086+00:00",
          "2024-10-31T10:37:10.000087+00:00",
          "2024-10-31T08:43:00.000086+00:00",
          "2024-10-31T10:23:40.000086+00:00",
          "2024-10-31T10:35:10.000086+00:00",
          "2024-10-31T08:31:50.000086+00:00",
          "2024-10-31T10:10:00.000086+00:00",
          "2024-10-31T10:20:00.000087+00:00",
          "2024-10-31T11:50:40.000086+00:00",
          "2024-10-31T09:56:20.000087+00:00",
          "2024-10-31T11:37:10.000086+00:00"
         ],
         "hovertemplate": "antenna=Dundee<br>start=%{base}<br>end=%{x}<br>target=%{y}<extra></extra>",
         "legendgroup": "Dundee",
         "marker": {
          "color": "#636efa",
          "pattern": {
           "shape": ""
          }
         },
         "name": "Dundee",
         "offsetgroup": "Dundee",
         "orientation": "h",
         "showlegend": true,
         "textposition": "auto",
         "type": "bar",
         "x": [
          120000.001,
          680000,
          690000.001,
          540000.001,
          190000,
          380000.001,
          750000,
          740000,
          320000,
          70000,
          370000,
          760000,
          780000,
          780000,
          270000,
          640000,
          770000,
          770000,
          790000,
          80000,
          740000,
          740000,
          720000,
          39999.999,
          740000,
          740000,
          730000,
          430000,
          10000.001,
          210000,
          770000,
          770000,
          790000,
          369999.999,
          179999.999,
          99999.999,
          470000,
          830000,
          819999.999,
          829999.999,
          130000.001,
          80000,
          570000,
          90000,
          40000,
          810000.001,
          110000,
          830000,
          60000.001,
          10000,
          350000,
          110000,
          350000,
          180000,
          270000,
          210000,
          120000.001,
          120000,
          280000.001,
          219999.999,
          80000,
          819999.999,
          810000
         ],
         "xaxis": "x",
         "y": [
          "Spacecraft 1-1",
          "Spacecraft 1-1",
          "Spacecraft 1-1",
          "Spacecraft 1-1",
          "Spacecraft 1-1",
          "Spacecraft 1-2",
          "Spacecraft 1-2",
          "Spacecraft 1-2",
          "Spacecraft 1-2",
          "Spacecraft 1-2",
          "Spacecraft 1-2",
          "Spacecraft 1-3",
          "Spacecraft 1-3",
          "Spacecraft 1-3",
          "Spacecraft 1-3",
          "Spacecraft 1-3",
          "Spacecraft 1-4",
          "Spacecraft 1-4",
          "Spacecraft 1-4",
          "Spacecraft 1-4",
          "Spacecraft 1-5",
          "Spacecraft 1-5",
          "Spacecraft 1-5",
          "Spacecraft 1-5",
          "Spacecraft 1-6",
          "Spacecraft 1-6",
          "Spacecraft 1-6",
          "Spacecraft 1-6",
          "Spacecraft 1-6",
          "Spacecraft 1-6",
          "Spacecraft 1-7",
          "Spacecraft 1-7",
          "Spacecraft 1-7",
          "Spacecraft 1-7",
          "Spacecraft 1-7",
          "Spacecraft 1-8",
          "Spacecraft 1-8",
          "Spacecraft 1-8",
          "Spacecraft 1-8",
          "Spacecraft 1-8",
          "Spacecraft 1-8",
          "Spacecraft 1-8",
          "Spacecraft 2-1",
          "Spacecraft 2-1",
          "Spacecraft 2-1",
          "Spacecraft 2-2",
          "Spacecraft 2-2",
          "Spacecraft 2-3",
          "Spacecraft 2-3",
          "Spacecraft 2-3",
          "Spacecraft 2-4",
          "Spacecraft 2-4",
          "Spacecraft 2-5",
          "Spacecraft 2-5",
          "Spacecraft 2-6",
          "Spacecraft 2-6",
          "Spacecraft 2-6",
          "Spacecraft 2-7",
          "Spacecraft 2-7",
          "Spacecraft 2-7",
          "Spacecraft 2-7",
          "Spacecraft 2-8",
          "Spacecraft 2-8"
         ],
         "yaxis": "y"
        },
        {
         "alignmentgroup": "True",
         "base": [
          "2024-10-31T11:27:00.000086+00:00",
          "2024-10-31T00:11:20.000087+00:00",
          "2024-10-31T00:00:00.000086+00:00",
          "2024-10-31T11:51:30.000086+00:00",
          "2024-10-31T11:38:50.000086+00:00",
          "2024-10-31T00:05:00.000086+00:00",
          "2024-10-31T01:43:50.000086+00:00",
          "2024-10-31T03:25:30.000087+00:00",
          "2024-10-31T05:07:30.000086+00:00",
          "2024-10-31T06:47:40.000086+00:00",
          "2024-10-31T01:31:10.000086+00:00",
          "2024-10-31T03:13:10.000086+00:00",
          "2024-10-31T04:54:10.000086+00:00",
          "2024-10-31T06:35:00.000087+00:00",
          "2024-10-31T01:20:20.000086+00:00",
          "2024-10-31T03:00:20.000086+00:00",
          "2024-10-31T04:41:00.000086+00:00",
          "2024-10-31T06:21:40.000086+00:00",
          "2024-10-31T06:30:20.000086+00:00",
          "2024-10-31T08:05:00.000087+00:00",
          "2024-10-31T01:09:30.000086+00:00",
          "2024-10-31T02:47:20.000086+00:00",
          "2024-10-31T04:28:40.000086+00:00",
          "2024-10-31T06:09:50.000086+00:00",
          "2024-10-31T07:50:50.000087+00:00",
          "2024-10-31T00:57:20.000086+00:00",
          "2024-10-31T02:35:00.000086+00:00",
          "2024-10-31T04:16:20.000086+00:00",
          "2024-10-31T05:58:00.000086+00:00",
          "2024-10-31T06:00:10.000086+00:00",
          "2024-10-31T07:38:20.000087+00:00",
          "2024-10-31T00:45:00.000086+00:00",
          "2024-10-31T02:22:20.000086+00:00",
          "2024-10-31T04:03:40.000086+00:00",
          "2024-10-31T05:44:50.000086+00:00",
          "2024-10-31T07:26:00.000086+00:00",
          "2024-10-31T00:26:30.000086+00:00",
          "2024-10-31T02:09:30.000086+00:00",
          "2024-10-31T03:50:40.000086+00:00",
          "2024-10-31T05:31:40.000087+00:00",
          "2024-10-31T07:12:20.000087+00:00",
          "2024-10-31T00:16:10.000086+00:00",
          "2024-10-31T01:56:30.000086+00:00",
          "2024-10-31T03:37:50.000086+00:00",
          "2024-10-31T05:18:10.000086+00:00",
          "2024-10-31T06:59:00.000086+00:00",
          "2024-10-31T07:58:00.000086+00:00",
          "2024-10-31T11:20:30.000086+00:00",
          "2024-10-31T07:47:20.000086+00:00",
          "2024-10-31T11:06:30.000086+00:00",
          "2024-10-31T11:15:50.000086+00:00",
          "2024-10-31T07:36:10.000086+00:00",
          "2024-10-31T09:17:00.000086+00:00",
          "2024-10-31T10:53:10.000087+00:00",
          "2024-10-31T07:23:20.000086+00:00",
          "2024-10-31T09:02:50.000086+00:00",
          "2024-10-31T10:41:20.000087+00:00",
          "2024-10-31T08:50:20.000086+00:00",
          "2024-10-31T08:54:10.000087+00:00",
          "2024-10-31T10:29:30.000087+00:00",
          "2024-10-31T10:40:00.000086+00:00",
          "2024-10-31T08:33:00.000086+00:00",
          "2024-10-31T08:36:40.000086+00:00",
          "2024-10-31T08:41:50.000086+00:00",
          "2024-10-31T10:17:40.000087+00:00",
          "2024-10-31T08:27:30.000087+00:00",
          "2024-10-31T11:48:20.000086+00:00",
          "2024-10-31T06:24:40.000086+00:00",
          "2024-10-31T08:14:10.000086+00:00",
          "2024-10-31T09:54:40.000086+00:00",
          "2024-10-31T11:31:50.000086+00:00",
          "2024-10-31T06:26:20.000086+00:00"
         ],
         "hovertemplate": "antenna=Chitose<br>start=%{base}<br>end=%{x}<br>target=%{y}<extra></extra>",
         "legendgroup": "Chitose",
         "marker": {
          "color": "#EF553B",
          "pattern": {
           "shape": ""
          }
         },
         "name": "Chitose",
         "offsetgroup": "Chitose",
         "orientation": "h",
         "showlegend": true,
         "textposition": "auto",
         "type": "bar",
         "x": [
          290000,
          289999.999,
          300000,
          380000,
          460000.001,
          380000.001,
          610000,
          699999.999,
          640000,
          680000,
          610000.001,
          690000,
          800000,
          759999.999,
          490000,
          660000.001,
          790000,
          180000,
          260000,
          289999.999,
          120000,
          650000,
          740000,
          710000,
          429999.999,
          70000,
          630000,
          740000,
          120000,
          580000,
          539999.999,
          30000,
          640000,
          760000,
          790000,
          610000,
          380000,
          610000,
          740000,
          789999.999,
          669999.999,
          530000,
          610000,
          710000,
          810000.001,
          700000,
          420000.001,
          390000,
          210000.001,
          430000,
          120000,
          130000.001,
          70000,
          640000,
          150000,
          240000,
          640000,
          100000,
          19999.999,
          329999.999,
          10000.001,
          70000,
          130000,
          120000,
          140000,
          180000,
          190000,
          100000,
          20000.001,
          40000,
          280000,
          240000
         ],
         "xaxis": "x",
         "y": [
          "Spacecraft 1-1",
          "Spacecraft 1-3",
          "Spacecraft 1-4",
          "Spacecraft 1-7",
          "Spacecraft 1-8",
          "Spacecraft 2-1",
          "Spacecraft 2-1",
          "Spacecraft 2-1",
          "Spacecraft 2-1",
          "Spacecraft 2-1",
          "Spacecraft 2-2",
          "Spacecraft 2-2",
          "Spacecraft 2-2",
          "Spacecraft 2-2",
          "Spacecraft 2-3",
          "Spacecraft 2-3",
          "Spacecraft 2-3",
          "Spacecraft 2-3",
          "Spacecraft 2-3",
          "Spacecraft 2-3",
          "Spacecraft 2-4",
          "Spacecraft 2-4",
          "Spacecraft 2-4",
          "Spacecraft 2-4",
          "Spacecraft 2-4",
          "Spacecraft 2-5",
          "Spacecraft 2-5",
          "Spacecraft 2-5",
          "Spacecraft 2-5",
          "Spacecraft 2-5",
          "Spacecraft 2-5",
          "Spacecraft 2-6",
          "Spacecraft 2-6",
          "Spacecraft 2-6",
          "Spacecraft 2-6",
          "Spacecraft 2-6",
          "Spacecraft 2-7",
          "Spacecraft 2-7",
          "Spacecraft 2-7",
          "Spacecraft 2-7",
          "Spacecraft 2-7",
          "Spacecraft 2-8",
          "Spacecraft 2-8",
          "Spacecraft 2-8",
          "Spacecraft 2-8",
          "Spacecraft 2-8",
          "Spacecraft 3-1",
          "Spacecraft 3-1",
          "Spacecraft 3-2",
          "Spacecraft 3-2",
          "Spacecraft 3-2",
          "Spacecraft 3-3",
          "Spacecraft 3-3",
          "Spacecraft 3-3",
          "Spacecraft 3-4",
          "Spacecraft 3-4",
          "Spacecraft 3-4",
          "Spacecraft 3-5",
          "Spacecraft 3-5",
          "Spacecraft 3-5",
          "Spacecraft 3-5",
          "Spacecraft 3-6",
          "Spacecraft 3-6",
          "Spacecraft 3-6",
          "Spacecraft 3-6",
          "Spacecraft 3-7",
          "Spacecraft 3-7",
          "Spacecraft 3-8",
          "Spacecraft 3-8",
          "Spacecraft 3-8",
          "Spacecraft 3-8",
          "Spacecraft 3-8"
         ],
         "yaxis": "y"
        },
        {
         "alignmentgroup": "True",
         "base": [
          "2024-10-31T00:43:20.000087+00:00",
          "2024-10-31T11:16:20.000086+00:00",
          "2024-10-31T00:29:50.000086+00:00",
          "2024-10-31T11:04:30.000086+00:00",
          "2024-10-31T00:16:40.000087+00:00",
          "2024-10-31T10:53:20.000086+00:00",
          "2024-10-31T00:03:40.000087+00:00",
          "2024-10-31T10:40:30.000086+00:00",
          "2024-10-31T10:47:40.000086+00:00",
          "2024-10-31T00:00:00.000086+00:00",
          "2024-10-31T10:28:00.000086+00:00",
          "2024-10-31T10:17:50.000086+00:00",
          "2024-10-31T11:42:20.000087+00:00",
          "2024-10-31T00:57:30.000087+00:00",
          "2024-10-31T11:28:50.000086+00:00",
          "2024-10-31T07:03:30.000086+00:00",
          "2024-10-31T08:37:00.000087+00:00",
          "2024-10-31T06:50:40.000086+00:00",
          "2024-10-31T08:24:10.000086+00:00",
          "2024-10-31T06:38:00.000087+00:00",
          "2024-10-31T08:10:20.000087+00:00",
          "2024-10-31T08:03:10.000086+00:00",
          "2024-10-31T07:36:30.000086+00:00",
          "2024-10-31T07:19:10.000086+00:00",
          "2024-10-31T07:14:50.000086+00:00",
          "2024-10-31T08:50:20.000086+00:00",
          "2024-10-31T02:47:10.000086+00:00",
          "2024-10-31T02:54:20.000086+00:00",
          "2024-10-31T04:26:10.000086+00:00",
          "2024-10-31T02:42:30.000086+00:00",
          "2024-10-31T04:13:10.000086+00:00",
          "2024-10-31T04:01:10.000086+00:00",
          "2024-10-31T03:48:50.000086+00:00",
          "2024-10-31T05:36:10.000086+00:00",
          "2024-10-31T03:35:40.000086+00:00",
          "2024-10-31T03:40:40.000086+00:00",
          "2024-10-31T05:23:10.000086+00:00",
          "2024-10-31T03:23:00.000086+00:00",
          "2024-10-31T05:03:40.000086+00:00",
          "2024-10-31T03:10:30.000086+00:00",
          "2024-10-31T04:51:00.000086+00:00",
          "2024-10-31T02:58:50.000086+00:00",
          "2024-10-31T04:38:00.000086+00:00"
         ],
         "hovertemplate": "antenna=Harmon<br>start=%{base}<br>end=%{x}<br>target=%{y}<extra></extra>",
         "legendgroup": "Harmon",
         "marker": {
          "color": "#00cc96",
          "pattern": {
           "shape": ""
          }
         },
         "name": "Harmon",
         "offsetgroup": "Harmon",
         "orientation": "h",
         "showlegend": true,
         "textposition": "auto",
         "type": "bar",
         "x": [
          429999.999,
          710000,
          560000.001,
          710000,
          649999.999,
          670000,
          699999.999,
          20000,
          160000,
          200000,
          460000,
          320000,
          819999.999,
          239999.999,
          780000,
          120000,
          460000,
          130000,
          570000,
          70000,
          640000,
          310000,
          10000,
          270000,
          260000,
          240000,
          10000,
          160000,
          710000,
          50000,
          780000,
          720000,
          740000,
          220000,
          300000,
          490000,
          270000,
          760000,
          720000.001,
          720000,
          720000,
          660000,
          780000
         ],
         "xaxis": "x",
         "y": [
          "Spacecraft 1-1",
          "Spacecraft 1-1",
          "Spacecraft 1-2",
          "Spacecraft 1-2",
          "Spacecraft 1-3",
          "Spacecraft 1-3",
          "Spacecraft 1-4",
          "Spacecraft 1-4",
          "Spacecraft 1-4",
          "Spacecraft 1-5",
          "Spacecraft 1-5",
          "Spacecraft 1-6",
          "Spacecraft 1-7",
          "Spacecraft 1-8",
          "Spacecraft 1-8",
          "Spacecraft 2-1",
          "Spacecraft 2-1",
          "Spacecraft 2-2",
          "Spacecraft 2-2",
          "Spacecraft 2-3",
          "Spacecraft 2-3",
          "Spacecraft 2-4",
          "Spacecraft 2-6",
          "Spacecraft 2-7",
          "Spacecraft 2-8",
          "Spacecraft 2-8",
          "Spacecraft 3-1",
          "Spacecraft 3-1",
          "Spacecraft 3-1",
          "Spacecraft 3-2",
          "Spacecraft 3-2",
          "Spacecraft 3-3",
          "Spacecraft 3-4",
          "Spacecraft 3-4",
          "Spacecraft 3-5",
          "Spacecraft 3-5",
          "Spacecraft 3-5",
          "Spacecraft 3-6",
          "Spacecraft 3-6",
          "Spacecraft 3-7",
          "Spacecraft 3-7",
          "Spacecraft 3-8",
          "Spacecraft 3-8"
         ],
         "yaxis": "y"
        },
        {
         "alignmentgroup": "True",
         "base": [
          "2024-10-31T02:10:30.000086+00:00",
          "2024-10-31T03:47:10.000086+00:00",
          "2024-10-31T03:34:40.000086+00:00",
          "2024-10-31T05:25:20.000086+00:00",
          "2024-10-31T03:22:30.000086+00:00",
          "2024-10-31T05:12:30.000086+00:00",
          "2024-10-31T03:09:50.000086+00:00",
          "2024-10-31T04:58:40.000086+00:00",
          "2024-10-31T02:57:20.000086+00:00",
          "2024-10-31T04:44:30.000086+00:00",
          "2024-10-31T06:19:50.000086+00:00",
          "2024-10-31T02:45:30.000086+00:00",
          "2024-10-31T02:54:40.000086+00:00",
          "2024-10-31T04:25:50.000086+00:00",
          "2024-10-31T04:30:40.000087+00:00",
          "2024-10-31T06:07:10.000087+00:00",
          "2024-10-31T02:33:40.000086+00:00",
          "2024-10-31T04:12:40.000086+00:00",
          "2024-10-31T06:00:10.000086+00:00",
          "2024-10-31T02:21:40.000086+00:00",
          "2024-10-31T03:59:20.000086+00:00",
          "2024-10-31T01:25:10.000086+00:00",
          "2024-10-31T01:33:00.000087+00:00",
          "2024-10-31T11:48:20.000086+00:00",
          "2024-10-31T11:29:20.000086+00:00",
          "2024-10-31T01:13:20.000086+00:00",
          "2024-10-31T11:15:50.000086+00:00",
          "2024-10-31T01:01:40.000087+00:00",
          "2024-10-31T11:02:40.000087+00:00",
          "2024-10-31T00:50:20.000086+00:00",
          "2024-10-31T02:27:40.000086+00:00",
          "2024-10-31T02:32:30.000086+00:00",
          "2024-10-31T10:51:30.000086+00:00",
          "2024-10-31T02:15:00.000086+00:00",
          "2024-10-31T02:19:10.000086+00:00",
          "2024-10-31T10:40:10.000087+00:00",
          "2024-10-31T02:02:00.000086+00:00",
          "2024-10-31T02:12:40.000086+00:00",
          "2024-10-31T10:27:10.000086+00:00",
          "2024-10-31T01:49:20.000086+00:00",
          "2024-10-31T10:14:40.000087+00:00",
          "2024-10-31T01:37:10.000087+00:00",
          "2024-10-31T09:19:40.000086+00:00",
          "2024-10-31T09:06:50.000086+00:00",
          "2024-10-31T08:54:30.000086+00:00",
          "2024-10-31T10:35:00.000086+00:00",
          "2024-10-31T08:43:50.000086+00:00",
          "2024-10-31T10:22:10.000086+00:00",
          "2024-10-31T08:34:10.000086+00:00",
          "2024-10-31T10:20:00.000087+00:00",
          "2024-10-31T09:55:20.000086+00:00",
          "2024-10-31T11:36:30.000086+00:00",
          "2024-10-31T09:43:00.000086+00:00",
          "2024-10-31T09:30:50.000087+00:00",
          "2024-10-31T11:13:40.000086+00:00"
         ],
         "hovertemplate": "antenna=Dubai<br>start=%{base}<br>end=%{x}<br>target=%{y}<extra></extra>",
         "legendgroup": "Dubai",
         "marker": {
          "color": "#ab63fa",
          "pattern": {
           "shape": ""
          }
         },
         "name": "Dubai",
         "offsetgroup": "Dubai",
         "orientation": "h",
         "showlegend": true,
         "textposition": "auto",
         "type": "bar",
         "x": [
          130000,
          730000,
          750000,
          30000,
          730000,
          90000,
          680000,
          220000,
          620000,
          330000,
          370000,
          430000,
          10000,
          80000,
          429999.999,
          500000,
          490000,
          790000,
          250000,
          360000,
          800000,
          280000,
          199999.999,
          220000,
          430000,
          610000,
          720000,
          509999.999,
          669999.999,
          360000.001,
          60000.001,
          70000,
          610000,
          110000.001,
          150000,
          569999.999,
          510000,
          140000,
          480000,
          760000,
          320000,
          719999.999,
          670000.001,
          610000,
          500000,
          300000,
          390000,
          290000,
          150000,
          129999.999,
          560000,
          530000,
          700000,
          729999.999,
          130000
         ],
         "xaxis": "x",
         "y": [
          "Spacecraft 1-1",
          "Spacecraft 1-1",
          "Spacecraft 1-2",
          "Spacecraft 1-2",
          "Spacecraft 1-3",
          "Spacecraft 1-3",
          "Spacecraft 1-4",
          "Spacecraft 1-4",
          "Spacecraft 1-5",
          "Spacecraft 1-5",
          "Spacecraft 1-5",
          "Spacecraft 1-6",
          "Spacecraft 1-6",
          "Spacecraft 1-6",
          "Spacecraft 1-6",
          "Spacecraft 1-6",
          "Spacecraft 1-7",
          "Spacecraft 1-7",
          "Spacecraft 1-7",
          "Spacecraft 1-8",
          "Spacecraft 1-8",
          "Spacecraft 2-1",
          "Spacecraft 2-1",
          "Spacecraft 2-1",
          "Spacecraft 2-2",
          "Spacecraft 2-2",
          "Spacecraft 2-3",
          "Spacecraft 2-3",
          "Spacecraft 2-4",
          "Spacecraft 2-4",
          "Spacecraft 2-4",
          "Spacecraft 2-4",
          "Spacecraft 2-5",
          "Spacecraft 2-5",
          "Spacecraft 2-5",
          "Spacecraft 2-6",
          "Spacecraft 2-6",
          "Spacecraft 2-6",
          "Spacecraft 2-7",
          "Spacecraft 2-7",
          "Spacecraft 2-8",
          "Spacecraft 2-8",
          "Spacecraft 3-1",
          "Spacecraft 3-2",
          "Spacecraft 3-3",
          "Spacecraft 3-3",
          "Spacecraft 3-4",
          "Spacecraft 3-4",
          "Spacecraft 3-5",
          "Spacecraft 3-5",
          "Spacecraft 3-6",
          "Spacecraft 3-6",
          "Spacecraft 3-7",
          "Spacecraft 3-8",
          "Spacecraft 3-8"
         ],
         "yaxis": "y"
        },
        {
         "alignmentgroup": "True",
         "base": [
          "2024-10-31T04:37:50.000086+00:00",
          "2024-10-31T04:27:10.000086+00:00",
          "2024-10-31T05:51:30.000086+00:00",
          "2024-10-31T05:38:30.000086+00:00",
          "2024-10-31T05:25:50.000086+00:00",
          "2024-10-31T05:14:00.000086+00:00",
          "2024-10-31T05:02:20.000086+00:00",
          "2024-10-31T04:50:00.000086+00:00",
          "2024-10-31T06:00:10.000086+00:00",
          "2024-10-31T10:07:40.000086+00:00",
          "2024-10-31T11:43:50.000086+00:00",
          "2024-10-31T11:30:30.000087+00:00",
          "2024-10-31T11:18:40.000087+00:00",
          "2024-10-31T11:06:50.000086+00:00",
          "2024-10-31T00:18:20.000086+00:00",
          "2024-10-31T10:54:30.000086+00:00",
          "2024-10-31T00:12:40.000086+00:00",
          "2024-10-31T10:41:30.000086+00:00",
          "2024-10-31T10:29:00.000086+00:00",
          "2024-10-31T10:18:00.000086+00:00"
         ],
         "hovertemplate": "antenna=Tahiti<br>start=%{base}<br>end=%{x}<br>target=%{y}<extra></extra>",
         "legendgroup": "Tahiti",
         "marker": {
          "color": "#FFA15A",
          "pattern": {
           "shape": ""
          }
         },
         "name": "Tahiti",
         "offsetgroup": "Tahiti",
         "orientation": "h",
         "showlegend": true,
         "textposition": "auto",
         "type": "bar",
         "x": [
          400000,
          210000.001,
          510000,
          760000.001,
          710000,
          680000,
          610000,
          520000,
          420000.001,
          380000,
          700000,
          799999.999,
          699999.999,
          710000.001,
          390000,
          740000,
          50000,
          670000,
          570000,
          510000.001
         ],
         "xaxis": "x",
         "y": [
          "Spacecraft 1-1",
          "Spacecraft 1-2",
          "Spacecraft 1-3",
          "Spacecraft 1-4",
          "Spacecraft 1-5",
          "Spacecraft 1-6",
          "Spacecraft 1-7",
          "Spacecraft 1-8",
          "Spacecraft 2-7",
          "Spacecraft 3-1",
          "Spacecraft 3-1",
          "Spacecraft 3-2",
          "Spacecraft 3-3",
          "Spacecraft 3-4",
          "Spacecraft 3-5",
          "Spacecraft 3-5",
          "Spacecraft 3-6",
          "Spacecraft 3-6",
          "Spacecraft 3-7",
          "Spacecraft 3-8"
         ],
         "yaxis": "y"
        },
        {
         "alignmentgroup": "True",
         "base": [
          "2024-10-31T05:37:40.000086+00:00",
          "2024-10-31T05:51:10.000087+00:00",
          "2024-10-31T01:29:50.000086+00:00",
          "2024-10-31T00:24:50.000086+00:00",
          "2024-10-31T10:52:40.000086+00:00",
          "2024-10-31T00:13:30.000086+00:00",
          "2024-10-31T10:38:30.000086+00:00",
          "2024-10-31T10:26:30.000087+00:00",
          "2024-10-31T10:14:00.000086+00:00",
          "2024-10-31T10:02:30.000086+00:00",
          "2024-10-31T09:46:50.000087+00:00",
          "2024-10-31T11:30:20.000086+00:00",
          "2024-10-31T09:34:30.000086+00:00",
          "2024-10-31T09:23:50.000086+00:00"
         ],
         "hovertemplate": "antenna=Mwulire<br>start=%{base}<br>end=%{x}<br>target=%{y}<extra></extra>",
         "legendgroup": "Mwulire",
         "marker": {
          "color": "#19d3f3",
          "pattern": {
           "shape": ""
          }
         },
         "name": "Mwulire",
         "offsetgroup": "Mwulire",
         "orientation": "h",
         "showlegend": true,
         "textposition": "auto",
         "type": "bar",
         "x": [
          50000,
          19999.999,
          190000.001,
          470000.001,
          110000,
          290000,
          180000,
          149999.999,
          240000,
          310000,
          549999.999,
          10000.001,
          500000,
          360000
         ],
         "xaxis": "x",
         "y": [
          "Spacecraft 1-1",
          "Spacecraft 1-8",
          "Spacecraft 2-8",
          "Spacecraft 3-1",
          "Spacecraft 3-1",
          "Spacecraft 3-2",
          "Spacecraft 3-2",
          "Spacecraft 3-3",
          "Spacecraft 3-4",
          "Spacecraft 3-5",
          "Spacecraft 3-6",
          "Spacecraft 3-6",
          "Spacecraft 3-7",
          "Spacecraft 3-8"
         ],
         "yaxis": "y"
        },
        {
         "alignmentgroup": "True",
         "base": [
          "2024-10-31T08:05:40.000086+00:00",
          "2024-10-31T09:45:40.000087+00:00",
          "2024-10-31T07:53:30.000086+00:00",
          "2024-10-31T09:34:10.000086+00:00",
          "2024-10-31T07:41:20.000087+00:00",
          "2024-10-31T09:21:30.000086+00:00",
          "2024-10-31T07:28:20.000087+00:00",
          "2024-10-31T09:17:20.000086+00:00",
          "2024-10-31T07:15:50.000087+00:00",
          "2024-10-31T08:56:00.000086+00:00",
          "2024-10-31T10:39:00.000087+00:00",
          "2024-10-31T07:04:40.000086+00:00",
          "2024-10-31T08:44:20.000086+00:00",
          "2024-10-31T10:26:30.000087+00:00",
          "2024-10-31T06:54:00.000087+00:00",
          "2024-10-31T08:30:50.000086+00:00",
          "2024-10-31T10:17:40.000087+00:00",
          "2024-10-31T06:43:20.000087+00:00",
          "2024-10-31T08:17:30.000086+00:00",
          "2024-10-31T09:59:30.000086+00:00",
          "2024-10-31T03:39:40.000086+00:00",
          "2024-10-31T03:26:50.000086+00:00",
          "2024-10-31T03:14:10.000086+00:00",
          "2024-10-31T03:02:00.000086+00:00",
          "2024-10-31T04:45:10.000086+00:00",
          "2024-10-31T02:52:20.000086+00:00",
          "2024-10-31T04:32:30.000086+00:00",
          "2024-10-31T02:40:20.000086+00:00",
          "2024-10-31T04:18:40.000086+00:00",
          "2024-10-31T02:28:40.000087+00:00",
          "2024-10-31T04:04:40.000086+00:00",
          "2024-10-31T02:16:50.000087+00:00",
          "2024-10-31T03:51:30.000086+00:00",
          "2024-10-31T01:14:50.000086+00:00",
          "2024-10-31T01:02:10.000086+00:00",
          "2024-10-31T02:46:30.000087+00:00",
          "2024-10-31T00:49:50.000087+00:00",
          "2024-10-31T02:32:30.000086+00:00",
          "2024-10-31T00:37:20.000086+00:00",
          "2024-10-31T02:19:10.000086+00:00",
          "2024-10-31T00:24:40.000086+00:00",
          "2024-10-31T02:06:00.000086+00:00",
          "2024-10-31T00:11:50.000086+00:00",
          "2024-10-31T01:52:50.000086+00:00",
          "2024-10-31T00:00:00.000086+00:00",
          "2024-10-31T01:39:40.000086+00:00",
          "2024-10-31T01:27:00.000086+00:00",
          "2024-10-31T10:04:40.000086+00:00",
          "2024-10-31T11:45:20.000086+00:00"
         ],
         "hovertemplate": "antenna=Paumalu<br>start=%{base}<br>end=%{x}<br>target=%{y}<extra></extra>",
         "legendgroup": "Paumalu",
         "marker": {
          "color": "#FF6692",
          "pattern": {
           "shape": ""
          }
         },
         "name": "Paumalu",
         "offsetgroup": "Paumalu",
         "orientation": "h",
         "showlegend": true,
         "textposition": "auto",
         "type": "bar",
         "x": [
          710000,
          679999.999,
          720000,
          690000.001,
          729999.999,
          760000,
          249999.999,
          210000.001,
          259999.999,
          70000,
          89999.999,
          540000,
          700000,
          89999.999,
          419999.999,
          810000,
          9999.999,
          129999.999,
          800000,
          300000,
          710000,
          770000,
          760000,
          730000,
          30000,
          580000,
          90000,
          370000.001,
          220000,
          229999.999,
          340000,
          139999.999,
          450000,
          730000,
          760000,
          349999.999,
          739999.999,
          470000,
          750000.001,
          570000.001,
          760000,
          650000.001,
          770000,
          690000,
          710000,
          730000,
          760000,
          780000.001,
          180000
         ],
         "xaxis": "x",
         "y": [
          "Spacecraft 1-1",
          "Spacecraft 1-1",
          "Spacecraft 1-2",
          "Spacecraft 1-2",
          "Spacecraft 1-3",
          "Spacecraft 1-3",
          "Spacecraft 1-4",
          "Spacecraft 1-4",
          "Spacecraft 1-5",
          "Spacecraft 1-5",
          "Spacecraft 1-5",
          "Spacecraft 1-6",
          "Spacecraft 1-6",
          "Spacecraft 1-6",
          "Spacecraft 1-7",
          "Spacecraft 1-7",
          "Spacecraft 1-7",
          "Spacecraft 1-8",
          "Spacecraft 1-8",
          "Spacecraft 1-8",
          "Spacecraft 2-1",
          "Spacecraft 2-2",
          "Spacecraft 2-3",
          "Spacecraft 2-4",
          "Spacecraft 2-4",
          "Spacecraft 2-5",
          "Spacecraft 2-5",
          "Spacecraft 2-6",
          "Spacecraft 2-6",
          "Spacecraft 2-7",
          "Spacecraft 2-7",
          "Spacecraft 2-8",
          "Spacecraft 2-8",
          "Spacecraft 3-1",
          "Spacecraft 3-2",
          "Spacecraft 3-2",
          "Spacecraft 3-3",
          "Spacecraft 3-3",
          "Spacecraft 3-4",
          "Spacecraft 3-4",
          "Spacecraft 3-5",
          "Spacecraft 3-5",
          "Spacecraft 3-6",
          "Spacecraft 3-6",
          "Spacecraft 3-7",
          "Spacecraft 3-7",
          "Spacecraft 3-8",
          "Spacecraft 3-8",
          "Spacecraft 3-8"
         ],
         "yaxis": "y"
        },
        {
         "alignmentgroup": "True",
         "base": [
          "2024-10-31T10:04:30.000086+00:00",
          "2024-10-31T06:21:40.000086+00:00",
          "2024-10-31T08:02:10.000086+00:00",
          "2024-10-31T06:08:30.000086+00:00",
          "2024-10-31T07:49:40.000086+00:00",
          "2024-10-31T09:35:00.000087+00:00",
          "2024-10-31T06:00:10.000086+00:00",
          "2024-10-31T07:36:00.000087+00:00",
          "2024-10-31T09:20:30.000086+00:00",
          "2024-10-31T07:24:10.000087+00:00",
          "2024-10-31T09:06:40.000086+00:00",
          "2024-10-31T07:12:20.000087+00:00",
          "2024-10-31T08:54:10.000087+00:00",
          "2024-10-31T06:58:50.000086+00:00",
          "2024-10-31T08:41:50.000086+00:00",
          "2024-10-31T10:29:00.000086+00:00",
          "2024-10-31T05:07:00.000086+00:00",
          "2024-10-31T06:45:10.000086+00:00",
          "2024-10-31T08:27:50.000086+00:00",
          "2024-10-31T10:14:40.000087+00:00",
          "2024-10-31T01:24:30.000086+00:00",
          "2024-10-31T01:11:30.000086+00:00",
          "2024-10-31T00:58:30.000086+00:00",
          "2024-10-31T00:45:30.000086+00:00",
          "2024-10-31T00:32:50.000086+00:00",
          "2024-10-31T06:33:50.000087+00:00",
          "2024-10-31T08:14:30.000087+00:00",
          "2024-10-31T08:06:20.000086+00:00",
          "2024-10-31T04:28:40.000086+00:00",
          "2024-10-31T04:16:50.000086+00:00",
          "2024-10-31T05:55:50.000086+00:00",
          "2024-10-31T09:18:10.000086+00:00",
          "2024-10-31T04:04:30.000086+00:00",
          "2024-10-31T05:43:50.000086+00:00",
          "2024-10-31T05:31:00.000086+00:00",
          "2024-10-31T08:52:00.000086+00:00",
          "2024-10-31T05:18:10.000086+00:00",
          "2024-10-31T08:38:50.000086+00:00"
         ],
         "hovertemplate": "antenna=Mojave<br>start=%{base}<br>end=%{x}<br>target=%{y}<extra></extra>",
         "legendgroup": "Mojave",
         "marker": {
          "color": "#B6E880",
          "pattern": {
           "shape": ""
          }
         },
         "name": "Mojave",
         "offsetgroup": "Mojave",
         "orientation": "h",
         "showlegend": true,
         "textposition": "auto",
         "type": "bar",
         "x": [
          10000,
          720000,
          250000,
          790000,
          750000,
          399999.999,
          500000,
          780000,
          470000,
          699999.999,
          500000,
          710000,
          570000,
          810000.001,
          610000,
          140000,
          550000,
          820000,
          650000,
          180000,
          40000,
          530000,
          660000,
          710000,
          730000,
          679999.999,
          780000,
          470000,
          340000,
          280000,
          250000,
          90000,
          240000,
          680000,
          620000,
          130000.001,
          570000,
          180000
         ],
         "xaxis": "x",
         "y": [
          "Spacecraft 1-1",
          "Spacecraft 1-2",
          "Spacecraft 1-2",
          "Spacecraft 1-3",
          "Spacecraft 1-3",
          "Spacecraft 1-3",
          "Spacecraft 1-4",
          "Spacecraft 1-4",
          "Spacecraft 1-4",
          "Spacecraft 1-5",
          "Spacecraft 1-5",
          "Spacecraft 1-6",
          "Spacecraft 1-6",
          "Spacecraft 1-7",
          "Spacecraft 1-7",
          "Spacecraft 1-7",
          "Spacecraft 1-8",
          "Spacecraft 1-8",
          "Spacecraft 1-8",
          "Spacecraft 1-8",
          "Spacecraft 2-4",
          "Spacecraft 2-5",
          "Spacecraft 2-6",
          "Spacecraft 2-7",
          "Spacecraft 2-8",
          "Spacecraft 3-1",
          "Spacecraft 3-1",
          "Spacecraft 3-2",
          "Spacecraft 3-3",
          "Spacecraft 3-4",
          "Spacecraft 3-4",
          "Spacecraft 3-4",
          "Spacecraft 3-5",
          "Spacecraft 3-5",
          "Spacecraft 3-6",
          "Spacecraft 3-6",
          "Spacecraft 3-7",
          "Spacecraft 3-7"
         ],
         "yaxis": "y"
        },
        {
         "alignmentgroup": "True",
         "base": [
          "2024-10-31T07:32:30.000086+00:00",
          "2024-10-31T09:10:50.000086+00:00",
          "2024-10-31T07:20:10.000086+00:00",
          "2024-10-31T08:57:10.000086+00:00",
          "2024-10-31T10:40:50.000086+00:00",
          "2024-10-31T04:34:00.000086+00:00",
          "2024-10-31T06:21:00.000086+00:00",
          "2024-10-31T04:22:20.000086+00:00",
          "2024-10-31T06:07:10.000087+00:00",
          "2024-10-31T04:10:20.000086+00:00",
          "2024-10-31T05:48:20.000086+00:00",
          "2024-10-31T03:59:00.000086+00:00",
          "2024-10-31T05:36:20.000086+00:00",
          "2024-10-31T05:24:20.000086+00:00",
          "2024-10-31T07:05:30.000086+00:00",
          "2024-10-31T05:11:00.000086+00:00",
          "2024-10-31T06:52:50.000086+00:00",
          "2024-10-31T04:58:10.000086+00:00",
          "2024-10-31T06:39:10.000087+00:00",
          "2024-10-31T04:45:40.000086+00:00",
          "2024-10-31T06:25:30.000087+00:00",
          "2024-10-31T01:54:30.000086+00:00",
          "2024-10-31T01:42:00.000086+00:00",
          "2024-10-31T01:30:00.000086+00:00",
          "2024-10-31T01:18:20.000086+00:00",
          "2024-10-31T03:02:00.000086+00:00",
          "2024-10-31T01:10:30.000087+00:00",
          "2024-10-31T02:47:20.000086+00:00",
          "2024-10-31T00:56:10.000086+00:00",
          "2024-10-31T02:33:30.000086+00:00",
          "2024-10-31T00:44:30.000087+00:00",
          "2024-10-31T02:20:10.000086+00:00",
          "2024-10-31T00:32:40.000087+00:00",
          "2024-10-31T02:07:10.000086+00:00"
         ],
         "hovertemplate": "antenna=Sunyani<br>start=%{base}<br>end=%{x}<br>target=%{y}<extra></extra>",
         "legendgroup": "Sunyani",
         "marker": {
          "color": "#FF97FF",
          "pattern": {
           "shape": ""
          }
         },
         "name": "Sunyani",
         "offsetgroup": "Sunyani",
         "orientation": "h",
         "showlegend": true,
         "textposition": "auto",
         "type": "bar",
         "x": [
          530000.001,
          390000,
          370000,
          820000,
          410000,
          670000,
          270000.001,
          610000,
          320000,
          500000,
          700000,
          310000,
          720000,
          720000,
          560000,
          800000,
          640000,
          770000,
          689999.999,
          720000,
          750000,
          740000,
          750000,
          110000.001,
          350000.001,
          130000,
          469999.999,
          420000,
          610000,
          540000,
          699999.999,
          620000.001,
          710000,
          700000
         ],
         "xaxis": "x",
         "y": [
          "Spacecraft 1-7",
          "Spacecraft 1-7",
          "Spacecraft 1-8",
          "Spacecraft 1-8",
          "Spacecraft 1-8",
          "Spacecraft 2-1",
          "Spacecraft 2-1",
          "Spacecraft 2-2",
          "Spacecraft 2-2",
          "Spacecraft 2-3",
          "Spacecraft 2-3",
          "Spacecraft 2-4",
          "Spacecraft 2-4",
          "Spacecraft 2-5",
          "Spacecraft 2-5",
          "Spacecraft 2-6",
          "Spacecraft 2-6",
          "Spacecraft 2-7",
          "Spacecraft 2-7",
          "Spacecraft 2-8",
          "Spacecraft 2-8",
          "Spacecraft 3-1",
          "Spacecraft 3-2",
          "Spacecraft 3-3",
          "Spacecraft 3-4",
          "Spacecraft 3-4",
          "Spacecraft 3-5",
          "Spacecraft 3-5",
          "Spacecraft 3-6",
          "Spacecraft 3-6",
          "Spacecraft 3-7",
          "Spacecraft 3-7",
          "Spacecraft 3-8",
          "Spacecraft 3-8"
         ],
         "yaxis": "y"
        },
        {
         "alignmentgroup": "True",
         "base": [
          "2024-10-31T01:10:30.000087+00:00",
          "2024-10-31T02:52:40.000086+00:00",
          "2024-10-31T06:12:30.000087+00:00",
          "2024-10-31T07:49:40.000086+00:00",
          "2024-10-31T09:30:30.000086+00:00",
          "2024-10-31T11:13:00.000086+00:00",
          "2024-10-31T07:36:40.000086+00:00",
          "2024-10-31T09:16:50.000086+00:00",
          "2024-10-31T10:59:10.000086+00:00",
          "2024-10-31T07:23:40.000086+00:00",
          "2024-10-31T09:03:20.000086+00:00",
          "2024-10-31T10:45:30.000087+00:00",
          "2024-10-31T00:04:10.000086+00:00",
          "2024-10-31T00:00:00.000086+00:00",
          "2024-10-31T01:31:50.000087+00:00",
          "2024-10-31T01:24:10.000087+00:00",
          "2024-10-31T01:06:20.000086+00:00"
         ],
         "hovertemplate": "antenna=Awarua<br>start=%{base}<br>end=%{x}<br>target=%{y}<extra></extra>",
         "legendgroup": "Awarua",
         "marker": {
          "color": "#FECB52",
          "pattern": {
           "shape": ""
          }
         },
         "name": "Awarua",
         "offsetgroup": "Awarua",
         "orientation": "h",
         "showlegend": true,
         "textposition": "auto",
         "type": "bar",
         "x": [
          820000,
          120000,
          509999.999,
          810000,
          810000,
          290000,
          780000,
          810000,
          720000,
          770000,
          810000,
          729999.999,
          510000,
          250000,
          609999.999,
          349999.999,
          250000.001
         ],
         "xaxis": "x",
         "y": [
          "Spacecraft 1-8",
          "Spacecraft 1-8",
          "Spacecraft 2-6",
          "Spacecraft 2-6",
          "Spacecraft 2-6",
          "Spacecraft 2-6",
          "Spacecraft 2-7",
          "Spacecraft 2-7",
          "Spacecraft 2-7",
          "Spacecraft 2-8",
          "Spacecraft 2-8",
          "Spacecraft 2-8",
          "Spacecraft 3-5",
          "Spacecraft 3-6",
          "Spacecraft 3-6",
          "Spacecraft 3-7",
          "Spacecraft 3-8"
         ],
         "yaxis": "y"
        },
        {
         "alignmentgroup": "True",
         "base": [
          "2024-10-31T06:35:50.000086+00:00",
          "2024-10-31T08:15:40.000087+00:00",
          "2024-10-31T09:56:00.000086+00:00"
         ],
         "hovertemplate": "antenna=Utqiagvik<br>start=%{base}<br>end=%{x}<br>target=%{y}<extra></extra>",
         "legendgroup": "Utqiagvik",
         "marker": {
          "color": "#636efa",
          "pattern": {
           "shape": ""
          }
         },
         "name": "Utqiagvik",
         "offsetgroup": "Utqiagvik",
         "orientation": "h",
         "showlegend": true,
         "textposition": "auto",
         "type": "bar",
         "x": [
          730000.001,
          669999.999,
          390000
         ],
         "xaxis": "x",
         "y": [
          "Spacecraft 3-8",
          "Spacecraft 3-8",
          "Spacecraft 3-8"
         ],
         "yaxis": "y"
        }
       ],
       "layout": {
        "barmode": "overlay",
        "legend": {
         "title": {
          "text": "antenna"
         },
         "tracegroupgap": 0
        },
        "template": {
         "data": {
          "bar": [
           {
            "error_x": {
             "color": "#2a3f5f"
            },
            "error_y": {
             "color": "#2a3f5f"
            },
            "marker": {
             "line": {
              "color": "#E5ECF6",
              "width": 0.5
             },
             "pattern": {
              "fillmode": "overlay",
              "size": 10,
              "solidity": 0.2
             }
            },
            "type": "bar"
           }
          ],
          "barpolar": [
           {
            "marker": {
             "line": {
              "color": "#E5ECF6",
              "width": 0.5
             },
             "pattern": {
              "fillmode": "overlay",
              "size": 10,
              "solidity": 0.2
             }
            },
            "type": "barpolar"
           }
          ],
          "carpet": [
           {
            "aaxis": {
             "endlinecolor": "#2a3f5f",
             "gridcolor": "white",
             "linecolor": "white",
             "minorgridcolor": "white",
             "startlinecolor": "#2a3f5f"
            },
            "baxis": {
             "endlinecolor": "#2a3f5f",
             "gridcolor": "white",
             "linecolor": "white",
             "minorgridcolor": "white",
             "startlinecolor": "#2a3f5f"
            },
            "type": "carpet"
           }
          ],
          "choropleth": [
           {
            "colorbar": {
             "outlinewidth": 0,
             "ticks": ""
            },
            "type": "choropleth"
           }
          ],
          "contour": [
           {
            "colorbar": {
             "outlinewidth": 0,
             "ticks": ""
            },
            "colorscale": [
             [
              0,
              "#0d0887"
             ],
             [
              0.1111111111111111,
              "#46039f"
             ],
             [
              0.2222222222222222,
              "#7201a8"
             ],
             [
              0.3333333333333333,
              "#9c179e"
             ],
             [
              0.4444444444444444,
              "#bd3786"
             ],
             [
              0.5555555555555556,
              "#d8576b"
             ],
             [
              0.6666666666666666,
              "#ed7953"
             ],
             [
              0.7777777777777778,
              "#fb9f3a"
             ],
             [
              0.8888888888888888,
              "#fdca26"
             ],
             [
              1,
              "#f0f921"
             ]
            ],
            "type": "contour"
           }
          ],
          "contourcarpet": [
           {
            "colorbar": {
             "outlinewidth": 0,
             "ticks": ""
            },
            "type": "contourcarpet"
           }
          ],
          "heatmap": [
           {
            "colorbar": {
             "outlinewidth": 0,
             "ticks": ""
            },
            "colorscale": [
             [
              0,
              "#0d0887"
             ],
             [
              0.1111111111111111,
              "#46039f"
             ],
             [
              0.2222222222222222,
              "#7201a8"
             ],
             [
              0.3333333333333333,
              "#9c179e"
             ],
             [
              0.4444444444444444,
              "#bd3786"
             ],
             [
              0.5555555555555556,
              "#d8576b"
             ],
             [
              0.6666666666666666,
              "#ed7953"
             ],
             [
              0.7777777777777778,
              "#fb9f3a"
             ],
             [
              0.8888888888888888,
              "#fdca26"
             ],
             [
              1,
              "#f0f921"
             ]
            ],
            "type": "heatmap"
           }
          ],
          "heatmapgl": [
           {
            "colorbar": {
             "outlinewidth": 0,
             "ticks": ""
            },
            "colorscale": [
             [
              0,
              "#0d0887"
             ],
             [
              0.1111111111111111,
              "#46039f"
             ],
             [
              0.2222222222222222,
              "#7201a8"
             ],
             [
              0.3333333333333333,
              "#9c179e"
             ],
             [
              0.4444444444444444,
              "#bd3786"
             ],
             [
              0.5555555555555556,
              "#d8576b"
             ],
             [
              0.6666666666666666,
              "#ed7953"
             ],
             [
              0.7777777777777778,
              "#fb9f3a"
             ],
             [
              0.8888888888888888,
              "#fdca26"
             ],
             [
              1,
              "#f0f921"
             ]
            ],
            "type": "heatmapgl"
           }
          ],
          "histogram": [
           {
            "marker": {
             "pattern": {
              "fillmode": "overlay",
              "size": 10,
              "solidity": 0.2
             }
            },
            "type": "histogram"
           }
          ],
          "histogram2d": [
           {
            "colorbar": {
             "outlinewidth": 0,
             "ticks": ""
            },
            "colorscale": [
             [
              0,
              "#0d0887"
             ],
             [
              0.1111111111111111,
              "#46039f"
             ],
             [
              0.2222222222222222,
              "#7201a8"
             ],
             [
              0.3333333333333333,
              "#9c179e"
             ],
             [
              0.4444444444444444,
              "#bd3786"
             ],
             [
              0.5555555555555556,
              "#d8576b"
             ],
             [
              0.6666666666666666,
              "#ed7953"
             ],
             [
              0.7777777777777778,
              "#fb9f3a"
             ],
             [
              0.8888888888888888,
              "#fdca26"
             ],
             [
              1,
              "#f0f921"
             ]
            ],
            "type": "histogram2d"
           }
          ],
          "histogram2dcontour": [
           {
            "colorbar": {
             "outlinewidth": 0,
             "ticks": ""
            },
            "colorscale": [
             [
              0,
              "#0d0887"
             ],
             [
              0.1111111111111111,
              "#46039f"
             ],
             [
              0.2222222222222222,
              "#7201a8"
             ],
             [
              0.3333333333333333,
              "#9c179e"
             ],
             [
              0.4444444444444444,
              "#bd3786"
             ],
             [
              0.5555555555555556,
              "#d8576b"
             ],
             [
              0.6666666666666666,
              "#ed7953"
             ],
             [
              0.7777777777777778,
              "#fb9f3a"
             ],
             [
              0.8888888888888888,
              "#fdca26"
             ],
             [
              1,
              "#f0f921"
             ]
            ],
            "type": "histogram2dcontour"
           }
          ],
          "mesh3d": [
           {
            "colorbar": {
             "outlinewidth": 0,
             "ticks": ""
            },
            "type": "mesh3d"
           }
          ],
          "parcoords": [
           {
            "line": {
             "colorbar": {
              "outlinewidth": 0,
              "ticks": ""
             }
            },
            "type": "parcoords"
           }
          ],
          "pie": [
           {
            "automargin": true,
            "type": "pie"
           }
          ],
          "scatter": [
           {
            "fillpattern": {
             "fillmode": "overlay",
             "size": 10,
             "solidity": 0.2
            },
            "type": "scatter"
           }
          ],
          "scatter3d": [
           {
            "line": {
             "colorbar": {
              "outlinewidth": 0,
              "ticks": ""
             }
            },
            "marker": {
             "colorbar": {
              "outlinewidth": 0,
              "ticks": ""
             }
            },
            "type": "scatter3d"
           }
          ],
          "scattercarpet": [
           {
            "marker": {
             "colorbar": {
              "outlinewidth": 0,
              "ticks": ""
             }
            },
            "type": "scattercarpet"
           }
          ],
          "scattergeo": [
           {
            "marker": {
             "colorbar": {
              "outlinewidth": 0,
              "ticks": ""
             }
            },
            "type": "scattergeo"
           }
          ],
          "scattergl": [
           {
            "marker": {
             "colorbar": {
              "outlinewidth": 0,
              "ticks": ""
             }
            },
            "type": "scattergl"
           }
          ],
          "scattermapbox": [
           {
            "marker": {
             "colorbar": {
              "outlinewidth": 0,
              "ticks": ""
             }
            },
            "type": "scattermapbox"
           }
          ],
          "scatterpolar": [
           {
            "marker": {
             "colorbar": {
              "outlinewidth": 0,
              "ticks": ""
             }
            },
            "type": "scatterpolar"
           }
          ],
          "scatterpolargl": [
           {
            "marker": {
             "colorbar": {
              "outlinewidth": 0,
              "ticks": ""
             }
            },
            "type": "scatterpolargl"
           }
          ],
          "scatterternary": [
           {
            "marker": {
             "colorbar": {
              "outlinewidth": 0,
              "ticks": ""
             }
            },
            "type": "scatterternary"
           }
          ],
          "surface": [
           {
            "colorbar": {
             "outlinewidth": 0,
             "ticks": ""
            },
            "colorscale": [
             [
              0,
              "#0d0887"
             ],
             [
              0.1111111111111111,
              "#46039f"
             ],
             [
              0.2222222222222222,
              "#7201a8"
             ],
             [
              0.3333333333333333,
              "#9c179e"
             ],
             [
              0.4444444444444444,
              "#bd3786"
             ],
             [
              0.5555555555555556,
              "#d8576b"
             ],
             [
              0.6666666666666666,
              "#ed7953"
             ],
             [
              0.7777777777777778,
              "#fb9f3a"
             ],
             [
              0.8888888888888888,
              "#fdca26"
             ],
             [
              1,
              "#f0f921"
             ]
            ],
            "type": "surface"
           }
          ],
          "table": [
           {
            "cells": {
             "fill": {
              "color": "#EBF0F8"
             },
             "line": {
              "color": "white"
             }
            },
            "header": {
             "fill": {
              "color": "#C8D4E3"
             },
             "line": {
              "color": "white"
             }
            },
            "type": "table"
           }
          ]
         },
         "layout": {
          "annotationdefaults": {
           "arrowcolor": "#2a3f5f",
           "arrowhead": 0,
           "arrowwidth": 1
          },
          "autotypenumbers": "strict",
          "coloraxis": {
           "colorbar": {
            "outlinewidth": 0,
            "ticks": ""
           }
          },
          "colorscale": {
           "diverging": [
            [
             0,
             "#8e0152"
            ],
            [
             0.1,
             "#c51b7d"
            ],
            [
             0.2,
             "#de77ae"
            ],
            [
             0.3,
             "#f1b6da"
            ],
            [
             0.4,
             "#fde0ef"
            ],
            [
             0.5,
             "#f7f7f7"
            ],
            [
             0.6,
             "#e6f5d0"
            ],
            [
             0.7,
             "#b8e186"
            ],
            [
             0.8,
             "#7fbc41"
            ],
            [
             0.9,
             "#4d9221"
            ],
            [
             1,
             "#276419"
            ]
           ],
           "sequential": [
            [
             0,
             "#0d0887"
            ],
            [
             0.1111111111111111,
             "#46039f"
            ],
            [
             0.2222222222222222,
             "#7201a8"
            ],
            [
             0.3333333333333333,
             "#9c179e"
            ],
            [
             0.4444444444444444,
             "#bd3786"
            ],
            [
             0.5555555555555556,
             "#d8576b"
            ],
            [
             0.6666666666666666,
             "#ed7953"
            ],
            [
             0.7777777777777778,
             "#fb9f3a"
            ],
            [
             0.8888888888888888,
             "#fdca26"
            ],
            [
             1,
             "#f0f921"
            ]
           ],
           "sequentialminus": [
            [
             0,
             "#0d0887"
            ],
            [
             0.1111111111111111,
             "#46039f"
            ],
            [
             0.2222222222222222,
             "#7201a8"
            ],
            [
             0.3333333333333333,
             "#9c179e"
            ],
            [
             0.4444444444444444,
             "#bd3786"
            ],
            [
             0.5555555555555556,
             "#d8576b"
            ],
            [
             0.6666666666666666,
             "#ed7953"
            ],
            [
             0.7777777777777778,
             "#fb9f3a"
            ],
            [
             0.8888888888888888,
             "#fdca26"
            ],
            [
             1,
             "#f0f921"
            ]
           ]
          },
          "colorway": [
           "#636efa",
           "#EF553B",
           "#00cc96",
           "#ab63fa",
           "#FFA15A",
           "#19d3f3",
           "#FF6692",
           "#B6E880",
           "#FF97FF",
           "#FECB52"
          ],
          "font": {
           "color": "#2a3f5f"
          },
          "geo": {
           "bgcolor": "white",
           "lakecolor": "white",
           "landcolor": "#E5ECF6",
           "showlakes": true,
           "showland": true,
           "subunitcolor": "white"
          },
          "hoverlabel": {
           "align": "left"
          },
          "hovermode": "closest",
          "mapbox": {
           "style": "light"
          },
          "paper_bgcolor": "white",
          "plot_bgcolor": "#E5ECF6",
          "polar": {
           "angularaxis": {
            "gridcolor": "white",
            "linecolor": "white",
            "ticks": ""
           },
           "bgcolor": "#E5ECF6",
           "radialaxis": {
            "gridcolor": "white",
            "linecolor": "white",
            "ticks": ""
           }
          },
          "scene": {
           "xaxis": {
            "backgroundcolor": "#E5ECF6",
            "gridcolor": "white",
            "gridwidth": 2,
            "linecolor": "white",
            "showbackground": true,
            "ticks": "",
            "zerolinecolor": "white"
           },
           "yaxis": {
            "backgroundcolor": "#E5ECF6",
            "gridcolor": "white",
            "gridwidth": 2,
            "linecolor": "white",
            "showbackground": true,
            "ticks": "",
            "zerolinecolor": "white"
           },
           "zaxis": {
            "backgroundcolor": "#E5ECF6",
            "gridcolor": "white",
            "gridwidth": 2,
            "linecolor": "white",
            "showbackground": true,
            "ticks": "",
            "zerolinecolor": "white"
           }
          },
          "shapedefaults": {
           "line": {
            "color": "#2a3f5f"
           }
          },
          "ternary": {
           "aaxis": {
            "gridcolor": "white",
            "linecolor": "white",
            "ticks": ""
           },
           "baxis": {
            "gridcolor": "white",
            "linecolor": "white",
            "ticks": ""
           },
           "bgcolor": "#E5ECF6",
           "caxis": {
            "gridcolor": "white",
            "linecolor": "white",
            "ticks": ""
           }
          },
          "title": {
           "x": 0.05
          },
          "xaxis": {
           "automargin": true,
           "gridcolor": "white",
           "linecolor": "white",
           "ticks": "",
           "title": {
            "standoff": 15
           },
           "zerolinecolor": "white",
           "zerolinewidth": 2
          },
          "yaxis": {
           "automargin": true,
           "gridcolor": "white",
           "linecolor": "white",
           "ticks": "",
           "title": {
            "standoff": 15
           },
           "zerolinecolor": "white",
           "zerolinewidth": 2
          }
         }
        },
        "title": {
         "text": "Up/Downlink Schedule (Per Spacecraft)"
        },
        "xaxis": {
         "anchor": "y",
         "domain": [
          0,
          1
         ],
         "type": "date"
        },
        "yaxis": {
         "anchor": "x",
         "categoryorder": "category descending",
         "domain": [
          0,
          1
         ],
         "title": {
          "text": "target"
         }
        }
       }
      }
     },
     "metadata": {},
     "output_type": "display_data"
    }
   ],
   "source": [
    "def make_contact_schedule_plots(template, ground_segment_results):\n",
    "    plot_data = schedule_table(template, ground_segment_results)\n",
    "    fig = px.timeline(plot_data, x_start='start', x_end='end', y='antenna', color='target', title='Up/Downlink Schedule')\n",
    "    fig.update_yaxes(categoryorder='category descending')\n",
    "    # Alphabetize legend\n",
    "    fig.update_legends(traceorder='normal')\n",
    "    fig.show()\n",
    "\n",
    "    # Same thing, but with y-axis and legend swapped\n",
    "    fig = px.timeline(plot_data, x_start='start', x_end='end', color='antenna', y='target', title='Up/Downlink Schedule (Per Spacecraft)')\n",
    "    fig.update_yaxes(categoryorder='category descending')\n",
    "    fig.show()\n",
    "\n",
    "make_contact_schedule_plots(template, ground_segment_results)"
   ]
  },
  {
   "cell_type": "markdown",
   "metadata": {},
   "source": [
    "## Plot target-antenna availability\n",
    "\n",
    "Here we will plot the target-antenna analytics. There are three categories of availability.\n",
    "\n",
    "Access - This occurs when a spacecraft within line-of-sight of a particular antenna (including obscuration by an\n",
    "elevation mask). This is an input to the `ContactScheduler`.\n",
    "\n",
    "InFov - This occurs when a spacecraft is in the field of view associated with a particular antenna. In the case of this\n",
    "simulation, the FoV will slew if an antenna has a scheduled contact.\n",
    "\n",
    "Connected - This occurs when data is flowing between a spacecraft and a particular antenna.\n",
    "\n",
    "In addition to the time series, which we plot below, there are also summary statistics (mean, max, min, number, etc.)\n",
    "available for each definition of contact and gaps between contacts. For example, a target has a state variable\n",
    "`accessMetrics` that will contain (among other things) the mean gap duration between access to that target. It also has\n",
    "a `perCommDeviceAccessMetrics`, which contains the same statistics per antenna."
   ]
  },
  {
   "cell_type": "code",
   "execution_count": 5,
   "metadata": {},
   "outputs": [
    {
     "data": {
      "application/vnd.plotly.v1+json": {
       "config": {
        "plotlyServerURL": "https://plot.ly"
       },
       "data": [
        {
         "alignmentgroup": "True",
         "base": [
          "2024-10-31T00:11:00.000086+00:00",
          "2024-10-31T01:51:00.000086+00:00",
          "2024-10-31T03:31:40.000086+00:00",
          "2024-10-31T05:12:20.000086+00:00",
          "2024-10-31T06:52:50.000086+00:00",
          "2024-10-31T08:34:00.000087+00:00",
          "2024-10-31T11:26:50.000086+00:00",
          "2024-10-31T04:55:00.000086+00:00",
          "2024-10-31T06:32:10.000086+00:00",
          "2024-10-31T08:14:10.000086+00:00",
          "2024-10-31T10:00:00.000086+00:00",
          "2024-10-31T11:45:10.000086+00:00",
          "2024-10-31T02:10:40.000086+00:00",
          "2024-10-31T03:46:50.000087+00:00",
          "2024-10-31T05:27:30.000087+00:00",
          "2024-10-31T08:04:20.000086+00:00",
          "2024-10-31T09:45:30.000086+00:00",
          "2024-10-31T00:43:30.000086+00:00",
          "2024-10-31T11:15:40.000087+00:00",
          "2024-10-31T08:44:00.000086+00:00",
          "2024-10-31T10:26:20.000086+00:00",
          "2024-10-31T05:34:20.000086+00:00",
          "2024-10-31T07:10:20.000086+00:00",
          "2024-10-31T08:54:00.000086+00:00",
          "2024-10-31T04:38:00.000086+00:00",
          "2024-10-31T06:15:20.000086+00:00",
          "2024-10-31T07:57:40.000086+00:00",
          "2024-10-31T00:58:00.000086+00:00",
          "2024-10-31T02:39:50.000086+00:00",
          "2024-10-31T04:22:00.000086+00:00",
          "2024-10-31T06:03:00.000087+00:00",
          "2024-10-31T07:43:30.000086+00:00",
          "2024-10-31T09:24:40.000086+00:00",
          "2024-10-31T09:57:30.000087+00:00",
          "2024-10-31T11:35:00.000086+00:00"
         ],
         "hovertemplate": "type=access<br>start=%{base}<br>end=%{x}<br>antenna=%{y}<extra></extra>",
         "legendgroup": "access",
         "marker": {
          "color": "#636efa",
          "pattern": {
           "shape": ""
          }
         },
         "name": "access",
         "offsetgroup": "access",
         "orientation": "h",
         "showlegend": true,
         "textposition": "auto",
         "type": "bar",
         "x": [
          790000,
          820000,
          820000,
          820000,
          780000.001,
          539999.999,
          300000,
          530000.001,
          820000,
          690000,
          270000,
          80000.001,
          130000,
          769999.999,
          710000,
          790000,
          700000,
          430000,
          749999.999,
          800000,
          530000,
          310000,
          810000,
          400000.001,
          400000,
          820000,
          520000,
          810000,
          740000,
          700000.001,
          779999.999,
          810000,
          610000,
          549999.999,
          690000.001
         ],
         "xaxis": "x",
         "y": [
          "Dundee",
          "Dundee",
          "Dundee",
          "Dundee",
          "Dundee",
          "Dundee",
          "Chitose",
          "Mojave",
          "Mojave",
          "Mojave",
          "Mojave",
          "Mojave",
          "Dubai",
          "Dubai",
          "Dubai",
          "Paumalu",
          "Paumalu",
          "Harmon",
          "Harmon",
          "Sunyani",
          "Sunyani",
          "Mwulire",
          "Mwulire",
          "Mwulire",
          "Tahiti",
          "Tahiti",
          "Tahiti",
          "Awarua",
          "Awarua",
          "Awarua",
          "Awarua",
          "Awarua",
          "Awarua",
          "Utqiagvik",
          "Utqiagvik"
         ],
         "yaxis": "y"
        },
        {
         "alignmentgroup": "True",
         "base": [
          "2024-10-31T00:21:10.000086+00:00",
          "2024-10-31T01:52:10.000086+00:00",
          "2024-10-31T03:33:00.000086+00:00",
          "2024-10-31T05:12:20.000086+00:00",
          "2024-10-31T06:53:40.000086+00:00",
          "2024-10-31T08:34:00.000087+00:00",
          "2024-10-31T08:38:40.000086+00:00",
          "2024-10-31T11:27:00.000086+00:00",
          "2024-10-31T05:01:00.000086+00:00",
          "2024-10-31T06:40:30.000086+00:00",
          "2024-10-31T08:17:10.000086+00:00",
          "2024-10-31T10:00:20.000086+00:00",
          "2024-10-31T11:45:10.000086+00:00",
          "2024-10-31T02:10:40.000086+00:00",
          "2024-10-31T03:47:10.000086+00:00",
          "2024-10-31T05:27:30.000087+00:00",
          "2024-10-31T08:05:40.000086+00:00",
          "2024-10-31T09:45:40.000087+00:00",
          "2024-10-31T00:43:30.000086+00:00",
          "2024-10-31T11:16:20.000086+00:00",
          "2024-10-31T08:54:20.000086+00:00",
          "2024-10-31T05:37:40.000086+00:00",
          "2024-10-31T08:59:50.000086+00:00",
          "2024-10-31T04:38:00.000086+00:00",
          "2024-10-31T08:04:30.000086+00:00",
          "2024-10-31T02:39:50.000086+00:00"
         ],
         "hovertemplate": "type=inFov<br>start=%{base}<br>end=%{x}<br>antenna=%{y}<extra></extra>",
         "legendgroup": "inFov",
         "marker": {
          "color": "#EF553B",
          "pattern": {
           "shape": ""
          }
         },
         "name": "inFov",
         "offsetgroup": "inFov",
         "orientation": "h",
         "showlegend": true,
         "textposition": "auto",
         "type": "bar",
         "x": [
          120000.001,
          680000,
          690000.001,
          770000.001,
          210000,
          139999.999,
          190000,
          290000,
          170000.001,
          30000,
          90000.001,
          200000,
          60000,
          130000,
          730000,
          189999.999,
          710000,
          679999.999,
          430000,
          710000,
          170000,
          50000,
          50000.001,
          390000,
          110000,
          160000
         ],
         "xaxis": "x",
         "y": [
          "Dundee",
          "Dundee",
          "Dundee",
          "Dundee",
          "Dundee",
          "Dundee",
          "Dundee",
          "Chitose",
          "Mojave",
          "Mojave",
          "Mojave",
          "Mojave",
          "Mojave",
          "Dubai",
          "Dubai",
          "Dubai",
          "Paumalu",
          "Paumalu",
          "Harmon",
          "Harmon",
          "Sunyani",
          "Mwulire",
          "Mwulire",
          "Tahiti",
          "Tahiti",
          "Awarua"
         ],
         "yaxis": "y"
        },
        {
         "alignmentgroup": "True",
         "base": [
          "2024-10-31T00:21:10.000086+00:00",
          "2024-10-31T01:52:10.000086+00:00",
          "2024-10-31T03:33:00.000086+00:00",
          "2024-10-31T05:16:10.000086+00:00",
          "2024-10-31T08:38:40.000086+00:00",
          "2024-10-31T11:27:00.000086+00:00",
          "2024-10-31T02:10:40.000086+00:00",
          "2024-10-31T03:47:10.000086+00:00",
          "2024-10-31T08:05:40.000086+00:00",
          "2024-10-31T09:45:40.000087+00:00",
          "2024-10-31T00:43:30.000086+00:00",
          "2024-10-31T11:16:20.000086+00:00",
          "2024-10-31T05:37:40.000086+00:00",
          "2024-10-31T04:38:00.000086+00:00"
         ],
         "hovertemplate": "type=connected<br>start=%{base}<br>end=%{x}<br>antenna=%{y}<extra></extra>",
         "legendgroup": "connected",
         "marker": {
          "color": "#00cc96",
          "pattern": {
           "shape": ""
          }
         },
         "name": "connected",
         "offsetgroup": "connected",
         "orientation": "h",
         "showlegend": true,
         "textposition": "auto",
         "type": "bar",
         "x": [
          120000.001,
          680000,
          690000.001,
          540000.001,
          190000,
          290000,
          120000,
          730000,
          710000,
          679999.999,
          420000,
          710000,
          50000,
          390000
         ],
         "xaxis": "x",
         "y": [
          "Dundee",
          "Dundee",
          "Dundee",
          "Dundee",
          "Dundee",
          "Chitose",
          "Dubai",
          "Dubai",
          "Paumalu",
          "Paumalu",
          "Harmon",
          "Harmon",
          "Mwulire",
          "Tahiti"
         ],
         "yaxis": "y"
        }
       ],
       "layout": {
        "barmode": "overlay",
        "legend": {
         "title": {
          "text": "type"
         },
         "tracegroupgap": 0
        },
        "margin": {
         "t": 60
        },
        "template": {
         "data": {
          "bar": [
           {
            "error_x": {
             "color": "#2a3f5f"
            },
            "error_y": {
             "color": "#2a3f5f"
            },
            "marker": {
             "line": {
              "color": "#E5ECF6",
              "width": 0.5
             },
             "pattern": {
              "fillmode": "overlay",
              "size": 10,
              "solidity": 0.2
             }
            },
            "type": "bar"
           }
          ],
          "barpolar": [
           {
            "marker": {
             "line": {
              "color": "#E5ECF6",
              "width": 0.5
             },
             "pattern": {
              "fillmode": "overlay",
              "size": 10,
              "solidity": 0.2
             }
            },
            "type": "barpolar"
           }
          ],
          "carpet": [
           {
            "aaxis": {
             "endlinecolor": "#2a3f5f",
             "gridcolor": "white",
             "linecolor": "white",
             "minorgridcolor": "white",
             "startlinecolor": "#2a3f5f"
            },
            "baxis": {
             "endlinecolor": "#2a3f5f",
             "gridcolor": "white",
             "linecolor": "white",
             "minorgridcolor": "white",
             "startlinecolor": "#2a3f5f"
            },
            "type": "carpet"
           }
          ],
          "choropleth": [
           {
            "colorbar": {
             "outlinewidth": 0,
             "ticks": ""
            },
            "type": "choropleth"
           }
          ],
          "contour": [
           {
            "colorbar": {
             "outlinewidth": 0,
             "ticks": ""
            },
            "colorscale": [
             [
              0,
              "#0d0887"
             ],
             [
              0.1111111111111111,
              "#46039f"
             ],
             [
              0.2222222222222222,
              "#7201a8"
             ],
             [
              0.3333333333333333,
              "#9c179e"
             ],
             [
              0.4444444444444444,
              "#bd3786"
             ],
             [
              0.5555555555555556,
              "#d8576b"
             ],
             [
              0.6666666666666666,
              "#ed7953"
             ],
             [
              0.7777777777777778,
              "#fb9f3a"
             ],
             [
              0.8888888888888888,
              "#fdca26"
             ],
             [
              1,
              "#f0f921"
             ]
            ],
            "type": "contour"
           }
          ],
          "contourcarpet": [
           {
            "colorbar": {
             "outlinewidth": 0,
             "ticks": ""
            },
            "type": "contourcarpet"
           }
          ],
          "heatmap": [
           {
            "colorbar": {
             "outlinewidth": 0,
             "ticks": ""
            },
            "colorscale": [
             [
              0,
              "#0d0887"
             ],
             [
              0.1111111111111111,
              "#46039f"
             ],
             [
              0.2222222222222222,
              "#7201a8"
             ],
             [
              0.3333333333333333,
              "#9c179e"
             ],
             [
              0.4444444444444444,
              "#bd3786"
             ],
             [
              0.5555555555555556,
              "#d8576b"
             ],
             [
              0.6666666666666666,
              "#ed7953"
             ],
             [
              0.7777777777777778,
              "#fb9f3a"
             ],
             [
              0.8888888888888888,
              "#fdca26"
             ],
             [
              1,
              "#f0f921"
             ]
            ],
            "type": "heatmap"
           }
          ],
          "heatmapgl": [
           {
            "colorbar": {
             "outlinewidth": 0,
             "ticks": ""
            },
            "colorscale": [
             [
              0,
              "#0d0887"
             ],
             [
              0.1111111111111111,
              "#46039f"
             ],
             [
              0.2222222222222222,
              "#7201a8"
             ],
             [
              0.3333333333333333,
              "#9c179e"
             ],
             [
              0.4444444444444444,
              "#bd3786"
             ],
             [
              0.5555555555555556,
              "#d8576b"
             ],
             [
              0.6666666666666666,
              "#ed7953"
             ],
             [
              0.7777777777777778,
              "#fb9f3a"
             ],
             [
              0.8888888888888888,
              "#fdca26"
             ],
             [
              1,
              "#f0f921"
             ]
            ],
            "type": "heatmapgl"
           }
          ],
          "histogram": [
           {
            "marker": {
             "pattern": {
              "fillmode": "overlay",
              "size": 10,
              "solidity": 0.2
             }
            },
            "type": "histogram"
           }
          ],
          "histogram2d": [
           {
            "colorbar": {
             "outlinewidth": 0,
             "ticks": ""
            },
            "colorscale": [
             [
              0,
              "#0d0887"
             ],
             [
              0.1111111111111111,
              "#46039f"
             ],
             [
              0.2222222222222222,
              "#7201a8"
             ],
             [
              0.3333333333333333,
              "#9c179e"
             ],
             [
              0.4444444444444444,
              "#bd3786"
             ],
             [
              0.5555555555555556,
              "#d8576b"
             ],
             [
              0.6666666666666666,
              "#ed7953"
             ],
             [
              0.7777777777777778,
              "#fb9f3a"
             ],
             [
              0.8888888888888888,
              "#fdca26"
             ],
             [
              1,
              "#f0f921"
             ]
            ],
            "type": "histogram2d"
           }
          ],
          "histogram2dcontour": [
           {
            "colorbar": {
             "outlinewidth": 0,
             "ticks": ""
            },
            "colorscale": [
             [
              0,
              "#0d0887"
             ],
             [
              0.1111111111111111,
              "#46039f"
             ],
             [
              0.2222222222222222,
              "#7201a8"
             ],
             [
              0.3333333333333333,
              "#9c179e"
             ],
             [
              0.4444444444444444,
              "#bd3786"
             ],
             [
              0.5555555555555556,
              "#d8576b"
             ],
             [
              0.6666666666666666,
              "#ed7953"
             ],
             [
              0.7777777777777778,
              "#fb9f3a"
             ],
             [
              0.8888888888888888,
              "#fdca26"
             ],
             [
              1,
              "#f0f921"
             ]
            ],
            "type": "histogram2dcontour"
           }
          ],
          "mesh3d": [
           {
            "colorbar": {
             "outlinewidth": 0,
             "ticks": ""
            },
            "type": "mesh3d"
           }
          ],
          "parcoords": [
           {
            "line": {
             "colorbar": {
              "outlinewidth": 0,
              "ticks": ""
             }
            },
            "type": "parcoords"
           }
          ],
          "pie": [
           {
            "automargin": true,
            "type": "pie"
           }
          ],
          "scatter": [
           {
            "fillpattern": {
             "fillmode": "overlay",
             "size": 10,
             "solidity": 0.2
            },
            "type": "scatter"
           }
          ],
          "scatter3d": [
           {
            "line": {
             "colorbar": {
              "outlinewidth": 0,
              "ticks": ""
             }
            },
            "marker": {
             "colorbar": {
              "outlinewidth": 0,
              "ticks": ""
             }
            },
            "type": "scatter3d"
           }
          ],
          "scattercarpet": [
           {
            "marker": {
             "colorbar": {
              "outlinewidth": 0,
              "ticks": ""
             }
            },
            "type": "scattercarpet"
           }
          ],
          "scattergeo": [
           {
            "marker": {
             "colorbar": {
              "outlinewidth": 0,
              "ticks": ""
             }
            },
            "type": "scattergeo"
           }
          ],
          "scattergl": [
           {
            "marker": {
             "colorbar": {
              "outlinewidth": 0,
              "ticks": ""
             }
            },
            "type": "scattergl"
           }
          ],
          "scattermapbox": [
           {
            "marker": {
             "colorbar": {
              "outlinewidth": 0,
              "ticks": ""
             }
            },
            "type": "scattermapbox"
           }
          ],
          "scatterpolar": [
           {
            "marker": {
             "colorbar": {
              "outlinewidth": 0,
              "ticks": ""
             }
            },
            "type": "scatterpolar"
           }
          ],
          "scatterpolargl": [
           {
            "marker": {
             "colorbar": {
              "outlinewidth": 0,
              "ticks": ""
             }
            },
            "type": "scatterpolargl"
           }
          ],
          "scatterternary": [
           {
            "marker": {
             "colorbar": {
              "outlinewidth": 0,
              "ticks": ""
             }
            },
            "type": "scatterternary"
           }
          ],
          "surface": [
           {
            "colorbar": {
             "outlinewidth": 0,
             "ticks": ""
            },
            "colorscale": [
             [
              0,
              "#0d0887"
             ],
             [
              0.1111111111111111,
              "#46039f"
             ],
             [
              0.2222222222222222,
              "#7201a8"
             ],
             [
              0.3333333333333333,
              "#9c179e"
             ],
             [
              0.4444444444444444,
              "#bd3786"
             ],
             [
              0.5555555555555556,
              "#d8576b"
             ],
             [
              0.6666666666666666,
              "#ed7953"
             ],
             [
              0.7777777777777778,
              "#fb9f3a"
             ],
             [
              0.8888888888888888,
              "#fdca26"
             ],
             [
              1,
              "#f0f921"
             ]
            ],
            "type": "surface"
           }
          ],
          "table": [
           {
            "cells": {
             "fill": {
              "color": "#EBF0F8"
             },
             "line": {
              "color": "white"
             }
            },
            "header": {
             "fill": {
              "color": "#C8D4E3"
             },
             "line": {
              "color": "white"
             }
            },
            "type": "table"
           }
          ]
         },
         "layout": {
          "annotationdefaults": {
           "arrowcolor": "#2a3f5f",
           "arrowhead": 0,
           "arrowwidth": 1
          },
          "autotypenumbers": "strict",
          "coloraxis": {
           "colorbar": {
            "outlinewidth": 0,
            "ticks": ""
           }
          },
          "colorscale": {
           "diverging": [
            [
             0,
             "#8e0152"
            ],
            [
             0.1,
             "#c51b7d"
            ],
            [
             0.2,
             "#de77ae"
            ],
            [
             0.3,
             "#f1b6da"
            ],
            [
             0.4,
             "#fde0ef"
            ],
            [
             0.5,
             "#f7f7f7"
            ],
            [
             0.6,
             "#e6f5d0"
            ],
            [
             0.7,
             "#b8e186"
            ],
            [
             0.8,
             "#7fbc41"
            ],
            [
             0.9,
             "#4d9221"
            ],
            [
             1,
             "#276419"
            ]
           ],
           "sequential": [
            [
             0,
             "#0d0887"
            ],
            [
             0.1111111111111111,
             "#46039f"
            ],
            [
             0.2222222222222222,
             "#7201a8"
            ],
            [
             0.3333333333333333,
             "#9c179e"
            ],
            [
             0.4444444444444444,
             "#bd3786"
            ],
            [
             0.5555555555555556,
             "#d8576b"
            ],
            [
             0.6666666666666666,
             "#ed7953"
            ],
            [
             0.7777777777777778,
             "#fb9f3a"
            ],
            [
             0.8888888888888888,
             "#fdca26"
            ],
            [
             1,
             "#f0f921"
            ]
           ],
           "sequentialminus": [
            [
             0,
             "#0d0887"
            ],
            [
             0.1111111111111111,
             "#46039f"
            ],
            [
             0.2222222222222222,
             "#7201a8"
            ],
            [
             0.3333333333333333,
             "#9c179e"
            ],
            [
             0.4444444444444444,
             "#bd3786"
            ],
            [
             0.5555555555555556,
             "#d8576b"
            ],
            [
             0.6666666666666666,
             "#ed7953"
            ],
            [
             0.7777777777777778,
             "#fb9f3a"
            ],
            [
             0.8888888888888888,
             "#fdca26"
            ],
            [
             1,
             "#f0f921"
            ]
           ]
          },
          "colorway": [
           "#636efa",
           "#EF553B",
           "#00cc96",
           "#ab63fa",
           "#FFA15A",
           "#19d3f3",
           "#FF6692",
           "#B6E880",
           "#FF97FF",
           "#FECB52"
          ],
          "font": {
           "color": "#2a3f5f"
          },
          "geo": {
           "bgcolor": "white",
           "lakecolor": "white",
           "landcolor": "#E5ECF6",
           "showlakes": true,
           "showland": true,
           "subunitcolor": "white"
          },
          "hoverlabel": {
           "align": "left"
          },
          "hovermode": "closest",
          "mapbox": {
           "style": "light"
          },
          "paper_bgcolor": "white",
          "plot_bgcolor": "#E5ECF6",
          "polar": {
           "angularaxis": {
            "gridcolor": "white",
            "linecolor": "white",
            "ticks": ""
           },
           "bgcolor": "#E5ECF6",
           "radialaxis": {
            "gridcolor": "white",
            "linecolor": "white",
            "ticks": ""
           }
          },
          "scene": {
           "xaxis": {
            "backgroundcolor": "#E5ECF6",
            "gridcolor": "white",
            "gridwidth": 2,
            "linecolor": "white",
            "showbackground": true,
            "ticks": "",
            "zerolinecolor": "white"
           },
           "yaxis": {
            "backgroundcolor": "#E5ECF6",
            "gridcolor": "white",
            "gridwidth": 2,
            "linecolor": "white",
            "showbackground": true,
            "ticks": "",
            "zerolinecolor": "white"
           },
           "zaxis": {
            "backgroundcolor": "#E5ECF6",
            "gridcolor": "white",
            "gridwidth": 2,
            "linecolor": "white",
            "showbackground": true,
            "ticks": "",
            "zerolinecolor": "white"
           }
          },
          "shapedefaults": {
           "line": {
            "color": "#2a3f5f"
           }
          },
          "ternary": {
           "aaxis": {
            "gridcolor": "white",
            "linecolor": "white",
            "ticks": ""
           },
           "baxis": {
            "gridcolor": "white",
            "linecolor": "white",
            "ticks": ""
           },
           "bgcolor": "#E5ECF6",
           "caxis": {
            "gridcolor": "white",
            "linecolor": "white",
            "ticks": ""
           }
          },
          "title": {
           "x": 0.05
          },
          "xaxis": {
           "automargin": true,
           "gridcolor": "white",
           "linecolor": "white",
           "ticks": "",
           "title": {
            "standoff": 15
           },
           "zerolinecolor": "white",
           "zerolinewidth": 2
          },
          "yaxis": {
           "automargin": true,
           "gridcolor": "white",
           "linecolor": "white",
           "ticks": "",
           "title": {
            "standoff": 15
           },
           "zerolinecolor": "white",
           "zerolinewidth": 2
          }
         }
        },
        "title": {
         "text": "Spacecraft 1-1 Access, In Fov, and Connected"
        },
        "xaxis": {
         "anchor": "y",
         "domain": [
          0,
          1
         ],
         "type": "date"
        },
        "yaxis": {
         "anchor": "x",
         "categoryorder": "total ascending",
         "domain": [
          0,
          1
         ],
         "title": {
          "text": "antenna"
         }
        }
       }
      }
     },
     "metadata": {},
     "output_type": "display_data"
    },
    {
     "data": {
      "application/vnd.plotly.v1+json": {
       "config": {
        "plotlyServerURL": "https://plot.ly"
       },
       "data": [
        {
         "alignmentgroup": "True",
         "base": [
          "2024-10-31T00:00:00.000086+00:00",
          "2024-10-31T01:38:30.000086+00:00",
          "2024-10-31T03:19:20.000086+00:00",
          "2024-10-31T05:00:20.000086+00:00",
          "2024-10-31T06:40:50.000086+00:00",
          "2024-10-31T08:21:50.000086+00:00",
          "2024-10-31T04:44:00.000086+00:00",
          "2024-10-31T06:20:20.000086+00:00",
          "2024-10-31T08:02:00.000086+00:00",
          "2024-10-31T09:47:30.000086+00:00",
          "2024-10-31T03:34:40.000086+00:00",
          "2024-10-31T05:15:00.000086+00:00",
          "2024-10-31T07:52:50.000086+00:00",
          "2024-10-31T09:33:30.000086+00:00",
          "2024-10-31T00:30:00.000086+00:00",
          "2024-10-31T11:04:30.000086+00:00",
          "2024-10-31T08:32:20.000086+00:00",
          "2024-10-31T10:14:00.000086+00:00",
          "2024-10-31T06:58:30.000086+00:00",
          "2024-10-31T08:41:10.000087+00:00",
          "2024-10-31T04:27:20.000086+00:00",
          "2024-10-31T06:03:30.000086+00:00",
          "2024-10-31T07:45:10.000086+00:00",
          "2024-10-31T00:45:30.000086+00:00",
          "2024-10-31T02:27:10.000086+00:00",
          "2024-10-31T04:09:40.000086+00:00",
          "2024-10-31T05:51:00.000086+00:00",
          "2024-10-31T07:31:40.000086+00:00",
          "2024-10-31T09:12:50.000086+00:00",
          "2024-10-31T09:46:10.000086+00:00",
          "2024-10-31T11:23:40.000086+00:00"
         ],
         "hovertemplate": "type=access<br>start=%{base}<br>end=%{x}<br>antenna=%{y}<extra></extra>",
         "legendgroup": "access",
         "marker": {
          "color": "#636efa",
          "pattern": {
           "shape": ""
          }
         },
         "name": "access",
         "offsetgroup": "access",
         "orientation": "h",
         "showlegend": true,
         "textposition": "auto",
         "type": "bar",
         "x": [
          700000,
          830000,
          830000,
          820000,
          800000,
          610000,
          420000,
          810000.001,
          720000,
          340000,
          760000,
          760000,
          770000,
          730000.001,
          560000,
          720000,
          800000,
          630000,
          810000,
          530000,
          210000,
          800000,
          610000,
          820000,
          760000,
          710000,
          770000,
          820000,
          660000,
          530000,
          690000
         ],
         "xaxis": "x",
         "y": [
          "Dundee",
          "Dundee",
          "Dundee",
          "Dundee",
          "Dundee",
          "Dundee",
          "Mojave",
          "Mojave",
          "Mojave",
          "Mojave",
          "Dubai",
          "Dubai",
          "Paumalu",
          "Paumalu",
          "Harmon",
          "Harmon",
          "Sunyani",
          "Sunyani",
          "Mwulire",
          "Mwulire",
          "Tahiti",
          "Tahiti",
          "Tahiti",
          "Awarua",
          "Awarua",
          "Awarua",
          "Awarua",
          "Awarua",
          "Awarua",
          "Utqiagvik",
          "Utqiagvik"
         ],
         "yaxis": "y"
        },
        {
         "alignmentgroup": "True",
         "base": [
          "2024-10-31T00:05:00.000086+00:00",
          "2024-10-31T01:39:40.000086+00:00",
          "2024-10-31T03:20:40.000086+00:00",
          "2024-10-31T05:01:40.000086+00:00",
          "2024-10-31T06:41:50.000086+00:00",
          "2024-10-31T08:21:50.000086+00:00",
          "2024-10-31T04:47:00.000086+00:00",
          "2024-10-31T04:49:20.000086+00:00",
          "2024-10-31T06:21:40.000086+00:00",
          "2024-10-31T08:02:10.000086+00:00",
          "2024-10-31T09:47:30.000086+00:00",
          "2024-10-31T03:34:40.000086+00:00",
          "2024-10-31T05:15:00.000086+00:00",
          "2024-10-31T05:25:20.000086+00:00",
          "2024-10-31T07:53:30.000086+00:00",
          "2024-10-31T09:34:10.000086+00:00",
          "2024-10-31T00:30:00.000086+00:00",
          "2024-10-31T11:04:30.000086+00:00",
          "2024-10-31T08:43:00.000086+00:00",
          "2024-10-31T08:48:00.000086+00:00",
          "2024-10-31T04:27:20.000086+00:00",
          "2024-10-31T07:52:30.000086+00:00",
          "2024-10-31T02:27:10.000086+00:00",
          "2024-10-31T09:17:20.000086+00:00"
         ],
         "hovertemplate": "type=inFov<br>start=%{base}<br>end=%{x}<br>antenna=%{y}<extra></extra>",
         "legendgroup": "inFov",
         "marker": {
          "color": "#EF553B",
          "pattern": {
           "shape": ""
          }
         },
         "name": "inFov",
         "offsetgroup": "inFov",
         "orientation": "h",
         "showlegend": true,
         "textposition": "auto",
         "type": "bar",
         "x": [
          380000.001,
          750000,
          740000,
          320000,
          200000,
          360000,
          80000,
          100000,
          720000,
          250000,
          170000,
          750000,
          190000,
          30000,
          720000,
          690000.001,
          550000.001,
          710000,
          160000,
          120000.001,
          200000.001,
          170000,
          190000,
          90000
         ],
         "xaxis": "x",
         "y": [
          "Dundee",
          "Dundee",
          "Dundee",
          "Dundee",
          "Dundee",
          "Dundee",
          "Mojave",
          "Mojave",
          "Mojave",
          "Mojave",
          "Mojave",
          "Dubai",
          "Dubai",
          "Dubai",
          "Paumalu",
          "Paumalu",
          "Harmon",
          "Harmon",
          "Sunyani",
          "Mwulire",
          "Tahiti",
          "Tahiti",
          "Awarua",
          "Awarua"
         ],
         "yaxis": "y"
        },
        {
         "alignmentgroup": "True",
         "base": [
          "2024-10-31T00:05:00.000086+00:00",
          "2024-10-31T01:39:40.000086+00:00",
          "2024-10-31T03:20:40.000086+00:00",
          "2024-10-31T05:01:40.000086+00:00",
          "2024-10-31T06:44:00.000086+00:00",
          "2024-10-31T08:21:50.000086+00:00",
          "2024-10-31T06:21:40.000086+00:00",
          "2024-10-31T08:02:10.000086+00:00",
          "2024-10-31T03:34:40.000086+00:00",
          "2024-10-31T05:25:20.000086+00:00",
          "2024-10-31T07:53:30.000086+00:00",
          "2024-10-31T09:34:10.000086+00:00",
          "2024-10-31T00:30:00.000086+00:00",
          "2024-10-31T11:04:30.000086+00:00",
          "2024-10-31T04:27:20.000086+00:00"
         ],
         "hovertemplate": "type=connected<br>start=%{base}<br>end=%{x}<br>antenna=%{y}<extra></extra>",
         "legendgroup": "connected",
         "marker": {
          "color": "#00cc96",
          "pattern": {
           "shape": ""
          }
         },
         "name": "connected",
         "offsetgroup": "connected",
         "orientation": "h",
         "showlegend": true,
         "textposition": "auto",
         "type": "bar",
         "x": [
          380000.001,
          750000,
          740000,
          320000,
          70000,
          360000,
          720000,
          250000,
          750000,
          30000,
          720000,
          690000.001,
          550000.001,
          710000,
          200000.001
         ],
         "xaxis": "x",
         "y": [
          "Dundee",
          "Dundee",
          "Dundee",
          "Dundee",
          "Dundee",
          "Dundee",
          "Mojave",
          "Mojave",
          "Dubai",
          "Dubai",
          "Paumalu",
          "Paumalu",
          "Harmon",
          "Harmon",
          "Tahiti"
         ],
         "yaxis": "y"
        }
       ],
       "layout": {
        "barmode": "overlay",
        "legend": {
         "title": {
          "text": "type"
         },
         "tracegroupgap": 0
        },
        "margin": {
         "t": 60
        },
        "template": {
         "data": {
          "bar": [
           {
            "error_x": {
             "color": "#2a3f5f"
            },
            "error_y": {
             "color": "#2a3f5f"
            },
            "marker": {
             "line": {
              "color": "#E5ECF6",
              "width": 0.5
             },
             "pattern": {
              "fillmode": "overlay",
              "size": 10,
              "solidity": 0.2
             }
            },
            "type": "bar"
           }
          ],
          "barpolar": [
           {
            "marker": {
             "line": {
              "color": "#E5ECF6",
              "width": 0.5
             },
             "pattern": {
              "fillmode": "overlay",
              "size": 10,
              "solidity": 0.2
             }
            },
            "type": "barpolar"
           }
          ],
          "carpet": [
           {
            "aaxis": {
             "endlinecolor": "#2a3f5f",
             "gridcolor": "white",
             "linecolor": "white",
             "minorgridcolor": "white",
             "startlinecolor": "#2a3f5f"
            },
            "baxis": {
             "endlinecolor": "#2a3f5f",
             "gridcolor": "white",
             "linecolor": "white",
             "minorgridcolor": "white",
             "startlinecolor": "#2a3f5f"
            },
            "type": "carpet"
           }
          ],
          "choropleth": [
           {
            "colorbar": {
             "outlinewidth": 0,
             "ticks": ""
            },
            "type": "choropleth"
           }
          ],
          "contour": [
           {
            "colorbar": {
             "outlinewidth": 0,
             "ticks": ""
            },
            "colorscale": [
             [
              0,
              "#0d0887"
             ],
             [
              0.1111111111111111,
              "#46039f"
             ],
             [
              0.2222222222222222,
              "#7201a8"
             ],
             [
              0.3333333333333333,
              "#9c179e"
             ],
             [
              0.4444444444444444,
              "#bd3786"
             ],
             [
              0.5555555555555556,
              "#d8576b"
             ],
             [
              0.6666666666666666,
              "#ed7953"
             ],
             [
              0.7777777777777778,
              "#fb9f3a"
             ],
             [
              0.8888888888888888,
              "#fdca26"
             ],
             [
              1,
              "#f0f921"
             ]
            ],
            "type": "contour"
           }
          ],
          "contourcarpet": [
           {
            "colorbar": {
             "outlinewidth": 0,
             "ticks": ""
            },
            "type": "contourcarpet"
           }
          ],
          "heatmap": [
           {
            "colorbar": {
             "outlinewidth": 0,
             "ticks": ""
            },
            "colorscale": [
             [
              0,
              "#0d0887"
             ],
             [
              0.1111111111111111,
              "#46039f"
             ],
             [
              0.2222222222222222,
              "#7201a8"
             ],
             [
              0.3333333333333333,
              "#9c179e"
             ],
             [
              0.4444444444444444,
              "#bd3786"
             ],
             [
              0.5555555555555556,
              "#d8576b"
             ],
             [
              0.6666666666666666,
              "#ed7953"
             ],
             [
              0.7777777777777778,
              "#fb9f3a"
             ],
             [
              0.8888888888888888,
              "#fdca26"
             ],
             [
              1,
              "#f0f921"
             ]
            ],
            "type": "heatmap"
           }
          ],
          "heatmapgl": [
           {
            "colorbar": {
             "outlinewidth": 0,
             "ticks": ""
            },
            "colorscale": [
             [
              0,
              "#0d0887"
             ],
             [
              0.1111111111111111,
              "#46039f"
             ],
             [
              0.2222222222222222,
              "#7201a8"
             ],
             [
              0.3333333333333333,
              "#9c179e"
             ],
             [
              0.4444444444444444,
              "#bd3786"
             ],
             [
              0.5555555555555556,
              "#d8576b"
             ],
             [
              0.6666666666666666,
              "#ed7953"
             ],
             [
              0.7777777777777778,
              "#fb9f3a"
             ],
             [
              0.8888888888888888,
              "#fdca26"
             ],
             [
              1,
              "#f0f921"
             ]
            ],
            "type": "heatmapgl"
           }
          ],
          "histogram": [
           {
            "marker": {
             "pattern": {
              "fillmode": "overlay",
              "size": 10,
              "solidity": 0.2
             }
            },
            "type": "histogram"
           }
          ],
          "histogram2d": [
           {
            "colorbar": {
             "outlinewidth": 0,
             "ticks": ""
            },
            "colorscale": [
             [
              0,
              "#0d0887"
             ],
             [
              0.1111111111111111,
              "#46039f"
             ],
             [
              0.2222222222222222,
              "#7201a8"
             ],
             [
              0.3333333333333333,
              "#9c179e"
             ],
             [
              0.4444444444444444,
              "#bd3786"
             ],
             [
              0.5555555555555556,
              "#d8576b"
             ],
             [
              0.6666666666666666,
              "#ed7953"
             ],
             [
              0.7777777777777778,
              "#fb9f3a"
             ],
             [
              0.8888888888888888,
              "#fdca26"
             ],
             [
              1,
              "#f0f921"
             ]
            ],
            "type": "histogram2d"
           }
          ],
          "histogram2dcontour": [
           {
            "colorbar": {
             "outlinewidth": 0,
             "ticks": ""
            },
            "colorscale": [
             [
              0,
              "#0d0887"
             ],
             [
              0.1111111111111111,
              "#46039f"
             ],
             [
              0.2222222222222222,
              "#7201a8"
             ],
             [
              0.3333333333333333,
              "#9c179e"
             ],
             [
              0.4444444444444444,
              "#bd3786"
             ],
             [
              0.5555555555555556,
              "#d8576b"
             ],
             [
              0.6666666666666666,
              "#ed7953"
             ],
             [
              0.7777777777777778,
              "#fb9f3a"
             ],
             [
              0.8888888888888888,
              "#fdca26"
             ],
             [
              1,
              "#f0f921"
             ]
            ],
            "type": "histogram2dcontour"
           }
          ],
          "mesh3d": [
           {
            "colorbar": {
             "outlinewidth": 0,
             "ticks": ""
            },
            "type": "mesh3d"
           }
          ],
          "parcoords": [
           {
            "line": {
             "colorbar": {
              "outlinewidth": 0,
              "ticks": ""
             }
            },
            "type": "parcoords"
           }
          ],
          "pie": [
           {
            "automargin": true,
            "type": "pie"
           }
          ],
          "scatter": [
           {
            "fillpattern": {
             "fillmode": "overlay",
             "size": 10,
             "solidity": 0.2
            },
            "type": "scatter"
           }
          ],
          "scatter3d": [
           {
            "line": {
             "colorbar": {
              "outlinewidth": 0,
              "ticks": ""
             }
            },
            "marker": {
             "colorbar": {
              "outlinewidth": 0,
              "ticks": ""
             }
            },
            "type": "scatter3d"
           }
          ],
          "scattercarpet": [
           {
            "marker": {
             "colorbar": {
              "outlinewidth": 0,
              "ticks": ""
             }
            },
            "type": "scattercarpet"
           }
          ],
          "scattergeo": [
           {
            "marker": {
             "colorbar": {
              "outlinewidth": 0,
              "ticks": ""
             }
            },
            "type": "scattergeo"
           }
          ],
          "scattergl": [
           {
            "marker": {
             "colorbar": {
              "outlinewidth": 0,
              "ticks": ""
             }
            },
            "type": "scattergl"
           }
          ],
          "scattermapbox": [
           {
            "marker": {
             "colorbar": {
              "outlinewidth": 0,
              "ticks": ""
             }
            },
            "type": "scattermapbox"
           }
          ],
          "scatterpolar": [
           {
            "marker": {
             "colorbar": {
              "outlinewidth": 0,
              "ticks": ""
             }
            },
            "type": "scatterpolar"
           }
          ],
          "scatterpolargl": [
           {
            "marker": {
             "colorbar": {
              "outlinewidth": 0,
              "ticks": ""
             }
            },
            "type": "scatterpolargl"
           }
          ],
          "scatterternary": [
           {
            "marker": {
             "colorbar": {
              "outlinewidth": 0,
              "ticks": ""
             }
            },
            "type": "scatterternary"
           }
          ],
          "surface": [
           {
            "colorbar": {
             "outlinewidth": 0,
             "ticks": ""
            },
            "colorscale": [
             [
              0,
              "#0d0887"
             ],
             [
              0.1111111111111111,
              "#46039f"
             ],
             [
              0.2222222222222222,
              "#7201a8"
             ],
             [
              0.3333333333333333,
              "#9c179e"
             ],
             [
              0.4444444444444444,
              "#bd3786"
             ],
             [
              0.5555555555555556,
              "#d8576b"
             ],
             [
              0.6666666666666666,
              "#ed7953"
             ],
             [
              0.7777777777777778,
              "#fb9f3a"
             ],
             [
              0.8888888888888888,
              "#fdca26"
             ],
             [
              1,
              "#f0f921"
             ]
            ],
            "type": "surface"
           }
          ],
          "table": [
           {
            "cells": {
             "fill": {
              "color": "#EBF0F8"
             },
             "line": {
              "color": "white"
             }
            },
            "header": {
             "fill": {
              "color": "#C8D4E3"
             },
             "line": {
              "color": "white"
             }
            },
            "type": "table"
           }
          ]
         },
         "layout": {
          "annotationdefaults": {
           "arrowcolor": "#2a3f5f",
           "arrowhead": 0,
           "arrowwidth": 1
          },
          "autotypenumbers": "strict",
          "coloraxis": {
           "colorbar": {
            "outlinewidth": 0,
            "ticks": ""
           }
          },
          "colorscale": {
           "diverging": [
            [
             0,
             "#8e0152"
            ],
            [
             0.1,
             "#c51b7d"
            ],
            [
             0.2,
             "#de77ae"
            ],
            [
             0.3,
             "#f1b6da"
            ],
            [
             0.4,
             "#fde0ef"
            ],
            [
             0.5,
             "#f7f7f7"
            ],
            [
             0.6,
             "#e6f5d0"
            ],
            [
             0.7,
             "#b8e186"
            ],
            [
             0.8,
             "#7fbc41"
            ],
            [
             0.9,
             "#4d9221"
            ],
            [
             1,
             "#276419"
            ]
           ],
           "sequential": [
            [
             0,
             "#0d0887"
            ],
            [
             0.1111111111111111,
             "#46039f"
            ],
            [
             0.2222222222222222,
             "#7201a8"
            ],
            [
             0.3333333333333333,
             "#9c179e"
            ],
            [
             0.4444444444444444,
             "#bd3786"
            ],
            [
             0.5555555555555556,
             "#d8576b"
            ],
            [
             0.6666666666666666,
             "#ed7953"
            ],
            [
             0.7777777777777778,
             "#fb9f3a"
            ],
            [
             0.8888888888888888,
             "#fdca26"
            ],
            [
             1,
             "#f0f921"
            ]
           ],
           "sequentialminus": [
            [
             0,
             "#0d0887"
            ],
            [
             0.1111111111111111,
             "#46039f"
            ],
            [
             0.2222222222222222,
             "#7201a8"
            ],
            [
             0.3333333333333333,
             "#9c179e"
            ],
            [
             0.4444444444444444,
             "#bd3786"
            ],
            [
             0.5555555555555556,
             "#d8576b"
            ],
            [
             0.6666666666666666,
             "#ed7953"
            ],
            [
             0.7777777777777778,
             "#fb9f3a"
            ],
            [
             0.8888888888888888,
             "#fdca26"
            ],
            [
             1,
             "#f0f921"
            ]
           ]
          },
          "colorway": [
           "#636efa",
           "#EF553B",
           "#00cc96",
           "#ab63fa",
           "#FFA15A",
           "#19d3f3",
           "#FF6692",
           "#B6E880",
           "#FF97FF",
           "#FECB52"
          ],
          "font": {
           "color": "#2a3f5f"
          },
          "geo": {
           "bgcolor": "white",
           "lakecolor": "white",
           "landcolor": "#E5ECF6",
           "showlakes": true,
           "showland": true,
           "subunitcolor": "white"
          },
          "hoverlabel": {
           "align": "left"
          },
          "hovermode": "closest",
          "mapbox": {
           "style": "light"
          },
          "paper_bgcolor": "white",
          "plot_bgcolor": "#E5ECF6",
          "polar": {
           "angularaxis": {
            "gridcolor": "white",
            "linecolor": "white",
            "ticks": ""
           },
           "bgcolor": "#E5ECF6",
           "radialaxis": {
            "gridcolor": "white",
            "linecolor": "white",
            "ticks": ""
           }
          },
          "scene": {
           "xaxis": {
            "backgroundcolor": "#E5ECF6",
            "gridcolor": "white",
            "gridwidth": 2,
            "linecolor": "white",
            "showbackground": true,
            "ticks": "",
            "zerolinecolor": "white"
           },
           "yaxis": {
            "backgroundcolor": "#E5ECF6",
            "gridcolor": "white",
            "gridwidth": 2,
            "linecolor": "white",
            "showbackground": true,
            "ticks": "",
            "zerolinecolor": "white"
           },
           "zaxis": {
            "backgroundcolor": "#E5ECF6",
            "gridcolor": "white",
            "gridwidth": 2,
            "linecolor": "white",
            "showbackground": true,
            "ticks": "",
            "zerolinecolor": "white"
           }
          },
          "shapedefaults": {
           "line": {
            "color": "#2a3f5f"
           }
          },
          "ternary": {
           "aaxis": {
            "gridcolor": "white",
            "linecolor": "white",
            "ticks": ""
           },
           "baxis": {
            "gridcolor": "white",
            "linecolor": "white",
            "ticks": ""
           },
           "bgcolor": "#E5ECF6",
           "caxis": {
            "gridcolor": "white",
            "linecolor": "white",
            "ticks": ""
           }
          },
          "title": {
           "x": 0.05
          },
          "xaxis": {
           "automargin": true,
           "gridcolor": "white",
           "linecolor": "white",
           "ticks": "",
           "title": {
            "standoff": 15
           },
           "zerolinecolor": "white",
           "zerolinewidth": 2
          },
          "yaxis": {
           "automargin": true,
           "gridcolor": "white",
           "linecolor": "white",
           "ticks": "",
           "title": {
            "standoff": 15
           },
           "zerolinecolor": "white",
           "zerolinewidth": 2
          }
         }
        },
        "title": {
         "text": "Spacecraft 1-2 Access, In Fov, and Connected"
        },
        "xaxis": {
         "anchor": "y",
         "domain": [
          0,
          1
         ],
         "type": "date"
        },
        "yaxis": {
         "anchor": "x",
         "categoryorder": "total ascending",
         "domain": [
          0,
          1
         ],
         "title": {
          "text": "antenna"
         }
        }
       }
      }
     },
     "metadata": {},
     "output_type": "display_data"
    },
    {
     "data": {
      "application/vnd.plotly.v1+json": {
       "config": {
        "plotlyServerURL": "https://plot.ly"
       },
       "data": [
        {
         "alignmentgroup": "True",
         "base": [
          "2024-10-31T01:26:10.000086+00:00",
          "2024-10-31T03:07:10.000087+00:00",
          "2024-10-31T04:48:10.000086+00:00",
          "2024-10-31T06:28:50.000086+00:00",
          "2024-10-31T08:10:00.000086+00:00",
          "2024-10-31T00:11:30.000086+00:00",
          "2024-10-31T04:33:30.000086+00:00",
          "2024-10-31T06:08:30.000086+00:00",
          "2024-10-31T07:49:50.000086+00:00",
          "2024-10-31T09:35:00.000087+00:00",
          "2024-10-31T03:22:40.000086+00:00",
          "2024-10-31T05:02:50.000086+00:00",
          "2024-10-31T07:41:20.000087+00:00",
          "2024-10-31T09:21:30.000086+00:00",
          "2024-10-31T00:16:50.000086+00:00",
          "2024-10-31T10:53:30.000086+00:00",
          "2024-10-31T08:20:50.000086+00:00",
          "2024-10-31T10:01:50.000086+00:00",
          "2024-10-31T06:46:40.000086+00:00",
          "2024-10-31T08:28:30.000086+00:00",
          "2024-10-31T05:51:40.000086+00:00",
          "2024-10-31T07:32:50.000086+00:00",
          "2024-10-31T00:32:50.000086+00:00",
          "2024-10-31T02:14:30.000087+00:00",
          "2024-10-31T03:57:10.000086+00:00",
          "2024-10-31T05:38:50.000086+00:00",
          "2024-10-31T07:19:40.000086+00:00",
          "2024-10-31T09:00:50.000086+00:00",
          "2024-10-31T09:35:00.000087+00:00",
          "2024-10-31T11:12:30.000086+00:00"
         ],
         "hovertemplate": "type=access<br>start=%{base}<br>end=%{x}<br>antenna=%{y}<extra></extra>",
         "legendgroup": "access",
         "marker": {
          "color": "#636efa",
          "pattern": {
           "shape": ""
          }
         },
         "name": "access",
         "offsetgroup": "access",
         "orientation": "h",
         "showlegend": true,
         "textposition": "auto",
         "type": "bar",
         "x": [
          820000,
          820000,
          820000,
          810000,
          640000,
          290000,
          250000,
          800000,
          750000,
          399999.999,
          730000,
          790000,
          739999.999,
          770000,
          650000,
          670000,
          770000,
          700000.001,
          800000,
          630000,
          790000.001,
          690000,
          830000,
          780000,
          720000,
          780000,
          830000,
          710000,
          500000,
          670000
         ],
         "xaxis": "x",
         "y": [
          "Dundee",
          "Dundee",
          "Dundee",
          "Dundee",
          "Dundee",
          "Chitose",
          "Mojave",
          "Mojave",
          "Mojave",
          "Mojave",
          "Dubai",
          "Dubai",
          "Paumalu",
          "Paumalu",
          "Harmon",
          "Harmon",
          "Sunyani",
          "Sunyani",
          "Mwulire",
          "Mwulire",
          "Tahiti",
          "Tahiti",
          "Awarua",
          "Awarua",
          "Awarua",
          "Awarua",
          "Awarua",
          "Awarua",
          "Utqiagvik",
          "Utqiagvik"
         ],
         "yaxis": "y"
        },
        {
         "alignmentgroup": "True",
         "base": [
          "2024-10-31T01:27:00.000086+00:00",
          "2024-10-31T03:07:40.000086+00:00",
          "2024-10-31T04:48:40.000086+00:00",
          "2024-10-31T06:30:00.000086+00:00",
          "2024-10-31T06:33:40.000086+00:00",
          "2024-10-31T08:10:00.000086+00:00",
          "2024-10-31T00:11:30.000086+00:00",
          "2024-10-31T04:35:00.000086+00:00",
          "2024-10-31T06:08:30.000086+00:00",
          "2024-10-31T07:49:50.000086+00:00",
          "2024-10-31T09:35:00.000087+00:00",
          "2024-10-31T03:22:40.000086+00:00",
          "2024-10-31T05:02:50.000086+00:00",
          "2024-10-31T05:12:30.000086+00:00",
          "2024-10-31T07:41:20.000087+00:00",
          "2024-10-31T09:21:30.000086+00:00",
          "2024-10-31T00:16:50.000086+00:00",
          "2024-10-31T10:53:30.000086+00:00",
          "2024-10-31T08:32:00.000086+00:00",
          "2024-10-31T08:36:00.000086+00:00",
          "2024-10-31T05:51:40.000086+00:00",
          "2024-10-31T07:40:40.000086+00:00",
          "2024-10-31T02:14:30.000087+00:00",
          "2024-10-31T07:29:10.000086+00:00",
          "2024-10-31T09:00:50.000086+00:00",
          "2024-10-31T09:05:40.000086+00:00"
         ],
         "hovertemplate": "type=inFov<br>start=%{base}<br>end=%{x}<br>antenna=%{y}<extra></extra>",
         "legendgroup": "inFov",
         "marker": {
          "color": "#EF553B",
          "pattern": {
           "shape": ""
          }
         },
         "name": "inFov",
         "offsetgroup": "inFov",
         "orientation": "h",
         "showlegend": true,
         "textposition": "auto",
         "type": "bar",
         "x": [
          760000,
          780000,
          780000,
          200000,
          270000,
          630000,
          280000,
          160000,
          790000,
          740000,
          399999.999,
          720000,
          200000.001,
          90000,
          729999.999,
          760000,
          640000,
          660000,
          100000,
          180000,
          500000,
          180000.001,
          210000,
          60000,
          150000,
          90000.001
         ],
         "xaxis": "x",
         "y": [
          "Dundee",
          "Dundee",
          "Dundee",
          "Dundee",
          "Dundee",
          "Dundee",
          "Chitose",
          "Mojave",
          "Mojave",
          "Mojave",
          "Mojave",
          "Dubai",
          "Dubai",
          "Dubai",
          "Paumalu",
          "Paumalu",
          "Harmon",
          "Harmon",
          "Sunyani",
          "Mwulire",
          "Tahiti",
          "Tahiti",
          "Awarua",
          "Awarua",
          "Awarua",
          "Awarua"
         ],
         "yaxis": "y"
        },
        {
         "alignmentgroup": "True",
         "base": [
          "2024-10-31T01:27:00.000086+00:00",
          "2024-10-31T03:07:40.000086+00:00",
          "2024-10-31T04:48:40.000086+00:00",
          "2024-10-31T06:33:40.000086+00:00",
          "2024-10-31T08:10:00.000086+00:00",
          "2024-10-31T00:11:30.000086+00:00",
          "2024-10-31T06:08:30.000086+00:00",
          "2024-10-31T07:49:50.000086+00:00",
          "2024-10-31T09:35:00.000087+00:00",
          "2024-10-31T03:22:40.000086+00:00",
          "2024-10-31T05:12:30.000086+00:00",
          "2024-10-31T07:41:20.000087+00:00",
          "2024-10-31T09:21:30.000086+00:00",
          "2024-10-31T00:16:50.000086+00:00",
          "2024-10-31T10:53:30.000086+00:00",
          "2024-10-31T05:51:40.000086+00:00"
         ],
         "hovertemplate": "type=connected<br>start=%{base}<br>end=%{x}<br>antenna=%{y}<extra></extra>",
         "legendgroup": "connected",
         "marker": {
          "color": "#00cc96",
          "pattern": {
           "shape": ""
          }
         },
         "name": "connected",
         "offsetgroup": "connected",
         "orientation": "h",
         "showlegend": true,
         "textposition": "auto",
         "type": "bar",
         "x": [
          760000,
          780000,
          780000,
          270000,
          630000,
          280000,
          790000,
          740000,
          399999.999,
          720000,
          90000,
          729999.999,
          760000,
          640000,
          660000,
          500000
         ],
         "xaxis": "x",
         "y": [
          "Dundee",
          "Dundee",
          "Dundee",
          "Dundee",
          "Dundee",
          "Chitose",
          "Mojave",
          "Mojave",
          "Mojave",
          "Dubai",
          "Dubai",
          "Paumalu",
          "Paumalu",
          "Harmon",
          "Harmon",
          "Tahiti"
         ],
         "yaxis": "y"
        }
       ],
       "layout": {
        "barmode": "overlay",
        "legend": {
         "title": {
          "text": "type"
         },
         "tracegroupgap": 0
        },
        "margin": {
         "t": 60
        },
        "template": {
         "data": {
          "bar": [
           {
            "error_x": {
             "color": "#2a3f5f"
            },
            "error_y": {
             "color": "#2a3f5f"
            },
            "marker": {
             "line": {
              "color": "#E5ECF6",
              "width": 0.5
             },
             "pattern": {
              "fillmode": "overlay",
              "size": 10,
              "solidity": 0.2
             }
            },
            "type": "bar"
           }
          ],
          "barpolar": [
           {
            "marker": {
             "line": {
              "color": "#E5ECF6",
              "width": 0.5
             },
             "pattern": {
              "fillmode": "overlay",
              "size": 10,
              "solidity": 0.2
             }
            },
            "type": "barpolar"
           }
          ],
          "carpet": [
           {
            "aaxis": {
             "endlinecolor": "#2a3f5f",
             "gridcolor": "white",
             "linecolor": "white",
             "minorgridcolor": "white",
             "startlinecolor": "#2a3f5f"
            },
            "baxis": {
             "endlinecolor": "#2a3f5f",
             "gridcolor": "white",
             "linecolor": "white",
             "minorgridcolor": "white",
             "startlinecolor": "#2a3f5f"
            },
            "type": "carpet"
           }
          ],
          "choropleth": [
           {
            "colorbar": {
             "outlinewidth": 0,
             "ticks": ""
            },
            "type": "choropleth"
           }
          ],
          "contour": [
           {
            "colorbar": {
             "outlinewidth": 0,
             "ticks": ""
            },
            "colorscale": [
             [
              0,
              "#0d0887"
             ],
             [
              0.1111111111111111,
              "#46039f"
             ],
             [
              0.2222222222222222,
              "#7201a8"
             ],
             [
              0.3333333333333333,
              "#9c179e"
             ],
             [
              0.4444444444444444,
              "#bd3786"
             ],
             [
              0.5555555555555556,
              "#d8576b"
             ],
             [
              0.6666666666666666,
              "#ed7953"
             ],
             [
              0.7777777777777778,
              "#fb9f3a"
             ],
             [
              0.8888888888888888,
              "#fdca26"
             ],
             [
              1,
              "#f0f921"
             ]
            ],
            "type": "contour"
           }
          ],
          "contourcarpet": [
           {
            "colorbar": {
             "outlinewidth": 0,
             "ticks": ""
            },
            "type": "contourcarpet"
           }
          ],
          "heatmap": [
           {
            "colorbar": {
             "outlinewidth": 0,
             "ticks": ""
            },
            "colorscale": [
             [
              0,
              "#0d0887"
             ],
             [
              0.1111111111111111,
              "#46039f"
             ],
             [
              0.2222222222222222,
              "#7201a8"
             ],
             [
              0.3333333333333333,
              "#9c179e"
             ],
             [
              0.4444444444444444,
              "#bd3786"
             ],
             [
              0.5555555555555556,
              "#d8576b"
             ],
             [
              0.6666666666666666,
              "#ed7953"
             ],
             [
              0.7777777777777778,
              "#fb9f3a"
             ],
             [
              0.8888888888888888,
              "#fdca26"
             ],
             [
              1,
              "#f0f921"
             ]
            ],
            "type": "heatmap"
           }
          ],
          "heatmapgl": [
           {
            "colorbar": {
             "outlinewidth": 0,
             "ticks": ""
            },
            "colorscale": [
             [
              0,
              "#0d0887"
             ],
             [
              0.1111111111111111,
              "#46039f"
             ],
             [
              0.2222222222222222,
              "#7201a8"
             ],
             [
              0.3333333333333333,
              "#9c179e"
             ],
             [
              0.4444444444444444,
              "#bd3786"
             ],
             [
              0.5555555555555556,
              "#d8576b"
             ],
             [
              0.6666666666666666,
              "#ed7953"
             ],
             [
              0.7777777777777778,
              "#fb9f3a"
             ],
             [
              0.8888888888888888,
              "#fdca26"
             ],
             [
              1,
              "#f0f921"
             ]
            ],
            "type": "heatmapgl"
           }
          ],
          "histogram": [
           {
            "marker": {
             "pattern": {
              "fillmode": "overlay",
              "size": 10,
              "solidity": 0.2
             }
            },
            "type": "histogram"
           }
          ],
          "histogram2d": [
           {
            "colorbar": {
             "outlinewidth": 0,
             "ticks": ""
            },
            "colorscale": [
             [
              0,
              "#0d0887"
             ],
             [
              0.1111111111111111,
              "#46039f"
             ],
             [
              0.2222222222222222,
              "#7201a8"
             ],
             [
              0.3333333333333333,
              "#9c179e"
             ],
             [
              0.4444444444444444,
              "#bd3786"
             ],
             [
              0.5555555555555556,
              "#d8576b"
             ],
             [
              0.6666666666666666,
              "#ed7953"
             ],
             [
              0.7777777777777778,
              "#fb9f3a"
             ],
             [
              0.8888888888888888,
              "#fdca26"
             ],
             [
              1,
              "#f0f921"
             ]
            ],
            "type": "histogram2d"
           }
          ],
          "histogram2dcontour": [
           {
            "colorbar": {
             "outlinewidth": 0,
             "ticks": ""
            },
            "colorscale": [
             [
              0,
              "#0d0887"
             ],
             [
              0.1111111111111111,
              "#46039f"
             ],
             [
              0.2222222222222222,
              "#7201a8"
             ],
             [
              0.3333333333333333,
              "#9c179e"
             ],
             [
              0.4444444444444444,
              "#bd3786"
             ],
             [
              0.5555555555555556,
              "#d8576b"
             ],
             [
              0.6666666666666666,
              "#ed7953"
             ],
             [
              0.7777777777777778,
              "#fb9f3a"
             ],
             [
              0.8888888888888888,
              "#fdca26"
             ],
             [
              1,
              "#f0f921"
             ]
            ],
            "type": "histogram2dcontour"
           }
          ],
          "mesh3d": [
           {
            "colorbar": {
             "outlinewidth": 0,
             "ticks": ""
            },
            "type": "mesh3d"
           }
          ],
          "parcoords": [
           {
            "line": {
             "colorbar": {
              "outlinewidth": 0,
              "ticks": ""
             }
            },
            "type": "parcoords"
           }
          ],
          "pie": [
           {
            "automargin": true,
            "type": "pie"
           }
          ],
          "scatter": [
           {
            "fillpattern": {
             "fillmode": "overlay",
             "size": 10,
             "solidity": 0.2
            },
            "type": "scatter"
           }
          ],
          "scatter3d": [
           {
            "line": {
             "colorbar": {
              "outlinewidth": 0,
              "ticks": ""
             }
            },
            "marker": {
             "colorbar": {
              "outlinewidth": 0,
              "ticks": ""
             }
            },
            "type": "scatter3d"
           }
          ],
          "scattercarpet": [
           {
            "marker": {
             "colorbar": {
              "outlinewidth": 0,
              "ticks": ""
             }
            },
            "type": "scattercarpet"
           }
          ],
          "scattergeo": [
           {
            "marker": {
             "colorbar": {
              "outlinewidth": 0,
              "ticks": ""
             }
            },
            "type": "scattergeo"
           }
          ],
          "scattergl": [
           {
            "marker": {
             "colorbar": {
              "outlinewidth": 0,
              "ticks": ""
             }
            },
            "type": "scattergl"
           }
          ],
          "scattermapbox": [
           {
            "marker": {
             "colorbar": {
              "outlinewidth": 0,
              "ticks": ""
             }
            },
            "type": "scattermapbox"
           }
          ],
          "scatterpolar": [
           {
            "marker": {
             "colorbar": {
              "outlinewidth": 0,
              "ticks": ""
             }
            },
            "type": "scatterpolar"
           }
          ],
          "scatterpolargl": [
           {
            "marker": {
             "colorbar": {
              "outlinewidth": 0,
              "ticks": ""
             }
            },
            "type": "scatterpolargl"
           }
          ],
          "scatterternary": [
           {
            "marker": {
             "colorbar": {
              "outlinewidth": 0,
              "ticks": ""
             }
            },
            "type": "scatterternary"
           }
          ],
          "surface": [
           {
            "colorbar": {
             "outlinewidth": 0,
             "ticks": ""
            },
            "colorscale": [
             [
              0,
              "#0d0887"
             ],
             [
              0.1111111111111111,
              "#46039f"
             ],
             [
              0.2222222222222222,
              "#7201a8"
             ],
             [
              0.3333333333333333,
              "#9c179e"
             ],
             [
              0.4444444444444444,
              "#bd3786"
             ],
             [
              0.5555555555555556,
              "#d8576b"
             ],
             [
              0.6666666666666666,
              "#ed7953"
             ],
             [
              0.7777777777777778,
              "#fb9f3a"
             ],
             [
              0.8888888888888888,
              "#fdca26"
             ],
             [
              1,
              "#f0f921"
             ]
            ],
            "type": "surface"
           }
          ],
          "table": [
           {
            "cells": {
             "fill": {
              "color": "#EBF0F8"
             },
             "line": {
              "color": "white"
             }
            },
            "header": {
             "fill": {
              "color": "#C8D4E3"
             },
             "line": {
              "color": "white"
             }
            },
            "type": "table"
           }
          ]
         },
         "layout": {
          "annotationdefaults": {
           "arrowcolor": "#2a3f5f",
           "arrowhead": 0,
           "arrowwidth": 1
          },
          "autotypenumbers": "strict",
          "coloraxis": {
           "colorbar": {
            "outlinewidth": 0,
            "ticks": ""
           }
          },
          "colorscale": {
           "diverging": [
            [
             0,
             "#8e0152"
            ],
            [
             0.1,
             "#c51b7d"
            ],
            [
             0.2,
             "#de77ae"
            ],
            [
             0.3,
             "#f1b6da"
            ],
            [
             0.4,
             "#fde0ef"
            ],
            [
             0.5,
             "#f7f7f7"
            ],
            [
             0.6,
             "#e6f5d0"
            ],
            [
             0.7,
             "#b8e186"
            ],
            [
             0.8,
             "#7fbc41"
            ],
            [
             0.9,
             "#4d9221"
            ],
            [
             1,
             "#276419"
            ]
           ],
           "sequential": [
            [
             0,
             "#0d0887"
            ],
            [
             0.1111111111111111,
             "#46039f"
            ],
            [
             0.2222222222222222,
             "#7201a8"
            ],
            [
             0.3333333333333333,
             "#9c179e"
            ],
            [
             0.4444444444444444,
             "#bd3786"
            ],
            [
             0.5555555555555556,
             "#d8576b"
            ],
            [
             0.6666666666666666,
             "#ed7953"
            ],
            [
             0.7777777777777778,
             "#fb9f3a"
            ],
            [
             0.8888888888888888,
             "#fdca26"
            ],
            [
             1,
             "#f0f921"
            ]
           ],
           "sequentialminus": [
            [
             0,
             "#0d0887"
            ],
            [
             0.1111111111111111,
             "#46039f"
            ],
            [
             0.2222222222222222,
             "#7201a8"
            ],
            [
             0.3333333333333333,
             "#9c179e"
            ],
            [
             0.4444444444444444,
             "#bd3786"
            ],
            [
             0.5555555555555556,
             "#d8576b"
            ],
            [
             0.6666666666666666,
             "#ed7953"
            ],
            [
             0.7777777777777778,
             "#fb9f3a"
            ],
            [
             0.8888888888888888,
             "#fdca26"
            ],
            [
             1,
             "#f0f921"
            ]
           ]
          },
          "colorway": [
           "#636efa",
           "#EF553B",
           "#00cc96",
           "#ab63fa",
           "#FFA15A",
           "#19d3f3",
           "#FF6692",
           "#B6E880",
           "#FF97FF",
           "#FECB52"
          ],
          "font": {
           "color": "#2a3f5f"
          },
          "geo": {
           "bgcolor": "white",
           "lakecolor": "white",
           "landcolor": "#E5ECF6",
           "showlakes": true,
           "showland": true,
           "subunitcolor": "white"
          },
          "hoverlabel": {
           "align": "left"
          },
          "hovermode": "closest",
          "mapbox": {
           "style": "light"
          },
          "paper_bgcolor": "white",
          "plot_bgcolor": "#E5ECF6",
          "polar": {
           "angularaxis": {
            "gridcolor": "white",
            "linecolor": "white",
            "ticks": ""
           },
           "bgcolor": "#E5ECF6",
           "radialaxis": {
            "gridcolor": "white",
            "linecolor": "white",
            "ticks": ""
           }
          },
          "scene": {
           "xaxis": {
            "backgroundcolor": "#E5ECF6",
            "gridcolor": "white",
            "gridwidth": 2,
            "linecolor": "white",
            "showbackground": true,
            "ticks": "",
            "zerolinecolor": "white"
           },
           "yaxis": {
            "backgroundcolor": "#E5ECF6",
            "gridcolor": "white",
            "gridwidth": 2,
            "linecolor": "white",
            "showbackground": true,
            "ticks": "",
            "zerolinecolor": "white"
           },
           "zaxis": {
            "backgroundcolor": "#E5ECF6",
            "gridcolor": "white",
            "gridwidth": 2,
            "linecolor": "white",
            "showbackground": true,
            "ticks": "",
            "zerolinecolor": "white"
           }
          },
          "shapedefaults": {
           "line": {
            "color": "#2a3f5f"
           }
          },
          "ternary": {
           "aaxis": {
            "gridcolor": "white",
            "linecolor": "white",
            "ticks": ""
           },
           "baxis": {
            "gridcolor": "white",
            "linecolor": "white",
            "ticks": ""
           },
           "bgcolor": "#E5ECF6",
           "caxis": {
            "gridcolor": "white",
            "linecolor": "white",
            "ticks": ""
           }
          },
          "title": {
           "x": 0.05
          },
          "xaxis": {
           "automargin": true,
           "gridcolor": "white",
           "linecolor": "white",
           "ticks": "",
           "title": {
            "standoff": 15
           },
           "zerolinecolor": "white",
           "zerolinewidth": 2
          },
          "yaxis": {
           "automargin": true,
           "gridcolor": "white",
           "linecolor": "white",
           "ticks": "",
           "title": {
            "standoff": 15
           },
           "zerolinecolor": "white",
           "zerolinewidth": 2
          }
         }
        },
        "title": {
         "text": "Spacecraft 1-3 Access, In Fov, and Connected"
        },
        "xaxis": {
         "anchor": "y",
         "domain": [
          0,
          1
         ],
         "type": "date"
        },
        "yaxis": {
         "anchor": "x",
         "categoryorder": "total ascending",
         "domain": [
          0,
          1
         ],
         "title": {
          "text": "antenna"
         }
        }
       }
      }
     },
     "metadata": {},
     "output_type": "display_data"
    },
    {
     "data": {
      "application/vnd.plotly.v1+json": {
       "config": {
        "plotlyServerURL": "https://plot.ly"
       },
       "data": [
        {
         "alignmentgroup": "True",
         "base": [
          "2024-10-31T01:13:20.000086+00:00",
          "2024-10-31T02:54:10.000087+00:00",
          "2024-10-31T04:35:00.000086+00:00",
          "2024-10-31T06:15:40.000086+00:00",
          "2024-10-31T07:56:30.000086+00:00",
          "2024-10-31T00:00:00.000086+00:00",
          "2024-10-31T05:55:30.000086+00:00",
          "2024-10-31T07:36:10.000086+00:00",
          "2024-10-31T09:20:40.000086+00:00",
          "2024-10-31T03:10:00.000086+00:00",
          "2024-10-31T04:49:40.000086+00:00",
          "2024-10-31T07:28:30.000086+00:00",
          "2024-10-31T09:07:50.000086+00:00",
          "2024-10-31T10:54:40.000086+00:00",
          "2024-10-31T00:03:50.000086+00:00",
          "2024-10-31T10:40:30.000086+00:00",
          "2024-10-31T08:07:50.000086+00:00",
          "2024-10-31T09:48:00.000087+00:00",
          "2024-10-31T06:33:50.000087+00:00",
          "2024-10-31T08:14:40.000086+00:00",
          "2024-10-31T05:38:40.000086+00:00",
          "2024-10-31T07:19:10.000086+00:00",
          "2024-10-31T00:20:20.000086+00:00",
          "2024-10-31T02:01:40.000086+00:00",
          "2024-10-31T03:44:10.000086+00:00",
          "2024-10-31T05:25:50.000086+00:00",
          "2024-10-31T07:06:30.000086+00:00",
          "2024-10-31T08:47:20.000086+00:00",
          "2024-10-31T09:22:10.000086+00:00",
          "2024-10-31T10:59:10.000086+00:00"
         ],
         "hovertemplate": "type=access<br>start=%{base}<br>end=%{x}<br>antenna=%{y}<extra></extra>",
         "legendgroup": "access",
         "marker": {
          "color": "#636efa",
          "pattern": {
           "shape": ""
          }
         },
         "name": "access",
         "offsetgroup": "access",
         "orientation": "h",
         "showlegend": true,
         "textposition": "auto",
         "type": "bar",
         "x": [
          830000,
          819999.999,
          830000,
          810000,
          680000,
          310000,
          790000,
          770000.001,
          470000.001,
          680000,
          810000,
          690000,
          790000,
          140000,
          700000.001,
          590000,
          730000,
          739999.999,
          759999.999,
          690000,
          760000,
          740000,
          820000,
          770000.001,
          700000,
          750000,
          820000,
          730000.001,
          460000,
          660000
         ],
         "xaxis": "x",
         "y": [
          "Dundee",
          "Dundee",
          "Dundee",
          "Dundee",
          "Dundee",
          "Chitose",
          "Mojave",
          "Mojave",
          "Mojave",
          "Dubai",
          "Dubai",
          "Paumalu",
          "Paumalu",
          "Paumalu",
          "Harmon",
          "Harmon",
          "Sunyani",
          "Sunyani",
          "Mwulire",
          "Mwulire",
          "Tahiti",
          "Tahiti",
          "Awarua",
          "Awarua",
          "Awarua",
          "Awarua",
          "Awarua",
          "Awarua",
          "Utqiagvik",
          "Utqiagvik"
         ],
         "yaxis": "y"
        },
        {
         "alignmentgroup": "True",
         "base": [
          "2024-10-31T01:14:10.000086+00:00",
          "2024-10-31T02:54:50.000086+00:00",
          "2024-10-31T04:35:30.000086+00:00",
          "2024-10-31T06:16:50.000086+00:00",
          "2024-10-31T07:56:30.000086+00:00",
          "2024-10-31T08:06:20.000086+00:00",
          "2024-10-31T00:00:10.000086+00:00",
          "2024-10-31T06:00:10.000086+00:00",
          "2024-10-31T07:36:10.000086+00:00",
          "2024-10-31T09:20:40.000086+00:00",
          "2024-10-31T03:10:00.000086+00:00",
          "2024-10-31T04:50:00.000086+00:00",
          "2024-10-31T04:58:40.000086+00:00",
          "2024-10-31T07:28:30.000086+00:00",
          "2024-10-31T09:17:20.000086+00:00",
          "2024-10-31T10:54:40.000086+00:00",
          "2024-10-31T00:03:50.000086+00:00",
          "2024-10-31T10:40:30.000086+00:00",
          "2024-10-31T10:47:40.000086+00:00",
          "2024-10-31T08:22:30.000086+00:00",
          "2024-10-31T05:38:40.000086+00:00",
          "2024-10-31T07:27:30.000086+00:00",
          "2024-10-31T02:02:50.000086+00:00",
          "2024-10-31T08:47:20.000086+00:00"
         ],
         "hovertemplate": "type=inFov<br>start=%{base}<br>end=%{x}<br>antenna=%{y}<extra></extra>",
         "legendgroup": "inFov",
         "marker": {
          "color": "#EF553B",
          "pattern": {
           "shape": ""
          }
         },
         "name": "inFov",
         "offsetgroup": "inFov",
         "orientation": "h",
         "showlegend": true,
         "textposition": "auto",
         "type": "bar",
         "x": [
          770000,
          770000,
          790000,
          190000,
          210000,
          80000,
          290000,
          500000,
          770000.001,
          460000,
          670000,
          160000,
          220000,
          240000,
          210000.001,
          140000,
          690000,
          20000,
          160000,
          190000,
          750000.001,
          90000,
          140000,
          200000
         ],
         "xaxis": "x",
         "y": [
          "Dundee",
          "Dundee",
          "Dundee",
          "Dundee",
          "Dundee",
          "Dundee",
          "Chitose",
          "Mojave",
          "Mojave",
          "Mojave",
          "Dubai",
          "Dubai",
          "Dubai",
          "Paumalu",
          "Paumalu",
          "Paumalu",
          "Harmon",
          "Harmon",
          "Harmon",
          "Mwulire",
          "Tahiti",
          "Tahiti",
          "Awarua",
          "Awarua"
         ],
         "yaxis": "y"
        },
        {
         "alignmentgroup": "True",
         "base": [
          "2024-10-31T01:14:10.000086+00:00",
          "2024-10-31T02:54:50.000086+00:00",
          "2024-10-31T04:35:30.000086+00:00",
          "2024-10-31T08:06:20.000086+00:00",
          "2024-10-31T00:00:10.000086+00:00",
          "2024-10-31T06:00:10.000086+00:00",
          "2024-10-31T07:36:10.000086+00:00",
          "2024-10-31T09:20:40.000086+00:00",
          "2024-10-31T03:10:00.000086+00:00",
          "2024-10-31T04:58:40.000086+00:00",
          "2024-10-31T07:28:30.000086+00:00",
          "2024-10-31T09:17:20.000086+00:00",
          "2024-10-31T00:03:50.000086+00:00",
          "2024-10-31T10:40:30.000086+00:00",
          "2024-10-31T10:47:40.000086+00:00",
          "2024-10-31T05:38:40.000086+00:00"
         ],
         "hovertemplate": "type=connected<br>start=%{base}<br>end=%{x}<br>antenna=%{y}<extra></extra>",
         "legendgroup": "connected",
         "marker": {
          "color": "#00cc96",
          "pattern": {
           "shape": ""
          }
         },
         "name": "connected",
         "offsetgroup": "connected",
         "orientation": "h",
         "showlegend": true,
         "textposition": "auto",
         "type": "bar",
         "x": [
          770000,
          770000,
          790000,
          80000,
          290000,
          500000,
          770000.001,
          460000,
          670000,
          220000,
          240000,
          210000.001,
          690000,
          20000,
          160000,
          750000.001
         ],
         "xaxis": "x",
         "y": [
          "Dundee",
          "Dundee",
          "Dundee",
          "Dundee",
          "Chitose",
          "Mojave",
          "Mojave",
          "Mojave",
          "Dubai",
          "Dubai",
          "Paumalu",
          "Paumalu",
          "Harmon",
          "Harmon",
          "Harmon",
          "Tahiti"
         ],
         "yaxis": "y"
        }
       ],
       "layout": {
        "barmode": "overlay",
        "legend": {
         "title": {
          "text": "type"
         },
         "tracegroupgap": 0
        },
        "margin": {
         "t": 60
        },
        "template": {
         "data": {
          "bar": [
           {
            "error_x": {
             "color": "#2a3f5f"
            },
            "error_y": {
             "color": "#2a3f5f"
            },
            "marker": {
             "line": {
              "color": "#E5ECF6",
              "width": 0.5
             },
             "pattern": {
              "fillmode": "overlay",
              "size": 10,
              "solidity": 0.2
             }
            },
            "type": "bar"
           }
          ],
          "barpolar": [
           {
            "marker": {
             "line": {
              "color": "#E5ECF6",
              "width": 0.5
             },
             "pattern": {
              "fillmode": "overlay",
              "size": 10,
              "solidity": 0.2
             }
            },
            "type": "barpolar"
           }
          ],
          "carpet": [
           {
            "aaxis": {
             "endlinecolor": "#2a3f5f",
             "gridcolor": "white",
             "linecolor": "white",
             "minorgridcolor": "white",
             "startlinecolor": "#2a3f5f"
            },
            "baxis": {
             "endlinecolor": "#2a3f5f",
             "gridcolor": "white",
             "linecolor": "white",
             "minorgridcolor": "white",
             "startlinecolor": "#2a3f5f"
            },
            "type": "carpet"
           }
          ],
          "choropleth": [
           {
            "colorbar": {
             "outlinewidth": 0,
             "ticks": ""
            },
            "type": "choropleth"
           }
          ],
          "contour": [
           {
            "colorbar": {
             "outlinewidth": 0,
             "ticks": ""
            },
            "colorscale": [
             [
              0,
              "#0d0887"
             ],
             [
              0.1111111111111111,
              "#46039f"
             ],
             [
              0.2222222222222222,
              "#7201a8"
             ],
             [
              0.3333333333333333,
              "#9c179e"
             ],
             [
              0.4444444444444444,
              "#bd3786"
             ],
             [
              0.5555555555555556,
              "#d8576b"
             ],
             [
              0.6666666666666666,
              "#ed7953"
             ],
             [
              0.7777777777777778,
              "#fb9f3a"
             ],
             [
              0.8888888888888888,
              "#fdca26"
             ],
             [
              1,
              "#f0f921"
             ]
            ],
            "type": "contour"
           }
          ],
          "contourcarpet": [
           {
            "colorbar": {
             "outlinewidth": 0,
             "ticks": ""
            },
            "type": "contourcarpet"
           }
          ],
          "heatmap": [
           {
            "colorbar": {
             "outlinewidth": 0,
             "ticks": ""
            },
            "colorscale": [
             [
              0,
              "#0d0887"
             ],
             [
              0.1111111111111111,
              "#46039f"
             ],
             [
              0.2222222222222222,
              "#7201a8"
             ],
             [
              0.3333333333333333,
              "#9c179e"
             ],
             [
              0.4444444444444444,
              "#bd3786"
             ],
             [
              0.5555555555555556,
              "#d8576b"
             ],
             [
              0.6666666666666666,
              "#ed7953"
             ],
             [
              0.7777777777777778,
              "#fb9f3a"
             ],
             [
              0.8888888888888888,
              "#fdca26"
             ],
             [
              1,
              "#f0f921"
             ]
            ],
            "type": "heatmap"
           }
          ],
          "heatmapgl": [
           {
            "colorbar": {
             "outlinewidth": 0,
             "ticks": ""
            },
            "colorscale": [
             [
              0,
              "#0d0887"
             ],
             [
              0.1111111111111111,
              "#46039f"
             ],
             [
              0.2222222222222222,
              "#7201a8"
             ],
             [
              0.3333333333333333,
              "#9c179e"
             ],
             [
              0.4444444444444444,
              "#bd3786"
             ],
             [
              0.5555555555555556,
              "#d8576b"
             ],
             [
              0.6666666666666666,
              "#ed7953"
             ],
             [
              0.7777777777777778,
              "#fb9f3a"
             ],
             [
              0.8888888888888888,
              "#fdca26"
             ],
             [
              1,
              "#f0f921"
             ]
            ],
            "type": "heatmapgl"
           }
          ],
          "histogram": [
           {
            "marker": {
             "pattern": {
              "fillmode": "overlay",
              "size": 10,
              "solidity": 0.2
             }
            },
            "type": "histogram"
           }
          ],
          "histogram2d": [
           {
            "colorbar": {
             "outlinewidth": 0,
             "ticks": ""
            },
            "colorscale": [
             [
              0,
              "#0d0887"
             ],
             [
              0.1111111111111111,
              "#46039f"
             ],
             [
              0.2222222222222222,
              "#7201a8"
             ],
             [
              0.3333333333333333,
              "#9c179e"
             ],
             [
              0.4444444444444444,
              "#bd3786"
             ],
             [
              0.5555555555555556,
              "#d8576b"
             ],
             [
              0.6666666666666666,
              "#ed7953"
             ],
             [
              0.7777777777777778,
              "#fb9f3a"
             ],
             [
              0.8888888888888888,
              "#fdca26"
             ],
             [
              1,
              "#f0f921"
             ]
            ],
            "type": "histogram2d"
           }
          ],
          "histogram2dcontour": [
           {
            "colorbar": {
             "outlinewidth": 0,
             "ticks": ""
            },
            "colorscale": [
             [
              0,
              "#0d0887"
             ],
             [
              0.1111111111111111,
              "#46039f"
             ],
             [
              0.2222222222222222,
              "#7201a8"
             ],
             [
              0.3333333333333333,
              "#9c179e"
             ],
             [
              0.4444444444444444,
              "#bd3786"
             ],
             [
              0.5555555555555556,
              "#d8576b"
             ],
             [
              0.6666666666666666,
              "#ed7953"
             ],
             [
              0.7777777777777778,
              "#fb9f3a"
             ],
             [
              0.8888888888888888,
              "#fdca26"
             ],
             [
              1,
              "#f0f921"
             ]
            ],
            "type": "histogram2dcontour"
           }
          ],
          "mesh3d": [
           {
            "colorbar": {
             "outlinewidth": 0,
             "ticks": ""
            },
            "type": "mesh3d"
           }
          ],
          "parcoords": [
           {
            "line": {
             "colorbar": {
              "outlinewidth": 0,
              "ticks": ""
             }
            },
            "type": "parcoords"
           }
          ],
          "pie": [
           {
            "automargin": true,
            "type": "pie"
           }
          ],
          "scatter": [
           {
            "fillpattern": {
             "fillmode": "overlay",
             "size": 10,
             "solidity": 0.2
            },
            "type": "scatter"
           }
          ],
          "scatter3d": [
           {
            "line": {
             "colorbar": {
              "outlinewidth": 0,
              "ticks": ""
             }
            },
            "marker": {
             "colorbar": {
              "outlinewidth": 0,
              "ticks": ""
             }
            },
            "type": "scatter3d"
           }
          ],
          "scattercarpet": [
           {
            "marker": {
             "colorbar": {
              "outlinewidth": 0,
              "ticks": ""
             }
            },
            "type": "scattercarpet"
           }
          ],
          "scattergeo": [
           {
            "marker": {
             "colorbar": {
              "outlinewidth": 0,
              "ticks": ""
             }
            },
            "type": "scattergeo"
           }
          ],
          "scattergl": [
           {
            "marker": {
             "colorbar": {
              "outlinewidth": 0,
              "ticks": ""
             }
            },
            "type": "scattergl"
           }
          ],
          "scattermapbox": [
           {
            "marker": {
             "colorbar": {
              "outlinewidth": 0,
              "ticks": ""
             }
            },
            "type": "scattermapbox"
           }
          ],
          "scatterpolar": [
           {
            "marker": {
             "colorbar": {
              "outlinewidth": 0,
              "ticks": ""
             }
            },
            "type": "scatterpolar"
           }
          ],
          "scatterpolargl": [
           {
            "marker": {
             "colorbar": {
              "outlinewidth": 0,
              "ticks": ""
             }
            },
            "type": "scatterpolargl"
           }
          ],
          "scatterternary": [
           {
            "marker": {
             "colorbar": {
              "outlinewidth": 0,
              "ticks": ""
             }
            },
            "type": "scatterternary"
           }
          ],
          "surface": [
           {
            "colorbar": {
             "outlinewidth": 0,
             "ticks": ""
            },
            "colorscale": [
             [
              0,
              "#0d0887"
             ],
             [
              0.1111111111111111,
              "#46039f"
             ],
             [
              0.2222222222222222,
              "#7201a8"
             ],
             [
              0.3333333333333333,
              "#9c179e"
             ],
             [
              0.4444444444444444,
              "#bd3786"
             ],
             [
              0.5555555555555556,
              "#d8576b"
             ],
             [
              0.6666666666666666,
              "#ed7953"
             ],
             [
              0.7777777777777778,
              "#fb9f3a"
             ],
             [
              0.8888888888888888,
              "#fdca26"
             ],
             [
              1,
              "#f0f921"
             ]
            ],
            "type": "surface"
           }
          ],
          "table": [
           {
            "cells": {
             "fill": {
              "color": "#EBF0F8"
             },
             "line": {
              "color": "white"
             }
            },
            "header": {
             "fill": {
              "color": "#C8D4E3"
             },
             "line": {
              "color": "white"
             }
            },
            "type": "table"
           }
          ]
         },
         "layout": {
          "annotationdefaults": {
           "arrowcolor": "#2a3f5f",
           "arrowhead": 0,
           "arrowwidth": 1
          },
          "autotypenumbers": "strict",
          "coloraxis": {
           "colorbar": {
            "outlinewidth": 0,
            "ticks": ""
           }
          },
          "colorscale": {
           "diverging": [
            [
             0,
             "#8e0152"
            ],
            [
             0.1,
             "#c51b7d"
            ],
            [
             0.2,
             "#de77ae"
            ],
            [
             0.3,
             "#f1b6da"
            ],
            [
             0.4,
             "#fde0ef"
            ],
            [
             0.5,
             "#f7f7f7"
            ],
            [
             0.6,
             "#e6f5d0"
            ],
            [
             0.7,
             "#b8e186"
            ],
            [
             0.8,
             "#7fbc41"
            ],
            [
             0.9,
             "#4d9221"
            ],
            [
             1,
             "#276419"
            ]
           ],
           "sequential": [
            [
             0,
             "#0d0887"
            ],
            [
             0.1111111111111111,
             "#46039f"
            ],
            [
             0.2222222222222222,
             "#7201a8"
            ],
            [
             0.3333333333333333,
             "#9c179e"
            ],
            [
             0.4444444444444444,
             "#bd3786"
            ],
            [
             0.5555555555555556,
             "#d8576b"
            ],
            [
             0.6666666666666666,
             "#ed7953"
            ],
            [
             0.7777777777777778,
             "#fb9f3a"
            ],
            [
             0.8888888888888888,
             "#fdca26"
            ],
            [
             1,
             "#f0f921"
            ]
           ],
           "sequentialminus": [
            [
             0,
             "#0d0887"
            ],
            [
             0.1111111111111111,
             "#46039f"
            ],
            [
             0.2222222222222222,
             "#7201a8"
            ],
            [
             0.3333333333333333,
             "#9c179e"
            ],
            [
             0.4444444444444444,
             "#bd3786"
            ],
            [
             0.5555555555555556,
             "#d8576b"
            ],
            [
             0.6666666666666666,
             "#ed7953"
            ],
            [
             0.7777777777777778,
             "#fb9f3a"
            ],
            [
             0.8888888888888888,
             "#fdca26"
            ],
            [
             1,
             "#f0f921"
            ]
           ]
          },
          "colorway": [
           "#636efa",
           "#EF553B",
           "#00cc96",
           "#ab63fa",
           "#FFA15A",
           "#19d3f3",
           "#FF6692",
           "#B6E880",
           "#FF97FF",
           "#FECB52"
          ],
          "font": {
           "color": "#2a3f5f"
          },
          "geo": {
           "bgcolor": "white",
           "lakecolor": "white",
           "landcolor": "#E5ECF6",
           "showlakes": true,
           "showland": true,
           "subunitcolor": "white"
          },
          "hoverlabel": {
           "align": "left"
          },
          "hovermode": "closest",
          "mapbox": {
           "style": "light"
          },
          "paper_bgcolor": "white",
          "plot_bgcolor": "#E5ECF6",
          "polar": {
           "angularaxis": {
            "gridcolor": "white",
            "linecolor": "white",
            "ticks": ""
           },
           "bgcolor": "#E5ECF6",
           "radialaxis": {
            "gridcolor": "white",
            "linecolor": "white",
            "ticks": ""
           }
          },
          "scene": {
           "xaxis": {
            "backgroundcolor": "#E5ECF6",
            "gridcolor": "white",
            "gridwidth": 2,
            "linecolor": "white",
            "showbackground": true,
            "ticks": "",
            "zerolinecolor": "white"
           },
           "yaxis": {
            "backgroundcolor": "#E5ECF6",
            "gridcolor": "white",
            "gridwidth": 2,
            "linecolor": "white",
            "showbackground": true,
            "ticks": "",
            "zerolinecolor": "white"
           },
           "zaxis": {
            "backgroundcolor": "#E5ECF6",
            "gridcolor": "white",
            "gridwidth": 2,
            "linecolor": "white",
            "showbackground": true,
            "ticks": "",
            "zerolinecolor": "white"
           }
          },
          "shapedefaults": {
           "line": {
            "color": "#2a3f5f"
           }
          },
          "ternary": {
           "aaxis": {
            "gridcolor": "white",
            "linecolor": "white",
            "ticks": ""
           },
           "baxis": {
            "gridcolor": "white",
            "linecolor": "white",
            "ticks": ""
           },
           "bgcolor": "#E5ECF6",
           "caxis": {
            "gridcolor": "white",
            "linecolor": "white",
            "ticks": ""
           }
          },
          "title": {
           "x": 0.05
          },
          "xaxis": {
           "automargin": true,
           "gridcolor": "white",
           "linecolor": "white",
           "ticks": "",
           "title": {
            "standoff": 15
           },
           "zerolinecolor": "white",
           "zerolinewidth": 2
          },
          "yaxis": {
           "automargin": true,
           "gridcolor": "white",
           "linecolor": "white",
           "ticks": "",
           "title": {
            "standoff": 15
           },
           "zerolinecolor": "white",
           "zerolinewidth": 2
          }
         }
        },
        "title": {
         "text": "Spacecraft 1-4 Access, In Fov, and Connected"
        },
        "xaxis": {
         "anchor": "y",
         "domain": [
          0,
          1
         ],
         "type": "date"
        },
        "yaxis": {
         "anchor": "x",
         "categoryorder": "total ascending",
         "domain": [
          0,
          1
         ],
         "title": {
          "text": "antenna"
         }
        }
       }
      }
     },
     "metadata": {},
     "output_type": "display_data"
    },
    {
     "data": {
      "application/vnd.plotly.v1+json": {
       "config": {
        "plotlyServerURL": "https://plot.ly"
       },
       "data": [
        {
         "alignmentgroup": "True",
         "base": [
          "2024-10-31T01:00:50.000086+00:00",
          "2024-10-31T02:41:20.000086+00:00",
          "2024-10-31T04:22:10.000086+00:00",
          "2024-10-31T06:02:30.000086+00:00",
          "2024-10-31T07:43:10.000086+00:00",
          "2024-10-31T05:42:50.000086+00:00",
          "2024-10-31T07:22:40.000086+00:00",
          "2024-10-31T09:06:40.000086+00:00",
          "2024-10-31T02:57:30.000086+00:00",
          "2024-10-31T04:36:40.000086+00:00",
          "2024-10-31T06:20:00.000086+00:00",
          "2024-10-31T07:16:00.000086+00:00",
          "2024-10-31T08:54:20.000086+00:00",
          "2024-10-31T10:39:10.000086+00:00",
          "2024-10-31T00:00:00.000086+00:00",
          "2024-10-31T10:28:10.000086+00:00",
          "2024-10-31T07:55:00.000086+00:00",
          "2024-10-31T09:34:10.000086+00:00",
          "2024-10-31T06:21:00.000086+00:00",
          "2024-10-31T08:01:00.000086+00:00",
          "2024-10-31T05:26:00.000086+00:00",
          "2024-10-31T07:05:50.000087+00:00",
          "2024-10-31T00:07:50.000086+00:00",
          "2024-10-31T01:48:40.000086+00:00",
          "2024-10-31T03:31:00.000086+00:00",
          "2024-10-31T05:12:40.000086+00:00",
          "2024-10-31T06:53:20.000087+00:00",
          "2024-10-31T08:33:50.000086+00:00",
          "2024-10-31T10:18:40.000086+00:00",
          "2024-10-31T09:09:30.000086+00:00",
          "2024-10-31T10:46:00.000086+00:00"
         ],
         "hovertemplate": "type=access<br>start=%{base}<br>end=%{x}<br>antenna=%{y}<extra></extra>",
         "legendgroup": "access",
         "marker": {
          "color": "#636efa",
          "pattern": {
           "shape": ""
          }
         },
         "name": "access",
         "offsetgroup": "access",
         "orientation": "h",
         "showlegend": true,
         "textposition": "auto",
         "type": "bar",
         "x": [
          810000,
          820000,
          810000,
          820000,
          700000,
          750000.001,
          790000,
          510000,
          620000,
          810000,
          370000.001,
          610000,
          800000,
          350000,
          210000,
          460000,
          670000.001,
          780000,
          720000,
          740000.001,
          710000,
          759999.999,
          810000,
          790000,
          710000,
          740000,
          809999.999,
          760000.001,
          60000,
          400000,
          630000
         ],
         "xaxis": "x",
         "y": [
          "Dundee",
          "Dundee",
          "Dundee",
          "Dundee",
          "Dundee",
          "Mojave",
          "Mojave",
          "Mojave",
          "Dubai",
          "Dubai",
          "Dubai",
          "Paumalu",
          "Paumalu",
          "Paumalu",
          "Harmon",
          "Harmon",
          "Sunyani",
          "Sunyani",
          "Mwulire",
          "Mwulire",
          "Tahiti",
          "Tahiti",
          "Awarua",
          "Awarua",
          "Awarua",
          "Awarua",
          "Awarua",
          "Awarua",
          "Awarua",
          "Utqiagvik",
          "Utqiagvik"
         ],
         "yaxis": "y"
        },
        {
         "alignmentgroup": "True",
         "base": [
          "2024-10-31T01:01:50.000086+00:00",
          "2024-10-31T02:42:30.000086+00:00",
          "2024-10-31T04:23:30.000086+00:00",
          "2024-10-31T06:03:40.000087+00:00",
          "2024-10-31T07:43:20.000086+00:00",
          "2024-10-31T07:49:00.000087+00:00",
          "2024-10-31T05:51:30.000086+00:00",
          "2024-10-31T07:24:10.000087+00:00",
          "2024-10-31T09:06:40.000086+00:00",
          "2024-10-31T02:57:30.000086+00:00",
          "2024-10-31T04:44:30.000086+00:00",
          "2024-10-31T06:20:00.000086+00:00",
          "2024-10-31T07:16:00.000086+00:00",
          "2024-10-31T08:56:00.000086+00:00",
          "2024-10-31T10:39:10.000086+00:00",
          "2024-10-31T00:00:10.000086+00:00",
          "2024-10-31T10:28:10.000086+00:00",
          "2024-10-31T08:09:20.000086+00:00",
          "2024-10-31T05:26:00.000086+00:00",
          "2024-10-31T08:34:30.000086+00:00"
         ],
         "hovertemplate": "type=inFov<br>start=%{base}<br>end=%{x}<br>antenna=%{y}<extra></extra>",
         "legendgroup": "inFov",
         "marker": {
          "color": "#EF553B",
          "pattern": {
           "shape": ""
          }
         },
         "name": "inFov",
         "offsetgroup": "inFov",
         "orientation": "h",
         "showlegend": true,
         "textposition": "auto",
         "type": "bar",
         "x": [
          740000,
          740000,
          720000,
          179999.999,
          210000,
          39999.999,
          90000.001,
          699999.999,
          500000,
          610000,
          330000,
          360000,
          250000,
          70000,
          250000,
          190000,
          450000,
          110000,
          700000,
          170000
         ],
         "xaxis": "x",
         "y": [
          "Dundee",
          "Dundee",
          "Dundee",
          "Dundee",
          "Dundee",
          "Dundee",
          "Mojave",
          "Mojave",
          "Mojave",
          "Dubai",
          "Dubai",
          "Dubai",
          "Paumalu",
          "Paumalu",
          "Paumalu",
          "Harmon",
          "Harmon",
          "Mwulire",
          "Tahiti",
          "Awarua"
         ],
         "yaxis": "y"
        },
        {
         "alignmentgroup": "True",
         "base": [
          "2024-10-31T01:01:50.000086+00:00",
          "2024-10-31T02:42:30.000086+00:00",
          "2024-10-31T04:23:30.000086+00:00",
          "2024-10-31T07:49:00.000087+00:00",
          "2024-10-31T07:24:10.000087+00:00",
          "2024-10-31T09:06:40.000086+00:00",
          "2024-10-31T02:57:30.000086+00:00",
          "2024-10-31T04:44:30.000086+00:00",
          "2024-10-31T06:20:00.000086+00:00",
          "2024-10-31T07:16:00.000086+00:00",
          "2024-10-31T08:56:00.000086+00:00",
          "2024-10-31T10:39:10.000086+00:00",
          "2024-10-31T00:00:10.000086+00:00",
          "2024-10-31T10:28:10.000086+00:00",
          "2024-10-31T05:26:00.000086+00:00"
         ],
         "hovertemplate": "type=connected<br>start=%{base}<br>end=%{x}<br>antenna=%{y}<extra></extra>",
         "legendgroup": "connected",
         "marker": {
          "color": "#00cc96",
          "pattern": {
           "shape": ""
          }
         },
         "name": "connected",
         "offsetgroup": "connected",
         "orientation": "h",
         "showlegend": true,
         "textposition": "auto",
         "type": "bar",
         "x": [
          740000,
          740000,
          720000,
          39999.999,
          699999.999,
          500000,
          610000,
          330000,
          360000,
          250000,
          70000,
          80000,
          190000,
          450000,
          700000
         ],
         "xaxis": "x",
         "y": [
          "Dundee",
          "Dundee",
          "Dundee",
          "Dundee",
          "Mojave",
          "Mojave",
          "Dubai",
          "Dubai",
          "Dubai",
          "Paumalu",
          "Paumalu",
          "Paumalu",
          "Harmon",
          "Harmon",
          "Tahiti"
         ],
         "yaxis": "y"
        }
       ],
       "layout": {
        "barmode": "overlay",
        "legend": {
         "title": {
          "text": "type"
         },
         "tracegroupgap": 0
        },
        "margin": {
         "t": 60
        },
        "template": {
         "data": {
          "bar": [
           {
            "error_x": {
             "color": "#2a3f5f"
            },
            "error_y": {
             "color": "#2a3f5f"
            },
            "marker": {
             "line": {
              "color": "#E5ECF6",
              "width": 0.5
             },
             "pattern": {
              "fillmode": "overlay",
              "size": 10,
              "solidity": 0.2
             }
            },
            "type": "bar"
           }
          ],
          "barpolar": [
           {
            "marker": {
             "line": {
              "color": "#E5ECF6",
              "width": 0.5
             },
             "pattern": {
              "fillmode": "overlay",
              "size": 10,
              "solidity": 0.2
             }
            },
            "type": "barpolar"
           }
          ],
          "carpet": [
           {
            "aaxis": {
             "endlinecolor": "#2a3f5f",
             "gridcolor": "white",
             "linecolor": "white",
             "minorgridcolor": "white",
             "startlinecolor": "#2a3f5f"
            },
            "baxis": {
             "endlinecolor": "#2a3f5f",
             "gridcolor": "white",
             "linecolor": "white",
             "minorgridcolor": "white",
             "startlinecolor": "#2a3f5f"
            },
            "type": "carpet"
           }
          ],
          "choropleth": [
           {
            "colorbar": {
             "outlinewidth": 0,
             "ticks": ""
            },
            "type": "choropleth"
           }
          ],
          "contour": [
           {
            "colorbar": {
             "outlinewidth": 0,
             "ticks": ""
            },
            "colorscale": [
             [
              0,
              "#0d0887"
             ],
             [
              0.1111111111111111,
              "#46039f"
             ],
             [
              0.2222222222222222,
              "#7201a8"
             ],
             [
              0.3333333333333333,
              "#9c179e"
             ],
             [
              0.4444444444444444,
              "#bd3786"
             ],
             [
              0.5555555555555556,
              "#d8576b"
             ],
             [
              0.6666666666666666,
              "#ed7953"
             ],
             [
              0.7777777777777778,
              "#fb9f3a"
             ],
             [
              0.8888888888888888,
              "#fdca26"
             ],
             [
              1,
              "#f0f921"
             ]
            ],
            "type": "contour"
           }
          ],
          "contourcarpet": [
           {
            "colorbar": {
             "outlinewidth": 0,
             "ticks": ""
            },
            "type": "contourcarpet"
           }
          ],
          "heatmap": [
           {
            "colorbar": {
             "outlinewidth": 0,
             "ticks": ""
            },
            "colorscale": [
             [
              0,
              "#0d0887"
             ],
             [
              0.1111111111111111,
              "#46039f"
             ],
             [
              0.2222222222222222,
              "#7201a8"
             ],
             [
              0.3333333333333333,
              "#9c179e"
             ],
             [
              0.4444444444444444,
              "#bd3786"
             ],
             [
              0.5555555555555556,
              "#d8576b"
             ],
             [
              0.6666666666666666,
              "#ed7953"
             ],
             [
              0.7777777777777778,
              "#fb9f3a"
             ],
             [
              0.8888888888888888,
              "#fdca26"
             ],
             [
              1,
              "#f0f921"
             ]
            ],
            "type": "heatmap"
           }
          ],
          "heatmapgl": [
           {
            "colorbar": {
             "outlinewidth": 0,
             "ticks": ""
            },
            "colorscale": [
             [
              0,
              "#0d0887"
             ],
             [
              0.1111111111111111,
              "#46039f"
             ],
             [
              0.2222222222222222,
              "#7201a8"
             ],
             [
              0.3333333333333333,
              "#9c179e"
             ],
             [
              0.4444444444444444,
              "#bd3786"
             ],
             [
              0.5555555555555556,
              "#d8576b"
             ],
             [
              0.6666666666666666,
              "#ed7953"
             ],
             [
              0.7777777777777778,
              "#fb9f3a"
             ],
             [
              0.8888888888888888,
              "#fdca26"
             ],
             [
              1,
              "#f0f921"
             ]
            ],
            "type": "heatmapgl"
           }
          ],
          "histogram": [
           {
            "marker": {
             "pattern": {
              "fillmode": "overlay",
              "size": 10,
              "solidity": 0.2
             }
            },
            "type": "histogram"
           }
          ],
          "histogram2d": [
           {
            "colorbar": {
             "outlinewidth": 0,
             "ticks": ""
            },
            "colorscale": [
             [
              0,
              "#0d0887"
             ],
             [
              0.1111111111111111,
              "#46039f"
             ],
             [
              0.2222222222222222,
              "#7201a8"
             ],
             [
              0.3333333333333333,
              "#9c179e"
             ],
             [
              0.4444444444444444,
              "#bd3786"
             ],
             [
              0.5555555555555556,
              "#d8576b"
             ],
             [
              0.6666666666666666,
              "#ed7953"
             ],
             [
              0.7777777777777778,
              "#fb9f3a"
             ],
             [
              0.8888888888888888,
              "#fdca26"
             ],
             [
              1,
              "#f0f921"
             ]
            ],
            "type": "histogram2d"
           }
          ],
          "histogram2dcontour": [
           {
            "colorbar": {
             "outlinewidth": 0,
             "ticks": ""
            },
            "colorscale": [
             [
              0,
              "#0d0887"
             ],
             [
              0.1111111111111111,
              "#46039f"
             ],
             [
              0.2222222222222222,
              "#7201a8"
             ],
             [
              0.3333333333333333,
              "#9c179e"
             ],
             [
              0.4444444444444444,
              "#bd3786"
             ],
             [
              0.5555555555555556,
              "#d8576b"
             ],
             [
              0.6666666666666666,
              "#ed7953"
             ],
             [
              0.7777777777777778,
              "#fb9f3a"
             ],
             [
              0.8888888888888888,
              "#fdca26"
             ],
             [
              1,
              "#f0f921"
             ]
            ],
            "type": "histogram2dcontour"
           }
          ],
          "mesh3d": [
           {
            "colorbar": {
             "outlinewidth": 0,
             "ticks": ""
            },
            "type": "mesh3d"
           }
          ],
          "parcoords": [
           {
            "line": {
             "colorbar": {
              "outlinewidth": 0,
              "ticks": ""
             }
            },
            "type": "parcoords"
           }
          ],
          "pie": [
           {
            "automargin": true,
            "type": "pie"
           }
          ],
          "scatter": [
           {
            "fillpattern": {
             "fillmode": "overlay",
             "size": 10,
             "solidity": 0.2
            },
            "type": "scatter"
           }
          ],
          "scatter3d": [
           {
            "line": {
             "colorbar": {
              "outlinewidth": 0,
              "ticks": ""
             }
            },
            "marker": {
             "colorbar": {
              "outlinewidth": 0,
              "ticks": ""
             }
            },
            "type": "scatter3d"
           }
          ],
          "scattercarpet": [
           {
            "marker": {
             "colorbar": {
              "outlinewidth": 0,
              "ticks": ""
             }
            },
            "type": "scattercarpet"
           }
          ],
          "scattergeo": [
           {
            "marker": {
             "colorbar": {
              "outlinewidth": 0,
              "ticks": ""
             }
            },
            "type": "scattergeo"
           }
          ],
          "scattergl": [
           {
            "marker": {
             "colorbar": {
              "outlinewidth": 0,
              "ticks": ""
             }
            },
            "type": "scattergl"
           }
          ],
          "scattermapbox": [
           {
            "marker": {
             "colorbar": {
              "outlinewidth": 0,
              "ticks": ""
             }
            },
            "type": "scattermapbox"
           }
          ],
          "scatterpolar": [
           {
            "marker": {
             "colorbar": {
              "outlinewidth": 0,
              "ticks": ""
             }
            },
            "type": "scatterpolar"
           }
          ],
          "scatterpolargl": [
           {
            "marker": {
             "colorbar": {
              "outlinewidth": 0,
              "ticks": ""
             }
            },
            "type": "scatterpolargl"
           }
          ],
          "scatterternary": [
           {
            "marker": {
             "colorbar": {
              "outlinewidth": 0,
              "ticks": ""
             }
            },
            "type": "scatterternary"
           }
          ],
          "surface": [
           {
            "colorbar": {
             "outlinewidth": 0,
             "ticks": ""
            },
            "colorscale": [
             [
              0,
              "#0d0887"
             ],
             [
              0.1111111111111111,
              "#46039f"
             ],
             [
              0.2222222222222222,
              "#7201a8"
             ],
             [
              0.3333333333333333,
              "#9c179e"
             ],
             [
              0.4444444444444444,
              "#bd3786"
             ],
             [
              0.5555555555555556,
              "#d8576b"
             ],
             [
              0.6666666666666666,
              "#ed7953"
             ],
             [
              0.7777777777777778,
              "#fb9f3a"
             ],
             [
              0.8888888888888888,
              "#fdca26"
             ],
             [
              1,
              "#f0f921"
             ]
            ],
            "type": "surface"
           }
          ],
          "table": [
           {
            "cells": {
             "fill": {
              "color": "#EBF0F8"
             },
             "line": {
              "color": "white"
             }
            },
            "header": {
             "fill": {
              "color": "#C8D4E3"
             },
             "line": {
              "color": "white"
             }
            },
            "type": "table"
           }
          ]
         },
         "layout": {
          "annotationdefaults": {
           "arrowcolor": "#2a3f5f",
           "arrowhead": 0,
           "arrowwidth": 1
          },
          "autotypenumbers": "strict",
          "coloraxis": {
           "colorbar": {
            "outlinewidth": 0,
            "ticks": ""
           }
          },
          "colorscale": {
           "diverging": [
            [
             0,
             "#8e0152"
            ],
            [
             0.1,
             "#c51b7d"
            ],
            [
             0.2,
             "#de77ae"
            ],
            [
             0.3,
             "#f1b6da"
            ],
            [
             0.4,
             "#fde0ef"
            ],
            [
             0.5,
             "#f7f7f7"
            ],
            [
             0.6,
             "#e6f5d0"
            ],
            [
             0.7,
             "#b8e186"
            ],
            [
             0.8,
             "#7fbc41"
            ],
            [
             0.9,
             "#4d9221"
            ],
            [
             1,
             "#276419"
            ]
           ],
           "sequential": [
            [
             0,
             "#0d0887"
            ],
            [
             0.1111111111111111,
             "#46039f"
            ],
            [
             0.2222222222222222,
             "#7201a8"
            ],
            [
             0.3333333333333333,
             "#9c179e"
            ],
            [
             0.4444444444444444,
             "#bd3786"
            ],
            [
             0.5555555555555556,
             "#d8576b"
            ],
            [
             0.6666666666666666,
             "#ed7953"
            ],
            [
             0.7777777777777778,
             "#fb9f3a"
            ],
            [
             0.8888888888888888,
             "#fdca26"
            ],
            [
             1,
             "#f0f921"
            ]
           ],
           "sequentialminus": [
            [
             0,
             "#0d0887"
            ],
            [
             0.1111111111111111,
             "#46039f"
            ],
            [
             0.2222222222222222,
             "#7201a8"
            ],
            [
             0.3333333333333333,
             "#9c179e"
            ],
            [
             0.4444444444444444,
             "#bd3786"
            ],
            [
             0.5555555555555556,
             "#d8576b"
            ],
            [
             0.6666666666666666,
             "#ed7953"
            ],
            [
             0.7777777777777778,
             "#fb9f3a"
            ],
            [
             0.8888888888888888,
             "#fdca26"
            ],
            [
             1,
             "#f0f921"
            ]
           ]
          },
          "colorway": [
           "#636efa",
           "#EF553B",
           "#00cc96",
           "#ab63fa",
           "#FFA15A",
           "#19d3f3",
           "#FF6692",
           "#B6E880",
           "#FF97FF",
           "#FECB52"
          ],
          "font": {
           "color": "#2a3f5f"
          },
          "geo": {
           "bgcolor": "white",
           "lakecolor": "white",
           "landcolor": "#E5ECF6",
           "showlakes": true,
           "showland": true,
           "subunitcolor": "white"
          },
          "hoverlabel": {
           "align": "left"
          },
          "hovermode": "closest",
          "mapbox": {
           "style": "light"
          },
          "paper_bgcolor": "white",
          "plot_bgcolor": "#E5ECF6",
          "polar": {
           "angularaxis": {
            "gridcolor": "white",
            "linecolor": "white",
            "ticks": ""
           },
           "bgcolor": "#E5ECF6",
           "radialaxis": {
            "gridcolor": "white",
            "linecolor": "white",
            "ticks": ""
           }
          },
          "scene": {
           "xaxis": {
            "backgroundcolor": "#E5ECF6",
            "gridcolor": "white",
            "gridwidth": 2,
            "linecolor": "white",
            "showbackground": true,
            "ticks": "",
            "zerolinecolor": "white"
           },
           "yaxis": {
            "backgroundcolor": "#E5ECF6",
            "gridcolor": "white",
            "gridwidth": 2,
            "linecolor": "white",
            "showbackground": true,
            "ticks": "",
            "zerolinecolor": "white"
           },
           "zaxis": {
            "backgroundcolor": "#E5ECF6",
            "gridcolor": "white",
            "gridwidth": 2,
            "linecolor": "white",
            "showbackground": true,
            "ticks": "",
            "zerolinecolor": "white"
           }
          },
          "shapedefaults": {
           "line": {
            "color": "#2a3f5f"
           }
          },
          "ternary": {
           "aaxis": {
            "gridcolor": "white",
            "linecolor": "white",
            "ticks": ""
           },
           "baxis": {
            "gridcolor": "white",
            "linecolor": "white",
            "ticks": ""
           },
           "bgcolor": "#E5ECF6",
           "caxis": {
            "gridcolor": "white",
            "linecolor": "white",
            "ticks": ""
           }
          },
          "title": {
           "x": 0.05
          },
          "xaxis": {
           "automargin": true,
           "gridcolor": "white",
           "linecolor": "white",
           "ticks": "",
           "title": {
            "standoff": 15
           },
           "zerolinecolor": "white",
           "zerolinewidth": 2
          },
          "yaxis": {
           "automargin": true,
           "gridcolor": "white",
           "linecolor": "white",
           "ticks": "",
           "title": {
            "standoff": 15
           },
           "zerolinecolor": "white",
           "zerolinewidth": 2
          }
         }
        },
        "title": {
         "text": "Spacecraft 1-5 Access, In Fov, and Connected"
        },
        "xaxis": {
         "anchor": "y",
         "domain": [
          0,
          1
         ],
         "type": "date"
        },
        "yaxis": {
         "anchor": "x",
         "categoryorder": "total ascending",
         "domain": [
          0,
          1
         ],
         "title": {
          "text": "antenna"
         }
        }
       }
      }
     },
     "metadata": {},
     "output_type": "display_data"
    },
    {
     "data": {
      "application/vnd.plotly.v1+json": {
       "config": {
        "plotlyServerURL": "https://plot.ly"
       },
       "data": [
        {
         "alignmentgroup": "True",
         "base": [
          "2024-10-31T00:48:20.000086+00:00",
          "2024-10-31T02:29:00.000086+00:00",
          "2024-10-31T04:09:50.000086+00:00",
          "2024-10-31T05:50:40.000086+00:00",
          "2024-10-31T07:31:10.000086+00:00",
          "2024-10-31T09:13:50.000086+00:00",
          "2024-10-31T05:31:10.000086+00:00",
          "2024-10-31T07:10:40.000086+00:00",
          "2024-10-31T08:54:10.000087+00:00",
          "2024-10-31T02:45:40.000086+00:00",
          "2024-10-31T04:24:30.000086+00:00",
          "2024-10-31T06:07:10.000087+00:00",
          "2024-10-31T07:04:50.000086+00:00",
          "2024-10-31T08:42:30.000086+00:00",
          "2024-10-31T10:26:20.000086+00:00",
          "2024-10-31T10:17:50.000086+00:00",
          "2024-10-31T11:53:40.000086+00:00",
          "2024-10-31T07:43:40.000087+00:00",
          "2024-10-31T09:22:30.000086+00:00",
          "2024-10-31T06:09:30.000086+00:00",
          "2024-10-31T07:49:00.000087+00:00",
          "2024-10-31T05:14:10.000086+00:00",
          "2024-10-31T06:53:40.000086+00:00",
          "2024-10-31T00:00:00.000086+00:00",
          "2024-10-31T01:36:10.000086+00:00",
          "2024-10-31T03:18:30.000086+00:00",
          "2024-10-31T05:00:30.000086+00:00",
          "2024-10-31T06:41:20.000086+00:00",
          "2024-10-31T08:22:00.000086+00:00",
          "2024-10-31T10:04:50.000086+00:00",
          "2024-10-31T08:58:30.000086+00:00",
          "2024-10-31T10:34:50.000087+00:00"
         ],
         "hovertemplate": "type=access<br>start=%{base}<br>end=%{x}<br>antenna=%{y}<extra></extra>",
         "legendgroup": "access",
         "marker": {
          "color": "#636efa",
          "pattern": {
           "shape": ""
          }
         },
         "name": "access",
         "offsetgroup": "access",
         "orientation": "h",
         "showlegend": true,
         "textposition": "auto",
         "type": "bar",
         "x": [
          820000,
          820000,
          830000,
          820000,
          740000,
          280000,
          720000,
          810000.001,
          570000,
          560000,
          820000,
          500000,
          540000,
          820000,
          480000,
          320000,
          370000,
          609999.999,
          800000,
          670000,
          769999.999,
          680000,
          800000.001,
          530000,
          800000,
          720000,
          730000,
          810000,
          780000,
          350000,
          360000,
          619999.999
         ],
         "xaxis": "x",
         "y": [
          "Dundee",
          "Dundee",
          "Dundee",
          "Dundee",
          "Dundee",
          "Dundee",
          "Mojave",
          "Mojave",
          "Mojave",
          "Dubai",
          "Dubai",
          "Dubai",
          "Paumalu",
          "Paumalu",
          "Paumalu",
          "Harmon",
          "Harmon",
          "Sunyani",
          "Sunyani",
          "Mwulire",
          "Mwulire",
          "Tahiti",
          "Tahiti",
          "Awarua",
          "Awarua",
          "Awarua",
          "Awarua",
          "Awarua",
          "Awarua",
          "Awarua",
          "Utqiagvik",
          "Utqiagvik"
         ],
         "yaxis": "y"
        },
        {
         "alignmentgroup": "True",
         "base": [
          "2024-10-31T00:49:30.000086+00:00",
          "2024-10-31T02:30:10.000086+00:00",
          "2024-10-31T04:11:20.000086+00:00",
          "2024-10-31T05:50:50.000086+00:00",
          "2024-10-31T07:31:40.000086+00:00",
          "2024-10-31T07:35:50.000086+00:00",
          "2024-10-31T09:13:50.000086+00:00",
          "2024-10-31T09:15:00.000086+00:00",
          "2024-10-31T05:39:20.000087+00:00",
          "2024-10-31T07:12:20.000087+00:00",
          "2024-10-31T08:54:10.000087+00:00",
          "2024-10-31T02:45:40.000086+00:00",
          "2024-10-31T02:54:40.000086+00:00",
          "2024-10-31T04:25:50.000086+00:00",
          "2024-10-31T04:30:40.000087+00:00",
          "2024-10-31T06:07:10.000087+00:00",
          "2024-10-31T07:04:50.000086+00:00",
          "2024-10-31T08:44:20.000086+00:00",
          "2024-10-31T10:26:30.000087+00:00",
          "2024-10-31T10:28:50.000086+00:00",
          "2024-10-31T10:17:50.000086+00:00",
          "2024-10-31T11:56:00.000086+00:00",
          "2024-10-31T05:14:10.000086+00:00",
          "2024-10-31T01:36:10.000086+00:00",
          "2024-10-31T08:23:40.000086+00:00",
          "2024-10-31T10:04:50.000086+00:00"
         ],
         "hovertemplate": "type=inFov<br>start=%{base}<br>end=%{x}<br>antenna=%{y}<extra></extra>",
         "legendgroup": "inFov",
         "marker": {
          "color": "#EF553B",
          "pattern": {
           "shape": ""
          }
         },
         "name": "inFov",
         "offsetgroup": "inFov",
         "orientation": "h",
         "showlegend": true,
         "textposition": "auto",
         "type": "bar",
         "x": [
          740000,
          740000,
          730000,
          550000,
          210000,
          10000.001,
          20000,
          210000,
          89999.999,
          710000,
          570000,
          420000,
          10000,
          80000,
          429999.999,
          500000,
          530000,
          700000,
          89999.999,
          170000,
          320000,
          230000,
          670000,
          80000,
          90000.001,
          30000
         ],
         "xaxis": "x",
         "y": [
          "Dundee",
          "Dundee",
          "Dundee",
          "Dundee",
          "Dundee",
          "Dundee",
          "Dundee",
          "Dundee",
          "Mojave",
          "Mojave",
          "Mojave",
          "Dubai",
          "Dubai",
          "Dubai",
          "Dubai",
          "Dubai",
          "Paumalu",
          "Paumalu",
          "Paumalu",
          "Paumalu",
          "Harmon",
          "Harmon",
          "Tahiti",
          "Awarua",
          "Awarua",
          "Awarua"
         ],
         "yaxis": "y"
        },
        {
         "alignmentgroup": "True",
         "base": [
          "2024-10-31T00:49:30.000086+00:00",
          "2024-10-31T02:30:10.000086+00:00",
          "2024-10-31T04:11:20.000086+00:00",
          "2024-10-31T05:52:50.000086+00:00",
          "2024-10-31T07:35:50.000086+00:00",
          "2024-10-31T09:15:00.000086+00:00",
          "2024-10-31T07:12:20.000087+00:00",
          "2024-10-31T08:54:10.000087+00:00",
          "2024-10-31T02:45:40.000086+00:00",
          "2024-10-31T02:54:40.000086+00:00",
          "2024-10-31T04:25:50.000086+00:00",
          "2024-10-31T04:30:40.000087+00:00",
          "2024-10-31T06:07:10.000087+00:00",
          "2024-10-31T07:04:50.000086+00:00",
          "2024-10-31T08:44:20.000086+00:00",
          "2024-10-31T10:26:30.000087+00:00",
          "2024-10-31T10:17:50.000086+00:00",
          "2024-10-31T11:56:00.000086+00:00",
          "2024-10-31T05:14:10.000086+00:00"
         ],
         "hovertemplate": "type=connected<br>start=%{base}<br>end=%{x}<br>antenna=%{y}<extra></extra>",
         "legendgroup": "connected",
         "marker": {
          "color": "#00cc96",
          "pattern": {
           "shape": ""
          }
         },
         "name": "connected",
         "offsetgroup": "connected",
         "orientation": "h",
         "showlegend": true,
         "textposition": "auto",
         "type": "bar",
         "x": [
          740000,
          740000,
          730000,
          430000,
          10000.001,
          210000,
          710000,
          570000,
          420000,
          10000,
          80000,
          429999.999,
          500000,
          530000,
          700000,
          89999.999,
          320000,
          230000,
          670000
         ],
         "xaxis": "x",
         "y": [
          "Dundee",
          "Dundee",
          "Dundee",
          "Dundee",
          "Dundee",
          "Dundee",
          "Mojave",
          "Mojave",
          "Dubai",
          "Dubai",
          "Dubai",
          "Dubai",
          "Dubai",
          "Paumalu",
          "Paumalu",
          "Paumalu",
          "Harmon",
          "Harmon",
          "Tahiti"
         ],
         "yaxis": "y"
        }
       ],
       "layout": {
        "barmode": "overlay",
        "legend": {
         "title": {
          "text": "type"
         },
         "tracegroupgap": 0
        },
        "margin": {
         "t": 60
        },
        "template": {
         "data": {
          "bar": [
           {
            "error_x": {
             "color": "#2a3f5f"
            },
            "error_y": {
             "color": "#2a3f5f"
            },
            "marker": {
             "line": {
              "color": "#E5ECF6",
              "width": 0.5
             },
             "pattern": {
              "fillmode": "overlay",
              "size": 10,
              "solidity": 0.2
             }
            },
            "type": "bar"
           }
          ],
          "barpolar": [
           {
            "marker": {
             "line": {
              "color": "#E5ECF6",
              "width": 0.5
             },
             "pattern": {
              "fillmode": "overlay",
              "size": 10,
              "solidity": 0.2
             }
            },
            "type": "barpolar"
           }
          ],
          "carpet": [
           {
            "aaxis": {
             "endlinecolor": "#2a3f5f",
             "gridcolor": "white",
             "linecolor": "white",
             "minorgridcolor": "white",
             "startlinecolor": "#2a3f5f"
            },
            "baxis": {
             "endlinecolor": "#2a3f5f",
             "gridcolor": "white",
             "linecolor": "white",
             "minorgridcolor": "white",
             "startlinecolor": "#2a3f5f"
            },
            "type": "carpet"
           }
          ],
          "choropleth": [
           {
            "colorbar": {
             "outlinewidth": 0,
             "ticks": ""
            },
            "type": "choropleth"
           }
          ],
          "contour": [
           {
            "colorbar": {
             "outlinewidth": 0,
             "ticks": ""
            },
            "colorscale": [
             [
              0,
              "#0d0887"
             ],
             [
              0.1111111111111111,
              "#46039f"
             ],
             [
              0.2222222222222222,
              "#7201a8"
             ],
             [
              0.3333333333333333,
              "#9c179e"
             ],
             [
              0.4444444444444444,
              "#bd3786"
             ],
             [
              0.5555555555555556,
              "#d8576b"
             ],
             [
              0.6666666666666666,
              "#ed7953"
             ],
             [
              0.7777777777777778,
              "#fb9f3a"
             ],
             [
              0.8888888888888888,
              "#fdca26"
             ],
             [
              1,
              "#f0f921"
             ]
            ],
            "type": "contour"
           }
          ],
          "contourcarpet": [
           {
            "colorbar": {
             "outlinewidth": 0,
             "ticks": ""
            },
            "type": "contourcarpet"
           }
          ],
          "heatmap": [
           {
            "colorbar": {
             "outlinewidth": 0,
             "ticks": ""
            },
            "colorscale": [
             [
              0,
              "#0d0887"
             ],
             [
              0.1111111111111111,
              "#46039f"
             ],
             [
              0.2222222222222222,
              "#7201a8"
             ],
             [
              0.3333333333333333,
              "#9c179e"
             ],
             [
              0.4444444444444444,
              "#bd3786"
             ],
             [
              0.5555555555555556,
              "#d8576b"
             ],
             [
              0.6666666666666666,
              "#ed7953"
             ],
             [
              0.7777777777777778,
              "#fb9f3a"
             ],
             [
              0.8888888888888888,
              "#fdca26"
             ],
             [
              1,
              "#f0f921"
             ]
            ],
            "type": "heatmap"
           }
          ],
          "heatmapgl": [
           {
            "colorbar": {
             "outlinewidth": 0,
             "ticks": ""
            },
            "colorscale": [
             [
              0,
              "#0d0887"
             ],
             [
              0.1111111111111111,
              "#46039f"
             ],
             [
              0.2222222222222222,
              "#7201a8"
             ],
             [
              0.3333333333333333,
              "#9c179e"
             ],
             [
              0.4444444444444444,
              "#bd3786"
             ],
             [
              0.5555555555555556,
              "#d8576b"
             ],
             [
              0.6666666666666666,
              "#ed7953"
             ],
             [
              0.7777777777777778,
              "#fb9f3a"
             ],
             [
              0.8888888888888888,
              "#fdca26"
             ],
             [
              1,
              "#f0f921"
             ]
            ],
            "type": "heatmapgl"
           }
          ],
          "histogram": [
           {
            "marker": {
             "pattern": {
              "fillmode": "overlay",
              "size": 10,
              "solidity": 0.2
             }
            },
            "type": "histogram"
           }
          ],
          "histogram2d": [
           {
            "colorbar": {
             "outlinewidth": 0,
             "ticks": ""
            },
            "colorscale": [
             [
              0,
              "#0d0887"
             ],
             [
              0.1111111111111111,
              "#46039f"
             ],
             [
              0.2222222222222222,
              "#7201a8"
             ],
             [
              0.3333333333333333,
              "#9c179e"
             ],
             [
              0.4444444444444444,
              "#bd3786"
             ],
             [
              0.5555555555555556,
              "#d8576b"
             ],
             [
              0.6666666666666666,
              "#ed7953"
             ],
             [
              0.7777777777777778,
              "#fb9f3a"
             ],
             [
              0.8888888888888888,
              "#fdca26"
             ],
             [
              1,
              "#f0f921"
             ]
            ],
            "type": "histogram2d"
           }
          ],
          "histogram2dcontour": [
           {
            "colorbar": {
             "outlinewidth": 0,
             "ticks": ""
            },
            "colorscale": [
             [
              0,
              "#0d0887"
             ],
             [
              0.1111111111111111,
              "#46039f"
             ],
             [
              0.2222222222222222,
              "#7201a8"
             ],
             [
              0.3333333333333333,
              "#9c179e"
             ],
             [
              0.4444444444444444,
              "#bd3786"
             ],
             [
              0.5555555555555556,
              "#d8576b"
             ],
             [
              0.6666666666666666,
              "#ed7953"
             ],
             [
              0.7777777777777778,
              "#fb9f3a"
             ],
             [
              0.8888888888888888,
              "#fdca26"
             ],
             [
              1,
              "#f0f921"
             ]
            ],
            "type": "histogram2dcontour"
           }
          ],
          "mesh3d": [
           {
            "colorbar": {
             "outlinewidth": 0,
             "ticks": ""
            },
            "type": "mesh3d"
           }
          ],
          "parcoords": [
           {
            "line": {
             "colorbar": {
              "outlinewidth": 0,
              "ticks": ""
             }
            },
            "type": "parcoords"
           }
          ],
          "pie": [
           {
            "automargin": true,
            "type": "pie"
           }
          ],
          "scatter": [
           {
            "fillpattern": {
             "fillmode": "overlay",
             "size": 10,
             "solidity": 0.2
            },
            "type": "scatter"
           }
          ],
          "scatter3d": [
           {
            "line": {
             "colorbar": {
              "outlinewidth": 0,
              "ticks": ""
             }
            },
            "marker": {
             "colorbar": {
              "outlinewidth": 0,
              "ticks": ""
             }
            },
            "type": "scatter3d"
           }
          ],
          "scattercarpet": [
           {
            "marker": {
             "colorbar": {
              "outlinewidth": 0,
              "ticks": ""
             }
            },
            "type": "scattercarpet"
           }
          ],
          "scattergeo": [
           {
            "marker": {
             "colorbar": {
              "outlinewidth": 0,
              "ticks": ""
             }
            },
            "type": "scattergeo"
           }
          ],
          "scattergl": [
           {
            "marker": {
             "colorbar": {
              "outlinewidth": 0,
              "ticks": ""
             }
            },
            "type": "scattergl"
           }
          ],
          "scattermapbox": [
           {
            "marker": {
             "colorbar": {
              "outlinewidth": 0,
              "ticks": ""
             }
            },
            "type": "scattermapbox"
           }
          ],
          "scatterpolar": [
           {
            "marker": {
             "colorbar": {
              "outlinewidth": 0,
              "ticks": ""
             }
            },
            "type": "scatterpolar"
           }
          ],
          "scatterpolargl": [
           {
            "marker": {
             "colorbar": {
              "outlinewidth": 0,
              "ticks": ""
             }
            },
            "type": "scatterpolargl"
           }
          ],
          "scatterternary": [
           {
            "marker": {
             "colorbar": {
              "outlinewidth": 0,
              "ticks": ""
             }
            },
            "type": "scatterternary"
           }
          ],
          "surface": [
           {
            "colorbar": {
             "outlinewidth": 0,
             "ticks": ""
            },
            "colorscale": [
             [
              0,
              "#0d0887"
             ],
             [
              0.1111111111111111,
              "#46039f"
             ],
             [
              0.2222222222222222,
              "#7201a8"
             ],
             [
              0.3333333333333333,
              "#9c179e"
             ],
             [
              0.4444444444444444,
              "#bd3786"
             ],
             [
              0.5555555555555556,
              "#d8576b"
             ],
             [
              0.6666666666666666,
              "#ed7953"
             ],
             [
              0.7777777777777778,
              "#fb9f3a"
             ],
             [
              0.8888888888888888,
              "#fdca26"
             ],
             [
              1,
              "#f0f921"
             ]
            ],
            "type": "surface"
           }
          ],
          "table": [
           {
            "cells": {
             "fill": {
              "color": "#EBF0F8"
             },
             "line": {
              "color": "white"
             }
            },
            "header": {
             "fill": {
              "color": "#C8D4E3"
             },
             "line": {
              "color": "white"
             }
            },
            "type": "table"
           }
          ]
         },
         "layout": {
          "annotationdefaults": {
           "arrowcolor": "#2a3f5f",
           "arrowhead": 0,
           "arrowwidth": 1
          },
          "autotypenumbers": "strict",
          "coloraxis": {
           "colorbar": {
            "outlinewidth": 0,
            "ticks": ""
           }
          },
          "colorscale": {
           "diverging": [
            [
             0,
             "#8e0152"
            ],
            [
             0.1,
             "#c51b7d"
            ],
            [
             0.2,
             "#de77ae"
            ],
            [
             0.3,
             "#f1b6da"
            ],
            [
             0.4,
             "#fde0ef"
            ],
            [
             0.5,
             "#f7f7f7"
            ],
            [
             0.6,
             "#e6f5d0"
            ],
            [
             0.7,
             "#b8e186"
            ],
            [
             0.8,
             "#7fbc41"
            ],
            [
             0.9,
             "#4d9221"
            ],
            [
             1,
             "#276419"
            ]
           ],
           "sequential": [
            [
             0,
             "#0d0887"
            ],
            [
             0.1111111111111111,
             "#46039f"
            ],
            [
             0.2222222222222222,
             "#7201a8"
            ],
            [
             0.3333333333333333,
             "#9c179e"
            ],
            [
             0.4444444444444444,
             "#bd3786"
            ],
            [
             0.5555555555555556,
             "#d8576b"
            ],
            [
             0.6666666666666666,
             "#ed7953"
            ],
            [
             0.7777777777777778,
             "#fb9f3a"
            ],
            [
             0.8888888888888888,
             "#fdca26"
            ],
            [
             1,
             "#f0f921"
            ]
           ],
           "sequentialminus": [
            [
             0,
             "#0d0887"
            ],
            [
             0.1111111111111111,
             "#46039f"
            ],
            [
             0.2222222222222222,
             "#7201a8"
            ],
            [
             0.3333333333333333,
             "#9c179e"
            ],
            [
             0.4444444444444444,
             "#bd3786"
            ],
            [
             0.5555555555555556,
             "#d8576b"
            ],
            [
             0.6666666666666666,
             "#ed7953"
            ],
            [
             0.7777777777777778,
             "#fb9f3a"
            ],
            [
             0.8888888888888888,
             "#fdca26"
            ],
            [
             1,
             "#f0f921"
            ]
           ]
          },
          "colorway": [
           "#636efa",
           "#EF553B",
           "#00cc96",
           "#ab63fa",
           "#FFA15A",
           "#19d3f3",
           "#FF6692",
           "#B6E880",
           "#FF97FF",
           "#FECB52"
          ],
          "font": {
           "color": "#2a3f5f"
          },
          "geo": {
           "bgcolor": "white",
           "lakecolor": "white",
           "landcolor": "#E5ECF6",
           "showlakes": true,
           "showland": true,
           "subunitcolor": "white"
          },
          "hoverlabel": {
           "align": "left"
          },
          "hovermode": "closest",
          "mapbox": {
           "style": "light"
          },
          "paper_bgcolor": "white",
          "plot_bgcolor": "#E5ECF6",
          "polar": {
           "angularaxis": {
            "gridcolor": "white",
            "linecolor": "white",
            "ticks": ""
           },
           "bgcolor": "#E5ECF6",
           "radialaxis": {
            "gridcolor": "white",
            "linecolor": "white",
            "ticks": ""
           }
          },
          "scene": {
           "xaxis": {
            "backgroundcolor": "#E5ECF6",
            "gridcolor": "white",
            "gridwidth": 2,
            "linecolor": "white",
            "showbackground": true,
            "ticks": "",
            "zerolinecolor": "white"
           },
           "yaxis": {
            "backgroundcolor": "#E5ECF6",
            "gridcolor": "white",
            "gridwidth": 2,
            "linecolor": "white",
            "showbackground": true,
            "ticks": "",
            "zerolinecolor": "white"
           },
           "zaxis": {
            "backgroundcolor": "#E5ECF6",
            "gridcolor": "white",
            "gridwidth": 2,
            "linecolor": "white",
            "showbackground": true,
            "ticks": "",
            "zerolinecolor": "white"
           }
          },
          "shapedefaults": {
           "line": {
            "color": "#2a3f5f"
           }
          },
          "ternary": {
           "aaxis": {
            "gridcolor": "white",
            "linecolor": "white",
            "ticks": ""
           },
           "baxis": {
            "gridcolor": "white",
            "linecolor": "white",
            "ticks": ""
           },
           "bgcolor": "#E5ECF6",
           "caxis": {
            "gridcolor": "white",
            "linecolor": "white",
            "ticks": ""
           }
          },
          "title": {
           "x": 0.05
          },
          "xaxis": {
           "automargin": true,
           "gridcolor": "white",
           "linecolor": "white",
           "ticks": "",
           "title": {
            "standoff": 15
           },
           "zerolinecolor": "white",
           "zerolinewidth": 2
          },
          "yaxis": {
           "automargin": true,
           "gridcolor": "white",
           "linecolor": "white",
           "ticks": "",
           "title": {
            "standoff": 15
           },
           "zerolinecolor": "white",
           "zerolinewidth": 2
          }
         }
        },
        "title": {
         "text": "Spacecraft 1-6 Access, In Fov, and Connected"
        },
        "xaxis": {
         "anchor": "y",
         "domain": [
          0,
          1
         ],
         "type": "date"
        },
        "yaxis": {
         "anchor": "x",
         "categoryorder": "total ascending",
         "domain": [
          0,
          1
         ],
         "title": {
          "text": "antenna"
         }
        }
       }
      }
     },
     "metadata": {},
     "output_type": "display_data"
    },
    {
     "data": {
      "application/vnd.plotly.v1+json": {
       "config": {
        "plotlyServerURL": "https://plot.ly"
       },
       "data": [
        {
         "alignmentgroup": "True",
         "base": [
          "2024-10-31T00:35:50.000086+00:00",
          "2024-10-31T02:16:30.000086+00:00",
          "2024-10-31T03:57:30.000087+00:00",
          "2024-10-31T05:38:30.000086+00:00",
          "2024-10-31T07:19:10.000086+00:00",
          "2024-10-31T09:01:20.000086+00:00",
          "2024-10-31T11:51:30.000086+00:00",
          "2024-10-31T05:19:30.000086+00:00",
          "2024-10-31T06:58:30.000086+00:00",
          "2024-10-31T08:41:50.000086+00:00",
          "2024-10-31T10:29:00.000086+00:00",
          "2024-10-31T02:33:50.000086+00:00",
          "2024-10-31T04:12:20.000087+00:00",
          "2024-10-31T05:54:20.000086+00:00",
          "2024-10-31T06:54:00.000087+00:00",
          "2024-10-31T08:30:40.000086+00:00",
          "2024-10-31T10:13:50.000086+00:00",
          "2024-10-31T11:42:20.000087+00:00",
          "2024-10-31T07:32:30.000086+00:00",
          "2024-10-31T09:10:40.000086+00:00",
          "2024-10-31T10:56:50.000086+00:00",
          "2024-10-31T05:58:00.000086+00:00",
          "2024-10-31T07:36:50.000086+00:00",
          "2024-10-31T05:02:30.000086+00:00",
          "2024-10-31T06:41:40.000086+00:00",
          "2024-10-31T01:23:30.000086+00:00",
          "2024-10-31T03:06:00.000087+00:00",
          "2024-10-31T04:48:20.000086+00:00",
          "2024-10-31T06:29:20.000086+00:00",
          "2024-10-31T08:10:10.000086+00:00",
          "2024-10-31T09:52:30.000086+00:00",
          "2024-10-31T08:47:20.000086+00:00",
          "2024-10-31T10:23:20.000086+00:00"
         ],
         "hovertemplate": "type=access<br>start=%{base}<br>end=%{x}<br>antenna=%{y}<extra></extra>",
         "legendgroup": "access",
         "marker": {
          "color": "#636efa",
          "pattern": {
           "shape": ""
          }
         },
         "name": "access",
         "offsetgroup": "access",
         "orientation": "h",
         "showlegend": true,
         "textposition": "auto",
         "type": "bar",
         "x": [
          830000,
          830000,
          839999.999,
          830000,
          770000,
          410000,
          500000,
          690000,
          830000.001,
          620000,
          140000,
          490000,
          819999.999,
          600000,
          419999.999,
          820000,
          570000,
          809999.999,
          520000,
          820000.001,
          120000,
          610000,
          800000,
          620000,
          810000.001,
          810000,
          719999.999,
          720000,
          810000,
          800000,
          460000,
          320000,
          630000
         ],
         "xaxis": "x",
         "y": [
          "Dundee",
          "Dundee",
          "Dundee",
          "Dundee",
          "Dundee",
          "Dundee",
          "Chitose",
          "Mojave",
          "Mojave",
          "Mojave",
          "Mojave",
          "Dubai",
          "Dubai",
          "Dubai",
          "Paumalu",
          "Paumalu",
          "Paumalu",
          "Harmon",
          "Sunyani",
          "Sunyani",
          "Sunyani",
          "Mwulire",
          "Mwulire",
          "Tahiti",
          "Tahiti",
          "Awarua",
          "Awarua",
          "Awarua",
          "Awarua",
          "Awarua",
          "Awarua",
          "Utqiagvik",
          "Utqiagvik"
         ],
         "yaxis": "y"
        },
        {
         "alignmentgroup": "True",
         "base": [
          "2024-10-31T00:36:40.000086+00:00",
          "2024-10-31T02:17:20.000086+00:00",
          "2024-10-31T03:58:10.000086+00:00",
          "2024-10-31T05:39:00.000086+00:00",
          "2024-10-31T05:44:40.000087+00:00",
          "2024-10-31T07:19:50.000086+00:00",
          "2024-10-31T09:01:20.000086+00:00",
          "2024-10-31T09:03:40.000087+00:00",
          "2024-10-31T11:51:30.000086+00:00",
          "2024-10-31T05:27:20.000086+00:00",
          "2024-10-31T06:58:50.000086+00:00",
          "2024-10-31T08:41:50.000086+00:00",
          "2024-10-31T10:29:00.000086+00:00",
          "2024-10-31T02:33:50.000086+00:00",
          "2024-10-31T04:12:40.000086+00:00",
          "2024-10-31T06:00:10.000086+00:00",
          "2024-10-31T06:54:00.000087+00:00",
          "2024-10-31T08:30:50.000086+00:00",
          "2024-10-31T10:17:40.000087+00:00",
          "2024-10-31T11:42:20.000087+00:00",
          "2024-10-31T07:32:30.000086+00:00",
          "2024-10-31T09:10:50.000086+00:00",
          "2024-10-31T05:02:30.000086+00:00",
          "2024-10-31T01:24:10.000087+00:00",
          "2024-10-31T09:52:30.000086+00:00"
         ],
         "hovertemplate": "type=inFov<br>start=%{base}<br>end=%{x}<br>antenna=%{y}<extra></extra>",
         "legendgroup": "inFov",
         "marker": {
          "color": "#EF553B",
          "pattern": {
           "shape": ""
          }
         },
         "name": "inFov",
         "offsetgroup": "inFov",
         "orientation": "h",
         "showlegend": true,
         "textposition": "auto",
         "type": "bar",
         "x": [
          770000,
          770000,
          790000,
          230000,
          369999.999,
          220000,
          90000,
          179999.999,
          380000,
          20000,
          810000.001,
          610000,
          140000,
          480000,
          790000,
          250000,
          419999.999,
          810000,
          129999.999,
          809999.999,
          520000,
          390000,
          600000,
          59999.999,
          80000
         ],
         "xaxis": "x",
         "y": [
          "Dundee",
          "Dundee",
          "Dundee",
          "Dundee",
          "Dundee",
          "Dundee",
          "Dundee",
          "Dundee",
          "Chitose",
          "Mojave",
          "Mojave",
          "Mojave",
          "Mojave",
          "Dubai",
          "Dubai",
          "Dubai",
          "Paumalu",
          "Paumalu",
          "Paumalu",
          "Harmon",
          "Sunyani",
          "Sunyani",
          "Tahiti",
          "Awarua",
          "Awarua"
         ],
         "yaxis": "y"
        },
        {
         "alignmentgroup": "True",
         "base": [
          "2024-10-31T00:36:40.000086+00:00",
          "2024-10-31T02:17:20.000086+00:00",
          "2024-10-31T03:58:10.000086+00:00",
          "2024-10-31T05:44:40.000087+00:00",
          "2024-10-31T09:03:40.000087+00:00",
          "2024-10-31T11:51:30.000086+00:00",
          "2024-10-31T06:58:50.000086+00:00",
          "2024-10-31T08:41:50.000086+00:00",
          "2024-10-31T10:29:00.000086+00:00",
          "2024-10-31T02:33:50.000086+00:00",
          "2024-10-31T04:12:40.000086+00:00",
          "2024-10-31T06:00:10.000086+00:00",
          "2024-10-31T06:54:00.000087+00:00",
          "2024-10-31T08:30:50.000086+00:00",
          "2024-10-31T10:17:40.000087+00:00",
          "2024-10-31T11:42:20.000087+00:00",
          "2024-10-31T07:32:30.000086+00:00",
          "2024-10-31T09:10:50.000086+00:00",
          "2024-10-31T05:02:30.000086+00:00"
         ],
         "hovertemplate": "type=connected<br>start=%{base}<br>end=%{x}<br>antenna=%{y}<extra></extra>",
         "legendgroup": "connected",
         "marker": {
          "color": "#00cc96",
          "pattern": {
           "shape": ""
          }
         },
         "name": "connected",
         "offsetgroup": "connected",
         "orientation": "h",
         "showlegend": true,
         "textposition": "auto",
         "type": "bar",
         "x": [
          770000,
          770000,
          790000,
          369999.999,
          179999.999,
          380000,
          810000.001,
          610000,
          140000,
          480000,
          790000,
          250000,
          419999.999,
          810000,
          9999.999,
          809999.999,
          520000,
          390000,
          600000
         ],
         "xaxis": "x",
         "y": [
          "Dundee",
          "Dundee",
          "Dundee",
          "Dundee",
          "Dundee",
          "Chitose",
          "Mojave",
          "Mojave",
          "Mojave",
          "Dubai",
          "Dubai",
          "Dubai",
          "Paumalu",
          "Paumalu",
          "Paumalu",
          "Harmon",
          "Sunyani",
          "Sunyani",
          "Tahiti"
         ],
         "yaxis": "y"
        }
       ],
       "layout": {
        "barmode": "overlay",
        "legend": {
         "title": {
          "text": "type"
         },
         "tracegroupgap": 0
        },
        "margin": {
         "t": 60
        },
        "template": {
         "data": {
          "bar": [
           {
            "error_x": {
             "color": "#2a3f5f"
            },
            "error_y": {
             "color": "#2a3f5f"
            },
            "marker": {
             "line": {
              "color": "#E5ECF6",
              "width": 0.5
             },
             "pattern": {
              "fillmode": "overlay",
              "size": 10,
              "solidity": 0.2
             }
            },
            "type": "bar"
           }
          ],
          "barpolar": [
           {
            "marker": {
             "line": {
              "color": "#E5ECF6",
              "width": 0.5
             },
             "pattern": {
              "fillmode": "overlay",
              "size": 10,
              "solidity": 0.2
             }
            },
            "type": "barpolar"
           }
          ],
          "carpet": [
           {
            "aaxis": {
             "endlinecolor": "#2a3f5f",
             "gridcolor": "white",
             "linecolor": "white",
             "minorgridcolor": "white",
             "startlinecolor": "#2a3f5f"
            },
            "baxis": {
             "endlinecolor": "#2a3f5f",
             "gridcolor": "white",
             "linecolor": "white",
             "minorgridcolor": "white",
             "startlinecolor": "#2a3f5f"
            },
            "type": "carpet"
           }
          ],
          "choropleth": [
           {
            "colorbar": {
             "outlinewidth": 0,
             "ticks": ""
            },
            "type": "choropleth"
           }
          ],
          "contour": [
           {
            "colorbar": {
             "outlinewidth": 0,
             "ticks": ""
            },
            "colorscale": [
             [
              0,
              "#0d0887"
             ],
             [
              0.1111111111111111,
              "#46039f"
             ],
             [
              0.2222222222222222,
              "#7201a8"
             ],
             [
              0.3333333333333333,
              "#9c179e"
             ],
             [
              0.4444444444444444,
              "#bd3786"
             ],
             [
              0.5555555555555556,
              "#d8576b"
             ],
             [
              0.6666666666666666,
              "#ed7953"
             ],
             [
              0.7777777777777778,
              "#fb9f3a"
             ],
             [
              0.8888888888888888,
              "#fdca26"
             ],
             [
              1,
              "#f0f921"
             ]
            ],
            "type": "contour"
           }
          ],
          "contourcarpet": [
           {
            "colorbar": {
             "outlinewidth": 0,
             "ticks": ""
            },
            "type": "contourcarpet"
           }
          ],
          "heatmap": [
           {
            "colorbar": {
             "outlinewidth": 0,
             "ticks": ""
            },
            "colorscale": [
             [
              0,
              "#0d0887"
             ],
             [
              0.1111111111111111,
              "#46039f"
             ],
             [
              0.2222222222222222,
              "#7201a8"
             ],
             [
              0.3333333333333333,
              "#9c179e"
             ],
             [
              0.4444444444444444,
              "#bd3786"
             ],
             [
              0.5555555555555556,
              "#d8576b"
             ],
             [
              0.6666666666666666,
              "#ed7953"
             ],
             [
              0.7777777777777778,
              "#fb9f3a"
             ],
             [
              0.8888888888888888,
              "#fdca26"
             ],
             [
              1,
              "#f0f921"
             ]
            ],
            "type": "heatmap"
           }
          ],
          "heatmapgl": [
           {
            "colorbar": {
             "outlinewidth": 0,
             "ticks": ""
            },
            "colorscale": [
             [
              0,
              "#0d0887"
             ],
             [
              0.1111111111111111,
              "#46039f"
             ],
             [
              0.2222222222222222,
              "#7201a8"
             ],
             [
              0.3333333333333333,
              "#9c179e"
             ],
             [
              0.4444444444444444,
              "#bd3786"
             ],
             [
              0.5555555555555556,
              "#d8576b"
             ],
             [
              0.6666666666666666,
              "#ed7953"
             ],
             [
              0.7777777777777778,
              "#fb9f3a"
             ],
             [
              0.8888888888888888,
              "#fdca26"
             ],
             [
              1,
              "#f0f921"
             ]
            ],
            "type": "heatmapgl"
           }
          ],
          "histogram": [
           {
            "marker": {
             "pattern": {
              "fillmode": "overlay",
              "size": 10,
              "solidity": 0.2
             }
            },
            "type": "histogram"
           }
          ],
          "histogram2d": [
           {
            "colorbar": {
             "outlinewidth": 0,
             "ticks": ""
            },
            "colorscale": [
             [
              0,
              "#0d0887"
             ],
             [
              0.1111111111111111,
              "#46039f"
             ],
             [
              0.2222222222222222,
              "#7201a8"
             ],
             [
              0.3333333333333333,
              "#9c179e"
             ],
             [
              0.4444444444444444,
              "#bd3786"
             ],
             [
              0.5555555555555556,
              "#d8576b"
             ],
             [
              0.6666666666666666,
              "#ed7953"
             ],
             [
              0.7777777777777778,
              "#fb9f3a"
             ],
             [
              0.8888888888888888,
              "#fdca26"
             ],
             [
              1,
              "#f0f921"
             ]
            ],
            "type": "histogram2d"
           }
          ],
          "histogram2dcontour": [
           {
            "colorbar": {
             "outlinewidth": 0,
             "ticks": ""
            },
            "colorscale": [
             [
              0,
              "#0d0887"
             ],
             [
              0.1111111111111111,
              "#46039f"
             ],
             [
              0.2222222222222222,
              "#7201a8"
             ],
             [
              0.3333333333333333,
              "#9c179e"
             ],
             [
              0.4444444444444444,
              "#bd3786"
             ],
             [
              0.5555555555555556,
              "#d8576b"
             ],
             [
              0.6666666666666666,
              "#ed7953"
             ],
             [
              0.7777777777777778,
              "#fb9f3a"
             ],
             [
              0.8888888888888888,
              "#fdca26"
             ],
             [
              1,
              "#f0f921"
             ]
            ],
            "type": "histogram2dcontour"
           }
          ],
          "mesh3d": [
           {
            "colorbar": {
             "outlinewidth": 0,
             "ticks": ""
            },
            "type": "mesh3d"
           }
          ],
          "parcoords": [
           {
            "line": {
             "colorbar": {
              "outlinewidth": 0,
              "ticks": ""
             }
            },
            "type": "parcoords"
           }
          ],
          "pie": [
           {
            "automargin": true,
            "type": "pie"
           }
          ],
          "scatter": [
           {
            "fillpattern": {
             "fillmode": "overlay",
             "size": 10,
             "solidity": 0.2
            },
            "type": "scatter"
           }
          ],
          "scatter3d": [
           {
            "line": {
             "colorbar": {
              "outlinewidth": 0,
              "ticks": ""
             }
            },
            "marker": {
             "colorbar": {
              "outlinewidth": 0,
              "ticks": ""
             }
            },
            "type": "scatter3d"
           }
          ],
          "scattercarpet": [
           {
            "marker": {
             "colorbar": {
              "outlinewidth": 0,
              "ticks": ""
             }
            },
            "type": "scattercarpet"
           }
          ],
          "scattergeo": [
           {
            "marker": {
             "colorbar": {
              "outlinewidth": 0,
              "ticks": ""
             }
            },
            "type": "scattergeo"
           }
          ],
          "scattergl": [
           {
            "marker": {
             "colorbar": {
              "outlinewidth": 0,
              "ticks": ""
             }
            },
            "type": "scattergl"
           }
          ],
          "scattermapbox": [
           {
            "marker": {
             "colorbar": {
              "outlinewidth": 0,
              "ticks": ""
             }
            },
            "type": "scattermapbox"
           }
          ],
          "scatterpolar": [
           {
            "marker": {
             "colorbar": {
              "outlinewidth": 0,
              "ticks": ""
             }
            },
            "type": "scatterpolar"
           }
          ],
          "scatterpolargl": [
           {
            "marker": {
             "colorbar": {
              "outlinewidth": 0,
              "ticks": ""
             }
            },
            "type": "scatterpolargl"
           }
          ],
          "scatterternary": [
           {
            "marker": {
             "colorbar": {
              "outlinewidth": 0,
              "ticks": ""
             }
            },
            "type": "scatterternary"
           }
          ],
          "surface": [
           {
            "colorbar": {
             "outlinewidth": 0,
             "ticks": ""
            },
            "colorscale": [
             [
              0,
              "#0d0887"
             ],
             [
              0.1111111111111111,
              "#46039f"
             ],
             [
              0.2222222222222222,
              "#7201a8"
             ],
             [
              0.3333333333333333,
              "#9c179e"
             ],
             [
              0.4444444444444444,
              "#bd3786"
             ],
             [
              0.5555555555555556,
              "#d8576b"
             ],
             [
              0.6666666666666666,
              "#ed7953"
             ],
             [
              0.7777777777777778,
              "#fb9f3a"
             ],
             [
              0.8888888888888888,
              "#fdca26"
             ],
             [
              1,
              "#f0f921"
             ]
            ],
            "type": "surface"
           }
          ],
          "table": [
           {
            "cells": {
             "fill": {
              "color": "#EBF0F8"
             },
             "line": {
              "color": "white"
             }
            },
            "header": {
             "fill": {
              "color": "#C8D4E3"
             },
             "line": {
              "color": "white"
             }
            },
            "type": "table"
           }
          ]
         },
         "layout": {
          "annotationdefaults": {
           "arrowcolor": "#2a3f5f",
           "arrowhead": 0,
           "arrowwidth": 1
          },
          "autotypenumbers": "strict",
          "coloraxis": {
           "colorbar": {
            "outlinewidth": 0,
            "ticks": ""
           }
          },
          "colorscale": {
           "diverging": [
            [
             0,
             "#8e0152"
            ],
            [
             0.1,
             "#c51b7d"
            ],
            [
             0.2,
             "#de77ae"
            ],
            [
             0.3,
             "#f1b6da"
            ],
            [
             0.4,
             "#fde0ef"
            ],
            [
             0.5,
             "#f7f7f7"
            ],
            [
             0.6,
             "#e6f5d0"
            ],
            [
             0.7,
             "#b8e186"
            ],
            [
             0.8,
             "#7fbc41"
            ],
            [
             0.9,
             "#4d9221"
            ],
            [
             1,
             "#276419"
            ]
           ],
           "sequential": [
            [
             0,
             "#0d0887"
            ],
            [
             0.1111111111111111,
             "#46039f"
            ],
            [
             0.2222222222222222,
             "#7201a8"
            ],
            [
             0.3333333333333333,
             "#9c179e"
            ],
            [
             0.4444444444444444,
             "#bd3786"
            ],
            [
             0.5555555555555556,
             "#d8576b"
            ],
            [
             0.6666666666666666,
             "#ed7953"
            ],
            [
             0.7777777777777778,
             "#fb9f3a"
            ],
            [
             0.8888888888888888,
             "#fdca26"
            ],
            [
             1,
             "#f0f921"
            ]
           ],
           "sequentialminus": [
            [
             0,
             "#0d0887"
            ],
            [
             0.1111111111111111,
             "#46039f"
            ],
            [
             0.2222222222222222,
             "#7201a8"
            ],
            [
             0.3333333333333333,
             "#9c179e"
            ],
            [
             0.4444444444444444,
             "#bd3786"
            ],
            [
             0.5555555555555556,
             "#d8576b"
            ],
            [
             0.6666666666666666,
             "#ed7953"
            ],
            [
             0.7777777777777778,
             "#fb9f3a"
            ],
            [
             0.8888888888888888,
             "#fdca26"
            ],
            [
             1,
             "#f0f921"
            ]
           ]
          },
          "colorway": [
           "#636efa",
           "#EF553B",
           "#00cc96",
           "#ab63fa",
           "#FFA15A",
           "#19d3f3",
           "#FF6692",
           "#B6E880",
           "#FF97FF",
           "#FECB52"
          ],
          "font": {
           "color": "#2a3f5f"
          },
          "geo": {
           "bgcolor": "white",
           "lakecolor": "white",
           "landcolor": "#E5ECF6",
           "showlakes": true,
           "showland": true,
           "subunitcolor": "white"
          },
          "hoverlabel": {
           "align": "left"
          },
          "hovermode": "closest",
          "mapbox": {
           "style": "light"
          },
          "paper_bgcolor": "white",
          "plot_bgcolor": "#E5ECF6",
          "polar": {
           "angularaxis": {
            "gridcolor": "white",
            "linecolor": "white",
            "ticks": ""
           },
           "bgcolor": "#E5ECF6",
           "radialaxis": {
            "gridcolor": "white",
            "linecolor": "white",
            "ticks": ""
           }
          },
          "scene": {
           "xaxis": {
            "backgroundcolor": "#E5ECF6",
            "gridcolor": "white",
            "gridwidth": 2,
            "linecolor": "white",
            "showbackground": true,
            "ticks": "",
            "zerolinecolor": "white"
           },
           "yaxis": {
            "backgroundcolor": "#E5ECF6",
            "gridcolor": "white",
            "gridwidth": 2,
            "linecolor": "white",
            "showbackground": true,
            "ticks": "",
            "zerolinecolor": "white"
           },
           "zaxis": {
            "backgroundcolor": "#E5ECF6",
            "gridcolor": "white",
            "gridwidth": 2,
            "linecolor": "white",
            "showbackground": true,
            "ticks": "",
            "zerolinecolor": "white"
           }
          },
          "shapedefaults": {
           "line": {
            "color": "#2a3f5f"
           }
          },
          "ternary": {
           "aaxis": {
            "gridcolor": "white",
            "linecolor": "white",
            "ticks": ""
           },
           "baxis": {
            "gridcolor": "white",
            "linecolor": "white",
            "ticks": ""
           },
           "bgcolor": "#E5ECF6",
           "caxis": {
            "gridcolor": "white",
            "linecolor": "white",
            "ticks": ""
           }
          },
          "title": {
           "x": 0.05
          },
          "xaxis": {
           "automargin": true,
           "gridcolor": "white",
           "linecolor": "white",
           "ticks": "",
           "title": {
            "standoff": 15
           },
           "zerolinecolor": "white",
           "zerolinewidth": 2
          },
          "yaxis": {
           "automargin": true,
           "gridcolor": "white",
           "linecolor": "white",
           "ticks": "",
           "title": {
            "standoff": 15
           },
           "zerolinecolor": "white",
           "zerolinewidth": 2
          }
         }
        },
        "title": {
         "text": "Spacecraft 1-7 Access, In Fov, and Connected"
        },
        "xaxis": {
         "anchor": "y",
         "domain": [
          0,
          1
         ],
         "type": "date"
        },
        "yaxis": {
         "anchor": "x",
         "categoryorder": "total ascending",
         "domain": [
          0,
          1
         ],
         "title": {
          "text": "antenna"
         }
        }
       }
      }
     },
     "metadata": {},
     "output_type": "display_data"
    },
    {
     "data": {
      "application/vnd.plotly.v1+json": {
       "config": {
        "plotlyServerURL": "https://plot.ly"
       },
       "data": [
        {
         "alignmentgroup": "True",
         "base": [
          "2024-10-31T00:23:20.000086+00:00",
          "2024-10-31T02:03:40.000086+00:00",
          "2024-10-31T03:44:40.000086+00:00",
          "2024-10-31T05:25:20.000086+00:00",
          "2024-10-31T07:06:00.000086+00:00",
          "2024-10-31T08:47:30.000086+00:00",
          "2024-10-31T11:39:00.000086+00:00",
          "2024-10-31T05:07:10.000086+00:00",
          "2024-10-31T06:45:20.000086+00:00",
          "2024-10-31T08:28:00.000086+00:00",
          "2024-10-31T10:14:30.000086+00:00",
          "2024-10-31T11:58:00.000086+00:00",
          "2024-10-31T02:21:50.000086+00:00",
          "2024-10-31T03:59:30.000086+00:00",
          "2024-10-31T05:40:50.000086+00:00",
          "2024-10-31T06:43:20.000087+00:00",
          "2024-10-31T08:17:30.000086+00:00",
          "2024-10-31T09:59:40.000086+00:00",
          "2024-10-31T00:57:40.000086+00:00",
          "2024-10-31T11:29:00.000086+00:00",
          "2024-10-31T07:20:20.000086+00:00",
          "2024-10-31T08:57:20.000086+00:00",
          "2024-10-31T10:40:50.000086+00:00",
          "2024-10-31T05:45:50.000087+00:00",
          "2024-10-31T07:23:30.000086+00:00",
          "2024-10-31T09:09:30.000086+00:00",
          "2024-10-31T04:50:10.000086+00:00",
          "2024-10-31T06:28:30.000087+00:00",
          "2024-10-31T08:12:10.000086+00:00",
          "2024-10-31T01:10:40.000086+00:00",
          "2024-10-31T02:52:50.000086+00:00",
          "2024-10-31T04:35:10.000086+00:00",
          "2024-10-31T06:16:10.000086+00:00",
          "2024-10-31T07:56:40.000086+00:00",
          "2024-10-31T09:38:30.000086+00:00",
          "2024-10-31T08:35:20.000086+00:00",
          "2024-10-31T10:10:20.000086+00:00",
          "2024-10-31T11:48:20.000086+00:00"
         ],
         "hovertemplate": "type=access<br>start=%{base}<br>end=%{x}<br>antenna=%{y}<extra></extra>",
         "legendgroup": "access",
         "marker": {
          "color": "#636efa",
          "pattern": {
           "shape": ""
          }
         },
         "name": "access",
         "offsetgroup": "access",
         "orientation": "h",
         "showlegend": true,
         "textposition": "auto",
         "type": "bar",
         "x": [
          810000,
          830000,
          820000,
          830000,
          770000.001,
          490000,
          450000.001,
          610000,
          820000,
          650000,
          200000,
          110000,
          360000,
          800000,
          660000,
          119999.999,
          810000,
          630000,
          240000.001,
          780000,
          370000.001,
          810000,
          410000,
          500000,
          810000,
          150000,
          520000,
          819999.999,
          370000,
          820000,
          740000,
          710000,
          800000,
          820000.001,
          540000,
          180000,
          590000,
          690000
         ],
         "xaxis": "x",
         "y": [
          "Dundee",
          "Dundee",
          "Dundee",
          "Dundee",
          "Dundee",
          "Dundee",
          "Chitose",
          "Mojave",
          "Mojave",
          "Mojave",
          "Mojave",
          "Mojave",
          "Dubai",
          "Dubai",
          "Dubai",
          "Paumalu",
          "Paumalu",
          "Paumalu",
          "Harmon",
          "Harmon",
          "Sunyani",
          "Sunyani",
          "Sunyani",
          "Mwulire",
          "Mwulire",
          "Mwulire",
          "Tahiti",
          "Tahiti",
          "Tahiti",
          "Awarua",
          "Awarua",
          "Awarua",
          "Awarua",
          "Awarua",
          "Awarua",
          "Utqiagvik",
          "Utqiagvik",
          "Utqiagvik"
         ],
         "yaxis": "y"
        },
        {
         "alignmentgroup": "True",
         "base": [
          "2024-10-31T00:23:20.000086+00:00",
          "2024-10-31T00:27:30.000086+00:00",
          "2024-10-31T02:03:40.000086+00:00",
          "2024-10-31T03:44:40.000086+00:00",
          "2024-10-31T05:25:20.000086+00:00",
          "2024-10-31T07:06:40.000086+00:00",
          "2024-10-31T08:47:30.000086+00:00",
          "2024-10-31T08:52:00.000086+00:00",
          "2024-10-31T11:39:00.000086+00:00",
          "2024-10-31T05:07:10.000086+00:00",
          "2024-10-31T06:45:20.000086+00:00",
          "2024-10-31T08:28:00.000086+00:00",
          "2024-10-31T10:14:30.000086+00:00",
          "2024-10-31T11:58:00.000086+00:00",
          "2024-10-31T02:21:50.000086+00:00",
          "2024-10-31T03:59:30.000086+00:00",
          "2024-10-31T05:40:50.000086+00:00",
          "2024-10-31T06:43:20.000087+00:00",
          "2024-10-31T08:17:30.000086+00:00",
          "2024-10-31T09:59:40.000086+00:00",
          "2024-10-31T00:57:40.000086+00:00",
          "2024-10-31T11:29:00.000086+00:00",
          "2024-10-31T07:20:20.000086+00:00",
          "2024-10-31T08:57:20.000086+00:00",
          "2024-10-31T10:40:50.000086+00:00",
          "2024-10-31T05:45:50.000087+00:00",
          "2024-10-31T05:51:10.000087+00:00",
          "2024-10-31T04:50:10.000086+00:00",
          "2024-10-31T08:18:10.000086+00:00",
          "2024-10-31T01:10:40.000086+00:00",
          "2024-10-31T02:52:50.000086+00:00"
         ],
         "hovertemplate": "type=inFov<br>start=%{base}<br>end=%{x}<br>antenna=%{y}<extra></extra>",
         "legendgroup": "inFov",
         "marker": {
          "color": "#EF553B",
          "pattern": {
           "shape": ""
          }
         },
         "name": "inFov",
         "offsetgroup": "inFov",
         "orientation": "h",
         "showlegend": true,
         "textposition": "auto",
         "type": "bar",
         "x": [
          90000,
          550000,
          820000,
          810000,
          820000,
          210000,
          120000,
          130000.001,
          450000.001,
          590000,
          810000,
          640000,
          190000.001,
          110000,
          350000,
          790000,
          160000.001,
          119999.999,
          800000,
          300000,
          240000.001,
          770000,
          360000,
          810000,
          410000,
          40000,
          19999.999,
          510000,
          10000,
          810000.001,
          110000
         ],
         "xaxis": "x",
         "y": [
          "Dundee",
          "Dundee",
          "Dundee",
          "Dundee",
          "Dundee",
          "Dundee",
          "Dundee",
          "Dundee",
          "Chitose",
          "Mojave",
          "Mojave",
          "Mojave",
          "Mojave",
          "Mojave",
          "Dubai",
          "Dubai",
          "Dubai",
          "Paumalu",
          "Paumalu",
          "Paumalu",
          "Harmon",
          "Harmon",
          "Sunyani",
          "Sunyani",
          "Sunyani",
          "Mwulire",
          "Mwulire",
          "Tahiti",
          "Tahiti",
          "Awarua",
          "Awarua"
         ],
         "yaxis": "y"
        },
        {
         "alignmentgroup": "True",
         "base": [
          "2024-10-31T00:23:20.000086+00:00",
          "2024-10-31T00:27:30.000086+00:00",
          "2024-10-31T02:03:40.000086+00:00",
          "2024-10-31T03:44:40.000086+00:00",
          "2024-10-31T05:25:20.000086+00:00",
          "2024-10-31T08:52:00.000086+00:00",
          "2024-10-31T11:39:00.000086+00:00",
          "2024-10-31T05:07:10.000086+00:00",
          "2024-10-31T06:45:20.000086+00:00",
          "2024-10-31T08:28:00.000086+00:00",
          "2024-10-31T10:14:40.000087+00:00",
          "2024-10-31T11:58:00.000086+00:00",
          "2024-10-31T02:21:50.000086+00:00",
          "2024-10-31T03:59:30.000086+00:00",
          "2024-10-31T06:43:20.000087+00:00",
          "2024-10-31T08:17:30.000086+00:00",
          "2024-10-31T09:59:40.000086+00:00",
          "2024-10-31T00:57:40.000086+00:00",
          "2024-10-31T11:29:00.000086+00:00",
          "2024-10-31T07:20:20.000086+00:00",
          "2024-10-31T08:57:20.000086+00:00",
          "2024-10-31T10:40:50.000086+00:00",
          "2024-10-31T05:51:10.000087+00:00",
          "2024-10-31T04:50:10.000086+00:00",
          "2024-10-31T01:10:40.000086+00:00",
          "2024-10-31T02:52:50.000086+00:00"
         ],
         "hovertemplate": "type=connected<br>start=%{base}<br>end=%{x}<br>antenna=%{y}<extra></extra>",
         "legendgroup": "connected",
         "marker": {
          "color": "#00cc96",
          "pattern": {
           "shape": ""
          }
         },
         "name": "connected",
         "offsetgroup": "connected",
         "orientation": "h",
         "showlegend": true,
         "textposition": "auto",
         "type": "bar",
         "x": [
          90000,
          550000,
          820000,
          810000,
          820000,
          130000.001,
          450000.001,
          540000,
          810000,
          640000,
          180000,
          110000,
          350000,
          790000,
          119999.999,
          800000,
          290000,
          230000,
          770000,
          360000,
          810000,
          410000,
          19999.999,
          510000,
          810000.001,
          110000
         ],
         "xaxis": "x",
         "y": [
          "Dundee",
          "Dundee",
          "Dundee",
          "Dundee",
          "Dundee",
          "Dundee",
          "Chitose",
          "Mojave",
          "Mojave",
          "Mojave",
          "Mojave",
          "Mojave",
          "Dubai",
          "Dubai",
          "Paumalu",
          "Paumalu",
          "Paumalu",
          "Harmon",
          "Harmon",
          "Sunyani",
          "Sunyani",
          "Sunyani",
          "Mwulire",
          "Tahiti",
          "Awarua",
          "Awarua"
         ],
         "yaxis": "y"
        }
       ],
       "layout": {
        "barmode": "overlay",
        "legend": {
         "title": {
          "text": "type"
         },
         "tracegroupgap": 0
        },
        "margin": {
         "t": 60
        },
        "template": {
         "data": {
          "bar": [
           {
            "error_x": {
             "color": "#2a3f5f"
            },
            "error_y": {
             "color": "#2a3f5f"
            },
            "marker": {
             "line": {
              "color": "#E5ECF6",
              "width": 0.5
             },
             "pattern": {
              "fillmode": "overlay",
              "size": 10,
              "solidity": 0.2
             }
            },
            "type": "bar"
           }
          ],
          "barpolar": [
           {
            "marker": {
             "line": {
              "color": "#E5ECF6",
              "width": 0.5
             },
             "pattern": {
              "fillmode": "overlay",
              "size": 10,
              "solidity": 0.2
             }
            },
            "type": "barpolar"
           }
          ],
          "carpet": [
           {
            "aaxis": {
             "endlinecolor": "#2a3f5f",
             "gridcolor": "white",
             "linecolor": "white",
             "minorgridcolor": "white",
             "startlinecolor": "#2a3f5f"
            },
            "baxis": {
             "endlinecolor": "#2a3f5f",
             "gridcolor": "white",
             "linecolor": "white",
             "minorgridcolor": "white",
             "startlinecolor": "#2a3f5f"
            },
            "type": "carpet"
           }
          ],
          "choropleth": [
           {
            "colorbar": {
             "outlinewidth": 0,
             "ticks": ""
            },
            "type": "choropleth"
           }
          ],
          "contour": [
           {
            "colorbar": {
             "outlinewidth": 0,
             "ticks": ""
            },
            "colorscale": [
             [
              0,
              "#0d0887"
             ],
             [
              0.1111111111111111,
              "#46039f"
             ],
             [
              0.2222222222222222,
              "#7201a8"
             ],
             [
              0.3333333333333333,
              "#9c179e"
             ],
             [
              0.4444444444444444,
              "#bd3786"
             ],
             [
              0.5555555555555556,
              "#d8576b"
             ],
             [
              0.6666666666666666,
              "#ed7953"
             ],
             [
              0.7777777777777778,
              "#fb9f3a"
             ],
             [
              0.8888888888888888,
              "#fdca26"
             ],
             [
              1,
              "#f0f921"
             ]
            ],
            "type": "contour"
           }
          ],
          "contourcarpet": [
           {
            "colorbar": {
             "outlinewidth": 0,
             "ticks": ""
            },
            "type": "contourcarpet"
           }
          ],
          "heatmap": [
           {
            "colorbar": {
             "outlinewidth": 0,
             "ticks": ""
            },
            "colorscale": [
             [
              0,
              "#0d0887"
             ],
             [
              0.1111111111111111,
              "#46039f"
             ],
             [
              0.2222222222222222,
              "#7201a8"
             ],
             [
              0.3333333333333333,
              "#9c179e"
             ],
             [
              0.4444444444444444,
              "#bd3786"
             ],
             [
              0.5555555555555556,
              "#d8576b"
             ],
             [
              0.6666666666666666,
              "#ed7953"
             ],
             [
              0.7777777777777778,
              "#fb9f3a"
             ],
             [
              0.8888888888888888,
              "#fdca26"
             ],
             [
              1,
              "#f0f921"
             ]
            ],
            "type": "heatmap"
           }
          ],
          "heatmapgl": [
           {
            "colorbar": {
             "outlinewidth": 0,
             "ticks": ""
            },
            "colorscale": [
             [
              0,
              "#0d0887"
             ],
             [
              0.1111111111111111,
              "#46039f"
             ],
             [
              0.2222222222222222,
              "#7201a8"
             ],
             [
              0.3333333333333333,
              "#9c179e"
             ],
             [
              0.4444444444444444,
              "#bd3786"
             ],
             [
              0.5555555555555556,
              "#d8576b"
             ],
             [
              0.6666666666666666,
              "#ed7953"
             ],
             [
              0.7777777777777778,
              "#fb9f3a"
             ],
             [
              0.8888888888888888,
              "#fdca26"
             ],
             [
              1,
              "#f0f921"
             ]
            ],
            "type": "heatmapgl"
           }
          ],
          "histogram": [
           {
            "marker": {
             "pattern": {
              "fillmode": "overlay",
              "size": 10,
              "solidity": 0.2
             }
            },
            "type": "histogram"
           }
          ],
          "histogram2d": [
           {
            "colorbar": {
             "outlinewidth": 0,
             "ticks": ""
            },
            "colorscale": [
             [
              0,
              "#0d0887"
             ],
             [
              0.1111111111111111,
              "#46039f"
             ],
             [
              0.2222222222222222,
              "#7201a8"
             ],
             [
              0.3333333333333333,
              "#9c179e"
             ],
             [
              0.4444444444444444,
              "#bd3786"
             ],
             [
              0.5555555555555556,
              "#d8576b"
             ],
             [
              0.6666666666666666,
              "#ed7953"
             ],
             [
              0.7777777777777778,
              "#fb9f3a"
             ],
             [
              0.8888888888888888,
              "#fdca26"
             ],
             [
              1,
              "#f0f921"
             ]
            ],
            "type": "histogram2d"
           }
          ],
          "histogram2dcontour": [
           {
            "colorbar": {
             "outlinewidth": 0,
             "ticks": ""
            },
            "colorscale": [
             [
              0,
              "#0d0887"
             ],
             [
              0.1111111111111111,
              "#46039f"
             ],
             [
              0.2222222222222222,
              "#7201a8"
             ],
             [
              0.3333333333333333,
              "#9c179e"
             ],
             [
              0.4444444444444444,
              "#bd3786"
             ],
             [
              0.5555555555555556,
              "#d8576b"
             ],
             [
              0.6666666666666666,
              "#ed7953"
             ],
             [
              0.7777777777777778,
              "#fb9f3a"
             ],
             [
              0.8888888888888888,
              "#fdca26"
             ],
             [
              1,
              "#f0f921"
             ]
            ],
            "type": "histogram2dcontour"
           }
          ],
          "mesh3d": [
           {
            "colorbar": {
             "outlinewidth": 0,
             "ticks": ""
            },
            "type": "mesh3d"
           }
          ],
          "parcoords": [
           {
            "line": {
             "colorbar": {
              "outlinewidth": 0,
              "ticks": ""
             }
            },
            "type": "parcoords"
           }
          ],
          "pie": [
           {
            "automargin": true,
            "type": "pie"
           }
          ],
          "scatter": [
           {
            "fillpattern": {
             "fillmode": "overlay",
             "size": 10,
             "solidity": 0.2
            },
            "type": "scatter"
           }
          ],
          "scatter3d": [
           {
            "line": {
             "colorbar": {
              "outlinewidth": 0,
              "ticks": ""
             }
            },
            "marker": {
             "colorbar": {
              "outlinewidth": 0,
              "ticks": ""
             }
            },
            "type": "scatter3d"
           }
          ],
          "scattercarpet": [
           {
            "marker": {
             "colorbar": {
              "outlinewidth": 0,
              "ticks": ""
             }
            },
            "type": "scattercarpet"
           }
          ],
          "scattergeo": [
           {
            "marker": {
             "colorbar": {
              "outlinewidth": 0,
              "ticks": ""
             }
            },
            "type": "scattergeo"
           }
          ],
          "scattergl": [
           {
            "marker": {
             "colorbar": {
              "outlinewidth": 0,
              "ticks": ""
             }
            },
            "type": "scattergl"
           }
          ],
          "scattermapbox": [
           {
            "marker": {
             "colorbar": {
              "outlinewidth": 0,
              "ticks": ""
             }
            },
            "type": "scattermapbox"
           }
          ],
          "scatterpolar": [
           {
            "marker": {
             "colorbar": {
              "outlinewidth": 0,
              "ticks": ""
             }
            },
            "type": "scatterpolar"
           }
          ],
          "scatterpolargl": [
           {
            "marker": {
             "colorbar": {
              "outlinewidth": 0,
              "ticks": ""
             }
            },
            "type": "scatterpolargl"
           }
          ],
          "scatterternary": [
           {
            "marker": {
             "colorbar": {
              "outlinewidth": 0,
              "ticks": ""
             }
            },
            "type": "scatterternary"
           }
          ],
          "surface": [
           {
            "colorbar": {
             "outlinewidth": 0,
             "ticks": ""
            },
            "colorscale": [
             [
              0,
              "#0d0887"
             ],
             [
              0.1111111111111111,
              "#46039f"
             ],
             [
              0.2222222222222222,
              "#7201a8"
             ],
             [
              0.3333333333333333,
              "#9c179e"
             ],
             [
              0.4444444444444444,
              "#bd3786"
             ],
             [
              0.5555555555555556,
              "#d8576b"
             ],
             [
              0.6666666666666666,
              "#ed7953"
             ],
             [
              0.7777777777777778,
              "#fb9f3a"
             ],
             [
              0.8888888888888888,
              "#fdca26"
             ],
             [
              1,
              "#f0f921"
             ]
            ],
            "type": "surface"
           }
          ],
          "table": [
           {
            "cells": {
             "fill": {
              "color": "#EBF0F8"
             },
             "line": {
              "color": "white"
             }
            },
            "header": {
             "fill": {
              "color": "#C8D4E3"
             },
             "line": {
              "color": "white"
             }
            },
            "type": "table"
           }
          ]
         },
         "layout": {
          "annotationdefaults": {
           "arrowcolor": "#2a3f5f",
           "arrowhead": 0,
           "arrowwidth": 1
          },
          "autotypenumbers": "strict",
          "coloraxis": {
           "colorbar": {
            "outlinewidth": 0,
            "ticks": ""
           }
          },
          "colorscale": {
           "diverging": [
            [
             0,
             "#8e0152"
            ],
            [
             0.1,
             "#c51b7d"
            ],
            [
             0.2,
             "#de77ae"
            ],
            [
             0.3,
             "#f1b6da"
            ],
            [
             0.4,
             "#fde0ef"
            ],
            [
             0.5,
             "#f7f7f7"
            ],
            [
             0.6,
             "#e6f5d0"
            ],
            [
             0.7,
             "#b8e186"
            ],
            [
             0.8,
             "#7fbc41"
            ],
            [
             0.9,
             "#4d9221"
            ],
            [
             1,
             "#276419"
            ]
           ],
           "sequential": [
            [
             0,
             "#0d0887"
            ],
            [
             0.1111111111111111,
             "#46039f"
            ],
            [
             0.2222222222222222,
             "#7201a8"
            ],
            [
             0.3333333333333333,
             "#9c179e"
            ],
            [
             0.4444444444444444,
             "#bd3786"
            ],
            [
             0.5555555555555556,
             "#d8576b"
            ],
            [
             0.6666666666666666,
             "#ed7953"
            ],
            [
             0.7777777777777778,
             "#fb9f3a"
            ],
            [
             0.8888888888888888,
             "#fdca26"
            ],
            [
             1,
             "#f0f921"
            ]
           ],
           "sequentialminus": [
            [
             0,
             "#0d0887"
            ],
            [
             0.1111111111111111,
             "#46039f"
            ],
            [
             0.2222222222222222,
             "#7201a8"
            ],
            [
             0.3333333333333333,
             "#9c179e"
            ],
            [
             0.4444444444444444,
             "#bd3786"
            ],
            [
             0.5555555555555556,
             "#d8576b"
            ],
            [
             0.6666666666666666,
             "#ed7953"
            ],
            [
             0.7777777777777778,
             "#fb9f3a"
            ],
            [
             0.8888888888888888,
             "#fdca26"
            ],
            [
             1,
             "#f0f921"
            ]
           ]
          },
          "colorway": [
           "#636efa",
           "#EF553B",
           "#00cc96",
           "#ab63fa",
           "#FFA15A",
           "#19d3f3",
           "#FF6692",
           "#B6E880",
           "#FF97FF",
           "#FECB52"
          ],
          "font": {
           "color": "#2a3f5f"
          },
          "geo": {
           "bgcolor": "white",
           "lakecolor": "white",
           "landcolor": "#E5ECF6",
           "showlakes": true,
           "showland": true,
           "subunitcolor": "white"
          },
          "hoverlabel": {
           "align": "left"
          },
          "hovermode": "closest",
          "mapbox": {
           "style": "light"
          },
          "paper_bgcolor": "white",
          "plot_bgcolor": "#E5ECF6",
          "polar": {
           "angularaxis": {
            "gridcolor": "white",
            "linecolor": "white",
            "ticks": ""
           },
           "bgcolor": "#E5ECF6",
           "radialaxis": {
            "gridcolor": "white",
            "linecolor": "white",
            "ticks": ""
           }
          },
          "scene": {
           "xaxis": {
            "backgroundcolor": "#E5ECF6",
            "gridcolor": "white",
            "gridwidth": 2,
            "linecolor": "white",
            "showbackground": true,
            "ticks": "",
            "zerolinecolor": "white"
           },
           "yaxis": {
            "backgroundcolor": "#E5ECF6",
            "gridcolor": "white",
            "gridwidth": 2,
            "linecolor": "white",
            "showbackground": true,
            "ticks": "",
            "zerolinecolor": "white"
           },
           "zaxis": {
            "backgroundcolor": "#E5ECF6",
            "gridcolor": "white",
            "gridwidth": 2,
            "linecolor": "white",
            "showbackground": true,
            "ticks": "",
            "zerolinecolor": "white"
           }
          },
          "shapedefaults": {
           "line": {
            "color": "#2a3f5f"
           }
          },
          "ternary": {
           "aaxis": {
            "gridcolor": "white",
            "linecolor": "white",
            "ticks": ""
           },
           "baxis": {
            "gridcolor": "white",
            "linecolor": "white",
            "ticks": ""
           },
           "bgcolor": "#E5ECF6",
           "caxis": {
            "gridcolor": "white",
            "linecolor": "white",
            "ticks": ""
           }
          },
          "title": {
           "x": 0.05
          },
          "xaxis": {
           "automargin": true,
           "gridcolor": "white",
           "linecolor": "white",
           "ticks": "",
           "title": {
            "standoff": 15
           },
           "zerolinecolor": "white",
           "zerolinewidth": 2
          },
          "yaxis": {
           "automargin": true,
           "gridcolor": "white",
           "linecolor": "white",
           "ticks": "",
           "title": {
            "standoff": 15
           },
           "zerolinecolor": "white",
           "zerolinewidth": 2
          }
         }
        },
        "title": {
         "text": "Spacecraft 1-8 Access, In Fov, and Connected"
        },
        "xaxis": {
         "anchor": "y",
         "domain": [
          0,
          1
         ],
         "type": "date"
        },
        "yaxis": {
         "anchor": "x",
         "categoryorder": "total ascending",
         "domain": [
          0,
          1
         ],
         "title": {
          "text": "antenna"
         }
        }
       }
      }
     },
     "metadata": {},
     "output_type": "display_data"
    },
    {
     "data": {
      "application/vnd.plotly.v1+json": {
       "config": {
        "plotlyServerURL": "https://plot.ly"
       },
       "data": [
        {
         "alignmentgroup": "True",
         "base": [
          "2024-10-31T06:26:50.000086+00:00",
          "2024-10-31T08:04:40.000086+00:00",
          "2024-10-31T09:44:40.000086+00:00",
          "2024-10-31T11:25:40.000086+00:00",
          "2024-10-31T00:00:50.000086+00:00",
          "2024-10-31T01:44:00.000086+00:00",
          "2024-10-31T03:25:40.000086+00:00",
          "2024-10-31T05:06:10.000087+00:00",
          "2024-10-31T06:47:00.000086+00:00",
          "2024-10-31T00:20:20.000086+00:00",
          "2024-10-31T01:25:20.000087+00:00",
          "2024-10-31T03:04:30.000086+00:00",
          "2024-10-31T04:49:40.000086+00:00",
          "2024-10-31T10:04:00.000087+00:00",
          "2024-10-31T11:40:40.000086+00:00",
          "2024-10-31T01:58:40.000086+00:00",
          "2024-10-31T03:39:00.000086+00:00",
          "2024-10-31T05:16:30.000086+00:00",
          "2024-10-31T06:53:50.000086+00:00",
          "2024-10-31T08:37:00.000087+00:00",
          "2024-10-31T04:34:10.000086+00:00",
          "2024-10-31T06:13:30.000086+00:00",
          "2024-10-31T02:54:30.000086+00:00",
          "2024-10-31T04:37:20.000086+00:00",
          "2024-10-31T02:13:20.000087+00:00",
          "2024-10-31T03:49:30.000086+00:00",
          "2024-10-31T05:32:30.000086+00:00",
          "2024-10-31T07:12:00.000086+00:00",
          "2024-10-31T08:51:40.000086+00:00",
          "2024-10-31T10:33:40.000087+00:00",
          "2024-10-31T00:09:40.000086+00:00",
          "2024-10-31T01:50:00.000086+00:00"
         ],
         "hovertemplate": "type=access<br>start=%{base}<br>end=%{x}<br>antenna=%{y}<extra></extra>",
         "legendgroup": "access",
         "marker": {
          "color": "#636efa",
          "pattern": {
           "shape": ""
          }
         },
         "name": "access",
         "offsetgroup": "access",
         "orientation": "h",
         "showlegend": true,
         "textposition": "auto",
         "type": "bar",
         "x": [
          600000,
          790000,
          830000,
          820000.001,
          710000,
          610000,
          700000,
          820000,
          740000,
          770000,
          669999.999,
          800000.001,
          350000.001,
          180000,
          790000,
          760000,
          760000,
          410000.001,
          820000,
          449999.999,
          670000,
          780000,
          810000,
          510000,
          359999.999,
          810000,
          540000,
          760000,
          820000,
          739999.999,
          670000.001,
          480000
         ],
         "xaxis": "x",
         "y": [
          "Dundee",
          "Dundee",
          "Dundee",
          "Dundee",
          "Chitose",
          "Chitose",
          "Chitose",
          "Chitose",
          "Chitose",
          "Mojave",
          "Dubai",
          "Dubai",
          "Dubai",
          "Dubai",
          "Dubai",
          "Paumalu",
          "Paumalu",
          "Harmon",
          "Harmon",
          "Harmon",
          "Sunyani",
          "Sunyani",
          "Mwulire",
          "Mwulire",
          "Tahiti",
          "Tahiti",
          "Tahiti",
          "Awarua",
          "Awarua",
          "Awarua",
          "Utqiagvik",
          "Utqiagvik"
         ],
         "yaxis": "y"
        },
        {
         "alignmentgroup": "True",
         "base": [
          "2024-10-31T09:46:50.000087+00:00",
          "2024-10-31T11:25:40.000086+00:00",
          "2024-10-31T11:36:30.000086+00:00",
          "2024-10-31T00:05:00.000086+00:00",
          "2024-10-31T01:44:00.000086+00:00",
          "2024-10-31T03:25:40.000086+00:00",
          "2024-10-31T05:07:30.000086+00:00",
          "2024-10-31T06:47:40.000086+00:00",
          "2024-10-31T01:25:20.000087+00:00",
          "2024-10-31T01:33:00.000087+00:00",
          "2024-10-31T04:50:00.000086+00:00",
          "2024-10-31T11:47:50.000086+00:00",
          "2024-10-31T03:39:40.000086+00:00",
          "2024-10-31T07:03:30.000086+00:00",
          "2024-10-31T08:37:00.000087+00:00",
          "2024-10-31T04:34:10.000086+00:00",
          "2024-10-31T06:21:00.000086+00:00",
          "2024-10-31T03:04:50.000087+00:00",
          "2024-10-31T04:00:40.000086+00:00",
          "2024-10-31T05:40:00.000086+00:00",
          "2024-10-31T10:33:40.000087+00:00"
         ],
         "hovertemplate": "type=inFov<br>start=%{base}<br>end=%{x}<br>antenna=%{y}<extra></extra>",
         "legendgroup": "inFov",
         "marker": {
          "color": "#EF553B",
          "pattern": {
           "shape": ""
          }
         },
         "name": "inFov",
         "offsetgroup": "inFov",
         "orientation": "h",
         "showlegend": true,
         "textposition": "auto",
         "type": "bar",
         "x": [
          570000,
          220000,
          40000,
          380000.001,
          600000,
          690000,
          640000,
          680000,
          269999.999,
          199999.999,
          170000,
          250000,
          710000,
          120000,
          449999.999,
          660000,
          270000.001,
          189999.999,
          140000,
          60000,
          199999.999
         ],
         "xaxis": "x",
         "y": [
          "Dundee",
          "Dundee",
          "Dundee",
          "Chitose",
          "Chitose",
          "Chitose",
          "Chitose",
          "Chitose",
          "Dubai",
          "Dubai",
          "Dubai",
          "Dubai",
          "Paumalu",
          "Harmon",
          "Harmon",
          "Sunyani",
          "Sunyani",
          "Mwulire",
          "Tahiti",
          "Tahiti",
          "Awarua"
         ],
         "yaxis": "y"
        },
        {
         "alignmentgroup": "True",
         "base": [
          "2024-10-31T09:46:50.000087+00:00",
          "2024-10-31T11:27:50.000086+00:00",
          "2024-10-31T11:36:30.000086+00:00",
          "2024-10-31T00:05:00.000086+00:00",
          "2024-10-31T01:44:00.000086+00:00",
          "2024-10-31T03:25:40.000086+00:00",
          "2024-10-31T05:07:30.000086+00:00",
          "2024-10-31T06:47:40.000086+00:00",
          "2024-10-31T01:25:20.000087+00:00",
          "2024-10-31T01:33:00.000087+00:00",
          "2024-10-31T11:48:20.000086+00:00",
          "2024-10-31T03:39:40.000086+00:00",
          "2024-10-31T07:03:30.000086+00:00",
          "2024-10-31T08:37:00.000087+00:00",
          "2024-10-31T04:34:10.000086+00:00",
          "2024-10-31T06:21:00.000086+00:00"
         ],
         "hovertemplate": "type=connected<br>start=%{base}<br>end=%{x}<br>antenna=%{y}<extra></extra>",
         "legendgroup": "connected",
         "marker": {
          "color": "#00cc96",
          "pattern": {
           "shape": ""
          }
         },
         "name": "connected",
         "offsetgroup": "connected",
         "orientation": "h",
         "showlegend": true,
         "textposition": "auto",
         "type": "bar",
         "x": [
          570000,
          90000,
          40000,
          380000.001,
          600000,
          690000,
          640000,
          680000,
          269999.999,
          199999.999,
          220000,
          710000,
          120000,
          449999.999,
          660000,
          270000.001
         ],
         "xaxis": "x",
         "y": [
          "Dundee",
          "Dundee",
          "Dundee",
          "Chitose",
          "Chitose",
          "Chitose",
          "Chitose",
          "Chitose",
          "Dubai",
          "Dubai",
          "Dubai",
          "Paumalu",
          "Harmon",
          "Harmon",
          "Sunyani",
          "Sunyani"
         ],
         "yaxis": "y"
        }
       ],
       "layout": {
        "barmode": "overlay",
        "legend": {
         "title": {
          "text": "type"
         },
         "tracegroupgap": 0
        },
        "margin": {
         "t": 60
        },
        "template": {
         "data": {
          "bar": [
           {
            "error_x": {
             "color": "#2a3f5f"
            },
            "error_y": {
             "color": "#2a3f5f"
            },
            "marker": {
             "line": {
              "color": "#E5ECF6",
              "width": 0.5
             },
             "pattern": {
              "fillmode": "overlay",
              "size": 10,
              "solidity": 0.2
             }
            },
            "type": "bar"
           }
          ],
          "barpolar": [
           {
            "marker": {
             "line": {
              "color": "#E5ECF6",
              "width": 0.5
             },
             "pattern": {
              "fillmode": "overlay",
              "size": 10,
              "solidity": 0.2
             }
            },
            "type": "barpolar"
           }
          ],
          "carpet": [
           {
            "aaxis": {
             "endlinecolor": "#2a3f5f",
             "gridcolor": "white",
             "linecolor": "white",
             "minorgridcolor": "white",
             "startlinecolor": "#2a3f5f"
            },
            "baxis": {
             "endlinecolor": "#2a3f5f",
             "gridcolor": "white",
             "linecolor": "white",
             "minorgridcolor": "white",
             "startlinecolor": "#2a3f5f"
            },
            "type": "carpet"
           }
          ],
          "choropleth": [
           {
            "colorbar": {
             "outlinewidth": 0,
             "ticks": ""
            },
            "type": "choropleth"
           }
          ],
          "contour": [
           {
            "colorbar": {
             "outlinewidth": 0,
             "ticks": ""
            },
            "colorscale": [
             [
              0,
              "#0d0887"
             ],
             [
              0.1111111111111111,
              "#46039f"
             ],
             [
              0.2222222222222222,
              "#7201a8"
             ],
             [
              0.3333333333333333,
              "#9c179e"
             ],
             [
              0.4444444444444444,
              "#bd3786"
             ],
             [
              0.5555555555555556,
              "#d8576b"
             ],
             [
              0.6666666666666666,
              "#ed7953"
             ],
             [
              0.7777777777777778,
              "#fb9f3a"
             ],
             [
              0.8888888888888888,
              "#fdca26"
             ],
             [
              1,
              "#f0f921"
             ]
            ],
            "type": "contour"
           }
          ],
          "contourcarpet": [
           {
            "colorbar": {
             "outlinewidth": 0,
             "ticks": ""
            },
            "type": "contourcarpet"
           }
          ],
          "heatmap": [
           {
            "colorbar": {
             "outlinewidth": 0,
             "ticks": ""
            },
            "colorscale": [
             [
              0,
              "#0d0887"
             ],
             [
              0.1111111111111111,
              "#46039f"
             ],
             [
              0.2222222222222222,
              "#7201a8"
             ],
             [
              0.3333333333333333,
              "#9c179e"
             ],
             [
              0.4444444444444444,
              "#bd3786"
             ],
             [
              0.5555555555555556,
              "#d8576b"
             ],
             [
              0.6666666666666666,
              "#ed7953"
             ],
             [
              0.7777777777777778,
              "#fb9f3a"
             ],
             [
              0.8888888888888888,
              "#fdca26"
             ],
             [
              1,
              "#f0f921"
             ]
            ],
            "type": "heatmap"
           }
          ],
          "heatmapgl": [
           {
            "colorbar": {
             "outlinewidth": 0,
             "ticks": ""
            },
            "colorscale": [
             [
              0,
              "#0d0887"
             ],
             [
              0.1111111111111111,
              "#46039f"
             ],
             [
              0.2222222222222222,
              "#7201a8"
             ],
             [
              0.3333333333333333,
              "#9c179e"
             ],
             [
              0.4444444444444444,
              "#bd3786"
             ],
             [
              0.5555555555555556,
              "#d8576b"
             ],
             [
              0.6666666666666666,
              "#ed7953"
             ],
             [
              0.7777777777777778,
              "#fb9f3a"
             ],
             [
              0.8888888888888888,
              "#fdca26"
             ],
             [
              1,
              "#f0f921"
             ]
            ],
            "type": "heatmapgl"
           }
          ],
          "histogram": [
           {
            "marker": {
             "pattern": {
              "fillmode": "overlay",
              "size": 10,
              "solidity": 0.2
             }
            },
            "type": "histogram"
           }
          ],
          "histogram2d": [
           {
            "colorbar": {
             "outlinewidth": 0,
             "ticks": ""
            },
            "colorscale": [
             [
              0,
              "#0d0887"
             ],
             [
              0.1111111111111111,
              "#46039f"
             ],
             [
              0.2222222222222222,
              "#7201a8"
             ],
             [
              0.3333333333333333,
              "#9c179e"
             ],
             [
              0.4444444444444444,
              "#bd3786"
             ],
             [
              0.5555555555555556,
              "#d8576b"
             ],
             [
              0.6666666666666666,
              "#ed7953"
             ],
             [
              0.7777777777777778,
              "#fb9f3a"
             ],
             [
              0.8888888888888888,
              "#fdca26"
             ],
             [
              1,
              "#f0f921"
             ]
            ],
            "type": "histogram2d"
           }
          ],
          "histogram2dcontour": [
           {
            "colorbar": {
             "outlinewidth": 0,
             "ticks": ""
            },
            "colorscale": [
             [
              0,
              "#0d0887"
             ],
             [
              0.1111111111111111,
              "#46039f"
             ],
             [
              0.2222222222222222,
              "#7201a8"
             ],
             [
              0.3333333333333333,
              "#9c179e"
             ],
             [
              0.4444444444444444,
              "#bd3786"
             ],
             [
              0.5555555555555556,
              "#d8576b"
             ],
             [
              0.6666666666666666,
              "#ed7953"
             ],
             [
              0.7777777777777778,
              "#fb9f3a"
             ],
             [
              0.8888888888888888,
              "#fdca26"
             ],
             [
              1,
              "#f0f921"
             ]
            ],
            "type": "histogram2dcontour"
           }
          ],
          "mesh3d": [
           {
            "colorbar": {
             "outlinewidth": 0,
             "ticks": ""
            },
            "type": "mesh3d"
           }
          ],
          "parcoords": [
           {
            "line": {
             "colorbar": {
              "outlinewidth": 0,
              "ticks": ""
             }
            },
            "type": "parcoords"
           }
          ],
          "pie": [
           {
            "automargin": true,
            "type": "pie"
           }
          ],
          "scatter": [
           {
            "fillpattern": {
             "fillmode": "overlay",
             "size": 10,
             "solidity": 0.2
            },
            "type": "scatter"
           }
          ],
          "scatter3d": [
           {
            "line": {
             "colorbar": {
              "outlinewidth": 0,
              "ticks": ""
             }
            },
            "marker": {
             "colorbar": {
              "outlinewidth": 0,
              "ticks": ""
             }
            },
            "type": "scatter3d"
           }
          ],
          "scattercarpet": [
           {
            "marker": {
             "colorbar": {
              "outlinewidth": 0,
              "ticks": ""
             }
            },
            "type": "scattercarpet"
           }
          ],
          "scattergeo": [
           {
            "marker": {
             "colorbar": {
              "outlinewidth": 0,
              "ticks": ""
             }
            },
            "type": "scattergeo"
           }
          ],
          "scattergl": [
           {
            "marker": {
             "colorbar": {
              "outlinewidth": 0,
              "ticks": ""
             }
            },
            "type": "scattergl"
           }
          ],
          "scattermapbox": [
           {
            "marker": {
             "colorbar": {
              "outlinewidth": 0,
              "ticks": ""
             }
            },
            "type": "scattermapbox"
           }
          ],
          "scatterpolar": [
           {
            "marker": {
             "colorbar": {
              "outlinewidth": 0,
              "ticks": ""
             }
            },
            "type": "scatterpolar"
           }
          ],
          "scatterpolargl": [
           {
            "marker": {
             "colorbar": {
              "outlinewidth": 0,
              "ticks": ""
             }
            },
            "type": "scatterpolargl"
           }
          ],
          "scatterternary": [
           {
            "marker": {
             "colorbar": {
              "outlinewidth": 0,
              "ticks": ""
             }
            },
            "type": "scatterternary"
           }
          ],
          "surface": [
           {
            "colorbar": {
             "outlinewidth": 0,
             "ticks": ""
            },
            "colorscale": [
             [
              0,
              "#0d0887"
             ],
             [
              0.1111111111111111,
              "#46039f"
             ],
             [
              0.2222222222222222,
              "#7201a8"
             ],
             [
              0.3333333333333333,
              "#9c179e"
             ],
             [
              0.4444444444444444,
              "#bd3786"
             ],
             [
              0.5555555555555556,
              "#d8576b"
             ],
             [
              0.6666666666666666,
              "#ed7953"
             ],
             [
              0.7777777777777778,
              "#fb9f3a"
             ],
             [
              0.8888888888888888,
              "#fdca26"
             ],
             [
              1,
              "#f0f921"
             ]
            ],
            "type": "surface"
           }
          ],
          "table": [
           {
            "cells": {
             "fill": {
              "color": "#EBF0F8"
             },
             "line": {
              "color": "white"
             }
            },
            "header": {
             "fill": {
              "color": "#C8D4E3"
             },
             "line": {
              "color": "white"
             }
            },
            "type": "table"
           }
          ]
         },
         "layout": {
          "annotationdefaults": {
           "arrowcolor": "#2a3f5f",
           "arrowhead": 0,
           "arrowwidth": 1
          },
          "autotypenumbers": "strict",
          "coloraxis": {
           "colorbar": {
            "outlinewidth": 0,
            "ticks": ""
           }
          },
          "colorscale": {
           "diverging": [
            [
             0,
             "#8e0152"
            ],
            [
             0.1,
             "#c51b7d"
            ],
            [
             0.2,
             "#de77ae"
            ],
            [
             0.3,
             "#f1b6da"
            ],
            [
             0.4,
             "#fde0ef"
            ],
            [
             0.5,
             "#f7f7f7"
            ],
            [
             0.6,
             "#e6f5d0"
            ],
            [
             0.7,
             "#b8e186"
            ],
            [
             0.8,
             "#7fbc41"
            ],
            [
             0.9,
             "#4d9221"
            ],
            [
             1,
             "#276419"
            ]
           ],
           "sequential": [
            [
             0,
             "#0d0887"
            ],
            [
             0.1111111111111111,
             "#46039f"
            ],
            [
             0.2222222222222222,
             "#7201a8"
            ],
            [
             0.3333333333333333,
             "#9c179e"
            ],
            [
             0.4444444444444444,
             "#bd3786"
            ],
            [
             0.5555555555555556,
             "#d8576b"
            ],
            [
             0.6666666666666666,
             "#ed7953"
            ],
            [
             0.7777777777777778,
             "#fb9f3a"
            ],
            [
             0.8888888888888888,
             "#fdca26"
            ],
            [
             1,
             "#f0f921"
            ]
           ],
           "sequentialminus": [
            [
             0,
             "#0d0887"
            ],
            [
             0.1111111111111111,
             "#46039f"
            ],
            [
             0.2222222222222222,
             "#7201a8"
            ],
            [
             0.3333333333333333,
             "#9c179e"
            ],
            [
             0.4444444444444444,
             "#bd3786"
            ],
            [
             0.5555555555555556,
             "#d8576b"
            ],
            [
             0.6666666666666666,
             "#ed7953"
            ],
            [
             0.7777777777777778,
             "#fb9f3a"
            ],
            [
             0.8888888888888888,
             "#fdca26"
            ],
            [
             1,
             "#f0f921"
            ]
           ]
          },
          "colorway": [
           "#636efa",
           "#EF553B",
           "#00cc96",
           "#ab63fa",
           "#FFA15A",
           "#19d3f3",
           "#FF6692",
           "#B6E880",
           "#FF97FF",
           "#FECB52"
          ],
          "font": {
           "color": "#2a3f5f"
          },
          "geo": {
           "bgcolor": "white",
           "lakecolor": "white",
           "landcolor": "#E5ECF6",
           "showlakes": true,
           "showland": true,
           "subunitcolor": "white"
          },
          "hoverlabel": {
           "align": "left"
          },
          "hovermode": "closest",
          "mapbox": {
           "style": "light"
          },
          "paper_bgcolor": "white",
          "plot_bgcolor": "#E5ECF6",
          "polar": {
           "angularaxis": {
            "gridcolor": "white",
            "linecolor": "white",
            "ticks": ""
           },
           "bgcolor": "#E5ECF6",
           "radialaxis": {
            "gridcolor": "white",
            "linecolor": "white",
            "ticks": ""
           }
          },
          "scene": {
           "xaxis": {
            "backgroundcolor": "#E5ECF6",
            "gridcolor": "white",
            "gridwidth": 2,
            "linecolor": "white",
            "showbackground": true,
            "ticks": "",
            "zerolinecolor": "white"
           },
           "yaxis": {
            "backgroundcolor": "#E5ECF6",
            "gridcolor": "white",
            "gridwidth": 2,
            "linecolor": "white",
            "showbackground": true,
            "ticks": "",
            "zerolinecolor": "white"
           },
           "zaxis": {
            "backgroundcolor": "#E5ECF6",
            "gridcolor": "white",
            "gridwidth": 2,
            "linecolor": "white",
            "showbackground": true,
            "ticks": "",
            "zerolinecolor": "white"
           }
          },
          "shapedefaults": {
           "line": {
            "color": "#2a3f5f"
           }
          },
          "ternary": {
           "aaxis": {
            "gridcolor": "white",
            "linecolor": "white",
            "ticks": ""
           },
           "baxis": {
            "gridcolor": "white",
            "linecolor": "white",
            "ticks": ""
           },
           "bgcolor": "#E5ECF6",
           "caxis": {
            "gridcolor": "white",
            "linecolor": "white",
            "ticks": ""
           }
          },
          "title": {
           "x": 0.05
          },
          "xaxis": {
           "automargin": true,
           "gridcolor": "white",
           "linecolor": "white",
           "ticks": "",
           "title": {
            "standoff": 15
           },
           "zerolinecolor": "white",
           "zerolinewidth": 2
          },
          "yaxis": {
           "automargin": true,
           "gridcolor": "white",
           "linecolor": "white",
           "ticks": "",
           "title": {
            "standoff": 15
           },
           "zerolinecolor": "white",
           "zerolinewidth": 2
          }
         }
        },
        "title": {
         "text": "Spacecraft 2-1 Access, In Fov, and Connected"
        },
        "xaxis": {
         "anchor": "y",
         "domain": [
          0,
          1
         ],
         "type": "date"
        },
        "yaxis": {
         "anchor": "x",
         "categoryorder": "total ascending",
         "domain": [
          0,
          1
         ],
         "title": {
          "text": "antenna"
         }
        }
       }
      }
     },
     "metadata": {},
     "output_type": "display_data"
    },
    {
     "data": {
      "application/vnd.plotly.v1+json": {
       "config": {
        "plotlyServerURL": "https://plot.ly"
       },
       "data": [
        {
         "alignmentgroup": "True",
         "base": [
          "2024-10-31T06:15:30.000087+00:00",
          "2024-10-31T07:53:00.000086+00:00",
          "2024-10-31T09:33:00.000086+00:00",
          "2024-10-31T11:14:00.000086+00:00",
          "2024-10-31T00:00:00.000086+00:00",
          "2024-10-31T01:31:20.000086+00:00",
          "2024-10-31T03:13:20.000086+00:00",
          "2024-10-31T04:54:10.000086+00:00",
          "2024-10-31T06:35:00.000087+00:00",
          "2024-10-31T00:07:40.000086+00:00",
          "2024-10-31T01:53:00.000086+00:00",
          "2024-10-31T01:13:30.000087+00:00",
          "2024-10-31T02:52:00.000086+00:00",
          "2024-10-31T04:36:20.000086+00:00",
          "2024-10-31T11:29:20.000086+00:00",
          "2024-10-31T01:46:40.000087+00:00",
          "2024-10-31T03:26:40.000086+00:00",
          "2024-10-31T05:05:50.000086+00:00",
          "2024-10-31T06:42:00.000086+00:00",
          "2024-10-31T08:24:20.000086+00:00",
          "2024-10-31T04:22:30.000086+00:00",
          "2024-10-31T06:01:20.000086+00:00",
          "2024-10-31T02:42:20.000087+00:00",
          "2024-10-31T04:24:20.000086+00:00",
          "2024-10-31T03:37:10.000086+00:00",
          "2024-10-31T05:19:40.000086+00:00",
          "2024-10-31T07:00:20.000086+00:00",
          "2024-10-31T08:39:50.000086+00:00",
          "2024-10-31T10:21:40.000086+00:00",
          "2024-10-31T00:00:00.000086+00:00",
          "2024-10-31T01:37:30.000086+00:00"
         ],
         "hovertemplate": "type=access<br>start=%{base}<br>end=%{x}<br>antenna=%{y}<extra></extra>",
         "legendgroup": "access",
         "marker": {
          "color": "#636efa",
          "pattern": {
           "shape": ""
          }
         },
         "name": "access",
         "offsetgroup": "access",
         "orientation": "h",
         "showlegend": true,
         "textposition": "auto",
         "type": "bar",
         "x": [
          549999.999,
          780000,
          830000.001,
          830000,
          10000,
          610000,
          690000,
          810000,
          769999.999,
          790000.001,
          100000,
          609999.999,
          820000,
          470000,
          760000,
          710000,
          790000,
          220000,
          810000,
          570000,
          610000,
          800000,
          799999.999,
          610000,
          820000,
          620000,
          740000,
          830000,
          770000,
          510000,
          520000
         ],
         "xaxis": "x",
         "y": [
          "Dundee",
          "Dundee",
          "Dundee",
          "Dundee",
          "Chitose",
          "Chitose",
          "Chitose",
          "Chitose",
          "Chitose",
          "Mojave",
          "Mojave",
          "Dubai",
          "Dubai",
          "Dubai",
          "Dubai",
          "Paumalu",
          "Paumalu",
          "Harmon",
          "Harmon",
          "Harmon",
          "Sunyani",
          "Sunyani",
          "Mwulire",
          "Mwulire",
          "Tahiti",
          "Tahiti",
          "Awarua",
          "Awarua",
          "Awarua",
          "Utqiagvik",
          "Utqiagvik"
         ],
         "yaxis": "y"
        },
        {
         "alignmentgroup": "True",
         "base": [
          "2024-10-31T09:33:20.000086+00:00",
          "2024-10-31T11:14:00.000086+00:00",
          "2024-10-31T01:31:20.000086+00:00",
          "2024-10-31T03:13:20.000086+00:00",
          "2024-10-31T04:54:10.000086+00:00",
          "2024-10-31T06:35:00.000087+00:00",
          "2024-10-31T01:13:30.000087+00:00",
          "2024-10-31T02:54:50.000086+00:00",
          "2024-10-31T04:37:50.000086+00:00",
          "2024-10-31T11:29:20.000086+00:00",
          "2024-10-31T03:26:50.000086+00:00",
          "2024-10-31T06:50:40.000086+00:00",
          "2024-10-31T08:24:20.000086+00:00",
          "2024-10-31T04:22:30.000086+00:00",
          "2024-10-31T06:07:10.000087+00:00",
          "2024-10-31T02:52:50.000086+00:00",
          "2024-10-31T10:22:30.000086+00:00"
         ],
         "hovertemplate": "type=inFov<br>start=%{base}<br>end=%{x}<br>antenna=%{y}<extra></extra>",
         "legendgroup": "inFov",
         "marker": {
          "color": "#EF553B",
          "pattern": {
           "shape": ""
          }
         },
         "name": "inFov",
         "offsetgroup": "inFov",
         "orientation": "h",
         "showlegend": true,
         "textposition": "auto",
         "type": "bar",
         "x": [
          810000.001,
          250000,
          600000.001,
          680000,
          800000,
          759999.999,
          599999.999,
          120000,
          170000,
          430000,
          770000,
          130000,
          560000,
          600000,
          320000,
          170000,
          170000.001
         ],
         "xaxis": "x",
         "y": [
          "Dundee",
          "Dundee",
          "Chitose",
          "Chitose",
          "Chitose",
          "Chitose",
          "Dubai",
          "Dubai",
          "Dubai",
          "Dubai",
          "Paumalu",
          "Harmon",
          "Harmon",
          "Sunyani",
          "Sunyani",
          "Mwulire",
          "Awarua"
         ],
         "yaxis": "y"
        },
        {
         "alignmentgroup": "True",
         "base": [
          "2024-10-31T09:33:20.000086+00:00",
          "2024-10-31T11:14:00.000086+00:00",
          "2024-10-31T01:31:20.000086+00:00",
          "2024-10-31T03:13:20.000086+00:00",
          "2024-10-31T04:54:10.000086+00:00",
          "2024-10-31T06:35:00.000087+00:00",
          "2024-10-31T01:13:30.000087+00:00",
          "2024-10-31T11:29:20.000086+00:00",
          "2024-10-31T03:26:50.000086+00:00",
          "2024-10-31T06:50:40.000086+00:00",
          "2024-10-31T08:24:20.000086+00:00",
          "2024-10-31T04:22:30.000086+00:00",
          "2024-10-31T06:07:10.000087+00:00"
         ],
         "hovertemplate": "type=connected<br>start=%{base}<br>end=%{x}<br>antenna=%{y}<extra></extra>",
         "legendgroup": "connected",
         "marker": {
          "color": "#00cc96",
          "pattern": {
           "shape": ""
          }
         },
         "name": "connected",
         "offsetgroup": "connected",
         "orientation": "h",
         "showlegend": true,
         "textposition": "auto",
         "type": "bar",
         "x": [
          810000.001,
          110000,
          600000.001,
          680000,
          800000,
          759999.999,
          599999.999,
          430000,
          770000,
          130000,
          560000,
          600000,
          320000
         ],
         "xaxis": "x",
         "y": [
          "Dundee",
          "Dundee",
          "Chitose",
          "Chitose",
          "Chitose",
          "Chitose",
          "Dubai",
          "Dubai",
          "Paumalu",
          "Harmon",
          "Harmon",
          "Sunyani",
          "Sunyani"
         ],
         "yaxis": "y"
        }
       ],
       "layout": {
        "barmode": "overlay",
        "legend": {
         "title": {
          "text": "type"
         },
         "tracegroupgap": 0
        },
        "margin": {
         "t": 60
        },
        "template": {
         "data": {
          "bar": [
           {
            "error_x": {
             "color": "#2a3f5f"
            },
            "error_y": {
             "color": "#2a3f5f"
            },
            "marker": {
             "line": {
              "color": "#E5ECF6",
              "width": 0.5
             },
             "pattern": {
              "fillmode": "overlay",
              "size": 10,
              "solidity": 0.2
             }
            },
            "type": "bar"
           }
          ],
          "barpolar": [
           {
            "marker": {
             "line": {
              "color": "#E5ECF6",
              "width": 0.5
             },
             "pattern": {
              "fillmode": "overlay",
              "size": 10,
              "solidity": 0.2
             }
            },
            "type": "barpolar"
           }
          ],
          "carpet": [
           {
            "aaxis": {
             "endlinecolor": "#2a3f5f",
             "gridcolor": "white",
             "linecolor": "white",
             "minorgridcolor": "white",
             "startlinecolor": "#2a3f5f"
            },
            "baxis": {
             "endlinecolor": "#2a3f5f",
             "gridcolor": "white",
             "linecolor": "white",
             "minorgridcolor": "white",
             "startlinecolor": "#2a3f5f"
            },
            "type": "carpet"
           }
          ],
          "choropleth": [
           {
            "colorbar": {
             "outlinewidth": 0,
             "ticks": ""
            },
            "type": "choropleth"
           }
          ],
          "contour": [
           {
            "colorbar": {
             "outlinewidth": 0,
             "ticks": ""
            },
            "colorscale": [
             [
              0,
              "#0d0887"
             ],
             [
              0.1111111111111111,
              "#46039f"
             ],
             [
              0.2222222222222222,
              "#7201a8"
             ],
             [
              0.3333333333333333,
              "#9c179e"
             ],
             [
              0.4444444444444444,
              "#bd3786"
             ],
             [
              0.5555555555555556,
              "#d8576b"
             ],
             [
              0.6666666666666666,
              "#ed7953"
             ],
             [
              0.7777777777777778,
              "#fb9f3a"
             ],
             [
              0.8888888888888888,
              "#fdca26"
             ],
             [
              1,
              "#f0f921"
             ]
            ],
            "type": "contour"
           }
          ],
          "contourcarpet": [
           {
            "colorbar": {
             "outlinewidth": 0,
             "ticks": ""
            },
            "type": "contourcarpet"
           }
          ],
          "heatmap": [
           {
            "colorbar": {
             "outlinewidth": 0,
             "ticks": ""
            },
            "colorscale": [
             [
              0,
              "#0d0887"
             ],
             [
              0.1111111111111111,
              "#46039f"
             ],
             [
              0.2222222222222222,
              "#7201a8"
             ],
             [
              0.3333333333333333,
              "#9c179e"
             ],
             [
              0.4444444444444444,
              "#bd3786"
             ],
             [
              0.5555555555555556,
              "#d8576b"
             ],
             [
              0.6666666666666666,
              "#ed7953"
             ],
             [
              0.7777777777777778,
              "#fb9f3a"
             ],
             [
              0.8888888888888888,
              "#fdca26"
             ],
             [
              1,
              "#f0f921"
             ]
            ],
            "type": "heatmap"
           }
          ],
          "heatmapgl": [
           {
            "colorbar": {
             "outlinewidth": 0,
             "ticks": ""
            },
            "colorscale": [
             [
              0,
              "#0d0887"
             ],
             [
              0.1111111111111111,
              "#46039f"
             ],
             [
              0.2222222222222222,
              "#7201a8"
             ],
             [
              0.3333333333333333,
              "#9c179e"
             ],
             [
              0.4444444444444444,
              "#bd3786"
             ],
             [
              0.5555555555555556,
              "#d8576b"
             ],
             [
              0.6666666666666666,
              "#ed7953"
             ],
             [
              0.7777777777777778,
              "#fb9f3a"
             ],
             [
              0.8888888888888888,
              "#fdca26"
             ],
             [
              1,
              "#f0f921"
             ]
            ],
            "type": "heatmapgl"
           }
          ],
          "histogram": [
           {
            "marker": {
             "pattern": {
              "fillmode": "overlay",
              "size": 10,
              "solidity": 0.2
             }
            },
            "type": "histogram"
           }
          ],
          "histogram2d": [
           {
            "colorbar": {
             "outlinewidth": 0,
             "ticks": ""
            },
            "colorscale": [
             [
              0,
              "#0d0887"
             ],
             [
              0.1111111111111111,
              "#46039f"
             ],
             [
              0.2222222222222222,
              "#7201a8"
             ],
             [
              0.3333333333333333,
              "#9c179e"
             ],
             [
              0.4444444444444444,
              "#bd3786"
             ],
             [
              0.5555555555555556,
              "#d8576b"
             ],
             [
              0.6666666666666666,
              "#ed7953"
             ],
             [
              0.7777777777777778,
              "#fb9f3a"
             ],
             [
              0.8888888888888888,
              "#fdca26"
             ],
             [
              1,
              "#f0f921"
             ]
            ],
            "type": "histogram2d"
           }
          ],
          "histogram2dcontour": [
           {
            "colorbar": {
             "outlinewidth": 0,
             "ticks": ""
            },
            "colorscale": [
             [
              0,
              "#0d0887"
             ],
             [
              0.1111111111111111,
              "#46039f"
             ],
             [
              0.2222222222222222,
              "#7201a8"
             ],
             [
              0.3333333333333333,
              "#9c179e"
             ],
             [
              0.4444444444444444,
              "#bd3786"
             ],
             [
              0.5555555555555556,
              "#d8576b"
             ],
             [
              0.6666666666666666,
              "#ed7953"
             ],
             [
              0.7777777777777778,
              "#fb9f3a"
             ],
             [
              0.8888888888888888,
              "#fdca26"
             ],
             [
              1,
              "#f0f921"
             ]
            ],
            "type": "histogram2dcontour"
           }
          ],
          "mesh3d": [
           {
            "colorbar": {
             "outlinewidth": 0,
             "ticks": ""
            },
            "type": "mesh3d"
           }
          ],
          "parcoords": [
           {
            "line": {
             "colorbar": {
              "outlinewidth": 0,
              "ticks": ""
             }
            },
            "type": "parcoords"
           }
          ],
          "pie": [
           {
            "automargin": true,
            "type": "pie"
           }
          ],
          "scatter": [
           {
            "fillpattern": {
             "fillmode": "overlay",
             "size": 10,
             "solidity": 0.2
            },
            "type": "scatter"
           }
          ],
          "scatter3d": [
           {
            "line": {
             "colorbar": {
              "outlinewidth": 0,
              "ticks": ""
             }
            },
            "marker": {
             "colorbar": {
              "outlinewidth": 0,
              "ticks": ""
             }
            },
            "type": "scatter3d"
           }
          ],
          "scattercarpet": [
           {
            "marker": {
             "colorbar": {
              "outlinewidth": 0,
              "ticks": ""
             }
            },
            "type": "scattercarpet"
           }
          ],
          "scattergeo": [
           {
            "marker": {
             "colorbar": {
              "outlinewidth": 0,
              "ticks": ""
             }
            },
            "type": "scattergeo"
           }
          ],
          "scattergl": [
           {
            "marker": {
             "colorbar": {
              "outlinewidth": 0,
              "ticks": ""
             }
            },
            "type": "scattergl"
           }
          ],
          "scattermapbox": [
           {
            "marker": {
             "colorbar": {
              "outlinewidth": 0,
              "ticks": ""
             }
            },
            "type": "scattermapbox"
           }
          ],
          "scatterpolar": [
           {
            "marker": {
             "colorbar": {
              "outlinewidth": 0,
              "ticks": ""
             }
            },
            "type": "scatterpolar"
           }
          ],
          "scatterpolargl": [
           {
            "marker": {
             "colorbar": {
              "outlinewidth": 0,
              "ticks": ""
             }
            },
            "type": "scatterpolargl"
           }
          ],
          "scatterternary": [
           {
            "marker": {
             "colorbar": {
              "outlinewidth": 0,
              "ticks": ""
             }
            },
            "type": "scatterternary"
           }
          ],
          "surface": [
           {
            "colorbar": {
             "outlinewidth": 0,
             "ticks": ""
            },
            "colorscale": [
             [
              0,
              "#0d0887"
             ],
             [
              0.1111111111111111,
              "#46039f"
             ],
             [
              0.2222222222222222,
              "#7201a8"
             ],
             [
              0.3333333333333333,
              "#9c179e"
             ],
             [
              0.4444444444444444,
              "#bd3786"
             ],
             [
              0.5555555555555556,
              "#d8576b"
             ],
             [
              0.6666666666666666,
              "#ed7953"
             ],
             [
              0.7777777777777778,
              "#fb9f3a"
             ],
             [
              0.8888888888888888,
              "#fdca26"
             ],
             [
              1,
              "#f0f921"
             ]
            ],
            "type": "surface"
           }
          ],
          "table": [
           {
            "cells": {
             "fill": {
              "color": "#EBF0F8"
             },
             "line": {
              "color": "white"
             }
            },
            "header": {
             "fill": {
              "color": "#C8D4E3"
             },
             "line": {
              "color": "white"
             }
            },
            "type": "table"
           }
          ]
         },
         "layout": {
          "annotationdefaults": {
           "arrowcolor": "#2a3f5f",
           "arrowhead": 0,
           "arrowwidth": 1
          },
          "autotypenumbers": "strict",
          "coloraxis": {
           "colorbar": {
            "outlinewidth": 0,
            "ticks": ""
           }
          },
          "colorscale": {
           "diverging": [
            [
             0,
             "#8e0152"
            ],
            [
             0.1,
             "#c51b7d"
            ],
            [
             0.2,
             "#de77ae"
            ],
            [
             0.3,
             "#f1b6da"
            ],
            [
             0.4,
             "#fde0ef"
            ],
            [
             0.5,
             "#f7f7f7"
            ],
            [
             0.6,
             "#e6f5d0"
            ],
            [
             0.7,
             "#b8e186"
            ],
            [
             0.8,
             "#7fbc41"
            ],
            [
             0.9,
             "#4d9221"
            ],
            [
             1,
             "#276419"
            ]
           ],
           "sequential": [
            [
             0,
             "#0d0887"
            ],
            [
             0.1111111111111111,
             "#46039f"
            ],
            [
             0.2222222222222222,
             "#7201a8"
            ],
            [
             0.3333333333333333,
             "#9c179e"
            ],
            [
             0.4444444444444444,
             "#bd3786"
            ],
            [
             0.5555555555555556,
             "#d8576b"
            ],
            [
             0.6666666666666666,
             "#ed7953"
            ],
            [
             0.7777777777777778,
             "#fb9f3a"
            ],
            [
             0.8888888888888888,
             "#fdca26"
            ],
            [
             1,
             "#f0f921"
            ]
           ],
           "sequentialminus": [
            [
             0,
             "#0d0887"
            ],
            [
             0.1111111111111111,
             "#46039f"
            ],
            [
             0.2222222222222222,
             "#7201a8"
            ],
            [
             0.3333333333333333,
             "#9c179e"
            ],
            [
             0.4444444444444444,
             "#bd3786"
            ],
            [
             0.5555555555555556,
             "#d8576b"
            ],
            [
             0.6666666666666666,
             "#ed7953"
            ],
            [
             0.7777777777777778,
             "#fb9f3a"
            ],
            [
             0.8888888888888888,
             "#fdca26"
            ],
            [
             1,
             "#f0f921"
            ]
           ]
          },
          "colorway": [
           "#636efa",
           "#EF553B",
           "#00cc96",
           "#ab63fa",
           "#FFA15A",
           "#19d3f3",
           "#FF6692",
           "#B6E880",
           "#FF97FF",
           "#FECB52"
          ],
          "font": {
           "color": "#2a3f5f"
          },
          "geo": {
           "bgcolor": "white",
           "lakecolor": "white",
           "landcolor": "#E5ECF6",
           "showlakes": true,
           "showland": true,
           "subunitcolor": "white"
          },
          "hoverlabel": {
           "align": "left"
          },
          "hovermode": "closest",
          "mapbox": {
           "style": "light"
          },
          "paper_bgcolor": "white",
          "plot_bgcolor": "#E5ECF6",
          "polar": {
           "angularaxis": {
            "gridcolor": "white",
            "linecolor": "white",
            "ticks": ""
           },
           "bgcolor": "#E5ECF6",
           "radialaxis": {
            "gridcolor": "white",
            "linecolor": "white",
            "ticks": ""
           }
          },
          "scene": {
           "xaxis": {
            "backgroundcolor": "#E5ECF6",
            "gridcolor": "white",
            "gridwidth": 2,
            "linecolor": "white",
            "showbackground": true,
            "ticks": "",
            "zerolinecolor": "white"
           },
           "yaxis": {
            "backgroundcolor": "#E5ECF6",
            "gridcolor": "white",
            "gridwidth": 2,
            "linecolor": "white",
            "showbackground": true,
            "ticks": "",
            "zerolinecolor": "white"
           },
           "zaxis": {
            "backgroundcolor": "#E5ECF6",
            "gridcolor": "white",
            "gridwidth": 2,
            "linecolor": "white",
            "showbackground": true,
            "ticks": "",
            "zerolinecolor": "white"
           }
          },
          "shapedefaults": {
           "line": {
            "color": "#2a3f5f"
           }
          },
          "ternary": {
           "aaxis": {
            "gridcolor": "white",
            "linecolor": "white",
            "ticks": ""
           },
           "baxis": {
            "gridcolor": "white",
            "linecolor": "white",
            "ticks": ""
           },
           "bgcolor": "#E5ECF6",
           "caxis": {
            "gridcolor": "white",
            "linecolor": "white",
            "ticks": ""
           }
          },
          "title": {
           "x": 0.05
          },
          "xaxis": {
           "automargin": true,
           "gridcolor": "white",
           "linecolor": "white",
           "ticks": "",
           "title": {
            "standoff": 15
           },
           "zerolinecolor": "white",
           "zerolinewidth": 2
          },
          "yaxis": {
           "automargin": true,
           "gridcolor": "white",
           "linecolor": "white",
           "ticks": "",
           "title": {
            "standoff": 15
           },
           "zerolinecolor": "white",
           "zerolinewidth": 2
          }
         }
        },
        "title": {
         "text": "Spacecraft 2-2 Access, In Fov, and Connected"
        },
        "xaxis": {
         "anchor": "y",
         "domain": [
          0,
          1
         ],
         "type": "date"
        },
        "yaxis": {
         "anchor": "x",
         "categoryorder": "total ascending",
         "domain": [
          0,
          1
         ],
         "title": {
          "text": "antenna"
         }
        }
       }
      }
     },
     "metadata": {},
     "output_type": "display_data"
    },
    {
     "data": {
      "application/vnd.plotly.v1+json": {
       "config": {
        "plotlyServerURL": "https://plot.ly"
       },
       "data": [
        {
         "alignmentgroup": "True",
         "base": [
          "2024-10-31T06:03:00.000087+00:00",
          "2024-10-31T07:39:50.000086+00:00",
          "2024-10-31T09:19:30.000086+00:00",
          "2024-10-31T11:00:20.000086+00:00",
          "2024-10-31T01:18:20.000086+00:00",
          "2024-10-31T03:00:30.000086+00:00",
          "2024-10-31T04:41:10.000086+00:00",
          "2024-10-31T06:21:40.000086+00:00",
          "2024-10-31T08:05:10.000086+00:00",
          "2024-10-31T00:00:00.000086+00:00",
          "2024-10-31T01:38:10.000086+00:00",
          "2024-10-31T01:01:40.000087+00:00",
          "2024-10-31T02:39:10.000086+00:00",
          "2024-10-31T04:22:20.000086+00:00",
          "2024-10-31T11:16:00.000086+00:00",
          "2024-10-31T01:34:10.000086+00:00",
          "2024-10-31T03:13:40.000087+00:00",
          "2024-10-31T06:29:00.000086+00:00",
          "2024-10-31T08:10:20.000087+00:00",
          "2024-10-31T04:10:30.000087+00:00",
          "2024-10-31T05:48:00.000086+00:00",
          "2024-10-31T07:33:30.000086+00:00",
          "2024-10-31T02:29:40.000086+00:00",
          "2024-10-31T04:10:40.000086+00:00",
          "2024-10-31T03:24:40.000086+00:00",
          "2024-10-31T05:06:00.000086+00:00",
          "2024-10-31T06:47:50.000086+00:00",
          "2024-10-31T08:26:30.000086+00:00",
          "2024-10-31T10:08:00.000086+00:00",
          "2024-10-31T11:50:30.000086+00:00",
          "2024-10-31T01:24:50.000086+00:00"
         ],
         "hovertemplate": "type=access<br>start=%{base}<br>end=%{x}<br>antenna=%{y}<extra></extra>",
         "legendgroup": "access",
         "marker": {
          "color": "#636efa",
          "pattern": {
           "shape": ""
          }
         },
         "name": "access",
         "offsetgroup": "access",
         "orientation": "h",
         "showlegend": true,
         "textposition": "auto",
         "type": "bar",
         "x": [
          489999.999,
          770000,
          830000,
          820000,
          620000,
          660000,
          790000.001,
          790000,
          290000,
          510000,
          370000,
          519999.999,
          820000,
          560000,
          720000,
          660000,
          799999.999,
          790000,
          649999.999,
          500000,
          820000,
          250000,
          780000,
          690000,
          790000,
          680000,
          680000,
          820000,
          770000,
          560000,
          550000
         ],
         "xaxis": "x",
         "y": [
          "Dundee",
          "Dundee",
          "Dundee",
          "Dundee",
          "Chitose",
          "Chitose",
          "Chitose",
          "Chitose",
          "Chitose",
          "Mojave",
          "Mojave",
          "Dubai",
          "Dubai",
          "Dubai",
          "Dubai",
          "Paumalu",
          "Paumalu",
          "Harmon",
          "Harmon",
          "Sunyani",
          "Sunyani",
          "Sunyani",
          "Mwulire",
          "Mwulire",
          "Tahiti",
          "Tahiti",
          "Awarua",
          "Awarua",
          "Awarua",
          "Awarua",
          "Utqiagvik"
         ],
         "yaxis": "y"
        },
        {
         "alignmentgroup": "True",
         "base": [
          "2024-10-31T09:19:30.000086+00:00",
          "2024-10-31T11:00:20.000086+00:00",
          "2024-10-31T11:13:50.000086+00:00",
          "2024-10-31T01:19:10.000086+00:00",
          "2024-10-31T03:00:30.000086+00:00",
          "2024-10-31T04:41:10.000086+00:00",
          "2024-10-31T06:21:40.000086+00:00",
          "2024-10-31T06:30:20.000086+00:00",
          "2024-10-31T08:05:10.000086+00:00",
          "2024-10-31T01:01:40.000087+00:00",
          "2024-10-31T02:49:00.000086+00:00",
          "2024-10-31T04:27:10.000086+00:00",
          "2024-10-31T11:16:00.000086+00:00",
          "2024-10-31T03:14:10.000086+00:00",
          "2024-10-31T06:38:00.000087+00:00",
          "2024-10-31T08:10:20.000087+00:00",
          "2024-10-31T04:10:30.000087+00:00",
          "2024-10-31T05:48:20.000086+00:00",
          "2024-10-31T02:40:50.000086+00:00",
          "2024-10-31T05:13:40.000086+00:00",
          "2024-10-31T10:10:00.000086+00:00"
         ],
         "hovertemplate": "type=inFov<br>start=%{base}<br>end=%{x}<br>antenna=%{y}<extra></extra>",
         "legendgroup": "inFov",
         "marker": {
          "color": "#EF553B",
          "pattern": {
           "shape": ""
          }
         },
         "name": "inFov",
         "offsetgroup": "inFov",
         "orientation": "h",
         "showlegend": true,
         "textposition": "auto",
         "type": "bar",
         "x": [
          820000,
          260000,
          10000,
          560000,
          650000.001,
          780000,
          180000,
          260000,
          280000,
          509999.999,
          70000,
          20000,
          710000,
          760000,
          70000,
          640000,
          489999.999,
          700000,
          110000,
          20000,
          100000
         ],
         "xaxis": "x",
         "y": [
          "Dundee",
          "Dundee",
          "Dundee",
          "Chitose",
          "Chitose",
          "Chitose",
          "Chitose",
          "Chitose",
          "Chitose",
          "Dubai",
          "Dubai",
          "Dubai",
          "Dubai",
          "Paumalu",
          "Harmon",
          "Harmon",
          "Sunyani",
          "Sunyani",
          "Mwulire",
          "Tahiti",
          "Awarua"
         ],
         "yaxis": "y"
        },
        {
         "alignmentgroup": "True",
         "base": [
          "2024-10-31T09:19:30.000086+00:00",
          "2024-10-31T11:01:40.000086+00:00",
          "2024-10-31T11:13:50.000086+00:00",
          "2024-10-31T01:20:20.000086+00:00",
          "2024-10-31T03:00:30.000086+00:00",
          "2024-10-31T04:41:10.000086+00:00",
          "2024-10-31T06:21:40.000086+00:00",
          "2024-10-31T06:30:20.000086+00:00",
          "2024-10-31T08:05:10.000086+00:00",
          "2024-10-31T01:01:40.000087+00:00",
          "2024-10-31T11:16:00.000086+00:00",
          "2024-10-31T03:14:10.000086+00:00",
          "2024-10-31T06:38:00.000087+00:00",
          "2024-10-31T08:10:20.000087+00:00",
          "2024-10-31T04:10:30.000087+00:00",
          "2024-10-31T05:48:20.000086+00:00"
         ],
         "hovertemplate": "type=connected<br>start=%{base}<br>end=%{x}<br>antenna=%{y}<extra></extra>",
         "legendgroup": "connected",
         "marker": {
          "color": "#00cc96",
          "pattern": {
           "shape": ""
          }
         },
         "name": "connected",
         "offsetgroup": "connected",
         "orientation": "h",
         "showlegend": true,
         "textposition": "auto",
         "type": "bar",
         "x": [
          820000,
          60000.001,
          10000,
          490000,
          650000.001,
          780000,
          180000,
          260000,
          280000,
          509999.999,
          710000,
          760000,
          70000,
          640000,
          489999.999,
          700000
         ],
         "xaxis": "x",
         "y": [
          "Dundee",
          "Dundee",
          "Dundee",
          "Chitose",
          "Chitose",
          "Chitose",
          "Chitose",
          "Chitose",
          "Chitose",
          "Dubai",
          "Dubai",
          "Paumalu",
          "Harmon",
          "Harmon",
          "Sunyani",
          "Sunyani"
         ],
         "yaxis": "y"
        }
       ],
       "layout": {
        "barmode": "overlay",
        "legend": {
         "title": {
          "text": "type"
         },
         "tracegroupgap": 0
        },
        "margin": {
         "t": 60
        },
        "template": {
         "data": {
          "bar": [
           {
            "error_x": {
             "color": "#2a3f5f"
            },
            "error_y": {
             "color": "#2a3f5f"
            },
            "marker": {
             "line": {
              "color": "#E5ECF6",
              "width": 0.5
             },
             "pattern": {
              "fillmode": "overlay",
              "size": 10,
              "solidity": 0.2
             }
            },
            "type": "bar"
           }
          ],
          "barpolar": [
           {
            "marker": {
             "line": {
              "color": "#E5ECF6",
              "width": 0.5
             },
             "pattern": {
              "fillmode": "overlay",
              "size": 10,
              "solidity": 0.2
             }
            },
            "type": "barpolar"
           }
          ],
          "carpet": [
           {
            "aaxis": {
             "endlinecolor": "#2a3f5f",
             "gridcolor": "white",
             "linecolor": "white",
             "minorgridcolor": "white",
             "startlinecolor": "#2a3f5f"
            },
            "baxis": {
             "endlinecolor": "#2a3f5f",
             "gridcolor": "white",
             "linecolor": "white",
             "minorgridcolor": "white",
             "startlinecolor": "#2a3f5f"
            },
            "type": "carpet"
           }
          ],
          "choropleth": [
           {
            "colorbar": {
             "outlinewidth": 0,
             "ticks": ""
            },
            "type": "choropleth"
           }
          ],
          "contour": [
           {
            "colorbar": {
             "outlinewidth": 0,
             "ticks": ""
            },
            "colorscale": [
             [
              0,
              "#0d0887"
             ],
             [
              0.1111111111111111,
              "#46039f"
             ],
             [
              0.2222222222222222,
              "#7201a8"
             ],
             [
              0.3333333333333333,
              "#9c179e"
             ],
             [
              0.4444444444444444,
              "#bd3786"
             ],
             [
              0.5555555555555556,
              "#d8576b"
             ],
             [
              0.6666666666666666,
              "#ed7953"
             ],
             [
              0.7777777777777778,
              "#fb9f3a"
             ],
             [
              0.8888888888888888,
              "#fdca26"
             ],
             [
              1,
              "#f0f921"
             ]
            ],
            "type": "contour"
           }
          ],
          "contourcarpet": [
           {
            "colorbar": {
             "outlinewidth": 0,
             "ticks": ""
            },
            "type": "contourcarpet"
           }
          ],
          "heatmap": [
           {
            "colorbar": {
             "outlinewidth": 0,
             "ticks": ""
            },
            "colorscale": [
             [
              0,
              "#0d0887"
             ],
             [
              0.1111111111111111,
              "#46039f"
             ],
             [
              0.2222222222222222,
              "#7201a8"
             ],
             [
              0.3333333333333333,
              "#9c179e"
             ],
             [
              0.4444444444444444,
              "#bd3786"
             ],
             [
              0.5555555555555556,
              "#d8576b"
             ],
             [
              0.6666666666666666,
              "#ed7953"
             ],
             [
              0.7777777777777778,
              "#fb9f3a"
             ],
             [
              0.8888888888888888,
              "#fdca26"
             ],
             [
              1,
              "#f0f921"
             ]
            ],
            "type": "heatmap"
           }
          ],
          "heatmapgl": [
           {
            "colorbar": {
             "outlinewidth": 0,
             "ticks": ""
            },
            "colorscale": [
             [
              0,
              "#0d0887"
             ],
             [
              0.1111111111111111,
              "#46039f"
             ],
             [
              0.2222222222222222,
              "#7201a8"
             ],
             [
              0.3333333333333333,
              "#9c179e"
             ],
             [
              0.4444444444444444,
              "#bd3786"
             ],
             [
              0.5555555555555556,
              "#d8576b"
             ],
             [
              0.6666666666666666,
              "#ed7953"
             ],
             [
              0.7777777777777778,
              "#fb9f3a"
             ],
             [
              0.8888888888888888,
              "#fdca26"
             ],
             [
              1,
              "#f0f921"
             ]
            ],
            "type": "heatmapgl"
           }
          ],
          "histogram": [
           {
            "marker": {
             "pattern": {
              "fillmode": "overlay",
              "size": 10,
              "solidity": 0.2
             }
            },
            "type": "histogram"
           }
          ],
          "histogram2d": [
           {
            "colorbar": {
             "outlinewidth": 0,
             "ticks": ""
            },
            "colorscale": [
             [
              0,
              "#0d0887"
             ],
             [
              0.1111111111111111,
              "#46039f"
             ],
             [
              0.2222222222222222,
              "#7201a8"
             ],
             [
              0.3333333333333333,
              "#9c179e"
             ],
             [
              0.4444444444444444,
              "#bd3786"
             ],
             [
              0.5555555555555556,
              "#d8576b"
             ],
             [
              0.6666666666666666,
              "#ed7953"
             ],
             [
              0.7777777777777778,
              "#fb9f3a"
             ],
             [
              0.8888888888888888,
              "#fdca26"
             ],
             [
              1,
              "#f0f921"
             ]
            ],
            "type": "histogram2d"
           }
          ],
          "histogram2dcontour": [
           {
            "colorbar": {
             "outlinewidth": 0,
             "ticks": ""
            },
            "colorscale": [
             [
              0,
              "#0d0887"
             ],
             [
              0.1111111111111111,
              "#46039f"
             ],
             [
              0.2222222222222222,
              "#7201a8"
             ],
             [
              0.3333333333333333,
              "#9c179e"
             ],
             [
              0.4444444444444444,
              "#bd3786"
             ],
             [
              0.5555555555555556,
              "#d8576b"
             ],
             [
              0.6666666666666666,
              "#ed7953"
             ],
             [
              0.7777777777777778,
              "#fb9f3a"
             ],
             [
              0.8888888888888888,
              "#fdca26"
             ],
             [
              1,
              "#f0f921"
             ]
            ],
            "type": "histogram2dcontour"
           }
          ],
          "mesh3d": [
           {
            "colorbar": {
             "outlinewidth": 0,
             "ticks": ""
            },
            "type": "mesh3d"
           }
          ],
          "parcoords": [
           {
            "line": {
             "colorbar": {
              "outlinewidth": 0,
              "ticks": ""
             }
            },
            "type": "parcoords"
           }
          ],
          "pie": [
           {
            "automargin": true,
            "type": "pie"
           }
          ],
          "scatter": [
           {
            "fillpattern": {
             "fillmode": "overlay",
             "size": 10,
             "solidity": 0.2
            },
            "type": "scatter"
           }
          ],
          "scatter3d": [
           {
            "line": {
             "colorbar": {
              "outlinewidth": 0,
              "ticks": ""
             }
            },
            "marker": {
             "colorbar": {
              "outlinewidth": 0,
              "ticks": ""
             }
            },
            "type": "scatter3d"
           }
          ],
          "scattercarpet": [
           {
            "marker": {
             "colorbar": {
              "outlinewidth": 0,
              "ticks": ""
             }
            },
            "type": "scattercarpet"
           }
          ],
          "scattergeo": [
           {
            "marker": {
             "colorbar": {
              "outlinewidth": 0,
              "ticks": ""
             }
            },
            "type": "scattergeo"
           }
          ],
          "scattergl": [
           {
            "marker": {
             "colorbar": {
              "outlinewidth": 0,
              "ticks": ""
             }
            },
            "type": "scattergl"
           }
          ],
          "scattermapbox": [
           {
            "marker": {
             "colorbar": {
              "outlinewidth": 0,
              "ticks": ""
             }
            },
            "type": "scattermapbox"
           }
          ],
          "scatterpolar": [
           {
            "marker": {
             "colorbar": {
              "outlinewidth": 0,
              "ticks": ""
             }
            },
            "type": "scatterpolar"
           }
          ],
          "scatterpolargl": [
           {
            "marker": {
             "colorbar": {
              "outlinewidth": 0,
              "ticks": ""
             }
            },
            "type": "scatterpolargl"
           }
          ],
          "scatterternary": [
           {
            "marker": {
             "colorbar": {
              "outlinewidth": 0,
              "ticks": ""
             }
            },
            "type": "scatterternary"
           }
          ],
          "surface": [
           {
            "colorbar": {
             "outlinewidth": 0,
             "ticks": ""
            },
            "colorscale": [
             [
              0,
              "#0d0887"
             ],
             [
              0.1111111111111111,
              "#46039f"
             ],
             [
              0.2222222222222222,
              "#7201a8"
             ],
             [
              0.3333333333333333,
              "#9c179e"
             ],
             [
              0.4444444444444444,
              "#bd3786"
             ],
             [
              0.5555555555555556,
              "#d8576b"
             ],
             [
              0.6666666666666666,
              "#ed7953"
             ],
             [
              0.7777777777777778,
              "#fb9f3a"
             ],
             [
              0.8888888888888888,
              "#fdca26"
             ],
             [
              1,
              "#f0f921"
             ]
            ],
            "type": "surface"
           }
          ],
          "table": [
           {
            "cells": {
             "fill": {
              "color": "#EBF0F8"
             },
             "line": {
              "color": "white"
             }
            },
            "header": {
             "fill": {
              "color": "#C8D4E3"
             },
             "line": {
              "color": "white"
             }
            },
            "type": "table"
           }
          ]
         },
         "layout": {
          "annotationdefaults": {
           "arrowcolor": "#2a3f5f",
           "arrowhead": 0,
           "arrowwidth": 1
          },
          "autotypenumbers": "strict",
          "coloraxis": {
           "colorbar": {
            "outlinewidth": 0,
            "ticks": ""
           }
          },
          "colorscale": {
           "diverging": [
            [
             0,
             "#8e0152"
            ],
            [
             0.1,
             "#c51b7d"
            ],
            [
             0.2,
             "#de77ae"
            ],
            [
             0.3,
             "#f1b6da"
            ],
            [
             0.4,
             "#fde0ef"
            ],
            [
             0.5,
             "#f7f7f7"
            ],
            [
             0.6,
             "#e6f5d0"
            ],
            [
             0.7,
             "#b8e186"
            ],
            [
             0.8,
             "#7fbc41"
            ],
            [
             0.9,
             "#4d9221"
            ],
            [
             1,
             "#276419"
            ]
           ],
           "sequential": [
            [
             0,
             "#0d0887"
            ],
            [
             0.1111111111111111,
             "#46039f"
            ],
            [
             0.2222222222222222,
             "#7201a8"
            ],
            [
             0.3333333333333333,
             "#9c179e"
            ],
            [
             0.4444444444444444,
             "#bd3786"
            ],
            [
             0.5555555555555556,
             "#d8576b"
            ],
            [
             0.6666666666666666,
             "#ed7953"
            ],
            [
             0.7777777777777778,
             "#fb9f3a"
            ],
            [
             0.8888888888888888,
             "#fdca26"
            ],
            [
             1,
             "#f0f921"
            ]
           ],
           "sequentialminus": [
            [
             0,
             "#0d0887"
            ],
            [
             0.1111111111111111,
             "#46039f"
            ],
            [
             0.2222222222222222,
             "#7201a8"
            ],
            [
             0.3333333333333333,
             "#9c179e"
            ],
            [
             0.4444444444444444,
             "#bd3786"
            ],
            [
             0.5555555555555556,
             "#d8576b"
            ],
            [
             0.6666666666666666,
             "#ed7953"
            ],
            [
             0.7777777777777778,
             "#fb9f3a"
            ],
            [
             0.8888888888888888,
             "#fdca26"
            ],
            [
             1,
             "#f0f921"
            ]
           ]
          },
          "colorway": [
           "#636efa",
           "#EF553B",
           "#00cc96",
           "#ab63fa",
           "#FFA15A",
           "#19d3f3",
           "#FF6692",
           "#B6E880",
           "#FF97FF",
           "#FECB52"
          ],
          "font": {
           "color": "#2a3f5f"
          },
          "geo": {
           "bgcolor": "white",
           "lakecolor": "white",
           "landcolor": "#E5ECF6",
           "showlakes": true,
           "showland": true,
           "subunitcolor": "white"
          },
          "hoverlabel": {
           "align": "left"
          },
          "hovermode": "closest",
          "mapbox": {
           "style": "light"
          },
          "paper_bgcolor": "white",
          "plot_bgcolor": "#E5ECF6",
          "polar": {
           "angularaxis": {
            "gridcolor": "white",
            "linecolor": "white",
            "ticks": ""
           },
           "bgcolor": "#E5ECF6",
           "radialaxis": {
            "gridcolor": "white",
            "linecolor": "white",
            "ticks": ""
           }
          },
          "scene": {
           "xaxis": {
            "backgroundcolor": "#E5ECF6",
            "gridcolor": "white",
            "gridwidth": 2,
            "linecolor": "white",
            "showbackground": true,
            "ticks": "",
            "zerolinecolor": "white"
           },
           "yaxis": {
            "backgroundcolor": "#E5ECF6",
            "gridcolor": "white",
            "gridwidth": 2,
            "linecolor": "white",
            "showbackground": true,
            "ticks": "",
            "zerolinecolor": "white"
           },
           "zaxis": {
            "backgroundcolor": "#E5ECF6",
            "gridcolor": "white",
            "gridwidth": 2,
            "linecolor": "white",
            "showbackground": true,
            "ticks": "",
            "zerolinecolor": "white"
           }
          },
          "shapedefaults": {
           "line": {
            "color": "#2a3f5f"
           }
          },
          "ternary": {
           "aaxis": {
            "gridcolor": "white",
            "linecolor": "white",
            "ticks": ""
           },
           "baxis": {
            "gridcolor": "white",
            "linecolor": "white",
            "ticks": ""
           },
           "bgcolor": "#E5ECF6",
           "caxis": {
            "gridcolor": "white",
            "linecolor": "white",
            "ticks": ""
           }
          },
          "title": {
           "x": 0.05
          },
          "xaxis": {
           "automargin": true,
           "gridcolor": "white",
           "linecolor": "white",
           "ticks": "",
           "title": {
            "standoff": 15
           },
           "zerolinecolor": "white",
           "zerolinewidth": 2
          },
          "yaxis": {
           "automargin": true,
           "gridcolor": "white",
           "linecolor": "white",
           "ticks": "",
           "title": {
            "standoff": 15
           },
           "zerolinecolor": "white",
           "zerolinewidth": 2
          }
         }
        },
        "title": {
         "text": "Spacecraft 2-3 Access, In Fov, and Connected"
        },
        "xaxis": {
         "anchor": "y",
         "domain": [
          0,
          1
         ],
         "type": "date"
        },
        "yaxis": {
         "anchor": "x",
         "categoryorder": "total ascending",
         "domain": [
          0,
          1
         ],
         "title": {
          "text": "antenna"
         }
        }
       }
      }
     },
     "metadata": {},
     "output_type": "display_data"
    },
    {
     "data": {
      "application/vnd.plotly.v1+json": {
       "config": {
        "plotlyServerURL": "https://plot.ly"
       },
       "data": [
        {
         "alignmentgroup": "True",
         "base": [
          "2024-10-31T05:51:00.000086+00:00",
          "2024-10-31T07:27:00.000086+00:00",
          "2024-10-31T09:06:10.000086+00:00",
          "2024-10-31T10:46:50.000086+00:00",
          "2024-10-31T01:05:20.000086+00:00",
          "2024-10-31T02:47:30.000086+00:00",
          "2024-10-31T04:28:10.000086+00:00",
          "2024-10-31T06:08:30.000086+00:00",
          "2024-10-31T07:50:50.000087+00:00",
          "2024-10-31T01:24:40.000086+00:00",
          "2024-10-31T00:50:30.000086+00:00",
          "2024-10-31T02:26:30.000086+00:00",
          "2024-10-31T04:08:50.000086+00:00",
          "2024-10-31T11:02:40.000087+00:00",
          "2024-10-31T01:22:00.000086+00:00",
          "2024-10-31T03:00:50.000086+00:00",
          "2024-10-31T04:44:30.000086+00:00",
          "2024-10-31T06:16:10.000086+00:00",
          "2024-10-31T07:56:40.000086+00:00",
          "2024-10-31T03:59:10.000086+00:00",
          "2024-10-31T05:35:00.000086+00:00",
          "2024-10-31T07:18:40.000086+00:00",
          "2024-10-31T02:17:20.000086+00:00",
          "2024-10-31T03:57:30.000087+00:00",
          "2024-10-31T03:12:00.000086+00:00",
          "2024-10-31T04:52:30.000086+00:00",
          "2024-10-31T06:35:10.000086+00:00",
          "2024-10-31T08:13:10.000086+00:00",
          "2024-10-31T09:54:20.000086+00:00",
          "2024-10-31T11:36:40.000086+00:00",
          "2024-10-31T01:12:10.000086+00:00",
          "2024-10-31T02:54:10.000087+00:00"
         ],
         "hovertemplate": "type=access<br>start=%{base}<br>end=%{x}<br>antenna=%{y}<extra></extra>",
         "legendgroup": "access",
         "marker": {
          "color": "#636efa",
          "pattern": {
           "shape": ""
          }
         },
         "name": "access",
         "offsetgroup": "access",
         "orientation": "h",
         "showlegend": true,
         "textposition": "auto",
         "type": "bar",
         "x": [
          390000,
          740000,
          820000,
          810000,
          620000,
          650000.001,
          780000,
          800000,
          439999.999,
          490000,
          360000,
          810000,
          610000,
          669999.999,
          590000.001,
          810000,
          330000,
          760000,
          710000,
          310000,
          810000,
          430000,
          730000,
          719999.999,
          760000,
          730000,
          630000.001,
          820000,
          770000,
          700000,
          570000,
          109999.999
         ],
         "xaxis": "x",
         "y": [
          "Dundee",
          "Dundee",
          "Dundee",
          "Dundee",
          "Chitose",
          "Chitose",
          "Chitose",
          "Chitose",
          "Chitose",
          "Mojave",
          "Dubai",
          "Dubai",
          "Dubai",
          "Dubai",
          "Paumalu",
          "Paumalu",
          "Paumalu",
          "Harmon",
          "Harmon",
          "Sunyani",
          "Sunyani",
          "Sunyani",
          "Mwulire",
          "Mwulire",
          "Tahiti",
          "Tahiti",
          "Awarua",
          "Awarua",
          "Awarua",
          "Awarua",
          "Utqiagvik",
          "Utqiagvik"
         ],
         "yaxis": "y"
        },
        {
         "alignmentgroup": "True",
         "base": [
          "2024-10-31T09:06:10.000086+00:00",
          "2024-10-31T09:08:00.000086+00:00",
          "2024-10-31T10:47:20.000086+00:00",
          "2024-10-31T01:06:40.000086+00:00",
          "2024-10-31T02:47:30.000086+00:00",
          "2024-10-31T04:28:40.000086+00:00",
          "2024-10-31T06:09:50.000086+00:00",
          "2024-10-31T07:50:50.000087+00:00",
          "2024-10-31T01:24:40.000086+00:00",
          "2024-10-31T00:50:30.000086+00:00",
          "2024-10-31T02:27:40.000086+00:00",
          "2024-10-31T02:32:30.000086+00:00",
          "2024-10-31T02:36:30.000086+00:00",
          "2024-10-31T04:14:40.000087+00:00",
          "2024-10-31T11:02:40.000087+00:00",
          "2024-10-31T03:02:00.000086+00:00",
          "2024-10-31T04:45:10.000086+00:00",
          "2024-10-31T07:58:50.000086+00:00",
          "2024-10-31T08:03:10.000086+00:00",
          "2024-10-31T03:59:10.000086+00:00",
          "2024-10-31T05:36:20.000086+00:00",
          "2024-10-31T02:29:10.000086+00:00",
          "2024-10-31T05:00:40.000086+00:00"
         ],
         "hovertemplate": "type=inFov<br>start=%{base}<br>end=%{x}<br>antenna=%{y}<extra></extra>",
         "legendgroup": "inFov",
         "marker": {
          "color": "#EF553B",
          "pattern": {
           "shape": ""
          }
         },
         "name": "inFov",
         "offsetgroup": "inFov",
         "orientation": "h",
         "showlegend": true,
         "textposition": "auto",
         "type": "bar",
         "x": [
          30000,
          350000,
          250000,
          290000,
          640000,
          740000,
          710000,
          429999.999,
          160000,
          350000.001,
          60000.001,
          70000,
          120000,
          99999.999,
          659999.999,
          730000,
          30000,
          110000,
          310000,
          300000,
          720000,
          20000,
          240000
         ],
         "xaxis": "x",
         "y": [
          "Dundee",
          "Dundee",
          "Dundee",
          "Chitose",
          "Chitose",
          "Chitose",
          "Chitose",
          "Chitose",
          "Mojave",
          "Dubai",
          "Dubai",
          "Dubai",
          "Dubai",
          "Dubai",
          "Dubai",
          "Paumalu",
          "Paumalu",
          "Harmon",
          "Harmon",
          "Sunyani",
          "Sunyani",
          "Mwulire",
          "Tahiti"
         ],
         "yaxis": "y"
        },
        {
         "alignmentgroup": "True",
         "base": [
          "2024-10-31T09:08:00.000086+00:00",
          "2024-10-31T10:49:40.000086+00:00",
          "2024-10-31T01:09:30.000086+00:00",
          "2024-10-31T02:47:30.000086+00:00",
          "2024-10-31T04:28:40.000086+00:00",
          "2024-10-31T06:09:50.000086+00:00",
          "2024-10-31T07:50:50.000087+00:00",
          "2024-10-31T01:24:40.000086+00:00",
          "2024-10-31T00:50:30.000086+00:00",
          "2024-10-31T02:27:40.000086+00:00",
          "2024-10-31T02:32:30.000086+00:00",
          "2024-10-31T11:02:40.000087+00:00",
          "2024-10-31T03:02:00.000086+00:00",
          "2024-10-31T04:45:10.000086+00:00",
          "2024-10-31T08:03:10.000086+00:00",
          "2024-10-31T03:59:10.000086+00:00",
          "2024-10-31T05:36:20.000086+00:00"
         ],
         "hovertemplate": "type=connected<br>start=%{base}<br>end=%{x}<br>antenna=%{y}<extra></extra>",
         "legendgroup": "connected",
         "marker": {
          "color": "#00cc96",
          "pattern": {
           "shape": ""
          }
         },
         "name": "connected",
         "offsetgroup": "connected",
         "orientation": "h",
         "showlegend": true,
         "textposition": "auto",
         "type": "bar",
         "x": [
          350000,
          110000,
          120000,
          640000,
          740000,
          710000,
          429999.999,
          30000,
          350000.001,
          60000.001,
          70000,
          659999.999,
          730000,
          30000,
          310000,
          300000,
          720000
         ],
         "xaxis": "x",
         "y": [
          "Dundee",
          "Dundee",
          "Chitose",
          "Chitose",
          "Chitose",
          "Chitose",
          "Chitose",
          "Mojave",
          "Dubai",
          "Dubai",
          "Dubai",
          "Dubai",
          "Paumalu",
          "Paumalu",
          "Harmon",
          "Sunyani",
          "Sunyani"
         ],
         "yaxis": "y"
        }
       ],
       "layout": {
        "barmode": "overlay",
        "legend": {
         "title": {
          "text": "type"
         },
         "tracegroupgap": 0
        },
        "margin": {
         "t": 60
        },
        "template": {
         "data": {
          "bar": [
           {
            "error_x": {
             "color": "#2a3f5f"
            },
            "error_y": {
             "color": "#2a3f5f"
            },
            "marker": {
             "line": {
              "color": "#E5ECF6",
              "width": 0.5
             },
             "pattern": {
              "fillmode": "overlay",
              "size": 10,
              "solidity": 0.2
             }
            },
            "type": "bar"
           }
          ],
          "barpolar": [
           {
            "marker": {
             "line": {
              "color": "#E5ECF6",
              "width": 0.5
             },
             "pattern": {
              "fillmode": "overlay",
              "size": 10,
              "solidity": 0.2
             }
            },
            "type": "barpolar"
           }
          ],
          "carpet": [
           {
            "aaxis": {
             "endlinecolor": "#2a3f5f",
             "gridcolor": "white",
             "linecolor": "white",
             "minorgridcolor": "white",
             "startlinecolor": "#2a3f5f"
            },
            "baxis": {
             "endlinecolor": "#2a3f5f",
             "gridcolor": "white",
             "linecolor": "white",
             "minorgridcolor": "white",
             "startlinecolor": "#2a3f5f"
            },
            "type": "carpet"
           }
          ],
          "choropleth": [
           {
            "colorbar": {
             "outlinewidth": 0,
             "ticks": ""
            },
            "type": "choropleth"
           }
          ],
          "contour": [
           {
            "colorbar": {
             "outlinewidth": 0,
             "ticks": ""
            },
            "colorscale": [
             [
              0,
              "#0d0887"
             ],
             [
              0.1111111111111111,
              "#46039f"
             ],
             [
              0.2222222222222222,
              "#7201a8"
             ],
             [
              0.3333333333333333,
              "#9c179e"
             ],
             [
              0.4444444444444444,
              "#bd3786"
             ],
             [
              0.5555555555555556,
              "#d8576b"
             ],
             [
              0.6666666666666666,
              "#ed7953"
             ],
             [
              0.7777777777777778,
              "#fb9f3a"
             ],
             [
              0.8888888888888888,
              "#fdca26"
             ],
             [
              1,
              "#f0f921"
             ]
            ],
            "type": "contour"
           }
          ],
          "contourcarpet": [
           {
            "colorbar": {
             "outlinewidth": 0,
             "ticks": ""
            },
            "type": "contourcarpet"
           }
          ],
          "heatmap": [
           {
            "colorbar": {
             "outlinewidth": 0,
             "ticks": ""
            },
            "colorscale": [
             [
              0,
              "#0d0887"
             ],
             [
              0.1111111111111111,
              "#46039f"
             ],
             [
              0.2222222222222222,
              "#7201a8"
             ],
             [
              0.3333333333333333,
              "#9c179e"
             ],
             [
              0.4444444444444444,
              "#bd3786"
             ],
             [
              0.5555555555555556,
              "#d8576b"
             ],
             [
              0.6666666666666666,
              "#ed7953"
             ],
             [
              0.7777777777777778,
              "#fb9f3a"
             ],
             [
              0.8888888888888888,
              "#fdca26"
             ],
             [
              1,
              "#f0f921"
             ]
            ],
            "type": "heatmap"
           }
          ],
          "heatmapgl": [
           {
            "colorbar": {
             "outlinewidth": 0,
             "ticks": ""
            },
            "colorscale": [
             [
              0,
              "#0d0887"
             ],
             [
              0.1111111111111111,
              "#46039f"
             ],
             [
              0.2222222222222222,
              "#7201a8"
             ],
             [
              0.3333333333333333,
              "#9c179e"
             ],
             [
              0.4444444444444444,
              "#bd3786"
             ],
             [
              0.5555555555555556,
              "#d8576b"
             ],
             [
              0.6666666666666666,
              "#ed7953"
             ],
             [
              0.7777777777777778,
              "#fb9f3a"
             ],
             [
              0.8888888888888888,
              "#fdca26"
             ],
             [
              1,
              "#f0f921"
             ]
            ],
            "type": "heatmapgl"
           }
          ],
          "histogram": [
           {
            "marker": {
             "pattern": {
              "fillmode": "overlay",
              "size": 10,
              "solidity": 0.2
             }
            },
            "type": "histogram"
           }
          ],
          "histogram2d": [
           {
            "colorbar": {
             "outlinewidth": 0,
             "ticks": ""
            },
            "colorscale": [
             [
              0,
              "#0d0887"
             ],
             [
              0.1111111111111111,
              "#46039f"
             ],
             [
              0.2222222222222222,
              "#7201a8"
             ],
             [
              0.3333333333333333,
              "#9c179e"
             ],
             [
              0.4444444444444444,
              "#bd3786"
             ],
             [
              0.5555555555555556,
              "#d8576b"
             ],
             [
              0.6666666666666666,
              "#ed7953"
             ],
             [
              0.7777777777777778,
              "#fb9f3a"
             ],
             [
              0.8888888888888888,
              "#fdca26"
             ],
             [
              1,
              "#f0f921"
             ]
            ],
            "type": "histogram2d"
           }
          ],
          "histogram2dcontour": [
           {
            "colorbar": {
             "outlinewidth": 0,
             "ticks": ""
            },
            "colorscale": [
             [
              0,
              "#0d0887"
             ],
             [
              0.1111111111111111,
              "#46039f"
             ],
             [
              0.2222222222222222,
              "#7201a8"
             ],
             [
              0.3333333333333333,
              "#9c179e"
             ],
             [
              0.4444444444444444,
              "#bd3786"
             ],
             [
              0.5555555555555556,
              "#d8576b"
             ],
             [
              0.6666666666666666,
              "#ed7953"
             ],
             [
              0.7777777777777778,
              "#fb9f3a"
             ],
             [
              0.8888888888888888,
              "#fdca26"
             ],
             [
              1,
              "#f0f921"
             ]
            ],
            "type": "histogram2dcontour"
           }
          ],
          "mesh3d": [
           {
            "colorbar": {
             "outlinewidth": 0,
             "ticks": ""
            },
            "type": "mesh3d"
           }
          ],
          "parcoords": [
           {
            "line": {
             "colorbar": {
              "outlinewidth": 0,
              "ticks": ""
             }
            },
            "type": "parcoords"
           }
          ],
          "pie": [
           {
            "automargin": true,
            "type": "pie"
           }
          ],
          "scatter": [
           {
            "fillpattern": {
             "fillmode": "overlay",
             "size": 10,
             "solidity": 0.2
            },
            "type": "scatter"
           }
          ],
          "scatter3d": [
           {
            "line": {
             "colorbar": {
              "outlinewidth": 0,
              "ticks": ""
             }
            },
            "marker": {
             "colorbar": {
              "outlinewidth": 0,
              "ticks": ""
             }
            },
            "type": "scatter3d"
           }
          ],
          "scattercarpet": [
           {
            "marker": {
             "colorbar": {
              "outlinewidth": 0,
              "ticks": ""
             }
            },
            "type": "scattercarpet"
           }
          ],
          "scattergeo": [
           {
            "marker": {
             "colorbar": {
              "outlinewidth": 0,
              "ticks": ""
             }
            },
            "type": "scattergeo"
           }
          ],
          "scattergl": [
           {
            "marker": {
             "colorbar": {
              "outlinewidth": 0,
              "ticks": ""
             }
            },
            "type": "scattergl"
           }
          ],
          "scattermapbox": [
           {
            "marker": {
             "colorbar": {
              "outlinewidth": 0,
              "ticks": ""
             }
            },
            "type": "scattermapbox"
           }
          ],
          "scatterpolar": [
           {
            "marker": {
             "colorbar": {
              "outlinewidth": 0,
              "ticks": ""
             }
            },
            "type": "scatterpolar"
           }
          ],
          "scatterpolargl": [
           {
            "marker": {
             "colorbar": {
              "outlinewidth": 0,
              "ticks": ""
             }
            },
            "type": "scatterpolargl"
           }
          ],
          "scatterternary": [
           {
            "marker": {
             "colorbar": {
              "outlinewidth": 0,
              "ticks": ""
             }
            },
            "type": "scatterternary"
           }
          ],
          "surface": [
           {
            "colorbar": {
             "outlinewidth": 0,
             "ticks": ""
            },
            "colorscale": [
             [
              0,
              "#0d0887"
             ],
             [
              0.1111111111111111,
              "#46039f"
             ],
             [
              0.2222222222222222,
              "#7201a8"
             ],
             [
              0.3333333333333333,
              "#9c179e"
             ],
             [
              0.4444444444444444,
              "#bd3786"
             ],
             [
              0.5555555555555556,
              "#d8576b"
             ],
             [
              0.6666666666666666,
              "#ed7953"
             ],
             [
              0.7777777777777778,
              "#fb9f3a"
             ],
             [
              0.8888888888888888,
              "#fdca26"
             ],
             [
              1,
              "#f0f921"
             ]
            ],
            "type": "surface"
           }
          ],
          "table": [
           {
            "cells": {
             "fill": {
              "color": "#EBF0F8"
             },
             "line": {
              "color": "white"
             }
            },
            "header": {
             "fill": {
              "color": "#C8D4E3"
             },
             "line": {
              "color": "white"
             }
            },
            "type": "table"
           }
          ]
         },
         "layout": {
          "annotationdefaults": {
           "arrowcolor": "#2a3f5f",
           "arrowhead": 0,
           "arrowwidth": 1
          },
          "autotypenumbers": "strict",
          "coloraxis": {
           "colorbar": {
            "outlinewidth": 0,
            "ticks": ""
           }
          },
          "colorscale": {
           "diverging": [
            [
             0,
             "#8e0152"
            ],
            [
             0.1,
             "#c51b7d"
            ],
            [
             0.2,
             "#de77ae"
            ],
            [
             0.3,
             "#f1b6da"
            ],
            [
             0.4,
             "#fde0ef"
            ],
            [
             0.5,
             "#f7f7f7"
            ],
            [
             0.6,
             "#e6f5d0"
            ],
            [
             0.7,
             "#b8e186"
            ],
            [
             0.8,
             "#7fbc41"
            ],
            [
             0.9,
             "#4d9221"
            ],
            [
             1,
             "#276419"
            ]
           ],
           "sequential": [
            [
             0,
             "#0d0887"
            ],
            [
             0.1111111111111111,
             "#46039f"
            ],
            [
             0.2222222222222222,
             "#7201a8"
            ],
            [
             0.3333333333333333,
             "#9c179e"
            ],
            [
             0.4444444444444444,
             "#bd3786"
            ],
            [
             0.5555555555555556,
             "#d8576b"
            ],
            [
             0.6666666666666666,
             "#ed7953"
            ],
            [
             0.7777777777777778,
             "#fb9f3a"
            ],
            [
             0.8888888888888888,
             "#fdca26"
            ],
            [
             1,
             "#f0f921"
            ]
           ],
           "sequentialminus": [
            [
             0,
             "#0d0887"
            ],
            [
             0.1111111111111111,
             "#46039f"
            ],
            [
             0.2222222222222222,
             "#7201a8"
            ],
            [
             0.3333333333333333,
             "#9c179e"
            ],
            [
             0.4444444444444444,
             "#bd3786"
            ],
            [
             0.5555555555555556,
             "#d8576b"
            ],
            [
             0.6666666666666666,
             "#ed7953"
            ],
            [
             0.7777777777777778,
             "#fb9f3a"
            ],
            [
             0.8888888888888888,
             "#fdca26"
            ],
            [
             1,
             "#f0f921"
            ]
           ]
          },
          "colorway": [
           "#636efa",
           "#EF553B",
           "#00cc96",
           "#ab63fa",
           "#FFA15A",
           "#19d3f3",
           "#FF6692",
           "#B6E880",
           "#FF97FF",
           "#FECB52"
          ],
          "font": {
           "color": "#2a3f5f"
          },
          "geo": {
           "bgcolor": "white",
           "lakecolor": "white",
           "landcolor": "#E5ECF6",
           "showlakes": true,
           "showland": true,
           "subunitcolor": "white"
          },
          "hoverlabel": {
           "align": "left"
          },
          "hovermode": "closest",
          "mapbox": {
           "style": "light"
          },
          "paper_bgcolor": "white",
          "plot_bgcolor": "#E5ECF6",
          "polar": {
           "angularaxis": {
            "gridcolor": "white",
            "linecolor": "white",
            "ticks": ""
           },
           "bgcolor": "#E5ECF6",
           "radialaxis": {
            "gridcolor": "white",
            "linecolor": "white",
            "ticks": ""
           }
          },
          "scene": {
           "xaxis": {
            "backgroundcolor": "#E5ECF6",
            "gridcolor": "white",
            "gridwidth": 2,
            "linecolor": "white",
            "showbackground": true,
            "ticks": "",
            "zerolinecolor": "white"
           },
           "yaxis": {
            "backgroundcolor": "#E5ECF6",
            "gridcolor": "white",
            "gridwidth": 2,
            "linecolor": "white",
            "showbackground": true,
            "ticks": "",
            "zerolinecolor": "white"
           },
           "zaxis": {
            "backgroundcolor": "#E5ECF6",
            "gridcolor": "white",
            "gridwidth": 2,
            "linecolor": "white",
            "showbackground": true,
            "ticks": "",
            "zerolinecolor": "white"
           }
          },
          "shapedefaults": {
           "line": {
            "color": "#2a3f5f"
           }
          },
          "ternary": {
           "aaxis": {
            "gridcolor": "white",
            "linecolor": "white",
            "ticks": ""
           },
           "baxis": {
            "gridcolor": "white",
            "linecolor": "white",
            "ticks": ""
           },
           "bgcolor": "#E5ECF6",
           "caxis": {
            "gridcolor": "white",
            "linecolor": "white",
            "ticks": ""
           }
          },
          "title": {
           "x": 0.05
          },
          "xaxis": {
           "automargin": true,
           "gridcolor": "white",
           "linecolor": "white",
           "ticks": "",
           "title": {
            "standoff": 15
           },
           "zerolinecolor": "white",
           "zerolinewidth": 2
          },
          "yaxis": {
           "automargin": true,
           "gridcolor": "white",
           "linecolor": "white",
           "ticks": "",
           "title": {
            "standoff": 15
           },
           "zerolinecolor": "white",
           "zerolinewidth": 2
          }
         }
        },
        "title": {
         "text": "Spacecraft 2-4 Access, In Fov, and Connected"
        },
        "xaxis": {
         "anchor": "y",
         "domain": [
          0,
          1
         ],
         "type": "date"
        },
        "yaxis": {
         "anchor": "x",
         "categoryorder": "total ascending",
         "domain": [
          0,
          1
         ],
         "title": {
          "text": "antenna"
         }
        }
       }
      }
     },
     "metadata": {},
     "output_type": "display_data"
    },
    {
     "data": {
      "application/vnd.plotly.v1+json": {
       "config": {
        "plotlyServerURL": "https://plot.ly"
       },
       "data": [
        {
         "alignmentgroup": "True",
         "base": [
          "2024-10-31T05:40:10.000086+00:00",
          "2024-10-31T07:15:20.000086+00:00",
          "2024-10-31T08:54:30.000086+00:00",
          "2024-10-31T10:35:10.000086+00:00",
          "2024-10-31T00:52:30.000086+00:00",
          "2024-10-31T02:35:10.000086+00:00",
          "2024-10-31T04:16:00.000086+00:00",
          "2024-10-31T05:56:30.000087+00:00",
          "2024-10-31T07:38:30.000086+00:00",
          "2024-10-31T01:11:40.000086+00:00",
          "2024-10-31T00:40:30.000086+00:00",
          "2024-10-31T02:14:10.000086+00:00",
          "2024-10-31T03:56:00.000086+00:00",
          "2024-10-31T10:51:30.000086+00:00",
          "2024-10-31T01:10:00.000086+00:00",
          "2024-10-31T02:48:30.000086+00:00",
          "2024-10-31T04:31:20.000086+00:00",
          "2024-10-31T06:04:20.000086+00:00",
          "2024-10-31T07:44:30.000086+00:00",
          "2024-10-31T05:23:00.000086+00:00",
          "2024-10-31T07:05:40.000086+00:00",
          "2024-10-31T02:05:20.000086+00:00",
          "2024-10-31T03:45:00.000086+00:00",
          "2024-10-31T03:00:10.000086+00:00",
          "2024-10-31T04:40:10.000087+00:00",
          "2024-10-31T06:23:50.000086+00:00",
          "2024-10-31T08:01:30.000087+00:00",
          "2024-10-31T09:42:30.000086+00:00",
          "2024-10-31T11:24:50.000086+00:00",
          "2024-10-31T00:59:50.000086+00:00",
          "2024-10-31T02:41:00.000086+00:00"
         ],
         "hovertemplate": "type=access<br>start=%{base}<br>end=%{x}<br>antenna=%{y}<extra></extra>",
         "legendgroup": "access",
         "marker": {
          "color": "#636efa",
          "pattern": {
           "shape": ""
          }
         },
         "name": "access",
         "offsetgroup": "access",
         "orientation": "h",
         "showlegend": true,
         "textposition": "auto",
         "type": "bar",
         "x": [
          280000,
          730000,
          820000,
          820000,
          640000,
          630000,
          770000,
          809999.999,
          530000,
          580000,
          90000,
          810000,
          680000,
          620000,
          520000,
          820000,
          470000,
          730000,
          750000,
          810000,
          560000,
          690000.001,
          770000,
          720000,
          759999.999,
          580000,
          809999.999,
          790000,
          720000,
          590000,
          260000
         ],
         "xaxis": "x",
         "y": [
          "Dundee",
          "Dundee",
          "Dundee",
          "Dundee",
          "Chitose",
          "Chitose",
          "Chitose",
          "Chitose",
          "Chitose",
          "Mojave",
          "Dubai",
          "Dubai",
          "Dubai",
          "Dubai",
          "Paumalu",
          "Paumalu",
          "Paumalu",
          "Harmon",
          "Harmon",
          "Sunyani",
          "Sunyani",
          "Mwulire",
          "Mwulire",
          "Tahiti",
          "Tahiti",
          "Awarua",
          "Awarua",
          "Awarua",
          "Awarua",
          "Utqiagvik",
          "Utqiagvik"
         ],
         "yaxis": "y"
        },
        {
         "alignmentgroup": "True",
         "base": [
          "2024-10-31T08:55:30.000086+00:00",
          "2024-10-31T10:37:10.000087+00:00",
          "2024-10-31T00:54:30.000086+00:00",
          "2024-10-31T00:57:20.000086+00:00",
          "2024-10-31T02:35:10.000086+00:00",
          "2024-10-31T04:16:20.000086+00:00",
          "2024-10-31T05:58:00.000086+00:00",
          "2024-10-31T06:00:10.000086+00:00",
          "2024-10-31T07:38:30.000086+00:00",
          "2024-10-31T01:11:40.000086+00:00",
          "2024-10-31T02:15:00.000086+00:00",
          "2024-10-31T02:19:10.000086+00:00",
          "2024-10-31T02:24:30.000086+00:00",
          "2024-10-31T10:51:30.000086+00:00",
          "2024-10-31T01:11:40.000086+00:00",
          "2024-10-31T02:49:40.000086+00:00",
          "2024-10-31T02:52:20.000086+00:00",
          "2024-10-31T04:31:20.000086+00:00",
          "2024-10-31T05:24:20.000086+00:00",
          "2024-10-31T07:05:40.000086+00:00",
          "2024-10-31T04:50:20.000086+00:00"
         ],
         "hovertemplate": "type=inFov<br>start=%{base}<br>end=%{x}<br>antenna=%{y}<extra></extra>",
         "legendgroup": "inFov",
         "marker": {
          "color": "#EF553B",
          "pattern": {
           "shape": ""
          }
         },
         "name": "inFov",
         "offsetgroup": "inFov",
         "orientation": "h",
         "showlegend": true,
         "textposition": "auto",
         "type": "bar",
         "x": [
          350000,
          180000,
          160000,
          70000,
          620000,
          740000,
          120000,
          580000,
          530000,
          520000,
          110000.001,
          150000,
          110000.001,
          610000,
          80000,
          120000,
          580000,
          180000,
          720000,
          550000,
          80000
         ],
         "xaxis": "x",
         "y": [
          "Dundee",
          "Dundee",
          "Chitose",
          "Chitose",
          "Chitose",
          "Chitose",
          "Chitose",
          "Chitose",
          "Chitose",
          "Mojave",
          "Dubai",
          "Dubai",
          "Dubai",
          "Dubai",
          "Paumalu",
          "Paumalu",
          "Paumalu",
          "Paumalu",
          "Sunyani",
          "Sunyani",
          "Tahiti"
         ],
         "yaxis": "y"
        },
        {
         "alignmentgroup": "True",
         "base": [
          "2024-10-31T08:55:30.000086+00:00",
          "2024-10-31T10:37:10.000087+00:00",
          "2024-10-31T00:57:20.000086+00:00",
          "2024-10-31T02:35:10.000086+00:00",
          "2024-10-31T04:16:20.000086+00:00",
          "2024-10-31T05:58:00.000086+00:00",
          "2024-10-31T06:00:10.000086+00:00",
          "2024-10-31T07:38:30.000086+00:00",
          "2024-10-31T01:11:40.000086+00:00",
          "2024-10-31T02:15:00.000086+00:00",
          "2024-10-31T02:19:10.000086+00:00",
          "2024-10-31T10:51:30.000086+00:00",
          "2024-10-31T02:52:20.000086+00:00",
          "2024-10-31T04:32:30.000086+00:00",
          "2024-10-31T05:24:20.000086+00:00",
          "2024-10-31T07:05:40.000086+00:00"
         ],
         "hovertemplate": "type=connected<br>start=%{base}<br>end=%{x}<br>antenna=%{y}<extra></extra>",
         "legendgroup": "connected",
         "marker": {
          "color": "#00cc96",
          "pattern": {
           "shape": ""
          }
         },
         "name": "connected",
         "offsetgroup": "connected",
         "orientation": "h",
         "showlegend": true,
         "textposition": "auto",
         "type": "bar",
         "x": [
          350000,
          180000,
          70000,
          620000,
          740000,
          120000,
          580000,
          530000,
          520000,
          110000.001,
          150000,
          610000,
          580000,
          90000,
          720000,
          550000
         ],
         "xaxis": "x",
         "y": [
          "Dundee",
          "Dundee",
          "Chitose",
          "Chitose",
          "Chitose",
          "Chitose",
          "Chitose",
          "Chitose",
          "Mojave",
          "Dubai",
          "Dubai",
          "Dubai",
          "Paumalu",
          "Paumalu",
          "Sunyani",
          "Sunyani"
         ],
         "yaxis": "y"
        }
       ],
       "layout": {
        "barmode": "overlay",
        "legend": {
         "title": {
          "text": "type"
         },
         "tracegroupgap": 0
        },
        "margin": {
         "t": 60
        },
        "template": {
         "data": {
          "bar": [
           {
            "error_x": {
             "color": "#2a3f5f"
            },
            "error_y": {
             "color": "#2a3f5f"
            },
            "marker": {
             "line": {
              "color": "#E5ECF6",
              "width": 0.5
             },
             "pattern": {
              "fillmode": "overlay",
              "size": 10,
              "solidity": 0.2
             }
            },
            "type": "bar"
           }
          ],
          "barpolar": [
           {
            "marker": {
             "line": {
              "color": "#E5ECF6",
              "width": 0.5
             },
             "pattern": {
              "fillmode": "overlay",
              "size": 10,
              "solidity": 0.2
             }
            },
            "type": "barpolar"
           }
          ],
          "carpet": [
           {
            "aaxis": {
             "endlinecolor": "#2a3f5f",
             "gridcolor": "white",
             "linecolor": "white",
             "minorgridcolor": "white",
             "startlinecolor": "#2a3f5f"
            },
            "baxis": {
             "endlinecolor": "#2a3f5f",
             "gridcolor": "white",
             "linecolor": "white",
             "minorgridcolor": "white",
             "startlinecolor": "#2a3f5f"
            },
            "type": "carpet"
           }
          ],
          "choropleth": [
           {
            "colorbar": {
             "outlinewidth": 0,
             "ticks": ""
            },
            "type": "choropleth"
           }
          ],
          "contour": [
           {
            "colorbar": {
             "outlinewidth": 0,
             "ticks": ""
            },
            "colorscale": [
             [
              0,
              "#0d0887"
             ],
             [
              0.1111111111111111,
              "#46039f"
             ],
             [
              0.2222222222222222,
              "#7201a8"
             ],
             [
              0.3333333333333333,
              "#9c179e"
             ],
             [
              0.4444444444444444,
              "#bd3786"
             ],
             [
              0.5555555555555556,
              "#d8576b"
             ],
             [
              0.6666666666666666,
              "#ed7953"
             ],
             [
              0.7777777777777778,
              "#fb9f3a"
             ],
             [
              0.8888888888888888,
              "#fdca26"
             ],
             [
              1,
              "#f0f921"
             ]
            ],
            "type": "contour"
           }
          ],
          "contourcarpet": [
           {
            "colorbar": {
             "outlinewidth": 0,
             "ticks": ""
            },
            "type": "contourcarpet"
           }
          ],
          "heatmap": [
           {
            "colorbar": {
             "outlinewidth": 0,
             "ticks": ""
            },
            "colorscale": [
             [
              0,
              "#0d0887"
             ],
             [
              0.1111111111111111,
              "#46039f"
             ],
             [
              0.2222222222222222,
              "#7201a8"
             ],
             [
              0.3333333333333333,
              "#9c179e"
             ],
             [
              0.4444444444444444,
              "#bd3786"
             ],
             [
              0.5555555555555556,
              "#d8576b"
             ],
             [
              0.6666666666666666,
              "#ed7953"
             ],
             [
              0.7777777777777778,
              "#fb9f3a"
             ],
             [
              0.8888888888888888,
              "#fdca26"
             ],
             [
              1,
              "#f0f921"
             ]
            ],
            "type": "heatmap"
           }
          ],
          "heatmapgl": [
           {
            "colorbar": {
             "outlinewidth": 0,
             "ticks": ""
            },
            "colorscale": [
             [
              0,
              "#0d0887"
             ],
             [
              0.1111111111111111,
              "#46039f"
             ],
             [
              0.2222222222222222,
              "#7201a8"
             ],
             [
              0.3333333333333333,
              "#9c179e"
             ],
             [
              0.4444444444444444,
              "#bd3786"
             ],
             [
              0.5555555555555556,
              "#d8576b"
             ],
             [
              0.6666666666666666,
              "#ed7953"
             ],
             [
              0.7777777777777778,
              "#fb9f3a"
             ],
             [
              0.8888888888888888,
              "#fdca26"
             ],
             [
              1,
              "#f0f921"
             ]
            ],
            "type": "heatmapgl"
           }
          ],
          "histogram": [
           {
            "marker": {
             "pattern": {
              "fillmode": "overlay",
              "size": 10,
              "solidity": 0.2
             }
            },
            "type": "histogram"
           }
          ],
          "histogram2d": [
           {
            "colorbar": {
             "outlinewidth": 0,
             "ticks": ""
            },
            "colorscale": [
             [
              0,
              "#0d0887"
             ],
             [
              0.1111111111111111,
              "#46039f"
             ],
             [
              0.2222222222222222,
              "#7201a8"
             ],
             [
              0.3333333333333333,
              "#9c179e"
             ],
             [
              0.4444444444444444,
              "#bd3786"
             ],
             [
              0.5555555555555556,
              "#d8576b"
             ],
             [
              0.6666666666666666,
              "#ed7953"
             ],
             [
              0.7777777777777778,
              "#fb9f3a"
             ],
             [
              0.8888888888888888,
              "#fdca26"
             ],
             [
              1,
              "#f0f921"
             ]
            ],
            "type": "histogram2d"
           }
          ],
          "histogram2dcontour": [
           {
            "colorbar": {
             "outlinewidth": 0,
             "ticks": ""
            },
            "colorscale": [
             [
              0,
              "#0d0887"
             ],
             [
              0.1111111111111111,
              "#46039f"
             ],
             [
              0.2222222222222222,
              "#7201a8"
             ],
             [
              0.3333333333333333,
              "#9c179e"
             ],
             [
              0.4444444444444444,
              "#bd3786"
             ],
             [
              0.5555555555555556,
              "#d8576b"
             ],
             [
              0.6666666666666666,
              "#ed7953"
             ],
             [
              0.7777777777777778,
              "#fb9f3a"
             ],
             [
              0.8888888888888888,
              "#fdca26"
             ],
             [
              1,
              "#f0f921"
             ]
            ],
            "type": "histogram2dcontour"
           }
          ],
          "mesh3d": [
           {
            "colorbar": {
             "outlinewidth": 0,
             "ticks": ""
            },
            "type": "mesh3d"
           }
          ],
          "parcoords": [
           {
            "line": {
             "colorbar": {
              "outlinewidth": 0,
              "ticks": ""
             }
            },
            "type": "parcoords"
           }
          ],
          "pie": [
           {
            "automargin": true,
            "type": "pie"
           }
          ],
          "scatter": [
           {
            "fillpattern": {
             "fillmode": "overlay",
             "size": 10,
             "solidity": 0.2
            },
            "type": "scatter"
           }
          ],
          "scatter3d": [
           {
            "line": {
             "colorbar": {
              "outlinewidth": 0,
              "ticks": ""
             }
            },
            "marker": {
             "colorbar": {
              "outlinewidth": 0,
              "ticks": ""
             }
            },
            "type": "scatter3d"
           }
          ],
          "scattercarpet": [
           {
            "marker": {
             "colorbar": {
              "outlinewidth": 0,
              "ticks": ""
             }
            },
            "type": "scattercarpet"
           }
          ],
          "scattergeo": [
           {
            "marker": {
             "colorbar": {
              "outlinewidth": 0,
              "ticks": ""
             }
            },
            "type": "scattergeo"
           }
          ],
          "scattergl": [
           {
            "marker": {
             "colorbar": {
              "outlinewidth": 0,
              "ticks": ""
             }
            },
            "type": "scattergl"
           }
          ],
          "scattermapbox": [
           {
            "marker": {
             "colorbar": {
              "outlinewidth": 0,
              "ticks": ""
             }
            },
            "type": "scattermapbox"
           }
          ],
          "scatterpolar": [
           {
            "marker": {
             "colorbar": {
              "outlinewidth": 0,
              "ticks": ""
             }
            },
            "type": "scatterpolar"
           }
          ],
          "scatterpolargl": [
           {
            "marker": {
             "colorbar": {
              "outlinewidth": 0,
              "ticks": ""
             }
            },
            "type": "scatterpolargl"
           }
          ],
          "scatterternary": [
           {
            "marker": {
             "colorbar": {
              "outlinewidth": 0,
              "ticks": ""
             }
            },
            "type": "scatterternary"
           }
          ],
          "surface": [
           {
            "colorbar": {
             "outlinewidth": 0,
             "ticks": ""
            },
            "colorscale": [
             [
              0,
              "#0d0887"
             ],
             [
              0.1111111111111111,
              "#46039f"
             ],
             [
              0.2222222222222222,
              "#7201a8"
             ],
             [
              0.3333333333333333,
              "#9c179e"
             ],
             [
              0.4444444444444444,
              "#bd3786"
             ],
             [
              0.5555555555555556,
              "#d8576b"
             ],
             [
              0.6666666666666666,
              "#ed7953"
             ],
             [
              0.7777777777777778,
              "#fb9f3a"
             ],
             [
              0.8888888888888888,
              "#fdca26"
             ],
             [
              1,
              "#f0f921"
             ]
            ],
            "type": "surface"
           }
          ],
          "table": [
           {
            "cells": {
             "fill": {
              "color": "#EBF0F8"
             },
             "line": {
              "color": "white"
             }
            },
            "header": {
             "fill": {
              "color": "#C8D4E3"
             },
             "line": {
              "color": "white"
             }
            },
            "type": "table"
           }
          ]
         },
         "layout": {
          "annotationdefaults": {
           "arrowcolor": "#2a3f5f",
           "arrowhead": 0,
           "arrowwidth": 1
          },
          "autotypenumbers": "strict",
          "coloraxis": {
           "colorbar": {
            "outlinewidth": 0,
            "ticks": ""
           }
          },
          "colorscale": {
           "diverging": [
            [
             0,
             "#8e0152"
            ],
            [
             0.1,
             "#c51b7d"
            ],
            [
             0.2,
             "#de77ae"
            ],
            [
             0.3,
             "#f1b6da"
            ],
            [
             0.4,
             "#fde0ef"
            ],
            [
             0.5,
             "#f7f7f7"
            ],
            [
             0.6,
             "#e6f5d0"
            ],
            [
             0.7,
             "#b8e186"
            ],
            [
             0.8,
             "#7fbc41"
            ],
            [
             0.9,
             "#4d9221"
            ],
            [
             1,
             "#276419"
            ]
           ],
           "sequential": [
            [
             0,
             "#0d0887"
            ],
            [
             0.1111111111111111,
             "#46039f"
            ],
            [
             0.2222222222222222,
             "#7201a8"
            ],
            [
             0.3333333333333333,
             "#9c179e"
            ],
            [
             0.4444444444444444,
             "#bd3786"
            ],
            [
             0.5555555555555556,
             "#d8576b"
            ],
            [
             0.6666666666666666,
             "#ed7953"
            ],
            [
             0.7777777777777778,
             "#fb9f3a"
            ],
            [
             0.8888888888888888,
             "#fdca26"
            ],
            [
             1,
             "#f0f921"
            ]
           ],
           "sequentialminus": [
            [
             0,
             "#0d0887"
            ],
            [
             0.1111111111111111,
             "#46039f"
            ],
            [
             0.2222222222222222,
             "#7201a8"
            ],
            [
             0.3333333333333333,
             "#9c179e"
            ],
            [
             0.4444444444444444,
             "#bd3786"
            ],
            [
             0.5555555555555556,
             "#d8576b"
            ],
            [
             0.6666666666666666,
             "#ed7953"
            ],
            [
             0.7777777777777778,
             "#fb9f3a"
            ],
            [
             0.8888888888888888,
             "#fdca26"
            ],
            [
             1,
             "#f0f921"
            ]
           ]
          },
          "colorway": [
           "#636efa",
           "#EF553B",
           "#00cc96",
           "#ab63fa",
           "#FFA15A",
           "#19d3f3",
           "#FF6692",
           "#B6E880",
           "#FF97FF",
           "#FECB52"
          ],
          "font": {
           "color": "#2a3f5f"
          },
          "geo": {
           "bgcolor": "white",
           "lakecolor": "white",
           "landcolor": "#E5ECF6",
           "showlakes": true,
           "showland": true,
           "subunitcolor": "white"
          },
          "hoverlabel": {
           "align": "left"
          },
          "hovermode": "closest",
          "mapbox": {
           "style": "light"
          },
          "paper_bgcolor": "white",
          "plot_bgcolor": "#E5ECF6",
          "polar": {
           "angularaxis": {
            "gridcolor": "white",
            "linecolor": "white",
            "ticks": ""
           },
           "bgcolor": "#E5ECF6",
           "radialaxis": {
            "gridcolor": "white",
            "linecolor": "white",
            "ticks": ""
           }
          },
          "scene": {
           "xaxis": {
            "backgroundcolor": "#E5ECF6",
            "gridcolor": "white",
            "gridwidth": 2,
            "linecolor": "white",
            "showbackground": true,
            "ticks": "",
            "zerolinecolor": "white"
           },
           "yaxis": {
            "backgroundcolor": "#E5ECF6",
            "gridcolor": "white",
            "gridwidth": 2,
            "linecolor": "white",
            "showbackground": true,
            "ticks": "",
            "zerolinecolor": "white"
           },
           "zaxis": {
            "backgroundcolor": "#E5ECF6",
            "gridcolor": "white",
            "gridwidth": 2,
            "linecolor": "white",
            "showbackground": true,
            "ticks": "",
            "zerolinecolor": "white"
           }
          },
          "shapedefaults": {
           "line": {
            "color": "#2a3f5f"
           }
          },
          "ternary": {
           "aaxis": {
            "gridcolor": "white",
            "linecolor": "white",
            "ticks": ""
           },
           "baxis": {
            "gridcolor": "white",
            "linecolor": "white",
            "ticks": ""
           },
           "bgcolor": "#E5ECF6",
           "caxis": {
            "gridcolor": "white",
            "linecolor": "white",
            "ticks": ""
           }
          },
          "title": {
           "x": 0.05
          },
          "xaxis": {
           "automargin": true,
           "gridcolor": "white",
           "linecolor": "white",
           "ticks": "",
           "title": {
            "standoff": 15
           },
           "zerolinecolor": "white",
           "zerolinewidth": 2
          },
          "yaxis": {
           "automargin": true,
           "gridcolor": "white",
           "linecolor": "white",
           "ticks": "",
           "title": {
            "standoff": 15
           },
           "zerolinecolor": "white",
           "zerolinewidth": 2
          }
         }
        },
        "title": {
         "text": "Spacecraft 2-5 Access, In Fov, and Connected"
        },
        "xaxis": {
         "anchor": "y",
         "domain": [
          0,
          1
         ],
         "type": "date"
        },
        "yaxis": {
         "anchor": "x",
         "categoryorder": "total ascending",
         "domain": [
          0,
          1
         ],
         "title": {
          "text": "antenna"
         }
        }
       }
      }
     },
     "metadata": {},
     "output_type": "display_data"
    },
    {
     "data": {
      "application/vnd.plotly.v1+json": {
       "config": {
        "plotlyServerURL": "https://plot.ly"
       },
       "data": [
        {
         "alignmentgroup": "True",
         "base": [
          "2024-10-31T05:30:00.000086+00:00",
          "2024-10-31T07:03:40.000086+00:00",
          "2024-10-31T08:42:40.000086+00:00",
          "2024-10-31T10:23:20.000086+00:00",
          "2024-10-31T00:39:30.000086+00:00",
          "2024-10-31T02:22:30.000086+00:00",
          "2024-10-31T04:03:50.000086+00:00",
          "2024-10-31T05:44:20.000086+00:00",
          "2024-10-31T07:26:00.000086+00:00",
          "2024-10-31T00:58:40.000087+00:00",
          "2024-10-31T02:02:00.000086+00:00",
          "2024-10-31T03:43:10.000086+00:00",
          "2024-10-31T10:40:10.000087+00:00",
          "2024-10-31T00:58:10.000086+00:00",
          "2024-10-31T02:36:10.000086+00:00",
          "2024-10-31T04:18:20.000086+00:00",
          "2024-10-31T05:52:40.000086+00:00",
          "2024-10-31T07:32:30.000086+00:00",
          "2024-10-31T05:11:10.000086+00:00",
          "2024-10-31T06:53:00.000086+00:00",
          "2024-10-31T01:53:30.000086+00:00",
          "2024-10-31T03:32:30.000086+00:00",
          "2024-10-31T02:48:20.000086+00:00",
          "2024-10-31T04:27:40.000086+00:00",
          "2024-10-31T06:12:40.000086+00:00",
          "2024-10-31T07:49:50.000086+00:00",
          "2024-10-31T09:30:40.000086+00:00",
          "2024-10-31T11:13:10.000086+00:00",
          "2024-10-31T00:47:10.000086+00:00",
          "2024-10-31T02:28:10.000086+00:00"
         ],
         "hovertemplate": "type=access<br>start=%{base}<br>end=%{x}<br>antenna=%{y}<extra></extra>",
         "legendgroup": "access",
         "marker": {
          "color": "#636efa",
          "pattern": {
           "shape": ""
          }
         },
         "name": "access",
         "offsetgroup": "access",
         "orientation": "h",
         "showlegend": true,
         "textposition": "auto",
         "type": "bar",
         "x": [
          80000,
          720000,
          830000.001,
          840000,
          670000,
          640000,
          760000.001,
          830000,
          620000,
          659999.999,
          790000,
          730000,
          569999.999,
          430000,
          820000,
          590000,
          690000,
          790000,
          790000,
          640000,
          620000.001,
          800000,
          680000,
          790000,
          510000,
          800000,
          800000,
          720000.001,
          630000,
          360000
         ],
         "xaxis": "x",
         "y": [
          "Dundee",
          "Dundee",
          "Dundee",
          "Dundee",
          "Chitose",
          "Chitose",
          "Chitose",
          "Chitose",
          "Chitose",
          "Mojave",
          "Dubai",
          "Dubai",
          "Dubai",
          "Paumalu",
          "Paumalu",
          "Paumalu",
          "Harmon",
          "Harmon",
          "Sunyani",
          "Sunyani",
          "Mwulire",
          "Mwulire",
          "Tahiti",
          "Tahiti",
          "Awarua",
          "Awarua",
          "Awarua",
          "Awarua",
          "Utqiagvik",
          "Utqiagvik"
         ],
         "yaxis": "y"
        },
        {
         "alignmentgroup": "True",
         "base": [
          "2024-10-31T08:43:00.000086+00:00",
          "2024-10-31T10:23:40.000086+00:00",
          "2024-10-31T10:35:10.000086+00:00",
          "2024-10-31T00:42:10.000086+00:00",
          "2024-10-31T00:45:00.000086+00:00",
          "2024-10-31T02:22:30.000086+00:00",
          "2024-10-31T04:03:50.000086+00:00",
          "2024-10-31T05:44:50.000086+00:00",
          "2024-10-31T07:26:00.000086+00:00",
          "2024-10-31T00:58:40.000087+00:00",
          "2024-10-31T02:02:00.000086+00:00",
          "2024-10-31T02:12:20.000086+00:00",
          "2024-10-31T10:40:10.000087+00:00",
          "2024-10-31T00:59:10.000086+00:00",
          "2024-10-31T02:37:20.000086+00:00",
          "2024-10-31T02:40:20.000086+00:00",
          "2024-10-31T04:18:40.000086+00:00",
          "2024-10-31T07:36:30.000086+00:00",
          "2024-10-31T05:11:10.000086+00:00",
          "2024-10-31T06:53:00.000086+00:00",
          "2024-10-31T06:12:40.000086+00:00",
          "2024-10-31T07:49:50.000086+00:00",
          "2024-10-31T09:30:40.000086+00:00",
          "2024-10-31T11:13:10.000086+00:00"
         ],
         "hovertemplate": "type=inFov<br>start=%{base}<br>end=%{x}<br>antenna=%{y}<extra></extra>",
         "legendgroup": "inFov",
         "marker": {
          "color": "#EF553B",
          "pattern": {
           "shape": ""
          }
         },
         "name": "inFov",
         "offsetgroup": "inFov",
         "orientation": "h",
         "showlegend": true,
         "textposition": "auto",
         "type": "bar",
         "x": [
          270000,
          210000,
          120000.001,
          150000,
          30000,
          630000,
          750000,
          790000,
          610000,
          649999.999,
          510000,
          160000,
          569999.999,
          130000,
          130000,
          370000.001,
          220000,
          10000,
          790000,
          630000,
          500000,
          800000,
          800000,
          280000
         ],
         "xaxis": "x",
         "y": [
          "Dundee",
          "Dundee",
          "Dundee",
          "Chitose",
          "Chitose",
          "Chitose",
          "Chitose",
          "Chitose",
          "Chitose",
          "Mojave",
          "Dubai",
          "Dubai",
          "Dubai",
          "Paumalu",
          "Paumalu",
          "Paumalu",
          "Paumalu",
          "Harmon",
          "Sunyani",
          "Sunyani",
          "Awarua",
          "Awarua",
          "Awarua",
          "Awarua"
         ],
         "yaxis": "y"
        },
        {
         "alignmentgroup": "True",
         "base": [
          "2024-10-31T08:43:00.000086+00:00",
          "2024-10-31T10:23:40.000086+00:00",
          "2024-10-31T10:35:10.000086+00:00",
          "2024-10-31T00:45:00.000086+00:00",
          "2024-10-31T02:22:30.000086+00:00",
          "2024-10-31T04:03:50.000086+00:00",
          "2024-10-31T05:44:50.000086+00:00",
          "2024-10-31T07:26:00.000086+00:00",
          "2024-10-31T00:58:40.000087+00:00",
          "2024-10-31T02:02:00.000086+00:00",
          "2024-10-31T02:12:40.000086+00:00",
          "2024-10-31T10:40:10.000087+00:00",
          "2024-10-31T02:40:20.000086+00:00",
          "2024-10-31T04:18:40.000086+00:00",
          "2024-10-31T07:36:30.000086+00:00",
          "2024-10-31T05:11:10.000086+00:00",
          "2024-10-31T06:53:00.000086+00:00",
          "2024-10-31T06:12:40.000086+00:00",
          "2024-10-31T07:49:50.000086+00:00",
          "2024-10-31T09:30:40.000086+00:00",
          "2024-10-31T11:13:10.000086+00:00"
         ],
         "hovertemplate": "type=connected<br>start=%{base}<br>end=%{x}<br>antenna=%{y}<extra></extra>",
         "legendgroup": "connected",
         "marker": {
          "color": "#00cc96",
          "pattern": {
           "shape": ""
          }
         },
         "name": "connected",
         "offsetgroup": "connected",
         "orientation": "h",
         "showlegend": true,
         "textposition": "auto",
         "type": "bar",
         "x": [
          270000,
          210000,
          120000.001,
          30000,
          630000,
          750000,
          790000,
          610000,
          649999.999,
          510000,
          140000,
          569999.999,
          370000.001,
          220000,
          10000,
          790000,
          630000,
          500000,
          800000,
          800000,
          280000
         ],
         "xaxis": "x",
         "y": [
          "Dundee",
          "Dundee",
          "Dundee",
          "Chitose",
          "Chitose",
          "Chitose",
          "Chitose",
          "Chitose",
          "Mojave",
          "Dubai",
          "Dubai",
          "Dubai",
          "Paumalu",
          "Paumalu",
          "Harmon",
          "Sunyani",
          "Sunyani",
          "Awarua",
          "Awarua",
          "Awarua",
          "Awarua"
         ],
         "yaxis": "y"
        }
       ],
       "layout": {
        "barmode": "overlay",
        "legend": {
         "title": {
          "text": "type"
         },
         "tracegroupgap": 0
        },
        "margin": {
         "t": 60
        },
        "template": {
         "data": {
          "bar": [
           {
            "error_x": {
             "color": "#2a3f5f"
            },
            "error_y": {
             "color": "#2a3f5f"
            },
            "marker": {
             "line": {
              "color": "#E5ECF6",
              "width": 0.5
             },
             "pattern": {
              "fillmode": "overlay",
              "size": 10,
              "solidity": 0.2
             }
            },
            "type": "bar"
           }
          ],
          "barpolar": [
           {
            "marker": {
             "line": {
              "color": "#E5ECF6",
              "width": 0.5
             },
             "pattern": {
              "fillmode": "overlay",
              "size": 10,
              "solidity": 0.2
             }
            },
            "type": "barpolar"
           }
          ],
          "carpet": [
           {
            "aaxis": {
             "endlinecolor": "#2a3f5f",
             "gridcolor": "white",
             "linecolor": "white",
             "minorgridcolor": "white",
             "startlinecolor": "#2a3f5f"
            },
            "baxis": {
             "endlinecolor": "#2a3f5f",
             "gridcolor": "white",
             "linecolor": "white",
             "minorgridcolor": "white",
             "startlinecolor": "#2a3f5f"
            },
            "type": "carpet"
           }
          ],
          "choropleth": [
           {
            "colorbar": {
             "outlinewidth": 0,
             "ticks": ""
            },
            "type": "choropleth"
           }
          ],
          "contour": [
           {
            "colorbar": {
             "outlinewidth": 0,
             "ticks": ""
            },
            "colorscale": [
             [
              0,
              "#0d0887"
             ],
             [
              0.1111111111111111,
              "#46039f"
             ],
             [
              0.2222222222222222,
              "#7201a8"
             ],
             [
              0.3333333333333333,
              "#9c179e"
             ],
             [
              0.4444444444444444,
              "#bd3786"
             ],
             [
              0.5555555555555556,
              "#d8576b"
             ],
             [
              0.6666666666666666,
              "#ed7953"
             ],
             [
              0.7777777777777778,
              "#fb9f3a"
             ],
             [
              0.8888888888888888,
              "#fdca26"
             ],
             [
              1,
              "#f0f921"
             ]
            ],
            "type": "contour"
           }
          ],
          "contourcarpet": [
           {
            "colorbar": {
             "outlinewidth": 0,
             "ticks": ""
            },
            "type": "contourcarpet"
           }
          ],
          "heatmap": [
           {
            "colorbar": {
             "outlinewidth": 0,
             "ticks": ""
            },
            "colorscale": [
             [
              0,
              "#0d0887"
             ],
             [
              0.1111111111111111,
              "#46039f"
             ],
             [
              0.2222222222222222,
              "#7201a8"
             ],
             [
              0.3333333333333333,
              "#9c179e"
             ],
             [
              0.4444444444444444,
              "#bd3786"
             ],
             [
              0.5555555555555556,
              "#d8576b"
             ],
             [
              0.6666666666666666,
              "#ed7953"
             ],
             [
              0.7777777777777778,
              "#fb9f3a"
             ],
             [
              0.8888888888888888,
              "#fdca26"
             ],
             [
              1,
              "#f0f921"
             ]
            ],
            "type": "heatmap"
           }
          ],
          "heatmapgl": [
           {
            "colorbar": {
             "outlinewidth": 0,
             "ticks": ""
            },
            "colorscale": [
             [
              0,
              "#0d0887"
             ],
             [
              0.1111111111111111,
              "#46039f"
             ],
             [
              0.2222222222222222,
              "#7201a8"
             ],
             [
              0.3333333333333333,
              "#9c179e"
             ],
             [
              0.4444444444444444,
              "#bd3786"
             ],
             [
              0.5555555555555556,
              "#d8576b"
             ],
             [
              0.6666666666666666,
              "#ed7953"
             ],
             [
              0.7777777777777778,
              "#fb9f3a"
             ],
             [
              0.8888888888888888,
              "#fdca26"
             ],
             [
              1,
              "#f0f921"
             ]
            ],
            "type": "heatmapgl"
           }
          ],
          "histogram": [
           {
            "marker": {
             "pattern": {
              "fillmode": "overlay",
              "size": 10,
              "solidity": 0.2
             }
            },
            "type": "histogram"
           }
          ],
          "histogram2d": [
           {
            "colorbar": {
             "outlinewidth": 0,
             "ticks": ""
            },
            "colorscale": [
             [
              0,
              "#0d0887"
             ],
             [
              0.1111111111111111,
              "#46039f"
             ],
             [
              0.2222222222222222,
              "#7201a8"
             ],
             [
              0.3333333333333333,
              "#9c179e"
             ],
             [
              0.4444444444444444,
              "#bd3786"
             ],
             [
              0.5555555555555556,
              "#d8576b"
             ],
             [
              0.6666666666666666,
              "#ed7953"
             ],
             [
              0.7777777777777778,
              "#fb9f3a"
             ],
             [
              0.8888888888888888,
              "#fdca26"
             ],
             [
              1,
              "#f0f921"
             ]
            ],
            "type": "histogram2d"
           }
          ],
          "histogram2dcontour": [
           {
            "colorbar": {
             "outlinewidth": 0,
             "ticks": ""
            },
            "colorscale": [
             [
              0,
              "#0d0887"
             ],
             [
              0.1111111111111111,
              "#46039f"
             ],
             [
              0.2222222222222222,
              "#7201a8"
             ],
             [
              0.3333333333333333,
              "#9c179e"
             ],
             [
              0.4444444444444444,
              "#bd3786"
             ],
             [
              0.5555555555555556,
              "#d8576b"
             ],
             [
              0.6666666666666666,
              "#ed7953"
             ],
             [
              0.7777777777777778,
              "#fb9f3a"
             ],
             [
              0.8888888888888888,
              "#fdca26"
             ],
             [
              1,
              "#f0f921"
             ]
            ],
            "type": "histogram2dcontour"
           }
          ],
          "mesh3d": [
           {
            "colorbar": {
             "outlinewidth": 0,
             "ticks": ""
            },
            "type": "mesh3d"
           }
          ],
          "parcoords": [
           {
            "line": {
             "colorbar": {
              "outlinewidth": 0,
              "ticks": ""
             }
            },
            "type": "parcoords"
           }
          ],
          "pie": [
           {
            "automargin": true,
            "type": "pie"
           }
          ],
          "scatter": [
           {
            "fillpattern": {
             "fillmode": "overlay",
             "size": 10,
             "solidity": 0.2
            },
            "type": "scatter"
           }
          ],
          "scatter3d": [
           {
            "line": {
             "colorbar": {
              "outlinewidth": 0,
              "ticks": ""
             }
            },
            "marker": {
             "colorbar": {
              "outlinewidth": 0,
              "ticks": ""
             }
            },
            "type": "scatter3d"
           }
          ],
          "scattercarpet": [
           {
            "marker": {
             "colorbar": {
              "outlinewidth": 0,
              "ticks": ""
             }
            },
            "type": "scattercarpet"
           }
          ],
          "scattergeo": [
           {
            "marker": {
             "colorbar": {
              "outlinewidth": 0,
              "ticks": ""
             }
            },
            "type": "scattergeo"
           }
          ],
          "scattergl": [
           {
            "marker": {
             "colorbar": {
              "outlinewidth": 0,
              "ticks": ""
             }
            },
            "type": "scattergl"
           }
          ],
          "scattermapbox": [
           {
            "marker": {
             "colorbar": {
              "outlinewidth": 0,
              "ticks": ""
             }
            },
            "type": "scattermapbox"
           }
          ],
          "scatterpolar": [
           {
            "marker": {
             "colorbar": {
              "outlinewidth": 0,
              "ticks": ""
             }
            },
            "type": "scatterpolar"
           }
          ],
          "scatterpolargl": [
           {
            "marker": {
             "colorbar": {
              "outlinewidth": 0,
              "ticks": ""
             }
            },
            "type": "scatterpolargl"
           }
          ],
          "scatterternary": [
           {
            "marker": {
             "colorbar": {
              "outlinewidth": 0,
              "ticks": ""
             }
            },
            "type": "scatterternary"
           }
          ],
          "surface": [
           {
            "colorbar": {
             "outlinewidth": 0,
             "ticks": ""
            },
            "colorscale": [
             [
              0,
              "#0d0887"
             ],
             [
              0.1111111111111111,
              "#46039f"
             ],
             [
              0.2222222222222222,
              "#7201a8"
             ],
             [
              0.3333333333333333,
              "#9c179e"
             ],
             [
              0.4444444444444444,
              "#bd3786"
             ],
             [
              0.5555555555555556,
              "#d8576b"
             ],
             [
              0.6666666666666666,
              "#ed7953"
             ],
             [
              0.7777777777777778,
              "#fb9f3a"
             ],
             [
              0.8888888888888888,
              "#fdca26"
             ],
             [
              1,
              "#f0f921"
             ]
            ],
            "type": "surface"
           }
          ],
          "table": [
           {
            "cells": {
             "fill": {
              "color": "#EBF0F8"
             },
             "line": {
              "color": "white"
             }
            },
            "header": {
             "fill": {
              "color": "#C8D4E3"
             },
             "line": {
              "color": "white"
             }
            },
            "type": "table"
           }
          ]
         },
         "layout": {
          "annotationdefaults": {
           "arrowcolor": "#2a3f5f",
           "arrowhead": 0,
           "arrowwidth": 1
          },
          "autotypenumbers": "strict",
          "coloraxis": {
           "colorbar": {
            "outlinewidth": 0,
            "ticks": ""
           }
          },
          "colorscale": {
           "diverging": [
            [
             0,
             "#8e0152"
            ],
            [
             0.1,
             "#c51b7d"
            ],
            [
             0.2,
             "#de77ae"
            ],
            [
             0.3,
             "#f1b6da"
            ],
            [
             0.4,
             "#fde0ef"
            ],
            [
             0.5,
             "#f7f7f7"
            ],
            [
             0.6,
             "#e6f5d0"
            ],
            [
             0.7,
             "#b8e186"
            ],
            [
             0.8,
             "#7fbc41"
            ],
            [
             0.9,
             "#4d9221"
            ],
            [
             1,
             "#276419"
            ]
           ],
           "sequential": [
            [
             0,
             "#0d0887"
            ],
            [
             0.1111111111111111,
             "#46039f"
            ],
            [
             0.2222222222222222,
             "#7201a8"
            ],
            [
             0.3333333333333333,
             "#9c179e"
            ],
            [
             0.4444444444444444,
             "#bd3786"
            ],
            [
             0.5555555555555556,
             "#d8576b"
            ],
            [
             0.6666666666666666,
             "#ed7953"
            ],
            [
             0.7777777777777778,
             "#fb9f3a"
            ],
            [
             0.8888888888888888,
             "#fdca26"
            ],
            [
             1,
             "#f0f921"
            ]
           ],
           "sequentialminus": [
            [
             0,
             "#0d0887"
            ],
            [
             0.1111111111111111,
             "#46039f"
            ],
            [
             0.2222222222222222,
             "#7201a8"
            ],
            [
             0.3333333333333333,
             "#9c179e"
            ],
            [
             0.4444444444444444,
             "#bd3786"
            ],
            [
             0.5555555555555556,
             "#d8576b"
            ],
            [
             0.6666666666666666,
             "#ed7953"
            ],
            [
             0.7777777777777778,
             "#fb9f3a"
            ],
            [
             0.8888888888888888,
             "#fdca26"
            ],
            [
             1,
             "#f0f921"
            ]
           ]
          },
          "colorway": [
           "#636efa",
           "#EF553B",
           "#00cc96",
           "#ab63fa",
           "#FFA15A",
           "#19d3f3",
           "#FF6692",
           "#B6E880",
           "#FF97FF",
           "#FECB52"
          ],
          "font": {
           "color": "#2a3f5f"
          },
          "geo": {
           "bgcolor": "white",
           "lakecolor": "white",
           "landcolor": "#E5ECF6",
           "showlakes": true,
           "showland": true,
           "subunitcolor": "white"
          },
          "hoverlabel": {
           "align": "left"
          },
          "hovermode": "closest",
          "mapbox": {
           "style": "light"
          },
          "paper_bgcolor": "white",
          "plot_bgcolor": "#E5ECF6",
          "polar": {
           "angularaxis": {
            "gridcolor": "white",
            "linecolor": "white",
            "ticks": ""
           },
           "bgcolor": "#E5ECF6",
           "radialaxis": {
            "gridcolor": "white",
            "linecolor": "white",
            "ticks": ""
           }
          },
          "scene": {
           "xaxis": {
            "backgroundcolor": "#E5ECF6",
            "gridcolor": "white",
            "gridwidth": 2,
            "linecolor": "white",
            "showbackground": true,
            "ticks": "",
            "zerolinecolor": "white"
           },
           "yaxis": {
            "backgroundcolor": "#E5ECF6",
            "gridcolor": "white",
            "gridwidth": 2,
            "linecolor": "white",
            "showbackground": true,
            "ticks": "",
            "zerolinecolor": "white"
           },
           "zaxis": {
            "backgroundcolor": "#E5ECF6",
            "gridcolor": "white",
            "gridwidth": 2,
            "linecolor": "white",
            "showbackground": true,
            "ticks": "",
            "zerolinecolor": "white"
           }
          },
          "shapedefaults": {
           "line": {
            "color": "#2a3f5f"
           }
          },
          "ternary": {
           "aaxis": {
            "gridcolor": "white",
            "linecolor": "white",
            "ticks": ""
           },
           "baxis": {
            "gridcolor": "white",
            "linecolor": "white",
            "ticks": ""
           },
           "bgcolor": "#E5ECF6",
           "caxis": {
            "gridcolor": "white",
            "linecolor": "white",
            "ticks": ""
           }
          },
          "title": {
           "x": 0.05
          },
          "xaxis": {
           "automargin": true,
           "gridcolor": "white",
           "linecolor": "white",
           "ticks": "",
           "title": {
            "standoff": 15
           },
           "zerolinecolor": "white",
           "zerolinewidth": 2
          },
          "yaxis": {
           "automargin": true,
           "gridcolor": "white",
           "linecolor": "white",
           "ticks": "",
           "title": {
            "standoff": 15
           },
           "zerolinecolor": "white",
           "zerolinewidth": 2
          }
         }
        },
        "title": {
         "text": "Spacecraft 2-6 Access, In Fov, and Connected"
        },
        "xaxis": {
         "anchor": "y",
         "domain": [
          0,
          1
         ],
         "type": "date"
        },
        "yaxis": {
         "anchor": "x",
         "categoryorder": "total ascending",
         "domain": [
          0,
          1
         ],
         "title": {
          "text": "antenna"
         }
        }
       }
      }
     },
     "metadata": {},
     "output_type": "display_data"
    },
    {
     "data": {
      "application/vnd.plotly.v1+json": {
       "config": {
        "plotlyServerURL": "https://plot.ly"
       },
       "data": [
        {
         "alignmentgroup": "True",
         "base": [
          "2024-10-31T06:51:00.000087+00:00",
          "2024-10-31T08:29:30.000086+00:00",
          "2024-10-31T10:09:50.000086+00:00",
          "2024-10-31T11:50:50.000086+00:00",
          "2024-10-31T00:26:40.000086+00:00",
          "2024-10-31T02:09:40.000086+00:00",
          "2024-10-31T03:50:50.000086+00:00",
          "2024-10-31T05:31:20.000086+00:00",
          "2024-10-31T07:12:30.000086+00:00",
          "2024-10-31T00:45:40.000087+00:00",
          "2024-10-31T01:49:30.000086+00:00",
          "2024-10-31T03:30:00.000086+00:00",
          "2024-10-31T10:27:10.000086+00:00",
          "2024-10-31T00:46:40.000086+00:00",
          "2024-10-31T02:23:30.000086+00:00",
          "2024-10-31T04:04:50.000086+00:00",
          "2024-10-31T05:40:00.000086+00:00",
          "2024-10-31T07:19:00.000086+00:00",
          "2024-10-31T04:58:20.000086+00:00",
          "2024-10-31T06:39:20.000086+00:00",
          "2024-10-31T01:41:40.000086+00:00",
          "2024-10-31T03:19:30.000086+00:00",
          "2024-10-31T02:36:10.000086+00:00",
          "2024-10-31T04:14:30.000086+00:00",
          "2024-10-31T06:00:20.000086+00:00",
          "2024-10-31T06:00:30.000086+00:00",
          "2024-10-31T07:36:40.000086+00:00",
          "2024-10-31T09:17:00.000086+00:00",
          "2024-10-31T10:59:10.000086+00:00",
          "2024-10-31T00:34:40.000086+00:00",
          "2024-10-31T02:15:20.000086+00:00"
         ],
         "hovertemplate": "type=access<br>start=%{base}<br>end=%{x}<br>antenna=%{y}<extra></extra>",
         "legendgroup": "access",
         "marker": {
          "color": "#636efa",
          "pattern": {
           "shape": ""
          }
         },
         "name": "access",
         "offsetgroup": "access",
         "orientation": "h",
         "showlegend": true,
         "textposition": "auto",
         "type": "bar",
         "x": [
          669999.999,
          810000,
          830000,
          540000,
          670000,
          610000.001,
          740000,
          820000,
          660000,
          710000,
          760000,
          750000,
          470000,
          260000.001,
          800000,
          660000.001,
          620000,
          810000,
          770000,
          690000,
          510000,
          810000,
          600000,
          810000,
          260000,
          410000,
          790000,
          810000,
          730000,
          640000,
          390000
         ],
         "xaxis": "x",
         "y": [
          "Dundee",
          "Dundee",
          "Dundee",
          "Dundee",
          "Chitose",
          "Chitose",
          "Chitose",
          "Chitose",
          "Chitose",
          "Mojave",
          "Dubai",
          "Dubai",
          "Dubai",
          "Paumalu",
          "Paumalu",
          "Paumalu",
          "Harmon",
          "Harmon",
          "Sunyani",
          "Sunyani",
          "Mwulire",
          "Mwulire",
          "Tahiti",
          "Tahiti",
          "Tahiti",
          "Awarua",
          "Awarua",
          "Awarua",
          "Awarua",
          "Utqiagvik",
          "Utqiagvik"
         ],
         "yaxis": "y"
        },
        {
         "alignmentgroup": "True",
         "base": [
          "2024-10-31T08:31:50.000086+00:00",
          "2024-10-31T10:10:00.000086+00:00",
          "2024-10-31T10:20:00.000087+00:00",
          "2024-10-31T11:50:50.000086+00:00",
          "2024-10-31T00:26:40.000086+00:00",
          "2024-10-31T02:09:40.000086+00:00",
          "2024-10-31T03:50:50.000086+00:00",
          "2024-10-31T05:31:40.000087+00:00",
          "2024-10-31T07:12:30.000086+00:00",
          "2024-10-31T00:45:40.000087+00:00",
          "2024-10-31T01:49:30.000086+00:00",
          "2024-10-31T10:27:10.000086+00:00",
          "2024-10-31T00:47:00.000086+00:00",
          "2024-10-31T02:28:40.000087+00:00",
          "2024-10-31T04:04:50.000086+00:00",
          "2024-10-31T05:40:00.000086+00:00",
          "2024-10-31T07:19:10.000086+00:00",
          "2024-10-31T04:58:20.000086+00:00",
          "2024-10-31T06:39:20.000086+00:00",
          "2024-10-31T04:25:00.000086+00:00",
          "2024-10-31T06:00:30.000086+00:00",
          "2024-10-31T07:36:40.000086+00:00",
          "2024-10-31T09:17:00.000086+00:00",
          "2024-10-31T10:59:10.000086+00:00"
         ],
         "hovertemplate": "type=inFov<br>start=%{base}<br>end=%{x}<br>antenna=%{y}<extra></extra>",
         "legendgroup": "inFov",
         "marker": {
          "color": "#EF553B",
          "pattern": {
           "shape": ""
          }
         },
         "name": "inFov",
         "offsetgroup": "inFov",
         "orientation": "h",
         "showlegend": true,
         "textposition": "auto",
         "type": "bar",
         "x": [
          120000,
          280000.001,
          219999.999,
          70000,
          370000,
          600000,
          730000,
          789999.999,
          650000,
          699999.999,
          750000,
          470000,
          130000,
          229999.999,
          330000,
          80000,
          270000,
          760000,
          680000,
          160000,
          400000.001,
          780000,
          800000,
          720000
         ],
         "xaxis": "x",
         "y": [
          "Dundee",
          "Dundee",
          "Dundee",
          "Dundee",
          "Chitose",
          "Chitose",
          "Chitose",
          "Chitose",
          "Chitose",
          "Mojave",
          "Dubai",
          "Dubai",
          "Paumalu",
          "Paumalu",
          "Paumalu",
          "Harmon",
          "Harmon",
          "Sunyani",
          "Sunyani",
          "Tahiti",
          "Awarua",
          "Awarua",
          "Awarua",
          "Awarua"
         ],
         "yaxis": "y"
        },
        {
         "alignmentgroup": "True",
         "base": [
          "2024-10-31T08:31:50.000086+00:00",
          "2024-10-31T10:10:00.000086+00:00",
          "2024-10-31T10:20:00.000087+00:00",
          "2024-10-31T11:50:50.000086+00:00",
          "2024-10-31T00:26:40.000086+00:00",
          "2024-10-31T02:09:40.000086+00:00",
          "2024-10-31T03:50:50.000086+00:00",
          "2024-10-31T05:31:40.000087+00:00",
          "2024-10-31T07:12:30.000086+00:00",
          "2024-10-31T00:45:40.000087+00:00",
          "2024-10-31T01:49:30.000086+00:00",
          "2024-10-31T10:27:10.000086+00:00",
          "2024-10-31T02:28:40.000087+00:00",
          "2024-10-31T04:04:50.000086+00:00",
          "2024-10-31T07:19:10.000086+00:00",
          "2024-10-31T04:58:20.000086+00:00",
          "2024-10-31T06:39:20.000086+00:00",
          "2024-10-31T06:00:30.000086+00:00",
          "2024-10-31T07:36:40.000086+00:00",
          "2024-10-31T09:17:00.000086+00:00",
          "2024-10-31T10:59:10.000086+00:00"
         ],
         "hovertemplate": "type=connected<br>start=%{base}<br>end=%{x}<br>antenna=%{y}<extra></extra>",
         "legendgroup": "connected",
         "marker": {
          "color": "#00cc96",
          "pattern": {
           "shape": ""
          }
         },
         "name": "connected",
         "offsetgroup": "connected",
         "orientation": "h",
         "showlegend": true,
         "textposition": "auto",
         "type": "bar",
         "x": [
          120000,
          280000.001,
          219999.999,
          70000,
          370000,
          600000,
          730000,
          789999.999,
          650000,
          699999.999,
          750000,
          470000,
          229999.999,
          330000,
          270000,
          760000,
          680000,
          400000.001,
          780000,
          800000,
          720000
         ],
         "xaxis": "x",
         "y": [
          "Dundee",
          "Dundee",
          "Dundee",
          "Dundee",
          "Chitose",
          "Chitose",
          "Chitose",
          "Chitose",
          "Chitose",
          "Mojave",
          "Dubai",
          "Dubai",
          "Paumalu",
          "Paumalu",
          "Harmon",
          "Sunyani",
          "Sunyani",
          "Awarua",
          "Awarua",
          "Awarua",
          "Awarua"
         ],
         "yaxis": "y"
        }
       ],
       "layout": {
        "barmode": "overlay",
        "legend": {
         "title": {
          "text": "type"
         },
         "tracegroupgap": 0
        },
        "margin": {
         "t": 60
        },
        "template": {
         "data": {
          "bar": [
           {
            "error_x": {
             "color": "#2a3f5f"
            },
            "error_y": {
             "color": "#2a3f5f"
            },
            "marker": {
             "line": {
              "color": "#E5ECF6",
              "width": 0.5
             },
             "pattern": {
              "fillmode": "overlay",
              "size": 10,
              "solidity": 0.2
             }
            },
            "type": "bar"
           }
          ],
          "barpolar": [
           {
            "marker": {
             "line": {
              "color": "#E5ECF6",
              "width": 0.5
             },
             "pattern": {
              "fillmode": "overlay",
              "size": 10,
              "solidity": 0.2
             }
            },
            "type": "barpolar"
           }
          ],
          "carpet": [
           {
            "aaxis": {
             "endlinecolor": "#2a3f5f",
             "gridcolor": "white",
             "linecolor": "white",
             "minorgridcolor": "white",
             "startlinecolor": "#2a3f5f"
            },
            "baxis": {
             "endlinecolor": "#2a3f5f",
             "gridcolor": "white",
             "linecolor": "white",
             "minorgridcolor": "white",
             "startlinecolor": "#2a3f5f"
            },
            "type": "carpet"
           }
          ],
          "choropleth": [
           {
            "colorbar": {
             "outlinewidth": 0,
             "ticks": ""
            },
            "type": "choropleth"
           }
          ],
          "contour": [
           {
            "colorbar": {
             "outlinewidth": 0,
             "ticks": ""
            },
            "colorscale": [
             [
              0,
              "#0d0887"
             ],
             [
              0.1111111111111111,
              "#46039f"
             ],
             [
              0.2222222222222222,
              "#7201a8"
             ],
             [
              0.3333333333333333,
              "#9c179e"
             ],
             [
              0.4444444444444444,
              "#bd3786"
             ],
             [
              0.5555555555555556,
              "#d8576b"
             ],
             [
              0.6666666666666666,
              "#ed7953"
             ],
             [
              0.7777777777777778,
              "#fb9f3a"
             ],
             [
              0.8888888888888888,
              "#fdca26"
             ],
             [
              1,
              "#f0f921"
             ]
            ],
            "type": "contour"
           }
          ],
          "contourcarpet": [
           {
            "colorbar": {
             "outlinewidth": 0,
             "ticks": ""
            },
            "type": "contourcarpet"
           }
          ],
          "heatmap": [
           {
            "colorbar": {
             "outlinewidth": 0,
             "ticks": ""
            },
            "colorscale": [
             [
              0,
              "#0d0887"
             ],
             [
              0.1111111111111111,
              "#46039f"
             ],
             [
              0.2222222222222222,
              "#7201a8"
             ],
             [
              0.3333333333333333,
              "#9c179e"
             ],
             [
              0.4444444444444444,
              "#bd3786"
             ],
             [
              0.5555555555555556,
              "#d8576b"
             ],
             [
              0.6666666666666666,
              "#ed7953"
             ],
             [
              0.7777777777777778,
              "#fb9f3a"
             ],
             [
              0.8888888888888888,
              "#fdca26"
             ],
             [
              1,
              "#f0f921"
             ]
            ],
            "type": "heatmap"
           }
          ],
          "heatmapgl": [
           {
            "colorbar": {
             "outlinewidth": 0,
             "ticks": ""
            },
            "colorscale": [
             [
              0,
              "#0d0887"
             ],
             [
              0.1111111111111111,
              "#46039f"
             ],
             [
              0.2222222222222222,
              "#7201a8"
             ],
             [
              0.3333333333333333,
              "#9c179e"
             ],
             [
              0.4444444444444444,
              "#bd3786"
             ],
             [
              0.5555555555555556,
              "#d8576b"
             ],
             [
              0.6666666666666666,
              "#ed7953"
             ],
             [
              0.7777777777777778,
              "#fb9f3a"
             ],
             [
              0.8888888888888888,
              "#fdca26"
             ],
             [
              1,
              "#f0f921"
             ]
            ],
            "type": "heatmapgl"
           }
          ],
          "histogram": [
           {
            "marker": {
             "pattern": {
              "fillmode": "overlay",
              "size": 10,
              "solidity": 0.2
             }
            },
            "type": "histogram"
           }
          ],
          "histogram2d": [
           {
            "colorbar": {
             "outlinewidth": 0,
             "ticks": ""
            },
            "colorscale": [
             [
              0,
              "#0d0887"
             ],
             [
              0.1111111111111111,
              "#46039f"
             ],
             [
              0.2222222222222222,
              "#7201a8"
             ],
             [
              0.3333333333333333,
              "#9c179e"
             ],
             [
              0.4444444444444444,
              "#bd3786"
             ],
             [
              0.5555555555555556,
              "#d8576b"
             ],
             [
              0.6666666666666666,
              "#ed7953"
             ],
             [
              0.7777777777777778,
              "#fb9f3a"
             ],
             [
              0.8888888888888888,
              "#fdca26"
             ],
             [
              1,
              "#f0f921"
             ]
            ],
            "type": "histogram2d"
           }
          ],
          "histogram2dcontour": [
           {
            "colorbar": {
             "outlinewidth": 0,
             "ticks": ""
            },
            "colorscale": [
             [
              0,
              "#0d0887"
             ],
             [
              0.1111111111111111,
              "#46039f"
             ],
             [
              0.2222222222222222,
              "#7201a8"
             ],
             [
              0.3333333333333333,
              "#9c179e"
             ],
             [
              0.4444444444444444,
              "#bd3786"
             ],
             [
              0.5555555555555556,
              "#d8576b"
             ],
             [
              0.6666666666666666,
              "#ed7953"
             ],
             [
              0.7777777777777778,
              "#fb9f3a"
             ],
             [
              0.8888888888888888,
              "#fdca26"
             ],
             [
              1,
              "#f0f921"
             ]
            ],
            "type": "histogram2dcontour"
           }
          ],
          "mesh3d": [
           {
            "colorbar": {
             "outlinewidth": 0,
             "ticks": ""
            },
            "type": "mesh3d"
           }
          ],
          "parcoords": [
           {
            "line": {
             "colorbar": {
              "outlinewidth": 0,
              "ticks": ""
             }
            },
            "type": "parcoords"
           }
          ],
          "pie": [
           {
            "automargin": true,
            "type": "pie"
           }
          ],
          "scatter": [
           {
            "fillpattern": {
             "fillmode": "overlay",
             "size": 10,
             "solidity": 0.2
            },
            "type": "scatter"
           }
          ],
          "scatter3d": [
           {
            "line": {
             "colorbar": {
              "outlinewidth": 0,
              "ticks": ""
             }
            },
            "marker": {
             "colorbar": {
              "outlinewidth": 0,
              "ticks": ""
             }
            },
            "type": "scatter3d"
           }
          ],
          "scattercarpet": [
           {
            "marker": {
             "colorbar": {
              "outlinewidth": 0,
              "ticks": ""
             }
            },
            "type": "scattercarpet"
           }
          ],
          "scattergeo": [
           {
            "marker": {
             "colorbar": {
              "outlinewidth": 0,
              "ticks": ""
             }
            },
            "type": "scattergeo"
           }
          ],
          "scattergl": [
           {
            "marker": {
             "colorbar": {
              "outlinewidth": 0,
              "ticks": ""
             }
            },
            "type": "scattergl"
           }
          ],
          "scattermapbox": [
           {
            "marker": {
             "colorbar": {
              "outlinewidth": 0,
              "ticks": ""
             }
            },
            "type": "scattermapbox"
           }
          ],
          "scatterpolar": [
           {
            "marker": {
             "colorbar": {
              "outlinewidth": 0,
              "ticks": ""
             }
            },
            "type": "scatterpolar"
           }
          ],
          "scatterpolargl": [
           {
            "marker": {
             "colorbar": {
              "outlinewidth": 0,
              "ticks": ""
             }
            },
            "type": "scatterpolargl"
           }
          ],
          "scatterternary": [
           {
            "marker": {
             "colorbar": {
              "outlinewidth": 0,
              "ticks": ""
             }
            },
            "type": "scatterternary"
           }
          ],
          "surface": [
           {
            "colorbar": {
             "outlinewidth": 0,
             "ticks": ""
            },
            "colorscale": [
             [
              0,
              "#0d0887"
             ],
             [
              0.1111111111111111,
              "#46039f"
             ],
             [
              0.2222222222222222,
              "#7201a8"
             ],
             [
              0.3333333333333333,
              "#9c179e"
             ],
             [
              0.4444444444444444,
              "#bd3786"
             ],
             [
              0.5555555555555556,
              "#d8576b"
             ],
             [
              0.6666666666666666,
              "#ed7953"
             ],
             [
              0.7777777777777778,
              "#fb9f3a"
             ],
             [
              0.8888888888888888,
              "#fdca26"
             ],
             [
              1,
              "#f0f921"
             ]
            ],
            "type": "surface"
           }
          ],
          "table": [
           {
            "cells": {
             "fill": {
              "color": "#EBF0F8"
             },
             "line": {
              "color": "white"
             }
            },
            "header": {
             "fill": {
              "color": "#C8D4E3"
             },
             "line": {
              "color": "white"
             }
            },
            "type": "table"
           }
          ]
         },
         "layout": {
          "annotationdefaults": {
           "arrowcolor": "#2a3f5f",
           "arrowhead": 0,
           "arrowwidth": 1
          },
          "autotypenumbers": "strict",
          "coloraxis": {
           "colorbar": {
            "outlinewidth": 0,
            "ticks": ""
           }
          },
          "colorscale": {
           "diverging": [
            [
             0,
             "#8e0152"
            ],
            [
             0.1,
             "#c51b7d"
            ],
            [
             0.2,
             "#de77ae"
            ],
            [
             0.3,
             "#f1b6da"
            ],
            [
             0.4,
             "#fde0ef"
            ],
            [
             0.5,
             "#f7f7f7"
            ],
            [
             0.6,
             "#e6f5d0"
            ],
            [
             0.7,
             "#b8e186"
            ],
            [
             0.8,
             "#7fbc41"
            ],
            [
             0.9,
             "#4d9221"
            ],
            [
             1,
             "#276419"
            ]
           ],
           "sequential": [
            [
             0,
             "#0d0887"
            ],
            [
             0.1111111111111111,
             "#46039f"
            ],
            [
             0.2222222222222222,
             "#7201a8"
            ],
            [
             0.3333333333333333,
             "#9c179e"
            ],
            [
             0.4444444444444444,
             "#bd3786"
            ],
            [
             0.5555555555555556,
             "#d8576b"
            ],
            [
             0.6666666666666666,
             "#ed7953"
            ],
            [
             0.7777777777777778,
             "#fb9f3a"
            ],
            [
             0.8888888888888888,
             "#fdca26"
            ],
            [
             1,
             "#f0f921"
            ]
           ],
           "sequentialminus": [
            [
             0,
             "#0d0887"
            ],
            [
             0.1111111111111111,
             "#46039f"
            ],
            [
             0.2222222222222222,
             "#7201a8"
            ],
            [
             0.3333333333333333,
             "#9c179e"
            ],
            [
             0.4444444444444444,
             "#bd3786"
            ],
            [
             0.5555555555555556,
             "#d8576b"
            ],
            [
             0.6666666666666666,
             "#ed7953"
            ],
            [
             0.7777777777777778,
             "#fb9f3a"
            ],
            [
             0.8888888888888888,
             "#fdca26"
            ],
            [
             1,
             "#f0f921"
            ]
           ]
          },
          "colorway": [
           "#636efa",
           "#EF553B",
           "#00cc96",
           "#ab63fa",
           "#FFA15A",
           "#19d3f3",
           "#FF6692",
           "#B6E880",
           "#FF97FF",
           "#FECB52"
          ],
          "font": {
           "color": "#2a3f5f"
          },
          "geo": {
           "bgcolor": "white",
           "lakecolor": "white",
           "landcolor": "#E5ECF6",
           "showlakes": true,
           "showland": true,
           "subunitcolor": "white"
          },
          "hoverlabel": {
           "align": "left"
          },
          "hovermode": "closest",
          "mapbox": {
           "style": "light"
          },
          "paper_bgcolor": "white",
          "plot_bgcolor": "#E5ECF6",
          "polar": {
           "angularaxis": {
            "gridcolor": "white",
            "linecolor": "white",
            "ticks": ""
           },
           "bgcolor": "#E5ECF6",
           "radialaxis": {
            "gridcolor": "white",
            "linecolor": "white",
            "ticks": ""
           }
          },
          "scene": {
           "xaxis": {
            "backgroundcolor": "#E5ECF6",
            "gridcolor": "white",
            "gridwidth": 2,
            "linecolor": "white",
            "showbackground": true,
            "ticks": "",
            "zerolinecolor": "white"
           },
           "yaxis": {
            "backgroundcolor": "#E5ECF6",
            "gridcolor": "white",
            "gridwidth": 2,
            "linecolor": "white",
            "showbackground": true,
            "ticks": "",
            "zerolinecolor": "white"
           },
           "zaxis": {
            "backgroundcolor": "#E5ECF6",
            "gridcolor": "white",
            "gridwidth": 2,
            "linecolor": "white",
            "showbackground": true,
            "ticks": "",
            "zerolinecolor": "white"
           }
          },
          "shapedefaults": {
           "line": {
            "color": "#2a3f5f"
           }
          },
          "ternary": {
           "aaxis": {
            "gridcolor": "white",
            "linecolor": "white",
            "ticks": ""
           },
           "baxis": {
            "gridcolor": "white",
            "linecolor": "white",
            "ticks": ""
           },
           "bgcolor": "#E5ECF6",
           "caxis": {
            "gridcolor": "white",
            "linecolor": "white",
            "ticks": ""
           }
          },
          "title": {
           "x": 0.05
          },
          "xaxis": {
           "automargin": true,
           "gridcolor": "white",
           "linecolor": "white",
           "ticks": "",
           "title": {
            "standoff": 15
           },
           "zerolinecolor": "white",
           "zerolinewidth": 2
          },
          "yaxis": {
           "automargin": true,
           "gridcolor": "white",
           "linecolor": "white",
           "ticks": "",
           "title": {
            "standoff": 15
           },
           "zerolinecolor": "white",
           "zerolinewidth": 2
          }
         }
        },
        "title": {
         "text": "Spacecraft 2-7 Access, In Fov, and Connected"
        },
        "xaxis": {
         "anchor": "y",
         "domain": [
          0,
          1
         ],
         "type": "date"
        },
        "yaxis": {
         "anchor": "x",
         "categoryorder": "total ascending",
         "domain": [
          0,
          1
         ],
         "title": {
          "text": "antenna"
         }
        }
       }
      }
     },
     "metadata": {},
     "output_type": "display_data"
    },
    {
     "data": {
      "application/vnd.plotly.v1+json": {
       "config": {
        "plotlyServerURL": "https://plot.ly"
       },
       "data": [
        {
         "alignmentgroup": "True",
         "base": [
          "2024-10-31T06:38:20.000086+00:00",
          "2024-10-31T08:16:20.000086+00:00",
          "2024-10-31T09:56:20.000087+00:00",
          "2024-10-31T11:37:10.000086+00:00",
          "2024-10-31T00:13:40.000087+00:00",
          "2024-10-31T01:56:40.000086+00:00",
          "2024-10-31T03:38:00.000087+00:00",
          "2024-10-31T05:18:20.000086+00:00",
          "2024-10-31T06:59:10.000086+00:00",
          "2024-10-31T00:33:00.000086+00:00",
          "2024-10-31T01:37:20.000086+00:00",
          "2024-10-31T03:16:50.000086+00:00",
          "2024-10-31T05:03:40.000086+00:00",
          "2024-10-31T10:14:40.000087+00:00",
          "2024-10-31T11:52:10.000086+00:00",
          "2024-10-31T02:11:00.000086+00:00",
          "2024-10-31T03:51:40.000086+00:00",
          "2024-10-31T05:27:50.000086+00:00",
          "2024-10-31T07:05:50.000087+00:00",
          "2024-10-31T08:50:30.000086+00:00",
          "2024-10-31T04:45:50.000086+00:00",
          "2024-10-31T06:25:40.000086+00:00",
          "2024-10-31T01:30:00.000086+00:00",
          "2024-10-31T03:06:40.000086+00:00",
          "2024-10-31T04:50:30.000086+00:00",
          "2024-10-31T02:24:30.000086+00:00",
          "2024-10-31T04:01:40.000087+00:00",
          "2024-10-31T05:45:40.000086+00:00",
          "2024-10-31T05:49:10.000086+00:00",
          "2024-10-31T07:23:40.000086+00:00",
          "2024-10-31T09:03:30.000086+00:00",
          "2024-10-31T10:45:30.000087+00:00",
          "2024-10-31T00:22:10.000086+00:00",
          "2024-10-31T02:02:30.000086+00:00"
         ],
         "hovertemplate": "type=access<br>start=%{base}<br>end=%{x}<br>antenna=%{y}<extra></extra>",
         "legendgroup": "access",
         "marker": {
          "color": "#636efa",
          "pattern": {
           "shape": ""
          }
         },
         "name": "access",
         "offsetgroup": "access",
         "orientation": "h",
         "showlegend": true,
         "textposition": "auto",
         "type": "bar",
         "x": [
          630000,
          800000,
          829999.999,
          820000,
          689999.999,
          610000,
          710000,
          810000,
          700000,
          740000,
          720000,
          780000,
          150000.001,
          329999.999,
          460000,
          770000,
          700000,
          510000,
          809999.999,
          240000,
          720000,
          750000,
          380000,
          820000,
          380000,
          490000,
          809999.999,
          420000,
          220000,
          770000,
          810000,
          729999.999,
          650000,
          430000
         ],
         "xaxis": "x",
         "y": [
          "Dundee",
          "Dundee",
          "Dundee",
          "Dundee",
          "Chitose",
          "Chitose",
          "Chitose",
          "Chitose",
          "Chitose",
          "Mojave",
          "Dubai",
          "Dubai",
          "Dubai",
          "Dubai",
          "Dubai",
          "Paumalu",
          "Paumalu",
          "Harmon",
          "Harmon",
          "Harmon",
          "Sunyani",
          "Sunyani",
          "Mwulire",
          "Mwulire",
          "Mwulire",
          "Tahiti",
          "Tahiti",
          "Tahiti",
          "Awarua",
          "Awarua",
          "Awarua",
          "Awarua",
          "Utqiagvik",
          "Utqiagvik"
         ],
         "yaxis": "y"
        },
        {
         "alignmentgroup": "True",
         "base": [
          "2024-10-31T08:16:20.000086+00:00",
          "2024-10-31T09:56:20.000087+00:00",
          "2024-10-31T11:37:10.000086+00:00",
          "2024-10-31T00:16:10.000086+00:00",
          "2024-10-31T01:56:40.000086+00:00",
          "2024-10-31T03:38:00.000087+00:00",
          "2024-10-31T05:18:20.000086+00:00",
          "2024-10-31T06:59:10.000086+00:00",
          "2024-10-31T00:33:00.000086+00:00",
          "2024-10-31T01:37:20.000086+00:00",
          "2024-10-31T05:03:40.000086+00:00",
          "2024-10-31T10:14:40.000087+00:00",
          "2024-10-31T11:52:10.000086+00:00",
          "2024-10-31T02:16:50.000087+00:00",
          "2024-10-31T03:51:40.000086+00:00",
          "2024-10-31T07:14:50.000086+00:00",
          "2024-10-31T08:50:30.000086+00:00",
          "2024-10-31T04:45:50.000086+00:00",
          "2024-10-31T06:25:40.000086+00:00",
          "2024-10-31T01:30:00.000086+00:00",
          "2024-10-31T03:18:20.000086+00:00",
          "2024-10-31T04:12:00.000086+00:00",
          "2024-10-31T05:51:10.000087+00:00",
          "2024-10-31T07:23:40.000086+00:00",
          "2024-10-31T09:03:30.000086+00:00",
          "2024-10-31T10:45:30.000087+00:00"
         ],
         "hovertemplate": "type=inFov<br>start=%{base}<br>end=%{x}<br>antenna=%{y}<extra></extra>",
         "legendgroup": "inFov",
         "marker": {
          "color": "#EF553B",
          "pattern": {
           "shape": ""
          }
         },
         "name": "inFov",
         "offsetgroup": "inFov",
         "orientation": "h",
         "showlegend": true,
         "textposition": "auto",
         "type": "bar",
         "x": [
          180000,
          819999.999,
          810000,
          530000,
          600000,
          699999.999,
          800000.001,
          690000,
          720000,
          710000,
          70000,
          320000,
          460000,
          139999.999,
          440000,
          260000,
          230000,
          710000,
          740000.001,
          180000.001,
          120000,
          190000,
          89999.999,
          770000,
          800000,
          729999.999
         ],
         "xaxis": "x",
         "y": [
          "Dundee",
          "Dundee",
          "Dundee",
          "Chitose",
          "Chitose",
          "Chitose",
          "Chitose",
          "Chitose",
          "Mojave",
          "Dubai",
          "Dubai",
          "Dubai",
          "Dubai",
          "Paumalu",
          "Paumalu",
          "Harmon",
          "Harmon",
          "Sunyani",
          "Sunyani",
          "Mwulire",
          "Mwulire",
          "Tahiti",
          "Tahiti",
          "Awarua",
          "Awarua",
          "Awarua"
         ],
         "yaxis": "y"
        },
        {
         "alignmentgroup": "True",
         "base": [
          "2024-10-31T09:56:20.000087+00:00",
          "2024-10-31T11:37:10.000086+00:00",
          "2024-10-31T00:16:10.000086+00:00",
          "2024-10-31T01:56:40.000086+00:00",
          "2024-10-31T03:38:00.000087+00:00",
          "2024-10-31T05:18:20.000086+00:00",
          "2024-10-31T06:59:10.000086+00:00",
          "2024-10-31T00:33:00.000086+00:00",
          "2024-10-31T01:37:20.000086+00:00",
          "2024-10-31T10:14:40.000087+00:00",
          "2024-10-31T11:52:10.000086+00:00",
          "2024-10-31T02:16:50.000087+00:00",
          "2024-10-31T03:51:40.000086+00:00",
          "2024-10-31T07:14:50.000086+00:00",
          "2024-10-31T08:50:30.000086+00:00",
          "2024-10-31T04:45:50.000086+00:00",
          "2024-10-31T06:25:40.000086+00:00",
          "2024-10-31T01:30:00.000086+00:00",
          "2024-10-31T07:23:40.000086+00:00",
          "2024-10-31T09:03:30.000086+00:00",
          "2024-10-31T10:45:30.000087+00:00"
         ],
         "hovertemplate": "type=connected<br>start=%{base}<br>end=%{x}<br>antenna=%{y}<extra></extra>",
         "legendgroup": "connected",
         "marker": {
          "color": "#00cc96",
          "pattern": {
           "shape": ""
          }
         },
         "name": "connected",
         "offsetgroup": "connected",
         "orientation": "h",
         "showlegend": true,
         "textposition": "auto",
         "type": "bar",
         "x": [
          819999.999,
          810000,
          530000,
          600000,
          699999.999,
          800000.001,
          690000,
          720000,
          710000,
          320000,
          460000,
          139999.999,
          440000,
          260000,
          230000,
          710000,
          740000.001,
          180000.001,
          770000,
          800000,
          729999.999
         ],
         "xaxis": "x",
         "y": [
          "Dundee",
          "Dundee",
          "Chitose",
          "Chitose",
          "Chitose",
          "Chitose",
          "Chitose",
          "Mojave",
          "Dubai",
          "Dubai",
          "Dubai",
          "Paumalu",
          "Paumalu",
          "Harmon",
          "Harmon",
          "Sunyani",
          "Sunyani",
          "Mwulire",
          "Awarua",
          "Awarua",
          "Awarua"
         ],
         "yaxis": "y"
        }
       ],
       "layout": {
        "barmode": "overlay",
        "legend": {
         "title": {
          "text": "type"
         },
         "tracegroupgap": 0
        },
        "margin": {
         "t": 60
        },
        "template": {
         "data": {
          "bar": [
           {
            "error_x": {
             "color": "#2a3f5f"
            },
            "error_y": {
             "color": "#2a3f5f"
            },
            "marker": {
             "line": {
              "color": "#E5ECF6",
              "width": 0.5
             },
             "pattern": {
              "fillmode": "overlay",
              "size": 10,
              "solidity": 0.2
             }
            },
            "type": "bar"
           }
          ],
          "barpolar": [
           {
            "marker": {
             "line": {
              "color": "#E5ECF6",
              "width": 0.5
             },
             "pattern": {
              "fillmode": "overlay",
              "size": 10,
              "solidity": 0.2
             }
            },
            "type": "barpolar"
           }
          ],
          "carpet": [
           {
            "aaxis": {
             "endlinecolor": "#2a3f5f",
             "gridcolor": "white",
             "linecolor": "white",
             "minorgridcolor": "white",
             "startlinecolor": "#2a3f5f"
            },
            "baxis": {
             "endlinecolor": "#2a3f5f",
             "gridcolor": "white",
             "linecolor": "white",
             "minorgridcolor": "white",
             "startlinecolor": "#2a3f5f"
            },
            "type": "carpet"
           }
          ],
          "choropleth": [
           {
            "colorbar": {
             "outlinewidth": 0,
             "ticks": ""
            },
            "type": "choropleth"
           }
          ],
          "contour": [
           {
            "colorbar": {
             "outlinewidth": 0,
             "ticks": ""
            },
            "colorscale": [
             [
              0,
              "#0d0887"
             ],
             [
              0.1111111111111111,
              "#46039f"
             ],
             [
              0.2222222222222222,
              "#7201a8"
             ],
             [
              0.3333333333333333,
              "#9c179e"
             ],
             [
              0.4444444444444444,
              "#bd3786"
             ],
             [
              0.5555555555555556,
              "#d8576b"
             ],
             [
              0.6666666666666666,
              "#ed7953"
             ],
             [
              0.7777777777777778,
              "#fb9f3a"
             ],
             [
              0.8888888888888888,
              "#fdca26"
             ],
             [
              1,
              "#f0f921"
             ]
            ],
            "type": "contour"
           }
          ],
          "contourcarpet": [
           {
            "colorbar": {
             "outlinewidth": 0,
             "ticks": ""
            },
            "type": "contourcarpet"
           }
          ],
          "heatmap": [
           {
            "colorbar": {
             "outlinewidth": 0,
             "ticks": ""
            },
            "colorscale": [
             [
              0,
              "#0d0887"
             ],
             [
              0.1111111111111111,
              "#46039f"
             ],
             [
              0.2222222222222222,
              "#7201a8"
             ],
             [
              0.3333333333333333,
              "#9c179e"
             ],
             [
              0.4444444444444444,
              "#bd3786"
             ],
             [
              0.5555555555555556,
              "#d8576b"
             ],
             [
              0.6666666666666666,
              "#ed7953"
             ],
             [
              0.7777777777777778,
              "#fb9f3a"
             ],
             [
              0.8888888888888888,
              "#fdca26"
             ],
             [
              1,
              "#f0f921"
             ]
            ],
            "type": "heatmap"
           }
          ],
          "heatmapgl": [
           {
            "colorbar": {
             "outlinewidth": 0,
             "ticks": ""
            },
            "colorscale": [
             [
              0,
              "#0d0887"
             ],
             [
              0.1111111111111111,
              "#46039f"
             ],
             [
              0.2222222222222222,
              "#7201a8"
             ],
             [
              0.3333333333333333,
              "#9c179e"
             ],
             [
              0.4444444444444444,
              "#bd3786"
             ],
             [
              0.5555555555555556,
              "#d8576b"
             ],
             [
              0.6666666666666666,
              "#ed7953"
             ],
             [
              0.7777777777777778,
              "#fb9f3a"
             ],
             [
              0.8888888888888888,
              "#fdca26"
             ],
             [
              1,
              "#f0f921"
             ]
            ],
            "type": "heatmapgl"
           }
          ],
          "histogram": [
           {
            "marker": {
             "pattern": {
              "fillmode": "overlay",
              "size": 10,
              "solidity": 0.2
             }
            },
            "type": "histogram"
           }
          ],
          "histogram2d": [
           {
            "colorbar": {
             "outlinewidth": 0,
             "ticks": ""
            },
            "colorscale": [
             [
              0,
              "#0d0887"
             ],
             [
              0.1111111111111111,
              "#46039f"
             ],
             [
              0.2222222222222222,
              "#7201a8"
             ],
             [
              0.3333333333333333,
              "#9c179e"
             ],
             [
              0.4444444444444444,
              "#bd3786"
             ],
             [
              0.5555555555555556,
              "#d8576b"
             ],
             [
              0.6666666666666666,
              "#ed7953"
             ],
             [
              0.7777777777777778,
              "#fb9f3a"
             ],
             [
              0.8888888888888888,
              "#fdca26"
             ],
             [
              1,
              "#f0f921"
             ]
            ],
            "type": "histogram2d"
           }
          ],
          "histogram2dcontour": [
           {
            "colorbar": {
             "outlinewidth": 0,
             "ticks": ""
            },
            "colorscale": [
             [
              0,
              "#0d0887"
             ],
             [
              0.1111111111111111,
              "#46039f"
             ],
             [
              0.2222222222222222,
              "#7201a8"
             ],
             [
              0.3333333333333333,
              "#9c179e"
             ],
             [
              0.4444444444444444,
              "#bd3786"
             ],
             [
              0.5555555555555556,
              "#d8576b"
             ],
             [
              0.6666666666666666,
              "#ed7953"
             ],
             [
              0.7777777777777778,
              "#fb9f3a"
             ],
             [
              0.8888888888888888,
              "#fdca26"
             ],
             [
              1,
              "#f0f921"
             ]
            ],
            "type": "histogram2dcontour"
           }
          ],
          "mesh3d": [
           {
            "colorbar": {
             "outlinewidth": 0,
             "ticks": ""
            },
            "type": "mesh3d"
           }
          ],
          "parcoords": [
           {
            "line": {
             "colorbar": {
              "outlinewidth": 0,
              "ticks": ""
             }
            },
            "type": "parcoords"
           }
          ],
          "pie": [
           {
            "automargin": true,
            "type": "pie"
           }
          ],
          "scatter": [
           {
            "fillpattern": {
             "fillmode": "overlay",
             "size": 10,
             "solidity": 0.2
            },
            "type": "scatter"
           }
          ],
          "scatter3d": [
           {
            "line": {
             "colorbar": {
              "outlinewidth": 0,
              "ticks": ""
             }
            },
            "marker": {
             "colorbar": {
              "outlinewidth": 0,
              "ticks": ""
             }
            },
            "type": "scatter3d"
           }
          ],
          "scattercarpet": [
           {
            "marker": {
             "colorbar": {
              "outlinewidth": 0,
              "ticks": ""
             }
            },
            "type": "scattercarpet"
           }
          ],
          "scattergeo": [
           {
            "marker": {
             "colorbar": {
              "outlinewidth": 0,
              "ticks": ""
             }
            },
            "type": "scattergeo"
           }
          ],
          "scattergl": [
           {
            "marker": {
             "colorbar": {
              "outlinewidth": 0,
              "ticks": ""
             }
            },
            "type": "scattergl"
           }
          ],
          "scattermapbox": [
           {
            "marker": {
             "colorbar": {
              "outlinewidth": 0,
              "ticks": ""
             }
            },
            "type": "scattermapbox"
           }
          ],
          "scatterpolar": [
           {
            "marker": {
             "colorbar": {
              "outlinewidth": 0,
              "ticks": ""
             }
            },
            "type": "scatterpolar"
           }
          ],
          "scatterpolargl": [
           {
            "marker": {
             "colorbar": {
              "outlinewidth": 0,
              "ticks": ""
             }
            },
            "type": "scatterpolargl"
           }
          ],
          "scatterternary": [
           {
            "marker": {
             "colorbar": {
              "outlinewidth": 0,
              "ticks": ""
             }
            },
            "type": "scatterternary"
           }
          ],
          "surface": [
           {
            "colorbar": {
             "outlinewidth": 0,
             "ticks": ""
            },
            "colorscale": [
             [
              0,
              "#0d0887"
             ],
             [
              0.1111111111111111,
              "#46039f"
             ],
             [
              0.2222222222222222,
              "#7201a8"
             ],
             [
              0.3333333333333333,
              "#9c179e"
             ],
             [
              0.4444444444444444,
              "#bd3786"
             ],
             [
              0.5555555555555556,
              "#d8576b"
             ],
             [
              0.6666666666666666,
              "#ed7953"
             ],
             [
              0.7777777777777778,
              "#fb9f3a"
             ],
             [
              0.8888888888888888,
              "#fdca26"
             ],
             [
              1,
              "#f0f921"
             ]
            ],
            "type": "surface"
           }
          ],
          "table": [
           {
            "cells": {
             "fill": {
              "color": "#EBF0F8"
             },
             "line": {
              "color": "white"
             }
            },
            "header": {
             "fill": {
              "color": "#C8D4E3"
             },
             "line": {
              "color": "white"
             }
            },
            "type": "table"
           }
          ]
         },
         "layout": {
          "annotationdefaults": {
           "arrowcolor": "#2a3f5f",
           "arrowhead": 0,
           "arrowwidth": 1
          },
          "autotypenumbers": "strict",
          "coloraxis": {
           "colorbar": {
            "outlinewidth": 0,
            "ticks": ""
           }
          },
          "colorscale": {
           "diverging": [
            [
             0,
             "#8e0152"
            ],
            [
             0.1,
             "#c51b7d"
            ],
            [
             0.2,
             "#de77ae"
            ],
            [
             0.3,
             "#f1b6da"
            ],
            [
             0.4,
             "#fde0ef"
            ],
            [
             0.5,
             "#f7f7f7"
            ],
            [
             0.6,
             "#e6f5d0"
            ],
            [
             0.7,
             "#b8e186"
            ],
            [
             0.8,
             "#7fbc41"
            ],
            [
             0.9,
             "#4d9221"
            ],
            [
             1,
             "#276419"
            ]
           ],
           "sequential": [
            [
             0,
             "#0d0887"
            ],
            [
             0.1111111111111111,
             "#46039f"
            ],
            [
             0.2222222222222222,
             "#7201a8"
            ],
            [
             0.3333333333333333,
             "#9c179e"
            ],
            [
             0.4444444444444444,
             "#bd3786"
            ],
            [
             0.5555555555555556,
             "#d8576b"
            ],
            [
             0.6666666666666666,
             "#ed7953"
            ],
            [
             0.7777777777777778,
             "#fb9f3a"
            ],
            [
             0.8888888888888888,
             "#fdca26"
            ],
            [
             1,
             "#f0f921"
            ]
           ],
           "sequentialminus": [
            [
             0,
             "#0d0887"
            ],
            [
             0.1111111111111111,
             "#46039f"
            ],
            [
             0.2222222222222222,
             "#7201a8"
            ],
            [
             0.3333333333333333,
             "#9c179e"
            ],
            [
             0.4444444444444444,
             "#bd3786"
            ],
            [
             0.5555555555555556,
             "#d8576b"
            ],
            [
             0.6666666666666666,
             "#ed7953"
            ],
            [
             0.7777777777777778,
             "#fb9f3a"
            ],
            [
             0.8888888888888888,
             "#fdca26"
            ],
            [
             1,
             "#f0f921"
            ]
           ]
          },
          "colorway": [
           "#636efa",
           "#EF553B",
           "#00cc96",
           "#ab63fa",
           "#FFA15A",
           "#19d3f3",
           "#FF6692",
           "#B6E880",
           "#FF97FF",
           "#FECB52"
          ],
          "font": {
           "color": "#2a3f5f"
          },
          "geo": {
           "bgcolor": "white",
           "lakecolor": "white",
           "landcolor": "#E5ECF6",
           "showlakes": true,
           "showland": true,
           "subunitcolor": "white"
          },
          "hoverlabel": {
           "align": "left"
          },
          "hovermode": "closest",
          "mapbox": {
           "style": "light"
          },
          "paper_bgcolor": "white",
          "plot_bgcolor": "#E5ECF6",
          "polar": {
           "angularaxis": {
            "gridcolor": "white",
            "linecolor": "white",
            "ticks": ""
           },
           "bgcolor": "#E5ECF6",
           "radialaxis": {
            "gridcolor": "white",
            "linecolor": "white",
            "ticks": ""
           }
          },
          "scene": {
           "xaxis": {
            "backgroundcolor": "#E5ECF6",
            "gridcolor": "white",
            "gridwidth": 2,
            "linecolor": "white",
            "showbackground": true,
            "ticks": "",
            "zerolinecolor": "white"
           },
           "yaxis": {
            "backgroundcolor": "#E5ECF6",
            "gridcolor": "white",
            "gridwidth": 2,
            "linecolor": "white",
            "showbackground": true,
            "ticks": "",
            "zerolinecolor": "white"
           },
           "zaxis": {
            "backgroundcolor": "#E5ECF6",
            "gridcolor": "white",
            "gridwidth": 2,
            "linecolor": "white",
            "showbackground": true,
            "ticks": "",
            "zerolinecolor": "white"
           }
          },
          "shapedefaults": {
           "line": {
            "color": "#2a3f5f"
           }
          },
          "ternary": {
           "aaxis": {
            "gridcolor": "white",
            "linecolor": "white",
            "ticks": ""
           },
           "baxis": {
            "gridcolor": "white",
            "linecolor": "white",
            "ticks": ""
           },
           "bgcolor": "#E5ECF6",
           "caxis": {
            "gridcolor": "white",
            "linecolor": "white",
            "ticks": ""
           }
          },
          "title": {
           "x": 0.05
          },
          "xaxis": {
           "automargin": true,
           "gridcolor": "white",
           "linecolor": "white",
           "ticks": "",
           "title": {
            "standoff": 15
           },
           "zerolinecolor": "white",
           "zerolinewidth": 2
          },
          "yaxis": {
           "automargin": true,
           "gridcolor": "white",
           "linecolor": "white",
           "ticks": "",
           "title": {
            "standoff": 15
           },
           "zerolinecolor": "white",
           "zerolinewidth": 2
          }
         }
        },
        "title": {
         "text": "Spacecraft 2-8 Access, In Fov, and Connected"
        },
        "xaxis": {
         "anchor": "y",
         "domain": [
          0,
          1
         ],
         "type": "date"
        },
        "yaxis": {
         "anchor": "x",
         "categoryorder": "total ascending",
         "domain": [
          0,
          1
         ],
         "title": {
          "text": "antenna"
         }
        }
       }
      }
     },
     "metadata": {},
     "output_type": "display_data"
    },
    {
     "data": {
      "application/vnd.plotly.v1+json": {
       "config": {
        "plotlyServerURL": "https://plot.ly"
       },
       "data": [
        {
         "alignmentgroup": "True",
         "base": [
          "2024-10-31T00:03:00.000087+00:00",
          "2024-10-31T04:33:20.000086+00:00",
          "2024-10-31T06:12:40.000086+00:00",
          "2024-10-31T07:55:10.000086+00:00",
          "2024-10-31T09:38:30.000086+00:00",
          "2024-10-31T11:20:20.000086+00:00",
          "2024-10-31T01:27:30.000086+00:00",
          "2024-10-31T04:54:20.000087+00:00",
          "2024-10-31T06:34:00.000086+00:00",
          "2024-10-31T08:14:30.000087+00:00",
          "2024-10-31T09:19:50.000086+00:00",
          "2024-10-31T10:59:00.000086+00:00",
          "2024-10-31T01:14:30.000086+00:00",
          "2024-10-31T03:01:50.000087+00:00",
          "2024-10-31T09:53:10.000086+00:00",
          "2024-10-31T11:33:40.000086+00:00",
          "2024-10-31T02:47:20.000086+00:00",
          "2024-10-31T04:25:50.000086+00:00",
          "2024-10-31T06:13:10.000086+00:00",
          "2024-10-31T00:14:20.000086+00:00",
          "2024-10-31T01:54:40.000086+00:00",
          "2024-10-31T00:21:10.000086+00:00",
          "2024-10-31T09:14:20.000086+00:00",
          "2024-10-31T10:49:00.000087+00:00",
          "2024-10-31T10:07:40.000086+00:00",
          "2024-10-31T11:44:00.000086+00:00",
          "2024-10-31T00:53:50.000086+00:00",
          "2024-10-31T01:28:50.000086+00:00",
          "2024-10-31T03:06:00.000087+00:00",
          "2024-10-31T04:44:40.000086+00:00",
          "2024-10-31T06:24:10.000086+00:00",
          "2024-10-31T08:04:00.000086+00:00",
          "2024-10-31T09:44:20.000086+00:00"
         ],
         "hovertemplate": "type=access<br>start=%{base}<br>end=%{x}<br>antenna=%{y}<extra></extra>",
         "legendgroup": "access",
         "marker": {
          "color": "#636efa",
          "pattern": {
           "shape": ""
          }
         },
         "name": "access",
         "offsetgroup": "access",
         "orientation": "h",
         "showlegend": true,
         "textposition": "auto",
         "type": "bar",
         "x": [
          679999.999,
          720000,
          820000,
          710000,
          610000.001,
          700000,
          450000,
          479999.999,
          780000,
          780000,
          680000,
          800000,
          790000,
          99999.999,
          760000.001,
          760000,
          590000,
          810000,
          60000,
          730000,
          740000,
          700000,
          110000,
          820000,
          380000,
          830000,
          740000,
          460000,
          659999.999,
          730000,
          730000,
          670000,
          500000
         ],
         "xaxis": "x",
         "y": [
          "Dundee",
          "Chitose",
          "Chitose",
          "Chitose",
          "Chitose",
          "Chitose",
          "Mojave",
          "Mojave",
          "Mojave",
          "Mojave",
          "Dubai",
          "Dubai",
          "Paumalu",
          "Paumalu",
          "Paumalu",
          "Paumalu",
          "Harmon",
          "Harmon",
          "Harmon",
          "Sunyani",
          "Sunyani",
          "Mwulire",
          "Mwulire",
          "Mwulire",
          "Tahiti",
          "Tahiti",
          "Awarua",
          "Utqiagvik",
          "Utqiagvik",
          "Utqiagvik",
          "Utqiagvik",
          "Utqiagvik",
          "Utqiagvik"
         ],
         "yaxis": "y"
        },
        {
         "alignmentgroup": "True",
         "base": [
          "2024-10-31T00:03:00.000087+00:00",
          "2024-10-31T04:39:40.000086+00:00",
          "2024-10-31T07:58:00.000086+00:00",
          "2024-10-31T09:38:30.000086+00:00",
          "2024-10-31T11:20:20.000086+00:00",
          "2024-10-31T11:31:10.000086+00:00",
          "2024-10-31T06:34:00.000086+00:00",
          "2024-10-31T08:14:30.000087+00:00",
          "2024-10-31T09:19:50.000086+00:00",
          "2024-10-31T01:14:50.000086+00:00",
          "2024-10-31T03:02:00.000086+00:00",
          "2024-10-31T09:53:30.000086+00:00",
          "2024-10-31T11:33:40.000086+00:00",
          "2024-10-31T02:54:20.000086+00:00",
          "2024-10-31T04:26:10.000086+00:00",
          "2024-10-31T01:54:40.000086+00:00",
          "2024-10-31T00:24:50.000086+00:00",
          "2024-10-31T10:52:40.000086+00:00",
          "2024-10-31T10:07:40.000086+00:00",
          "2024-10-31T11:44:00.000086+00:00",
          "2024-10-31T00:53:50.000086+00:00",
          "2024-10-31T08:04:00.000086+00:00",
          "2024-10-31T09:44:20.000086+00:00"
         ],
         "hovertemplate": "type=inFov<br>start=%{base}<br>end=%{x}<br>antenna=%{y}<extra></extra>",
         "legendgroup": "inFov",
         "marker": {
          "color": "#EF553B",
          "pattern": {
           "shape": ""
          }
         },
         "name": "inFov",
         "offsetgroup": "inFov",
         "orientation": "h",
         "showlegend": true,
         "textposition": "auto",
         "type": "bar",
         "x": [
          119999.999,
          40000,
          420000.001,
          200000,
          400000,
          40000,
          670000,
          780000,
          660000.001,
          730000,
          90000,
          200000,
          210000,
          160000,
          710000,
          730000,
          470000.001,
          110000,
          380000,
          690000,
          190000,
          110000,
          120000
         ],
         "xaxis": "x",
         "y": [
          "Dundee",
          "Chitose",
          "Chitose",
          "Chitose",
          "Chitose",
          "Chitose",
          "Mojave",
          "Mojave",
          "Dubai",
          "Paumalu",
          "Paumalu",
          "Paumalu",
          "Paumalu",
          "Harmon",
          "Harmon",
          "Sunyani",
          "Mwulire",
          "Mwulire",
          "Tahiti",
          "Tahiti",
          "Awarua",
          "Utqiagvik",
          "Utqiagvik"
         ],
         "yaxis": "y"
        },
        {
         "alignmentgroup": "True",
         "base": [
          "2024-10-31T07:58:00.000086+00:00",
          "2024-10-31T11:20:30.000086+00:00",
          "2024-10-31T06:34:00.000086+00:00",
          "2024-10-31T08:14:30.000087+00:00",
          "2024-10-31T09:19:50.000086+00:00",
          "2024-10-31T01:14:50.000086+00:00",
          "2024-10-31T02:54:20.000086+00:00",
          "2024-10-31T04:26:10.000086+00:00",
          "2024-10-31T01:54:40.000086+00:00",
          "2024-10-31T00:24:50.000086+00:00",
          "2024-10-31T10:52:40.000086+00:00",
          "2024-10-31T10:07:40.000086+00:00",
          "2024-10-31T11:44:00.000086+00:00"
         ],
         "hovertemplate": "type=connected<br>start=%{base}<br>end=%{x}<br>antenna=%{y}<extra></extra>",
         "legendgroup": "connected",
         "marker": {
          "color": "#00cc96",
          "pattern": {
           "shape": ""
          }
         },
         "name": "connected",
         "offsetgroup": "connected",
         "orientation": "h",
         "showlegend": true,
         "textposition": "auto",
         "type": "bar",
         "x": [
          420000.001,
          390000,
          670000,
          780000,
          660000.001,
          730000,
          160000,
          710000,
          730000,
          470000.001,
          110000,
          380000,
          690000
         ],
         "xaxis": "x",
         "y": [
          "Chitose",
          "Chitose",
          "Mojave",
          "Mojave",
          "Dubai",
          "Paumalu",
          "Harmon",
          "Harmon",
          "Sunyani",
          "Mwulire",
          "Mwulire",
          "Tahiti",
          "Tahiti"
         ],
         "yaxis": "y"
        }
       ],
       "layout": {
        "barmode": "overlay",
        "legend": {
         "title": {
          "text": "type"
         },
         "tracegroupgap": 0
        },
        "margin": {
         "t": 60
        },
        "template": {
         "data": {
          "bar": [
           {
            "error_x": {
             "color": "#2a3f5f"
            },
            "error_y": {
             "color": "#2a3f5f"
            },
            "marker": {
             "line": {
              "color": "#E5ECF6",
              "width": 0.5
             },
             "pattern": {
              "fillmode": "overlay",
              "size": 10,
              "solidity": 0.2
             }
            },
            "type": "bar"
           }
          ],
          "barpolar": [
           {
            "marker": {
             "line": {
              "color": "#E5ECF6",
              "width": 0.5
             },
             "pattern": {
              "fillmode": "overlay",
              "size": 10,
              "solidity": 0.2
             }
            },
            "type": "barpolar"
           }
          ],
          "carpet": [
           {
            "aaxis": {
             "endlinecolor": "#2a3f5f",
             "gridcolor": "white",
             "linecolor": "white",
             "minorgridcolor": "white",
             "startlinecolor": "#2a3f5f"
            },
            "baxis": {
             "endlinecolor": "#2a3f5f",
             "gridcolor": "white",
             "linecolor": "white",
             "minorgridcolor": "white",
             "startlinecolor": "#2a3f5f"
            },
            "type": "carpet"
           }
          ],
          "choropleth": [
           {
            "colorbar": {
             "outlinewidth": 0,
             "ticks": ""
            },
            "type": "choropleth"
           }
          ],
          "contour": [
           {
            "colorbar": {
             "outlinewidth": 0,
             "ticks": ""
            },
            "colorscale": [
             [
              0,
              "#0d0887"
             ],
             [
              0.1111111111111111,
              "#46039f"
             ],
             [
              0.2222222222222222,
              "#7201a8"
             ],
             [
              0.3333333333333333,
              "#9c179e"
             ],
             [
              0.4444444444444444,
              "#bd3786"
             ],
             [
              0.5555555555555556,
              "#d8576b"
             ],
             [
              0.6666666666666666,
              "#ed7953"
             ],
             [
              0.7777777777777778,
              "#fb9f3a"
             ],
             [
              0.8888888888888888,
              "#fdca26"
             ],
             [
              1,
              "#f0f921"
             ]
            ],
            "type": "contour"
           }
          ],
          "contourcarpet": [
           {
            "colorbar": {
             "outlinewidth": 0,
             "ticks": ""
            },
            "type": "contourcarpet"
           }
          ],
          "heatmap": [
           {
            "colorbar": {
             "outlinewidth": 0,
             "ticks": ""
            },
            "colorscale": [
             [
              0,
              "#0d0887"
             ],
             [
              0.1111111111111111,
              "#46039f"
             ],
             [
              0.2222222222222222,
              "#7201a8"
             ],
             [
              0.3333333333333333,
              "#9c179e"
             ],
             [
              0.4444444444444444,
              "#bd3786"
             ],
             [
              0.5555555555555556,
              "#d8576b"
             ],
             [
              0.6666666666666666,
              "#ed7953"
             ],
             [
              0.7777777777777778,
              "#fb9f3a"
             ],
             [
              0.8888888888888888,
              "#fdca26"
             ],
             [
              1,
              "#f0f921"
             ]
            ],
            "type": "heatmap"
           }
          ],
          "heatmapgl": [
           {
            "colorbar": {
             "outlinewidth": 0,
             "ticks": ""
            },
            "colorscale": [
             [
              0,
              "#0d0887"
             ],
             [
              0.1111111111111111,
              "#46039f"
             ],
             [
              0.2222222222222222,
              "#7201a8"
             ],
             [
              0.3333333333333333,
              "#9c179e"
             ],
             [
              0.4444444444444444,
              "#bd3786"
             ],
             [
              0.5555555555555556,
              "#d8576b"
             ],
             [
              0.6666666666666666,
              "#ed7953"
             ],
             [
              0.7777777777777778,
              "#fb9f3a"
             ],
             [
              0.8888888888888888,
              "#fdca26"
             ],
             [
              1,
              "#f0f921"
             ]
            ],
            "type": "heatmapgl"
           }
          ],
          "histogram": [
           {
            "marker": {
             "pattern": {
              "fillmode": "overlay",
              "size": 10,
              "solidity": 0.2
             }
            },
            "type": "histogram"
           }
          ],
          "histogram2d": [
           {
            "colorbar": {
             "outlinewidth": 0,
             "ticks": ""
            },
            "colorscale": [
             [
              0,
              "#0d0887"
             ],
             [
              0.1111111111111111,
              "#46039f"
             ],
             [
              0.2222222222222222,
              "#7201a8"
             ],
             [
              0.3333333333333333,
              "#9c179e"
             ],
             [
              0.4444444444444444,
              "#bd3786"
             ],
             [
              0.5555555555555556,
              "#d8576b"
             ],
             [
              0.6666666666666666,
              "#ed7953"
             ],
             [
              0.7777777777777778,
              "#fb9f3a"
             ],
             [
              0.8888888888888888,
              "#fdca26"
             ],
             [
              1,
              "#f0f921"
             ]
            ],
            "type": "histogram2d"
           }
          ],
          "histogram2dcontour": [
           {
            "colorbar": {
             "outlinewidth": 0,
             "ticks": ""
            },
            "colorscale": [
             [
              0,
              "#0d0887"
             ],
             [
              0.1111111111111111,
              "#46039f"
             ],
             [
              0.2222222222222222,
              "#7201a8"
             ],
             [
              0.3333333333333333,
              "#9c179e"
             ],
             [
              0.4444444444444444,
              "#bd3786"
             ],
             [
              0.5555555555555556,
              "#d8576b"
             ],
             [
              0.6666666666666666,
              "#ed7953"
             ],
             [
              0.7777777777777778,
              "#fb9f3a"
             ],
             [
              0.8888888888888888,
              "#fdca26"
             ],
             [
              1,
              "#f0f921"
             ]
            ],
            "type": "histogram2dcontour"
           }
          ],
          "mesh3d": [
           {
            "colorbar": {
             "outlinewidth": 0,
             "ticks": ""
            },
            "type": "mesh3d"
           }
          ],
          "parcoords": [
           {
            "line": {
             "colorbar": {
              "outlinewidth": 0,
              "ticks": ""
             }
            },
            "type": "parcoords"
           }
          ],
          "pie": [
           {
            "automargin": true,
            "type": "pie"
           }
          ],
          "scatter": [
           {
            "fillpattern": {
             "fillmode": "overlay",
             "size": 10,
             "solidity": 0.2
            },
            "type": "scatter"
           }
          ],
          "scatter3d": [
           {
            "line": {
             "colorbar": {
              "outlinewidth": 0,
              "ticks": ""
             }
            },
            "marker": {
             "colorbar": {
              "outlinewidth": 0,
              "ticks": ""
             }
            },
            "type": "scatter3d"
           }
          ],
          "scattercarpet": [
           {
            "marker": {
             "colorbar": {
              "outlinewidth": 0,
              "ticks": ""
             }
            },
            "type": "scattercarpet"
           }
          ],
          "scattergeo": [
           {
            "marker": {
             "colorbar": {
              "outlinewidth": 0,
              "ticks": ""
             }
            },
            "type": "scattergeo"
           }
          ],
          "scattergl": [
           {
            "marker": {
             "colorbar": {
              "outlinewidth": 0,
              "ticks": ""
             }
            },
            "type": "scattergl"
           }
          ],
          "scattermapbox": [
           {
            "marker": {
             "colorbar": {
              "outlinewidth": 0,
              "ticks": ""
             }
            },
            "type": "scattermapbox"
           }
          ],
          "scatterpolar": [
           {
            "marker": {
             "colorbar": {
              "outlinewidth": 0,
              "ticks": ""
             }
            },
            "type": "scatterpolar"
           }
          ],
          "scatterpolargl": [
           {
            "marker": {
             "colorbar": {
              "outlinewidth": 0,
              "ticks": ""
             }
            },
            "type": "scatterpolargl"
           }
          ],
          "scatterternary": [
           {
            "marker": {
             "colorbar": {
              "outlinewidth": 0,
              "ticks": ""
             }
            },
            "type": "scatterternary"
           }
          ],
          "surface": [
           {
            "colorbar": {
             "outlinewidth": 0,
             "ticks": ""
            },
            "colorscale": [
             [
              0,
              "#0d0887"
             ],
             [
              0.1111111111111111,
              "#46039f"
             ],
             [
              0.2222222222222222,
              "#7201a8"
             ],
             [
              0.3333333333333333,
              "#9c179e"
             ],
             [
              0.4444444444444444,
              "#bd3786"
             ],
             [
              0.5555555555555556,
              "#d8576b"
             ],
             [
              0.6666666666666666,
              "#ed7953"
             ],
             [
              0.7777777777777778,
              "#fb9f3a"
             ],
             [
              0.8888888888888888,
              "#fdca26"
             ],
             [
              1,
              "#f0f921"
             ]
            ],
            "type": "surface"
           }
          ],
          "table": [
           {
            "cells": {
             "fill": {
              "color": "#EBF0F8"
             },
             "line": {
              "color": "white"
             }
            },
            "header": {
             "fill": {
              "color": "#C8D4E3"
             },
             "line": {
              "color": "white"
             }
            },
            "type": "table"
           }
          ]
         },
         "layout": {
          "annotationdefaults": {
           "arrowcolor": "#2a3f5f",
           "arrowhead": 0,
           "arrowwidth": 1
          },
          "autotypenumbers": "strict",
          "coloraxis": {
           "colorbar": {
            "outlinewidth": 0,
            "ticks": ""
           }
          },
          "colorscale": {
           "diverging": [
            [
             0,
             "#8e0152"
            ],
            [
             0.1,
             "#c51b7d"
            ],
            [
             0.2,
             "#de77ae"
            ],
            [
             0.3,
             "#f1b6da"
            ],
            [
             0.4,
             "#fde0ef"
            ],
            [
             0.5,
             "#f7f7f7"
            ],
            [
             0.6,
             "#e6f5d0"
            ],
            [
             0.7,
             "#b8e186"
            ],
            [
             0.8,
             "#7fbc41"
            ],
            [
             0.9,
             "#4d9221"
            ],
            [
             1,
             "#276419"
            ]
           ],
           "sequential": [
            [
             0,
             "#0d0887"
            ],
            [
             0.1111111111111111,
             "#46039f"
            ],
            [
             0.2222222222222222,
             "#7201a8"
            ],
            [
             0.3333333333333333,
             "#9c179e"
            ],
            [
             0.4444444444444444,
             "#bd3786"
            ],
            [
             0.5555555555555556,
             "#d8576b"
            ],
            [
             0.6666666666666666,
             "#ed7953"
            ],
            [
             0.7777777777777778,
             "#fb9f3a"
            ],
            [
             0.8888888888888888,
             "#fdca26"
            ],
            [
             1,
             "#f0f921"
            ]
           ],
           "sequentialminus": [
            [
             0,
             "#0d0887"
            ],
            [
             0.1111111111111111,
             "#46039f"
            ],
            [
             0.2222222222222222,
             "#7201a8"
            ],
            [
             0.3333333333333333,
             "#9c179e"
            ],
            [
             0.4444444444444444,
             "#bd3786"
            ],
            [
             0.5555555555555556,
             "#d8576b"
            ],
            [
             0.6666666666666666,
             "#ed7953"
            ],
            [
             0.7777777777777778,
             "#fb9f3a"
            ],
            [
             0.8888888888888888,
             "#fdca26"
            ],
            [
             1,
             "#f0f921"
            ]
           ]
          },
          "colorway": [
           "#636efa",
           "#EF553B",
           "#00cc96",
           "#ab63fa",
           "#FFA15A",
           "#19d3f3",
           "#FF6692",
           "#B6E880",
           "#FF97FF",
           "#FECB52"
          ],
          "font": {
           "color": "#2a3f5f"
          },
          "geo": {
           "bgcolor": "white",
           "lakecolor": "white",
           "landcolor": "#E5ECF6",
           "showlakes": true,
           "showland": true,
           "subunitcolor": "white"
          },
          "hoverlabel": {
           "align": "left"
          },
          "hovermode": "closest",
          "mapbox": {
           "style": "light"
          },
          "paper_bgcolor": "white",
          "plot_bgcolor": "#E5ECF6",
          "polar": {
           "angularaxis": {
            "gridcolor": "white",
            "linecolor": "white",
            "ticks": ""
           },
           "bgcolor": "#E5ECF6",
           "radialaxis": {
            "gridcolor": "white",
            "linecolor": "white",
            "ticks": ""
           }
          },
          "scene": {
           "xaxis": {
            "backgroundcolor": "#E5ECF6",
            "gridcolor": "white",
            "gridwidth": 2,
            "linecolor": "white",
            "showbackground": true,
            "ticks": "",
            "zerolinecolor": "white"
           },
           "yaxis": {
            "backgroundcolor": "#E5ECF6",
            "gridcolor": "white",
            "gridwidth": 2,
            "linecolor": "white",
            "showbackground": true,
            "ticks": "",
            "zerolinecolor": "white"
           },
           "zaxis": {
            "backgroundcolor": "#E5ECF6",
            "gridcolor": "white",
            "gridwidth": 2,
            "linecolor": "white",
            "showbackground": true,
            "ticks": "",
            "zerolinecolor": "white"
           }
          },
          "shapedefaults": {
           "line": {
            "color": "#2a3f5f"
           }
          },
          "ternary": {
           "aaxis": {
            "gridcolor": "white",
            "linecolor": "white",
            "ticks": ""
           },
           "baxis": {
            "gridcolor": "white",
            "linecolor": "white",
            "ticks": ""
           },
           "bgcolor": "#E5ECF6",
           "caxis": {
            "gridcolor": "white",
            "linecolor": "white",
            "ticks": ""
           }
          },
          "title": {
           "x": 0.05
          },
          "xaxis": {
           "automargin": true,
           "gridcolor": "white",
           "linecolor": "white",
           "ticks": "",
           "title": {
            "standoff": 15
           },
           "zerolinecolor": "white",
           "zerolinewidth": 2
          },
          "yaxis": {
           "automargin": true,
           "gridcolor": "white",
           "linecolor": "white",
           "ticks": "",
           "title": {
            "standoff": 15
           },
           "zerolinecolor": "white",
           "zerolinewidth": 2
          }
         }
        },
        "title": {
         "text": "Spacecraft 3-1 Access, In Fov, and Connected"
        },
        "xaxis": {
         "anchor": "y",
         "domain": [
          0,
          1
         ],
         "type": "date"
        },
        "yaxis": {
         "anchor": "x",
         "categoryorder": "total ascending",
         "domain": [
          0,
          1
         ],
         "title": {
          "text": "antenna"
         }
        }
       }
      }
     },
     "metadata": {},
     "output_type": "display_data"
    },
    {
     "data": {
      "application/vnd.plotly.v1+json": {
       "config": {
        "plotlyServerURL": "https://plot.ly"
       },
       "data": [
        {
         "alignmentgroup": "True",
         "base": [
          "2024-10-31T00:00:00.000086+00:00",
          "2024-10-31T04:20:50.000086+00:00",
          "2024-10-31T05:59:30.000087+00:00",
          "2024-10-31T07:41:30.000086+00:00",
          "2024-10-31T09:24:40.000086+00:00",
          "2024-10-31T11:06:40.000086+00:00",
          "2024-10-31T01:14:00.000086+00:00",
          "2024-10-31T04:41:30.000086+00:00",
          "2024-10-31T06:20:50.000087+00:00",
          "2024-10-31T08:01:10.000086+00:00",
          "2024-10-31T09:46:00.000086+00:00",
          "2024-10-31T09:07:00.000086+00:00",
          "2024-10-31T10:45:20.000086+00:00",
          "2024-10-31T01:01:30.000086+00:00",
          "2024-10-31T02:46:40.000086+00:00",
          "2024-10-31T09:40:00.000086+00:00",
          "2024-10-31T11:19:50.000087+00:00",
          "2024-10-31T02:35:30.000086+00:00",
          "2024-10-31T04:12:40.000086+00:00",
          "2024-10-31T05:57:10.000086+00:00",
          "2024-10-31T00:02:10.000086+00:00",
          "2024-10-31T01:41:40.000086+00:00",
          "2024-10-31T00:08:10.000086+00:00",
          "2024-10-31T10:35:40.000086+00:00",
          "2024-10-31T11:30:30.000087+00:00",
          "2024-10-31T00:41:00.000086+00:00",
          "2024-10-31T02:25:30.000086+00:00",
          "2024-10-31T01:16:40.000086+00:00",
          "2024-10-31T02:53:30.000086+00:00",
          "2024-10-31T04:31:50.000087+00:00",
          "2024-10-31T06:11:10.000086+00:00",
          "2024-10-31T07:50:40.000086+00:00",
          "2024-10-31T09:30:50.000087+00:00"
         ],
         "hovertemplate": "type=access<br>start=%{base}<br>end=%{x}<br>antenna=%{y}<extra></extra>",
         "legendgroup": "access",
         "marker": {
          "color": "#636efa",
          "pattern": {
           "shape": ""
          }
         },
         "name": "access",
         "offsetgroup": "access",
         "orientation": "h",
         "showlegend": true,
         "textposition": "auto",
         "type": "bar",
         "x": [
          130000,
          670000,
          819999.999,
          730000,
          610000,
          680000.001,
          510000,
          420000,
          759999.999,
          790000,
          140000,
          610000,
          810000,
          810000,
          350000,
          710000,
          789999.999,
          480000.001,
          820000,
          380000,
          670000,
          780000,
          740000,
          790000,
          809999.999,
          770000,
          120000.001,
          420000,
          640000,
          729999.999,
          730000,
          690000,
          529999.999
         ],
         "xaxis": "x",
         "y": [
          "Dundee",
          "Chitose",
          "Chitose",
          "Chitose",
          "Chitose",
          "Chitose",
          "Mojave",
          "Mojave",
          "Mojave",
          "Mojave",
          "Mojave",
          "Dubai",
          "Dubai",
          "Paumalu",
          "Paumalu",
          "Paumalu",
          "Paumalu",
          "Harmon",
          "Harmon",
          "Harmon",
          "Sunyani",
          "Sunyani",
          "Mwulire",
          "Mwulire",
          "Tahiti",
          "Awarua",
          "Awarua",
          "Utqiagvik",
          "Utqiagvik",
          "Utqiagvik",
          "Utqiagvik",
          "Utqiagvik",
          "Utqiagvik"
         ],
         "yaxis": "y"
        },
        {
         "alignmentgroup": "True",
         "base": [
          "2024-10-31T04:26:50.000086+00:00",
          "2024-10-31T07:41:30.000086+00:00",
          "2024-10-31T07:47:20.000086+00:00",
          "2024-10-31T09:25:10.000086+00:00",
          "2024-10-31T11:06:40.000086+00:00",
          "2024-10-31T11:15:50.000086+00:00",
          "2024-10-31T08:05:40.000086+00:00",
          "2024-10-31T08:06:20.000086+00:00",
          "2024-10-31T09:07:00.000086+00:00",
          "2024-10-31T01:02:10.000086+00:00",
          "2024-10-31T02:46:40.000086+00:00",
          "2024-10-31T11:19:50.000087+00:00",
          "2024-10-31T02:42:30.000086+00:00",
          "2024-10-31T04:13:10.000086+00:00",
          "2024-10-31T01:41:40.000086+00:00",
          "2024-10-31T00:08:10.000086+00:00",
          "2024-10-31T00:13:30.000086+00:00",
          "2024-10-31T10:35:40.000086+00:00",
          "2024-10-31T10:38:30.000086+00:00",
          "2024-10-31T11:30:30.000087+00:00",
          "2024-10-31T00:41:00.000086+00:00",
          "2024-10-31T07:50:40.000086+00:00",
          "2024-10-31T09:30:50.000087+00:00"
         ],
         "hovertemplate": "type=inFov<br>start=%{base}<br>end=%{x}<br>antenna=%{y}<extra></extra>",
         "legendgroup": "inFov",
         "marker": {
          "color": "#EF553B",
          "pattern": {
           "shape": ""
          }
         },
         "name": "inFov",
         "offsetgroup": "inFov",
         "orientation": "h",
         "showlegend": true,
         "textposition": "auto",
         "type": "bar",
         "x": [
          90000.001,
          40000,
          210000.001,
          190000,
          420000,
          120000,
          30000.001,
          470000,
          600000,
          760000,
          340000,
          189999.999,
          50000,
          780000,
          770000,
          180000,
          290000,
          120000,
          180000,
          799999.999,
          200000,
          100000,
          119999.999
         ],
         "xaxis": "x",
         "y": [
          "Chitose",
          "Chitose",
          "Chitose",
          "Chitose",
          "Chitose",
          "Chitose",
          "Mojave",
          "Mojave",
          "Dubai",
          "Paumalu",
          "Paumalu",
          "Paumalu",
          "Harmon",
          "Harmon",
          "Sunyani",
          "Mwulire",
          "Mwulire",
          "Mwulire",
          "Mwulire",
          "Tahiti",
          "Awarua",
          "Utqiagvik",
          "Utqiagvik"
         ],
         "yaxis": "y"
        },
        {
         "alignmentgroup": "True",
         "base": [
          "2024-10-31T07:47:20.000086+00:00",
          "2024-10-31T11:06:40.000086+00:00",
          "2024-10-31T11:15:50.000086+00:00",
          "2024-10-31T08:06:20.000086+00:00",
          "2024-10-31T09:07:00.000086+00:00",
          "2024-10-31T01:02:10.000086+00:00",
          "2024-10-31T02:46:40.000086+00:00",
          "2024-10-31T02:42:30.000086+00:00",
          "2024-10-31T04:13:10.000086+00:00",
          "2024-10-31T01:42:00.000086+00:00",
          "2024-10-31T00:13:30.000086+00:00",
          "2024-10-31T10:38:30.000086+00:00",
          "2024-10-31T11:30:30.000087+00:00"
         ],
         "hovertemplate": "type=connected<br>start=%{base}<br>end=%{x}<br>antenna=%{y}<extra></extra>",
         "legendgroup": "connected",
         "marker": {
          "color": "#00cc96",
          "pattern": {
           "shape": ""
          }
         },
         "name": "connected",
         "offsetgroup": "connected",
         "orientation": "h",
         "showlegend": true,
         "textposition": "auto",
         "type": "bar",
         "x": [
          210000.001,
          420000,
          120000,
          470000,
          600000,
          760000,
          340000,
          50000,
          780000,
          750000,
          290000,
          180000,
          799999.999
         ],
         "xaxis": "x",
         "y": [
          "Chitose",
          "Chitose",
          "Chitose",
          "Mojave",
          "Dubai",
          "Paumalu",
          "Paumalu",
          "Harmon",
          "Harmon",
          "Sunyani",
          "Mwulire",
          "Mwulire",
          "Tahiti"
         ],
         "yaxis": "y"
        }
       ],
       "layout": {
        "barmode": "overlay",
        "legend": {
         "title": {
          "text": "type"
         },
         "tracegroupgap": 0
        },
        "margin": {
         "t": 60
        },
        "template": {
         "data": {
          "bar": [
           {
            "error_x": {
             "color": "#2a3f5f"
            },
            "error_y": {
             "color": "#2a3f5f"
            },
            "marker": {
             "line": {
              "color": "#E5ECF6",
              "width": 0.5
             },
             "pattern": {
              "fillmode": "overlay",
              "size": 10,
              "solidity": 0.2
             }
            },
            "type": "bar"
           }
          ],
          "barpolar": [
           {
            "marker": {
             "line": {
              "color": "#E5ECF6",
              "width": 0.5
             },
             "pattern": {
              "fillmode": "overlay",
              "size": 10,
              "solidity": 0.2
             }
            },
            "type": "barpolar"
           }
          ],
          "carpet": [
           {
            "aaxis": {
             "endlinecolor": "#2a3f5f",
             "gridcolor": "white",
             "linecolor": "white",
             "minorgridcolor": "white",
             "startlinecolor": "#2a3f5f"
            },
            "baxis": {
             "endlinecolor": "#2a3f5f",
             "gridcolor": "white",
             "linecolor": "white",
             "minorgridcolor": "white",
             "startlinecolor": "#2a3f5f"
            },
            "type": "carpet"
           }
          ],
          "choropleth": [
           {
            "colorbar": {
             "outlinewidth": 0,
             "ticks": ""
            },
            "type": "choropleth"
           }
          ],
          "contour": [
           {
            "colorbar": {
             "outlinewidth": 0,
             "ticks": ""
            },
            "colorscale": [
             [
              0,
              "#0d0887"
             ],
             [
              0.1111111111111111,
              "#46039f"
             ],
             [
              0.2222222222222222,
              "#7201a8"
             ],
             [
              0.3333333333333333,
              "#9c179e"
             ],
             [
              0.4444444444444444,
              "#bd3786"
             ],
             [
              0.5555555555555556,
              "#d8576b"
             ],
             [
              0.6666666666666666,
              "#ed7953"
             ],
             [
              0.7777777777777778,
              "#fb9f3a"
             ],
             [
              0.8888888888888888,
              "#fdca26"
             ],
             [
              1,
              "#f0f921"
             ]
            ],
            "type": "contour"
           }
          ],
          "contourcarpet": [
           {
            "colorbar": {
             "outlinewidth": 0,
             "ticks": ""
            },
            "type": "contourcarpet"
           }
          ],
          "heatmap": [
           {
            "colorbar": {
             "outlinewidth": 0,
             "ticks": ""
            },
            "colorscale": [
             [
              0,
              "#0d0887"
             ],
             [
              0.1111111111111111,
              "#46039f"
             ],
             [
              0.2222222222222222,
              "#7201a8"
             ],
             [
              0.3333333333333333,
              "#9c179e"
             ],
             [
              0.4444444444444444,
              "#bd3786"
             ],
             [
              0.5555555555555556,
              "#d8576b"
             ],
             [
              0.6666666666666666,
              "#ed7953"
             ],
             [
              0.7777777777777778,
              "#fb9f3a"
             ],
             [
              0.8888888888888888,
              "#fdca26"
             ],
             [
              1,
              "#f0f921"
             ]
            ],
            "type": "heatmap"
           }
          ],
          "heatmapgl": [
           {
            "colorbar": {
             "outlinewidth": 0,
             "ticks": ""
            },
            "colorscale": [
             [
              0,
              "#0d0887"
             ],
             [
              0.1111111111111111,
              "#46039f"
             ],
             [
              0.2222222222222222,
              "#7201a8"
             ],
             [
              0.3333333333333333,
              "#9c179e"
             ],
             [
              0.4444444444444444,
              "#bd3786"
             ],
             [
              0.5555555555555556,
              "#d8576b"
             ],
             [
              0.6666666666666666,
              "#ed7953"
             ],
             [
              0.7777777777777778,
              "#fb9f3a"
             ],
             [
              0.8888888888888888,
              "#fdca26"
             ],
             [
              1,
              "#f0f921"
             ]
            ],
            "type": "heatmapgl"
           }
          ],
          "histogram": [
           {
            "marker": {
             "pattern": {
              "fillmode": "overlay",
              "size": 10,
              "solidity": 0.2
             }
            },
            "type": "histogram"
           }
          ],
          "histogram2d": [
           {
            "colorbar": {
             "outlinewidth": 0,
             "ticks": ""
            },
            "colorscale": [
             [
              0,
              "#0d0887"
             ],
             [
              0.1111111111111111,
              "#46039f"
             ],
             [
              0.2222222222222222,
              "#7201a8"
             ],
             [
              0.3333333333333333,
              "#9c179e"
             ],
             [
              0.4444444444444444,
              "#bd3786"
             ],
             [
              0.5555555555555556,
              "#d8576b"
             ],
             [
              0.6666666666666666,
              "#ed7953"
             ],
             [
              0.7777777777777778,
              "#fb9f3a"
             ],
             [
              0.8888888888888888,
              "#fdca26"
             ],
             [
              1,
              "#f0f921"
             ]
            ],
            "type": "histogram2d"
           }
          ],
          "histogram2dcontour": [
           {
            "colorbar": {
             "outlinewidth": 0,
             "ticks": ""
            },
            "colorscale": [
             [
              0,
              "#0d0887"
             ],
             [
              0.1111111111111111,
              "#46039f"
             ],
             [
              0.2222222222222222,
              "#7201a8"
             ],
             [
              0.3333333333333333,
              "#9c179e"
             ],
             [
              0.4444444444444444,
              "#bd3786"
             ],
             [
              0.5555555555555556,
              "#d8576b"
             ],
             [
              0.6666666666666666,
              "#ed7953"
             ],
             [
              0.7777777777777778,
              "#fb9f3a"
             ],
             [
              0.8888888888888888,
              "#fdca26"
             ],
             [
              1,
              "#f0f921"
             ]
            ],
            "type": "histogram2dcontour"
           }
          ],
          "mesh3d": [
           {
            "colorbar": {
             "outlinewidth": 0,
             "ticks": ""
            },
            "type": "mesh3d"
           }
          ],
          "parcoords": [
           {
            "line": {
             "colorbar": {
              "outlinewidth": 0,
              "ticks": ""
             }
            },
            "type": "parcoords"
           }
          ],
          "pie": [
           {
            "automargin": true,
            "type": "pie"
           }
          ],
          "scatter": [
           {
            "fillpattern": {
             "fillmode": "overlay",
             "size": 10,
             "solidity": 0.2
            },
            "type": "scatter"
           }
          ],
          "scatter3d": [
           {
            "line": {
             "colorbar": {
              "outlinewidth": 0,
              "ticks": ""
             }
            },
            "marker": {
             "colorbar": {
              "outlinewidth": 0,
              "ticks": ""
             }
            },
            "type": "scatter3d"
           }
          ],
          "scattercarpet": [
           {
            "marker": {
             "colorbar": {
              "outlinewidth": 0,
              "ticks": ""
             }
            },
            "type": "scattercarpet"
           }
          ],
          "scattergeo": [
           {
            "marker": {
             "colorbar": {
              "outlinewidth": 0,
              "ticks": ""
             }
            },
            "type": "scattergeo"
           }
          ],
          "scattergl": [
           {
            "marker": {
             "colorbar": {
              "outlinewidth": 0,
              "ticks": ""
             }
            },
            "type": "scattergl"
           }
          ],
          "scattermapbox": [
           {
            "marker": {
             "colorbar": {
              "outlinewidth": 0,
              "ticks": ""
             }
            },
            "type": "scattermapbox"
           }
          ],
          "scatterpolar": [
           {
            "marker": {
             "colorbar": {
              "outlinewidth": 0,
              "ticks": ""
             }
            },
            "type": "scatterpolar"
           }
          ],
          "scatterpolargl": [
           {
            "marker": {
             "colorbar": {
              "outlinewidth": 0,
              "ticks": ""
             }
            },
            "type": "scatterpolargl"
           }
          ],
          "scatterternary": [
           {
            "marker": {
             "colorbar": {
              "outlinewidth": 0,
              "ticks": ""
             }
            },
            "type": "scatterternary"
           }
          ],
          "surface": [
           {
            "colorbar": {
             "outlinewidth": 0,
             "ticks": ""
            },
            "colorscale": [
             [
              0,
              "#0d0887"
             ],
             [
              0.1111111111111111,
              "#46039f"
             ],
             [
              0.2222222222222222,
              "#7201a8"
             ],
             [
              0.3333333333333333,
              "#9c179e"
             ],
             [
              0.4444444444444444,
              "#bd3786"
             ],
             [
              0.5555555555555556,
              "#d8576b"
             ],
             [
              0.6666666666666666,
              "#ed7953"
             ],
             [
              0.7777777777777778,
              "#fb9f3a"
             ],
             [
              0.8888888888888888,
              "#fdca26"
             ],
             [
              1,
              "#f0f921"
             ]
            ],
            "type": "surface"
           }
          ],
          "table": [
           {
            "cells": {
             "fill": {
              "color": "#EBF0F8"
             },
             "line": {
              "color": "white"
             }
            },
            "header": {
             "fill": {
              "color": "#C8D4E3"
             },
             "line": {
              "color": "white"
             }
            },
            "type": "table"
           }
          ]
         },
         "layout": {
          "annotationdefaults": {
           "arrowcolor": "#2a3f5f",
           "arrowhead": 0,
           "arrowwidth": 1
          },
          "autotypenumbers": "strict",
          "coloraxis": {
           "colorbar": {
            "outlinewidth": 0,
            "ticks": ""
           }
          },
          "colorscale": {
           "diverging": [
            [
             0,
             "#8e0152"
            ],
            [
             0.1,
             "#c51b7d"
            ],
            [
             0.2,
             "#de77ae"
            ],
            [
             0.3,
             "#f1b6da"
            ],
            [
             0.4,
             "#fde0ef"
            ],
            [
             0.5,
             "#f7f7f7"
            ],
            [
             0.6,
             "#e6f5d0"
            ],
            [
             0.7,
             "#b8e186"
            ],
            [
             0.8,
             "#7fbc41"
            ],
            [
             0.9,
             "#4d9221"
            ],
            [
             1,
             "#276419"
            ]
           ],
           "sequential": [
            [
             0,
             "#0d0887"
            ],
            [
             0.1111111111111111,
             "#46039f"
            ],
            [
             0.2222222222222222,
             "#7201a8"
            ],
            [
             0.3333333333333333,
             "#9c179e"
            ],
            [
             0.4444444444444444,
             "#bd3786"
            ],
            [
             0.5555555555555556,
             "#d8576b"
            ],
            [
             0.6666666666666666,
             "#ed7953"
            ],
            [
             0.7777777777777778,
             "#fb9f3a"
            ],
            [
             0.8888888888888888,
             "#fdca26"
            ],
            [
             1,
             "#f0f921"
            ]
           ],
           "sequentialminus": [
            [
             0,
             "#0d0887"
            ],
            [
             0.1111111111111111,
             "#46039f"
            ],
            [
             0.2222222222222222,
             "#7201a8"
            ],
            [
             0.3333333333333333,
             "#9c179e"
            ],
            [
             0.4444444444444444,
             "#bd3786"
            ],
            [
             0.5555555555555556,
             "#d8576b"
            ],
            [
             0.6666666666666666,
             "#ed7953"
            ],
            [
             0.7777777777777778,
             "#fb9f3a"
            ],
            [
             0.8888888888888888,
             "#fdca26"
            ],
            [
             1,
             "#f0f921"
            ]
           ]
          },
          "colorway": [
           "#636efa",
           "#EF553B",
           "#00cc96",
           "#ab63fa",
           "#FFA15A",
           "#19d3f3",
           "#FF6692",
           "#B6E880",
           "#FF97FF",
           "#FECB52"
          ],
          "font": {
           "color": "#2a3f5f"
          },
          "geo": {
           "bgcolor": "white",
           "lakecolor": "white",
           "landcolor": "#E5ECF6",
           "showlakes": true,
           "showland": true,
           "subunitcolor": "white"
          },
          "hoverlabel": {
           "align": "left"
          },
          "hovermode": "closest",
          "mapbox": {
           "style": "light"
          },
          "paper_bgcolor": "white",
          "plot_bgcolor": "#E5ECF6",
          "polar": {
           "angularaxis": {
            "gridcolor": "white",
            "linecolor": "white",
            "ticks": ""
           },
           "bgcolor": "#E5ECF6",
           "radialaxis": {
            "gridcolor": "white",
            "linecolor": "white",
            "ticks": ""
           }
          },
          "scene": {
           "xaxis": {
            "backgroundcolor": "#E5ECF6",
            "gridcolor": "white",
            "gridwidth": 2,
            "linecolor": "white",
            "showbackground": true,
            "ticks": "",
            "zerolinecolor": "white"
           },
           "yaxis": {
            "backgroundcolor": "#E5ECF6",
            "gridcolor": "white",
            "gridwidth": 2,
            "linecolor": "white",
            "showbackground": true,
            "ticks": "",
            "zerolinecolor": "white"
           },
           "zaxis": {
            "backgroundcolor": "#E5ECF6",
            "gridcolor": "white",
            "gridwidth": 2,
            "linecolor": "white",
            "showbackground": true,
            "ticks": "",
            "zerolinecolor": "white"
           }
          },
          "shapedefaults": {
           "line": {
            "color": "#2a3f5f"
           }
          },
          "ternary": {
           "aaxis": {
            "gridcolor": "white",
            "linecolor": "white",
            "ticks": ""
           },
           "baxis": {
            "gridcolor": "white",
            "linecolor": "white",
            "ticks": ""
           },
           "bgcolor": "#E5ECF6",
           "caxis": {
            "gridcolor": "white",
            "linecolor": "white",
            "ticks": ""
           }
          },
          "title": {
           "x": 0.05
          },
          "xaxis": {
           "automargin": true,
           "gridcolor": "white",
           "linecolor": "white",
           "ticks": "",
           "title": {
            "standoff": 15
           },
           "zerolinecolor": "white",
           "zerolinewidth": 2
          },
          "yaxis": {
           "automargin": true,
           "gridcolor": "white",
           "linecolor": "white",
           "ticks": "",
           "title": {
            "standoff": 15
           },
           "zerolinecolor": "white",
           "zerolinewidth": 2
          }
         }
        },
        "title": {
         "text": "Spacecraft 3-2 Access, In Fov, and Connected"
        },
        "xaxis": {
         "anchor": "y",
         "domain": [
          0,
          1
         ],
         "type": "date"
        },
        "yaxis": {
         "anchor": "x",
         "categoryorder": "total ascending",
         "domain": [
          0,
          1
         ],
         "title": {
          "text": "antenna"
         }
        }
       }
      }
     },
     "metadata": {},
     "output_type": "display_data"
    },
    {
     "data": {
      "application/vnd.plotly.v1+json": {
       "config": {
        "plotlyServerURL": "https://plot.ly"
       },
       "data": [
        {
         "alignmentgroup": "True",
         "base": [
          "2024-10-31T01:20:10.000086+00:00",
          "2024-10-31T04:08:40.000086+00:00",
          "2024-10-31T05:46:30.000087+00:00",
          "2024-10-31T07:27:50.000086+00:00",
          "2024-10-31T09:11:00.000086+00:00",
          "2024-10-31T10:53:00.000086+00:00",
          "2024-10-31T01:00:40.000086+00:00",
          "2024-10-31T04:28:50.000086+00:00",
          "2024-10-31T06:07:50.000086+00:00",
          "2024-10-31T07:47:50.000087+00:00",
          "2024-10-31T09:30:40.000086+00:00",
          "2024-10-31T08:54:40.000086+00:00",
          "2024-10-31T10:31:50.000087+00:00",
          "2024-10-31T00:49:00.000086+00:00",
          "2024-10-31T02:32:40.000086+00:00",
          "2024-10-31T09:27:00.000086+00:00",
          "2024-10-31T11:06:10.000087+00:00",
          "2024-10-31T02:24:20.000086+00:00",
          "2024-10-31T04:00:00.000086+00:00",
          "2024-10-31T05:43:00.000086+00:00",
          "2024-10-31T00:00:00.000086+00:00",
          "2024-10-31T01:28:50.000086+00:00",
          "2024-10-31T00:00:00.000086+00:00",
          "2024-10-31T10:22:30.000086+00:00",
          "2024-10-31T11:17:10.000086+00:00",
          "2024-10-31T00:28:30.000087+00:00",
          "2024-10-31T02:11:20.000086+00:00",
          "2024-10-31T01:04:50.000086+00:00",
          "2024-10-31T02:41:00.000086+00:00",
          "2024-10-31T04:19:10.000086+00:00",
          "2024-10-31T05:58:10.000086+00:00",
          "2024-10-31T07:37:40.000086+00:00",
          "2024-10-31T09:17:30.000086+00:00"
         ],
         "hovertemplate": "type=access<br>start=%{base}<br>end=%{x}<br>antenna=%{y}<extra></extra>",
         "legendgroup": "access",
         "marker": {
          "color": "#636efa",
          "pattern": {
           "shape": ""
          }
         },
         "name": "access",
         "offsetgroup": "access",
         "orientation": "h",
         "showlegend": true,
         "textposition": "auto",
         "type": "bar",
         "x": [
          290000,
          600000,
          809999.999,
          750000,
          610000,
          660000,
          560000,
          340000,
          730000,
          809999.999,
          390000,
          490000,
          809999.999,
          800000,
          470000.001,
          650000,
          799999.999,
          290000,
          800000,
          500000,
          10000,
          800000,
          500000.001,
          750000,
          780000,
          780000,
          330000.001,
          360000,
          620000,
          710000,
          730000,
          680000.001,
          550000
         ],
         "xaxis": "x",
         "y": [
          "Dundee",
          "Chitose",
          "Chitose",
          "Chitose",
          "Chitose",
          "Chitose",
          "Mojave",
          "Mojave",
          "Mojave",
          "Mojave",
          "Mojave",
          "Dubai",
          "Dubai",
          "Paumalu",
          "Paumalu",
          "Paumalu",
          "Paumalu",
          "Harmon",
          "Harmon",
          "Harmon",
          "Sunyani",
          "Sunyani",
          "Mwulire",
          "Mwulire",
          "Tahiti",
          "Awarua",
          "Awarua",
          "Utqiagvik",
          "Utqiagvik",
          "Utqiagvik",
          "Utqiagvik",
          "Utqiagvik",
          "Utqiagvik"
         ],
         "yaxis": "y"
        },
        {
         "alignmentgroup": "True",
         "base": [
          "2024-10-31T04:14:30.000086+00:00",
          "2024-10-31T07:28:20.000087+00:00",
          "2024-10-31T07:36:10.000086+00:00",
          "2024-10-31T09:12:00.000086+00:00",
          "2024-10-31T09:17:00.000086+00:00",
          "2024-10-31T10:53:00.000086+00:00",
          "2024-10-31T01:00:40.000086+00:00",
          "2024-10-31T04:28:50.000086+00:00",
          "2024-10-31T07:49:00.000087+00:00",
          "2024-10-31T08:54:40.000086+00:00",
          "2024-10-31T10:35:00.000086+00:00",
          "2024-10-31T10:42:20.000086+00:00",
          "2024-10-31T00:49:50.000087+00:00",
          "2024-10-31T02:32:40.000086+00:00",
          "2024-10-31T11:06:10.000087+00:00",
          "2024-10-31T04:01:10.000086+00:00",
          "2024-10-31T01:28:50.000086+00:00",
          "2024-10-31T10:22:30.000086+00:00",
          "2024-10-31T10:26:30.000087+00:00",
          "2024-10-31T11:18:40.000087+00:00",
          "2024-10-31T00:28:30.000087+00:00",
          "2024-10-31T02:11:20.000086+00:00",
          "2024-10-31T07:37:40.000086+00:00",
          "2024-10-31T09:17:30.000086+00:00"
         ],
         "hovertemplate": "type=inFov<br>start=%{base}<br>end=%{x}<br>antenna=%{y}<extra></extra>",
         "legendgroup": "inFov",
         "marker": {
          "color": "#EF553B",
          "pattern": {
           "shape": ""
          }
         },
         "name": "inFov",
         "offsetgroup": "inFov",
         "orientation": "h",
         "showlegend": true,
         "textposition": "auto",
         "type": "bar",
         "x": [
          100000,
          109999.999,
          130000.001,
          180000,
          70000,
          650000.001,
          60000.001,
          330000,
          39999.999,
          490000,
          300000,
          150000,
          739999.999,
          460000,
          189999.999,
          720000,
          190000,
          30000.001,
          149999.999,
          689999.999,
          199999.999,
          70000,
          80000.001,
          120000
         ],
         "xaxis": "x",
         "y": [
          "Chitose",
          "Chitose",
          "Chitose",
          "Chitose",
          "Chitose",
          "Chitose",
          "Mojave",
          "Mojave",
          "Mojave",
          "Dubai",
          "Dubai",
          "Dubai",
          "Paumalu",
          "Paumalu",
          "Paumalu",
          "Harmon",
          "Sunyani",
          "Mwulire",
          "Mwulire",
          "Tahiti",
          "Awarua",
          "Awarua",
          "Utqiagvik",
          "Utqiagvik"
         ],
         "yaxis": "y"
        },
        {
         "alignmentgroup": "True",
         "base": [
          "2024-10-31T07:36:10.000086+00:00",
          "2024-10-31T09:17:00.000086+00:00",
          "2024-10-31T10:53:10.000087+00:00",
          "2024-10-31T04:28:50.000086+00:00",
          "2024-10-31T08:54:40.000086+00:00",
          "2024-10-31T10:35:00.000086+00:00",
          "2024-10-31T00:49:50.000087+00:00",
          "2024-10-31T02:32:40.000086+00:00",
          "2024-10-31T04:01:10.000086+00:00",
          "2024-10-31T01:30:00.000086+00:00",
          "2024-10-31T10:26:30.000087+00:00",
          "2024-10-31T11:18:40.000087+00:00"
         ],
         "hovertemplate": "type=connected<br>start=%{base}<br>end=%{x}<br>antenna=%{y}<extra></extra>",
         "legendgroup": "connected",
         "marker": {
          "color": "#00cc96",
          "pattern": {
           "shape": ""
          }
         },
         "name": "connected",
         "offsetgroup": "connected",
         "orientation": "h",
         "showlegend": true,
         "textposition": "auto",
         "type": "bar",
         "x": [
          130000.001,
          70000,
          640000,
          330000,
          490000,
          300000,
          739999.999,
          460000,
          720000,
          110000.001,
          149999.999,
          689999.999
         ],
         "xaxis": "x",
         "y": [
          "Chitose",
          "Chitose",
          "Chitose",
          "Mojave",
          "Dubai",
          "Dubai",
          "Paumalu",
          "Paumalu",
          "Harmon",
          "Sunyani",
          "Mwulire",
          "Tahiti"
         ],
         "yaxis": "y"
        }
       ],
       "layout": {
        "barmode": "overlay",
        "legend": {
         "title": {
          "text": "type"
         },
         "tracegroupgap": 0
        },
        "margin": {
         "t": 60
        },
        "template": {
         "data": {
          "bar": [
           {
            "error_x": {
             "color": "#2a3f5f"
            },
            "error_y": {
             "color": "#2a3f5f"
            },
            "marker": {
             "line": {
              "color": "#E5ECF6",
              "width": 0.5
             },
             "pattern": {
              "fillmode": "overlay",
              "size": 10,
              "solidity": 0.2
             }
            },
            "type": "bar"
           }
          ],
          "barpolar": [
           {
            "marker": {
             "line": {
              "color": "#E5ECF6",
              "width": 0.5
             },
             "pattern": {
              "fillmode": "overlay",
              "size": 10,
              "solidity": 0.2
             }
            },
            "type": "barpolar"
           }
          ],
          "carpet": [
           {
            "aaxis": {
             "endlinecolor": "#2a3f5f",
             "gridcolor": "white",
             "linecolor": "white",
             "minorgridcolor": "white",
             "startlinecolor": "#2a3f5f"
            },
            "baxis": {
             "endlinecolor": "#2a3f5f",
             "gridcolor": "white",
             "linecolor": "white",
             "minorgridcolor": "white",
             "startlinecolor": "#2a3f5f"
            },
            "type": "carpet"
           }
          ],
          "choropleth": [
           {
            "colorbar": {
             "outlinewidth": 0,
             "ticks": ""
            },
            "type": "choropleth"
           }
          ],
          "contour": [
           {
            "colorbar": {
             "outlinewidth": 0,
             "ticks": ""
            },
            "colorscale": [
             [
              0,
              "#0d0887"
             ],
             [
              0.1111111111111111,
              "#46039f"
             ],
             [
              0.2222222222222222,
              "#7201a8"
             ],
             [
              0.3333333333333333,
              "#9c179e"
             ],
             [
              0.4444444444444444,
              "#bd3786"
             ],
             [
              0.5555555555555556,
              "#d8576b"
             ],
             [
              0.6666666666666666,
              "#ed7953"
             ],
             [
              0.7777777777777778,
              "#fb9f3a"
             ],
             [
              0.8888888888888888,
              "#fdca26"
             ],
             [
              1,
              "#f0f921"
             ]
            ],
            "type": "contour"
           }
          ],
          "contourcarpet": [
           {
            "colorbar": {
             "outlinewidth": 0,
             "ticks": ""
            },
            "type": "contourcarpet"
           }
          ],
          "heatmap": [
           {
            "colorbar": {
             "outlinewidth": 0,
             "ticks": ""
            },
            "colorscale": [
             [
              0,
              "#0d0887"
             ],
             [
              0.1111111111111111,
              "#46039f"
             ],
             [
              0.2222222222222222,
              "#7201a8"
             ],
             [
              0.3333333333333333,
              "#9c179e"
             ],
             [
              0.4444444444444444,
              "#bd3786"
             ],
             [
              0.5555555555555556,
              "#d8576b"
             ],
             [
              0.6666666666666666,
              "#ed7953"
             ],
             [
              0.7777777777777778,
              "#fb9f3a"
             ],
             [
              0.8888888888888888,
              "#fdca26"
             ],
             [
              1,
              "#f0f921"
             ]
            ],
            "type": "heatmap"
           }
          ],
          "heatmapgl": [
           {
            "colorbar": {
             "outlinewidth": 0,
             "ticks": ""
            },
            "colorscale": [
             [
              0,
              "#0d0887"
             ],
             [
              0.1111111111111111,
              "#46039f"
             ],
             [
              0.2222222222222222,
              "#7201a8"
             ],
             [
              0.3333333333333333,
              "#9c179e"
             ],
             [
              0.4444444444444444,
              "#bd3786"
             ],
             [
              0.5555555555555556,
              "#d8576b"
             ],
             [
              0.6666666666666666,
              "#ed7953"
             ],
             [
              0.7777777777777778,
              "#fb9f3a"
             ],
             [
              0.8888888888888888,
              "#fdca26"
             ],
             [
              1,
              "#f0f921"
             ]
            ],
            "type": "heatmapgl"
           }
          ],
          "histogram": [
           {
            "marker": {
             "pattern": {
              "fillmode": "overlay",
              "size": 10,
              "solidity": 0.2
             }
            },
            "type": "histogram"
           }
          ],
          "histogram2d": [
           {
            "colorbar": {
             "outlinewidth": 0,
             "ticks": ""
            },
            "colorscale": [
             [
              0,
              "#0d0887"
             ],
             [
              0.1111111111111111,
              "#46039f"
             ],
             [
              0.2222222222222222,
              "#7201a8"
             ],
             [
              0.3333333333333333,
              "#9c179e"
             ],
             [
              0.4444444444444444,
              "#bd3786"
             ],
             [
              0.5555555555555556,
              "#d8576b"
             ],
             [
              0.6666666666666666,
              "#ed7953"
             ],
             [
              0.7777777777777778,
              "#fb9f3a"
             ],
             [
              0.8888888888888888,
              "#fdca26"
             ],
             [
              1,
              "#f0f921"
             ]
            ],
            "type": "histogram2d"
           }
          ],
          "histogram2dcontour": [
           {
            "colorbar": {
             "outlinewidth": 0,
             "ticks": ""
            },
            "colorscale": [
             [
              0,
              "#0d0887"
             ],
             [
              0.1111111111111111,
              "#46039f"
             ],
             [
              0.2222222222222222,
              "#7201a8"
             ],
             [
              0.3333333333333333,
              "#9c179e"
             ],
             [
              0.4444444444444444,
              "#bd3786"
             ],
             [
              0.5555555555555556,
              "#d8576b"
             ],
             [
              0.6666666666666666,
              "#ed7953"
             ],
             [
              0.7777777777777778,
              "#fb9f3a"
             ],
             [
              0.8888888888888888,
              "#fdca26"
             ],
             [
              1,
              "#f0f921"
             ]
            ],
            "type": "histogram2dcontour"
           }
          ],
          "mesh3d": [
           {
            "colorbar": {
             "outlinewidth": 0,
             "ticks": ""
            },
            "type": "mesh3d"
           }
          ],
          "parcoords": [
           {
            "line": {
             "colorbar": {
              "outlinewidth": 0,
              "ticks": ""
             }
            },
            "type": "parcoords"
           }
          ],
          "pie": [
           {
            "automargin": true,
            "type": "pie"
           }
          ],
          "scatter": [
           {
            "fillpattern": {
             "fillmode": "overlay",
             "size": 10,
             "solidity": 0.2
            },
            "type": "scatter"
           }
          ],
          "scatter3d": [
           {
            "line": {
             "colorbar": {
              "outlinewidth": 0,
              "ticks": ""
             }
            },
            "marker": {
             "colorbar": {
              "outlinewidth": 0,
              "ticks": ""
             }
            },
            "type": "scatter3d"
           }
          ],
          "scattercarpet": [
           {
            "marker": {
             "colorbar": {
              "outlinewidth": 0,
              "ticks": ""
             }
            },
            "type": "scattercarpet"
           }
          ],
          "scattergeo": [
           {
            "marker": {
             "colorbar": {
              "outlinewidth": 0,
              "ticks": ""
             }
            },
            "type": "scattergeo"
           }
          ],
          "scattergl": [
           {
            "marker": {
             "colorbar": {
              "outlinewidth": 0,
              "ticks": ""
             }
            },
            "type": "scattergl"
           }
          ],
          "scattermapbox": [
           {
            "marker": {
             "colorbar": {
              "outlinewidth": 0,
              "ticks": ""
             }
            },
            "type": "scattermapbox"
           }
          ],
          "scatterpolar": [
           {
            "marker": {
             "colorbar": {
              "outlinewidth": 0,
              "ticks": ""
             }
            },
            "type": "scatterpolar"
           }
          ],
          "scatterpolargl": [
           {
            "marker": {
             "colorbar": {
              "outlinewidth": 0,
              "ticks": ""
             }
            },
            "type": "scatterpolargl"
           }
          ],
          "scatterternary": [
           {
            "marker": {
             "colorbar": {
              "outlinewidth": 0,
              "ticks": ""
             }
            },
            "type": "scatterternary"
           }
          ],
          "surface": [
           {
            "colorbar": {
             "outlinewidth": 0,
             "ticks": ""
            },
            "colorscale": [
             [
              0,
              "#0d0887"
             ],
             [
              0.1111111111111111,
              "#46039f"
             ],
             [
              0.2222222222222222,
              "#7201a8"
             ],
             [
              0.3333333333333333,
              "#9c179e"
             ],
             [
              0.4444444444444444,
              "#bd3786"
             ],
             [
              0.5555555555555556,
              "#d8576b"
             ],
             [
              0.6666666666666666,
              "#ed7953"
             ],
             [
              0.7777777777777778,
              "#fb9f3a"
             ],
             [
              0.8888888888888888,
              "#fdca26"
             ],
             [
              1,
              "#f0f921"
             ]
            ],
            "type": "surface"
           }
          ],
          "table": [
           {
            "cells": {
             "fill": {
              "color": "#EBF0F8"
             },
             "line": {
              "color": "white"
             }
            },
            "header": {
             "fill": {
              "color": "#C8D4E3"
             },
             "line": {
              "color": "white"
             }
            },
            "type": "table"
           }
          ]
         },
         "layout": {
          "annotationdefaults": {
           "arrowcolor": "#2a3f5f",
           "arrowhead": 0,
           "arrowwidth": 1
          },
          "autotypenumbers": "strict",
          "coloraxis": {
           "colorbar": {
            "outlinewidth": 0,
            "ticks": ""
           }
          },
          "colorscale": {
           "diverging": [
            [
             0,
             "#8e0152"
            ],
            [
             0.1,
             "#c51b7d"
            ],
            [
             0.2,
             "#de77ae"
            ],
            [
             0.3,
             "#f1b6da"
            ],
            [
             0.4,
             "#fde0ef"
            ],
            [
             0.5,
             "#f7f7f7"
            ],
            [
             0.6,
             "#e6f5d0"
            ],
            [
             0.7,
             "#b8e186"
            ],
            [
             0.8,
             "#7fbc41"
            ],
            [
             0.9,
             "#4d9221"
            ],
            [
             1,
             "#276419"
            ]
           ],
           "sequential": [
            [
             0,
             "#0d0887"
            ],
            [
             0.1111111111111111,
             "#46039f"
            ],
            [
             0.2222222222222222,
             "#7201a8"
            ],
            [
             0.3333333333333333,
             "#9c179e"
            ],
            [
             0.4444444444444444,
             "#bd3786"
            ],
            [
             0.5555555555555556,
             "#d8576b"
            ],
            [
             0.6666666666666666,
             "#ed7953"
            ],
            [
             0.7777777777777778,
             "#fb9f3a"
            ],
            [
             0.8888888888888888,
             "#fdca26"
            ],
            [
             1,
             "#f0f921"
            ]
           ],
           "sequentialminus": [
            [
             0,
             "#0d0887"
            ],
            [
             0.1111111111111111,
             "#46039f"
            ],
            [
             0.2222222222222222,
             "#7201a8"
            ],
            [
             0.3333333333333333,
             "#9c179e"
            ],
            [
             0.4444444444444444,
             "#bd3786"
            ],
            [
             0.5555555555555556,
             "#d8576b"
            ],
            [
             0.6666666666666666,
             "#ed7953"
            ],
            [
             0.7777777777777778,
             "#fb9f3a"
            ],
            [
             0.8888888888888888,
             "#fdca26"
            ],
            [
             1,
             "#f0f921"
            ]
           ]
          },
          "colorway": [
           "#636efa",
           "#EF553B",
           "#00cc96",
           "#ab63fa",
           "#FFA15A",
           "#19d3f3",
           "#FF6692",
           "#B6E880",
           "#FF97FF",
           "#FECB52"
          ],
          "font": {
           "color": "#2a3f5f"
          },
          "geo": {
           "bgcolor": "white",
           "lakecolor": "white",
           "landcolor": "#E5ECF6",
           "showlakes": true,
           "showland": true,
           "subunitcolor": "white"
          },
          "hoverlabel": {
           "align": "left"
          },
          "hovermode": "closest",
          "mapbox": {
           "style": "light"
          },
          "paper_bgcolor": "white",
          "plot_bgcolor": "#E5ECF6",
          "polar": {
           "angularaxis": {
            "gridcolor": "white",
            "linecolor": "white",
            "ticks": ""
           },
           "bgcolor": "#E5ECF6",
           "radialaxis": {
            "gridcolor": "white",
            "linecolor": "white",
            "ticks": ""
           }
          },
          "scene": {
           "xaxis": {
            "backgroundcolor": "#E5ECF6",
            "gridcolor": "white",
            "gridwidth": 2,
            "linecolor": "white",
            "showbackground": true,
            "ticks": "",
            "zerolinecolor": "white"
           },
           "yaxis": {
            "backgroundcolor": "#E5ECF6",
            "gridcolor": "white",
            "gridwidth": 2,
            "linecolor": "white",
            "showbackground": true,
            "ticks": "",
            "zerolinecolor": "white"
           },
           "zaxis": {
            "backgroundcolor": "#E5ECF6",
            "gridcolor": "white",
            "gridwidth": 2,
            "linecolor": "white",
            "showbackground": true,
            "ticks": "",
            "zerolinecolor": "white"
           }
          },
          "shapedefaults": {
           "line": {
            "color": "#2a3f5f"
           }
          },
          "ternary": {
           "aaxis": {
            "gridcolor": "white",
            "linecolor": "white",
            "ticks": ""
           },
           "baxis": {
            "gridcolor": "white",
            "linecolor": "white",
            "ticks": ""
           },
           "bgcolor": "#E5ECF6",
           "caxis": {
            "gridcolor": "white",
            "linecolor": "white",
            "ticks": ""
           }
          },
          "title": {
           "x": 0.05
          },
          "xaxis": {
           "automargin": true,
           "gridcolor": "white",
           "linecolor": "white",
           "ticks": "",
           "title": {
            "standoff": 15
           },
           "zerolinecolor": "white",
           "zerolinewidth": 2
          },
          "yaxis": {
           "automargin": true,
           "gridcolor": "white",
           "linecolor": "white",
           "ticks": "",
           "title": {
            "standoff": 15
           },
           "zerolinecolor": "white",
           "zerolinewidth": 2
          }
         }
        },
        "title": {
         "text": "Spacecraft 3-3 Access, In Fov, and Connected"
        },
        "xaxis": {
         "anchor": "y",
         "domain": [
          0,
          1
         ],
         "type": "date"
        },
        "yaxis": {
         "anchor": "x",
         "categoryorder": "total ascending",
         "domain": [
          0,
          1
         ],
         "title": {
          "text": "antenna"
         }
        }
       }
      }
     },
     "metadata": {},
     "output_type": "display_data"
    },
    {
     "data": {
      "application/vnd.plotly.v1+json": {
       "config": {
        "plotlyServerURL": "https://plot.ly"
       },
       "data": [
        {
         "alignmentgroup": "True",
         "base": [
          "2024-10-31T01:07:00.000087+00:00",
          "2024-10-31T03:57:10.000086+00:00",
          "2024-10-31T05:34:30.000086+00:00",
          "2024-10-31T07:15:50.000087+00:00",
          "2024-10-31T08:59:00.000086+00:00",
          "2024-10-31T10:41:30.000086+00:00",
          "2024-10-31T00:47:40.000086+00:00",
          "2024-10-31T02:35:30.000086+00:00",
          "2024-10-31T04:17:00.000086+00:00",
          "2024-10-31T05:56:00.000086+00:00",
          "2024-10-31T07:36:00.000087+00:00",
          "2024-10-31T09:18:20.000086+00:00",
          "2024-10-31T08:44:00.000086+00:00",
          "2024-10-31T10:20:10.000086+00:00",
          "2024-10-31T00:36:30.000086+00:00",
          "2024-10-31T02:19:20.000086+00:00",
          "2024-10-31T09:15:40.000086+00:00",
          "2024-10-31T10:54:40.000086+00:00",
          "2024-10-31T03:47:50.000086+00:00",
          "2024-10-31T05:30:10.000086+00:00",
          "2024-10-31T01:16:20.000086+00:00",
          "2024-10-31T03:02:10.000086+00:00",
          "2024-10-31T11:53:00.000087+00:00",
          "2024-10-31T10:11:00.000086+00:00",
          "2024-10-31T11:51:20.000086+00:00",
          "2024-10-31T00:33:50.000087+00:00",
          "2024-10-31T11:05:50.000086+00:00",
          "2024-10-31T00:15:50.000086+00:00",
          "2024-10-31T01:58:00.000086+00:00",
          "2024-10-31T00:53:10.000086+00:00",
          "2024-10-31T02:29:00.000086+00:00",
          "2024-10-31T04:07:10.000086+00:00",
          "2024-10-31T05:46:20.000086+00:00",
          "2024-10-31T07:25:50.000086+00:00",
          "2024-10-31T09:05:50.000086+00:00",
          "2024-10-31T10:47:30.000086+00:00"
         ],
         "hovertemplate": "type=access<br>start=%{base}<br>end=%{x}<br>antenna=%{y}<extra></extra>",
         "legendgroup": "access",
         "marker": {
          "color": "#636efa",
          "pattern": {
           "shape": ""
          }
         },
         "name": "access",
         "offsetgroup": "access",
         "orientation": "h",
         "showlegend": true,
         "textposition": "auto",
         "type": "bar",
         "x": [
          409999.999,
          550000,
          820000,
          759999.999,
          620000,
          640000,
          610000,
          20000.001,
          280000,
          700000,
          809999.999,
          500000,
          380000,
          820000,
          810000,
          570000,
          590000.001,
          810000,
          810000,
          590000,
          810000,
          140000,
          329999.999,
          740000,
          510000,
          39999.999,
          770000.001,
          800000,
          470000,
          300000,
          610000,
          710000,
          730000,
          700000,
          580000.001,
          170000
         ],
         "xaxis": "x",
         "y": [
          "Dundee",
          "Chitose",
          "Chitose",
          "Chitose",
          "Chitose",
          "Chitose",
          "Mojave",
          "Mojave",
          "Mojave",
          "Mojave",
          "Mojave",
          "Mojave",
          "Dubai",
          "Dubai",
          "Paumalu",
          "Paumalu",
          "Paumalu",
          "Paumalu",
          "Harmon",
          "Harmon",
          "Sunyani",
          "Sunyani",
          "Sunyani",
          "Mwulire",
          "Mwulire",
          "Tahiti",
          "Tahiti",
          "Awarua",
          "Awarua",
          "Utqiagvik",
          "Utqiagvik",
          "Utqiagvik",
          "Utqiagvik",
          "Utqiagvik",
          "Utqiagvik",
          "Utqiagvik"
         ],
         "yaxis": "y"
        },
        {
         "alignmentgroup": "True",
         "base": [
          "2024-10-31T04:02:20.000086+00:00",
          "2024-10-31T07:16:10.000086+00:00",
          "2024-10-31T07:23:20.000086+00:00",
          "2024-10-31T09:00:40.000087+00:00",
          "2024-10-31T10:41:30.000086+00:00",
          "2024-10-31T00:47:50.000086+00:00",
          "2024-10-31T04:17:00.000086+00:00",
          "2024-10-31T05:56:00.000086+00:00",
          "2024-10-31T06:03:50.000086+00:00",
          "2024-10-31T09:18:20.000086+00:00",
          "2024-10-31T08:44:00.000086+00:00",
          "2024-10-31T10:22:10.000086+00:00",
          "2024-10-31T10:30:10.000086+00:00",
          "2024-10-31T00:37:20.000086+00:00",
          "2024-10-31T02:19:20.000086+00:00",
          "2024-10-31T10:54:40.000086+00:00",
          "2024-10-31T03:48:50.000086+00:00",
          "2024-10-31T05:35:10.000086+00:00",
          "2024-10-31T01:18:20.000086+00:00",
          "2024-10-31T03:02:10.000086+00:00",
          "2024-10-31T10:14:00.000086+00:00",
          "2024-10-31T11:51:20.000086+00:00",
          "2024-10-31T11:06:50.000086+00:00",
          "2024-10-31T00:15:50.000086+00:00",
          "2024-10-31T01:58:00.000086+00:00",
          "2024-10-31T07:25:50.000086+00:00",
          "2024-10-31T09:05:50.000086+00:00"
         ],
         "hovertemplate": "type=inFov<br>start=%{base}<br>end=%{x}<br>antenna=%{y}<extra></extra>",
         "legendgroup": "inFov",
         "marker": {
          "color": "#EF553B",
          "pattern": {
           "shape": ""
          }
         },
         "name": "inFov",
         "offsetgroup": "inFov",
         "orientation": "h",
         "showlegend": true,
         "textposition": "auto",
         "type": "bar",
         "x": [
          40000,
          80000,
          150000,
          369999.999,
          630000.001,
          90000,
          270000,
          240000,
          60000.001,
          80000,
          380000,
          290000,
          100000.001,
          750000.001,
          560000.001,
          100000,
          740000,
          290000,
          350000.001,
          120000,
          240000,
          70000,
          710000.001,
          190000.001,
          140000,
          80000,
          120000
         ],
         "xaxis": "x",
         "y": [
          "Chitose",
          "Chitose",
          "Chitose",
          "Chitose",
          "Chitose",
          "Mojave",
          "Mojave",
          "Mojave",
          "Mojave",
          "Mojave",
          "Dubai",
          "Dubai",
          "Dubai",
          "Paumalu",
          "Paumalu",
          "Paumalu",
          "Harmon",
          "Harmon",
          "Sunyani",
          "Sunyani",
          "Mwulire",
          "Mwulire",
          "Tahiti",
          "Awarua",
          "Awarua",
          "Utqiagvik",
          "Utqiagvik"
         ],
         "yaxis": "y"
        },
        {
         "alignmentgroup": "True",
         "base": [
          "2024-10-31T07:23:20.000086+00:00",
          "2024-10-31T09:02:50.000086+00:00",
          "2024-10-31T10:41:30.000086+00:00",
          "2024-10-31T04:17:00.000086+00:00",
          "2024-10-31T05:56:00.000086+00:00",
          "2024-10-31T09:18:20.000086+00:00",
          "2024-10-31T08:44:00.000086+00:00",
          "2024-10-31T10:22:10.000086+00:00",
          "2024-10-31T00:37:20.000086+00:00",
          "2024-10-31T02:19:20.000086+00:00",
          "2024-10-31T03:48:50.000086+00:00",
          "2024-10-31T05:36:10.000086+00:00",
          "2024-10-31T01:18:20.000086+00:00",
          "2024-10-31T03:02:10.000086+00:00",
          "2024-10-31T10:14:00.000086+00:00",
          "2024-10-31T11:06:50.000086+00:00"
         ],
         "hovertemplate": "type=connected<br>start=%{base}<br>end=%{x}<br>antenna=%{y}<extra></extra>",
         "legendgroup": "connected",
         "marker": {
          "color": "#00cc96",
          "pattern": {
           "shape": ""
          }
         },
         "name": "connected",
         "offsetgroup": "connected",
         "orientation": "h",
         "showlegend": true,
         "textposition": "auto",
         "type": "bar",
         "x": [
          150000,
          240000,
          630000.001,
          270000,
          240000,
          80000,
          380000,
          290000,
          750000.001,
          560000.001,
          740000,
          220000,
          350000.001,
          120000,
          240000,
          710000.001
         ],
         "xaxis": "x",
         "y": [
          "Chitose",
          "Chitose",
          "Chitose",
          "Mojave",
          "Mojave",
          "Mojave",
          "Dubai",
          "Dubai",
          "Paumalu",
          "Paumalu",
          "Harmon",
          "Harmon",
          "Sunyani",
          "Sunyani",
          "Mwulire",
          "Tahiti"
         ],
         "yaxis": "y"
        }
       ],
       "layout": {
        "barmode": "overlay",
        "legend": {
         "title": {
          "text": "type"
         },
         "tracegroupgap": 0
        },
        "margin": {
         "t": 60
        },
        "template": {
         "data": {
          "bar": [
           {
            "error_x": {
             "color": "#2a3f5f"
            },
            "error_y": {
             "color": "#2a3f5f"
            },
            "marker": {
             "line": {
              "color": "#E5ECF6",
              "width": 0.5
             },
             "pattern": {
              "fillmode": "overlay",
              "size": 10,
              "solidity": 0.2
             }
            },
            "type": "bar"
           }
          ],
          "barpolar": [
           {
            "marker": {
             "line": {
              "color": "#E5ECF6",
              "width": 0.5
             },
             "pattern": {
              "fillmode": "overlay",
              "size": 10,
              "solidity": 0.2
             }
            },
            "type": "barpolar"
           }
          ],
          "carpet": [
           {
            "aaxis": {
             "endlinecolor": "#2a3f5f",
             "gridcolor": "white",
             "linecolor": "white",
             "minorgridcolor": "white",
             "startlinecolor": "#2a3f5f"
            },
            "baxis": {
             "endlinecolor": "#2a3f5f",
             "gridcolor": "white",
             "linecolor": "white",
             "minorgridcolor": "white",
             "startlinecolor": "#2a3f5f"
            },
            "type": "carpet"
           }
          ],
          "choropleth": [
           {
            "colorbar": {
             "outlinewidth": 0,
             "ticks": ""
            },
            "type": "choropleth"
           }
          ],
          "contour": [
           {
            "colorbar": {
             "outlinewidth": 0,
             "ticks": ""
            },
            "colorscale": [
             [
              0,
              "#0d0887"
             ],
             [
              0.1111111111111111,
              "#46039f"
             ],
             [
              0.2222222222222222,
              "#7201a8"
             ],
             [
              0.3333333333333333,
              "#9c179e"
             ],
             [
              0.4444444444444444,
              "#bd3786"
             ],
             [
              0.5555555555555556,
              "#d8576b"
             ],
             [
              0.6666666666666666,
              "#ed7953"
             ],
             [
              0.7777777777777778,
              "#fb9f3a"
             ],
             [
              0.8888888888888888,
              "#fdca26"
             ],
             [
              1,
              "#f0f921"
             ]
            ],
            "type": "contour"
           }
          ],
          "contourcarpet": [
           {
            "colorbar": {
             "outlinewidth": 0,
             "ticks": ""
            },
            "type": "contourcarpet"
           }
          ],
          "heatmap": [
           {
            "colorbar": {
             "outlinewidth": 0,
             "ticks": ""
            },
            "colorscale": [
             [
              0,
              "#0d0887"
             ],
             [
              0.1111111111111111,
              "#46039f"
             ],
             [
              0.2222222222222222,
              "#7201a8"
             ],
             [
              0.3333333333333333,
              "#9c179e"
             ],
             [
              0.4444444444444444,
              "#bd3786"
             ],
             [
              0.5555555555555556,
              "#d8576b"
             ],
             [
              0.6666666666666666,
              "#ed7953"
             ],
             [
              0.7777777777777778,
              "#fb9f3a"
             ],
             [
              0.8888888888888888,
              "#fdca26"
             ],
             [
              1,
              "#f0f921"
             ]
            ],
            "type": "heatmap"
           }
          ],
          "heatmapgl": [
           {
            "colorbar": {
             "outlinewidth": 0,
             "ticks": ""
            },
            "colorscale": [
             [
              0,
              "#0d0887"
             ],
             [
              0.1111111111111111,
              "#46039f"
             ],
             [
              0.2222222222222222,
              "#7201a8"
             ],
             [
              0.3333333333333333,
              "#9c179e"
             ],
             [
              0.4444444444444444,
              "#bd3786"
             ],
             [
              0.5555555555555556,
              "#d8576b"
             ],
             [
              0.6666666666666666,
              "#ed7953"
             ],
             [
              0.7777777777777778,
              "#fb9f3a"
             ],
             [
              0.8888888888888888,
              "#fdca26"
             ],
             [
              1,
              "#f0f921"
             ]
            ],
            "type": "heatmapgl"
           }
          ],
          "histogram": [
           {
            "marker": {
             "pattern": {
              "fillmode": "overlay",
              "size": 10,
              "solidity": 0.2
             }
            },
            "type": "histogram"
           }
          ],
          "histogram2d": [
           {
            "colorbar": {
             "outlinewidth": 0,
             "ticks": ""
            },
            "colorscale": [
             [
              0,
              "#0d0887"
             ],
             [
              0.1111111111111111,
              "#46039f"
             ],
             [
              0.2222222222222222,
              "#7201a8"
             ],
             [
              0.3333333333333333,
              "#9c179e"
             ],
             [
              0.4444444444444444,
              "#bd3786"
             ],
             [
              0.5555555555555556,
              "#d8576b"
             ],
             [
              0.6666666666666666,
              "#ed7953"
             ],
             [
              0.7777777777777778,
              "#fb9f3a"
             ],
             [
              0.8888888888888888,
              "#fdca26"
             ],
             [
              1,
              "#f0f921"
             ]
            ],
            "type": "histogram2d"
           }
          ],
          "histogram2dcontour": [
           {
            "colorbar": {
             "outlinewidth": 0,
             "ticks": ""
            },
            "colorscale": [
             [
              0,
              "#0d0887"
             ],
             [
              0.1111111111111111,
              "#46039f"
             ],
             [
              0.2222222222222222,
              "#7201a8"
             ],
             [
              0.3333333333333333,
              "#9c179e"
             ],
             [
              0.4444444444444444,
              "#bd3786"
             ],
             [
              0.5555555555555556,
              "#d8576b"
             ],
             [
              0.6666666666666666,
              "#ed7953"
             ],
             [
              0.7777777777777778,
              "#fb9f3a"
             ],
             [
              0.8888888888888888,
              "#fdca26"
             ],
             [
              1,
              "#f0f921"
             ]
            ],
            "type": "histogram2dcontour"
           }
          ],
          "mesh3d": [
           {
            "colorbar": {
             "outlinewidth": 0,
             "ticks": ""
            },
            "type": "mesh3d"
           }
          ],
          "parcoords": [
           {
            "line": {
             "colorbar": {
              "outlinewidth": 0,
              "ticks": ""
             }
            },
            "type": "parcoords"
           }
          ],
          "pie": [
           {
            "automargin": true,
            "type": "pie"
           }
          ],
          "scatter": [
           {
            "fillpattern": {
             "fillmode": "overlay",
             "size": 10,
             "solidity": 0.2
            },
            "type": "scatter"
           }
          ],
          "scatter3d": [
           {
            "line": {
             "colorbar": {
              "outlinewidth": 0,
              "ticks": ""
             }
            },
            "marker": {
             "colorbar": {
              "outlinewidth": 0,
              "ticks": ""
             }
            },
            "type": "scatter3d"
           }
          ],
          "scattercarpet": [
           {
            "marker": {
             "colorbar": {
              "outlinewidth": 0,
              "ticks": ""
             }
            },
            "type": "scattercarpet"
           }
          ],
          "scattergeo": [
           {
            "marker": {
             "colorbar": {
              "outlinewidth": 0,
              "ticks": ""
             }
            },
            "type": "scattergeo"
           }
          ],
          "scattergl": [
           {
            "marker": {
             "colorbar": {
              "outlinewidth": 0,
              "ticks": ""
             }
            },
            "type": "scattergl"
           }
          ],
          "scattermapbox": [
           {
            "marker": {
             "colorbar": {
              "outlinewidth": 0,
              "ticks": ""
             }
            },
            "type": "scattermapbox"
           }
          ],
          "scatterpolar": [
           {
            "marker": {
             "colorbar": {
              "outlinewidth": 0,
              "ticks": ""
             }
            },
            "type": "scatterpolar"
           }
          ],
          "scatterpolargl": [
           {
            "marker": {
             "colorbar": {
              "outlinewidth": 0,
              "ticks": ""
             }
            },
            "type": "scatterpolargl"
           }
          ],
          "scatterternary": [
           {
            "marker": {
             "colorbar": {
              "outlinewidth": 0,
              "ticks": ""
             }
            },
            "type": "scatterternary"
           }
          ],
          "surface": [
           {
            "colorbar": {
             "outlinewidth": 0,
             "ticks": ""
            },
            "colorscale": [
             [
              0,
              "#0d0887"
             ],
             [
              0.1111111111111111,
              "#46039f"
             ],
             [
              0.2222222222222222,
              "#7201a8"
             ],
             [
              0.3333333333333333,
              "#9c179e"
             ],
             [
              0.4444444444444444,
              "#bd3786"
             ],
             [
              0.5555555555555556,
              "#d8576b"
             ],
             [
              0.6666666666666666,
              "#ed7953"
             ],
             [
              0.7777777777777778,
              "#fb9f3a"
             ],
             [
              0.8888888888888888,
              "#fdca26"
             ],
             [
              1,
              "#f0f921"
             ]
            ],
            "type": "surface"
           }
          ],
          "table": [
           {
            "cells": {
             "fill": {
              "color": "#EBF0F8"
             },
             "line": {
              "color": "white"
             }
            },
            "header": {
             "fill": {
              "color": "#C8D4E3"
             },
             "line": {
              "color": "white"
             }
            },
            "type": "table"
           }
          ]
         },
         "layout": {
          "annotationdefaults": {
           "arrowcolor": "#2a3f5f",
           "arrowhead": 0,
           "arrowwidth": 1
          },
          "autotypenumbers": "strict",
          "coloraxis": {
           "colorbar": {
            "outlinewidth": 0,
            "ticks": ""
           }
          },
          "colorscale": {
           "diverging": [
            [
             0,
             "#8e0152"
            ],
            [
             0.1,
             "#c51b7d"
            ],
            [
             0.2,
             "#de77ae"
            ],
            [
             0.3,
             "#f1b6da"
            ],
            [
             0.4,
             "#fde0ef"
            ],
            [
             0.5,
             "#f7f7f7"
            ],
            [
             0.6,
             "#e6f5d0"
            ],
            [
             0.7,
             "#b8e186"
            ],
            [
             0.8,
             "#7fbc41"
            ],
            [
             0.9,
             "#4d9221"
            ],
            [
             1,
             "#276419"
            ]
           ],
           "sequential": [
            [
             0,
             "#0d0887"
            ],
            [
             0.1111111111111111,
             "#46039f"
            ],
            [
             0.2222222222222222,
             "#7201a8"
            ],
            [
             0.3333333333333333,
             "#9c179e"
            ],
            [
             0.4444444444444444,
             "#bd3786"
            ],
            [
             0.5555555555555556,
             "#d8576b"
            ],
            [
             0.6666666666666666,
             "#ed7953"
            ],
            [
             0.7777777777777778,
             "#fb9f3a"
            ],
            [
             0.8888888888888888,
             "#fdca26"
            ],
            [
             1,
             "#f0f921"
            ]
           ],
           "sequentialminus": [
            [
             0,
             "#0d0887"
            ],
            [
             0.1111111111111111,
             "#46039f"
            ],
            [
             0.2222222222222222,
             "#7201a8"
            ],
            [
             0.3333333333333333,
             "#9c179e"
            ],
            [
             0.4444444444444444,
             "#bd3786"
            ],
            [
             0.5555555555555556,
             "#d8576b"
            ],
            [
             0.6666666666666666,
             "#ed7953"
            ],
            [
             0.7777777777777778,
             "#fb9f3a"
            ],
            [
             0.8888888888888888,
             "#fdca26"
            ],
            [
             1,
             "#f0f921"
            ]
           ]
          },
          "colorway": [
           "#636efa",
           "#EF553B",
           "#00cc96",
           "#ab63fa",
           "#FFA15A",
           "#19d3f3",
           "#FF6692",
           "#B6E880",
           "#FF97FF",
           "#FECB52"
          ],
          "font": {
           "color": "#2a3f5f"
          },
          "geo": {
           "bgcolor": "white",
           "lakecolor": "white",
           "landcolor": "#E5ECF6",
           "showlakes": true,
           "showland": true,
           "subunitcolor": "white"
          },
          "hoverlabel": {
           "align": "left"
          },
          "hovermode": "closest",
          "mapbox": {
           "style": "light"
          },
          "paper_bgcolor": "white",
          "plot_bgcolor": "#E5ECF6",
          "polar": {
           "angularaxis": {
            "gridcolor": "white",
            "linecolor": "white",
            "ticks": ""
           },
           "bgcolor": "#E5ECF6",
           "radialaxis": {
            "gridcolor": "white",
            "linecolor": "white",
            "ticks": ""
           }
          },
          "scene": {
           "xaxis": {
            "backgroundcolor": "#E5ECF6",
            "gridcolor": "white",
            "gridwidth": 2,
            "linecolor": "white",
            "showbackground": true,
            "ticks": "",
            "zerolinecolor": "white"
           },
           "yaxis": {
            "backgroundcolor": "#E5ECF6",
            "gridcolor": "white",
            "gridwidth": 2,
            "linecolor": "white",
            "showbackground": true,
            "ticks": "",
            "zerolinecolor": "white"
           },
           "zaxis": {
            "backgroundcolor": "#E5ECF6",
            "gridcolor": "white",
            "gridwidth": 2,
            "linecolor": "white",
            "showbackground": true,
            "ticks": "",
            "zerolinecolor": "white"
           }
          },
          "shapedefaults": {
           "line": {
            "color": "#2a3f5f"
           }
          },
          "ternary": {
           "aaxis": {
            "gridcolor": "white",
            "linecolor": "white",
            "ticks": ""
           },
           "baxis": {
            "gridcolor": "white",
            "linecolor": "white",
            "ticks": ""
           },
           "bgcolor": "#E5ECF6",
           "caxis": {
            "gridcolor": "white",
            "linecolor": "white",
            "ticks": ""
           }
          },
          "title": {
           "x": 0.05
          },
          "xaxis": {
           "automargin": true,
           "gridcolor": "white",
           "linecolor": "white",
           "ticks": "",
           "title": {
            "standoff": 15
           },
           "zerolinecolor": "white",
           "zerolinewidth": 2
          },
          "yaxis": {
           "automargin": true,
           "gridcolor": "white",
           "linecolor": "white",
           "ticks": "",
           "title": {
            "standoff": 15
           },
           "zerolinecolor": "white",
           "zerolinewidth": 2
          }
         }
        },
        "title": {
         "text": "Spacecraft 3-4 Access, In Fov, and Connected"
        },
        "xaxis": {
         "anchor": "y",
         "domain": [
          0,
          1
         ],
         "type": "date"
        },
        "yaxis": {
         "anchor": "x",
         "categoryorder": "total ascending",
         "domain": [
          0,
          1
         ],
         "title": {
          "text": "antenna"
         }
        }
       }
      }
     },
     "metadata": {},
     "output_type": "display_data"
    },
    {
     "data": {
      "application/vnd.plotly.v1+json": {
       "config": {
        "plotlyServerURL": "https://plot.ly"
       },
       "data": [
        {
         "alignmentgroup": "True",
         "base": [
          "2024-10-31T00:54:00.000087+00:00",
          "2024-10-31T03:45:40.000087+00:00",
          "2024-10-31T05:22:30.000086+00:00",
          "2024-10-31T07:03:30.000086+00:00",
          "2024-10-31T08:46:50.000086+00:00",
          "2024-10-31T10:29:40.000086+00:00",
          "2024-10-31T00:34:20.000086+00:00",
          "2024-10-31T02:21:10.000086+00:00",
          "2024-10-31T04:04:40.000086+00:00",
          "2024-10-31T05:44:00.000086+00:00",
          "2024-10-31T07:24:00.000086+00:00",
          "2024-10-31T09:06:00.000087+00:00",
          "2024-10-31T08:34:20.000086+00:00",
          "2024-10-31T10:08:40.000086+00:00",
          "2024-10-31T11:50:40.000086+00:00",
          "2024-10-31T00:24:00.000086+00:00",
          "2024-10-31T02:06:10.000087+00:00",
          "2024-10-31T09:04:20.000086+00:00",
          "2024-10-31T10:43:00.000086+00:00",
          "2024-10-31T03:35:40.000086+00:00",
          "2024-10-31T05:17:20.000086+00:00",
          "2024-10-31T01:03:50.000086+00:00",
          "2024-10-31T02:47:30.000086+00:00",
          "2024-10-31T01:16:10.000086+00:00",
          "2024-10-31T09:59:50.000086+00:00",
          "2024-10-31T11:39:30.000086+00:00",
          "2024-10-31T00:18:30.000086+00:00",
          "2024-10-31T10:54:40.000086+00:00",
          "2024-10-31T00:03:10.000086+00:00",
          "2024-10-31T01:45:10.000086+00:00",
          "2024-10-31T00:41:30.000087+00:00",
          "2024-10-31T02:17:00.000086+00:00",
          "2024-10-31T03:55:10.000087+00:00",
          "2024-10-31T05:34:20.000086+00:00",
          "2024-10-31T07:14:00.000086+00:00",
          "2024-10-31T08:54:00.000086+00:00",
          "2024-10-31T10:35:10.000086+00:00"
         ],
         "hovertemplate": "type=access<br>start=%{base}<br>end=%{x}<br>antenna=%{y}<extra></extra>",
         "legendgroup": "access",
         "marker": {
          "color": "#636efa",
          "pattern": {
           "shape": ""
          }
         },
         "name": "access",
         "offsetgroup": "access",
         "orientation": "h",
         "showlegend": true,
         "textposition": "auto",
         "type": "bar",
         "x": [
          499999.999,
          479999.999,
          820000,
          790000,
          650000,
          640000,
          670000,
          210000,
          240000,
          680000.001,
          830000,
          589999.999,
          150000,
          810000,
          550000,
          810000,
          649999.999,
          530000,
          830000,
          800000,
          670000,
          820000,
          420000,
          140000,
          690000,
          780000,
          390000,
          740000,
          820000,
          550000.001,
          239999.999,
          600000,
          710000,
          740000,
          720000,
          620000,
          300000.001
         ],
         "xaxis": "x",
         "y": [
          "Dundee",
          "Chitose",
          "Chitose",
          "Chitose",
          "Chitose",
          "Chitose",
          "Mojave",
          "Mojave",
          "Mojave",
          "Mojave",
          "Mojave",
          "Mojave",
          "Dubai",
          "Dubai",
          "Dubai",
          "Paumalu",
          "Paumalu",
          "Paumalu",
          "Paumalu",
          "Harmon",
          "Harmon",
          "Sunyani",
          "Sunyani",
          "Mwulire",
          "Mwulire",
          "Mwulire",
          "Tahiti",
          "Tahiti",
          "Awarua",
          "Awarua",
          "Utqiagvik",
          "Utqiagvik",
          "Utqiagvik",
          "Utqiagvik",
          "Utqiagvik",
          "Utqiagvik",
          "Utqiagvik"
         ],
         "yaxis": "y"
        },
        {
         "alignmentgroup": "True",
         "base": [
          "2024-10-31T07:04:00.000087+00:00",
          "2024-10-31T08:49:10.000086+00:00",
          "2024-10-31T08:54:10.000087+00:00",
          "2024-10-31T10:29:40.000086+00:00",
          "2024-10-31T10:40:00.000086+00:00",
          "2024-10-31T00:35:50.000086+00:00",
          "2024-10-31T04:04:40.000086+00:00",
          "2024-10-31T05:44:00.000086+00:00",
          "2024-10-31T07:29:10.000086+00:00",
          "2024-10-31T09:06:40.000086+00:00",
          "2024-10-31T08:34:20.000086+00:00",
          "2024-10-31T10:20:00.000087+00:00",
          "2024-10-31T00:24:40.000086+00:00",
          "2024-10-31T02:06:10.000087+00:00",
          "2024-10-31T03:35:40.000086+00:00",
          "2024-10-31T05:23:10.000086+00:00",
          "2024-10-31T01:10:30.000087+00:00",
          "2024-10-31T02:47:30.000086+00:00",
          "2024-10-31T01:16:10.000086+00:00",
          "2024-10-31T10:02:30.000086+00:00",
          "2024-10-31T11:39:30.000086+00:00",
          "2024-10-31T00:18:30.000086+00:00",
          "2024-10-31T10:54:40.000086+00:00",
          "2024-10-31T00:04:10.000086+00:00",
          "2024-10-31T01:45:10.000086+00:00",
          "2024-10-31T07:14:00.000086+00:00",
          "2024-10-31T08:54:00.000086+00:00"
         ],
         "hovertemplate": "type=inFov<br>start=%{base}<br>end=%{x}<br>antenna=%{y}<extra></extra>",
         "legendgroup": "inFov",
         "marker": {
          "color": "#EF553B",
          "pattern": {
           "shape": ""
          }
         },
         "name": "inFov",
         "offsetgroup": "inFov",
         "orientation": "h",
         "showlegend": true,
         "textposition": "auto",
         "type": "bar",
         "x": [
          39999.999,
          170000,
          19999.999,
          320000,
          10000.001,
          80000,
          230000,
          670000,
          30000,
          50000,
          140000,
          129999.999,
          760000,
          640000,
          790000,
          270000,
          339999.999,
          410000,
          130000,
          310000,
          220000,
          380000,
          730000,
          510000,
          170000,
          60000,
          130000
         ],
         "xaxis": "x",
         "y": [
          "Chitose",
          "Chitose",
          "Chitose",
          "Chitose",
          "Chitose",
          "Mojave",
          "Mojave",
          "Mojave",
          "Mojave",
          "Mojave",
          "Dubai",
          "Dubai",
          "Paumalu",
          "Paumalu",
          "Harmon",
          "Harmon",
          "Sunyani",
          "Sunyani",
          "Mwulire",
          "Mwulire",
          "Mwulire",
          "Tahiti",
          "Tahiti",
          "Awarua",
          "Awarua",
          "Utqiagvik",
          "Utqiagvik"
         ],
         "yaxis": "y"
        },
        {
         "alignmentgroup": "True",
         "base": [
          "2024-10-31T08:50:20.000086+00:00",
          "2024-10-31T08:54:10.000087+00:00",
          "2024-10-31T10:29:40.000086+00:00",
          "2024-10-31T10:40:00.000086+00:00",
          "2024-10-31T04:04:40.000086+00:00",
          "2024-10-31T05:44:00.000086+00:00",
          "2024-10-31T08:34:20.000086+00:00",
          "2024-10-31T10:20:00.000087+00:00",
          "2024-10-31T00:24:40.000086+00:00",
          "2024-10-31T02:06:10.000087+00:00",
          "2024-10-31T03:35:40.000086+00:00",
          "2024-10-31T05:23:10.000086+00:00",
          "2024-10-31T01:10:30.000087+00:00",
          "2024-10-31T02:47:30.000086+00:00",
          "2024-10-31T01:16:10.000086+00:00",
          "2024-10-31T10:02:30.000086+00:00",
          "2024-10-31T00:18:30.000086+00:00",
          "2024-10-31T10:54:40.000086+00:00",
          "2024-10-31T00:04:10.000086+00:00"
         ],
         "hovertemplate": "type=connected<br>start=%{base}<br>end=%{x}<br>antenna=%{y}<extra></extra>",
         "legendgroup": "connected",
         "marker": {
          "color": "#00cc96",
          "pattern": {
           "shape": ""
          }
         },
         "name": "connected",
         "offsetgroup": "connected",
         "orientation": "h",
         "showlegend": true,
         "textposition": "auto",
         "type": "bar",
         "x": [
          100000,
          19999.999,
          320000,
          10000.001,
          230000,
          670000,
          140000,
          129999.999,
          760000,
          640000,
          790000,
          270000,
          339999.999,
          410000,
          130000,
          310000,
          380000,
          730000,
          510000
         ],
         "xaxis": "x",
         "y": [
          "Chitose",
          "Chitose",
          "Chitose",
          "Chitose",
          "Mojave",
          "Mojave",
          "Dubai",
          "Dubai",
          "Paumalu",
          "Paumalu",
          "Harmon",
          "Harmon",
          "Sunyani",
          "Sunyani",
          "Mwulire",
          "Mwulire",
          "Tahiti",
          "Tahiti",
          "Awarua"
         ],
         "yaxis": "y"
        }
       ],
       "layout": {
        "barmode": "overlay",
        "legend": {
         "title": {
          "text": "type"
         },
         "tracegroupgap": 0
        },
        "margin": {
         "t": 60
        },
        "template": {
         "data": {
          "bar": [
           {
            "error_x": {
             "color": "#2a3f5f"
            },
            "error_y": {
             "color": "#2a3f5f"
            },
            "marker": {
             "line": {
              "color": "#E5ECF6",
              "width": 0.5
             },
             "pattern": {
              "fillmode": "overlay",
              "size": 10,
              "solidity": 0.2
             }
            },
            "type": "bar"
           }
          ],
          "barpolar": [
           {
            "marker": {
             "line": {
              "color": "#E5ECF6",
              "width": 0.5
             },
             "pattern": {
              "fillmode": "overlay",
              "size": 10,
              "solidity": 0.2
             }
            },
            "type": "barpolar"
           }
          ],
          "carpet": [
           {
            "aaxis": {
             "endlinecolor": "#2a3f5f",
             "gridcolor": "white",
             "linecolor": "white",
             "minorgridcolor": "white",
             "startlinecolor": "#2a3f5f"
            },
            "baxis": {
             "endlinecolor": "#2a3f5f",
             "gridcolor": "white",
             "linecolor": "white",
             "minorgridcolor": "white",
             "startlinecolor": "#2a3f5f"
            },
            "type": "carpet"
           }
          ],
          "choropleth": [
           {
            "colorbar": {
             "outlinewidth": 0,
             "ticks": ""
            },
            "type": "choropleth"
           }
          ],
          "contour": [
           {
            "colorbar": {
             "outlinewidth": 0,
             "ticks": ""
            },
            "colorscale": [
             [
              0,
              "#0d0887"
             ],
             [
              0.1111111111111111,
              "#46039f"
             ],
             [
              0.2222222222222222,
              "#7201a8"
             ],
             [
              0.3333333333333333,
              "#9c179e"
             ],
             [
              0.4444444444444444,
              "#bd3786"
             ],
             [
              0.5555555555555556,
              "#d8576b"
             ],
             [
              0.6666666666666666,
              "#ed7953"
             ],
             [
              0.7777777777777778,
              "#fb9f3a"
             ],
             [
              0.8888888888888888,
              "#fdca26"
             ],
             [
              1,
              "#f0f921"
             ]
            ],
            "type": "contour"
           }
          ],
          "contourcarpet": [
           {
            "colorbar": {
             "outlinewidth": 0,
             "ticks": ""
            },
            "type": "contourcarpet"
           }
          ],
          "heatmap": [
           {
            "colorbar": {
             "outlinewidth": 0,
             "ticks": ""
            },
            "colorscale": [
             [
              0,
              "#0d0887"
             ],
             [
              0.1111111111111111,
              "#46039f"
             ],
             [
              0.2222222222222222,
              "#7201a8"
             ],
             [
              0.3333333333333333,
              "#9c179e"
             ],
             [
              0.4444444444444444,
              "#bd3786"
             ],
             [
              0.5555555555555556,
              "#d8576b"
             ],
             [
              0.6666666666666666,
              "#ed7953"
             ],
             [
              0.7777777777777778,
              "#fb9f3a"
             ],
             [
              0.8888888888888888,
              "#fdca26"
             ],
             [
              1,
              "#f0f921"
             ]
            ],
            "type": "heatmap"
           }
          ],
          "heatmapgl": [
           {
            "colorbar": {
             "outlinewidth": 0,
             "ticks": ""
            },
            "colorscale": [
             [
              0,
              "#0d0887"
             ],
             [
              0.1111111111111111,
              "#46039f"
             ],
             [
              0.2222222222222222,
              "#7201a8"
             ],
             [
              0.3333333333333333,
              "#9c179e"
             ],
             [
              0.4444444444444444,
              "#bd3786"
             ],
             [
              0.5555555555555556,
              "#d8576b"
             ],
             [
              0.6666666666666666,
              "#ed7953"
             ],
             [
              0.7777777777777778,
              "#fb9f3a"
             ],
             [
              0.8888888888888888,
              "#fdca26"
             ],
             [
              1,
              "#f0f921"
             ]
            ],
            "type": "heatmapgl"
           }
          ],
          "histogram": [
           {
            "marker": {
             "pattern": {
              "fillmode": "overlay",
              "size": 10,
              "solidity": 0.2
             }
            },
            "type": "histogram"
           }
          ],
          "histogram2d": [
           {
            "colorbar": {
             "outlinewidth": 0,
             "ticks": ""
            },
            "colorscale": [
             [
              0,
              "#0d0887"
             ],
             [
              0.1111111111111111,
              "#46039f"
             ],
             [
              0.2222222222222222,
              "#7201a8"
             ],
             [
              0.3333333333333333,
              "#9c179e"
             ],
             [
              0.4444444444444444,
              "#bd3786"
             ],
             [
              0.5555555555555556,
              "#d8576b"
             ],
             [
              0.6666666666666666,
              "#ed7953"
             ],
             [
              0.7777777777777778,
              "#fb9f3a"
             ],
             [
              0.8888888888888888,
              "#fdca26"
             ],
             [
              1,
              "#f0f921"
             ]
            ],
            "type": "histogram2d"
           }
          ],
          "histogram2dcontour": [
           {
            "colorbar": {
             "outlinewidth": 0,
             "ticks": ""
            },
            "colorscale": [
             [
              0,
              "#0d0887"
             ],
             [
              0.1111111111111111,
              "#46039f"
             ],
             [
              0.2222222222222222,
              "#7201a8"
             ],
             [
              0.3333333333333333,
              "#9c179e"
             ],
             [
              0.4444444444444444,
              "#bd3786"
             ],
             [
              0.5555555555555556,
              "#d8576b"
             ],
             [
              0.6666666666666666,
              "#ed7953"
             ],
             [
              0.7777777777777778,
              "#fb9f3a"
             ],
             [
              0.8888888888888888,
              "#fdca26"
             ],
             [
              1,
              "#f0f921"
             ]
            ],
            "type": "histogram2dcontour"
           }
          ],
          "mesh3d": [
           {
            "colorbar": {
             "outlinewidth": 0,
             "ticks": ""
            },
            "type": "mesh3d"
           }
          ],
          "parcoords": [
           {
            "line": {
             "colorbar": {
              "outlinewidth": 0,
              "ticks": ""
             }
            },
            "type": "parcoords"
           }
          ],
          "pie": [
           {
            "automargin": true,
            "type": "pie"
           }
          ],
          "scatter": [
           {
            "fillpattern": {
             "fillmode": "overlay",
             "size": 10,
             "solidity": 0.2
            },
            "type": "scatter"
           }
          ],
          "scatter3d": [
           {
            "line": {
             "colorbar": {
              "outlinewidth": 0,
              "ticks": ""
             }
            },
            "marker": {
             "colorbar": {
              "outlinewidth": 0,
              "ticks": ""
             }
            },
            "type": "scatter3d"
           }
          ],
          "scattercarpet": [
           {
            "marker": {
             "colorbar": {
              "outlinewidth": 0,
              "ticks": ""
             }
            },
            "type": "scattercarpet"
           }
          ],
          "scattergeo": [
           {
            "marker": {
             "colorbar": {
              "outlinewidth": 0,
              "ticks": ""
             }
            },
            "type": "scattergeo"
           }
          ],
          "scattergl": [
           {
            "marker": {
             "colorbar": {
              "outlinewidth": 0,
              "ticks": ""
             }
            },
            "type": "scattergl"
           }
          ],
          "scattermapbox": [
           {
            "marker": {
             "colorbar": {
              "outlinewidth": 0,
              "ticks": ""
             }
            },
            "type": "scattermapbox"
           }
          ],
          "scatterpolar": [
           {
            "marker": {
             "colorbar": {
              "outlinewidth": 0,
              "ticks": ""
             }
            },
            "type": "scatterpolar"
           }
          ],
          "scatterpolargl": [
           {
            "marker": {
             "colorbar": {
              "outlinewidth": 0,
              "ticks": ""
             }
            },
            "type": "scatterpolargl"
           }
          ],
          "scatterternary": [
           {
            "marker": {
             "colorbar": {
              "outlinewidth": 0,
              "ticks": ""
             }
            },
            "type": "scatterternary"
           }
          ],
          "surface": [
           {
            "colorbar": {
             "outlinewidth": 0,
             "ticks": ""
            },
            "colorscale": [
             [
              0,
              "#0d0887"
             ],
             [
              0.1111111111111111,
              "#46039f"
             ],
             [
              0.2222222222222222,
              "#7201a8"
             ],
             [
              0.3333333333333333,
              "#9c179e"
             ],
             [
              0.4444444444444444,
              "#bd3786"
             ],
             [
              0.5555555555555556,
              "#d8576b"
             ],
             [
              0.6666666666666666,
              "#ed7953"
             ],
             [
              0.7777777777777778,
              "#fb9f3a"
             ],
             [
              0.8888888888888888,
              "#fdca26"
             ],
             [
              1,
              "#f0f921"
             ]
            ],
            "type": "surface"
           }
          ],
          "table": [
           {
            "cells": {
             "fill": {
              "color": "#EBF0F8"
             },
             "line": {
              "color": "white"
             }
            },
            "header": {
             "fill": {
              "color": "#C8D4E3"
             },
             "line": {
              "color": "white"
             }
            },
            "type": "table"
           }
          ]
         },
         "layout": {
          "annotationdefaults": {
           "arrowcolor": "#2a3f5f",
           "arrowhead": 0,
           "arrowwidth": 1
          },
          "autotypenumbers": "strict",
          "coloraxis": {
           "colorbar": {
            "outlinewidth": 0,
            "ticks": ""
           }
          },
          "colorscale": {
           "diverging": [
            [
             0,
             "#8e0152"
            ],
            [
             0.1,
             "#c51b7d"
            ],
            [
             0.2,
             "#de77ae"
            ],
            [
             0.3,
             "#f1b6da"
            ],
            [
             0.4,
             "#fde0ef"
            ],
            [
             0.5,
             "#f7f7f7"
            ],
            [
             0.6,
             "#e6f5d0"
            ],
            [
             0.7,
             "#b8e186"
            ],
            [
             0.8,
             "#7fbc41"
            ],
            [
             0.9,
             "#4d9221"
            ],
            [
             1,
             "#276419"
            ]
           ],
           "sequential": [
            [
             0,
             "#0d0887"
            ],
            [
             0.1111111111111111,
             "#46039f"
            ],
            [
             0.2222222222222222,
             "#7201a8"
            ],
            [
             0.3333333333333333,
             "#9c179e"
            ],
            [
             0.4444444444444444,
             "#bd3786"
            ],
            [
             0.5555555555555556,
             "#d8576b"
            ],
            [
             0.6666666666666666,
             "#ed7953"
            ],
            [
             0.7777777777777778,
             "#fb9f3a"
            ],
            [
             0.8888888888888888,
             "#fdca26"
            ],
            [
             1,
             "#f0f921"
            ]
           ],
           "sequentialminus": [
            [
             0,
             "#0d0887"
            ],
            [
             0.1111111111111111,
             "#46039f"
            ],
            [
             0.2222222222222222,
             "#7201a8"
            ],
            [
             0.3333333333333333,
             "#9c179e"
            ],
            [
             0.4444444444444444,
             "#bd3786"
            ],
            [
             0.5555555555555556,
             "#d8576b"
            ],
            [
             0.6666666666666666,
             "#ed7953"
            ],
            [
             0.7777777777777778,
             "#fb9f3a"
            ],
            [
             0.8888888888888888,
             "#fdca26"
            ],
            [
             1,
             "#f0f921"
            ]
           ]
          },
          "colorway": [
           "#636efa",
           "#EF553B",
           "#00cc96",
           "#ab63fa",
           "#FFA15A",
           "#19d3f3",
           "#FF6692",
           "#B6E880",
           "#FF97FF",
           "#FECB52"
          ],
          "font": {
           "color": "#2a3f5f"
          },
          "geo": {
           "bgcolor": "white",
           "lakecolor": "white",
           "landcolor": "#E5ECF6",
           "showlakes": true,
           "showland": true,
           "subunitcolor": "white"
          },
          "hoverlabel": {
           "align": "left"
          },
          "hovermode": "closest",
          "mapbox": {
           "style": "light"
          },
          "paper_bgcolor": "white",
          "plot_bgcolor": "#E5ECF6",
          "polar": {
           "angularaxis": {
            "gridcolor": "white",
            "linecolor": "white",
            "ticks": ""
           },
           "bgcolor": "#E5ECF6",
           "radialaxis": {
            "gridcolor": "white",
            "linecolor": "white",
            "ticks": ""
           }
          },
          "scene": {
           "xaxis": {
            "backgroundcolor": "#E5ECF6",
            "gridcolor": "white",
            "gridwidth": 2,
            "linecolor": "white",
            "showbackground": true,
            "ticks": "",
            "zerolinecolor": "white"
           },
           "yaxis": {
            "backgroundcolor": "#E5ECF6",
            "gridcolor": "white",
            "gridwidth": 2,
            "linecolor": "white",
            "showbackground": true,
            "ticks": "",
            "zerolinecolor": "white"
           },
           "zaxis": {
            "backgroundcolor": "#E5ECF6",
            "gridcolor": "white",
            "gridwidth": 2,
            "linecolor": "white",
            "showbackground": true,
            "ticks": "",
            "zerolinecolor": "white"
           }
          },
          "shapedefaults": {
           "line": {
            "color": "#2a3f5f"
           }
          },
          "ternary": {
           "aaxis": {
            "gridcolor": "white",
            "linecolor": "white",
            "ticks": ""
           },
           "baxis": {
            "gridcolor": "white",
            "linecolor": "white",
            "ticks": ""
           },
           "bgcolor": "#E5ECF6",
           "caxis": {
            "gridcolor": "white",
            "linecolor": "white",
            "ticks": ""
           }
          },
          "title": {
           "x": 0.05
          },
          "xaxis": {
           "automargin": true,
           "gridcolor": "white",
           "linecolor": "white",
           "ticks": "",
           "title": {
            "standoff": 15
           },
           "zerolinecolor": "white",
           "zerolinewidth": 2
          },
          "yaxis": {
           "automargin": true,
           "gridcolor": "white",
           "linecolor": "white",
           "ticks": "",
           "title": {
            "standoff": 15
           },
           "zerolinecolor": "white",
           "zerolinewidth": 2
          }
         }
        },
        "title": {
         "text": "Spacecraft 3-5 Access, In Fov, and Connected"
        },
        "xaxis": {
         "anchor": "y",
         "domain": [
          0,
          1
         ],
         "type": "date"
        },
        "yaxis": {
         "anchor": "x",
         "categoryorder": "total ascending",
         "domain": [
          0,
          1
         ],
         "title": {
          "text": "antenna"
         }
        }
       }
      }
     },
     "metadata": {},
     "output_type": "display_data"
    },
    {
     "data": {
      "application/vnd.plotly.v1+json": {
       "config": {
        "plotlyServerURL": "https://plot.ly"
       },
       "data": [
        {
         "alignmentgroup": "True",
         "base": [
          "2024-10-31T00:41:10.000086+00:00",
          "2024-10-31T03:34:20.000086+00:00",
          "2024-10-31T05:09:40.000086+00:00",
          "2024-10-31T06:50:10.000086+00:00",
          "2024-10-31T08:33:10.000086+00:00",
          "2024-10-31T10:16:00.000086+00:00",
          "2024-10-31T11:57:00.000086+00:00",
          "2024-10-31T00:21:20.000086+00:00",
          "2024-10-31T02:07:40.000086+00:00",
          "2024-10-31T03:52:40.000086+00:00",
          "2024-10-31T05:31:10.000086+00:00",
          "2024-10-31T07:10:50.000086+00:00",
          "2024-10-31T08:52:10.000086+00:00",
          "2024-10-31T09:55:20.000086+00:00",
          "2024-10-31T11:36:30.000086+00:00",
          "2024-10-31T00:11:40.000086+00:00",
          "2024-10-31T01:53:00.000086+00:00",
          "2024-10-31T08:51:50.000086+00:00",
          "2024-10-31T10:29:30.000087+00:00",
          "2024-10-31T03:23:10.000087+00:00",
          "2024-10-31T05:03:50.000087+00:00",
          "2024-10-31T00:51:20.000086+00:00",
          "2024-10-31T02:33:40.000086+00:00",
          "2024-10-31T01:01:20.000086+00:00",
          "2024-10-31T09:47:00.000086+00:00",
          "2024-10-31T11:25:50.000086+00:00",
          "2024-10-31T00:05:00.000086+00:00",
          "2024-10-31T10:41:40.000086+00:00",
          "2024-10-31T00:00:00.000086+00:00",
          "2024-10-31T01:32:00.000086+00:00",
          "2024-10-31T02:04:40.000086+00:00",
          "2024-10-31T03:42:30.000086+00:00",
          "2024-10-31T05:21:30.000086+00:00",
          "2024-10-31T07:00:50.000086+00:00",
          "2024-10-31T08:40:40.000086+00:00",
          "2024-10-31T10:21:30.000086+00:00"
         ],
         "hovertemplate": "type=access<br>start=%{base}<br>end=%{x}<br>antenna=%{y}<extra></extra>",
         "legendgroup": "access",
         "marker": {
          "color": "#636efa",
          "pattern": {
           "shape": ""
          }
         },
         "name": "access",
         "offsetgroup": "access",
         "orientation": "h",
         "showlegend": true,
         "textposition": "auto",
         "type": "bar",
         "x": [
          550000,
          320000,
          790000,
          790000,
          650000,
          610000,
          170000,
          690000,
          250000,
          90000,
          620000,
          820000,
          660000,
          790000,
          720000,
          790000,
          690000,
          400000,
          819999.999,
          759999.999,
          719999.999,
          810000,
          540000,
          400000,
          610000,
          790000,
          520000.001,
          670000,
          260000,
          610000,
          570000,
          700000,
          730000,
          720000,
          630000.001,
          350000
         ],
         "xaxis": "x",
         "y": [
          "Dundee",
          "Chitose",
          "Chitose",
          "Chitose",
          "Chitose",
          "Chitose",
          "Chitose",
          "Mojave",
          "Mojave",
          "Mojave",
          "Mojave",
          "Mojave",
          "Mojave",
          "Dubai",
          "Dubai",
          "Paumalu",
          "Paumalu",
          "Paumalu",
          "Paumalu",
          "Harmon",
          "Harmon",
          "Sunyani",
          "Sunyani",
          "Mwulire",
          "Mwulire",
          "Mwulire",
          "Tahiti",
          "Tahiti",
          "Awarua",
          "Awarua",
          "Utqiagvik",
          "Utqiagvik",
          "Utqiagvik",
          "Utqiagvik",
          "Utqiagvik",
          "Utqiagvik"
         ],
         "yaxis": "y"
        },
        {
         "alignmentgroup": "True",
         "base": [
          "2024-10-31T06:52:10.000087+00:00",
          "2024-10-31T08:33:10.000086+00:00",
          "2024-10-31T08:36:00.000086+00:00",
          "2024-10-31T08:41:50.000086+00:00",
          "2024-10-31T10:16:00.000086+00:00",
          "2024-10-31T00:21:20.000086+00:00",
          "2024-10-31T05:31:10.000086+00:00",
          "2024-10-31T08:52:10.000086+00:00",
          "2024-10-31T09:55:20.000086+00:00",
          "2024-10-31T11:36:30.000086+00:00",
          "2024-10-31T00:11:50.000086+00:00",
          "2024-10-31T01:53:00.000086+00:00",
          "2024-10-31T08:52:50.000086+00:00",
          "2024-10-31T03:23:10.000087+00:00",
          "2024-10-31T05:03:50.000087+00:00",
          "2024-10-31T00:56:10.000086+00:00",
          "2024-10-31T02:33:40.000086+00:00",
          "2024-10-31T01:01:20.000086+00:00",
          "2024-10-31T09:47:00.000086+00:00",
          "2024-10-31T11:27:20.000086+00:00",
          "2024-10-31T11:30:20.000086+00:00",
          "2024-10-31T00:05:00.000086+00:00",
          "2024-10-31T00:12:40.000086+00:00",
          "2024-10-31T10:41:40.000086+00:00",
          "2024-10-31T00:00:10.000086+00:00",
          "2024-10-31T01:32:00.000086+00:00",
          "2024-10-31T07:00:50.000086+00:00",
          "2024-10-31T08:40:40.000086+00:00"
         ],
         "hovertemplate": "type=inFov<br>start=%{base}<br>end=%{x}<br>antenna=%{y}<extra></extra>",
         "legendgroup": "inFov",
         "marker": {
          "color": "#EF553B",
          "pattern": {
           "shape": ""
          }
         },
         "name": "inFov",
         "offsetgroup": "inFov",
         "orientation": "h",
         "showlegend": true,
         "textposition": "auto",
         "type": "bar",
         "x": [
          49999.999,
          60000,
          170000,
          120000,
          240000.001,
          200000,
          610000,
          180000,
          560000,
          530000,
          770000,
          680000,
          110000,
          749999.999,
          710000,
          300000,
          530000,
          300000,
          540000,
          130000,
          10000.001,
          170000,
          50000,
          660000,
          240000,
          600000,
          40000,
          120000
         ],
         "xaxis": "x",
         "y": [
          "Chitose",
          "Chitose",
          "Chitose",
          "Chitose",
          "Chitose",
          "Mojave",
          "Mojave",
          "Mojave",
          "Dubai",
          "Dubai",
          "Paumalu",
          "Paumalu",
          "Paumalu",
          "Harmon",
          "Harmon",
          "Sunyani",
          "Sunyani",
          "Mwulire",
          "Mwulire",
          "Mwulire",
          "Mwulire",
          "Tahiti",
          "Tahiti",
          "Tahiti",
          "Awarua",
          "Awarua",
          "Utqiagvik",
          "Utqiagvik"
         ],
         "yaxis": "y"
        },
        {
         "alignmentgroup": "True",
         "base": [
          "2024-10-31T08:33:10.000086+00:00",
          "2024-10-31T08:36:40.000086+00:00",
          "2024-10-31T08:41:50.000086+00:00",
          "2024-10-31T10:17:40.000087+00:00",
          "2024-10-31T05:31:10.000086+00:00",
          "2024-10-31T08:52:10.000086+00:00",
          "2024-10-31T09:55:20.000086+00:00",
          "2024-10-31T11:36:30.000086+00:00",
          "2024-10-31T00:11:50.000086+00:00",
          "2024-10-31T01:53:00.000086+00:00",
          "2024-10-31T03:23:10.000087+00:00",
          "2024-10-31T05:03:50.000087+00:00",
          "2024-10-31T00:56:10.000086+00:00",
          "2024-10-31T02:33:40.000086+00:00",
          "2024-10-31T01:01:20.000086+00:00",
          "2024-10-31T09:47:00.000086+00:00",
          "2024-10-31T11:30:20.000086+00:00",
          "2024-10-31T00:12:40.000086+00:00",
          "2024-10-31T10:41:40.000086+00:00",
          "2024-10-31T00:00:10.000086+00:00",
          "2024-10-31T01:32:00.000086+00:00"
         ],
         "hovertemplate": "type=connected<br>start=%{base}<br>end=%{x}<br>antenna=%{y}<extra></extra>",
         "legendgroup": "connected",
         "marker": {
          "color": "#00cc96",
          "pattern": {
           "shape": ""
          }
         },
         "name": "connected",
         "offsetgroup": "connected",
         "orientation": "h",
         "showlegend": true,
         "textposition": "auto",
         "type": "bar",
         "x": [
          60000,
          130000,
          120000,
          140000,
          610000,
          120000.001,
          560000,
          530000,
          770000,
          680000,
          749999.999,
          710000,
          300000,
          530000,
          300000,
          540000,
          10000.001,
          50000,
          660000,
          240000,
          600000
         ],
         "xaxis": "x",
         "y": [
          "Chitose",
          "Chitose",
          "Chitose",
          "Chitose",
          "Mojave",
          "Mojave",
          "Dubai",
          "Dubai",
          "Paumalu",
          "Paumalu",
          "Harmon",
          "Harmon",
          "Sunyani",
          "Sunyani",
          "Mwulire",
          "Mwulire",
          "Mwulire",
          "Tahiti",
          "Tahiti",
          "Awarua",
          "Awarua"
         ],
         "yaxis": "y"
        }
       ],
       "layout": {
        "barmode": "overlay",
        "legend": {
         "title": {
          "text": "type"
         },
         "tracegroupgap": 0
        },
        "margin": {
         "t": 60
        },
        "template": {
         "data": {
          "bar": [
           {
            "error_x": {
             "color": "#2a3f5f"
            },
            "error_y": {
             "color": "#2a3f5f"
            },
            "marker": {
             "line": {
              "color": "#E5ECF6",
              "width": 0.5
             },
             "pattern": {
              "fillmode": "overlay",
              "size": 10,
              "solidity": 0.2
             }
            },
            "type": "bar"
           }
          ],
          "barpolar": [
           {
            "marker": {
             "line": {
              "color": "#E5ECF6",
              "width": 0.5
             },
             "pattern": {
              "fillmode": "overlay",
              "size": 10,
              "solidity": 0.2
             }
            },
            "type": "barpolar"
           }
          ],
          "carpet": [
           {
            "aaxis": {
             "endlinecolor": "#2a3f5f",
             "gridcolor": "white",
             "linecolor": "white",
             "minorgridcolor": "white",
             "startlinecolor": "#2a3f5f"
            },
            "baxis": {
             "endlinecolor": "#2a3f5f",
             "gridcolor": "white",
             "linecolor": "white",
             "minorgridcolor": "white",
             "startlinecolor": "#2a3f5f"
            },
            "type": "carpet"
           }
          ],
          "choropleth": [
           {
            "colorbar": {
             "outlinewidth": 0,
             "ticks": ""
            },
            "type": "choropleth"
           }
          ],
          "contour": [
           {
            "colorbar": {
             "outlinewidth": 0,
             "ticks": ""
            },
            "colorscale": [
             [
              0,
              "#0d0887"
             ],
             [
              0.1111111111111111,
              "#46039f"
             ],
             [
              0.2222222222222222,
              "#7201a8"
             ],
             [
              0.3333333333333333,
              "#9c179e"
             ],
             [
              0.4444444444444444,
              "#bd3786"
             ],
             [
              0.5555555555555556,
              "#d8576b"
             ],
             [
              0.6666666666666666,
              "#ed7953"
             ],
             [
              0.7777777777777778,
              "#fb9f3a"
             ],
             [
              0.8888888888888888,
              "#fdca26"
             ],
             [
              1,
              "#f0f921"
             ]
            ],
            "type": "contour"
           }
          ],
          "contourcarpet": [
           {
            "colorbar": {
             "outlinewidth": 0,
             "ticks": ""
            },
            "type": "contourcarpet"
           }
          ],
          "heatmap": [
           {
            "colorbar": {
             "outlinewidth": 0,
             "ticks": ""
            },
            "colorscale": [
             [
              0,
              "#0d0887"
             ],
             [
              0.1111111111111111,
              "#46039f"
             ],
             [
              0.2222222222222222,
              "#7201a8"
             ],
             [
              0.3333333333333333,
              "#9c179e"
             ],
             [
              0.4444444444444444,
              "#bd3786"
             ],
             [
              0.5555555555555556,
              "#d8576b"
             ],
             [
              0.6666666666666666,
              "#ed7953"
             ],
             [
              0.7777777777777778,
              "#fb9f3a"
             ],
             [
              0.8888888888888888,
              "#fdca26"
             ],
             [
              1,
              "#f0f921"
             ]
            ],
            "type": "heatmap"
           }
          ],
          "heatmapgl": [
           {
            "colorbar": {
             "outlinewidth": 0,
             "ticks": ""
            },
            "colorscale": [
             [
              0,
              "#0d0887"
             ],
             [
              0.1111111111111111,
              "#46039f"
             ],
             [
              0.2222222222222222,
              "#7201a8"
             ],
             [
              0.3333333333333333,
              "#9c179e"
             ],
             [
              0.4444444444444444,
              "#bd3786"
             ],
             [
              0.5555555555555556,
              "#d8576b"
             ],
             [
              0.6666666666666666,
              "#ed7953"
             ],
             [
              0.7777777777777778,
              "#fb9f3a"
             ],
             [
              0.8888888888888888,
              "#fdca26"
             ],
             [
              1,
              "#f0f921"
             ]
            ],
            "type": "heatmapgl"
           }
          ],
          "histogram": [
           {
            "marker": {
             "pattern": {
              "fillmode": "overlay",
              "size": 10,
              "solidity": 0.2
             }
            },
            "type": "histogram"
           }
          ],
          "histogram2d": [
           {
            "colorbar": {
             "outlinewidth": 0,
             "ticks": ""
            },
            "colorscale": [
             [
              0,
              "#0d0887"
             ],
             [
              0.1111111111111111,
              "#46039f"
             ],
             [
              0.2222222222222222,
              "#7201a8"
             ],
             [
              0.3333333333333333,
              "#9c179e"
             ],
             [
              0.4444444444444444,
              "#bd3786"
             ],
             [
              0.5555555555555556,
              "#d8576b"
             ],
             [
              0.6666666666666666,
              "#ed7953"
             ],
             [
              0.7777777777777778,
              "#fb9f3a"
             ],
             [
              0.8888888888888888,
              "#fdca26"
             ],
             [
              1,
              "#f0f921"
             ]
            ],
            "type": "histogram2d"
           }
          ],
          "histogram2dcontour": [
           {
            "colorbar": {
             "outlinewidth": 0,
             "ticks": ""
            },
            "colorscale": [
             [
              0,
              "#0d0887"
             ],
             [
              0.1111111111111111,
              "#46039f"
             ],
             [
              0.2222222222222222,
              "#7201a8"
             ],
             [
              0.3333333333333333,
              "#9c179e"
             ],
             [
              0.4444444444444444,
              "#bd3786"
             ],
             [
              0.5555555555555556,
              "#d8576b"
             ],
             [
              0.6666666666666666,
              "#ed7953"
             ],
             [
              0.7777777777777778,
              "#fb9f3a"
             ],
             [
              0.8888888888888888,
              "#fdca26"
             ],
             [
              1,
              "#f0f921"
             ]
            ],
            "type": "histogram2dcontour"
           }
          ],
          "mesh3d": [
           {
            "colorbar": {
             "outlinewidth": 0,
             "ticks": ""
            },
            "type": "mesh3d"
           }
          ],
          "parcoords": [
           {
            "line": {
             "colorbar": {
              "outlinewidth": 0,
              "ticks": ""
             }
            },
            "type": "parcoords"
           }
          ],
          "pie": [
           {
            "automargin": true,
            "type": "pie"
           }
          ],
          "scatter": [
           {
            "fillpattern": {
             "fillmode": "overlay",
             "size": 10,
             "solidity": 0.2
            },
            "type": "scatter"
           }
          ],
          "scatter3d": [
           {
            "line": {
             "colorbar": {
              "outlinewidth": 0,
              "ticks": ""
             }
            },
            "marker": {
             "colorbar": {
              "outlinewidth": 0,
              "ticks": ""
             }
            },
            "type": "scatter3d"
           }
          ],
          "scattercarpet": [
           {
            "marker": {
             "colorbar": {
              "outlinewidth": 0,
              "ticks": ""
             }
            },
            "type": "scattercarpet"
           }
          ],
          "scattergeo": [
           {
            "marker": {
             "colorbar": {
              "outlinewidth": 0,
              "ticks": ""
             }
            },
            "type": "scattergeo"
           }
          ],
          "scattergl": [
           {
            "marker": {
             "colorbar": {
              "outlinewidth": 0,
              "ticks": ""
             }
            },
            "type": "scattergl"
           }
          ],
          "scattermapbox": [
           {
            "marker": {
             "colorbar": {
              "outlinewidth": 0,
              "ticks": ""
             }
            },
            "type": "scattermapbox"
           }
          ],
          "scatterpolar": [
           {
            "marker": {
             "colorbar": {
              "outlinewidth": 0,
              "ticks": ""
             }
            },
            "type": "scatterpolar"
           }
          ],
          "scatterpolargl": [
           {
            "marker": {
             "colorbar": {
              "outlinewidth": 0,
              "ticks": ""
             }
            },
            "type": "scatterpolargl"
           }
          ],
          "scatterternary": [
           {
            "marker": {
             "colorbar": {
              "outlinewidth": 0,
              "ticks": ""
             }
            },
            "type": "scatterternary"
           }
          ],
          "surface": [
           {
            "colorbar": {
             "outlinewidth": 0,
             "ticks": ""
            },
            "colorscale": [
             [
              0,
              "#0d0887"
             ],
             [
              0.1111111111111111,
              "#46039f"
             ],
             [
              0.2222222222222222,
              "#7201a8"
             ],
             [
              0.3333333333333333,
              "#9c179e"
             ],
             [
              0.4444444444444444,
              "#bd3786"
             ],
             [
              0.5555555555555556,
              "#d8576b"
             ],
             [
              0.6666666666666666,
              "#ed7953"
             ],
             [
              0.7777777777777778,
              "#fb9f3a"
             ],
             [
              0.8888888888888888,
              "#fdca26"
             ],
             [
              1,
              "#f0f921"
             ]
            ],
            "type": "surface"
           }
          ],
          "table": [
           {
            "cells": {
             "fill": {
              "color": "#EBF0F8"
             },
             "line": {
              "color": "white"
             }
            },
            "header": {
             "fill": {
              "color": "#C8D4E3"
             },
             "line": {
              "color": "white"
             }
            },
            "type": "table"
           }
          ]
         },
         "layout": {
          "annotationdefaults": {
           "arrowcolor": "#2a3f5f",
           "arrowhead": 0,
           "arrowwidth": 1
          },
          "autotypenumbers": "strict",
          "coloraxis": {
           "colorbar": {
            "outlinewidth": 0,
            "ticks": ""
           }
          },
          "colorscale": {
           "diverging": [
            [
             0,
             "#8e0152"
            ],
            [
             0.1,
             "#c51b7d"
            ],
            [
             0.2,
             "#de77ae"
            ],
            [
             0.3,
             "#f1b6da"
            ],
            [
             0.4,
             "#fde0ef"
            ],
            [
             0.5,
             "#f7f7f7"
            ],
            [
             0.6,
             "#e6f5d0"
            ],
            [
             0.7,
             "#b8e186"
            ],
            [
             0.8,
             "#7fbc41"
            ],
            [
             0.9,
             "#4d9221"
            ],
            [
             1,
             "#276419"
            ]
           ],
           "sequential": [
            [
             0,
             "#0d0887"
            ],
            [
             0.1111111111111111,
             "#46039f"
            ],
            [
             0.2222222222222222,
             "#7201a8"
            ],
            [
             0.3333333333333333,
             "#9c179e"
            ],
            [
             0.4444444444444444,
             "#bd3786"
            ],
            [
             0.5555555555555556,
             "#d8576b"
            ],
            [
             0.6666666666666666,
             "#ed7953"
            ],
            [
             0.7777777777777778,
             "#fb9f3a"
            ],
            [
             0.8888888888888888,
             "#fdca26"
            ],
            [
             1,
             "#f0f921"
            ]
           ],
           "sequentialminus": [
            [
             0,
             "#0d0887"
            ],
            [
             0.1111111111111111,
             "#46039f"
            ],
            [
             0.2222222222222222,
             "#7201a8"
            ],
            [
             0.3333333333333333,
             "#9c179e"
            ],
            [
             0.4444444444444444,
             "#bd3786"
            ],
            [
             0.5555555555555556,
             "#d8576b"
            ],
            [
             0.6666666666666666,
             "#ed7953"
            ],
            [
             0.7777777777777778,
             "#fb9f3a"
            ],
            [
             0.8888888888888888,
             "#fdca26"
            ],
            [
             1,
             "#f0f921"
            ]
           ]
          },
          "colorway": [
           "#636efa",
           "#EF553B",
           "#00cc96",
           "#ab63fa",
           "#FFA15A",
           "#19d3f3",
           "#FF6692",
           "#B6E880",
           "#FF97FF",
           "#FECB52"
          ],
          "font": {
           "color": "#2a3f5f"
          },
          "geo": {
           "bgcolor": "white",
           "lakecolor": "white",
           "landcolor": "#E5ECF6",
           "showlakes": true,
           "showland": true,
           "subunitcolor": "white"
          },
          "hoverlabel": {
           "align": "left"
          },
          "hovermode": "closest",
          "mapbox": {
           "style": "light"
          },
          "paper_bgcolor": "white",
          "plot_bgcolor": "#E5ECF6",
          "polar": {
           "angularaxis": {
            "gridcolor": "white",
            "linecolor": "white",
            "ticks": ""
           },
           "bgcolor": "#E5ECF6",
           "radialaxis": {
            "gridcolor": "white",
            "linecolor": "white",
            "ticks": ""
           }
          },
          "scene": {
           "xaxis": {
            "backgroundcolor": "#E5ECF6",
            "gridcolor": "white",
            "gridwidth": 2,
            "linecolor": "white",
            "showbackground": true,
            "ticks": "",
            "zerolinecolor": "white"
           },
           "yaxis": {
            "backgroundcolor": "#E5ECF6",
            "gridcolor": "white",
            "gridwidth": 2,
            "linecolor": "white",
            "showbackground": true,
            "ticks": "",
            "zerolinecolor": "white"
           },
           "zaxis": {
            "backgroundcolor": "#E5ECF6",
            "gridcolor": "white",
            "gridwidth": 2,
            "linecolor": "white",
            "showbackground": true,
            "ticks": "",
            "zerolinecolor": "white"
           }
          },
          "shapedefaults": {
           "line": {
            "color": "#2a3f5f"
           }
          },
          "ternary": {
           "aaxis": {
            "gridcolor": "white",
            "linecolor": "white",
            "ticks": ""
           },
           "baxis": {
            "gridcolor": "white",
            "linecolor": "white",
            "ticks": ""
           },
           "bgcolor": "#E5ECF6",
           "caxis": {
            "gridcolor": "white",
            "linecolor": "white",
            "ticks": ""
           }
          },
          "title": {
           "x": 0.05
          },
          "xaxis": {
           "automargin": true,
           "gridcolor": "white",
           "linecolor": "white",
           "ticks": "",
           "title": {
            "standoff": 15
           },
           "zerolinecolor": "white",
           "zerolinewidth": 2
          },
          "yaxis": {
           "automargin": true,
           "gridcolor": "white",
           "linecolor": "white",
           "ticks": "",
           "title": {
            "standoff": 15
           },
           "zerolinecolor": "white",
           "zerolinewidth": 2
          }
         }
        },
        "title": {
         "text": "Spacecraft 3-6 Access, In Fov, and Connected"
        },
        "xaxis": {
         "anchor": "y",
         "domain": [
          0,
          1
         ],
         "type": "date"
        },
        "yaxis": {
         "anchor": "x",
         "categoryorder": "total ascending",
         "domain": [
          0,
          1
         ],
         "title": {
          "text": "antenna"
         }
        }
       }
      }
     },
     "metadata": {},
     "output_type": "display_data"
    },
    {
     "data": {
      "application/vnd.plotly.v1+json": {
       "config": {
        "plotlyServerURL": "https://plot.ly"
       },
       "data": [
        {
         "alignmentgroup": "True",
         "base": [
          "2024-10-31T00:28:20.000086+00:00",
          "2024-10-31T04:57:00.000086+00:00",
          "2024-10-31T06:36:50.000086+00:00",
          "2024-10-31T08:19:20.000086+00:00",
          "2024-10-31T10:02:20.000086+00:00",
          "2024-10-31T11:43:30.000087+00:00",
          "2024-10-31T00:08:30.000086+00:00",
          "2024-10-31T01:54:00.000086+00:00",
          "2024-10-31T05:18:20.000086+00:00",
          "2024-10-31T06:57:40.000086+00:00",
          "2024-10-31T08:38:30.000086+00:00",
          "2024-10-31T09:42:20.000086+00:00",
          "2024-10-31T11:22:30.000086+00:00",
          "2024-10-31T00:00:00.000086+00:00",
          "2024-10-31T01:39:50.000086+00:00",
          "2024-10-31T08:40:00.000086+00:00",
          "2024-10-31T10:16:10.000086+00:00",
          "2024-10-31T11:57:20.000086+00:00",
          "2024-10-31T03:10:40.000086+00:00",
          "2024-10-31T04:50:30.000086+00:00",
          "2024-10-31T00:38:50.000086+00:00",
          "2024-10-31T02:20:20.000086+00:00",
          "2024-10-31T00:47:40.000086+00:00",
          "2024-10-31T09:34:20.000086+00:00",
          "2024-10-31T11:12:00.000086+00:00",
          "2024-10-31T00:00:00.000086+00:00",
          "2024-10-31T10:29:00.000086+00:00",
          "2024-10-31T01:19:10.000086+00:00",
          "2024-10-31T01:52:30.000086+00:00",
          "2024-10-31T03:30:00.000086+00:00",
          "2024-10-31T05:08:40.000086+00:00",
          "2024-10-31T06:47:50.000086+00:00",
          "2024-10-31T08:27:30.000087+00:00",
          "2024-10-31T10:07:50.000086+00:00"
         ],
         "hovertemplate": "type=access<br>start=%{base}<br>end=%{x}<br>antenna=%{y}<extra></extra>",
         "legendgroup": "access",
         "marker": {
          "color": "#636efa",
          "pattern": {
           "shape": ""
          }
         },
         "name": "access",
         "offsetgroup": "access",
         "orientation": "h",
         "showlegend": true,
         "textposition": "auto",
         "type": "bar",
         "x": [
          600000,
          760000,
          800000,
          670000.001,
          600000.001,
          719999.999,
          710000,
          320000,
          570000,
          800000,
          700000,
          750000,
          750000,
          720000,
          730000.001,
          180000,
          790000,
          150000,
          720000,
          750000,
          790000,
          620000,
          520000.001,
          510000,
          810000,
          110000.001,
          580000,
          660000,
          530000,
          680000,
          720000,
          720000,
          640000,
          410000.001
         ],
         "xaxis": "x",
         "y": [
          "Dundee",
          "Chitose",
          "Chitose",
          "Chitose",
          "Chitose",
          "Chitose",
          "Mojave",
          "Mojave",
          "Mojave",
          "Mojave",
          "Mojave",
          "Dubai",
          "Dubai",
          "Paumalu",
          "Paumalu",
          "Paumalu",
          "Paumalu",
          "Paumalu",
          "Harmon",
          "Harmon",
          "Sunyani",
          "Sunyani",
          "Mwulire",
          "Mwulire",
          "Mwulire",
          "Tahiti",
          "Tahiti",
          "Awarua",
          "Utqiagvik",
          "Utqiagvik",
          "Utqiagvik",
          "Utqiagvik",
          "Utqiagvik",
          "Utqiagvik"
         ],
         "yaxis": "y"
        },
        {
         "alignmentgroup": "True",
         "base": [
          "2024-10-31T05:03:30.000086+00:00",
          "2024-10-31T06:40:10.000086+00:00",
          "2024-10-31T08:23:00.000086+00:00",
          "2024-10-31T08:27:30.000087+00:00",
          "2024-10-31T10:02:20.000086+00:00",
          "2024-10-31T11:48:20.000086+00:00",
          "2024-10-31T00:09:40.000086+00:00",
          "2024-10-31T05:18:20.000086+00:00",
          "2024-10-31T08:38:50.000086+00:00",
          "2024-10-31T09:43:00.000086+00:00",
          "2024-10-31T11:30:40.000086+00:00",
          "2024-10-31T00:00:10.000086+00:00",
          "2024-10-31T01:39:50.000086+00:00",
          "2024-10-31T03:10:40.000086+00:00",
          "2024-10-31T04:51:00.000086+00:00",
          "2024-10-31T00:44:30.000087+00:00",
          "2024-10-31T02:20:20.000086+00:00",
          "2024-10-31T00:47:40.000086+00:00",
          "2024-10-31T09:34:30.000086+00:00",
          "2024-10-31T10:29:00.000086+00:00",
          "2024-10-31T01:24:10.000087+00:00",
          "2024-10-31T08:27:30.000087+00:00"
         ],
         "hovertemplate": "type=inFov<br>start=%{base}<br>end=%{x}<br>antenna=%{y}<extra></extra>",
         "legendgroup": "inFov",
         "marker": {
          "color": "#EF553B",
          "pattern": {
           "shape": ""
          }
         },
         "name": "inFov",
         "offsetgroup": "inFov",
         "orientation": "h",
         "showlegend": true,
         "textposition": "auto",
         "type": "bar",
         "x": [
          50000,
          60000,
          100000,
          180000,
          170000,
          190000,
          150000,
          560000,
          220000,
          700000,
          180000,
          700000,
          720000,
          710000,
          720000,
          179999.999,
          610000.001,
          510000,
          500000,
          570000,
          349999.999,
          109999.999
         ],
         "xaxis": "x",
         "y": [
          "Chitose",
          "Chitose",
          "Chitose",
          "Chitose",
          "Chitose",
          "Chitose",
          "Mojave",
          "Mojave",
          "Mojave",
          "Dubai",
          "Dubai",
          "Paumalu",
          "Paumalu",
          "Harmon",
          "Harmon",
          "Sunyani",
          "Sunyani",
          "Mwulire",
          "Mwulire",
          "Tahiti",
          "Awarua",
          "Utqiagvik"
         ],
         "yaxis": "y"
        },
        {
         "alignmentgroup": "True",
         "base": [
          "2024-10-31T08:27:30.000087+00:00",
          "2024-10-31T11:48:20.000086+00:00",
          "2024-10-31T05:18:20.000086+00:00",
          "2024-10-31T08:38:50.000086+00:00",
          "2024-10-31T09:43:00.000086+00:00",
          "2024-10-31T00:00:10.000086+00:00",
          "2024-10-31T01:39:50.000086+00:00",
          "2024-10-31T03:10:40.000086+00:00",
          "2024-10-31T04:51:00.000086+00:00",
          "2024-10-31T00:44:30.000087+00:00",
          "2024-10-31T02:20:20.000086+00:00",
          "2024-10-31T00:47:40.000086+00:00",
          "2024-10-31T09:34:30.000086+00:00",
          "2024-10-31T10:29:00.000086+00:00",
          "2024-10-31T01:24:10.000087+00:00"
         ],
         "hovertemplate": "type=connected<br>start=%{base}<br>end=%{x}<br>antenna=%{y}<extra></extra>",
         "legendgroup": "connected",
         "marker": {
          "color": "#00cc96",
          "pattern": {
           "shape": ""
          }
         },
         "name": "connected",
         "offsetgroup": "connected",
         "orientation": "h",
         "showlegend": true,
         "textposition": "auto",
         "type": "bar",
         "x": [
          180000,
          190000,
          560000,
          180000,
          700000,
          700000,
          720000,
          710000,
          720000,
          179999.999,
          610000.001,
          510000,
          500000,
          570000,
          349999.999
         ],
         "xaxis": "x",
         "y": [
          "Chitose",
          "Chitose",
          "Mojave",
          "Mojave",
          "Dubai",
          "Paumalu",
          "Paumalu",
          "Harmon",
          "Harmon",
          "Sunyani",
          "Sunyani",
          "Mwulire",
          "Mwulire",
          "Tahiti",
          "Awarua"
         ],
         "yaxis": "y"
        }
       ],
       "layout": {
        "barmode": "overlay",
        "legend": {
         "title": {
          "text": "type"
         },
         "tracegroupgap": 0
        },
        "margin": {
         "t": 60
        },
        "template": {
         "data": {
          "bar": [
           {
            "error_x": {
             "color": "#2a3f5f"
            },
            "error_y": {
             "color": "#2a3f5f"
            },
            "marker": {
             "line": {
              "color": "#E5ECF6",
              "width": 0.5
             },
             "pattern": {
              "fillmode": "overlay",
              "size": 10,
              "solidity": 0.2
             }
            },
            "type": "bar"
           }
          ],
          "barpolar": [
           {
            "marker": {
             "line": {
              "color": "#E5ECF6",
              "width": 0.5
             },
             "pattern": {
              "fillmode": "overlay",
              "size": 10,
              "solidity": 0.2
             }
            },
            "type": "barpolar"
           }
          ],
          "carpet": [
           {
            "aaxis": {
             "endlinecolor": "#2a3f5f",
             "gridcolor": "white",
             "linecolor": "white",
             "minorgridcolor": "white",
             "startlinecolor": "#2a3f5f"
            },
            "baxis": {
             "endlinecolor": "#2a3f5f",
             "gridcolor": "white",
             "linecolor": "white",
             "minorgridcolor": "white",
             "startlinecolor": "#2a3f5f"
            },
            "type": "carpet"
           }
          ],
          "choropleth": [
           {
            "colorbar": {
             "outlinewidth": 0,
             "ticks": ""
            },
            "type": "choropleth"
           }
          ],
          "contour": [
           {
            "colorbar": {
             "outlinewidth": 0,
             "ticks": ""
            },
            "colorscale": [
             [
              0,
              "#0d0887"
             ],
             [
              0.1111111111111111,
              "#46039f"
             ],
             [
              0.2222222222222222,
              "#7201a8"
             ],
             [
              0.3333333333333333,
              "#9c179e"
             ],
             [
              0.4444444444444444,
              "#bd3786"
             ],
             [
              0.5555555555555556,
              "#d8576b"
             ],
             [
              0.6666666666666666,
              "#ed7953"
             ],
             [
              0.7777777777777778,
              "#fb9f3a"
             ],
             [
              0.8888888888888888,
              "#fdca26"
             ],
             [
              1,
              "#f0f921"
             ]
            ],
            "type": "contour"
           }
          ],
          "contourcarpet": [
           {
            "colorbar": {
             "outlinewidth": 0,
             "ticks": ""
            },
            "type": "contourcarpet"
           }
          ],
          "heatmap": [
           {
            "colorbar": {
             "outlinewidth": 0,
             "ticks": ""
            },
            "colorscale": [
             [
              0,
              "#0d0887"
             ],
             [
              0.1111111111111111,
              "#46039f"
             ],
             [
              0.2222222222222222,
              "#7201a8"
             ],
             [
              0.3333333333333333,
              "#9c179e"
             ],
             [
              0.4444444444444444,
              "#bd3786"
             ],
             [
              0.5555555555555556,
              "#d8576b"
             ],
             [
              0.6666666666666666,
              "#ed7953"
             ],
             [
              0.7777777777777778,
              "#fb9f3a"
             ],
             [
              0.8888888888888888,
              "#fdca26"
             ],
             [
              1,
              "#f0f921"
             ]
            ],
            "type": "heatmap"
           }
          ],
          "heatmapgl": [
           {
            "colorbar": {
             "outlinewidth": 0,
             "ticks": ""
            },
            "colorscale": [
             [
              0,
              "#0d0887"
             ],
             [
              0.1111111111111111,
              "#46039f"
             ],
             [
              0.2222222222222222,
              "#7201a8"
             ],
             [
              0.3333333333333333,
              "#9c179e"
             ],
             [
              0.4444444444444444,
              "#bd3786"
             ],
             [
              0.5555555555555556,
              "#d8576b"
             ],
             [
              0.6666666666666666,
              "#ed7953"
             ],
             [
              0.7777777777777778,
              "#fb9f3a"
             ],
             [
              0.8888888888888888,
              "#fdca26"
             ],
             [
              1,
              "#f0f921"
             ]
            ],
            "type": "heatmapgl"
           }
          ],
          "histogram": [
           {
            "marker": {
             "pattern": {
              "fillmode": "overlay",
              "size": 10,
              "solidity": 0.2
             }
            },
            "type": "histogram"
           }
          ],
          "histogram2d": [
           {
            "colorbar": {
             "outlinewidth": 0,
             "ticks": ""
            },
            "colorscale": [
             [
              0,
              "#0d0887"
             ],
             [
              0.1111111111111111,
              "#46039f"
             ],
             [
              0.2222222222222222,
              "#7201a8"
             ],
             [
              0.3333333333333333,
              "#9c179e"
             ],
             [
              0.4444444444444444,
              "#bd3786"
             ],
             [
              0.5555555555555556,
              "#d8576b"
             ],
             [
              0.6666666666666666,
              "#ed7953"
             ],
             [
              0.7777777777777778,
              "#fb9f3a"
             ],
             [
              0.8888888888888888,
              "#fdca26"
             ],
             [
              1,
              "#f0f921"
             ]
            ],
            "type": "histogram2d"
           }
          ],
          "histogram2dcontour": [
           {
            "colorbar": {
             "outlinewidth": 0,
             "ticks": ""
            },
            "colorscale": [
             [
              0,
              "#0d0887"
             ],
             [
              0.1111111111111111,
              "#46039f"
             ],
             [
              0.2222222222222222,
              "#7201a8"
             ],
             [
              0.3333333333333333,
              "#9c179e"
             ],
             [
              0.4444444444444444,
              "#bd3786"
             ],
             [
              0.5555555555555556,
              "#d8576b"
             ],
             [
              0.6666666666666666,
              "#ed7953"
             ],
             [
              0.7777777777777778,
              "#fb9f3a"
             ],
             [
              0.8888888888888888,
              "#fdca26"
             ],
             [
              1,
              "#f0f921"
             ]
            ],
            "type": "histogram2dcontour"
           }
          ],
          "mesh3d": [
           {
            "colorbar": {
             "outlinewidth": 0,
             "ticks": ""
            },
            "type": "mesh3d"
           }
          ],
          "parcoords": [
           {
            "line": {
             "colorbar": {
              "outlinewidth": 0,
              "ticks": ""
             }
            },
            "type": "parcoords"
           }
          ],
          "pie": [
           {
            "automargin": true,
            "type": "pie"
           }
          ],
          "scatter": [
           {
            "fillpattern": {
             "fillmode": "overlay",
             "size": 10,
             "solidity": 0.2
            },
            "type": "scatter"
           }
          ],
          "scatter3d": [
           {
            "line": {
             "colorbar": {
              "outlinewidth": 0,
              "ticks": ""
             }
            },
            "marker": {
             "colorbar": {
              "outlinewidth": 0,
              "ticks": ""
             }
            },
            "type": "scatter3d"
           }
          ],
          "scattercarpet": [
           {
            "marker": {
             "colorbar": {
              "outlinewidth": 0,
              "ticks": ""
             }
            },
            "type": "scattercarpet"
           }
          ],
          "scattergeo": [
           {
            "marker": {
             "colorbar": {
              "outlinewidth": 0,
              "ticks": ""
             }
            },
            "type": "scattergeo"
           }
          ],
          "scattergl": [
           {
            "marker": {
             "colorbar": {
              "outlinewidth": 0,
              "ticks": ""
             }
            },
            "type": "scattergl"
           }
          ],
          "scattermapbox": [
           {
            "marker": {
             "colorbar": {
              "outlinewidth": 0,
              "ticks": ""
             }
            },
            "type": "scattermapbox"
           }
          ],
          "scatterpolar": [
           {
            "marker": {
             "colorbar": {
              "outlinewidth": 0,
              "ticks": ""
             }
            },
            "type": "scatterpolar"
           }
          ],
          "scatterpolargl": [
           {
            "marker": {
             "colorbar": {
              "outlinewidth": 0,
              "ticks": ""
             }
            },
            "type": "scatterpolargl"
           }
          ],
          "scatterternary": [
           {
            "marker": {
             "colorbar": {
              "outlinewidth": 0,
              "ticks": ""
             }
            },
            "type": "scatterternary"
           }
          ],
          "surface": [
           {
            "colorbar": {
             "outlinewidth": 0,
             "ticks": ""
            },
            "colorscale": [
             [
              0,
              "#0d0887"
             ],
             [
              0.1111111111111111,
              "#46039f"
             ],
             [
              0.2222222222222222,
              "#7201a8"
             ],
             [
              0.3333333333333333,
              "#9c179e"
             ],
             [
              0.4444444444444444,
              "#bd3786"
             ],
             [
              0.5555555555555556,
              "#d8576b"
             ],
             [
              0.6666666666666666,
              "#ed7953"
             ],
             [
              0.7777777777777778,
              "#fb9f3a"
             ],
             [
              0.8888888888888888,
              "#fdca26"
             ],
             [
              1,
              "#f0f921"
             ]
            ],
            "type": "surface"
           }
          ],
          "table": [
           {
            "cells": {
             "fill": {
              "color": "#EBF0F8"
             },
             "line": {
              "color": "white"
             }
            },
            "header": {
             "fill": {
              "color": "#C8D4E3"
             },
             "line": {
              "color": "white"
             }
            },
            "type": "table"
           }
          ]
         },
         "layout": {
          "annotationdefaults": {
           "arrowcolor": "#2a3f5f",
           "arrowhead": 0,
           "arrowwidth": 1
          },
          "autotypenumbers": "strict",
          "coloraxis": {
           "colorbar": {
            "outlinewidth": 0,
            "ticks": ""
           }
          },
          "colorscale": {
           "diverging": [
            [
             0,
             "#8e0152"
            ],
            [
             0.1,
             "#c51b7d"
            ],
            [
             0.2,
             "#de77ae"
            ],
            [
             0.3,
             "#f1b6da"
            ],
            [
             0.4,
             "#fde0ef"
            ],
            [
             0.5,
             "#f7f7f7"
            ],
            [
             0.6,
             "#e6f5d0"
            ],
            [
             0.7,
             "#b8e186"
            ],
            [
             0.8,
             "#7fbc41"
            ],
            [
             0.9,
             "#4d9221"
            ],
            [
             1,
             "#276419"
            ]
           ],
           "sequential": [
            [
             0,
             "#0d0887"
            ],
            [
             0.1111111111111111,
             "#46039f"
            ],
            [
             0.2222222222222222,
             "#7201a8"
            ],
            [
             0.3333333333333333,
             "#9c179e"
            ],
            [
             0.4444444444444444,
             "#bd3786"
            ],
            [
             0.5555555555555556,
             "#d8576b"
            ],
            [
             0.6666666666666666,
             "#ed7953"
            ],
            [
             0.7777777777777778,
             "#fb9f3a"
            ],
            [
             0.8888888888888888,
             "#fdca26"
            ],
            [
             1,
             "#f0f921"
            ]
           ],
           "sequentialminus": [
            [
             0,
             "#0d0887"
            ],
            [
             0.1111111111111111,
             "#46039f"
            ],
            [
             0.2222222222222222,
             "#7201a8"
            ],
            [
             0.3333333333333333,
             "#9c179e"
            ],
            [
             0.4444444444444444,
             "#bd3786"
            ],
            [
             0.5555555555555556,
             "#d8576b"
            ],
            [
             0.6666666666666666,
             "#ed7953"
            ],
            [
             0.7777777777777778,
             "#fb9f3a"
            ],
            [
             0.8888888888888888,
             "#fdca26"
            ],
            [
             1,
             "#f0f921"
            ]
           ]
          },
          "colorway": [
           "#636efa",
           "#EF553B",
           "#00cc96",
           "#ab63fa",
           "#FFA15A",
           "#19d3f3",
           "#FF6692",
           "#B6E880",
           "#FF97FF",
           "#FECB52"
          ],
          "font": {
           "color": "#2a3f5f"
          },
          "geo": {
           "bgcolor": "white",
           "lakecolor": "white",
           "landcolor": "#E5ECF6",
           "showlakes": true,
           "showland": true,
           "subunitcolor": "white"
          },
          "hoverlabel": {
           "align": "left"
          },
          "hovermode": "closest",
          "mapbox": {
           "style": "light"
          },
          "paper_bgcolor": "white",
          "plot_bgcolor": "#E5ECF6",
          "polar": {
           "angularaxis": {
            "gridcolor": "white",
            "linecolor": "white",
            "ticks": ""
           },
           "bgcolor": "#E5ECF6",
           "radialaxis": {
            "gridcolor": "white",
            "linecolor": "white",
            "ticks": ""
           }
          },
          "scene": {
           "xaxis": {
            "backgroundcolor": "#E5ECF6",
            "gridcolor": "white",
            "gridwidth": 2,
            "linecolor": "white",
            "showbackground": true,
            "ticks": "",
            "zerolinecolor": "white"
           },
           "yaxis": {
            "backgroundcolor": "#E5ECF6",
            "gridcolor": "white",
            "gridwidth": 2,
            "linecolor": "white",
            "showbackground": true,
            "ticks": "",
            "zerolinecolor": "white"
           },
           "zaxis": {
            "backgroundcolor": "#E5ECF6",
            "gridcolor": "white",
            "gridwidth": 2,
            "linecolor": "white",
            "showbackground": true,
            "ticks": "",
            "zerolinecolor": "white"
           }
          },
          "shapedefaults": {
           "line": {
            "color": "#2a3f5f"
           }
          },
          "ternary": {
           "aaxis": {
            "gridcolor": "white",
            "linecolor": "white",
            "ticks": ""
           },
           "baxis": {
            "gridcolor": "white",
            "linecolor": "white",
            "ticks": ""
           },
           "bgcolor": "#E5ECF6",
           "caxis": {
            "gridcolor": "white",
            "linecolor": "white",
            "ticks": ""
           }
          },
          "title": {
           "x": 0.05
          },
          "xaxis": {
           "automargin": true,
           "gridcolor": "white",
           "linecolor": "white",
           "ticks": "",
           "title": {
            "standoff": 15
           },
           "zerolinecolor": "white",
           "zerolinewidth": 2
          },
          "yaxis": {
           "automargin": true,
           "gridcolor": "white",
           "linecolor": "white",
           "ticks": "",
           "title": {
            "standoff": 15
           },
           "zerolinecolor": "white",
           "zerolinewidth": 2
          }
         }
        },
        "title": {
         "text": "Spacecraft 3-7 Access, In Fov, and Connected"
        },
        "xaxis": {
         "anchor": "y",
         "domain": [
          0,
          1
         ],
         "type": "date"
        },
        "yaxis": {
         "anchor": "x",
         "categoryorder": "total ascending",
         "domain": [
          0,
          1
         ],
         "title": {
          "text": "antenna"
         }
        }
       }
      }
     },
     "metadata": {},
     "output_type": "display_data"
    },
    {
     "data": {
      "application/vnd.plotly.v1+json": {
       "config": {
        "plotlyServerURL": "https://plot.ly"
       },
       "data": [
        {
         "alignmentgroup": "True",
         "base": [
          "2024-10-31T00:15:40.000086+00:00",
          "2024-10-31T04:45:10.000086+00:00",
          "2024-10-31T06:24:50.000086+00:00",
          "2024-10-31T08:07:20.000086+00:00",
          "2024-10-31T09:50:30.000086+00:00",
          "2024-10-31T11:31:50.000086+00:00",
          "2024-10-31T00:00:00.000086+00:00",
          "2024-10-31T01:40:40.000086+00:00",
          "2024-10-31T05:06:20.000086+00:00",
          "2024-10-31T06:45:50.000086+00:00",
          "2024-10-31T08:26:30.000086+00:00",
          "2024-10-31T09:31:00.000086+00:00",
          "2024-10-31T11:10:50.000086+00:00",
          "2024-10-31T01:27:10.000086+00:00",
          "2024-10-31T10:04:40.000086+00:00",
          "2024-10-31T11:45:30.000086+00:00",
          "2024-10-31T02:59:00.000086+00:00",
          "2024-10-31T04:38:10.000086+00:00",
          "2024-10-31T00:26:30.000086+00:00",
          "2024-10-31T02:07:20.000086+00:00",
          "2024-10-31T00:34:20.000086+00:00",
          "2024-10-31T09:23:50.000086+00:00",
          "2024-10-31T11:00:30.000086+00:00",
          "2024-10-31T10:18:10.000086+00:00",
          "2024-10-31T11:55:30.000086+00:00",
          "2024-10-31T01:06:30.000086+00:00",
          "2024-10-31T01:40:40.000086+00:00",
          "2024-10-31T03:18:00.000086+00:00",
          "2024-10-31T04:56:40.000086+00:00",
          "2024-10-31T06:36:00.000086+00:00",
          "2024-10-31T08:15:40.000087+00:00",
          "2024-10-31T09:56:00.000086+00:00"
         ],
         "hovertemplate": "type=access<br>start=%{base}<br>end=%{x}<br>antenna=%{y}<extra></extra>",
         "legendgroup": "access",
         "marker": {
          "color": "#636efa",
          "pattern": {
           "shape": ""
          }
         },
         "name": "access",
         "offsetgroup": "access",
         "orientation": "h",
         "showlegend": true,
         "textposition": "auto",
         "type": "bar",
         "x": [
          650000,
          740000,
          810000,
          690000,
          600000.001,
          720000,
          480000,
          400000,
          530000,
          800000,
          750000,
          720000,
          780000,
          760000,
          780000.001,
          720000,
          660000,
          780000,
          770000,
          700000,
          620000,
          370000,
          820000,
          500000.001,
          260000,
          700000,
          500000.001,
          670000,
          730000,
          730000,
          659999.999,
          460000
         ],
         "xaxis": "x",
         "y": [
          "Dundee",
          "Chitose",
          "Chitose",
          "Chitose",
          "Chitose",
          "Chitose",
          "Mojave",
          "Mojave",
          "Mojave",
          "Mojave",
          "Mojave",
          "Dubai",
          "Dubai",
          "Paumalu",
          "Paumalu",
          "Paumalu",
          "Harmon",
          "Harmon",
          "Sunyani",
          "Sunyani",
          "Mwulire",
          "Mwulire",
          "Mwulire",
          "Tahiti",
          "Tahiti",
          "Awarua",
          "Utqiagvik",
          "Utqiagvik",
          "Utqiagvik",
          "Utqiagvik",
          "Utqiagvik",
          "Utqiagvik"
         ],
         "yaxis": "y"
        },
        {
         "alignmentgroup": "True",
         "base": [
          "2024-10-31T00:15:40.000086+00:00",
          "2024-10-31T00:23:10.000087+00:00",
          "2024-10-31T04:51:30.000086+00:00",
          "2024-10-31T06:24:50.000086+00:00",
          "2024-10-31T08:11:30.000087+00:00",
          "2024-10-31T08:14:10.000086+00:00",
          "2024-10-31T09:50:30.000086+00:00",
          "2024-10-31T09:54:40.000086+00:00",
          "2024-10-31T11:31:50.000086+00:00",
          "2024-10-31T11:43:40.000086+00:00",
          "2024-10-31T05:15:00.000086+00:00",
          "2024-10-31T08:29:20.000086+00:00",
          "2024-10-31T09:31:00.000086+00:00",
          "2024-10-31T11:13:40.000086+00:00",
          "2024-10-31T01:27:10.000086+00:00",
          "2024-10-31T10:04:40.000086+00:00",
          "2024-10-31T11:45:30.000086+00:00",
          "2024-10-31T02:59:00.000086+00:00",
          "2024-10-31T04:38:10.000086+00:00",
          "2024-10-31T00:32:40.000087+00:00",
          "2024-10-31T02:07:20.000086+00:00",
          "2024-10-31T00:34:20.000086+00:00",
          "2024-10-31T09:23:50.000086+00:00",
          "2024-10-31T10:18:10.000086+00:00",
          "2024-10-31T11:55:30.000086+00:00",
          "2024-10-31T01:06:30.000086+00:00",
          "2024-10-31T01:11:50.000086+00:00",
          "2024-10-31T06:36:00.000086+00:00",
          "2024-10-31T08:15:40.000087+00:00",
          "2024-10-31T09:56:00.000086+00:00"
         ],
         "hovertemplate": "type=inFov<br>start=%{base}<br>end=%{x}<br>antenna=%{y}<extra></extra>",
         "legendgroup": "inFov",
         "marker": {
          "color": "#EF553B",
          "pattern": {
           "shape": ""
          }
         },
         "name": "inFov",
         "offsetgroup": "inFov",
         "orientation": "h",
         "showlegend": true,
         "textposition": "auto",
         "type": "bar",
         "x": [
          120000,
          79999.999,
          50000,
          330000,
          69999.999,
          20000.001,
          180000,
          40000,
          280000,
          10000,
          10000,
          80000,
          720000,
          130000,
          750000,
          780000.001,
          170000,
          650000,
          770000,
          89999.999,
          690000,
          610000.001,
          360000,
          500000.001,
          260000,
          240000.001,
          70000,
          720000.001,
          659999.999,
          390000
         ],
         "xaxis": "x",
         "y": [
          "Dundee",
          "Dundee",
          "Chitose",
          "Chitose",
          "Chitose",
          "Chitose",
          "Chitose",
          "Chitose",
          "Chitose",
          "Chitose",
          "Mojave",
          "Mojave",
          "Dubai",
          "Dubai",
          "Paumalu",
          "Paumalu",
          "Paumalu",
          "Harmon",
          "Harmon",
          "Sunyani",
          "Sunyani",
          "Mwulire",
          "Mwulire",
          "Tahiti",
          "Tahiti",
          "Awarua",
          "Awarua",
          "Utqiagvik",
          "Utqiagvik",
          "Utqiagvik"
         ],
         "yaxis": "y"
        },
        {
         "alignmentgroup": "True",
         "base": [
          "2024-10-31T06:24:50.000086+00:00",
          "2024-10-31T08:14:10.000086+00:00",
          "2024-10-31T09:54:40.000086+00:00",
          "2024-10-31T11:31:50.000086+00:00",
          "2024-10-31T09:31:00.000086+00:00",
          "2024-10-31T11:13:40.000086+00:00",
          "2024-10-31T01:27:10.000086+00:00",
          "2024-10-31T10:04:40.000086+00:00",
          "2024-10-31T11:45:30.000086+00:00",
          "2024-10-31T02:59:00.000086+00:00",
          "2024-10-31T04:38:10.000086+00:00",
          "2024-10-31T00:32:40.000087+00:00",
          "2024-10-31T02:07:20.000086+00:00",
          "2024-10-31T00:34:20.000086+00:00",
          "2024-10-31T09:23:50.000086+00:00",
          "2024-10-31T10:18:10.000086+00:00",
          "2024-10-31T11:55:30.000086+00:00",
          "2024-10-31T01:06:30.000086+00:00",
          "2024-10-31T06:36:00.000086+00:00",
          "2024-10-31T08:15:40.000087+00:00",
          "2024-10-31T09:56:00.000086+00:00"
         ],
         "hovertemplate": "type=connected<br>start=%{base}<br>end=%{x}<br>antenna=%{y}<extra></extra>",
         "legendgroup": "connected",
         "marker": {
          "color": "#00cc96",
          "pattern": {
           "shape": ""
          }
         },
         "name": "connected",
         "offsetgroup": "connected",
         "orientation": "h",
         "showlegend": true,
         "textposition": "auto",
         "type": "bar",
         "x": [
          330000,
          20000.001,
          40000,
          280000,
          720000,
          130000,
          750000,
          780000.001,
          170000,
          650000,
          770000,
          89999.999,
          690000,
          610000.001,
          360000,
          500000.001,
          260000,
          240000.001,
          720000.001,
          659999.999,
          390000
         ],
         "xaxis": "x",
         "y": [
          "Chitose",
          "Chitose",
          "Chitose",
          "Chitose",
          "Dubai",
          "Dubai",
          "Paumalu",
          "Paumalu",
          "Paumalu",
          "Harmon",
          "Harmon",
          "Sunyani",
          "Sunyani",
          "Mwulire",
          "Mwulire",
          "Tahiti",
          "Tahiti",
          "Awarua",
          "Utqiagvik",
          "Utqiagvik",
          "Utqiagvik"
         ],
         "yaxis": "y"
        }
       ],
       "layout": {
        "barmode": "overlay",
        "legend": {
         "title": {
          "text": "type"
         },
         "tracegroupgap": 0
        },
        "margin": {
         "t": 60
        },
        "template": {
         "data": {
          "bar": [
           {
            "error_x": {
             "color": "#2a3f5f"
            },
            "error_y": {
             "color": "#2a3f5f"
            },
            "marker": {
             "line": {
              "color": "#E5ECF6",
              "width": 0.5
             },
             "pattern": {
              "fillmode": "overlay",
              "size": 10,
              "solidity": 0.2
             }
            },
            "type": "bar"
           }
          ],
          "barpolar": [
           {
            "marker": {
             "line": {
              "color": "#E5ECF6",
              "width": 0.5
             },
             "pattern": {
              "fillmode": "overlay",
              "size": 10,
              "solidity": 0.2
             }
            },
            "type": "barpolar"
           }
          ],
          "carpet": [
           {
            "aaxis": {
             "endlinecolor": "#2a3f5f",
             "gridcolor": "white",
             "linecolor": "white",
             "minorgridcolor": "white",
             "startlinecolor": "#2a3f5f"
            },
            "baxis": {
             "endlinecolor": "#2a3f5f",
             "gridcolor": "white",
             "linecolor": "white",
             "minorgridcolor": "white",
             "startlinecolor": "#2a3f5f"
            },
            "type": "carpet"
           }
          ],
          "choropleth": [
           {
            "colorbar": {
             "outlinewidth": 0,
             "ticks": ""
            },
            "type": "choropleth"
           }
          ],
          "contour": [
           {
            "colorbar": {
             "outlinewidth": 0,
             "ticks": ""
            },
            "colorscale": [
             [
              0,
              "#0d0887"
             ],
             [
              0.1111111111111111,
              "#46039f"
             ],
             [
              0.2222222222222222,
              "#7201a8"
             ],
             [
              0.3333333333333333,
              "#9c179e"
             ],
             [
              0.4444444444444444,
              "#bd3786"
             ],
             [
              0.5555555555555556,
              "#d8576b"
             ],
             [
              0.6666666666666666,
              "#ed7953"
             ],
             [
              0.7777777777777778,
              "#fb9f3a"
             ],
             [
              0.8888888888888888,
              "#fdca26"
             ],
             [
              1,
              "#f0f921"
             ]
            ],
            "type": "contour"
           }
          ],
          "contourcarpet": [
           {
            "colorbar": {
             "outlinewidth": 0,
             "ticks": ""
            },
            "type": "contourcarpet"
           }
          ],
          "heatmap": [
           {
            "colorbar": {
             "outlinewidth": 0,
             "ticks": ""
            },
            "colorscale": [
             [
              0,
              "#0d0887"
             ],
             [
              0.1111111111111111,
              "#46039f"
             ],
             [
              0.2222222222222222,
              "#7201a8"
             ],
             [
              0.3333333333333333,
              "#9c179e"
             ],
             [
              0.4444444444444444,
              "#bd3786"
             ],
             [
              0.5555555555555556,
              "#d8576b"
             ],
             [
              0.6666666666666666,
              "#ed7953"
             ],
             [
              0.7777777777777778,
              "#fb9f3a"
             ],
             [
              0.8888888888888888,
              "#fdca26"
             ],
             [
              1,
              "#f0f921"
             ]
            ],
            "type": "heatmap"
           }
          ],
          "heatmapgl": [
           {
            "colorbar": {
             "outlinewidth": 0,
             "ticks": ""
            },
            "colorscale": [
             [
              0,
              "#0d0887"
             ],
             [
              0.1111111111111111,
              "#46039f"
             ],
             [
              0.2222222222222222,
              "#7201a8"
             ],
             [
              0.3333333333333333,
              "#9c179e"
             ],
             [
              0.4444444444444444,
              "#bd3786"
             ],
             [
              0.5555555555555556,
              "#d8576b"
             ],
             [
              0.6666666666666666,
              "#ed7953"
             ],
             [
              0.7777777777777778,
              "#fb9f3a"
             ],
             [
              0.8888888888888888,
              "#fdca26"
             ],
             [
              1,
              "#f0f921"
             ]
            ],
            "type": "heatmapgl"
           }
          ],
          "histogram": [
           {
            "marker": {
             "pattern": {
              "fillmode": "overlay",
              "size": 10,
              "solidity": 0.2
             }
            },
            "type": "histogram"
           }
          ],
          "histogram2d": [
           {
            "colorbar": {
             "outlinewidth": 0,
             "ticks": ""
            },
            "colorscale": [
             [
              0,
              "#0d0887"
             ],
             [
              0.1111111111111111,
              "#46039f"
             ],
             [
              0.2222222222222222,
              "#7201a8"
             ],
             [
              0.3333333333333333,
              "#9c179e"
             ],
             [
              0.4444444444444444,
              "#bd3786"
             ],
             [
              0.5555555555555556,
              "#d8576b"
             ],
             [
              0.6666666666666666,
              "#ed7953"
             ],
             [
              0.7777777777777778,
              "#fb9f3a"
             ],
             [
              0.8888888888888888,
              "#fdca26"
             ],
             [
              1,
              "#f0f921"
             ]
            ],
            "type": "histogram2d"
           }
          ],
          "histogram2dcontour": [
           {
            "colorbar": {
             "outlinewidth": 0,
             "ticks": ""
            },
            "colorscale": [
             [
              0,
              "#0d0887"
             ],
             [
              0.1111111111111111,
              "#46039f"
             ],
             [
              0.2222222222222222,
              "#7201a8"
             ],
             [
              0.3333333333333333,
              "#9c179e"
             ],
             [
              0.4444444444444444,
              "#bd3786"
             ],
             [
              0.5555555555555556,
              "#d8576b"
             ],
             [
              0.6666666666666666,
              "#ed7953"
             ],
             [
              0.7777777777777778,
              "#fb9f3a"
             ],
             [
              0.8888888888888888,
              "#fdca26"
             ],
             [
              1,
              "#f0f921"
             ]
            ],
            "type": "histogram2dcontour"
           }
          ],
          "mesh3d": [
           {
            "colorbar": {
             "outlinewidth": 0,
             "ticks": ""
            },
            "type": "mesh3d"
           }
          ],
          "parcoords": [
           {
            "line": {
             "colorbar": {
              "outlinewidth": 0,
              "ticks": ""
             }
            },
            "type": "parcoords"
           }
          ],
          "pie": [
           {
            "automargin": true,
            "type": "pie"
           }
          ],
          "scatter": [
           {
            "fillpattern": {
             "fillmode": "overlay",
             "size": 10,
             "solidity": 0.2
            },
            "type": "scatter"
           }
          ],
          "scatter3d": [
           {
            "line": {
             "colorbar": {
              "outlinewidth": 0,
              "ticks": ""
             }
            },
            "marker": {
             "colorbar": {
              "outlinewidth": 0,
              "ticks": ""
             }
            },
            "type": "scatter3d"
           }
          ],
          "scattercarpet": [
           {
            "marker": {
             "colorbar": {
              "outlinewidth": 0,
              "ticks": ""
             }
            },
            "type": "scattercarpet"
           }
          ],
          "scattergeo": [
           {
            "marker": {
             "colorbar": {
              "outlinewidth": 0,
              "ticks": ""
             }
            },
            "type": "scattergeo"
           }
          ],
          "scattergl": [
           {
            "marker": {
             "colorbar": {
              "outlinewidth": 0,
              "ticks": ""
             }
            },
            "type": "scattergl"
           }
          ],
          "scattermapbox": [
           {
            "marker": {
             "colorbar": {
              "outlinewidth": 0,
              "ticks": ""
             }
            },
            "type": "scattermapbox"
           }
          ],
          "scatterpolar": [
           {
            "marker": {
             "colorbar": {
              "outlinewidth": 0,
              "ticks": ""
             }
            },
            "type": "scatterpolar"
           }
          ],
          "scatterpolargl": [
           {
            "marker": {
             "colorbar": {
              "outlinewidth": 0,
              "ticks": ""
             }
            },
            "type": "scatterpolargl"
           }
          ],
          "scatterternary": [
           {
            "marker": {
             "colorbar": {
              "outlinewidth": 0,
              "ticks": ""
             }
            },
            "type": "scatterternary"
           }
          ],
          "surface": [
           {
            "colorbar": {
             "outlinewidth": 0,
             "ticks": ""
            },
            "colorscale": [
             [
              0,
              "#0d0887"
             ],
             [
              0.1111111111111111,
              "#46039f"
             ],
             [
              0.2222222222222222,
              "#7201a8"
             ],
             [
              0.3333333333333333,
              "#9c179e"
             ],
             [
              0.4444444444444444,
              "#bd3786"
             ],
             [
              0.5555555555555556,
              "#d8576b"
             ],
             [
              0.6666666666666666,
              "#ed7953"
             ],
             [
              0.7777777777777778,
              "#fb9f3a"
             ],
             [
              0.8888888888888888,
              "#fdca26"
             ],
             [
              1,
              "#f0f921"
             ]
            ],
            "type": "surface"
           }
          ],
          "table": [
           {
            "cells": {
             "fill": {
              "color": "#EBF0F8"
             },
             "line": {
              "color": "white"
             }
            },
            "header": {
             "fill": {
              "color": "#C8D4E3"
             },
             "line": {
              "color": "white"
             }
            },
            "type": "table"
           }
          ]
         },
         "layout": {
          "annotationdefaults": {
           "arrowcolor": "#2a3f5f",
           "arrowhead": 0,
           "arrowwidth": 1
          },
          "autotypenumbers": "strict",
          "coloraxis": {
           "colorbar": {
            "outlinewidth": 0,
            "ticks": ""
           }
          },
          "colorscale": {
           "diverging": [
            [
             0,
             "#8e0152"
            ],
            [
             0.1,
             "#c51b7d"
            ],
            [
             0.2,
             "#de77ae"
            ],
            [
             0.3,
             "#f1b6da"
            ],
            [
             0.4,
             "#fde0ef"
            ],
            [
             0.5,
             "#f7f7f7"
            ],
            [
             0.6,
             "#e6f5d0"
            ],
            [
             0.7,
             "#b8e186"
            ],
            [
             0.8,
             "#7fbc41"
            ],
            [
             0.9,
             "#4d9221"
            ],
            [
             1,
             "#276419"
            ]
           ],
           "sequential": [
            [
             0,
             "#0d0887"
            ],
            [
             0.1111111111111111,
             "#46039f"
            ],
            [
             0.2222222222222222,
             "#7201a8"
            ],
            [
             0.3333333333333333,
             "#9c179e"
            ],
            [
             0.4444444444444444,
             "#bd3786"
            ],
            [
             0.5555555555555556,
             "#d8576b"
            ],
            [
             0.6666666666666666,
             "#ed7953"
            ],
            [
             0.7777777777777778,
             "#fb9f3a"
            ],
            [
             0.8888888888888888,
             "#fdca26"
            ],
            [
             1,
             "#f0f921"
            ]
           ],
           "sequentialminus": [
            [
             0,
             "#0d0887"
            ],
            [
             0.1111111111111111,
             "#46039f"
            ],
            [
             0.2222222222222222,
             "#7201a8"
            ],
            [
             0.3333333333333333,
             "#9c179e"
            ],
            [
             0.4444444444444444,
             "#bd3786"
            ],
            [
             0.5555555555555556,
             "#d8576b"
            ],
            [
             0.6666666666666666,
             "#ed7953"
            ],
            [
             0.7777777777777778,
             "#fb9f3a"
            ],
            [
             0.8888888888888888,
             "#fdca26"
            ],
            [
             1,
             "#f0f921"
            ]
           ]
          },
          "colorway": [
           "#636efa",
           "#EF553B",
           "#00cc96",
           "#ab63fa",
           "#FFA15A",
           "#19d3f3",
           "#FF6692",
           "#B6E880",
           "#FF97FF",
           "#FECB52"
          ],
          "font": {
           "color": "#2a3f5f"
          },
          "geo": {
           "bgcolor": "white",
           "lakecolor": "white",
           "landcolor": "#E5ECF6",
           "showlakes": true,
           "showland": true,
           "subunitcolor": "white"
          },
          "hoverlabel": {
           "align": "left"
          },
          "hovermode": "closest",
          "mapbox": {
           "style": "light"
          },
          "paper_bgcolor": "white",
          "plot_bgcolor": "#E5ECF6",
          "polar": {
           "angularaxis": {
            "gridcolor": "white",
            "linecolor": "white",
            "ticks": ""
           },
           "bgcolor": "#E5ECF6",
           "radialaxis": {
            "gridcolor": "white",
            "linecolor": "white",
            "ticks": ""
           }
          },
          "scene": {
           "xaxis": {
            "backgroundcolor": "#E5ECF6",
            "gridcolor": "white",
            "gridwidth": 2,
            "linecolor": "white",
            "showbackground": true,
            "ticks": "",
            "zerolinecolor": "white"
           },
           "yaxis": {
            "backgroundcolor": "#E5ECF6",
            "gridcolor": "white",
            "gridwidth": 2,
            "linecolor": "white",
            "showbackground": true,
            "ticks": "",
            "zerolinecolor": "white"
           },
           "zaxis": {
            "backgroundcolor": "#E5ECF6",
            "gridcolor": "white",
            "gridwidth": 2,
            "linecolor": "white",
            "showbackground": true,
            "ticks": "",
            "zerolinecolor": "white"
           }
          },
          "shapedefaults": {
           "line": {
            "color": "#2a3f5f"
           }
          },
          "ternary": {
           "aaxis": {
            "gridcolor": "white",
            "linecolor": "white",
            "ticks": ""
           },
           "baxis": {
            "gridcolor": "white",
            "linecolor": "white",
            "ticks": ""
           },
           "bgcolor": "#E5ECF6",
           "caxis": {
            "gridcolor": "white",
            "linecolor": "white",
            "ticks": ""
           }
          },
          "title": {
           "x": 0.05
          },
          "xaxis": {
           "automargin": true,
           "gridcolor": "white",
           "linecolor": "white",
           "ticks": "",
           "title": {
            "standoff": 15
           },
           "zerolinecolor": "white",
           "zerolinewidth": 2
          },
          "yaxis": {
           "automargin": true,
           "gridcolor": "white",
           "linecolor": "white",
           "ticks": "",
           "title": {
            "standoff": 15
           },
           "zerolinecolor": "white",
           "zerolinewidth": 2
          }
         }
        },
        "title": {
         "text": "Spacecraft 3-8 Access, In Fov, and Connected"
        },
        "xaxis": {
         "anchor": "y",
         "domain": [
          0,
          1
         ],
         "type": "date"
        },
        "yaxis": {
         "anchor": "x",
         "categoryorder": "total ascending",
         "domain": [
          0,
          1
         ],
         "title": {
          "text": "antenna"
         }
        }
       }
      }
     },
     "metadata": {},
     "output_type": "display_data"
    }
   ],
   "source": [
    "def make_availability_plots(ground_segment_results):\n",
    "    availability_data = target_analytics(ground_segment_results)\n",
    "    # This loop will create a new figure for each target\n",
    "    for target_name, data in availability_data.items():\n",
    "        fig = px.timeline(data, x_start='start', x_end='end', y='antenna', color='type')\n",
    "        fig.update_yaxes(categoryorder='total ascending')\n",
    "        # set title\n",
    "        fig.update_layout(title_text=f'{target_name} Access, In Fov, and Connected')\n",
    "        fig.show()\n",
    "\n",
    "make_availability_plots(ground_segment_results)"
   ]
  }
 ],
 "metadata": {
  "kernelspec": {
   "display_name": ".venv",
   "language": "python",
   "name": "python3"
  },
  "language_info": {
   "codemirror_mode": {
    "name": "ipython",
    "version": 3
   },
   "file_extension": ".py",
   "mimetype": "text/x-python",
   "name": "python",
   "nbconvert_exporter": "python",
   "pygments_lexer": "ipython3",
   "version": "3.12.4"
  }
 },
 "nbformat": 4,
 "nbformat_minor": 2
}
