{
 "cells": [
  {
   "cell_type": "markdown",
   "metadata": {},
   "source": [
    "## Ground Segment Simulation Results\n",
    "\n",
    "This notebook contains advanced plotting utilities for visualizing the results of a Ground Segment simulation with a\n",
    "`ContactScheduler` block (either pure simulation or cosim). Use the code cells below to see the generated contact\n",
    "schedule and contact report for each target-antenna pair."
   ]
  },
  {
   "cell_type": "markdown",
   "metadata": {},
   "source": [
    "## Setup\n",
    "\n",
    "This notebook requires that you have previously generated an API key in the web UI. That key should be stored in a file called `secrets.json` in the root directory of this repository (two levels above this notebook) with the following format:\n",
    "\n",
    "```json\n",
    "{\n",
    "    \"API_KEY\": \"<API_KEY>\"\n",
    "}\n",
    "```\n",
    "\n",
    "API keys grant full access to your repositories and should never be shared. If you think your API key has been\n",
    "compromised, you can revoke it in the user settings interface on the Sedaro website.\n",
    "\n",
    "Install required packages by running this code cell:"
   ]
  },
  {
   "cell_type": "code",
   "execution_count": null,
   "metadata": {},
   "outputs": [],
   "source": [
    "%pip install -r requirements.txt"
   ]
  },
  {
   "cell_type": "markdown",
   "metadata": {},
   "source": [
    "## Download Simulation Results\n",
    "\n",
    "Here we will also get some relevant branch information for plotting purposes."
   ]
  },
  {
   "cell_type": "code",
   "execution_count": 10,
   "metadata": {},
   "outputs": [
    {
     "name": "stdout",
     "output_type": "stream",
     "text": [
      "Downloading...\n",
      "...download complete!\n"
     ]
    }
   ],
   "source": [
    "from utils import sedaroLogin, schedule_table, target_analytics\n",
    "import plotly.express as px\n",
    "\n",
    "\n",
    "# Settings\n",
    "# Set this to the scenario branch ID of the simulation you want to visualize. For example, you can leave as if you want\n",
    "# to see the pure sim results of the demo, or you can change it to the cosimulated branch ID.\n",
    "pure_sim_branch_id = 'PPHLMVQdgb4LyvNBmfgTW4'\n",
    "# Set this to the branch ID of the ground segment template used in the simulation. You may not need to change this.\n",
    "ground_segment_template = 'PPHLMTljknVcsY6pnhJ5Qf' \n",
    "gs_agent_name = 'Atlas (Enterprise)'\n",
    "job = None # If None, the most recent results will be downloaded\n",
    "\n",
    "# Login\n",
    "client = sedaroLogin()\n",
    "\n",
    "# Load the results of the pure simulation\n",
    "scenario = client.scenario(pure_sim_branch_id)\n",
    "template = client.agent_template(ground_segment_template)\n",
    "pure_sim = scenario.simulation.results(job_id=job)\n",
    "ground_segment_results = pure_sim.agent(gs_agent_name)"
   ]
  },
  {
   "cell_type": "markdown",
   "metadata": {},
   "source": [
    "## Contact Schedule\n",
    "\n",
    "By accessing the simulation results of the `ContactScheduler` block, we can see the schedule that was generated. Note\n",
    "that some of the colors are duplicated, but you can hover/zoom in on the interactive plot to see more information about\n",
    "each contact."
   ]
  },
  {
   "cell_type": "code",
   "execution_count": 11,
   "metadata": {},
   "outputs": [
    {
     "data": {
      "application/vnd.plotly.v1+json": {
       "config": {
        "plotlyServerURL": "https://plot.ly"
       },
       "data": [
        {
         "alignmentgroup": "True",
         "base": [
          "2024-10-31T00:21:10.000086+00:00",
          "2024-10-31T01:52:10.000086+00:00",
          "2024-10-31T03:33:00.000086+00:00",
          "2024-10-31T05:16:10.000086+00:00",
          "2024-10-31T08:38:40.000086+00:00",
          "2024-10-31T11:27:00.000086+00:00",
          "2024-10-31T00:43:20.000087+00:00",
          "2024-10-31T02:10:30.000086+00:00",
          "2024-10-31T03:47:10.000086+00:00",
          "2024-10-31T04:37:50.000086+00:00",
          "2024-10-31T05:37:40.000086+00:00",
          "2024-10-31T08:05:40.000086+00:00",
          "2024-10-31T09:45:40.000087+00:00",
          "2024-10-31T10:04:30.000086+00:00",
          "2024-10-31T11:16:20.000086+00:00"
         ],
         "hovertemplate": "target=Spacecraft 1-1<br>start=%{base}<br>end=%{x}<br>antenna=%{y}<extra></extra>",
         "legendgroup": "Spacecraft 1-1",
         "marker": {
          "color": "#636efa",
          "pattern": {
           "shape": ""
          }
         },
         "name": "Spacecraft 1-1",
         "offsetgroup": "Spacecraft 1-1",
         "orientation": "h",
         "showlegend": true,
         "textposition": "auto",
         "type": "bar",
         "x": [
          120000.001,
          680000,
          690000.001,
          540000.001,
          190000,
          290000,
          429999.999,
          130000,
          730000,
          400000,
          50000,
          710000,
          679999.999,
          10000,
          710000
         ],
         "xaxis": "x",
         "y": [
          "Dundee",
          "Dundee",
          "Dundee",
          "Dundee",
          "Dundee",
          "Chitose",
          "Harmon",
          "Dubai",
          "Dubai",
          "Tahiti",
          "Mwulire",
          "Paumalu",
          "Paumalu",
          "Mojave",
          "Harmon"
         ],
         "yaxis": "y"
        },
        {
         "alignmentgroup": "True",
         "base": [
          "2024-10-31T00:05:00.000086+00:00",
          "2024-10-31T01:39:40.000086+00:00",
          "2024-10-31T03:20:40.000086+00:00",
          "2024-10-31T05:01:40.000086+00:00",
          "2024-10-31T06:21:40.000086+00:00",
          "2024-10-31T06:44:00.000086+00:00",
          "2024-10-31T08:02:10.000086+00:00",
          "2024-10-31T08:21:40.000086+00:00",
          "2024-10-31T00:29:50.000086+00:00",
          "2024-10-31T03:34:40.000086+00:00",
          "2024-10-31T04:27:10.000086+00:00",
          "2024-10-31T05:25:20.000086+00:00",
          "2024-10-31T07:53:30.000086+00:00",
          "2024-10-31T09:34:10.000086+00:00",
          "2024-10-31T11:04:30.000086+00:00"
         ],
         "hovertemplate": "target=Spacecraft 1-2<br>start=%{base}<br>end=%{x}<br>antenna=%{y}<extra></extra>",
         "legendgroup": "Spacecraft 1-2",
         "marker": {
          "color": "#EF553B",
          "pattern": {
           "shape": ""
          }
         },
         "name": "Spacecraft 1-2",
         "offsetgroup": "Spacecraft 1-2",
         "orientation": "h",
         "showlegend": true,
         "textposition": "auto",
         "type": "bar",
         "x": [
          380000.001,
          750000,
          740000,
          320000,
          720000,
          70000,
          250000,
          370000,
          560000.001,
          750000,
          210000.001,
          30000,
          720000,
          690000.001,
          710000
         ],
         "xaxis": "x",
         "y": [
          "Dundee",
          "Dundee",
          "Dundee",
          "Dundee",
          "Mojave",
          "Dundee",
          "Mojave",
          "Dundee",
          "Harmon",
          "Dubai",
          "Tahiti",
          "Dubai",
          "Paumalu",
          "Paumalu",
          "Harmon"
         ],
         "yaxis": "y"
        },
        {
         "alignmentgroup": "True",
         "base": [
          "2024-10-31T00:11:20.000087+00:00",
          "2024-10-31T01:27:00.000086+00:00",
          "2024-10-31T03:07:40.000086+00:00",
          "2024-10-31T04:48:40.000086+00:00",
          "2024-10-31T06:08:30.000086+00:00",
          "2024-10-31T06:33:40.000086+00:00",
          "2024-10-31T07:49:40.000086+00:00",
          "2024-10-31T08:09:50.000086+00:00",
          "2024-10-31T09:35:00.000087+00:00",
          "2024-10-31T00:16:40.000087+00:00",
          "2024-10-31T03:22:30.000086+00:00",
          "2024-10-31T05:12:30.000086+00:00",
          "2024-10-31T05:51:30.000086+00:00",
          "2024-10-31T07:41:20.000087+00:00",
          "2024-10-31T09:21:30.000086+00:00",
          "2024-10-31T10:53:20.000086+00:00"
         ],
         "hovertemplate": "target=Spacecraft 1-3<br>start=%{base}<br>end=%{x}<br>antenna=%{y}<extra></extra>",
         "legendgroup": "Spacecraft 1-3",
         "marker": {
          "color": "#00cc96",
          "pattern": {
           "shape": ""
          }
         },
         "name": "Spacecraft 1-3",
         "offsetgroup": "Spacecraft 1-3",
         "orientation": "h",
         "showlegend": true,
         "textposition": "auto",
         "type": "bar",
         "x": [
          289999.999,
          760000,
          780000,
          780000,
          790000,
          270000,
          750000,
          640000,
          399999.999,
          649999.999,
          730000,
          90000,
          510000,
          729999.999,
          760000,
          670000
         ],
         "xaxis": "x",
         "y": [
          "Chitose",
          "Dundee",
          "Dundee",
          "Dundee",
          "Mojave",
          "Dundee",
          "Mojave",
          "Dundee",
          "Mojave",
          "Harmon",
          "Dubai",
          "Dubai",
          "Tahiti",
          "Paumalu",
          "Paumalu",
          "Harmon"
         ],
         "yaxis": "y"
        },
        {
         "alignmentgroup": "True",
         "base": [
          "2024-10-31T00:00:00.000086+00:00",
          "2024-10-31T01:14:10.000086+00:00",
          "2024-10-31T02:54:50.000086+00:00",
          "2024-10-31T04:35:30.000086+00:00",
          "2024-10-31T06:00:10.000086+00:00",
          "2024-10-31T07:36:00.000087+00:00",
          "2024-10-31T08:06:20.000086+00:00",
          "2024-10-31T09:20:30.000086+00:00",
          "2024-10-31T00:03:40.000087+00:00",
          "2024-10-31T03:09:50.000086+00:00",
          "2024-10-31T04:58:40.000086+00:00",
          "2024-10-31T05:38:30.000086+00:00",
          "2024-10-31T07:28:20.000087+00:00",
          "2024-10-31T09:17:20.000086+00:00",
          "2024-10-31T10:40:30.000086+00:00",
          "2024-10-31T10:47:40.000086+00:00"
         ],
         "hovertemplate": "target=Spacecraft 1-4<br>start=%{base}<br>end=%{x}<br>antenna=%{y}<extra></extra>",
         "legendgroup": "Spacecraft 1-4",
         "marker": {
          "color": "#ab63fa",
          "pattern": {
           "shape": ""
          }
         },
         "name": "Spacecraft 1-4",
         "offsetgroup": "Spacecraft 1-4",
         "orientation": "h",
         "showlegend": true,
         "textposition": "auto",
         "type": "bar",
         "x": [
          300000,
          770000,
          770000,
          790000,
          500000,
          780000,
          80000,
          470000,
          699999.999,
          680000,
          220000,
          760000.001,
          249999.999,
          210000.001,
          20000,
          160000
         ],
         "xaxis": "x",
         "y": [
          "Chitose",
          "Dundee",
          "Dundee",
          "Dundee",
          "Mojave",
          "Mojave",
          "Dundee",
          "Mojave",
          "Harmon",
          "Dubai",
          "Dubai",
          "Tahiti",
          "Paumalu",
          "Paumalu",
          "Harmon",
          "Harmon"
         ],
         "yaxis": "y"
        },
        {
         "alignmentgroup": "True",
         "base": [
          "2024-10-31T01:01:50.000086+00:00",
          "2024-10-31T02:42:30.000086+00:00",
          "2024-10-31T04:23:30.000086+00:00",
          "2024-10-31T07:24:10.000087+00:00",
          "2024-10-31T07:49:00.000087+00:00",
          "2024-10-31T09:06:40.000086+00:00",
          "2024-10-31T00:00:00.000086+00:00",
          "2024-10-31T02:57:20.000086+00:00",
          "2024-10-31T04:44:30.000086+00:00",
          "2024-10-31T05:25:50.000086+00:00",
          "2024-10-31T06:19:50.000086+00:00",
          "2024-10-31T07:15:50.000087+00:00",
          "2024-10-31T08:56:00.000086+00:00",
          "2024-10-31T10:28:00.000086+00:00",
          "2024-10-31T10:39:00.000087+00:00"
         ],
         "hovertemplate": "target=Spacecraft 1-5<br>start=%{base}<br>end=%{x}<br>antenna=%{y}<extra></extra>",
         "legendgroup": "Spacecraft 1-5",
         "marker": {
          "color": "#FFA15A",
          "pattern": {
           "shape": ""
          }
         },
         "name": "Spacecraft 1-5",
         "offsetgroup": "Spacecraft 1-5",
         "orientation": "h",
         "showlegend": true,
         "textposition": "auto",
         "type": "bar",
         "x": [
          740000,
          740000,
          720000,
          699999.999,
          39999.999,
          500000,
          200000,
          620000,
          330000,
          710000,
          370000,
          259999.999,
          70000,
          460000,
          89999.999
         ],
         "xaxis": "x",
         "y": [
          "Dundee",
          "Dundee",
          "Dundee",
          "Mojave",
          "Dundee",
          "Mojave",
          "Harmon",
          "Dubai",
          "Dubai",
          "Tahiti",
          "Dubai",
          "Paumalu",
          "Paumalu",
          "Harmon",
          "Paumalu"
         ],
         "yaxis": "y"
        },
        {
         "alignmentgroup": "True",
         "base": [
          "2024-10-31T00:49:30.000086+00:00",
          "2024-10-31T02:30:10.000086+00:00",
          "2024-10-31T04:11:20.000086+00:00",
          "2024-10-31T05:52:50.000086+00:00",
          "2024-10-31T07:12:20.000087+00:00",
          "2024-10-31T07:35:50.000086+00:00",
          "2024-10-31T08:54:10.000087+00:00",
          "2024-10-31T09:15:00.000086+00:00",
          "2024-10-31T02:45:30.000086+00:00",
          "2024-10-31T02:54:40.000086+00:00",
          "2024-10-31T04:25:50.000086+00:00",
          "2024-10-31T04:30:40.000087+00:00",
          "2024-10-31T05:14:00.000086+00:00",
          "2024-10-31T06:07:10.000087+00:00",
          "2024-10-31T07:04:40.000086+00:00",
          "2024-10-31T08:44:20.000086+00:00",
          "2024-10-31T10:17:50.000086+00:00",
          "2024-10-31T10:26:30.000087+00:00"
         ],
         "hovertemplate": "target=Spacecraft 1-6<br>start=%{base}<br>end=%{x}<br>antenna=%{y}<extra></extra>",
         "legendgroup": "Spacecraft 1-6",
         "marker": {
          "color": "#19d3f3",
          "pattern": {
           "shape": ""
          }
         },
         "name": "Spacecraft 1-6",
         "offsetgroup": "Spacecraft 1-6",
         "orientation": "h",
         "showlegend": true,
         "textposition": "auto",
         "type": "bar",
         "x": [
          740000,
          740000,
          730000,
          430000,
          710000,
          10000.001,
          570000,
          210000,
          430000,
          10000,
          80000,
          429999.999,
          680000,
          500000,
          540000,
          700000,
          320000,
          89999.999
         ],
         "xaxis": "x",
         "y": [
          "Dundee",
          "Dundee",
          "Dundee",
          "Dundee",
          "Mojave",
          "Dundee",
          "Mojave",
          "Dundee",
          "Dubai",
          "Dubai",
          "Dubai",
          "Dubai",
          "Tahiti",
          "Dubai",
          "Paumalu",
          "Paumalu",
          "Harmon",
          "Paumalu"
         ],
         "yaxis": "y"
        },
        {
         "alignmentgroup": "True",
         "base": [
          "2024-10-31T00:36:40.000086+00:00",
          "2024-10-31T02:17:20.000086+00:00",
          "2024-10-31T03:58:10.000086+00:00",
          "2024-10-31T05:44:40.000087+00:00",
          "2024-10-31T06:58:50.000086+00:00",
          "2024-10-31T08:41:50.000086+00:00",
          "2024-10-31T09:03:40.000087+00:00",
          "2024-10-31T10:29:00.000086+00:00",
          "2024-10-31T11:51:30.000086+00:00",
          "2024-10-31T02:33:40.000086+00:00",
          "2024-10-31T04:12:40.000086+00:00",
          "2024-10-31T05:02:20.000086+00:00",
          "2024-10-31T06:00:10.000086+00:00",
          "2024-10-31T06:54:00.000087+00:00",
          "2024-10-31T07:32:30.000086+00:00",
          "2024-10-31T08:30:50.000086+00:00",
          "2024-10-31T09:10:50.000086+00:00",
          "2024-10-31T10:17:40.000087+00:00",
          "2024-10-31T11:42:20.000087+00:00"
         ],
         "hovertemplate": "target=Spacecraft 1-7<br>start=%{base}<br>end=%{x}<br>antenna=%{y}<extra></extra>",
         "legendgroup": "Spacecraft 1-7",
         "marker": {
          "color": "#FF6692",
          "pattern": {
           "shape": ""
          }
         },
         "name": "Spacecraft 1-7",
         "offsetgroup": "Spacecraft 1-7",
         "orientation": "h",
         "showlegend": true,
         "textposition": "auto",
         "type": "bar",
         "x": [
          770000,
          770000,
          790000,
          369999.999,
          810000.001,
          610000,
          179999.999,
          140000,
          380000,
          490000,
          790000,
          610000,
          250000,
          419999.999,
          530000.001,
          810000,
          390000,
          9999.999,
          819999.999
         ],
         "xaxis": "x",
         "y": [
          "Dundee",
          "Dundee",
          "Dundee",
          "Dundee",
          "Mojave",
          "Mojave",
          "Dundee",
          "Mojave",
          "Chitose",
          "Dubai",
          "Dubai",
          "Tahiti",
          "Dubai",
          "Paumalu",
          "Sunyani",
          "Paumalu",
          "Sunyani",
          "Paumalu",
          "Harmon"
         ],
         "yaxis": "y"
        },
        {
         "alignmentgroup": "True",
         "base": [
          "2024-10-31T00:23:10.000087+00:00",
          "2024-10-31T00:28:50.000086+00:00",
          "2024-10-31T02:03:30.000086+00:00",
          "2024-10-31T03:44:30.000087+00:00",
          "2024-10-31T05:07:00.000086+00:00",
          "2024-10-31T05:25:10.000087+00:00",
          "2024-10-31T06:45:10.000086+00:00",
          "2024-10-31T08:27:50.000086+00:00",
          "2024-10-31T08:52:00.000086+00:00",
          "2024-10-31T10:14:40.000087+00:00",
          "2024-10-31T11:38:50.000086+00:00",
          "2024-10-31T00:27:30.000086+00:00",
          "2024-10-31T00:57:30.000087+00:00",
          "2024-10-31T01:10:30.000087+00:00",
          "2024-10-31T02:21:40.000086+00:00",
          "2024-10-31T02:52:40.000086+00:00",
          "2024-10-31T03:59:20.000086+00:00",
          "2024-10-31T04:50:00.000086+00:00",
          "2024-10-31T05:51:10.000087+00:00",
          "2024-10-31T06:43:20.000087+00:00",
          "2024-10-31T07:20:10.000086+00:00",
          "2024-10-31T08:17:30.000086+00:00",
          "2024-10-31T08:57:10.000086+00:00",
          "2024-10-31T09:59:30.000086+00:00",
          "2024-10-31T10:40:50.000086+00:00",
          "2024-10-31T11:28:50.000086+00:00"
         ],
         "hovertemplate": "target=Spacecraft 1-8<br>start=%{base}<br>end=%{x}<br>antenna=%{y}<extra></extra>",
         "legendgroup": "Spacecraft 1-8",
         "marker": {
          "color": "#B6E880",
          "pattern": {
           "shape": ""
          }
         },
         "name": "Spacecraft 1-8",
         "offsetgroup": "Spacecraft 1-8",
         "orientation": "h",
         "showlegend": true,
         "textposition": "auto",
         "type": "bar",
         "x": [
          99999.999,
          470000,
          830000,
          819999.999,
          550000,
          829999.999,
          820000,
          650000,
          130000.001,
          180000,
          460000.001,
          80000,
          239999.999,
          820000,
          360000,
          120000,
          800000,
          520000,
          19999.999,
          129999.999,
          370000,
          800000,
          820000,
          300000,
          410000,
          780000
         ],
         "xaxis": "x",
         "y": [
          "Dundee",
          "Dundee",
          "Dundee",
          "Dundee",
          "Mojave",
          "Dundee",
          "Mojave",
          "Mojave",
          "Dundee",
          "Mojave",
          "Chitose",
          "Dundee",
          "Harmon",
          "Awarua",
          "Dubai",
          "Awarua",
          "Dubai",
          "Tahiti",
          "Mwulire",
          "Paumalu",
          "Sunyani",
          "Paumalu",
          "Sunyani",
          "Paumalu",
          "Sunyani",
          "Harmon"
         ],
         "yaxis": "y"
        },
        {
         "alignmentgroup": "True",
         "base": [
          "2024-10-31T00:05:00.000086+00:00",
          "2024-10-31T01:43:50.000086+00:00",
          "2024-10-31T03:25:30.000087+00:00",
          "2024-10-31T05:07:30.000086+00:00",
          "2024-10-31T06:47:40.000086+00:00",
          "2024-10-31T09:46:50.000087+00:00",
          "2024-10-31T11:27:50.000086+00:00",
          "2024-10-31T11:36:30.000086+00:00",
          "2024-10-31T01:25:10.000086+00:00",
          "2024-10-31T01:33:00.000087+00:00",
          "2024-10-31T03:39:40.000086+00:00",
          "2024-10-31T04:34:00.000086+00:00",
          "2024-10-31T06:21:00.000086+00:00",
          "2024-10-31T07:03:30.000086+00:00",
          "2024-10-31T08:37:00.000087+00:00",
          "2024-10-31T11:48:20.000086+00:00"
         ],
         "hovertemplate": "target=Spacecraft 2-1<br>start=%{base}<br>end=%{x}<br>antenna=%{y}<extra></extra>",
         "legendgroup": "Spacecraft 2-1",
         "marker": {
          "color": "#FF97FF",
          "pattern": {
           "shape": ""
          }
         },
         "name": "Spacecraft 2-1",
         "offsetgroup": "Spacecraft 2-1",
         "orientation": "h",
         "showlegend": true,
         "textposition": "auto",
         "type": "bar",
         "x": [
          380000.001,
          610000,
          699999.999,
          640000,
          680000,
          570000,
          90000,
          40000,
          280000,
          199999.999,
          710000,
          670000,
          270000.001,
          120000,
          460000,
          220000
         ],
         "xaxis": "x",
         "y": [
          "Chitose",
          "Chitose",
          "Chitose",
          "Chitose",
          "Chitose",
          "Dundee",
          "Dundee",
          "Dundee",
          "Dubai",
          "Dubai",
          "Paumalu",
          "Sunyani",
          "Sunyani",
          "Harmon",
          "Harmon",
          "Dubai"
         ],
         "yaxis": "y"
        },
        {
         "alignmentgroup": "True",
         "base": [
          "2024-10-31T01:31:10.000086+00:00",
          "2024-10-31T03:13:10.000086+00:00",
          "2024-10-31T04:54:10.000086+00:00",
          "2024-10-31T06:35:00.000087+00:00",
          "2024-10-31T09:33:20.000086+00:00",
          "2024-10-31T11:14:00.000086+00:00",
          "2024-10-31T11:29:20.000086+00:00",
          "2024-10-31T01:13:20.000086+00:00",
          "2024-10-31T03:26:50.000086+00:00",
          "2024-10-31T04:22:20.000086+00:00",
          "2024-10-31T06:07:10.000087+00:00",
          "2024-10-31T06:50:40.000086+00:00",
          "2024-10-31T08:24:10.000086+00:00"
         ],
         "hovertemplate": "target=Spacecraft 2-2<br>start=%{base}<br>end=%{x}<br>antenna=%{y}<extra></extra>",
         "legendgroup": "Spacecraft 2-2",
         "marker": {
          "color": "#FECB52",
          "pattern": {
           "shape": ""
          }
         },
         "name": "Spacecraft 2-2",
         "offsetgroup": "Spacecraft 2-2",
         "orientation": "h",
         "showlegend": true,
         "textposition": "auto",
         "type": "bar",
         "x": [
          610000.001,
          690000,
          800000,
          759999.999,
          810000.001,
          110000,
          430000,
          610000,
          770000,
          610000,
          320000,
          130000,
          570000
         ],
         "xaxis": "x",
         "y": [
          "Chitose",
          "Chitose",
          "Chitose",
          "Chitose",
          "Dundee",
          "Dundee",
          "Dubai",
          "Dubai",
          "Paumalu",
          "Sunyani",
          "Sunyani",
          "Harmon",
          "Harmon"
         ],
         "yaxis": "y"
        },
        {
         "alignmentgroup": "True",
         "base": [
          "2024-10-31T01:20:20.000086+00:00",
          "2024-10-31T03:00:20.000086+00:00",
          "2024-10-31T04:41:00.000086+00:00",
          "2024-10-31T06:21:40.000086+00:00",
          "2024-10-31T06:30:20.000086+00:00",
          "2024-10-31T08:05:00.000087+00:00",
          "2024-10-31T09:19:20.000086+00:00",
          "2024-10-31T11:01:40.000086+00:00",
          "2024-10-31T11:13:50.000086+00:00",
          "2024-10-31T11:15:50.000086+00:00",
          "2024-10-31T01:01:40.000087+00:00",
          "2024-10-31T03:14:10.000086+00:00",
          "2024-10-31T04:10:20.000086+00:00",
          "2024-10-31T05:48:20.000086+00:00",
          "2024-10-31T06:38:00.000087+00:00",
          "2024-10-31T08:10:20.000087+00:00"
         ],
         "hovertemplate": "target=Spacecraft 2-3<br>start=%{base}<br>end=%{x}<br>antenna=%{y}<extra></extra>",
         "legendgroup": "Spacecraft 2-3",
         "marker": {
          "color": "#636efa",
          "pattern": {
           "shape": ""
          }
         },
         "name": "Spacecraft 2-3",
         "offsetgroup": "Spacecraft 2-3",
         "orientation": "h",
         "showlegend": true,
         "textposition": "auto",
         "type": "bar",
         "x": [
          490000,
          660000.001,
          790000,
          180000,
          260000,
          289999.999,
          830000,
          60000.001,
          10000,
          720000,
          509999.999,
          760000,
          500000,
          700000,
          70000,
          640000
         ],
         "xaxis": "x",
         "y": [
          "Chitose",
          "Chitose",
          "Chitose",
          "Chitose",
          "Chitose",
          "Chitose",
          "Dundee",
          "Dundee",
          "Dundee",
          "Dubai",
          "Dubai",
          "Paumalu",
          "Sunyani",
          "Sunyani",
          "Harmon",
          "Harmon"
         ],
         "yaxis": "y"
        },
        {
         "alignmentgroup": "True",
         "base": [
          "2024-10-31T01:09:30.000086+00:00",
          "2024-10-31T02:47:20.000086+00:00",
          "2024-10-31T04:28:40.000086+00:00",
          "2024-10-31T06:09:50.000086+00:00",
          "2024-10-31T07:50:50.000087+00:00",
          "2024-10-31T09:08:00.000086+00:00",
          "2024-10-31T10:49:40.000086+00:00",
          "2024-10-31T11:02:40.000087+00:00",
          "2024-10-31T00:50:20.000086+00:00",
          "2024-10-31T01:24:30.000086+00:00",
          "2024-10-31T02:27:40.000086+00:00",
          "2024-10-31T02:32:30.000086+00:00",
          "2024-10-31T03:02:00.000086+00:00",
          "2024-10-31T03:59:00.000086+00:00",
          "2024-10-31T04:45:10.000086+00:00",
          "2024-10-31T05:36:20.000086+00:00",
          "2024-10-31T08:03:10.000086+00:00"
         ],
         "hovertemplate": "target=Spacecraft 2-4<br>start=%{base}<br>end=%{x}<br>antenna=%{y}<extra></extra>",
         "legendgroup": "Spacecraft 2-4",
         "marker": {
          "color": "#EF553B",
          "pattern": {
           "shape": ""
          }
         },
         "name": "Spacecraft 2-4",
         "offsetgroup": "Spacecraft 2-4",
         "orientation": "h",
         "showlegend": true,
         "textposition": "auto",
         "type": "bar",
         "x": [
          120000,
          650000,
          740000,
          710000,
          429999.999,
          350000,
          110000,
          669999.999,
          360000.001,
          40000,
          60000.001,
          70000,
          730000,
          310000,
          30000,
          720000,
          310000
         ],
         "xaxis": "x",
         "y": [
          "Chitose",
          "Chitose",
          "Chitose",
          "Chitose",
          "Chitose",
          "Dundee",
          "Dundee",
          "Dubai",
          "Dubai",
          "Mojave",
          "Dubai",
          "Dubai",
          "Paumalu",
          "Sunyani",
          "Paumalu",
          "Sunyani",
          "Harmon"
         ],
         "yaxis": "y"
        },
        {
         "alignmentgroup": "True",
         "base": [
          "2024-10-31T00:57:20.000086+00:00",
          "2024-10-31T01:11:30.000086+00:00",
          "2024-10-31T02:35:00.000086+00:00",
          "2024-10-31T04:16:20.000086+00:00",
          "2024-10-31T05:58:00.000086+00:00",
          "2024-10-31T06:00:10.000086+00:00",
          "2024-10-31T07:38:20.000087+00:00",
          "2024-10-31T08:55:30.000086+00:00",
          "2024-10-31T10:37:10.000087+00:00",
          "2024-10-31T10:51:30.000086+00:00",
          "2024-10-31T02:15:00.000086+00:00",
          "2024-10-31T02:19:10.000086+00:00",
          "2024-10-31T02:52:20.000086+00:00",
          "2024-10-31T04:32:30.000086+00:00",
          "2024-10-31T05:24:20.000086+00:00",
          "2024-10-31T07:05:30.000086+00:00"
         ],
         "hovertemplate": "target=Spacecraft 2-5<br>start=%{base}<br>end=%{x}<br>antenna=%{y}<extra></extra>",
         "legendgroup": "Spacecraft 2-5",
         "marker": {
          "color": "#00cc96",
          "pattern": {
           "shape": ""
          }
         },
         "name": "Spacecraft 2-5",
         "offsetgroup": "Spacecraft 2-5",
         "orientation": "h",
         "showlegend": true,
         "textposition": "auto",
         "type": "bar",
         "x": [
          70000,
          530000,
          630000,
          740000,
          120000,
          580000,
          539999.999,
          350000,
          180000,
          610000,
          110000.001,
          150000,
          580000,
          90000,
          720000,
          560000
         ],
         "xaxis": "x",
         "y": [
          "Chitose",
          "Mojave",
          "Chitose",
          "Chitose",
          "Chitose",
          "Chitose",
          "Chitose",
          "Dundee",
          "Dundee",
          "Dubai",
          "Dubai",
          "Dubai",
          "Paumalu",
          "Paumalu",
          "Sunyani",
          "Sunyani"
         ],
         "yaxis": "y"
        },
        {
         "alignmentgroup": "True",
         "base": [
          "2024-10-31T00:45:00.000086+00:00",
          "2024-10-31T00:58:30.000086+00:00",
          "2024-10-31T02:22:20.000086+00:00",
          "2024-10-31T04:03:40.000086+00:00",
          "2024-10-31T05:44:50.000086+00:00",
          "2024-10-31T07:26:00.000086+00:00",
          "2024-10-31T08:43:00.000086+00:00",
          "2024-10-31T10:23:40.000086+00:00",
          "2024-10-31T10:35:10.000086+00:00",
          "2024-10-31T10:40:10.000087+00:00",
          "2024-10-31T02:02:00.000086+00:00",
          "2024-10-31T02:12:40.000086+00:00",
          "2024-10-31T02:40:20.000086+00:00",
          "2024-10-31T04:18:40.000086+00:00",
          "2024-10-31T05:11:00.000086+00:00",
          "2024-10-31T06:12:30.000087+00:00",
          "2024-10-31T06:52:50.000086+00:00",
          "2024-10-31T07:36:30.000086+00:00",
          "2024-10-31T07:49:40.000086+00:00",
          "2024-10-31T09:30:30.000086+00:00",
          "2024-10-31T11:13:00.000086+00:00"
         ],
         "hovertemplate": "target=Spacecraft 2-6<br>start=%{base}<br>end=%{x}<br>antenna=%{y}<extra></extra>",
         "legendgroup": "Spacecraft 2-6",
         "marker": {
          "color": "#ab63fa",
          "pattern": {
           "shape": ""
          }
         },
         "name": "Spacecraft 2-6",
         "offsetgroup": "Spacecraft 2-6",
         "orientation": "h",
         "showlegend": true,
         "textposition": "auto",
         "type": "bar",
         "x": [
          30000,
          660000,
          640000,
          760000,
          790000,
          610000,
          270000,
          210000,
          120000.001,
          569999.999,
          510000,
          140000,
          370000.001,
          220000,
          800000,
          509999.999,
          640000,
          10000,
          810000,
          810000,
          290000
         ],
         "xaxis": "x",
         "y": [
          "Chitose",
          "Mojave",
          "Chitose",
          "Chitose",
          "Chitose",
          "Chitose",
          "Dundee",
          "Dundee",
          "Dundee",
          "Dubai",
          "Dubai",
          "Dubai",
          "Paumalu",
          "Paumalu",
          "Sunyani",
          "Awarua",
          "Sunyani",
          "Harmon",
          "Awarua",
          "Awarua",
          "Awarua"
         ],
         "yaxis": "y"
        },
        {
         "alignmentgroup": "True",
         "base": [
          "2024-10-31T00:26:30.000086+00:00",
          "2024-10-31T00:45:30.000086+00:00",
          "2024-10-31T02:09:30.000086+00:00",
          "2024-10-31T03:50:40.000086+00:00",
          "2024-10-31T05:31:40.000087+00:00",
          "2024-10-31T07:12:20.000087+00:00",
          "2024-10-31T08:31:50.000086+00:00",
          "2024-10-31T10:10:00.000086+00:00",
          "2024-10-31T10:20:00.000087+00:00",
          "2024-10-31T10:27:10.000086+00:00",
          "2024-10-31T11:50:40.000086+00:00",
          "2024-10-31T01:49:20.000086+00:00",
          "2024-10-31T02:28:40.000087+00:00",
          "2024-10-31T04:04:40.000086+00:00",
          "2024-10-31T04:58:10.000086+00:00",
          "2024-10-31T06:00:10.000086+00:00",
          "2024-10-31T06:39:10.000087+00:00",
          "2024-10-31T07:19:10.000086+00:00",
          "2024-10-31T07:36:40.000086+00:00",
          "2024-10-31T09:16:50.000086+00:00",
          "2024-10-31T10:59:10.000086+00:00"
         ],
         "hovertemplate": "target=Spacecraft 2-7<br>start=%{base}<br>end=%{x}<br>antenna=%{y}<extra></extra>",
         "legendgroup": "Spacecraft 2-7",
         "marker": {
          "color": "#FFA15A",
          "pattern": {
           "shape": ""
          }
         },
         "name": "Spacecraft 2-7",
         "offsetgroup": "Spacecraft 2-7",
         "orientation": "h",
         "showlegend": true,
         "textposition": "auto",
         "type": "bar",
         "x": [
          380000,
          710000,
          610000,
          740000,
          789999.999,
          669999.999,
          120000,
          280000.001,
          219999.999,
          480000,
          80000,
          760000,
          229999.999,
          340000,
          770000,
          420000.001,
          689999.999,
          270000,
          780000,
          810000,
          720000
         ],
         "xaxis": "x",
         "y": [
          "Chitose",
          "Mojave",
          "Chitose",
          "Chitose",
          "Chitose",
          "Chitose",
          "Dundee",
          "Dundee",
          "Dundee",
          "Dubai",
          "Dundee",
          "Dubai",
          "Paumalu",
          "Paumalu",
          "Sunyani",
          "Tahiti",
          "Sunyani",
          "Harmon",
          "Awarua",
          "Awarua",
          "Awarua"
         ],
         "yaxis": "y"
        },
        {
         "alignmentgroup": "True",
         "base": [
          "2024-10-31T00:16:10.000086+00:00",
          "2024-10-31T00:32:50.000086+00:00",
          "2024-10-31T01:56:30.000086+00:00",
          "2024-10-31T03:37:50.000086+00:00",
          "2024-10-31T05:18:10.000086+00:00",
          "2024-10-31T06:59:00.000086+00:00",
          "2024-10-31T09:56:20.000087+00:00",
          "2024-10-31T10:14:40.000087+00:00",
          "2024-10-31T11:37:10.000086+00:00",
          "2024-10-31T01:29:50.000086+00:00",
          "2024-10-31T01:37:10.000087+00:00",
          "2024-10-31T02:16:50.000087+00:00",
          "2024-10-31T03:51:30.000086+00:00",
          "2024-10-31T04:45:40.000086+00:00",
          "2024-10-31T06:25:30.000087+00:00",
          "2024-10-31T07:14:50.000086+00:00",
          "2024-10-31T07:23:40.000086+00:00",
          "2024-10-31T08:50:20.000086+00:00",
          "2024-10-31T09:03:20.000086+00:00",
          "2024-10-31T10:45:30.000087+00:00"
         ],
         "hovertemplate": "target=Spacecraft 2-8<br>start=%{base}<br>end=%{x}<br>antenna=%{y}<extra></extra>",
         "legendgroup": "Spacecraft 2-8",
         "marker": {
          "color": "#19d3f3",
          "pattern": {
           "shape": ""
          }
         },
         "name": "Spacecraft 2-8",
         "offsetgroup": "Spacecraft 2-8",
         "orientation": "h",
         "showlegend": true,
         "textposition": "auto",
         "type": "bar",
         "x": [
          530000,
          730000,
          610000,
          710000,
          810000.001,
          700000,
          819999.999,
          320000,
          810000,
          190000.001,
          719999.999,
          139999.999,
          450000,
          720000,
          750000,
          260000,
          770000,
          240000,
          810000,
          729999.999
         ],
         "xaxis": "x",
         "y": [
          "Chitose",
          "Mojave",
          "Chitose",
          "Chitose",
          "Chitose",
          "Chitose",
          "Dundee",
          "Dubai",
          "Dundee",
          "Mwulire",
          "Dubai",
          "Paumalu",
          "Paumalu",
          "Sunyani",
          "Sunyani",
          "Harmon",
          "Awarua",
          "Harmon",
          "Awarua",
          "Awarua"
         ],
         "yaxis": "y"
        },
        {
         "alignmentgroup": "True",
         "base": [
          "2024-10-31T01:14:50.000086+00:00",
          "2024-10-31T06:33:50.000087+00:00",
          "2024-10-31T07:58:00.000086+00:00",
          "2024-10-31T08:14:30.000087+00:00",
          "2024-10-31T09:19:40.000086+00:00",
          "2024-10-31T11:20:30.000086+00:00",
          "2024-10-31T00:24:50.000086+00:00",
          "2024-10-31T01:54:30.000086+00:00",
          "2024-10-31T02:47:10.000086+00:00",
          "2024-10-31T02:54:20.000086+00:00",
          "2024-10-31T04:26:10.000086+00:00",
          "2024-10-31T10:07:40.000086+00:00",
          "2024-10-31T10:52:40.000086+00:00",
          "2024-10-31T11:43:50.000086+00:00"
         ],
         "hovertemplate": "target=Spacecraft 3-1<br>start=%{base}<br>end=%{x}<br>antenna=%{y}<extra></extra>",
         "legendgroup": "Spacecraft 3-1",
         "marker": {
          "color": "#FF6692",
          "pattern": {
           "shape": ""
          }
         },
         "name": "Spacecraft 3-1",
         "offsetgroup": "Spacecraft 3-1",
         "orientation": "h",
         "showlegend": true,
         "textposition": "auto",
         "type": "bar",
         "x": [
          730000,
          679999.999,
          420000.001,
          780000,
          670000.001,
          390000,
          470000.001,
          740000,
          10000,
          160000,
          710000,
          380000,
          110000,
          700000
         ],
         "xaxis": "x",
         "y": [
          "Paumalu",
          "Mojave",
          "Chitose",
          "Mojave",
          "Dubai",
          "Chitose",
          "Mwulire",
          "Sunyani",
          "Harmon",
          "Harmon",
          "Harmon",
          "Tahiti",
          "Mwulire",
          "Tahiti"
         ],
         "yaxis": "y"
        },
        {
         "alignmentgroup": "True",
         "base": [
          "2024-10-31T01:02:10.000086+00:00",
          "2024-10-31T02:46:30.000087+00:00",
          "2024-10-31T07:47:20.000086+00:00",
          "2024-10-31T08:06:20.000086+00:00",
          "2024-10-31T09:06:50.000086+00:00",
          "2024-10-31T11:06:30.000086+00:00",
          "2024-10-31T11:15:50.000086+00:00",
          "2024-10-31T00:13:30.000086+00:00",
          "2024-10-31T01:42:00.000086+00:00",
          "2024-10-31T02:42:30.000086+00:00",
          "2024-10-31T04:13:10.000086+00:00",
          "2024-10-31T10:38:30.000086+00:00",
          "2024-10-31T11:30:30.000087+00:00"
         ],
         "hovertemplate": "target=Spacecraft 3-2<br>start=%{base}<br>end=%{x}<br>antenna=%{y}<extra></extra>",
         "legendgroup": "Spacecraft 3-2",
         "marker": {
          "color": "#B6E880",
          "pattern": {
           "shape": ""
          }
         },
         "name": "Spacecraft 3-2",
         "offsetgroup": "Spacecraft 3-2",
         "orientation": "h",
         "showlegend": true,
         "textposition": "auto",
         "type": "bar",
         "x": [
          760000,
          349999.999,
          210000.001,
          470000,
          610000,
          430000,
          120000,
          290000,
          750000,
          50000,
          780000,
          180000,
          799999.999
         ],
         "xaxis": "x",
         "y": [
          "Paumalu",
          "Paumalu",
          "Chitose",
          "Mojave",
          "Dubai",
          "Chitose",
          "Chitose",
          "Mwulire",
          "Sunyani",
          "Harmon",
          "Harmon",
          "Mwulire",
          "Tahiti"
         ],
         "yaxis": "y"
        },
        {
         "alignmentgroup": "True",
         "base": [
          "2024-10-31T00:49:50.000087+00:00",
          "2024-10-31T02:32:30.000086+00:00",
          "2024-10-31T04:28:40.000086+00:00",
          "2024-10-31T07:36:10.000086+00:00",
          "2024-10-31T08:54:30.000086+00:00",
          "2024-10-31T09:17:00.000086+00:00",
          "2024-10-31T10:35:00.000086+00:00",
          "2024-10-31T10:53:10.000087+00:00",
          "2024-10-31T01:30:00.000086+00:00",
          "2024-10-31T04:01:10.000086+00:00",
          "2024-10-31T10:26:30.000087+00:00",
          "2024-10-31T11:18:40.000087+00:00"
         ],
         "hovertemplate": "target=Spacecraft 3-3<br>start=%{base}<br>end=%{x}<br>antenna=%{y}<extra></extra>",
         "legendgroup": "Spacecraft 3-3",
         "marker": {
          "color": "#FF97FF",
          "pattern": {
           "shape": ""
          }
         },
         "name": "Spacecraft 3-3",
         "offsetgroup": "Spacecraft 3-3",
         "orientation": "h",
         "showlegend": true,
         "textposition": "auto",
         "type": "bar",
         "x": [
          739999.999,
          470000,
          340000,
          130000.001,
          500000,
          70000,
          300000,
          640000,
          110000.001,
          720000,
          149999.999,
          699999.999
         ],
         "xaxis": "x",
         "y": [
          "Paumalu",
          "Paumalu",
          "Mojave",
          "Chitose",
          "Dubai",
          "Chitose",
          "Dubai",
          "Chitose",
          "Sunyani",
          "Harmon",
          "Mwulire",
          "Tahiti"
         ],
         "yaxis": "y"
        },
        {
         "alignmentgroup": "True",
         "base": [
          "2024-10-31T00:37:20.000086+00:00",
          "2024-10-31T02:19:10.000086+00:00",
          "2024-10-31T04:16:50.000086+00:00",
          "2024-10-31T05:55:50.000086+00:00",
          "2024-10-31T07:23:20.000086+00:00",
          "2024-10-31T08:43:50.000086+00:00",
          "2024-10-31T09:02:50.000086+00:00",
          "2024-10-31T09:18:10.000086+00:00",
          "2024-10-31T10:22:10.000086+00:00",
          "2024-10-31T10:41:20.000087+00:00",
          "2024-10-31T01:18:20.000086+00:00",
          "2024-10-31T03:02:00.000086+00:00",
          "2024-10-31T03:48:50.000086+00:00",
          "2024-10-31T05:36:10.000086+00:00",
          "2024-10-31T10:14:00.000086+00:00",
          "2024-10-31T11:06:50.000086+00:00"
         ],
         "hovertemplate": "target=Spacecraft 3-4<br>start=%{base}<br>end=%{x}<br>antenna=%{y}<extra></extra>",
         "legendgroup": "Spacecraft 3-4",
         "marker": {
          "color": "#FECB52",
          "pattern": {
           "shape": ""
          }
         },
         "name": "Spacecraft 3-4",
         "offsetgroup": "Spacecraft 3-4",
         "orientation": "h",
         "showlegend": true,
         "textposition": "auto",
         "type": "bar",
         "x": [
          750000.001,
          570000.001,
          280000,
          250000,
          150000,
          390000,
          240000,
          90000,
          290000,
          640000,
          350000.001,
          130000,
          740000,
          220000,
          240000,
          710000.001
         ],
         "xaxis": "x",
         "y": [
          "Paumalu",
          "Paumalu",
          "Mojave",
          "Mojave",
          "Chitose",
          "Dubai",
          "Chitose",
          "Mojave",
          "Dubai",
          "Chitose",
          "Sunyani",
          "Sunyani",
          "Harmon",
          "Harmon",
          "Mwulire",
          "Tahiti"
         ],
         "yaxis": "y"
        },
        {
         "alignmentgroup": "True",
         "base": [
          "2024-10-31T00:24:40.000086+00:00",
          "2024-10-31T02:06:00.000086+00:00",
          "2024-10-31T03:35:40.000086+00:00",
          "2024-10-31T04:04:30.000086+00:00",
          "2024-10-31T05:43:50.000086+00:00",
          "2024-10-31T08:34:10.000086+00:00",
          "2024-10-31T08:50:20.000086+00:00",
          "2024-10-31T08:54:10.000087+00:00",
          "2024-10-31T10:20:00.000087+00:00",
          "2024-10-31T10:29:30.000087+00:00",
          "2024-10-31T10:40:00.000086+00:00",
          "2024-10-31T00:04:10.000086+00:00",
          "2024-10-31T00:18:20.000086+00:00",
          "2024-10-31T01:10:30.000087+00:00",
          "2024-10-31T02:47:20.000086+00:00",
          "2024-10-31T03:40:40.000086+00:00",
          "2024-10-31T05:23:10.000086+00:00",
          "2024-10-31T10:02:30.000086+00:00",
          "2024-10-31T10:54:30.000086+00:00"
         ],
         "hovertemplate": "target=Spacecraft 3-5<br>start=%{base}<br>end=%{x}<br>antenna=%{y}<extra></extra>",
         "legendgroup": "Spacecraft 3-5",
         "marker": {
          "color": "#636efa",
          "pattern": {
           "shape": ""
          }
         },
         "name": "Spacecraft 3-5",
         "offsetgroup": "Spacecraft 3-5",
         "orientation": "h",
         "showlegend": true,
         "textposition": "auto",
         "type": "bar",
         "x": [
          760000,
          650000.001,
          300000,
          240000,
          680000,
          150000,
          100000,
          19999.999,
          129999.999,
          329999.999,
          10000.001,
          510000,
          390000,
          469999.999,
          420000,
          490000,
          270000,
          310000,
          740000
         ],
         "xaxis": "x",
         "y": [
          "Paumalu",
          "Paumalu",
          "Harmon",
          "Mojave",
          "Mojave",
          "Dubai",
          "Chitose",
          "Chitose",
          "Dubai",
          "Chitose",
          "Chitose",
          "Awarua",
          "Tahiti",
          "Sunyani",
          "Sunyani",
          "Harmon",
          "Harmon",
          "Mwulire",
          "Tahiti"
         ],
         "yaxis": "y"
        },
        {
         "alignmentgroup": "True",
         "base": [
          "2024-10-31T00:11:50.000086+00:00",
          "2024-10-31T01:52:50.000086+00:00",
          "2024-10-31T03:23:00.000086+00:00",
          "2024-10-31T05:03:40.000086+00:00",
          "2024-10-31T05:31:00.000086+00:00",
          "2024-10-31T08:33:00.000086+00:00",
          "2024-10-31T08:36:40.000086+00:00",
          "2024-10-31T08:41:50.000086+00:00",
          "2024-10-31T08:52:00.000086+00:00",
          "2024-10-31T09:55:20.000086+00:00",
          "2024-10-31T10:17:40.000087+00:00",
          "2024-10-31T11:36:30.000086+00:00",
          "2024-10-31T00:00:00.000086+00:00",
          "2024-10-31T00:12:40.000086+00:00",
          "2024-10-31T00:56:10.000086+00:00",
          "2024-10-31T01:31:50.000087+00:00",
          "2024-10-31T02:33:30.000086+00:00",
          "2024-10-31T09:46:50.000087+00:00",
          "2024-10-31T10:41:30.000086+00:00",
          "2024-10-31T11:30:20.000086+00:00"
         ],
         "hovertemplate": "target=Spacecraft 3-6<br>start=%{base}<br>end=%{x}<br>antenna=%{y}<extra></extra>",
         "legendgroup": "Spacecraft 3-6",
         "marker": {
          "color": "#EF553B",
          "pattern": {
           "shape": ""
          }
         },
         "name": "Spacecraft 3-6",
         "offsetgroup": "Spacecraft 3-6",
         "orientation": "h",
         "showlegend": true,
         "textposition": "auto",
         "type": "bar",
         "x": [
          770000,
          690000,
          760000,
          720000.001,
          620000,
          70000,
          130000,
          120000,
          130000.001,
          560000,
          140000,
          530000,
          250000,
          50000,
          610000,
          609999.999,
          540000,
          549999.999,
          670000,
          10000.001
         ],
         "xaxis": "x",
         "y": [
          "Paumalu",
          "Paumalu",
          "Harmon",
          "Harmon",
          "Mojave",
          "Chitose",
          "Chitose",
          "Chitose",
          "Mojave",
          "Dubai",
          "Chitose",
          "Dubai",
          "Awarua",
          "Tahiti",
          "Sunyani",
          "Awarua",
          "Sunyani",
          "Mwulire",
          "Tahiti",
          "Mwulire"
         ],
         "yaxis": "y"
        },
        {
         "alignmentgroup": "True",
         "base": [
          "2024-10-31T00:00:00.000086+00:00",
          "2024-10-31T01:39:40.000086+00:00",
          "2024-10-31T03:10:30.000086+00:00",
          "2024-10-31T04:51:00.000086+00:00",
          "2024-10-31T05:18:10.000086+00:00",
          "2024-10-31T08:27:30.000087+00:00",
          "2024-10-31T08:38:50.000086+00:00",
          "2024-10-31T09:43:00.000086+00:00",
          "2024-10-31T11:48:20.000086+00:00",
          "2024-10-31T00:44:30.000087+00:00",
          "2024-10-31T01:24:10.000087+00:00",
          "2024-10-31T02:20:10.000086+00:00",
          "2024-10-31T09:34:30.000086+00:00",
          "2024-10-31T10:29:00.000086+00:00"
         ],
         "hovertemplate": "target=Spacecraft 3-7<br>start=%{base}<br>end=%{x}<br>antenna=%{y}<extra></extra>",
         "legendgroup": "Spacecraft 3-7",
         "marker": {
          "color": "#00cc96",
          "pattern": {
           "shape": ""
          }
         },
         "name": "Spacecraft 3-7",
         "offsetgroup": "Spacecraft 3-7",
         "orientation": "h",
         "showlegend": true,
         "textposition": "auto",
         "type": "bar",
         "x": [
          710000,
          730000,
          720000,
          720000,
          570000,
          180000,
          180000,
          700000,
          190000,
          699999.999,
          349999.999,
          620000.001,
          500000,
          570000
         ],
         "xaxis": "x",
         "y": [
          "Paumalu",
          "Paumalu",
          "Harmon",
          "Harmon",
          "Mojave",
          "Chitose",
          "Mojave",
          "Dubai",
          "Chitose",
          "Sunyani",
          "Awarua",
          "Sunyani",
          "Mwulire",
          "Tahiti"
         ],
         "yaxis": "y"
        },
        {
         "alignmentgroup": "True",
         "base": [
          "2024-10-31T01:27:00.000086+00:00",
          "2024-10-31T02:58:50.000086+00:00",
          "2024-10-31T04:38:00.000086+00:00",
          "2024-10-31T06:24:40.000086+00:00",
          "2024-10-31T08:14:10.000086+00:00",
          "2024-10-31T09:30:50.000087+00:00",
          "2024-10-31T09:54:40.000086+00:00",
          "2024-10-31T10:04:40.000086+00:00",
          "2024-10-31T11:13:40.000086+00:00",
          "2024-10-31T11:31:50.000086+00:00",
          "2024-10-31T11:45:20.000086+00:00",
          "2024-10-31T00:32:40.000087+00:00",
          "2024-10-31T01:06:20.000086+00:00",
          "2024-10-31T02:07:10.000086+00:00",
          "2024-10-31T06:26:20.000086+00:00",
          "2024-10-31T06:35:50.000086+00:00",
          "2024-10-31T08:15:40.000087+00:00",
          "2024-10-31T09:23:50.000086+00:00",
          "2024-10-31T09:56:00.000086+00:00",
          "2024-10-31T10:18:00.000086+00:00"
         ],
         "hovertemplate": "target=Spacecraft 3-8<br>start=%{base}<br>end=%{x}<br>antenna=%{y}<extra></extra>",
         "legendgroup": "Spacecraft 3-8",
         "marker": {
          "color": "#ab63fa",
          "pattern": {
           "shape": ""
          }
         },
         "name": "Spacecraft 3-8",
         "offsetgroup": "Spacecraft 3-8",
         "orientation": "h",
         "showlegend": true,
         "textposition": "auto",
         "type": "bar",
         "x": [
          760000,
          660000,
          780000,
          100000,
          20000.001,
          729999.999,
          40000,
          780000.001,
          130000,
          280000,
          180000,
          710000,
          250000.001,
          700000,
          240000,
          730000.001,
          669999.999,
          360000,
          390000,
          510000.001
         ],
         "xaxis": "x",
         "y": [
          "Paumalu",
          "Harmon",
          "Harmon",
          "Chitose",
          "Chitose",
          "Dubai",
          "Chitose",
          "Paumalu",
          "Dubai",
          "Chitose",
          "Paumalu",
          "Sunyani",
          "Awarua",
          "Sunyani",
          "Chitose",
          "Utqiagvik",
          "Utqiagvik",
          "Mwulire",
          "Utqiagvik",
          "Tahiti"
         ],
         "yaxis": "y"
        }
       ],
       "layout": {
        "barmode": "overlay",
        "legend": {
         "title": {
          "text": "target"
         },
         "tracegroupgap": 0,
         "traceorder": "normal"
        },
        "template": {
         "data": {
          "bar": [
           {
            "error_x": {
             "color": "#2a3f5f"
            },
            "error_y": {
             "color": "#2a3f5f"
            },
            "marker": {
             "line": {
              "color": "#E5ECF6",
              "width": 0.5
             },
             "pattern": {
              "fillmode": "overlay",
              "size": 10,
              "solidity": 0.2
             }
            },
            "type": "bar"
           }
          ],
          "barpolar": [
           {
            "marker": {
             "line": {
              "color": "#E5ECF6",
              "width": 0.5
             },
             "pattern": {
              "fillmode": "overlay",
              "size": 10,
              "solidity": 0.2
             }
            },
            "type": "barpolar"
           }
          ],
          "carpet": [
           {
            "aaxis": {
             "endlinecolor": "#2a3f5f",
             "gridcolor": "white",
             "linecolor": "white",
             "minorgridcolor": "white",
             "startlinecolor": "#2a3f5f"
            },
            "baxis": {
             "endlinecolor": "#2a3f5f",
             "gridcolor": "white",
             "linecolor": "white",
             "minorgridcolor": "white",
             "startlinecolor": "#2a3f5f"
            },
            "type": "carpet"
           }
          ],
          "choropleth": [
           {
            "colorbar": {
             "outlinewidth": 0,
             "ticks": ""
            },
            "type": "choropleth"
           }
          ],
          "contour": [
           {
            "colorbar": {
             "outlinewidth": 0,
             "ticks": ""
            },
            "colorscale": [
             [
              0,
              "#0d0887"
             ],
             [
              0.1111111111111111,
              "#46039f"
             ],
             [
              0.2222222222222222,
              "#7201a8"
             ],
             [
              0.3333333333333333,
              "#9c179e"
             ],
             [
              0.4444444444444444,
              "#bd3786"
             ],
             [
              0.5555555555555556,
              "#d8576b"
             ],
             [
              0.6666666666666666,
              "#ed7953"
             ],
             [
              0.7777777777777778,
              "#fb9f3a"
             ],
             [
              0.8888888888888888,
              "#fdca26"
             ],
             [
              1,
              "#f0f921"
             ]
            ],
            "type": "contour"
           }
          ],
          "contourcarpet": [
           {
            "colorbar": {
             "outlinewidth": 0,
             "ticks": ""
            },
            "type": "contourcarpet"
           }
          ],
          "heatmap": [
           {
            "colorbar": {
             "outlinewidth": 0,
             "ticks": ""
            },
            "colorscale": [
             [
              0,
              "#0d0887"
             ],
             [
              0.1111111111111111,
              "#46039f"
             ],
             [
              0.2222222222222222,
              "#7201a8"
             ],
             [
              0.3333333333333333,
              "#9c179e"
             ],
             [
              0.4444444444444444,
              "#bd3786"
             ],
             [
              0.5555555555555556,
              "#d8576b"
             ],
             [
              0.6666666666666666,
              "#ed7953"
             ],
             [
              0.7777777777777778,
              "#fb9f3a"
             ],
             [
              0.8888888888888888,
              "#fdca26"
             ],
             [
              1,
              "#f0f921"
             ]
            ],
            "type": "heatmap"
           }
          ],
          "heatmapgl": [
           {
            "colorbar": {
             "outlinewidth": 0,
             "ticks": ""
            },
            "colorscale": [
             [
              0,
              "#0d0887"
             ],
             [
              0.1111111111111111,
              "#46039f"
             ],
             [
              0.2222222222222222,
              "#7201a8"
             ],
             [
              0.3333333333333333,
              "#9c179e"
             ],
             [
              0.4444444444444444,
              "#bd3786"
             ],
             [
              0.5555555555555556,
              "#d8576b"
             ],
             [
              0.6666666666666666,
              "#ed7953"
             ],
             [
              0.7777777777777778,
              "#fb9f3a"
             ],
             [
              0.8888888888888888,
              "#fdca26"
             ],
             [
              1,
              "#f0f921"
             ]
            ],
            "type": "heatmapgl"
           }
          ],
          "histogram": [
           {
            "marker": {
             "pattern": {
              "fillmode": "overlay",
              "size": 10,
              "solidity": 0.2
             }
            },
            "type": "histogram"
           }
          ],
          "histogram2d": [
           {
            "colorbar": {
             "outlinewidth": 0,
             "ticks": ""
            },
            "colorscale": [
             [
              0,
              "#0d0887"
             ],
             [
              0.1111111111111111,
              "#46039f"
             ],
             [
              0.2222222222222222,
              "#7201a8"
             ],
             [
              0.3333333333333333,
              "#9c179e"
             ],
             [
              0.4444444444444444,
              "#bd3786"
             ],
             [
              0.5555555555555556,
              "#d8576b"
             ],
             [
              0.6666666666666666,
              "#ed7953"
             ],
             [
              0.7777777777777778,
              "#fb9f3a"
             ],
             [
              0.8888888888888888,
              "#fdca26"
             ],
             [
              1,
              "#f0f921"
             ]
            ],
            "type": "histogram2d"
           }
          ],
          "histogram2dcontour": [
           {
            "colorbar": {
             "outlinewidth": 0,
             "ticks": ""
            },
            "colorscale": [
             [
              0,
              "#0d0887"
             ],
             [
              0.1111111111111111,
              "#46039f"
             ],
             [
              0.2222222222222222,
              "#7201a8"
             ],
             [
              0.3333333333333333,
              "#9c179e"
             ],
             [
              0.4444444444444444,
              "#bd3786"
             ],
             [
              0.5555555555555556,
              "#d8576b"
             ],
             [
              0.6666666666666666,
              "#ed7953"
             ],
             [
              0.7777777777777778,
              "#fb9f3a"
             ],
             [
              0.8888888888888888,
              "#fdca26"
             ],
             [
              1,
              "#f0f921"
             ]
            ],
            "type": "histogram2dcontour"
           }
          ],
          "mesh3d": [
           {
            "colorbar": {
             "outlinewidth": 0,
             "ticks": ""
            },
            "type": "mesh3d"
           }
          ],
          "parcoords": [
           {
            "line": {
             "colorbar": {
              "outlinewidth": 0,
              "ticks": ""
             }
            },
            "type": "parcoords"
           }
          ],
          "pie": [
           {
            "automargin": true,
            "type": "pie"
           }
          ],
          "scatter": [
           {
            "fillpattern": {
             "fillmode": "overlay",
             "size": 10,
             "solidity": 0.2
            },
            "type": "scatter"
           }
          ],
          "scatter3d": [
           {
            "line": {
             "colorbar": {
              "outlinewidth": 0,
              "ticks": ""
             }
            },
            "marker": {
             "colorbar": {
              "outlinewidth": 0,
              "ticks": ""
             }
            },
            "type": "scatter3d"
           }
          ],
          "scattercarpet": [
           {
            "marker": {
             "colorbar": {
              "outlinewidth": 0,
              "ticks": ""
             }
            },
            "type": "scattercarpet"
           }
          ],
          "scattergeo": [
           {
            "marker": {
             "colorbar": {
              "outlinewidth": 0,
              "ticks": ""
             }
            },
            "type": "scattergeo"
           }
          ],
          "scattergl": [
           {
            "marker": {
             "colorbar": {
              "outlinewidth": 0,
              "ticks": ""
             }
            },
            "type": "scattergl"
           }
          ],
          "scattermapbox": [
           {
            "marker": {
             "colorbar": {
              "outlinewidth": 0,
              "ticks": ""
             }
            },
            "type": "scattermapbox"
           }
          ],
          "scatterpolar": [
           {
            "marker": {
             "colorbar": {
              "outlinewidth": 0,
              "ticks": ""
             }
            },
            "type": "scatterpolar"
           }
          ],
          "scatterpolargl": [
           {
            "marker": {
             "colorbar": {
              "outlinewidth": 0,
              "ticks": ""
             }
            },
            "type": "scatterpolargl"
           }
          ],
          "scatterternary": [
           {
            "marker": {
             "colorbar": {
              "outlinewidth": 0,
              "ticks": ""
             }
            },
            "type": "scatterternary"
           }
          ],
          "surface": [
           {
            "colorbar": {
             "outlinewidth": 0,
             "ticks": ""
            },
            "colorscale": [
             [
              0,
              "#0d0887"
             ],
             [
              0.1111111111111111,
              "#46039f"
             ],
             [
              0.2222222222222222,
              "#7201a8"
             ],
             [
              0.3333333333333333,
              "#9c179e"
             ],
             [
              0.4444444444444444,
              "#bd3786"
             ],
             [
              0.5555555555555556,
              "#d8576b"
             ],
             [
              0.6666666666666666,
              "#ed7953"
             ],
             [
              0.7777777777777778,
              "#fb9f3a"
             ],
             [
              0.8888888888888888,
              "#fdca26"
             ],
             [
              1,
              "#f0f921"
             ]
            ],
            "type": "surface"
           }
          ],
          "table": [
           {
            "cells": {
             "fill": {
              "color": "#EBF0F8"
             },
             "line": {
              "color": "white"
             }
            },
            "header": {
             "fill": {
              "color": "#C8D4E3"
             },
             "line": {
              "color": "white"
             }
            },
            "type": "table"
           }
          ]
         },
         "layout": {
          "annotationdefaults": {
           "arrowcolor": "#2a3f5f",
           "arrowhead": 0,
           "arrowwidth": 1
          },
          "autotypenumbers": "strict",
          "coloraxis": {
           "colorbar": {
            "outlinewidth": 0,
            "ticks": ""
           }
          },
          "colorscale": {
           "diverging": [
            [
             0,
             "#8e0152"
            ],
            [
             0.1,
             "#c51b7d"
            ],
            [
             0.2,
             "#de77ae"
            ],
            [
             0.3,
             "#f1b6da"
            ],
            [
             0.4,
             "#fde0ef"
            ],
            [
             0.5,
             "#f7f7f7"
            ],
            [
             0.6,
             "#e6f5d0"
            ],
            [
             0.7,
             "#b8e186"
            ],
            [
             0.8,
             "#7fbc41"
            ],
            [
             0.9,
             "#4d9221"
            ],
            [
             1,
             "#276419"
            ]
           ],
           "sequential": [
            [
             0,
             "#0d0887"
            ],
            [
             0.1111111111111111,
             "#46039f"
            ],
            [
             0.2222222222222222,
             "#7201a8"
            ],
            [
             0.3333333333333333,
             "#9c179e"
            ],
            [
             0.4444444444444444,
             "#bd3786"
            ],
            [
             0.5555555555555556,
             "#d8576b"
            ],
            [
             0.6666666666666666,
             "#ed7953"
            ],
            [
             0.7777777777777778,
             "#fb9f3a"
            ],
            [
             0.8888888888888888,
             "#fdca26"
            ],
            [
             1,
             "#f0f921"
            ]
           ],
           "sequentialminus": [
            [
             0,
             "#0d0887"
            ],
            [
             0.1111111111111111,
             "#46039f"
            ],
            [
             0.2222222222222222,
             "#7201a8"
            ],
            [
             0.3333333333333333,
             "#9c179e"
            ],
            [
             0.4444444444444444,
             "#bd3786"
            ],
            [
             0.5555555555555556,
             "#d8576b"
            ],
            [
             0.6666666666666666,
             "#ed7953"
            ],
            [
             0.7777777777777778,
             "#fb9f3a"
            ],
            [
             0.8888888888888888,
             "#fdca26"
            ],
            [
             1,
             "#f0f921"
            ]
           ]
          },
          "colorway": [
           "#636efa",
           "#EF553B",
           "#00cc96",
           "#ab63fa",
           "#FFA15A",
           "#19d3f3",
           "#FF6692",
           "#B6E880",
           "#FF97FF",
           "#FECB52"
          ],
          "font": {
           "color": "#2a3f5f"
          },
          "geo": {
           "bgcolor": "white",
           "lakecolor": "white",
           "landcolor": "#E5ECF6",
           "showlakes": true,
           "showland": true,
           "subunitcolor": "white"
          },
          "hoverlabel": {
           "align": "left"
          },
          "hovermode": "closest",
          "mapbox": {
           "style": "light"
          },
          "paper_bgcolor": "white",
          "plot_bgcolor": "#E5ECF6",
          "polar": {
           "angularaxis": {
            "gridcolor": "white",
            "linecolor": "white",
            "ticks": ""
           },
           "bgcolor": "#E5ECF6",
           "radialaxis": {
            "gridcolor": "white",
            "linecolor": "white",
            "ticks": ""
           }
          },
          "scene": {
           "xaxis": {
            "backgroundcolor": "#E5ECF6",
            "gridcolor": "white",
            "gridwidth": 2,
            "linecolor": "white",
            "showbackground": true,
            "ticks": "",
            "zerolinecolor": "white"
           },
           "yaxis": {
            "backgroundcolor": "#E5ECF6",
            "gridcolor": "white",
            "gridwidth": 2,
            "linecolor": "white",
            "showbackground": true,
            "ticks": "",
            "zerolinecolor": "white"
           },
           "zaxis": {
            "backgroundcolor": "#E5ECF6",
            "gridcolor": "white",
            "gridwidth": 2,
            "linecolor": "white",
            "showbackground": true,
            "ticks": "",
            "zerolinecolor": "white"
           }
          },
          "shapedefaults": {
           "line": {
            "color": "#2a3f5f"
           }
          },
          "ternary": {
           "aaxis": {
            "gridcolor": "white",
            "linecolor": "white",
            "ticks": ""
           },
           "baxis": {
            "gridcolor": "white",
            "linecolor": "white",
            "ticks": ""
           },
           "bgcolor": "#E5ECF6",
           "caxis": {
            "gridcolor": "white",
            "linecolor": "white",
            "ticks": ""
           }
          },
          "title": {
           "x": 0.05
          },
          "xaxis": {
           "automargin": true,
           "gridcolor": "white",
           "linecolor": "white",
           "ticks": "",
           "title": {
            "standoff": 15
           },
           "zerolinecolor": "white",
           "zerolinewidth": 2
          },
          "yaxis": {
           "automargin": true,
           "gridcolor": "white",
           "linecolor": "white",
           "ticks": "",
           "title": {
            "standoff": 15
           },
           "zerolinecolor": "white",
           "zerolinewidth": 2
          }
         }
        },
        "title": {
         "text": "Up/Downlink Schedule"
        },
        "xaxis": {
         "anchor": "y",
         "domain": [
          0,
          1
         ],
         "type": "date"
        },
        "yaxis": {
         "anchor": "x",
         "categoryorder": "category descending",
         "domain": [
          0,
          1
         ],
         "title": {
          "text": "antenna"
         }
        }
       }
      }
     },
     "metadata": {},
     "output_type": "display_data"
    }
   ],
   "source": [
    "plot_data = schedule_table(template, ground_segment_results)\n",
    "\n",
    "fig = px.timeline(plot_data, x_start='start', x_end='end', y='antenna', color='target', title='Up/Downlink Schedule')\n",
    "fig.update_yaxes(categoryorder='category descending')\n",
    "# Alphabetize legend\n",
    "fig.update_legends(traceorder='normal')\n",
    "fig.show()"
   ]
  },
  {
   "cell_type": "markdown",
   "metadata": {},
   "source": [
    "Same plot as above but with the y-axis and legend swapped"
   ]
  },
  {
   "cell_type": "code",
   "execution_count": 12,
   "metadata": {},
   "outputs": [
    {
     "data": {
      "application/vnd.plotly.v1+json": {
       "config": {
        "plotlyServerURL": "https://plot.ly"
       },
       "data": [
        {
         "alignmentgroup": "True",
         "base": [
          "2024-10-31T00:21:10.000086+00:00",
          "2024-10-31T01:52:10.000086+00:00",
          "2024-10-31T03:33:00.000086+00:00",
          "2024-10-31T05:16:10.000086+00:00",
          "2024-10-31T08:38:40.000086+00:00",
          "2024-10-31T00:05:00.000086+00:00",
          "2024-10-31T01:39:40.000086+00:00",
          "2024-10-31T03:20:40.000086+00:00",
          "2024-10-31T05:01:40.000086+00:00",
          "2024-10-31T06:44:00.000086+00:00",
          "2024-10-31T08:21:40.000086+00:00",
          "2024-10-31T01:27:00.000086+00:00",
          "2024-10-31T03:07:40.000086+00:00",
          "2024-10-31T04:48:40.000086+00:00",
          "2024-10-31T06:33:40.000086+00:00",
          "2024-10-31T08:09:50.000086+00:00",
          "2024-10-31T01:14:10.000086+00:00",
          "2024-10-31T02:54:50.000086+00:00",
          "2024-10-31T04:35:30.000086+00:00",
          "2024-10-31T08:06:20.000086+00:00",
          "2024-10-31T01:01:50.000086+00:00",
          "2024-10-31T02:42:30.000086+00:00",
          "2024-10-31T04:23:30.000086+00:00",
          "2024-10-31T07:49:00.000087+00:00",
          "2024-10-31T00:49:30.000086+00:00",
          "2024-10-31T02:30:10.000086+00:00",
          "2024-10-31T04:11:20.000086+00:00",
          "2024-10-31T05:52:50.000086+00:00",
          "2024-10-31T07:35:50.000086+00:00",
          "2024-10-31T09:15:00.000086+00:00",
          "2024-10-31T00:36:40.000086+00:00",
          "2024-10-31T02:17:20.000086+00:00",
          "2024-10-31T03:58:10.000086+00:00",
          "2024-10-31T05:44:40.000087+00:00",
          "2024-10-31T09:03:40.000087+00:00",
          "2024-10-31T00:23:10.000087+00:00",
          "2024-10-31T00:28:50.000086+00:00",
          "2024-10-31T02:03:30.000086+00:00",
          "2024-10-31T03:44:30.000087+00:00",
          "2024-10-31T05:25:10.000087+00:00",
          "2024-10-31T08:52:00.000086+00:00",
          "2024-10-31T00:27:30.000086+00:00",
          "2024-10-31T09:46:50.000087+00:00",
          "2024-10-31T11:27:50.000086+00:00",
          "2024-10-31T11:36:30.000086+00:00",
          "2024-10-31T09:33:20.000086+00:00",
          "2024-10-31T11:14:00.000086+00:00",
          "2024-10-31T09:19:20.000086+00:00",
          "2024-10-31T11:01:40.000086+00:00",
          "2024-10-31T11:13:50.000086+00:00",
          "2024-10-31T09:08:00.000086+00:00",
          "2024-10-31T10:49:40.000086+00:00",
          "2024-10-31T08:55:30.000086+00:00",
          "2024-10-31T10:37:10.000087+00:00",
          "2024-10-31T08:43:00.000086+00:00",
          "2024-10-31T10:23:40.000086+00:00",
          "2024-10-31T10:35:10.000086+00:00",
          "2024-10-31T08:31:50.000086+00:00",
          "2024-10-31T10:10:00.000086+00:00",
          "2024-10-31T10:20:00.000087+00:00",
          "2024-10-31T11:50:40.000086+00:00",
          "2024-10-31T09:56:20.000087+00:00",
          "2024-10-31T11:37:10.000086+00:00"
         ],
         "hovertemplate": "antenna=Dundee<br>start=%{base}<br>end=%{x}<br>target=%{y}<extra></extra>",
         "legendgroup": "Dundee",
         "marker": {
          "color": "#636efa",
          "pattern": {
           "shape": ""
          }
         },
         "name": "Dundee",
         "offsetgroup": "Dundee",
         "orientation": "h",
         "showlegend": true,
         "textposition": "auto",
         "type": "bar",
         "x": [
          120000.001,
          680000,
          690000.001,
          540000.001,
          190000,
          380000.001,
          750000,
          740000,
          320000,
          70000,
          370000,
          760000,
          780000,
          780000,
          270000,
          640000,
          770000,
          770000,
          790000,
          80000,
          740000,
          740000,
          720000,
          39999.999,
          740000,
          740000,
          730000,
          430000,
          10000.001,
          210000,
          770000,
          770000,
          790000,
          369999.999,
          179999.999,
          99999.999,
          470000,
          830000,
          819999.999,
          829999.999,
          130000.001,
          80000,
          570000,
          90000,
          40000,
          810000.001,
          110000,
          830000,
          60000.001,
          10000,
          350000,
          110000,
          350000,
          180000,
          270000,
          210000,
          120000.001,
          120000,
          280000.001,
          219999.999,
          80000,
          819999.999,
          810000
         ],
         "xaxis": "x",
         "y": [
          "Spacecraft 1-1",
          "Spacecraft 1-1",
          "Spacecraft 1-1",
          "Spacecraft 1-1",
          "Spacecraft 1-1",
          "Spacecraft 1-2",
          "Spacecraft 1-2",
          "Spacecraft 1-2",
          "Spacecraft 1-2",
          "Spacecraft 1-2",
          "Spacecraft 1-2",
          "Spacecraft 1-3",
          "Spacecraft 1-3",
          "Spacecraft 1-3",
          "Spacecraft 1-3",
          "Spacecraft 1-3",
          "Spacecraft 1-4",
          "Spacecraft 1-4",
          "Spacecraft 1-4",
          "Spacecraft 1-4",
          "Spacecraft 1-5",
          "Spacecraft 1-5",
          "Spacecraft 1-5",
          "Spacecraft 1-5",
          "Spacecraft 1-6",
          "Spacecraft 1-6",
          "Spacecraft 1-6",
          "Spacecraft 1-6",
          "Spacecraft 1-6",
          "Spacecraft 1-6",
          "Spacecraft 1-7",
          "Spacecraft 1-7",
          "Spacecraft 1-7",
          "Spacecraft 1-7",
          "Spacecraft 1-7",
          "Spacecraft 1-8",
          "Spacecraft 1-8",
          "Spacecraft 1-8",
          "Spacecraft 1-8",
          "Spacecraft 1-8",
          "Spacecraft 1-8",
          "Spacecraft 1-8",
          "Spacecraft 2-1",
          "Spacecraft 2-1",
          "Spacecraft 2-1",
          "Spacecraft 2-2",
          "Spacecraft 2-2",
          "Spacecraft 2-3",
          "Spacecraft 2-3",
          "Spacecraft 2-3",
          "Spacecraft 2-4",
          "Spacecraft 2-4",
          "Spacecraft 2-5",
          "Spacecraft 2-5",
          "Spacecraft 2-6",
          "Spacecraft 2-6",
          "Spacecraft 2-6",
          "Spacecraft 2-7",
          "Spacecraft 2-7",
          "Spacecraft 2-7",
          "Spacecraft 2-7",
          "Spacecraft 2-8",
          "Spacecraft 2-8"
         ],
         "yaxis": "y"
        },
        {
         "alignmentgroup": "True",
         "base": [
          "2024-10-31T11:27:00.000086+00:00",
          "2024-10-31T00:11:20.000087+00:00",
          "2024-10-31T00:00:00.000086+00:00",
          "2024-10-31T11:51:30.000086+00:00",
          "2024-10-31T11:38:50.000086+00:00",
          "2024-10-31T00:05:00.000086+00:00",
          "2024-10-31T01:43:50.000086+00:00",
          "2024-10-31T03:25:30.000087+00:00",
          "2024-10-31T05:07:30.000086+00:00",
          "2024-10-31T06:47:40.000086+00:00",
          "2024-10-31T01:31:10.000086+00:00",
          "2024-10-31T03:13:10.000086+00:00",
          "2024-10-31T04:54:10.000086+00:00",
          "2024-10-31T06:35:00.000087+00:00",
          "2024-10-31T01:20:20.000086+00:00",
          "2024-10-31T03:00:20.000086+00:00",
          "2024-10-31T04:41:00.000086+00:00",
          "2024-10-31T06:21:40.000086+00:00",
          "2024-10-31T06:30:20.000086+00:00",
          "2024-10-31T08:05:00.000087+00:00",
          "2024-10-31T01:09:30.000086+00:00",
          "2024-10-31T02:47:20.000086+00:00",
          "2024-10-31T04:28:40.000086+00:00",
          "2024-10-31T06:09:50.000086+00:00",
          "2024-10-31T07:50:50.000087+00:00",
          "2024-10-31T00:57:20.000086+00:00",
          "2024-10-31T02:35:00.000086+00:00",
          "2024-10-31T04:16:20.000086+00:00",
          "2024-10-31T05:58:00.000086+00:00",
          "2024-10-31T06:00:10.000086+00:00",
          "2024-10-31T07:38:20.000087+00:00",
          "2024-10-31T00:45:00.000086+00:00",
          "2024-10-31T02:22:20.000086+00:00",
          "2024-10-31T04:03:40.000086+00:00",
          "2024-10-31T05:44:50.000086+00:00",
          "2024-10-31T07:26:00.000086+00:00",
          "2024-10-31T00:26:30.000086+00:00",
          "2024-10-31T02:09:30.000086+00:00",
          "2024-10-31T03:50:40.000086+00:00",
          "2024-10-31T05:31:40.000087+00:00",
          "2024-10-31T07:12:20.000087+00:00",
          "2024-10-31T00:16:10.000086+00:00",
          "2024-10-31T01:56:30.000086+00:00",
          "2024-10-31T03:37:50.000086+00:00",
          "2024-10-31T05:18:10.000086+00:00",
          "2024-10-31T06:59:00.000086+00:00",
          "2024-10-31T07:58:00.000086+00:00",
          "2024-10-31T11:20:30.000086+00:00",
          "2024-10-31T07:47:20.000086+00:00",
          "2024-10-31T11:06:30.000086+00:00",
          "2024-10-31T11:15:50.000086+00:00",
          "2024-10-31T07:36:10.000086+00:00",
          "2024-10-31T09:17:00.000086+00:00",
          "2024-10-31T10:53:10.000087+00:00",
          "2024-10-31T07:23:20.000086+00:00",
          "2024-10-31T09:02:50.000086+00:00",
          "2024-10-31T10:41:20.000087+00:00",
          "2024-10-31T08:50:20.000086+00:00",
          "2024-10-31T08:54:10.000087+00:00",
          "2024-10-31T10:29:30.000087+00:00",
          "2024-10-31T10:40:00.000086+00:00",
          "2024-10-31T08:33:00.000086+00:00",
          "2024-10-31T08:36:40.000086+00:00",
          "2024-10-31T08:41:50.000086+00:00",
          "2024-10-31T10:17:40.000087+00:00",
          "2024-10-31T08:27:30.000087+00:00",
          "2024-10-31T11:48:20.000086+00:00",
          "2024-10-31T06:24:40.000086+00:00",
          "2024-10-31T08:14:10.000086+00:00",
          "2024-10-31T09:54:40.000086+00:00",
          "2024-10-31T11:31:50.000086+00:00",
          "2024-10-31T06:26:20.000086+00:00"
         ],
         "hovertemplate": "antenna=Chitose<br>start=%{base}<br>end=%{x}<br>target=%{y}<extra></extra>",
         "legendgroup": "Chitose",
         "marker": {
          "color": "#EF553B",
          "pattern": {
           "shape": ""
          }
         },
         "name": "Chitose",
         "offsetgroup": "Chitose",
         "orientation": "h",
         "showlegend": true,
         "textposition": "auto",
         "type": "bar",
         "x": [
          290000,
          289999.999,
          300000,
          380000,
          460000.001,
          380000.001,
          610000,
          699999.999,
          640000,
          680000,
          610000.001,
          690000,
          800000,
          759999.999,
          490000,
          660000.001,
          790000,
          180000,
          260000,
          289999.999,
          120000,
          650000,
          740000,
          710000,
          429999.999,
          70000,
          630000,
          740000,
          120000,
          580000,
          539999.999,
          30000,
          640000,
          760000,
          790000,
          610000,
          380000,
          610000,
          740000,
          789999.999,
          669999.999,
          530000,
          610000,
          710000,
          810000.001,
          700000,
          420000.001,
          390000,
          210000.001,
          430000,
          120000,
          130000.001,
          70000,
          640000,
          150000,
          240000,
          640000,
          100000,
          19999.999,
          329999.999,
          10000.001,
          70000,
          130000,
          120000,
          140000,
          180000,
          190000,
          100000,
          20000.001,
          40000,
          280000,
          240000
         ],
         "xaxis": "x",
         "y": [
          "Spacecraft 1-1",
          "Spacecraft 1-3",
          "Spacecraft 1-4",
          "Spacecraft 1-7",
          "Spacecraft 1-8",
          "Spacecraft 2-1",
          "Spacecraft 2-1",
          "Spacecraft 2-1",
          "Spacecraft 2-1",
          "Spacecraft 2-1",
          "Spacecraft 2-2",
          "Spacecraft 2-2",
          "Spacecraft 2-2",
          "Spacecraft 2-2",
          "Spacecraft 2-3",
          "Spacecraft 2-3",
          "Spacecraft 2-3",
          "Spacecraft 2-3",
          "Spacecraft 2-3",
          "Spacecraft 2-3",
          "Spacecraft 2-4",
          "Spacecraft 2-4",
          "Spacecraft 2-4",
          "Spacecraft 2-4",
          "Spacecraft 2-4",
          "Spacecraft 2-5",
          "Spacecraft 2-5",
          "Spacecraft 2-5",
          "Spacecraft 2-5",
          "Spacecraft 2-5",
          "Spacecraft 2-5",
          "Spacecraft 2-6",
          "Spacecraft 2-6",
          "Spacecraft 2-6",
          "Spacecraft 2-6",
          "Spacecraft 2-6",
          "Spacecraft 2-7",
          "Spacecraft 2-7",
          "Spacecraft 2-7",
          "Spacecraft 2-7",
          "Spacecraft 2-7",
          "Spacecraft 2-8",
          "Spacecraft 2-8",
          "Spacecraft 2-8",
          "Spacecraft 2-8",
          "Spacecraft 2-8",
          "Spacecraft 3-1",
          "Spacecraft 3-1",
          "Spacecraft 3-2",
          "Spacecraft 3-2",
          "Spacecraft 3-2",
          "Spacecraft 3-3",
          "Spacecraft 3-3",
          "Spacecraft 3-3",
          "Spacecraft 3-4",
          "Spacecraft 3-4",
          "Spacecraft 3-4",
          "Spacecraft 3-5",
          "Spacecraft 3-5",
          "Spacecraft 3-5",
          "Spacecraft 3-5",
          "Spacecraft 3-6",
          "Spacecraft 3-6",
          "Spacecraft 3-6",
          "Spacecraft 3-6",
          "Spacecraft 3-7",
          "Spacecraft 3-7",
          "Spacecraft 3-8",
          "Spacecraft 3-8",
          "Spacecraft 3-8",
          "Spacecraft 3-8",
          "Spacecraft 3-8"
         ],
         "yaxis": "y"
        },
        {
         "alignmentgroup": "True",
         "base": [
          "2024-10-31T00:43:20.000087+00:00",
          "2024-10-31T11:16:20.000086+00:00",
          "2024-10-31T00:29:50.000086+00:00",
          "2024-10-31T11:04:30.000086+00:00",
          "2024-10-31T00:16:40.000087+00:00",
          "2024-10-31T10:53:20.000086+00:00",
          "2024-10-31T00:03:40.000087+00:00",
          "2024-10-31T10:40:30.000086+00:00",
          "2024-10-31T10:47:40.000086+00:00",
          "2024-10-31T00:00:00.000086+00:00",
          "2024-10-31T10:28:00.000086+00:00",
          "2024-10-31T10:17:50.000086+00:00",
          "2024-10-31T11:42:20.000087+00:00",
          "2024-10-31T00:57:30.000087+00:00",
          "2024-10-31T11:28:50.000086+00:00",
          "2024-10-31T07:03:30.000086+00:00",
          "2024-10-31T08:37:00.000087+00:00",
          "2024-10-31T06:50:40.000086+00:00",
          "2024-10-31T08:24:10.000086+00:00",
          "2024-10-31T06:38:00.000087+00:00",
          "2024-10-31T08:10:20.000087+00:00",
          "2024-10-31T08:03:10.000086+00:00",
          "2024-10-31T07:36:30.000086+00:00",
          "2024-10-31T07:19:10.000086+00:00",
          "2024-10-31T07:14:50.000086+00:00",
          "2024-10-31T08:50:20.000086+00:00",
          "2024-10-31T02:47:10.000086+00:00",
          "2024-10-31T02:54:20.000086+00:00",
          "2024-10-31T04:26:10.000086+00:00",
          "2024-10-31T02:42:30.000086+00:00",
          "2024-10-31T04:13:10.000086+00:00",
          "2024-10-31T04:01:10.000086+00:00",
          "2024-10-31T03:48:50.000086+00:00",
          "2024-10-31T05:36:10.000086+00:00",
          "2024-10-31T03:35:40.000086+00:00",
          "2024-10-31T03:40:40.000086+00:00",
          "2024-10-31T05:23:10.000086+00:00",
          "2024-10-31T03:23:00.000086+00:00",
          "2024-10-31T05:03:40.000086+00:00",
          "2024-10-31T03:10:30.000086+00:00",
          "2024-10-31T04:51:00.000086+00:00",
          "2024-10-31T02:58:50.000086+00:00",
          "2024-10-31T04:38:00.000086+00:00"
         ],
         "hovertemplate": "antenna=Harmon<br>start=%{base}<br>end=%{x}<br>target=%{y}<extra></extra>",
         "legendgroup": "Harmon",
         "marker": {
          "color": "#00cc96",
          "pattern": {
           "shape": ""
          }
         },
         "name": "Harmon",
         "offsetgroup": "Harmon",
         "orientation": "h",
         "showlegend": true,
         "textposition": "auto",
         "type": "bar",
         "x": [
          429999.999,
          710000,
          560000.001,
          710000,
          649999.999,
          670000,
          699999.999,
          20000,
          160000,
          200000,
          460000,
          320000,
          819999.999,
          239999.999,
          780000,
          120000,
          460000,
          130000,
          570000,
          70000,
          640000,
          310000,
          10000,
          270000,
          260000,
          240000,
          10000,
          160000,
          710000,
          50000,
          780000,
          720000,
          740000,
          220000,
          300000,
          490000,
          270000,
          760000,
          720000.001,
          720000,
          720000,
          660000,
          780000
         ],
         "xaxis": "x",
         "y": [
          "Spacecraft 1-1",
          "Spacecraft 1-1",
          "Spacecraft 1-2",
          "Spacecraft 1-2",
          "Spacecraft 1-3",
          "Spacecraft 1-3",
          "Spacecraft 1-4",
          "Spacecraft 1-4",
          "Spacecraft 1-4",
          "Spacecraft 1-5",
          "Spacecraft 1-5",
          "Spacecraft 1-6",
          "Spacecraft 1-7",
          "Spacecraft 1-8",
          "Spacecraft 1-8",
          "Spacecraft 2-1",
          "Spacecraft 2-1",
          "Spacecraft 2-2",
          "Spacecraft 2-2",
          "Spacecraft 2-3",
          "Spacecraft 2-3",
          "Spacecraft 2-4",
          "Spacecraft 2-6",
          "Spacecraft 2-7",
          "Spacecraft 2-8",
          "Spacecraft 2-8",
          "Spacecraft 3-1",
          "Spacecraft 3-1",
          "Spacecraft 3-1",
          "Spacecraft 3-2",
          "Spacecraft 3-2",
          "Spacecraft 3-3",
          "Spacecraft 3-4",
          "Spacecraft 3-4",
          "Spacecraft 3-5",
          "Spacecraft 3-5",
          "Spacecraft 3-5",
          "Spacecraft 3-6",
          "Spacecraft 3-6",
          "Spacecraft 3-7",
          "Spacecraft 3-7",
          "Spacecraft 3-8",
          "Spacecraft 3-8"
         ],
         "yaxis": "y"
        },
        {
         "alignmentgroup": "True",
         "base": [
          "2024-10-31T02:10:30.000086+00:00",
          "2024-10-31T03:47:10.000086+00:00",
          "2024-10-31T03:34:40.000086+00:00",
          "2024-10-31T05:25:20.000086+00:00",
          "2024-10-31T03:22:30.000086+00:00",
          "2024-10-31T05:12:30.000086+00:00",
          "2024-10-31T03:09:50.000086+00:00",
          "2024-10-31T04:58:40.000086+00:00",
          "2024-10-31T02:57:20.000086+00:00",
          "2024-10-31T04:44:30.000086+00:00",
          "2024-10-31T06:19:50.000086+00:00",
          "2024-10-31T02:45:30.000086+00:00",
          "2024-10-31T02:54:40.000086+00:00",
          "2024-10-31T04:25:50.000086+00:00",
          "2024-10-31T04:30:40.000087+00:00",
          "2024-10-31T06:07:10.000087+00:00",
          "2024-10-31T02:33:40.000086+00:00",
          "2024-10-31T04:12:40.000086+00:00",
          "2024-10-31T06:00:10.000086+00:00",
          "2024-10-31T02:21:40.000086+00:00",
          "2024-10-31T03:59:20.000086+00:00",
          "2024-10-31T01:25:10.000086+00:00",
          "2024-10-31T01:33:00.000087+00:00",
          "2024-10-31T11:48:20.000086+00:00",
          "2024-10-31T11:29:20.000086+00:00",
          "2024-10-31T01:13:20.000086+00:00",
          "2024-10-31T11:15:50.000086+00:00",
          "2024-10-31T01:01:40.000087+00:00",
          "2024-10-31T11:02:40.000087+00:00",
          "2024-10-31T00:50:20.000086+00:00",
          "2024-10-31T02:27:40.000086+00:00",
          "2024-10-31T02:32:30.000086+00:00",
          "2024-10-31T10:51:30.000086+00:00",
          "2024-10-31T02:15:00.000086+00:00",
          "2024-10-31T02:19:10.000086+00:00",
          "2024-10-31T10:40:10.000087+00:00",
          "2024-10-31T02:02:00.000086+00:00",
          "2024-10-31T02:12:40.000086+00:00",
          "2024-10-31T10:27:10.000086+00:00",
          "2024-10-31T01:49:20.000086+00:00",
          "2024-10-31T10:14:40.000087+00:00",
          "2024-10-31T01:37:10.000087+00:00",
          "2024-10-31T09:19:40.000086+00:00",
          "2024-10-31T09:06:50.000086+00:00",
          "2024-10-31T08:54:30.000086+00:00",
          "2024-10-31T10:35:00.000086+00:00",
          "2024-10-31T08:43:50.000086+00:00",
          "2024-10-31T10:22:10.000086+00:00",
          "2024-10-31T08:34:10.000086+00:00",
          "2024-10-31T10:20:00.000087+00:00",
          "2024-10-31T09:55:20.000086+00:00",
          "2024-10-31T11:36:30.000086+00:00",
          "2024-10-31T09:43:00.000086+00:00",
          "2024-10-31T09:30:50.000087+00:00",
          "2024-10-31T11:13:40.000086+00:00"
         ],
         "hovertemplate": "antenna=Dubai<br>start=%{base}<br>end=%{x}<br>target=%{y}<extra></extra>",
         "legendgroup": "Dubai",
         "marker": {
          "color": "#ab63fa",
          "pattern": {
           "shape": ""
          }
         },
         "name": "Dubai",
         "offsetgroup": "Dubai",
         "orientation": "h",
         "showlegend": true,
         "textposition": "auto",
         "type": "bar",
         "x": [
          130000,
          730000,
          750000,
          30000,
          730000,
          90000,
          680000,
          220000,
          620000,
          330000,
          370000,
          430000,
          10000,
          80000,
          429999.999,
          500000,
          490000,
          790000,
          250000,
          360000,
          800000,
          280000,
          199999.999,
          220000,
          430000,
          610000,
          720000,
          509999.999,
          669999.999,
          360000.001,
          60000.001,
          70000,
          610000,
          110000.001,
          150000,
          569999.999,
          510000,
          140000,
          480000,
          760000,
          320000,
          719999.999,
          670000.001,
          610000,
          500000,
          300000,
          390000,
          290000,
          150000,
          129999.999,
          560000,
          530000,
          700000,
          729999.999,
          130000
         ],
         "xaxis": "x",
         "y": [
          "Spacecraft 1-1",
          "Spacecraft 1-1",
          "Spacecraft 1-2",
          "Spacecraft 1-2",
          "Spacecraft 1-3",
          "Spacecraft 1-3",
          "Spacecraft 1-4",
          "Spacecraft 1-4",
          "Spacecraft 1-5",
          "Spacecraft 1-5",
          "Spacecraft 1-5",
          "Spacecraft 1-6",
          "Spacecraft 1-6",
          "Spacecraft 1-6",
          "Spacecraft 1-6",
          "Spacecraft 1-6",
          "Spacecraft 1-7",
          "Spacecraft 1-7",
          "Spacecraft 1-7",
          "Spacecraft 1-8",
          "Spacecraft 1-8",
          "Spacecraft 2-1",
          "Spacecraft 2-1",
          "Spacecraft 2-1",
          "Spacecraft 2-2",
          "Spacecraft 2-2",
          "Spacecraft 2-3",
          "Spacecraft 2-3",
          "Spacecraft 2-4",
          "Spacecraft 2-4",
          "Spacecraft 2-4",
          "Spacecraft 2-4",
          "Spacecraft 2-5",
          "Spacecraft 2-5",
          "Spacecraft 2-5",
          "Spacecraft 2-6",
          "Spacecraft 2-6",
          "Spacecraft 2-6",
          "Spacecraft 2-7",
          "Spacecraft 2-7",
          "Spacecraft 2-8",
          "Spacecraft 2-8",
          "Spacecraft 3-1",
          "Spacecraft 3-2",
          "Spacecraft 3-3",
          "Spacecraft 3-3",
          "Spacecraft 3-4",
          "Spacecraft 3-4",
          "Spacecraft 3-5",
          "Spacecraft 3-5",
          "Spacecraft 3-6",
          "Spacecraft 3-6",
          "Spacecraft 3-7",
          "Spacecraft 3-8",
          "Spacecraft 3-8"
         ],
         "yaxis": "y"
        },
        {
         "alignmentgroup": "True",
         "base": [
          "2024-10-31T04:37:50.000086+00:00",
          "2024-10-31T04:27:10.000086+00:00",
          "2024-10-31T05:51:30.000086+00:00",
          "2024-10-31T05:38:30.000086+00:00",
          "2024-10-31T05:25:50.000086+00:00",
          "2024-10-31T05:14:00.000086+00:00",
          "2024-10-31T05:02:20.000086+00:00",
          "2024-10-31T04:50:00.000086+00:00",
          "2024-10-31T06:00:10.000086+00:00",
          "2024-10-31T10:07:40.000086+00:00",
          "2024-10-31T11:43:50.000086+00:00",
          "2024-10-31T11:30:30.000087+00:00",
          "2024-10-31T11:18:40.000087+00:00",
          "2024-10-31T11:06:50.000086+00:00",
          "2024-10-31T00:18:20.000086+00:00",
          "2024-10-31T10:54:30.000086+00:00",
          "2024-10-31T00:12:40.000086+00:00",
          "2024-10-31T10:41:30.000086+00:00",
          "2024-10-31T10:29:00.000086+00:00",
          "2024-10-31T10:18:00.000086+00:00"
         ],
         "hovertemplate": "antenna=Tahiti<br>start=%{base}<br>end=%{x}<br>target=%{y}<extra></extra>",
         "legendgroup": "Tahiti",
         "marker": {
          "color": "#FFA15A",
          "pattern": {
           "shape": ""
          }
         },
         "name": "Tahiti",
         "offsetgroup": "Tahiti",
         "orientation": "h",
         "showlegend": true,
         "textposition": "auto",
         "type": "bar",
         "x": [
          400000,
          210000.001,
          510000,
          760000.001,
          710000,
          680000,
          610000,
          520000,
          420000.001,
          380000,
          700000,
          799999.999,
          699999.999,
          710000.001,
          390000,
          740000,
          50000,
          670000,
          570000,
          510000.001
         ],
         "xaxis": "x",
         "y": [
          "Spacecraft 1-1",
          "Spacecraft 1-2",
          "Spacecraft 1-3",
          "Spacecraft 1-4",
          "Spacecraft 1-5",
          "Spacecraft 1-6",
          "Spacecraft 1-7",
          "Spacecraft 1-8",
          "Spacecraft 2-7",
          "Spacecraft 3-1",
          "Spacecraft 3-1",
          "Spacecraft 3-2",
          "Spacecraft 3-3",
          "Spacecraft 3-4",
          "Spacecraft 3-5",
          "Spacecraft 3-5",
          "Spacecraft 3-6",
          "Spacecraft 3-6",
          "Spacecraft 3-7",
          "Spacecraft 3-8"
         ],
         "yaxis": "y"
        },
        {
         "alignmentgroup": "True",
         "base": [
          "2024-10-31T05:37:40.000086+00:00",
          "2024-10-31T05:51:10.000087+00:00",
          "2024-10-31T01:29:50.000086+00:00",
          "2024-10-31T00:24:50.000086+00:00",
          "2024-10-31T10:52:40.000086+00:00",
          "2024-10-31T00:13:30.000086+00:00",
          "2024-10-31T10:38:30.000086+00:00",
          "2024-10-31T10:26:30.000087+00:00",
          "2024-10-31T10:14:00.000086+00:00",
          "2024-10-31T10:02:30.000086+00:00",
          "2024-10-31T09:46:50.000087+00:00",
          "2024-10-31T11:30:20.000086+00:00",
          "2024-10-31T09:34:30.000086+00:00",
          "2024-10-31T09:23:50.000086+00:00"
         ],
         "hovertemplate": "antenna=Mwulire<br>start=%{base}<br>end=%{x}<br>target=%{y}<extra></extra>",
         "legendgroup": "Mwulire",
         "marker": {
          "color": "#19d3f3",
          "pattern": {
           "shape": ""
          }
         },
         "name": "Mwulire",
         "offsetgroup": "Mwulire",
         "orientation": "h",
         "showlegend": true,
         "textposition": "auto",
         "type": "bar",
         "x": [
          50000,
          19999.999,
          190000.001,
          470000.001,
          110000,
          290000,
          180000,
          149999.999,
          240000,
          310000,
          549999.999,
          10000.001,
          500000,
          360000
         ],
         "xaxis": "x",
         "y": [
          "Spacecraft 1-1",
          "Spacecraft 1-8",
          "Spacecraft 2-8",
          "Spacecraft 3-1",
          "Spacecraft 3-1",
          "Spacecraft 3-2",
          "Spacecraft 3-2",
          "Spacecraft 3-3",
          "Spacecraft 3-4",
          "Spacecraft 3-5",
          "Spacecraft 3-6",
          "Spacecraft 3-6",
          "Spacecraft 3-7",
          "Spacecraft 3-8"
         ],
         "yaxis": "y"
        },
        {
         "alignmentgroup": "True",
         "base": [
          "2024-10-31T08:05:40.000086+00:00",
          "2024-10-31T09:45:40.000087+00:00",
          "2024-10-31T07:53:30.000086+00:00",
          "2024-10-31T09:34:10.000086+00:00",
          "2024-10-31T07:41:20.000087+00:00",
          "2024-10-31T09:21:30.000086+00:00",
          "2024-10-31T07:28:20.000087+00:00",
          "2024-10-31T09:17:20.000086+00:00",
          "2024-10-31T07:15:50.000087+00:00",
          "2024-10-31T08:56:00.000086+00:00",
          "2024-10-31T10:39:00.000087+00:00",
          "2024-10-31T07:04:40.000086+00:00",
          "2024-10-31T08:44:20.000086+00:00",
          "2024-10-31T10:26:30.000087+00:00",
          "2024-10-31T06:54:00.000087+00:00",
          "2024-10-31T08:30:50.000086+00:00",
          "2024-10-31T10:17:40.000087+00:00",
          "2024-10-31T06:43:20.000087+00:00",
          "2024-10-31T08:17:30.000086+00:00",
          "2024-10-31T09:59:30.000086+00:00",
          "2024-10-31T03:39:40.000086+00:00",
          "2024-10-31T03:26:50.000086+00:00",
          "2024-10-31T03:14:10.000086+00:00",
          "2024-10-31T03:02:00.000086+00:00",
          "2024-10-31T04:45:10.000086+00:00",
          "2024-10-31T02:52:20.000086+00:00",
          "2024-10-31T04:32:30.000086+00:00",
          "2024-10-31T02:40:20.000086+00:00",
          "2024-10-31T04:18:40.000086+00:00",
          "2024-10-31T02:28:40.000087+00:00",
          "2024-10-31T04:04:40.000086+00:00",
          "2024-10-31T02:16:50.000087+00:00",
          "2024-10-31T03:51:30.000086+00:00",
          "2024-10-31T01:14:50.000086+00:00",
          "2024-10-31T01:02:10.000086+00:00",
          "2024-10-31T02:46:30.000087+00:00",
          "2024-10-31T00:49:50.000087+00:00",
          "2024-10-31T02:32:30.000086+00:00",
          "2024-10-31T00:37:20.000086+00:00",
          "2024-10-31T02:19:10.000086+00:00",
          "2024-10-31T00:24:40.000086+00:00",
          "2024-10-31T02:06:00.000086+00:00",
          "2024-10-31T00:11:50.000086+00:00",
          "2024-10-31T01:52:50.000086+00:00",
          "2024-10-31T00:00:00.000086+00:00",
          "2024-10-31T01:39:40.000086+00:00",
          "2024-10-31T01:27:00.000086+00:00",
          "2024-10-31T10:04:40.000086+00:00",
          "2024-10-31T11:45:20.000086+00:00"
         ],
         "hovertemplate": "antenna=Paumalu<br>start=%{base}<br>end=%{x}<br>target=%{y}<extra></extra>",
         "legendgroup": "Paumalu",
         "marker": {
          "color": "#FF6692",
          "pattern": {
           "shape": ""
          }
         },
         "name": "Paumalu",
         "offsetgroup": "Paumalu",
         "orientation": "h",
         "showlegend": true,
         "textposition": "auto",
         "type": "bar",
         "x": [
          710000,
          679999.999,
          720000,
          690000.001,
          729999.999,
          760000,
          249999.999,
          210000.001,
          259999.999,
          70000,
          89999.999,
          540000,
          700000,
          89999.999,
          419999.999,
          810000,
          9999.999,
          129999.999,
          800000,
          300000,
          710000,
          770000,
          760000,
          730000,
          30000,
          580000,
          90000,
          370000.001,
          220000,
          229999.999,
          340000,
          139999.999,
          450000,
          730000,
          760000,
          349999.999,
          739999.999,
          470000,
          750000.001,
          570000.001,
          760000,
          650000.001,
          770000,
          690000,
          710000,
          730000,
          760000,
          780000.001,
          180000
         ],
         "xaxis": "x",
         "y": [
          "Spacecraft 1-1",
          "Spacecraft 1-1",
          "Spacecraft 1-2",
          "Spacecraft 1-2",
          "Spacecraft 1-3",
          "Spacecraft 1-3",
          "Spacecraft 1-4",
          "Spacecraft 1-4",
          "Spacecraft 1-5",
          "Spacecraft 1-5",
          "Spacecraft 1-5",
          "Spacecraft 1-6",
          "Spacecraft 1-6",
          "Spacecraft 1-6",
          "Spacecraft 1-7",
          "Spacecraft 1-7",
          "Spacecraft 1-7",
          "Spacecraft 1-8",
          "Spacecraft 1-8",
          "Spacecraft 1-8",
          "Spacecraft 2-1",
          "Spacecraft 2-2",
          "Spacecraft 2-3",
          "Spacecraft 2-4",
          "Spacecraft 2-4",
          "Spacecraft 2-5",
          "Spacecraft 2-5",
          "Spacecraft 2-6",
          "Spacecraft 2-6",
          "Spacecraft 2-7",
          "Spacecraft 2-7",
          "Spacecraft 2-8",
          "Spacecraft 2-8",
          "Spacecraft 3-1",
          "Spacecraft 3-2",
          "Spacecraft 3-2",
          "Spacecraft 3-3",
          "Spacecraft 3-3",
          "Spacecraft 3-4",
          "Spacecraft 3-4",
          "Spacecraft 3-5",
          "Spacecraft 3-5",
          "Spacecraft 3-6",
          "Spacecraft 3-6",
          "Spacecraft 3-7",
          "Spacecraft 3-7",
          "Spacecraft 3-8",
          "Spacecraft 3-8",
          "Spacecraft 3-8"
         ],
         "yaxis": "y"
        },
        {
         "alignmentgroup": "True",
         "base": [
          "2024-10-31T10:04:30.000086+00:00",
          "2024-10-31T06:21:40.000086+00:00",
          "2024-10-31T08:02:10.000086+00:00",
          "2024-10-31T06:08:30.000086+00:00",
          "2024-10-31T07:49:40.000086+00:00",
          "2024-10-31T09:35:00.000087+00:00",
          "2024-10-31T06:00:10.000086+00:00",
          "2024-10-31T07:36:00.000087+00:00",
          "2024-10-31T09:20:30.000086+00:00",
          "2024-10-31T07:24:10.000087+00:00",
          "2024-10-31T09:06:40.000086+00:00",
          "2024-10-31T07:12:20.000087+00:00",
          "2024-10-31T08:54:10.000087+00:00",
          "2024-10-31T06:58:50.000086+00:00",
          "2024-10-31T08:41:50.000086+00:00",
          "2024-10-31T10:29:00.000086+00:00",
          "2024-10-31T05:07:00.000086+00:00",
          "2024-10-31T06:45:10.000086+00:00",
          "2024-10-31T08:27:50.000086+00:00",
          "2024-10-31T10:14:40.000087+00:00",
          "2024-10-31T01:24:30.000086+00:00",
          "2024-10-31T01:11:30.000086+00:00",
          "2024-10-31T00:58:30.000086+00:00",
          "2024-10-31T00:45:30.000086+00:00",
          "2024-10-31T00:32:50.000086+00:00",
          "2024-10-31T06:33:50.000087+00:00",
          "2024-10-31T08:14:30.000087+00:00",
          "2024-10-31T08:06:20.000086+00:00",
          "2024-10-31T04:28:40.000086+00:00",
          "2024-10-31T04:16:50.000086+00:00",
          "2024-10-31T05:55:50.000086+00:00",
          "2024-10-31T09:18:10.000086+00:00",
          "2024-10-31T04:04:30.000086+00:00",
          "2024-10-31T05:43:50.000086+00:00",
          "2024-10-31T05:31:00.000086+00:00",
          "2024-10-31T08:52:00.000086+00:00",
          "2024-10-31T05:18:10.000086+00:00",
          "2024-10-31T08:38:50.000086+00:00"
         ],
         "hovertemplate": "antenna=Mojave<br>start=%{base}<br>end=%{x}<br>target=%{y}<extra></extra>",
         "legendgroup": "Mojave",
         "marker": {
          "color": "#B6E880",
          "pattern": {
           "shape": ""
          }
         },
         "name": "Mojave",
         "offsetgroup": "Mojave",
         "orientation": "h",
         "showlegend": true,
         "textposition": "auto",
         "type": "bar",
         "x": [
          10000,
          720000,
          250000,
          790000,
          750000,
          399999.999,
          500000,
          780000,
          470000,
          699999.999,
          500000,
          710000,
          570000,
          810000.001,
          610000,
          140000,
          550000,
          820000,
          650000,
          180000,
          40000,
          530000,
          660000,
          710000,
          730000,
          679999.999,
          780000,
          470000,
          340000,
          280000,
          250000,
          90000,
          240000,
          680000,
          620000,
          130000.001,
          570000,
          180000
         ],
         "xaxis": "x",
         "y": [
          "Spacecraft 1-1",
          "Spacecraft 1-2",
          "Spacecraft 1-2",
          "Spacecraft 1-3",
          "Spacecraft 1-3",
          "Spacecraft 1-3",
          "Spacecraft 1-4",
          "Spacecraft 1-4",
          "Spacecraft 1-4",
          "Spacecraft 1-5",
          "Spacecraft 1-5",
          "Spacecraft 1-6",
          "Spacecraft 1-6",
          "Spacecraft 1-7",
          "Spacecraft 1-7",
          "Spacecraft 1-7",
          "Spacecraft 1-8",
          "Spacecraft 1-8",
          "Spacecraft 1-8",
          "Spacecraft 1-8",
          "Spacecraft 2-4",
          "Spacecraft 2-5",
          "Spacecraft 2-6",
          "Spacecraft 2-7",
          "Spacecraft 2-8",
          "Spacecraft 3-1",
          "Spacecraft 3-1",
          "Spacecraft 3-2",
          "Spacecraft 3-3",
          "Spacecraft 3-4",
          "Spacecraft 3-4",
          "Spacecraft 3-4",
          "Spacecraft 3-5",
          "Spacecraft 3-5",
          "Spacecraft 3-6",
          "Spacecraft 3-6",
          "Spacecraft 3-7",
          "Spacecraft 3-7"
         ],
         "yaxis": "y"
        },
        {
         "alignmentgroup": "True",
         "base": [
          "2024-10-31T07:32:30.000086+00:00",
          "2024-10-31T09:10:50.000086+00:00",
          "2024-10-31T07:20:10.000086+00:00",
          "2024-10-31T08:57:10.000086+00:00",
          "2024-10-31T10:40:50.000086+00:00",
          "2024-10-31T04:34:00.000086+00:00",
          "2024-10-31T06:21:00.000086+00:00",
          "2024-10-31T04:22:20.000086+00:00",
          "2024-10-31T06:07:10.000087+00:00",
          "2024-10-31T04:10:20.000086+00:00",
          "2024-10-31T05:48:20.000086+00:00",
          "2024-10-31T03:59:00.000086+00:00",
          "2024-10-31T05:36:20.000086+00:00",
          "2024-10-31T05:24:20.000086+00:00",
          "2024-10-31T07:05:30.000086+00:00",
          "2024-10-31T05:11:00.000086+00:00",
          "2024-10-31T06:52:50.000086+00:00",
          "2024-10-31T04:58:10.000086+00:00",
          "2024-10-31T06:39:10.000087+00:00",
          "2024-10-31T04:45:40.000086+00:00",
          "2024-10-31T06:25:30.000087+00:00",
          "2024-10-31T01:54:30.000086+00:00",
          "2024-10-31T01:42:00.000086+00:00",
          "2024-10-31T01:30:00.000086+00:00",
          "2024-10-31T01:18:20.000086+00:00",
          "2024-10-31T03:02:00.000086+00:00",
          "2024-10-31T01:10:30.000087+00:00",
          "2024-10-31T02:47:20.000086+00:00",
          "2024-10-31T00:56:10.000086+00:00",
          "2024-10-31T02:33:30.000086+00:00",
          "2024-10-31T00:44:30.000087+00:00",
          "2024-10-31T02:20:10.000086+00:00",
          "2024-10-31T00:32:40.000087+00:00",
          "2024-10-31T02:07:10.000086+00:00"
         ],
         "hovertemplate": "antenna=Sunyani<br>start=%{base}<br>end=%{x}<br>target=%{y}<extra></extra>",
         "legendgroup": "Sunyani",
         "marker": {
          "color": "#FF97FF",
          "pattern": {
           "shape": ""
          }
         },
         "name": "Sunyani",
         "offsetgroup": "Sunyani",
         "orientation": "h",
         "showlegend": true,
         "textposition": "auto",
         "type": "bar",
         "x": [
          530000.001,
          390000,
          370000,
          820000,
          410000,
          670000,
          270000.001,
          610000,
          320000,
          500000,
          700000,
          310000,
          720000,
          720000,
          560000,
          800000,
          640000,
          770000,
          689999.999,
          720000,
          750000,
          740000,
          750000,
          110000.001,
          350000.001,
          130000,
          469999.999,
          420000,
          610000,
          540000,
          699999.999,
          620000.001,
          710000,
          700000
         ],
         "xaxis": "x",
         "y": [
          "Spacecraft 1-7",
          "Spacecraft 1-7",
          "Spacecraft 1-8",
          "Spacecraft 1-8",
          "Spacecraft 1-8",
          "Spacecraft 2-1",
          "Spacecraft 2-1",
          "Spacecraft 2-2",
          "Spacecraft 2-2",
          "Spacecraft 2-3",
          "Spacecraft 2-3",
          "Spacecraft 2-4",
          "Spacecraft 2-4",
          "Spacecraft 2-5",
          "Spacecraft 2-5",
          "Spacecraft 2-6",
          "Spacecraft 2-6",
          "Spacecraft 2-7",
          "Spacecraft 2-7",
          "Spacecraft 2-8",
          "Spacecraft 2-8",
          "Spacecraft 3-1",
          "Spacecraft 3-2",
          "Spacecraft 3-3",
          "Spacecraft 3-4",
          "Spacecraft 3-4",
          "Spacecraft 3-5",
          "Spacecraft 3-5",
          "Spacecraft 3-6",
          "Spacecraft 3-6",
          "Spacecraft 3-7",
          "Spacecraft 3-7",
          "Spacecraft 3-8",
          "Spacecraft 3-8"
         ],
         "yaxis": "y"
        },
        {
         "alignmentgroup": "True",
         "base": [
          "2024-10-31T01:10:30.000087+00:00",
          "2024-10-31T02:52:40.000086+00:00",
          "2024-10-31T06:12:30.000087+00:00",
          "2024-10-31T07:49:40.000086+00:00",
          "2024-10-31T09:30:30.000086+00:00",
          "2024-10-31T11:13:00.000086+00:00",
          "2024-10-31T07:36:40.000086+00:00",
          "2024-10-31T09:16:50.000086+00:00",
          "2024-10-31T10:59:10.000086+00:00",
          "2024-10-31T07:23:40.000086+00:00",
          "2024-10-31T09:03:20.000086+00:00",
          "2024-10-31T10:45:30.000087+00:00",
          "2024-10-31T00:04:10.000086+00:00",
          "2024-10-31T00:00:00.000086+00:00",
          "2024-10-31T01:31:50.000087+00:00",
          "2024-10-31T01:24:10.000087+00:00",
          "2024-10-31T01:06:20.000086+00:00"
         ],
         "hovertemplate": "antenna=Awarua<br>start=%{base}<br>end=%{x}<br>target=%{y}<extra></extra>",
         "legendgroup": "Awarua",
         "marker": {
          "color": "#FECB52",
          "pattern": {
           "shape": ""
          }
         },
         "name": "Awarua",
         "offsetgroup": "Awarua",
         "orientation": "h",
         "showlegend": true,
         "textposition": "auto",
         "type": "bar",
         "x": [
          820000,
          120000,
          509999.999,
          810000,
          810000,
          290000,
          780000,
          810000,
          720000,
          770000,
          810000,
          729999.999,
          510000,
          250000,
          609999.999,
          349999.999,
          250000.001
         ],
         "xaxis": "x",
         "y": [
          "Spacecraft 1-8",
          "Spacecraft 1-8",
          "Spacecraft 2-6",
          "Spacecraft 2-6",
          "Spacecraft 2-6",
          "Spacecraft 2-6",
          "Spacecraft 2-7",
          "Spacecraft 2-7",
          "Spacecraft 2-7",
          "Spacecraft 2-8",
          "Spacecraft 2-8",
          "Spacecraft 2-8",
          "Spacecraft 3-5",
          "Spacecraft 3-6",
          "Spacecraft 3-6",
          "Spacecraft 3-7",
          "Spacecraft 3-8"
         ],
         "yaxis": "y"
        },
        {
         "alignmentgroup": "True",
         "base": [
          "2024-10-31T06:35:50.000086+00:00",
          "2024-10-31T08:15:40.000087+00:00",
          "2024-10-31T09:56:00.000086+00:00"
         ],
         "hovertemplate": "antenna=Utqiagvik<br>start=%{base}<br>end=%{x}<br>target=%{y}<extra></extra>",
         "legendgroup": "Utqiagvik",
         "marker": {
          "color": "#636efa",
          "pattern": {
           "shape": ""
          }
         },
         "name": "Utqiagvik",
         "offsetgroup": "Utqiagvik",
         "orientation": "h",
         "showlegend": true,
         "textposition": "auto",
         "type": "bar",
         "x": [
          730000.001,
          669999.999,
          390000
         ],
         "xaxis": "x",
         "y": [
          "Spacecraft 3-8",
          "Spacecraft 3-8",
          "Spacecraft 3-8"
         ],
         "yaxis": "y"
        }
       ],
       "layout": {
        "barmode": "overlay",
        "legend": {
         "title": {
          "text": "antenna"
         },
         "tracegroupgap": 0
        },
        "template": {
         "data": {
          "bar": [
           {
            "error_x": {
             "color": "#2a3f5f"
            },
            "error_y": {
             "color": "#2a3f5f"
            },
            "marker": {
             "line": {
              "color": "#E5ECF6",
              "width": 0.5
             },
             "pattern": {
              "fillmode": "overlay",
              "size": 10,
              "solidity": 0.2
             }
            },
            "type": "bar"
           }
          ],
          "barpolar": [
           {
            "marker": {
             "line": {
              "color": "#E5ECF6",
              "width": 0.5
             },
             "pattern": {
              "fillmode": "overlay",
              "size": 10,
              "solidity": 0.2
             }
            },
            "type": "barpolar"
           }
          ],
          "carpet": [
           {
            "aaxis": {
             "endlinecolor": "#2a3f5f",
             "gridcolor": "white",
             "linecolor": "white",
             "minorgridcolor": "white",
             "startlinecolor": "#2a3f5f"
            },
            "baxis": {
             "endlinecolor": "#2a3f5f",
             "gridcolor": "white",
             "linecolor": "white",
             "minorgridcolor": "white",
             "startlinecolor": "#2a3f5f"
            },
            "type": "carpet"
           }
          ],
          "choropleth": [
           {
            "colorbar": {
             "outlinewidth": 0,
             "ticks": ""
            },
            "type": "choropleth"
           }
          ],
          "contour": [
           {
            "colorbar": {
             "outlinewidth": 0,
             "ticks": ""
            },
            "colorscale": [
             [
              0,
              "#0d0887"
             ],
             [
              0.1111111111111111,
              "#46039f"
             ],
             [
              0.2222222222222222,
              "#7201a8"
             ],
             [
              0.3333333333333333,
              "#9c179e"
             ],
             [
              0.4444444444444444,
              "#bd3786"
             ],
             [
              0.5555555555555556,
              "#d8576b"
             ],
             [
              0.6666666666666666,
              "#ed7953"
             ],
             [
              0.7777777777777778,
              "#fb9f3a"
             ],
             [
              0.8888888888888888,
              "#fdca26"
             ],
             [
              1,
              "#f0f921"
             ]
            ],
            "type": "contour"
           }
          ],
          "contourcarpet": [
           {
            "colorbar": {
             "outlinewidth": 0,
             "ticks": ""
            },
            "type": "contourcarpet"
           }
          ],
          "heatmap": [
           {
            "colorbar": {
             "outlinewidth": 0,
             "ticks": ""
            },
            "colorscale": [
             [
              0,
              "#0d0887"
             ],
             [
              0.1111111111111111,
              "#46039f"
             ],
             [
              0.2222222222222222,
              "#7201a8"
             ],
             [
              0.3333333333333333,
              "#9c179e"
             ],
             [
              0.4444444444444444,
              "#bd3786"
             ],
             [
              0.5555555555555556,
              "#d8576b"
             ],
             [
              0.6666666666666666,
              "#ed7953"
             ],
             [
              0.7777777777777778,
              "#fb9f3a"
             ],
             [
              0.8888888888888888,
              "#fdca26"
             ],
             [
              1,
              "#f0f921"
             ]
            ],
            "type": "heatmap"
           }
          ],
          "heatmapgl": [
           {
            "colorbar": {
             "outlinewidth": 0,
             "ticks": ""
            },
            "colorscale": [
             [
              0,
              "#0d0887"
             ],
             [
              0.1111111111111111,
              "#46039f"
             ],
             [
              0.2222222222222222,
              "#7201a8"
             ],
             [
              0.3333333333333333,
              "#9c179e"
             ],
             [
              0.4444444444444444,
              "#bd3786"
             ],
             [
              0.5555555555555556,
              "#d8576b"
             ],
             [
              0.6666666666666666,
              "#ed7953"
             ],
             [
              0.7777777777777778,
              "#fb9f3a"
             ],
             [
              0.8888888888888888,
              "#fdca26"
             ],
             [
              1,
              "#f0f921"
             ]
            ],
            "type": "heatmapgl"
           }
          ],
          "histogram": [
           {
            "marker": {
             "pattern": {
              "fillmode": "overlay",
              "size": 10,
              "solidity": 0.2
             }
            },
            "type": "histogram"
           }
          ],
          "histogram2d": [
           {
            "colorbar": {
             "outlinewidth": 0,
             "ticks": ""
            },
            "colorscale": [
             [
              0,
              "#0d0887"
             ],
             [
              0.1111111111111111,
              "#46039f"
             ],
             [
              0.2222222222222222,
              "#7201a8"
             ],
             [
              0.3333333333333333,
              "#9c179e"
             ],
             [
              0.4444444444444444,
              "#bd3786"
             ],
             [
              0.5555555555555556,
              "#d8576b"
             ],
             [
              0.6666666666666666,
              "#ed7953"
             ],
             [
              0.7777777777777778,
              "#fb9f3a"
             ],
             [
              0.8888888888888888,
              "#fdca26"
             ],
             [
              1,
              "#f0f921"
             ]
            ],
            "type": "histogram2d"
           }
          ],
          "histogram2dcontour": [
           {
            "colorbar": {
             "outlinewidth": 0,
             "ticks": ""
            },
            "colorscale": [
             [
              0,
              "#0d0887"
             ],
             [
              0.1111111111111111,
              "#46039f"
             ],
             [
              0.2222222222222222,
              "#7201a8"
             ],
             [
              0.3333333333333333,
              "#9c179e"
             ],
             [
              0.4444444444444444,
              "#bd3786"
             ],
             [
              0.5555555555555556,
              "#d8576b"
             ],
             [
              0.6666666666666666,
              "#ed7953"
             ],
             [
              0.7777777777777778,
              "#fb9f3a"
             ],
             [
              0.8888888888888888,
              "#fdca26"
             ],
             [
              1,
              "#f0f921"
             ]
            ],
            "type": "histogram2dcontour"
           }
          ],
          "mesh3d": [
           {
            "colorbar": {
             "outlinewidth": 0,
             "ticks": ""
            },
            "type": "mesh3d"
           }
          ],
          "parcoords": [
           {
            "line": {
             "colorbar": {
              "outlinewidth": 0,
              "ticks": ""
             }
            },
            "type": "parcoords"
           }
          ],
          "pie": [
           {
            "automargin": true,
            "type": "pie"
           }
          ],
          "scatter": [
           {
            "fillpattern": {
             "fillmode": "overlay",
             "size": 10,
             "solidity": 0.2
            },
            "type": "scatter"
           }
          ],
          "scatter3d": [
           {
            "line": {
             "colorbar": {
              "outlinewidth": 0,
              "ticks": ""
             }
            },
            "marker": {
             "colorbar": {
              "outlinewidth": 0,
              "ticks": ""
             }
            },
            "type": "scatter3d"
           }
          ],
          "scattercarpet": [
           {
            "marker": {
             "colorbar": {
              "outlinewidth": 0,
              "ticks": ""
             }
            },
            "type": "scattercarpet"
           }
          ],
          "scattergeo": [
           {
            "marker": {
             "colorbar": {
              "outlinewidth": 0,
              "ticks": ""
             }
            },
            "type": "scattergeo"
           }
          ],
          "scattergl": [
           {
            "marker": {
             "colorbar": {
              "outlinewidth": 0,
              "ticks": ""
             }
            },
            "type": "scattergl"
           }
          ],
          "scattermapbox": [
           {
            "marker": {
             "colorbar": {
              "outlinewidth": 0,
              "ticks": ""
             }
            },
            "type": "scattermapbox"
           }
          ],
          "scatterpolar": [
           {
            "marker": {
             "colorbar": {
              "outlinewidth": 0,
              "ticks": ""
             }
            },
            "type": "scatterpolar"
           }
          ],
          "scatterpolargl": [
           {
            "marker": {
             "colorbar": {
              "outlinewidth": 0,
              "ticks": ""
             }
            },
            "type": "scatterpolargl"
           }
          ],
          "scatterternary": [
           {
            "marker": {
             "colorbar": {
              "outlinewidth": 0,
              "ticks": ""
             }
            },
            "type": "scatterternary"
           }
          ],
          "surface": [
           {
            "colorbar": {
             "outlinewidth": 0,
             "ticks": ""
            },
            "colorscale": [
             [
              0,
              "#0d0887"
             ],
             [
              0.1111111111111111,
              "#46039f"
             ],
             [
              0.2222222222222222,
              "#7201a8"
             ],
             [
              0.3333333333333333,
              "#9c179e"
             ],
             [
              0.4444444444444444,
              "#bd3786"
             ],
             [
              0.5555555555555556,
              "#d8576b"
             ],
             [
              0.6666666666666666,
              "#ed7953"
             ],
             [
              0.7777777777777778,
              "#fb9f3a"
             ],
             [
              0.8888888888888888,
              "#fdca26"
             ],
             [
              1,
              "#f0f921"
             ]
            ],
            "type": "surface"
           }
          ],
          "table": [
           {
            "cells": {
             "fill": {
              "color": "#EBF0F8"
             },
             "line": {
              "color": "white"
             }
            },
            "header": {
             "fill": {
              "color": "#C8D4E3"
             },
             "line": {
              "color": "white"
             }
            },
            "type": "table"
           }
          ]
         },
         "layout": {
          "annotationdefaults": {
           "arrowcolor": "#2a3f5f",
           "arrowhead": 0,
           "arrowwidth": 1
          },
          "autotypenumbers": "strict",
          "coloraxis": {
           "colorbar": {
            "outlinewidth": 0,
            "ticks": ""
           }
          },
          "colorscale": {
           "diverging": [
            [
             0,
             "#8e0152"
            ],
            [
             0.1,
             "#c51b7d"
            ],
            [
             0.2,
             "#de77ae"
            ],
            [
             0.3,
             "#f1b6da"
            ],
            [
             0.4,
             "#fde0ef"
            ],
            [
             0.5,
             "#f7f7f7"
            ],
            [
             0.6,
             "#e6f5d0"
            ],
            [
             0.7,
             "#b8e186"
            ],
            [
             0.8,
             "#7fbc41"
            ],
            [
             0.9,
             "#4d9221"
            ],
            [
             1,
             "#276419"
            ]
           ],
           "sequential": [
            [
             0,
             "#0d0887"
            ],
            [
             0.1111111111111111,
             "#46039f"
            ],
            [
             0.2222222222222222,
             "#7201a8"
            ],
            [
             0.3333333333333333,
             "#9c179e"
            ],
            [
             0.4444444444444444,
             "#bd3786"
            ],
            [
             0.5555555555555556,
             "#d8576b"
            ],
            [
             0.6666666666666666,
             "#ed7953"
            ],
            [
             0.7777777777777778,
             "#fb9f3a"
            ],
            [
             0.8888888888888888,
             "#fdca26"
            ],
            [
             1,
             "#f0f921"
            ]
           ],
           "sequentialminus": [
            [
             0,
             "#0d0887"
            ],
            [
             0.1111111111111111,
             "#46039f"
            ],
            [
             0.2222222222222222,
             "#7201a8"
            ],
            [
             0.3333333333333333,
             "#9c179e"
            ],
            [
             0.4444444444444444,
             "#bd3786"
            ],
            [
             0.5555555555555556,
             "#d8576b"
            ],
            [
             0.6666666666666666,
             "#ed7953"
            ],
            [
             0.7777777777777778,
             "#fb9f3a"
            ],
            [
             0.8888888888888888,
             "#fdca26"
            ],
            [
             1,
             "#f0f921"
            ]
           ]
          },
          "colorway": [
           "#636efa",
           "#EF553B",
           "#00cc96",
           "#ab63fa",
           "#FFA15A",
           "#19d3f3",
           "#FF6692",
           "#B6E880",
           "#FF97FF",
           "#FECB52"
          ],
          "font": {
           "color": "#2a3f5f"
          },
          "geo": {
           "bgcolor": "white",
           "lakecolor": "white",
           "landcolor": "#E5ECF6",
           "showlakes": true,
           "showland": true,
           "subunitcolor": "white"
          },
          "hoverlabel": {
           "align": "left"
          },
          "hovermode": "closest",
          "mapbox": {
           "style": "light"
          },
          "paper_bgcolor": "white",
          "plot_bgcolor": "#E5ECF6",
          "polar": {
           "angularaxis": {
            "gridcolor": "white",
            "linecolor": "white",
            "ticks": ""
           },
           "bgcolor": "#E5ECF6",
           "radialaxis": {
            "gridcolor": "white",
            "linecolor": "white",
            "ticks": ""
           }
          },
          "scene": {
           "xaxis": {
            "backgroundcolor": "#E5ECF6",
            "gridcolor": "white",
            "gridwidth": 2,
            "linecolor": "white",
            "showbackground": true,
            "ticks": "",
            "zerolinecolor": "white"
           },
           "yaxis": {
            "backgroundcolor": "#E5ECF6",
            "gridcolor": "white",
            "gridwidth": 2,
            "linecolor": "white",
            "showbackground": true,
            "ticks": "",
            "zerolinecolor": "white"
           },
           "zaxis": {
            "backgroundcolor": "#E5ECF6",
            "gridcolor": "white",
            "gridwidth": 2,
            "linecolor": "white",
            "showbackground": true,
            "ticks": "",
            "zerolinecolor": "white"
           }
          },
          "shapedefaults": {
           "line": {
            "color": "#2a3f5f"
           }
          },
          "ternary": {
           "aaxis": {
            "gridcolor": "white",
            "linecolor": "white",
            "ticks": ""
           },
           "baxis": {
            "gridcolor": "white",
            "linecolor": "white",
            "ticks": ""
           },
           "bgcolor": "#E5ECF6",
           "caxis": {
            "gridcolor": "white",
            "linecolor": "white",
            "ticks": ""
           }
          },
          "title": {
           "x": 0.05
          },
          "xaxis": {
           "automargin": true,
           "gridcolor": "white",
           "linecolor": "white",
           "ticks": "",
           "title": {
            "standoff": 15
           },
           "zerolinecolor": "white",
           "zerolinewidth": 2
          },
          "yaxis": {
           "automargin": true,
           "gridcolor": "white",
           "linecolor": "white",
           "ticks": "",
           "title": {
            "standoff": 15
           },
           "zerolinecolor": "white",
           "zerolinewidth": 2
          }
         }
        },
        "title": {
         "text": "Up/Downlink Schedule (Per Spacecraft)"
        },
        "xaxis": {
         "anchor": "y",
         "domain": [
          0,
          1
         ],
         "type": "date"
        },
        "yaxis": {
         "anchor": "x",
         "categoryorder": "category descending",
         "domain": [
          0,
          1
         ],
         "title": {
          "text": "target"
         }
        }
       }
      }
     },
     "metadata": {},
     "output_type": "display_data"
    }
   ],
   "source": [
    "fig = px.timeline(plot_data, x_start='start', x_end='end', color='antenna', y='target', title='Up/Downlink Schedule (Per Spacecraft)')\n",
    "fig.update_yaxes(categoryorder='category descending')\n",
    "fig.show()"
   ]
  },
  {
   "cell_type": "markdown",
   "metadata": {},
   "source": [
    "## Plot target-antenna availability\n",
    "\n",
    "Here we will plot the target-antenna analytics. There are three categories of availability.\n",
    "\n",
    "Access - This occurs when a spacecraft within line-of-sight of a particular antenna (including obscuration by an\n",
    "elevation mask). This is an input to the `ContactScheduler`.\n",
    "\n",
    "InFov - This occurs when a spacecraft is in the field of view associated with a particular antenna. In the case of this\n",
    "simulation, the FoV will slew if an antenna has a scheduled contact.\n",
    "\n",
    "Connected - This occurs when data is flowing between a spacecraft and a particular antenna.\n",
    "\n",
    "In addition to the time series, which we plot below, there are also summary statistics (mean, max, min, number, etc.)\n",
    "available for each definition of contact and gaps between contacts. For example, a target has a state variable\n",
    "`accessMetrics` that will contain (among other things) the mean gap duration between access to that target. It also has\n",
    "a `perCommDeviceAccessMetrics`, which contains the same statistics per antenna."
   ]
  },
  {
   "cell_type": "code",
   "execution_count": 13,
   "metadata": {},
   "outputs": [
    {
     "data": {
      "application/vnd.plotly.v1+json": {
       "config": {
        "plotlyServerURL": "https://plot.ly"
       },
       "data": [
        {
         "alignmentgroup": "True",
         "base": [
          "2024-10-31T04:55:00.000086+00:00",
          "2024-10-31T06:32:10.000086+00:00",
          "2024-10-31T08:14:10.000086+00:00",
          "2024-10-31T10:00:00.000086+00:00",
          "2024-10-31T11:45:10.000086+00:00",
          "2024-10-31T00:11:00.000086+00:00",
          "2024-10-31T01:51:00.000086+00:00",
          "2024-10-31T03:31:40.000086+00:00",
          "2024-10-31T05:12:20.000086+00:00",
          "2024-10-31T06:52:50.000086+00:00",
          "2024-10-31T08:34:00.000087+00:00",
          "2024-10-31T02:10:40.000086+00:00",
          "2024-10-31T03:46:50.000087+00:00",
          "2024-10-31T05:27:30.000087+00:00",
          "2024-10-31T05:34:20.000086+00:00",
          "2024-10-31T07:10:20.000086+00:00",
          "2024-10-31T08:54:00.000086+00:00",
          "2024-10-31T09:57:30.000087+00:00",
          "2024-10-31T11:35:00.000086+00:00",
          "2024-10-31T00:58:00.000086+00:00",
          "2024-10-31T02:39:50.000086+00:00",
          "2024-10-31T04:22:00.000086+00:00",
          "2024-10-31T06:03:00.000087+00:00",
          "2024-10-31T07:43:30.000086+00:00",
          "2024-10-31T09:24:40.000086+00:00",
          "2024-10-31T08:44:00.000086+00:00",
          "2024-10-31T10:26:20.000086+00:00",
          "2024-10-31T08:04:20.000086+00:00",
          "2024-10-31T09:45:30.000086+00:00",
          "2024-10-31T00:43:30.000086+00:00",
          "2024-10-31T11:15:40.000087+00:00",
          "2024-10-31T04:38:00.000086+00:00",
          "2024-10-31T06:15:20.000086+00:00",
          "2024-10-31T07:57:40.000086+00:00",
          "2024-10-31T11:26:50.000086+00:00"
         ],
         "hovertemplate": "type=access<br>start=%{base}<br>end=%{x}<br>antenna=%{y}<extra></extra>",
         "legendgroup": "access",
         "marker": {
          "color": "#636efa",
          "pattern": {
           "shape": ""
          }
         },
         "name": "access",
         "offsetgroup": "access",
         "orientation": "h",
         "showlegend": true,
         "textposition": "auto",
         "type": "bar",
         "x": [
          530000.001,
          820000,
          690000,
          270000,
          80000.001,
          790000,
          820000,
          820000,
          820000,
          780000.001,
          539999.999,
          130000,
          769999.999,
          710000,
          310000,
          810000,
          400000.001,
          549999.999,
          690000.001,
          810000,
          740000,
          700000.001,
          779999.999,
          810000,
          610000,
          800000,
          530000,
          790000,
          700000,
          430000,
          749999.999,
          400000,
          820000,
          520000,
          300000
         ],
         "xaxis": "x",
         "y": [
          "Mojave",
          "Mojave",
          "Mojave",
          "Mojave",
          "Mojave",
          "Dundee",
          "Dundee",
          "Dundee",
          "Dundee",
          "Dundee",
          "Dundee",
          "Dubai",
          "Dubai",
          "Dubai",
          "Mwulire",
          "Mwulire",
          "Mwulire",
          "Utqiagvik",
          "Utqiagvik",
          "Awarua",
          "Awarua",
          "Awarua",
          "Awarua",
          "Awarua",
          "Awarua",
          "Sunyani",
          "Sunyani",
          "Paumalu",
          "Paumalu",
          "Harmon",
          "Harmon",
          "Tahiti",
          "Tahiti",
          "Tahiti",
          "Chitose"
         ],
         "yaxis": "y"
        },
        {
         "alignmentgroup": "True",
         "base": [
          "2024-10-31T06:40:30.000086+00:00",
          "2024-10-31T01:54:00.000086+00:00",
          "2024-10-31T03:35:00.000087+00:00",
          "2024-10-31T05:15:30.000086+00:00",
          "2024-10-31T06:56:10.000086+00:00",
          "2024-10-31T03:50:20.000086+00:00",
          "2024-10-31T08:07:40.000086+00:00",
          "2024-10-31T11:19:20.000086+00:00"
         ],
         "hovertemplate": "type=inFov<br>start=%{base}<br>end=%{x}<br>antenna=%{y}<extra></extra>",
         "legendgroup": "inFov",
         "marker": {
          "color": "#EF553B",
          "pattern": {
           "shape": ""
          }
         },
         "name": "inFov",
         "offsetgroup": "inFov",
         "orientation": "h",
         "showlegend": true,
         "textposition": "auto",
         "type": "bar",
         "x": [
          30000,
          450000.001,
          429999.999,
          450000,
          60000,
          360000.001,
          390000,
          320000
         ],
         "xaxis": "x",
         "y": [
          "Mojave",
          "Dundee",
          "Dundee",
          "Dundee",
          "Dundee",
          "Dubai",
          "Paumalu",
          "Harmon"
         ],
         "yaxis": "y"
        },
        {
         "alignmentgroup": "True",
         "base": [
          "2024-10-31T01:54:00.000086+00:00",
          "2024-10-31T03:35:00.000087+00:00",
          "2024-10-31T05:16:10.000086+00:00",
          "2024-10-31T03:50:20.000086+00:00",
          "2024-10-31T08:07:40.000086+00:00",
          "2024-10-31T11:19:20.000086+00:00"
         ],
         "hovertemplate": "type=connected<br>start=%{base}<br>end=%{x}<br>antenna=%{y}<extra></extra>",
         "legendgroup": "connected",
         "marker": {
          "color": "#00cc96",
          "pattern": {
           "shape": ""
          }
         },
         "name": "connected",
         "offsetgroup": "connected",
         "orientation": "h",
         "showlegend": true,
         "textposition": "auto",
         "type": "bar",
         "x": [
          450000.001,
          429999.999,
          410000,
          360000.001,
          390000,
          320000
         ],
         "xaxis": "x",
         "y": [
          "Dundee",
          "Dundee",
          "Dundee",
          "Dubai",
          "Paumalu",
          "Harmon"
         ],
         "yaxis": "y"
        }
       ],
       "layout": {
        "barmode": "overlay",
        "legend": {
         "title": {
          "text": "type"
         },
         "tracegroupgap": 0
        },
        "margin": {
         "t": 60
        },
        "template": {
         "data": {
          "bar": [
           {
            "error_x": {
             "color": "#2a3f5f"
            },
            "error_y": {
             "color": "#2a3f5f"
            },
            "marker": {
             "line": {
              "color": "#E5ECF6",
              "width": 0.5
             },
             "pattern": {
              "fillmode": "overlay",
              "size": 10,
              "solidity": 0.2
             }
            },
            "type": "bar"
           }
          ],
          "barpolar": [
           {
            "marker": {
             "line": {
              "color": "#E5ECF6",
              "width": 0.5
             },
             "pattern": {
              "fillmode": "overlay",
              "size": 10,
              "solidity": 0.2
             }
            },
            "type": "barpolar"
           }
          ],
          "carpet": [
           {
            "aaxis": {
             "endlinecolor": "#2a3f5f",
             "gridcolor": "white",
             "linecolor": "white",
             "minorgridcolor": "white",
             "startlinecolor": "#2a3f5f"
            },
            "baxis": {
             "endlinecolor": "#2a3f5f",
             "gridcolor": "white",
             "linecolor": "white",
             "minorgridcolor": "white",
             "startlinecolor": "#2a3f5f"
            },
            "type": "carpet"
           }
          ],
          "choropleth": [
           {
            "colorbar": {
             "outlinewidth": 0,
             "ticks": ""
            },
            "type": "choropleth"
           }
          ],
          "contour": [
           {
            "colorbar": {
             "outlinewidth": 0,
             "ticks": ""
            },
            "colorscale": [
             [
              0,
              "#0d0887"
             ],
             [
              0.1111111111111111,
              "#46039f"
             ],
             [
              0.2222222222222222,
              "#7201a8"
             ],
             [
              0.3333333333333333,
              "#9c179e"
             ],
             [
              0.4444444444444444,
              "#bd3786"
             ],
             [
              0.5555555555555556,
              "#d8576b"
             ],
             [
              0.6666666666666666,
              "#ed7953"
             ],
             [
              0.7777777777777778,
              "#fb9f3a"
             ],
             [
              0.8888888888888888,
              "#fdca26"
             ],
             [
              1,
              "#f0f921"
             ]
            ],
            "type": "contour"
           }
          ],
          "contourcarpet": [
           {
            "colorbar": {
             "outlinewidth": 0,
             "ticks": ""
            },
            "type": "contourcarpet"
           }
          ],
          "heatmap": [
           {
            "colorbar": {
             "outlinewidth": 0,
             "ticks": ""
            },
            "colorscale": [
             [
              0,
              "#0d0887"
             ],
             [
              0.1111111111111111,
              "#46039f"
             ],
             [
              0.2222222222222222,
              "#7201a8"
             ],
             [
              0.3333333333333333,
              "#9c179e"
             ],
             [
              0.4444444444444444,
              "#bd3786"
             ],
             [
              0.5555555555555556,
              "#d8576b"
             ],
             [
              0.6666666666666666,
              "#ed7953"
             ],
             [
              0.7777777777777778,
              "#fb9f3a"
             ],
             [
              0.8888888888888888,
              "#fdca26"
             ],
             [
              1,
              "#f0f921"
             ]
            ],
            "type": "heatmap"
           }
          ],
          "heatmapgl": [
           {
            "colorbar": {
             "outlinewidth": 0,
             "ticks": ""
            },
            "colorscale": [
             [
              0,
              "#0d0887"
             ],
             [
              0.1111111111111111,
              "#46039f"
             ],
             [
              0.2222222222222222,
              "#7201a8"
             ],
             [
              0.3333333333333333,
              "#9c179e"
             ],
             [
              0.4444444444444444,
              "#bd3786"
             ],
             [
              0.5555555555555556,
              "#d8576b"
             ],
             [
              0.6666666666666666,
              "#ed7953"
             ],
             [
              0.7777777777777778,
              "#fb9f3a"
             ],
             [
              0.8888888888888888,
              "#fdca26"
             ],
             [
              1,
              "#f0f921"
             ]
            ],
            "type": "heatmapgl"
           }
          ],
          "histogram": [
           {
            "marker": {
             "pattern": {
              "fillmode": "overlay",
              "size": 10,
              "solidity": 0.2
             }
            },
            "type": "histogram"
           }
          ],
          "histogram2d": [
           {
            "colorbar": {
             "outlinewidth": 0,
             "ticks": ""
            },
            "colorscale": [
             [
              0,
              "#0d0887"
             ],
             [
              0.1111111111111111,
              "#46039f"
             ],
             [
              0.2222222222222222,
              "#7201a8"
             ],
             [
              0.3333333333333333,
              "#9c179e"
             ],
             [
              0.4444444444444444,
              "#bd3786"
             ],
             [
              0.5555555555555556,
              "#d8576b"
             ],
             [
              0.6666666666666666,
              "#ed7953"
             ],
             [
              0.7777777777777778,
              "#fb9f3a"
             ],
             [
              0.8888888888888888,
              "#fdca26"
             ],
             [
              1,
              "#f0f921"
             ]
            ],
            "type": "histogram2d"
           }
          ],
          "histogram2dcontour": [
           {
            "colorbar": {
             "outlinewidth": 0,
             "ticks": ""
            },
            "colorscale": [
             [
              0,
              "#0d0887"
             ],
             [
              0.1111111111111111,
              "#46039f"
             ],
             [
              0.2222222222222222,
              "#7201a8"
             ],
             [
              0.3333333333333333,
              "#9c179e"
             ],
             [
              0.4444444444444444,
              "#bd3786"
             ],
             [
              0.5555555555555556,
              "#d8576b"
             ],
             [
              0.6666666666666666,
              "#ed7953"
             ],
             [
              0.7777777777777778,
              "#fb9f3a"
             ],
             [
              0.8888888888888888,
              "#fdca26"
             ],
             [
              1,
              "#f0f921"
             ]
            ],
            "type": "histogram2dcontour"
           }
          ],
          "mesh3d": [
           {
            "colorbar": {
             "outlinewidth": 0,
             "ticks": ""
            },
            "type": "mesh3d"
           }
          ],
          "parcoords": [
           {
            "line": {
             "colorbar": {
              "outlinewidth": 0,
              "ticks": ""
             }
            },
            "type": "parcoords"
           }
          ],
          "pie": [
           {
            "automargin": true,
            "type": "pie"
           }
          ],
          "scatter": [
           {
            "fillpattern": {
             "fillmode": "overlay",
             "size": 10,
             "solidity": 0.2
            },
            "type": "scatter"
           }
          ],
          "scatter3d": [
           {
            "line": {
             "colorbar": {
              "outlinewidth": 0,
              "ticks": ""
             }
            },
            "marker": {
             "colorbar": {
              "outlinewidth": 0,
              "ticks": ""
             }
            },
            "type": "scatter3d"
           }
          ],
          "scattercarpet": [
           {
            "marker": {
             "colorbar": {
              "outlinewidth": 0,
              "ticks": ""
             }
            },
            "type": "scattercarpet"
           }
          ],
          "scattergeo": [
           {
            "marker": {
             "colorbar": {
              "outlinewidth": 0,
              "ticks": ""
             }
            },
            "type": "scattergeo"
           }
          ],
          "scattergl": [
           {
            "marker": {
             "colorbar": {
              "outlinewidth": 0,
              "ticks": ""
             }
            },
            "type": "scattergl"
           }
          ],
          "scattermapbox": [
           {
            "marker": {
             "colorbar": {
              "outlinewidth": 0,
              "ticks": ""
             }
            },
            "type": "scattermapbox"
           }
          ],
          "scatterpolar": [
           {
            "marker": {
             "colorbar": {
              "outlinewidth": 0,
              "ticks": ""
             }
            },
            "type": "scatterpolar"
           }
          ],
          "scatterpolargl": [
           {
            "marker": {
             "colorbar": {
              "outlinewidth": 0,
              "ticks": ""
             }
            },
            "type": "scatterpolargl"
           }
          ],
          "scatterternary": [
           {
            "marker": {
             "colorbar": {
              "outlinewidth": 0,
              "ticks": ""
             }
            },
            "type": "scatterternary"
           }
          ],
          "surface": [
           {
            "colorbar": {
             "outlinewidth": 0,
             "ticks": ""
            },
            "colorscale": [
             [
              0,
              "#0d0887"
             ],
             [
              0.1111111111111111,
              "#46039f"
             ],
             [
              0.2222222222222222,
              "#7201a8"
             ],
             [
              0.3333333333333333,
              "#9c179e"
             ],
             [
              0.4444444444444444,
              "#bd3786"
             ],
             [
              0.5555555555555556,
              "#d8576b"
             ],
             [
              0.6666666666666666,
              "#ed7953"
             ],
             [
              0.7777777777777778,
              "#fb9f3a"
             ],
             [
              0.8888888888888888,
              "#fdca26"
             ],
             [
              1,
              "#f0f921"
             ]
            ],
            "type": "surface"
           }
          ],
          "table": [
           {
            "cells": {
             "fill": {
              "color": "#EBF0F8"
             },
             "line": {
              "color": "white"
             }
            },
            "header": {
             "fill": {
              "color": "#C8D4E3"
             },
             "line": {
              "color": "white"
             }
            },
            "type": "table"
           }
          ]
         },
         "layout": {
          "annotationdefaults": {
           "arrowcolor": "#2a3f5f",
           "arrowhead": 0,
           "arrowwidth": 1
          },
          "autotypenumbers": "strict",
          "coloraxis": {
           "colorbar": {
            "outlinewidth": 0,
            "ticks": ""
           }
          },
          "colorscale": {
           "diverging": [
            [
             0,
             "#8e0152"
            ],
            [
             0.1,
             "#c51b7d"
            ],
            [
             0.2,
             "#de77ae"
            ],
            [
             0.3,
             "#f1b6da"
            ],
            [
             0.4,
             "#fde0ef"
            ],
            [
             0.5,
             "#f7f7f7"
            ],
            [
             0.6,
             "#e6f5d0"
            ],
            [
             0.7,
             "#b8e186"
            ],
            [
             0.8,
             "#7fbc41"
            ],
            [
             0.9,
             "#4d9221"
            ],
            [
             1,
             "#276419"
            ]
           ],
           "sequential": [
            [
             0,
             "#0d0887"
            ],
            [
             0.1111111111111111,
             "#46039f"
            ],
            [
             0.2222222222222222,
             "#7201a8"
            ],
            [
             0.3333333333333333,
             "#9c179e"
            ],
            [
             0.4444444444444444,
             "#bd3786"
            ],
            [
             0.5555555555555556,
             "#d8576b"
            ],
            [
             0.6666666666666666,
             "#ed7953"
            ],
            [
             0.7777777777777778,
             "#fb9f3a"
            ],
            [
             0.8888888888888888,
             "#fdca26"
            ],
            [
             1,
             "#f0f921"
            ]
           ],
           "sequentialminus": [
            [
             0,
             "#0d0887"
            ],
            [
             0.1111111111111111,
             "#46039f"
            ],
            [
             0.2222222222222222,
             "#7201a8"
            ],
            [
             0.3333333333333333,
             "#9c179e"
            ],
            [
             0.4444444444444444,
             "#bd3786"
            ],
            [
             0.5555555555555556,
             "#d8576b"
            ],
            [
             0.6666666666666666,
             "#ed7953"
            ],
            [
             0.7777777777777778,
             "#fb9f3a"
            ],
            [
             0.8888888888888888,
             "#fdca26"
            ],
            [
             1,
             "#f0f921"
            ]
           ]
          },
          "colorway": [
           "#636efa",
           "#EF553B",
           "#00cc96",
           "#ab63fa",
           "#FFA15A",
           "#19d3f3",
           "#FF6692",
           "#B6E880",
           "#FF97FF",
           "#FECB52"
          ],
          "font": {
           "color": "#2a3f5f"
          },
          "geo": {
           "bgcolor": "white",
           "lakecolor": "white",
           "landcolor": "#E5ECF6",
           "showlakes": true,
           "showland": true,
           "subunitcolor": "white"
          },
          "hoverlabel": {
           "align": "left"
          },
          "hovermode": "closest",
          "mapbox": {
           "style": "light"
          },
          "paper_bgcolor": "white",
          "plot_bgcolor": "#E5ECF6",
          "polar": {
           "angularaxis": {
            "gridcolor": "white",
            "linecolor": "white",
            "ticks": ""
           },
           "bgcolor": "#E5ECF6",
           "radialaxis": {
            "gridcolor": "white",
            "linecolor": "white",
            "ticks": ""
           }
          },
          "scene": {
           "xaxis": {
            "backgroundcolor": "#E5ECF6",
            "gridcolor": "white",
            "gridwidth": 2,
            "linecolor": "white",
            "showbackground": true,
            "ticks": "",
            "zerolinecolor": "white"
           },
           "yaxis": {
            "backgroundcolor": "#E5ECF6",
            "gridcolor": "white",
            "gridwidth": 2,
            "linecolor": "white",
            "showbackground": true,
            "ticks": "",
            "zerolinecolor": "white"
           },
           "zaxis": {
            "backgroundcolor": "#E5ECF6",
            "gridcolor": "white",
            "gridwidth": 2,
            "linecolor": "white",
            "showbackground": true,
            "ticks": "",
            "zerolinecolor": "white"
           }
          },
          "shapedefaults": {
           "line": {
            "color": "#2a3f5f"
           }
          },
          "ternary": {
           "aaxis": {
            "gridcolor": "white",
            "linecolor": "white",
            "ticks": ""
           },
           "baxis": {
            "gridcolor": "white",
            "linecolor": "white",
            "ticks": ""
           },
           "bgcolor": "#E5ECF6",
           "caxis": {
            "gridcolor": "white",
            "linecolor": "white",
            "ticks": ""
           }
          },
          "title": {
           "x": 0.05
          },
          "xaxis": {
           "automargin": true,
           "gridcolor": "white",
           "linecolor": "white",
           "ticks": "",
           "title": {
            "standoff": 15
           },
           "zerolinecolor": "white",
           "zerolinewidth": 2
          },
          "yaxis": {
           "automargin": true,
           "gridcolor": "white",
           "linecolor": "white",
           "ticks": "",
           "title": {
            "standoff": 15
           },
           "zerolinecolor": "white",
           "zerolinewidth": 2
          }
         }
        },
        "title": {
         "text": "Spacecraft 1-1 Access, In Fov, and Connected"
        },
        "xaxis": {
         "anchor": "y",
         "domain": [
          0,
          1
         ],
         "type": "date"
        },
        "yaxis": {
         "anchor": "x",
         "categoryorder": "total ascending",
         "domain": [
          0,
          1
         ],
         "title": {
          "text": "antenna"
         }
        }
       }
      }
     },
     "metadata": {},
     "output_type": "display_data"
    },
    {
     "data": {
      "application/vnd.plotly.v1+json": {
       "config": {
        "plotlyServerURL": "https://plot.ly"
       },
       "data": [
        {
         "alignmentgroup": "True",
         "base": [
          "2024-10-31T04:44:00.000086+00:00",
          "2024-10-31T06:20:20.000086+00:00",
          "2024-10-31T08:02:00.000086+00:00",
          "2024-10-31T09:47:30.000086+00:00",
          "2024-10-31T00:00:00.000086+00:00",
          "2024-10-31T01:38:30.000086+00:00",
          "2024-10-31T03:19:20.000086+00:00",
          "2024-10-31T05:00:20.000086+00:00",
          "2024-10-31T06:40:50.000086+00:00",
          "2024-10-31T08:21:50.000086+00:00",
          "2024-10-31T03:34:40.000086+00:00",
          "2024-10-31T05:15:00.000086+00:00",
          "2024-10-31T06:58:30.000086+00:00",
          "2024-10-31T08:41:10.000087+00:00",
          "2024-10-31T09:46:10.000086+00:00",
          "2024-10-31T11:23:40.000086+00:00",
          "2024-10-31T00:45:30.000086+00:00",
          "2024-10-31T02:27:10.000086+00:00",
          "2024-10-31T04:09:40.000086+00:00",
          "2024-10-31T05:51:00.000086+00:00",
          "2024-10-31T07:31:40.000086+00:00",
          "2024-10-31T09:12:50.000086+00:00",
          "2024-10-31T08:32:20.000086+00:00",
          "2024-10-31T10:14:00.000086+00:00",
          "2024-10-31T07:52:50.000086+00:00",
          "2024-10-31T09:33:30.000086+00:00",
          "2024-10-31T00:30:00.000086+00:00",
          "2024-10-31T11:04:30.000086+00:00",
          "2024-10-31T04:27:20.000086+00:00",
          "2024-10-31T06:03:30.000086+00:00",
          "2024-10-31T07:45:10.000086+00:00"
         ],
         "hovertemplate": "type=access<br>start=%{base}<br>end=%{x}<br>antenna=%{y}<extra></extra>",
         "legendgroup": "access",
         "marker": {
          "color": "#636efa",
          "pattern": {
           "shape": ""
          }
         },
         "name": "access",
         "offsetgroup": "access",
         "orientation": "h",
         "showlegend": true,
         "textposition": "auto",
         "type": "bar",
         "x": [
          420000,
          810000.001,
          720000,
          340000,
          700000,
          830000,
          830000,
          820000,
          800000,
          610000,
          760000,
          760000,
          810000,
          530000,
          530000,
          690000,
          820000,
          760000,
          710000,
          770000,
          820000,
          660000,
          800000,
          630000,
          770000,
          730000.001,
          560000,
          720000,
          210000,
          800000,
          610000
         ],
         "xaxis": "x",
         "y": [
          "Mojave",
          "Mojave",
          "Mojave",
          "Mojave",
          "Dundee",
          "Dundee",
          "Dundee",
          "Dundee",
          "Dundee",
          "Dundee",
          "Dubai",
          "Dubai",
          "Mwulire",
          "Mwulire",
          "Utqiagvik",
          "Utqiagvik",
          "Awarua",
          "Awarua",
          "Awarua",
          "Awarua",
          "Awarua",
          "Awarua",
          "Sunyani",
          "Sunyani",
          "Paumalu",
          "Paumalu",
          "Harmon",
          "Harmon",
          "Tahiti",
          "Tahiti",
          "Tahiti"
         ],
         "yaxis": "y"
        },
        {
         "alignmentgroup": "True",
         "base": [
          "2024-10-31T06:23:30.000086+00:00",
          "2024-10-31T00:05:00.000086+00:00",
          "2024-10-31T01:41:40.000086+00:00",
          "2024-10-31T03:22:40.000086+00:00",
          "2024-10-31T05:03:20.000086+00:00",
          "2024-10-31T06:44:10.000086+00:00",
          "2024-10-31T03:38:30.000086+00:00",
          "2024-10-31T07:56:20.000086+00:00",
          "2024-10-31T09:37:40.000086+00:00",
          "2024-10-31T11:08:40.000086+00:00"
         ],
         "hovertemplate": "type=inFov<br>start=%{base}<br>end=%{x}<br>antenna=%{y}<extra></extra>",
         "legendgroup": "inFov",
         "marker": {
          "color": "#EF553B",
          "pattern": {
           "shape": ""
          }
         },
         "name": "inFov",
         "offsetgroup": "inFov",
         "orientation": "h",
         "showlegend": true,
         "textposition": "auto",
         "type": "bar",
         "x": [
          430000,
          200000.001,
          450000,
          430000,
          220000,
          60000,
          310000,
          350000,
          230000.001,
          210000
         ],
         "xaxis": "x",
         "y": [
          "Mojave",
          "Dundee",
          "Dundee",
          "Dundee",
          "Dundee",
          "Dundee",
          "Dubai",
          "Paumalu",
          "Paumalu",
          "Harmon"
         ],
         "yaxis": "y"
        },
        {
         "alignmentgroup": "True",
         "base": [
          "2024-10-31T06:23:30.000086+00:00",
          "2024-10-31T00:05:00.000086+00:00",
          "2024-10-31T01:41:40.000086+00:00",
          "2024-10-31T03:22:40.000086+00:00",
          "2024-10-31T05:03:20.000086+00:00",
          "2024-10-31T06:44:10.000086+00:00",
          "2024-10-31T03:38:30.000086+00:00",
          "2024-10-31T07:56:20.000086+00:00",
          "2024-10-31T09:37:40.000086+00:00",
          "2024-10-31T11:08:40.000086+00:00"
         ],
         "hovertemplate": "type=connected<br>start=%{base}<br>end=%{x}<br>antenna=%{y}<extra></extra>",
         "legendgroup": "connected",
         "marker": {
          "color": "#00cc96",
          "pattern": {
           "shape": ""
          }
         },
         "name": "connected",
         "offsetgroup": "connected",
         "orientation": "h",
         "showlegend": true,
         "textposition": "auto",
         "type": "bar",
         "x": [
          430000,
          200000.001,
          450000,
          430000,
          220000,
          60000,
          310000,
          350000,
          230000.001,
          210000
         ],
         "xaxis": "x",
         "y": [
          "Mojave",
          "Dundee",
          "Dundee",
          "Dundee",
          "Dundee",
          "Dundee",
          "Dubai",
          "Paumalu",
          "Paumalu",
          "Harmon"
         ],
         "yaxis": "y"
        }
       ],
       "layout": {
        "barmode": "overlay",
        "legend": {
         "title": {
          "text": "type"
         },
         "tracegroupgap": 0
        },
        "margin": {
         "t": 60
        },
        "template": {
         "data": {
          "bar": [
           {
            "error_x": {
             "color": "#2a3f5f"
            },
            "error_y": {
             "color": "#2a3f5f"
            },
            "marker": {
             "line": {
              "color": "#E5ECF6",
              "width": 0.5
             },
             "pattern": {
              "fillmode": "overlay",
              "size": 10,
              "solidity": 0.2
             }
            },
            "type": "bar"
           }
          ],
          "barpolar": [
           {
            "marker": {
             "line": {
              "color": "#E5ECF6",
              "width": 0.5
             },
             "pattern": {
              "fillmode": "overlay",
              "size": 10,
              "solidity": 0.2
             }
            },
            "type": "barpolar"
           }
          ],
          "carpet": [
           {
            "aaxis": {
             "endlinecolor": "#2a3f5f",
             "gridcolor": "white",
             "linecolor": "white",
             "minorgridcolor": "white",
             "startlinecolor": "#2a3f5f"
            },
            "baxis": {
             "endlinecolor": "#2a3f5f",
             "gridcolor": "white",
             "linecolor": "white",
             "minorgridcolor": "white",
             "startlinecolor": "#2a3f5f"
            },
            "type": "carpet"
           }
          ],
          "choropleth": [
           {
            "colorbar": {
             "outlinewidth": 0,
             "ticks": ""
            },
            "type": "choropleth"
           }
          ],
          "contour": [
           {
            "colorbar": {
             "outlinewidth": 0,
             "ticks": ""
            },
            "colorscale": [
             [
              0,
              "#0d0887"
             ],
             [
              0.1111111111111111,
              "#46039f"
             ],
             [
              0.2222222222222222,
              "#7201a8"
             ],
             [
              0.3333333333333333,
              "#9c179e"
             ],
             [
              0.4444444444444444,
              "#bd3786"
             ],
             [
              0.5555555555555556,
              "#d8576b"
             ],
             [
              0.6666666666666666,
              "#ed7953"
             ],
             [
              0.7777777777777778,
              "#fb9f3a"
             ],
             [
              0.8888888888888888,
              "#fdca26"
             ],
             [
              1,
              "#f0f921"
             ]
            ],
            "type": "contour"
           }
          ],
          "contourcarpet": [
           {
            "colorbar": {
             "outlinewidth": 0,
             "ticks": ""
            },
            "type": "contourcarpet"
           }
          ],
          "heatmap": [
           {
            "colorbar": {
             "outlinewidth": 0,
             "ticks": ""
            },
            "colorscale": [
             [
              0,
              "#0d0887"
             ],
             [
              0.1111111111111111,
              "#46039f"
             ],
             [
              0.2222222222222222,
              "#7201a8"
             ],
             [
              0.3333333333333333,
              "#9c179e"
             ],
             [
              0.4444444444444444,
              "#bd3786"
             ],
             [
              0.5555555555555556,
              "#d8576b"
             ],
             [
              0.6666666666666666,
              "#ed7953"
             ],
             [
              0.7777777777777778,
              "#fb9f3a"
             ],
             [
              0.8888888888888888,
              "#fdca26"
             ],
             [
              1,
              "#f0f921"
             ]
            ],
            "type": "heatmap"
           }
          ],
          "heatmapgl": [
           {
            "colorbar": {
             "outlinewidth": 0,
             "ticks": ""
            },
            "colorscale": [
             [
              0,
              "#0d0887"
             ],
             [
              0.1111111111111111,
              "#46039f"
             ],
             [
              0.2222222222222222,
              "#7201a8"
             ],
             [
              0.3333333333333333,
              "#9c179e"
             ],
             [
              0.4444444444444444,
              "#bd3786"
             ],
             [
              0.5555555555555556,
              "#d8576b"
             ],
             [
              0.6666666666666666,
              "#ed7953"
             ],
             [
              0.7777777777777778,
              "#fb9f3a"
             ],
             [
              0.8888888888888888,
              "#fdca26"
             ],
             [
              1,
              "#f0f921"
             ]
            ],
            "type": "heatmapgl"
           }
          ],
          "histogram": [
           {
            "marker": {
             "pattern": {
              "fillmode": "overlay",
              "size": 10,
              "solidity": 0.2
             }
            },
            "type": "histogram"
           }
          ],
          "histogram2d": [
           {
            "colorbar": {
             "outlinewidth": 0,
             "ticks": ""
            },
            "colorscale": [
             [
              0,
              "#0d0887"
             ],
             [
              0.1111111111111111,
              "#46039f"
             ],
             [
              0.2222222222222222,
              "#7201a8"
             ],
             [
              0.3333333333333333,
              "#9c179e"
             ],
             [
              0.4444444444444444,
              "#bd3786"
             ],
             [
              0.5555555555555556,
              "#d8576b"
             ],
             [
              0.6666666666666666,
              "#ed7953"
             ],
             [
              0.7777777777777778,
              "#fb9f3a"
             ],
             [
              0.8888888888888888,
              "#fdca26"
             ],
             [
              1,
              "#f0f921"
             ]
            ],
            "type": "histogram2d"
           }
          ],
          "histogram2dcontour": [
           {
            "colorbar": {
             "outlinewidth": 0,
             "ticks": ""
            },
            "colorscale": [
             [
              0,
              "#0d0887"
             ],
             [
              0.1111111111111111,
              "#46039f"
             ],
             [
              0.2222222222222222,
              "#7201a8"
             ],
             [
              0.3333333333333333,
              "#9c179e"
             ],
             [
              0.4444444444444444,
              "#bd3786"
             ],
             [
              0.5555555555555556,
              "#d8576b"
             ],
             [
              0.6666666666666666,
              "#ed7953"
             ],
             [
              0.7777777777777778,
              "#fb9f3a"
             ],
             [
              0.8888888888888888,
              "#fdca26"
             ],
             [
              1,
              "#f0f921"
             ]
            ],
            "type": "histogram2dcontour"
           }
          ],
          "mesh3d": [
           {
            "colorbar": {
             "outlinewidth": 0,
             "ticks": ""
            },
            "type": "mesh3d"
           }
          ],
          "parcoords": [
           {
            "line": {
             "colorbar": {
              "outlinewidth": 0,
              "ticks": ""
             }
            },
            "type": "parcoords"
           }
          ],
          "pie": [
           {
            "automargin": true,
            "type": "pie"
           }
          ],
          "scatter": [
           {
            "fillpattern": {
             "fillmode": "overlay",
             "size": 10,
             "solidity": 0.2
            },
            "type": "scatter"
           }
          ],
          "scatter3d": [
           {
            "line": {
             "colorbar": {
              "outlinewidth": 0,
              "ticks": ""
             }
            },
            "marker": {
             "colorbar": {
              "outlinewidth": 0,
              "ticks": ""
             }
            },
            "type": "scatter3d"
           }
          ],
          "scattercarpet": [
           {
            "marker": {
             "colorbar": {
              "outlinewidth": 0,
              "ticks": ""
             }
            },
            "type": "scattercarpet"
           }
          ],
          "scattergeo": [
           {
            "marker": {
             "colorbar": {
              "outlinewidth": 0,
              "ticks": ""
             }
            },
            "type": "scattergeo"
           }
          ],
          "scattergl": [
           {
            "marker": {
             "colorbar": {
              "outlinewidth": 0,
              "ticks": ""
             }
            },
            "type": "scattergl"
           }
          ],
          "scattermapbox": [
           {
            "marker": {
             "colorbar": {
              "outlinewidth": 0,
              "ticks": ""
             }
            },
            "type": "scattermapbox"
           }
          ],
          "scatterpolar": [
           {
            "marker": {
             "colorbar": {
              "outlinewidth": 0,
              "ticks": ""
             }
            },
            "type": "scatterpolar"
           }
          ],
          "scatterpolargl": [
           {
            "marker": {
             "colorbar": {
              "outlinewidth": 0,
              "ticks": ""
             }
            },
            "type": "scatterpolargl"
           }
          ],
          "scatterternary": [
           {
            "marker": {
             "colorbar": {
              "outlinewidth": 0,
              "ticks": ""
             }
            },
            "type": "scatterternary"
           }
          ],
          "surface": [
           {
            "colorbar": {
             "outlinewidth": 0,
             "ticks": ""
            },
            "colorscale": [
             [
              0,
              "#0d0887"
             ],
             [
              0.1111111111111111,
              "#46039f"
             ],
             [
              0.2222222222222222,
              "#7201a8"
             ],
             [
              0.3333333333333333,
              "#9c179e"
             ],
             [
              0.4444444444444444,
              "#bd3786"
             ],
             [
              0.5555555555555556,
              "#d8576b"
             ],
             [
              0.6666666666666666,
              "#ed7953"
             ],
             [
              0.7777777777777778,
              "#fb9f3a"
             ],
             [
              0.8888888888888888,
              "#fdca26"
             ],
             [
              1,
              "#f0f921"
             ]
            ],
            "type": "surface"
           }
          ],
          "table": [
           {
            "cells": {
             "fill": {
              "color": "#EBF0F8"
             },
             "line": {
              "color": "white"
             }
            },
            "header": {
             "fill": {
              "color": "#C8D4E3"
             },
             "line": {
              "color": "white"
             }
            },
            "type": "table"
           }
          ]
         },
         "layout": {
          "annotationdefaults": {
           "arrowcolor": "#2a3f5f",
           "arrowhead": 0,
           "arrowwidth": 1
          },
          "autotypenumbers": "strict",
          "coloraxis": {
           "colorbar": {
            "outlinewidth": 0,
            "ticks": ""
           }
          },
          "colorscale": {
           "diverging": [
            [
             0,
             "#8e0152"
            ],
            [
             0.1,
             "#c51b7d"
            ],
            [
             0.2,
             "#de77ae"
            ],
            [
             0.3,
             "#f1b6da"
            ],
            [
             0.4,
             "#fde0ef"
            ],
            [
             0.5,
             "#f7f7f7"
            ],
            [
             0.6,
             "#e6f5d0"
            ],
            [
             0.7,
             "#b8e186"
            ],
            [
             0.8,
             "#7fbc41"
            ],
            [
             0.9,
             "#4d9221"
            ],
            [
             1,
             "#276419"
            ]
           ],
           "sequential": [
            [
             0,
             "#0d0887"
            ],
            [
             0.1111111111111111,
             "#46039f"
            ],
            [
             0.2222222222222222,
             "#7201a8"
            ],
            [
             0.3333333333333333,
             "#9c179e"
            ],
            [
             0.4444444444444444,
             "#bd3786"
            ],
            [
             0.5555555555555556,
             "#d8576b"
            ],
            [
             0.6666666666666666,
             "#ed7953"
            ],
            [
             0.7777777777777778,
             "#fb9f3a"
            ],
            [
             0.8888888888888888,
             "#fdca26"
            ],
            [
             1,
             "#f0f921"
            ]
           ],
           "sequentialminus": [
            [
             0,
             "#0d0887"
            ],
            [
             0.1111111111111111,
             "#46039f"
            ],
            [
             0.2222222222222222,
             "#7201a8"
            ],
            [
             0.3333333333333333,
             "#9c179e"
            ],
            [
             0.4444444444444444,
             "#bd3786"
            ],
            [
             0.5555555555555556,
             "#d8576b"
            ],
            [
             0.6666666666666666,
             "#ed7953"
            ],
            [
             0.7777777777777778,
             "#fb9f3a"
            ],
            [
             0.8888888888888888,
             "#fdca26"
            ],
            [
             1,
             "#f0f921"
            ]
           ]
          },
          "colorway": [
           "#636efa",
           "#EF553B",
           "#00cc96",
           "#ab63fa",
           "#FFA15A",
           "#19d3f3",
           "#FF6692",
           "#B6E880",
           "#FF97FF",
           "#FECB52"
          ],
          "font": {
           "color": "#2a3f5f"
          },
          "geo": {
           "bgcolor": "white",
           "lakecolor": "white",
           "landcolor": "#E5ECF6",
           "showlakes": true,
           "showland": true,
           "subunitcolor": "white"
          },
          "hoverlabel": {
           "align": "left"
          },
          "hovermode": "closest",
          "mapbox": {
           "style": "light"
          },
          "paper_bgcolor": "white",
          "plot_bgcolor": "#E5ECF6",
          "polar": {
           "angularaxis": {
            "gridcolor": "white",
            "linecolor": "white",
            "ticks": ""
           },
           "bgcolor": "#E5ECF6",
           "radialaxis": {
            "gridcolor": "white",
            "linecolor": "white",
            "ticks": ""
           }
          },
          "scene": {
           "xaxis": {
            "backgroundcolor": "#E5ECF6",
            "gridcolor": "white",
            "gridwidth": 2,
            "linecolor": "white",
            "showbackground": true,
            "ticks": "",
            "zerolinecolor": "white"
           },
           "yaxis": {
            "backgroundcolor": "#E5ECF6",
            "gridcolor": "white",
            "gridwidth": 2,
            "linecolor": "white",
            "showbackground": true,
            "ticks": "",
            "zerolinecolor": "white"
           },
           "zaxis": {
            "backgroundcolor": "#E5ECF6",
            "gridcolor": "white",
            "gridwidth": 2,
            "linecolor": "white",
            "showbackground": true,
            "ticks": "",
            "zerolinecolor": "white"
           }
          },
          "shapedefaults": {
           "line": {
            "color": "#2a3f5f"
           }
          },
          "ternary": {
           "aaxis": {
            "gridcolor": "white",
            "linecolor": "white",
            "ticks": ""
           },
           "baxis": {
            "gridcolor": "white",
            "linecolor": "white",
            "ticks": ""
           },
           "bgcolor": "#E5ECF6",
           "caxis": {
            "gridcolor": "white",
            "linecolor": "white",
            "ticks": ""
           }
          },
          "title": {
           "x": 0.05
          },
          "xaxis": {
           "automargin": true,
           "gridcolor": "white",
           "linecolor": "white",
           "ticks": "",
           "title": {
            "standoff": 15
           },
           "zerolinecolor": "white",
           "zerolinewidth": 2
          },
          "yaxis": {
           "automargin": true,
           "gridcolor": "white",
           "linecolor": "white",
           "ticks": "",
           "title": {
            "standoff": 15
           },
           "zerolinecolor": "white",
           "zerolinewidth": 2
          }
         }
        },
        "title": {
         "text": "Spacecraft 1-2 Access, In Fov, and Connected"
        },
        "xaxis": {
         "anchor": "y",
         "domain": [
          0,
          1
         ],
         "type": "date"
        },
        "yaxis": {
         "anchor": "x",
         "categoryorder": "total ascending",
         "domain": [
          0,
          1
         ],
         "title": {
          "text": "antenna"
         }
        }
       }
      }
     },
     "metadata": {},
     "output_type": "display_data"
    },
    {
     "data": {
      "application/vnd.plotly.v1+json": {
       "config": {
        "plotlyServerURL": "https://plot.ly"
       },
       "data": [
        {
         "alignmentgroup": "True",
         "base": [
          "2024-10-31T04:33:30.000086+00:00",
          "2024-10-31T06:08:30.000086+00:00",
          "2024-10-31T07:49:50.000086+00:00",
          "2024-10-31T09:35:00.000087+00:00",
          "2024-10-31T01:26:10.000086+00:00",
          "2024-10-31T03:07:10.000087+00:00",
          "2024-10-31T04:48:10.000086+00:00",
          "2024-10-31T06:28:50.000086+00:00",
          "2024-10-31T08:10:00.000086+00:00",
          "2024-10-31T03:22:40.000086+00:00",
          "2024-10-31T05:02:50.000086+00:00",
          "2024-10-31T06:46:40.000086+00:00",
          "2024-10-31T08:28:30.000086+00:00",
          "2024-10-31T09:35:00.000087+00:00",
          "2024-10-31T11:12:30.000086+00:00",
          "2024-10-31T00:32:50.000086+00:00",
          "2024-10-31T02:14:30.000087+00:00",
          "2024-10-31T03:57:10.000086+00:00",
          "2024-10-31T05:38:50.000086+00:00",
          "2024-10-31T07:19:40.000086+00:00",
          "2024-10-31T09:00:50.000086+00:00",
          "2024-10-31T08:20:50.000086+00:00",
          "2024-10-31T10:01:50.000086+00:00",
          "2024-10-31T07:41:20.000087+00:00",
          "2024-10-31T09:21:30.000086+00:00",
          "2024-10-31T00:16:50.000086+00:00",
          "2024-10-31T10:53:30.000086+00:00",
          "2024-10-31T05:51:40.000086+00:00",
          "2024-10-31T07:32:50.000086+00:00",
          "2024-10-31T00:11:30.000086+00:00"
         ],
         "hovertemplate": "type=access<br>start=%{base}<br>end=%{x}<br>antenna=%{y}<extra></extra>",
         "legendgroup": "access",
         "marker": {
          "color": "#636efa",
          "pattern": {
           "shape": ""
          }
         },
         "name": "access",
         "offsetgroup": "access",
         "orientation": "h",
         "showlegend": true,
         "textposition": "auto",
         "type": "bar",
         "x": [
          250000,
          800000,
          750000,
          399999.999,
          820000,
          820000,
          820000,
          810000,
          640000,
          730000,
          790000,
          800000,
          630000,
          500000,
          670000,
          830000,
          780000,
          720000,
          780000,
          830000,
          710000,
          770000,
          700000.001,
          739999.999,
          770000,
          650000,
          670000,
          790000.001,
          690000,
          290000
         ],
         "xaxis": "x",
         "y": [
          "Mojave",
          "Mojave",
          "Mojave",
          "Mojave",
          "Dundee",
          "Dundee",
          "Dundee",
          "Dundee",
          "Dundee",
          "Dubai",
          "Dubai",
          "Mwulire",
          "Mwulire",
          "Utqiagvik",
          "Utqiagvik",
          "Awarua",
          "Awarua",
          "Awarua",
          "Awarua",
          "Awarua",
          "Awarua",
          "Sunyani",
          "Sunyani",
          "Paumalu",
          "Paumalu",
          "Harmon",
          "Harmon",
          "Tahiti",
          "Tahiti",
          "Chitose"
         ],
         "yaxis": "y"
        },
        {
         "alignmentgroup": "True",
         "base": [
          "2024-10-31T06:11:40.000086+00:00",
          "2024-10-31T07:53:50.000086+00:00",
          "2024-10-31T01:29:10.000086+00:00",
          "2024-10-31T03:10:20.000086+00:00",
          "2024-10-31T04:51:20.000086+00:00",
          "2024-10-31T06:32:10.000086+00:00",
          "2024-10-31T06:33:40.000086+00:00",
          "2024-10-31T03:27:10.000086+00:00",
          "2024-10-31T05:12:30.000086+00:00",
          "2024-10-31T07:29:10.000086+00:00",
          "2024-10-31T09:05:40.000086+00:00",
          "2024-10-31T07:45:10.000086+00:00",
          "2024-10-31T09:25:10.000086+00:00",
          "2024-10-31T05:55:00.000086+00:00"
         ],
         "hovertemplate": "type=inFov<br>start=%{base}<br>end=%{x}<br>antenna=%{y}<extra></extra>",
         "legendgroup": "inFov",
         "marker": {
          "color": "#EF553B",
          "pattern": {
           "shape": ""
          }
         },
         "name": "inFov",
         "offsetgroup": "inFov",
         "orientation": "h",
         "showlegend": true,
         "textposition": "auto",
         "type": "bar",
         "x": [
          420000,
          260000,
          450000,
          430000,
          440000,
          70000,
          270000,
          190000,
          10000,
          60000,
          90000.001,
          270000,
          330000,
          300000
         ],
         "xaxis": "x",
         "y": [
          "Mojave",
          "Mojave",
          "Dundee",
          "Dundee",
          "Dundee",
          "Dundee",
          "Dundee",
          "Dubai",
          "Dubai",
          "Awarua",
          "Awarua",
          "Paumalu",
          "Paumalu",
          "Tahiti"
         ],
         "yaxis": "y"
        },
        {
         "alignmentgroup": "True",
         "base": [
          "2024-10-31T06:11:40.000086+00:00",
          "2024-10-31T07:53:50.000086+00:00",
          "2024-10-31T01:29:10.000086+00:00",
          "2024-10-31T03:10:20.000086+00:00",
          "2024-10-31T04:51:20.000086+00:00",
          "2024-10-31T06:33:40.000086+00:00",
          "2024-10-31T03:27:10.000086+00:00",
          "2024-10-31T05:12:30.000086+00:00",
          "2024-10-31T07:45:10.000086+00:00",
          "2024-10-31T09:25:10.000086+00:00",
          "2024-10-31T05:55:00.000086+00:00"
         ],
         "hovertemplate": "type=connected<br>start=%{base}<br>end=%{x}<br>antenna=%{y}<extra></extra>",
         "legendgroup": "connected",
         "marker": {
          "color": "#00cc96",
          "pattern": {
           "shape": ""
          }
         },
         "name": "connected",
         "offsetgroup": "connected",
         "orientation": "h",
         "showlegend": true,
         "textposition": "auto",
         "type": "bar",
         "x": [
          420000,
          260000,
          450000,
          430000,
          440000,
          270000,
          190000,
          10000,
          270000,
          330000,
          300000
         ],
         "xaxis": "x",
         "y": [
          "Mojave",
          "Mojave",
          "Dundee",
          "Dundee",
          "Dundee",
          "Dundee",
          "Dubai",
          "Dubai",
          "Paumalu",
          "Paumalu",
          "Tahiti"
         ],
         "yaxis": "y"
        }
       ],
       "layout": {
        "barmode": "overlay",
        "legend": {
         "title": {
          "text": "type"
         },
         "tracegroupgap": 0
        },
        "margin": {
         "t": 60
        },
        "template": {
         "data": {
          "bar": [
           {
            "error_x": {
             "color": "#2a3f5f"
            },
            "error_y": {
             "color": "#2a3f5f"
            },
            "marker": {
             "line": {
              "color": "#E5ECF6",
              "width": 0.5
             },
             "pattern": {
              "fillmode": "overlay",
              "size": 10,
              "solidity": 0.2
             }
            },
            "type": "bar"
           }
          ],
          "barpolar": [
           {
            "marker": {
             "line": {
              "color": "#E5ECF6",
              "width": 0.5
             },
             "pattern": {
              "fillmode": "overlay",
              "size": 10,
              "solidity": 0.2
             }
            },
            "type": "barpolar"
           }
          ],
          "carpet": [
           {
            "aaxis": {
             "endlinecolor": "#2a3f5f",
             "gridcolor": "white",
             "linecolor": "white",
             "minorgridcolor": "white",
             "startlinecolor": "#2a3f5f"
            },
            "baxis": {
             "endlinecolor": "#2a3f5f",
             "gridcolor": "white",
             "linecolor": "white",
             "minorgridcolor": "white",
             "startlinecolor": "#2a3f5f"
            },
            "type": "carpet"
           }
          ],
          "choropleth": [
           {
            "colorbar": {
             "outlinewidth": 0,
             "ticks": ""
            },
            "type": "choropleth"
           }
          ],
          "contour": [
           {
            "colorbar": {
             "outlinewidth": 0,
             "ticks": ""
            },
            "colorscale": [
             [
              0,
              "#0d0887"
             ],
             [
              0.1111111111111111,
              "#46039f"
             ],
             [
              0.2222222222222222,
              "#7201a8"
             ],
             [
              0.3333333333333333,
              "#9c179e"
             ],
             [
              0.4444444444444444,
              "#bd3786"
             ],
             [
              0.5555555555555556,
              "#d8576b"
             ],
             [
              0.6666666666666666,
              "#ed7953"
             ],
             [
              0.7777777777777778,
              "#fb9f3a"
             ],
             [
              0.8888888888888888,
              "#fdca26"
             ],
             [
              1,
              "#f0f921"
             ]
            ],
            "type": "contour"
           }
          ],
          "contourcarpet": [
           {
            "colorbar": {
             "outlinewidth": 0,
             "ticks": ""
            },
            "type": "contourcarpet"
           }
          ],
          "heatmap": [
           {
            "colorbar": {
             "outlinewidth": 0,
             "ticks": ""
            },
            "colorscale": [
             [
              0,
              "#0d0887"
             ],
             [
              0.1111111111111111,
              "#46039f"
             ],
             [
              0.2222222222222222,
              "#7201a8"
             ],
             [
              0.3333333333333333,
              "#9c179e"
             ],
             [
              0.4444444444444444,
              "#bd3786"
             ],
             [
              0.5555555555555556,
              "#d8576b"
             ],
             [
              0.6666666666666666,
              "#ed7953"
             ],
             [
              0.7777777777777778,
              "#fb9f3a"
             ],
             [
              0.8888888888888888,
              "#fdca26"
             ],
             [
              1,
              "#f0f921"
             ]
            ],
            "type": "heatmap"
           }
          ],
          "heatmapgl": [
           {
            "colorbar": {
             "outlinewidth": 0,
             "ticks": ""
            },
            "colorscale": [
             [
              0,
              "#0d0887"
             ],
             [
              0.1111111111111111,
              "#46039f"
             ],
             [
              0.2222222222222222,
              "#7201a8"
             ],
             [
              0.3333333333333333,
              "#9c179e"
             ],
             [
              0.4444444444444444,
              "#bd3786"
             ],
             [
              0.5555555555555556,
              "#d8576b"
             ],
             [
              0.6666666666666666,
              "#ed7953"
             ],
             [
              0.7777777777777778,
              "#fb9f3a"
             ],
             [
              0.8888888888888888,
              "#fdca26"
             ],
             [
              1,
              "#f0f921"
             ]
            ],
            "type": "heatmapgl"
           }
          ],
          "histogram": [
           {
            "marker": {
             "pattern": {
              "fillmode": "overlay",
              "size": 10,
              "solidity": 0.2
             }
            },
            "type": "histogram"
           }
          ],
          "histogram2d": [
           {
            "colorbar": {
             "outlinewidth": 0,
             "ticks": ""
            },
            "colorscale": [
             [
              0,
              "#0d0887"
             ],
             [
              0.1111111111111111,
              "#46039f"
             ],
             [
              0.2222222222222222,
              "#7201a8"
             ],
             [
              0.3333333333333333,
              "#9c179e"
             ],
             [
              0.4444444444444444,
              "#bd3786"
             ],
             [
              0.5555555555555556,
              "#d8576b"
             ],
             [
              0.6666666666666666,
              "#ed7953"
             ],
             [
              0.7777777777777778,
              "#fb9f3a"
             ],
             [
              0.8888888888888888,
              "#fdca26"
             ],
             [
              1,
              "#f0f921"
             ]
            ],
            "type": "histogram2d"
           }
          ],
          "histogram2dcontour": [
           {
            "colorbar": {
             "outlinewidth": 0,
             "ticks": ""
            },
            "colorscale": [
             [
              0,
              "#0d0887"
             ],
             [
              0.1111111111111111,
              "#46039f"
             ],
             [
              0.2222222222222222,
              "#7201a8"
             ],
             [
              0.3333333333333333,
              "#9c179e"
             ],
             [
              0.4444444444444444,
              "#bd3786"
             ],
             [
              0.5555555555555556,
              "#d8576b"
             ],
             [
              0.6666666666666666,
              "#ed7953"
             ],
             [
              0.7777777777777778,
              "#fb9f3a"
             ],
             [
              0.8888888888888888,
              "#fdca26"
             ],
             [
              1,
              "#f0f921"
             ]
            ],
            "type": "histogram2dcontour"
           }
          ],
          "mesh3d": [
           {
            "colorbar": {
             "outlinewidth": 0,
             "ticks": ""
            },
            "type": "mesh3d"
           }
          ],
          "parcoords": [
           {
            "line": {
             "colorbar": {
              "outlinewidth": 0,
              "ticks": ""
             }
            },
            "type": "parcoords"
           }
          ],
          "pie": [
           {
            "automargin": true,
            "type": "pie"
           }
          ],
          "scatter": [
           {
            "fillpattern": {
             "fillmode": "overlay",
             "size": 10,
             "solidity": 0.2
            },
            "type": "scatter"
           }
          ],
          "scatter3d": [
           {
            "line": {
             "colorbar": {
              "outlinewidth": 0,
              "ticks": ""
             }
            },
            "marker": {
             "colorbar": {
              "outlinewidth": 0,
              "ticks": ""
             }
            },
            "type": "scatter3d"
           }
          ],
          "scattercarpet": [
           {
            "marker": {
             "colorbar": {
              "outlinewidth": 0,
              "ticks": ""
             }
            },
            "type": "scattercarpet"
           }
          ],
          "scattergeo": [
           {
            "marker": {
             "colorbar": {
              "outlinewidth": 0,
              "ticks": ""
             }
            },
            "type": "scattergeo"
           }
          ],
          "scattergl": [
           {
            "marker": {
             "colorbar": {
              "outlinewidth": 0,
              "ticks": ""
             }
            },
            "type": "scattergl"
           }
          ],
          "scattermapbox": [
           {
            "marker": {
             "colorbar": {
              "outlinewidth": 0,
              "ticks": ""
             }
            },
            "type": "scattermapbox"
           }
          ],
          "scatterpolar": [
           {
            "marker": {
             "colorbar": {
              "outlinewidth": 0,
              "ticks": ""
             }
            },
            "type": "scatterpolar"
           }
          ],
          "scatterpolargl": [
           {
            "marker": {
             "colorbar": {
              "outlinewidth": 0,
              "ticks": ""
             }
            },
            "type": "scatterpolargl"
           }
          ],
          "scatterternary": [
           {
            "marker": {
             "colorbar": {
              "outlinewidth": 0,
              "ticks": ""
             }
            },
            "type": "scatterternary"
           }
          ],
          "surface": [
           {
            "colorbar": {
             "outlinewidth": 0,
             "ticks": ""
            },
            "colorscale": [
             [
              0,
              "#0d0887"
             ],
             [
              0.1111111111111111,
              "#46039f"
             ],
             [
              0.2222222222222222,
              "#7201a8"
             ],
             [
              0.3333333333333333,
              "#9c179e"
             ],
             [
              0.4444444444444444,
              "#bd3786"
             ],
             [
              0.5555555555555556,
              "#d8576b"
             ],
             [
              0.6666666666666666,
              "#ed7953"
             ],
             [
              0.7777777777777778,
              "#fb9f3a"
             ],
             [
              0.8888888888888888,
              "#fdca26"
             ],
             [
              1,
              "#f0f921"
             ]
            ],
            "type": "surface"
           }
          ],
          "table": [
           {
            "cells": {
             "fill": {
              "color": "#EBF0F8"
             },
             "line": {
              "color": "white"
             }
            },
            "header": {
             "fill": {
              "color": "#C8D4E3"
             },
             "line": {
              "color": "white"
             }
            },
            "type": "table"
           }
          ]
         },
         "layout": {
          "annotationdefaults": {
           "arrowcolor": "#2a3f5f",
           "arrowhead": 0,
           "arrowwidth": 1
          },
          "autotypenumbers": "strict",
          "coloraxis": {
           "colorbar": {
            "outlinewidth": 0,
            "ticks": ""
           }
          },
          "colorscale": {
           "diverging": [
            [
             0,
             "#8e0152"
            ],
            [
             0.1,
             "#c51b7d"
            ],
            [
             0.2,
             "#de77ae"
            ],
            [
             0.3,
             "#f1b6da"
            ],
            [
             0.4,
             "#fde0ef"
            ],
            [
             0.5,
             "#f7f7f7"
            ],
            [
             0.6,
             "#e6f5d0"
            ],
            [
             0.7,
             "#b8e186"
            ],
            [
             0.8,
             "#7fbc41"
            ],
            [
             0.9,
             "#4d9221"
            ],
            [
             1,
             "#276419"
            ]
           ],
           "sequential": [
            [
             0,
             "#0d0887"
            ],
            [
             0.1111111111111111,
             "#46039f"
            ],
            [
             0.2222222222222222,
             "#7201a8"
            ],
            [
             0.3333333333333333,
             "#9c179e"
            ],
            [
             0.4444444444444444,
             "#bd3786"
            ],
            [
             0.5555555555555556,
             "#d8576b"
            ],
            [
             0.6666666666666666,
             "#ed7953"
            ],
            [
             0.7777777777777778,
             "#fb9f3a"
            ],
            [
             0.8888888888888888,
             "#fdca26"
            ],
            [
             1,
             "#f0f921"
            ]
           ],
           "sequentialminus": [
            [
             0,
             "#0d0887"
            ],
            [
             0.1111111111111111,
             "#46039f"
            ],
            [
             0.2222222222222222,
             "#7201a8"
            ],
            [
             0.3333333333333333,
             "#9c179e"
            ],
            [
             0.4444444444444444,
             "#bd3786"
            ],
            [
             0.5555555555555556,
             "#d8576b"
            ],
            [
             0.6666666666666666,
             "#ed7953"
            ],
            [
             0.7777777777777778,
             "#fb9f3a"
            ],
            [
             0.8888888888888888,
             "#fdca26"
            ],
            [
             1,
             "#f0f921"
            ]
           ]
          },
          "colorway": [
           "#636efa",
           "#EF553B",
           "#00cc96",
           "#ab63fa",
           "#FFA15A",
           "#19d3f3",
           "#FF6692",
           "#B6E880",
           "#FF97FF",
           "#FECB52"
          ],
          "font": {
           "color": "#2a3f5f"
          },
          "geo": {
           "bgcolor": "white",
           "lakecolor": "white",
           "landcolor": "#E5ECF6",
           "showlakes": true,
           "showland": true,
           "subunitcolor": "white"
          },
          "hoverlabel": {
           "align": "left"
          },
          "hovermode": "closest",
          "mapbox": {
           "style": "light"
          },
          "paper_bgcolor": "white",
          "plot_bgcolor": "#E5ECF6",
          "polar": {
           "angularaxis": {
            "gridcolor": "white",
            "linecolor": "white",
            "ticks": ""
           },
           "bgcolor": "#E5ECF6",
           "radialaxis": {
            "gridcolor": "white",
            "linecolor": "white",
            "ticks": ""
           }
          },
          "scene": {
           "xaxis": {
            "backgroundcolor": "#E5ECF6",
            "gridcolor": "white",
            "gridwidth": 2,
            "linecolor": "white",
            "showbackground": true,
            "ticks": "",
            "zerolinecolor": "white"
           },
           "yaxis": {
            "backgroundcolor": "#E5ECF6",
            "gridcolor": "white",
            "gridwidth": 2,
            "linecolor": "white",
            "showbackground": true,
            "ticks": "",
            "zerolinecolor": "white"
           },
           "zaxis": {
            "backgroundcolor": "#E5ECF6",
            "gridcolor": "white",
            "gridwidth": 2,
            "linecolor": "white",
            "showbackground": true,
            "ticks": "",
            "zerolinecolor": "white"
           }
          },
          "shapedefaults": {
           "line": {
            "color": "#2a3f5f"
           }
          },
          "ternary": {
           "aaxis": {
            "gridcolor": "white",
            "linecolor": "white",
            "ticks": ""
           },
           "baxis": {
            "gridcolor": "white",
            "linecolor": "white",
            "ticks": ""
           },
           "bgcolor": "#E5ECF6",
           "caxis": {
            "gridcolor": "white",
            "linecolor": "white",
            "ticks": ""
           }
          },
          "title": {
           "x": 0.05
          },
          "xaxis": {
           "automargin": true,
           "gridcolor": "white",
           "linecolor": "white",
           "ticks": "",
           "title": {
            "standoff": 15
           },
           "zerolinecolor": "white",
           "zerolinewidth": 2
          },
          "yaxis": {
           "automargin": true,
           "gridcolor": "white",
           "linecolor": "white",
           "ticks": "",
           "title": {
            "standoff": 15
           },
           "zerolinecolor": "white",
           "zerolinewidth": 2
          }
         }
        },
        "title": {
         "text": "Spacecraft 1-3 Access, In Fov, and Connected"
        },
        "xaxis": {
         "anchor": "y",
         "domain": [
          0,
          1
         ],
         "type": "date"
        },
        "yaxis": {
         "anchor": "x",
         "categoryorder": "total ascending",
         "domain": [
          0,
          1
         ],
         "title": {
          "text": "antenna"
         }
        }
       }
      }
     },
     "metadata": {},
     "output_type": "display_data"
    },
    {
     "data": {
      "application/vnd.plotly.v1+json": {
       "config": {
        "plotlyServerURL": "https://plot.ly"
       },
       "data": [
        {
         "alignmentgroup": "True",
         "base": [
          "2024-10-31T05:55:30.000086+00:00",
          "2024-10-31T07:36:10.000086+00:00",
          "2024-10-31T09:20:40.000086+00:00",
          "2024-10-31T01:13:20.000086+00:00",
          "2024-10-31T02:54:10.000087+00:00",
          "2024-10-31T04:35:00.000086+00:00",
          "2024-10-31T06:15:40.000086+00:00",
          "2024-10-31T07:56:30.000086+00:00",
          "2024-10-31T03:10:00.000086+00:00",
          "2024-10-31T04:49:40.000086+00:00",
          "2024-10-31T06:33:50.000087+00:00",
          "2024-10-31T08:14:40.000086+00:00",
          "2024-10-31T09:22:10.000086+00:00",
          "2024-10-31T10:59:10.000086+00:00",
          "2024-10-31T00:20:20.000086+00:00",
          "2024-10-31T02:01:40.000086+00:00",
          "2024-10-31T03:44:10.000086+00:00",
          "2024-10-31T05:25:50.000086+00:00",
          "2024-10-31T07:06:30.000086+00:00",
          "2024-10-31T08:47:20.000086+00:00",
          "2024-10-31T08:07:50.000086+00:00",
          "2024-10-31T09:48:00.000087+00:00",
          "2024-10-31T07:28:30.000086+00:00",
          "2024-10-31T09:07:50.000086+00:00",
          "2024-10-31T10:54:40.000086+00:00",
          "2024-10-31T00:03:50.000086+00:00",
          "2024-10-31T10:40:30.000086+00:00",
          "2024-10-31T05:38:40.000086+00:00",
          "2024-10-31T07:19:10.000086+00:00",
          "2024-10-31T00:00:00.000086+00:00"
         ],
         "hovertemplate": "type=access<br>start=%{base}<br>end=%{x}<br>antenna=%{y}<extra></extra>",
         "legendgroup": "access",
         "marker": {
          "color": "#636efa",
          "pattern": {
           "shape": ""
          }
         },
         "name": "access",
         "offsetgroup": "access",
         "orientation": "h",
         "showlegend": true,
         "textposition": "auto",
         "type": "bar",
         "x": [
          790000,
          770000.001,
          470000.001,
          830000,
          819999.999,
          830000,
          810000,
          680000,
          680000,
          810000,
          759999.999,
          690000,
          460000,
          660000,
          820000,
          770000.001,
          700000,
          750000,
          820000,
          730000.001,
          730000,
          739999.999,
          690000,
          790000,
          140000,
          700000.001,
          590000,
          760000,
          740000,
          310000
         ],
         "xaxis": "x",
         "y": [
          "Mojave",
          "Mojave",
          "Mojave",
          "Dundee",
          "Dundee",
          "Dundee",
          "Dundee",
          "Dundee",
          "Dubai",
          "Dubai",
          "Mwulire",
          "Mwulire",
          "Utqiagvik",
          "Utqiagvik",
          "Awarua",
          "Awarua",
          "Awarua",
          "Awarua",
          "Awarua",
          "Awarua",
          "Sunyani",
          "Sunyani",
          "Paumalu",
          "Paumalu",
          "Paumalu",
          "Harmon",
          "Harmon",
          "Tahiti",
          "Tahiti",
          "Chitose"
         ],
         "yaxis": "y"
        },
        {
         "alignmentgroup": "True",
         "base": [
          "2024-10-31T06:00:10.000086+00:00",
          "2024-10-31T07:39:50.000086+00:00",
          "2024-10-31T01:16:30.000087+00:00",
          "2024-10-31T02:57:20.000086+00:00",
          "2024-10-31T04:38:20.000087+00:00",
          "2024-10-31T06:18:50.000086+00:00",
          "2024-10-31T04:58:40.000086+00:00",
          "2024-10-31T09:17:20.000086+00:00",
          "2024-10-31T00:08:20.000087+00:00",
          "2024-10-31T05:42:30.000086+00:00"
         ],
         "hovertemplate": "type=inFov<br>start=%{base}<br>end=%{x}<br>antenna=%{y}<extra></extra>",
         "legendgroup": "inFov",
         "marker": {
          "color": "#EF553B",
          "pattern": {
           "shape": ""
          }
         },
         "name": "inFov",
         "offsetgroup": "inFov",
         "orientation": "h",
         "showlegend": true,
         "textposition": "auto",
         "type": "bar",
         "x": [
          300000,
          330000,
          449999.999,
          440000,
          439999.999,
          70000,
          80000,
          20000,
          159999.999,
          310000.001
         ],
         "xaxis": "x",
         "y": [
          "Mojave",
          "Mojave",
          "Dundee",
          "Dundee",
          "Dundee",
          "Dundee",
          "Dubai",
          "Paumalu",
          "Harmon",
          "Tahiti"
         ],
         "yaxis": "y"
        },
        {
         "alignmentgroup": "True",
         "base": [
          "2024-10-31T06:00:10.000086+00:00",
          "2024-10-31T07:39:50.000086+00:00",
          "2024-10-31T01:16:30.000087+00:00",
          "2024-10-31T02:57:20.000086+00:00",
          "2024-10-31T04:38:20.000087+00:00",
          "2024-10-31T04:58:40.000086+00:00",
          "2024-10-31T09:17:20.000086+00:00",
          "2024-10-31T00:08:20.000087+00:00",
          "2024-10-31T05:42:30.000086+00:00"
         ],
         "hovertemplate": "type=connected<br>start=%{base}<br>end=%{x}<br>antenna=%{y}<extra></extra>",
         "legendgroup": "connected",
         "marker": {
          "color": "#00cc96",
          "pattern": {
           "shape": ""
          }
         },
         "name": "connected",
         "offsetgroup": "connected",
         "orientation": "h",
         "showlegend": true,
         "textposition": "auto",
         "type": "bar",
         "x": [
          300000,
          330000,
          449999.999,
          440000,
          439999.999,
          80000,
          20000,
          159999.999,
          310000.001
         ],
         "xaxis": "x",
         "y": [
          "Mojave",
          "Mojave",
          "Dundee",
          "Dundee",
          "Dundee",
          "Dubai",
          "Paumalu",
          "Harmon",
          "Tahiti"
         ],
         "yaxis": "y"
        }
       ],
       "layout": {
        "barmode": "overlay",
        "legend": {
         "title": {
          "text": "type"
         },
         "tracegroupgap": 0
        },
        "margin": {
         "t": 60
        },
        "template": {
         "data": {
          "bar": [
           {
            "error_x": {
             "color": "#2a3f5f"
            },
            "error_y": {
             "color": "#2a3f5f"
            },
            "marker": {
             "line": {
              "color": "#E5ECF6",
              "width": 0.5
             },
             "pattern": {
              "fillmode": "overlay",
              "size": 10,
              "solidity": 0.2
             }
            },
            "type": "bar"
           }
          ],
          "barpolar": [
           {
            "marker": {
             "line": {
              "color": "#E5ECF6",
              "width": 0.5
             },
             "pattern": {
              "fillmode": "overlay",
              "size": 10,
              "solidity": 0.2
             }
            },
            "type": "barpolar"
           }
          ],
          "carpet": [
           {
            "aaxis": {
             "endlinecolor": "#2a3f5f",
             "gridcolor": "white",
             "linecolor": "white",
             "minorgridcolor": "white",
             "startlinecolor": "#2a3f5f"
            },
            "baxis": {
             "endlinecolor": "#2a3f5f",
             "gridcolor": "white",
             "linecolor": "white",
             "minorgridcolor": "white",
             "startlinecolor": "#2a3f5f"
            },
            "type": "carpet"
           }
          ],
          "choropleth": [
           {
            "colorbar": {
             "outlinewidth": 0,
             "ticks": ""
            },
            "type": "choropleth"
           }
          ],
          "contour": [
           {
            "colorbar": {
             "outlinewidth": 0,
             "ticks": ""
            },
            "colorscale": [
             [
              0,
              "#0d0887"
             ],
             [
              0.1111111111111111,
              "#46039f"
             ],
             [
              0.2222222222222222,
              "#7201a8"
             ],
             [
              0.3333333333333333,
              "#9c179e"
             ],
             [
              0.4444444444444444,
              "#bd3786"
             ],
             [
              0.5555555555555556,
              "#d8576b"
             ],
             [
              0.6666666666666666,
              "#ed7953"
             ],
             [
              0.7777777777777778,
              "#fb9f3a"
             ],
             [
              0.8888888888888888,
              "#fdca26"
             ],
             [
              1,
              "#f0f921"
             ]
            ],
            "type": "contour"
           }
          ],
          "contourcarpet": [
           {
            "colorbar": {
             "outlinewidth": 0,
             "ticks": ""
            },
            "type": "contourcarpet"
           }
          ],
          "heatmap": [
           {
            "colorbar": {
             "outlinewidth": 0,
             "ticks": ""
            },
            "colorscale": [
             [
              0,
              "#0d0887"
             ],
             [
              0.1111111111111111,
              "#46039f"
             ],
             [
              0.2222222222222222,
              "#7201a8"
             ],
             [
              0.3333333333333333,
              "#9c179e"
             ],
             [
              0.4444444444444444,
              "#bd3786"
             ],
             [
              0.5555555555555556,
              "#d8576b"
             ],
             [
              0.6666666666666666,
              "#ed7953"
             ],
             [
              0.7777777777777778,
              "#fb9f3a"
             ],
             [
              0.8888888888888888,
              "#fdca26"
             ],
             [
              1,
              "#f0f921"
             ]
            ],
            "type": "heatmap"
           }
          ],
          "heatmapgl": [
           {
            "colorbar": {
             "outlinewidth": 0,
             "ticks": ""
            },
            "colorscale": [
             [
              0,
              "#0d0887"
             ],
             [
              0.1111111111111111,
              "#46039f"
             ],
             [
              0.2222222222222222,
              "#7201a8"
             ],
             [
              0.3333333333333333,
              "#9c179e"
             ],
             [
              0.4444444444444444,
              "#bd3786"
             ],
             [
              0.5555555555555556,
              "#d8576b"
             ],
             [
              0.6666666666666666,
              "#ed7953"
             ],
             [
              0.7777777777777778,
              "#fb9f3a"
             ],
             [
              0.8888888888888888,
              "#fdca26"
             ],
             [
              1,
              "#f0f921"
             ]
            ],
            "type": "heatmapgl"
           }
          ],
          "histogram": [
           {
            "marker": {
             "pattern": {
              "fillmode": "overlay",
              "size": 10,
              "solidity": 0.2
             }
            },
            "type": "histogram"
           }
          ],
          "histogram2d": [
           {
            "colorbar": {
             "outlinewidth": 0,
             "ticks": ""
            },
            "colorscale": [
             [
              0,
              "#0d0887"
             ],
             [
              0.1111111111111111,
              "#46039f"
             ],
             [
              0.2222222222222222,
              "#7201a8"
             ],
             [
              0.3333333333333333,
              "#9c179e"
             ],
             [
              0.4444444444444444,
              "#bd3786"
             ],
             [
              0.5555555555555556,
              "#d8576b"
             ],
             [
              0.6666666666666666,
              "#ed7953"
             ],
             [
              0.7777777777777778,
              "#fb9f3a"
             ],
             [
              0.8888888888888888,
              "#fdca26"
             ],
             [
              1,
              "#f0f921"
             ]
            ],
            "type": "histogram2d"
           }
          ],
          "histogram2dcontour": [
           {
            "colorbar": {
             "outlinewidth": 0,
             "ticks": ""
            },
            "colorscale": [
             [
              0,
              "#0d0887"
             ],
             [
              0.1111111111111111,
              "#46039f"
             ],
             [
              0.2222222222222222,
              "#7201a8"
             ],
             [
              0.3333333333333333,
              "#9c179e"
             ],
             [
              0.4444444444444444,
              "#bd3786"
             ],
             [
              0.5555555555555556,
              "#d8576b"
             ],
             [
              0.6666666666666666,
              "#ed7953"
             ],
             [
              0.7777777777777778,
              "#fb9f3a"
             ],
             [
              0.8888888888888888,
              "#fdca26"
             ],
             [
              1,
              "#f0f921"
             ]
            ],
            "type": "histogram2dcontour"
           }
          ],
          "mesh3d": [
           {
            "colorbar": {
             "outlinewidth": 0,
             "ticks": ""
            },
            "type": "mesh3d"
           }
          ],
          "parcoords": [
           {
            "line": {
             "colorbar": {
              "outlinewidth": 0,
              "ticks": ""
             }
            },
            "type": "parcoords"
           }
          ],
          "pie": [
           {
            "automargin": true,
            "type": "pie"
           }
          ],
          "scatter": [
           {
            "fillpattern": {
             "fillmode": "overlay",
             "size": 10,
             "solidity": 0.2
            },
            "type": "scatter"
           }
          ],
          "scatter3d": [
           {
            "line": {
             "colorbar": {
              "outlinewidth": 0,
              "ticks": ""
             }
            },
            "marker": {
             "colorbar": {
              "outlinewidth": 0,
              "ticks": ""
             }
            },
            "type": "scatter3d"
           }
          ],
          "scattercarpet": [
           {
            "marker": {
             "colorbar": {
              "outlinewidth": 0,
              "ticks": ""
             }
            },
            "type": "scattercarpet"
           }
          ],
          "scattergeo": [
           {
            "marker": {
             "colorbar": {
              "outlinewidth": 0,
              "ticks": ""
             }
            },
            "type": "scattergeo"
           }
          ],
          "scattergl": [
           {
            "marker": {
             "colorbar": {
              "outlinewidth": 0,
              "ticks": ""
             }
            },
            "type": "scattergl"
           }
          ],
          "scattermapbox": [
           {
            "marker": {
             "colorbar": {
              "outlinewidth": 0,
              "ticks": ""
             }
            },
            "type": "scattermapbox"
           }
          ],
          "scatterpolar": [
           {
            "marker": {
             "colorbar": {
              "outlinewidth": 0,
              "ticks": ""
             }
            },
            "type": "scatterpolar"
           }
          ],
          "scatterpolargl": [
           {
            "marker": {
             "colorbar": {
              "outlinewidth": 0,
              "ticks": ""
             }
            },
            "type": "scatterpolargl"
           }
          ],
          "scatterternary": [
           {
            "marker": {
             "colorbar": {
              "outlinewidth": 0,
              "ticks": ""
             }
            },
            "type": "scatterternary"
           }
          ],
          "surface": [
           {
            "colorbar": {
             "outlinewidth": 0,
             "ticks": ""
            },
            "colorscale": [
             [
              0,
              "#0d0887"
             ],
             [
              0.1111111111111111,
              "#46039f"
             ],
             [
              0.2222222222222222,
              "#7201a8"
             ],
             [
              0.3333333333333333,
              "#9c179e"
             ],
             [
              0.4444444444444444,
              "#bd3786"
             ],
             [
              0.5555555555555556,
              "#d8576b"
             ],
             [
              0.6666666666666666,
              "#ed7953"
             ],
             [
              0.7777777777777778,
              "#fb9f3a"
             ],
             [
              0.8888888888888888,
              "#fdca26"
             ],
             [
              1,
              "#f0f921"
             ]
            ],
            "type": "surface"
           }
          ],
          "table": [
           {
            "cells": {
             "fill": {
              "color": "#EBF0F8"
             },
             "line": {
              "color": "white"
             }
            },
            "header": {
             "fill": {
              "color": "#C8D4E3"
             },
             "line": {
              "color": "white"
             }
            },
            "type": "table"
           }
          ]
         },
         "layout": {
          "annotationdefaults": {
           "arrowcolor": "#2a3f5f",
           "arrowhead": 0,
           "arrowwidth": 1
          },
          "autotypenumbers": "strict",
          "coloraxis": {
           "colorbar": {
            "outlinewidth": 0,
            "ticks": ""
           }
          },
          "colorscale": {
           "diverging": [
            [
             0,
             "#8e0152"
            ],
            [
             0.1,
             "#c51b7d"
            ],
            [
             0.2,
             "#de77ae"
            ],
            [
             0.3,
             "#f1b6da"
            ],
            [
             0.4,
             "#fde0ef"
            ],
            [
             0.5,
             "#f7f7f7"
            ],
            [
             0.6,
             "#e6f5d0"
            ],
            [
             0.7,
             "#b8e186"
            ],
            [
             0.8,
             "#7fbc41"
            ],
            [
             0.9,
             "#4d9221"
            ],
            [
             1,
             "#276419"
            ]
           ],
           "sequential": [
            [
             0,
             "#0d0887"
            ],
            [
             0.1111111111111111,
             "#46039f"
            ],
            [
             0.2222222222222222,
             "#7201a8"
            ],
            [
             0.3333333333333333,
             "#9c179e"
            ],
            [
             0.4444444444444444,
             "#bd3786"
            ],
            [
             0.5555555555555556,
             "#d8576b"
            ],
            [
             0.6666666666666666,
             "#ed7953"
            ],
            [
             0.7777777777777778,
             "#fb9f3a"
            ],
            [
             0.8888888888888888,
             "#fdca26"
            ],
            [
             1,
             "#f0f921"
            ]
           ],
           "sequentialminus": [
            [
             0,
             "#0d0887"
            ],
            [
             0.1111111111111111,
             "#46039f"
            ],
            [
             0.2222222222222222,
             "#7201a8"
            ],
            [
             0.3333333333333333,
             "#9c179e"
            ],
            [
             0.4444444444444444,
             "#bd3786"
            ],
            [
             0.5555555555555556,
             "#d8576b"
            ],
            [
             0.6666666666666666,
             "#ed7953"
            ],
            [
             0.7777777777777778,
             "#fb9f3a"
            ],
            [
             0.8888888888888888,
             "#fdca26"
            ],
            [
             1,
             "#f0f921"
            ]
           ]
          },
          "colorway": [
           "#636efa",
           "#EF553B",
           "#00cc96",
           "#ab63fa",
           "#FFA15A",
           "#19d3f3",
           "#FF6692",
           "#B6E880",
           "#FF97FF",
           "#FECB52"
          ],
          "font": {
           "color": "#2a3f5f"
          },
          "geo": {
           "bgcolor": "white",
           "lakecolor": "white",
           "landcolor": "#E5ECF6",
           "showlakes": true,
           "showland": true,
           "subunitcolor": "white"
          },
          "hoverlabel": {
           "align": "left"
          },
          "hovermode": "closest",
          "mapbox": {
           "style": "light"
          },
          "paper_bgcolor": "white",
          "plot_bgcolor": "#E5ECF6",
          "polar": {
           "angularaxis": {
            "gridcolor": "white",
            "linecolor": "white",
            "ticks": ""
           },
           "bgcolor": "#E5ECF6",
           "radialaxis": {
            "gridcolor": "white",
            "linecolor": "white",
            "ticks": ""
           }
          },
          "scene": {
           "xaxis": {
            "backgroundcolor": "#E5ECF6",
            "gridcolor": "white",
            "gridwidth": 2,
            "linecolor": "white",
            "showbackground": true,
            "ticks": "",
            "zerolinecolor": "white"
           },
           "yaxis": {
            "backgroundcolor": "#E5ECF6",
            "gridcolor": "white",
            "gridwidth": 2,
            "linecolor": "white",
            "showbackground": true,
            "ticks": "",
            "zerolinecolor": "white"
           },
           "zaxis": {
            "backgroundcolor": "#E5ECF6",
            "gridcolor": "white",
            "gridwidth": 2,
            "linecolor": "white",
            "showbackground": true,
            "ticks": "",
            "zerolinecolor": "white"
           }
          },
          "shapedefaults": {
           "line": {
            "color": "#2a3f5f"
           }
          },
          "ternary": {
           "aaxis": {
            "gridcolor": "white",
            "linecolor": "white",
            "ticks": ""
           },
           "baxis": {
            "gridcolor": "white",
            "linecolor": "white",
            "ticks": ""
           },
           "bgcolor": "#E5ECF6",
           "caxis": {
            "gridcolor": "white",
            "linecolor": "white",
            "ticks": ""
           }
          },
          "title": {
           "x": 0.05
          },
          "xaxis": {
           "automargin": true,
           "gridcolor": "white",
           "linecolor": "white",
           "ticks": "",
           "title": {
            "standoff": 15
           },
           "zerolinecolor": "white",
           "zerolinewidth": 2
          },
          "yaxis": {
           "automargin": true,
           "gridcolor": "white",
           "linecolor": "white",
           "ticks": "",
           "title": {
            "standoff": 15
           },
           "zerolinecolor": "white",
           "zerolinewidth": 2
          }
         }
        },
        "title": {
         "text": "Spacecraft 1-4 Access, In Fov, and Connected"
        },
        "xaxis": {
         "anchor": "y",
         "domain": [
          0,
          1
         ],
         "type": "date"
        },
        "yaxis": {
         "anchor": "x",
         "categoryorder": "total ascending",
         "domain": [
          0,
          1
         ],
         "title": {
          "text": "antenna"
         }
        }
       }
      }
     },
     "metadata": {},
     "output_type": "display_data"
    },
    {
     "data": {
      "application/vnd.plotly.v1+json": {
       "config": {
        "plotlyServerURL": "https://plot.ly"
       },
       "data": [
        {
         "alignmentgroup": "True",
         "base": [
          "2024-10-31T05:42:50.000086+00:00",
          "2024-10-31T07:22:40.000086+00:00",
          "2024-10-31T09:06:40.000086+00:00",
          "2024-10-31T01:00:50.000086+00:00",
          "2024-10-31T02:41:20.000086+00:00",
          "2024-10-31T04:22:10.000086+00:00",
          "2024-10-31T06:02:30.000086+00:00",
          "2024-10-31T07:43:10.000086+00:00",
          "2024-10-31T02:57:30.000086+00:00",
          "2024-10-31T04:36:40.000086+00:00",
          "2024-10-31T06:20:00.000086+00:00",
          "2024-10-31T06:21:00.000086+00:00",
          "2024-10-31T08:01:00.000086+00:00",
          "2024-10-31T09:09:30.000086+00:00",
          "2024-10-31T10:46:00.000086+00:00",
          "2024-10-31T00:07:50.000086+00:00",
          "2024-10-31T01:48:40.000086+00:00",
          "2024-10-31T03:31:00.000086+00:00",
          "2024-10-31T05:12:40.000086+00:00",
          "2024-10-31T06:53:20.000087+00:00",
          "2024-10-31T08:33:50.000086+00:00",
          "2024-10-31T10:18:40.000086+00:00",
          "2024-10-31T07:55:00.000086+00:00",
          "2024-10-31T09:34:10.000086+00:00",
          "2024-10-31T07:16:00.000086+00:00",
          "2024-10-31T08:54:20.000086+00:00",
          "2024-10-31T10:39:10.000086+00:00",
          "2024-10-31T00:00:00.000086+00:00",
          "2024-10-31T10:28:10.000086+00:00",
          "2024-10-31T05:26:00.000086+00:00",
          "2024-10-31T07:05:50.000087+00:00"
         ],
         "hovertemplate": "type=access<br>start=%{base}<br>end=%{x}<br>antenna=%{y}<extra></extra>",
         "legendgroup": "access",
         "marker": {
          "color": "#636efa",
          "pattern": {
           "shape": ""
          }
         },
         "name": "access",
         "offsetgroup": "access",
         "orientation": "h",
         "showlegend": true,
         "textposition": "auto",
         "type": "bar",
         "x": [
          750000.001,
          790000,
          510000,
          810000,
          820000,
          810000,
          820000,
          700000,
          620000,
          810000,
          370000.001,
          720000,
          740000.001,
          400000,
          630000,
          810000,
          790000,
          710000,
          740000,
          809999.999,
          760000.001,
          60000,
          670000.001,
          780000,
          610000,
          800000,
          350000,
          210000,
          460000,
          710000,
          759999.999
         ],
         "xaxis": "x",
         "y": [
          "Mojave",
          "Mojave",
          "Mojave",
          "Dundee",
          "Dundee",
          "Dundee",
          "Dundee",
          "Dundee",
          "Dubai",
          "Dubai",
          "Dubai",
          "Mwulire",
          "Mwulire",
          "Utqiagvik",
          "Utqiagvik",
          "Awarua",
          "Awarua",
          "Awarua",
          "Awarua",
          "Awarua",
          "Awarua",
          "Awarua",
          "Sunyani",
          "Sunyani",
          "Paumalu",
          "Paumalu",
          "Paumalu",
          "Harmon",
          "Harmon",
          "Tahiti",
          "Tahiti"
         ],
         "yaxis": "y"
        },
        {
         "alignmentgroup": "True",
         "base": [
          "2024-10-31T05:51:30.000086+00:00",
          "2024-10-31T07:26:00.000086+00:00",
          "2024-10-31T01:03:50.000086+00:00",
          "2024-10-31T02:44:30.000086+00:00",
          "2024-10-31T04:25:10.000086+00:00",
          "2024-10-31T06:05:40.000086+00:00",
          "2024-10-31T07:49:00.000087+00:00",
          "2024-10-31T04:44:30.000086+00:00",
          "2024-10-31T05:30:30.000087+00:00"
         ],
         "hovertemplate": "type=inFov<br>start=%{base}<br>end=%{x}<br>antenna=%{y}<extra></extra>",
         "legendgroup": "inFov",
         "marker": {
          "color": "#EF553B",
          "pattern": {
           "shape": ""
          }
         },
         "name": "inFov",
         "offsetgroup": "inFov",
         "orientation": "h",
         "showlegend": true,
         "textposition": "auto",
         "type": "bar",
         "x": [
          10000,
          380000,
          450000,
          430000,
          440000,
          60000,
          39999.999,
          160000,
          169999.999
         ],
         "xaxis": "x",
         "y": [
          "Mojave",
          "Mojave",
          "Dundee",
          "Dundee",
          "Dundee",
          "Dundee",
          "Dundee",
          "Dubai",
          "Tahiti"
         ],
         "yaxis": "y"
        },
        {
         "alignmentgroup": "True",
         "base": [
          "2024-10-31T07:26:00.000086+00:00",
          "2024-10-31T01:03:50.000086+00:00",
          "2024-10-31T02:44:30.000086+00:00",
          "2024-10-31T04:25:10.000086+00:00",
          "2024-10-31T07:49:00.000087+00:00",
          "2024-10-31T04:44:30.000086+00:00",
          "2024-10-31T05:30:30.000087+00:00"
         ],
         "hovertemplate": "type=connected<br>start=%{base}<br>end=%{x}<br>antenna=%{y}<extra></extra>",
         "legendgroup": "connected",
         "marker": {
          "color": "#00cc96",
          "pattern": {
           "shape": ""
          }
         },
         "name": "connected",
         "offsetgroup": "connected",
         "orientation": "h",
         "showlegend": true,
         "textposition": "auto",
         "type": "bar",
         "x": [
          380000,
          450000,
          430000,
          440000,
          39999.999,
          160000,
          169999.999
         ],
         "xaxis": "x",
         "y": [
          "Mojave",
          "Dundee",
          "Dundee",
          "Dundee",
          "Dundee",
          "Dubai",
          "Tahiti"
         ],
         "yaxis": "y"
        }
       ],
       "layout": {
        "barmode": "overlay",
        "legend": {
         "title": {
          "text": "type"
         },
         "tracegroupgap": 0
        },
        "margin": {
         "t": 60
        },
        "template": {
         "data": {
          "bar": [
           {
            "error_x": {
             "color": "#2a3f5f"
            },
            "error_y": {
             "color": "#2a3f5f"
            },
            "marker": {
             "line": {
              "color": "#E5ECF6",
              "width": 0.5
             },
             "pattern": {
              "fillmode": "overlay",
              "size": 10,
              "solidity": 0.2
             }
            },
            "type": "bar"
           }
          ],
          "barpolar": [
           {
            "marker": {
             "line": {
              "color": "#E5ECF6",
              "width": 0.5
             },
             "pattern": {
              "fillmode": "overlay",
              "size": 10,
              "solidity": 0.2
             }
            },
            "type": "barpolar"
           }
          ],
          "carpet": [
           {
            "aaxis": {
             "endlinecolor": "#2a3f5f",
             "gridcolor": "white",
             "linecolor": "white",
             "minorgridcolor": "white",
             "startlinecolor": "#2a3f5f"
            },
            "baxis": {
             "endlinecolor": "#2a3f5f",
             "gridcolor": "white",
             "linecolor": "white",
             "minorgridcolor": "white",
             "startlinecolor": "#2a3f5f"
            },
            "type": "carpet"
           }
          ],
          "choropleth": [
           {
            "colorbar": {
             "outlinewidth": 0,
             "ticks": ""
            },
            "type": "choropleth"
           }
          ],
          "contour": [
           {
            "colorbar": {
             "outlinewidth": 0,
             "ticks": ""
            },
            "colorscale": [
             [
              0,
              "#0d0887"
             ],
             [
              0.1111111111111111,
              "#46039f"
             ],
             [
              0.2222222222222222,
              "#7201a8"
             ],
             [
              0.3333333333333333,
              "#9c179e"
             ],
             [
              0.4444444444444444,
              "#bd3786"
             ],
             [
              0.5555555555555556,
              "#d8576b"
             ],
             [
              0.6666666666666666,
              "#ed7953"
             ],
             [
              0.7777777777777778,
              "#fb9f3a"
             ],
             [
              0.8888888888888888,
              "#fdca26"
             ],
             [
              1,
              "#f0f921"
             ]
            ],
            "type": "contour"
           }
          ],
          "contourcarpet": [
           {
            "colorbar": {
             "outlinewidth": 0,
             "ticks": ""
            },
            "type": "contourcarpet"
           }
          ],
          "heatmap": [
           {
            "colorbar": {
             "outlinewidth": 0,
             "ticks": ""
            },
            "colorscale": [
             [
              0,
              "#0d0887"
             ],
             [
              0.1111111111111111,
              "#46039f"
             ],
             [
              0.2222222222222222,
              "#7201a8"
             ],
             [
              0.3333333333333333,
              "#9c179e"
             ],
             [
              0.4444444444444444,
              "#bd3786"
             ],
             [
              0.5555555555555556,
              "#d8576b"
             ],
             [
              0.6666666666666666,
              "#ed7953"
             ],
             [
              0.7777777777777778,
              "#fb9f3a"
             ],
             [
              0.8888888888888888,
              "#fdca26"
             ],
             [
              1,
              "#f0f921"
             ]
            ],
            "type": "heatmap"
           }
          ],
          "heatmapgl": [
           {
            "colorbar": {
             "outlinewidth": 0,
             "ticks": ""
            },
            "colorscale": [
             [
              0,
              "#0d0887"
             ],
             [
              0.1111111111111111,
              "#46039f"
             ],
             [
              0.2222222222222222,
              "#7201a8"
             ],
             [
              0.3333333333333333,
              "#9c179e"
             ],
             [
              0.4444444444444444,
              "#bd3786"
             ],
             [
              0.5555555555555556,
              "#d8576b"
             ],
             [
              0.6666666666666666,
              "#ed7953"
             ],
             [
              0.7777777777777778,
              "#fb9f3a"
             ],
             [
              0.8888888888888888,
              "#fdca26"
             ],
             [
              1,
              "#f0f921"
             ]
            ],
            "type": "heatmapgl"
           }
          ],
          "histogram": [
           {
            "marker": {
             "pattern": {
              "fillmode": "overlay",
              "size": 10,
              "solidity": 0.2
             }
            },
            "type": "histogram"
           }
          ],
          "histogram2d": [
           {
            "colorbar": {
             "outlinewidth": 0,
             "ticks": ""
            },
            "colorscale": [
             [
              0,
              "#0d0887"
             ],
             [
              0.1111111111111111,
              "#46039f"
             ],
             [
              0.2222222222222222,
              "#7201a8"
             ],
             [
              0.3333333333333333,
              "#9c179e"
             ],
             [
              0.4444444444444444,
              "#bd3786"
             ],
             [
              0.5555555555555556,
              "#d8576b"
             ],
             [
              0.6666666666666666,
              "#ed7953"
             ],
             [
              0.7777777777777778,
              "#fb9f3a"
             ],
             [
              0.8888888888888888,
              "#fdca26"
             ],
             [
              1,
              "#f0f921"
             ]
            ],
            "type": "histogram2d"
           }
          ],
          "histogram2dcontour": [
           {
            "colorbar": {
             "outlinewidth": 0,
             "ticks": ""
            },
            "colorscale": [
             [
              0,
              "#0d0887"
             ],
             [
              0.1111111111111111,
              "#46039f"
             ],
             [
              0.2222222222222222,
              "#7201a8"
             ],
             [
              0.3333333333333333,
              "#9c179e"
             ],
             [
              0.4444444444444444,
              "#bd3786"
             ],
             [
              0.5555555555555556,
              "#d8576b"
             ],
             [
              0.6666666666666666,
              "#ed7953"
             ],
             [
              0.7777777777777778,
              "#fb9f3a"
             ],
             [
              0.8888888888888888,
              "#fdca26"
             ],
             [
              1,
              "#f0f921"
             ]
            ],
            "type": "histogram2dcontour"
           }
          ],
          "mesh3d": [
           {
            "colorbar": {
             "outlinewidth": 0,
             "ticks": ""
            },
            "type": "mesh3d"
           }
          ],
          "parcoords": [
           {
            "line": {
             "colorbar": {
              "outlinewidth": 0,
              "ticks": ""
             }
            },
            "type": "parcoords"
           }
          ],
          "pie": [
           {
            "automargin": true,
            "type": "pie"
           }
          ],
          "scatter": [
           {
            "fillpattern": {
             "fillmode": "overlay",
             "size": 10,
             "solidity": 0.2
            },
            "type": "scatter"
           }
          ],
          "scatter3d": [
           {
            "line": {
             "colorbar": {
              "outlinewidth": 0,
              "ticks": ""
             }
            },
            "marker": {
             "colorbar": {
              "outlinewidth": 0,
              "ticks": ""
             }
            },
            "type": "scatter3d"
           }
          ],
          "scattercarpet": [
           {
            "marker": {
             "colorbar": {
              "outlinewidth": 0,
              "ticks": ""
             }
            },
            "type": "scattercarpet"
           }
          ],
          "scattergeo": [
           {
            "marker": {
             "colorbar": {
              "outlinewidth": 0,
              "ticks": ""
             }
            },
            "type": "scattergeo"
           }
          ],
          "scattergl": [
           {
            "marker": {
             "colorbar": {
              "outlinewidth": 0,
              "ticks": ""
             }
            },
            "type": "scattergl"
           }
          ],
          "scattermapbox": [
           {
            "marker": {
             "colorbar": {
              "outlinewidth": 0,
              "ticks": ""
             }
            },
            "type": "scattermapbox"
           }
          ],
          "scatterpolar": [
           {
            "marker": {
             "colorbar": {
              "outlinewidth": 0,
              "ticks": ""
             }
            },
            "type": "scatterpolar"
           }
          ],
          "scatterpolargl": [
           {
            "marker": {
             "colorbar": {
              "outlinewidth": 0,
              "ticks": ""
             }
            },
            "type": "scatterpolargl"
           }
          ],
          "scatterternary": [
           {
            "marker": {
             "colorbar": {
              "outlinewidth": 0,
              "ticks": ""
             }
            },
            "type": "scatterternary"
           }
          ],
          "surface": [
           {
            "colorbar": {
             "outlinewidth": 0,
             "ticks": ""
            },
            "colorscale": [
             [
              0,
              "#0d0887"
             ],
             [
              0.1111111111111111,
              "#46039f"
             ],
             [
              0.2222222222222222,
              "#7201a8"
             ],
             [
              0.3333333333333333,
              "#9c179e"
             ],
             [
              0.4444444444444444,
              "#bd3786"
             ],
             [
              0.5555555555555556,
              "#d8576b"
             ],
             [
              0.6666666666666666,
              "#ed7953"
             ],
             [
              0.7777777777777778,
              "#fb9f3a"
             ],
             [
              0.8888888888888888,
              "#fdca26"
             ],
             [
              1,
              "#f0f921"
             ]
            ],
            "type": "surface"
           }
          ],
          "table": [
           {
            "cells": {
             "fill": {
              "color": "#EBF0F8"
             },
             "line": {
              "color": "white"
             }
            },
            "header": {
             "fill": {
              "color": "#C8D4E3"
             },
             "line": {
              "color": "white"
             }
            },
            "type": "table"
           }
          ]
         },
         "layout": {
          "annotationdefaults": {
           "arrowcolor": "#2a3f5f",
           "arrowhead": 0,
           "arrowwidth": 1
          },
          "autotypenumbers": "strict",
          "coloraxis": {
           "colorbar": {
            "outlinewidth": 0,
            "ticks": ""
           }
          },
          "colorscale": {
           "diverging": [
            [
             0,
             "#8e0152"
            ],
            [
             0.1,
             "#c51b7d"
            ],
            [
             0.2,
             "#de77ae"
            ],
            [
             0.3,
             "#f1b6da"
            ],
            [
             0.4,
             "#fde0ef"
            ],
            [
             0.5,
             "#f7f7f7"
            ],
            [
             0.6,
             "#e6f5d0"
            ],
            [
             0.7,
             "#b8e186"
            ],
            [
             0.8,
             "#7fbc41"
            ],
            [
             0.9,
             "#4d9221"
            ],
            [
             1,
             "#276419"
            ]
           ],
           "sequential": [
            [
             0,
             "#0d0887"
            ],
            [
             0.1111111111111111,
             "#46039f"
            ],
            [
             0.2222222222222222,
             "#7201a8"
            ],
            [
             0.3333333333333333,
             "#9c179e"
            ],
            [
             0.4444444444444444,
             "#bd3786"
            ],
            [
             0.5555555555555556,
             "#d8576b"
            ],
            [
             0.6666666666666666,
             "#ed7953"
            ],
            [
             0.7777777777777778,
             "#fb9f3a"
            ],
            [
             0.8888888888888888,
             "#fdca26"
            ],
            [
             1,
             "#f0f921"
            ]
           ],
           "sequentialminus": [
            [
             0,
             "#0d0887"
            ],
            [
             0.1111111111111111,
             "#46039f"
            ],
            [
             0.2222222222222222,
             "#7201a8"
            ],
            [
             0.3333333333333333,
             "#9c179e"
            ],
            [
             0.4444444444444444,
             "#bd3786"
            ],
            [
             0.5555555555555556,
             "#d8576b"
            ],
            [
             0.6666666666666666,
             "#ed7953"
            ],
            [
             0.7777777777777778,
             "#fb9f3a"
            ],
            [
             0.8888888888888888,
             "#fdca26"
            ],
            [
             1,
             "#f0f921"
            ]
           ]
          },
          "colorway": [
           "#636efa",
           "#EF553B",
           "#00cc96",
           "#ab63fa",
           "#FFA15A",
           "#19d3f3",
           "#FF6692",
           "#B6E880",
           "#FF97FF",
           "#FECB52"
          ],
          "font": {
           "color": "#2a3f5f"
          },
          "geo": {
           "bgcolor": "white",
           "lakecolor": "white",
           "landcolor": "#E5ECF6",
           "showlakes": true,
           "showland": true,
           "subunitcolor": "white"
          },
          "hoverlabel": {
           "align": "left"
          },
          "hovermode": "closest",
          "mapbox": {
           "style": "light"
          },
          "paper_bgcolor": "white",
          "plot_bgcolor": "#E5ECF6",
          "polar": {
           "angularaxis": {
            "gridcolor": "white",
            "linecolor": "white",
            "ticks": ""
           },
           "bgcolor": "#E5ECF6",
           "radialaxis": {
            "gridcolor": "white",
            "linecolor": "white",
            "ticks": ""
           }
          },
          "scene": {
           "xaxis": {
            "backgroundcolor": "#E5ECF6",
            "gridcolor": "white",
            "gridwidth": 2,
            "linecolor": "white",
            "showbackground": true,
            "ticks": "",
            "zerolinecolor": "white"
           },
           "yaxis": {
            "backgroundcolor": "#E5ECF6",
            "gridcolor": "white",
            "gridwidth": 2,
            "linecolor": "white",
            "showbackground": true,
            "ticks": "",
            "zerolinecolor": "white"
           },
           "zaxis": {
            "backgroundcolor": "#E5ECF6",
            "gridcolor": "white",
            "gridwidth": 2,
            "linecolor": "white",
            "showbackground": true,
            "ticks": "",
            "zerolinecolor": "white"
           }
          },
          "shapedefaults": {
           "line": {
            "color": "#2a3f5f"
           }
          },
          "ternary": {
           "aaxis": {
            "gridcolor": "white",
            "linecolor": "white",
            "ticks": ""
           },
           "baxis": {
            "gridcolor": "white",
            "linecolor": "white",
            "ticks": ""
           },
           "bgcolor": "#E5ECF6",
           "caxis": {
            "gridcolor": "white",
            "linecolor": "white",
            "ticks": ""
           }
          },
          "title": {
           "x": 0.05
          },
          "xaxis": {
           "automargin": true,
           "gridcolor": "white",
           "linecolor": "white",
           "ticks": "",
           "title": {
            "standoff": 15
           },
           "zerolinecolor": "white",
           "zerolinewidth": 2
          },
          "yaxis": {
           "automargin": true,
           "gridcolor": "white",
           "linecolor": "white",
           "ticks": "",
           "title": {
            "standoff": 15
           },
           "zerolinecolor": "white",
           "zerolinewidth": 2
          }
         }
        },
        "title": {
         "text": "Spacecraft 1-5 Access, In Fov, and Connected"
        },
        "xaxis": {
         "anchor": "y",
         "domain": [
          0,
          1
         ],
         "type": "date"
        },
        "yaxis": {
         "anchor": "x",
         "categoryorder": "total ascending",
         "domain": [
          0,
          1
         ],
         "title": {
          "text": "antenna"
         }
        }
       }
      }
     },
     "metadata": {},
     "output_type": "display_data"
    },
    {
     "data": {
      "application/vnd.plotly.v1+json": {
       "config": {
        "plotlyServerURL": "https://plot.ly"
       },
       "data": [
        {
         "alignmentgroup": "True",
         "base": [
          "2024-10-31T05:31:10.000086+00:00",
          "2024-10-31T07:10:40.000086+00:00",
          "2024-10-31T08:54:10.000087+00:00",
          "2024-10-31T00:48:20.000086+00:00",
          "2024-10-31T02:29:00.000086+00:00",
          "2024-10-31T04:09:50.000086+00:00",
          "2024-10-31T05:50:40.000086+00:00",
          "2024-10-31T07:31:10.000086+00:00",
          "2024-10-31T09:13:50.000086+00:00",
          "2024-10-31T02:45:40.000086+00:00",
          "2024-10-31T04:24:30.000086+00:00",
          "2024-10-31T06:07:10.000087+00:00",
          "2024-10-31T06:09:30.000086+00:00",
          "2024-10-31T07:49:00.000087+00:00",
          "2024-10-31T08:58:30.000086+00:00",
          "2024-10-31T10:34:50.000087+00:00",
          "2024-10-31T00:00:00.000086+00:00",
          "2024-10-31T01:36:10.000086+00:00",
          "2024-10-31T03:18:30.000086+00:00",
          "2024-10-31T05:00:30.000086+00:00",
          "2024-10-31T06:41:20.000086+00:00",
          "2024-10-31T08:22:00.000086+00:00",
          "2024-10-31T10:04:50.000086+00:00",
          "2024-10-31T07:43:40.000087+00:00",
          "2024-10-31T09:22:30.000086+00:00",
          "2024-10-31T07:04:50.000086+00:00",
          "2024-10-31T08:42:30.000086+00:00",
          "2024-10-31T10:26:20.000086+00:00",
          "2024-10-31T10:17:50.000086+00:00",
          "2024-10-31T11:53:40.000086+00:00",
          "2024-10-31T05:14:10.000086+00:00",
          "2024-10-31T06:53:40.000086+00:00"
         ],
         "hovertemplate": "type=access<br>start=%{base}<br>end=%{x}<br>antenna=%{y}<extra></extra>",
         "legendgroup": "access",
         "marker": {
          "color": "#636efa",
          "pattern": {
           "shape": ""
          }
         },
         "name": "access",
         "offsetgroup": "access",
         "orientation": "h",
         "showlegend": true,
         "textposition": "auto",
         "type": "bar",
         "x": [
          720000,
          810000.001,
          570000,
          820000,
          820000,
          830000,
          820000,
          740000,
          280000,
          560000,
          820000,
          500000,
          670000,
          769999.999,
          360000,
          619999.999,
          530000,
          800000,
          720000,
          730000,
          810000,
          780000,
          350000,
          609999.999,
          800000,
          540000,
          820000,
          480000,
          320000,
          370000,
          680000,
          800000.001
         ],
         "xaxis": "x",
         "y": [
          "Mojave",
          "Mojave",
          "Mojave",
          "Dundee",
          "Dundee",
          "Dundee",
          "Dundee",
          "Dundee",
          "Dundee",
          "Dubai",
          "Dubai",
          "Dubai",
          "Mwulire",
          "Mwulire",
          "Utqiagvik",
          "Utqiagvik",
          "Awarua",
          "Awarua",
          "Awarua",
          "Awarua",
          "Awarua",
          "Awarua",
          "Awarua",
          "Sunyani",
          "Sunyani",
          "Paumalu",
          "Paumalu",
          "Paumalu",
          "Harmon",
          "Harmon",
          "Tahiti",
          "Tahiti"
         ],
         "yaxis": "y"
        },
        {
         "alignmentgroup": "True",
         "base": [
          "2024-10-31T07:13:50.000086+00:00",
          "2024-10-31T00:51:30.000086+00:00",
          "2024-10-31T02:32:10.000086+00:00",
          "2024-10-31T04:13:10.000086+00:00",
          "2024-10-31T05:53:40.000086+00:00",
          "2024-10-31T07:35:50.000086+00:00",
          "2024-10-31T04:30:40.000087+00:00",
          "2024-10-31T08:45:30.000086+00:00",
          "2024-10-31T11:56:50.000086+00:00"
         ],
         "hovertemplate": "type=inFov<br>start=%{base}<br>end=%{x}<br>antenna=%{y}<extra></extra>",
         "legendgroup": "inFov",
         "marker": {
          "color": "#EF553B",
          "pattern": {
           "shape": ""
          }
         },
         "name": "inFov",
         "offsetgroup": "inFov",
         "orientation": "h",
         "showlegend": true,
         "textposition": "auto",
         "type": "bar",
         "x": [
          420000,
          440000,
          440000,
          440000,
          380000,
          10000.001,
          269999.999,
          450000.001,
          180000
         ],
         "xaxis": "x",
         "y": [
          "Mojave",
          "Dundee",
          "Dundee",
          "Dundee",
          "Dundee",
          "Dundee",
          "Dubai",
          "Paumalu",
          "Harmon"
         ],
         "yaxis": "y"
        },
        {
         "alignmentgroup": "True",
         "base": [
          "2024-10-31T07:13:50.000086+00:00",
          "2024-10-31T00:51:30.000086+00:00",
          "2024-10-31T02:32:10.000086+00:00",
          "2024-10-31T04:13:10.000086+00:00",
          "2024-10-31T05:53:40.000086+00:00",
          "2024-10-31T07:35:50.000086+00:00",
          "2024-10-31T04:30:40.000087+00:00",
          "2024-10-31T08:45:30.000086+00:00",
          "2024-10-31T11:56:50.000086+00:00"
         ],
         "hovertemplate": "type=connected<br>start=%{base}<br>end=%{x}<br>antenna=%{y}<extra></extra>",
         "legendgroup": "connected",
         "marker": {
          "color": "#00cc96",
          "pattern": {
           "shape": ""
          }
         },
         "name": "connected",
         "offsetgroup": "connected",
         "orientation": "h",
         "showlegend": true,
         "textposition": "auto",
         "type": "bar",
         "x": [
          420000,
          440000,
          440000,
          440000,
          380000,
          10000.001,
          269999.999,
          450000.001,
          180000
         ],
         "xaxis": "x",
         "y": [
          "Mojave",
          "Dundee",
          "Dundee",
          "Dundee",
          "Dundee",
          "Dundee",
          "Dubai",
          "Paumalu",
          "Harmon"
         ],
         "yaxis": "y"
        }
       ],
       "layout": {
        "barmode": "overlay",
        "legend": {
         "title": {
          "text": "type"
         },
         "tracegroupgap": 0
        },
        "margin": {
         "t": 60
        },
        "template": {
         "data": {
          "bar": [
           {
            "error_x": {
             "color": "#2a3f5f"
            },
            "error_y": {
             "color": "#2a3f5f"
            },
            "marker": {
             "line": {
              "color": "#E5ECF6",
              "width": 0.5
             },
             "pattern": {
              "fillmode": "overlay",
              "size": 10,
              "solidity": 0.2
             }
            },
            "type": "bar"
           }
          ],
          "barpolar": [
           {
            "marker": {
             "line": {
              "color": "#E5ECF6",
              "width": 0.5
             },
             "pattern": {
              "fillmode": "overlay",
              "size": 10,
              "solidity": 0.2
             }
            },
            "type": "barpolar"
           }
          ],
          "carpet": [
           {
            "aaxis": {
             "endlinecolor": "#2a3f5f",
             "gridcolor": "white",
             "linecolor": "white",
             "minorgridcolor": "white",
             "startlinecolor": "#2a3f5f"
            },
            "baxis": {
             "endlinecolor": "#2a3f5f",
             "gridcolor": "white",
             "linecolor": "white",
             "minorgridcolor": "white",
             "startlinecolor": "#2a3f5f"
            },
            "type": "carpet"
           }
          ],
          "choropleth": [
           {
            "colorbar": {
             "outlinewidth": 0,
             "ticks": ""
            },
            "type": "choropleth"
           }
          ],
          "contour": [
           {
            "colorbar": {
             "outlinewidth": 0,
             "ticks": ""
            },
            "colorscale": [
             [
              0,
              "#0d0887"
             ],
             [
              0.1111111111111111,
              "#46039f"
             ],
             [
              0.2222222222222222,
              "#7201a8"
             ],
             [
              0.3333333333333333,
              "#9c179e"
             ],
             [
              0.4444444444444444,
              "#bd3786"
             ],
             [
              0.5555555555555556,
              "#d8576b"
             ],
             [
              0.6666666666666666,
              "#ed7953"
             ],
             [
              0.7777777777777778,
              "#fb9f3a"
             ],
             [
              0.8888888888888888,
              "#fdca26"
             ],
             [
              1,
              "#f0f921"
             ]
            ],
            "type": "contour"
           }
          ],
          "contourcarpet": [
           {
            "colorbar": {
             "outlinewidth": 0,
             "ticks": ""
            },
            "type": "contourcarpet"
           }
          ],
          "heatmap": [
           {
            "colorbar": {
             "outlinewidth": 0,
             "ticks": ""
            },
            "colorscale": [
             [
              0,
              "#0d0887"
             ],
             [
              0.1111111111111111,
              "#46039f"
             ],
             [
              0.2222222222222222,
              "#7201a8"
             ],
             [
              0.3333333333333333,
              "#9c179e"
             ],
             [
              0.4444444444444444,
              "#bd3786"
             ],
             [
              0.5555555555555556,
              "#d8576b"
             ],
             [
              0.6666666666666666,
              "#ed7953"
             ],
             [
              0.7777777777777778,
              "#fb9f3a"
             ],
             [
              0.8888888888888888,
              "#fdca26"
             ],
             [
              1,
              "#f0f921"
             ]
            ],
            "type": "heatmap"
           }
          ],
          "heatmapgl": [
           {
            "colorbar": {
             "outlinewidth": 0,
             "ticks": ""
            },
            "colorscale": [
             [
              0,
              "#0d0887"
             ],
             [
              0.1111111111111111,
              "#46039f"
             ],
             [
              0.2222222222222222,
              "#7201a8"
             ],
             [
              0.3333333333333333,
              "#9c179e"
             ],
             [
              0.4444444444444444,
              "#bd3786"
             ],
             [
              0.5555555555555556,
              "#d8576b"
             ],
             [
              0.6666666666666666,
              "#ed7953"
             ],
             [
              0.7777777777777778,
              "#fb9f3a"
             ],
             [
              0.8888888888888888,
              "#fdca26"
             ],
             [
              1,
              "#f0f921"
             ]
            ],
            "type": "heatmapgl"
           }
          ],
          "histogram": [
           {
            "marker": {
             "pattern": {
              "fillmode": "overlay",
              "size": 10,
              "solidity": 0.2
             }
            },
            "type": "histogram"
           }
          ],
          "histogram2d": [
           {
            "colorbar": {
             "outlinewidth": 0,
             "ticks": ""
            },
            "colorscale": [
             [
              0,
              "#0d0887"
             ],
             [
              0.1111111111111111,
              "#46039f"
             ],
             [
              0.2222222222222222,
              "#7201a8"
             ],
             [
              0.3333333333333333,
              "#9c179e"
             ],
             [
              0.4444444444444444,
              "#bd3786"
             ],
             [
              0.5555555555555556,
              "#d8576b"
             ],
             [
              0.6666666666666666,
              "#ed7953"
             ],
             [
              0.7777777777777778,
              "#fb9f3a"
             ],
             [
              0.8888888888888888,
              "#fdca26"
             ],
             [
              1,
              "#f0f921"
             ]
            ],
            "type": "histogram2d"
           }
          ],
          "histogram2dcontour": [
           {
            "colorbar": {
             "outlinewidth": 0,
             "ticks": ""
            },
            "colorscale": [
             [
              0,
              "#0d0887"
             ],
             [
              0.1111111111111111,
              "#46039f"
             ],
             [
              0.2222222222222222,
              "#7201a8"
             ],
             [
              0.3333333333333333,
              "#9c179e"
             ],
             [
              0.4444444444444444,
              "#bd3786"
             ],
             [
              0.5555555555555556,
              "#d8576b"
             ],
             [
              0.6666666666666666,
              "#ed7953"
             ],
             [
              0.7777777777777778,
              "#fb9f3a"
             ],
             [
              0.8888888888888888,
              "#fdca26"
             ],
             [
              1,
              "#f0f921"
             ]
            ],
            "type": "histogram2dcontour"
           }
          ],
          "mesh3d": [
           {
            "colorbar": {
             "outlinewidth": 0,
             "ticks": ""
            },
            "type": "mesh3d"
           }
          ],
          "parcoords": [
           {
            "line": {
             "colorbar": {
              "outlinewidth": 0,
              "ticks": ""
             }
            },
            "type": "parcoords"
           }
          ],
          "pie": [
           {
            "automargin": true,
            "type": "pie"
           }
          ],
          "scatter": [
           {
            "fillpattern": {
             "fillmode": "overlay",
             "size": 10,
             "solidity": 0.2
            },
            "type": "scatter"
           }
          ],
          "scatter3d": [
           {
            "line": {
             "colorbar": {
              "outlinewidth": 0,
              "ticks": ""
             }
            },
            "marker": {
             "colorbar": {
              "outlinewidth": 0,
              "ticks": ""
             }
            },
            "type": "scatter3d"
           }
          ],
          "scattercarpet": [
           {
            "marker": {
             "colorbar": {
              "outlinewidth": 0,
              "ticks": ""
             }
            },
            "type": "scattercarpet"
           }
          ],
          "scattergeo": [
           {
            "marker": {
             "colorbar": {
              "outlinewidth": 0,
              "ticks": ""
             }
            },
            "type": "scattergeo"
           }
          ],
          "scattergl": [
           {
            "marker": {
             "colorbar": {
              "outlinewidth": 0,
              "ticks": ""
             }
            },
            "type": "scattergl"
           }
          ],
          "scattermapbox": [
           {
            "marker": {
             "colorbar": {
              "outlinewidth": 0,
              "ticks": ""
             }
            },
            "type": "scattermapbox"
           }
          ],
          "scatterpolar": [
           {
            "marker": {
             "colorbar": {
              "outlinewidth": 0,
              "ticks": ""
             }
            },
            "type": "scatterpolar"
           }
          ],
          "scatterpolargl": [
           {
            "marker": {
             "colorbar": {
              "outlinewidth": 0,
              "ticks": ""
             }
            },
            "type": "scatterpolargl"
           }
          ],
          "scatterternary": [
           {
            "marker": {
             "colorbar": {
              "outlinewidth": 0,
              "ticks": ""
             }
            },
            "type": "scatterternary"
           }
          ],
          "surface": [
           {
            "colorbar": {
             "outlinewidth": 0,
             "ticks": ""
            },
            "colorscale": [
             [
              0,
              "#0d0887"
             ],
             [
              0.1111111111111111,
              "#46039f"
             ],
             [
              0.2222222222222222,
              "#7201a8"
             ],
             [
              0.3333333333333333,
              "#9c179e"
             ],
             [
              0.4444444444444444,
              "#bd3786"
             ],
             [
              0.5555555555555556,
              "#d8576b"
             ],
             [
              0.6666666666666666,
              "#ed7953"
             ],
             [
              0.7777777777777778,
              "#fb9f3a"
             ],
             [
              0.8888888888888888,
              "#fdca26"
             ],
             [
              1,
              "#f0f921"
             ]
            ],
            "type": "surface"
           }
          ],
          "table": [
           {
            "cells": {
             "fill": {
              "color": "#EBF0F8"
             },
             "line": {
              "color": "white"
             }
            },
            "header": {
             "fill": {
              "color": "#C8D4E3"
             },
             "line": {
              "color": "white"
             }
            },
            "type": "table"
           }
          ]
         },
         "layout": {
          "annotationdefaults": {
           "arrowcolor": "#2a3f5f",
           "arrowhead": 0,
           "arrowwidth": 1
          },
          "autotypenumbers": "strict",
          "coloraxis": {
           "colorbar": {
            "outlinewidth": 0,
            "ticks": ""
           }
          },
          "colorscale": {
           "diverging": [
            [
             0,
             "#8e0152"
            ],
            [
             0.1,
             "#c51b7d"
            ],
            [
             0.2,
             "#de77ae"
            ],
            [
             0.3,
             "#f1b6da"
            ],
            [
             0.4,
             "#fde0ef"
            ],
            [
             0.5,
             "#f7f7f7"
            ],
            [
             0.6,
             "#e6f5d0"
            ],
            [
             0.7,
             "#b8e186"
            ],
            [
             0.8,
             "#7fbc41"
            ],
            [
             0.9,
             "#4d9221"
            ],
            [
             1,
             "#276419"
            ]
           ],
           "sequential": [
            [
             0,
             "#0d0887"
            ],
            [
             0.1111111111111111,
             "#46039f"
            ],
            [
             0.2222222222222222,
             "#7201a8"
            ],
            [
             0.3333333333333333,
             "#9c179e"
            ],
            [
             0.4444444444444444,
             "#bd3786"
            ],
            [
             0.5555555555555556,
             "#d8576b"
            ],
            [
             0.6666666666666666,
             "#ed7953"
            ],
            [
             0.7777777777777778,
             "#fb9f3a"
            ],
            [
             0.8888888888888888,
             "#fdca26"
            ],
            [
             1,
             "#f0f921"
            ]
           ],
           "sequentialminus": [
            [
             0,
             "#0d0887"
            ],
            [
             0.1111111111111111,
             "#46039f"
            ],
            [
             0.2222222222222222,
             "#7201a8"
            ],
            [
             0.3333333333333333,
             "#9c179e"
            ],
            [
             0.4444444444444444,
             "#bd3786"
            ],
            [
             0.5555555555555556,
             "#d8576b"
            ],
            [
             0.6666666666666666,
             "#ed7953"
            ],
            [
             0.7777777777777778,
             "#fb9f3a"
            ],
            [
             0.8888888888888888,
             "#fdca26"
            ],
            [
             1,
             "#f0f921"
            ]
           ]
          },
          "colorway": [
           "#636efa",
           "#EF553B",
           "#00cc96",
           "#ab63fa",
           "#FFA15A",
           "#19d3f3",
           "#FF6692",
           "#B6E880",
           "#FF97FF",
           "#FECB52"
          ],
          "font": {
           "color": "#2a3f5f"
          },
          "geo": {
           "bgcolor": "white",
           "lakecolor": "white",
           "landcolor": "#E5ECF6",
           "showlakes": true,
           "showland": true,
           "subunitcolor": "white"
          },
          "hoverlabel": {
           "align": "left"
          },
          "hovermode": "closest",
          "mapbox": {
           "style": "light"
          },
          "paper_bgcolor": "white",
          "plot_bgcolor": "#E5ECF6",
          "polar": {
           "angularaxis": {
            "gridcolor": "white",
            "linecolor": "white",
            "ticks": ""
           },
           "bgcolor": "#E5ECF6",
           "radialaxis": {
            "gridcolor": "white",
            "linecolor": "white",
            "ticks": ""
           }
          },
          "scene": {
           "xaxis": {
            "backgroundcolor": "#E5ECF6",
            "gridcolor": "white",
            "gridwidth": 2,
            "linecolor": "white",
            "showbackground": true,
            "ticks": "",
            "zerolinecolor": "white"
           },
           "yaxis": {
            "backgroundcolor": "#E5ECF6",
            "gridcolor": "white",
            "gridwidth": 2,
            "linecolor": "white",
            "showbackground": true,
            "ticks": "",
            "zerolinecolor": "white"
           },
           "zaxis": {
            "backgroundcolor": "#E5ECF6",
            "gridcolor": "white",
            "gridwidth": 2,
            "linecolor": "white",
            "showbackground": true,
            "ticks": "",
            "zerolinecolor": "white"
           }
          },
          "shapedefaults": {
           "line": {
            "color": "#2a3f5f"
           }
          },
          "ternary": {
           "aaxis": {
            "gridcolor": "white",
            "linecolor": "white",
            "ticks": ""
           },
           "baxis": {
            "gridcolor": "white",
            "linecolor": "white",
            "ticks": ""
           },
           "bgcolor": "#E5ECF6",
           "caxis": {
            "gridcolor": "white",
            "linecolor": "white",
            "ticks": ""
           }
          },
          "title": {
           "x": 0.05
          },
          "xaxis": {
           "automargin": true,
           "gridcolor": "white",
           "linecolor": "white",
           "ticks": "",
           "title": {
            "standoff": 15
           },
           "zerolinecolor": "white",
           "zerolinewidth": 2
          },
          "yaxis": {
           "automargin": true,
           "gridcolor": "white",
           "linecolor": "white",
           "ticks": "",
           "title": {
            "standoff": 15
           },
           "zerolinecolor": "white",
           "zerolinewidth": 2
          }
         }
        },
        "title": {
         "text": "Spacecraft 1-6 Access, In Fov, and Connected"
        },
        "xaxis": {
         "anchor": "y",
         "domain": [
          0,
          1
         ],
         "type": "date"
        },
        "yaxis": {
         "anchor": "x",
         "categoryorder": "total ascending",
         "domain": [
          0,
          1
         ],
         "title": {
          "text": "antenna"
         }
        }
       }
      }
     },
     "metadata": {},
     "output_type": "display_data"
    },
    {
     "data": {
      "application/vnd.plotly.v1+json": {
       "config": {
        "plotlyServerURL": "https://plot.ly"
       },
       "data": [
        {
         "alignmentgroup": "True",
         "base": [
          "2024-10-31T05:19:30.000086+00:00",
          "2024-10-31T06:58:30.000086+00:00",
          "2024-10-31T08:41:50.000086+00:00",
          "2024-10-31T10:29:00.000086+00:00",
          "2024-10-31T00:35:50.000086+00:00",
          "2024-10-31T02:16:30.000086+00:00",
          "2024-10-31T03:57:30.000087+00:00",
          "2024-10-31T05:38:30.000086+00:00",
          "2024-10-31T07:19:10.000086+00:00",
          "2024-10-31T09:01:20.000086+00:00",
          "2024-10-31T02:33:50.000086+00:00",
          "2024-10-31T04:12:20.000087+00:00",
          "2024-10-31T05:54:20.000086+00:00",
          "2024-10-31T05:58:00.000086+00:00",
          "2024-10-31T07:36:50.000086+00:00",
          "2024-10-31T08:47:20.000086+00:00",
          "2024-10-31T10:23:20.000086+00:00",
          "2024-10-31T01:23:30.000086+00:00",
          "2024-10-31T03:06:00.000087+00:00",
          "2024-10-31T04:48:20.000086+00:00",
          "2024-10-31T06:29:20.000086+00:00",
          "2024-10-31T08:10:10.000086+00:00",
          "2024-10-31T09:52:30.000086+00:00",
          "2024-10-31T07:32:30.000086+00:00",
          "2024-10-31T09:10:40.000086+00:00",
          "2024-10-31T10:56:50.000086+00:00",
          "2024-10-31T06:54:00.000087+00:00",
          "2024-10-31T08:30:40.000086+00:00",
          "2024-10-31T10:13:50.000086+00:00",
          "2024-10-31T11:42:20.000087+00:00",
          "2024-10-31T05:02:30.000086+00:00",
          "2024-10-31T06:41:40.000086+00:00",
          "2024-10-31T11:51:30.000086+00:00"
         ],
         "hovertemplate": "type=access<br>start=%{base}<br>end=%{x}<br>antenna=%{y}<extra></extra>",
         "legendgroup": "access",
         "marker": {
          "color": "#636efa",
          "pattern": {
           "shape": ""
          }
         },
         "name": "access",
         "offsetgroup": "access",
         "orientation": "h",
         "showlegend": true,
         "textposition": "auto",
         "type": "bar",
         "x": [
          690000,
          830000.001,
          620000,
          140000,
          830000,
          830000,
          839999.999,
          830000,
          770000,
          410000,
          490000,
          819999.999,
          600000,
          610000,
          800000,
          320000,
          630000,
          810000,
          719999.999,
          720000,
          810000,
          800000,
          460000,
          520000,
          820000.001,
          120000,
          419999.999,
          820000,
          570000,
          809999.999,
          620000,
          810000.001,
          500000
         ],
         "xaxis": "x",
         "y": [
          "Mojave",
          "Mojave",
          "Mojave",
          "Mojave",
          "Dundee",
          "Dundee",
          "Dundee",
          "Dundee",
          "Dundee",
          "Dundee",
          "Dubai",
          "Dubai",
          "Dubai",
          "Mwulire",
          "Mwulire",
          "Utqiagvik",
          "Utqiagvik",
          "Awarua",
          "Awarua",
          "Awarua",
          "Awarua",
          "Awarua",
          "Awarua",
          "Sunyani",
          "Sunyani",
          "Sunyani",
          "Paumalu",
          "Paumalu",
          "Paumalu",
          "Harmon",
          "Tahiti",
          "Tahiti",
          "Chitose"
         ],
         "yaxis": "y"
        },
        {
         "alignmentgroup": "True",
         "base": [
          "2024-10-31T07:01:40.000087+00:00",
          "2024-10-31T00:39:00.000086+00:00",
          "2024-10-31T02:19:40.000086+00:00",
          "2024-10-31T04:00:50.000086+00:00",
          "2024-10-31T05:41:40.000086+00:00",
          "2024-10-31T05:44:40.000087+00:00",
          "2024-10-31T07:23:00.000087+00:00",
          "2024-10-31T04:15:40.000086+00:00",
          "2024-10-31T09:13:50.000086+00:00",
          "2024-10-31T08:33:50.000086+00:00",
          "2024-10-31T11:45:30.000086+00:00"
         ],
         "hovertemplate": "type=inFov<br>start=%{base}<br>end=%{x}<br>antenna=%{y}<extra></extra>",
         "legendgroup": "inFov",
         "marker": {
          "color": "#EF553B",
          "pattern": {
           "shape": ""
          }
         },
         "name": "inFov",
         "offsetgroup": "inFov",
         "orientation": "h",
         "showlegend": true,
         "textposition": "auto",
         "type": "bar",
         "x": [
          439999.999,
          440000,
          450000,
          440000.001,
          70000,
          269999.999,
          29999.999,
          440000.001,
          210000,
          440000.001,
          430000
         ],
         "xaxis": "x",
         "y": [
          "Mojave",
          "Dundee",
          "Dundee",
          "Dundee",
          "Dundee",
          "Dundee",
          "Dundee",
          "Dubai",
          "Sunyani",
          "Paumalu",
          "Harmon"
         ],
         "yaxis": "y"
        },
        {
         "alignmentgroup": "True",
         "base": [
          "2024-10-31T07:01:40.000087+00:00",
          "2024-10-31T00:39:00.000086+00:00",
          "2024-10-31T02:19:40.000086+00:00",
          "2024-10-31T04:00:50.000086+00:00",
          "2024-10-31T05:44:40.000087+00:00",
          "2024-10-31T04:15:40.000086+00:00",
          "2024-10-31T09:13:50.000086+00:00",
          "2024-10-31T08:33:50.000086+00:00",
          "2024-10-31T11:45:30.000086+00:00"
         ],
         "hovertemplate": "type=connected<br>start=%{base}<br>end=%{x}<br>antenna=%{y}<extra></extra>",
         "legendgroup": "connected",
         "marker": {
          "color": "#00cc96",
          "pattern": {
           "shape": ""
          }
         },
         "name": "connected",
         "offsetgroup": "connected",
         "orientation": "h",
         "showlegend": true,
         "textposition": "auto",
         "type": "bar",
         "x": [
          439999.999,
          440000,
          450000,
          440000.001,
          269999.999,
          440000.001,
          210000,
          440000.001,
          430000
         ],
         "xaxis": "x",
         "y": [
          "Mojave",
          "Dundee",
          "Dundee",
          "Dundee",
          "Dundee",
          "Dubai",
          "Sunyani",
          "Paumalu",
          "Harmon"
         ],
         "yaxis": "y"
        }
       ],
       "layout": {
        "barmode": "overlay",
        "legend": {
         "title": {
          "text": "type"
         },
         "tracegroupgap": 0
        },
        "margin": {
         "t": 60
        },
        "template": {
         "data": {
          "bar": [
           {
            "error_x": {
             "color": "#2a3f5f"
            },
            "error_y": {
             "color": "#2a3f5f"
            },
            "marker": {
             "line": {
              "color": "#E5ECF6",
              "width": 0.5
             },
             "pattern": {
              "fillmode": "overlay",
              "size": 10,
              "solidity": 0.2
             }
            },
            "type": "bar"
           }
          ],
          "barpolar": [
           {
            "marker": {
             "line": {
              "color": "#E5ECF6",
              "width": 0.5
             },
             "pattern": {
              "fillmode": "overlay",
              "size": 10,
              "solidity": 0.2
             }
            },
            "type": "barpolar"
           }
          ],
          "carpet": [
           {
            "aaxis": {
             "endlinecolor": "#2a3f5f",
             "gridcolor": "white",
             "linecolor": "white",
             "minorgridcolor": "white",
             "startlinecolor": "#2a3f5f"
            },
            "baxis": {
             "endlinecolor": "#2a3f5f",
             "gridcolor": "white",
             "linecolor": "white",
             "minorgridcolor": "white",
             "startlinecolor": "#2a3f5f"
            },
            "type": "carpet"
           }
          ],
          "choropleth": [
           {
            "colorbar": {
             "outlinewidth": 0,
             "ticks": ""
            },
            "type": "choropleth"
           }
          ],
          "contour": [
           {
            "colorbar": {
             "outlinewidth": 0,
             "ticks": ""
            },
            "colorscale": [
             [
              0,
              "#0d0887"
             ],
             [
              0.1111111111111111,
              "#46039f"
             ],
             [
              0.2222222222222222,
              "#7201a8"
             ],
             [
              0.3333333333333333,
              "#9c179e"
             ],
             [
              0.4444444444444444,
              "#bd3786"
             ],
             [
              0.5555555555555556,
              "#d8576b"
             ],
             [
              0.6666666666666666,
              "#ed7953"
             ],
             [
              0.7777777777777778,
              "#fb9f3a"
             ],
             [
              0.8888888888888888,
              "#fdca26"
             ],
             [
              1,
              "#f0f921"
             ]
            ],
            "type": "contour"
           }
          ],
          "contourcarpet": [
           {
            "colorbar": {
             "outlinewidth": 0,
             "ticks": ""
            },
            "type": "contourcarpet"
           }
          ],
          "heatmap": [
           {
            "colorbar": {
             "outlinewidth": 0,
             "ticks": ""
            },
            "colorscale": [
             [
              0,
              "#0d0887"
             ],
             [
              0.1111111111111111,
              "#46039f"
             ],
             [
              0.2222222222222222,
              "#7201a8"
             ],
             [
              0.3333333333333333,
              "#9c179e"
             ],
             [
              0.4444444444444444,
              "#bd3786"
             ],
             [
              0.5555555555555556,
              "#d8576b"
             ],
             [
              0.6666666666666666,
              "#ed7953"
             ],
             [
              0.7777777777777778,
              "#fb9f3a"
             ],
             [
              0.8888888888888888,
              "#fdca26"
             ],
             [
              1,
              "#f0f921"
             ]
            ],
            "type": "heatmap"
           }
          ],
          "heatmapgl": [
           {
            "colorbar": {
             "outlinewidth": 0,
             "ticks": ""
            },
            "colorscale": [
             [
              0,
              "#0d0887"
             ],
             [
              0.1111111111111111,
              "#46039f"
             ],
             [
              0.2222222222222222,
              "#7201a8"
             ],
             [
              0.3333333333333333,
              "#9c179e"
             ],
             [
              0.4444444444444444,
              "#bd3786"
             ],
             [
              0.5555555555555556,
              "#d8576b"
             ],
             [
              0.6666666666666666,
              "#ed7953"
             ],
             [
              0.7777777777777778,
              "#fb9f3a"
             ],
             [
              0.8888888888888888,
              "#fdca26"
             ],
             [
              1,
              "#f0f921"
             ]
            ],
            "type": "heatmapgl"
           }
          ],
          "histogram": [
           {
            "marker": {
             "pattern": {
              "fillmode": "overlay",
              "size": 10,
              "solidity": 0.2
             }
            },
            "type": "histogram"
           }
          ],
          "histogram2d": [
           {
            "colorbar": {
             "outlinewidth": 0,
             "ticks": ""
            },
            "colorscale": [
             [
              0,
              "#0d0887"
             ],
             [
              0.1111111111111111,
              "#46039f"
             ],
             [
              0.2222222222222222,
              "#7201a8"
             ],
             [
              0.3333333333333333,
              "#9c179e"
             ],
             [
              0.4444444444444444,
              "#bd3786"
             ],
             [
              0.5555555555555556,
              "#d8576b"
             ],
             [
              0.6666666666666666,
              "#ed7953"
             ],
             [
              0.7777777777777778,
              "#fb9f3a"
             ],
             [
              0.8888888888888888,
              "#fdca26"
             ],
             [
              1,
              "#f0f921"
             ]
            ],
            "type": "histogram2d"
           }
          ],
          "histogram2dcontour": [
           {
            "colorbar": {
             "outlinewidth": 0,
             "ticks": ""
            },
            "colorscale": [
             [
              0,
              "#0d0887"
             ],
             [
              0.1111111111111111,
              "#46039f"
             ],
             [
              0.2222222222222222,
              "#7201a8"
             ],
             [
              0.3333333333333333,
              "#9c179e"
             ],
             [
              0.4444444444444444,
              "#bd3786"
             ],
             [
              0.5555555555555556,
              "#d8576b"
             ],
             [
              0.6666666666666666,
              "#ed7953"
             ],
             [
              0.7777777777777778,
              "#fb9f3a"
             ],
             [
              0.8888888888888888,
              "#fdca26"
             ],
             [
              1,
              "#f0f921"
             ]
            ],
            "type": "histogram2dcontour"
           }
          ],
          "mesh3d": [
           {
            "colorbar": {
             "outlinewidth": 0,
             "ticks": ""
            },
            "type": "mesh3d"
           }
          ],
          "parcoords": [
           {
            "line": {
             "colorbar": {
              "outlinewidth": 0,
              "ticks": ""
             }
            },
            "type": "parcoords"
           }
          ],
          "pie": [
           {
            "automargin": true,
            "type": "pie"
           }
          ],
          "scatter": [
           {
            "fillpattern": {
             "fillmode": "overlay",
             "size": 10,
             "solidity": 0.2
            },
            "type": "scatter"
           }
          ],
          "scatter3d": [
           {
            "line": {
             "colorbar": {
              "outlinewidth": 0,
              "ticks": ""
             }
            },
            "marker": {
             "colorbar": {
              "outlinewidth": 0,
              "ticks": ""
             }
            },
            "type": "scatter3d"
           }
          ],
          "scattercarpet": [
           {
            "marker": {
             "colorbar": {
              "outlinewidth": 0,
              "ticks": ""
             }
            },
            "type": "scattercarpet"
           }
          ],
          "scattergeo": [
           {
            "marker": {
             "colorbar": {
              "outlinewidth": 0,
              "ticks": ""
             }
            },
            "type": "scattergeo"
           }
          ],
          "scattergl": [
           {
            "marker": {
             "colorbar": {
              "outlinewidth": 0,
              "ticks": ""
             }
            },
            "type": "scattergl"
           }
          ],
          "scattermapbox": [
           {
            "marker": {
             "colorbar": {
              "outlinewidth": 0,
              "ticks": ""
             }
            },
            "type": "scattermapbox"
           }
          ],
          "scatterpolar": [
           {
            "marker": {
             "colorbar": {
              "outlinewidth": 0,
              "ticks": ""
             }
            },
            "type": "scatterpolar"
           }
          ],
          "scatterpolargl": [
           {
            "marker": {
             "colorbar": {
              "outlinewidth": 0,
              "ticks": ""
             }
            },
            "type": "scatterpolargl"
           }
          ],
          "scatterternary": [
           {
            "marker": {
             "colorbar": {
              "outlinewidth": 0,
              "ticks": ""
             }
            },
            "type": "scatterternary"
           }
          ],
          "surface": [
           {
            "colorbar": {
             "outlinewidth": 0,
             "ticks": ""
            },
            "colorscale": [
             [
              0,
              "#0d0887"
             ],
             [
              0.1111111111111111,
              "#46039f"
             ],
             [
              0.2222222222222222,
              "#7201a8"
             ],
             [
              0.3333333333333333,
              "#9c179e"
             ],
             [
              0.4444444444444444,
              "#bd3786"
             ],
             [
              0.5555555555555556,
              "#d8576b"
             ],
             [
              0.6666666666666666,
              "#ed7953"
             ],
             [
              0.7777777777777778,
              "#fb9f3a"
             ],
             [
              0.8888888888888888,
              "#fdca26"
             ],
             [
              1,
              "#f0f921"
             ]
            ],
            "type": "surface"
           }
          ],
          "table": [
           {
            "cells": {
             "fill": {
              "color": "#EBF0F8"
             },
             "line": {
              "color": "white"
             }
            },
            "header": {
             "fill": {
              "color": "#C8D4E3"
             },
             "line": {
              "color": "white"
             }
            },
            "type": "table"
           }
          ]
         },
         "layout": {
          "annotationdefaults": {
           "arrowcolor": "#2a3f5f",
           "arrowhead": 0,
           "arrowwidth": 1
          },
          "autotypenumbers": "strict",
          "coloraxis": {
           "colorbar": {
            "outlinewidth": 0,
            "ticks": ""
           }
          },
          "colorscale": {
           "diverging": [
            [
             0,
             "#8e0152"
            ],
            [
             0.1,
             "#c51b7d"
            ],
            [
             0.2,
             "#de77ae"
            ],
            [
             0.3,
             "#f1b6da"
            ],
            [
             0.4,
             "#fde0ef"
            ],
            [
             0.5,
             "#f7f7f7"
            ],
            [
             0.6,
             "#e6f5d0"
            ],
            [
             0.7,
             "#b8e186"
            ],
            [
             0.8,
             "#7fbc41"
            ],
            [
             0.9,
             "#4d9221"
            ],
            [
             1,
             "#276419"
            ]
           ],
           "sequential": [
            [
             0,
             "#0d0887"
            ],
            [
             0.1111111111111111,
             "#46039f"
            ],
            [
             0.2222222222222222,
             "#7201a8"
            ],
            [
             0.3333333333333333,
             "#9c179e"
            ],
            [
             0.4444444444444444,
             "#bd3786"
            ],
            [
             0.5555555555555556,
             "#d8576b"
            ],
            [
             0.6666666666666666,
             "#ed7953"
            ],
            [
             0.7777777777777778,
             "#fb9f3a"
            ],
            [
             0.8888888888888888,
             "#fdca26"
            ],
            [
             1,
             "#f0f921"
            ]
           ],
           "sequentialminus": [
            [
             0,
             "#0d0887"
            ],
            [
             0.1111111111111111,
             "#46039f"
            ],
            [
             0.2222222222222222,
             "#7201a8"
            ],
            [
             0.3333333333333333,
             "#9c179e"
            ],
            [
             0.4444444444444444,
             "#bd3786"
            ],
            [
             0.5555555555555556,
             "#d8576b"
            ],
            [
             0.6666666666666666,
             "#ed7953"
            ],
            [
             0.7777777777777778,
             "#fb9f3a"
            ],
            [
             0.8888888888888888,
             "#fdca26"
            ],
            [
             1,
             "#f0f921"
            ]
           ]
          },
          "colorway": [
           "#636efa",
           "#EF553B",
           "#00cc96",
           "#ab63fa",
           "#FFA15A",
           "#19d3f3",
           "#FF6692",
           "#B6E880",
           "#FF97FF",
           "#FECB52"
          ],
          "font": {
           "color": "#2a3f5f"
          },
          "geo": {
           "bgcolor": "white",
           "lakecolor": "white",
           "landcolor": "#E5ECF6",
           "showlakes": true,
           "showland": true,
           "subunitcolor": "white"
          },
          "hoverlabel": {
           "align": "left"
          },
          "hovermode": "closest",
          "mapbox": {
           "style": "light"
          },
          "paper_bgcolor": "white",
          "plot_bgcolor": "#E5ECF6",
          "polar": {
           "angularaxis": {
            "gridcolor": "white",
            "linecolor": "white",
            "ticks": ""
           },
           "bgcolor": "#E5ECF6",
           "radialaxis": {
            "gridcolor": "white",
            "linecolor": "white",
            "ticks": ""
           }
          },
          "scene": {
           "xaxis": {
            "backgroundcolor": "#E5ECF6",
            "gridcolor": "white",
            "gridwidth": 2,
            "linecolor": "white",
            "showbackground": true,
            "ticks": "",
            "zerolinecolor": "white"
           },
           "yaxis": {
            "backgroundcolor": "#E5ECF6",
            "gridcolor": "white",
            "gridwidth": 2,
            "linecolor": "white",
            "showbackground": true,
            "ticks": "",
            "zerolinecolor": "white"
           },
           "zaxis": {
            "backgroundcolor": "#E5ECF6",
            "gridcolor": "white",
            "gridwidth": 2,
            "linecolor": "white",
            "showbackground": true,
            "ticks": "",
            "zerolinecolor": "white"
           }
          },
          "shapedefaults": {
           "line": {
            "color": "#2a3f5f"
           }
          },
          "ternary": {
           "aaxis": {
            "gridcolor": "white",
            "linecolor": "white",
            "ticks": ""
           },
           "baxis": {
            "gridcolor": "white",
            "linecolor": "white",
            "ticks": ""
           },
           "bgcolor": "#E5ECF6",
           "caxis": {
            "gridcolor": "white",
            "linecolor": "white",
            "ticks": ""
           }
          },
          "title": {
           "x": 0.05
          },
          "xaxis": {
           "automargin": true,
           "gridcolor": "white",
           "linecolor": "white",
           "ticks": "",
           "title": {
            "standoff": 15
           },
           "zerolinecolor": "white",
           "zerolinewidth": 2
          },
          "yaxis": {
           "automargin": true,
           "gridcolor": "white",
           "linecolor": "white",
           "ticks": "",
           "title": {
            "standoff": 15
           },
           "zerolinecolor": "white",
           "zerolinewidth": 2
          }
         }
        },
        "title": {
         "text": "Spacecraft 1-7 Access, In Fov, and Connected"
        },
        "xaxis": {
         "anchor": "y",
         "domain": [
          0,
          1
         ],
         "type": "date"
        },
        "yaxis": {
         "anchor": "x",
         "categoryorder": "total ascending",
         "domain": [
          0,
          1
         ],
         "title": {
          "text": "antenna"
         }
        }
       }
      }
     },
     "metadata": {},
     "output_type": "display_data"
    },
    {
     "data": {
      "application/vnd.plotly.v1+json": {
       "config": {
        "plotlyServerURL": "https://plot.ly"
       },
       "data": [
        {
         "alignmentgroup": "True",
         "base": [
          "2024-10-31T05:07:10.000086+00:00",
          "2024-10-31T06:45:20.000086+00:00",
          "2024-10-31T08:28:00.000086+00:00",
          "2024-10-31T10:14:30.000086+00:00",
          "2024-10-31T11:58:00.000086+00:00",
          "2024-10-31T00:23:20.000086+00:00",
          "2024-10-31T02:03:40.000086+00:00",
          "2024-10-31T03:44:40.000086+00:00",
          "2024-10-31T05:25:20.000086+00:00",
          "2024-10-31T07:06:00.000086+00:00",
          "2024-10-31T08:47:30.000086+00:00",
          "2024-10-31T02:21:50.000086+00:00",
          "2024-10-31T03:59:30.000086+00:00",
          "2024-10-31T05:40:50.000086+00:00",
          "2024-10-31T05:45:50.000087+00:00",
          "2024-10-31T07:23:30.000086+00:00",
          "2024-10-31T09:09:30.000086+00:00",
          "2024-10-31T08:35:20.000086+00:00",
          "2024-10-31T10:10:20.000086+00:00",
          "2024-10-31T11:48:20.000086+00:00",
          "2024-10-31T01:10:40.000086+00:00",
          "2024-10-31T02:52:50.000086+00:00",
          "2024-10-31T04:35:10.000086+00:00",
          "2024-10-31T06:16:10.000086+00:00",
          "2024-10-31T07:56:40.000086+00:00",
          "2024-10-31T09:38:30.000086+00:00",
          "2024-10-31T07:20:20.000086+00:00",
          "2024-10-31T08:57:20.000086+00:00",
          "2024-10-31T10:40:50.000086+00:00",
          "2024-10-31T06:43:20.000087+00:00",
          "2024-10-31T08:17:30.000086+00:00",
          "2024-10-31T09:59:40.000086+00:00",
          "2024-10-31T00:57:40.000086+00:00",
          "2024-10-31T11:29:00.000086+00:00",
          "2024-10-31T04:50:10.000086+00:00",
          "2024-10-31T06:28:30.000087+00:00",
          "2024-10-31T08:12:10.000086+00:00",
          "2024-10-31T11:39:00.000086+00:00"
         ],
         "hovertemplate": "type=access<br>start=%{base}<br>end=%{x}<br>antenna=%{y}<extra></extra>",
         "legendgroup": "access",
         "marker": {
          "color": "#636efa",
          "pattern": {
           "shape": ""
          }
         },
         "name": "access",
         "offsetgroup": "access",
         "orientation": "h",
         "showlegend": true,
         "textposition": "auto",
         "type": "bar",
         "x": [
          610000,
          820000,
          650000,
          200000,
          110000,
          810000,
          830000,
          820000,
          830000,
          770000.001,
          490000,
          360000,
          800000,
          660000,
          500000,
          810000,
          150000,
          180000,
          590000,
          690000,
          820000,
          740000,
          710000,
          800000,
          820000.001,
          540000,
          370000.001,
          810000,
          410000,
          119999.999,
          810000,
          630000,
          240000.001,
          780000,
          520000,
          819999.999,
          370000,
          450000.001
         ],
         "xaxis": "x",
         "y": [
          "Mojave",
          "Mojave",
          "Mojave",
          "Mojave",
          "Mojave",
          "Dundee",
          "Dundee",
          "Dundee",
          "Dundee",
          "Dundee",
          "Dundee",
          "Dubai",
          "Dubai",
          "Dubai",
          "Mwulire",
          "Mwulire",
          "Mwulire",
          "Utqiagvik",
          "Utqiagvik",
          "Utqiagvik",
          "Awarua",
          "Awarua",
          "Awarua",
          "Awarua",
          "Awarua",
          "Awarua",
          "Sunyani",
          "Sunyani",
          "Sunyani",
          "Paumalu",
          "Paumalu",
          "Paumalu",
          "Harmon",
          "Harmon",
          "Tahiti",
          "Tahiti",
          "Tahiti",
          "Chitose"
         ],
         "yaxis": "y"
        },
        {
         "alignmentgroup": "True",
         "base": [
          "2024-10-31T06:48:30.000086+00:00",
          "2024-10-31T00:27:30.000086+00:00",
          "2024-10-31T02:06:50.000086+00:00",
          "2024-10-31T03:47:50.000086+00:00",
          "2024-10-31T05:28:30.000086+00:00",
          "2024-10-31T07:09:30.000086+00:00",
          "2024-10-31T04:02:50.000087+00:00",
          "2024-10-31T01:14:00.000086+00:00",
          "2024-10-31T09:00:20.000086+00:00",
          "2024-10-31T08:20:30.000086+00:00",
          "2024-10-31T11:32:10.000086+00:00"
         ],
         "hovertemplate": "type=inFov<br>start=%{base}<br>end=%{x}<br>antenna=%{y}<extra></extra>",
         "legendgroup": "inFov",
         "marker": {
          "color": "#EF553B",
          "pattern": {
           "shape": ""
          }
         },
         "name": "inFov",
         "offsetgroup": "inFov",
         "orientation": "h",
         "showlegend": true,
         "textposition": "auto",
         "type": "bar",
         "x": [
          440000,
          370000,
          450000,
          440000.001,
          450000,
          40000,
          409999.999,
          420000,
          450000,
          440000,
          390000
         ],
         "xaxis": "x",
         "y": [
          "Mojave",
          "Dundee",
          "Dundee",
          "Dundee",
          "Dundee",
          "Dundee",
          "Dubai",
          "Awarua",
          "Sunyani",
          "Paumalu",
          "Harmon"
         ],
         "yaxis": "y"
        },
        {
         "alignmentgroup": "True",
         "base": [
          "2024-10-31T06:48:30.000086+00:00",
          "2024-10-31T00:27:30.000086+00:00",
          "2024-10-31T02:06:50.000086+00:00",
          "2024-10-31T03:47:50.000086+00:00",
          "2024-10-31T05:28:30.000086+00:00",
          "2024-10-31T04:02:50.000087+00:00",
          "2024-10-31T01:14:00.000086+00:00",
          "2024-10-31T09:00:20.000086+00:00",
          "2024-10-31T08:20:30.000086+00:00",
          "2024-10-31T11:32:10.000086+00:00"
         ],
         "hovertemplate": "type=connected<br>start=%{base}<br>end=%{x}<br>antenna=%{y}<extra></extra>",
         "legendgroup": "connected",
         "marker": {
          "color": "#00cc96",
          "pattern": {
           "shape": ""
          }
         },
         "name": "connected",
         "offsetgroup": "connected",
         "orientation": "h",
         "showlegend": true,
         "textposition": "auto",
         "type": "bar",
         "x": [
          440000,
          370000,
          450000,
          440000.001,
          450000,
          409999.999,
          420000,
          450000,
          440000,
          390000
         ],
         "xaxis": "x",
         "y": [
          "Mojave",
          "Dundee",
          "Dundee",
          "Dundee",
          "Dundee",
          "Dubai",
          "Awarua",
          "Sunyani",
          "Paumalu",
          "Harmon"
         ],
         "yaxis": "y"
        }
       ],
       "layout": {
        "barmode": "overlay",
        "legend": {
         "title": {
          "text": "type"
         },
         "tracegroupgap": 0
        },
        "margin": {
         "t": 60
        },
        "template": {
         "data": {
          "bar": [
           {
            "error_x": {
             "color": "#2a3f5f"
            },
            "error_y": {
             "color": "#2a3f5f"
            },
            "marker": {
             "line": {
              "color": "#E5ECF6",
              "width": 0.5
             },
             "pattern": {
              "fillmode": "overlay",
              "size": 10,
              "solidity": 0.2
             }
            },
            "type": "bar"
           }
          ],
          "barpolar": [
           {
            "marker": {
             "line": {
              "color": "#E5ECF6",
              "width": 0.5
             },
             "pattern": {
              "fillmode": "overlay",
              "size": 10,
              "solidity": 0.2
             }
            },
            "type": "barpolar"
           }
          ],
          "carpet": [
           {
            "aaxis": {
             "endlinecolor": "#2a3f5f",
             "gridcolor": "white",
             "linecolor": "white",
             "minorgridcolor": "white",
             "startlinecolor": "#2a3f5f"
            },
            "baxis": {
             "endlinecolor": "#2a3f5f",
             "gridcolor": "white",
             "linecolor": "white",
             "minorgridcolor": "white",
             "startlinecolor": "#2a3f5f"
            },
            "type": "carpet"
           }
          ],
          "choropleth": [
           {
            "colorbar": {
             "outlinewidth": 0,
             "ticks": ""
            },
            "type": "choropleth"
           }
          ],
          "contour": [
           {
            "colorbar": {
             "outlinewidth": 0,
             "ticks": ""
            },
            "colorscale": [
             [
              0,
              "#0d0887"
             ],
             [
              0.1111111111111111,
              "#46039f"
             ],
             [
              0.2222222222222222,
              "#7201a8"
             ],
             [
              0.3333333333333333,
              "#9c179e"
             ],
             [
              0.4444444444444444,
              "#bd3786"
             ],
             [
              0.5555555555555556,
              "#d8576b"
             ],
             [
              0.6666666666666666,
              "#ed7953"
             ],
             [
              0.7777777777777778,
              "#fb9f3a"
             ],
             [
              0.8888888888888888,
              "#fdca26"
             ],
             [
              1,
              "#f0f921"
             ]
            ],
            "type": "contour"
           }
          ],
          "contourcarpet": [
           {
            "colorbar": {
             "outlinewidth": 0,
             "ticks": ""
            },
            "type": "contourcarpet"
           }
          ],
          "heatmap": [
           {
            "colorbar": {
             "outlinewidth": 0,
             "ticks": ""
            },
            "colorscale": [
             [
              0,
              "#0d0887"
             ],
             [
              0.1111111111111111,
              "#46039f"
             ],
             [
              0.2222222222222222,
              "#7201a8"
             ],
             [
              0.3333333333333333,
              "#9c179e"
             ],
             [
              0.4444444444444444,
              "#bd3786"
             ],
             [
              0.5555555555555556,
              "#d8576b"
             ],
             [
              0.6666666666666666,
              "#ed7953"
             ],
             [
              0.7777777777777778,
              "#fb9f3a"
             ],
             [
              0.8888888888888888,
              "#fdca26"
             ],
             [
              1,
              "#f0f921"
             ]
            ],
            "type": "heatmap"
           }
          ],
          "heatmapgl": [
           {
            "colorbar": {
             "outlinewidth": 0,
             "ticks": ""
            },
            "colorscale": [
             [
              0,
              "#0d0887"
             ],
             [
              0.1111111111111111,
              "#46039f"
             ],
             [
              0.2222222222222222,
              "#7201a8"
             ],
             [
              0.3333333333333333,
              "#9c179e"
             ],
             [
              0.4444444444444444,
              "#bd3786"
             ],
             [
              0.5555555555555556,
              "#d8576b"
             ],
             [
              0.6666666666666666,
              "#ed7953"
             ],
             [
              0.7777777777777778,
              "#fb9f3a"
             ],
             [
              0.8888888888888888,
              "#fdca26"
             ],
             [
              1,
              "#f0f921"
             ]
            ],
            "type": "heatmapgl"
           }
          ],
          "histogram": [
           {
            "marker": {
             "pattern": {
              "fillmode": "overlay",
              "size": 10,
              "solidity": 0.2
             }
            },
            "type": "histogram"
           }
          ],
          "histogram2d": [
           {
            "colorbar": {
             "outlinewidth": 0,
             "ticks": ""
            },
            "colorscale": [
             [
              0,
              "#0d0887"
             ],
             [
              0.1111111111111111,
              "#46039f"
             ],
             [
              0.2222222222222222,
              "#7201a8"
             ],
             [
              0.3333333333333333,
              "#9c179e"
             ],
             [
              0.4444444444444444,
              "#bd3786"
             ],
             [
              0.5555555555555556,
              "#d8576b"
             ],
             [
              0.6666666666666666,
              "#ed7953"
             ],
             [
              0.7777777777777778,
              "#fb9f3a"
             ],
             [
              0.8888888888888888,
              "#fdca26"
             ],
             [
              1,
              "#f0f921"
             ]
            ],
            "type": "histogram2d"
           }
          ],
          "histogram2dcontour": [
           {
            "colorbar": {
             "outlinewidth": 0,
             "ticks": ""
            },
            "colorscale": [
             [
              0,
              "#0d0887"
             ],
             [
              0.1111111111111111,
              "#46039f"
             ],
             [
              0.2222222222222222,
              "#7201a8"
             ],
             [
              0.3333333333333333,
              "#9c179e"
             ],
             [
              0.4444444444444444,
              "#bd3786"
             ],
             [
              0.5555555555555556,
              "#d8576b"
             ],
             [
              0.6666666666666666,
              "#ed7953"
             ],
             [
              0.7777777777777778,
              "#fb9f3a"
             ],
             [
              0.8888888888888888,
              "#fdca26"
             ],
             [
              1,
              "#f0f921"
             ]
            ],
            "type": "histogram2dcontour"
           }
          ],
          "mesh3d": [
           {
            "colorbar": {
             "outlinewidth": 0,
             "ticks": ""
            },
            "type": "mesh3d"
           }
          ],
          "parcoords": [
           {
            "line": {
             "colorbar": {
              "outlinewidth": 0,
              "ticks": ""
             }
            },
            "type": "parcoords"
           }
          ],
          "pie": [
           {
            "automargin": true,
            "type": "pie"
           }
          ],
          "scatter": [
           {
            "fillpattern": {
             "fillmode": "overlay",
             "size": 10,
             "solidity": 0.2
            },
            "type": "scatter"
           }
          ],
          "scatter3d": [
           {
            "line": {
             "colorbar": {
              "outlinewidth": 0,
              "ticks": ""
             }
            },
            "marker": {
             "colorbar": {
              "outlinewidth": 0,
              "ticks": ""
             }
            },
            "type": "scatter3d"
           }
          ],
          "scattercarpet": [
           {
            "marker": {
             "colorbar": {
              "outlinewidth": 0,
              "ticks": ""
             }
            },
            "type": "scattercarpet"
           }
          ],
          "scattergeo": [
           {
            "marker": {
             "colorbar": {
              "outlinewidth": 0,
              "ticks": ""
             }
            },
            "type": "scattergeo"
           }
          ],
          "scattergl": [
           {
            "marker": {
             "colorbar": {
              "outlinewidth": 0,
              "ticks": ""
             }
            },
            "type": "scattergl"
           }
          ],
          "scattermapbox": [
           {
            "marker": {
             "colorbar": {
              "outlinewidth": 0,
              "ticks": ""
             }
            },
            "type": "scattermapbox"
           }
          ],
          "scatterpolar": [
           {
            "marker": {
             "colorbar": {
              "outlinewidth": 0,
              "ticks": ""
             }
            },
            "type": "scatterpolar"
           }
          ],
          "scatterpolargl": [
           {
            "marker": {
             "colorbar": {
              "outlinewidth": 0,
              "ticks": ""
             }
            },
            "type": "scatterpolargl"
           }
          ],
          "scatterternary": [
           {
            "marker": {
             "colorbar": {
              "outlinewidth": 0,
              "ticks": ""
             }
            },
            "type": "scatterternary"
           }
          ],
          "surface": [
           {
            "colorbar": {
             "outlinewidth": 0,
             "ticks": ""
            },
            "colorscale": [
             [
              0,
              "#0d0887"
             ],
             [
              0.1111111111111111,
              "#46039f"
             ],
             [
              0.2222222222222222,
              "#7201a8"
             ],
             [
              0.3333333333333333,
              "#9c179e"
             ],
             [
              0.4444444444444444,
              "#bd3786"
             ],
             [
              0.5555555555555556,
              "#d8576b"
             ],
             [
              0.6666666666666666,
              "#ed7953"
             ],
             [
              0.7777777777777778,
              "#fb9f3a"
             ],
             [
              0.8888888888888888,
              "#fdca26"
             ],
             [
              1,
              "#f0f921"
             ]
            ],
            "type": "surface"
           }
          ],
          "table": [
           {
            "cells": {
             "fill": {
              "color": "#EBF0F8"
             },
             "line": {
              "color": "white"
             }
            },
            "header": {
             "fill": {
              "color": "#C8D4E3"
             },
             "line": {
              "color": "white"
             }
            },
            "type": "table"
           }
          ]
         },
         "layout": {
          "annotationdefaults": {
           "arrowcolor": "#2a3f5f",
           "arrowhead": 0,
           "arrowwidth": 1
          },
          "autotypenumbers": "strict",
          "coloraxis": {
           "colorbar": {
            "outlinewidth": 0,
            "ticks": ""
           }
          },
          "colorscale": {
           "diverging": [
            [
             0,
             "#8e0152"
            ],
            [
             0.1,
             "#c51b7d"
            ],
            [
             0.2,
             "#de77ae"
            ],
            [
             0.3,
             "#f1b6da"
            ],
            [
             0.4,
             "#fde0ef"
            ],
            [
             0.5,
             "#f7f7f7"
            ],
            [
             0.6,
             "#e6f5d0"
            ],
            [
             0.7,
             "#b8e186"
            ],
            [
             0.8,
             "#7fbc41"
            ],
            [
             0.9,
             "#4d9221"
            ],
            [
             1,
             "#276419"
            ]
           ],
           "sequential": [
            [
             0,
             "#0d0887"
            ],
            [
             0.1111111111111111,
             "#46039f"
            ],
            [
             0.2222222222222222,
             "#7201a8"
            ],
            [
             0.3333333333333333,
             "#9c179e"
            ],
            [
             0.4444444444444444,
             "#bd3786"
            ],
            [
             0.5555555555555556,
             "#d8576b"
            ],
            [
             0.6666666666666666,
             "#ed7953"
            ],
            [
             0.7777777777777778,
             "#fb9f3a"
            ],
            [
             0.8888888888888888,
             "#fdca26"
            ],
            [
             1,
             "#f0f921"
            ]
           ],
           "sequentialminus": [
            [
             0,
             "#0d0887"
            ],
            [
             0.1111111111111111,
             "#46039f"
            ],
            [
             0.2222222222222222,
             "#7201a8"
            ],
            [
             0.3333333333333333,
             "#9c179e"
            ],
            [
             0.4444444444444444,
             "#bd3786"
            ],
            [
             0.5555555555555556,
             "#d8576b"
            ],
            [
             0.6666666666666666,
             "#ed7953"
            ],
            [
             0.7777777777777778,
             "#fb9f3a"
            ],
            [
             0.8888888888888888,
             "#fdca26"
            ],
            [
             1,
             "#f0f921"
            ]
           ]
          },
          "colorway": [
           "#636efa",
           "#EF553B",
           "#00cc96",
           "#ab63fa",
           "#FFA15A",
           "#19d3f3",
           "#FF6692",
           "#B6E880",
           "#FF97FF",
           "#FECB52"
          ],
          "font": {
           "color": "#2a3f5f"
          },
          "geo": {
           "bgcolor": "white",
           "lakecolor": "white",
           "landcolor": "#E5ECF6",
           "showlakes": true,
           "showland": true,
           "subunitcolor": "white"
          },
          "hoverlabel": {
           "align": "left"
          },
          "hovermode": "closest",
          "mapbox": {
           "style": "light"
          },
          "paper_bgcolor": "white",
          "plot_bgcolor": "#E5ECF6",
          "polar": {
           "angularaxis": {
            "gridcolor": "white",
            "linecolor": "white",
            "ticks": ""
           },
           "bgcolor": "#E5ECF6",
           "radialaxis": {
            "gridcolor": "white",
            "linecolor": "white",
            "ticks": ""
           }
          },
          "scene": {
           "xaxis": {
            "backgroundcolor": "#E5ECF6",
            "gridcolor": "white",
            "gridwidth": 2,
            "linecolor": "white",
            "showbackground": true,
            "ticks": "",
            "zerolinecolor": "white"
           },
           "yaxis": {
            "backgroundcolor": "#E5ECF6",
            "gridcolor": "white",
            "gridwidth": 2,
            "linecolor": "white",
            "showbackground": true,
            "ticks": "",
            "zerolinecolor": "white"
           },
           "zaxis": {
            "backgroundcolor": "#E5ECF6",
            "gridcolor": "white",
            "gridwidth": 2,
            "linecolor": "white",
            "showbackground": true,
            "ticks": "",
            "zerolinecolor": "white"
           }
          },
          "shapedefaults": {
           "line": {
            "color": "#2a3f5f"
           }
          },
          "ternary": {
           "aaxis": {
            "gridcolor": "white",
            "linecolor": "white",
            "ticks": ""
           },
           "baxis": {
            "gridcolor": "white",
            "linecolor": "white",
            "ticks": ""
           },
           "bgcolor": "#E5ECF6",
           "caxis": {
            "gridcolor": "white",
            "linecolor": "white",
            "ticks": ""
           }
          },
          "title": {
           "x": 0.05
          },
          "xaxis": {
           "automargin": true,
           "gridcolor": "white",
           "linecolor": "white",
           "ticks": "",
           "title": {
            "standoff": 15
           },
           "zerolinecolor": "white",
           "zerolinewidth": 2
          },
          "yaxis": {
           "automargin": true,
           "gridcolor": "white",
           "linecolor": "white",
           "ticks": "",
           "title": {
            "standoff": 15
           },
           "zerolinecolor": "white",
           "zerolinewidth": 2
          }
         }
        },
        "title": {
         "text": "Spacecraft 1-8 Access, In Fov, and Connected"
        },
        "xaxis": {
         "anchor": "y",
         "domain": [
          0,
          1
         ],
         "type": "date"
        },
        "yaxis": {
         "anchor": "x",
         "categoryorder": "total ascending",
         "domain": [
          0,
          1
         ],
         "title": {
          "text": "antenna"
         }
        }
       }
      }
     },
     "metadata": {},
     "output_type": "display_data"
    },
    {
     "data": {
      "application/vnd.plotly.v1+json": {
       "config": {
        "plotlyServerURL": "https://plot.ly"
       },
       "data": [
        {
         "alignmentgroup": "True",
         "base": [
          "2024-10-31T00:20:20.000086+00:00",
          "2024-10-31T06:26:50.000086+00:00",
          "2024-10-31T08:04:40.000086+00:00",
          "2024-10-31T09:44:40.000086+00:00",
          "2024-10-31T11:25:40.000086+00:00",
          "2024-10-31T01:25:20.000087+00:00",
          "2024-10-31T03:04:30.000086+00:00",
          "2024-10-31T04:49:40.000086+00:00",
          "2024-10-31T10:04:00.000087+00:00",
          "2024-10-31T11:40:40.000086+00:00",
          "2024-10-31T02:54:30.000086+00:00",
          "2024-10-31T04:37:20.000086+00:00",
          "2024-10-31T00:09:40.000086+00:00",
          "2024-10-31T01:50:00.000086+00:00",
          "2024-10-31T07:12:00.000086+00:00",
          "2024-10-31T08:51:40.000086+00:00",
          "2024-10-31T10:33:40.000087+00:00",
          "2024-10-31T04:34:10.000086+00:00",
          "2024-10-31T06:13:30.000086+00:00",
          "2024-10-31T01:58:40.000086+00:00",
          "2024-10-31T03:39:00.000086+00:00",
          "2024-10-31T05:16:30.000086+00:00",
          "2024-10-31T06:53:50.000086+00:00",
          "2024-10-31T08:37:00.000087+00:00",
          "2024-10-31T02:13:20.000087+00:00",
          "2024-10-31T03:49:30.000086+00:00",
          "2024-10-31T05:32:30.000086+00:00",
          "2024-10-31T00:00:50.000086+00:00",
          "2024-10-31T01:44:00.000086+00:00",
          "2024-10-31T03:25:40.000086+00:00",
          "2024-10-31T05:06:10.000087+00:00",
          "2024-10-31T06:47:00.000086+00:00"
         ],
         "hovertemplate": "type=access<br>start=%{base}<br>end=%{x}<br>antenna=%{y}<extra></extra>",
         "legendgroup": "access",
         "marker": {
          "color": "#636efa",
          "pattern": {
           "shape": ""
          }
         },
         "name": "access",
         "offsetgroup": "access",
         "orientation": "h",
         "showlegend": true,
         "textposition": "auto",
         "type": "bar",
         "x": [
          770000,
          600000,
          790000,
          830000,
          820000.001,
          669999.999,
          800000.001,
          350000.001,
          180000,
          790000,
          810000,
          510000,
          670000.001,
          480000,
          760000,
          820000,
          739999.999,
          670000,
          780000,
          760000,
          760000,
          410000.001,
          820000,
          449999.999,
          359999.999,
          810000,
          540000,
          710000,
          610000,
          700000,
          820000,
          740000
         ],
         "xaxis": "x",
         "y": [
          "Mojave",
          "Dundee",
          "Dundee",
          "Dundee",
          "Dundee",
          "Dubai",
          "Dubai",
          "Dubai",
          "Dubai",
          "Dubai",
          "Mwulire",
          "Mwulire",
          "Utqiagvik",
          "Utqiagvik",
          "Awarua",
          "Awarua",
          "Awarua",
          "Sunyani",
          "Sunyani",
          "Paumalu",
          "Paumalu",
          "Harmon",
          "Harmon",
          "Harmon",
          "Tahiti",
          "Tahiti",
          "Tahiti",
          "Chitose",
          "Chitose",
          "Chitose",
          "Chitose",
          "Chitose"
         ],
         "yaxis": "y"
        },
        {
         "alignmentgroup": "True",
         "base": [
          "2024-10-31T09:47:50.000086+00:00",
          "2024-10-31T11:28:50.000086+00:00",
          "2024-10-31T11:47:50.000086+00:00",
          "2024-10-31T06:21:00.000086+00:00",
          "2024-10-31T03:42:50.000086+00:00",
          "2024-10-31T07:03:30.000086+00:00",
          "2024-10-31T00:05:50.000086+00:00",
          "2024-10-31T05:09:30.000086+00:00",
          "2024-10-31T06:51:00.000087+00:00"
         ],
         "hovertemplate": "type=inFov<br>start=%{base}<br>end=%{x}<br>antenna=%{y}<extra></extra>",
         "legendgroup": "inFov",
         "marker": {
          "color": "#EF553B",
          "pattern": {
           "shape": ""
          }
         },
         "name": "inFov",
         "offsetgroup": "inFov",
         "orientation": "h",
         "showlegend": true,
         "textposition": "auto",
         "type": "bar",
         "x": [
          450000,
          30000,
          150000,
          120000,
          310000.001,
          60000,
          100000,
          430000,
          269999.999
         ],
         "xaxis": "x",
         "y": [
          "Dundee",
          "Dundee",
          "Dubai",
          "Sunyani",
          "Paumalu",
          "Harmon",
          "Chitose",
          "Chitose",
          "Chitose"
         ],
         "yaxis": "y"
        },
        {
         "alignmentgroup": "True",
         "base": [
          "2024-10-31T09:47:50.000086+00:00",
          "2024-10-31T11:28:50.000086+00:00",
          "2024-10-31T11:48:20.000086+00:00",
          "2024-10-31T06:21:00.000086+00:00",
          "2024-10-31T03:42:50.000086+00:00",
          "2024-10-31T07:03:30.000086+00:00",
          "2024-10-31T00:05:50.000086+00:00",
          "2024-10-31T05:09:30.000086+00:00",
          "2024-10-31T06:51:00.000087+00:00"
         ],
         "hovertemplate": "type=connected<br>start=%{base}<br>end=%{x}<br>antenna=%{y}<extra></extra>",
         "legendgroup": "connected",
         "marker": {
          "color": "#00cc96",
          "pattern": {
           "shape": ""
          }
         },
         "name": "connected",
         "offsetgroup": "connected",
         "orientation": "h",
         "showlegend": true,
         "textposition": "auto",
         "type": "bar",
         "x": [
          450000,
          30000,
          120000,
          120000,
          310000.001,
          60000,
          100000,
          430000,
          269999.999
         ],
         "xaxis": "x",
         "y": [
          "Dundee",
          "Dundee",
          "Dubai",
          "Sunyani",
          "Paumalu",
          "Harmon",
          "Chitose",
          "Chitose",
          "Chitose"
         ],
         "yaxis": "y"
        }
       ],
       "layout": {
        "barmode": "overlay",
        "legend": {
         "title": {
          "text": "type"
         },
         "tracegroupgap": 0
        },
        "margin": {
         "t": 60
        },
        "template": {
         "data": {
          "bar": [
           {
            "error_x": {
             "color": "#2a3f5f"
            },
            "error_y": {
             "color": "#2a3f5f"
            },
            "marker": {
             "line": {
              "color": "#E5ECF6",
              "width": 0.5
             },
             "pattern": {
              "fillmode": "overlay",
              "size": 10,
              "solidity": 0.2
             }
            },
            "type": "bar"
           }
          ],
          "barpolar": [
           {
            "marker": {
             "line": {
              "color": "#E5ECF6",
              "width": 0.5
             },
             "pattern": {
              "fillmode": "overlay",
              "size": 10,
              "solidity": 0.2
             }
            },
            "type": "barpolar"
           }
          ],
          "carpet": [
           {
            "aaxis": {
             "endlinecolor": "#2a3f5f",
             "gridcolor": "white",
             "linecolor": "white",
             "minorgridcolor": "white",
             "startlinecolor": "#2a3f5f"
            },
            "baxis": {
             "endlinecolor": "#2a3f5f",
             "gridcolor": "white",
             "linecolor": "white",
             "minorgridcolor": "white",
             "startlinecolor": "#2a3f5f"
            },
            "type": "carpet"
           }
          ],
          "choropleth": [
           {
            "colorbar": {
             "outlinewidth": 0,
             "ticks": ""
            },
            "type": "choropleth"
           }
          ],
          "contour": [
           {
            "colorbar": {
             "outlinewidth": 0,
             "ticks": ""
            },
            "colorscale": [
             [
              0,
              "#0d0887"
             ],
             [
              0.1111111111111111,
              "#46039f"
             ],
             [
              0.2222222222222222,
              "#7201a8"
             ],
             [
              0.3333333333333333,
              "#9c179e"
             ],
             [
              0.4444444444444444,
              "#bd3786"
             ],
             [
              0.5555555555555556,
              "#d8576b"
             ],
             [
              0.6666666666666666,
              "#ed7953"
             ],
             [
              0.7777777777777778,
              "#fb9f3a"
             ],
             [
              0.8888888888888888,
              "#fdca26"
             ],
             [
              1,
              "#f0f921"
             ]
            ],
            "type": "contour"
           }
          ],
          "contourcarpet": [
           {
            "colorbar": {
             "outlinewidth": 0,
             "ticks": ""
            },
            "type": "contourcarpet"
           }
          ],
          "heatmap": [
           {
            "colorbar": {
             "outlinewidth": 0,
             "ticks": ""
            },
            "colorscale": [
             [
              0,
              "#0d0887"
             ],
             [
              0.1111111111111111,
              "#46039f"
             ],
             [
              0.2222222222222222,
              "#7201a8"
             ],
             [
              0.3333333333333333,
              "#9c179e"
             ],
             [
              0.4444444444444444,
              "#bd3786"
             ],
             [
              0.5555555555555556,
              "#d8576b"
             ],
             [
              0.6666666666666666,
              "#ed7953"
             ],
             [
              0.7777777777777778,
              "#fb9f3a"
             ],
             [
              0.8888888888888888,
              "#fdca26"
             ],
             [
              1,
              "#f0f921"
             ]
            ],
            "type": "heatmap"
           }
          ],
          "heatmapgl": [
           {
            "colorbar": {
             "outlinewidth": 0,
             "ticks": ""
            },
            "colorscale": [
             [
              0,
              "#0d0887"
             ],
             [
              0.1111111111111111,
              "#46039f"
             ],
             [
              0.2222222222222222,
              "#7201a8"
             ],
             [
              0.3333333333333333,
              "#9c179e"
             ],
             [
              0.4444444444444444,
              "#bd3786"
             ],
             [
              0.5555555555555556,
              "#d8576b"
             ],
             [
              0.6666666666666666,
              "#ed7953"
             ],
             [
              0.7777777777777778,
              "#fb9f3a"
             ],
             [
              0.8888888888888888,
              "#fdca26"
             ],
             [
              1,
              "#f0f921"
             ]
            ],
            "type": "heatmapgl"
           }
          ],
          "histogram": [
           {
            "marker": {
             "pattern": {
              "fillmode": "overlay",
              "size": 10,
              "solidity": 0.2
             }
            },
            "type": "histogram"
           }
          ],
          "histogram2d": [
           {
            "colorbar": {
             "outlinewidth": 0,
             "ticks": ""
            },
            "colorscale": [
             [
              0,
              "#0d0887"
             ],
             [
              0.1111111111111111,
              "#46039f"
             ],
             [
              0.2222222222222222,
              "#7201a8"
             ],
             [
              0.3333333333333333,
              "#9c179e"
             ],
             [
              0.4444444444444444,
              "#bd3786"
             ],
             [
              0.5555555555555556,
              "#d8576b"
             ],
             [
              0.6666666666666666,
              "#ed7953"
             ],
             [
              0.7777777777777778,
              "#fb9f3a"
             ],
             [
              0.8888888888888888,
              "#fdca26"
             ],
             [
              1,
              "#f0f921"
             ]
            ],
            "type": "histogram2d"
           }
          ],
          "histogram2dcontour": [
           {
            "colorbar": {
             "outlinewidth": 0,
             "ticks": ""
            },
            "colorscale": [
             [
              0,
              "#0d0887"
             ],
             [
              0.1111111111111111,
              "#46039f"
             ],
             [
              0.2222222222222222,
              "#7201a8"
             ],
             [
              0.3333333333333333,
              "#9c179e"
             ],
             [
              0.4444444444444444,
              "#bd3786"
             ],
             [
              0.5555555555555556,
              "#d8576b"
             ],
             [
              0.6666666666666666,
              "#ed7953"
             ],
             [
              0.7777777777777778,
              "#fb9f3a"
             ],
             [
              0.8888888888888888,
              "#fdca26"
             ],
             [
              1,
              "#f0f921"
             ]
            ],
            "type": "histogram2dcontour"
           }
          ],
          "mesh3d": [
           {
            "colorbar": {
             "outlinewidth": 0,
             "ticks": ""
            },
            "type": "mesh3d"
           }
          ],
          "parcoords": [
           {
            "line": {
             "colorbar": {
              "outlinewidth": 0,
              "ticks": ""
             }
            },
            "type": "parcoords"
           }
          ],
          "pie": [
           {
            "automargin": true,
            "type": "pie"
           }
          ],
          "scatter": [
           {
            "fillpattern": {
             "fillmode": "overlay",
             "size": 10,
             "solidity": 0.2
            },
            "type": "scatter"
           }
          ],
          "scatter3d": [
           {
            "line": {
             "colorbar": {
              "outlinewidth": 0,
              "ticks": ""
             }
            },
            "marker": {
             "colorbar": {
              "outlinewidth": 0,
              "ticks": ""
             }
            },
            "type": "scatter3d"
           }
          ],
          "scattercarpet": [
           {
            "marker": {
             "colorbar": {
              "outlinewidth": 0,
              "ticks": ""
             }
            },
            "type": "scattercarpet"
           }
          ],
          "scattergeo": [
           {
            "marker": {
             "colorbar": {
              "outlinewidth": 0,
              "ticks": ""
             }
            },
            "type": "scattergeo"
           }
          ],
          "scattergl": [
           {
            "marker": {
             "colorbar": {
              "outlinewidth": 0,
              "ticks": ""
             }
            },
            "type": "scattergl"
           }
          ],
          "scattermapbox": [
           {
            "marker": {
             "colorbar": {
              "outlinewidth": 0,
              "ticks": ""
             }
            },
            "type": "scattermapbox"
           }
          ],
          "scatterpolar": [
           {
            "marker": {
             "colorbar": {
              "outlinewidth": 0,
              "ticks": ""
             }
            },
            "type": "scatterpolar"
           }
          ],
          "scatterpolargl": [
           {
            "marker": {
             "colorbar": {
              "outlinewidth": 0,
              "ticks": ""
             }
            },
            "type": "scatterpolargl"
           }
          ],
          "scatterternary": [
           {
            "marker": {
             "colorbar": {
              "outlinewidth": 0,
              "ticks": ""
             }
            },
            "type": "scatterternary"
           }
          ],
          "surface": [
           {
            "colorbar": {
             "outlinewidth": 0,
             "ticks": ""
            },
            "colorscale": [
             [
              0,
              "#0d0887"
             ],
             [
              0.1111111111111111,
              "#46039f"
             ],
             [
              0.2222222222222222,
              "#7201a8"
             ],
             [
              0.3333333333333333,
              "#9c179e"
             ],
             [
              0.4444444444444444,
              "#bd3786"
             ],
             [
              0.5555555555555556,
              "#d8576b"
             ],
             [
              0.6666666666666666,
              "#ed7953"
             ],
             [
              0.7777777777777778,
              "#fb9f3a"
             ],
             [
              0.8888888888888888,
              "#fdca26"
             ],
             [
              1,
              "#f0f921"
             ]
            ],
            "type": "surface"
           }
          ],
          "table": [
           {
            "cells": {
             "fill": {
              "color": "#EBF0F8"
             },
             "line": {
              "color": "white"
             }
            },
            "header": {
             "fill": {
              "color": "#C8D4E3"
             },
             "line": {
              "color": "white"
             }
            },
            "type": "table"
           }
          ]
         },
         "layout": {
          "annotationdefaults": {
           "arrowcolor": "#2a3f5f",
           "arrowhead": 0,
           "arrowwidth": 1
          },
          "autotypenumbers": "strict",
          "coloraxis": {
           "colorbar": {
            "outlinewidth": 0,
            "ticks": ""
           }
          },
          "colorscale": {
           "diverging": [
            [
             0,
             "#8e0152"
            ],
            [
             0.1,
             "#c51b7d"
            ],
            [
             0.2,
             "#de77ae"
            ],
            [
             0.3,
             "#f1b6da"
            ],
            [
             0.4,
             "#fde0ef"
            ],
            [
             0.5,
             "#f7f7f7"
            ],
            [
             0.6,
             "#e6f5d0"
            ],
            [
             0.7,
             "#b8e186"
            ],
            [
             0.8,
             "#7fbc41"
            ],
            [
             0.9,
             "#4d9221"
            ],
            [
             1,
             "#276419"
            ]
           ],
           "sequential": [
            [
             0,
             "#0d0887"
            ],
            [
             0.1111111111111111,
             "#46039f"
            ],
            [
             0.2222222222222222,
             "#7201a8"
            ],
            [
             0.3333333333333333,
             "#9c179e"
            ],
            [
             0.4444444444444444,
             "#bd3786"
            ],
            [
             0.5555555555555556,
             "#d8576b"
            ],
            [
             0.6666666666666666,
             "#ed7953"
            ],
            [
             0.7777777777777778,
             "#fb9f3a"
            ],
            [
             0.8888888888888888,
             "#fdca26"
            ],
            [
             1,
             "#f0f921"
            ]
           ],
           "sequentialminus": [
            [
             0,
             "#0d0887"
            ],
            [
             0.1111111111111111,
             "#46039f"
            ],
            [
             0.2222222222222222,
             "#7201a8"
            ],
            [
             0.3333333333333333,
             "#9c179e"
            ],
            [
             0.4444444444444444,
             "#bd3786"
            ],
            [
             0.5555555555555556,
             "#d8576b"
            ],
            [
             0.6666666666666666,
             "#ed7953"
            ],
            [
             0.7777777777777778,
             "#fb9f3a"
            ],
            [
             0.8888888888888888,
             "#fdca26"
            ],
            [
             1,
             "#f0f921"
            ]
           ]
          },
          "colorway": [
           "#636efa",
           "#EF553B",
           "#00cc96",
           "#ab63fa",
           "#FFA15A",
           "#19d3f3",
           "#FF6692",
           "#B6E880",
           "#FF97FF",
           "#FECB52"
          ],
          "font": {
           "color": "#2a3f5f"
          },
          "geo": {
           "bgcolor": "white",
           "lakecolor": "white",
           "landcolor": "#E5ECF6",
           "showlakes": true,
           "showland": true,
           "subunitcolor": "white"
          },
          "hoverlabel": {
           "align": "left"
          },
          "hovermode": "closest",
          "mapbox": {
           "style": "light"
          },
          "paper_bgcolor": "white",
          "plot_bgcolor": "#E5ECF6",
          "polar": {
           "angularaxis": {
            "gridcolor": "white",
            "linecolor": "white",
            "ticks": ""
           },
           "bgcolor": "#E5ECF6",
           "radialaxis": {
            "gridcolor": "white",
            "linecolor": "white",
            "ticks": ""
           }
          },
          "scene": {
           "xaxis": {
            "backgroundcolor": "#E5ECF6",
            "gridcolor": "white",
            "gridwidth": 2,
            "linecolor": "white",
            "showbackground": true,
            "ticks": "",
            "zerolinecolor": "white"
           },
           "yaxis": {
            "backgroundcolor": "#E5ECF6",
            "gridcolor": "white",
            "gridwidth": 2,
            "linecolor": "white",
            "showbackground": true,
            "ticks": "",
            "zerolinecolor": "white"
           },
           "zaxis": {
            "backgroundcolor": "#E5ECF6",
            "gridcolor": "white",
            "gridwidth": 2,
            "linecolor": "white",
            "showbackground": true,
            "ticks": "",
            "zerolinecolor": "white"
           }
          },
          "shapedefaults": {
           "line": {
            "color": "#2a3f5f"
           }
          },
          "ternary": {
           "aaxis": {
            "gridcolor": "white",
            "linecolor": "white",
            "ticks": ""
           },
           "baxis": {
            "gridcolor": "white",
            "linecolor": "white",
            "ticks": ""
           },
           "bgcolor": "#E5ECF6",
           "caxis": {
            "gridcolor": "white",
            "linecolor": "white",
            "ticks": ""
           }
          },
          "title": {
           "x": 0.05
          },
          "xaxis": {
           "automargin": true,
           "gridcolor": "white",
           "linecolor": "white",
           "ticks": "",
           "title": {
            "standoff": 15
           },
           "zerolinecolor": "white",
           "zerolinewidth": 2
          },
          "yaxis": {
           "automargin": true,
           "gridcolor": "white",
           "linecolor": "white",
           "ticks": "",
           "title": {
            "standoff": 15
           },
           "zerolinecolor": "white",
           "zerolinewidth": 2
          }
         }
        },
        "title": {
         "text": "Spacecraft 2-1 Access, In Fov, and Connected"
        },
        "xaxis": {
         "anchor": "y",
         "domain": [
          0,
          1
         ],
         "type": "date"
        },
        "yaxis": {
         "anchor": "x",
         "categoryorder": "total ascending",
         "domain": [
          0,
          1
         ],
         "title": {
          "text": "antenna"
         }
        }
       }
      }
     },
     "metadata": {},
     "output_type": "display_data"
    },
    {
     "data": {
      "application/vnd.plotly.v1+json": {
       "config": {
        "plotlyServerURL": "https://plot.ly"
       },
       "data": [
        {
         "alignmentgroup": "True",
         "base": [
          "2024-10-31T00:07:40.000086+00:00",
          "2024-10-31T01:53:00.000086+00:00",
          "2024-10-31T06:15:30.000087+00:00",
          "2024-10-31T07:53:00.000086+00:00",
          "2024-10-31T09:33:00.000086+00:00",
          "2024-10-31T11:14:00.000086+00:00",
          "2024-10-31T01:13:30.000087+00:00",
          "2024-10-31T02:52:00.000086+00:00",
          "2024-10-31T04:36:20.000086+00:00",
          "2024-10-31T11:29:20.000086+00:00",
          "2024-10-31T02:42:20.000087+00:00",
          "2024-10-31T04:24:20.000086+00:00",
          "2024-10-31T00:00:00.000086+00:00",
          "2024-10-31T01:37:30.000086+00:00",
          "2024-10-31T07:00:20.000086+00:00",
          "2024-10-31T08:39:50.000086+00:00",
          "2024-10-31T10:21:40.000086+00:00",
          "2024-10-31T04:22:30.000086+00:00",
          "2024-10-31T06:01:20.000086+00:00",
          "2024-10-31T01:46:40.000087+00:00",
          "2024-10-31T03:26:40.000086+00:00",
          "2024-10-31T05:05:50.000086+00:00",
          "2024-10-31T06:42:00.000086+00:00",
          "2024-10-31T08:24:20.000086+00:00",
          "2024-10-31T03:37:10.000086+00:00",
          "2024-10-31T05:19:40.000086+00:00",
          "2024-10-31T00:00:00.000086+00:00",
          "2024-10-31T01:31:20.000086+00:00",
          "2024-10-31T03:13:20.000086+00:00",
          "2024-10-31T04:54:10.000086+00:00",
          "2024-10-31T06:35:00.000087+00:00"
         ],
         "hovertemplate": "type=access<br>start=%{base}<br>end=%{x}<br>antenna=%{y}<extra></extra>",
         "legendgroup": "access",
         "marker": {
          "color": "#636efa",
          "pattern": {
           "shape": ""
          }
         },
         "name": "access",
         "offsetgroup": "access",
         "orientation": "h",
         "showlegend": true,
         "textposition": "auto",
         "type": "bar",
         "x": [
          790000.001,
          100000,
          549999.999,
          780000,
          830000.001,
          830000,
          609999.999,
          820000,
          470000,
          760000,
          799999.999,
          610000,
          510000,
          520000,
          740000,
          830000,
          770000,
          610000,
          800000,
          710000,
          790000,
          220000,
          810000,
          570000,
          820000,
          620000,
          10000,
          610000,
          690000,
          810000,
          769999.999
         ],
         "xaxis": "x",
         "y": [
          "Mojave",
          "Mojave",
          "Dundee",
          "Dundee",
          "Dundee",
          "Dundee",
          "Dubai",
          "Dubai",
          "Dubai",
          "Dubai",
          "Mwulire",
          "Mwulire",
          "Utqiagvik",
          "Utqiagvik",
          "Awarua",
          "Awarua",
          "Awarua",
          "Sunyani",
          "Sunyani",
          "Paumalu",
          "Paumalu",
          "Harmon",
          "Harmon",
          "Harmon",
          "Tahiti",
          "Tahiti",
          "Chitose",
          "Chitose",
          "Chitose",
          "Chitose",
          "Chitose"
         ],
         "yaxis": "y"
        },
        {
         "alignmentgroup": "True",
         "base": [
          "2024-10-31T09:36:10.000087+00:00",
          "2024-10-31T11:17:20.000086+00:00",
          "2024-10-31T02:55:10.000086+00:00",
          "2024-10-31T11:33:10.000086+00:00",
          "2024-10-31T06:07:10.000087+00:00",
          "2024-10-31T03:30:00.000086+00:00",
          "2024-10-31T06:50:40.000086+00:00",
          "2024-10-31T04:57:30.000086+00:00",
          "2024-10-31T06:38:30.000086+00:00"
         ],
         "hovertemplate": "type=inFov<br>start=%{base}<br>end=%{x}<br>antenna=%{y}<extra></extra>",
         "legendgroup": "inFov",
         "marker": {
          "color": "#EF553B",
          "pattern": {
           "shape": ""
          }
         },
         "name": "inFov",
         "offsetgroup": "inFov",
         "orientation": "h",
         "showlegend": true,
         "textposition": "auto",
         "type": "bar",
         "x": [
          449999.999,
          50000,
          100000,
          200000,
          259999.999,
          380000,
          100000,
          410000,
          340000
         ],
         "xaxis": "x",
         "y": [
          "Dundee",
          "Dundee",
          "Dubai",
          "Dubai",
          "Sunyani",
          "Paumalu",
          "Harmon",
          "Chitose",
          "Chitose"
         ],
         "yaxis": "y"
        },
        {
         "alignmentgroup": "True",
         "base": [
          "2024-10-31T09:36:10.000087+00:00",
          "2024-10-31T11:33:10.000086+00:00",
          "2024-10-31T06:07:10.000087+00:00",
          "2024-10-31T03:30:00.000086+00:00",
          "2024-10-31T06:50:40.000086+00:00",
          "2024-10-31T04:57:30.000086+00:00",
          "2024-10-31T06:38:30.000086+00:00"
         ],
         "hovertemplate": "type=connected<br>start=%{base}<br>end=%{x}<br>antenna=%{y}<extra></extra>",
         "legendgroup": "connected",
         "marker": {
          "color": "#00cc96",
          "pattern": {
           "shape": ""
          }
         },
         "name": "connected",
         "offsetgroup": "connected",
         "orientation": "h",
         "showlegend": true,
         "textposition": "auto",
         "type": "bar",
         "x": [
          449999.999,
          200000,
          259999.999,
          380000,
          100000,
          410000,
          340000
         ],
         "xaxis": "x",
         "y": [
          "Dundee",
          "Dubai",
          "Sunyani",
          "Paumalu",
          "Harmon",
          "Chitose",
          "Chitose"
         ],
         "yaxis": "y"
        }
       ],
       "layout": {
        "barmode": "overlay",
        "legend": {
         "title": {
          "text": "type"
         },
         "tracegroupgap": 0
        },
        "margin": {
         "t": 60
        },
        "template": {
         "data": {
          "bar": [
           {
            "error_x": {
             "color": "#2a3f5f"
            },
            "error_y": {
             "color": "#2a3f5f"
            },
            "marker": {
             "line": {
              "color": "#E5ECF6",
              "width": 0.5
             },
             "pattern": {
              "fillmode": "overlay",
              "size": 10,
              "solidity": 0.2
             }
            },
            "type": "bar"
           }
          ],
          "barpolar": [
           {
            "marker": {
             "line": {
              "color": "#E5ECF6",
              "width": 0.5
             },
             "pattern": {
              "fillmode": "overlay",
              "size": 10,
              "solidity": 0.2
             }
            },
            "type": "barpolar"
           }
          ],
          "carpet": [
           {
            "aaxis": {
             "endlinecolor": "#2a3f5f",
             "gridcolor": "white",
             "linecolor": "white",
             "minorgridcolor": "white",
             "startlinecolor": "#2a3f5f"
            },
            "baxis": {
             "endlinecolor": "#2a3f5f",
             "gridcolor": "white",
             "linecolor": "white",
             "minorgridcolor": "white",
             "startlinecolor": "#2a3f5f"
            },
            "type": "carpet"
           }
          ],
          "choropleth": [
           {
            "colorbar": {
             "outlinewidth": 0,
             "ticks": ""
            },
            "type": "choropleth"
           }
          ],
          "contour": [
           {
            "colorbar": {
             "outlinewidth": 0,
             "ticks": ""
            },
            "colorscale": [
             [
              0,
              "#0d0887"
             ],
             [
              0.1111111111111111,
              "#46039f"
             ],
             [
              0.2222222222222222,
              "#7201a8"
             ],
             [
              0.3333333333333333,
              "#9c179e"
             ],
             [
              0.4444444444444444,
              "#bd3786"
             ],
             [
              0.5555555555555556,
              "#d8576b"
             ],
             [
              0.6666666666666666,
              "#ed7953"
             ],
             [
              0.7777777777777778,
              "#fb9f3a"
             ],
             [
              0.8888888888888888,
              "#fdca26"
             ],
             [
              1,
              "#f0f921"
             ]
            ],
            "type": "contour"
           }
          ],
          "contourcarpet": [
           {
            "colorbar": {
             "outlinewidth": 0,
             "ticks": ""
            },
            "type": "contourcarpet"
           }
          ],
          "heatmap": [
           {
            "colorbar": {
             "outlinewidth": 0,
             "ticks": ""
            },
            "colorscale": [
             [
              0,
              "#0d0887"
             ],
             [
              0.1111111111111111,
              "#46039f"
             ],
             [
              0.2222222222222222,
              "#7201a8"
             ],
             [
              0.3333333333333333,
              "#9c179e"
             ],
             [
              0.4444444444444444,
              "#bd3786"
             ],
             [
              0.5555555555555556,
              "#d8576b"
             ],
             [
              0.6666666666666666,
              "#ed7953"
             ],
             [
              0.7777777777777778,
              "#fb9f3a"
             ],
             [
              0.8888888888888888,
              "#fdca26"
             ],
             [
              1,
              "#f0f921"
             ]
            ],
            "type": "heatmap"
           }
          ],
          "heatmapgl": [
           {
            "colorbar": {
             "outlinewidth": 0,
             "ticks": ""
            },
            "colorscale": [
             [
              0,
              "#0d0887"
             ],
             [
              0.1111111111111111,
              "#46039f"
             ],
             [
              0.2222222222222222,
              "#7201a8"
             ],
             [
              0.3333333333333333,
              "#9c179e"
             ],
             [
              0.4444444444444444,
              "#bd3786"
             ],
             [
              0.5555555555555556,
              "#d8576b"
             ],
             [
              0.6666666666666666,
              "#ed7953"
             ],
             [
              0.7777777777777778,
              "#fb9f3a"
             ],
             [
              0.8888888888888888,
              "#fdca26"
             ],
             [
              1,
              "#f0f921"
             ]
            ],
            "type": "heatmapgl"
           }
          ],
          "histogram": [
           {
            "marker": {
             "pattern": {
              "fillmode": "overlay",
              "size": 10,
              "solidity": 0.2
             }
            },
            "type": "histogram"
           }
          ],
          "histogram2d": [
           {
            "colorbar": {
             "outlinewidth": 0,
             "ticks": ""
            },
            "colorscale": [
             [
              0,
              "#0d0887"
             ],
             [
              0.1111111111111111,
              "#46039f"
             ],
             [
              0.2222222222222222,
              "#7201a8"
             ],
             [
              0.3333333333333333,
              "#9c179e"
             ],
             [
              0.4444444444444444,
              "#bd3786"
             ],
             [
              0.5555555555555556,
              "#d8576b"
             ],
             [
              0.6666666666666666,
              "#ed7953"
             ],
             [
              0.7777777777777778,
              "#fb9f3a"
             ],
             [
              0.8888888888888888,
              "#fdca26"
             ],
             [
              1,
              "#f0f921"
             ]
            ],
            "type": "histogram2d"
           }
          ],
          "histogram2dcontour": [
           {
            "colorbar": {
             "outlinewidth": 0,
             "ticks": ""
            },
            "colorscale": [
             [
              0,
              "#0d0887"
             ],
             [
              0.1111111111111111,
              "#46039f"
             ],
             [
              0.2222222222222222,
              "#7201a8"
             ],
             [
              0.3333333333333333,
              "#9c179e"
             ],
             [
              0.4444444444444444,
              "#bd3786"
             ],
             [
              0.5555555555555556,
              "#d8576b"
             ],
             [
              0.6666666666666666,
              "#ed7953"
             ],
             [
              0.7777777777777778,
              "#fb9f3a"
             ],
             [
              0.8888888888888888,
              "#fdca26"
             ],
             [
              1,
              "#f0f921"
             ]
            ],
            "type": "histogram2dcontour"
           }
          ],
          "mesh3d": [
           {
            "colorbar": {
             "outlinewidth": 0,
             "ticks": ""
            },
            "type": "mesh3d"
           }
          ],
          "parcoords": [
           {
            "line": {
             "colorbar": {
              "outlinewidth": 0,
              "ticks": ""
             }
            },
            "type": "parcoords"
           }
          ],
          "pie": [
           {
            "automargin": true,
            "type": "pie"
           }
          ],
          "scatter": [
           {
            "fillpattern": {
             "fillmode": "overlay",
             "size": 10,
             "solidity": 0.2
            },
            "type": "scatter"
           }
          ],
          "scatter3d": [
           {
            "line": {
             "colorbar": {
              "outlinewidth": 0,
              "ticks": ""
             }
            },
            "marker": {
             "colorbar": {
              "outlinewidth": 0,
              "ticks": ""
             }
            },
            "type": "scatter3d"
           }
          ],
          "scattercarpet": [
           {
            "marker": {
             "colorbar": {
              "outlinewidth": 0,
              "ticks": ""
             }
            },
            "type": "scattercarpet"
           }
          ],
          "scattergeo": [
           {
            "marker": {
             "colorbar": {
              "outlinewidth": 0,
              "ticks": ""
             }
            },
            "type": "scattergeo"
           }
          ],
          "scattergl": [
           {
            "marker": {
             "colorbar": {
              "outlinewidth": 0,
              "ticks": ""
             }
            },
            "type": "scattergl"
           }
          ],
          "scattermapbox": [
           {
            "marker": {
             "colorbar": {
              "outlinewidth": 0,
              "ticks": ""
             }
            },
            "type": "scattermapbox"
           }
          ],
          "scatterpolar": [
           {
            "marker": {
             "colorbar": {
              "outlinewidth": 0,
              "ticks": ""
             }
            },
            "type": "scatterpolar"
           }
          ],
          "scatterpolargl": [
           {
            "marker": {
             "colorbar": {
              "outlinewidth": 0,
              "ticks": ""
             }
            },
            "type": "scatterpolargl"
           }
          ],
          "scatterternary": [
           {
            "marker": {
             "colorbar": {
              "outlinewidth": 0,
              "ticks": ""
             }
            },
            "type": "scatterternary"
           }
          ],
          "surface": [
           {
            "colorbar": {
             "outlinewidth": 0,
             "ticks": ""
            },
            "colorscale": [
             [
              0,
              "#0d0887"
             ],
             [
              0.1111111111111111,
              "#46039f"
             ],
             [
              0.2222222222222222,
              "#7201a8"
             ],
             [
              0.3333333333333333,
              "#9c179e"
             ],
             [
              0.4444444444444444,
              "#bd3786"
             ],
             [
              0.5555555555555556,
              "#d8576b"
             ],
             [
              0.6666666666666666,
              "#ed7953"
             ],
             [
              0.7777777777777778,
              "#fb9f3a"
             ],
             [
              0.8888888888888888,
              "#fdca26"
             ],
             [
              1,
              "#f0f921"
             ]
            ],
            "type": "surface"
           }
          ],
          "table": [
           {
            "cells": {
             "fill": {
              "color": "#EBF0F8"
             },
             "line": {
              "color": "white"
             }
            },
            "header": {
             "fill": {
              "color": "#C8D4E3"
             },
             "line": {
              "color": "white"
             }
            },
            "type": "table"
           }
          ]
         },
         "layout": {
          "annotationdefaults": {
           "arrowcolor": "#2a3f5f",
           "arrowhead": 0,
           "arrowwidth": 1
          },
          "autotypenumbers": "strict",
          "coloraxis": {
           "colorbar": {
            "outlinewidth": 0,
            "ticks": ""
           }
          },
          "colorscale": {
           "diverging": [
            [
             0,
             "#8e0152"
            ],
            [
             0.1,
             "#c51b7d"
            ],
            [
             0.2,
             "#de77ae"
            ],
            [
             0.3,
             "#f1b6da"
            ],
            [
             0.4,
             "#fde0ef"
            ],
            [
             0.5,
             "#f7f7f7"
            ],
            [
             0.6,
             "#e6f5d0"
            ],
            [
             0.7,
             "#b8e186"
            ],
            [
             0.8,
             "#7fbc41"
            ],
            [
             0.9,
             "#4d9221"
            ],
            [
             1,
             "#276419"
            ]
           ],
           "sequential": [
            [
             0,
             "#0d0887"
            ],
            [
             0.1111111111111111,
             "#46039f"
            ],
            [
             0.2222222222222222,
             "#7201a8"
            ],
            [
             0.3333333333333333,
             "#9c179e"
            ],
            [
             0.4444444444444444,
             "#bd3786"
            ],
            [
             0.5555555555555556,
             "#d8576b"
            ],
            [
             0.6666666666666666,
             "#ed7953"
            ],
            [
             0.7777777777777778,
             "#fb9f3a"
            ],
            [
             0.8888888888888888,
             "#fdca26"
            ],
            [
             1,
             "#f0f921"
            ]
           ],
           "sequentialminus": [
            [
             0,
             "#0d0887"
            ],
            [
             0.1111111111111111,
             "#46039f"
            ],
            [
             0.2222222222222222,
             "#7201a8"
            ],
            [
             0.3333333333333333,
             "#9c179e"
            ],
            [
             0.4444444444444444,
             "#bd3786"
            ],
            [
             0.5555555555555556,
             "#d8576b"
            ],
            [
             0.6666666666666666,
             "#ed7953"
            ],
            [
             0.7777777777777778,
             "#fb9f3a"
            ],
            [
             0.8888888888888888,
             "#fdca26"
            ],
            [
             1,
             "#f0f921"
            ]
           ]
          },
          "colorway": [
           "#636efa",
           "#EF553B",
           "#00cc96",
           "#ab63fa",
           "#FFA15A",
           "#19d3f3",
           "#FF6692",
           "#B6E880",
           "#FF97FF",
           "#FECB52"
          ],
          "font": {
           "color": "#2a3f5f"
          },
          "geo": {
           "bgcolor": "white",
           "lakecolor": "white",
           "landcolor": "#E5ECF6",
           "showlakes": true,
           "showland": true,
           "subunitcolor": "white"
          },
          "hoverlabel": {
           "align": "left"
          },
          "hovermode": "closest",
          "mapbox": {
           "style": "light"
          },
          "paper_bgcolor": "white",
          "plot_bgcolor": "#E5ECF6",
          "polar": {
           "angularaxis": {
            "gridcolor": "white",
            "linecolor": "white",
            "ticks": ""
           },
           "bgcolor": "#E5ECF6",
           "radialaxis": {
            "gridcolor": "white",
            "linecolor": "white",
            "ticks": ""
           }
          },
          "scene": {
           "xaxis": {
            "backgroundcolor": "#E5ECF6",
            "gridcolor": "white",
            "gridwidth": 2,
            "linecolor": "white",
            "showbackground": true,
            "ticks": "",
            "zerolinecolor": "white"
           },
           "yaxis": {
            "backgroundcolor": "#E5ECF6",
            "gridcolor": "white",
            "gridwidth": 2,
            "linecolor": "white",
            "showbackground": true,
            "ticks": "",
            "zerolinecolor": "white"
           },
           "zaxis": {
            "backgroundcolor": "#E5ECF6",
            "gridcolor": "white",
            "gridwidth": 2,
            "linecolor": "white",
            "showbackground": true,
            "ticks": "",
            "zerolinecolor": "white"
           }
          },
          "shapedefaults": {
           "line": {
            "color": "#2a3f5f"
           }
          },
          "ternary": {
           "aaxis": {
            "gridcolor": "white",
            "linecolor": "white",
            "ticks": ""
           },
           "baxis": {
            "gridcolor": "white",
            "linecolor": "white",
            "ticks": ""
           },
           "bgcolor": "#E5ECF6",
           "caxis": {
            "gridcolor": "white",
            "linecolor": "white",
            "ticks": ""
           }
          },
          "title": {
           "x": 0.05
          },
          "xaxis": {
           "automargin": true,
           "gridcolor": "white",
           "linecolor": "white",
           "ticks": "",
           "title": {
            "standoff": 15
           },
           "zerolinecolor": "white",
           "zerolinewidth": 2
          },
          "yaxis": {
           "automargin": true,
           "gridcolor": "white",
           "linecolor": "white",
           "ticks": "",
           "title": {
            "standoff": 15
           },
           "zerolinecolor": "white",
           "zerolinewidth": 2
          }
         }
        },
        "title": {
         "text": "Spacecraft 2-2 Access, In Fov, and Connected"
        },
        "xaxis": {
         "anchor": "y",
         "domain": [
          0,
          1
         ],
         "type": "date"
        },
        "yaxis": {
         "anchor": "x",
         "categoryorder": "total ascending",
         "domain": [
          0,
          1
         ],
         "title": {
          "text": "antenna"
         }
        }
       }
      }
     },
     "metadata": {},
     "output_type": "display_data"
    },
    {
     "data": {
      "application/vnd.plotly.v1+json": {
       "config": {
        "plotlyServerURL": "https://plot.ly"
       },
       "data": [
        {
         "alignmentgroup": "True",
         "base": [
          "2024-10-31T00:00:00.000086+00:00",
          "2024-10-31T01:38:10.000086+00:00",
          "2024-10-31T06:03:00.000087+00:00",
          "2024-10-31T07:39:50.000086+00:00",
          "2024-10-31T09:19:30.000086+00:00",
          "2024-10-31T11:00:20.000086+00:00",
          "2024-10-31T01:01:40.000087+00:00",
          "2024-10-31T02:39:10.000086+00:00",
          "2024-10-31T04:22:20.000086+00:00",
          "2024-10-31T11:16:00.000086+00:00",
          "2024-10-31T02:29:40.000086+00:00",
          "2024-10-31T04:10:40.000086+00:00",
          "2024-10-31T01:24:50.000086+00:00",
          "2024-10-31T06:47:50.000086+00:00",
          "2024-10-31T08:26:30.000086+00:00",
          "2024-10-31T10:08:00.000086+00:00",
          "2024-10-31T11:50:30.000086+00:00",
          "2024-10-31T04:10:30.000087+00:00",
          "2024-10-31T05:48:00.000086+00:00",
          "2024-10-31T07:33:30.000086+00:00",
          "2024-10-31T01:34:10.000086+00:00",
          "2024-10-31T03:13:40.000087+00:00",
          "2024-10-31T06:29:00.000086+00:00",
          "2024-10-31T08:10:20.000087+00:00",
          "2024-10-31T03:24:40.000086+00:00",
          "2024-10-31T05:06:00.000086+00:00",
          "2024-10-31T01:18:20.000086+00:00",
          "2024-10-31T03:00:30.000086+00:00",
          "2024-10-31T04:41:10.000086+00:00",
          "2024-10-31T06:21:40.000086+00:00",
          "2024-10-31T08:05:10.000086+00:00"
         ],
         "hovertemplate": "type=access<br>start=%{base}<br>end=%{x}<br>antenna=%{y}<extra></extra>",
         "legendgroup": "access",
         "marker": {
          "color": "#636efa",
          "pattern": {
           "shape": ""
          }
         },
         "name": "access",
         "offsetgroup": "access",
         "orientation": "h",
         "showlegend": true,
         "textposition": "auto",
         "type": "bar",
         "x": [
          510000,
          370000,
          489999.999,
          770000,
          830000,
          820000,
          519999.999,
          820000,
          560000,
          720000,
          780000,
          690000,
          550000,
          680000,
          820000,
          770000,
          560000,
          500000,
          820000,
          250000,
          660000,
          799999.999,
          790000,
          649999.999,
          790000,
          680000,
          620000,
          660000,
          790000.001,
          790000,
          290000
         ],
         "xaxis": "x",
         "y": [
          "Mojave",
          "Mojave",
          "Dundee",
          "Dundee",
          "Dundee",
          "Dundee",
          "Dubai",
          "Dubai",
          "Dubai",
          "Dubai",
          "Mwulire",
          "Mwulire",
          "Utqiagvik",
          "Awarua",
          "Awarua",
          "Awarua",
          "Awarua",
          "Sunyani",
          "Sunyani",
          "Sunyani",
          "Paumalu",
          "Paumalu",
          "Harmon",
          "Harmon",
          "Tahiti",
          "Tahiti",
          "Chitose",
          "Chitose",
          "Chitose",
          "Chitose",
          "Chitose"
         ],
         "yaxis": "y"
        },
        {
         "alignmentgroup": "True",
         "base": [
          "2024-10-31T09:22:40.000086+00:00",
          "2024-10-31T11:03:30.000086+00:00",
          "2024-10-31T02:49:00.000086+00:00",
          "2024-10-31T11:20:30.000086+00:00",
          "2024-10-31T05:51:10.000087+00:00",
          "2024-10-31T03:16:50.000086+00:00",
          "2024-10-31T06:38:00.000087+00:00",
          "2024-10-31T04:44:30.000086+00:00",
          "2024-10-31T06:30:20.000086+00:00"
         ],
         "hovertemplate": "type=inFov<br>start=%{base}<br>end=%{x}<br>antenna=%{y}<extra></extra>",
         "legendgroup": "inFov",
         "marker": {
          "color": "#EF553B",
          "pattern": {
           "shape": ""
          }
         },
         "name": "inFov",
         "offsetgroup": "inFov",
         "orientation": "h",
         "showlegend": true,
         "textposition": "auto",
         "type": "bar",
         "x": [
          450000,
          70000,
          40000,
          180000,
          439999.999,
          420000,
          49999.999,
          390000,
          70000.001
         ],
         "xaxis": "x",
         "y": [
          "Dundee",
          "Dundee",
          "Dubai",
          "Dubai",
          "Sunyani",
          "Paumalu",
          "Harmon",
          "Chitose",
          "Chitose"
         ],
         "yaxis": "y"
        },
        {
         "alignmentgroup": "True",
         "base": [
          "2024-10-31T09:22:40.000086+00:00",
          "2024-10-31T11:20:30.000086+00:00",
          "2024-10-31T05:51:10.000087+00:00",
          "2024-10-31T03:16:50.000086+00:00",
          "2024-10-31T06:38:00.000087+00:00",
          "2024-10-31T04:44:30.000086+00:00",
          "2024-10-31T06:30:20.000086+00:00"
         ],
         "hovertemplate": "type=connected<br>start=%{base}<br>end=%{x}<br>antenna=%{y}<extra></extra>",
         "legendgroup": "connected",
         "marker": {
          "color": "#00cc96",
          "pattern": {
           "shape": ""
          }
         },
         "name": "connected",
         "offsetgroup": "connected",
         "orientation": "h",
         "showlegend": true,
         "textposition": "auto",
         "type": "bar",
         "x": [
          450000,
          180000,
          439999.999,
          420000,
          49999.999,
          390000,
          70000.001
         ],
         "xaxis": "x",
         "y": [
          "Dundee",
          "Dubai",
          "Sunyani",
          "Paumalu",
          "Harmon",
          "Chitose",
          "Chitose"
         ],
         "yaxis": "y"
        }
       ],
       "layout": {
        "barmode": "overlay",
        "legend": {
         "title": {
          "text": "type"
         },
         "tracegroupgap": 0
        },
        "margin": {
         "t": 60
        },
        "template": {
         "data": {
          "bar": [
           {
            "error_x": {
             "color": "#2a3f5f"
            },
            "error_y": {
             "color": "#2a3f5f"
            },
            "marker": {
             "line": {
              "color": "#E5ECF6",
              "width": 0.5
             },
             "pattern": {
              "fillmode": "overlay",
              "size": 10,
              "solidity": 0.2
             }
            },
            "type": "bar"
           }
          ],
          "barpolar": [
           {
            "marker": {
             "line": {
              "color": "#E5ECF6",
              "width": 0.5
             },
             "pattern": {
              "fillmode": "overlay",
              "size": 10,
              "solidity": 0.2
             }
            },
            "type": "barpolar"
           }
          ],
          "carpet": [
           {
            "aaxis": {
             "endlinecolor": "#2a3f5f",
             "gridcolor": "white",
             "linecolor": "white",
             "minorgridcolor": "white",
             "startlinecolor": "#2a3f5f"
            },
            "baxis": {
             "endlinecolor": "#2a3f5f",
             "gridcolor": "white",
             "linecolor": "white",
             "minorgridcolor": "white",
             "startlinecolor": "#2a3f5f"
            },
            "type": "carpet"
           }
          ],
          "choropleth": [
           {
            "colorbar": {
             "outlinewidth": 0,
             "ticks": ""
            },
            "type": "choropleth"
           }
          ],
          "contour": [
           {
            "colorbar": {
             "outlinewidth": 0,
             "ticks": ""
            },
            "colorscale": [
             [
              0,
              "#0d0887"
             ],
             [
              0.1111111111111111,
              "#46039f"
             ],
             [
              0.2222222222222222,
              "#7201a8"
             ],
             [
              0.3333333333333333,
              "#9c179e"
             ],
             [
              0.4444444444444444,
              "#bd3786"
             ],
             [
              0.5555555555555556,
              "#d8576b"
             ],
             [
              0.6666666666666666,
              "#ed7953"
             ],
             [
              0.7777777777777778,
              "#fb9f3a"
             ],
             [
              0.8888888888888888,
              "#fdca26"
             ],
             [
              1,
              "#f0f921"
             ]
            ],
            "type": "contour"
           }
          ],
          "contourcarpet": [
           {
            "colorbar": {
             "outlinewidth": 0,
             "ticks": ""
            },
            "type": "contourcarpet"
           }
          ],
          "heatmap": [
           {
            "colorbar": {
             "outlinewidth": 0,
             "ticks": ""
            },
            "colorscale": [
             [
              0,
              "#0d0887"
             ],
             [
              0.1111111111111111,
              "#46039f"
             ],
             [
              0.2222222222222222,
              "#7201a8"
             ],
             [
              0.3333333333333333,
              "#9c179e"
             ],
             [
              0.4444444444444444,
              "#bd3786"
             ],
             [
              0.5555555555555556,
              "#d8576b"
             ],
             [
              0.6666666666666666,
              "#ed7953"
             ],
             [
              0.7777777777777778,
              "#fb9f3a"
             ],
             [
              0.8888888888888888,
              "#fdca26"
             ],
             [
              1,
              "#f0f921"
             ]
            ],
            "type": "heatmap"
           }
          ],
          "heatmapgl": [
           {
            "colorbar": {
             "outlinewidth": 0,
             "ticks": ""
            },
            "colorscale": [
             [
              0,
              "#0d0887"
             ],
             [
              0.1111111111111111,
              "#46039f"
             ],
             [
              0.2222222222222222,
              "#7201a8"
             ],
             [
              0.3333333333333333,
              "#9c179e"
             ],
             [
              0.4444444444444444,
              "#bd3786"
             ],
             [
              0.5555555555555556,
              "#d8576b"
             ],
             [
              0.6666666666666666,
              "#ed7953"
             ],
             [
              0.7777777777777778,
              "#fb9f3a"
             ],
             [
              0.8888888888888888,
              "#fdca26"
             ],
             [
              1,
              "#f0f921"
             ]
            ],
            "type": "heatmapgl"
           }
          ],
          "histogram": [
           {
            "marker": {
             "pattern": {
              "fillmode": "overlay",
              "size": 10,
              "solidity": 0.2
             }
            },
            "type": "histogram"
           }
          ],
          "histogram2d": [
           {
            "colorbar": {
             "outlinewidth": 0,
             "ticks": ""
            },
            "colorscale": [
             [
              0,
              "#0d0887"
             ],
             [
              0.1111111111111111,
              "#46039f"
             ],
             [
              0.2222222222222222,
              "#7201a8"
             ],
             [
              0.3333333333333333,
              "#9c179e"
             ],
             [
              0.4444444444444444,
              "#bd3786"
             ],
             [
              0.5555555555555556,
              "#d8576b"
             ],
             [
              0.6666666666666666,
              "#ed7953"
             ],
             [
              0.7777777777777778,
              "#fb9f3a"
             ],
             [
              0.8888888888888888,
              "#fdca26"
             ],
             [
              1,
              "#f0f921"
             ]
            ],
            "type": "histogram2d"
           }
          ],
          "histogram2dcontour": [
           {
            "colorbar": {
             "outlinewidth": 0,
             "ticks": ""
            },
            "colorscale": [
             [
              0,
              "#0d0887"
             ],
             [
              0.1111111111111111,
              "#46039f"
             ],
             [
              0.2222222222222222,
              "#7201a8"
             ],
             [
              0.3333333333333333,
              "#9c179e"
             ],
             [
              0.4444444444444444,
              "#bd3786"
             ],
             [
              0.5555555555555556,
              "#d8576b"
             ],
             [
              0.6666666666666666,
              "#ed7953"
             ],
             [
              0.7777777777777778,
              "#fb9f3a"
             ],
             [
              0.8888888888888888,
              "#fdca26"
             ],
             [
              1,
              "#f0f921"
             ]
            ],
            "type": "histogram2dcontour"
           }
          ],
          "mesh3d": [
           {
            "colorbar": {
             "outlinewidth": 0,
             "ticks": ""
            },
            "type": "mesh3d"
           }
          ],
          "parcoords": [
           {
            "line": {
             "colorbar": {
              "outlinewidth": 0,
              "ticks": ""
             }
            },
            "type": "parcoords"
           }
          ],
          "pie": [
           {
            "automargin": true,
            "type": "pie"
           }
          ],
          "scatter": [
           {
            "fillpattern": {
             "fillmode": "overlay",
             "size": 10,
             "solidity": 0.2
            },
            "type": "scatter"
           }
          ],
          "scatter3d": [
           {
            "line": {
             "colorbar": {
              "outlinewidth": 0,
              "ticks": ""
             }
            },
            "marker": {
             "colorbar": {
              "outlinewidth": 0,
              "ticks": ""
             }
            },
            "type": "scatter3d"
           }
          ],
          "scattercarpet": [
           {
            "marker": {
             "colorbar": {
              "outlinewidth": 0,
              "ticks": ""
             }
            },
            "type": "scattercarpet"
           }
          ],
          "scattergeo": [
           {
            "marker": {
             "colorbar": {
              "outlinewidth": 0,
              "ticks": ""
             }
            },
            "type": "scattergeo"
           }
          ],
          "scattergl": [
           {
            "marker": {
             "colorbar": {
              "outlinewidth": 0,
              "ticks": ""
             }
            },
            "type": "scattergl"
           }
          ],
          "scattermapbox": [
           {
            "marker": {
             "colorbar": {
              "outlinewidth": 0,
              "ticks": ""
             }
            },
            "type": "scattermapbox"
           }
          ],
          "scatterpolar": [
           {
            "marker": {
             "colorbar": {
              "outlinewidth": 0,
              "ticks": ""
             }
            },
            "type": "scatterpolar"
           }
          ],
          "scatterpolargl": [
           {
            "marker": {
             "colorbar": {
              "outlinewidth": 0,
              "ticks": ""
             }
            },
            "type": "scatterpolargl"
           }
          ],
          "scatterternary": [
           {
            "marker": {
             "colorbar": {
              "outlinewidth": 0,
              "ticks": ""
             }
            },
            "type": "scatterternary"
           }
          ],
          "surface": [
           {
            "colorbar": {
             "outlinewidth": 0,
             "ticks": ""
            },
            "colorscale": [
             [
              0,
              "#0d0887"
             ],
             [
              0.1111111111111111,
              "#46039f"
             ],
             [
              0.2222222222222222,
              "#7201a8"
             ],
             [
              0.3333333333333333,
              "#9c179e"
             ],
             [
              0.4444444444444444,
              "#bd3786"
             ],
             [
              0.5555555555555556,
              "#d8576b"
             ],
             [
              0.6666666666666666,
              "#ed7953"
             ],
             [
              0.7777777777777778,
              "#fb9f3a"
             ],
             [
              0.8888888888888888,
              "#fdca26"
             ],
             [
              1,
              "#f0f921"
             ]
            ],
            "type": "surface"
           }
          ],
          "table": [
           {
            "cells": {
             "fill": {
              "color": "#EBF0F8"
             },
             "line": {
              "color": "white"
             }
            },
            "header": {
             "fill": {
              "color": "#C8D4E3"
             },
             "line": {
              "color": "white"
             }
            },
            "type": "table"
           }
          ]
         },
         "layout": {
          "annotationdefaults": {
           "arrowcolor": "#2a3f5f",
           "arrowhead": 0,
           "arrowwidth": 1
          },
          "autotypenumbers": "strict",
          "coloraxis": {
           "colorbar": {
            "outlinewidth": 0,
            "ticks": ""
           }
          },
          "colorscale": {
           "diverging": [
            [
             0,
             "#8e0152"
            ],
            [
             0.1,
             "#c51b7d"
            ],
            [
             0.2,
             "#de77ae"
            ],
            [
             0.3,
             "#f1b6da"
            ],
            [
             0.4,
             "#fde0ef"
            ],
            [
             0.5,
             "#f7f7f7"
            ],
            [
             0.6,
             "#e6f5d0"
            ],
            [
             0.7,
             "#b8e186"
            ],
            [
             0.8,
             "#7fbc41"
            ],
            [
             0.9,
             "#4d9221"
            ],
            [
             1,
             "#276419"
            ]
           ],
           "sequential": [
            [
             0,
             "#0d0887"
            ],
            [
             0.1111111111111111,
             "#46039f"
            ],
            [
             0.2222222222222222,
             "#7201a8"
            ],
            [
             0.3333333333333333,
             "#9c179e"
            ],
            [
             0.4444444444444444,
             "#bd3786"
            ],
            [
             0.5555555555555556,
             "#d8576b"
            ],
            [
             0.6666666666666666,
             "#ed7953"
            ],
            [
             0.7777777777777778,
             "#fb9f3a"
            ],
            [
             0.8888888888888888,
             "#fdca26"
            ],
            [
             1,
             "#f0f921"
            ]
           ],
           "sequentialminus": [
            [
             0,
             "#0d0887"
            ],
            [
             0.1111111111111111,
             "#46039f"
            ],
            [
             0.2222222222222222,
             "#7201a8"
            ],
            [
             0.3333333333333333,
             "#9c179e"
            ],
            [
             0.4444444444444444,
             "#bd3786"
            ],
            [
             0.5555555555555556,
             "#d8576b"
            ],
            [
             0.6666666666666666,
             "#ed7953"
            ],
            [
             0.7777777777777778,
             "#fb9f3a"
            ],
            [
             0.8888888888888888,
             "#fdca26"
            ],
            [
             1,
             "#f0f921"
            ]
           ]
          },
          "colorway": [
           "#636efa",
           "#EF553B",
           "#00cc96",
           "#ab63fa",
           "#FFA15A",
           "#19d3f3",
           "#FF6692",
           "#B6E880",
           "#FF97FF",
           "#FECB52"
          ],
          "font": {
           "color": "#2a3f5f"
          },
          "geo": {
           "bgcolor": "white",
           "lakecolor": "white",
           "landcolor": "#E5ECF6",
           "showlakes": true,
           "showland": true,
           "subunitcolor": "white"
          },
          "hoverlabel": {
           "align": "left"
          },
          "hovermode": "closest",
          "mapbox": {
           "style": "light"
          },
          "paper_bgcolor": "white",
          "plot_bgcolor": "#E5ECF6",
          "polar": {
           "angularaxis": {
            "gridcolor": "white",
            "linecolor": "white",
            "ticks": ""
           },
           "bgcolor": "#E5ECF6",
           "radialaxis": {
            "gridcolor": "white",
            "linecolor": "white",
            "ticks": ""
           }
          },
          "scene": {
           "xaxis": {
            "backgroundcolor": "#E5ECF6",
            "gridcolor": "white",
            "gridwidth": 2,
            "linecolor": "white",
            "showbackground": true,
            "ticks": "",
            "zerolinecolor": "white"
           },
           "yaxis": {
            "backgroundcolor": "#E5ECF6",
            "gridcolor": "white",
            "gridwidth": 2,
            "linecolor": "white",
            "showbackground": true,
            "ticks": "",
            "zerolinecolor": "white"
           },
           "zaxis": {
            "backgroundcolor": "#E5ECF6",
            "gridcolor": "white",
            "gridwidth": 2,
            "linecolor": "white",
            "showbackground": true,
            "ticks": "",
            "zerolinecolor": "white"
           }
          },
          "shapedefaults": {
           "line": {
            "color": "#2a3f5f"
           }
          },
          "ternary": {
           "aaxis": {
            "gridcolor": "white",
            "linecolor": "white",
            "ticks": ""
           },
           "baxis": {
            "gridcolor": "white",
            "linecolor": "white",
            "ticks": ""
           },
           "bgcolor": "#E5ECF6",
           "caxis": {
            "gridcolor": "white",
            "linecolor": "white",
            "ticks": ""
           }
          },
          "title": {
           "x": 0.05
          },
          "xaxis": {
           "automargin": true,
           "gridcolor": "white",
           "linecolor": "white",
           "ticks": "",
           "title": {
            "standoff": 15
           },
           "zerolinecolor": "white",
           "zerolinewidth": 2
          },
          "yaxis": {
           "automargin": true,
           "gridcolor": "white",
           "linecolor": "white",
           "ticks": "",
           "title": {
            "standoff": 15
           },
           "zerolinecolor": "white",
           "zerolinewidth": 2
          }
         }
        },
        "title": {
         "text": "Spacecraft 2-3 Access, In Fov, and Connected"
        },
        "xaxis": {
         "anchor": "y",
         "domain": [
          0,
          1
         ],
         "type": "date"
        },
        "yaxis": {
         "anchor": "x",
         "categoryorder": "total ascending",
         "domain": [
          0,
          1
         ],
         "title": {
          "text": "antenna"
         }
        }
       }
      }
     },
     "metadata": {},
     "output_type": "display_data"
    },
    {
     "data": {
      "application/vnd.plotly.v1+json": {
       "config": {
        "plotlyServerURL": "https://plot.ly"
       },
       "data": [
        {
         "alignmentgroup": "True",
         "base": [
          "2024-10-31T01:24:40.000086+00:00",
          "2024-10-31T05:51:00.000086+00:00",
          "2024-10-31T07:27:00.000086+00:00",
          "2024-10-31T09:06:10.000086+00:00",
          "2024-10-31T10:46:50.000086+00:00",
          "2024-10-31T00:50:30.000086+00:00",
          "2024-10-31T02:26:30.000086+00:00",
          "2024-10-31T04:08:50.000086+00:00",
          "2024-10-31T11:02:40.000087+00:00",
          "2024-10-31T02:17:20.000086+00:00",
          "2024-10-31T03:57:30.000087+00:00",
          "2024-10-31T01:12:10.000086+00:00",
          "2024-10-31T02:54:10.000087+00:00",
          "2024-10-31T06:35:10.000086+00:00",
          "2024-10-31T08:13:10.000086+00:00",
          "2024-10-31T09:54:20.000086+00:00",
          "2024-10-31T11:36:40.000086+00:00",
          "2024-10-31T03:59:10.000086+00:00",
          "2024-10-31T05:35:00.000086+00:00",
          "2024-10-31T07:18:40.000086+00:00",
          "2024-10-31T01:22:00.000086+00:00",
          "2024-10-31T03:00:50.000086+00:00",
          "2024-10-31T04:44:30.000086+00:00",
          "2024-10-31T06:16:10.000086+00:00",
          "2024-10-31T07:56:40.000086+00:00",
          "2024-10-31T03:12:00.000086+00:00",
          "2024-10-31T04:52:30.000086+00:00",
          "2024-10-31T01:05:20.000086+00:00",
          "2024-10-31T02:47:30.000086+00:00",
          "2024-10-31T04:28:10.000086+00:00",
          "2024-10-31T06:08:30.000086+00:00",
          "2024-10-31T07:50:50.000087+00:00"
         ],
         "hovertemplate": "type=access<br>start=%{base}<br>end=%{x}<br>antenna=%{y}<extra></extra>",
         "legendgroup": "access",
         "marker": {
          "color": "#636efa",
          "pattern": {
           "shape": ""
          }
         },
         "name": "access",
         "offsetgroup": "access",
         "orientation": "h",
         "showlegend": true,
         "textposition": "auto",
         "type": "bar",
         "x": [
          490000,
          390000,
          740000,
          820000,
          810000,
          360000,
          810000,
          610000,
          669999.999,
          730000,
          719999.999,
          570000,
          109999.999,
          630000.001,
          820000,
          770000,
          700000,
          310000,
          810000,
          430000,
          590000.001,
          810000,
          330000,
          760000,
          710000,
          760000,
          730000,
          620000,
          650000.001,
          780000,
          800000,
          439999.999
         ],
         "xaxis": "x",
         "y": [
          "Mojave",
          "Dundee",
          "Dundee",
          "Dundee",
          "Dundee",
          "Dubai",
          "Dubai",
          "Dubai",
          "Dubai",
          "Mwulire",
          "Mwulire",
          "Utqiagvik",
          "Utqiagvik",
          "Awarua",
          "Awarua",
          "Awarua",
          "Awarua",
          "Sunyani",
          "Sunyani",
          "Sunyani",
          "Paumalu",
          "Paumalu",
          "Paumalu",
          "Harmon",
          "Harmon",
          "Tahiti",
          "Tahiti",
          "Chitose",
          "Chitose",
          "Chitose",
          "Chitose",
          "Chitose"
         ],
         "yaxis": "y"
        },
        {
         "alignmentgroup": "True",
         "base": [
          "2024-10-31T09:09:20.000086+00:00",
          "2024-10-31T10:50:00.000086+00:00",
          "2024-10-31T02:32:30.000086+00:00",
          "2024-10-31T02:36:30.000086+00:00",
          "2024-10-31T05:38:10.000087+00:00",
          "2024-10-31T03:03:50.000086+00:00",
          "2024-10-31T08:03:10.000086+00:00",
          "2024-10-31T04:31:40.000086+00:00",
          "2024-10-31T06:11:40.000086+00:00"
         ],
         "hovertemplate": "type=inFov<br>start=%{base}<br>end=%{x}<br>antenna=%{y}<extra></extra>",
         "legendgroup": "inFov",
         "marker": {
          "color": "#EF553B",
          "pattern": {
           "shape": ""
          }
         },
         "name": "inFov",
         "offsetgroup": "inFov",
         "orientation": "h",
         "showlegend": true,
         "textposition": "auto",
         "type": "bar",
         "x": [
          270000,
          90000,
          70000,
          20000,
          439999.999,
          440000,
          50000,
          360000,
          420000
         ],
         "xaxis": "x",
         "y": [
          "Dundee",
          "Dundee",
          "Dubai",
          "Dubai",
          "Sunyani",
          "Paumalu",
          "Harmon",
          "Chitose",
          "Chitose"
         ],
         "yaxis": "y"
        },
        {
         "alignmentgroup": "True",
         "base": [
          "2024-10-31T09:09:20.000086+00:00",
          "2024-10-31T10:50:00.000086+00:00",
          "2024-10-31T02:32:30.000086+00:00",
          "2024-10-31T05:38:10.000087+00:00",
          "2024-10-31T03:03:50.000086+00:00",
          "2024-10-31T08:03:10.000086+00:00",
          "2024-10-31T04:31:40.000086+00:00",
          "2024-10-31T06:11:40.000086+00:00"
         ],
         "hovertemplate": "type=connected<br>start=%{base}<br>end=%{x}<br>antenna=%{y}<extra></extra>",
         "legendgroup": "connected",
         "marker": {
          "color": "#00cc96",
          "pattern": {
           "shape": ""
          }
         },
         "name": "connected",
         "offsetgroup": "connected",
         "orientation": "h",
         "showlegend": true,
         "textposition": "auto",
         "type": "bar",
         "x": [
          270000,
          90000,
          70000,
          439999.999,
          440000,
          50000,
          360000,
          420000
         ],
         "xaxis": "x",
         "y": [
          "Dundee",
          "Dundee",
          "Dubai",
          "Sunyani",
          "Paumalu",
          "Harmon",
          "Chitose",
          "Chitose"
         ],
         "yaxis": "y"
        }
       ],
       "layout": {
        "barmode": "overlay",
        "legend": {
         "title": {
          "text": "type"
         },
         "tracegroupgap": 0
        },
        "margin": {
         "t": 60
        },
        "template": {
         "data": {
          "bar": [
           {
            "error_x": {
             "color": "#2a3f5f"
            },
            "error_y": {
             "color": "#2a3f5f"
            },
            "marker": {
             "line": {
              "color": "#E5ECF6",
              "width": 0.5
             },
             "pattern": {
              "fillmode": "overlay",
              "size": 10,
              "solidity": 0.2
             }
            },
            "type": "bar"
           }
          ],
          "barpolar": [
           {
            "marker": {
             "line": {
              "color": "#E5ECF6",
              "width": 0.5
             },
             "pattern": {
              "fillmode": "overlay",
              "size": 10,
              "solidity": 0.2
             }
            },
            "type": "barpolar"
           }
          ],
          "carpet": [
           {
            "aaxis": {
             "endlinecolor": "#2a3f5f",
             "gridcolor": "white",
             "linecolor": "white",
             "minorgridcolor": "white",
             "startlinecolor": "#2a3f5f"
            },
            "baxis": {
             "endlinecolor": "#2a3f5f",
             "gridcolor": "white",
             "linecolor": "white",
             "minorgridcolor": "white",
             "startlinecolor": "#2a3f5f"
            },
            "type": "carpet"
           }
          ],
          "choropleth": [
           {
            "colorbar": {
             "outlinewidth": 0,
             "ticks": ""
            },
            "type": "choropleth"
           }
          ],
          "contour": [
           {
            "colorbar": {
             "outlinewidth": 0,
             "ticks": ""
            },
            "colorscale": [
             [
              0,
              "#0d0887"
             ],
             [
              0.1111111111111111,
              "#46039f"
             ],
             [
              0.2222222222222222,
              "#7201a8"
             ],
             [
              0.3333333333333333,
              "#9c179e"
             ],
             [
              0.4444444444444444,
              "#bd3786"
             ],
             [
              0.5555555555555556,
              "#d8576b"
             ],
             [
              0.6666666666666666,
              "#ed7953"
             ],
             [
              0.7777777777777778,
              "#fb9f3a"
             ],
             [
              0.8888888888888888,
              "#fdca26"
             ],
             [
              1,
              "#f0f921"
             ]
            ],
            "type": "contour"
           }
          ],
          "contourcarpet": [
           {
            "colorbar": {
             "outlinewidth": 0,
             "ticks": ""
            },
            "type": "contourcarpet"
           }
          ],
          "heatmap": [
           {
            "colorbar": {
             "outlinewidth": 0,
             "ticks": ""
            },
            "colorscale": [
             [
              0,
              "#0d0887"
             ],
             [
              0.1111111111111111,
              "#46039f"
             ],
             [
              0.2222222222222222,
              "#7201a8"
             ],
             [
              0.3333333333333333,
              "#9c179e"
             ],
             [
              0.4444444444444444,
              "#bd3786"
             ],
             [
              0.5555555555555556,
              "#d8576b"
             ],
             [
              0.6666666666666666,
              "#ed7953"
             ],
             [
              0.7777777777777778,
              "#fb9f3a"
             ],
             [
              0.8888888888888888,
              "#fdca26"
             ],
             [
              1,
              "#f0f921"
             ]
            ],
            "type": "heatmap"
           }
          ],
          "heatmapgl": [
           {
            "colorbar": {
             "outlinewidth": 0,
             "ticks": ""
            },
            "colorscale": [
             [
              0,
              "#0d0887"
             ],
             [
              0.1111111111111111,
              "#46039f"
             ],
             [
              0.2222222222222222,
              "#7201a8"
             ],
             [
              0.3333333333333333,
              "#9c179e"
             ],
             [
              0.4444444444444444,
              "#bd3786"
             ],
             [
              0.5555555555555556,
              "#d8576b"
             ],
             [
              0.6666666666666666,
              "#ed7953"
             ],
             [
              0.7777777777777778,
              "#fb9f3a"
             ],
             [
              0.8888888888888888,
              "#fdca26"
             ],
             [
              1,
              "#f0f921"
             ]
            ],
            "type": "heatmapgl"
           }
          ],
          "histogram": [
           {
            "marker": {
             "pattern": {
              "fillmode": "overlay",
              "size": 10,
              "solidity": 0.2
             }
            },
            "type": "histogram"
           }
          ],
          "histogram2d": [
           {
            "colorbar": {
             "outlinewidth": 0,
             "ticks": ""
            },
            "colorscale": [
             [
              0,
              "#0d0887"
             ],
             [
              0.1111111111111111,
              "#46039f"
             ],
             [
              0.2222222222222222,
              "#7201a8"
             ],
             [
              0.3333333333333333,
              "#9c179e"
             ],
             [
              0.4444444444444444,
              "#bd3786"
             ],
             [
              0.5555555555555556,
              "#d8576b"
             ],
             [
              0.6666666666666666,
              "#ed7953"
             ],
             [
              0.7777777777777778,
              "#fb9f3a"
             ],
             [
              0.8888888888888888,
              "#fdca26"
             ],
             [
              1,
              "#f0f921"
             ]
            ],
            "type": "histogram2d"
           }
          ],
          "histogram2dcontour": [
           {
            "colorbar": {
             "outlinewidth": 0,
             "ticks": ""
            },
            "colorscale": [
             [
              0,
              "#0d0887"
             ],
             [
              0.1111111111111111,
              "#46039f"
             ],
             [
              0.2222222222222222,
              "#7201a8"
             ],
             [
              0.3333333333333333,
              "#9c179e"
             ],
             [
              0.4444444444444444,
              "#bd3786"
             ],
             [
              0.5555555555555556,
              "#d8576b"
             ],
             [
              0.6666666666666666,
              "#ed7953"
             ],
             [
              0.7777777777777778,
              "#fb9f3a"
             ],
             [
              0.8888888888888888,
              "#fdca26"
             ],
             [
              1,
              "#f0f921"
             ]
            ],
            "type": "histogram2dcontour"
           }
          ],
          "mesh3d": [
           {
            "colorbar": {
             "outlinewidth": 0,
             "ticks": ""
            },
            "type": "mesh3d"
           }
          ],
          "parcoords": [
           {
            "line": {
             "colorbar": {
              "outlinewidth": 0,
              "ticks": ""
             }
            },
            "type": "parcoords"
           }
          ],
          "pie": [
           {
            "automargin": true,
            "type": "pie"
           }
          ],
          "scatter": [
           {
            "fillpattern": {
             "fillmode": "overlay",
             "size": 10,
             "solidity": 0.2
            },
            "type": "scatter"
           }
          ],
          "scatter3d": [
           {
            "line": {
             "colorbar": {
              "outlinewidth": 0,
              "ticks": ""
             }
            },
            "marker": {
             "colorbar": {
              "outlinewidth": 0,
              "ticks": ""
             }
            },
            "type": "scatter3d"
           }
          ],
          "scattercarpet": [
           {
            "marker": {
             "colorbar": {
              "outlinewidth": 0,
              "ticks": ""
             }
            },
            "type": "scattercarpet"
           }
          ],
          "scattergeo": [
           {
            "marker": {
             "colorbar": {
              "outlinewidth": 0,
              "ticks": ""
             }
            },
            "type": "scattergeo"
           }
          ],
          "scattergl": [
           {
            "marker": {
             "colorbar": {
              "outlinewidth": 0,
              "ticks": ""
             }
            },
            "type": "scattergl"
           }
          ],
          "scattermapbox": [
           {
            "marker": {
             "colorbar": {
              "outlinewidth": 0,
              "ticks": ""
             }
            },
            "type": "scattermapbox"
           }
          ],
          "scatterpolar": [
           {
            "marker": {
             "colorbar": {
              "outlinewidth": 0,
              "ticks": ""
             }
            },
            "type": "scatterpolar"
           }
          ],
          "scatterpolargl": [
           {
            "marker": {
             "colorbar": {
              "outlinewidth": 0,
              "ticks": ""
             }
            },
            "type": "scatterpolargl"
           }
          ],
          "scatterternary": [
           {
            "marker": {
             "colorbar": {
              "outlinewidth": 0,
              "ticks": ""
             }
            },
            "type": "scatterternary"
           }
          ],
          "surface": [
           {
            "colorbar": {
             "outlinewidth": 0,
             "ticks": ""
            },
            "colorscale": [
             [
              0,
              "#0d0887"
             ],
             [
              0.1111111111111111,
              "#46039f"
             ],
             [
              0.2222222222222222,
              "#7201a8"
             ],
             [
              0.3333333333333333,
              "#9c179e"
             ],
             [
              0.4444444444444444,
              "#bd3786"
             ],
             [
              0.5555555555555556,
              "#d8576b"
             ],
             [
              0.6666666666666666,
              "#ed7953"
             ],
             [
              0.7777777777777778,
              "#fb9f3a"
             ],
             [
              0.8888888888888888,
              "#fdca26"
             ],
             [
              1,
              "#f0f921"
             ]
            ],
            "type": "surface"
           }
          ],
          "table": [
           {
            "cells": {
             "fill": {
              "color": "#EBF0F8"
             },
             "line": {
              "color": "white"
             }
            },
            "header": {
             "fill": {
              "color": "#C8D4E3"
             },
             "line": {
              "color": "white"
             }
            },
            "type": "table"
           }
          ]
         },
         "layout": {
          "annotationdefaults": {
           "arrowcolor": "#2a3f5f",
           "arrowhead": 0,
           "arrowwidth": 1
          },
          "autotypenumbers": "strict",
          "coloraxis": {
           "colorbar": {
            "outlinewidth": 0,
            "ticks": ""
           }
          },
          "colorscale": {
           "diverging": [
            [
             0,
             "#8e0152"
            ],
            [
             0.1,
             "#c51b7d"
            ],
            [
             0.2,
             "#de77ae"
            ],
            [
             0.3,
             "#f1b6da"
            ],
            [
             0.4,
             "#fde0ef"
            ],
            [
             0.5,
             "#f7f7f7"
            ],
            [
             0.6,
             "#e6f5d0"
            ],
            [
             0.7,
             "#b8e186"
            ],
            [
             0.8,
             "#7fbc41"
            ],
            [
             0.9,
             "#4d9221"
            ],
            [
             1,
             "#276419"
            ]
           ],
           "sequential": [
            [
             0,
             "#0d0887"
            ],
            [
             0.1111111111111111,
             "#46039f"
            ],
            [
             0.2222222222222222,
             "#7201a8"
            ],
            [
             0.3333333333333333,
             "#9c179e"
            ],
            [
             0.4444444444444444,
             "#bd3786"
            ],
            [
             0.5555555555555556,
             "#d8576b"
            ],
            [
             0.6666666666666666,
             "#ed7953"
            ],
            [
             0.7777777777777778,
             "#fb9f3a"
            ],
            [
             0.8888888888888888,
             "#fdca26"
            ],
            [
             1,
             "#f0f921"
            ]
           ],
           "sequentialminus": [
            [
             0,
             "#0d0887"
            ],
            [
             0.1111111111111111,
             "#46039f"
            ],
            [
             0.2222222222222222,
             "#7201a8"
            ],
            [
             0.3333333333333333,
             "#9c179e"
            ],
            [
             0.4444444444444444,
             "#bd3786"
            ],
            [
             0.5555555555555556,
             "#d8576b"
            ],
            [
             0.6666666666666666,
             "#ed7953"
            ],
            [
             0.7777777777777778,
             "#fb9f3a"
            ],
            [
             0.8888888888888888,
             "#fdca26"
            ],
            [
             1,
             "#f0f921"
            ]
           ]
          },
          "colorway": [
           "#636efa",
           "#EF553B",
           "#00cc96",
           "#ab63fa",
           "#FFA15A",
           "#19d3f3",
           "#FF6692",
           "#B6E880",
           "#FF97FF",
           "#FECB52"
          ],
          "font": {
           "color": "#2a3f5f"
          },
          "geo": {
           "bgcolor": "white",
           "lakecolor": "white",
           "landcolor": "#E5ECF6",
           "showlakes": true,
           "showland": true,
           "subunitcolor": "white"
          },
          "hoverlabel": {
           "align": "left"
          },
          "hovermode": "closest",
          "mapbox": {
           "style": "light"
          },
          "paper_bgcolor": "white",
          "plot_bgcolor": "#E5ECF6",
          "polar": {
           "angularaxis": {
            "gridcolor": "white",
            "linecolor": "white",
            "ticks": ""
           },
           "bgcolor": "#E5ECF6",
           "radialaxis": {
            "gridcolor": "white",
            "linecolor": "white",
            "ticks": ""
           }
          },
          "scene": {
           "xaxis": {
            "backgroundcolor": "#E5ECF6",
            "gridcolor": "white",
            "gridwidth": 2,
            "linecolor": "white",
            "showbackground": true,
            "ticks": "",
            "zerolinecolor": "white"
           },
           "yaxis": {
            "backgroundcolor": "#E5ECF6",
            "gridcolor": "white",
            "gridwidth": 2,
            "linecolor": "white",
            "showbackground": true,
            "ticks": "",
            "zerolinecolor": "white"
           },
           "zaxis": {
            "backgroundcolor": "#E5ECF6",
            "gridcolor": "white",
            "gridwidth": 2,
            "linecolor": "white",
            "showbackground": true,
            "ticks": "",
            "zerolinecolor": "white"
           }
          },
          "shapedefaults": {
           "line": {
            "color": "#2a3f5f"
           }
          },
          "ternary": {
           "aaxis": {
            "gridcolor": "white",
            "linecolor": "white",
            "ticks": ""
           },
           "baxis": {
            "gridcolor": "white",
            "linecolor": "white",
            "ticks": ""
           },
           "bgcolor": "#E5ECF6",
           "caxis": {
            "gridcolor": "white",
            "linecolor": "white",
            "ticks": ""
           }
          },
          "title": {
           "x": 0.05
          },
          "xaxis": {
           "automargin": true,
           "gridcolor": "white",
           "linecolor": "white",
           "ticks": "",
           "title": {
            "standoff": 15
           },
           "zerolinecolor": "white",
           "zerolinewidth": 2
          },
          "yaxis": {
           "automargin": true,
           "gridcolor": "white",
           "linecolor": "white",
           "ticks": "",
           "title": {
            "standoff": 15
           },
           "zerolinecolor": "white",
           "zerolinewidth": 2
          }
         }
        },
        "title": {
         "text": "Spacecraft 2-4 Access, In Fov, and Connected"
        },
        "xaxis": {
         "anchor": "y",
         "domain": [
          0,
          1
         ],
         "type": "date"
        },
        "yaxis": {
         "anchor": "x",
         "categoryorder": "total ascending",
         "domain": [
          0,
          1
         ],
         "title": {
          "text": "antenna"
         }
        }
       }
      }
     },
     "metadata": {},
     "output_type": "display_data"
    },
    {
     "data": {
      "application/vnd.plotly.v1+json": {
       "config": {
        "plotlyServerURL": "https://plot.ly"
       },
       "data": [
        {
         "alignmentgroup": "True",
         "base": [
          "2024-10-31T01:11:40.000086+00:00",
          "2024-10-31T05:40:10.000086+00:00",
          "2024-10-31T07:15:20.000086+00:00",
          "2024-10-31T08:54:30.000086+00:00",
          "2024-10-31T10:35:10.000086+00:00",
          "2024-10-31T00:40:30.000086+00:00",
          "2024-10-31T02:14:10.000086+00:00",
          "2024-10-31T03:56:00.000086+00:00",
          "2024-10-31T10:51:30.000086+00:00",
          "2024-10-31T02:05:20.000086+00:00",
          "2024-10-31T03:45:00.000086+00:00",
          "2024-10-31T00:59:50.000086+00:00",
          "2024-10-31T02:41:00.000086+00:00",
          "2024-10-31T06:23:50.000086+00:00",
          "2024-10-31T08:01:30.000087+00:00",
          "2024-10-31T09:42:30.000086+00:00",
          "2024-10-31T11:24:50.000086+00:00",
          "2024-10-31T05:23:00.000086+00:00",
          "2024-10-31T07:05:40.000086+00:00",
          "2024-10-31T01:10:00.000086+00:00",
          "2024-10-31T02:48:30.000086+00:00",
          "2024-10-31T04:31:20.000086+00:00",
          "2024-10-31T06:04:20.000086+00:00",
          "2024-10-31T07:44:30.000086+00:00",
          "2024-10-31T03:00:10.000086+00:00",
          "2024-10-31T04:40:10.000087+00:00",
          "2024-10-31T00:52:30.000086+00:00",
          "2024-10-31T02:35:10.000086+00:00",
          "2024-10-31T04:16:00.000086+00:00",
          "2024-10-31T05:56:30.000087+00:00",
          "2024-10-31T07:38:30.000086+00:00"
         ],
         "hovertemplate": "type=access<br>start=%{base}<br>end=%{x}<br>antenna=%{y}<extra></extra>",
         "legendgroup": "access",
         "marker": {
          "color": "#636efa",
          "pattern": {
           "shape": ""
          }
         },
         "name": "access",
         "offsetgroup": "access",
         "orientation": "h",
         "showlegend": true,
         "textposition": "auto",
         "type": "bar",
         "x": [
          580000,
          280000,
          730000,
          820000,
          820000,
          90000,
          810000,
          680000,
          620000,
          690000.001,
          770000,
          590000,
          260000,
          580000,
          809999.999,
          790000,
          720000,
          810000,
          560000,
          520000,
          820000,
          470000,
          730000,
          750000,
          720000,
          759999.999,
          640000,
          630000,
          770000,
          809999.999,
          530000
         ],
         "xaxis": "x",
         "y": [
          "Mojave",
          "Dundee",
          "Dundee",
          "Dundee",
          "Dundee",
          "Dubai",
          "Dubai",
          "Dubai",
          "Dubai",
          "Mwulire",
          "Mwulire",
          "Utqiagvik",
          "Utqiagvik",
          "Awarua",
          "Awarua",
          "Awarua",
          "Awarua",
          "Sunyani",
          "Sunyani",
          "Paumalu",
          "Paumalu",
          "Paumalu",
          "Harmon",
          "Harmon",
          "Tahiti",
          "Tahiti",
          "Chitose",
          "Chitose",
          "Chitose",
          "Chitose",
          "Chitose"
         ],
         "yaxis": "y"
        },
        {
         "alignmentgroup": "True",
         "base": [
          "2024-10-31T08:57:40.000086+00:00",
          "2024-10-31T10:38:20.000087+00:00",
          "2024-10-31T02:19:10.000086+00:00",
          "2024-10-31T05:26:10.000086+00:00",
          "2024-10-31T02:52:20.000086+00:00",
          "2024-10-31T04:19:50.000086+00:00",
          "2024-10-31T05:59:40.000086+00:00",
          "2024-10-31T06:00:10.000086+00:00"
         ],
         "hovertemplate": "type=inFov<br>start=%{base}<br>end=%{x}<br>antenna=%{y}<extra></extra>",
         "legendgroup": "inFov",
         "marker": {
          "color": "#EF553B",
          "pattern": {
           "shape": ""
          }
         },
         "name": "inFov",
         "offsetgroup": "inFov",
         "orientation": "h",
         "showlegend": true,
         "textposition": "auto",
         "type": "bar",
         "x": [
          220000,
          110000,
          150000,
          430000,
          400000,
          320000,
          20000,
          410000
         ],
         "xaxis": "x",
         "y": [
          "Dundee",
          "Dundee",
          "Dubai",
          "Sunyani",
          "Paumalu",
          "Chitose",
          "Chitose",
          "Chitose"
         ],
         "yaxis": "y"
        },
        {
         "alignmentgroup": "True",
         "base": [
          "2024-10-31T08:57:40.000086+00:00",
          "2024-10-31T10:38:20.000087+00:00",
          "2024-10-31T02:19:10.000086+00:00",
          "2024-10-31T05:26:10.000086+00:00",
          "2024-10-31T02:52:20.000086+00:00",
          "2024-10-31T04:19:50.000086+00:00",
          "2024-10-31T05:59:40.000086+00:00",
          "2024-10-31T06:00:10.000086+00:00"
         ],
         "hovertemplate": "type=connected<br>start=%{base}<br>end=%{x}<br>antenna=%{y}<extra></extra>",
         "legendgroup": "connected",
         "marker": {
          "color": "#00cc96",
          "pattern": {
           "shape": ""
          }
         },
         "name": "connected",
         "offsetgroup": "connected",
         "orientation": "h",
         "showlegend": true,
         "textposition": "auto",
         "type": "bar",
         "x": [
          220000,
          110000,
          150000,
          430000,
          400000,
          320000,
          20000,
          410000
         ],
         "xaxis": "x",
         "y": [
          "Dundee",
          "Dundee",
          "Dubai",
          "Sunyani",
          "Paumalu",
          "Chitose",
          "Chitose",
          "Chitose"
         ],
         "yaxis": "y"
        }
       ],
       "layout": {
        "barmode": "overlay",
        "legend": {
         "title": {
          "text": "type"
         },
         "tracegroupgap": 0
        },
        "margin": {
         "t": 60
        },
        "template": {
         "data": {
          "bar": [
           {
            "error_x": {
             "color": "#2a3f5f"
            },
            "error_y": {
             "color": "#2a3f5f"
            },
            "marker": {
             "line": {
              "color": "#E5ECF6",
              "width": 0.5
             },
             "pattern": {
              "fillmode": "overlay",
              "size": 10,
              "solidity": 0.2
             }
            },
            "type": "bar"
           }
          ],
          "barpolar": [
           {
            "marker": {
             "line": {
              "color": "#E5ECF6",
              "width": 0.5
             },
             "pattern": {
              "fillmode": "overlay",
              "size": 10,
              "solidity": 0.2
             }
            },
            "type": "barpolar"
           }
          ],
          "carpet": [
           {
            "aaxis": {
             "endlinecolor": "#2a3f5f",
             "gridcolor": "white",
             "linecolor": "white",
             "minorgridcolor": "white",
             "startlinecolor": "#2a3f5f"
            },
            "baxis": {
             "endlinecolor": "#2a3f5f",
             "gridcolor": "white",
             "linecolor": "white",
             "minorgridcolor": "white",
             "startlinecolor": "#2a3f5f"
            },
            "type": "carpet"
           }
          ],
          "choropleth": [
           {
            "colorbar": {
             "outlinewidth": 0,
             "ticks": ""
            },
            "type": "choropleth"
           }
          ],
          "contour": [
           {
            "colorbar": {
             "outlinewidth": 0,
             "ticks": ""
            },
            "colorscale": [
             [
              0,
              "#0d0887"
             ],
             [
              0.1111111111111111,
              "#46039f"
             ],
             [
              0.2222222222222222,
              "#7201a8"
             ],
             [
              0.3333333333333333,
              "#9c179e"
             ],
             [
              0.4444444444444444,
              "#bd3786"
             ],
             [
              0.5555555555555556,
              "#d8576b"
             ],
             [
              0.6666666666666666,
              "#ed7953"
             ],
             [
              0.7777777777777778,
              "#fb9f3a"
             ],
             [
              0.8888888888888888,
              "#fdca26"
             ],
             [
              1,
              "#f0f921"
             ]
            ],
            "type": "contour"
           }
          ],
          "contourcarpet": [
           {
            "colorbar": {
             "outlinewidth": 0,
             "ticks": ""
            },
            "type": "contourcarpet"
           }
          ],
          "heatmap": [
           {
            "colorbar": {
             "outlinewidth": 0,
             "ticks": ""
            },
            "colorscale": [
             [
              0,
              "#0d0887"
             ],
             [
              0.1111111111111111,
              "#46039f"
             ],
             [
              0.2222222222222222,
              "#7201a8"
             ],
             [
              0.3333333333333333,
              "#9c179e"
             ],
             [
              0.4444444444444444,
              "#bd3786"
             ],
             [
              0.5555555555555556,
              "#d8576b"
             ],
             [
              0.6666666666666666,
              "#ed7953"
             ],
             [
              0.7777777777777778,
              "#fb9f3a"
             ],
             [
              0.8888888888888888,
              "#fdca26"
             ],
             [
              1,
              "#f0f921"
             ]
            ],
            "type": "heatmap"
           }
          ],
          "heatmapgl": [
           {
            "colorbar": {
             "outlinewidth": 0,
             "ticks": ""
            },
            "colorscale": [
             [
              0,
              "#0d0887"
             ],
             [
              0.1111111111111111,
              "#46039f"
             ],
             [
              0.2222222222222222,
              "#7201a8"
             ],
             [
              0.3333333333333333,
              "#9c179e"
             ],
             [
              0.4444444444444444,
              "#bd3786"
             ],
             [
              0.5555555555555556,
              "#d8576b"
             ],
             [
              0.6666666666666666,
              "#ed7953"
             ],
             [
              0.7777777777777778,
              "#fb9f3a"
             ],
             [
              0.8888888888888888,
              "#fdca26"
             ],
             [
              1,
              "#f0f921"
             ]
            ],
            "type": "heatmapgl"
           }
          ],
          "histogram": [
           {
            "marker": {
             "pattern": {
              "fillmode": "overlay",
              "size": 10,
              "solidity": 0.2
             }
            },
            "type": "histogram"
           }
          ],
          "histogram2d": [
           {
            "colorbar": {
             "outlinewidth": 0,
             "ticks": ""
            },
            "colorscale": [
             [
              0,
              "#0d0887"
             ],
             [
              0.1111111111111111,
              "#46039f"
             ],
             [
              0.2222222222222222,
              "#7201a8"
             ],
             [
              0.3333333333333333,
              "#9c179e"
             ],
             [
              0.4444444444444444,
              "#bd3786"
             ],
             [
              0.5555555555555556,
              "#d8576b"
             ],
             [
              0.6666666666666666,
              "#ed7953"
             ],
             [
              0.7777777777777778,
              "#fb9f3a"
             ],
             [
              0.8888888888888888,
              "#fdca26"
             ],
             [
              1,
              "#f0f921"
             ]
            ],
            "type": "histogram2d"
           }
          ],
          "histogram2dcontour": [
           {
            "colorbar": {
             "outlinewidth": 0,
             "ticks": ""
            },
            "colorscale": [
             [
              0,
              "#0d0887"
             ],
             [
              0.1111111111111111,
              "#46039f"
             ],
             [
              0.2222222222222222,
              "#7201a8"
             ],
             [
              0.3333333333333333,
              "#9c179e"
             ],
             [
              0.4444444444444444,
              "#bd3786"
             ],
             [
              0.5555555555555556,
              "#d8576b"
             ],
             [
              0.6666666666666666,
              "#ed7953"
             ],
             [
              0.7777777777777778,
              "#fb9f3a"
             ],
             [
              0.8888888888888888,
              "#fdca26"
             ],
             [
              1,
              "#f0f921"
             ]
            ],
            "type": "histogram2dcontour"
           }
          ],
          "mesh3d": [
           {
            "colorbar": {
             "outlinewidth": 0,
             "ticks": ""
            },
            "type": "mesh3d"
           }
          ],
          "parcoords": [
           {
            "line": {
             "colorbar": {
              "outlinewidth": 0,
              "ticks": ""
             }
            },
            "type": "parcoords"
           }
          ],
          "pie": [
           {
            "automargin": true,
            "type": "pie"
           }
          ],
          "scatter": [
           {
            "fillpattern": {
             "fillmode": "overlay",
             "size": 10,
             "solidity": 0.2
            },
            "type": "scatter"
           }
          ],
          "scatter3d": [
           {
            "line": {
             "colorbar": {
              "outlinewidth": 0,
              "ticks": ""
             }
            },
            "marker": {
             "colorbar": {
              "outlinewidth": 0,
              "ticks": ""
             }
            },
            "type": "scatter3d"
           }
          ],
          "scattercarpet": [
           {
            "marker": {
             "colorbar": {
              "outlinewidth": 0,
              "ticks": ""
             }
            },
            "type": "scattercarpet"
           }
          ],
          "scattergeo": [
           {
            "marker": {
             "colorbar": {
              "outlinewidth": 0,
              "ticks": ""
             }
            },
            "type": "scattergeo"
           }
          ],
          "scattergl": [
           {
            "marker": {
             "colorbar": {
              "outlinewidth": 0,
              "ticks": ""
             }
            },
            "type": "scattergl"
           }
          ],
          "scattermapbox": [
           {
            "marker": {
             "colorbar": {
              "outlinewidth": 0,
              "ticks": ""
             }
            },
            "type": "scattermapbox"
           }
          ],
          "scatterpolar": [
           {
            "marker": {
             "colorbar": {
              "outlinewidth": 0,
              "ticks": ""
             }
            },
            "type": "scatterpolar"
           }
          ],
          "scatterpolargl": [
           {
            "marker": {
             "colorbar": {
              "outlinewidth": 0,
              "ticks": ""
             }
            },
            "type": "scatterpolargl"
           }
          ],
          "scatterternary": [
           {
            "marker": {
             "colorbar": {
              "outlinewidth": 0,
              "ticks": ""
             }
            },
            "type": "scatterternary"
           }
          ],
          "surface": [
           {
            "colorbar": {
             "outlinewidth": 0,
             "ticks": ""
            },
            "colorscale": [
             [
              0,
              "#0d0887"
             ],
             [
              0.1111111111111111,
              "#46039f"
             ],
             [
              0.2222222222222222,
              "#7201a8"
             ],
             [
              0.3333333333333333,
              "#9c179e"
             ],
             [
              0.4444444444444444,
              "#bd3786"
             ],
             [
              0.5555555555555556,
              "#d8576b"
             ],
             [
              0.6666666666666666,
              "#ed7953"
             ],
             [
              0.7777777777777778,
              "#fb9f3a"
             ],
             [
              0.8888888888888888,
              "#fdca26"
             ],
             [
              1,
              "#f0f921"
             ]
            ],
            "type": "surface"
           }
          ],
          "table": [
           {
            "cells": {
             "fill": {
              "color": "#EBF0F8"
             },
             "line": {
              "color": "white"
             }
            },
            "header": {
             "fill": {
              "color": "#C8D4E3"
             },
             "line": {
              "color": "white"
             }
            },
            "type": "table"
           }
          ]
         },
         "layout": {
          "annotationdefaults": {
           "arrowcolor": "#2a3f5f",
           "arrowhead": 0,
           "arrowwidth": 1
          },
          "autotypenumbers": "strict",
          "coloraxis": {
           "colorbar": {
            "outlinewidth": 0,
            "ticks": ""
           }
          },
          "colorscale": {
           "diverging": [
            [
             0,
             "#8e0152"
            ],
            [
             0.1,
             "#c51b7d"
            ],
            [
             0.2,
             "#de77ae"
            ],
            [
             0.3,
             "#f1b6da"
            ],
            [
             0.4,
             "#fde0ef"
            ],
            [
             0.5,
             "#f7f7f7"
            ],
            [
             0.6,
             "#e6f5d0"
            ],
            [
             0.7,
             "#b8e186"
            ],
            [
             0.8,
             "#7fbc41"
            ],
            [
             0.9,
             "#4d9221"
            ],
            [
             1,
             "#276419"
            ]
           ],
           "sequential": [
            [
             0,
             "#0d0887"
            ],
            [
             0.1111111111111111,
             "#46039f"
            ],
            [
             0.2222222222222222,
             "#7201a8"
            ],
            [
             0.3333333333333333,
             "#9c179e"
            ],
            [
             0.4444444444444444,
             "#bd3786"
            ],
            [
             0.5555555555555556,
             "#d8576b"
            ],
            [
             0.6666666666666666,
             "#ed7953"
            ],
            [
             0.7777777777777778,
             "#fb9f3a"
            ],
            [
             0.8888888888888888,
             "#fdca26"
            ],
            [
             1,
             "#f0f921"
            ]
           ],
           "sequentialminus": [
            [
             0,
             "#0d0887"
            ],
            [
             0.1111111111111111,
             "#46039f"
            ],
            [
             0.2222222222222222,
             "#7201a8"
            ],
            [
             0.3333333333333333,
             "#9c179e"
            ],
            [
             0.4444444444444444,
             "#bd3786"
            ],
            [
             0.5555555555555556,
             "#d8576b"
            ],
            [
             0.6666666666666666,
             "#ed7953"
            ],
            [
             0.7777777777777778,
             "#fb9f3a"
            ],
            [
             0.8888888888888888,
             "#fdca26"
            ],
            [
             1,
             "#f0f921"
            ]
           ]
          },
          "colorway": [
           "#636efa",
           "#EF553B",
           "#00cc96",
           "#ab63fa",
           "#FFA15A",
           "#19d3f3",
           "#FF6692",
           "#B6E880",
           "#FF97FF",
           "#FECB52"
          ],
          "font": {
           "color": "#2a3f5f"
          },
          "geo": {
           "bgcolor": "white",
           "lakecolor": "white",
           "landcolor": "#E5ECF6",
           "showlakes": true,
           "showland": true,
           "subunitcolor": "white"
          },
          "hoverlabel": {
           "align": "left"
          },
          "hovermode": "closest",
          "mapbox": {
           "style": "light"
          },
          "paper_bgcolor": "white",
          "plot_bgcolor": "#E5ECF6",
          "polar": {
           "angularaxis": {
            "gridcolor": "white",
            "linecolor": "white",
            "ticks": ""
           },
           "bgcolor": "#E5ECF6",
           "radialaxis": {
            "gridcolor": "white",
            "linecolor": "white",
            "ticks": ""
           }
          },
          "scene": {
           "xaxis": {
            "backgroundcolor": "#E5ECF6",
            "gridcolor": "white",
            "gridwidth": 2,
            "linecolor": "white",
            "showbackground": true,
            "ticks": "",
            "zerolinecolor": "white"
           },
           "yaxis": {
            "backgroundcolor": "#E5ECF6",
            "gridcolor": "white",
            "gridwidth": 2,
            "linecolor": "white",
            "showbackground": true,
            "ticks": "",
            "zerolinecolor": "white"
           },
           "zaxis": {
            "backgroundcolor": "#E5ECF6",
            "gridcolor": "white",
            "gridwidth": 2,
            "linecolor": "white",
            "showbackground": true,
            "ticks": "",
            "zerolinecolor": "white"
           }
          },
          "shapedefaults": {
           "line": {
            "color": "#2a3f5f"
           }
          },
          "ternary": {
           "aaxis": {
            "gridcolor": "white",
            "linecolor": "white",
            "ticks": ""
           },
           "baxis": {
            "gridcolor": "white",
            "linecolor": "white",
            "ticks": ""
           },
           "bgcolor": "#E5ECF6",
           "caxis": {
            "gridcolor": "white",
            "linecolor": "white",
            "ticks": ""
           }
          },
          "title": {
           "x": 0.05
          },
          "xaxis": {
           "automargin": true,
           "gridcolor": "white",
           "linecolor": "white",
           "ticks": "",
           "title": {
            "standoff": 15
           },
           "zerolinecolor": "white",
           "zerolinewidth": 2
          },
          "yaxis": {
           "automargin": true,
           "gridcolor": "white",
           "linecolor": "white",
           "ticks": "",
           "title": {
            "standoff": 15
           },
           "zerolinecolor": "white",
           "zerolinewidth": 2
          }
         }
        },
        "title": {
         "text": "Spacecraft 2-5 Access, In Fov, and Connected"
        },
        "xaxis": {
         "anchor": "y",
         "domain": [
          0,
          1
         ],
         "type": "date"
        },
        "yaxis": {
         "anchor": "x",
         "categoryorder": "total ascending",
         "domain": [
          0,
          1
         ],
         "title": {
          "text": "antenna"
         }
        }
       }
      }
     },
     "metadata": {},
     "output_type": "display_data"
    },
    {
     "data": {
      "application/vnd.plotly.v1+json": {
       "config": {
        "plotlyServerURL": "https://plot.ly"
       },
       "data": [
        {
         "alignmentgroup": "True",
         "base": [
          "2024-10-31T00:58:40.000087+00:00",
          "2024-10-31T05:30:00.000086+00:00",
          "2024-10-31T07:03:40.000086+00:00",
          "2024-10-31T08:42:40.000086+00:00",
          "2024-10-31T10:23:20.000086+00:00",
          "2024-10-31T02:02:00.000086+00:00",
          "2024-10-31T03:43:10.000086+00:00",
          "2024-10-31T10:40:10.000087+00:00",
          "2024-10-31T01:53:30.000086+00:00",
          "2024-10-31T03:32:30.000086+00:00",
          "2024-10-31T00:47:10.000086+00:00",
          "2024-10-31T02:28:10.000086+00:00",
          "2024-10-31T06:12:40.000086+00:00",
          "2024-10-31T07:49:50.000086+00:00",
          "2024-10-31T09:30:40.000086+00:00",
          "2024-10-31T11:13:10.000086+00:00",
          "2024-10-31T05:11:10.000086+00:00",
          "2024-10-31T06:53:00.000086+00:00",
          "2024-10-31T00:58:10.000086+00:00",
          "2024-10-31T02:36:10.000086+00:00",
          "2024-10-31T04:18:20.000086+00:00",
          "2024-10-31T05:52:40.000086+00:00",
          "2024-10-31T07:32:30.000086+00:00",
          "2024-10-31T02:48:20.000086+00:00",
          "2024-10-31T04:27:40.000086+00:00",
          "2024-10-31T00:39:30.000086+00:00",
          "2024-10-31T02:22:30.000086+00:00",
          "2024-10-31T04:03:50.000086+00:00",
          "2024-10-31T05:44:20.000086+00:00",
          "2024-10-31T07:26:00.000086+00:00"
         ],
         "hovertemplate": "type=access<br>start=%{base}<br>end=%{x}<br>antenna=%{y}<extra></extra>",
         "legendgroup": "access",
         "marker": {
          "color": "#636efa",
          "pattern": {
           "shape": ""
          }
         },
         "name": "access",
         "offsetgroup": "access",
         "orientation": "h",
         "showlegend": true,
         "textposition": "auto",
         "type": "bar",
         "x": [
          659999.999,
          80000,
          720000,
          830000.001,
          840000,
          790000,
          730000,
          569999.999,
          620000.001,
          800000,
          630000,
          360000,
          510000,
          800000,
          800000,
          720000.001,
          790000,
          640000,
          430000,
          820000,
          590000,
          690000,
          790000,
          680000,
          790000,
          670000,
          640000,
          760000.001,
          830000,
          620000
         ],
         "xaxis": "x",
         "y": [
          "Mojave",
          "Dundee",
          "Dundee",
          "Dundee",
          "Dundee",
          "Dubai",
          "Dubai",
          "Dubai",
          "Mwulire",
          "Mwulire",
          "Utqiagvik",
          "Utqiagvik",
          "Awarua",
          "Awarua",
          "Awarua",
          "Awarua",
          "Sunyani",
          "Sunyani",
          "Paumalu",
          "Paumalu",
          "Paumalu",
          "Harmon",
          "Harmon",
          "Tahiti",
          "Tahiti",
          "Chitose",
          "Chitose",
          "Chitose",
          "Chitose",
          "Chitose"
         ],
         "yaxis": "y"
        },
        {
         "alignmentgroup": "True",
         "base": [
          "2024-10-31T08:45:50.000087+00:00",
          "2024-10-31T10:26:40.000086+00:00",
          "2024-10-31T02:05:20.000086+00:00",
          "2024-10-31T07:53:00.000086+00:00",
          "2024-10-31T09:34:00.000086+00:00",
          "2024-10-31T05:14:20.000086+00:00",
          "2024-10-31T02:40:20.000086+00:00",
          "2024-10-31T07:36:30.000086+00:00",
          "2024-10-31T04:07:50.000086+00:00",
          "2024-10-31T05:47:30.000086+00:00"
         ],
         "hovertemplate": "type=inFov<br>start=%{base}<br>end=%{x}<br>antenna=%{y}<extra></extra>",
         "legendgroup": "inFov",
         "marker": {
          "color": "#EF553B",
          "pattern": {
           "shape": ""
          }
         },
         "name": "inFov",
         "offsetgroup": "inFov",
         "orientation": "h",
         "showlegend": true,
         "textposition": "auto",
         "type": "bar",
         "x": [
          99999.999,
          30000,
          310000,
          420000,
          390000,
          410000,
          370000.001,
          10000,
          280000,
          450000
         ],
         "xaxis": "x",
         "y": [
          "Dundee",
          "Dundee",
          "Dubai",
          "Awarua",
          "Awarua",
          "Sunyani",
          "Paumalu",
          "Harmon",
          "Chitose",
          "Chitose"
         ],
         "yaxis": "y"
        },
        {
         "alignmentgroup": "True",
         "base": [
          "2024-10-31T08:45:50.000087+00:00",
          "2024-10-31T10:26:40.000086+00:00",
          "2024-10-31T02:05:20.000086+00:00",
          "2024-10-31T07:53:00.000086+00:00",
          "2024-10-31T09:34:00.000086+00:00",
          "2024-10-31T05:14:20.000086+00:00",
          "2024-10-31T02:40:20.000086+00:00",
          "2024-10-31T07:36:30.000086+00:00",
          "2024-10-31T04:07:50.000086+00:00",
          "2024-10-31T05:47:30.000086+00:00"
         ],
         "hovertemplate": "type=connected<br>start=%{base}<br>end=%{x}<br>antenna=%{y}<extra></extra>",
         "legendgroup": "connected",
         "marker": {
          "color": "#00cc96",
          "pattern": {
           "shape": ""
          }
         },
         "name": "connected",
         "offsetgroup": "connected",
         "orientation": "h",
         "showlegend": true,
         "textposition": "auto",
         "type": "bar",
         "x": [
          99999.999,
          30000,
          310000,
          420000,
          390000,
          410000,
          370000.001,
          10000,
          280000,
          450000
         ],
         "xaxis": "x",
         "y": [
          "Dundee",
          "Dundee",
          "Dubai",
          "Awarua",
          "Awarua",
          "Sunyani",
          "Paumalu",
          "Harmon",
          "Chitose",
          "Chitose"
         ],
         "yaxis": "y"
        }
       ],
       "layout": {
        "barmode": "overlay",
        "legend": {
         "title": {
          "text": "type"
         },
         "tracegroupgap": 0
        },
        "margin": {
         "t": 60
        },
        "template": {
         "data": {
          "bar": [
           {
            "error_x": {
             "color": "#2a3f5f"
            },
            "error_y": {
             "color": "#2a3f5f"
            },
            "marker": {
             "line": {
              "color": "#E5ECF6",
              "width": 0.5
             },
             "pattern": {
              "fillmode": "overlay",
              "size": 10,
              "solidity": 0.2
             }
            },
            "type": "bar"
           }
          ],
          "barpolar": [
           {
            "marker": {
             "line": {
              "color": "#E5ECF6",
              "width": 0.5
             },
             "pattern": {
              "fillmode": "overlay",
              "size": 10,
              "solidity": 0.2
             }
            },
            "type": "barpolar"
           }
          ],
          "carpet": [
           {
            "aaxis": {
             "endlinecolor": "#2a3f5f",
             "gridcolor": "white",
             "linecolor": "white",
             "minorgridcolor": "white",
             "startlinecolor": "#2a3f5f"
            },
            "baxis": {
             "endlinecolor": "#2a3f5f",
             "gridcolor": "white",
             "linecolor": "white",
             "minorgridcolor": "white",
             "startlinecolor": "#2a3f5f"
            },
            "type": "carpet"
           }
          ],
          "choropleth": [
           {
            "colorbar": {
             "outlinewidth": 0,
             "ticks": ""
            },
            "type": "choropleth"
           }
          ],
          "contour": [
           {
            "colorbar": {
             "outlinewidth": 0,
             "ticks": ""
            },
            "colorscale": [
             [
              0,
              "#0d0887"
             ],
             [
              0.1111111111111111,
              "#46039f"
             ],
             [
              0.2222222222222222,
              "#7201a8"
             ],
             [
              0.3333333333333333,
              "#9c179e"
             ],
             [
              0.4444444444444444,
              "#bd3786"
             ],
             [
              0.5555555555555556,
              "#d8576b"
             ],
             [
              0.6666666666666666,
              "#ed7953"
             ],
             [
              0.7777777777777778,
              "#fb9f3a"
             ],
             [
              0.8888888888888888,
              "#fdca26"
             ],
             [
              1,
              "#f0f921"
             ]
            ],
            "type": "contour"
           }
          ],
          "contourcarpet": [
           {
            "colorbar": {
             "outlinewidth": 0,
             "ticks": ""
            },
            "type": "contourcarpet"
           }
          ],
          "heatmap": [
           {
            "colorbar": {
             "outlinewidth": 0,
             "ticks": ""
            },
            "colorscale": [
             [
              0,
              "#0d0887"
             ],
             [
              0.1111111111111111,
              "#46039f"
             ],
             [
              0.2222222222222222,
              "#7201a8"
             ],
             [
              0.3333333333333333,
              "#9c179e"
             ],
             [
              0.4444444444444444,
              "#bd3786"
             ],
             [
              0.5555555555555556,
              "#d8576b"
             ],
             [
              0.6666666666666666,
              "#ed7953"
             ],
             [
              0.7777777777777778,
              "#fb9f3a"
             ],
             [
              0.8888888888888888,
              "#fdca26"
             ],
             [
              1,
              "#f0f921"
             ]
            ],
            "type": "heatmap"
           }
          ],
          "heatmapgl": [
           {
            "colorbar": {
             "outlinewidth": 0,
             "ticks": ""
            },
            "colorscale": [
             [
              0,
              "#0d0887"
             ],
             [
              0.1111111111111111,
              "#46039f"
             ],
             [
              0.2222222222222222,
              "#7201a8"
             ],
             [
              0.3333333333333333,
              "#9c179e"
             ],
             [
              0.4444444444444444,
              "#bd3786"
             ],
             [
              0.5555555555555556,
              "#d8576b"
             ],
             [
              0.6666666666666666,
              "#ed7953"
             ],
             [
              0.7777777777777778,
              "#fb9f3a"
             ],
             [
              0.8888888888888888,
              "#fdca26"
             ],
             [
              1,
              "#f0f921"
             ]
            ],
            "type": "heatmapgl"
           }
          ],
          "histogram": [
           {
            "marker": {
             "pattern": {
              "fillmode": "overlay",
              "size": 10,
              "solidity": 0.2
             }
            },
            "type": "histogram"
           }
          ],
          "histogram2d": [
           {
            "colorbar": {
             "outlinewidth": 0,
             "ticks": ""
            },
            "colorscale": [
             [
              0,
              "#0d0887"
             ],
             [
              0.1111111111111111,
              "#46039f"
             ],
             [
              0.2222222222222222,
              "#7201a8"
             ],
             [
              0.3333333333333333,
              "#9c179e"
             ],
             [
              0.4444444444444444,
              "#bd3786"
             ],
             [
              0.5555555555555556,
              "#d8576b"
             ],
             [
              0.6666666666666666,
              "#ed7953"
             ],
             [
              0.7777777777777778,
              "#fb9f3a"
             ],
             [
              0.8888888888888888,
              "#fdca26"
             ],
             [
              1,
              "#f0f921"
             ]
            ],
            "type": "histogram2d"
           }
          ],
          "histogram2dcontour": [
           {
            "colorbar": {
             "outlinewidth": 0,
             "ticks": ""
            },
            "colorscale": [
             [
              0,
              "#0d0887"
             ],
             [
              0.1111111111111111,
              "#46039f"
             ],
             [
              0.2222222222222222,
              "#7201a8"
             ],
             [
              0.3333333333333333,
              "#9c179e"
             ],
             [
              0.4444444444444444,
              "#bd3786"
             ],
             [
              0.5555555555555556,
              "#d8576b"
             ],
             [
              0.6666666666666666,
              "#ed7953"
             ],
             [
              0.7777777777777778,
              "#fb9f3a"
             ],
             [
              0.8888888888888888,
              "#fdca26"
             ],
             [
              1,
              "#f0f921"
             ]
            ],
            "type": "histogram2dcontour"
           }
          ],
          "mesh3d": [
           {
            "colorbar": {
             "outlinewidth": 0,
             "ticks": ""
            },
            "type": "mesh3d"
           }
          ],
          "parcoords": [
           {
            "line": {
             "colorbar": {
              "outlinewidth": 0,
              "ticks": ""
             }
            },
            "type": "parcoords"
           }
          ],
          "pie": [
           {
            "automargin": true,
            "type": "pie"
           }
          ],
          "scatter": [
           {
            "fillpattern": {
             "fillmode": "overlay",
             "size": 10,
             "solidity": 0.2
            },
            "type": "scatter"
           }
          ],
          "scatter3d": [
           {
            "line": {
             "colorbar": {
              "outlinewidth": 0,
              "ticks": ""
             }
            },
            "marker": {
             "colorbar": {
              "outlinewidth": 0,
              "ticks": ""
             }
            },
            "type": "scatter3d"
           }
          ],
          "scattercarpet": [
           {
            "marker": {
             "colorbar": {
              "outlinewidth": 0,
              "ticks": ""
             }
            },
            "type": "scattercarpet"
           }
          ],
          "scattergeo": [
           {
            "marker": {
             "colorbar": {
              "outlinewidth": 0,
              "ticks": ""
             }
            },
            "type": "scattergeo"
           }
          ],
          "scattergl": [
           {
            "marker": {
             "colorbar": {
              "outlinewidth": 0,
              "ticks": ""
             }
            },
            "type": "scattergl"
           }
          ],
          "scattermapbox": [
           {
            "marker": {
             "colorbar": {
              "outlinewidth": 0,
              "ticks": ""
             }
            },
            "type": "scattermapbox"
           }
          ],
          "scatterpolar": [
           {
            "marker": {
             "colorbar": {
              "outlinewidth": 0,
              "ticks": ""
             }
            },
            "type": "scatterpolar"
           }
          ],
          "scatterpolargl": [
           {
            "marker": {
             "colorbar": {
              "outlinewidth": 0,
              "ticks": ""
             }
            },
            "type": "scatterpolargl"
           }
          ],
          "scatterternary": [
           {
            "marker": {
             "colorbar": {
              "outlinewidth": 0,
              "ticks": ""
             }
            },
            "type": "scatterternary"
           }
          ],
          "surface": [
           {
            "colorbar": {
             "outlinewidth": 0,
             "ticks": ""
            },
            "colorscale": [
             [
              0,
              "#0d0887"
             ],
             [
              0.1111111111111111,
              "#46039f"
             ],
             [
              0.2222222222222222,
              "#7201a8"
             ],
             [
              0.3333333333333333,
              "#9c179e"
             ],
             [
              0.4444444444444444,
              "#bd3786"
             ],
             [
              0.5555555555555556,
              "#d8576b"
             ],
             [
              0.6666666666666666,
              "#ed7953"
             ],
             [
              0.7777777777777778,
              "#fb9f3a"
             ],
             [
              0.8888888888888888,
              "#fdca26"
             ],
             [
              1,
              "#f0f921"
             ]
            ],
            "type": "surface"
           }
          ],
          "table": [
           {
            "cells": {
             "fill": {
              "color": "#EBF0F8"
             },
             "line": {
              "color": "white"
             }
            },
            "header": {
             "fill": {
              "color": "#C8D4E3"
             },
             "line": {
              "color": "white"
             }
            },
            "type": "table"
           }
          ]
         },
         "layout": {
          "annotationdefaults": {
           "arrowcolor": "#2a3f5f",
           "arrowhead": 0,
           "arrowwidth": 1
          },
          "autotypenumbers": "strict",
          "coloraxis": {
           "colorbar": {
            "outlinewidth": 0,
            "ticks": ""
           }
          },
          "colorscale": {
           "diverging": [
            [
             0,
             "#8e0152"
            ],
            [
             0.1,
             "#c51b7d"
            ],
            [
             0.2,
             "#de77ae"
            ],
            [
             0.3,
             "#f1b6da"
            ],
            [
             0.4,
             "#fde0ef"
            ],
            [
             0.5,
             "#f7f7f7"
            ],
            [
             0.6,
             "#e6f5d0"
            ],
            [
             0.7,
             "#b8e186"
            ],
            [
             0.8,
             "#7fbc41"
            ],
            [
             0.9,
             "#4d9221"
            ],
            [
             1,
             "#276419"
            ]
           ],
           "sequential": [
            [
             0,
             "#0d0887"
            ],
            [
             0.1111111111111111,
             "#46039f"
            ],
            [
             0.2222222222222222,
             "#7201a8"
            ],
            [
             0.3333333333333333,
             "#9c179e"
            ],
            [
             0.4444444444444444,
             "#bd3786"
            ],
            [
             0.5555555555555556,
             "#d8576b"
            ],
            [
             0.6666666666666666,
             "#ed7953"
            ],
            [
             0.7777777777777778,
             "#fb9f3a"
            ],
            [
             0.8888888888888888,
             "#fdca26"
            ],
            [
             1,
             "#f0f921"
            ]
           ],
           "sequentialminus": [
            [
             0,
             "#0d0887"
            ],
            [
             0.1111111111111111,
             "#46039f"
            ],
            [
             0.2222222222222222,
             "#7201a8"
            ],
            [
             0.3333333333333333,
             "#9c179e"
            ],
            [
             0.4444444444444444,
             "#bd3786"
            ],
            [
             0.5555555555555556,
             "#d8576b"
            ],
            [
             0.6666666666666666,
             "#ed7953"
            ],
            [
             0.7777777777777778,
             "#fb9f3a"
            ],
            [
             0.8888888888888888,
             "#fdca26"
            ],
            [
             1,
             "#f0f921"
            ]
           ]
          },
          "colorway": [
           "#636efa",
           "#EF553B",
           "#00cc96",
           "#ab63fa",
           "#FFA15A",
           "#19d3f3",
           "#FF6692",
           "#B6E880",
           "#FF97FF",
           "#FECB52"
          ],
          "font": {
           "color": "#2a3f5f"
          },
          "geo": {
           "bgcolor": "white",
           "lakecolor": "white",
           "landcolor": "#E5ECF6",
           "showlakes": true,
           "showland": true,
           "subunitcolor": "white"
          },
          "hoverlabel": {
           "align": "left"
          },
          "hovermode": "closest",
          "mapbox": {
           "style": "light"
          },
          "paper_bgcolor": "white",
          "plot_bgcolor": "#E5ECF6",
          "polar": {
           "angularaxis": {
            "gridcolor": "white",
            "linecolor": "white",
            "ticks": ""
           },
           "bgcolor": "#E5ECF6",
           "radialaxis": {
            "gridcolor": "white",
            "linecolor": "white",
            "ticks": ""
           }
          },
          "scene": {
           "xaxis": {
            "backgroundcolor": "#E5ECF6",
            "gridcolor": "white",
            "gridwidth": 2,
            "linecolor": "white",
            "showbackground": true,
            "ticks": "",
            "zerolinecolor": "white"
           },
           "yaxis": {
            "backgroundcolor": "#E5ECF6",
            "gridcolor": "white",
            "gridwidth": 2,
            "linecolor": "white",
            "showbackground": true,
            "ticks": "",
            "zerolinecolor": "white"
           },
           "zaxis": {
            "backgroundcolor": "#E5ECF6",
            "gridcolor": "white",
            "gridwidth": 2,
            "linecolor": "white",
            "showbackground": true,
            "ticks": "",
            "zerolinecolor": "white"
           }
          },
          "shapedefaults": {
           "line": {
            "color": "#2a3f5f"
           }
          },
          "ternary": {
           "aaxis": {
            "gridcolor": "white",
            "linecolor": "white",
            "ticks": ""
           },
           "baxis": {
            "gridcolor": "white",
            "linecolor": "white",
            "ticks": ""
           },
           "bgcolor": "#E5ECF6",
           "caxis": {
            "gridcolor": "white",
            "linecolor": "white",
            "ticks": ""
           }
          },
          "title": {
           "x": 0.05
          },
          "xaxis": {
           "automargin": true,
           "gridcolor": "white",
           "linecolor": "white",
           "ticks": "",
           "title": {
            "standoff": 15
           },
           "zerolinecolor": "white",
           "zerolinewidth": 2
          },
          "yaxis": {
           "automargin": true,
           "gridcolor": "white",
           "linecolor": "white",
           "ticks": "",
           "title": {
            "standoff": 15
           },
           "zerolinecolor": "white",
           "zerolinewidth": 2
          }
         }
        },
        "title": {
         "text": "Spacecraft 2-6 Access, In Fov, and Connected"
        },
        "xaxis": {
         "anchor": "y",
         "domain": [
          0,
          1
         ],
         "type": "date"
        },
        "yaxis": {
         "anchor": "x",
         "categoryorder": "total ascending",
         "domain": [
          0,
          1
         ],
         "title": {
          "text": "antenna"
         }
        }
       }
      }
     },
     "metadata": {},
     "output_type": "display_data"
    },
    {
     "data": {
      "application/vnd.plotly.v1+json": {
       "config": {
        "plotlyServerURL": "https://plot.ly"
       },
       "data": [
        {
         "alignmentgroup": "True",
         "base": [
          "2024-10-31T00:45:40.000087+00:00",
          "2024-10-31T06:51:00.000087+00:00",
          "2024-10-31T08:29:30.000086+00:00",
          "2024-10-31T10:09:50.000086+00:00",
          "2024-10-31T11:50:50.000086+00:00",
          "2024-10-31T01:49:30.000086+00:00",
          "2024-10-31T03:30:00.000086+00:00",
          "2024-10-31T10:27:10.000086+00:00",
          "2024-10-31T01:41:40.000086+00:00",
          "2024-10-31T03:19:30.000086+00:00",
          "2024-10-31T00:34:40.000086+00:00",
          "2024-10-31T02:15:20.000086+00:00",
          "2024-10-31T06:00:30.000086+00:00",
          "2024-10-31T07:36:40.000086+00:00",
          "2024-10-31T09:17:00.000086+00:00",
          "2024-10-31T10:59:10.000086+00:00",
          "2024-10-31T04:58:20.000086+00:00",
          "2024-10-31T06:39:20.000086+00:00",
          "2024-10-31T00:46:40.000086+00:00",
          "2024-10-31T02:23:30.000086+00:00",
          "2024-10-31T04:04:50.000086+00:00",
          "2024-10-31T05:40:00.000086+00:00",
          "2024-10-31T07:19:00.000086+00:00",
          "2024-10-31T02:36:10.000086+00:00",
          "2024-10-31T04:14:30.000086+00:00",
          "2024-10-31T06:00:20.000086+00:00",
          "2024-10-31T00:26:40.000086+00:00",
          "2024-10-31T02:09:40.000086+00:00",
          "2024-10-31T03:50:50.000086+00:00",
          "2024-10-31T05:31:20.000086+00:00",
          "2024-10-31T07:12:30.000086+00:00"
         ],
         "hovertemplate": "type=access<br>start=%{base}<br>end=%{x}<br>antenna=%{y}<extra></extra>",
         "legendgroup": "access",
         "marker": {
          "color": "#636efa",
          "pattern": {
           "shape": ""
          }
         },
         "name": "access",
         "offsetgroup": "access",
         "orientation": "h",
         "showlegend": true,
         "textposition": "auto",
         "type": "bar",
         "x": [
          710000,
          669999.999,
          810000,
          830000,
          540000,
          760000,
          750000,
          470000,
          510000,
          810000,
          640000,
          390000,
          410000,
          790000,
          810000,
          730000,
          770000,
          690000,
          260000.001,
          800000,
          660000.001,
          620000,
          810000,
          600000,
          810000,
          260000,
          670000,
          610000.001,
          740000,
          820000,
          660000
         ],
         "xaxis": "x",
         "y": [
          "Mojave",
          "Dundee",
          "Dundee",
          "Dundee",
          "Dundee",
          "Dubai",
          "Dubai",
          "Dubai",
          "Mwulire",
          "Mwulire",
          "Utqiagvik",
          "Utqiagvik",
          "Awarua",
          "Awarua",
          "Awarua",
          "Awarua",
          "Sunyani",
          "Sunyani",
          "Paumalu",
          "Paumalu",
          "Paumalu",
          "Harmon",
          "Harmon",
          "Tahiti",
          "Tahiti",
          "Tahiti",
          "Chitose",
          "Chitose",
          "Chitose",
          "Chitose",
          "Chitose"
         ],
         "yaxis": "y"
        },
        {
         "alignmentgroup": "True",
         "base": [
          "2024-10-31T00:50:20.000086+00:00",
          "2024-10-31T08:32:40.000086+00:00",
          "2024-10-31T10:13:00.000086+00:00",
          "2024-10-31T10:20:00.000087+00:00",
          "2024-10-31T01:53:10.000087+00:00",
          "2024-10-31T07:40:00.000086+00:00",
          "2024-10-31T09:20:20.000086+00:00",
          "2024-10-31T11:03:50.000087+00:00",
          "2024-10-31T05:02:00.000086+00:00",
          "2024-10-31T06:44:10.000086+00:00",
          "2024-10-31T02:28:40.000087+00:00",
          "2024-10-31T07:22:10.000086+00:00",
          "2024-10-31T03:55:20.000086+00:00",
          "2024-10-31T05:34:30.000086+00:00"
         ],
         "hovertemplate": "type=inFov<br>start=%{base}<br>end=%{x}<br>antenna=%{y}<extra></extra>",
         "legendgroup": "inFov",
         "marker": {
          "color": "#EF553B",
          "pattern": {
           "shape": ""
          }
         },
         "name": "inFov",
         "offsetgroup": "inFov",
         "orientation": "h",
         "showlegend": true,
         "textposition": "auto",
         "type": "bar",
         "x": [
          160000,
          70000,
          100000.001,
          29999.999,
          329999.999,
          390000,
          410000,
          169999.999,
          330000,
          100000,
          229999.999,
          90000,
          210000,
          440000
         ],
         "xaxis": "x",
         "y": [
          "Mojave",
          "Dundee",
          "Dundee",
          "Dundee",
          "Dubai",
          "Awarua",
          "Awarua",
          "Awarua",
          "Sunyani",
          "Sunyani",
          "Paumalu",
          "Harmon",
          "Chitose",
          "Chitose"
         ],
         "yaxis": "y"
        },
        {
         "alignmentgroup": "True",
         "base": [
          "2024-10-31T00:50:20.000086+00:00",
          "2024-10-31T08:32:40.000086+00:00",
          "2024-10-31T10:13:00.000086+00:00",
          "2024-10-31T10:20:00.000087+00:00",
          "2024-10-31T01:53:10.000087+00:00",
          "2024-10-31T07:40:00.000086+00:00",
          "2024-10-31T09:20:20.000086+00:00",
          "2024-10-31T11:03:50.000087+00:00",
          "2024-10-31T05:02:00.000086+00:00",
          "2024-10-31T06:44:10.000086+00:00",
          "2024-10-31T02:28:40.000087+00:00",
          "2024-10-31T07:22:10.000086+00:00",
          "2024-10-31T03:55:20.000086+00:00",
          "2024-10-31T05:34:30.000086+00:00"
         ],
         "hovertemplate": "type=connected<br>start=%{base}<br>end=%{x}<br>antenna=%{y}<extra></extra>",
         "legendgroup": "connected",
         "marker": {
          "color": "#00cc96",
          "pattern": {
           "shape": ""
          }
         },
         "name": "connected",
         "offsetgroup": "connected",
         "orientation": "h",
         "showlegend": true,
         "textposition": "auto",
         "type": "bar",
         "x": [
          160000,
          70000,
          100000.001,
          29999.999,
          329999.999,
          390000,
          410000,
          169999.999,
          330000,
          100000,
          229999.999,
          90000,
          210000,
          440000
         ],
         "xaxis": "x",
         "y": [
          "Mojave",
          "Dundee",
          "Dundee",
          "Dundee",
          "Dubai",
          "Awarua",
          "Awarua",
          "Awarua",
          "Sunyani",
          "Sunyani",
          "Paumalu",
          "Harmon",
          "Chitose",
          "Chitose"
         ],
         "yaxis": "y"
        }
       ],
       "layout": {
        "barmode": "overlay",
        "legend": {
         "title": {
          "text": "type"
         },
         "tracegroupgap": 0
        },
        "margin": {
         "t": 60
        },
        "template": {
         "data": {
          "bar": [
           {
            "error_x": {
             "color": "#2a3f5f"
            },
            "error_y": {
             "color": "#2a3f5f"
            },
            "marker": {
             "line": {
              "color": "#E5ECF6",
              "width": 0.5
             },
             "pattern": {
              "fillmode": "overlay",
              "size": 10,
              "solidity": 0.2
             }
            },
            "type": "bar"
           }
          ],
          "barpolar": [
           {
            "marker": {
             "line": {
              "color": "#E5ECF6",
              "width": 0.5
             },
             "pattern": {
              "fillmode": "overlay",
              "size": 10,
              "solidity": 0.2
             }
            },
            "type": "barpolar"
           }
          ],
          "carpet": [
           {
            "aaxis": {
             "endlinecolor": "#2a3f5f",
             "gridcolor": "white",
             "linecolor": "white",
             "minorgridcolor": "white",
             "startlinecolor": "#2a3f5f"
            },
            "baxis": {
             "endlinecolor": "#2a3f5f",
             "gridcolor": "white",
             "linecolor": "white",
             "minorgridcolor": "white",
             "startlinecolor": "#2a3f5f"
            },
            "type": "carpet"
           }
          ],
          "choropleth": [
           {
            "colorbar": {
             "outlinewidth": 0,
             "ticks": ""
            },
            "type": "choropleth"
           }
          ],
          "contour": [
           {
            "colorbar": {
             "outlinewidth": 0,
             "ticks": ""
            },
            "colorscale": [
             [
              0,
              "#0d0887"
             ],
             [
              0.1111111111111111,
              "#46039f"
             ],
             [
              0.2222222222222222,
              "#7201a8"
             ],
             [
              0.3333333333333333,
              "#9c179e"
             ],
             [
              0.4444444444444444,
              "#bd3786"
             ],
             [
              0.5555555555555556,
              "#d8576b"
             ],
             [
              0.6666666666666666,
              "#ed7953"
             ],
             [
              0.7777777777777778,
              "#fb9f3a"
             ],
             [
              0.8888888888888888,
              "#fdca26"
             ],
             [
              1,
              "#f0f921"
             ]
            ],
            "type": "contour"
           }
          ],
          "contourcarpet": [
           {
            "colorbar": {
             "outlinewidth": 0,
             "ticks": ""
            },
            "type": "contourcarpet"
           }
          ],
          "heatmap": [
           {
            "colorbar": {
             "outlinewidth": 0,
             "ticks": ""
            },
            "colorscale": [
             [
              0,
              "#0d0887"
             ],
             [
              0.1111111111111111,
              "#46039f"
             ],
             [
              0.2222222222222222,
              "#7201a8"
             ],
             [
              0.3333333333333333,
              "#9c179e"
             ],
             [
              0.4444444444444444,
              "#bd3786"
             ],
             [
              0.5555555555555556,
              "#d8576b"
             ],
             [
              0.6666666666666666,
              "#ed7953"
             ],
             [
              0.7777777777777778,
              "#fb9f3a"
             ],
             [
              0.8888888888888888,
              "#fdca26"
             ],
             [
              1,
              "#f0f921"
             ]
            ],
            "type": "heatmap"
           }
          ],
          "heatmapgl": [
           {
            "colorbar": {
             "outlinewidth": 0,
             "ticks": ""
            },
            "colorscale": [
             [
              0,
              "#0d0887"
             ],
             [
              0.1111111111111111,
              "#46039f"
             ],
             [
              0.2222222222222222,
              "#7201a8"
             ],
             [
              0.3333333333333333,
              "#9c179e"
             ],
             [
              0.4444444444444444,
              "#bd3786"
             ],
             [
              0.5555555555555556,
              "#d8576b"
             ],
             [
              0.6666666666666666,
              "#ed7953"
             ],
             [
              0.7777777777777778,
              "#fb9f3a"
             ],
             [
              0.8888888888888888,
              "#fdca26"
             ],
             [
              1,
              "#f0f921"
             ]
            ],
            "type": "heatmapgl"
           }
          ],
          "histogram": [
           {
            "marker": {
             "pattern": {
              "fillmode": "overlay",
              "size": 10,
              "solidity": 0.2
             }
            },
            "type": "histogram"
           }
          ],
          "histogram2d": [
           {
            "colorbar": {
             "outlinewidth": 0,
             "ticks": ""
            },
            "colorscale": [
             [
              0,
              "#0d0887"
             ],
             [
              0.1111111111111111,
              "#46039f"
             ],
             [
              0.2222222222222222,
              "#7201a8"
             ],
             [
              0.3333333333333333,
              "#9c179e"
             ],
             [
              0.4444444444444444,
              "#bd3786"
             ],
             [
              0.5555555555555556,
              "#d8576b"
             ],
             [
              0.6666666666666666,
              "#ed7953"
             ],
             [
              0.7777777777777778,
              "#fb9f3a"
             ],
             [
              0.8888888888888888,
              "#fdca26"
             ],
             [
              1,
              "#f0f921"
             ]
            ],
            "type": "histogram2d"
           }
          ],
          "histogram2dcontour": [
           {
            "colorbar": {
             "outlinewidth": 0,
             "ticks": ""
            },
            "colorscale": [
             [
              0,
              "#0d0887"
             ],
             [
              0.1111111111111111,
              "#46039f"
             ],
             [
              0.2222222222222222,
              "#7201a8"
             ],
             [
              0.3333333333333333,
              "#9c179e"
             ],
             [
              0.4444444444444444,
              "#bd3786"
             ],
             [
              0.5555555555555556,
              "#d8576b"
             ],
             [
              0.6666666666666666,
              "#ed7953"
             ],
             [
              0.7777777777777778,
              "#fb9f3a"
             ],
             [
              0.8888888888888888,
              "#fdca26"
             ],
             [
              1,
              "#f0f921"
             ]
            ],
            "type": "histogram2dcontour"
           }
          ],
          "mesh3d": [
           {
            "colorbar": {
             "outlinewidth": 0,
             "ticks": ""
            },
            "type": "mesh3d"
           }
          ],
          "parcoords": [
           {
            "line": {
             "colorbar": {
              "outlinewidth": 0,
              "ticks": ""
             }
            },
            "type": "parcoords"
           }
          ],
          "pie": [
           {
            "automargin": true,
            "type": "pie"
           }
          ],
          "scatter": [
           {
            "fillpattern": {
             "fillmode": "overlay",
             "size": 10,
             "solidity": 0.2
            },
            "type": "scatter"
           }
          ],
          "scatter3d": [
           {
            "line": {
             "colorbar": {
              "outlinewidth": 0,
              "ticks": ""
             }
            },
            "marker": {
             "colorbar": {
              "outlinewidth": 0,
              "ticks": ""
             }
            },
            "type": "scatter3d"
           }
          ],
          "scattercarpet": [
           {
            "marker": {
             "colorbar": {
              "outlinewidth": 0,
              "ticks": ""
             }
            },
            "type": "scattercarpet"
           }
          ],
          "scattergeo": [
           {
            "marker": {
             "colorbar": {
              "outlinewidth": 0,
              "ticks": ""
             }
            },
            "type": "scattergeo"
           }
          ],
          "scattergl": [
           {
            "marker": {
             "colorbar": {
              "outlinewidth": 0,
              "ticks": ""
             }
            },
            "type": "scattergl"
           }
          ],
          "scattermapbox": [
           {
            "marker": {
             "colorbar": {
              "outlinewidth": 0,
              "ticks": ""
             }
            },
            "type": "scattermapbox"
           }
          ],
          "scatterpolar": [
           {
            "marker": {
             "colorbar": {
              "outlinewidth": 0,
              "ticks": ""
             }
            },
            "type": "scatterpolar"
           }
          ],
          "scatterpolargl": [
           {
            "marker": {
             "colorbar": {
              "outlinewidth": 0,
              "ticks": ""
             }
            },
            "type": "scatterpolargl"
           }
          ],
          "scatterternary": [
           {
            "marker": {
             "colorbar": {
              "outlinewidth": 0,
              "ticks": ""
             }
            },
            "type": "scatterternary"
           }
          ],
          "surface": [
           {
            "colorbar": {
             "outlinewidth": 0,
             "ticks": ""
            },
            "colorscale": [
             [
              0,
              "#0d0887"
             ],
             [
              0.1111111111111111,
              "#46039f"
             ],
             [
              0.2222222222222222,
              "#7201a8"
             ],
             [
              0.3333333333333333,
              "#9c179e"
             ],
             [
              0.4444444444444444,
              "#bd3786"
             ],
             [
              0.5555555555555556,
              "#d8576b"
             ],
             [
              0.6666666666666666,
              "#ed7953"
             ],
             [
              0.7777777777777778,
              "#fb9f3a"
             ],
             [
              0.8888888888888888,
              "#fdca26"
             ],
             [
              1,
              "#f0f921"
             ]
            ],
            "type": "surface"
           }
          ],
          "table": [
           {
            "cells": {
             "fill": {
              "color": "#EBF0F8"
             },
             "line": {
              "color": "white"
             }
            },
            "header": {
             "fill": {
              "color": "#C8D4E3"
             },
             "line": {
              "color": "white"
             }
            },
            "type": "table"
           }
          ]
         },
         "layout": {
          "annotationdefaults": {
           "arrowcolor": "#2a3f5f",
           "arrowhead": 0,
           "arrowwidth": 1
          },
          "autotypenumbers": "strict",
          "coloraxis": {
           "colorbar": {
            "outlinewidth": 0,
            "ticks": ""
           }
          },
          "colorscale": {
           "diverging": [
            [
             0,
             "#8e0152"
            ],
            [
             0.1,
             "#c51b7d"
            ],
            [
             0.2,
             "#de77ae"
            ],
            [
             0.3,
             "#f1b6da"
            ],
            [
             0.4,
             "#fde0ef"
            ],
            [
             0.5,
             "#f7f7f7"
            ],
            [
             0.6,
             "#e6f5d0"
            ],
            [
             0.7,
             "#b8e186"
            ],
            [
             0.8,
             "#7fbc41"
            ],
            [
             0.9,
             "#4d9221"
            ],
            [
             1,
             "#276419"
            ]
           ],
           "sequential": [
            [
             0,
             "#0d0887"
            ],
            [
             0.1111111111111111,
             "#46039f"
            ],
            [
             0.2222222222222222,
             "#7201a8"
            ],
            [
             0.3333333333333333,
             "#9c179e"
            ],
            [
             0.4444444444444444,
             "#bd3786"
            ],
            [
             0.5555555555555556,
             "#d8576b"
            ],
            [
             0.6666666666666666,
             "#ed7953"
            ],
            [
             0.7777777777777778,
             "#fb9f3a"
            ],
            [
             0.8888888888888888,
             "#fdca26"
            ],
            [
             1,
             "#f0f921"
            ]
           ],
           "sequentialminus": [
            [
             0,
             "#0d0887"
            ],
            [
             0.1111111111111111,
             "#46039f"
            ],
            [
             0.2222222222222222,
             "#7201a8"
            ],
            [
             0.3333333333333333,
             "#9c179e"
            ],
            [
             0.4444444444444444,
             "#bd3786"
            ],
            [
             0.5555555555555556,
             "#d8576b"
            ],
            [
             0.6666666666666666,
             "#ed7953"
            ],
            [
             0.7777777777777778,
             "#fb9f3a"
            ],
            [
             0.8888888888888888,
             "#fdca26"
            ],
            [
             1,
             "#f0f921"
            ]
           ]
          },
          "colorway": [
           "#636efa",
           "#EF553B",
           "#00cc96",
           "#ab63fa",
           "#FFA15A",
           "#19d3f3",
           "#FF6692",
           "#B6E880",
           "#FF97FF",
           "#FECB52"
          ],
          "font": {
           "color": "#2a3f5f"
          },
          "geo": {
           "bgcolor": "white",
           "lakecolor": "white",
           "landcolor": "#E5ECF6",
           "showlakes": true,
           "showland": true,
           "subunitcolor": "white"
          },
          "hoverlabel": {
           "align": "left"
          },
          "hovermode": "closest",
          "mapbox": {
           "style": "light"
          },
          "paper_bgcolor": "white",
          "plot_bgcolor": "#E5ECF6",
          "polar": {
           "angularaxis": {
            "gridcolor": "white",
            "linecolor": "white",
            "ticks": ""
           },
           "bgcolor": "#E5ECF6",
           "radialaxis": {
            "gridcolor": "white",
            "linecolor": "white",
            "ticks": ""
           }
          },
          "scene": {
           "xaxis": {
            "backgroundcolor": "#E5ECF6",
            "gridcolor": "white",
            "gridwidth": 2,
            "linecolor": "white",
            "showbackground": true,
            "ticks": "",
            "zerolinecolor": "white"
           },
           "yaxis": {
            "backgroundcolor": "#E5ECF6",
            "gridcolor": "white",
            "gridwidth": 2,
            "linecolor": "white",
            "showbackground": true,
            "ticks": "",
            "zerolinecolor": "white"
           },
           "zaxis": {
            "backgroundcolor": "#E5ECF6",
            "gridcolor": "white",
            "gridwidth": 2,
            "linecolor": "white",
            "showbackground": true,
            "ticks": "",
            "zerolinecolor": "white"
           }
          },
          "shapedefaults": {
           "line": {
            "color": "#2a3f5f"
           }
          },
          "ternary": {
           "aaxis": {
            "gridcolor": "white",
            "linecolor": "white",
            "ticks": ""
           },
           "baxis": {
            "gridcolor": "white",
            "linecolor": "white",
            "ticks": ""
           },
           "bgcolor": "#E5ECF6",
           "caxis": {
            "gridcolor": "white",
            "linecolor": "white",
            "ticks": ""
           }
          },
          "title": {
           "x": 0.05
          },
          "xaxis": {
           "automargin": true,
           "gridcolor": "white",
           "linecolor": "white",
           "ticks": "",
           "title": {
            "standoff": 15
           },
           "zerolinecolor": "white",
           "zerolinewidth": 2
          },
          "yaxis": {
           "automargin": true,
           "gridcolor": "white",
           "linecolor": "white",
           "ticks": "",
           "title": {
            "standoff": 15
           },
           "zerolinecolor": "white",
           "zerolinewidth": 2
          }
         }
        },
        "title": {
         "text": "Spacecraft 2-7 Access, In Fov, and Connected"
        },
        "xaxis": {
         "anchor": "y",
         "domain": [
          0,
          1
         ],
         "type": "date"
        },
        "yaxis": {
         "anchor": "x",
         "categoryorder": "total ascending",
         "domain": [
          0,
          1
         ],
         "title": {
          "text": "antenna"
         }
        }
       }
      }
     },
     "metadata": {},
     "output_type": "display_data"
    },
    {
     "data": {
      "application/vnd.plotly.v1+json": {
       "config": {
        "plotlyServerURL": "https://plot.ly"
       },
       "data": [
        {
         "alignmentgroup": "True",
         "base": [
          "2024-10-31T00:33:00.000086+00:00",
          "2024-10-31T06:38:20.000086+00:00",
          "2024-10-31T08:16:20.000086+00:00",
          "2024-10-31T09:56:20.000087+00:00",
          "2024-10-31T11:37:10.000086+00:00",
          "2024-10-31T01:37:20.000086+00:00",
          "2024-10-31T03:16:50.000086+00:00",
          "2024-10-31T05:03:40.000086+00:00",
          "2024-10-31T10:14:40.000087+00:00",
          "2024-10-31T11:52:10.000086+00:00",
          "2024-10-31T01:30:00.000086+00:00",
          "2024-10-31T03:06:40.000086+00:00",
          "2024-10-31T04:50:30.000086+00:00",
          "2024-10-31T00:22:10.000086+00:00",
          "2024-10-31T02:02:30.000086+00:00",
          "2024-10-31T05:49:10.000086+00:00",
          "2024-10-31T07:23:40.000086+00:00",
          "2024-10-31T09:03:30.000086+00:00",
          "2024-10-31T10:45:30.000087+00:00",
          "2024-10-31T04:45:50.000086+00:00",
          "2024-10-31T06:25:40.000086+00:00",
          "2024-10-31T02:11:00.000086+00:00",
          "2024-10-31T03:51:40.000086+00:00",
          "2024-10-31T05:27:50.000086+00:00",
          "2024-10-31T07:05:50.000087+00:00",
          "2024-10-31T08:50:30.000086+00:00",
          "2024-10-31T02:24:30.000086+00:00",
          "2024-10-31T04:01:40.000087+00:00",
          "2024-10-31T05:45:40.000086+00:00",
          "2024-10-31T00:13:40.000087+00:00",
          "2024-10-31T01:56:40.000086+00:00",
          "2024-10-31T03:38:00.000087+00:00",
          "2024-10-31T05:18:20.000086+00:00",
          "2024-10-31T06:59:10.000086+00:00"
         ],
         "hovertemplate": "type=access<br>start=%{base}<br>end=%{x}<br>antenna=%{y}<extra></extra>",
         "legendgroup": "access",
         "marker": {
          "color": "#636efa",
          "pattern": {
           "shape": ""
          }
         },
         "name": "access",
         "offsetgroup": "access",
         "orientation": "h",
         "showlegend": true,
         "textposition": "auto",
         "type": "bar",
         "x": [
          740000,
          630000,
          800000,
          829999.999,
          820000,
          720000,
          780000,
          150000.001,
          329999.999,
          460000,
          380000,
          820000,
          380000,
          650000,
          430000,
          220000,
          770000,
          810000,
          729999.999,
          720000,
          750000,
          770000,
          700000,
          510000,
          809999.999,
          240000,
          490000,
          809999.999,
          420000,
          689999.999,
          610000,
          710000,
          810000,
          700000
         ],
         "xaxis": "x",
         "y": [
          "Mojave",
          "Dundee",
          "Dundee",
          "Dundee",
          "Dundee",
          "Dubai",
          "Dubai",
          "Dubai",
          "Dubai",
          "Dubai",
          "Mwulire",
          "Mwulire",
          "Mwulire",
          "Utqiagvik",
          "Utqiagvik",
          "Awarua",
          "Awarua",
          "Awarua",
          "Awarua",
          "Sunyani",
          "Sunyani",
          "Paumalu",
          "Paumalu",
          "Harmon",
          "Harmon",
          "Harmon",
          "Tahiti",
          "Tahiti",
          "Tahiti",
          "Chitose",
          "Chitose",
          "Chitose",
          "Chitose",
          "Chitose"
         ],
         "yaxis": "y"
        },
        {
         "alignmentgroup": "True",
         "base": [
          "2024-10-31T00:36:50.000086+00:00",
          "2024-10-31T09:59:30.000086+00:00",
          "2024-10-31T11:40:20.000086+00:00",
          "2024-10-31T01:41:20.000087+00:00",
          "2024-10-31T11:55:30.000086+00:00",
          "2024-10-31T07:27:10.000086+00:00",
          "2024-10-31T09:06:40.000086+00:00",
          "2024-10-31T10:49:50.000086+00:00",
          "2024-10-31T04:50:00.000086+00:00",
          "2024-10-31T06:29:30.000086+00:00",
          "2024-10-31T02:16:50.000087+00:00",
          "2024-10-31T03:55:50.000086+00:00",
          "2024-10-31T07:14:50.000086+00:00",
          "2024-10-31T03:43:00.000086+00:00",
          "2024-10-31T05:21:30.000086+00:00",
          "2024-10-31T07:03:40.000086+00:00"
         ],
         "hovertemplate": "type=inFov<br>start=%{base}<br>end=%{x}<br>antenna=%{y}<extra></extra>",
         "legendgroup": "inFov",
         "marker": {
          "color": "#EF553B",
          "pattern": {
           "shape": ""
          }
         },
         "name": "inFov",
         "offsetgroup": "inFov",
         "orientation": "h",
         "showlegend": true,
         "textposition": "auto",
         "type": "bar",
         "x": [
          280000.001,
          450000.001,
          440000.001,
          229999.999,
          260000,
          350000.001,
          430000,
          200000.001,
          220000,
          290000,
          139999.999,
          190000,
          90000,
          120000,
          440000,
          160000
         ],
         "xaxis": "x",
         "y": [
          "Mojave",
          "Dundee",
          "Dundee",
          "Dubai",
          "Dubai",
          "Awarua",
          "Awarua",
          "Awarua",
          "Sunyani",
          "Sunyani",
          "Paumalu",
          "Paumalu",
          "Harmon",
          "Chitose",
          "Chitose",
          "Chitose"
         ],
         "yaxis": "y"
        },
        {
         "alignmentgroup": "True",
         "base": [
          "2024-10-31T00:36:50.000086+00:00",
          "2024-10-31T09:59:30.000086+00:00",
          "2024-10-31T11:40:20.000086+00:00",
          "2024-10-31T01:41:20.000087+00:00",
          "2024-10-31T11:55:30.000086+00:00",
          "2024-10-31T07:27:10.000086+00:00",
          "2024-10-31T09:06:40.000086+00:00",
          "2024-10-31T10:49:50.000086+00:00",
          "2024-10-31T04:50:00.000086+00:00",
          "2024-10-31T06:29:30.000086+00:00",
          "2024-10-31T02:16:50.000087+00:00",
          "2024-10-31T03:55:50.000086+00:00",
          "2024-10-31T07:14:50.000086+00:00",
          "2024-10-31T03:43:00.000086+00:00",
          "2024-10-31T05:21:30.000086+00:00",
          "2024-10-31T07:03:40.000086+00:00"
         ],
         "hovertemplate": "type=connected<br>start=%{base}<br>end=%{x}<br>antenna=%{y}<extra></extra>",
         "legendgroup": "connected",
         "marker": {
          "color": "#00cc96",
          "pattern": {
           "shape": ""
          }
         },
         "name": "connected",
         "offsetgroup": "connected",
         "orientation": "h",
         "showlegend": true,
         "textposition": "auto",
         "type": "bar",
         "x": [
          280000.001,
          450000.001,
          440000.001,
          229999.999,
          260000,
          350000.001,
          430000,
          200000.001,
          220000,
          290000,
          139999.999,
          190000,
          90000,
          120000,
          440000,
          160000
         ],
         "xaxis": "x",
         "y": [
          "Mojave",
          "Dundee",
          "Dundee",
          "Dubai",
          "Dubai",
          "Awarua",
          "Awarua",
          "Awarua",
          "Sunyani",
          "Sunyani",
          "Paumalu",
          "Paumalu",
          "Harmon",
          "Chitose",
          "Chitose",
          "Chitose"
         ],
         "yaxis": "y"
        }
       ],
       "layout": {
        "barmode": "overlay",
        "legend": {
         "title": {
          "text": "type"
         },
         "tracegroupgap": 0
        },
        "margin": {
         "t": 60
        },
        "template": {
         "data": {
          "bar": [
           {
            "error_x": {
             "color": "#2a3f5f"
            },
            "error_y": {
             "color": "#2a3f5f"
            },
            "marker": {
             "line": {
              "color": "#E5ECF6",
              "width": 0.5
             },
             "pattern": {
              "fillmode": "overlay",
              "size": 10,
              "solidity": 0.2
             }
            },
            "type": "bar"
           }
          ],
          "barpolar": [
           {
            "marker": {
             "line": {
              "color": "#E5ECF6",
              "width": 0.5
             },
             "pattern": {
              "fillmode": "overlay",
              "size": 10,
              "solidity": 0.2
             }
            },
            "type": "barpolar"
           }
          ],
          "carpet": [
           {
            "aaxis": {
             "endlinecolor": "#2a3f5f",
             "gridcolor": "white",
             "linecolor": "white",
             "minorgridcolor": "white",
             "startlinecolor": "#2a3f5f"
            },
            "baxis": {
             "endlinecolor": "#2a3f5f",
             "gridcolor": "white",
             "linecolor": "white",
             "minorgridcolor": "white",
             "startlinecolor": "#2a3f5f"
            },
            "type": "carpet"
           }
          ],
          "choropleth": [
           {
            "colorbar": {
             "outlinewidth": 0,
             "ticks": ""
            },
            "type": "choropleth"
           }
          ],
          "contour": [
           {
            "colorbar": {
             "outlinewidth": 0,
             "ticks": ""
            },
            "colorscale": [
             [
              0,
              "#0d0887"
             ],
             [
              0.1111111111111111,
              "#46039f"
             ],
             [
              0.2222222222222222,
              "#7201a8"
             ],
             [
              0.3333333333333333,
              "#9c179e"
             ],
             [
              0.4444444444444444,
              "#bd3786"
             ],
             [
              0.5555555555555556,
              "#d8576b"
             ],
             [
              0.6666666666666666,
              "#ed7953"
             ],
             [
              0.7777777777777778,
              "#fb9f3a"
             ],
             [
              0.8888888888888888,
              "#fdca26"
             ],
             [
              1,
              "#f0f921"
             ]
            ],
            "type": "contour"
           }
          ],
          "contourcarpet": [
           {
            "colorbar": {
             "outlinewidth": 0,
             "ticks": ""
            },
            "type": "contourcarpet"
           }
          ],
          "heatmap": [
           {
            "colorbar": {
             "outlinewidth": 0,
             "ticks": ""
            },
            "colorscale": [
             [
              0,
              "#0d0887"
             ],
             [
              0.1111111111111111,
              "#46039f"
             ],
             [
              0.2222222222222222,
              "#7201a8"
             ],
             [
              0.3333333333333333,
              "#9c179e"
             ],
             [
              0.4444444444444444,
              "#bd3786"
             ],
             [
              0.5555555555555556,
              "#d8576b"
             ],
             [
              0.6666666666666666,
              "#ed7953"
             ],
             [
              0.7777777777777778,
              "#fb9f3a"
             ],
             [
              0.8888888888888888,
              "#fdca26"
             ],
             [
              1,
              "#f0f921"
             ]
            ],
            "type": "heatmap"
           }
          ],
          "heatmapgl": [
           {
            "colorbar": {
             "outlinewidth": 0,
             "ticks": ""
            },
            "colorscale": [
             [
              0,
              "#0d0887"
             ],
             [
              0.1111111111111111,
              "#46039f"
             ],
             [
              0.2222222222222222,
              "#7201a8"
             ],
             [
              0.3333333333333333,
              "#9c179e"
             ],
             [
              0.4444444444444444,
              "#bd3786"
             ],
             [
              0.5555555555555556,
              "#d8576b"
             ],
             [
              0.6666666666666666,
              "#ed7953"
             ],
             [
              0.7777777777777778,
              "#fb9f3a"
             ],
             [
              0.8888888888888888,
              "#fdca26"
             ],
             [
              1,
              "#f0f921"
             ]
            ],
            "type": "heatmapgl"
           }
          ],
          "histogram": [
           {
            "marker": {
             "pattern": {
              "fillmode": "overlay",
              "size": 10,
              "solidity": 0.2
             }
            },
            "type": "histogram"
           }
          ],
          "histogram2d": [
           {
            "colorbar": {
             "outlinewidth": 0,
             "ticks": ""
            },
            "colorscale": [
             [
              0,
              "#0d0887"
             ],
             [
              0.1111111111111111,
              "#46039f"
             ],
             [
              0.2222222222222222,
              "#7201a8"
             ],
             [
              0.3333333333333333,
              "#9c179e"
             ],
             [
              0.4444444444444444,
              "#bd3786"
             ],
             [
              0.5555555555555556,
              "#d8576b"
             ],
             [
              0.6666666666666666,
              "#ed7953"
             ],
             [
              0.7777777777777778,
              "#fb9f3a"
             ],
             [
              0.8888888888888888,
              "#fdca26"
             ],
             [
              1,
              "#f0f921"
             ]
            ],
            "type": "histogram2d"
           }
          ],
          "histogram2dcontour": [
           {
            "colorbar": {
             "outlinewidth": 0,
             "ticks": ""
            },
            "colorscale": [
             [
              0,
              "#0d0887"
             ],
             [
              0.1111111111111111,
              "#46039f"
             ],
             [
              0.2222222222222222,
              "#7201a8"
             ],
             [
              0.3333333333333333,
              "#9c179e"
             ],
             [
              0.4444444444444444,
              "#bd3786"
             ],
             [
              0.5555555555555556,
              "#d8576b"
             ],
             [
              0.6666666666666666,
              "#ed7953"
             ],
             [
              0.7777777777777778,
              "#fb9f3a"
             ],
             [
              0.8888888888888888,
              "#fdca26"
             ],
             [
              1,
              "#f0f921"
             ]
            ],
            "type": "histogram2dcontour"
           }
          ],
          "mesh3d": [
           {
            "colorbar": {
             "outlinewidth": 0,
             "ticks": ""
            },
            "type": "mesh3d"
           }
          ],
          "parcoords": [
           {
            "line": {
             "colorbar": {
              "outlinewidth": 0,
              "ticks": ""
             }
            },
            "type": "parcoords"
           }
          ],
          "pie": [
           {
            "automargin": true,
            "type": "pie"
           }
          ],
          "scatter": [
           {
            "fillpattern": {
             "fillmode": "overlay",
             "size": 10,
             "solidity": 0.2
            },
            "type": "scatter"
           }
          ],
          "scatter3d": [
           {
            "line": {
             "colorbar": {
              "outlinewidth": 0,
              "ticks": ""
             }
            },
            "marker": {
             "colorbar": {
              "outlinewidth": 0,
              "ticks": ""
             }
            },
            "type": "scatter3d"
           }
          ],
          "scattercarpet": [
           {
            "marker": {
             "colorbar": {
              "outlinewidth": 0,
              "ticks": ""
             }
            },
            "type": "scattercarpet"
           }
          ],
          "scattergeo": [
           {
            "marker": {
             "colorbar": {
              "outlinewidth": 0,
              "ticks": ""
             }
            },
            "type": "scattergeo"
           }
          ],
          "scattergl": [
           {
            "marker": {
             "colorbar": {
              "outlinewidth": 0,
              "ticks": ""
             }
            },
            "type": "scattergl"
           }
          ],
          "scattermapbox": [
           {
            "marker": {
             "colorbar": {
              "outlinewidth": 0,
              "ticks": ""
             }
            },
            "type": "scattermapbox"
           }
          ],
          "scatterpolar": [
           {
            "marker": {
             "colorbar": {
              "outlinewidth": 0,
              "ticks": ""
             }
            },
            "type": "scatterpolar"
           }
          ],
          "scatterpolargl": [
           {
            "marker": {
             "colorbar": {
              "outlinewidth": 0,
              "ticks": ""
             }
            },
            "type": "scatterpolargl"
           }
          ],
          "scatterternary": [
           {
            "marker": {
             "colorbar": {
              "outlinewidth": 0,
              "ticks": ""
             }
            },
            "type": "scatterternary"
           }
          ],
          "surface": [
           {
            "colorbar": {
             "outlinewidth": 0,
             "ticks": ""
            },
            "colorscale": [
             [
              0,
              "#0d0887"
             ],
             [
              0.1111111111111111,
              "#46039f"
             ],
             [
              0.2222222222222222,
              "#7201a8"
             ],
             [
              0.3333333333333333,
              "#9c179e"
             ],
             [
              0.4444444444444444,
              "#bd3786"
             ],
             [
              0.5555555555555556,
              "#d8576b"
             ],
             [
              0.6666666666666666,
              "#ed7953"
             ],
             [
              0.7777777777777778,
              "#fb9f3a"
             ],
             [
              0.8888888888888888,
              "#fdca26"
             ],
             [
              1,
              "#f0f921"
             ]
            ],
            "type": "surface"
           }
          ],
          "table": [
           {
            "cells": {
             "fill": {
              "color": "#EBF0F8"
             },
             "line": {
              "color": "white"
             }
            },
            "header": {
             "fill": {
              "color": "#C8D4E3"
             },
             "line": {
              "color": "white"
             }
            },
            "type": "table"
           }
          ]
         },
         "layout": {
          "annotationdefaults": {
           "arrowcolor": "#2a3f5f",
           "arrowhead": 0,
           "arrowwidth": 1
          },
          "autotypenumbers": "strict",
          "coloraxis": {
           "colorbar": {
            "outlinewidth": 0,
            "ticks": ""
           }
          },
          "colorscale": {
           "diverging": [
            [
             0,
             "#8e0152"
            ],
            [
             0.1,
             "#c51b7d"
            ],
            [
             0.2,
             "#de77ae"
            ],
            [
             0.3,
             "#f1b6da"
            ],
            [
             0.4,
             "#fde0ef"
            ],
            [
             0.5,
             "#f7f7f7"
            ],
            [
             0.6,
             "#e6f5d0"
            ],
            [
             0.7,
             "#b8e186"
            ],
            [
             0.8,
             "#7fbc41"
            ],
            [
             0.9,
             "#4d9221"
            ],
            [
             1,
             "#276419"
            ]
           ],
           "sequential": [
            [
             0,
             "#0d0887"
            ],
            [
             0.1111111111111111,
             "#46039f"
            ],
            [
             0.2222222222222222,
             "#7201a8"
            ],
            [
             0.3333333333333333,
             "#9c179e"
            ],
            [
             0.4444444444444444,
             "#bd3786"
            ],
            [
             0.5555555555555556,
             "#d8576b"
            ],
            [
             0.6666666666666666,
             "#ed7953"
            ],
            [
             0.7777777777777778,
             "#fb9f3a"
            ],
            [
             0.8888888888888888,
             "#fdca26"
            ],
            [
             1,
             "#f0f921"
            ]
           ],
           "sequentialminus": [
            [
             0,
             "#0d0887"
            ],
            [
             0.1111111111111111,
             "#46039f"
            ],
            [
             0.2222222222222222,
             "#7201a8"
            ],
            [
             0.3333333333333333,
             "#9c179e"
            ],
            [
             0.4444444444444444,
             "#bd3786"
            ],
            [
             0.5555555555555556,
             "#d8576b"
            ],
            [
             0.6666666666666666,
             "#ed7953"
            ],
            [
             0.7777777777777778,
             "#fb9f3a"
            ],
            [
             0.8888888888888888,
             "#fdca26"
            ],
            [
             1,
             "#f0f921"
            ]
           ]
          },
          "colorway": [
           "#636efa",
           "#EF553B",
           "#00cc96",
           "#ab63fa",
           "#FFA15A",
           "#19d3f3",
           "#FF6692",
           "#B6E880",
           "#FF97FF",
           "#FECB52"
          ],
          "font": {
           "color": "#2a3f5f"
          },
          "geo": {
           "bgcolor": "white",
           "lakecolor": "white",
           "landcolor": "#E5ECF6",
           "showlakes": true,
           "showland": true,
           "subunitcolor": "white"
          },
          "hoverlabel": {
           "align": "left"
          },
          "hovermode": "closest",
          "mapbox": {
           "style": "light"
          },
          "paper_bgcolor": "white",
          "plot_bgcolor": "#E5ECF6",
          "polar": {
           "angularaxis": {
            "gridcolor": "white",
            "linecolor": "white",
            "ticks": ""
           },
           "bgcolor": "#E5ECF6",
           "radialaxis": {
            "gridcolor": "white",
            "linecolor": "white",
            "ticks": ""
           }
          },
          "scene": {
           "xaxis": {
            "backgroundcolor": "#E5ECF6",
            "gridcolor": "white",
            "gridwidth": 2,
            "linecolor": "white",
            "showbackground": true,
            "ticks": "",
            "zerolinecolor": "white"
           },
           "yaxis": {
            "backgroundcolor": "#E5ECF6",
            "gridcolor": "white",
            "gridwidth": 2,
            "linecolor": "white",
            "showbackground": true,
            "ticks": "",
            "zerolinecolor": "white"
           },
           "zaxis": {
            "backgroundcolor": "#E5ECF6",
            "gridcolor": "white",
            "gridwidth": 2,
            "linecolor": "white",
            "showbackground": true,
            "ticks": "",
            "zerolinecolor": "white"
           }
          },
          "shapedefaults": {
           "line": {
            "color": "#2a3f5f"
           }
          },
          "ternary": {
           "aaxis": {
            "gridcolor": "white",
            "linecolor": "white",
            "ticks": ""
           },
           "baxis": {
            "gridcolor": "white",
            "linecolor": "white",
            "ticks": ""
           },
           "bgcolor": "#E5ECF6",
           "caxis": {
            "gridcolor": "white",
            "linecolor": "white",
            "ticks": ""
           }
          },
          "title": {
           "x": 0.05
          },
          "xaxis": {
           "automargin": true,
           "gridcolor": "white",
           "linecolor": "white",
           "ticks": "",
           "title": {
            "standoff": 15
           },
           "zerolinecolor": "white",
           "zerolinewidth": 2
          },
          "yaxis": {
           "automargin": true,
           "gridcolor": "white",
           "linecolor": "white",
           "ticks": "",
           "title": {
            "standoff": 15
           },
           "zerolinecolor": "white",
           "zerolinewidth": 2
          }
         }
        },
        "title": {
         "text": "Spacecraft 2-8 Access, In Fov, and Connected"
        },
        "xaxis": {
         "anchor": "y",
         "domain": [
          0,
          1
         ],
         "type": "date"
        },
        "yaxis": {
         "anchor": "x",
         "categoryorder": "total ascending",
         "domain": [
          0,
          1
         ],
         "title": {
          "text": "antenna"
         }
        }
       }
      }
     },
     "metadata": {},
     "output_type": "display_data"
    },
    {
     "data": {
      "application/vnd.plotly.v1+json": {
       "config": {
        "plotlyServerURL": "https://plot.ly"
       },
       "data": [
        {
         "alignmentgroup": "True",
         "base": [
          "2024-10-31T01:27:30.000086+00:00",
          "2024-10-31T04:54:20.000087+00:00",
          "2024-10-31T06:34:00.000086+00:00",
          "2024-10-31T08:14:30.000087+00:00",
          "2024-10-31T00:03:00.000087+00:00",
          "2024-10-31T09:19:50.000086+00:00",
          "2024-10-31T10:59:00.000086+00:00",
          "2024-10-31T00:21:10.000086+00:00",
          "2024-10-31T09:14:20.000086+00:00",
          "2024-10-31T10:49:00.000087+00:00",
          "2024-10-31T01:28:50.000086+00:00",
          "2024-10-31T03:06:00.000087+00:00",
          "2024-10-31T04:44:40.000086+00:00",
          "2024-10-31T06:24:10.000086+00:00",
          "2024-10-31T08:04:00.000086+00:00",
          "2024-10-31T09:44:20.000086+00:00",
          "2024-10-31T00:53:50.000086+00:00",
          "2024-10-31T00:14:20.000086+00:00",
          "2024-10-31T01:54:40.000086+00:00",
          "2024-10-31T01:14:30.000086+00:00",
          "2024-10-31T03:01:50.000087+00:00",
          "2024-10-31T09:53:10.000086+00:00",
          "2024-10-31T11:33:40.000086+00:00",
          "2024-10-31T02:47:20.000086+00:00",
          "2024-10-31T04:25:50.000086+00:00",
          "2024-10-31T06:13:10.000086+00:00",
          "2024-10-31T10:07:40.000086+00:00",
          "2024-10-31T11:44:00.000086+00:00",
          "2024-10-31T04:33:20.000086+00:00",
          "2024-10-31T06:12:40.000086+00:00",
          "2024-10-31T07:55:10.000086+00:00",
          "2024-10-31T09:38:30.000086+00:00",
          "2024-10-31T11:20:20.000086+00:00"
         ],
         "hovertemplate": "type=access<br>start=%{base}<br>end=%{x}<br>antenna=%{y}<extra></extra>",
         "legendgroup": "access",
         "marker": {
          "color": "#636efa",
          "pattern": {
           "shape": ""
          }
         },
         "name": "access",
         "offsetgroup": "access",
         "orientation": "h",
         "showlegend": true,
         "textposition": "auto",
         "type": "bar",
         "x": [
          450000,
          479999.999,
          780000,
          780000,
          679999.999,
          680000,
          800000,
          700000,
          110000,
          820000,
          460000,
          659999.999,
          730000,
          730000,
          670000,
          500000,
          740000,
          730000,
          740000,
          790000,
          99999.999,
          760000.001,
          760000,
          590000,
          810000,
          60000,
          380000,
          830000,
          720000,
          820000,
          710000,
          610000.001,
          700000
         ],
         "xaxis": "x",
         "y": [
          "Mojave",
          "Mojave",
          "Mojave",
          "Mojave",
          "Dundee",
          "Dubai",
          "Dubai",
          "Mwulire",
          "Mwulire",
          "Mwulire",
          "Utqiagvik",
          "Utqiagvik",
          "Utqiagvik",
          "Utqiagvik",
          "Utqiagvik",
          "Utqiagvik",
          "Awarua",
          "Sunyani",
          "Sunyani",
          "Paumalu",
          "Paumalu",
          "Paumalu",
          "Paumalu",
          "Harmon",
          "Harmon",
          "Harmon",
          "Tahiti",
          "Tahiti",
          "Chitose",
          "Chitose",
          "Chitose",
          "Chitose",
          "Chitose"
         ],
         "yaxis": "y"
        },
        {
         "alignmentgroup": "True",
         "base": [
          "2024-10-31T06:37:30.000086+00:00",
          "2024-10-31T08:18:00.000087+00:00",
          "2024-10-31T10:52:40.000086+00:00",
          "2024-10-31T01:58:30.000087+00:00",
          "2024-10-31T01:17:50.000086+00:00",
          "2024-10-31T04:29:00.000086+00:00",
          "2024-10-31T11:47:10.000086+00:00",
          "2024-10-31T04:39:40.000086+00:00",
          "2024-10-31T08:00:40.000086+00:00"
         ],
         "hovertemplate": "type=inFov<br>start=%{base}<br>end=%{x}<br>antenna=%{y}<extra></extra>",
         "legendgroup": "inFov",
         "marker": {
          "color": "#EF553B",
          "pattern": {
           "shape": ""
          }
         },
         "name": "inFov",
         "offsetgroup": "inFov",
         "orientation": "h",
         "showlegend": true,
         "textposition": "auto",
         "type": "bar",
         "x": [
          360000,
          360000,
          110000,
          279999.999,
          380000.001,
          420000.001,
          450000,
          40000,
          50000.001
         ],
         "xaxis": "x",
         "y": [
          "Mojave",
          "Mojave",
          "Mwulire",
          "Sunyani",
          "Paumalu",
          "Harmon",
          "Tahiti",
          "Chitose",
          "Chitose"
         ],
         "yaxis": "y"
        },
        {
         "alignmentgroup": "True",
         "base": [
          "2024-10-31T06:37:30.000086+00:00",
          "2024-10-31T08:18:00.000087+00:00",
          "2024-10-31T10:52:40.000086+00:00",
          "2024-10-31T01:58:30.000087+00:00",
          "2024-10-31T01:17:50.000086+00:00",
          "2024-10-31T04:29:00.000086+00:00",
          "2024-10-31T11:47:10.000086+00:00",
          "2024-10-31T08:00:40.000086+00:00"
         ],
         "hovertemplate": "type=connected<br>start=%{base}<br>end=%{x}<br>antenna=%{y}<extra></extra>",
         "legendgroup": "connected",
         "marker": {
          "color": "#00cc96",
          "pattern": {
           "shape": ""
          }
         },
         "name": "connected",
         "offsetgroup": "connected",
         "orientation": "h",
         "showlegend": true,
         "textposition": "auto",
         "type": "bar",
         "x": [
          360000,
          360000,
          110000,
          279999.999,
          380000.001,
          420000.001,
          450000,
          50000.001
         ],
         "xaxis": "x",
         "y": [
          "Mojave",
          "Mojave",
          "Mwulire",
          "Sunyani",
          "Paumalu",
          "Harmon",
          "Tahiti",
          "Chitose"
         ],
         "yaxis": "y"
        }
       ],
       "layout": {
        "barmode": "overlay",
        "legend": {
         "title": {
          "text": "type"
         },
         "tracegroupgap": 0
        },
        "margin": {
         "t": 60
        },
        "template": {
         "data": {
          "bar": [
           {
            "error_x": {
             "color": "#2a3f5f"
            },
            "error_y": {
             "color": "#2a3f5f"
            },
            "marker": {
             "line": {
              "color": "#E5ECF6",
              "width": 0.5
             },
             "pattern": {
              "fillmode": "overlay",
              "size": 10,
              "solidity": 0.2
             }
            },
            "type": "bar"
           }
          ],
          "barpolar": [
           {
            "marker": {
             "line": {
              "color": "#E5ECF6",
              "width": 0.5
             },
             "pattern": {
              "fillmode": "overlay",
              "size": 10,
              "solidity": 0.2
             }
            },
            "type": "barpolar"
           }
          ],
          "carpet": [
           {
            "aaxis": {
             "endlinecolor": "#2a3f5f",
             "gridcolor": "white",
             "linecolor": "white",
             "minorgridcolor": "white",
             "startlinecolor": "#2a3f5f"
            },
            "baxis": {
             "endlinecolor": "#2a3f5f",
             "gridcolor": "white",
             "linecolor": "white",
             "minorgridcolor": "white",
             "startlinecolor": "#2a3f5f"
            },
            "type": "carpet"
           }
          ],
          "choropleth": [
           {
            "colorbar": {
             "outlinewidth": 0,
             "ticks": ""
            },
            "type": "choropleth"
           }
          ],
          "contour": [
           {
            "colorbar": {
             "outlinewidth": 0,
             "ticks": ""
            },
            "colorscale": [
             [
              0,
              "#0d0887"
             ],
             [
              0.1111111111111111,
              "#46039f"
             ],
             [
              0.2222222222222222,
              "#7201a8"
             ],
             [
              0.3333333333333333,
              "#9c179e"
             ],
             [
              0.4444444444444444,
              "#bd3786"
             ],
             [
              0.5555555555555556,
              "#d8576b"
             ],
             [
              0.6666666666666666,
              "#ed7953"
             ],
             [
              0.7777777777777778,
              "#fb9f3a"
             ],
             [
              0.8888888888888888,
              "#fdca26"
             ],
             [
              1,
              "#f0f921"
             ]
            ],
            "type": "contour"
           }
          ],
          "contourcarpet": [
           {
            "colorbar": {
             "outlinewidth": 0,
             "ticks": ""
            },
            "type": "contourcarpet"
           }
          ],
          "heatmap": [
           {
            "colorbar": {
             "outlinewidth": 0,
             "ticks": ""
            },
            "colorscale": [
             [
              0,
              "#0d0887"
             ],
             [
              0.1111111111111111,
              "#46039f"
             ],
             [
              0.2222222222222222,
              "#7201a8"
             ],
             [
              0.3333333333333333,
              "#9c179e"
             ],
             [
              0.4444444444444444,
              "#bd3786"
             ],
             [
              0.5555555555555556,
              "#d8576b"
             ],
             [
              0.6666666666666666,
              "#ed7953"
             ],
             [
              0.7777777777777778,
              "#fb9f3a"
             ],
             [
              0.8888888888888888,
              "#fdca26"
             ],
             [
              1,
              "#f0f921"
             ]
            ],
            "type": "heatmap"
           }
          ],
          "heatmapgl": [
           {
            "colorbar": {
             "outlinewidth": 0,
             "ticks": ""
            },
            "colorscale": [
             [
              0,
              "#0d0887"
             ],
             [
              0.1111111111111111,
              "#46039f"
             ],
             [
              0.2222222222222222,
              "#7201a8"
             ],
             [
              0.3333333333333333,
              "#9c179e"
             ],
             [
              0.4444444444444444,
              "#bd3786"
             ],
             [
              0.5555555555555556,
              "#d8576b"
             ],
             [
              0.6666666666666666,
              "#ed7953"
             ],
             [
              0.7777777777777778,
              "#fb9f3a"
             ],
             [
              0.8888888888888888,
              "#fdca26"
             ],
             [
              1,
              "#f0f921"
             ]
            ],
            "type": "heatmapgl"
           }
          ],
          "histogram": [
           {
            "marker": {
             "pattern": {
              "fillmode": "overlay",
              "size": 10,
              "solidity": 0.2
             }
            },
            "type": "histogram"
           }
          ],
          "histogram2d": [
           {
            "colorbar": {
             "outlinewidth": 0,
             "ticks": ""
            },
            "colorscale": [
             [
              0,
              "#0d0887"
             ],
             [
              0.1111111111111111,
              "#46039f"
             ],
             [
              0.2222222222222222,
              "#7201a8"
             ],
             [
              0.3333333333333333,
              "#9c179e"
             ],
             [
              0.4444444444444444,
              "#bd3786"
             ],
             [
              0.5555555555555556,
              "#d8576b"
             ],
             [
              0.6666666666666666,
              "#ed7953"
             ],
             [
              0.7777777777777778,
              "#fb9f3a"
             ],
             [
              0.8888888888888888,
              "#fdca26"
             ],
             [
              1,
              "#f0f921"
             ]
            ],
            "type": "histogram2d"
           }
          ],
          "histogram2dcontour": [
           {
            "colorbar": {
             "outlinewidth": 0,
             "ticks": ""
            },
            "colorscale": [
             [
              0,
              "#0d0887"
             ],
             [
              0.1111111111111111,
              "#46039f"
             ],
             [
              0.2222222222222222,
              "#7201a8"
             ],
             [
              0.3333333333333333,
              "#9c179e"
             ],
             [
              0.4444444444444444,
              "#bd3786"
             ],
             [
              0.5555555555555556,
              "#d8576b"
             ],
             [
              0.6666666666666666,
              "#ed7953"
             ],
             [
              0.7777777777777778,
              "#fb9f3a"
             ],
             [
              0.8888888888888888,
              "#fdca26"
             ],
             [
              1,
              "#f0f921"
             ]
            ],
            "type": "histogram2dcontour"
           }
          ],
          "mesh3d": [
           {
            "colorbar": {
             "outlinewidth": 0,
             "ticks": ""
            },
            "type": "mesh3d"
           }
          ],
          "parcoords": [
           {
            "line": {
             "colorbar": {
              "outlinewidth": 0,
              "ticks": ""
             }
            },
            "type": "parcoords"
           }
          ],
          "pie": [
           {
            "automargin": true,
            "type": "pie"
           }
          ],
          "scatter": [
           {
            "fillpattern": {
             "fillmode": "overlay",
             "size": 10,
             "solidity": 0.2
            },
            "type": "scatter"
           }
          ],
          "scatter3d": [
           {
            "line": {
             "colorbar": {
              "outlinewidth": 0,
              "ticks": ""
             }
            },
            "marker": {
             "colorbar": {
              "outlinewidth": 0,
              "ticks": ""
             }
            },
            "type": "scatter3d"
           }
          ],
          "scattercarpet": [
           {
            "marker": {
             "colorbar": {
              "outlinewidth": 0,
              "ticks": ""
             }
            },
            "type": "scattercarpet"
           }
          ],
          "scattergeo": [
           {
            "marker": {
             "colorbar": {
              "outlinewidth": 0,
              "ticks": ""
             }
            },
            "type": "scattergeo"
           }
          ],
          "scattergl": [
           {
            "marker": {
             "colorbar": {
              "outlinewidth": 0,
              "ticks": ""
             }
            },
            "type": "scattergl"
           }
          ],
          "scattermapbox": [
           {
            "marker": {
             "colorbar": {
              "outlinewidth": 0,
              "ticks": ""
             }
            },
            "type": "scattermapbox"
           }
          ],
          "scatterpolar": [
           {
            "marker": {
             "colorbar": {
              "outlinewidth": 0,
              "ticks": ""
             }
            },
            "type": "scatterpolar"
           }
          ],
          "scatterpolargl": [
           {
            "marker": {
             "colorbar": {
              "outlinewidth": 0,
              "ticks": ""
             }
            },
            "type": "scatterpolargl"
           }
          ],
          "scatterternary": [
           {
            "marker": {
             "colorbar": {
              "outlinewidth": 0,
              "ticks": ""
             }
            },
            "type": "scatterternary"
           }
          ],
          "surface": [
           {
            "colorbar": {
             "outlinewidth": 0,
             "ticks": ""
            },
            "colorscale": [
             [
              0,
              "#0d0887"
             ],
             [
              0.1111111111111111,
              "#46039f"
             ],
             [
              0.2222222222222222,
              "#7201a8"
             ],
             [
              0.3333333333333333,
              "#9c179e"
             ],
             [
              0.4444444444444444,
              "#bd3786"
             ],
             [
              0.5555555555555556,
              "#d8576b"
             ],
             [
              0.6666666666666666,
              "#ed7953"
             ],
             [
              0.7777777777777778,
              "#fb9f3a"
             ],
             [
              0.8888888888888888,
              "#fdca26"
             ],
             [
              1,
              "#f0f921"
             ]
            ],
            "type": "surface"
           }
          ],
          "table": [
           {
            "cells": {
             "fill": {
              "color": "#EBF0F8"
             },
             "line": {
              "color": "white"
             }
            },
            "header": {
             "fill": {
              "color": "#C8D4E3"
             },
             "line": {
              "color": "white"
             }
            },
            "type": "table"
           }
          ]
         },
         "layout": {
          "annotationdefaults": {
           "arrowcolor": "#2a3f5f",
           "arrowhead": 0,
           "arrowwidth": 1
          },
          "autotypenumbers": "strict",
          "coloraxis": {
           "colorbar": {
            "outlinewidth": 0,
            "ticks": ""
           }
          },
          "colorscale": {
           "diverging": [
            [
             0,
             "#8e0152"
            ],
            [
             0.1,
             "#c51b7d"
            ],
            [
             0.2,
             "#de77ae"
            ],
            [
             0.3,
             "#f1b6da"
            ],
            [
             0.4,
             "#fde0ef"
            ],
            [
             0.5,
             "#f7f7f7"
            ],
            [
             0.6,
             "#e6f5d0"
            ],
            [
             0.7,
             "#b8e186"
            ],
            [
             0.8,
             "#7fbc41"
            ],
            [
             0.9,
             "#4d9221"
            ],
            [
             1,
             "#276419"
            ]
           ],
           "sequential": [
            [
             0,
             "#0d0887"
            ],
            [
             0.1111111111111111,
             "#46039f"
            ],
            [
             0.2222222222222222,
             "#7201a8"
            ],
            [
             0.3333333333333333,
             "#9c179e"
            ],
            [
             0.4444444444444444,
             "#bd3786"
            ],
            [
             0.5555555555555556,
             "#d8576b"
            ],
            [
             0.6666666666666666,
             "#ed7953"
            ],
            [
             0.7777777777777778,
             "#fb9f3a"
            ],
            [
             0.8888888888888888,
             "#fdca26"
            ],
            [
             1,
             "#f0f921"
            ]
           ],
           "sequentialminus": [
            [
             0,
             "#0d0887"
            ],
            [
             0.1111111111111111,
             "#46039f"
            ],
            [
             0.2222222222222222,
             "#7201a8"
            ],
            [
             0.3333333333333333,
             "#9c179e"
            ],
            [
             0.4444444444444444,
             "#bd3786"
            ],
            [
             0.5555555555555556,
             "#d8576b"
            ],
            [
             0.6666666666666666,
             "#ed7953"
            ],
            [
             0.7777777777777778,
             "#fb9f3a"
            ],
            [
             0.8888888888888888,
             "#fdca26"
            ],
            [
             1,
             "#f0f921"
            ]
           ]
          },
          "colorway": [
           "#636efa",
           "#EF553B",
           "#00cc96",
           "#ab63fa",
           "#FFA15A",
           "#19d3f3",
           "#FF6692",
           "#B6E880",
           "#FF97FF",
           "#FECB52"
          ],
          "font": {
           "color": "#2a3f5f"
          },
          "geo": {
           "bgcolor": "white",
           "lakecolor": "white",
           "landcolor": "#E5ECF6",
           "showlakes": true,
           "showland": true,
           "subunitcolor": "white"
          },
          "hoverlabel": {
           "align": "left"
          },
          "hovermode": "closest",
          "mapbox": {
           "style": "light"
          },
          "paper_bgcolor": "white",
          "plot_bgcolor": "#E5ECF6",
          "polar": {
           "angularaxis": {
            "gridcolor": "white",
            "linecolor": "white",
            "ticks": ""
           },
           "bgcolor": "#E5ECF6",
           "radialaxis": {
            "gridcolor": "white",
            "linecolor": "white",
            "ticks": ""
           }
          },
          "scene": {
           "xaxis": {
            "backgroundcolor": "#E5ECF6",
            "gridcolor": "white",
            "gridwidth": 2,
            "linecolor": "white",
            "showbackground": true,
            "ticks": "",
            "zerolinecolor": "white"
           },
           "yaxis": {
            "backgroundcolor": "#E5ECF6",
            "gridcolor": "white",
            "gridwidth": 2,
            "linecolor": "white",
            "showbackground": true,
            "ticks": "",
            "zerolinecolor": "white"
           },
           "zaxis": {
            "backgroundcolor": "#E5ECF6",
            "gridcolor": "white",
            "gridwidth": 2,
            "linecolor": "white",
            "showbackground": true,
            "ticks": "",
            "zerolinecolor": "white"
           }
          },
          "shapedefaults": {
           "line": {
            "color": "#2a3f5f"
           }
          },
          "ternary": {
           "aaxis": {
            "gridcolor": "white",
            "linecolor": "white",
            "ticks": ""
           },
           "baxis": {
            "gridcolor": "white",
            "linecolor": "white",
            "ticks": ""
           },
           "bgcolor": "#E5ECF6",
           "caxis": {
            "gridcolor": "white",
            "linecolor": "white",
            "ticks": ""
           }
          },
          "title": {
           "x": 0.05
          },
          "xaxis": {
           "automargin": true,
           "gridcolor": "white",
           "linecolor": "white",
           "ticks": "",
           "title": {
            "standoff": 15
           },
           "zerolinecolor": "white",
           "zerolinewidth": 2
          },
          "yaxis": {
           "automargin": true,
           "gridcolor": "white",
           "linecolor": "white",
           "ticks": "",
           "title": {
            "standoff": 15
           },
           "zerolinecolor": "white",
           "zerolinewidth": 2
          }
         }
        },
        "title": {
         "text": "Spacecraft 3-1 Access, In Fov, and Connected"
        },
        "xaxis": {
         "anchor": "y",
         "domain": [
          0,
          1
         ],
         "type": "date"
        },
        "yaxis": {
         "anchor": "x",
         "categoryorder": "total ascending",
         "domain": [
          0,
          1
         ],
         "title": {
          "text": "antenna"
         }
        }
       }
      }
     },
     "metadata": {},
     "output_type": "display_data"
    },
    {
     "data": {
      "application/vnd.plotly.v1+json": {
       "config": {
        "plotlyServerURL": "https://plot.ly"
       },
       "data": [
        {
         "alignmentgroup": "True",
         "base": [
          "2024-10-31T01:14:00.000086+00:00",
          "2024-10-31T04:41:30.000086+00:00",
          "2024-10-31T06:20:50.000087+00:00",
          "2024-10-31T08:01:10.000086+00:00",
          "2024-10-31T09:46:00.000086+00:00",
          "2024-10-31T00:00:00.000086+00:00",
          "2024-10-31T09:07:00.000086+00:00",
          "2024-10-31T10:45:20.000086+00:00",
          "2024-10-31T00:08:10.000086+00:00",
          "2024-10-31T10:35:40.000086+00:00",
          "2024-10-31T01:16:40.000086+00:00",
          "2024-10-31T02:53:30.000086+00:00",
          "2024-10-31T04:31:50.000087+00:00",
          "2024-10-31T06:11:10.000086+00:00",
          "2024-10-31T07:50:40.000086+00:00",
          "2024-10-31T09:30:50.000087+00:00",
          "2024-10-31T00:41:00.000086+00:00",
          "2024-10-31T02:25:30.000086+00:00",
          "2024-10-31T00:02:10.000086+00:00",
          "2024-10-31T01:41:40.000086+00:00",
          "2024-10-31T01:01:30.000086+00:00",
          "2024-10-31T02:46:40.000086+00:00",
          "2024-10-31T09:40:00.000086+00:00",
          "2024-10-31T11:19:50.000087+00:00",
          "2024-10-31T02:35:30.000086+00:00",
          "2024-10-31T04:12:40.000086+00:00",
          "2024-10-31T05:57:10.000086+00:00",
          "2024-10-31T11:30:30.000087+00:00",
          "2024-10-31T04:20:50.000086+00:00",
          "2024-10-31T05:59:30.000087+00:00",
          "2024-10-31T07:41:30.000086+00:00",
          "2024-10-31T09:24:40.000086+00:00",
          "2024-10-31T11:06:40.000086+00:00"
         ],
         "hovertemplate": "type=access<br>start=%{base}<br>end=%{x}<br>antenna=%{y}<extra></extra>",
         "legendgroup": "access",
         "marker": {
          "color": "#636efa",
          "pattern": {
           "shape": ""
          }
         },
         "name": "access",
         "offsetgroup": "access",
         "orientation": "h",
         "showlegend": true,
         "textposition": "auto",
         "type": "bar",
         "x": [
          510000,
          420000,
          759999.999,
          790000,
          140000,
          130000,
          610000,
          810000,
          740000,
          790000,
          420000,
          640000,
          729999.999,
          730000,
          690000,
          529999.999,
          770000,
          120000.001,
          670000,
          780000,
          810000,
          350000,
          710000,
          789999.999,
          480000.001,
          820000,
          380000,
          809999.999,
          670000,
          819999.999,
          730000,
          610000,
          680000.001
         ],
         "xaxis": "x",
         "y": [
          "Mojave",
          "Mojave",
          "Mojave",
          "Mojave",
          "Mojave",
          "Dundee",
          "Dubai",
          "Dubai",
          "Mwulire",
          "Mwulire",
          "Utqiagvik",
          "Utqiagvik",
          "Utqiagvik",
          "Utqiagvik",
          "Utqiagvik",
          "Utqiagvik",
          "Awarua",
          "Awarua",
          "Sunyani",
          "Sunyani",
          "Paumalu",
          "Paumalu",
          "Paumalu",
          "Paumalu",
          "Harmon",
          "Harmon",
          "Harmon",
          "Tahiti",
          "Chitose",
          "Chitose",
          "Chitose",
          "Chitose",
          "Chitose"
         ],
         "yaxis": "y"
        },
        {
         "alignmentgroup": "True",
         "base": [
          "2024-10-31T08:05:40.000086+00:00",
          "2024-10-31T08:06:20.000086+00:00",
          "2024-10-31T00:13:30.000086+00:00",
          "2024-10-31T10:38:50.000086+00:00",
          "2024-10-31T01:45:00.000086+00:00",
          "2024-10-31T01:04:40.000086+00:00",
          "2024-10-31T04:15:50.000087+00:00",
          "2024-10-31T11:33:40.000086+00:00",
          "2024-10-31T07:47:20.000086+00:00"
         ],
         "hovertemplate": "type=inFov<br>start=%{base}<br>end=%{x}<br>antenna=%{y}<extra></extra>",
         "legendgroup": "inFov",
         "marker": {
          "color": "#EF553B",
          "pattern": {
           "shape": ""
          }
         },
         "name": "inFov",
         "offsetgroup": "inFov",
         "orientation": "h",
         "showlegend": true,
         "textposition": "auto",
         "type": "bar",
         "x": [
          30000.001,
          290000,
          180000,
          160000,
          370000,
          430000,
          439999.999,
          430000,
          100000.001
         ],
         "xaxis": "x",
         "y": [
          "Mojave",
          "Mojave",
          "Mwulire",
          "Mwulire",
          "Sunyani",
          "Paumalu",
          "Harmon",
          "Tahiti",
          "Chitose"
         ],
         "yaxis": "y"
        },
        {
         "alignmentgroup": "True",
         "base": [
          "2024-10-31T08:06:20.000086+00:00",
          "2024-10-31T00:13:30.000086+00:00",
          "2024-10-31T10:38:50.000086+00:00",
          "2024-10-31T01:45:00.000086+00:00",
          "2024-10-31T01:04:40.000086+00:00",
          "2024-10-31T04:15:50.000087+00:00",
          "2024-10-31T11:33:40.000086+00:00",
          "2024-10-31T07:47:20.000086+00:00"
         ],
         "hovertemplate": "type=connected<br>start=%{base}<br>end=%{x}<br>antenna=%{y}<extra></extra>",
         "legendgroup": "connected",
         "marker": {
          "color": "#00cc96",
          "pattern": {
           "shape": ""
          }
         },
         "name": "connected",
         "offsetgroup": "connected",
         "orientation": "h",
         "showlegend": true,
         "textposition": "auto",
         "type": "bar",
         "x": [
          290000,
          180000,
          160000,
          370000,
          430000,
          439999.999,
          430000,
          100000.001
         ],
         "xaxis": "x",
         "y": [
          "Mojave",
          "Mwulire",
          "Mwulire",
          "Sunyani",
          "Paumalu",
          "Harmon",
          "Tahiti",
          "Chitose"
         ],
         "yaxis": "y"
        }
       ],
       "layout": {
        "barmode": "overlay",
        "legend": {
         "title": {
          "text": "type"
         },
         "tracegroupgap": 0
        },
        "margin": {
         "t": 60
        },
        "template": {
         "data": {
          "bar": [
           {
            "error_x": {
             "color": "#2a3f5f"
            },
            "error_y": {
             "color": "#2a3f5f"
            },
            "marker": {
             "line": {
              "color": "#E5ECF6",
              "width": 0.5
             },
             "pattern": {
              "fillmode": "overlay",
              "size": 10,
              "solidity": 0.2
             }
            },
            "type": "bar"
           }
          ],
          "barpolar": [
           {
            "marker": {
             "line": {
              "color": "#E5ECF6",
              "width": 0.5
             },
             "pattern": {
              "fillmode": "overlay",
              "size": 10,
              "solidity": 0.2
             }
            },
            "type": "barpolar"
           }
          ],
          "carpet": [
           {
            "aaxis": {
             "endlinecolor": "#2a3f5f",
             "gridcolor": "white",
             "linecolor": "white",
             "minorgridcolor": "white",
             "startlinecolor": "#2a3f5f"
            },
            "baxis": {
             "endlinecolor": "#2a3f5f",
             "gridcolor": "white",
             "linecolor": "white",
             "minorgridcolor": "white",
             "startlinecolor": "#2a3f5f"
            },
            "type": "carpet"
           }
          ],
          "choropleth": [
           {
            "colorbar": {
             "outlinewidth": 0,
             "ticks": ""
            },
            "type": "choropleth"
           }
          ],
          "contour": [
           {
            "colorbar": {
             "outlinewidth": 0,
             "ticks": ""
            },
            "colorscale": [
             [
              0,
              "#0d0887"
             ],
             [
              0.1111111111111111,
              "#46039f"
             ],
             [
              0.2222222222222222,
              "#7201a8"
             ],
             [
              0.3333333333333333,
              "#9c179e"
             ],
             [
              0.4444444444444444,
              "#bd3786"
             ],
             [
              0.5555555555555556,
              "#d8576b"
             ],
             [
              0.6666666666666666,
              "#ed7953"
             ],
             [
              0.7777777777777778,
              "#fb9f3a"
             ],
             [
              0.8888888888888888,
              "#fdca26"
             ],
             [
              1,
              "#f0f921"
             ]
            ],
            "type": "contour"
           }
          ],
          "contourcarpet": [
           {
            "colorbar": {
             "outlinewidth": 0,
             "ticks": ""
            },
            "type": "contourcarpet"
           }
          ],
          "heatmap": [
           {
            "colorbar": {
             "outlinewidth": 0,
             "ticks": ""
            },
            "colorscale": [
             [
              0,
              "#0d0887"
             ],
             [
              0.1111111111111111,
              "#46039f"
             ],
             [
              0.2222222222222222,
              "#7201a8"
             ],
             [
              0.3333333333333333,
              "#9c179e"
             ],
             [
              0.4444444444444444,
              "#bd3786"
             ],
             [
              0.5555555555555556,
              "#d8576b"
             ],
             [
              0.6666666666666666,
              "#ed7953"
             ],
             [
              0.7777777777777778,
              "#fb9f3a"
             ],
             [
              0.8888888888888888,
              "#fdca26"
             ],
             [
              1,
              "#f0f921"
             ]
            ],
            "type": "heatmap"
           }
          ],
          "heatmapgl": [
           {
            "colorbar": {
             "outlinewidth": 0,
             "ticks": ""
            },
            "colorscale": [
             [
              0,
              "#0d0887"
             ],
             [
              0.1111111111111111,
              "#46039f"
             ],
             [
              0.2222222222222222,
              "#7201a8"
             ],
             [
              0.3333333333333333,
              "#9c179e"
             ],
             [
              0.4444444444444444,
              "#bd3786"
             ],
             [
              0.5555555555555556,
              "#d8576b"
             ],
             [
              0.6666666666666666,
              "#ed7953"
             ],
             [
              0.7777777777777778,
              "#fb9f3a"
             ],
             [
              0.8888888888888888,
              "#fdca26"
             ],
             [
              1,
              "#f0f921"
             ]
            ],
            "type": "heatmapgl"
           }
          ],
          "histogram": [
           {
            "marker": {
             "pattern": {
              "fillmode": "overlay",
              "size": 10,
              "solidity": 0.2
             }
            },
            "type": "histogram"
           }
          ],
          "histogram2d": [
           {
            "colorbar": {
             "outlinewidth": 0,
             "ticks": ""
            },
            "colorscale": [
             [
              0,
              "#0d0887"
             ],
             [
              0.1111111111111111,
              "#46039f"
             ],
             [
              0.2222222222222222,
              "#7201a8"
             ],
             [
              0.3333333333333333,
              "#9c179e"
             ],
             [
              0.4444444444444444,
              "#bd3786"
             ],
             [
              0.5555555555555556,
              "#d8576b"
             ],
             [
              0.6666666666666666,
              "#ed7953"
             ],
             [
              0.7777777777777778,
              "#fb9f3a"
             ],
             [
              0.8888888888888888,
              "#fdca26"
             ],
             [
              1,
              "#f0f921"
             ]
            ],
            "type": "histogram2d"
           }
          ],
          "histogram2dcontour": [
           {
            "colorbar": {
             "outlinewidth": 0,
             "ticks": ""
            },
            "colorscale": [
             [
              0,
              "#0d0887"
             ],
             [
              0.1111111111111111,
              "#46039f"
             ],
             [
              0.2222222222222222,
              "#7201a8"
             ],
             [
              0.3333333333333333,
              "#9c179e"
             ],
             [
              0.4444444444444444,
              "#bd3786"
             ],
             [
              0.5555555555555556,
              "#d8576b"
             ],
             [
              0.6666666666666666,
              "#ed7953"
             ],
             [
              0.7777777777777778,
              "#fb9f3a"
             ],
             [
              0.8888888888888888,
              "#fdca26"
             ],
             [
              1,
              "#f0f921"
             ]
            ],
            "type": "histogram2dcontour"
           }
          ],
          "mesh3d": [
           {
            "colorbar": {
             "outlinewidth": 0,
             "ticks": ""
            },
            "type": "mesh3d"
           }
          ],
          "parcoords": [
           {
            "line": {
             "colorbar": {
              "outlinewidth": 0,
              "ticks": ""
             }
            },
            "type": "parcoords"
           }
          ],
          "pie": [
           {
            "automargin": true,
            "type": "pie"
           }
          ],
          "scatter": [
           {
            "fillpattern": {
             "fillmode": "overlay",
             "size": 10,
             "solidity": 0.2
            },
            "type": "scatter"
           }
          ],
          "scatter3d": [
           {
            "line": {
             "colorbar": {
              "outlinewidth": 0,
              "ticks": ""
             }
            },
            "marker": {
             "colorbar": {
              "outlinewidth": 0,
              "ticks": ""
             }
            },
            "type": "scatter3d"
           }
          ],
          "scattercarpet": [
           {
            "marker": {
             "colorbar": {
              "outlinewidth": 0,
              "ticks": ""
             }
            },
            "type": "scattercarpet"
           }
          ],
          "scattergeo": [
           {
            "marker": {
             "colorbar": {
              "outlinewidth": 0,
              "ticks": ""
             }
            },
            "type": "scattergeo"
           }
          ],
          "scattergl": [
           {
            "marker": {
             "colorbar": {
              "outlinewidth": 0,
              "ticks": ""
             }
            },
            "type": "scattergl"
           }
          ],
          "scattermapbox": [
           {
            "marker": {
             "colorbar": {
              "outlinewidth": 0,
              "ticks": ""
             }
            },
            "type": "scattermapbox"
           }
          ],
          "scatterpolar": [
           {
            "marker": {
             "colorbar": {
              "outlinewidth": 0,
              "ticks": ""
             }
            },
            "type": "scatterpolar"
           }
          ],
          "scatterpolargl": [
           {
            "marker": {
             "colorbar": {
              "outlinewidth": 0,
              "ticks": ""
             }
            },
            "type": "scatterpolargl"
           }
          ],
          "scatterternary": [
           {
            "marker": {
             "colorbar": {
              "outlinewidth": 0,
              "ticks": ""
             }
            },
            "type": "scatterternary"
           }
          ],
          "surface": [
           {
            "colorbar": {
             "outlinewidth": 0,
             "ticks": ""
            },
            "colorscale": [
             [
              0,
              "#0d0887"
             ],
             [
              0.1111111111111111,
              "#46039f"
             ],
             [
              0.2222222222222222,
              "#7201a8"
             ],
             [
              0.3333333333333333,
              "#9c179e"
             ],
             [
              0.4444444444444444,
              "#bd3786"
             ],
             [
              0.5555555555555556,
              "#d8576b"
             ],
             [
              0.6666666666666666,
              "#ed7953"
             ],
             [
              0.7777777777777778,
              "#fb9f3a"
             ],
             [
              0.8888888888888888,
              "#fdca26"
             ],
             [
              1,
              "#f0f921"
             ]
            ],
            "type": "surface"
           }
          ],
          "table": [
           {
            "cells": {
             "fill": {
              "color": "#EBF0F8"
             },
             "line": {
              "color": "white"
             }
            },
            "header": {
             "fill": {
              "color": "#C8D4E3"
             },
             "line": {
              "color": "white"
             }
            },
            "type": "table"
           }
          ]
         },
         "layout": {
          "annotationdefaults": {
           "arrowcolor": "#2a3f5f",
           "arrowhead": 0,
           "arrowwidth": 1
          },
          "autotypenumbers": "strict",
          "coloraxis": {
           "colorbar": {
            "outlinewidth": 0,
            "ticks": ""
           }
          },
          "colorscale": {
           "diverging": [
            [
             0,
             "#8e0152"
            ],
            [
             0.1,
             "#c51b7d"
            ],
            [
             0.2,
             "#de77ae"
            ],
            [
             0.3,
             "#f1b6da"
            ],
            [
             0.4,
             "#fde0ef"
            ],
            [
             0.5,
             "#f7f7f7"
            ],
            [
             0.6,
             "#e6f5d0"
            ],
            [
             0.7,
             "#b8e186"
            ],
            [
             0.8,
             "#7fbc41"
            ],
            [
             0.9,
             "#4d9221"
            ],
            [
             1,
             "#276419"
            ]
           ],
           "sequential": [
            [
             0,
             "#0d0887"
            ],
            [
             0.1111111111111111,
             "#46039f"
            ],
            [
             0.2222222222222222,
             "#7201a8"
            ],
            [
             0.3333333333333333,
             "#9c179e"
            ],
            [
             0.4444444444444444,
             "#bd3786"
            ],
            [
             0.5555555555555556,
             "#d8576b"
            ],
            [
             0.6666666666666666,
             "#ed7953"
            ],
            [
             0.7777777777777778,
             "#fb9f3a"
            ],
            [
             0.8888888888888888,
             "#fdca26"
            ],
            [
             1,
             "#f0f921"
            ]
           ],
           "sequentialminus": [
            [
             0,
             "#0d0887"
            ],
            [
             0.1111111111111111,
             "#46039f"
            ],
            [
             0.2222222222222222,
             "#7201a8"
            ],
            [
             0.3333333333333333,
             "#9c179e"
            ],
            [
             0.4444444444444444,
             "#bd3786"
            ],
            [
             0.5555555555555556,
             "#d8576b"
            ],
            [
             0.6666666666666666,
             "#ed7953"
            ],
            [
             0.7777777777777778,
             "#fb9f3a"
            ],
            [
             0.8888888888888888,
             "#fdca26"
            ],
            [
             1,
             "#f0f921"
            ]
           ]
          },
          "colorway": [
           "#636efa",
           "#EF553B",
           "#00cc96",
           "#ab63fa",
           "#FFA15A",
           "#19d3f3",
           "#FF6692",
           "#B6E880",
           "#FF97FF",
           "#FECB52"
          ],
          "font": {
           "color": "#2a3f5f"
          },
          "geo": {
           "bgcolor": "white",
           "lakecolor": "white",
           "landcolor": "#E5ECF6",
           "showlakes": true,
           "showland": true,
           "subunitcolor": "white"
          },
          "hoverlabel": {
           "align": "left"
          },
          "hovermode": "closest",
          "mapbox": {
           "style": "light"
          },
          "paper_bgcolor": "white",
          "plot_bgcolor": "#E5ECF6",
          "polar": {
           "angularaxis": {
            "gridcolor": "white",
            "linecolor": "white",
            "ticks": ""
           },
           "bgcolor": "#E5ECF6",
           "radialaxis": {
            "gridcolor": "white",
            "linecolor": "white",
            "ticks": ""
           }
          },
          "scene": {
           "xaxis": {
            "backgroundcolor": "#E5ECF6",
            "gridcolor": "white",
            "gridwidth": 2,
            "linecolor": "white",
            "showbackground": true,
            "ticks": "",
            "zerolinecolor": "white"
           },
           "yaxis": {
            "backgroundcolor": "#E5ECF6",
            "gridcolor": "white",
            "gridwidth": 2,
            "linecolor": "white",
            "showbackground": true,
            "ticks": "",
            "zerolinecolor": "white"
           },
           "zaxis": {
            "backgroundcolor": "#E5ECF6",
            "gridcolor": "white",
            "gridwidth": 2,
            "linecolor": "white",
            "showbackground": true,
            "ticks": "",
            "zerolinecolor": "white"
           }
          },
          "shapedefaults": {
           "line": {
            "color": "#2a3f5f"
           }
          },
          "ternary": {
           "aaxis": {
            "gridcolor": "white",
            "linecolor": "white",
            "ticks": ""
           },
           "baxis": {
            "gridcolor": "white",
            "linecolor": "white",
            "ticks": ""
           },
           "bgcolor": "#E5ECF6",
           "caxis": {
            "gridcolor": "white",
            "linecolor": "white",
            "ticks": ""
           }
          },
          "title": {
           "x": 0.05
          },
          "xaxis": {
           "automargin": true,
           "gridcolor": "white",
           "linecolor": "white",
           "ticks": "",
           "title": {
            "standoff": 15
           },
           "zerolinecolor": "white",
           "zerolinewidth": 2
          },
          "yaxis": {
           "automargin": true,
           "gridcolor": "white",
           "linecolor": "white",
           "ticks": "",
           "title": {
            "standoff": 15
           },
           "zerolinecolor": "white",
           "zerolinewidth": 2
          }
         }
        },
        "title": {
         "text": "Spacecraft 3-2 Access, In Fov, and Connected"
        },
        "xaxis": {
         "anchor": "y",
         "domain": [
          0,
          1
         ],
         "type": "date"
        },
        "yaxis": {
         "anchor": "x",
         "categoryorder": "total ascending",
         "domain": [
          0,
          1
         ],
         "title": {
          "text": "antenna"
         }
        }
       }
      }
     },
     "metadata": {},
     "output_type": "display_data"
    },
    {
     "data": {
      "application/vnd.plotly.v1+json": {
       "config": {
        "plotlyServerURL": "https://plot.ly"
       },
       "data": [
        {
         "alignmentgroup": "True",
         "base": [
          "2024-10-31T01:00:40.000086+00:00",
          "2024-10-31T04:28:50.000086+00:00",
          "2024-10-31T06:07:50.000086+00:00",
          "2024-10-31T07:47:50.000087+00:00",
          "2024-10-31T09:30:40.000086+00:00",
          "2024-10-31T01:20:10.000086+00:00",
          "2024-10-31T08:54:40.000086+00:00",
          "2024-10-31T10:31:50.000087+00:00",
          "2024-10-31T00:00:00.000086+00:00",
          "2024-10-31T10:22:30.000086+00:00",
          "2024-10-31T01:04:50.000086+00:00",
          "2024-10-31T02:41:00.000086+00:00",
          "2024-10-31T04:19:10.000086+00:00",
          "2024-10-31T05:58:10.000086+00:00",
          "2024-10-31T07:37:40.000086+00:00",
          "2024-10-31T09:17:30.000086+00:00",
          "2024-10-31T00:28:30.000087+00:00",
          "2024-10-31T02:11:20.000086+00:00",
          "2024-10-31T00:00:00.000086+00:00",
          "2024-10-31T01:28:50.000086+00:00",
          "2024-10-31T00:49:00.000086+00:00",
          "2024-10-31T02:32:40.000086+00:00",
          "2024-10-31T09:27:00.000086+00:00",
          "2024-10-31T11:06:10.000087+00:00",
          "2024-10-31T02:24:20.000086+00:00",
          "2024-10-31T04:00:00.000086+00:00",
          "2024-10-31T05:43:00.000086+00:00",
          "2024-10-31T11:17:10.000086+00:00",
          "2024-10-31T04:08:40.000086+00:00",
          "2024-10-31T05:46:30.000087+00:00",
          "2024-10-31T07:27:50.000086+00:00",
          "2024-10-31T09:11:00.000086+00:00",
          "2024-10-31T10:53:00.000086+00:00"
         ],
         "hovertemplate": "type=access<br>start=%{base}<br>end=%{x}<br>antenna=%{y}<extra></extra>",
         "legendgroup": "access",
         "marker": {
          "color": "#636efa",
          "pattern": {
           "shape": ""
          }
         },
         "name": "access",
         "offsetgroup": "access",
         "orientation": "h",
         "showlegend": true,
         "textposition": "auto",
         "type": "bar",
         "x": [
          560000,
          340000,
          730000,
          809999.999,
          390000,
          290000,
          490000,
          809999.999,
          500000.001,
          750000,
          360000,
          620000,
          710000,
          730000,
          680000.001,
          550000,
          780000,
          330000.001,
          10000,
          800000,
          800000,
          470000.001,
          650000,
          799999.999,
          290000,
          800000,
          500000,
          780000,
          600000,
          809999.999,
          750000,
          610000,
          660000
         ],
         "xaxis": "x",
         "y": [
          "Mojave",
          "Mojave",
          "Mojave",
          "Mojave",
          "Mojave",
          "Dundee",
          "Dubai",
          "Dubai",
          "Mwulire",
          "Mwulire",
          "Utqiagvik",
          "Utqiagvik",
          "Utqiagvik",
          "Utqiagvik",
          "Utqiagvik",
          "Utqiagvik",
          "Awarua",
          "Awarua",
          "Sunyani",
          "Sunyani",
          "Paumalu",
          "Paumalu",
          "Paumalu",
          "Paumalu",
          "Harmon",
          "Harmon",
          "Harmon",
          "Tahiti",
          "Chitose",
          "Chitose",
          "Chitose",
          "Chitose",
          "Chitose"
         ],
         "yaxis": "y"
        },
        {
         "alignmentgroup": "True",
         "base": [
          "2024-10-31T10:35:00.000086+00:00",
          "2024-10-31T10:26:30.000087+00:00",
          "2024-10-31T00:52:00.000086+00:00",
          "2024-10-31T04:03:00.000086+00:00",
          "2024-10-31T11:20:20.000086+00:00"
         ],
         "hovertemplate": "type=inFov<br>start=%{base}<br>end=%{x}<br>antenna=%{y}<extra></extra>",
         "legendgroup": "inFov",
         "marker": {
          "color": "#EF553B",
          "pattern": {
           "shape": ""
          }
         },
         "name": "inFov",
         "offsetgroup": "inFov",
         "orientation": "h",
         "showlegend": true,
         "textposition": "auto",
         "type": "bar",
         "x": [
          300000,
          149999.999,
          440000,
          440000,
          400000
         ],
         "xaxis": "x",
         "y": [
          "Dubai",
          "Mwulire",
          "Paumalu",
          "Harmon",
          "Tahiti"
         ],
         "yaxis": "y"
        },
        {
         "alignmentgroup": "True",
         "base": [
          "2024-10-31T10:35:00.000086+00:00",
          "2024-10-31T10:26:30.000087+00:00",
          "2024-10-31T00:52:00.000086+00:00",
          "2024-10-31T04:03:00.000086+00:00",
          "2024-10-31T11:20:20.000086+00:00"
         ],
         "hovertemplate": "type=connected<br>start=%{base}<br>end=%{x}<br>antenna=%{y}<extra></extra>",
         "legendgroup": "connected",
         "marker": {
          "color": "#00cc96",
          "pattern": {
           "shape": ""
          }
         },
         "name": "connected",
         "offsetgroup": "connected",
         "orientation": "h",
         "showlegend": true,
         "textposition": "auto",
         "type": "bar",
         "x": [
          300000,
          149999.999,
          440000,
          440000,
          400000
         ],
         "xaxis": "x",
         "y": [
          "Dubai",
          "Mwulire",
          "Paumalu",
          "Harmon",
          "Tahiti"
         ],
         "yaxis": "y"
        }
       ],
       "layout": {
        "barmode": "overlay",
        "legend": {
         "title": {
          "text": "type"
         },
         "tracegroupgap": 0
        },
        "margin": {
         "t": 60
        },
        "template": {
         "data": {
          "bar": [
           {
            "error_x": {
             "color": "#2a3f5f"
            },
            "error_y": {
             "color": "#2a3f5f"
            },
            "marker": {
             "line": {
              "color": "#E5ECF6",
              "width": 0.5
             },
             "pattern": {
              "fillmode": "overlay",
              "size": 10,
              "solidity": 0.2
             }
            },
            "type": "bar"
           }
          ],
          "barpolar": [
           {
            "marker": {
             "line": {
              "color": "#E5ECF6",
              "width": 0.5
             },
             "pattern": {
              "fillmode": "overlay",
              "size": 10,
              "solidity": 0.2
             }
            },
            "type": "barpolar"
           }
          ],
          "carpet": [
           {
            "aaxis": {
             "endlinecolor": "#2a3f5f",
             "gridcolor": "white",
             "linecolor": "white",
             "minorgridcolor": "white",
             "startlinecolor": "#2a3f5f"
            },
            "baxis": {
             "endlinecolor": "#2a3f5f",
             "gridcolor": "white",
             "linecolor": "white",
             "minorgridcolor": "white",
             "startlinecolor": "#2a3f5f"
            },
            "type": "carpet"
           }
          ],
          "choropleth": [
           {
            "colorbar": {
             "outlinewidth": 0,
             "ticks": ""
            },
            "type": "choropleth"
           }
          ],
          "contour": [
           {
            "colorbar": {
             "outlinewidth": 0,
             "ticks": ""
            },
            "colorscale": [
             [
              0,
              "#0d0887"
             ],
             [
              0.1111111111111111,
              "#46039f"
             ],
             [
              0.2222222222222222,
              "#7201a8"
             ],
             [
              0.3333333333333333,
              "#9c179e"
             ],
             [
              0.4444444444444444,
              "#bd3786"
             ],
             [
              0.5555555555555556,
              "#d8576b"
             ],
             [
              0.6666666666666666,
              "#ed7953"
             ],
             [
              0.7777777777777778,
              "#fb9f3a"
             ],
             [
              0.8888888888888888,
              "#fdca26"
             ],
             [
              1,
              "#f0f921"
             ]
            ],
            "type": "contour"
           }
          ],
          "contourcarpet": [
           {
            "colorbar": {
             "outlinewidth": 0,
             "ticks": ""
            },
            "type": "contourcarpet"
           }
          ],
          "heatmap": [
           {
            "colorbar": {
             "outlinewidth": 0,
             "ticks": ""
            },
            "colorscale": [
             [
              0,
              "#0d0887"
             ],
             [
              0.1111111111111111,
              "#46039f"
             ],
             [
              0.2222222222222222,
              "#7201a8"
             ],
             [
              0.3333333333333333,
              "#9c179e"
             ],
             [
              0.4444444444444444,
              "#bd3786"
             ],
             [
              0.5555555555555556,
              "#d8576b"
             ],
             [
              0.6666666666666666,
              "#ed7953"
             ],
             [
              0.7777777777777778,
              "#fb9f3a"
             ],
             [
              0.8888888888888888,
              "#fdca26"
             ],
             [
              1,
              "#f0f921"
             ]
            ],
            "type": "heatmap"
           }
          ],
          "heatmapgl": [
           {
            "colorbar": {
             "outlinewidth": 0,
             "ticks": ""
            },
            "colorscale": [
             [
              0,
              "#0d0887"
             ],
             [
              0.1111111111111111,
              "#46039f"
             ],
             [
              0.2222222222222222,
              "#7201a8"
             ],
             [
              0.3333333333333333,
              "#9c179e"
             ],
             [
              0.4444444444444444,
              "#bd3786"
             ],
             [
              0.5555555555555556,
              "#d8576b"
             ],
             [
              0.6666666666666666,
              "#ed7953"
             ],
             [
              0.7777777777777778,
              "#fb9f3a"
             ],
             [
              0.8888888888888888,
              "#fdca26"
             ],
             [
              1,
              "#f0f921"
             ]
            ],
            "type": "heatmapgl"
           }
          ],
          "histogram": [
           {
            "marker": {
             "pattern": {
              "fillmode": "overlay",
              "size": 10,
              "solidity": 0.2
             }
            },
            "type": "histogram"
           }
          ],
          "histogram2d": [
           {
            "colorbar": {
             "outlinewidth": 0,
             "ticks": ""
            },
            "colorscale": [
             [
              0,
              "#0d0887"
             ],
             [
              0.1111111111111111,
              "#46039f"
             ],
             [
              0.2222222222222222,
              "#7201a8"
             ],
             [
              0.3333333333333333,
              "#9c179e"
             ],
             [
              0.4444444444444444,
              "#bd3786"
             ],
             [
              0.5555555555555556,
              "#d8576b"
             ],
             [
              0.6666666666666666,
              "#ed7953"
             ],
             [
              0.7777777777777778,
              "#fb9f3a"
             ],
             [
              0.8888888888888888,
              "#fdca26"
             ],
             [
              1,
              "#f0f921"
             ]
            ],
            "type": "histogram2d"
           }
          ],
          "histogram2dcontour": [
           {
            "colorbar": {
             "outlinewidth": 0,
             "ticks": ""
            },
            "colorscale": [
             [
              0,
              "#0d0887"
             ],
             [
              0.1111111111111111,
              "#46039f"
             ],
             [
              0.2222222222222222,
              "#7201a8"
             ],
             [
              0.3333333333333333,
              "#9c179e"
             ],
             [
              0.4444444444444444,
              "#bd3786"
             ],
             [
              0.5555555555555556,
              "#d8576b"
             ],
             [
              0.6666666666666666,
              "#ed7953"
             ],
             [
              0.7777777777777778,
              "#fb9f3a"
             ],
             [
              0.8888888888888888,
              "#fdca26"
             ],
             [
              1,
              "#f0f921"
             ]
            ],
            "type": "histogram2dcontour"
           }
          ],
          "mesh3d": [
           {
            "colorbar": {
             "outlinewidth": 0,
             "ticks": ""
            },
            "type": "mesh3d"
           }
          ],
          "parcoords": [
           {
            "line": {
             "colorbar": {
              "outlinewidth": 0,
              "ticks": ""
             }
            },
            "type": "parcoords"
           }
          ],
          "pie": [
           {
            "automargin": true,
            "type": "pie"
           }
          ],
          "scatter": [
           {
            "fillpattern": {
             "fillmode": "overlay",
             "size": 10,
             "solidity": 0.2
            },
            "type": "scatter"
           }
          ],
          "scatter3d": [
           {
            "line": {
             "colorbar": {
              "outlinewidth": 0,
              "ticks": ""
             }
            },
            "marker": {
             "colorbar": {
              "outlinewidth": 0,
              "ticks": ""
             }
            },
            "type": "scatter3d"
           }
          ],
          "scattercarpet": [
           {
            "marker": {
             "colorbar": {
              "outlinewidth": 0,
              "ticks": ""
             }
            },
            "type": "scattercarpet"
           }
          ],
          "scattergeo": [
           {
            "marker": {
             "colorbar": {
              "outlinewidth": 0,
              "ticks": ""
             }
            },
            "type": "scattergeo"
           }
          ],
          "scattergl": [
           {
            "marker": {
             "colorbar": {
              "outlinewidth": 0,
              "ticks": ""
             }
            },
            "type": "scattergl"
           }
          ],
          "scattermapbox": [
           {
            "marker": {
             "colorbar": {
              "outlinewidth": 0,
              "ticks": ""
             }
            },
            "type": "scattermapbox"
           }
          ],
          "scatterpolar": [
           {
            "marker": {
             "colorbar": {
              "outlinewidth": 0,
              "ticks": ""
             }
            },
            "type": "scatterpolar"
           }
          ],
          "scatterpolargl": [
           {
            "marker": {
             "colorbar": {
              "outlinewidth": 0,
              "ticks": ""
             }
            },
            "type": "scatterpolargl"
           }
          ],
          "scatterternary": [
           {
            "marker": {
             "colorbar": {
              "outlinewidth": 0,
              "ticks": ""
             }
            },
            "type": "scatterternary"
           }
          ],
          "surface": [
           {
            "colorbar": {
             "outlinewidth": 0,
             "ticks": ""
            },
            "colorscale": [
             [
              0,
              "#0d0887"
             ],
             [
              0.1111111111111111,
              "#46039f"
             ],
             [
              0.2222222222222222,
              "#7201a8"
             ],
             [
              0.3333333333333333,
              "#9c179e"
             ],
             [
              0.4444444444444444,
              "#bd3786"
             ],
             [
              0.5555555555555556,
              "#d8576b"
             ],
             [
              0.6666666666666666,
              "#ed7953"
             ],
             [
              0.7777777777777778,
              "#fb9f3a"
             ],
             [
              0.8888888888888888,
              "#fdca26"
             ],
             [
              1,
              "#f0f921"
             ]
            ],
            "type": "surface"
           }
          ],
          "table": [
           {
            "cells": {
             "fill": {
              "color": "#EBF0F8"
             },
             "line": {
              "color": "white"
             }
            },
            "header": {
             "fill": {
              "color": "#C8D4E3"
             },
             "line": {
              "color": "white"
             }
            },
            "type": "table"
           }
          ]
         },
         "layout": {
          "annotationdefaults": {
           "arrowcolor": "#2a3f5f",
           "arrowhead": 0,
           "arrowwidth": 1
          },
          "autotypenumbers": "strict",
          "coloraxis": {
           "colorbar": {
            "outlinewidth": 0,
            "ticks": ""
           }
          },
          "colorscale": {
           "diverging": [
            [
             0,
             "#8e0152"
            ],
            [
             0.1,
             "#c51b7d"
            ],
            [
             0.2,
             "#de77ae"
            ],
            [
             0.3,
             "#f1b6da"
            ],
            [
             0.4,
             "#fde0ef"
            ],
            [
             0.5,
             "#f7f7f7"
            ],
            [
             0.6,
             "#e6f5d0"
            ],
            [
             0.7,
             "#b8e186"
            ],
            [
             0.8,
             "#7fbc41"
            ],
            [
             0.9,
             "#4d9221"
            ],
            [
             1,
             "#276419"
            ]
           ],
           "sequential": [
            [
             0,
             "#0d0887"
            ],
            [
             0.1111111111111111,
             "#46039f"
            ],
            [
             0.2222222222222222,
             "#7201a8"
            ],
            [
             0.3333333333333333,
             "#9c179e"
            ],
            [
             0.4444444444444444,
             "#bd3786"
            ],
            [
             0.5555555555555556,
             "#d8576b"
            ],
            [
             0.6666666666666666,
             "#ed7953"
            ],
            [
             0.7777777777777778,
             "#fb9f3a"
            ],
            [
             0.8888888888888888,
             "#fdca26"
            ],
            [
             1,
             "#f0f921"
            ]
           ],
           "sequentialminus": [
            [
             0,
             "#0d0887"
            ],
            [
             0.1111111111111111,
             "#46039f"
            ],
            [
             0.2222222222222222,
             "#7201a8"
            ],
            [
             0.3333333333333333,
             "#9c179e"
            ],
            [
             0.4444444444444444,
             "#bd3786"
            ],
            [
             0.5555555555555556,
             "#d8576b"
            ],
            [
             0.6666666666666666,
             "#ed7953"
            ],
            [
             0.7777777777777778,
             "#fb9f3a"
            ],
            [
             0.8888888888888888,
             "#fdca26"
            ],
            [
             1,
             "#f0f921"
            ]
           ]
          },
          "colorway": [
           "#636efa",
           "#EF553B",
           "#00cc96",
           "#ab63fa",
           "#FFA15A",
           "#19d3f3",
           "#FF6692",
           "#B6E880",
           "#FF97FF",
           "#FECB52"
          ],
          "font": {
           "color": "#2a3f5f"
          },
          "geo": {
           "bgcolor": "white",
           "lakecolor": "white",
           "landcolor": "#E5ECF6",
           "showlakes": true,
           "showland": true,
           "subunitcolor": "white"
          },
          "hoverlabel": {
           "align": "left"
          },
          "hovermode": "closest",
          "mapbox": {
           "style": "light"
          },
          "paper_bgcolor": "white",
          "plot_bgcolor": "#E5ECF6",
          "polar": {
           "angularaxis": {
            "gridcolor": "white",
            "linecolor": "white",
            "ticks": ""
           },
           "bgcolor": "#E5ECF6",
           "radialaxis": {
            "gridcolor": "white",
            "linecolor": "white",
            "ticks": ""
           }
          },
          "scene": {
           "xaxis": {
            "backgroundcolor": "#E5ECF6",
            "gridcolor": "white",
            "gridwidth": 2,
            "linecolor": "white",
            "showbackground": true,
            "ticks": "",
            "zerolinecolor": "white"
           },
           "yaxis": {
            "backgroundcolor": "#E5ECF6",
            "gridcolor": "white",
            "gridwidth": 2,
            "linecolor": "white",
            "showbackground": true,
            "ticks": "",
            "zerolinecolor": "white"
           },
           "zaxis": {
            "backgroundcolor": "#E5ECF6",
            "gridcolor": "white",
            "gridwidth": 2,
            "linecolor": "white",
            "showbackground": true,
            "ticks": "",
            "zerolinecolor": "white"
           }
          },
          "shapedefaults": {
           "line": {
            "color": "#2a3f5f"
           }
          },
          "ternary": {
           "aaxis": {
            "gridcolor": "white",
            "linecolor": "white",
            "ticks": ""
           },
           "baxis": {
            "gridcolor": "white",
            "linecolor": "white",
            "ticks": ""
           },
           "bgcolor": "#E5ECF6",
           "caxis": {
            "gridcolor": "white",
            "linecolor": "white",
            "ticks": ""
           }
          },
          "title": {
           "x": 0.05
          },
          "xaxis": {
           "automargin": true,
           "gridcolor": "white",
           "linecolor": "white",
           "ticks": "",
           "title": {
            "standoff": 15
           },
           "zerolinecolor": "white",
           "zerolinewidth": 2
          },
          "yaxis": {
           "automargin": true,
           "gridcolor": "white",
           "linecolor": "white",
           "ticks": "",
           "title": {
            "standoff": 15
           },
           "zerolinecolor": "white",
           "zerolinewidth": 2
          }
         }
        },
        "title": {
         "text": "Spacecraft 3-3 Access, In Fov, and Connected"
        },
        "xaxis": {
         "anchor": "y",
         "domain": [
          0,
          1
         ],
         "type": "date"
        },
        "yaxis": {
         "anchor": "x",
         "categoryorder": "total ascending",
         "domain": [
          0,
          1
         ],
         "title": {
          "text": "antenna"
         }
        }
       }
      }
     },
     "metadata": {},
     "output_type": "display_data"
    },
    {
     "data": {
      "application/vnd.plotly.v1+json": {
       "config": {
        "plotlyServerURL": "https://plot.ly"
       },
       "data": [
        {
         "alignmentgroup": "True",
         "base": [
          "2024-10-31T00:47:40.000086+00:00",
          "2024-10-31T02:35:30.000086+00:00",
          "2024-10-31T04:17:00.000086+00:00",
          "2024-10-31T05:56:00.000086+00:00",
          "2024-10-31T07:36:00.000087+00:00",
          "2024-10-31T09:18:20.000086+00:00",
          "2024-10-31T01:07:00.000087+00:00",
          "2024-10-31T08:44:00.000086+00:00",
          "2024-10-31T10:20:10.000086+00:00",
          "2024-10-31T10:11:00.000086+00:00",
          "2024-10-31T11:51:20.000086+00:00",
          "2024-10-31T00:53:10.000086+00:00",
          "2024-10-31T02:29:00.000086+00:00",
          "2024-10-31T04:07:10.000086+00:00",
          "2024-10-31T05:46:20.000086+00:00",
          "2024-10-31T07:25:50.000086+00:00",
          "2024-10-31T09:05:50.000086+00:00",
          "2024-10-31T10:47:30.000086+00:00",
          "2024-10-31T00:15:50.000086+00:00",
          "2024-10-31T01:58:00.000086+00:00",
          "2024-10-31T01:16:20.000086+00:00",
          "2024-10-31T03:02:10.000086+00:00",
          "2024-10-31T11:53:00.000087+00:00",
          "2024-10-31T00:36:30.000086+00:00",
          "2024-10-31T02:19:20.000086+00:00",
          "2024-10-31T09:15:40.000086+00:00",
          "2024-10-31T10:54:40.000086+00:00",
          "2024-10-31T03:47:50.000086+00:00",
          "2024-10-31T05:30:10.000086+00:00",
          "2024-10-31T00:33:50.000087+00:00",
          "2024-10-31T11:05:50.000086+00:00",
          "2024-10-31T03:57:10.000086+00:00",
          "2024-10-31T05:34:30.000086+00:00",
          "2024-10-31T07:15:50.000087+00:00",
          "2024-10-31T08:59:00.000086+00:00",
          "2024-10-31T10:41:30.000086+00:00"
         ],
         "hovertemplate": "type=access<br>start=%{base}<br>end=%{x}<br>antenna=%{y}<extra></extra>",
         "legendgroup": "access",
         "marker": {
          "color": "#636efa",
          "pattern": {
           "shape": ""
          }
         },
         "name": "access",
         "offsetgroup": "access",
         "orientation": "h",
         "showlegend": true,
         "textposition": "auto",
         "type": "bar",
         "x": [
          610000,
          20000.001,
          280000,
          700000,
          809999.999,
          500000,
          409999.999,
          380000,
          820000,
          740000,
          510000,
          300000,
          610000,
          710000,
          730000,
          700000,
          580000.001,
          170000,
          800000,
          470000,
          810000,
          140000,
          329999.999,
          810000,
          570000,
          590000.001,
          810000,
          810000,
          590000,
          39999.999,
          770000.001,
          550000,
          820000,
          759999.999,
          620000,
          640000
         ],
         "xaxis": "x",
         "y": [
          "Mojave",
          "Mojave",
          "Mojave",
          "Mojave",
          "Mojave",
          "Mojave",
          "Dundee",
          "Dubai",
          "Dubai",
          "Mwulire",
          "Mwulire",
          "Utqiagvik",
          "Utqiagvik",
          "Utqiagvik",
          "Utqiagvik",
          "Utqiagvik",
          "Utqiagvik",
          "Utqiagvik",
          "Awarua",
          "Awarua",
          "Sunyani",
          "Sunyani",
          "Sunyani",
          "Paumalu",
          "Paumalu",
          "Paumalu",
          "Paumalu",
          "Harmon",
          "Harmon",
          "Tahiti",
          "Tahiti",
          "Chitose",
          "Chitose",
          "Chitose",
          "Chitose",
          "Chitose"
         ],
         "yaxis": "y"
        },
        {
         "alignmentgroup": "True",
         "base": [
          "2024-10-31T10:23:20.000086+00:00",
          "2024-10-31T10:30:10.000086+00:00",
          "2024-10-31T10:15:10.000086+00:00",
          "2024-10-31T01:19:30.000086+00:00",
          "2024-10-31T00:39:30.000086+00:00",
          "2024-10-31T03:51:00.000087+00:00",
          "2024-10-31T11:09:30.000086+00:00",
          "2024-10-31T07:23:20.000086+00:00"
         ],
         "hovertemplate": "type=inFov<br>start=%{base}<br>end=%{x}<br>antenna=%{y}<extra></extra>",
         "legendgroup": "inFov",
         "marker": {
          "color": "#EF553B",
          "pattern": {
           "shape": ""
          }
         },
         "name": "inFov",
         "offsetgroup": "inFov",
         "orientation": "h",
         "showlegend": true,
         "textposition": "auto",
         "type": "bar",
         "x": [
          220000,
          30000.001,
          170000,
          280000.001,
          450000,
          429999.999,
          330000,
          80000
         ],
         "xaxis": "x",
         "y": [
          "Dubai",
          "Dubai",
          "Mwulire",
          "Sunyani",
          "Paumalu",
          "Harmon",
          "Tahiti",
          "Chitose"
         ],
         "yaxis": "y"
        },
        {
         "alignmentgroup": "True",
         "base": [
          "2024-10-31T10:23:20.000086+00:00",
          "2024-10-31T10:15:10.000086+00:00",
          "2024-10-31T01:19:30.000086+00:00",
          "2024-10-31T00:39:30.000086+00:00",
          "2024-10-31T03:51:00.000087+00:00",
          "2024-10-31T11:09:30.000086+00:00",
          "2024-10-31T07:23:20.000086+00:00"
         ],
         "hovertemplate": "type=connected<br>start=%{base}<br>end=%{x}<br>antenna=%{y}<extra></extra>",
         "legendgroup": "connected",
         "marker": {
          "color": "#00cc96",
          "pattern": {
           "shape": ""
          }
         },
         "name": "connected",
         "offsetgroup": "connected",
         "orientation": "h",
         "showlegend": true,
         "textposition": "auto",
         "type": "bar",
         "x": [
          220000,
          170000,
          280000.001,
          450000,
          429999.999,
          330000,
          80000
         ],
         "xaxis": "x",
         "y": [
          "Dubai",
          "Mwulire",
          "Sunyani",
          "Paumalu",
          "Harmon",
          "Tahiti",
          "Chitose"
         ],
         "yaxis": "y"
        }
       ],
       "layout": {
        "barmode": "overlay",
        "legend": {
         "title": {
          "text": "type"
         },
         "tracegroupgap": 0
        },
        "margin": {
         "t": 60
        },
        "template": {
         "data": {
          "bar": [
           {
            "error_x": {
             "color": "#2a3f5f"
            },
            "error_y": {
             "color": "#2a3f5f"
            },
            "marker": {
             "line": {
              "color": "#E5ECF6",
              "width": 0.5
             },
             "pattern": {
              "fillmode": "overlay",
              "size": 10,
              "solidity": 0.2
             }
            },
            "type": "bar"
           }
          ],
          "barpolar": [
           {
            "marker": {
             "line": {
              "color": "#E5ECF6",
              "width": 0.5
             },
             "pattern": {
              "fillmode": "overlay",
              "size": 10,
              "solidity": 0.2
             }
            },
            "type": "barpolar"
           }
          ],
          "carpet": [
           {
            "aaxis": {
             "endlinecolor": "#2a3f5f",
             "gridcolor": "white",
             "linecolor": "white",
             "minorgridcolor": "white",
             "startlinecolor": "#2a3f5f"
            },
            "baxis": {
             "endlinecolor": "#2a3f5f",
             "gridcolor": "white",
             "linecolor": "white",
             "minorgridcolor": "white",
             "startlinecolor": "#2a3f5f"
            },
            "type": "carpet"
           }
          ],
          "choropleth": [
           {
            "colorbar": {
             "outlinewidth": 0,
             "ticks": ""
            },
            "type": "choropleth"
           }
          ],
          "contour": [
           {
            "colorbar": {
             "outlinewidth": 0,
             "ticks": ""
            },
            "colorscale": [
             [
              0,
              "#0d0887"
             ],
             [
              0.1111111111111111,
              "#46039f"
             ],
             [
              0.2222222222222222,
              "#7201a8"
             ],
             [
              0.3333333333333333,
              "#9c179e"
             ],
             [
              0.4444444444444444,
              "#bd3786"
             ],
             [
              0.5555555555555556,
              "#d8576b"
             ],
             [
              0.6666666666666666,
              "#ed7953"
             ],
             [
              0.7777777777777778,
              "#fb9f3a"
             ],
             [
              0.8888888888888888,
              "#fdca26"
             ],
             [
              1,
              "#f0f921"
             ]
            ],
            "type": "contour"
           }
          ],
          "contourcarpet": [
           {
            "colorbar": {
             "outlinewidth": 0,
             "ticks": ""
            },
            "type": "contourcarpet"
           }
          ],
          "heatmap": [
           {
            "colorbar": {
             "outlinewidth": 0,
             "ticks": ""
            },
            "colorscale": [
             [
              0,
              "#0d0887"
             ],
             [
              0.1111111111111111,
              "#46039f"
             ],
             [
              0.2222222222222222,
              "#7201a8"
             ],
             [
              0.3333333333333333,
              "#9c179e"
             ],
             [
              0.4444444444444444,
              "#bd3786"
             ],
             [
              0.5555555555555556,
              "#d8576b"
             ],
             [
              0.6666666666666666,
              "#ed7953"
             ],
             [
              0.7777777777777778,
              "#fb9f3a"
             ],
             [
              0.8888888888888888,
              "#fdca26"
             ],
             [
              1,
              "#f0f921"
             ]
            ],
            "type": "heatmap"
           }
          ],
          "heatmapgl": [
           {
            "colorbar": {
             "outlinewidth": 0,
             "ticks": ""
            },
            "colorscale": [
             [
              0,
              "#0d0887"
             ],
             [
              0.1111111111111111,
              "#46039f"
             ],
             [
              0.2222222222222222,
              "#7201a8"
             ],
             [
              0.3333333333333333,
              "#9c179e"
             ],
             [
              0.4444444444444444,
              "#bd3786"
             ],
             [
              0.5555555555555556,
              "#d8576b"
             ],
             [
              0.6666666666666666,
              "#ed7953"
             ],
             [
              0.7777777777777778,
              "#fb9f3a"
             ],
             [
              0.8888888888888888,
              "#fdca26"
             ],
             [
              1,
              "#f0f921"
             ]
            ],
            "type": "heatmapgl"
           }
          ],
          "histogram": [
           {
            "marker": {
             "pattern": {
              "fillmode": "overlay",
              "size": 10,
              "solidity": 0.2
             }
            },
            "type": "histogram"
           }
          ],
          "histogram2d": [
           {
            "colorbar": {
             "outlinewidth": 0,
             "ticks": ""
            },
            "colorscale": [
             [
              0,
              "#0d0887"
             ],
             [
              0.1111111111111111,
              "#46039f"
             ],
             [
              0.2222222222222222,
              "#7201a8"
             ],
             [
              0.3333333333333333,
              "#9c179e"
             ],
             [
              0.4444444444444444,
              "#bd3786"
             ],
             [
              0.5555555555555556,
              "#d8576b"
             ],
             [
              0.6666666666666666,
              "#ed7953"
             ],
             [
              0.7777777777777778,
              "#fb9f3a"
             ],
             [
              0.8888888888888888,
              "#fdca26"
             ],
             [
              1,
              "#f0f921"
             ]
            ],
            "type": "histogram2d"
           }
          ],
          "histogram2dcontour": [
           {
            "colorbar": {
             "outlinewidth": 0,
             "ticks": ""
            },
            "colorscale": [
             [
              0,
              "#0d0887"
             ],
             [
              0.1111111111111111,
              "#46039f"
             ],
             [
              0.2222222222222222,
              "#7201a8"
             ],
             [
              0.3333333333333333,
              "#9c179e"
             ],
             [
              0.4444444444444444,
              "#bd3786"
             ],
             [
              0.5555555555555556,
              "#d8576b"
             ],
             [
              0.6666666666666666,
              "#ed7953"
             ],
             [
              0.7777777777777778,
              "#fb9f3a"
             ],
             [
              0.8888888888888888,
              "#fdca26"
             ],
             [
              1,
              "#f0f921"
             ]
            ],
            "type": "histogram2dcontour"
           }
          ],
          "mesh3d": [
           {
            "colorbar": {
             "outlinewidth": 0,
             "ticks": ""
            },
            "type": "mesh3d"
           }
          ],
          "parcoords": [
           {
            "line": {
             "colorbar": {
              "outlinewidth": 0,
              "ticks": ""
             }
            },
            "type": "parcoords"
           }
          ],
          "pie": [
           {
            "automargin": true,
            "type": "pie"
           }
          ],
          "scatter": [
           {
            "fillpattern": {
             "fillmode": "overlay",
             "size": 10,
             "solidity": 0.2
            },
            "type": "scatter"
           }
          ],
          "scatter3d": [
           {
            "line": {
             "colorbar": {
              "outlinewidth": 0,
              "ticks": ""
             }
            },
            "marker": {
             "colorbar": {
              "outlinewidth": 0,
              "ticks": ""
             }
            },
            "type": "scatter3d"
           }
          ],
          "scattercarpet": [
           {
            "marker": {
             "colorbar": {
              "outlinewidth": 0,
              "ticks": ""
             }
            },
            "type": "scattercarpet"
           }
          ],
          "scattergeo": [
           {
            "marker": {
             "colorbar": {
              "outlinewidth": 0,
              "ticks": ""
             }
            },
            "type": "scattergeo"
           }
          ],
          "scattergl": [
           {
            "marker": {
             "colorbar": {
              "outlinewidth": 0,
              "ticks": ""
             }
            },
            "type": "scattergl"
           }
          ],
          "scattermapbox": [
           {
            "marker": {
             "colorbar": {
              "outlinewidth": 0,
              "ticks": ""
             }
            },
            "type": "scattermapbox"
           }
          ],
          "scatterpolar": [
           {
            "marker": {
             "colorbar": {
              "outlinewidth": 0,
              "ticks": ""
             }
            },
            "type": "scatterpolar"
           }
          ],
          "scatterpolargl": [
           {
            "marker": {
             "colorbar": {
              "outlinewidth": 0,
              "ticks": ""
             }
            },
            "type": "scatterpolargl"
           }
          ],
          "scatterternary": [
           {
            "marker": {
             "colorbar": {
              "outlinewidth": 0,
              "ticks": ""
             }
            },
            "type": "scatterternary"
           }
          ],
          "surface": [
           {
            "colorbar": {
             "outlinewidth": 0,
             "ticks": ""
            },
            "colorscale": [
             [
              0,
              "#0d0887"
             ],
             [
              0.1111111111111111,
              "#46039f"
             ],
             [
              0.2222222222222222,
              "#7201a8"
             ],
             [
              0.3333333333333333,
              "#9c179e"
             ],
             [
              0.4444444444444444,
              "#bd3786"
             ],
             [
              0.5555555555555556,
              "#d8576b"
             ],
             [
              0.6666666666666666,
              "#ed7953"
             ],
             [
              0.7777777777777778,
              "#fb9f3a"
             ],
             [
              0.8888888888888888,
              "#fdca26"
             ],
             [
              1,
              "#f0f921"
             ]
            ],
            "type": "surface"
           }
          ],
          "table": [
           {
            "cells": {
             "fill": {
              "color": "#EBF0F8"
             },
             "line": {
              "color": "white"
             }
            },
            "header": {
             "fill": {
              "color": "#C8D4E3"
             },
             "line": {
              "color": "white"
             }
            },
            "type": "table"
           }
          ]
         },
         "layout": {
          "annotationdefaults": {
           "arrowcolor": "#2a3f5f",
           "arrowhead": 0,
           "arrowwidth": 1
          },
          "autotypenumbers": "strict",
          "coloraxis": {
           "colorbar": {
            "outlinewidth": 0,
            "ticks": ""
           }
          },
          "colorscale": {
           "diverging": [
            [
             0,
             "#8e0152"
            ],
            [
             0.1,
             "#c51b7d"
            ],
            [
             0.2,
             "#de77ae"
            ],
            [
             0.3,
             "#f1b6da"
            ],
            [
             0.4,
             "#fde0ef"
            ],
            [
             0.5,
             "#f7f7f7"
            ],
            [
             0.6,
             "#e6f5d0"
            ],
            [
             0.7,
             "#b8e186"
            ],
            [
             0.8,
             "#7fbc41"
            ],
            [
             0.9,
             "#4d9221"
            ],
            [
             1,
             "#276419"
            ]
           ],
           "sequential": [
            [
             0,
             "#0d0887"
            ],
            [
             0.1111111111111111,
             "#46039f"
            ],
            [
             0.2222222222222222,
             "#7201a8"
            ],
            [
             0.3333333333333333,
             "#9c179e"
            ],
            [
             0.4444444444444444,
             "#bd3786"
            ],
            [
             0.5555555555555556,
             "#d8576b"
            ],
            [
             0.6666666666666666,
             "#ed7953"
            ],
            [
             0.7777777777777778,
             "#fb9f3a"
            ],
            [
             0.8888888888888888,
             "#fdca26"
            ],
            [
             1,
             "#f0f921"
            ]
           ],
           "sequentialminus": [
            [
             0,
             "#0d0887"
            ],
            [
             0.1111111111111111,
             "#46039f"
            ],
            [
             0.2222222222222222,
             "#7201a8"
            ],
            [
             0.3333333333333333,
             "#9c179e"
            ],
            [
             0.4444444444444444,
             "#bd3786"
            ],
            [
             0.5555555555555556,
             "#d8576b"
            ],
            [
             0.6666666666666666,
             "#ed7953"
            ],
            [
             0.7777777777777778,
             "#fb9f3a"
            ],
            [
             0.8888888888888888,
             "#fdca26"
            ],
            [
             1,
             "#f0f921"
            ]
           ]
          },
          "colorway": [
           "#636efa",
           "#EF553B",
           "#00cc96",
           "#ab63fa",
           "#FFA15A",
           "#19d3f3",
           "#FF6692",
           "#B6E880",
           "#FF97FF",
           "#FECB52"
          ],
          "font": {
           "color": "#2a3f5f"
          },
          "geo": {
           "bgcolor": "white",
           "lakecolor": "white",
           "landcolor": "#E5ECF6",
           "showlakes": true,
           "showland": true,
           "subunitcolor": "white"
          },
          "hoverlabel": {
           "align": "left"
          },
          "hovermode": "closest",
          "mapbox": {
           "style": "light"
          },
          "paper_bgcolor": "white",
          "plot_bgcolor": "#E5ECF6",
          "polar": {
           "angularaxis": {
            "gridcolor": "white",
            "linecolor": "white",
            "ticks": ""
           },
           "bgcolor": "#E5ECF6",
           "radialaxis": {
            "gridcolor": "white",
            "linecolor": "white",
            "ticks": ""
           }
          },
          "scene": {
           "xaxis": {
            "backgroundcolor": "#E5ECF6",
            "gridcolor": "white",
            "gridwidth": 2,
            "linecolor": "white",
            "showbackground": true,
            "ticks": "",
            "zerolinecolor": "white"
           },
           "yaxis": {
            "backgroundcolor": "#E5ECF6",
            "gridcolor": "white",
            "gridwidth": 2,
            "linecolor": "white",
            "showbackground": true,
            "ticks": "",
            "zerolinecolor": "white"
           },
           "zaxis": {
            "backgroundcolor": "#E5ECF6",
            "gridcolor": "white",
            "gridwidth": 2,
            "linecolor": "white",
            "showbackground": true,
            "ticks": "",
            "zerolinecolor": "white"
           }
          },
          "shapedefaults": {
           "line": {
            "color": "#2a3f5f"
           }
          },
          "ternary": {
           "aaxis": {
            "gridcolor": "white",
            "linecolor": "white",
            "ticks": ""
           },
           "baxis": {
            "gridcolor": "white",
            "linecolor": "white",
            "ticks": ""
           },
           "bgcolor": "#E5ECF6",
           "caxis": {
            "gridcolor": "white",
            "linecolor": "white",
            "ticks": ""
           }
          },
          "title": {
           "x": 0.05
          },
          "xaxis": {
           "automargin": true,
           "gridcolor": "white",
           "linecolor": "white",
           "ticks": "",
           "title": {
            "standoff": 15
           },
           "zerolinecolor": "white",
           "zerolinewidth": 2
          },
          "yaxis": {
           "automargin": true,
           "gridcolor": "white",
           "linecolor": "white",
           "ticks": "",
           "title": {
            "standoff": 15
           },
           "zerolinecolor": "white",
           "zerolinewidth": 2
          }
         }
        },
        "title": {
         "text": "Spacecraft 3-4 Access, In Fov, and Connected"
        },
        "xaxis": {
         "anchor": "y",
         "domain": [
          0,
          1
         ],
         "type": "date"
        },
        "yaxis": {
         "anchor": "x",
         "categoryorder": "total ascending",
         "domain": [
          0,
          1
         ],
         "title": {
          "text": "antenna"
         }
        }
       }
      }
     },
     "metadata": {},
     "output_type": "display_data"
    },
    {
     "data": {
      "application/vnd.plotly.v1+json": {
       "config": {
        "plotlyServerURL": "https://plot.ly"
       },
       "data": [
        {
         "alignmentgroup": "True",
         "base": [
          "2024-10-31T00:34:20.000086+00:00",
          "2024-10-31T02:21:10.000086+00:00",
          "2024-10-31T04:04:40.000086+00:00",
          "2024-10-31T05:44:00.000086+00:00",
          "2024-10-31T07:24:00.000086+00:00",
          "2024-10-31T09:06:00.000087+00:00",
          "2024-10-31T00:54:00.000087+00:00",
          "2024-10-31T08:34:20.000086+00:00",
          "2024-10-31T10:08:40.000086+00:00",
          "2024-10-31T11:50:40.000086+00:00",
          "2024-10-31T01:16:10.000086+00:00",
          "2024-10-31T09:59:50.000086+00:00",
          "2024-10-31T11:39:30.000086+00:00",
          "2024-10-31T00:41:30.000087+00:00",
          "2024-10-31T02:17:00.000086+00:00",
          "2024-10-31T03:55:10.000087+00:00",
          "2024-10-31T05:34:20.000086+00:00",
          "2024-10-31T07:14:00.000086+00:00",
          "2024-10-31T08:54:00.000086+00:00",
          "2024-10-31T10:35:10.000086+00:00",
          "2024-10-31T00:03:10.000086+00:00",
          "2024-10-31T01:45:10.000086+00:00",
          "2024-10-31T01:03:50.000086+00:00",
          "2024-10-31T02:47:30.000086+00:00",
          "2024-10-31T00:24:00.000086+00:00",
          "2024-10-31T02:06:10.000087+00:00",
          "2024-10-31T09:04:20.000086+00:00",
          "2024-10-31T10:43:00.000086+00:00",
          "2024-10-31T03:35:40.000086+00:00",
          "2024-10-31T05:17:20.000086+00:00",
          "2024-10-31T00:18:30.000086+00:00",
          "2024-10-31T10:54:40.000086+00:00",
          "2024-10-31T03:45:40.000087+00:00",
          "2024-10-31T05:22:30.000086+00:00",
          "2024-10-31T07:03:30.000086+00:00",
          "2024-10-31T08:46:50.000086+00:00",
          "2024-10-31T10:29:40.000086+00:00"
         ],
         "hovertemplate": "type=access<br>start=%{base}<br>end=%{x}<br>antenna=%{y}<extra></extra>",
         "legendgroup": "access",
         "marker": {
          "color": "#636efa",
          "pattern": {
           "shape": ""
          }
         },
         "name": "access",
         "offsetgroup": "access",
         "orientation": "h",
         "showlegend": true,
         "textposition": "auto",
         "type": "bar",
         "x": [
          670000,
          210000,
          240000,
          680000.001,
          830000,
          589999.999,
          499999.999,
          150000,
          810000,
          550000,
          140000,
          690000,
          780000,
          239999.999,
          600000,
          710000,
          740000,
          720000,
          620000,
          300000.001,
          820000,
          550000.001,
          820000,
          420000,
          810000,
          649999.999,
          530000,
          830000,
          800000,
          670000,
          390000,
          740000,
          479999.999,
          820000,
          790000,
          650000,
          640000
         ],
         "xaxis": "x",
         "y": [
          "Mojave",
          "Mojave",
          "Mojave",
          "Mojave",
          "Mojave",
          "Mojave",
          "Dundee",
          "Dubai",
          "Dubai",
          "Dubai",
          "Mwulire",
          "Mwulire",
          "Mwulire",
          "Utqiagvik",
          "Utqiagvik",
          "Utqiagvik",
          "Utqiagvik",
          "Utqiagvik",
          "Utqiagvik",
          "Utqiagvik",
          "Awarua",
          "Awarua",
          "Sunyani",
          "Sunyani",
          "Paumalu",
          "Paumalu",
          "Paumalu",
          "Paumalu",
          "Harmon",
          "Harmon",
          "Tahiti",
          "Tahiti",
          "Chitose",
          "Chitose",
          "Chitose",
          "Chitose",
          "Chitose"
         ],
         "yaxis": "y"
        },
        {
         "alignmentgroup": "True",
         "base": [
          "2024-10-31T07:29:10.000086+00:00",
          "2024-10-31T00:06:30.000086+00:00",
          "2024-10-31T01:10:30.000087+00:00",
          "2024-10-31T00:27:00.000086+00:00",
          "2024-10-31T03:39:00.000086+00:00",
          "2024-10-31T10:58:40.000086+00:00"
         ],
         "hovertemplate": "type=inFov<br>start=%{base}<br>end=%{x}<br>antenna=%{y}<extra></extra>",
         "legendgroup": "inFov",
         "marker": {
          "color": "#EF553B",
          "pattern": {
           "shape": ""
          }
         },
         "name": "inFov",
         "offsetgroup": "inFov",
         "orientation": "h",
         "showlegend": true,
         "textposition": "auto",
         "type": "bar",
         "x": [
          30000,
          370000,
          239999.999,
          440000,
          400000.001,
          250000
         ],
         "xaxis": "x",
         "y": [
          "Mojave",
          "Awarua",
          "Sunyani",
          "Paumalu",
          "Harmon",
          "Tahiti"
         ],
         "yaxis": "y"
        },
        {
         "alignmentgroup": "True",
         "base": [
          "2024-10-31T00:06:30.000086+00:00",
          "2024-10-31T01:10:30.000087+00:00",
          "2024-10-31T00:27:00.000086+00:00",
          "2024-10-31T03:39:00.000086+00:00",
          "2024-10-31T10:58:40.000086+00:00"
         ],
         "hovertemplate": "type=connected<br>start=%{base}<br>end=%{x}<br>antenna=%{y}<extra></extra>",
         "legendgroup": "connected",
         "marker": {
          "color": "#00cc96",
          "pattern": {
           "shape": ""
          }
         },
         "name": "connected",
         "offsetgroup": "connected",
         "orientation": "h",
         "showlegend": true,
         "textposition": "auto",
         "type": "bar",
         "x": [
          370000,
          239999.999,
          440000,
          400000.001,
          250000
         ],
         "xaxis": "x",
         "y": [
          "Awarua",
          "Sunyani",
          "Paumalu",
          "Harmon",
          "Tahiti"
         ],
         "yaxis": "y"
        }
       ],
       "layout": {
        "barmode": "overlay",
        "legend": {
         "title": {
          "text": "type"
         },
         "tracegroupgap": 0
        },
        "margin": {
         "t": 60
        },
        "template": {
         "data": {
          "bar": [
           {
            "error_x": {
             "color": "#2a3f5f"
            },
            "error_y": {
             "color": "#2a3f5f"
            },
            "marker": {
             "line": {
              "color": "#E5ECF6",
              "width": 0.5
             },
             "pattern": {
              "fillmode": "overlay",
              "size": 10,
              "solidity": 0.2
             }
            },
            "type": "bar"
           }
          ],
          "barpolar": [
           {
            "marker": {
             "line": {
              "color": "#E5ECF6",
              "width": 0.5
             },
             "pattern": {
              "fillmode": "overlay",
              "size": 10,
              "solidity": 0.2
             }
            },
            "type": "barpolar"
           }
          ],
          "carpet": [
           {
            "aaxis": {
             "endlinecolor": "#2a3f5f",
             "gridcolor": "white",
             "linecolor": "white",
             "minorgridcolor": "white",
             "startlinecolor": "#2a3f5f"
            },
            "baxis": {
             "endlinecolor": "#2a3f5f",
             "gridcolor": "white",
             "linecolor": "white",
             "minorgridcolor": "white",
             "startlinecolor": "#2a3f5f"
            },
            "type": "carpet"
           }
          ],
          "choropleth": [
           {
            "colorbar": {
             "outlinewidth": 0,
             "ticks": ""
            },
            "type": "choropleth"
           }
          ],
          "contour": [
           {
            "colorbar": {
             "outlinewidth": 0,
             "ticks": ""
            },
            "colorscale": [
             [
              0,
              "#0d0887"
             ],
             [
              0.1111111111111111,
              "#46039f"
             ],
             [
              0.2222222222222222,
              "#7201a8"
             ],
             [
              0.3333333333333333,
              "#9c179e"
             ],
             [
              0.4444444444444444,
              "#bd3786"
             ],
             [
              0.5555555555555556,
              "#d8576b"
             ],
             [
              0.6666666666666666,
              "#ed7953"
             ],
             [
              0.7777777777777778,
              "#fb9f3a"
             ],
             [
              0.8888888888888888,
              "#fdca26"
             ],
             [
              1,
              "#f0f921"
             ]
            ],
            "type": "contour"
           }
          ],
          "contourcarpet": [
           {
            "colorbar": {
             "outlinewidth": 0,
             "ticks": ""
            },
            "type": "contourcarpet"
           }
          ],
          "heatmap": [
           {
            "colorbar": {
             "outlinewidth": 0,
             "ticks": ""
            },
            "colorscale": [
             [
              0,
              "#0d0887"
             ],
             [
              0.1111111111111111,
              "#46039f"
             ],
             [
              0.2222222222222222,
              "#7201a8"
             ],
             [
              0.3333333333333333,
              "#9c179e"
             ],
             [
              0.4444444444444444,
              "#bd3786"
             ],
             [
              0.5555555555555556,
              "#d8576b"
             ],
             [
              0.6666666666666666,
              "#ed7953"
             ],
             [
              0.7777777777777778,
              "#fb9f3a"
             ],
             [
              0.8888888888888888,
              "#fdca26"
             ],
             [
              1,
              "#f0f921"
             ]
            ],
            "type": "heatmap"
           }
          ],
          "heatmapgl": [
           {
            "colorbar": {
             "outlinewidth": 0,
             "ticks": ""
            },
            "colorscale": [
             [
              0,
              "#0d0887"
             ],
             [
              0.1111111111111111,
              "#46039f"
             ],
             [
              0.2222222222222222,
              "#7201a8"
             ],
             [
              0.3333333333333333,
              "#9c179e"
             ],
             [
              0.4444444444444444,
              "#bd3786"
             ],
             [
              0.5555555555555556,
              "#d8576b"
             ],
             [
              0.6666666666666666,
              "#ed7953"
             ],
             [
              0.7777777777777778,
              "#fb9f3a"
             ],
             [
              0.8888888888888888,
              "#fdca26"
             ],
             [
              1,
              "#f0f921"
             ]
            ],
            "type": "heatmapgl"
           }
          ],
          "histogram": [
           {
            "marker": {
             "pattern": {
              "fillmode": "overlay",
              "size": 10,
              "solidity": 0.2
             }
            },
            "type": "histogram"
           }
          ],
          "histogram2d": [
           {
            "colorbar": {
             "outlinewidth": 0,
             "ticks": ""
            },
            "colorscale": [
             [
              0,
              "#0d0887"
             ],
             [
              0.1111111111111111,
              "#46039f"
             ],
             [
              0.2222222222222222,
              "#7201a8"
             ],
             [
              0.3333333333333333,
              "#9c179e"
             ],
             [
              0.4444444444444444,
              "#bd3786"
             ],
             [
              0.5555555555555556,
              "#d8576b"
             ],
             [
              0.6666666666666666,
              "#ed7953"
             ],
             [
              0.7777777777777778,
              "#fb9f3a"
             ],
             [
              0.8888888888888888,
              "#fdca26"
             ],
             [
              1,
              "#f0f921"
             ]
            ],
            "type": "histogram2d"
           }
          ],
          "histogram2dcontour": [
           {
            "colorbar": {
             "outlinewidth": 0,
             "ticks": ""
            },
            "colorscale": [
             [
              0,
              "#0d0887"
             ],
             [
              0.1111111111111111,
              "#46039f"
             ],
             [
              0.2222222222222222,
              "#7201a8"
             ],
             [
              0.3333333333333333,
              "#9c179e"
             ],
             [
              0.4444444444444444,
              "#bd3786"
             ],
             [
              0.5555555555555556,
              "#d8576b"
             ],
             [
              0.6666666666666666,
              "#ed7953"
             ],
             [
              0.7777777777777778,
              "#fb9f3a"
             ],
             [
              0.8888888888888888,
              "#fdca26"
             ],
             [
              1,
              "#f0f921"
             ]
            ],
            "type": "histogram2dcontour"
           }
          ],
          "mesh3d": [
           {
            "colorbar": {
             "outlinewidth": 0,
             "ticks": ""
            },
            "type": "mesh3d"
           }
          ],
          "parcoords": [
           {
            "line": {
             "colorbar": {
              "outlinewidth": 0,
              "ticks": ""
             }
            },
            "type": "parcoords"
           }
          ],
          "pie": [
           {
            "automargin": true,
            "type": "pie"
           }
          ],
          "scatter": [
           {
            "fillpattern": {
             "fillmode": "overlay",
             "size": 10,
             "solidity": 0.2
            },
            "type": "scatter"
           }
          ],
          "scatter3d": [
           {
            "line": {
             "colorbar": {
              "outlinewidth": 0,
              "ticks": ""
             }
            },
            "marker": {
             "colorbar": {
              "outlinewidth": 0,
              "ticks": ""
             }
            },
            "type": "scatter3d"
           }
          ],
          "scattercarpet": [
           {
            "marker": {
             "colorbar": {
              "outlinewidth": 0,
              "ticks": ""
             }
            },
            "type": "scattercarpet"
           }
          ],
          "scattergeo": [
           {
            "marker": {
             "colorbar": {
              "outlinewidth": 0,
              "ticks": ""
             }
            },
            "type": "scattergeo"
           }
          ],
          "scattergl": [
           {
            "marker": {
             "colorbar": {
              "outlinewidth": 0,
              "ticks": ""
             }
            },
            "type": "scattergl"
           }
          ],
          "scattermapbox": [
           {
            "marker": {
             "colorbar": {
              "outlinewidth": 0,
              "ticks": ""
             }
            },
            "type": "scattermapbox"
           }
          ],
          "scatterpolar": [
           {
            "marker": {
             "colorbar": {
              "outlinewidth": 0,
              "ticks": ""
             }
            },
            "type": "scatterpolar"
           }
          ],
          "scatterpolargl": [
           {
            "marker": {
             "colorbar": {
              "outlinewidth": 0,
              "ticks": ""
             }
            },
            "type": "scatterpolargl"
           }
          ],
          "scatterternary": [
           {
            "marker": {
             "colorbar": {
              "outlinewidth": 0,
              "ticks": ""
             }
            },
            "type": "scatterternary"
           }
          ],
          "surface": [
           {
            "colorbar": {
             "outlinewidth": 0,
             "ticks": ""
            },
            "colorscale": [
             [
              0,
              "#0d0887"
             ],
             [
              0.1111111111111111,
              "#46039f"
             ],
             [
              0.2222222222222222,
              "#7201a8"
             ],
             [
              0.3333333333333333,
              "#9c179e"
             ],
             [
              0.4444444444444444,
              "#bd3786"
             ],
             [
              0.5555555555555556,
              "#d8576b"
             ],
             [
              0.6666666666666666,
              "#ed7953"
             ],
             [
              0.7777777777777778,
              "#fb9f3a"
             ],
             [
              0.8888888888888888,
              "#fdca26"
             ],
             [
              1,
              "#f0f921"
             ]
            ],
            "type": "surface"
           }
          ],
          "table": [
           {
            "cells": {
             "fill": {
              "color": "#EBF0F8"
             },
             "line": {
              "color": "white"
             }
            },
            "header": {
             "fill": {
              "color": "#C8D4E3"
             },
             "line": {
              "color": "white"
             }
            },
            "type": "table"
           }
          ]
         },
         "layout": {
          "annotationdefaults": {
           "arrowcolor": "#2a3f5f",
           "arrowhead": 0,
           "arrowwidth": 1
          },
          "autotypenumbers": "strict",
          "coloraxis": {
           "colorbar": {
            "outlinewidth": 0,
            "ticks": ""
           }
          },
          "colorscale": {
           "diverging": [
            [
             0,
             "#8e0152"
            ],
            [
             0.1,
             "#c51b7d"
            ],
            [
             0.2,
             "#de77ae"
            ],
            [
             0.3,
             "#f1b6da"
            ],
            [
             0.4,
             "#fde0ef"
            ],
            [
             0.5,
             "#f7f7f7"
            ],
            [
             0.6,
             "#e6f5d0"
            ],
            [
             0.7,
             "#b8e186"
            ],
            [
             0.8,
             "#7fbc41"
            ],
            [
             0.9,
             "#4d9221"
            ],
            [
             1,
             "#276419"
            ]
           ],
           "sequential": [
            [
             0,
             "#0d0887"
            ],
            [
             0.1111111111111111,
             "#46039f"
            ],
            [
             0.2222222222222222,
             "#7201a8"
            ],
            [
             0.3333333333333333,
             "#9c179e"
            ],
            [
             0.4444444444444444,
             "#bd3786"
            ],
            [
             0.5555555555555556,
             "#d8576b"
            ],
            [
             0.6666666666666666,
             "#ed7953"
            ],
            [
             0.7777777777777778,
             "#fb9f3a"
            ],
            [
             0.8888888888888888,
             "#fdca26"
            ],
            [
             1,
             "#f0f921"
            ]
           ],
           "sequentialminus": [
            [
             0,
             "#0d0887"
            ],
            [
             0.1111111111111111,
             "#46039f"
            ],
            [
             0.2222222222222222,
             "#7201a8"
            ],
            [
             0.3333333333333333,
             "#9c179e"
            ],
            [
             0.4444444444444444,
             "#bd3786"
            ],
            [
             0.5555555555555556,
             "#d8576b"
            ],
            [
             0.6666666666666666,
             "#ed7953"
            ],
            [
             0.7777777777777778,
             "#fb9f3a"
            ],
            [
             0.8888888888888888,
             "#fdca26"
            ],
            [
             1,
             "#f0f921"
            ]
           ]
          },
          "colorway": [
           "#636efa",
           "#EF553B",
           "#00cc96",
           "#ab63fa",
           "#FFA15A",
           "#19d3f3",
           "#FF6692",
           "#B6E880",
           "#FF97FF",
           "#FECB52"
          ],
          "font": {
           "color": "#2a3f5f"
          },
          "geo": {
           "bgcolor": "white",
           "lakecolor": "white",
           "landcolor": "#E5ECF6",
           "showlakes": true,
           "showland": true,
           "subunitcolor": "white"
          },
          "hoverlabel": {
           "align": "left"
          },
          "hovermode": "closest",
          "mapbox": {
           "style": "light"
          },
          "paper_bgcolor": "white",
          "plot_bgcolor": "#E5ECF6",
          "polar": {
           "angularaxis": {
            "gridcolor": "white",
            "linecolor": "white",
            "ticks": ""
           },
           "bgcolor": "#E5ECF6",
           "radialaxis": {
            "gridcolor": "white",
            "linecolor": "white",
            "ticks": ""
           }
          },
          "scene": {
           "xaxis": {
            "backgroundcolor": "#E5ECF6",
            "gridcolor": "white",
            "gridwidth": 2,
            "linecolor": "white",
            "showbackground": true,
            "ticks": "",
            "zerolinecolor": "white"
           },
           "yaxis": {
            "backgroundcolor": "#E5ECF6",
            "gridcolor": "white",
            "gridwidth": 2,
            "linecolor": "white",
            "showbackground": true,
            "ticks": "",
            "zerolinecolor": "white"
           },
           "zaxis": {
            "backgroundcolor": "#E5ECF6",
            "gridcolor": "white",
            "gridwidth": 2,
            "linecolor": "white",
            "showbackground": true,
            "ticks": "",
            "zerolinecolor": "white"
           }
          },
          "shapedefaults": {
           "line": {
            "color": "#2a3f5f"
           }
          },
          "ternary": {
           "aaxis": {
            "gridcolor": "white",
            "linecolor": "white",
            "ticks": ""
           },
           "baxis": {
            "gridcolor": "white",
            "linecolor": "white",
            "ticks": ""
           },
           "bgcolor": "#E5ECF6",
           "caxis": {
            "gridcolor": "white",
            "linecolor": "white",
            "ticks": ""
           }
          },
          "title": {
           "x": 0.05
          },
          "xaxis": {
           "automargin": true,
           "gridcolor": "white",
           "linecolor": "white",
           "ticks": "",
           "title": {
            "standoff": 15
           },
           "zerolinecolor": "white",
           "zerolinewidth": 2
          },
          "yaxis": {
           "automargin": true,
           "gridcolor": "white",
           "linecolor": "white",
           "ticks": "",
           "title": {
            "standoff": 15
           },
           "zerolinecolor": "white",
           "zerolinewidth": 2
          }
         }
        },
        "title": {
         "text": "Spacecraft 3-5 Access, In Fov, and Connected"
        },
        "xaxis": {
         "anchor": "y",
         "domain": [
          0,
          1
         ],
         "type": "date"
        },
        "yaxis": {
         "anchor": "x",
         "categoryorder": "total ascending",
         "domain": [
          0,
          1
         ],
         "title": {
          "text": "antenna"
         }
        }
       }
      }
     },
     "metadata": {},
     "output_type": "display_data"
    },
    {
     "data": {
      "application/vnd.plotly.v1+json": {
       "config": {
        "plotlyServerURL": "https://plot.ly"
       },
       "data": [
        {
         "alignmentgroup": "True",
         "base": [
          "2024-10-31T00:21:20.000086+00:00",
          "2024-10-31T02:07:40.000086+00:00",
          "2024-10-31T03:52:40.000086+00:00",
          "2024-10-31T05:31:10.000086+00:00",
          "2024-10-31T07:10:50.000086+00:00",
          "2024-10-31T08:52:10.000086+00:00",
          "2024-10-31T00:41:10.000086+00:00",
          "2024-10-31T09:55:20.000086+00:00",
          "2024-10-31T11:36:30.000086+00:00",
          "2024-10-31T01:01:20.000086+00:00",
          "2024-10-31T09:47:00.000086+00:00",
          "2024-10-31T11:25:50.000086+00:00",
          "2024-10-31T02:04:40.000086+00:00",
          "2024-10-31T03:42:30.000086+00:00",
          "2024-10-31T05:21:30.000086+00:00",
          "2024-10-31T07:00:50.000086+00:00",
          "2024-10-31T08:40:40.000086+00:00",
          "2024-10-31T10:21:30.000086+00:00",
          "2024-10-31T00:00:00.000086+00:00",
          "2024-10-31T01:32:00.000086+00:00",
          "2024-10-31T00:51:20.000086+00:00",
          "2024-10-31T02:33:40.000086+00:00",
          "2024-10-31T00:11:40.000086+00:00",
          "2024-10-31T01:53:00.000086+00:00",
          "2024-10-31T08:51:50.000086+00:00",
          "2024-10-31T10:29:30.000087+00:00",
          "2024-10-31T03:23:10.000087+00:00",
          "2024-10-31T05:03:50.000087+00:00",
          "2024-10-31T00:05:00.000086+00:00",
          "2024-10-31T10:41:40.000086+00:00",
          "2024-10-31T03:34:20.000086+00:00",
          "2024-10-31T05:09:40.000086+00:00",
          "2024-10-31T06:50:10.000086+00:00",
          "2024-10-31T08:33:10.000086+00:00",
          "2024-10-31T10:16:00.000086+00:00",
          "2024-10-31T11:57:00.000086+00:00"
         ],
         "hovertemplate": "type=access<br>start=%{base}<br>end=%{x}<br>antenna=%{y}<extra></extra>",
         "legendgroup": "access",
         "marker": {
          "color": "#636efa",
          "pattern": {
           "shape": ""
          }
         },
         "name": "access",
         "offsetgroup": "access",
         "orientation": "h",
         "showlegend": true,
         "textposition": "auto",
         "type": "bar",
         "x": [
          690000,
          250000,
          90000,
          620000,
          820000,
          660000,
          550000,
          790000,
          720000,
          400000,
          610000,
          790000,
          570000,
          700000,
          730000,
          720000,
          630000.001,
          350000,
          260000,
          610000,
          810000,
          540000,
          790000,
          690000,
          400000,
          819999.999,
          759999.999,
          719999.999,
          520000.001,
          670000,
          320000,
          790000,
          790000,
          650000,
          610000,
          170000
         ],
         "xaxis": "x",
         "y": [
          "Mojave",
          "Mojave",
          "Mojave",
          "Mojave",
          "Mojave",
          "Mojave",
          "Dundee",
          "Dubai",
          "Dubai",
          "Mwulire",
          "Mwulire",
          "Mwulire",
          "Utqiagvik",
          "Utqiagvik",
          "Utqiagvik",
          "Utqiagvik",
          "Utqiagvik",
          "Utqiagvik",
          "Awarua",
          "Awarua",
          "Sunyani",
          "Sunyani",
          "Paumalu",
          "Paumalu",
          "Paumalu",
          "Paumalu",
          "Harmon",
          "Harmon",
          "Tahiti",
          "Tahiti",
          "Chitose",
          "Chitose",
          "Chitose",
          "Chitose",
          "Chitose",
          "Chitose"
         ],
         "yaxis": "y"
        },
        {
         "alignmentgroup": "True",
         "base": [
          "2024-10-31T09:58:40.000087+00:00",
          "2024-10-31T11:41:00.000086+00:00",
          "2024-10-31T11:29:00.000086+00:00",
          "2024-10-31T11:30:20.000086+00:00",
          "2024-10-31T00:00:10.000086+00:00",
          "2024-10-31T00:56:10.000086+00:00",
          "2024-10-31T00:14:50.000086+00:00",
          "2024-10-31T03:26:50.000086+00:00",
          "2024-10-31T05:08:10.000086+00:00"
         ],
         "hovertemplate": "type=inFov<br>start=%{base}<br>end=%{x}<br>antenna=%{y}<extra></extra>",
         "legendgroup": "inFov",
         "marker": {
          "color": "#EF553B",
          "pattern": {
           "shape": ""
          }
         },
         "name": "inFov",
         "offsetgroup": "inFov",
         "orientation": "h",
         "showlegend": true,
         "textposition": "auto",
         "type": "bar",
         "x": [
          359999.999,
          170000,
          30000,
          10000.001,
          60000,
          300000,
          400000,
          320000,
          190000
         ],
         "xaxis": "x",
         "y": [
          "Dubai",
          "Dubai",
          "Mwulire",
          "Mwulire",
          "Awarua",
          "Sunyani",
          "Paumalu",
          "Harmon",
          "Harmon"
         ],
         "yaxis": "y"
        },
        {
         "alignmentgroup": "True",
         "base": [
          "2024-10-31T09:58:40.000087+00:00",
          "2024-10-31T11:41:00.000086+00:00",
          "2024-10-31T11:30:20.000086+00:00",
          "2024-10-31T00:00:10.000086+00:00",
          "2024-10-31T00:56:10.000086+00:00",
          "2024-10-31T00:14:50.000086+00:00",
          "2024-10-31T03:26:50.000086+00:00",
          "2024-10-31T05:08:10.000086+00:00"
         ],
         "hovertemplate": "type=connected<br>start=%{base}<br>end=%{x}<br>antenna=%{y}<extra></extra>",
         "legendgroup": "connected",
         "marker": {
          "color": "#00cc96",
          "pattern": {
           "shape": ""
          }
         },
         "name": "connected",
         "offsetgroup": "connected",
         "orientation": "h",
         "showlegend": true,
         "textposition": "auto",
         "type": "bar",
         "x": [
          359999.999,
          170000,
          10000.001,
          60000,
          300000,
          400000,
          320000,
          190000
         ],
         "xaxis": "x",
         "y": [
          "Dubai",
          "Dubai",
          "Mwulire",
          "Awarua",
          "Sunyani",
          "Paumalu",
          "Harmon",
          "Harmon"
         ],
         "yaxis": "y"
        }
       ],
       "layout": {
        "barmode": "overlay",
        "legend": {
         "title": {
          "text": "type"
         },
         "tracegroupgap": 0
        },
        "margin": {
         "t": 60
        },
        "template": {
         "data": {
          "bar": [
           {
            "error_x": {
             "color": "#2a3f5f"
            },
            "error_y": {
             "color": "#2a3f5f"
            },
            "marker": {
             "line": {
              "color": "#E5ECF6",
              "width": 0.5
             },
             "pattern": {
              "fillmode": "overlay",
              "size": 10,
              "solidity": 0.2
             }
            },
            "type": "bar"
           }
          ],
          "barpolar": [
           {
            "marker": {
             "line": {
              "color": "#E5ECF6",
              "width": 0.5
             },
             "pattern": {
              "fillmode": "overlay",
              "size": 10,
              "solidity": 0.2
             }
            },
            "type": "barpolar"
           }
          ],
          "carpet": [
           {
            "aaxis": {
             "endlinecolor": "#2a3f5f",
             "gridcolor": "white",
             "linecolor": "white",
             "minorgridcolor": "white",
             "startlinecolor": "#2a3f5f"
            },
            "baxis": {
             "endlinecolor": "#2a3f5f",
             "gridcolor": "white",
             "linecolor": "white",
             "minorgridcolor": "white",
             "startlinecolor": "#2a3f5f"
            },
            "type": "carpet"
           }
          ],
          "choropleth": [
           {
            "colorbar": {
             "outlinewidth": 0,
             "ticks": ""
            },
            "type": "choropleth"
           }
          ],
          "contour": [
           {
            "colorbar": {
             "outlinewidth": 0,
             "ticks": ""
            },
            "colorscale": [
             [
              0,
              "#0d0887"
             ],
             [
              0.1111111111111111,
              "#46039f"
             ],
             [
              0.2222222222222222,
              "#7201a8"
             ],
             [
              0.3333333333333333,
              "#9c179e"
             ],
             [
              0.4444444444444444,
              "#bd3786"
             ],
             [
              0.5555555555555556,
              "#d8576b"
             ],
             [
              0.6666666666666666,
              "#ed7953"
             ],
             [
              0.7777777777777778,
              "#fb9f3a"
             ],
             [
              0.8888888888888888,
              "#fdca26"
             ],
             [
              1,
              "#f0f921"
             ]
            ],
            "type": "contour"
           }
          ],
          "contourcarpet": [
           {
            "colorbar": {
             "outlinewidth": 0,
             "ticks": ""
            },
            "type": "contourcarpet"
           }
          ],
          "heatmap": [
           {
            "colorbar": {
             "outlinewidth": 0,
             "ticks": ""
            },
            "colorscale": [
             [
              0,
              "#0d0887"
             ],
             [
              0.1111111111111111,
              "#46039f"
             ],
             [
              0.2222222222222222,
              "#7201a8"
             ],
             [
              0.3333333333333333,
              "#9c179e"
             ],
             [
              0.4444444444444444,
              "#bd3786"
             ],
             [
              0.5555555555555556,
              "#d8576b"
             ],
             [
              0.6666666666666666,
              "#ed7953"
             ],
             [
              0.7777777777777778,
              "#fb9f3a"
             ],
             [
              0.8888888888888888,
              "#fdca26"
             ],
             [
              1,
              "#f0f921"
             ]
            ],
            "type": "heatmap"
           }
          ],
          "heatmapgl": [
           {
            "colorbar": {
             "outlinewidth": 0,
             "ticks": ""
            },
            "colorscale": [
             [
              0,
              "#0d0887"
             ],
             [
              0.1111111111111111,
              "#46039f"
             ],
             [
              0.2222222222222222,
              "#7201a8"
             ],
             [
              0.3333333333333333,
              "#9c179e"
             ],
             [
              0.4444444444444444,
              "#bd3786"
             ],
             [
              0.5555555555555556,
              "#d8576b"
             ],
             [
              0.6666666666666666,
              "#ed7953"
             ],
             [
              0.7777777777777778,
              "#fb9f3a"
             ],
             [
              0.8888888888888888,
              "#fdca26"
             ],
             [
              1,
              "#f0f921"
             ]
            ],
            "type": "heatmapgl"
           }
          ],
          "histogram": [
           {
            "marker": {
             "pattern": {
              "fillmode": "overlay",
              "size": 10,
              "solidity": 0.2
             }
            },
            "type": "histogram"
           }
          ],
          "histogram2d": [
           {
            "colorbar": {
             "outlinewidth": 0,
             "ticks": ""
            },
            "colorscale": [
             [
              0,
              "#0d0887"
             ],
             [
              0.1111111111111111,
              "#46039f"
             ],
             [
              0.2222222222222222,
              "#7201a8"
             ],
             [
              0.3333333333333333,
              "#9c179e"
             ],
             [
              0.4444444444444444,
              "#bd3786"
             ],
             [
              0.5555555555555556,
              "#d8576b"
             ],
             [
              0.6666666666666666,
              "#ed7953"
             ],
             [
              0.7777777777777778,
              "#fb9f3a"
             ],
             [
              0.8888888888888888,
              "#fdca26"
             ],
             [
              1,
              "#f0f921"
             ]
            ],
            "type": "histogram2d"
           }
          ],
          "histogram2dcontour": [
           {
            "colorbar": {
             "outlinewidth": 0,
             "ticks": ""
            },
            "colorscale": [
             [
              0,
              "#0d0887"
             ],
             [
              0.1111111111111111,
              "#46039f"
             ],
             [
              0.2222222222222222,
              "#7201a8"
             ],
             [
              0.3333333333333333,
              "#9c179e"
             ],
             [
              0.4444444444444444,
              "#bd3786"
             ],
             [
              0.5555555555555556,
              "#d8576b"
             ],
             [
              0.6666666666666666,
              "#ed7953"
             ],
             [
              0.7777777777777778,
              "#fb9f3a"
             ],
             [
              0.8888888888888888,
              "#fdca26"
             ],
             [
              1,
              "#f0f921"
             ]
            ],
            "type": "histogram2dcontour"
           }
          ],
          "mesh3d": [
           {
            "colorbar": {
             "outlinewidth": 0,
             "ticks": ""
            },
            "type": "mesh3d"
           }
          ],
          "parcoords": [
           {
            "line": {
             "colorbar": {
              "outlinewidth": 0,
              "ticks": ""
             }
            },
            "type": "parcoords"
           }
          ],
          "pie": [
           {
            "automargin": true,
            "type": "pie"
           }
          ],
          "scatter": [
           {
            "fillpattern": {
             "fillmode": "overlay",
             "size": 10,
             "solidity": 0.2
            },
            "type": "scatter"
           }
          ],
          "scatter3d": [
           {
            "line": {
             "colorbar": {
              "outlinewidth": 0,
              "ticks": ""
             }
            },
            "marker": {
             "colorbar": {
              "outlinewidth": 0,
              "ticks": ""
             }
            },
            "type": "scatter3d"
           }
          ],
          "scattercarpet": [
           {
            "marker": {
             "colorbar": {
              "outlinewidth": 0,
              "ticks": ""
             }
            },
            "type": "scattercarpet"
           }
          ],
          "scattergeo": [
           {
            "marker": {
             "colorbar": {
              "outlinewidth": 0,
              "ticks": ""
             }
            },
            "type": "scattergeo"
           }
          ],
          "scattergl": [
           {
            "marker": {
             "colorbar": {
              "outlinewidth": 0,
              "ticks": ""
             }
            },
            "type": "scattergl"
           }
          ],
          "scattermapbox": [
           {
            "marker": {
             "colorbar": {
              "outlinewidth": 0,
              "ticks": ""
             }
            },
            "type": "scattermapbox"
           }
          ],
          "scatterpolar": [
           {
            "marker": {
             "colorbar": {
              "outlinewidth": 0,
              "ticks": ""
             }
            },
            "type": "scatterpolar"
           }
          ],
          "scatterpolargl": [
           {
            "marker": {
             "colorbar": {
              "outlinewidth": 0,
              "ticks": ""
             }
            },
            "type": "scatterpolargl"
           }
          ],
          "scatterternary": [
           {
            "marker": {
             "colorbar": {
              "outlinewidth": 0,
              "ticks": ""
             }
            },
            "type": "scatterternary"
           }
          ],
          "surface": [
           {
            "colorbar": {
             "outlinewidth": 0,
             "ticks": ""
            },
            "colorscale": [
             [
              0,
              "#0d0887"
             ],
             [
              0.1111111111111111,
              "#46039f"
             ],
             [
              0.2222222222222222,
              "#7201a8"
             ],
             [
              0.3333333333333333,
              "#9c179e"
             ],
             [
              0.4444444444444444,
              "#bd3786"
             ],
             [
              0.5555555555555556,
              "#d8576b"
             ],
             [
              0.6666666666666666,
              "#ed7953"
             ],
             [
              0.7777777777777778,
              "#fb9f3a"
             ],
             [
              0.8888888888888888,
              "#fdca26"
             ],
             [
              1,
              "#f0f921"
             ]
            ],
            "type": "surface"
           }
          ],
          "table": [
           {
            "cells": {
             "fill": {
              "color": "#EBF0F8"
             },
             "line": {
              "color": "white"
             }
            },
            "header": {
             "fill": {
              "color": "#C8D4E3"
             },
             "line": {
              "color": "white"
             }
            },
            "type": "table"
           }
          ]
         },
         "layout": {
          "annotationdefaults": {
           "arrowcolor": "#2a3f5f",
           "arrowhead": 0,
           "arrowwidth": 1
          },
          "autotypenumbers": "strict",
          "coloraxis": {
           "colorbar": {
            "outlinewidth": 0,
            "ticks": ""
           }
          },
          "colorscale": {
           "diverging": [
            [
             0,
             "#8e0152"
            ],
            [
             0.1,
             "#c51b7d"
            ],
            [
             0.2,
             "#de77ae"
            ],
            [
             0.3,
             "#f1b6da"
            ],
            [
             0.4,
             "#fde0ef"
            ],
            [
             0.5,
             "#f7f7f7"
            ],
            [
             0.6,
             "#e6f5d0"
            ],
            [
             0.7,
             "#b8e186"
            ],
            [
             0.8,
             "#7fbc41"
            ],
            [
             0.9,
             "#4d9221"
            ],
            [
             1,
             "#276419"
            ]
           ],
           "sequential": [
            [
             0,
             "#0d0887"
            ],
            [
             0.1111111111111111,
             "#46039f"
            ],
            [
             0.2222222222222222,
             "#7201a8"
            ],
            [
             0.3333333333333333,
             "#9c179e"
            ],
            [
             0.4444444444444444,
             "#bd3786"
            ],
            [
             0.5555555555555556,
             "#d8576b"
            ],
            [
             0.6666666666666666,
             "#ed7953"
            ],
            [
             0.7777777777777778,
             "#fb9f3a"
            ],
            [
             0.8888888888888888,
             "#fdca26"
            ],
            [
             1,
             "#f0f921"
            ]
           ],
           "sequentialminus": [
            [
             0,
             "#0d0887"
            ],
            [
             0.1111111111111111,
             "#46039f"
            ],
            [
             0.2222222222222222,
             "#7201a8"
            ],
            [
             0.3333333333333333,
             "#9c179e"
            ],
            [
             0.4444444444444444,
             "#bd3786"
            ],
            [
             0.5555555555555556,
             "#d8576b"
            ],
            [
             0.6666666666666666,
             "#ed7953"
            ],
            [
             0.7777777777777778,
             "#fb9f3a"
            ],
            [
             0.8888888888888888,
             "#fdca26"
            ],
            [
             1,
             "#f0f921"
            ]
           ]
          },
          "colorway": [
           "#636efa",
           "#EF553B",
           "#00cc96",
           "#ab63fa",
           "#FFA15A",
           "#19d3f3",
           "#FF6692",
           "#B6E880",
           "#FF97FF",
           "#FECB52"
          ],
          "font": {
           "color": "#2a3f5f"
          },
          "geo": {
           "bgcolor": "white",
           "lakecolor": "white",
           "landcolor": "#E5ECF6",
           "showlakes": true,
           "showland": true,
           "subunitcolor": "white"
          },
          "hoverlabel": {
           "align": "left"
          },
          "hovermode": "closest",
          "mapbox": {
           "style": "light"
          },
          "paper_bgcolor": "white",
          "plot_bgcolor": "#E5ECF6",
          "polar": {
           "angularaxis": {
            "gridcolor": "white",
            "linecolor": "white",
            "ticks": ""
           },
           "bgcolor": "#E5ECF6",
           "radialaxis": {
            "gridcolor": "white",
            "linecolor": "white",
            "ticks": ""
           }
          },
          "scene": {
           "xaxis": {
            "backgroundcolor": "#E5ECF6",
            "gridcolor": "white",
            "gridwidth": 2,
            "linecolor": "white",
            "showbackground": true,
            "ticks": "",
            "zerolinecolor": "white"
           },
           "yaxis": {
            "backgroundcolor": "#E5ECF6",
            "gridcolor": "white",
            "gridwidth": 2,
            "linecolor": "white",
            "showbackground": true,
            "ticks": "",
            "zerolinecolor": "white"
           },
           "zaxis": {
            "backgroundcolor": "#E5ECF6",
            "gridcolor": "white",
            "gridwidth": 2,
            "linecolor": "white",
            "showbackground": true,
            "ticks": "",
            "zerolinecolor": "white"
           }
          },
          "shapedefaults": {
           "line": {
            "color": "#2a3f5f"
           }
          },
          "ternary": {
           "aaxis": {
            "gridcolor": "white",
            "linecolor": "white",
            "ticks": ""
           },
           "baxis": {
            "gridcolor": "white",
            "linecolor": "white",
            "ticks": ""
           },
           "bgcolor": "#E5ECF6",
           "caxis": {
            "gridcolor": "white",
            "linecolor": "white",
            "ticks": ""
           }
          },
          "title": {
           "x": 0.05
          },
          "xaxis": {
           "automargin": true,
           "gridcolor": "white",
           "linecolor": "white",
           "ticks": "",
           "title": {
            "standoff": 15
           },
           "zerolinecolor": "white",
           "zerolinewidth": 2
          },
          "yaxis": {
           "automargin": true,
           "gridcolor": "white",
           "linecolor": "white",
           "ticks": "",
           "title": {
            "standoff": 15
           },
           "zerolinecolor": "white",
           "zerolinewidth": 2
          }
         }
        },
        "title": {
         "text": "Spacecraft 3-6 Access, In Fov, and Connected"
        },
        "xaxis": {
         "anchor": "y",
         "domain": [
          0,
          1
         ],
         "type": "date"
        },
        "yaxis": {
         "anchor": "x",
         "categoryorder": "total ascending",
         "domain": [
          0,
          1
         ],
         "title": {
          "text": "antenna"
         }
        }
       }
      }
     },
     "metadata": {},
     "output_type": "display_data"
    },
    {
     "data": {
      "application/vnd.plotly.v1+json": {
       "config": {
        "plotlyServerURL": "https://plot.ly"
       },
       "data": [
        {
         "alignmentgroup": "True",
         "base": [
          "2024-10-31T00:08:30.000086+00:00",
          "2024-10-31T01:54:00.000086+00:00",
          "2024-10-31T05:18:20.000086+00:00",
          "2024-10-31T06:57:40.000086+00:00",
          "2024-10-31T08:38:30.000086+00:00",
          "2024-10-31T00:28:20.000086+00:00",
          "2024-10-31T09:42:20.000086+00:00",
          "2024-10-31T11:22:30.000086+00:00",
          "2024-10-31T00:47:40.000086+00:00",
          "2024-10-31T09:34:20.000086+00:00",
          "2024-10-31T11:12:00.000086+00:00",
          "2024-10-31T01:52:30.000086+00:00",
          "2024-10-31T03:30:00.000086+00:00",
          "2024-10-31T05:08:40.000086+00:00",
          "2024-10-31T06:47:50.000086+00:00",
          "2024-10-31T08:27:30.000087+00:00",
          "2024-10-31T10:07:50.000086+00:00",
          "2024-10-31T01:19:10.000086+00:00",
          "2024-10-31T00:38:50.000086+00:00",
          "2024-10-31T02:20:20.000086+00:00",
          "2024-10-31T00:00:00.000086+00:00",
          "2024-10-31T01:39:50.000086+00:00",
          "2024-10-31T08:40:00.000086+00:00",
          "2024-10-31T10:16:10.000086+00:00",
          "2024-10-31T11:57:20.000086+00:00",
          "2024-10-31T03:10:40.000086+00:00",
          "2024-10-31T04:50:30.000086+00:00",
          "2024-10-31T00:00:00.000086+00:00",
          "2024-10-31T10:29:00.000086+00:00",
          "2024-10-31T04:57:00.000086+00:00",
          "2024-10-31T06:36:50.000086+00:00",
          "2024-10-31T08:19:20.000086+00:00",
          "2024-10-31T10:02:20.000086+00:00",
          "2024-10-31T11:43:30.000087+00:00"
         ],
         "hovertemplate": "type=access<br>start=%{base}<br>end=%{x}<br>antenna=%{y}<extra></extra>",
         "legendgroup": "access",
         "marker": {
          "color": "#636efa",
          "pattern": {
           "shape": ""
          }
         },
         "name": "access",
         "offsetgroup": "access",
         "orientation": "h",
         "showlegend": true,
         "textposition": "auto",
         "type": "bar",
         "x": [
          710000,
          320000,
          570000,
          800000,
          700000,
          600000,
          750000,
          750000,
          520000.001,
          510000,
          810000,
          530000,
          680000,
          720000,
          720000,
          640000,
          410000.001,
          660000,
          790000,
          620000,
          720000,
          730000.001,
          180000,
          790000,
          150000,
          720000,
          750000,
          110000.001,
          580000,
          760000,
          800000,
          670000.001,
          600000.001,
          719999.999
         ],
         "xaxis": "x",
         "y": [
          "Mojave",
          "Mojave",
          "Mojave",
          "Mojave",
          "Mojave",
          "Dundee",
          "Dubai",
          "Dubai",
          "Mwulire",
          "Mwulire",
          "Mwulire",
          "Utqiagvik",
          "Utqiagvik",
          "Utqiagvik",
          "Utqiagvik",
          "Utqiagvik",
          "Utqiagvik",
          "Awarua",
          "Sunyani",
          "Sunyani",
          "Paumalu",
          "Paumalu",
          "Paumalu",
          "Paumalu",
          "Paumalu",
          "Harmon",
          "Harmon",
          "Tahiti",
          "Tahiti",
          "Chitose",
          "Chitose",
          "Chitose",
          "Chitose",
          "Chitose"
         ],
         "yaxis": "y"
        },
        {
         "alignmentgroup": "True",
         "base": [
          "2024-10-31T09:45:50.000086+00:00",
          "2024-10-31T11:30:40.000086+00:00",
          "2024-10-31T00:44:30.000087+00:00",
          "2024-10-31T00:02:50.000086+00:00",
          "2024-10-31T01:44:00.000086+00:00",
          "2024-10-31T03:15:00.000086+00:00",
          "2024-10-31T04:54:10.000086+00:00",
          "2024-10-31T05:03:30.000086+00:00",
          "2024-10-31T06:40:10.000086+00:00",
          "2024-10-31T11:48:20.000086+00:00"
         ],
         "hovertemplate": "type=inFov<br>start=%{base}<br>end=%{x}<br>antenna=%{y}<extra></extra>",
         "legendgroup": "inFov",
         "marker": {
          "color": "#EF553B",
          "pattern": {
           "shape": ""
          }
         },
         "name": "inFov",
         "offsetgroup": "inFov",
         "orientation": "h",
         "showlegend": true,
         "textposition": "auto",
         "type": "bar",
         "x": [
          330000,
          30000,
          179999.999,
          340000,
          230000.001,
          200000,
          310000,
          50000,
          60000,
          160000
         ],
         "xaxis": "x",
         "y": [
          "Dubai",
          "Dubai",
          "Sunyani",
          "Paumalu",
          "Paumalu",
          "Harmon",
          "Harmon",
          "Chitose",
          "Chitose",
          "Chitose"
         ],
         "yaxis": "y"
        },
        {
         "alignmentgroup": "True",
         "base": [
          "2024-10-31T09:45:50.000086+00:00",
          "2024-10-31T00:44:30.000087+00:00",
          "2024-10-31T00:02:50.000086+00:00",
          "2024-10-31T01:44:00.000086+00:00",
          "2024-10-31T03:15:00.000086+00:00",
          "2024-10-31T04:54:10.000086+00:00",
          "2024-10-31T11:48:20.000086+00:00"
         ],
         "hovertemplate": "type=connected<br>start=%{base}<br>end=%{x}<br>antenna=%{y}<extra></extra>",
         "legendgroup": "connected",
         "marker": {
          "color": "#00cc96",
          "pattern": {
           "shape": ""
          }
         },
         "name": "connected",
         "offsetgroup": "connected",
         "orientation": "h",
         "showlegend": true,
         "textposition": "auto",
         "type": "bar",
         "x": [
          330000,
          179999.999,
          340000,
          230000.001,
          200000,
          310000,
          160000
         ],
         "xaxis": "x",
         "y": [
          "Dubai",
          "Sunyani",
          "Paumalu",
          "Paumalu",
          "Harmon",
          "Harmon",
          "Chitose"
         ],
         "yaxis": "y"
        }
       ],
       "layout": {
        "barmode": "overlay",
        "legend": {
         "title": {
          "text": "type"
         },
         "tracegroupgap": 0
        },
        "margin": {
         "t": 60
        },
        "template": {
         "data": {
          "bar": [
           {
            "error_x": {
             "color": "#2a3f5f"
            },
            "error_y": {
             "color": "#2a3f5f"
            },
            "marker": {
             "line": {
              "color": "#E5ECF6",
              "width": 0.5
             },
             "pattern": {
              "fillmode": "overlay",
              "size": 10,
              "solidity": 0.2
             }
            },
            "type": "bar"
           }
          ],
          "barpolar": [
           {
            "marker": {
             "line": {
              "color": "#E5ECF6",
              "width": 0.5
             },
             "pattern": {
              "fillmode": "overlay",
              "size": 10,
              "solidity": 0.2
             }
            },
            "type": "barpolar"
           }
          ],
          "carpet": [
           {
            "aaxis": {
             "endlinecolor": "#2a3f5f",
             "gridcolor": "white",
             "linecolor": "white",
             "minorgridcolor": "white",
             "startlinecolor": "#2a3f5f"
            },
            "baxis": {
             "endlinecolor": "#2a3f5f",
             "gridcolor": "white",
             "linecolor": "white",
             "minorgridcolor": "white",
             "startlinecolor": "#2a3f5f"
            },
            "type": "carpet"
           }
          ],
          "choropleth": [
           {
            "colorbar": {
             "outlinewidth": 0,
             "ticks": ""
            },
            "type": "choropleth"
           }
          ],
          "contour": [
           {
            "colorbar": {
             "outlinewidth": 0,
             "ticks": ""
            },
            "colorscale": [
             [
              0,
              "#0d0887"
             ],
             [
              0.1111111111111111,
              "#46039f"
             ],
             [
              0.2222222222222222,
              "#7201a8"
             ],
             [
              0.3333333333333333,
              "#9c179e"
             ],
             [
              0.4444444444444444,
              "#bd3786"
             ],
             [
              0.5555555555555556,
              "#d8576b"
             ],
             [
              0.6666666666666666,
              "#ed7953"
             ],
             [
              0.7777777777777778,
              "#fb9f3a"
             ],
             [
              0.8888888888888888,
              "#fdca26"
             ],
             [
              1,
              "#f0f921"
             ]
            ],
            "type": "contour"
           }
          ],
          "contourcarpet": [
           {
            "colorbar": {
             "outlinewidth": 0,
             "ticks": ""
            },
            "type": "contourcarpet"
           }
          ],
          "heatmap": [
           {
            "colorbar": {
             "outlinewidth": 0,
             "ticks": ""
            },
            "colorscale": [
             [
              0,
              "#0d0887"
             ],
             [
              0.1111111111111111,
              "#46039f"
             ],
             [
              0.2222222222222222,
              "#7201a8"
             ],
             [
              0.3333333333333333,
              "#9c179e"
             ],
             [
              0.4444444444444444,
              "#bd3786"
             ],
             [
              0.5555555555555556,
              "#d8576b"
             ],
             [
              0.6666666666666666,
              "#ed7953"
             ],
             [
              0.7777777777777778,
              "#fb9f3a"
             ],
             [
              0.8888888888888888,
              "#fdca26"
             ],
             [
              1,
              "#f0f921"
             ]
            ],
            "type": "heatmap"
           }
          ],
          "heatmapgl": [
           {
            "colorbar": {
             "outlinewidth": 0,
             "ticks": ""
            },
            "colorscale": [
             [
              0,
              "#0d0887"
             ],
             [
              0.1111111111111111,
              "#46039f"
             ],
             [
              0.2222222222222222,
              "#7201a8"
             ],
             [
              0.3333333333333333,
              "#9c179e"
             ],
             [
              0.4444444444444444,
              "#bd3786"
             ],
             [
              0.5555555555555556,
              "#d8576b"
             ],
             [
              0.6666666666666666,
              "#ed7953"
             ],
             [
              0.7777777777777778,
              "#fb9f3a"
             ],
             [
              0.8888888888888888,
              "#fdca26"
             ],
             [
              1,
              "#f0f921"
             ]
            ],
            "type": "heatmapgl"
           }
          ],
          "histogram": [
           {
            "marker": {
             "pattern": {
              "fillmode": "overlay",
              "size": 10,
              "solidity": 0.2
             }
            },
            "type": "histogram"
           }
          ],
          "histogram2d": [
           {
            "colorbar": {
             "outlinewidth": 0,
             "ticks": ""
            },
            "colorscale": [
             [
              0,
              "#0d0887"
             ],
             [
              0.1111111111111111,
              "#46039f"
             ],
             [
              0.2222222222222222,
              "#7201a8"
             ],
             [
              0.3333333333333333,
              "#9c179e"
             ],
             [
              0.4444444444444444,
              "#bd3786"
             ],
             [
              0.5555555555555556,
              "#d8576b"
             ],
             [
              0.6666666666666666,
              "#ed7953"
             ],
             [
              0.7777777777777778,
              "#fb9f3a"
             ],
             [
              0.8888888888888888,
              "#fdca26"
             ],
             [
              1,
              "#f0f921"
             ]
            ],
            "type": "histogram2d"
           }
          ],
          "histogram2dcontour": [
           {
            "colorbar": {
             "outlinewidth": 0,
             "ticks": ""
            },
            "colorscale": [
             [
              0,
              "#0d0887"
             ],
             [
              0.1111111111111111,
              "#46039f"
             ],
             [
              0.2222222222222222,
              "#7201a8"
             ],
             [
              0.3333333333333333,
              "#9c179e"
             ],
             [
              0.4444444444444444,
              "#bd3786"
             ],
             [
              0.5555555555555556,
              "#d8576b"
             ],
             [
              0.6666666666666666,
              "#ed7953"
             ],
             [
              0.7777777777777778,
              "#fb9f3a"
             ],
             [
              0.8888888888888888,
              "#fdca26"
             ],
             [
              1,
              "#f0f921"
             ]
            ],
            "type": "histogram2dcontour"
           }
          ],
          "mesh3d": [
           {
            "colorbar": {
             "outlinewidth": 0,
             "ticks": ""
            },
            "type": "mesh3d"
           }
          ],
          "parcoords": [
           {
            "line": {
             "colorbar": {
              "outlinewidth": 0,
              "ticks": ""
             }
            },
            "type": "parcoords"
           }
          ],
          "pie": [
           {
            "automargin": true,
            "type": "pie"
           }
          ],
          "scatter": [
           {
            "fillpattern": {
             "fillmode": "overlay",
             "size": 10,
             "solidity": 0.2
            },
            "type": "scatter"
           }
          ],
          "scatter3d": [
           {
            "line": {
             "colorbar": {
              "outlinewidth": 0,
              "ticks": ""
             }
            },
            "marker": {
             "colorbar": {
              "outlinewidth": 0,
              "ticks": ""
             }
            },
            "type": "scatter3d"
           }
          ],
          "scattercarpet": [
           {
            "marker": {
             "colorbar": {
              "outlinewidth": 0,
              "ticks": ""
             }
            },
            "type": "scattercarpet"
           }
          ],
          "scattergeo": [
           {
            "marker": {
             "colorbar": {
              "outlinewidth": 0,
              "ticks": ""
             }
            },
            "type": "scattergeo"
           }
          ],
          "scattergl": [
           {
            "marker": {
             "colorbar": {
              "outlinewidth": 0,
              "ticks": ""
             }
            },
            "type": "scattergl"
           }
          ],
          "scattermapbox": [
           {
            "marker": {
             "colorbar": {
              "outlinewidth": 0,
              "ticks": ""
             }
            },
            "type": "scattermapbox"
           }
          ],
          "scatterpolar": [
           {
            "marker": {
             "colorbar": {
              "outlinewidth": 0,
              "ticks": ""
             }
            },
            "type": "scatterpolar"
           }
          ],
          "scatterpolargl": [
           {
            "marker": {
             "colorbar": {
              "outlinewidth": 0,
              "ticks": ""
             }
            },
            "type": "scatterpolargl"
           }
          ],
          "scatterternary": [
           {
            "marker": {
             "colorbar": {
              "outlinewidth": 0,
              "ticks": ""
             }
            },
            "type": "scatterternary"
           }
          ],
          "surface": [
           {
            "colorbar": {
             "outlinewidth": 0,
             "ticks": ""
            },
            "colorscale": [
             [
              0,
              "#0d0887"
             ],
             [
              0.1111111111111111,
              "#46039f"
             ],
             [
              0.2222222222222222,
              "#7201a8"
             ],
             [
              0.3333333333333333,
              "#9c179e"
             ],
             [
              0.4444444444444444,
              "#bd3786"
             ],
             [
              0.5555555555555556,
              "#d8576b"
             ],
             [
              0.6666666666666666,
              "#ed7953"
             ],
             [
              0.7777777777777778,
              "#fb9f3a"
             ],
             [
              0.8888888888888888,
              "#fdca26"
             ],
             [
              1,
              "#f0f921"
             ]
            ],
            "type": "surface"
           }
          ],
          "table": [
           {
            "cells": {
             "fill": {
              "color": "#EBF0F8"
             },
             "line": {
              "color": "white"
             }
            },
            "header": {
             "fill": {
              "color": "#C8D4E3"
             },
             "line": {
              "color": "white"
             }
            },
            "type": "table"
           }
          ]
         },
         "layout": {
          "annotationdefaults": {
           "arrowcolor": "#2a3f5f",
           "arrowhead": 0,
           "arrowwidth": 1
          },
          "autotypenumbers": "strict",
          "coloraxis": {
           "colorbar": {
            "outlinewidth": 0,
            "ticks": ""
           }
          },
          "colorscale": {
           "diverging": [
            [
             0,
             "#8e0152"
            ],
            [
             0.1,
             "#c51b7d"
            ],
            [
             0.2,
             "#de77ae"
            ],
            [
             0.3,
             "#f1b6da"
            ],
            [
             0.4,
             "#fde0ef"
            ],
            [
             0.5,
             "#f7f7f7"
            ],
            [
             0.6,
             "#e6f5d0"
            ],
            [
             0.7,
             "#b8e186"
            ],
            [
             0.8,
             "#7fbc41"
            ],
            [
             0.9,
             "#4d9221"
            ],
            [
             1,
             "#276419"
            ]
           ],
           "sequential": [
            [
             0,
             "#0d0887"
            ],
            [
             0.1111111111111111,
             "#46039f"
            ],
            [
             0.2222222222222222,
             "#7201a8"
            ],
            [
             0.3333333333333333,
             "#9c179e"
            ],
            [
             0.4444444444444444,
             "#bd3786"
            ],
            [
             0.5555555555555556,
             "#d8576b"
            ],
            [
             0.6666666666666666,
             "#ed7953"
            ],
            [
             0.7777777777777778,
             "#fb9f3a"
            ],
            [
             0.8888888888888888,
             "#fdca26"
            ],
            [
             1,
             "#f0f921"
            ]
           ],
           "sequentialminus": [
            [
             0,
             "#0d0887"
            ],
            [
             0.1111111111111111,
             "#46039f"
            ],
            [
             0.2222222222222222,
             "#7201a8"
            ],
            [
             0.3333333333333333,
             "#9c179e"
            ],
            [
             0.4444444444444444,
             "#bd3786"
            ],
            [
             0.5555555555555556,
             "#d8576b"
            ],
            [
             0.6666666666666666,
             "#ed7953"
            ],
            [
             0.7777777777777778,
             "#fb9f3a"
            ],
            [
             0.8888888888888888,
             "#fdca26"
            ],
            [
             1,
             "#f0f921"
            ]
           ]
          },
          "colorway": [
           "#636efa",
           "#EF553B",
           "#00cc96",
           "#ab63fa",
           "#FFA15A",
           "#19d3f3",
           "#FF6692",
           "#B6E880",
           "#FF97FF",
           "#FECB52"
          ],
          "font": {
           "color": "#2a3f5f"
          },
          "geo": {
           "bgcolor": "white",
           "lakecolor": "white",
           "landcolor": "#E5ECF6",
           "showlakes": true,
           "showland": true,
           "subunitcolor": "white"
          },
          "hoverlabel": {
           "align": "left"
          },
          "hovermode": "closest",
          "mapbox": {
           "style": "light"
          },
          "paper_bgcolor": "white",
          "plot_bgcolor": "#E5ECF6",
          "polar": {
           "angularaxis": {
            "gridcolor": "white",
            "linecolor": "white",
            "ticks": ""
           },
           "bgcolor": "#E5ECF6",
           "radialaxis": {
            "gridcolor": "white",
            "linecolor": "white",
            "ticks": ""
           }
          },
          "scene": {
           "xaxis": {
            "backgroundcolor": "#E5ECF6",
            "gridcolor": "white",
            "gridwidth": 2,
            "linecolor": "white",
            "showbackground": true,
            "ticks": "",
            "zerolinecolor": "white"
           },
           "yaxis": {
            "backgroundcolor": "#E5ECF6",
            "gridcolor": "white",
            "gridwidth": 2,
            "linecolor": "white",
            "showbackground": true,
            "ticks": "",
            "zerolinecolor": "white"
           },
           "zaxis": {
            "backgroundcolor": "#E5ECF6",
            "gridcolor": "white",
            "gridwidth": 2,
            "linecolor": "white",
            "showbackground": true,
            "ticks": "",
            "zerolinecolor": "white"
           }
          },
          "shapedefaults": {
           "line": {
            "color": "#2a3f5f"
           }
          },
          "ternary": {
           "aaxis": {
            "gridcolor": "white",
            "linecolor": "white",
            "ticks": ""
           },
           "baxis": {
            "gridcolor": "white",
            "linecolor": "white",
            "ticks": ""
           },
           "bgcolor": "#E5ECF6",
           "caxis": {
            "gridcolor": "white",
            "linecolor": "white",
            "ticks": ""
           }
          },
          "title": {
           "x": 0.05
          },
          "xaxis": {
           "automargin": true,
           "gridcolor": "white",
           "linecolor": "white",
           "ticks": "",
           "title": {
            "standoff": 15
           },
           "zerolinecolor": "white",
           "zerolinewidth": 2
          },
          "yaxis": {
           "automargin": true,
           "gridcolor": "white",
           "linecolor": "white",
           "ticks": "",
           "title": {
            "standoff": 15
           },
           "zerolinecolor": "white",
           "zerolinewidth": 2
          }
         }
        },
        "title": {
         "text": "Spacecraft 3-7 Access, In Fov, and Connected"
        },
        "xaxis": {
         "anchor": "y",
         "domain": [
          0,
          1
         ],
         "type": "date"
        },
        "yaxis": {
         "anchor": "x",
         "categoryorder": "total ascending",
         "domain": [
          0,
          1
         ],
         "title": {
          "text": "antenna"
         }
        }
       }
      }
     },
     "metadata": {},
     "output_type": "display_data"
    },
    {
     "data": {
      "application/vnd.plotly.v1+json": {
       "config": {
        "plotlyServerURL": "https://plot.ly"
       },
       "data": [
        {
         "alignmentgroup": "True",
         "base": [
          "2024-10-31T00:00:00.000086+00:00",
          "2024-10-31T01:40:40.000086+00:00",
          "2024-10-31T05:06:20.000086+00:00",
          "2024-10-31T06:45:50.000086+00:00",
          "2024-10-31T08:26:30.000086+00:00",
          "2024-10-31T00:15:40.000086+00:00",
          "2024-10-31T09:31:00.000086+00:00",
          "2024-10-31T11:10:50.000086+00:00",
          "2024-10-31T00:34:20.000086+00:00",
          "2024-10-31T09:23:50.000086+00:00",
          "2024-10-31T11:00:30.000086+00:00",
          "2024-10-31T01:40:40.000086+00:00",
          "2024-10-31T03:18:00.000086+00:00",
          "2024-10-31T04:56:40.000086+00:00",
          "2024-10-31T06:36:00.000086+00:00",
          "2024-10-31T08:15:40.000087+00:00",
          "2024-10-31T09:56:00.000086+00:00",
          "2024-10-31T01:06:30.000086+00:00",
          "2024-10-31T00:26:30.000086+00:00",
          "2024-10-31T02:07:20.000086+00:00",
          "2024-10-31T01:27:10.000086+00:00",
          "2024-10-31T10:04:40.000086+00:00",
          "2024-10-31T11:45:30.000086+00:00",
          "2024-10-31T02:59:00.000086+00:00",
          "2024-10-31T04:38:10.000086+00:00",
          "2024-10-31T10:18:10.000086+00:00",
          "2024-10-31T11:55:30.000086+00:00",
          "2024-10-31T04:45:10.000086+00:00",
          "2024-10-31T06:24:50.000086+00:00",
          "2024-10-31T08:07:20.000086+00:00",
          "2024-10-31T09:50:30.000086+00:00",
          "2024-10-31T11:31:50.000086+00:00"
         ],
         "hovertemplate": "type=access<br>start=%{base}<br>end=%{x}<br>antenna=%{y}<extra></extra>",
         "legendgroup": "access",
         "marker": {
          "color": "#636efa",
          "pattern": {
           "shape": ""
          }
         },
         "name": "access",
         "offsetgroup": "access",
         "orientation": "h",
         "showlegend": true,
         "textposition": "auto",
         "type": "bar",
         "x": [
          480000,
          400000,
          530000,
          800000,
          750000,
          650000,
          720000,
          780000,
          620000,
          370000,
          820000,
          500000.001,
          670000,
          730000,
          730000,
          659999.999,
          460000,
          700000,
          770000,
          700000,
          760000,
          780000.001,
          720000,
          660000,
          780000,
          500000.001,
          260000,
          740000,
          810000,
          690000,
          600000.001,
          720000
         ],
         "xaxis": "x",
         "y": [
          "Mojave",
          "Mojave",
          "Mojave",
          "Mojave",
          "Mojave",
          "Dundee",
          "Dubai",
          "Dubai",
          "Mwulire",
          "Mwulire",
          "Mwulire",
          "Utqiagvik",
          "Utqiagvik",
          "Utqiagvik",
          "Utqiagvik",
          "Utqiagvik",
          "Utqiagvik",
          "Awarua",
          "Sunyani",
          "Sunyani",
          "Paumalu",
          "Paumalu",
          "Paumalu",
          "Harmon",
          "Harmon",
          "Tahiti",
          "Tahiti",
          "Chitose",
          "Chitose",
          "Chitose",
          "Chitose",
          "Chitose"
         ],
         "yaxis": "y"
        },
        {
         "alignmentgroup": "True",
         "base": [
          "2024-10-31T08:30:20.000086+00:00",
          "2024-10-31T09:35:10.000086+00:00",
          "2024-10-31T11:14:10.000086+00:00",
          "2024-10-31T06:40:10.000086+00:00",
          "2024-10-31T01:11:50.000086+00:00",
          "2024-10-31T00:32:40.000087+00:00",
          "2024-10-31T02:12:20.000086+00:00",
          "2024-10-31T01:30:40.000087+00:00",
          "2024-10-31T10:08:20.000086+00:00",
          "2024-10-31T04:41:30.000086+00:00",
          "2024-10-31T11:58:40.000086+00:00",
          "2024-10-31T04:51:30.000086+00:00",
          "2024-10-31T06:28:00.000086+00:00"
         ],
         "hovertemplate": "type=inFov<br>start=%{base}<br>end=%{x}<br>antenna=%{y}<extra></extra>",
         "legendgroup": "inFov",
         "marker": {
          "color": "#EF553B",
          "pattern": {
           "shape": ""
          }
         },
         "name": "inFov",
         "offsetgroup": "inFov",
         "orientation": "h",
         "showlegend": true,
         "textposition": "auto",
         "type": "bar",
         "x": [
          20000,
          220000,
          100000,
          230000,
          70000,
          89999.999,
          100000,
          329999.999,
          350000,
          380000.001,
          70000,
          50000,
          140000
         ],
         "xaxis": "x",
         "y": [
          "Mojave",
          "Dubai",
          "Dubai",
          "Utqiagvik",
          "Awarua",
          "Sunyani",
          "Sunyani",
          "Paumalu",
          "Paumalu",
          "Harmon",
          "Tahiti",
          "Chitose",
          "Chitose"
         ],
         "yaxis": "y"
        },
        {
         "alignmentgroup": "True",
         "base": [
          "2024-10-31T09:35:10.000086+00:00",
          "2024-10-31T11:14:10.000086+00:00",
          "2024-10-31T06:40:10.000086+00:00",
          "2024-10-31T00:32:40.000087+00:00",
          "2024-10-31T02:12:20.000086+00:00",
          "2024-10-31T01:30:40.000087+00:00",
          "2024-10-31T10:08:20.000086+00:00",
          "2024-10-31T04:41:30.000086+00:00",
          "2024-10-31T11:58:40.000086+00:00",
          "2024-10-31T06:28:00.000086+00:00"
         ],
         "hovertemplate": "type=connected<br>start=%{base}<br>end=%{x}<br>antenna=%{y}<extra></extra>",
         "legendgroup": "connected",
         "marker": {
          "color": "#00cc96",
          "pattern": {
           "shape": ""
          }
         },
         "name": "connected",
         "offsetgroup": "connected",
         "orientation": "h",
         "showlegend": true,
         "textposition": "auto",
         "type": "bar",
         "x": [
          220000,
          100000,
          230000,
          89999.999,
          100000,
          329999.999,
          350000,
          380000.001,
          70000,
          140000
         ],
         "xaxis": "x",
         "y": [
          "Dubai",
          "Dubai",
          "Utqiagvik",
          "Sunyani",
          "Sunyani",
          "Paumalu",
          "Paumalu",
          "Harmon",
          "Tahiti",
          "Chitose"
         ],
         "yaxis": "y"
        }
       ],
       "layout": {
        "barmode": "overlay",
        "legend": {
         "title": {
          "text": "type"
         },
         "tracegroupgap": 0
        },
        "margin": {
         "t": 60
        },
        "template": {
         "data": {
          "bar": [
           {
            "error_x": {
             "color": "#2a3f5f"
            },
            "error_y": {
             "color": "#2a3f5f"
            },
            "marker": {
             "line": {
              "color": "#E5ECF6",
              "width": 0.5
             },
             "pattern": {
              "fillmode": "overlay",
              "size": 10,
              "solidity": 0.2
             }
            },
            "type": "bar"
           }
          ],
          "barpolar": [
           {
            "marker": {
             "line": {
              "color": "#E5ECF6",
              "width": 0.5
             },
             "pattern": {
              "fillmode": "overlay",
              "size": 10,
              "solidity": 0.2
             }
            },
            "type": "barpolar"
           }
          ],
          "carpet": [
           {
            "aaxis": {
             "endlinecolor": "#2a3f5f",
             "gridcolor": "white",
             "linecolor": "white",
             "minorgridcolor": "white",
             "startlinecolor": "#2a3f5f"
            },
            "baxis": {
             "endlinecolor": "#2a3f5f",
             "gridcolor": "white",
             "linecolor": "white",
             "minorgridcolor": "white",
             "startlinecolor": "#2a3f5f"
            },
            "type": "carpet"
           }
          ],
          "choropleth": [
           {
            "colorbar": {
             "outlinewidth": 0,
             "ticks": ""
            },
            "type": "choropleth"
           }
          ],
          "contour": [
           {
            "colorbar": {
             "outlinewidth": 0,
             "ticks": ""
            },
            "colorscale": [
             [
              0,
              "#0d0887"
             ],
             [
              0.1111111111111111,
              "#46039f"
             ],
             [
              0.2222222222222222,
              "#7201a8"
             ],
             [
              0.3333333333333333,
              "#9c179e"
             ],
             [
              0.4444444444444444,
              "#bd3786"
             ],
             [
              0.5555555555555556,
              "#d8576b"
             ],
             [
              0.6666666666666666,
              "#ed7953"
             ],
             [
              0.7777777777777778,
              "#fb9f3a"
             ],
             [
              0.8888888888888888,
              "#fdca26"
             ],
             [
              1,
              "#f0f921"
             ]
            ],
            "type": "contour"
           }
          ],
          "contourcarpet": [
           {
            "colorbar": {
             "outlinewidth": 0,
             "ticks": ""
            },
            "type": "contourcarpet"
           }
          ],
          "heatmap": [
           {
            "colorbar": {
             "outlinewidth": 0,
             "ticks": ""
            },
            "colorscale": [
             [
              0,
              "#0d0887"
             ],
             [
              0.1111111111111111,
              "#46039f"
             ],
             [
              0.2222222222222222,
              "#7201a8"
             ],
             [
              0.3333333333333333,
              "#9c179e"
             ],
             [
              0.4444444444444444,
              "#bd3786"
             ],
             [
              0.5555555555555556,
              "#d8576b"
             ],
             [
              0.6666666666666666,
              "#ed7953"
             ],
             [
              0.7777777777777778,
              "#fb9f3a"
             ],
             [
              0.8888888888888888,
              "#fdca26"
             ],
             [
              1,
              "#f0f921"
             ]
            ],
            "type": "heatmap"
           }
          ],
          "heatmapgl": [
           {
            "colorbar": {
             "outlinewidth": 0,
             "ticks": ""
            },
            "colorscale": [
             [
              0,
              "#0d0887"
             ],
             [
              0.1111111111111111,
              "#46039f"
             ],
             [
              0.2222222222222222,
              "#7201a8"
             ],
             [
              0.3333333333333333,
              "#9c179e"
             ],
             [
              0.4444444444444444,
              "#bd3786"
             ],
             [
              0.5555555555555556,
              "#d8576b"
             ],
             [
              0.6666666666666666,
              "#ed7953"
             ],
             [
              0.7777777777777778,
              "#fb9f3a"
             ],
             [
              0.8888888888888888,
              "#fdca26"
             ],
             [
              1,
              "#f0f921"
             ]
            ],
            "type": "heatmapgl"
           }
          ],
          "histogram": [
           {
            "marker": {
             "pattern": {
              "fillmode": "overlay",
              "size": 10,
              "solidity": 0.2
             }
            },
            "type": "histogram"
           }
          ],
          "histogram2d": [
           {
            "colorbar": {
             "outlinewidth": 0,
             "ticks": ""
            },
            "colorscale": [
             [
              0,
              "#0d0887"
             ],
             [
              0.1111111111111111,
              "#46039f"
             ],
             [
              0.2222222222222222,
              "#7201a8"
             ],
             [
              0.3333333333333333,
              "#9c179e"
             ],
             [
              0.4444444444444444,
              "#bd3786"
             ],
             [
              0.5555555555555556,
              "#d8576b"
             ],
             [
              0.6666666666666666,
              "#ed7953"
             ],
             [
              0.7777777777777778,
              "#fb9f3a"
             ],
             [
              0.8888888888888888,
              "#fdca26"
             ],
             [
              1,
              "#f0f921"
             ]
            ],
            "type": "histogram2d"
           }
          ],
          "histogram2dcontour": [
           {
            "colorbar": {
             "outlinewidth": 0,
             "ticks": ""
            },
            "colorscale": [
             [
              0,
              "#0d0887"
             ],
             [
              0.1111111111111111,
              "#46039f"
             ],
             [
              0.2222222222222222,
              "#7201a8"
             ],
             [
              0.3333333333333333,
              "#9c179e"
             ],
             [
              0.4444444444444444,
              "#bd3786"
             ],
             [
              0.5555555555555556,
              "#d8576b"
             ],
             [
              0.6666666666666666,
              "#ed7953"
             ],
             [
              0.7777777777777778,
              "#fb9f3a"
             ],
             [
              0.8888888888888888,
              "#fdca26"
             ],
             [
              1,
              "#f0f921"
             ]
            ],
            "type": "histogram2dcontour"
           }
          ],
          "mesh3d": [
           {
            "colorbar": {
             "outlinewidth": 0,
             "ticks": ""
            },
            "type": "mesh3d"
           }
          ],
          "parcoords": [
           {
            "line": {
             "colorbar": {
              "outlinewidth": 0,
              "ticks": ""
             }
            },
            "type": "parcoords"
           }
          ],
          "pie": [
           {
            "automargin": true,
            "type": "pie"
           }
          ],
          "scatter": [
           {
            "fillpattern": {
             "fillmode": "overlay",
             "size": 10,
             "solidity": 0.2
            },
            "type": "scatter"
           }
          ],
          "scatter3d": [
           {
            "line": {
             "colorbar": {
              "outlinewidth": 0,
              "ticks": ""
             }
            },
            "marker": {
             "colorbar": {
              "outlinewidth": 0,
              "ticks": ""
             }
            },
            "type": "scatter3d"
           }
          ],
          "scattercarpet": [
           {
            "marker": {
             "colorbar": {
              "outlinewidth": 0,
              "ticks": ""
             }
            },
            "type": "scattercarpet"
           }
          ],
          "scattergeo": [
           {
            "marker": {
             "colorbar": {
              "outlinewidth": 0,
              "ticks": ""
             }
            },
            "type": "scattergeo"
           }
          ],
          "scattergl": [
           {
            "marker": {
             "colorbar": {
              "outlinewidth": 0,
              "ticks": ""
             }
            },
            "type": "scattergl"
           }
          ],
          "scattermapbox": [
           {
            "marker": {
             "colorbar": {
              "outlinewidth": 0,
              "ticks": ""
             }
            },
            "type": "scattermapbox"
           }
          ],
          "scatterpolar": [
           {
            "marker": {
             "colorbar": {
              "outlinewidth": 0,
              "ticks": ""
             }
            },
            "type": "scatterpolar"
           }
          ],
          "scatterpolargl": [
           {
            "marker": {
             "colorbar": {
              "outlinewidth": 0,
              "ticks": ""
             }
            },
            "type": "scatterpolargl"
           }
          ],
          "scatterternary": [
           {
            "marker": {
             "colorbar": {
              "outlinewidth": 0,
              "ticks": ""
             }
            },
            "type": "scatterternary"
           }
          ],
          "surface": [
           {
            "colorbar": {
             "outlinewidth": 0,
             "ticks": ""
            },
            "colorscale": [
             [
              0,
              "#0d0887"
             ],
             [
              0.1111111111111111,
              "#46039f"
             ],
             [
              0.2222222222222222,
              "#7201a8"
             ],
             [
              0.3333333333333333,
              "#9c179e"
             ],
             [
              0.4444444444444444,
              "#bd3786"
             ],
             [
              0.5555555555555556,
              "#d8576b"
             ],
             [
              0.6666666666666666,
              "#ed7953"
             ],
             [
              0.7777777777777778,
              "#fb9f3a"
             ],
             [
              0.8888888888888888,
              "#fdca26"
             ],
             [
              1,
              "#f0f921"
             ]
            ],
            "type": "surface"
           }
          ],
          "table": [
           {
            "cells": {
             "fill": {
              "color": "#EBF0F8"
             },
             "line": {
              "color": "white"
             }
            },
            "header": {
             "fill": {
              "color": "#C8D4E3"
             },
             "line": {
              "color": "white"
             }
            },
            "type": "table"
           }
          ]
         },
         "layout": {
          "annotationdefaults": {
           "arrowcolor": "#2a3f5f",
           "arrowhead": 0,
           "arrowwidth": 1
          },
          "autotypenumbers": "strict",
          "coloraxis": {
           "colorbar": {
            "outlinewidth": 0,
            "ticks": ""
           }
          },
          "colorscale": {
           "diverging": [
            [
             0,
             "#8e0152"
            ],
            [
             0.1,
             "#c51b7d"
            ],
            [
             0.2,
             "#de77ae"
            ],
            [
             0.3,
             "#f1b6da"
            ],
            [
             0.4,
             "#fde0ef"
            ],
            [
             0.5,
             "#f7f7f7"
            ],
            [
             0.6,
             "#e6f5d0"
            ],
            [
             0.7,
             "#b8e186"
            ],
            [
             0.8,
             "#7fbc41"
            ],
            [
             0.9,
             "#4d9221"
            ],
            [
             1,
             "#276419"
            ]
           ],
           "sequential": [
            [
             0,
             "#0d0887"
            ],
            [
             0.1111111111111111,
             "#46039f"
            ],
            [
             0.2222222222222222,
             "#7201a8"
            ],
            [
             0.3333333333333333,
             "#9c179e"
            ],
            [
             0.4444444444444444,
             "#bd3786"
            ],
            [
             0.5555555555555556,
             "#d8576b"
            ],
            [
             0.6666666666666666,
             "#ed7953"
            ],
            [
             0.7777777777777778,
             "#fb9f3a"
            ],
            [
             0.8888888888888888,
             "#fdca26"
            ],
            [
             1,
             "#f0f921"
            ]
           ],
           "sequentialminus": [
            [
             0,
             "#0d0887"
            ],
            [
             0.1111111111111111,
             "#46039f"
            ],
            [
             0.2222222222222222,
             "#7201a8"
            ],
            [
             0.3333333333333333,
             "#9c179e"
            ],
            [
             0.4444444444444444,
             "#bd3786"
            ],
            [
             0.5555555555555556,
             "#d8576b"
            ],
            [
             0.6666666666666666,
             "#ed7953"
            ],
            [
             0.7777777777777778,
             "#fb9f3a"
            ],
            [
             0.8888888888888888,
             "#fdca26"
            ],
            [
             1,
             "#f0f921"
            ]
           ]
          },
          "colorway": [
           "#636efa",
           "#EF553B",
           "#00cc96",
           "#ab63fa",
           "#FFA15A",
           "#19d3f3",
           "#FF6692",
           "#B6E880",
           "#FF97FF",
           "#FECB52"
          ],
          "font": {
           "color": "#2a3f5f"
          },
          "geo": {
           "bgcolor": "white",
           "lakecolor": "white",
           "landcolor": "#E5ECF6",
           "showlakes": true,
           "showland": true,
           "subunitcolor": "white"
          },
          "hoverlabel": {
           "align": "left"
          },
          "hovermode": "closest",
          "mapbox": {
           "style": "light"
          },
          "paper_bgcolor": "white",
          "plot_bgcolor": "#E5ECF6",
          "polar": {
           "angularaxis": {
            "gridcolor": "white",
            "linecolor": "white",
            "ticks": ""
           },
           "bgcolor": "#E5ECF6",
           "radialaxis": {
            "gridcolor": "white",
            "linecolor": "white",
            "ticks": ""
           }
          },
          "scene": {
           "xaxis": {
            "backgroundcolor": "#E5ECF6",
            "gridcolor": "white",
            "gridwidth": 2,
            "linecolor": "white",
            "showbackground": true,
            "ticks": "",
            "zerolinecolor": "white"
           },
           "yaxis": {
            "backgroundcolor": "#E5ECF6",
            "gridcolor": "white",
            "gridwidth": 2,
            "linecolor": "white",
            "showbackground": true,
            "ticks": "",
            "zerolinecolor": "white"
           },
           "zaxis": {
            "backgroundcolor": "#E5ECF6",
            "gridcolor": "white",
            "gridwidth": 2,
            "linecolor": "white",
            "showbackground": true,
            "ticks": "",
            "zerolinecolor": "white"
           }
          },
          "shapedefaults": {
           "line": {
            "color": "#2a3f5f"
           }
          },
          "ternary": {
           "aaxis": {
            "gridcolor": "white",
            "linecolor": "white",
            "ticks": ""
           },
           "baxis": {
            "gridcolor": "white",
            "linecolor": "white",
            "ticks": ""
           },
           "bgcolor": "#E5ECF6",
           "caxis": {
            "gridcolor": "white",
            "linecolor": "white",
            "ticks": ""
           }
          },
          "title": {
           "x": 0.05
          },
          "xaxis": {
           "automargin": true,
           "gridcolor": "white",
           "linecolor": "white",
           "ticks": "",
           "title": {
            "standoff": 15
           },
           "zerolinecolor": "white",
           "zerolinewidth": 2
          },
          "yaxis": {
           "automargin": true,
           "gridcolor": "white",
           "linecolor": "white",
           "ticks": "",
           "title": {
            "standoff": 15
           },
           "zerolinecolor": "white",
           "zerolinewidth": 2
          }
         }
        },
        "title": {
         "text": "Spacecraft 3-8 Access, In Fov, and Connected"
        },
        "xaxis": {
         "anchor": "y",
         "domain": [
          0,
          1
         ],
         "type": "date"
        },
        "yaxis": {
         "anchor": "x",
         "categoryorder": "total ascending",
         "domain": [
          0,
          1
         ],
         "title": {
          "text": "antenna"
         }
        }
       }
      }
     },
     "metadata": {},
     "output_type": "display_data"
    }
   ],
   "source": [
    "availability_data = target_analytics(ground_segment_results)\n",
    "# This loop will create a new figure for each target\n",
    "for target_name, data in availability_data.items():\n",
    "    fig = px.timeline(data, x_start='start', x_end='end', y='antenna', color='type')\n",
    "    fig.update_yaxes(categoryorder='total ascending')\n",
    "    # set title\n",
    "    fig.update_layout(title_text=f'{target_name} Access, In Fov, and Connected')\n",
    "    fig.show()"
   ]
  }
 ],
 "metadata": {
  "kernelspec": {
   "display_name": ".venv",
   "language": "python",
   "name": "python3"
  },
  "language_info": {
   "codemirror_mode": {
    "name": "ipython",
    "version": 3
   },
   "file_extension": ".py",
   "mimetype": "text/x-python",
   "name": "python",
   "nbconvert_exporter": "python",
   "pygments_lexer": "ipython3",
   "version": "3.12.4"
  }
 },
 "nbformat": 4,
 "nbformat_minor": 2
}
