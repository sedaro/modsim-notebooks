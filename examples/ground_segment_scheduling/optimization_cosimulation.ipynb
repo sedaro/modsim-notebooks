{
 "cells": [
  {
   "cell_type": "markdown",
   "metadata": {},
   "source": [
    "## Ground Segment Scheduling Optimization\n",
    "\n",
    "This notebook demonstrates an implementation of a custom contact scheduling algorithm and the integration of this\n",
    "algorithm into a Sedaro simulation via cosimulation. We use a `GroundSegment` to model the [Atlas Enterprise ground\n",
    "station network](https://atlasspace.com/wp-content/uploads/2023/07/07192023-ANTENNA-NETWORK-ENTERPRISE-SITES.pdf), and\n",
    "we simulate a scenario of a Walker delta 60: 24/3/3 constellation with uplink and downlink requirements. The scheduling\n",
    "is posed as an integer linear programming problem which maximizes downlinked data under a minimum uplink constraint [1].\n",
    "\n",
    "You can view the results of this cosimulation in `sim_results.ipynb`, and you can fork the demo scenario to run the\n",
    "cosimulation yourself (since you have read permission but not write/simulate). Make sure to update `scenario_branch` in\n",
    "\"Setup\" or in `config.json` if you do so.\n",
    "\n",
    "[1]Eddy, D., Ho, M., and Kochenderfer, M. J., “Optimal Ground Station Selection for Low-Earth Orbiting Satellites”, \n",
    "        arXiv e-prints, Art. no. arXiv:2410.16282, 2024. doi:10.48550/arXiv.2410.16282."
   ]
  },
  {
   "cell_type": "markdown",
   "metadata": {},
   "source": [
    "This notebook requires that you have previously generated an API key in the web UI. That key should be stored in a file called `secrets.json` in the root directory of this repository (two levels above this notebook) with the following format:\n",
    "\n",
    "```json\n",
    "{\n",
    "    \"API_KEY\": \"<API_KEY>\"\n",
    "}\n",
    "```\n",
    "\n",
    "API keys grant full access to your repositories and should never be shared. If you think your API key has been\n",
    "compromised, you can revoke it in the user settings interface on the Sedaro website.\n",
    "\n",
    "The variables below must be populated directly or by setting them in `config.json` as follows:\n",
    "\n",
    "```jsonc\n",
    "{\n",
    "  \"HOST\": \"<HOST>\",\n",
    "  \"EXAMPLES\": {\n",
    "    \"GROUND_SEGMENT\": {\n",
    "      \"COSIM_SCENARIO_BRANCH_ID\": \"<BRANCH ID>\",\n",
    "      // etc.\n",
    "    } \n",
    "  }\n",
    "}\n",
    "```"
   ]
  },
  {
   "cell_type": "markdown",
   "metadata": {},
   "source": [
    "### Setup\n",
    "\n",
    "Run the cell below once to install required packages\n"
   ]
  },
  {
   "cell_type": "code",
   "execution_count": null,
   "metadata": {},
   "outputs": [],
   "source": [
    "%pip install -r requirements.txt"
   ]
  },
  {
   "cell_type": "markdown",
   "metadata": {},
   "source": [
    "Import modules and configure some settings for the cosimulation. You can change the minimum uplink requirement here or\n",
    "change the branch ids to use this notebook for your own repository."
   ]
  },
  {
   "cell_type": "code",
   "execution_count": null,
   "metadata": {},
   "outputs": [],
   "source": [
    "from scipy.optimize import milp, LinearConstraint, Bounds\n",
    "import numpy as np\n",
    "from utils import sedaroLogin, contact_booleans_to_intervals, selected_contacts_to_schedule\n",
    "from typing import Any\n",
    "import time\n",
    "from math import ceil\n",
    "import json\n",
    "\n",
    "# Cosim variables\n",
    "minimum_uplink = 1000000000 # bits\n",
    "schedule_period = 4 # hours\n",
    "\n",
    "# Config\n",
    "COSIM_SCENARIO_BRANCH_ID = ''\n",
    "AGENT_TEMPLATE_BRANCH_ID = '' # Read-only\n",
    "GS_AGENT_NAME = 'Atlas (Enterprise)'\n",
    "\n",
    "\n",
    "try:\n",
    "    with open('../../config.json', 'r') as file:\n",
    "        config = json.load(file)\n",
    "        gs_config = config.get('EXAMPLES', {}).get('GROUND_SEGMENT', {})\n",
    "        AGENT_TEMPLATE_BRANCH_ID = AGENT_TEMPLATE_BRANCH_ID or gs_config['AGENT_TEMPLATE_BRANCH_ID']\n",
    "        GS_AGENT_NAME = GS_AGENT_NAME or gs_config['GS_AGENT_NAME']\n",
    "        COSIM_SCENARIO_BRANCH_ID = COSIM_SCENARIO_BRANCH_ID or gs_config['COSIM_SCENARIO_BRANCH_ID']\n",
    "except FileNotFoundError:\n",
    "    pass\n",
    "except KeyError as e:\n",
    "    raise KeyError(f\"Missing key in config.json: {e}\")\n",
    "finally:\n",
    "    assert AGENT_TEMPLATE_BRANCH_ID, \"Please set AGENT_TEMPLATE_BRANCH_ID in the script or in config.json\"\n",
    "    assert GS_AGENT_NAME, \"Please set GS_AGENT_NAME in the script or in config.json\"\n",
    "    assert COSIM_SCENARIO_BRANCH_ID, \"Please set COSIM_SCENARIO_BRANCH_ID in the script or in config.json\"\n",
    "\n",
    "\n",
    "# Constants\n",
    "RESOLUTION_SECONDS = 10. # Sedaro provides a handle for scheduling contacts at 10s resolution\n",
    "\n",
    "client = sedaroLogin()\n",
    "scenario = client.scenario(COSIM_SCENARIO_BRANCH_ID)\n",
    "template = client.agent_template(AGENT_TEMPLATE_BRANCH_ID)\n",
    "uplink_bitrate = template.ScheduledTransmitInterface.get_first().onBitRate\n"
   ]
  },
  {
   "cell_type": "markdown",
   "metadata": {},
   "source": [
    "Set up scheduling as an Integer Linear Programming Problem"
   ]
  },
  {
   "cell_type": "code",
   "execution_count": 2,
   "metadata": {},
   "outputs": [],
   "source": [
    "def optimize_schedule(\n",
    "        contact_intervals: list[tuple[int, int]],\n",
    "        c_location: dict[str, list[int]],\n",
    "        c_tg: dict[str, list[int]],\n",
    "        durations: list[int],\n",
    ") -> tuple[dict[str, Any], ...]:\n",
    "    '''\n",
    "    Based on reference [1], set up the contact scheduling as an integer linear programming problem, then solve using\n",
    "    scipy.optimize.milp.\n",
    "\n",
    "    Args:\n",
    "        contact_intervals: A list of all contacts, represented as a tuple of start and stop indices\n",
    "        c_location: A dictionary of the list of contact indices for each location\n",
    "        c_tg: A dictionary of the list of contact indices for each target group\n",
    "        durations: The duration of each contact in contact_intervals\n",
    "\n",
    "    [1] Eddy, D., Ho, M., and Kochenderfer, M. J., “Optimal Ground Station Selection for Low-Earth Orbiting Satellites”, \n",
    "        arXiv e-prints, Art. no. arXiv:2410.16282, 2024. doi:10.48550/arXiv.2410.16282.\n",
    "    '''\n",
    "    n_contacts = len(contact_intervals)\n",
    "    # The solution vector x is a list of binaries of length 2*len(C). The first len(C) selects contacts for downlink\n",
    "    # and the second len(C) selects contacts for uplink. We will maximize data downlink while satisfying the minimum \n",
    "    # uplink requirements. \n",
    "\n",
    "    # First, well set up the objective function. The amount of data linked down is proportional to link duration\n",
    "    f = -np.hstack([np.array(durations), np.zeros(n_contacts)])\n",
    "\n",
    "    # Next, we set up the constraints.\n",
    "    constraints = []\n",
    "    # The first constraint is the aforementioned minimum uplink requirement per plane\n",
    "    minimum_uplink_steps = minimum_uplink / uplink_bitrate / RESOLUTION_SECONDS\n",
    "    for indices in c_tg.values():\n",
    "        # element-wise product to select only the contacts that are in the target group\n",
    "        plane_weight = np.array(durations) * np.array([1 if i in indices else 0 for i in range(n_contacts)])\n",
    "        A = np.hstack([np.zeros(n_contacts), plane_weight])\n",
    "        constraints.append(LinearConstraint(A, lb=minimum_uplink_steps))\n",
    "\n",
    "    # The second is that each antenna can only communicate with one spacecraft at a time, based on eqn. 11\n",
    "    # The third is like it. Eddy et al. require each spacecraft only communicate with one antenna at a time (eqn. 12),\n",
    "    # but we require the stronger condition that each target group communicate with one antenna at a time. These are \n",
    "    # similar constraints, so we set up a helper function to create all of these constraints efficiently.\n",
    "    def exclusion_matrix(entity_contacts):\n",
    "        '''\n",
    "        Returns a matrix for evaluating exclusion constraints. Each row will find the sum of conflicting contacts. This\n",
    "        matrix can be used to create an efficient LinearConstraint to enforce A@x <= 1.\n",
    "        '''\n",
    "        exclusion_rows = []\n",
    "        for contact_indices in entity_contacts.values():\n",
    "            # Contacts sorted by start time. List of pairs where the first element is the start and stop time and the\n",
    "            # second is the index in contact_indices pre-sorting\n",
    "            flattened_schedule_indices = sorted([(contact_intervals[i], i) for i in contact_indices], key=lambda x: x[0][0])\n",
    "            # Transpose\n",
    "            flat_schedule, sorted_indices = zip(*flattened_schedule_indices)\n",
    "            # Loop through the flattened schedule to look for any overlapping contacts\n",
    "            for i in range(1, len(flat_schedule)):\n",
    "                if flat_schedule[i][0] < flat_schedule[i-1][1]:\n",
    "                    # These contacts overlap, so we must make a constraint that only one of them is selected, including uplink\n",
    "                    contact1_index = sorted_indices[i]\n",
    "                    contact2_index = sorted_indices[i-1]\n",
    "                    A = np.zeros(2*n_contacts)\n",
    "                    A[contact1_index] = 1\n",
    "                    A[contact2_index] = 1\n",
    "                    A[contact1_index+n_contacts] = 1\n",
    "                    A[contact2_index+n_contacts] = 1\n",
    "                    exclusion_rows.append(A)\n",
    "        return np.vstack(exclusion_rows) if exclusion_rows else None\n",
    "    \n",
    "    # Add constraint if any location overlaps exist\n",
    "    if (station_exclusion_rows := exclusion_matrix(c_location)) is not None:\n",
    "        constraints.append(LinearConstraint(station_exclusion_rows, ub=1))\n",
    "    # Same for target groups\n",
    "    if (tg_exclusion_rows := exclusion_matrix(c_tg)) is not None:\n",
    "        constraints.append(LinearConstraint(tg_exclusion_rows, ub=1))\n",
    "\n",
    "    # Run the solver and time it for fun\n",
    "    start = time.time()\n",
    "    result = milp(\n",
    "        f, # f@x is minimized\n",
    "        integrality=np.ones(2*n_contacts), # all params are integers\n",
    "        bounds=Bounds(0, 1), # all params are binary\n",
    "        constraints=constraints\n",
    "        ) \n",
    "    end = time.time()\n",
    "    print(f\"Optimization took {end-start} seconds. {result.message}\")\n",
    "\n",
    "    return result.x\n",
    "    "
   ]
  },
  {
   "cell_type": "markdown",
   "metadata": {},
   "source": [
    "Set up cosimulated external state. You only need to run this if you change the scheduler id or require any additional\n",
    "schedule inputs. (However, the old external state is cleared, so it will not hurt to run if you're not sure.)"
   ]
  },
  {
   "cell_type": "code",
   "execution_count": 3,
   "metadata": {},
   "outputs": [],
   "source": [
    "# clear out existing blocks\n",
    "scenario.delete_all_external_state_blocks()\n",
    "\n",
    "# Get the ground segment agent\n",
    "gs_agent = scenario.Agent.get_where(name=GS_AGENT_NAME)[0]\n",
    "\n",
    "# The existing scheduler will provide us a handle for the the contacts, and we can overwrite the schedule\n",
    "scheduler = template.ContactScheduler.get_first()\n",
    "external_state = scenario.PerRoundExternalState.create(\n",
    "    consumed = f'''(\n",
    "        block!(\"{scheduler.id}\").(projectedContacts, targetSeries),\n",
    "        block!(\"{scheduler.id}\").interfaces.(id, type),\n",
    "        block!(\"{scheduler.id}\").interfaces.linkTargetGroup.(id, targets.id, targets.agentId),\n",
    "        time\n",
    "    )''',\n",
    "    produced = f'(block!(\"{scheduler.id}\").schedule,)',\n",
    "    engine = 'cdh',\n",
    "    agents = [gs_agent.id]\n",
    ")\n",
    "ancillary_state = scenario.PerRoundExternalState.create(\n",
    "    consumed='(elapsedTime as Duration.hour,)',\n",
    "    produced = f'''(\n",
    "        block!(\"{scheduler.id}\")._generateNewSchedule,\n",
    "        block!(\"{scheduler.id}\").cycleDuration as Duration.hour,\n",
    "    )''',\n",
    "    engine = 'cdh',\n",
    "    agents = [gs_agent.id]\n",
    ")"
   ]
  },
  {
   "cell_type": "markdown",
   "metadata": {},
   "source": [
    "## Cosimulate\n",
    "\n",
    "Once we start the simulation, we'll check the elapsed sim time to see if a new schedule is needed. If so, we'll get the\n",
    "required inputs to determine the contact intervals and pass them into the optimizer. The optimizer will choose the\n",
    "contacts, which are then parsed into a schedule and sent to the simulation.\n",
    "\n",
    "The Exception at the end of the simulation is expected and does not necessarily mean that the cosimulation failed."
   ]
  },
  {
   "cell_type": "code",
   "execution_count": 4,
   "metadata": {},
   "outputs": [
    {
     "name": "stdout",
     "output_type": "stream",
     "text": [
      "Simulation started!\n",
      "Channel opened!\n",
      "Generating new schedule!\n",
      "Getting inputs...\n",
      "Setting up optimizer...\n",
      "Optimization took 0.22739195823669434 seconds. Optimization terminated successfully. (HiGHS Status 7: Optimal)\n",
      "Parsing optimizer output...\n",
      "Done! Simulation is executing the schedule.\n",
      "Generating new schedule!\n",
      "Getting inputs...\n",
      "Setting up optimizer...\n",
      "Optimization took 9.584469079971313 seconds. Optimization terminated successfully. (HiGHS Status 7: Optimal)\n",
      "Parsing optimizer output...\n",
      "Done! Simulation is executing the schedule.\n",
      "Generating new schedule!\n",
      "Getting inputs...\n",
      "Setting up optimizer...\n",
      "Optimization took 0.13617300987243652 seconds. Optimization terminated successfully. (HiGHS Status 7: Optimal)\n",
      "Parsing optimizer output...\n",
      "Done! Simulation is executing the schedule.\n"
     ]
    },
    {
     "name": "stderr",
     "output_type": "stream",
     "text": [
      "ERROR:root:Unexpected response state: 1\n",
      "ERROR:root:Consume operation failed for index 8641: Unexpected response state.\n",
      "ERROR:root:Cosimulation session encountered an error: Unexpected response state.\n"
     ]
    },
    {
     "ename": "Exception",
     "evalue": "Unexpected response state.",
     "output_type": "error",
     "traceback": [
      "\u001b[0;31m---------------------------------------------------------------------------\u001b[0m",
      "\u001b[0;31mException\u001b[0m                                 Traceback (most recent call last)",
      "Cell \u001b[0;32mIn[4], line 11\u001b[0m\n\u001b[1;32m      9\u001b[0m \u001b[38;5;66;03m# Simulation loop\u001b[39;00m\n\u001b[1;32m     10\u001b[0m \u001b[38;5;28;01mwhile\u001b[39;00m \u001b[38;5;28;01mTrue\u001b[39;00m:\n\u001b[0;32m---> 11\u001b[0m     ancillary_data \u001b[38;5;241m=\u001b[39m \u001b[38;5;28;01mawait\u001b[39;00m channel\u001b[38;5;241m.\u001b[39mconsume(agent_id\u001b[38;5;241m=\u001b[39mgs_agent\u001b[38;5;241m.\u001b[39mid, external_state_id\u001b[38;5;241m=\u001b[39mancillary_state\u001b[38;5;241m.\u001b[39mid)\n\u001b[1;32m     12\u001b[0m     \u001b[38;5;66;03m# We don't know if we need the detailed schedule inputs yet, so we keep this as a future\u001b[39;00m\n\u001b[1;32m     13\u001b[0m     schedule_inputs \u001b[38;5;241m=\u001b[39m channel\u001b[38;5;241m.\u001b[39mconsume(agent_id\u001b[38;5;241m=\u001b[39mgs_agent\u001b[38;5;241m.\u001b[39mid, external_state_id\u001b[38;5;241m=\u001b[39mexternal_state\u001b[38;5;241m.\u001b[39mid)\n",
      "File \u001b[0;32m~/sedaro/notebooks-public/examples/ground_segment_scheduling/.venv/lib/python3.12/site-packages/sedaro/grpc_client/cosim_client.py:255\u001b[0m, in \u001b[0;36mCosimClient.consume\u001b[0;34m(self, external_state_id, agent_id, timestamp)\u001b[0m\n\u001b[1;32m    253\u001b[0m \u001b[38;5;28;01mexcept\u001b[39;00m \u001b[38;5;167;01mException\u001b[39;00m \u001b[38;5;28;01mas\u001b[39;00m e:\n\u001b[1;32m    254\u001b[0m     logging\u001b[38;5;241m.\u001b[39merror(\u001b[38;5;124mf\u001b[39m\u001b[38;5;124m\"\u001b[39m\u001b[38;5;124mConsume operation failed for index \u001b[39m\u001b[38;5;132;01m{\u001b[39;00mindex\u001b[38;5;132;01m}\u001b[39;00m\u001b[38;5;124m: \u001b[39m\u001b[38;5;132;01m{\u001b[39;00me\u001b[38;5;132;01m}\u001b[39;00m\u001b[38;5;124m\"\u001b[39m)\n\u001b[0;32m--> 255\u001b[0m     \u001b[38;5;28;01mraise\u001b[39;00m e\n",
      "File \u001b[0;32m~/sedaro/notebooks-public/examples/ground_segment_scheduling/.venv/lib/python3.12/site-packages/sedaro/grpc_client/cosim_client.py:248\u001b[0m, in \u001b[0;36mCosimClient.consume\u001b[0;34m(self, external_state_id, agent_id, timestamp)\u001b[0m\n\u001b[1;32m    246\u001b[0m simulation_action\u001b[38;5;241m.\u001b[39mconsume\u001b[38;5;241m.\u001b[39mCopyFrom(consume_action)\n\u001b[1;32m    247\u001b[0m \u001b[38;5;28;01mtry\u001b[39;00m:\n\u001b[0;32m--> 248\u001b[0m     response \u001b[38;5;241m=\u001b[39m \u001b[38;5;28;01mawait\u001b[39;00m \u001b[38;5;28mself\u001b[39m\u001b[38;5;241m.\u001b[39m_send_simulation_action(\n\u001b[1;32m    249\u001b[0m         simulation_action,\n\u001b[1;32m    250\u001b[0m     )\n\u001b[1;32m    251\u001b[0m     logging\u001b[38;5;241m.\u001b[39minfo(\u001b[38;5;124mf\u001b[39m\u001b[38;5;124m\"\u001b[39m\u001b[38;5;124mConsumed message with index \u001b[39m\u001b[38;5;132;01m{\u001b[39;00mindex\u001b[38;5;132;01m}\u001b[39;00m\u001b[38;5;124m: \u001b[39m\u001b[38;5;132;01m{\u001b[39;00mresponse\u001b[38;5;132;01m}\u001b[39;00m\u001b[38;5;124m\"\u001b[39m)\n\u001b[1;32m    252\u001b[0m     \u001b[38;5;28;01mreturn\u001b[39;00m \u001b[38;5;28mtuple\u001b[39m(serdes(v) \u001b[38;5;28;01mfor\u001b[39;00m v \u001b[38;5;129;01min\u001b[39;00m json\u001b[38;5;241m.\u001b[39mloads(response)[\u001b[38;5;124m\"\u001b[39m\u001b[38;5;124mpayload\u001b[39m\u001b[38;5;124m\"\u001b[39m])\n",
      "File \u001b[0;32m~/sedaro/notebooks-public/examples/ground_segment_scheduling/.venv/lib/python3.12/site-packages/sedaro/grpc_client/cosim_client.py:162\u001b[0m, in \u001b[0;36mCosimClient._send_simulation_action\u001b[0;34m(self, action)\u001b[0m\n\u001b[1;32m    160\u001b[0m \u001b[38;5;28;01mif\u001b[39;00m response\u001b[38;5;241m.\u001b[39mstate \u001b[38;5;241m!=\u001b[39m cosim_pb2\u001b[38;5;241m.\u001b[39mState\u001b[38;5;241m.\u001b[39mSUCCESS:\n\u001b[1;32m    161\u001b[0m     logging\u001b[38;5;241m.\u001b[39merror(\u001b[38;5;124mf\u001b[39m\u001b[38;5;124m\"\u001b[39m\u001b[38;5;124mUnexpected response state: \u001b[39m\u001b[38;5;132;01m{\u001b[39;00mresponse\u001b[38;5;241m.\u001b[39mstate\u001b[38;5;132;01m}\u001b[39;00m\u001b[38;5;124m\"\u001b[39m)\n\u001b[0;32m--> 162\u001b[0m     \u001b[38;5;28;01mraise\u001b[39;00m \u001b[38;5;167;01mException\u001b[39;00m(\u001b[38;5;124m\"\u001b[39m\u001b[38;5;124mUnexpected response state.\u001b[39m\u001b[38;5;124m\"\u001b[39m)\n\u001b[1;32m    164\u001b[0m \u001b[38;5;28;01mif\u001b[39;00m action\u001b[38;5;241m.\u001b[39mWhichOneof(\u001b[38;5;124m\"\u001b[39m\u001b[38;5;124mrequest\u001b[39m\u001b[38;5;124m\"\u001b[39m) \u001b[38;5;241m==\u001b[39m \u001b[38;5;124m\"\u001b[39m\u001b[38;5;124mconsume\u001b[39m\u001b[38;5;124m\"\u001b[39m:\n\u001b[1;32m    165\u001b[0m     consume_resp \u001b[38;5;241m=\u001b[39m response\u001b[38;5;241m.\u001b[39mWhichOneof(\u001b[38;5;124m\"\u001b[39m\u001b[38;5;124mresponse\u001b[39m\u001b[38;5;124m\"\u001b[39m)\n",
      "\u001b[0;31mException\u001b[0m: Unexpected response state."
     ]
    }
   ],
   "source": [
    "schedules_published = 0\n",
    "schedule = None\n",
    "\n",
    "# Start the simulation. expectation_for_simulation_to_terminate will suppress errors that occur after the sim finishes\n",
    "with scenario.simulation.start(wait=True) as simulation_handle:\n",
    "    print('Simulation started!')\n",
    "    async with simulation_handle.async_channel() as channel:\n",
    "        print('Channel opened!')\n",
    "        # Simulation loop\n",
    "        while True:\n",
    "            ancillary_data = await channel.consume(agent_id=gs_agent.id, external_state_id=ancillary_state.id)\n",
    "            # We don't know if we need the detailed schedule inputs yet, so we keep this as a future\n",
    "            schedule_inputs = channel.consume(agent_id=gs_agent.id, external_state_id=external_state.id)\n",
    "            t_h = ancillary_data[0]\n",
    "            # Check if the schedule period has elapsed\n",
    "            if ceil(t_h / schedule_period) > schedules_published:\n",
    "                print(\"Generating new schedule!\")\n",
    "                schedules_published += 1\n",
    "                # Set _generateNewSchedule to True to trigger contact projection\n",
    "                await channel.produce(agent_id=gs_agent.id, external_state_id=ancillary_state.id,values=(True, schedule_period))\n",
    "                print(\"Getting inputs...\")\n",
    "                (projected_contacts, target_series), interface_ids, tg_targets, mjd = await schedule_inputs\n",
    "                print('Setting up optimizer...')\n",
    "                # Pre-processing to projected contacts as discrete intervals\n",
    "                c_t, contact_intervals, c_location, c_satellite, c_tg, durations, contact_labels = contact_booleans_to_intervals(projected_contacts, tg_targets)\n",
    "                # This runs the optimizer which selects contacts\n",
    "                contacts_selected = optimize_schedule(contact_intervals, c_location, c_tg, durations)\n",
    "                # Parse the optimizer output into a schedule that the sim can interpret\n",
    "                print('Parsing optimizer output...')\n",
    "                schedule = selected_contacts_to_schedule(\n",
    "                    contacts_selected, \n",
    "                    contact_intervals,\n",
    "                    contact_labels,\n",
    "                    target_series,\n",
    "                    interface_ids,\n",
    "                    tg_targets,\n",
    "                    mjd,\n",
    "                    RESOLUTION_SECONDS,\n",
    "                    )\n",
    "                await channel.produce(agent_id=gs_agent.id, external_state_id=external_state.id, values=(schedule,))\n",
    "                print('Done! Simulation is executing the schedule.')\n",
    "            else:\n",
    "                await channel.produce(agent_id=gs_agent.id, external_state_id=ancillary_state.id, values=(False, schedule_period))\n",
    "                await channel.produce(agent_id=gs_agent.id, external_state_id=external_state.id, values=(schedule,))\n",
    "                await schedule_inputs"
   ]
  },
  {
   "cell_type": "markdown",
   "metadata": {},
   "source": [
    "## Plot resulting schedule"
   ]
  },
  {
   "cell_type": "code",
   "execution_count": 6,
   "metadata": {},
   "outputs": [
    {
     "name": "stdout",
     "output_type": "stream",
     "text": [
      "Downloading...\n",
      "...download complete!\n"
     ]
    },
    {
     "data": {
      "application/vnd.plotly.v1+json": {
       "config": {
        "plotlyServerURL": "https://plot.ly"
       },
       "data": [
        {
         "alignmentgroup": "True",
         "base": [
          "2024-10-31T00:15:20.000086+00:00",
          "2024-10-31T03:31:30.000087+00:00",
          "2024-10-31T03:55:40.000086+00:00",
          "2024-10-31T04:21:50.000086+00:00",
          "2024-10-31T06:32:50.000086+00:00",
          "2024-10-31T07:43:20.000086+00:00",
          "2024-10-31T08:00:00.000086+00:00",
          "2024-10-31T09:45:20.000086+00:00",
          "2024-10-31T09:57:20.000086+00:00",
          "2024-10-31T10:33:40.000087+00:00",
          "2024-10-31T02:10:30.000086+00:00",
          "2024-10-31T08:00:00.000086+00:00"
         ],
         "hovertemplate": "target=Spacecraft 1-1<br>start=%{base}<br>end=%{x}<br>antenna=%{y}<extra></extra>",
         "legendgroup": "Spacecraft 1-1",
         "marker": {
          "color": "#636efa",
          "pattern": {
           "shape": ""
          }
         },
         "name": "Spacecraft 1-1",
         "offsetgroup": "Spacecraft 1-1",
         "orientation": "h",
         "showlegend": true,
         "textposition": "auto",
         "type": "bar",
         "x": [
          80000.001,
          749999.999,
          230000,
          710000.001,
          770000.001,
          820000,
          370000.001,
          150000,
          550000,
          59999.999,
          130000,
          370000.001
         ],
         "xaxis": "x",
         "y": [
          "Dundee",
          "Dundee",
          "Dubai",
          "Awarua",
          "Mojave",
          "Awarua",
          "Tahiti",
          "Paumalu",
          "Utqiagvik",
          "Sunyani",
          "Dubai",
          "Tahiti"
         ],
         "yaxis": "y"
        },
        {
         "alignmentgroup": "True",
         "base": [
          "2024-10-31T00:03:20.000086+00:00",
          "2024-10-31T02:27:00.000086+00:00",
          "2024-10-31T04:09:30.000086+00:00",
          "2024-10-31T05:24:50.000086+00:00",
          "2024-10-31T05:50:50.000086+00:00",
          "2024-10-31T06:58:20.000086+00:00",
          "2024-10-31T07:31:30.000086+00:00",
          "2024-10-31T08:46:20.000086+00:00",
          "2024-10-31T09:16:00.000086+00:00",
          "2024-10-31T09:35:40.000086+00:00",
          "2024-10-31T11:23:40.000086+00:00",
          "2024-10-31T10:13:50.000086+00:00"
         ],
         "hovertemplate": "target=Spacecraft 1-2<br>start=%{base}<br>end=%{x}<br>antenna=%{y}<extra></extra>",
         "legendgroup": "Spacecraft 1-2",
         "marker": {
          "color": "#EF553B",
          "pattern": {
           "shape": ""
          }
         },
         "name": "Spacecraft 1-2",
         "offsetgroup": "Spacecraft 1-2",
         "orientation": "h",
         "showlegend": true,
         "textposition": "auto",
         "type": "bar",
         "x": [
          20000.001,
          760000,
          710000,
          60000,
          1560000,
          450000.001,
          710000,
          50000,
          460000,
          580000,
          680000,
          630000
         ],
         "xaxis": "x",
         "y": [
          "Dundee",
          "Awarua",
          "Awarua",
          "Dubai",
          "Awarua",
          "Mwulire",
          "Awarua",
          "Mwulire",
          "Awarua",
          "Paumalu",
          "Utqiagvik",
          "Sunyani"
         ],
         "yaxis": "y"
        },
        {
         "alignmentgroup": "True",
         "base": [
          "2024-10-31T00:16:40.000087+00:00",
          "2024-10-31T01:26:00.000086+00:00",
          "2024-10-31T03:07:00.000086+00:00",
          "2024-10-31T04:00:00.000086+00:00",
          "2024-10-31T04:33:40.000087+00:00",
          "2024-10-31T04:48:00.000086+00:00",
          "2024-10-31T05:38:50.000086+00:00",
          "2024-10-31T09:00:40.000087+00:00",
          "2024-10-31T10:06:30.000086+00:00",
          "2024-10-31T10:53:20.000086+00:00",
          "2024-10-31T10:58:40.000086+00:00",
          "2024-10-31T11:12:20.000086+00:00"
         ],
         "hovertemplate": "target=Spacecraft 1-3<br>start=%{base}<br>end=%{x}<br>antenna=%{y}<extra></extra>",
         "legendgroup": "Spacecraft 1-3",
         "marker": {
          "color": "#00cc96",
          "pattern": {
           "shape": ""
          }
         },
         "name": "Spacecraft 1-3",
         "offsetgroup": "Spacecraft 1-3",
         "orientation": "h",
         "showlegend": true,
         "textposition": "auto",
         "type": "bar",
         "x": [
          649999.999,
          820000,
          820000,
          540000,
          79999.999,
          100000,
          720000,
          519999.999,
          230000,
          200000,
          20000,
          670000
         ],
         "xaxis": "x",
         "y": [
          "Harmon",
          "Dundee",
          "Dundee",
          "Awarua",
          "Mojave",
          "Dundee",
          "Awarua",
          "Awarua",
          "Sunyani",
          "Harmon",
          "Harmon",
          "Utqiagvik"
         ],
         "yaxis": "y"
        },
        {
         "alignmentgroup": "True",
         "base": [
          "2024-10-31T00:03:40.000087+00:00",
          "2024-10-31T01:13:10.000086+00:00",
          "2024-10-31T02:01:30.000087+00:00",
          "2024-10-31T03:44:00.000086+00:00",
          "2024-10-31T04:49:40.000086+00:00",
          "2024-10-31T07:19:10.000086+00:00",
          "2024-10-31T08:47:10.000086+00:00",
          "2024-10-31T09:47:50.000086+00:00",
          "2024-10-31T10:45:10.000086+00:00",
          "2024-10-31T10:59:00.000086+00:00"
         ],
         "hovertemplate": "target=Spacecraft 1-4<br>start=%{base}<br>end=%{x}<br>antenna=%{y}<extra></extra>",
         "legendgroup": "Spacecraft 1-4",
         "marker": {
          "color": "#ab63fa",
          "pattern": {
           "shape": ""
          }
         },
         "name": "Spacecraft 1-4",
         "offsetgroup": "Spacecraft 1-4",
         "orientation": "h",
         "showlegend": true,
         "textposition": "auto",
         "type": "bar",
         "x": [
          699999.999,
          770000,
          769999.999,
          700000,
          640000,
          740000,
          730000,
          570000,
          310000,
          660000
         ],
         "xaxis": "x",
         "y": [
          "Harmon",
          "Dundee",
          "Awarua",
          "Awarua",
          "Dubai",
          "Tahiti",
          "Awarua",
          "Sunyani",
          "Harmon",
          "Utqiagvik"
         ],
         "yaxis": "y"
        },
        {
         "alignmentgroup": "True",
         "base": [
          "2024-10-31T00:00:00.000086+00:00",
          "2024-10-31T01:00:40.000086+00:00",
          "2024-10-31T01:48:30.000086+00:00",
          "2024-10-31T02:41:10.000087+00:00",
          "2024-10-31T05:12:30.000086+00:00",
          "2024-10-31T05:25:50.000086+00:00",
          "2024-10-31T06:20:50.000087+00:00",
          "2024-10-31T07:05:50.000087+00:00",
          "2024-10-31T07:57:00.000086+00:00",
          "2024-10-31T08:06:10.000087+00:00",
          "2024-10-31T08:33:40.000086+00:00",
          "2024-10-31T08:38:20.000086+00:00",
          "2024-10-31T09:09:20.000086+00:00"
         ],
         "hovertemplate": "target=Spacecraft 1-5<br>start=%{base}<br>end=%{x}<br>antenna=%{y}<extra></extra>",
         "legendgroup": "Spacecraft 1-5",
         "marker": {
          "color": "#FFA15A",
          "pattern": {
           "shape": ""
          }
         },
         "name": "Spacecraft 1-5",
         "offsetgroup": "Spacecraft 1-5",
         "orientation": "h",
         "showlegend": true,
         "textposition": "auto",
         "type": "bar",
         "x": [
          200000,
          750000,
          780000.001,
          689999.999,
          740000,
          710000,
          719999.999,
          749999.999,
          170000,
          229999.999,
          90000,
          480000,
          400000
         ],
         "xaxis": "x",
         "y": [
          "Harmon",
          "Dundee",
          "Awarua",
          "Dundee",
          "Awarua",
          "Tahiti",
          "Mwulire",
          "Tahiti",
          "Sunyani",
          "Mwulire",
          "Awarua",
          "Awarua",
          "Utqiagvik"
         ],
         "yaxis": "y"
        },
        {
         "alignmentgroup": "True",
         "base": [
          "2024-10-31T00:48:10.000086+00:00",
          "2024-10-31T05:00:20.000086+00:00",
          "2024-10-31T05:37:40.000086+00:00",
          "2024-10-31T06:16:50.000086+00:00",
          "2024-10-31T07:18:20.000086+00:00",
          "2024-10-31T08:21:50.000086+00:00",
          "2024-10-31T09:23:40.000086+00:00",
          "2024-10-31T10:20:00.000087+00:00",
          "2024-10-31T10:34:40.000086+00:00",
          "2024-10-31T03:18:20.000086+00:00"
         ],
         "hovertemplate": "target=Spacecraft 1-6<br>start=%{base}<br>end=%{x}<br>antenna=%{y}<extra></extra>",
         "legendgroup": "Spacecraft 1-6",
         "marker": {
          "color": "#19d3f3",
          "pattern": {
           "shape": ""
          }
         },
         "name": "Spacecraft 1-6",
         "offsetgroup": "Spacecraft 1-6",
         "orientation": "h",
         "showlegend": true,
         "textposition": "auto",
         "type": "bar",
         "x": [
          750000,
          730000,
          70000,
          240000.001,
          50000,
          710000,
          720000,
          180000,
          630000,
          720000
         ],
         "xaxis": "x",
         "y": [
          "Dundee",
          "Awarua",
          "Mojave",
          "Mwulire",
          "Mojave",
          "Awarua",
          "Sunyani",
          "Harmon",
          "Utqiagvik",
          "Awarua"
         ],
         "yaxis": "y"
        },
        {
         "alignmentgroup": "True",
         "base": [
          "2024-10-31T00:35:40.000086+00:00",
          "2024-10-31T02:16:20.000086+00:00",
          "2024-10-31T04:09:00.000086+00:00",
          "2024-10-31T04:21:20.000086+00:00",
          "2024-10-31T06:54:00.000087+00:00",
          "2024-10-31T08:10:00.000086+00:00",
          "2024-10-31T10:23:10.000086+00:00",
          "2024-10-31T10:56:40.000086+00:00",
          "2024-10-31T11:42:10.000086+00:00",
          "2024-10-31T03:57:20.000086+00:00",
          "2024-10-31T06:41:30.000087+00:00"
         ],
         "hovertemplate": "target=Spacecraft 1-7<br>start=%{base}<br>end=%{x}<br>antenna=%{y}<extra></extra>",
         "legendgroup": "Spacecraft 1-7",
         "marker": {
          "color": "#FF6692",
          "pattern": {
           "shape": ""
          }
         },
         "name": "Spacecraft 1-7",
         "offsetgroup": "Spacecraft 1-7",
         "orientation": "h",
         "showlegend": true,
         "textposition": "auto",
         "type": "bar",
         "x": [
          750000,
          640000,
          30000,
          30000,
          259999.999,
          710000,
          630000.001,
          120000,
          360000,
          150000,
          820000
         ],
         "xaxis": "x",
         "y": [
          "Dundee",
          "Dundee",
          "Dundee",
          "Dubai",
          "Paumalu",
          "Awarua",
          "Utqiagvik",
          "Sunyani",
          "Harmon",
          "Dundee",
          "Tahiti"
         ],
         "yaxis": "y"
        },
        {
         "alignmentgroup": "True",
         "base": [
          "2024-10-31T00:27:30.000086+00:00",
          "2024-10-31T02:52:40.000086+00:00",
          "2024-10-31T04:35:00.000086+00:00",
          "2024-10-31T06:45:40.000087+00:00",
          "2024-10-31T08:35:10.000086+00:00",
          "2024-10-31T08:59:20.000086+00:00",
          "2024-10-31T10:10:20.000086+00:00",
          "2024-10-31T11:35:00.000086+00:00",
          "2024-10-31T11:48:10.000086+00:00",
          "2024-10-31T07:56:50.000086+00:00"
         ],
         "hovertemplate": "target=Spacecraft 1-8<br>start=%{base}<br>end=%{x}<br>antenna=%{y}<extra></extra>",
         "legendgroup": "Spacecraft 1-8",
         "marker": {
          "color": "#B6E880",
          "pattern": {
           "shape": ""
          }
         },
         "name": "Spacecraft 1-8",
         "offsetgroup": "Spacecraft 1-8",
         "orientation": "h",
         "showlegend": true,
         "textposition": "auto",
         "type": "bar",
         "x": [
          490000,
          740000,
          710000,
          500000,
          190000,
          80000.001,
          580000.001,
          420000,
          700000,
          180000
         ],
         "xaxis": "x",
         "y": [
          "Dundee",
          "Awarua",
          "Awarua",
          "Mojave",
          "Utqiagvik",
          "Sunyani",
          "Utqiagvik",
          "Harmon",
          "Utqiagvik",
          "Awarua"
         ],
         "yaxis": "y"
        },
        {
         "alignmentgroup": "True",
         "base": [
          "2024-10-31T00:08:20.000087+00:00",
          "2024-10-31T01:25:10.000086+00:00",
          "2024-10-31T01:49:10.000086+00:00",
          "2024-10-31T02:03:40.000086+00:00",
          "2024-10-31T02:59:30.000087+00:00",
          "2024-10-31T04:34:20.000086+00:00",
          "2024-10-31T06:59:00.000086+00:00",
          "2024-10-31T07:12:00.000086+00:00",
          "2024-10-31T08:08:20.000086+00:00",
          "2024-10-31T10:33:30.000086+00:00",
          "2024-10-31T11:27:50.000086+00:00"
         ],
         "hovertemplate": "target=Spacecraft 2-1<br>start=%{base}<br>end=%{x}<br>antenna=%{y}<extra></extra>",
         "legendgroup": "Spacecraft 2-1",
         "marker": {
          "color": "#FF97FF",
          "pattern": {
           "shape": ""
          }
         },
         "name": "Spacecraft 2-1",
         "offsetgroup": "Spacecraft 2-1",
         "orientation": "h",
         "showlegend": true,
         "textposition": "auto",
         "type": "bar",
         "x": [
          1479999.999,
          670000,
          10000,
          90000,
          739999.999,
          680000,
          70000,
          750000,
          110000,
          750000,
          520000
         ],
         "xaxis": "x",
         "y": [
          "Chitose",
          "Dubai",
          "Chitose",
          "Paumalu",
          "Mwulire",
          "Sunyani",
          "Harmon",
          "Awarua",
          "Dundee",
          "Awarua",
          "Dundee"
         ],
         "yaxis": "y"
        },
        {
         "alignmentgroup": "True",
         "base": [
          "2024-10-31T01:36:20.000086+00:00",
          "2024-10-31T03:37:00.000086+00:00",
          "2024-10-31T04:24:10.000087+00:00",
          "2024-10-31T06:01:20.000086+00:00",
          "2024-10-31T07:00:10.000086+00:00",
          "2024-10-31T07:52:50.000086+00:00"
         ],
         "hovertemplate": "target=Spacecraft 2-2<br>start=%{base}<br>end=%{x}<br>antenna=%{y}<extra></extra>",
         "legendgroup": "Spacecraft 2-2",
         "marker": {
          "color": "#FECB52",
          "pattern": {
           "shape": ""
          }
         },
         "name": "Spacecraft 2-2",
         "offsetgroup": "Spacecraft 2-2",
         "orientation": "h",
         "showlegend": true,
         "textposition": "auto",
         "type": "bar",
         "x": [
          50000.001,
          820000,
          609999.999,
          670000.001,
          710000,
          420000
         ],
         "xaxis": "x",
         "y": [
          "Chitose",
          "Tahiti",
          "Mwulire",
          "Sunyani",
          "Awarua",
          "Dundee"
         ],
         "yaxis": "y"
        },
        {
         "alignmentgroup": "True",
         "base": [
          "2024-10-31T00:00:00.000086+00:00",
          "2024-10-31T01:21:30.000086+00:00",
          "2024-10-31T02:29:30.000086+00:00",
          "2024-10-31T04:15:00.000086+00:00",
          "2024-10-31T05:05:50.000086+00:00",
          "2024-10-31T06:47:40.000086+00:00",
          "2024-10-31T07:33:20.000086+00:00",
          "2024-10-31T07:39:50.000086+00:00",
          "2024-10-31T08:10:10.000086+00:00",
          "2024-10-31T09:19:20.000086+00:00",
          "2024-10-31T10:07:50.000086+00:00",
          "2024-10-31T11:00:10.000086+00:00",
          "2024-10-31T11:25:00.000086+00:00",
          "2024-10-31T01:38:00.000086+00:00",
          "2024-10-31T11:50:20.000086+00:00"
         ],
         "hovertemplate": "target=Spacecraft 2-3<br>start=%{base}<br>end=%{x}<br>antenna=%{y}<extra></extra>",
         "legendgroup": "Spacecraft 2-3",
         "marker": {
          "color": "#636efa",
          "pattern": {
           "shape": ""
          }
         },
         "name": "Spacecraft 2-3",
         "offsetgroup": "Spacecraft 2-3",
         "orientation": "h",
         "showlegend": true,
         "textposition": "auto",
         "type": "bar",
         "x": [
          500000.001,
          180000,
          780000,
          420000,
          680000,
          680000,
          250000,
          770000,
          650000.001,
          830000,
          770000,
          770000,
          170000,
          370000,
          570000
         ],
         "xaxis": "x",
         "y": [
          "Mojave",
          "Chitose",
          "Mwulire",
          "Mwulire",
          "Tahiti",
          "Awarua",
          "Sunyani",
          "Dundee",
          "Harmon",
          "Dundee",
          "Awarua",
          "Dundee",
          "Dubai",
          "Mojave",
          "Awarua"
         ],
         "yaxis": "y"
        },
        {
         "alignmentgroup": "True",
         "base": [
          "2024-10-31T01:09:30.000086+00:00",
          "2024-10-31T01:24:30.000086+00:00",
          "2024-10-31T02:17:10.000086+00:00",
          "2024-10-31T03:11:50.000086+00:00",
          "2024-10-31T03:59:00.000086+00:00",
          "2024-10-31T04:00:00.000086+00:00",
          "2024-10-31T04:52:20.000086+00:00",
          "2024-10-31T05:35:00.000086+00:00",
          "2024-10-31T06:21:00.000086+00:00",
          "2024-10-31T06:35:00.000087+00:00",
          "2024-10-31T07:32:30.000086+00:00",
          "2024-10-31T07:37:30.000086+00:00",
          "2024-10-31T08:00:00.000086+00:00",
          "2024-10-31T09:06:00.000087+00:00",
          "2024-10-31T10:46:40.000087+00:00",
          "2024-10-31T11:36:30.000086+00:00",
          "2024-10-31T05:50:50.000086+00:00"
         ],
         "hovertemplate": "target=Spacecraft 2-4<br>start=%{base}<br>end=%{x}<br>antenna=%{y}<extra></extra>",
         "legendgroup": "Spacecraft 2-4",
         "marker": {
          "color": "#EF553B",
          "pattern": {
           "shape": ""
          }
         },
         "name": "Spacecraft 2-4",
         "offsetgroup": "Spacecraft 2-4",
         "orientation": "h",
         "showlegend": true,
         "textposition": "auto",
         "type": "bar",
         "x": [
          720000,
          40000,
          730000,
          760000,
          50000,
          100000.001,
          730000,
          630000,
          270000.001,
          640000,
          50000,
          100000,
          500000,
          799999.999,
          809999.999,
          700000,
          390000
         ],
         "xaxis": "x",
         "y": [
          "Chitose",
          "Mojave",
          "Mwulire",
          "Tahiti",
          "Sunyani",
          "Mwulire",
          "Tahiti",
          "Sunyani",
          "Harmon",
          "Awarua",
          "Dundee",
          "Dundee",
          "Harmon",
          "Dundee",
          "Dundee",
          "Awarua",
          "Dundee"
         ],
         "yaxis": "y"
        },
        {
         "alignmentgroup": "True",
         "base": [
          "2024-10-31T00:57:20.000086+00:00",
          "2024-10-31T02:05:10.000086+00:00",
          "2024-10-31T03:50:40.000086+00:00",
          "2024-10-31T04:22:00.000086+00:00",
          "2024-10-31T05:56:20.000086+00:00",
          "2024-10-31T08:54:20.000086+00:00",
          "2024-10-31T09:42:20.000086+00:00"
         ],
         "hovertemplate": "target=Spacecraft 2-5<br>start=%{base}<br>end=%{x}<br>antenna=%{y}<extra></extra>",
         "legendgroup": "Spacecraft 2-5",
         "marker": {
          "color": "#00cc96",
          "pattern": {
           "shape": ""
          }
         },
         "name": "Spacecraft 2-5",
         "offsetgroup": "Spacecraft 2-5",
         "orientation": "h",
         "showlegend": true,
         "textposition": "auto",
         "type": "bar",
         "x": [
          730000,
          690000,
          420000,
          130000.001,
          300000,
          700000.001,
          790000
         ],
         "xaxis": "x",
         "y": [
          "Chitose",
          "Mwulire",
          "Mwulire",
          "Chitose",
          "Chitose",
          "Dundee",
          "Awarua"
         ],
         "yaxis": "y"
        },
        {
         "alignmentgroup": "True",
         "base": [
          "2024-10-31T00:45:00.000086+00:00",
          "2024-10-31T01:53:20.000086+00:00",
          "2024-10-31T02:42:30.000086+00:00",
          "2024-10-31T05:17:10.000086+00:00",
          "2024-10-31T06:12:30.000087+00:00",
          "2024-10-31T08:42:30.000086+00:00",
          "2024-10-31T10:23:10.000086+00:00",
          "2024-10-31T11:13:00.000086+00:00",
          "2024-10-31T00:47:00.000086+00:00"
         ],
         "hovertemplate": "target=Spacecraft 2-6<br>start=%{base}<br>end=%{x}<br>antenna=%{y}<extra></extra>",
         "legendgroup": "Spacecraft 2-6",
         "marker": {
          "color": "#ab63fa",
          "pattern": {
           "shape": ""
          }
         },
         "name": "Spacecraft 2-6",
         "offsetgroup": "Spacecraft 2-6",
         "orientation": "h",
         "showlegend": true,
         "textposition": "auto",
         "type": "bar",
         "x": [
          30000,
          620000,
          1020000.001,
          420000,
          509999.999,
          710000,
          620000,
          720000,
          630000.001
         ],
         "xaxis": "x",
         "y": [
          "Chitose",
          "Mwulire",
          "Paumalu",
          "Sunyani",
          "Awarua",
          "Dundee",
          "Dundee",
          "Awarua",
          "Utqiagvik"
         ],
         "yaxis": "y"
        },
        {
         "alignmentgroup": "True",
         "base": [
          "2024-10-31T00:45:30.000086+00:00",
          "2024-10-31T01:49:20.000086+00:00",
          "2024-10-31T02:29:20.000086+00:00",
          "2024-10-31T03:24:30.000086+00:00",
          "2024-10-31T03:57:40.000086+00:00",
          "2024-10-31T05:04:30.000086+00:00",
          "2024-10-31T05:31:10.000086+00:00",
          "2024-10-31T06:45:40.000087+00:00",
          "2024-10-31T07:24:30.000086+00:00",
          "2024-10-31T08:29:20.000086+00:00",
          "2024-10-31T05:40:00.000086+00:00"
         ],
         "hovertemplate": "target=Spacecraft 2-7<br>start=%{base}<br>end=%{x}<br>antenna=%{y}<extra></extra>",
         "legendgroup": "Spacecraft 2-7",
         "marker": {
          "color": "#FFA15A",
          "pattern": {
           "shape": ""
          }
         },
         "name": "Spacecraft 2-7",
         "offsetgroup": "Spacecraft 2-7",
         "orientation": "h",
         "showlegend": true,
         "textposition": "auto",
         "type": "bar",
         "x": [
          710000,
          240000,
          10000,
          750000,
          80000,
          80000,
          230000,
          119999.999,
          480000,
          790000,
          610000
         ],
         "xaxis": "x",
         "y": [
          "Mojave",
          "Dubai",
          "Paumalu",
          "Mwulire",
          "Chitose",
          "Sunyani",
          "Chitose",
          "Sunyani",
          "Harmon",
          "Dundee",
          "Harmon"
         ],
         "yaxis": "y"
        },
        {
         "alignmentgroup": "True",
         "base": [
          "2024-10-31T00:33:00.000086+00:00",
          "2024-10-31T01:37:10.000087+00:00",
          "2024-10-31T02:16:40.000086+00:00",
          "2024-10-31T04:01:40.000087+00:00",
          "2024-10-31T04:45:40.000086+00:00",
          "2024-10-31T05:24:10.000086+00:00",
          "2024-10-31T05:45:30.000086+00:00",
          "2024-10-31T06:25:30.000087+00:00",
          "2024-10-31T08:21:00.000087+00:00",
          "2024-10-31T09:56:10.000086+00:00"
         ],
         "hovertemplate": "target=Spacecraft 2-8<br>start=%{base}<br>end=%{x}<br>antenna=%{y}<extra></extra>",
         "legendgroup": "Spacecraft 2-8",
         "marker": {
          "color": "#19d3f3",
          "pattern": {
           "shape": ""
          }
         },
         "name": "Spacecraft 2-8",
         "offsetgroup": "Spacecraft 2-8",
         "orientation": "h",
         "showlegend": true,
         "textposition": "auto",
         "type": "bar",
         "x": [
          720000,
          719999.999,
          30000,
          799999.999,
          400000,
          420000,
          420000,
          570000,
          499999.999,
          700000
         ],
         "xaxis": "x",
         "y": [
          "Mojave",
          "Dubai",
          "Paumalu",
          "Tahiti",
          "Sunyani",
          "Chitose",
          "Tahiti",
          "Sunyani",
          "Dundee",
          "Dundee"
         ],
         "yaxis": "y"
        },
        {
         "alignmentgroup": "True",
         "base": [
          "2024-10-31T00:53:40.000086+00:00",
          "2024-10-31T01:28:40.000086+00:00",
          "2024-10-31T02:01:10.000086+00:00",
          "2024-10-31T02:51:10.000087+00:00",
          "2024-10-31T03:05:50.000086+00:00",
          "2024-10-31T04:30:50.000086+00:00",
          "2024-10-31T04:44:30.000086+00:00",
          "2024-10-31T06:19:50.000086+00:00",
          "2024-10-31T09:26:30.000086+00:00",
          "2024-10-31T09:39:30.000086+00:00",
          "2024-10-31T10:52:50.000086+00:00",
          "2024-10-31T08:00:00.000086+00:00"
         ],
         "hovertemplate": "target=Spacecraft 3-1<br>start=%{base}<br>end=%{x}<br>antenna=%{y}<extra></extra>",
         "legendgroup": "Spacecraft 3-1",
         "marker": {
          "color": "#FF6692",
          "pattern": {
           "shape": ""
          }
         },
         "name": "Spacecraft 3-1",
         "offsetgroup": "Spacecraft 3-1",
         "orientation": "h",
         "showlegend": true,
         "textposition": "auto",
         "type": "bar",
         "x": [
          740000,
          460000,
          210000,
          349999.999,
          660000,
          50000,
          740000,
          380000.001,
          250000,
          160000,
          580000,
          410000
         ],
         "xaxis": "x",
         "y": [
          "Awarua",
          "Utqiagvik",
          "Sunyani",
          "Harmon",
          "Utqiagvik",
          "Harmon",
          "Utqiagvik",
          "Chitose",
          "Dubai",
          "Chitose",
          "Mwulire",
          "Chitose"
         ],
         "yaxis": "y"
        },
        {
         "alignmentgroup": "True",
         "base": [
          "2024-10-31T00:02:00.000086+00:00",
          "2024-10-31T00:40:50.000086+00:00",
          "2024-10-31T01:06:00.000086+00:00",
          "2024-10-31T01:41:30.000086+00:00",
          "2024-10-31T04:31:40.000086+00:00",
          "2024-10-31T07:49:40.000086+00:00",
          "2024-10-31T08:01:00.000086+00:00",
          "2024-10-31T09:30:40.000086+00:00",
          "2024-10-31T10:35:30.000086+00:00",
          "2024-10-31T11:25:20.000086+00:00"
         ],
         "hovertemplate": "target=Spacecraft 3-2<br>start=%{base}<br>end=%{x}<br>antenna=%{y}<extra></extra>",
         "legendgroup": "Spacecraft 3-2",
         "marker": {
          "color": "#B6E880",
          "pattern": {
           "shape": ""
          }
         },
         "name": "Spacecraft 3-2",
         "offsetgroup": "Spacecraft 3-2",
         "orientation": "h",
         "showlegend": true,
         "textposition": "auto",
         "type": "bar",
         "x": [
          60000.001,
          770000,
          20000,
          650000,
          730000,
          610000,
          790000,
          530000,
          360000,
          20000
         ],
         "xaxis": "x",
         "y": [
          "Sunyani",
          "Awarua",
          "Paumalu",
          "Sunyani",
          "Utqiagvik",
          "Chitose",
          "Mojave",
          "Utqiagvik",
          "Mwulire",
          "Paumalu"
         ],
         "yaxis": "y"
        },
        {
         "alignmentgroup": "True",
         "base": [
          "2024-10-31T00:28:20.000086+00:00",
          "2024-10-31T02:40:50.000086+00:00",
          "2024-10-31T04:00:00.000086+00:00",
          "2024-10-31T04:19:00.000086+00:00",
          "2024-10-31T05:58:00.000086+00:00",
          "2024-10-31T09:10:50.000086+00:00",
          "2024-10-31T10:22:20.000086+00:00"
         ],
         "hovertemplate": "target=Spacecraft 3-3<br>start=%{base}<br>end=%{x}<br>antenna=%{y}<extra></extra>",
         "legendgroup": "Spacecraft 3-3",
         "marker": {
          "color": "#FF97FF",
          "pattern": {
           "shape": ""
          }
         },
         "name": "Spacecraft 3-3",
         "offsetgroup": "Spacecraft 3-3",
         "orientation": "h",
         "showlegend": true,
         "textposition": "auto",
         "type": "bar",
         "x": [
          750000,
          620000.001,
          420000.001,
          710000,
          1310000,
          940000,
          750000.001
         ],
         "xaxis": "x",
         "y": [
          "Awarua",
          "Utqiagvik",
          "Harmon",
          "Utqiagvik",
          "Utqiagvik",
          "Chitose",
          "Mwulire"
         ],
         "yaxis": "y"
        },
        {
         "alignmentgroup": "True",
         "base": [
          "2024-10-31T00:15:40.000086+00:00",
          "2024-10-31T01:18:00.000086+00:00",
          "2024-10-31T02:28:50.000086+00:00",
          "2024-10-31T03:02:00.000086+00:00",
          "2024-10-31T03:54:00.000087+00:00",
          "2024-10-31T04:07:00.000087+00:00",
          "2024-10-31T05:33:30.000086+00:00",
          "2024-10-31T05:56:00.000086+00:00",
          "2024-10-31T07:15:40.000086+00:00",
          "2024-10-31T09:04:10.000086+00:00",
          "2024-10-31T11:02:30.000086+00:00",
          "2024-10-31T11:51:10.000087+00:00",
          "2024-10-31T04:00:00.000086+00:00"
         ],
         "hovertemplate": "target=Spacecraft 3-4<br>start=%{base}<br>end=%{x}<br>antenna=%{y}<extra></extra>",
         "legendgroup": "Spacecraft 3-4",
         "marker": {
          "color": "#FECB52",
          "pattern": {
           "shape": ""
          }
         },
         "name": "Spacecraft 3-4",
         "offsetgroup": "Spacecraft 3-4",
         "orientation": "h",
         "showlegend": true,
         "textposition": "auto",
         "type": "bar",
         "x": [
          760000,
          640000,
          610000,
          130000,
          59999.999,
          710000,
          40000,
          120000,
          2040000,
          310000,
          960000,
          250000,
          370000
         ],
         "xaxis": "x",
         "y": [
          "Awarua",
          "Sunyani",
          "Utqiagvik",
          "Sunyani",
          "Harmon",
          "Utqiagvik",
          "Harmon",
          "Mojave",
          "Chitose",
          "Chitose",
          "Paumalu",
          "Mwulire",
          "Chitose"
         ],
         "yaxis": "y"
        },
        {
         "alignmentgroup": "True",
         "base": [
          "2024-10-31T00:03:00.000087+00:00",
          "2024-10-31T02:16:50.000087+00:00",
          "2024-10-31T03:55:00.000086+00:00",
          "2024-10-31T05:34:10.000086+00:00",
          "2024-10-31T07:11:10.000087+00:00",
          "2024-10-31T08:51:00.000086+00:00",
          "2024-10-31T09:59:40.000086+00:00",
          "2024-10-31T00:41:20.000086+00:00",
          "2024-10-31T05:17:10.000086+00:00",
          "2024-10-31T09:05:50.000086+00:00"
         ],
         "hovertemplate": "target=Spacecraft 3-5<br>start=%{base}<br>end=%{x}<br>antenna=%{y}<extra></extra>",
         "legendgroup": "Spacecraft 3-5",
         "marker": {
          "color": "#636efa",
          "pattern": {
           "shape": ""
          }
         },
         "name": "Spacecraft 3-5",
         "offsetgroup": "Spacecraft 3-5",
         "orientation": "h",
         "showlegend": true,
         "textposition": "auto",
         "type": "bar",
         "x": [
          759999.999,
          599999.999,
          290000,
          1270000.001,
          269999.999,
          790000,
          690000.001,
          240000,
          670000,
          590000
         ],
         "xaxis": "x",
         "y": [
          "Awarua",
          "Utqiagvik",
          "Utqiagvik",
          "Utqiagvik",
          "Chitose",
          "Chitose",
          "Mwulire",
          "Utqiagvik",
          "Harmon",
          "Mojave"
         ],
         "yaxis": "y"
        },
        {
         "alignmentgroup": "True",
         "base": [
          "2024-10-31T02:04:40.000086+00:00",
          "2024-10-31T02:39:00.000086+00:00",
          "2024-10-31T03:42:20.000086+00:00",
          "2024-10-31T05:21:20.000086+00:00",
          "2024-10-31T08:40:30.000087+00:00",
          "2024-10-31T09:55:20.000086+00:00",
          "2024-10-31T10:34:50.000087+00:00",
          "2024-10-31T10:41:30.000086+00:00",
          "2024-10-31T11:25:40.000086+00:00"
         ],
         "hovertemplate": "target=Spacecraft 3-6<br>start=%{base}<br>end=%{x}<br>antenna=%{y}<extra></extra>",
         "legendgroup": "Spacecraft 3-6",
         "marker": {
          "color": "#EF553B",
          "pattern": {
           "shape": ""
          }
         },
         "name": "Spacecraft 3-6",
         "offsetgroup": "Spacecraft 3-6",
         "orientation": "h",
         "showlegend": true,
         "textposition": "auto",
         "type": "bar",
         "x": [
          560000,
          110000,
          700000.001,
          730000,
          629999.999,
          260000,
          39999.999,
          680000,
          1180000
         ],
         "xaxis": "x",
         "y": [
          "Utqiagvik",
          "Sunyani",
          "Utqiagvik",
          "Utqiagvik",
          "Utqiagvik",
          "Dubai",
          "Paumalu",
          "Tahiti",
          "Mwulire"
         ],
         "yaxis": "y"
        },
        {
         "alignmentgroup": "True",
         "base": [
          "2024-10-31T00:00:00.000086+00:00",
          "2024-10-31T01:39:40.000086+00:00",
          "2024-10-31T01:52:20.000086+00:00",
          "2024-10-31T02:26:50.000086+00:00",
          "2024-10-31T03:29:50.000086+00:00",
          "2024-10-31T04:56:50.000086+00:00",
          "2024-10-31T06:36:50.000086+00:00",
          "2024-10-31T08:38:20.000086+00:00",
          "2024-10-31T09:42:10.000086+00:00",
          "2024-10-31T10:16:00.000086+00:00",
          "2024-10-31T11:18:30.000086+00:00",
          "2024-10-31T00:00:00.000086+00:00",
          "2024-10-31T01:19:00.000086+00:00"
         ],
         "hovertemplate": "target=Spacecraft 3-7<br>start=%{base}<br>end=%{x}<br>antenna=%{y}<extra></extra>",
         "legendgroup": "Spacecraft 3-7",
         "marker": {
          "color": "#00cc96",
          "pattern": {
           "shape": ""
          }
         },
         "name": "Spacecraft 3-7",
         "offsetgroup": "Spacecraft 3-7",
         "orientation": "h",
         "showlegend": true,
         "textposition": "auto",
         "type": "bar",
         "x": [
          120000,
          110000,
          530000,
          120000,
          680000,
          1430000,
          2060000.001,
          130000.001,
          750000,
          380000,
          410000,
          100000,
          660000
         ],
         "xaxis": "x",
         "y": [
          "Paumalu",
          "Paumalu",
          "Utqiagvik",
          "Sunyani",
          "Utqiagvik",
          "Harmon",
          "Chitose",
          "Mojave",
          "Dubai",
          "Paumalu",
          "Mwulire",
          "Tahiti",
          "Awarua"
         ],
         "yaxis": "y"
        },
        {
         "alignmentgroup": "True",
         "base": [
          "2024-10-31T01:06:20.000086+00:00",
          "2024-10-31T01:36:20.000086+00:00",
          "2024-10-31T02:14:00.000086+00:00",
          "2024-10-31T02:58:50.000086+00:00",
          "2024-10-31T03:04:10.000086+00:00",
          "2024-10-31T03:17:50.000087+00:00",
          "2024-10-31T06:26:10.000087+00:00",
          "2024-10-31T08:14:10.000086+00:00",
          "2024-10-31T09:54:40.000086+00:00",
          "2024-10-31T10:11:10.000087+00:00",
          "2024-10-31T11:45:20.000086+00:00",
          "2024-10-31T11:55:20.000087+00:00"
         ],
         "hovertemplate": "target=Spacecraft 3-8<br>start=%{base}<br>end=%{x}<br>antenna=%{y}<extra></extra>",
         "legendgroup": "Spacecraft 3-8",
         "marker": {
          "color": "#ab63fa",
          "pattern": {
           "shape": ""
          }
         },
         "name": "Spacecraft 3-8",
         "offsetgroup": "Spacecraft 3-8",
         "orientation": "h",
         "showlegend": true,
         "textposition": "auto",
         "type": "bar",
         "x": [
          700000,
          200000,
          170000.001,
          190000,
          100000,
          669999.999,
          639999.999,
          1450000,
          40000,
          289999.999,
          350000.001,
          269999.999
         ],
         "xaxis": "x",
         "y": [
          "Awarua",
          "Paumalu",
          "Sunyani",
          "Harmon",
          "Harmon",
          "Utqiagvik",
          "Chitose",
          "Chitose",
          "Chitose",
          "Paumalu",
          "Paumalu",
          "Tahiti"
         ],
         "yaxis": "y"
        }
       ],
       "layout": {
        "barmode": "overlay",
        "legend": {
         "title": {
          "text": "target"
         },
         "tracegroupgap": 0,
         "traceorder": "normal"
        },
        "template": {
         "data": {
          "bar": [
           {
            "error_x": {
             "color": "#2a3f5f"
            },
            "error_y": {
             "color": "#2a3f5f"
            },
            "marker": {
             "line": {
              "color": "#E5ECF6",
              "width": 0.5
             },
             "pattern": {
              "fillmode": "overlay",
              "size": 10,
              "solidity": 0.2
             }
            },
            "type": "bar"
           }
          ],
          "barpolar": [
           {
            "marker": {
             "line": {
              "color": "#E5ECF6",
              "width": 0.5
             },
             "pattern": {
              "fillmode": "overlay",
              "size": 10,
              "solidity": 0.2
             }
            },
            "type": "barpolar"
           }
          ],
          "carpet": [
           {
            "aaxis": {
             "endlinecolor": "#2a3f5f",
             "gridcolor": "white",
             "linecolor": "white",
             "minorgridcolor": "white",
             "startlinecolor": "#2a3f5f"
            },
            "baxis": {
             "endlinecolor": "#2a3f5f",
             "gridcolor": "white",
             "linecolor": "white",
             "minorgridcolor": "white",
             "startlinecolor": "#2a3f5f"
            },
            "type": "carpet"
           }
          ],
          "choropleth": [
           {
            "colorbar": {
             "outlinewidth": 0,
             "ticks": ""
            },
            "type": "choropleth"
           }
          ],
          "contour": [
           {
            "colorbar": {
             "outlinewidth": 0,
             "ticks": ""
            },
            "colorscale": [
             [
              0,
              "#0d0887"
             ],
             [
              0.1111111111111111,
              "#46039f"
             ],
             [
              0.2222222222222222,
              "#7201a8"
             ],
             [
              0.3333333333333333,
              "#9c179e"
             ],
             [
              0.4444444444444444,
              "#bd3786"
             ],
             [
              0.5555555555555556,
              "#d8576b"
             ],
             [
              0.6666666666666666,
              "#ed7953"
             ],
             [
              0.7777777777777778,
              "#fb9f3a"
             ],
             [
              0.8888888888888888,
              "#fdca26"
             ],
             [
              1,
              "#f0f921"
             ]
            ],
            "type": "contour"
           }
          ],
          "contourcarpet": [
           {
            "colorbar": {
             "outlinewidth": 0,
             "ticks": ""
            },
            "type": "contourcarpet"
           }
          ],
          "heatmap": [
           {
            "colorbar": {
             "outlinewidth": 0,
             "ticks": ""
            },
            "colorscale": [
             [
              0,
              "#0d0887"
             ],
             [
              0.1111111111111111,
              "#46039f"
             ],
             [
              0.2222222222222222,
              "#7201a8"
             ],
             [
              0.3333333333333333,
              "#9c179e"
             ],
             [
              0.4444444444444444,
              "#bd3786"
             ],
             [
              0.5555555555555556,
              "#d8576b"
             ],
             [
              0.6666666666666666,
              "#ed7953"
             ],
             [
              0.7777777777777778,
              "#fb9f3a"
             ],
             [
              0.8888888888888888,
              "#fdca26"
             ],
             [
              1,
              "#f0f921"
             ]
            ],
            "type": "heatmap"
           }
          ],
          "heatmapgl": [
           {
            "colorbar": {
             "outlinewidth": 0,
             "ticks": ""
            },
            "colorscale": [
             [
              0,
              "#0d0887"
             ],
             [
              0.1111111111111111,
              "#46039f"
             ],
             [
              0.2222222222222222,
              "#7201a8"
             ],
             [
              0.3333333333333333,
              "#9c179e"
             ],
             [
              0.4444444444444444,
              "#bd3786"
             ],
             [
              0.5555555555555556,
              "#d8576b"
             ],
             [
              0.6666666666666666,
              "#ed7953"
             ],
             [
              0.7777777777777778,
              "#fb9f3a"
             ],
             [
              0.8888888888888888,
              "#fdca26"
             ],
             [
              1,
              "#f0f921"
             ]
            ],
            "type": "heatmapgl"
           }
          ],
          "histogram": [
           {
            "marker": {
             "pattern": {
              "fillmode": "overlay",
              "size": 10,
              "solidity": 0.2
             }
            },
            "type": "histogram"
           }
          ],
          "histogram2d": [
           {
            "colorbar": {
             "outlinewidth": 0,
             "ticks": ""
            },
            "colorscale": [
             [
              0,
              "#0d0887"
             ],
             [
              0.1111111111111111,
              "#46039f"
             ],
             [
              0.2222222222222222,
              "#7201a8"
             ],
             [
              0.3333333333333333,
              "#9c179e"
             ],
             [
              0.4444444444444444,
              "#bd3786"
             ],
             [
              0.5555555555555556,
              "#d8576b"
             ],
             [
              0.6666666666666666,
              "#ed7953"
             ],
             [
              0.7777777777777778,
              "#fb9f3a"
             ],
             [
              0.8888888888888888,
              "#fdca26"
             ],
             [
              1,
              "#f0f921"
             ]
            ],
            "type": "histogram2d"
           }
          ],
          "histogram2dcontour": [
           {
            "colorbar": {
             "outlinewidth": 0,
             "ticks": ""
            },
            "colorscale": [
             [
              0,
              "#0d0887"
             ],
             [
              0.1111111111111111,
              "#46039f"
             ],
             [
              0.2222222222222222,
              "#7201a8"
             ],
             [
              0.3333333333333333,
              "#9c179e"
             ],
             [
              0.4444444444444444,
              "#bd3786"
             ],
             [
              0.5555555555555556,
              "#d8576b"
             ],
             [
              0.6666666666666666,
              "#ed7953"
             ],
             [
              0.7777777777777778,
              "#fb9f3a"
             ],
             [
              0.8888888888888888,
              "#fdca26"
             ],
             [
              1,
              "#f0f921"
             ]
            ],
            "type": "histogram2dcontour"
           }
          ],
          "mesh3d": [
           {
            "colorbar": {
             "outlinewidth": 0,
             "ticks": ""
            },
            "type": "mesh3d"
           }
          ],
          "parcoords": [
           {
            "line": {
             "colorbar": {
              "outlinewidth": 0,
              "ticks": ""
             }
            },
            "type": "parcoords"
           }
          ],
          "pie": [
           {
            "automargin": true,
            "type": "pie"
           }
          ],
          "scatter": [
           {
            "fillpattern": {
             "fillmode": "overlay",
             "size": 10,
             "solidity": 0.2
            },
            "type": "scatter"
           }
          ],
          "scatter3d": [
           {
            "line": {
             "colorbar": {
              "outlinewidth": 0,
              "ticks": ""
             }
            },
            "marker": {
             "colorbar": {
              "outlinewidth": 0,
              "ticks": ""
             }
            },
            "type": "scatter3d"
           }
          ],
          "scattercarpet": [
           {
            "marker": {
             "colorbar": {
              "outlinewidth": 0,
              "ticks": ""
             }
            },
            "type": "scattercarpet"
           }
          ],
          "scattergeo": [
           {
            "marker": {
             "colorbar": {
              "outlinewidth": 0,
              "ticks": ""
             }
            },
            "type": "scattergeo"
           }
          ],
          "scattergl": [
           {
            "marker": {
             "colorbar": {
              "outlinewidth": 0,
              "ticks": ""
             }
            },
            "type": "scattergl"
           }
          ],
          "scattermapbox": [
           {
            "marker": {
             "colorbar": {
              "outlinewidth": 0,
              "ticks": ""
             }
            },
            "type": "scattermapbox"
           }
          ],
          "scatterpolar": [
           {
            "marker": {
             "colorbar": {
              "outlinewidth": 0,
              "ticks": ""
             }
            },
            "type": "scatterpolar"
           }
          ],
          "scatterpolargl": [
           {
            "marker": {
             "colorbar": {
              "outlinewidth": 0,
              "ticks": ""
             }
            },
            "type": "scatterpolargl"
           }
          ],
          "scatterternary": [
           {
            "marker": {
             "colorbar": {
              "outlinewidth": 0,
              "ticks": ""
             }
            },
            "type": "scatterternary"
           }
          ],
          "surface": [
           {
            "colorbar": {
             "outlinewidth": 0,
             "ticks": ""
            },
            "colorscale": [
             [
              0,
              "#0d0887"
             ],
             [
              0.1111111111111111,
              "#46039f"
             ],
             [
              0.2222222222222222,
              "#7201a8"
             ],
             [
              0.3333333333333333,
              "#9c179e"
             ],
             [
              0.4444444444444444,
              "#bd3786"
             ],
             [
              0.5555555555555556,
              "#d8576b"
             ],
             [
              0.6666666666666666,
              "#ed7953"
             ],
             [
              0.7777777777777778,
              "#fb9f3a"
             ],
             [
              0.8888888888888888,
              "#fdca26"
             ],
             [
              1,
              "#f0f921"
             ]
            ],
            "type": "surface"
           }
          ],
          "table": [
           {
            "cells": {
             "fill": {
              "color": "#EBF0F8"
             },
             "line": {
              "color": "white"
             }
            },
            "header": {
             "fill": {
              "color": "#C8D4E3"
             },
             "line": {
              "color": "white"
             }
            },
            "type": "table"
           }
          ]
         },
         "layout": {
          "annotationdefaults": {
           "arrowcolor": "#2a3f5f",
           "arrowhead": 0,
           "arrowwidth": 1
          },
          "autotypenumbers": "strict",
          "coloraxis": {
           "colorbar": {
            "outlinewidth": 0,
            "ticks": ""
           }
          },
          "colorscale": {
           "diverging": [
            [
             0,
             "#8e0152"
            ],
            [
             0.1,
             "#c51b7d"
            ],
            [
             0.2,
             "#de77ae"
            ],
            [
             0.3,
             "#f1b6da"
            ],
            [
             0.4,
             "#fde0ef"
            ],
            [
             0.5,
             "#f7f7f7"
            ],
            [
             0.6,
             "#e6f5d0"
            ],
            [
             0.7,
             "#b8e186"
            ],
            [
             0.8,
             "#7fbc41"
            ],
            [
             0.9,
             "#4d9221"
            ],
            [
             1,
             "#276419"
            ]
           ],
           "sequential": [
            [
             0,
             "#0d0887"
            ],
            [
             0.1111111111111111,
             "#46039f"
            ],
            [
             0.2222222222222222,
             "#7201a8"
            ],
            [
             0.3333333333333333,
             "#9c179e"
            ],
            [
             0.4444444444444444,
             "#bd3786"
            ],
            [
             0.5555555555555556,
             "#d8576b"
            ],
            [
             0.6666666666666666,
             "#ed7953"
            ],
            [
             0.7777777777777778,
             "#fb9f3a"
            ],
            [
             0.8888888888888888,
             "#fdca26"
            ],
            [
             1,
             "#f0f921"
            ]
           ],
           "sequentialminus": [
            [
             0,
             "#0d0887"
            ],
            [
             0.1111111111111111,
             "#46039f"
            ],
            [
             0.2222222222222222,
             "#7201a8"
            ],
            [
             0.3333333333333333,
             "#9c179e"
            ],
            [
             0.4444444444444444,
             "#bd3786"
            ],
            [
             0.5555555555555556,
             "#d8576b"
            ],
            [
             0.6666666666666666,
             "#ed7953"
            ],
            [
             0.7777777777777778,
             "#fb9f3a"
            ],
            [
             0.8888888888888888,
             "#fdca26"
            ],
            [
             1,
             "#f0f921"
            ]
           ]
          },
          "colorway": [
           "#636efa",
           "#EF553B",
           "#00cc96",
           "#ab63fa",
           "#FFA15A",
           "#19d3f3",
           "#FF6692",
           "#B6E880",
           "#FF97FF",
           "#FECB52"
          ],
          "font": {
           "color": "#2a3f5f"
          },
          "geo": {
           "bgcolor": "white",
           "lakecolor": "white",
           "landcolor": "#E5ECF6",
           "showlakes": true,
           "showland": true,
           "subunitcolor": "white"
          },
          "hoverlabel": {
           "align": "left"
          },
          "hovermode": "closest",
          "mapbox": {
           "style": "light"
          },
          "paper_bgcolor": "white",
          "plot_bgcolor": "#E5ECF6",
          "polar": {
           "angularaxis": {
            "gridcolor": "white",
            "linecolor": "white",
            "ticks": ""
           },
           "bgcolor": "#E5ECF6",
           "radialaxis": {
            "gridcolor": "white",
            "linecolor": "white",
            "ticks": ""
           }
          },
          "scene": {
           "xaxis": {
            "backgroundcolor": "#E5ECF6",
            "gridcolor": "white",
            "gridwidth": 2,
            "linecolor": "white",
            "showbackground": true,
            "ticks": "",
            "zerolinecolor": "white"
           },
           "yaxis": {
            "backgroundcolor": "#E5ECF6",
            "gridcolor": "white",
            "gridwidth": 2,
            "linecolor": "white",
            "showbackground": true,
            "ticks": "",
            "zerolinecolor": "white"
           },
           "zaxis": {
            "backgroundcolor": "#E5ECF6",
            "gridcolor": "white",
            "gridwidth": 2,
            "linecolor": "white",
            "showbackground": true,
            "ticks": "",
            "zerolinecolor": "white"
           }
          },
          "shapedefaults": {
           "line": {
            "color": "#2a3f5f"
           }
          },
          "ternary": {
           "aaxis": {
            "gridcolor": "white",
            "linecolor": "white",
            "ticks": ""
           },
           "baxis": {
            "gridcolor": "white",
            "linecolor": "white",
            "ticks": ""
           },
           "bgcolor": "#E5ECF6",
           "caxis": {
            "gridcolor": "white",
            "linecolor": "white",
            "ticks": ""
           }
          },
          "title": {
           "x": 0.05
          },
          "xaxis": {
           "automargin": true,
           "gridcolor": "white",
           "linecolor": "white",
           "ticks": "",
           "title": {
            "standoff": 15
           },
           "zerolinecolor": "white",
           "zerolinewidth": 2
          },
          "yaxis": {
           "automargin": true,
           "gridcolor": "white",
           "linecolor": "white",
           "ticks": "",
           "title": {
            "standoff": 15
           },
           "zerolinecolor": "white",
           "zerolinewidth": 2
          }
         }
        },
        "title": {
         "text": "Up/Downlink Schedule"
        },
        "xaxis": {
         "anchor": "y",
         "domain": [
          0,
          1
         ],
         "type": "date"
        },
        "yaxis": {
         "anchor": "x",
         "categoryorder": "category descending",
         "domain": [
          0,
          1
         ],
         "title": {
          "text": "antenna"
         }
        }
       }
      }
     },
     "metadata": {},
     "output_type": "display_data"
    },
    {
     "data": {
      "application/vnd.plotly.v1+json": {
       "config": {
        "plotlyServerURL": "https://plot.ly"
       },
       "data": [
        {
         "alignmentgroup": "True",
         "base": [
          "2024-10-31T00:15:20.000086+00:00",
          "2024-10-31T03:31:30.000087+00:00",
          "2024-10-31T00:03:20.000086+00:00",
          "2024-10-31T01:26:00.000086+00:00",
          "2024-10-31T03:07:00.000086+00:00",
          "2024-10-31T04:48:00.000086+00:00",
          "2024-10-31T01:13:10.000086+00:00",
          "2024-10-31T01:00:40.000086+00:00",
          "2024-10-31T02:41:10.000087+00:00",
          "2024-10-31T00:48:10.000086+00:00",
          "2024-10-31T00:35:40.000086+00:00",
          "2024-10-31T02:16:20.000086+00:00",
          "2024-10-31T04:09:00.000086+00:00",
          "2024-10-31T03:57:20.000086+00:00",
          "2024-10-31T00:27:30.000086+00:00",
          "2024-10-31T08:08:20.000086+00:00",
          "2024-10-31T11:27:50.000086+00:00",
          "2024-10-31T07:52:50.000086+00:00",
          "2024-10-31T07:39:50.000086+00:00",
          "2024-10-31T09:19:20.000086+00:00",
          "2024-10-31T11:00:10.000086+00:00",
          "2024-10-31T07:32:30.000086+00:00",
          "2024-10-31T07:37:30.000086+00:00",
          "2024-10-31T09:06:00.000087+00:00",
          "2024-10-31T10:46:40.000087+00:00",
          "2024-10-31T05:50:50.000086+00:00",
          "2024-10-31T08:54:20.000086+00:00",
          "2024-10-31T08:42:30.000086+00:00",
          "2024-10-31T10:23:10.000086+00:00",
          "2024-10-31T08:29:20.000086+00:00",
          "2024-10-31T08:21:00.000087+00:00",
          "2024-10-31T09:56:10.000086+00:00"
         ],
         "hovertemplate": "antenna=Dundee<br>start=%{base}<br>end=%{x}<br>target=%{y}<extra></extra>",
         "legendgroup": "Dundee",
         "marker": {
          "color": "#636efa",
          "pattern": {
           "shape": ""
          }
         },
         "name": "Dundee",
         "offsetgroup": "Dundee",
         "orientation": "h",
         "showlegend": true,
         "textposition": "auto",
         "type": "bar",
         "x": [
          80000.001,
          749999.999,
          20000.001,
          820000,
          820000,
          100000,
          770000,
          750000,
          689999.999,
          750000,
          750000,
          640000,
          30000,
          150000,
          490000,
          110000,
          520000,
          420000,
          770000,
          830000,
          770000,
          50000,
          100000,
          799999.999,
          809999.999,
          390000,
          700000.001,
          710000,
          620000,
          790000,
          499999.999,
          700000
         ],
         "xaxis": "x",
         "y": [
          "Spacecraft 1-1",
          "Spacecraft 1-1",
          "Spacecraft 1-2",
          "Spacecraft 1-3",
          "Spacecraft 1-3",
          "Spacecraft 1-3",
          "Spacecraft 1-4",
          "Spacecraft 1-5",
          "Spacecraft 1-5",
          "Spacecraft 1-6",
          "Spacecraft 1-7",
          "Spacecraft 1-7",
          "Spacecraft 1-7",
          "Spacecraft 1-7",
          "Spacecraft 1-8",
          "Spacecraft 2-1",
          "Spacecraft 2-1",
          "Spacecraft 2-2",
          "Spacecraft 2-3",
          "Spacecraft 2-3",
          "Spacecraft 2-3",
          "Spacecraft 2-4",
          "Spacecraft 2-4",
          "Spacecraft 2-4",
          "Spacecraft 2-4",
          "Spacecraft 2-4",
          "Spacecraft 2-5",
          "Spacecraft 2-6",
          "Spacecraft 2-6",
          "Spacecraft 2-7",
          "Spacecraft 2-8",
          "Spacecraft 2-8"
         ],
         "yaxis": "y"
        },
        {
         "alignmentgroup": "True",
         "base": [
          "2024-10-31T03:55:40.000086+00:00",
          "2024-10-31T02:10:30.000086+00:00",
          "2024-10-31T05:24:50.000086+00:00",
          "2024-10-31T04:49:40.000086+00:00",
          "2024-10-31T04:21:20.000086+00:00",
          "2024-10-31T01:25:10.000086+00:00",
          "2024-10-31T11:25:00.000086+00:00",
          "2024-10-31T01:49:20.000086+00:00",
          "2024-10-31T01:37:10.000087+00:00",
          "2024-10-31T09:26:30.000086+00:00",
          "2024-10-31T09:55:20.000086+00:00",
          "2024-10-31T09:42:10.000086+00:00"
         ],
         "hovertemplate": "antenna=Dubai<br>start=%{base}<br>end=%{x}<br>target=%{y}<extra></extra>",
         "legendgroup": "Dubai",
         "marker": {
          "color": "#EF553B",
          "pattern": {
           "shape": ""
          }
         },
         "name": "Dubai",
         "offsetgroup": "Dubai",
         "orientation": "h",
         "showlegend": true,
         "textposition": "auto",
         "type": "bar",
         "x": [
          230000,
          130000,
          60000,
          640000,
          30000,
          670000,
          170000,
          240000,
          719999.999,
          250000,
          260000,
          750000
         ],
         "xaxis": "x",
         "y": [
          "Spacecraft 1-1",
          "Spacecraft 1-1",
          "Spacecraft 1-2",
          "Spacecraft 1-4",
          "Spacecraft 1-7",
          "Spacecraft 2-1",
          "Spacecraft 2-3",
          "Spacecraft 2-7",
          "Spacecraft 2-8",
          "Spacecraft 3-1",
          "Spacecraft 3-6",
          "Spacecraft 3-7"
         ],
         "yaxis": "y"
        },
        {
         "alignmentgroup": "True",
         "base": [
          "2024-10-31T04:21:50.000086+00:00",
          "2024-10-31T07:43:20.000086+00:00",
          "2024-10-31T02:27:00.000086+00:00",
          "2024-10-31T04:09:30.000086+00:00",
          "2024-10-31T05:50:50.000086+00:00",
          "2024-10-31T07:31:30.000086+00:00",
          "2024-10-31T09:16:00.000086+00:00",
          "2024-10-31T04:00:00.000086+00:00",
          "2024-10-31T05:38:50.000086+00:00",
          "2024-10-31T09:00:40.000087+00:00",
          "2024-10-31T02:01:30.000087+00:00",
          "2024-10-31T03:44:00.000086+00:00",
          "2024-10-31T08:47:10.000086+00:00",
          "2024-10-31T01:48:30.000086+00:00",
          "2024-10-31T05:12:30.000086+00:00",
          "2024-10-31T08:33:40.000086+00:00",
          "2024-10-31T08:38:20.000086+00:00",
          "2024-10-31T05:00:20.000086+00:00",
          "2024-10-31T08:21:50.000086+00:00",
          "2024-10-31T03:18:20.000086+00:00",
          "2024-10-31T08:10:00.000086+00:00",
          "2024-10-31T02:52:40.000086+00:00",
          "2024-10-31T04:35:00.000086+00:00",
          "2024-10-31T07:56:50.000086+00:00",
          "2024-10-31T07:12:00.000086+00:00",
          "2024-10-31T10:33:30.000086+00:00",
          "2024-10-31T07:00:10.000086+00:00",
          "2024-10-31T06:47:40.000086+00:00",
          "2024-10-31T10:07:50.000086+00:00",
          "2024-10-31T11:50:20.000086+00:00",
          "2024-10-31T06:35:00.000087+00:00",
          "2024-10-31T11:36:30.000086+00:00",
          "2024-10-31T09:42:20.000086+00:00",
          "2024-10-31T06:12:30.000087+00:00",
          "2024-10-31T11:13:00.000086+00:00",
          "2024-10-31T00:53:40.000086+00:00",
          "2024-10-31T00:40:50.000086+00:00",
          "2024-10-31T00:28:20.000086+00:00",
          "2024-10-31T00:15:40.000086+00:00",
          "2024-10-31T00:03:00.000087+00:00",
          "2024-10-31T01:19:00.000086+00:00",
          "2024-10-31T01:06:20.000086+00:00"
         ],
         "hovertemplate": "antenna=Awarua<br>start=%{base}<br>end=%{x}<br>target=%{y}<extra></extra>",
         "legendgroup": "Awarua",
         "marker": {
          "color": "#00cc96",
          "pattern": {
           "shape": ""
          }
         },
         "name": "Awarua",
         "offsetgroup": "Awarua",
         "orientation": "h",
         "showlegend": true,
         "textposition": "auto",
         "type": "bar",
         "x": [
          710000.001,
          820000,
          760000,
          710000,
          1560000,
          710000,
          460000,
          540000,
          720000,
          519999.999,
          769999.999,
          700000,
          730000,
          780000.001,
          740000,
          90000,
          480000,
          730000,
          710000,
          720000,
          710000,
          740000,
          710000,
          180000,
          750000,
          750000,
          710000,
          680000,
          770000,
          570000,
          640000,
          700000,
          790000,
          509999.999,
          720000,
          740000,
          770000,
          750000,
          760000,
          759999.999,
          660000,
          700000
         ],
         "xaxis": "x",
         "y": [
          "Spacecraft 1-1",
          "Spacecraft 1-1",
          "Spacecraft 1-2",
          "Spacecraft 1-2",
          "Spacecraft 1-2",
          "Spacecraft 1-2",
          "Spacecraft 1-2",
          "Spacecraft 1-3",
          "Spacecraft 1-3",
          "Spacecraft 1-3",
          "Spacecraft 1-4",
          "Spacecraft 1-4",
          "Spacecraft 1-4",
          "Spacecraft 1-5",
          "Spacecraft 1-5",
          "Spacecraft 1-5",
          "Spacecraft 1-5",
          "Spacecraft 1-6",
          "Spacecraft 1-6",
          "Spacecraft 1-6",
          "Spacecraft 1-7",
          "Spacecraft 1-8",
          "Spacecraft 1-8",
          "Spacecraft 1-8",
          "Spacecraft 2-1",
          "Spacecraft 2-1",
          "Spacecraft 2-2",
          "Spacecraft 2-3",
          "Spacecraft 2-3",
          "Spacecraft 2-3",
          "Spacecraft 2-4",
          "Spacecraft 2-4",
          "Spacecraft 2-5",
          "Spacecraft 2-6",
          "Spacecraft 2-6",
          "Spacecraft 3-1",
          "Spacecraft 3-2",
          "Spacecraft 3-3",
          "Spacecraft 3-4",
          "Spacecraft 3-5",
          "Spacecraft 3-7",
          "Spacecraft 3-8"
         ],
         "yaxis": "y"
        },
        {
         "alignmentgroup": "True",
         "base": [
          "2024-10-31T06:32:50.000086+00:00",
          "2024-10-31T04:33:40.000087+00:00",
          "2024-10-31T05:37:40.000086+00:00",
          "2024-10-31T07:18:20.000086+00:00",
          "2024-10-31T06:45:40.000087+00:00",
          "2024-10-31T00:00:00.000086+00:00",
          "2024-10-31T01:38:00.000086+00:00",
          "2024-10-31T01:24:30.000086+00:00",
          "2024-10-31T00:45:30.000086+00:00",
          "2024-10-31T00:33:00.000086+00:00",
          "2024-10-31T08:01:00.000086+00:00",
          "2024-10-31T05:56:00.000086+00:00",
          "2024-10-31T09:05:50.000086+00:00",
          "2024-10-31T08:38:20.000086+00:00"
         ],
         "hovertemplate": "antenna=Mojave<br>start=%{base}<br>end=%{x}<br>target=%{y}<extra></extra>",
         "legendgroup": "Mojave",
         "marker": {
          "color": "#ab63fa",
          "pattern": {
           "shape": ""
          }
         },
         "name": "Mojave",
         "offsetgroup": "Mojave",
         "orientation": "h",
         "showlegend": true,
         "textposition": "auto",
         "type": "bar",
         "x": [
          770000.001,
          79999.999,
          70000,
          50000,
          500000,
          500000.001,
          370000,
          40000,
          710000,
          720000,
          790000,
          120000,
          590000,
          130000.001
         ],
         "xaxis": "x",
         "y": [
          "Spacecraft 1-1",
          "Spacecraft 1-3",
          "Spacecraft 1-6",
          "Spacecraft 1-6",
          "Spacecraft 1-8",
          "Spacecraft 2-3",
          "Spacecraft 2-3",
          "Spacecraft 2-4",
          "Spacecraft 2-7",
          "Spacecraft 2-8",
          "Spacecraft 3-2",
          "Spacecraft 3-4",
          "Spacecraft 3-5",
          "Spacecraft 3-7"
         ],
         "yaxis": "y"
        },
        {
         "alignmentgroup": "True",
         "base": [
          "2024-10-31T08:00:00.000086+00:00",
          "2024-10-31T08:00:00.000086+00:00",
          "2024-10-31T07:19:10.000086+00:00",
          "2024-10-31T05:25:50.000086+00:00",
          "2024-10-31T07:05:50.000087+00:00",
          "2024-10-31T06:41:30.000087+00:00",
          "2024-10-31T03:37:00.000086+00:00",
          "2024-10-31T05:05:50.000086+00:00",
          "2024-10-31T03:11:50.000086+00:00",
          "2024-10-31T04:52:20.000086+00:00",
          "2024-10-31T04:01:40.000087+00:00",
          "2024-10-31T05:45:30.000086+00:00",
          "2024-10-31T10:41:30.000086+00:00",
          "2024-10-31T00:00:00.000086+00:00",
          "2024-10-31T11:55:20.000087+00:00"
         ],
         "hovertemplate": "antenna=Tahiti<br>start=%{base}<br>end=%{x}<br>target=%{y}<extra></extra>",
         "legendgroup": "Tahiti",
         "marker": {
          "color": "#FFA15A",
          "pattern": {
           "shape": ""
          }
         },
         "name": "Tahiti",
         "offsetgroup": "Tahiti",
         "orientation": "h",
         "showlegend": true,
         "textposition": "auto",
         "type": "bar",
         "x": [
          370000.001,
          370000.001,
          740000,
          710000,
          749999.999,
          820000,
          820000,
          680000,
          760000,
          730000,
          799999.999,
          420000,
          680000,
          100000,
          269999.999
         ],
         "xaxis": "x",
         "y": [
          "Spacecraft 1-1",
          "Spacecraft 1-1",
          "Spacecraft 1-4",
          "Spacecraft 1-5",
          "Spacecraft 1-5",
          "Spacecraft 1-7",
          "Spacecraft 2-2",
          "Spacecraft 2-3",
          "Spacecraft 2-4",
          "Spacecraft 2-4",
          "Spacecraft 2-8",
          "Spacecraft 2-8",
          "Spacecraft 3-6",
          "Spacecraft 3-7",
          "Spacecraft 3-8"
         ],
         "yaxis": "y"
        },
        {
         "alignmentgroup": "True",
         "base": [
          "2024-10-31T09:45:20.000086+00:00",
          "2024-10-31T09:35:40.000086+00:00",
          "2024-10-31T06:54:00.000087+00:00",
          "2024-10-31T02:03:40.000086+00:00",
          "2024-10-31T02:42:30.000086+00:00",
          "2024-10-31T02:29:20.000086+00:00",
          "2024-10-31T02:16:40.000086+00:00",
          "2024-10-31T01:06:00.000086+00:00",
          "2024-10-31T11:25:20.000086+00:00",
          "2024-10-31T11:02:30.000086+00:00",
          "2024-10-31T10:34:50.000087+00:00",
          "2024-10-31T00:00:00.000086+00:00",
          "2024-10-31T01:39:40.000086+00:00",
          "2024-10-31T10:16:00.000086+00:00",
          "2024-10-31T01:36:20.000086+00:00",
          "2024-10-31T10:11:10.000087+00:00",
          "2024-10-31T11:45:20.000086+00:00"
         ],
         "hovertemplate": "antenna=Paumalu<br>start=%{base}<br>end=%{x}<br>target=%{y}<extra></extra>",
         "legendgroup": "Paumalu",
         "marker": {
          "color": "#19d3f3",
          "pattern": {
           "shape": ""
          }
         },
         "name": "Paumalu",
         "offsetgroup": "Paumalu",
         "orientation": "h",
         "showlegend": true,
         "textposition": "auto",
         "type": "bar",
         "x": [
          150000,
          580000,
          259999.999,
          90000,
          1020000.001,
          10000,
          30000,
          20000,
          20000,
          960000,
          39999.999,
          120000,
          110000,
          380000,
          200000,
          289999.999,
          350000.001
         ],
         "xaxis": "x",
         "y": [
          "Spacecraft 1-1",
          "Spacecraft 1-2",
          "Spacecraft 1-7",
          "Spacecraft 2-1",
          "Spacecraft 2-6",
          "Spacecraft 2-7",
          "Spacecraft 2-8",
          "Spacecraft 3-2",
          "Spacecraft 3-2",
          "Spacecraft 3-4",
          "Spacecraft 3-6",
          "Spacecraft 3-7",
          "Spacecraft 3-7",
          "Spacecraft 3-7",
          "Spacecraft 3-8",
          "Spacecraft 3-8",
          "Spacecraft 3-8"
         ],
         "yaxis": "y"
        },
        {
         "alignmentgroup": "True",
         "base": [
          "2024-10-31T09:57:20.000086+00:00",
          "2024-10-31T11:23:40.000086+00:00",
          "2024-10-31T11:12:20.000086+00:00",
          "2024-10-31T10:59:00.000086+00:00",
          "2024-10-31T09:09:20.000086+00:00",
          "2024-10-31T10:34:40.000086+00:00",
          "2024-10-31T10:23:10.000086+00:00",
          "2024-10-31T08:35:10.000086+00:00",
          "2024-10-31T10:10:20.000086+00:00",
          "2024-10-31T11:48:10.000086+00:00",
          "2024-10-31T00:47:00.000086+00:00",
          "2024-10-31T01:28:40.000086+00:00",
          "2024-10-31T03:05:50.000086+00:00",
          "2024-10-31T04:44:30.000086+00:00",
          "2024-10-31T04:31:40.000086+00:00",
          "2024-10-31T09:30:40.000086+00:00",
          "2024-10-31T02:40:50.000086+00:00",
          "2024-10-31T04:19:00.000086+00:00",
          "2024-10-31T05:58:00.000086+00:00",
          "2024-10-31T02:28:50.000086+00:00",
          "2024-10-31T04:07:00.000087+00:00",
          "2024-10-31T02:16:50.000087+00:00",
          "2024-10-31T03:55:00.000086+00:00",
          "2024-10-31T05:34:10.000086+00:00",
          "2024-10-31T00:41:20.000086+00:00",
          "2024-10-31T02:04:40.000086+00:00",
          "2024-10-31T03:42:20.000086+00:00",
          "2024-10-31T05:21:20.000086+00:00",
          "2024-10-31T08:40:30.000087+00:00",
          "2024-10-31T01:52:20.000086+00:00",
          "2024-10-31T03:29:50.000086+00:00",
          "2024-10-31T03:17:50.000087+00:00"
         ],
         "hovertemplate": "antenna=Utqiagvik<br>start=%{base}<br>end=%{x}<br>target=%{y}<extra></extra>",
         "legendgroup": "Utqiagvik",
         "marker": {
          "color": "#FF6692",
          "pattern": {
           "shape": ""
          }
         },
         "name": "Utqiagvik",
         "offsetgroup": "Utqiagvik",
         "orientation": "h",
         "showlegend": true,
         "textposition": "auto",
         "type": "bar",
         "x": [
          550000,
          680000,
          670000,
          660000,
          400000,
          630000,
          630000.001,
          190000,
          580000.001,
          700000,
          630000.001,
          460000,
          660000,
          740000,
          730000,
          530000,
          620000.001,
          710000,
          1310000,
          610000,
          710000,
          599999.999,
          290000,
          1270000.001,
          240000,
          560000,
          700000.001,
          730000,
          629999.999,
          530000,
          680000,
          669999.999
         ],
         "xaxis": "x",
         "y": [
          "Spacecraft 1-1",
          "Spacecraft 1-2",
          "Spacecraft 1-3",
          "Spacecraft 1-4",
          "Spacecraft 1-5",
          "Spacecraft 1-6",
          "Spacecraft 1-7",
          "Spacecraft 1-8",
          "Spacecraft 1-8",
          "Spacecraft 1-8",
          "Spacecraft 2-6",
          "Spacecraft 3-1",
          "Spacecraft 3-1",
          "Spacecraft 3-1",
          "Spacecraft 3-2",
          "Spacecraft 3-2",
          "Spacecraft 3-3",
          "Spacecraft 3-3",
          "Spacecraft 3-3",
          "Spacecraft 3-4",
          "Spacecraft 3-4",
          "Spacecraft 3-5",
          "Spacecraft 3-5",
          "Spacecraft 3-5",
          "Spacecraft 3-5",
          "Spacecraft 3-6",
          "Spacecraft 3-6",
          "Spacecraft 3-6",
          "Spacecraft 3-6",
          "Spacecraft 3-7",
          "Spacecraft 3-7",
          "Spacecraft 3-8"
         ],
         "yaxis": "y"
        },
        {
         "alignmentgroup": "True",
         "base": [
          "2024-10-31T10:33:40.000087+00:00",
          "2024-10-31T10:13:50.000086+00:00",
          "2024-10-31T10:06:30.000086+00:00",
          "2024-10-31T09:47:50.000086+00:00",
          "2024-10-31T07:57:00.000086+00:00",
          "2024-10-31T09:23:40.000086+00:00",
          "2024-10-31T10:56:40.000086+00:00",
          "2024-10-31T08:59:20.000086+00:00",
          "2024-10-31T04:34:20.000086+00:00",
          "2024-10-31T06:01:20.000086+00:00",
          "2024-10-31T07:33:20.000086+00:00",
          "2024-10-31T03:59:00.000086+00:00",
          "2024-10-31T05:35:00.000086+00:00",
          "2024-10-31T05:17:10.000086+00:00",
          "2024-10-31T05:04:30.000086+00:00",
          "2024-10-31T06:45:40.000087+00:00",
          "2024-10-31T04:45:40.000086+00:00",
          "2024-10-31T06:25:30.000087+00:00",
          "2024-10-31T02:01:10.000086+00:00",
          "2024-10-31T00:02:00.000086+00:00",
          "2024-10-31T01:41:30.000086+00:00",
          "2024-10-31T01:18:00.000086+00:00",
          "2024-10-31T03:02:00.000086+00:00",
          "2024-10-31T02:39:00.000086+00:00",
          "2024-10-31T02:26:50.000086+00:00",
          "2024-10-31T02:14:00.000086+00:00"
         ],
         "hovertemplate": "antenna=Sunyani<br>start=%{base}<br>end=%{x}<br>target=%{y}<extra></extra>",
         "legendgroup": "Sunyani",
         "marker": {
          "color": "#B6E880",
          "pattern": {
           "shape": ""
          }
         },
         "name": "Sunyani",
         "offsetgroup": "Sunyani",
         "orientation": "h",
         "showlegend": true,
         "textposition": "auto",
         "type": "bar",
         "x": [
          59999.999,
          630000,
          230000,
          570000,
          170000,
          720000,
          120000,
          80000.001,
          680000,
          670000.001,
          250000,
          50000,
          630000,
          420000,
          80000,
          119999.999,
          400000,
          570000,
          210000,
          60000.001,
          650000,
          640000,
          130000,
          110000,
          120000,
          170000.001
         ],
         "xaxis": "x",
         "y": [
          "Spacecraft 1-1",
          "Spacecraft 1-2",
          "Spacecraft 1-3",
          "Spacecraft 1-4",
          "Spacecraft 1-5",
          "Spacecraft 1-6",
          "Spacecraft 1-7",
          "Spacecraft 1-8",
          "Spacecraft 2-1",
          "Spacecraft 2-2",
          "Spacecraft 2-3",
          "Spacecraft 2-4",
          "Spacecraft 2-4",
          "Spacecraft 2-6",
          "Spacecraft 2-7",
          "Spacecraft 2-7",
          "Spacecraft 2-8",
          "Spacecraft 2-8",
          "Spacecraft 3-1",
          "Spacecraft 3-2",
          "Spacecraft 3-2",
          "Spacecraft 3-4",
          "Spacecraft 3-4",
          "Spacecraft 3-6",
          "Spacecraft 3-7",
          "Spacecraft 3-8"
         ],
         "yaxis": "y"
        },
        {
         "alignmentgroup": "True",
         "base": [
          "2024-10-31T06:58:20.000086+00:00",
          "2024-10-31T08:46:20.000086+00:00",
          "2024-10-31T06:20:50.000087+00:00",
          "2024-10-31T08:06:10.000087+00:00",
          "2024-10-31T06:16:50.000086+00:00",
          "2024-10-31T02:59:30.000087+00:00",
          "2024-10-31T04:24:10.000087+00:00",
          "2024-10-31T02:29:30.000086+00:00",
          "2024-10-31T04:15:00.000086+00:00",
          "2024-10-31T02:17:10.000086+00:00",
          "2024-10-31T04:00:00.000086+00:00",
          "2024-10-31T02:05:10.000086+00:00",
          "2024-10-31T03:50:40.000086+00:00",
          "2024-10-31T01:53:20.000086+00:00",
          "2024-10-31T03:24:30.000086+00:00",
          "2024-10-31T10:52:50.000086+00:00",
          "2024-10-31T10:35:30.000086+00:00",
          "2024-10-31T10:22:20.000086+00:00",
          "2024-10-31T11:51:10.000087+00:00",
          "2024-10-31T09:59:40.000086+00:00",
          "2024-10-31T11:25:40.000086+00:00",
          "2024-10-31T11:18:30.000086+00:00"
         ],
         "hovertemplate": "antenna=Mwulire<br>start=%{base}<br>end=%{x}<br>target=%{y}<extra></extra>",
         "legendgroup": "Mwulire",
         "marker": {
          "color": "#FF97FF",
          "pattern": {
           "shape": ""
          }
         },
         "name": "Mwulire",
         "offsetgroup": "Mwulire",
         "orientation": "h",
         "showlegend": true,
         "textposition": "auto",
         "type": "bar",
         "x": [
          450000.001,
          50000,
          719999.999,
          229999.999,
          240000.001,
          739999.999,
          609999.999,
          780000,
          420000,
          730000,
          100000.001,
          690000,
          420000,
          620000,
          750000,
          580000,
          360000,
          750000.001,
          250000,
          690000.001,
          1180000,
          410000
         ],
         "xaxis": "x",
         "y": [
          "Spacecraft 1-2",
          "Spacecraft 1-2",
          "Spacecraft 1-5",
          "Spacecraft 1-5",
          "Spacecraft 1-6",
          "Spacecraft 2-1",
          "Spacecraft 2-2",
          "Spacecraft 2-3",
          "Spacecraft 2-3",
          "Spacecraft 2-4",
          "Spacecraft 2-4",
          "Spacecraft 2-5",
          "Spacecraft 2-5",
          "Spacecraft 2-6",
          "Spacecraft 2-7",
          "Spacecraft 3-1",
          "Spacecraft 3-2",
          "Spacecraft 3-3",
          "Spacecraft 3-4",
          "Spacecraft 3-5",
          "Spacecraft 3-6",
          "Spacecraft 3-7"
         ],
         "yaxis": "y"
        },
        {
         "alignmentgroup": "True",
         "base": [
          "2024-10-31T00:16:40.000087+00:00",
          "2024-10-31T10:53:20.000086+00:00",
          "2024-10-31T10:58:40.000086+00:00",
          "2024-10-31T00:03:40.000087+00:00",
          "2024-10-31T10:45:10.000086+00:00",
          "2024-10-31T00:00:00.000086+00:00",
          "2024-10-31T10:20:00.000087+00:00",
          "2024-10-31T11:42:10.000086+00:00",
          "2024-10-31T11:35:00.000086+00:00",
          "2024-10-31T06:59:00.000086+00:00",
          "2024-10-31T08:10:10.000086+00:00",
          "2024-10-31T06:21:00.000086+00:00",
          "2024-10-31T08:00:00.000086+00:00",
          "2024-10-31T07:24:30.000086+00:00",
          "2024-10-31T05:40:00.000086+00:00",
          "2024-10-31T02:51:10.000087+00:00",
          "2024-10-31T04:30:50.000086+00:00",
          "2024-10-31T04:00:00.000086+00:00",
          "2024-10-31T03:54:00.000087+00:00",
          "2024-10-31T05:33:30.000086+00:00",
          "2024-10-31T05:17:10.000086+00:00",
          "2024-10-31T04:56:50.000086+00:00",
          "2024-10-31T02:58:50.000086+00:00",
          "2024-10-31T03:04:10.000086+00:00"
         ],
         "hovertemplate": "antenna=Harmon<br>start=%{base}<br>end=%{x}<br>target=%{y}<extra></extra>",
         "legendgroup": "Harmon",
         "marker": {
          "color": "#FECB52",
          "pattern": {
           "shape": ""
          }
         },
         "name": "Harmon",
         "offsetgroup": "Harmon",
         "orientation": "h",
         "showlegend": true,
         "textposition": "auto",
         "type": "bar",
         "x": [
          649999.999,
          200000,
          20000,
          699999.999,
          310000,
          200000,
          180000,
          360000,
          420000,
          70000,
          650000.001,
          270000.001,
          500000,
          480000,
          610000,
          349999.999,
          50000,
          420000.001,
          59999.999,
          40000,
          670000,
          1430000,
          190000,
          100000
         ],
         "xaxis": "x",
         "y": [
          "Spacecraft 1-3",
          "Spacecraft 1-3",
          "Spacecraft 1-3",
          "Spacecraft 1-4",
          "Spacecraft 1-4",
          "Spacecraft 1-5",
          "Spacecraft 1-6",
          "Spacecraft 1-7",
          "Spacecraft 1-8",
          "Spacecraft 2-1",
          "Spacecraft 2-3",
          "Spacecraft 2-4",
          "Spacecraft 2-4",
          "Spacecraft 2-7",
          "Spacecraft 2-7",
          "Spacecraft 3-1",
          "Spacecraft 3-1",
          "Spacecraft 3-3",
          "Spacecraft 3-4",
          "Spacecraft 3-4",
          "Spacecraft 3-5",
          "Spacecraft 3-7",
          "Spacecraft 3-8",
          "Spacecraft 3-8"
         ],
         "yaxis": "y"
        },
        {
         "alignmentgroup": "True",
         "base": [
          "2024-10-31T00:08:20.000087+00:00",
          "2024-10-31T01:49:10.000086+00:00",
          "2024-10-31T01:36:20.000086+00:00",
          "2024-10-31T01:21:30.000086+00:00",
          "2024-10-31T01:09:30.000086+00:00",
          "2024-10-31T00:57:20.000086+00:00",
          "2024-10-31T04:22:00.000086+00:00",
          "2024-10-31T05:56:20.000086+00:00",
          "2024-10-31T00:45:00.000086+00:00",
          "2024-10-31T03:57:40.000086+00:00",
          "2024-10-31T05:31:10.000086+00:00",
          "2024-10-31T05:24:10.000086+00:00",
          "2024-10-31T06:19:50.000086+00:00",
          "2024-10-31T09:39:30.000086+00:00",
          "2024-10-31T08:00:00.000086+00:00",
          "2024-10-31T07:49:40.000086+00:00",
          "2024-10-31T09:10:50.000086+00:00",
          "2024-10-31T07:15:40.000086+00:00",
          "2024-10-31T09:04:10.000086+00:00",
          "2024-10-31T04:00:00.000086+00:00",
          "2024-10-31T07:11:10.000087+00:00",
          "2024-10-31T08:51:00.000086+00:00",
          "2024-10-31T06:36:50.000086+00:00",
          "2024-10-31T06:26:10.000087+00:00",
          "2024-10-31T08:14:10.000086+00:00",
          "2024-10-31T09:54:40.000086+00:00"
         ],
         "hovertemplate": "antenna=Chitose<br>start=%{base}<br>end=%{x}<br>target=%{y}<extra></extra>",
         "legendgroup": "Chitose",
         "marker": {
          "color": "#636efa",
          "pattern": {
           "shape": ""
          }
         },
         "name": "Chitose",
         "offsetgroup": "Chitose",
         "orientation": "h",
         "showlegend": true,
         "textposition": "auto",
         "type": "bar",
         "x": [
          1479999.999,
          10000,
          50000.001,
          180000,
          720000,
          730000,
          130000.001,
          300000,
          30000,
          80000,
          230000,
          420000,
          380000.001,
          160000,
          410000,
          610000,
          940000,
          2040000,
          310000,
          370000,
          269999.999,
          790000,
          2060000.001,
          639999.999,
          1450000,
          40000
         ],
         "xaxis": "x",
         "y": [
          "Spacecraft 2-1",
          "Spacecraft 2-1",
          "Spacecraft 2-2",
          "Spacecraft 2-3",
          "Spacecraft 2-4",
          "Spacecraft 2-5",
          "Spacecraft 2-5",
          "Spacecraft 2-5",
          "Spacecraft 2-6",
          "Spacecraft 2-7",
          "Spacecraft 2-7",
          "Spacecraft 2-8",
          "Spacecraft 3-1",
          "Spacecraft 3-1",
          "Spacecraft 3-1",
          "Spacecraft 3-2",
          "Spacecraft 3-3",
          "Spacecraft 3-4",
          "Spacecraft 3-4",
          "Spacecraft 3-4",
          "Spacecraft 3-5",
          "Spacecraft 3-5",
          "Spacecraft 3-7",
          "Spacecraft 3-8",
          "Spacecraft 3-8",
          "Spacecraft 3-8"
         ],
         "yaxis": "y"
        }
       ],
       "layout": {
        "barmode": "overlay",
        "legend": {
         "title": {
          "text": "antenna"
         },
         "tracegroupgap": 0
        },
        "template": {
         "data": {
          "bar": [
           {
            "error_x": {
             "color": "#2a3f5f"
            },
            "error_y": {
             "color": "#2a3f5f"
            },
            "marker": {
             "line": {
              "color": "#E5ECF6",
              "width": 0.5
             },
             "pattern": {
              "fillmode": "overlay",
              "size": 10,
              "solidity": 0.2
             }
            },
            "type": "bar"
           }
          ],
          "barpolar": [
           {
            "marker": {
             "line": {
              "color": "#E5ECF6",
              "width": 0.5
             },
             "pattern": {
              "fillmode": "overlay",
              "size": 10,
              "solidity": 0.2
             }
            },
            "type": "barpolar"
           }
          ],
          "carpet": [
           {
            "aaxis": {
             "endlinecolor": "#2a3f5f",
             "gridcolor": "white",
             "linecolor": "white",
             "minorgridcolor": "white",
             "startlinecolor": "#2a3f5f"
            },
            "baxis": {
             "endlinecolor": "#2a3f5f",
             "gridcolor": "white",
             "linecolor": "white",
             "minorgridcolor": "white",
             "startlinecolor": "#2a3f5f"
            },
            "type": "carpet"
           }
          ],
          "choropleth": [
           {
            "colorbar": {
             "outlinewidth": 0,
             "ticks": ""
            },
            "type": "choropleth"
           }
          ],
          "contour": [
           {
            "colorbar": {
             "outlinewidth": 0,
             "ticks": ""
            },
            "colorscale": [
             [
              0,
              "#0d0887"
             ],
             [
              0.1111111111111111,
              "#46039f"
             ],
             [
              0.2222222222222222,
              "#7201a8"
             ],
             [
              0.3333333333333333,
              "#9c179e"
             ],
             [
              0.4444444444444444,
              "#bd3786"
             ],
             [
              0.5555555555555556,
              "#d8576b"
             ],
             [
              0.6666666666666666,
              "#ed7953"
             ],
             [
              0.7777777777777778,
              "#fb9f3a"
             ],
             [
              0.8888888888888888,
              "#fdca26"
             ],
             [
              1,
              "#f0f921"
             ]
            ],
            "type": "contour"
           }
          ],
          "contourcarpet": [
           {
            "colorbar": {
             "outlinewidth": 0,
             "ticks": ""
            },
            "type": "contourcarpet"
           }
          ],
          "heatmap": [
           {
            "colorbar": {
             "outlinewidth": 0,
             "ticks": ""
            },
            "colorscale": [
             [
              0,
              "#0d0887"
             ],
             [
              0.1111111111111111,
              "#46039f"
             ],
             [
              0.2222222222222222,
              "#7201a8"
             ],
             [
              0.3333333333333333,
              "#9c179e"
             ],
             [
              0.4444444444444444,
              "#bd3786"
             ],
             [
              0.5555555555555556,
              "#d8576b"
             ],
             [
              0.6666666666666666,
              "#ed7953"
             ],
             [
              0.7777777777777778,
              "#fb9f3a"
             ],
             [
              0.8888888888888888,
              "#fdca26"
             ],
             [
              1,
              "#f0f921"
             ]
            ],
            "type": "heatmap"
           }
          ],
          "heatmapgl": [
           {
            "colorbar": {
             "outlinewidth": 0,
             "ticks": ""
            },
            "colorscale": [
             [
              0,
              "#0d0887"
             ],
             [
              0.1111111111111111,
              "#46039f"
             ],
             [
              0.2222222222222222,
              "#7201a8"
             ],
             [
              0.3333333333333333,
              "#9c179e"
             ],
             [
              0.4444444444444444,
              "#bd3786"
             ],
             [
              0.5555555555555556,
              "#d8576b"
             ],
             [
              0.6666666666666666,
              "#ed7953"
             ],
             [
              0.7777777777777778,
              "#fb9f3a"
             ],
             [
              0.8888888888888888,
              "#fdca26"
             ],
             [
              1,
              "#f0f921"
             ]
            ],
            "type": "heatmapgl"
           }
          ],
          "histogram": [
           {
            "marker": {
             "pattern": {
              "fillmode": "overlay",
              "size": 10,
              "solidity": 0.2
             }
            },
            "type": "histogram"
           }
          ],
          "histogram2d": [
           {
            "colorbar": {
             "outlinewidth": 0,
             "ticks": ""
            },
            "colorscale": [
             [
              0,
              "#0d0887"
             ],
             [
              0.1111111111111111,
              "#46039f"
             ],
             [
              0.2222222222222222,
              "#7201a8"
             ],
             [
              0.3333333333333333,
              "#9c179e"
             ],
             [
              0.4444444444444444,
              "#bd3786"
             ],
             [
              0.5555555555555556,
              "#d8576b"
             ],
             [
              0.6666666666666666,
              "#ed7953"
             ],
             [
              0.7777777777777778,
              "#fb9f3a"
             ],
             [
              0.8888888888888888,
              "#fdca26"
             ],
             [
              1,
              "#f0f921"
             ]
            ],
            "type": "histogram2d"
           }
          ],
          "histogram2dcontour": [
           {
            "colorbar": {
             "outlinewidth": 0,
             "ticks": ""
            },
            "colorscale": [
             [
              0,
              "#0d0887"
             ],
             [
              0.1111111111111111,
              "#46039f"
             ],
             [
              0.2222222222222222,
              "#7201a8"
             ],
             [
              0.3333333333333333,
              "#9c179e"
             ],
             [
              0.4444444444444444,
              "#bd3786"
             ],
             [
              0.5555555555555556,
              "#d8576b"
             ],
             [
              0.6666666666666666,
              "#ed7953"
             ],
             [
              0.7777777777777778,
              "#fb9f3a"
             ],
             [
              0.8888888888888888,
              "#fdca26"
             ],
             [
              1,
              "#f0f921"
             ]
            ],
            "type": "histogram2dcontour"
           }
          ],
          "mesh3d": [
           {
            "colorbar": {
             "outlinewidth": 0,
             "ticks": ""
            },
            "type": "mesh3d"
           }
          ],
          "parcoords": [
           {
            "line": {
             "colorbar": {
              "outlinewidth": 0,
              "ticks": ""
             }
            },
            "type": "parcoords"
           }
          ],
          "pie": [
           {
            "automargin": true,
            "type": "pie"
           }
          ],
          "scatter": [
           {
            "fillpattern": {
             "fillmode": "overlay",
             "size": 10,
             "solidity": 0.2
            },
            "type": "scatter"
           }
          ],
          "scatter3d": [
           {
            "line": {
             "colorbar": {
              "outlinewidth": 0,
              "ticks": ""
             }
            },
            "marker": {
             "colorbar": {
              "outlinewidth": 0,
              "ticks": ""
             }
            },
            "type": "scatter3d"
           }
          ],
          "scattercarpet": [
           {
            "marker": {
             "colorbar": {
              "outlinewidth": 0,
              "ticks": ""
             }
            },
            "type": "scattercarpet"
           }
          ],
          "scattergeo": [
           {
            "marker": {
             "colorbar": {
              "outlinewidth": 0,
              "ticks": ""
             }
            },
            "type": "scattergeo"
           }
          ],
          "scattergl": [
           {
            "marker": {
             "colorbar": {
              "outlinewidth": 0,
              "ticks": ""
             }
            },
            "type": "scattergl"
           }
          ],
          "scattermapbox": [
           {
            "marker": {
             "colorbar": {
              "outlinewidth": 0,
              "ticks": ""
             }
            },
            "type": "scattermapbox"
           }
          ],
          "scatterpolar": [
           {
            "marker": {
             "colorbar": {
              "outlinewidth": 0,
              "ticks": ""
             }
            },
            "type": "scatterpolar"
           }
          ],
          "scatterpolargl": [
           {
            "marker": {
             "colorbar": {
              "outlinewidth": 0,
              "ticks": ""
             }
            },
            "type": "scatterpolargl"
           }
          ],
          "scatterternary": [
           {
            "marker": {
             "colorbar": {
              "outlinewidth": 0,
              "ticks": ""
             }
            },
            "type": "scatterternary"
           }
          ],
          "surface": [
           {
            "colorbar": {
             "outlinewidth": 0,
             "ticks": ""
            },
            "colorscale": [
             [
              0,
              "#0d0887"
             ],
             [
              0.1111111111111111,
              "#46039f"
             ],
             [
              0.2222222222222222,
              "#7201a8"
             ],
             [
              0.3333333333333333,
              "#9c179e"
             ],
             [
              0.4444444444444444,
              "#bd3786"
             ],
             [
              0.5555555555555556,
              "#d8576b"
             ],
             [
              0.6666666666666666,
              "#ed7953"
             ],
             [
              0.7777777777777778,
              "#fb9f3a"
             ],
             [
              0.8888888888888888,
              "#fdca26"
             ],
             [
              1,
              "#f0f921"
             ]
            ],
            "type": "surface"
           }
          ],
          "table": [
           {
            "cells": {
             "fill": {
              "color": "#EBF0F8"
             },
             "line": {
              "color": "white"
             }
            },
            "header": {
             "fill": {
              "color": "#C8D4E3"
             },
             "line": {
              "color": "white"
             }
            },
            "type": "table"
           }
          ]
         },
         "layout": {
          "annotationdefaults": {
           "arrowcolor": "#2a3f5f",
           "arrowhead": 0,
           "arrowwidth": 1
          },
          "autotypenumbers": "strict",
          "coloraxis": {
           "colorbar": {
            "outlinewidth": 0,
            "ticks": ""
           }
          },
          "colorscale": {
           "diverging": [
            [
             0,
             "#8e0152"
            ],
            [
             0.1,
             "#c51b7d"
            ],
            [
             0.2,
             "#de77ae"
            ],
            [
             0.3,
             "#f1b6da"
            ],
            [
             0.4,
             "#fde0ef"
            ],
            [
             0.5,
             "#f7f7f7"
            ],
            [
             0.6,
             "#e6f5d0"
            ],
            [
             0.7,
             "#b8e186"
            ],
            [
             0.8,
             "#7fbc41"
            ],
            [
             0.9,
             "#4d9221"
            ],
            [
             1,
             "#276419"
            ]
           ],
           "sequential": [
            [
             0,
             "#0d0887"
            ],
            [
             0.1111111111111111,
             "#46039f"
            ],
            [
             0.2222222222222222,
             "#7201a8"
            ],
            [
             0.3333333333333333,
             "#9c179e"
            ],
            [
             0.4444444444444444,
             "#bd3786"
            ],
            [
             0.5555555555555556,
             "#d8576b"
            ],
            [
             0.6666666666666666,
             "#ed7953"
            ],
            [
             0.7777777777777778,
             "#fb9f3a"
            ],
            [
             0.8888888888888888,
             "#fdca26"
            ],
            [
             1,
             "#f0f921"
            ]
           ],
           "sequentialminus": [
            [
             0,
             "#0d0887"
            ],
            [
             0.1111111111111111,
             "#46039f"
            ],
            [
             0.2222222222222222,
             "#7201a8"
            ],
            [
             0.3333333333333333,
             "#9c179e"
            ],
            [
             0.4444444444444444,
             "#bd3786"
            ],
            [
             0.5555555555555556,
             "#d8576b"
            ],
            [
             0.6666666666666666,
             "#ed7953"
            ],
            [
             0.7777777777777778,
             "#fb9f3a"
            ],
            [
             0.8888888888888888,
             "#fdca26"
            ],
            [
             1,
             "#f0f921"
            ]
           ]
          },
          "colorway": [
           "#636efa",
           "#EF553B",
           "#00cc96",
           "#ab63fa",
           "#FFA15A",
           "#19d3f3",
           "#FF6692",
           "#B6E880",
           "#FF97FF",
           "#FECB52"
          ],
          "font": {
           "color": "#2a3f5f"
          },
          "geo": {
           "bgcolor": "white",
           "lakecolor": "white",
           "landcolor": "#E5ECF6",
           "showlakes": true,
           "showland": true,
           "subunitcolor": "white"
          },
          "hoverlabel": {
           "align": "left"
          },
          "hovermode": "closest",
          "mapbox": {
           "style": "light"
          },
          "paper_bgcolor": "white",
          "plot_bgcolor": "#E5ECF6",
          "polar": {
           "angularaxis": {
            "gridcolor": "white",
            "linecolor": "white",
            "ticks": ""
           },
           "bgcolor": "#E5ECF6",
           "radialaxis": {
            "gridcolor": "white",
            "linecolor": "white",
            "ticks": ""
           }
          },
          "scene": {
           "xaxis": {
            "backgroundcolor": "#E5ECF6",
            "gridcolor": "white",
            "gridwidth": 2,
            "linecolor": "white",
            "showbackground": true,
            "ticks": "",
            "zerolinecolor": "white"
           },
           "yaxis": {
            "backgroundcolor": "#E5ECF6",
            "gridcolor": "white",
            "gridwidth": 2,
            "linecolor": "white",
            "showbackground": true,
            "ticks": "",
            "zerolinecolor": "white"
           },
           "zaxis": {
            "backgroundcolor": "#E5ECF6",
            "gridcolor": "white",
            "gridwidth": 2,
            "linecolor": "white",
            "showbackground": true,
            "ticks": "",
            "zerolinecolor": "white"
           }
          },
          "shapedefaults": {
           "line": {
            "color": "#2a3f5f"
           }
          },
          "ternary": {
           "aaxis": {
            "gridcolor": "white",
            "linecolor": "white",
            "ticks": ""
           },
           "baxis": {
            "gridcolor": "white",
            "linecolor": "white",
            "ticks": ""
           },
           "bgcolor": "#E5ECF6",
           "caxis": {
            "gridcolor": "white",
            "linecolor": "white",
            "ticks": ""
           }
          },
          "title": {
           "x": 0.05
          },
          "xaxis": {
           "automargin": true,
           "gridcolor": "white",
           "linecolor": "white",
           "ticks": "",
           "title": {
            "standoff": 15
           },
           "zerolinecolor": "white",
           "zerolinewidth": 2
          },
          "yaxis": {
           "automargin": true,
           "gridcolor": "white",
           "linecolor": "white",
           "ticks": "",
           "title": {
            "standoff": 15
           },
           "zerolinecolor": "white",
           "zerolinewidth": 2
          }
         }
        },
        "title": {
         "text": "Up/Downlink Schedule (Per Spacecraft)"
        },
        "xaxis": {
         "anchor": "y",
         "domain": [
          0,
          1
         ],
         "type": "date"
        },
        "yaxis": {
         "anchor": "x",
         "categoryorder": "category descending",
         "domain": [
          0,
          1
         ],
         "title": {
          "text": "target"
         }
        }
       }
      }
     },
     "metadata": {},
     "output_type": "display_data"
    }
   ],
   "source": [
    "from ipynb.fs.defs.sim_results import make_contact_schedule_plots\n",
    "\n",
    "pure_sim = scenario.simulation.results()\n",
    "ground_segment_results = pure_sim.agent(gs_agent_name)\n",
    "make_contact_schedule_plots(template, ground_segment_results)"
   ]
  },
  {
   "cell_type": "code",
   "execution_count": null,
   "metadata": {},
   "outputs": [],
   "source": []
  }
 ],
 "metadata": {
  "kernelspec": {
   "display_name": ".venv",
   "language": "python",
   "name": "python3"
  },
  "language_info": {
   "codemirror_mode": {
    "name": "ipython",
    "version": 3
   },
   "file_extension": ".py",
   "mimetype": "text/x-python",
   "name": "python",
   "nbconvert_exporter": "python",
   "pygments_lexer": "ipython3",
   "version": "3.12.4"
  }
 },
 "nbformat": 4,
 "nbformat_minor": 2
}
