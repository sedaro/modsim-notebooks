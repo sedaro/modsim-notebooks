{
 "cells": [
  {
   "cell_type": "markdown",
   "metadata": {},
   "source": [
    "## Ground Segment Scheduling Optimization\n",
    "\n",
    "This notebook demonstrates an implementation of a custom contact scheduling algorithm and the integration of this\n",
    "algorithm into a Sedaro simulation via cosimulation. We use a `GroundSegment` to model the [Atlas Enterprise ground\n",
    "station network](https://atlasspace.com/wp-content/uploads/2023/07/07192023-ANTENNA-NETWORK-ENTERPRISE-SITES.pdf), and\n",
    "we simulate a scenario of a Walker delta 60: 24/3/3 constellation with uplink and downlink requirements. The scheduling\n",
    "is posed as an integer linear programming problem which maximizes downlinked data under a minimum uplink constraint [1].\n",
    "\n",
    "You can view the results of this cosimulation in `sim_results.ipynb`, and you can fork the demo scenario to run the\n",
    "cosimulation yourself (since you have read permission but not write/simulate). Make sure to update `scenario_branch` in\n",
    "\"Setup\" if you do so.\n",
    "\n",
    "[1]Eddy, D., Ho, M., and Kochenderfer, M. J., “Optimal Ground Station Selection for Low-Earth Orbiting Satellites”, \n",
    "        arXiv e-prints, Art. no. arXiv:2410.16282, 2024. doi:10.48550/arXiv.2410.16282."
   ]
  },
  {
   "cell_type": "markdown",
   "metadata": {},
   "source": [
    "This notebook requires that you have previously generated an API key in the web UI. That key should be stored in a file called `secrets.json` in the root directory of this repository (two levels above this notebook) with the following format:\n",
    "\n",
    "```json\n",
    "{\n",
    "    \"API_KEY\": \"<API_KEY>\"\n",
    "}\n",
    "```\n",
    "\n",
    "API keys grant full access to your repositories and should never be shared. If you think your API key has been compromised, you can revoke it in the user settings interface on the Sedaro website."
   ]
  },
  {
   "cell_type": "markdown",
   "metadata": {},
   "source": [
    "### Setup\n",
    "\n",
    "Run the cell below once to install required packages\n"
   ]
  },
  {
   "cell_type": "code",
   "execution_count": 1,
   "metadata": {},
   "outputs": [
    {
     "name": "stdout",
     "output_type": "stream",
     "text": [
      "Requirement already satisfied: appnope==0.1.4 in /Users/richard/sedaro/notebooks-public/.test/lib/python3.12/site-packages (from -r requirements.txt (line 1)) (0.1.4)\n",
      "Requirement already satisfied: asttokens==3.0.0 in /Users/richard/sedaro/notebooks-public/.test/lib/python3.12/site-packages (from -r requirements.txt (line 2)) (3.0.0)\n",
      "Collecting attrs==24.3.0 (from -r requirements.txt (line 3))\n",
      "  Using cached attrs-24.3.0-py3-none-any.whl.metadata (11 kB)\n",
      "Collecting certifi==2024.12.14 (from -r requirements.txt (line 4))\n",
      "  Using cached certifi-2024.12.14-py3-none-any.whl.metadata (2.3 kB)\n",
      "Collecting charset-normalizer==3.4.0 (from -r requirements.txt (line 5))\n",
      "  Using cached charset_normalizer-3.4.0-cp312-cp312-macosx_11_0_arm64.whl.metadata (34 kB)\n",
      "Collecting click==8.1.7 (from -r requirements.txt (line 6))\n",
      "  Using cached click-8.1.7-py3-none-any.whl.metadata (3.0 kB)\n",
      "Collecting cloudpickle==3.1.0 (from -r requirements.txt (line 7))\n",
      "  Using cached cloudpickle-3.1.0-py3-none-any.whl.metadata (7.0 kB)\n",
      "Requirement already satisfied: comm==0.2.2 in /Users/richard/sedaro/notebooks-public/.test/lib/python3.12/site-packages (from -r requirements.txt (line 8)) (0.2.2)\n",
      "Collecting dask==2024.12.0 (from -r requirements.txt (line 9))\n",
      "  Using cached dask-2024.12.0-py3-none-any.whl.metadata (3.7 kB)\n",
      "Collecting dask-expr==1.1.20 (from -r requirements.txt (line 10))\n",
      "  Using cached dask_expr-1.1.20-py3-none-any.whl.metadata (2.6 kB)\n",
      "Requirement already satisfied: debugpy==1.8.11 in /Users/richard/sedaro/notebooks-public/.test/lib/python3.12/site-packages (from -r requirements.txt (line 11)) (1.8.11)\n",
      "Requirement already satisfied: decorator==5.1.1 in /Users/richard/sedaro/notebooks-public/.test/lib/python3.12/site-packages (from -r requirements.txt (line 12)) (5.1.1)\n",
      "Collecting et_xmlfile==2.0.0 (from -r requirements.txt (line 13))\n",
      "  Using cached et_xmlfile-2.0.0-py3-none-any.whl.metadata (2.7 kB)\n",
      "Requirement already satisfied: executing==2.1.0 in /Users/richard/sedaro/notebooks-public/.test/lib/python3.12/site-packages (from -r requirements.txt (line 14)) (2.1.0)\n",
      "Collecting fastjsonschema==2.21.1 (from -r requirements.txt (line 15))\n",
      "  Using cached fastjsonschema-2.21.1-py3-none-any.whl.metadata (2.2 kB)\n",
      "Collecting flatdict==4.0.1 (from -r requirements.txt (line 16))\n",
      "  Using cached flatdict-4.0.1-py3-none-any.whl\n",
      "Collecting frozendict==2.3.10 (from -r requirements.txt (line 17))\n",
      "  Using cached frozendict-2.3.10-py3-none-any.whl.metadata (20 kB)\n",
      "Collecting fsspec==2024.10.0 (from -r requirements.txt (line 18))\n",
      "  Using cached fsspec-2024.10.0-py3-none-any.whl.metadata (11 kB)\n",
      "Collecting grpcio==1.68.1 (from -r requirements.txt (line 19))\n",
      "  Using cached grpcio-1.68.1-cp312-cp312-macosx_10_9_universal2.whl.metadata (3.9 kB)\n",
      "Collecting grpcio-tools==1.68.1 (from -r requirements.txt (line 20))\n",
      "  Using cached grpcio_tools-1.68.1-cp312-cp312-macosx_10_9_universal2.whl.metadata (5.3 kB)\n",
      "Collecting idna==3.10 (from -r requirements.txt (line 21))\n",
      "  Using cached idna-3.10-py3-none-any.whl.metadata (10 kB)\n",
      "Requirement already satisfied: ipykernel==6.29.5 in /Users/richard/sedaro/notebooks-public/.test/lib/python3.12/site-packages (from -r requirements.txt (line 22)) (6.29.5)\n",
      "Collecting ipynb==0.5.1 (from -r requirements.txt (line 23))\n",
      "  Using cached ipynb-0.5.1-py3-none-any.whl.metadata (303 bytes)\n",
      "Collecting ipython==8.30.0 (from -r requirements.txt (line 24))\n",
      "  Using cached ipython-8.30.0-py3-none-any.whl.metadata (4.9 kB)\n",
      "Requirement already satisfied: jedi==0.19.2 in /Users/richard/sedaro/notebooks-public/.test/lib/python3.12/site-packages (from -r requirements.txt (line 25)) (0.19.2)\n",
      "Collecting jsonschema==4.23.0 (from -r requirements.txt (line 26))\n",
      "  Using cached jsonschema-4.23.0-py3-none-any.whl.metadata (7.9 kB)\n",
      "Collecting jsonschema-specifications==2024.10.1 (from -r requirements.txt (line 27))\n",
      "  Using cached jsonschema_specifications-2024.10.1-py3-none-any.whl.metadata (3.0 kB)\n",
      "Requirement already satisfied: jupyter_client==8.6.3 in /Users/richard/sedaro/notebooks-public/.test/lib/python3.12/site-packages (from -r requirements.txt (line 28)) (8.6.3)\n",
      "Requirement already satisfied: jupyter_core==5.7.2 in /Users/richard/sedaro/notebooks-public/.test/lib/python3.12/site-packages (from -r requirements.txt (line 29)) (5.7.2)\n",
      "Collecting locket==1.0.0 (from -r requirements.txt (line 30))\n",
      "  Using cached locket-1.0.0-py2.py3-none-any.whl.metadata (2.8 kB)\n",
      "Requirement already satisfied: matplotlib-inline==0.1.7 in /Users/richard/sedaro/notebooks-public/.test/lib/python3.12/site-packages (from -r requirements.txt (line 31)) (0.1.7)\n",
      "Collecting msgpack==1.0.8 (from -r requirements.txt (line 32))\n",
      "  Using cached msgpack-1.0.8-cp312-cp312-macosx_11_0_arm64.whl.metadata (9.1 kB)\n",
      "Collecting nbformat==5.10.4 (from -r requirements.txt (line 33))\n",
      "  Using cached nbformat-5.10.4-py3-none-any.whl.metadata (3.6 kB)\n",
      "Requirement already satisfied: nest-asyncio==1.6.0 in /Users/richard/sedaro/notebooks-public/.test/lib/python3.12/site-packages (from -r requirements.txt (line 34)) (1.6.0)\n",
      "Collecting numpy==2.2.0 (from -r requirements.txt (line 35))\n",
      "  Using cached numpy-2.2.0-cp312-cp312-macosx_14_0_arm64.whl.metadata (62 kB)\n",
      "Collecting openpyxl==3.1.5 (from -r requirements.txt (line 36))\n",
      "  Using cached openpyxl-3.1.5-py2.py3-none-any.whl.metadata (2.5 kB)\n",
      "Collecting orjson==3.10.12 (from -r requirements.txt (line 37))\n",
      "  Using cached orjson-3.10.12-cp312-cp312-macosx_10_15_x86_64.macosx_11_0_arm64.macosx_10_15_universal2.whl.metadata (41 kB)\n",
      "Requirement already satisfied: packaging==24.2 in /Users/richard/sedaro/notebooks-public/.test/lib/python3.12/site-packages (from -r requirements.txt (line 38)) (24.2)\n",
      "Collecting pandas==2.2.3 (from -r requirements.txt (line 39))\n",
      "  Using cached pandas-2.2.3-cp312-cp312-macosx_11_0_arm64.whl.metadata (89 kB)\n",
      "Requirement already satisfied: parso==0.8.4 in /Users/richard/sedaro/notebooks-public/.test/lib/python3.12/site-packages (from -r requirements.txt (line 40)) (0.8.4)\n",
      "Collecting partd==1.4.2 (from -r requirements.txt (line 41))\n",
      "  Using cached partd-1.4.2-py3-none-any.whl.metadata (4.6 kB)\n",
      "Requirement already satisfied: pexpect==4.9.0 in /Users/richard/sedaro/notebooks-public/.test/lib/python3.12/site-packages (from -r requirements.txt (line 42)) (4.9.0)\n",
      "Requirement already satisfied: platformdirs==4.3.6 in /Users/richard/sedaro/notebooks-public/.test/lib/python3.12/site-packages (from -r requirements.txt (line 43)) (4.3.6)\n",
      "Collecting plotly==5.24.1 (from -r requirements.txt (line 44))\n",
      "  Using cached plotly-5.24.1-py3-none-any.whl.metadata (7.3 kB)\n",
      "Requirement already satisfied: prompt_toolkit==3.0.48 in /Users/richard/sedaro/notebooks-public/.test/lib/python3.12/site-packages (from -r requirements.txt (line 45)) (3.0.48)\n",
      "Collecting protobuf==5.29.1 (from -r requirements.txt (line 46))\n",
      "  Using cached protobuf-5.29.1-cp38-abi3-macosx_10_9_universal2.whl.metadata (592 bytes)\n",
      "Collecting psutil==6.1.0 (from -r requirements.txt (line 47))\n",
      "  Using cached psutil-6.1.0-cp36-abi3-macosx_11_0_arm64.whl.metadata (22 kB)\n",
      "Requirement already satisfied: ptyprocess==0.7.0 in /Users/richard/sedaro/notebooks-public/.test/lib/python3.12/site-packages (from -r requirements.txt (line 48)) (0.7.0)\n",
      "Requirement already satisfied: pure_eval==0.2.3 in /Users/richard/sedaro/notebooks-public/.test/lib/python3.12/site-packages (from -r requirements.txt (line 49)) (0.2.3)\n",
      "Collecting pyarrow==18.1.0 (from -r requirements.txt (line 50))\n",
      "  Using cached pyarrow-18.1.0-cp312-cp312-macosx_12_0_arm64.whl.metadata (3.3 kB)\n",
      "Collecting pydash==8.0.4 (from -r requirements.txt (line 51))\n",
      "  Using cached pydash-8.0.4-py3-none-any.whl.metadata (4.5 kB)\n",
      "Requirement already satisfied: Pygments==2.18.0 in /Users/richard/sedaro/notebooks-public/.test/lib/python3.12/site-packages (from -r requirements.txt (line 52)) (2.18.0)\n",
      "Requirement already satisfied: python-dateutil==2.9.0.post0 in /Users/richard/sedaro/notebooks-public/.test/lib/python3.12/site-packages (from -r requirements.txt (line 53)) (2.9.0.post0)\n",
      "Collecting pytz==2024.1 (from -r requirements.txt (line 54))\n",
      "  Using cached pytz-2024.1-py2.py3-none-any.whl.metadata (22 kB)\n",
      "Collecting PyYAML==6.0.2 (from -r requirements.txt (line 55))\n",
      "  Using cached PyYAML-6.0.2-cp312-cp312-macosx_11_0_arm64.whl.metadata (2.1 kB)\n",
      "Requirement already satisfied: pyzmq==26.2.0 in /Users/richard/sedaro/notebooks-public/.test/lib/python3.12/site-packages (from -r requirements.txt (line 56)) (26.2.0)\n",
      "Collecting referencing==0.35.1 (from -r requirements.txt (line 57))\n",
      "  Using cached referencing-0.35.1-py3-none-any.whl.metadata (2.8 kB)\n",
      "Collecting requests==2.32.3 (from -r requirements.txt (line 58))\n",
      "  Using cached requests-2.32.3-py3-none-any.whl.metadata (4.6 kB)\n",
      "Collecting rpds-py==0.22.3 (from -r requirements.txt (line 59))\n",
      "  Using cached rpds_py-0.22.3-cp312-cp312-macosx_11_0_arm64.whl.metadata (4.2 kB)\n",
      "Collecting scipy==1.14.1 (from -r requirements.txt (line 60))\n",
      "  Using cached scipy-1.14.1-cp312-cp312-macosx_14_0_arm64.whl.metadata (60 kB)\n",
      "Collecting sedaro==4.16.2 (from -r requirements.txt (line 61))\n",
      "  Using cached sedaro-4.16.2-py3-none-any.whl.metadata (26 kB)\n",
      "Collecting setuptools==75.6.0 (from -r requirements.txt (line 62))\n",
      "  Using cached setuptools-75.6.0-py3-none-any.whl.metadata (6.7 kB)\n",
      "Requirement already satisfied: six==1.17.0 in /Users/richard/sedaro/notebooks-public/.test/lib/python3.12/site-packages (from -r requirements.txt (line 63)) (1.17.0)\n",
      "Collecting spiceypy==6.0.0 (from -r requirements.txt (line 64))\n",
      "  Using cached spiceypy-6.0.0-py3-none-macosx_11_0_arm64.whl.metadata (8.0 kB)\n",
      "Requirement already satisfied: stack-data==0.6.3 in /Users/richard/sedaro/notebooks-public/.test/lib/python3.12/site-packages (from -r requirements.txt (line 65)) (0.6.3)\n",
      "Collecting tenacity==9.0.0 (from -r requirements.txt (line 66))\n",
      "  Using cached tenacity-9.0.0-py3-none-any.whl.metadata (1.2 kB)\n",
      "Collecting toolz==1.0.0 (from -r requirements.txt (line 67))\n",
      "  Using cached toolz-1.0.0-py3-none-any.whl.metadata (5.1 kB)\n",
      "Requirement already satisfied: tornado==6.4.2 in /Users/richard/sedaro/notebooks-public/.test/lib/python3.12/site-packages (from -r requirements.txt (line 68)) (6.4.2)\n",
      "Collecting tqdm==4.66.6 (from -r requirements.txt (line 69))\n",
      "  Using cached tqdm-4.66.6-py3-none-any.whl.metadata (57 kB)\n",
      "Requirement already satisfied: traitlets==5.14.3 in /Users/richard/sedaro/notebooks-public/.test/lib/python3.12/site-packages (from -r requirements.txt (line 70)) (5.14.3)\n",
      "Collecting typing_extensions==4.12.2 (from -r requirements.txt (line 71))\n",
      "  Using cached typing_extensions-4.12.2-py3-none-any.whl.metadata (3.0 kB)\n",
      "Collecting tzdata==2024.2 (from -r requirements.txt (line 72))\n",
      "  Using cached tzdata-2024.2-py2.py3-none-any.whl.metadata (1.4 kB)\n",
      "Collecting urllib3==1.26.20 (from -r requirements.txt (line 73))\n",
      "  Using cached urllib3-1.26.20-py2.py3-none-any.whl.metadata (50 kB)\n",
      "Collecting uuid6==2023.5.2 (from -r requirements.txt (line 74))\n",
      "  Using cached uuid6-2023.5.2-py3-none-any.whl.metadata (8.6 kB)\n",
      "Requirement already satisfied: wcwidth==0.2.13 in /Users/richard/sedaro/notebooks-public/.test/lib/python3.12/site-packages (from -r requirements.txt (line 75)) (0.2.13)\n",
      "Using cached attrs-24.3.0-py3-none-any.whl (63 kB)\n",
      "Using cached certifi-2024.12.14-py3-none-any.whl (164 kB)\n",
      "Using cached charset_normalizer-3.4.0-cp312-cp312-macosx_11_0_arm64.whl (119 kB)\n",
      "Using cached click-8.1.7-py3-none-any.whl (97 kB)\n",
      "Using cached cloudpickle-3.1.0-py3-none-any.whl (22 kB)\n",
      "Using cached dask-2024.12.0-py3-none-any.whl (1.3 MB)\n",
      "Using cached dask_expr-1.1.20-py3-none-any.whl (245 kB)\n",
      "Using cached et_xmlfile-2.0.0-py3-none-any.whl (18 kB)\n",
      "Using cached fastjsonschema-2.21.1-py3-none-any.whl (23 kB)\n",
      "Using cached frozendict-2.3.10-py3-none-any.whl (14 kB)\n",
      "Using cached fsspec-2024.10.0-py3-none-any.whl (179 kB)\n",
      "Using cached grpcio-1.68.1-cp312-cp312-macosx_10_9_universal2.whl (11.1 MB)\n",
      "Using cached grpcio_tools-1.68.1-cp312-cp312-macosx_10_9_universal2.whl (5.6 MB)\n",
      "Using cached idna-3.10-py3-none-any.whl (70 kB)\n",
      "Using cached ipynb-0.5.1-py3-none-any.whl (6.9 kB)\n",
      "Using cached ipython-8.30.0-py3-none-any.whl (820 kB)\n",
      "Using cached jsonschema-4.23.0-py3-none-any.whl (88 kB)\n",
      "Using cached jsonschema_specifications-2024.10.1-py3-none-any.whl (18 kB)\n",
      "Using cached locket-1.0.0-py2.py3-none-any.whl (4.4 kB)\n",
      "Using cached msgpack-1.0.8-cp312-cp312-macosx_11_0_arm64.whl (85 kB)\n",
      "Using cached nbformat-5.10.4-py3-none-any.whl (78 kB)\n",
      "Using cached numpy-2.2.0-cp312-cp312-macosx_14_0_arm64.whl (5.1 MB)\n",
      "Using cached openpyxl-3.1.5-py2.py3-none-any.whl (250 kB)\n",
      "Using cached orjson-3.10.12-cp312-cp312-macosx_10_15_x86_64.macosx_11_0_arm64.macosx_10_15_universal2.whl (248 kB)\n",
      "Using cached pandas-2.2.3-cp312-cp312-macosx_11_0_arm64.whl (11.4 MB)\n",
      "Using cached partd-1.4.2-py3-none-any.whl (18 kB)\n",
      "Using cached plotly-5.24.1-py3-none-any.whl (19.1 MB)\n",
      "Using cached protobuf-5.29.1-cp38-abi3-macosx_10_9_universal2.whl (417 kB)\n",
      "Using cached psutil-6.1.0-cp36-abi3-macosx_11_0_arm64.whl (248 kB)\n",
      "Using cached pyarrow-18.1.0-cp312-cp312-macosx_12_0_arm64.whl (29.5 MB)\n",
      "Using cached pydash-8.0.4-py3-none-any.whl (101 kB)\n",
      "Using cached pytz-2024.1-py2.py3-none-any.whl (505 kB)\n",
      "Using cached PyYAML-6.0.2-cp312-cp312-macosx_11_0_arm64.whl (173 kB)\n",
      "Using cached referencing-0.35.1-py3-none-any.whl (26 kB)\n",
      "Using cached requests-2.32.3-py3-none-any.whl (64 kB)\n",
      "Using cached rpds_py-0.22.3-cp312-cp312-macosx_11_0_arm64.whl (342 kB)\n",
      "Using cached scipy-1.14.1-cp312-cp312-macosx_14_0_arm64.whl (23.1 MB)\n",
      "Using cached sedaro-4.16.2-py3-none-any.whl (402 kB)\n",
      "Using cached setuptools-75.6.0-py3-none-any.whl (1.2 MB)\n",
      "Using cached spiceypy-6.0.0-py3-none-macosx_11_0_arm64.whl (1.4 MB)\n",
      "Using cached tenacity-9.0.0-py3-none-any.whl (28 kB)\n",
      "Using cached toolz-1.0.0-py3-none-any.whl (56 kB)\n",
      "Using cached tqdm-4.66.6-py3-none-any.whl (78 kB)\n",
      "Using cached typing_extensions-4.12.2-py3-none-any.whl (37 kB)\n",
      "Using cached tzdata-2024.2-py2.py3-none-any.whl (346 kB)\n",
      "Using cached urllib3-1.26.20-py2.py3-none-any.whl (144 kB)\n",
      "Using cached uuid6-2023.5.2-py3-none-any.whl (6.4 kB)\n",
      "Installing collected packages: pytz, flatdict, fastjsonschema, uuid6, urllib3, tzdata, typing_extensions, tqdm, toolz, tenacity, setuptools, rpds-py, PyYAML, pyarrow, psutil, protobuf, orjson, numpy, msgpack, locket, ipynb, idna, grpcio, fsspec, frozendict, et_xmlfile, cloudpickle, click, charset-normalizer, certifi, attrs, spiceypy, scipy, requests, referencing, pydash, plotly, partd, pandas, openpyxl, ipython, grpcio-tools, jsonschema-specifications, dask, jsonschema, dask-expr, nbformat, sedaro\n",
      "  Attempting uninstall: psutil\n",
      "    Found existing installation: psutil 6.1.1\n",
      "    Uninstalling psutil-6.1.1:\n",
      "      Successfully uninstalled psutil-6.1.1\n",
      "  Attempting uninstall: ipython\n",
      "    Found existing installation: ipython 8.31.0\n",
      "    Uninstalling ipython-8.31.0:\n",
      "      Successfully uninstalled ipython-8.31.0\n",
      "Successfully installed PyYAML-6.0.2 attrs-24.3.0 certifi-2024.12.14 charset-normalizer-3.4.0 click-8.1.7 cloudpickle-3.1.0 dask-2024.12.0 dask-expr-1.1.20 et_xmlfile-2.0.0 fastjsonschema-2.21.1 flatdict-4.0.1 frozendict-2.3.10 fsspec-2024.10.0 grpcio-1.68.1 grpcio-tools-1.68.1 idna-3.10 ipynb-0.5.1 ipython-8.30.0 jsonschema-4.23.0 jsonschema-specifications-2024.10.1 locket-1.0.0 msgpack-1.0.8 nbformat-5.10.4 numpy-2.2.0 openpyxl-3.1.5 orjson-3.10.12 pandas-2.2.3 partd-1.4.2 plotly-5.24.1 protobuf-5.29.1 psutil-6.1.0 pyarrow-18.1.0 pydash-8.0.4 pytz-2024.1 referencing-0.35.1 requests-2.32.3 rpds-py-0.22.3 scipy-1.14.1 sedaro-4.16.2 setuptools-75.6.0 spiceypy-6.0.0 tenacity-9.0.0 toolz-1.0.0 tqdm-4.66.6 typing_extensions-4.12.2 tzdata-2024.2 urllib3-1.26.20 uuid6-2023.5.2\n",
      "\n",
      "\u001b[1m[\u001b[0m\u001b[34;49mnotice\u001b[0m\u001b[1;39;49m]\u001b[0m\u001b[39;49m A new release of pip is available: \u001b[0m\u001b[31;49m24.0\u001b[0m\u001b[39;49m -> \u001b[0m\u001b[32;49m24.3.1\u001b[0m\n",
      "\u001b[1m[\u001b[0m\u001b[34;49mnotice\u001b[0m\u001b[1;39;49m]\u001b[0m\u001b[39;49m To update, run: \u001b[0m\u001b[32;49mpip install --upgrade pip\u001b[0m\n",
      "Note: you may need to restart the kernel to use updated packages.\n"
     ]
    }
   ],
   "source": [
    "%pip install -r requirements.txt"
   ]
  },
  {
   "cell_type": "markdown",
   "metadata": {},
   "source": [
    "Import modules and configure some settings for the cosimulation. You can change the minimum uplink requirement here or\n",
    "change the branch ids to use this notebook for your own repository."
   ]
  },
  {
   "cell_type": "code",
   "execution_count": 1,
   "metadata": {},
   "outputs": [],
   "source": [
    "from scipy.optimize import milp, LinearConstraint, Bounds\n",
    "import numpy as np\n",
    "from utils import sedaroLogin, contact_booleans_to_intervals, selected_contacts_to_schedule\n",
    "from typing import Any\n",
    "import time\n",
    "from math import ceil\n",
    "\n",
    "# Settings\n",
    "scenario_branch = 'PPPsqqNVh7HjbZsB7vtT7d'\n",
    "ground_segment_template = 'PPPsg2D3KJwJMZ6mfPhHgb' # Read-only\n",
    "gs_agent_name = 'Atlas (Enterprise)'\n",
    "minimum_uplink = 1000000000 # bits\n",
    "schedule_period = 4 # hours\n",
    "\n",
    "\n",
    "# Constants\n",
    "RESOLUTION_SECONDS = 10. # Sedaro provides a handle for scheduling contacts at 10s resolution\n",
    "\n",
    "client = sedaroLogin()\n",
    "scenario = client.scenario(scenario_branch)\n",
    "template = client.agent_template(ground_segment_template)\n",
    "uplink_bitrate = template.ScheduledTransmitInterface.get_first().onBitRate\n"
   ]
  },
  {
   "cell_type": "markdown",
   "metadata": {},
   "source": [
    "Set up scheduling as an Integer Linear Programming Problem"
   ]
  },
  {
   "cell_type": "code",
   "execution_count": 2,
   "metadata": {},
   "outputs": [],
   "source": [
    "def optimize_schedule(\n",
    "        contact_intervals: list[tuple[int, int]],\n",
    "        c_location: dict[str, list[int]],\n",
    "        c_tg: dict[str, list[int]],\n",
    "        durations: list[int],\n",
    ") -> tuple[dict[str, Any], ...]:\n",
    "    '''\n",
    "    Based on reference [1], set up the contact scheduling as an integer linear programming problem, then solve using\n",
    "    scipy.optimize.milp.\n",
    "\n",
    "    Args:\n",
    "        contact_intervals: A list of all contacts, represented as a tuple of start and stop indices\n",
    "        c_location: A dictionary of the list of contact indices for each location\n",
    "        c_tg: A dictionary of the list of contact indices for each target group\n",
    "        durations: The duration of each contact in contact_intervals\n",
    "\n",
    "    [1] Eddy, D., Ho, M., and Kochenderfer, M. J., “Optimal Ground Station Selection for Low-Earth Orbiting Satellites”, \n",
    "        arXiv e-prints, Art. no. arXiv:2410.16282, 2024. doi:10.48550/arXiv.2410.16282.\n",
    "    '''\n",
    "    n_contacts = len(contact_intervals)\n",
    "    # The solution vector x is a list of binaries of length 2*len(C). The first len(C) selects contacts for downlink\n",
    "    # and the second len(C) selects contacts for uplink. We will maximize data downlink while satisfying the minimum \n",
    "    # uplink requirements. \n",
    "\n",
    "    # First, well set up the objective function. The amount of data linked down is proportional to link duration\n",
    "    f = -np.hstack([np.array(durations), np.zeros(n_contacts)])\n",
    "\n",
    "    # Next, we set up the constraints.\n",
    "    constraints = []\n",
    "    # The first constraint is the aforementioned minimum uplink requirement per plane\n",
    "    minimum_uplink_steps = minimum_uplink / uplink_bitrate / RESOLUTION_SECONDS\n",
    "    for indices in c_tg.values():\n",
    "        # element-wise product to select only the contacts that are in the target group\n",
    "        plane_weight = np.array(durations) * np.array([1 if i in indices else 0 for i in range(n_contacts)])\n",
    "        A = np.hstack([np.zeros(n_contacts), plane_weight])\n",
    "        constraints.append(LinearConstraint(A, lb=minimum_uplink_steps))\n",
    "\n",
    "    # The second is that each antenna can only communicate with one spacecraft at a time, based on eqn. 11\n",
    "    # The third is like it. Eddy et al. require each spacecraft only communicate with one antenna at a time (eqn. 12),\n",
    "    # but we require the stronger condition that each target group communicate with one antenna at a time. These are \n",
    "    # similar constraints, so we set up a helper function to create all of these constraints efficiently.\n",
    "    def exclusion_matrix(entity_contacts):\n",
    "        '''\n",
    "        Returns a matrix for evaluating exclusion constraints. Each row will find the sum of conflicting contacts. This\n",
    "        matrix can be used to create an efficient LinearConstraint to enforce A@x <= 1.\n",
    "        '''\n",
    "        exclusion_rows = []\n",
    "        for contact_indices in entity_contacts.values():\n",
    "            # Contacts sorted by start time. List of pairs where the first element is the start and stop time and the\n",
    "            # second is the index in contact_indices pre-sorting\n",
    "            flattened_schedule_indices = sorted([(contact_intervals[i], i) for i in contact_indices], key=lambda x: x[0][0])\n",
    "            # Transpose\n",
    "            flat_schedule, sorted_indices = zip(*flattened_schedule_indices)\n",
    "            # Loop through the flattened schedule to look for any overlapping contacts\n",
    "            for i in range(1, len(flat_schedule)):\n",
    "                if flat_schedule[i][0] < flat_schedule[i-1][1]:\n",
    "                    # These contacts overlap, so we must make a constraint that only one of them is selected, including uplink\n",
    "                    contact1_index = sorted_indices[i]\n",
    "                    contact2_index = sorted_indices[i-1]\n",
    "                    A = np.zeros(2*n_contacts)\n",
    "                    A[contact1_index] = 1\n",
    "                    A[contact2_index] = 1\n",
    "                    A[contact1_index+n_contacts] = 1\n",
    "                    A[contact2_index+n_contacts] = 1\n",
    "                    exclusion_rows.append(A)\n",
    "        return np.vstack(exclusion_rows) if exclusion_rows else None\n",
    "    \n",
    "    # Add constraint if any location overlaps exist\n",
    "    if (station_exclusion_rows := exclusion_matrix(c_location)) is not None:\n",
    "        constraints.append(LinearConstraint(station_exclusion_rows, ub=1))\n",
    "    # Same for target groups\n",
    "    if (tg_exclusion_rows := exclusion_matrix(c_tg)) is not None:\n",
    "        constraints.append(LinearConstraint(tg_exclusion_rows, ub=1))\n",
    "\n",
    "    # Run the solver and time it for fun\n",
    "    start = time.time()\n",
    "    result = milp(\n",
    "        f, # f@x is minimized\n",
    "        integrality=np.ones(2*n_contacts), # all params are integers\n",
    "        bounds=Bounds(0, 1), # all params are binary\n",
    "        constraints=constraints\n",
    "        ) \n",
    "    end = time.time()\n",
    "    print(f\"Optimization took {end-start} seconds. {result.message}\")\n",
    "\n",
    "    return result.x\n",
    "    "
   ]
  },
  {
   "cell_type": "markdown",
   "metadata": {},
   "source": [
    "Set up cosimulated external state. You only need to run this if you change the scheduler id or require any additional\n",
    "schedule inputs. (However, the old external state is cleared, so it will not hurt to run if you're not sure.)"
   ]
  },
  {
   "cell_type": "code",
   "execution_count": 3,
   "metadata": {},
   "outputs": [],
   "source": [
    "# clear out existing blocks\n",
    "scenario.delete_all_external_state_blocks()\n",
    "\n",
    "# Get the ground segment agent\n",
    "gs_agent = scenario.Agent.get_where(name=gs_agent_name)[0]\n",
    "\n",
    "# The existing scheduler will provide us a handle for the the contacts, and we can overwrite the schedule\n",
    "scheduler = template.ContactScheduler.get_first()\n",
    "external_state = scenario.PerRoundExternalState.create(\n",
    "    consumed = f'''(\n",
    "        block!(\"{scheduler.id}\").(projectedContacts, targetSeries),\n",
    "        block!(\"{scheduler.id}\").interfaces.(id, type),\n",
    "        block!(\"{scheduler.id}\").interfaces.linkTargetGroup.(id, targets.id, targets.agentId),\n",
    "        time\n",
    "    )''',\n",
    "    produced = f'(block!(\"{scheduler.id}\").schedule,)',\n",
    "    engine = 'cdh',\n",
    "    agents = [gs_agent.id]\n",
    ")\n",
    "ancillary_state = scenario.PerRoundExternalState.create(\n",
    "    consumed='(elapsedTime as Duration.hour,)',\n",
    "    produced = f'''(\n",
    "        block!(\"{scheduler.id}\")._generateNewSchedule,\n",
    "        block!(\"{scheduler.id}\").cycleDuration as Duration.hour,\n",
    "    )''',\n",
    "    engine = 'cdh',\n",
    "    agents = [gs_agent.id]\n",
    ")"
   ]
  },
  {
   "cell_type": "markdown",
   "metadata": {},
   "source": [
    "## Cosimulate\n",
    "\n",
    "Once we start the simulation, we'll check the elapsed sim time to see if a new schedule is needed. If so, we'll get the\n",
    "required inputs to determine the contact intervals and pass them into the optimizer. The optimizer will choose the\n",
    "contacts, which are then parsed into a schedule and sent to the simulation.\n",
    "\n",
    "The Exception at the end of the simulation is expected and does not necessarily mean that the cosimulation failed."
   ]
  },
  {
   "cell_type": "code",
   "execution_count": 4,
   "metadata": {},
   "outputs": [
    {
     "name": "stdout",
     "output_type": "stream",
     "text": [
      "Simulation started!\n",
      "Channel opened!\n",
      "Generating new schedule!\n",
      "Getting inputs...\n",
      "Setting up optimizer...\n",
      "Optimization took 0.32497096061706543 seconds. Optimization terminated successfully. (HiGHS Status 7: Optimal)\n",
      "Parsing optimizer output...\n",
      "Done! Simulation is executing the schedule.\n",
      "Generating new schedule!\n",
      "Getting inputs...\n",
      "Setting up optimizer...\n",
      "Optimization took 9.573915958404541 seconds. Optimization terminated successfully. (HiGHS Status 7: Optimal)\n",
      "Parsing optimizer output...\n",
      "Done! Simulation is executing the schedule.\n",
      "Generating new schedule!\n",
      "Getting inputs...\n",
      "Setting up optimizer...\n",
      "Optimization took 0.1282179355621338 seconds. Optimization terminated successfully. (HiGHS Status 7: Optimal)\n",
      "Parsing optimizer output...\n",
      "Done! Simulation is executing the schedule.\n"
     ]
    },
    {
     "name": "stderr",
     "output_type": "stream",
     "text": [
      "ERROR:root:Unexpected response state: 1\n",
      "ERROR:root:Consume operation failed for index 8641: Unexpected response state.\n",
      "ERROR:root:Cosimulation session encountered an error: Unexpected response state.\n"
     ]
    },
    {
     "ename": "Exception",
     "evalue": "Unexpected response state.",
     "output_type": "error",
     "traceback": [
      "\u001b[0;31m---------------------------------------------------------------------------\u001b[0m",
      "\u001b[0;31mException\u001b[0m                                 Traceback (most recent call last)",
      "Cell \u001b[0;32mIn[4], line 11\u001b[0m\n\u001b[1;32m      9\u001b[0m \u001b[38;5;66;03m# Simulation loop\u001b[39;00m\n\u001b[1;32m     10\u001b[0m \u001b[38;5;28;01mwhile\u001b[39;00m \u001b[38;5;28;01mTrue\u001b[39;00m:\n\u001b[0;32m---> 11\u001b[0m     ancillary_data \u001b[38;5;241m=\u001b[39m \u001b[38;5;28;01mawait\u001b[39;00m channel\u001b[38;5;241m.\u001b[39mconsume(agent_id\u001b[38;5;241m=\u001b[39mgs_agent\u001b[38;5;241m.\u001b[39mid, external_state_id\u001b[38;5;241m=\u001b[39mancillary_state\u001b[38;5;241m.\u001b[39mid)\n\u001b[1;32m     12\u001b[0m     \u001b[38;5;66;03m# We don't know if we need the detailed schedule inputs yet, so we keep this as a future\u001b[39;00m\n\u001b[1;32m     13\u001b[0m     schedule_inputs \u001b[38;5;241m=\u001b[39m channel\u001b[38;5;241m.\u001b[39mconsume(agent_id\u001b[38;5;241m=\u001b[39mgs_agent\u001b[38;5;241m.\u001b[39mid, external_state_id\u001b[38;5;241m=\u001b[39mexternal_state\u001b[38;5;241m.\u001b[39mid)\n",
      "File \u001b[0;32m~/sedaro/notebooks-public/.test/lib/python3.12/site-packages/sedaro/grpc_client/cosim_client.py:255\u001b[0m, in \u001b[0;36mCosimClient.consume\u001b[0;34m(self, external_state_id, agent_id, timestamp)\u001b[0m\n\u001b[1;32m    253\u001b[0m \u001b[38;5;28;01mexcept\u001b[39;00m \u001b[38;5;167;01mException\u001b[39;00m \u001b[38;5;28;01mas\u001b[39;00m e:\n\u001b[1;32m    254\u001b[0m     logging\u001b[38;5;241m.\u001b[39merror(\u001b[38;5;124mf\u001b[39m\u001b[38;5;124m\"\u001b[39m\u001b[38;5;124mConsume operation failed for index \u001b[39m\u001b[38;5;132;01m{\u001b[39;00mindex\u001b[38;5;132;01m}\u001b[39;00m\u001b[38;5;124m: \u001b[39m\u001b[38;5;132;01m{\u001b[39;00me\u001b[38;5;132;01m}\u001b[39;00m\u001b[38;5;124m\"\u001b[39m)\n\u001b[0;32m--> 255\u001b[0m     \u001b[38;5;28;01mraise\u001b[39;00m e\n",
      "File \u001b[0;32m~/sedaro/notebooks-public/.test/lib/python3.12/site-packages/sedaro/grpc_client/cosim_client.py:248\u001b[0m, in \u001b[0;36mCosimClient.consume\u001b[0;34m(self, external_state_id, agent_id, timestamp)\u001b[0m\n\u001b[1;32m    246\u001b[0m simulation_action\u001b[38;5;241m.\u001b[39mconsume\u001b[38;5;241m.\u001b[39mCopyFrom(consume_action)\n\u001b[1;32m    247\u001b[0m \u001b[38;5;28;01mtry\u001b[39;00m:\n\u001b[0;32m--> 248\u001b[0m     response \u001b[38;5;241m=\u001b[39m \u001b[38;5;28;01mawait\u001b[39;00m \u001b[38;5;28mself\u001b[39m\u001b[38;5;241m.\u001b[39m_send_simulation_action(\n\u001b[1;32m    249\u001b[0m         simulation_action,\n\u001b[1;32m    250\u001b[0m     )\n\u001b[1;32m    251\u001b[0m     logging\u001b[38;5;241m.\u001b[39minfo(\u001b[38;5;124mf\u001b[39m\u001b[38;5;124m\"\u001b[39m\u001b[38;5;124mConsumed message with index \u001b[39m\u001b[38;5;132;01m{\u001b[39;00mindex\u001b[38;5;132;01m}\u001b[39;00m\u001b[38;5;124m: \u001b[39m\u001b[38;5;132;01m{\u001b[39;00mresponse\u001b[38;5;132;01m}\u001b[39;00m\u001b[38;5;124m\"\u001b[39m)\n\u001b[1;32m    252\u001b[0m     \u001b[38;5;28;01mreturn\u001b[39;00m \u001b[38;5;28mtuple\u001b[39m(serdes(v) \u001b[38;5;28;01mfor\u001b[39;00m v \u001b[38;5;129;01min\u001b[39;00m json\u001b[38;5;241m.\u001b[39mloads(response)[\u001b[38;5;124m\"\u001b[39m\u001b[38;5;124mpayload\u001b[39m\u001b[38;5;124m\"\u001b[39m])\n",
      "File \u001b[0;32m~/sedaro/notebooks-public/.test/lib/python3.12/site-packages/sedaro/grpc_client/cosim_client.py:162\u001b[0m, in \u001b[0;36mCosimClient._send_simulation_action\u001b[0;34m(self, action)\u001b[0m\n\u001b[1;32m    160\u001b[0m \u001b[38;5;28;01mif\u001b[39;00m response\u001b[38;5;241m.\u001b[39mstate \u001b[38;5;241m!=\u001b[39m cosim_pb2\u001b[38;5;241m.\u001b[39mState\u001b[38;5;241m.\u001b[39mSUCCESS:\n\u001b[1;32m    161\u001b[0m     logging\u001b[38;5;241m.\u001b[39merror(\u001b[38;5;124mf\u001b[39m\u001b[38;5;124m\"\u001b[39m\u001b[38;5;124mUnexpected response state: \u001b[39m\u001b[38;5;132;01m{\u001b[39;00mresponse\u001b[38;5;241m.\u001b[39mstate\u001b[38;5;132;01m}\u001b[39;00m\u001b[38;5;124m\"\u001b[39m)\n\u001b[0;32m--> 162\u001b[0m     \u001b[38;5;28;01mraise\u001b[39;00m \u001b[38;5;167;01mException\u001b[39;00m(\u001b[38;5;124m\"\u001b[39m\u001b[38;5;124mUnexpected response state.\u001b[39m\u001b[38;5;124m\"\u001b[39m)\n\u001b[1;32m    164\u001b[0m \u001b[38;5;28;01mif\u001b[39;00m action\u001b[38;5;241m.\u001b[39mWhichOneof(\u001b[38;5;124m\"\u001b[39m\u001b[38;5;124mrequest\u001b[39m\u001b[38;5;124m\"\u001b[39m) \u001b[38;5;241m==\u001b[39m \u001b[38;5;124m\"\u001b[39m\u001b[38;5;124mconsume\u001b[39m\u001b[38;5;124m\"\u001b[39m:\n\u001b[1;32m    165\u001b[0m     consume_resp \u001b[38;5;241m=\u001b[39m response\u001b[38;5;241m.\u001b[39mWhichOneof(\u001b[38;5;124m\"\u001b[39m\u001b[38;5;124mresponse\u001b[39m\u001b[38;5;124m\"\u001b[39m)\n",
      "\u001b[0;31mException\u001b[0m: Unexpected response state."
     ]
    }
   ],
   "source": [
    "schedules_published = 0\n",
    "schedule = None\n",
    "\n",
    "# Start the simulation\n",
    "with scenario.simulation.start(wait=True) as simulation_handle:\n",
    "    print('Simulation started!')\n",
    "    async with simulation_handle.async_channel() as channel:\n",
    "        print('Channel opened!')\n",
    "        # Simulation loop\n",
    "        while True:\n",
    "            ancillary_data = await channel.consume(agent_id=gs_agent.id, external_state_id=ancillary_state.id)\n",
    "            # We don't know if we need the detailed schedule inputs yet, so we keep this as a future\n",
    "            schedule_inputs = channel.consume(agent_id=gs_agent.id, external_state_id=external_state.id)\n",
    "            t_h = ancillary_data[0]\n",
    "            # Check if the schedule period has elapsed\n",
    "            if ceil(t_h / schedule_period) > schedules_published:\n",
    "                print(\"Generating new schedule!\")\n",
    "                schedules_published += 1\n",
    "                # Set _generateNewSchedule to True to trigger contact projection\n",
    "                await channel.produce(agent_id=gs_agent.id, external_state_id=ancillary_state.id,values=(True, schedule_period))\n",
    "                print(\"Getting inputs...\")\n",
    "                (projected_contacts, target_series), interface_ids, tg_targets, mjd = await schedule_inputs\n",
    "                print('Setting up optimizer...')\n",
    "                # Pre-processing to projected contacts as discrete intervals\n",
    "                c_t, contact_intervals, c_location, c_satellite, c_tg, durations, contact_labels = contact_booleans_to_intervals(projected_contacts, tg_targets)\n",
    "                # This runs the optimizer which selects contacts\n",
    "                contacts_selected = optimize_schedule(contact_intervals, c_location, c_tg, durations)\n",
    "                # Parse the optimizer output into a schedule that the sim can interpret\n",
    "                print('Parsing optimizer output...')\n",
    "                schedule = selected_contacts_to_schedule(\n",
    "                    contacts_selected, \n",
    "                    contact_intervals,\n",
    "                    contact_labels,\n",
    "                    target_series,\n",
    "                    interface_ids,\n",
    "                    tg_targets,\n",
    "                    mjd,\n",
    "                    RESOLUTION_SECONDS,\n",
    "                    )\n",
    "                await channel.produce(agent_id=gs_agent.id, external_state_id=external_state.id, values=(schedule,))\n",
    "                print('Done! Simulation is executing the schedule.')\n",
    "            else:\n",
    "                await channel.produce(agent_id=gs_agent.id, external_state_id=ancillary_state.id, values=(False, schedule_period))\n",
    "                await channel.produce(agent_id=gs_agent.id, external_state_id=external_state.id, values=(schedule,))\n",
    "                await schedule_inputs"
   ]
  },
  {
   "cell_type": "markdown",
   "metadata": {},
   "source": [
    "## Plot resulting schedule"
   ]
  },
  {
   "cell_type": "code",
   "execution_count": 5,
   "metadata": {},
   "outputs": [
    {
     "name": "stdout",
     "output_type": "stream",
     "text": [
      "Downloading...\n",
      "...download complete!\n"
     ]
    },
    {
     "data": {
      "application/vnd.plotly.v1+json": {
       "config": {
        "plotlyServerURL": "https://plot.ly"
       },
       "data": [
        {
         "alignmentgroup": "True",
         "base": [
          "2024-10-31T00:15:20.000086+00:00",
          "2024-10-31T03:31:30.000087+00:00",
          "2024-10-31T03:55:40.000086+00:00",
          "2024-10-31T04:21:50.000086+00:00",
          "2024-10-31T06:32:50.000086+00:00",
          "2024-10-31T07:43:20.000086+00:00",
          "2024-10-31T08:00:00.000086+00:00",
          "2024-10-31T09:45:20.000086+00:00",
          "2024-10-31T09:57:20.000086+00:00",
          "2024-10-31T10:33:40.000087+00:00",
          "2024-10-31T02:10:30.000086+00:00",
          "2024-10-31T08:00:00.000086+00:00"
         ],
         "hovertemplate": "target=Spacecraft 1-1<br>start=%{base}<br>end=%{x}<br>antenna=%{y}<extra></extra>",
         "legendgroup": "Spacecraft 1-1",
         "marker": {
          "color": "#636efa",
          "pattern": {
           "shape": ""
          }
         },
         "name": "Spacecraft 1-1",
         "offsetgroup": "Spacecraft 1-1",
         "orientation": "h",
         "showlegend": true,
         "textposition": "auto",
         "type": "bar",
         "x": [
          80000.001,
          749999.999,
          230000,
          710000.001,
          770000.001,
          820000,
          370000.001,
          150000,
          550000,
          59999.999,
          130000,
          370000.001
         ],
         "xaxis": "x",
         "y": [
          "Dundee",
          "Dundee",
          "Dubai",
          "Awarua",
          "Mojave",
          "Awarua",
          "Tahiti",
          "Paumalu",
          "Utqiagvik",
          "Sunyani",
          "Dubai",
          "Tahiti"
         ],
         "yaxis": "y"
        },
        {
         "alignmentgroup": "True",
         "base": [
          "2024-10-31T00:03:20.000086+00:00",
          "2024-10-31T02:27:00.000086+00:00",
          "2024-10-31T04:09:30.000086+00:00",
          "2024-10-31T05:24:50.000086+00:00",
          "2024-10-31T05:50:50.000086+00:00",
          "2024-10-31T06:58:20.000086+00:00",
          "2024-10-31T07:31:30.000086+00:00",
          "2024-10-31T08:46:20.000086+00:00",
          "2024-10-31T09:16:00.000086+00:00",
          "2024-10-31T09:35:40.000086+00:00",
          "2024-10-31T11:23:40.000086+00:00",
          "2024-10-31T10:13:50.000086+00:00"
         ],
         "hovertemplate": "target=Spacecraft 1-2<br>start=%{base}<br>end=%{x}<br>antenna=%{y}<extra></extra>",
         "legendgroup": "Spacecraft 1-2",
         "marker": {
          "color": "#EF553B",
          "pattern": {
           "shape": ""
          }
         },
         "name": "Spacecraft 1-2",
         "offsetgroup": "Spacecraft 1-2",
         "orientation": "h",
         "showlegend": true,
         "textposition": "auto",
         "type": "bar",
         "x": [
          20000.001,
          760000,
          710000,
          60000,
          1560000,
          450000.001,
          710000,
          50000,
          460000,
          580000,
          680000,
          630000
         ],
         "xaxis": "x",
         "y": [
          "Dundee",
          "Awarua",
          "Awarua",
          "Dubai",
          "Awarua",
          "Mwulire",
          "Awarua",
          "Mwulire",
          "Awarua",
          "Paumalu",
          "Utqiagvik",
          "Sunyani"
         ],
         "yaxis": "y"
        },
        {
         "alignmentgroup": "True",
         "base": [
          "2024-10-31T00:16:40.000087+00:00",
          "2024-10-31T01:26:00.000086+00:00",
          "2024-10-31T03:07:00.000086+00:00",
          "2024-10-31T04:00:00.000086+00:00",
          "2024-10-31T04:33:40.000087+00:00",
          "2024-10-31T04:48:00.000086+00:00",
          "2024-10-31T05:38:50.000086+00:00",
          "2024-10-31T09:00:40.000087+00:00",
          "2024-10-31T10:06:30.000086+00:00",
          "2024-10-31T10:53:20.000086+00:00",
          "2024-10-31T10:58:40.000086+00:00",
          "2024-10-31T11:12:20.000086+00:00"
         ],
         "hovertemplate": "target=Spacecraft 1-3<br>start=%{base}<br>end=%{x}<br>antenna=%{y}<extra></extra>",
         "legendgroup": "Spacecraft 1-3",
         "marker": {
          "color": "#00cc96",
          "pattern": {
           "shape": ""
          }
         },
         "name": "Spacecraft 1-3",
         "offsetgroup": "Spacecraft 1-3",
         "orientation": "h",
         "showlegend": true,
         "textposition": "auto",
         "type": "bar",
         "x": [
          649999.999,
          820000,
          820000,
          540000,
          79999.999,
          100000,
          720000,
          519999.999,
          230000,
          200000,
          20000,
          670000
         ],
         "xaxis": "x",
         "y": [
          "Harmon",
          "Dundee",
          "Dundee",
          "Awarua",
          "Mojave",
          "Dundee",
          "Awarua",
          "Awarua",
          "Sunyani",
          "Harmon",
          "Harmon",
          "Utqiagvik"
         ],
         "yaxis": "y"
        },
        {
         "alignmentgroup": "True",
         "base": [
          "2024-10-31T00:03:40.000087+00:00",
          "2024-10-31T01:13:10.000086+00:00",
          "2024-10-31T02:01:30.000087+00:00",
          "2024-10-31T03:44:00.000086+00:00",
          "2024-10-31T04:49:40.000086+00:00",
          "2024-10-31T07:19:10.000086+00:00",
          "2024-10-31T08:47:10.000086+00:00",
          "2024-10-31T09:47:50.000086+00:00",
          "2024-10-31T10:45:10.000086+00:00",
          "2024-10-31T10:59:00.000086+00:00"
         ],
         "hovertemplate": "target=Spacecraft 1-4<br>start=%{base}<br>end=%{x}<br>antenna=%{y}<extra></extra>",
         "legendgroup": "Spacecraft 1-4",
         "marker": {
          "color": "#ab63fa",
          "pattern": {
           "shape": ""
          }
         },
         "name": "Spacecraft 1-4",
         "offsetgroup": "Spacecraft 1-4",
         "orientation": "h",
         "showlegend": true,
         "textposition": "auto",
         "type": "bar",
         "x": [
          699999.999,
          770000,
          769999.999,
          700000,
          640000,
          740000,
          730000,
          570000,
          310000,
          660000
         ],
         "xaxis": "x",
         "y": [
          "Harmon",
          "Dundee",
          "Awarua",
          "Awarua",
          "Dubai",
          "Tahiti",
          "Awarua",
          "Sunyani",
          "Harmon",
          "Utqiagvik"
         ],
         "yaxis": "y"
        },
        {
         "alignmentgroup": "True",
         "base": [
          "2024-10-31T00:00:00.000086+00:00",
          "2024-10-31T01:00:40.000086+00:00",
          "2024-10-31T01:48:30.000086+00:00",
          "2024-10-31T02:41:10.000087+00:00",
          "2024-10-31T05:12:30.000086+00:00",
          "2024-10-31T05:25:50.000086+00:00",
          "2024-10-31T06:20:50.000087+00:00",
          "2024-10-31T07:05:50.000087+00:00",
          "2024-10-31T07:57:00.000086+00:00",
          "2024-10-31T08:06:10.000087+00:00",
          "2024-10-31T08:33:40.000086+00:00",
          "2024-10-31T08:38:20.000086+00:00",
          "2024-10-31T09:09:20.000086+00:00"
         ],
         "hovertemplate": "target=Spacecraft 1-5<br>start=%{base}<br>end=%{x}<br>antenna=%{y}<extra></extra>",
         "legendgroup": "Spacecraft 1-5",
         "marker": {
          "color": "#FFA15A",
          "pattern": {
           "shape": ""
          }
         },
         "name": "Spacecraft 1-5",
         "offsetgroup": "Spacecraft 1-5",
         "orientation": "h",
         "showlegend": true,
         "textposition": "auto",
         "type": "bar",
         "x": [
          200000,
          750000,
          780000.001,
          689999.999,
          740000,
          710000,
          719999.999,
          749999.999,
          170000,
          229999.999,
          90000,
          480000,
          400000
         ],
         "xaxis": "x",
         "y": [
          "Harmon",
          "Dundee",
          "Awarua",
          "Dundee",
          "Awarua",
          "Tahiti",
          "Mwulire",
          "Tahiti",
          "Sunyani",
          "Mwulire",
          "Awarua",
          "Awarua",
          "Utqiagvik"
         ],
         "yaxis": "y"
        },
        {
         "alignmentgroup": "True",
         "base": [
          "2024-10-31T00:48:10.000086+00:00",
          "2024-10-31T05:00:20.000086+00:00",
          "2024-10-31T05:37:40.000086+00:00",
          "2024-10-31T06:16:50.000086+00:00",
          "2024-10-31T07:18:20.000086+00:00",
          "2024-10-31T08:21:50.000086+00:00",
          "2024-10-31T09:23:40.000086+00:00",
          "2024-10-31T10:20:00.000087+00:00",
          "2024-10-31T10:34:40.000086+00:00",
          "2024-10-31T03:18:20.000086+00:00"
         ],
         "hovertemplate": "target=Spacecraft 1-6<br>start=%{base}<br>end=%{x}<br>antenna=%{y}<extra></extra>",
         "legendgroup": "Spacecraft 1-6",
         "marker": {
          "color": "#19d3f3",
          "pattern": {
           "shape": ""
          }
         },
         "name": "Spacecraft 1-6",
         "offsetgroup": "Spacecraft 1-6",
         "orientation": "h",
         "showlegend": true,
         "textposition": "auto",
         "type": "bar",
         "x": [
          750000,
          730000,
          70000,
          240000.001,
          50000,
          710000,
          720000,
          180000,
          630000,
          720000
         ],
         "xaxis": "x",
         "y": [
          "Dundee",
          "Awarua",
          "Mojave",
          "Mwulire",
          "Mojave",
          "Awarua",
          "Sunyani",
          "Harmon",
          "Utqiagvik",
          "Awarua"
         ],
         "yaxis": "y"
        },
        {
         "alignmentgroup": "True",
         "base": [
          "2024-10-31T00:35:40.000086+00:00",
          "2024-10-31T02:16:20.000086+00:00",
          "2024-10-31T04:09:00.000086+00:00",
          "2024-10-31T04:21:20.000086+00:00",
          "2024-10-31T06:54:00.000087+00:00",
          "2024-10-31T08:10:00.000086+00:00",
          "2024-10-31T10:23:10.000086+00:00",
          "2024-10-31T10:56:40.000086+00:00",
          "2024-10-31T11:42:10.000086+00:00",
          "2024-10-31T03:57:20.000086+00:00",
          "2024-10-31T06:41:30.000087+00:00"
         ],
         "hovertemplate": "target=Spacecraft 1-7<br>start=%{base}<br>end=%{x}<br>antenna=%{y}<extra></extra>",
         "legendgroup": "Spacecraft 1-7",
         "marker": {
          "color": "#FF6692",
          "pattern": {
           "shape": ""
          }
         },
         "name": "Spacecraft 1-7",
         "offsetgroup": "Spacecraft 1-7",
         "orientation": "h",
         "showlegend": true,
         "textposition": "auto",
         "type": "bar",
         "x": [
          750000,
          640000,
          30000,
          30000,
          259999.999,
          710000,
          630000.001,
          120000,
          360000,
          150000,
          820000
         ],
         "xaxis": "x",
         "y": [
          "Dundee",
          "Dundee",
          "Dundee",
          "Dubai",
          "Paumalu",
          "Awarua",
          "Utqiagvik",
          "Sunyani",
          "Harmon",
          "Dundee",
          "Tahiti"
         ],
         "yaxis": "y"
        },
        {
         "alignmentgroup": "True",
         "base": [
          "2024-10-31T00:27:30.000086+00:00",
          "2024-10-31T02:52:40.000086+00:00",
          "2024-10-31T04:35:00.000086+00:00",
          "2024-10-31T06:45:40.000087+00:00",
          "2024-10-31T08:35:10.000086+00:00",
          "2024-10-31T08:59:20.000086+00:00",
          "2024-10-31T10:10:20.000086+00:00",
          "2024-10-31T11:35:00.000086+00:00",
          "2024-10-31T11:48:10.000086+00:00",
          "2024-10-31T07:56:50.000086+00:00"
         ],
         "hovertemplate": "target=Spacecraft 1-8<br>start=%{base}<br>end=%{x}<br>antenna=%{y}<extra></extra>",
         "legendgroup": "Spacecraft 1-8",
         "marker": {
          "color": "#B6E880",
          "pattern": {
           "shape": ""
          }
         },
         "name": "Spacecraft 1-8",
         "offsetgroup": "Spacecraft 1-8",
         "orientation": "h",
         "showlegend": true,
         "textposition": "auto",
         "type": "bar",
         "x": [
          490000,
          740000,
          710000,
          500000,
          190000,
          80000.001,
          580000.001,
          420000,
          700000,
          180000
         ],
         "xaxis": "x",
         "y": [
          "Dundee",
          "Awarua",
          "Awarua",
          "Mojave",
          "Utqiagvik",
          "Sunyani",
          "Utqiagvik",
          "Harmon",
          "Utqiagvik",
          "Awarua"
         ],
         "yaxis": "y"
        },
        {
         "alignmentgroup": "True",
         "base": [
          "2024-10-31T00:08:20.000087+00:00",
          "2024-10-31T01:25:10.000086+00:00",
          "2024-10-31T01:49:10.000086+00:00",
          "2024-10-31T02:03:40.000086+00:00",
          "2024-10-31T02:59:30.000087+00:00",
          "2024-10-31T04:34:20.000086+00:00",
          "2024-10-31T06:59:00.000086+00:00",
          "2024-10-31T07:12:00.000086+00:00",
          "2024-10-31T08:08:20.000086+00:00",
          "2024-10-31T10:33:30.000086+00:00",
          "2024-10-31T11:27:50.000086+00:00"
         ],
         "hovertemplate": "target=Spacecraft 2-1<br>start=%{base}<br>end=%{x}<br>antenna=%{y}<extra></extra>",
         "legendgroup": "Spacecraft 2-1",
         "marker": {
          "color": "#FF97FF",
          "pattern": {
           "shape": ""
          }
         },
         "name": "Spacecraft 2-1",
         "offsetgroup": "Spacecraft 2-1",
         "orientation": "h",
         "showlegend": true,
         "textposition": "auto",
         "type": "bar",
         "x": [
          1479999.999,
          670000,
          10000,
          90000,
          739999.999,
          680000,
          70000,
          750000,
          110000,
          750000,
          520000
         ],
         "xaxis": "x",
         "y": [
          "Chitose",
          "Dubai",
          "Chitose",
          "Paumalu",
          "Mwulire",
          "Sunyani",
          "Harmon",
          "Awarua",
          "Dundee",
          "Awarua",
          "Dundee"
         ],
         "yaxis": "y"
        },
        {
         "alignmentgroup": "True",
         "base": [
          "2024-10-31T01:36:20.000086+00:00",
          "2024-10-31T03:37:00.000086+00:00",
          "2024-10-31T04:24:10.000087+00:00",
          "2024-10-31T06:01:20.000086+00:00",
          "2024-10-31T07:00:10.000086+00:00",
          "2024-10-31T07:52:50.000086+00:00"
         ],
         "hovertemplate": "target=Spacecraft 2-2<br>start=%{base}<br>end=%{x}<br>antenna=%{y}<extra></extra>",
         "legendgroup": "Spacecraft 2-2",
         "marker": {
          "color": "#FECB52",
          "pattern": {
           "shape": ""
          }
         },
         "name": "Spacecraft 2-2",
         "offsetgroup": "Spacecraft 2-2",
         "orientation": "h",
         "showlegend": true,
         "textposition": "auto",
         "type": "bar",
         "x": [
          50000.001,
          820000,
          609999.999,
          670000.001,
          710000,
          420000
         ],
         "xaxis": "x",
         "y": [
          "Chitose",
          "Tahiti",
          "Mwulire",
          "Sunyani",
          "Awarua",
          "Dundee"
         ],
         "yaxis": "y"
        },
        {
         "alignmentgroup": "True",
         "base": [
          "2024-10-31T00:00:00.000086+00:00",
          "2024-10-31T01:21:30.000086+00:00",
          "2024-10-31T02:29:30.000086+00:00",
          "2024-10-31T04:15:00.000086+00:00",
          "2024-10-31T05:05:50.000086+00:00",
          "2024-10-31T06:47:40.000086+00:00",
          "2024-10-31T07:33:20.000086+00:00",
          "2024-10-31T07:39:50.000086+00:00",
          "2024-10-31T08:10:10.000086+00:00",
          "2024-10-31T09:19:20.000086+00:00",
          "2024-10-31T10:07:50.000086+00:00",
          "2024-10-31T11:00:10.000086+00:00",
          "2024-10-31T11:25:00.000086+00:00",
          "2024-10-31T01:38:00.000086+00:00",
          "2024-10-31T11:50:20.000086+00:00"
         ],
         "hovertemplate": "target=Spacecraft 2-3<br>start=%{base}<br>end=%{x}<br>antenna=%{y}<extra></extra>",
         "legendgroup": "Spacecraft 2-3",
         "marker": {
          "color": "#636efa",
          "pattern": {
           "shape": ""
          }
         },
         "name": "Spacecraft 2-3",
         "offsetgroup": "Spacecraft 2-3",
         "orientation": "h",
         "showlegend": true,
         "textposition": "auto",
         "type": "bar",
         "x": [
          500000.001,
          180000,
          780000,
          420000,
          680000,
          680000,
          250000,
          770000,
          650000.001,
          830000,
          770000,
          770000,
          170000,
          370000,
          570000
         ],
         "xaxis": "x",
         "y": [
          "Mojave",
          "Chitose",
          "Mwulire",
          "Mwulire",
          "Tahiti",
          "Awarua",
          "Sunyani",
          "Dundee",
          "Harmon",
          "Dundee",
          "Awarua",
          "Dundee",
          "Dubai",
          "Mojave",
          "Awarua"
         ],
         "yaxis": "y"
        },
        {
         "alignmentgroup": "True",
         "base": [
          "2024-10-31T01:09:30.000086+00:00",
          "2024-10-31T01:24:30.000086+00:00",
          "2024-10-31T02:17:10.000086+00:00",
          "2024-10-31T03:11:50.000086+00:00",
          "2024-10-31T03:59:00.000086+00:00",
          "2024-10-31T04:00:00.000086+00:00",
          "2024-10-31T04:52:20.000086+00:00",
          "2024-10-31T05:35:00.000086+00:00",
          "2024-10-31T06:21:00.000086+00:00",
          "2024-10-31T06:35:00.000087+00:00",
          "2024-10-31T07:32:30.000086+00:00",
          "2024-10-31T07:37:30.000086+00:00",
          "2024-10-31T08:00:00.000086+00:00",
          "2024-10-31T09:06:00.000087+00:00",
          "2024-10-31T10:46:40.000087+00:00",
          "2024-10-31T11:36:30.000086+00:00",
          "2024-10-31T05:50:50.000086+00:00"
         ],
         "hovertemplate": "target=Spacecraft 2-4<br>start=%{base}<br>end=%{x}<br>antenna=%{y}<extra></extra>",
         "legendgroup": "Spacecraft 2-4",
         "marker": {
          "color": "#EF553B",
          "pattern": {
           "shape": ""
          }
         },
         "name": "Spacecraft 2-4",
         "offsetgroup": "Spacecraft 2-4",
         "orientation": "h",
         "showlegend": true,
         "textposition": "auto",
         "type": "bar",
         "x": [
          720000,
          40000,
          730000,
          760000,
          50000,
          100000.001,
          730000,
          630000,
          270000.001,
          640000,
          50000,
          100000,
          500000,
          799999.999,
          809999.999,
          700000,
          390000
         ],
         "xaxis": "x",
         "y": [
          "Chitose",
          "Mojave",
          "Mwulire",
          "Tahiti",
          "Sunyani",
          "Mwulire",
          "Tahiti",
          "Sunyani",
          "Harmon",
          "Awarua",
          "Dundee",
          "Dundee",
          "Harmon",
          "Dundee",
          "Dundee",
          "Awarua",
          "Dundee"
         ],
         "yaxis": "y"
        },
        {
         "alignmentgroup": "True",
         "base": [
          "2024-10-31T00:57:20.000086+00:00",
          "2024-10-31T02:05:10.000086+00:00",
          "2024-10-31T03:50:40.000086+00:00",
          "2024-10-31T04:22:00.000086+00:00",
          "2024-10-31T05:56:20.000086+00:00",
          "2024-10-31T08:54:20.000086+00:00",
          "2024-10-31T09:42:20.000086+00:00"
         ],
         "hovertemplate": "target=Spacecraft 2-5<br>start=%{base}<br>end=%{x}<br>antenna=%{y}<extra></extra>",
         "legendgroup": "Spacecraft 2-5",
         "marker": {
          "color": "#00cc96",
          "pattern": {
           "shape": ""
          }
         },
         "name": "Spacecraft 2-5",
         "offsetgroup": "Spacecraft 2-5",
         "orientation": "h",
         "showlegend": true,
         "textposition": "auto",
         "type": "bar",
         "x": [
          730000,
          690000,
          420000,
          130000.001,
          300000,
          700000.001,
          790000
         ],
         "xaxis": "x",
         "y": [
          "Chitose",
          "Mwulire",
          "Mwulire",
          "Chitose",
          "Chitose",
          "Dundee",
          "Awarua"
         ],
         "yaxis": "y"
        },
        {
         "alignmentgroup": "True",
         "base": [
          "2024-10-31T00:45:00.000086+00:00",
          "2024-10-31T01:53:20.000086+00:00",
          "2024-10-31T02:42:30.000086+00:00",
          "2024-10-31T05:17:10.000086+00:00",
          "2024-10-31T06:12:30.000087+00:00",
          "2024-10-31T08:42:30.000086+00:00",
          "2024-10-31T10:23:10.000086+00:00",
          "2024-10-31T11:13:00.000086+00:00",
          "2024-10-31T00:47:00.000086+00:00"
         ],
         "hovertemplate": "target=Spacecraft 2-6<br>start=%{base}<br>end=%{x}<br>antenna=%{y}<extra></extra>",
         "legendgroup": "Spacecraft 2-6",
         "marker": {
          "color": "#ab63fa",
          "pattern": {
           "shape": ""
          }
         },
         "name": "Spacecraft 2-6",
         "offsetgroup": "Spacecraft 2-6",
         "orientation": "h",
         "showlegend": true,
         "textposition": "auto",
         "type": "bar",
         "x": [
          30000,
          620000,
          1020000.001,
          420000,
          509999.999,
          710000,
          620000,
          720000,
          630000.001
         ],
         "xaxis": "x",
         "y": [
          "Chitose",
          "Mwulire",
          "Paumalu",
          "Sunyani",
          "Awarua",
          "Dundee",
          "Dundee",
          "Awarua",
          "Utqiagvik"
         ],
         "yaxis": "y"
        },
        {
         "alignmentgroup": "True",
         "base": [
          "2024-10-31T00:45:30.000086+00:00",
          "2024-10-31T01:49:20.000086+00:00",
          "2024-10-31T02:29:20.000086+00:00",
          "2024-10-31T03:24:30.000086+00:00",
          "2024-10-31T03:57:40.000086+00:00",
          "2024-10-31T05:04:30.000086+00:00",
          "2024-10-31T05:31:10.000086+00:00",
          "2024-10-31T06:45:40.000087+00:00",
          "2024-10-31T07:24:30.000086+00:00",
          "2024-10-31T08:29:20.000086+00:00",
          "2024-10-31T05:40:00.000086+00:00"
         ],
         "hovertemplate": "target=Spacecraft 2-7<br>start=%{base}<br>end=%{x}<br>antenna=%{y}<extra></extra>",
         "legendgroup": "Spacecraft 2-7",
         "marker": {
          "color": "#FFA15A",
          "pattern": {
           "shape": ""
          }
         },
         "name": "Spacecraft 2-7",
         "offsetgroup": "Spacecraft 2-7",
         "orientation": "h",
         "showlegend": true,
         "textposition": "auto",
         "type": "bar",
         "x": [
          710000,
          240000,
          10000,
          750000,
          80000,
          80000,
          230000,
          119999.999,
          480000,
          790000,
          610000
         ],
         "xaxis": "x",
         "y": [
          "Mojave",
          "Dubai",
          "Paumalu",
          "Mwulire",
          "Chitose",
          "Sunyani",
          "Chitose",
          "Sunyani",
          "Harmon",
          "Dundee",
          "Harmon"
         ],
         "yaxis": "y"
        },
        {
         "alignmentgroup": "True",
         "base": [
          "2024-10-31T00:33:00.000086+00:00",
          "2024-10-31T01:37:10.000087+00:00",
          "2024-10-31T02:16:40.000086+00:00",
          "2024-10-31T04:01:40.000087+00:00",
          "2024-10-31T04:45:40.000086+00:00",
          "2024-10-31T05:24:10.000086+00:00",
          "2024-10-31T05:45:30.000086+00:00",
          "2024-10-31T06:25:30.000087+00:00",
          "2024-10-31T08:21:00.000087+00:00",
          "2024-10-31T09:56:10.000086+00:00"
         ],
         "hovertemplate": "target=Spacecraft 2-8<br>start=%{base}<br>end=%{x}<br>antenna=%{y}<extra></extra>",
         "legendgroup": "Spacecraft 2-8",
         "marker": {
          "color": "#19d3f3",
          "pattern": {
           "shape": ""
          }
         },
         "name": "Spacecraft 2-8",
         "offsetgroup": "Spacecraft 2-8",
         "orientation": "h",
         "showlegend": true,
         "textposition": "auto",
         "type": "bar",
         "x": [
          720000,
          719999.999,
          30000,
          799999.999,
          400000,
          420000,
          420000,
          570000,
          499999.999,
          700000
         ],
         "xaxis": "x",
         "y": [
          "Mojave",
          "Dubai",
          "Paumalu",
          "Tahiti",
          "Sunyani",
          "Chitose",
          "Tahiti",
          "Sunyani",
          "Dundee",
          "Dundee"
         ],
         "yaxis": "y"
        },
        {
         "alignmentgroup": "True",
         "base": [
          "2024-10-31T00:53:40.000086+00:00",
          "2024-10-31T01:28:40.000086+00:00",
          "2024-10-31T02:01:10.000086+00:00",
          "2024-10-31T02:51:10.000087+00:00",
          "2024-10-31T03:05:50.000086+00:00",
          "2024-10-31T04:30:50.000086+00:00",
          "2024-10-31T04:44:30.000086+00:00",
          "2024-10-31T06:19:50.000086+00:00",
          "2024-10-31T09:26:30.000086+00:00",
          "2024-10-31T09:39:30.000086+00:00",
          "2024-10-31T10:52:50.000086+00:00",
          "2024-10-31T08:00:00.000086+00:00"
         ],
         "hovertemplate": "target=Spacecraft 3-1<br>start=%{base}<br>end=%{x}<br>antenna=%{y}<extra></extra>",
         "legendgroup": "Spacecraft 3-1",
         "marker": {
          "color": "#FF6692",
          "pattern": {
           "shape": ""
          }
         },
         "name": "Spacecraft 3-1",
         "offsetgroup": "Spacecraft 3-1",
         "orientation": "h",
         "showlegend": true,
         "textposition": "auto",
         "type": "bar",
         "x": [
          740000,
          460000,
          210000,
          349999.999,
          660000,
          50000,
          740000,
          380000.001,
          250000,
          160000,
          580000,
          410000
         ],
         "xaxis": "x",
         "y": [
          "Awarua",
          "Utqiagvik",
          "Sunyani",
          "Harmon",
          "Utqiagvik",
          "Harmon",
          "Utqiagvik",
          "Chitose",
          "Dubai",
          "Chitose",
          "Mwulire",
          "Chitose"
         ],
         "yaxis": "y"
        },
        {
         "alignmentgroup": "True",
         "base": [
          "2024-10-31T00:02:00.000086+00:00",
          "2024-10-31T00:40:50.000086+00:00",
          "2024-10-31T01:06:00.000086+00:00",
          "2024-10-31T01:41:30.000086+00:00",
          "2024-10-31T04:31:40.000086+00:00",
          "2024-10-31T07:49:40.000086+00:00",
          "2024-10-31T08:01:00.000086+00:00",
          "2024-10-31T09:30:40.000086+00:00",
          "2024-10-31T10:35:30.000086+00:00",
          "2024-10-31T11:25:20.000086+00:00"
         ],
         "hovertemplate": "target=Spacecraft 3-2<br>start=%{base}<br>end=%{x}<br>antenna=%{y}<extra></extra>",
         "legendgroup": "Spacecraft 3-2",
         "marker": {
          "color": "#B6E880",
          "pattern": {
           "shape": ""
          }
         },
         "name": "Spacecraft 3-2",
         "offsetgroup": "Spacecraft 3-2",
         "orientation": "h",
         "showlegend": true,
         "textposition": "auto",
         "type": "bar",
         "x": [
          60000.001,
          770000,
          20000,
          650000,
          730000,
          610000,
          790000,
          530000,
          360000,
          20000
         ],
         "xaxis": "x",
         "y": [
          "Sunyani",
          "Awarua",
          "Paumalu",
          "Sunyani",
          "Utqiagvik",
          "Chitose",
          "Mojave",
          "Utqiagvik",
          "Mwulire",
          "Paumalu"
         ],
         "yaxis": "y"
        },
        {
         "alignmentgroup": "True",
         "base": [
          "2024-10-31T00:28:20.000086+00:00",
          "2024-10-31T02:40:50.000086+00:00",
          "2024-10-31T04:00:00.000086+00:00",
          "2024-10-31T04:19:00.000086+00:00",
          "2024-10-31T05:58:00.000086+00:00",
          "2024-10-31T09:10:50.000086+00:00",
          "2024-10-31T10:22:20.000086+00:00"
         ],
         "hovertemplate": "target=Spacecraft 3-3<br>start=%{base}<br>end=%{x}<br>antenna=%{y}<extra></extra>",
         "legendgroup": "Spacecraft 3-3",
         "marker": {
          "color": "#FF97FF",
          "pattern": {
           "shape": ""
          }
         },
         "name": "Spacecraft 3-3",
         "offsetgroup": "Spacecraft 3-3",
         "orientation": "h",
         "showlegend": true,
         "textposition": "auto",
         "type": "bar",
         "x": [
          750000,
          620000.001,
          420000.001,
          710000,
          1310000,
          940000,
          750000.001
         ],
         "xaxis": "x",
         "y": [
          "Awarua",
          "Utqiagvik",
          "Harmon",
          "Utqiagvik",
          "Utqiagvik",
          "Chitose",
          "Mwulire"
         ],
         "yaxis": "y"
        },
        {
         "alignmentgroup": "True",
         "base": [
          "2024-10-31T00:15:40.000086+00:00",
          "2024-10-31T01:18:00.000086+00:00",
          "2024-10-31T02:28:50.000086+00:00",
          "2024-10-31T03:02:00.000086+00:00",
          "2024-10-31T03:54:00.000087+00:00",
          "2024-10-31T04:07:00.000087+00:00",
          "2024-10-31T05:33:30.000086+00:00",
          "2024-10-31T05:56:00.000086+00:00",
          "2024-10-31T07:15:40.000086+00:00",
          "2024-10-31T09:04:10.000086+00:00",
          "2024-10-31T11:02:30.000086+00:00",
          "2024-10-31T11:51:10.000087+00:00",
          "2024-10-31T04:00:00.000086+00:00"
         ],
         "hovertemplate": "target=Spacecraft 3-4<br>start=%{base}<br>end=%{x}<br>antenna=%{y}<extra></extra>",
         "legendgroup": "Spacecraft 3-4",
         "marker": {
          "color": "#FECB52",
          "pattern": {
           "shape": ""
          }
         },
         "name": "Spacecraft 3-4",
         "offsetgroup": "Spacecraft 3-4",
         "orientation": "h",
         "showlegend": true,
         "textposition": "auto",
         "type": "bar",
         "x": [
          760000,
          640000,
          610000,
          130000,
          59999.999,
          710000,
          40000,
          120000,
          2040000,
          310000,
          960000,
          250000,
          370000
         ],
         "xaxis": "x",
         "y": [
          "Awarua",
          "Sunyani",
          "Utqiagvik",
          "Sunyani",
          "Harmon",
          "Utqiagvik",
          "Harmon",
          "Mojave",
          "Chitose",
          "Chitose",
          "Paumalu",
          "Mwulire",
          "Chitose"
         ],
         "yaxis": "y"
        },
        {
         "alignmentgroup": "True",
         "base": [
          "2024-10-31T00:03:00.000087+00:00",
          "2024-10-31T02:16:50.000087+00:00",
          "2024-10-31T03:55:00.000086+00:00",
          "2024-10-31T05:34:10.000086+00:00",
          "2024-10-31T07:11:10.000087+00:00",
          "2024-10-31T08:51:00.000086+00:00",
          "2024-10-31T09:59:40.000086+00:00",
          "2024-10-31T00:41:20.000086+00:00",
          "2024-10-31T05:17:10.000086+00:00",
          "2024-10-31T09:05:50.000086+00:00"
         ],
         "hovertemplate": "target=Spacecraft 3-5<br>start=%{base}<br>end=%{x}<br>antenna=%{y}<extra></extra>",
         "legendgroup": "Spacecraft 3-5",
         "marker": {
          "color": "#636efa",
          "pattern": {
           "shape": ""
          }
         },
         "name": "Spacecraft 3-5",
         "offsetgroup": "Spacecraft 3-5",
         "orientation": "h",
         "showlegend": true,
         "textposition": "auto",
         "type": "bar",
         "x": [
          759999.999,
          599999.999,
          290000,
          1270000.001,
          269999.999,
          790000,
          690000.001,
          240000,
          670000,
          590000
         ],
         "xaxis": "x",
         "y": [
          "Awarua",
          "Utqiagvik",
          "Utqiagvik",
          "Utqiagvik",
          "Chitose",
          "Chitose",
          "Mwulire",
          "Utqiagvik",
          "Harmon",
          "Mojave"
         ],
         "yaxis": "y"
        },
        {
         "alignmentgroup": "True",
         "base": [
          "2024-10-31T02:04:40.000086+00:00",
          "2024-10-31T02:39:00.000086+00:00",
          "2024-10-31T03:42:20.000086+00:00",
          "2024-10-31T05:21:20.000086+00:00",
          "2024-10-31T08:40:30.000087+00:00",
          "2024-10-31T09:55:20.000086+00:00",
          "2024-10-31T10:34:50.000087+00:00",
          "2024-10-31T10:41:30.000086+00:00",
          "2024-10-31T11:25:40.000086+00:00"
         ],
         "hovertemplate": "target=Spacecraft 3-6<br>start=%{base}<br>end=%{x}<br>antenna=%{y}<extra></extra>",
         "legendgroup": "Spacecraft 3-6",
         "marker": {
          "color": "#EF553B",
          "pattern": {
           "shape": ""
          }
         },
         "name": "Spacecraft 3-6",
         "offsetgroup": "Spacecraft 3-6",
         "orientation": "h",
         "showlegend": true,
         "textposition": "auto",
         "type": "bar",
         "x": [
          560000,
          110000,
          700000.001,
          730000,
          629999.999,
          260000,
          39999.999,
          680000,
          1180000
         ],
         "xaxis": "x",
         "y": [
          "Utqiagvik",
          "Sunyani",
          "Utqiagvik",
          "Utqiagvik",
          "Utqiagvik",
          "Dubai",
          "Paumalu",
          "Tahiti",
          "Mwulire"
         ],
         "yaxis": "y"
        },
        {
         "alignmentgroup": "True",
         "base": [
          "2024-10-31T00:00:00.000086+00:00",
          "2024-10-31T01:39:40.000086+00:00",
          "2024-10-31T01:52:20.000086+00:00",
          "2024-10-31T02:26:50.000086+00:00",
          "2024-10-31T03:29:50.000086+00:00",
          "2024-10-31T04:56:50.000086+00:00",
          "2024-10-31T06:36:50.000086+00:00",
          "2024-10-31T08:38:20.000086+00:00",
          "2024-10-31T09:42:10.000086+00:00",
          "2024-10-31T10:16:00.000086+00:00",
          "2024-10-31T11:18:30.000086+00:00",
          "2024-10-31T00:00:00.000086+00:00",
          "2024-10-31T01:19:00.000086+00:00"
         ],
         "hovertemplate": "target=Spacecraft 3-7<br>start=%{base}<br>end=%{x}<br>antenna=%{y}<extra></extra>",
         "legendgroup": "Spacecraft 3-7",
         "marker": {
          "color": "#00cc96",
          "pattern": {
           "shape": ""
          }
         },
         "name": "Spacecraft 3-7",
         "offsetgroup": "Spacecraft 3-7",
         "orientation": "h",
         "showlegend": true,
         "textposition": "auto",
         "type": "bar",
         "x": [
          120000,
          110000,
          530000,
          120000,
          680000,
          1430000,
          2060000.001,
          130000.001,
          750000,
          380000,
          410000,
          100000,
          660000
         ],
         "xaxis": "x",
         "y": [
          "Paumalu",
          "Paumalu",
          "Utqiagvik",
          "Sunyani",
          "Utqiagvik",
          "Harmon",
          "Chitose",
          "Mojave",
          "Dubai",
          "Paumalu",
          "Mwulire",
          "Tahiti",
          "Awarua"
         ],
         "yaxis": "y"
        },
        {
         "alignmentgroup": "True",
         "base": [
          "2024-10-31T01:06:20.000086+00:00",
          "2024-10-31T01:36:20.000086+00:00",
          "2024-10-31T02:14:00.000086+00:00",
          "2024-10-31T02:58:50.000086+00:00",
          "2024-10-31T03:04:10.000086+00:00",
          "2024-10-31T03:17:50.000087+00:00",
          "2024-10-31T06:26:10.000087+00:00",
          "2024-10-31T08:14:10.000086+00:00",
          "2024-10-31T09:54:40.000086+00:00",
          "2024-10-31T10:11:10.000087+00:00",
          "2024-10-31T11:45:20.000086+00:00",
          "2024-10-31T11:55:20.000087+00:00"
         ],
         "hovertemplate": "target=Spacecraft 3-8<br>start=%{base}<br>end=%{x}<br>antenna=%{y}<extra></extra>",
         "legendgroup": "Spacecraft 3-8",
         "marker": {
          "color": "#ab63fa",
          "pattern": {
           "shape": ""
          }
         },
         "name": "Spacecraft 3-8",
         "offsetgroup": "Spacecraft 3-8",
         "orientation": "h",
         "showlegend": true,
         "textposition": "auto",
         "type": "bar",
         "x": [
          700000,
          200000,
          170000.001,
          190000,
          100000,
          669999.999,
          639999.999,
          1450000,
          40000,
          289999.999,
          350000.001,
          269999.999
         ],
         "xaxis": "x",
         "y": [
          "Awarua",
          "Paumalu",
          "Sunyani",
          "Harmon",
          "Harmon",
          "Utqiagvik",
          "Chitose",
          "Chitose",
          "Chitose",
          "Paumalu",
          "Paumalu",
          "Tahiti"
         ],
         "yaxis": "y"
        }
       ],
       "layout": {
        "barmode": "overlay",
        "legend": {
         "title": {
          "text": "target"
         },
         "tracegroupgap": 0,
         "traceorder": "normal"
        },
        "template": {
         "data": {
          "bar": [
           {
            "error_x": {
             "color": "#2a3f5f"
            },
            "error_y": {
             "color": "#2a3f5f"
            },
            "marker": {
             "line": {
              "color": "#E5ECF6",
              "width": 0.5
             },
             "pattern": {
              "fillmode": "overlay",
              "size": 10,
              "solidity": 0.2
             }
            },
            "type": "bar"
           }
          ],
          "barpolar": [
           {
            "marker": {
             "line": {
              "color": "#E5ECF6",
              "width": 0.5
             },
             "pattern": {
              "fillmode": "overlay",
              "size": 10,
              "solidity": 0.2
             }
            },
            "type": "barpolar"
           }
          ],
          "carpet": [
           {
            "aaxis": {
             "endlinecolor": "#2a3f5f",
             "gridcolor": "white",
             "linecolor": "white",
             "minorgridcolor": "white",
             "startlinecolor": "#2a3f5f"
            },
            "baxis": {
             "endlinecolor": "#2a3f5f",
             "gridcolor": "white",
             "linecolor": "white",
             "minorgridcolor": "white",
             "startlinecolor": "#2a3f5f"
            },
            "type": "carpet"
           }
          ],
          "choropleth": [
           {
            "colorbar": {
             "outlinewidth": 0,
             "ticks": ""
            },
            "type": "choropleth"
           }
          ],
          "contour": [
           {
            "colorbar": {
             "outlinewidth": 0,
             "ticks": ""
            },
            "colorscale": [
             [
              0,
              "#0d0887"
             ],
             [
              0.1111111111111111,
              "#46039f"
             ],
             [
              0.2222222222222222,
              "#7201a8"
             ],
             [
              0.3333333333333333,
              "#9c179e"
             ],
             [
              0.4444444444444444,
              "#bd3786"
             ],
             [
              0.5555555555555556,
              "#d8576b"
             ],
             [
              0.6666666666666666,
              "#ed7953"
             ],
             [
              0.7777777777777778,
              "#fb9f3a"
             ],
             [
              0.8888888888888888,
              "#fdca26"
             ],
             [
              1,
              "#f0f921"
             ]
            ],
            "type": "contour"
           }
          ],
          "contourcarpet": [
           {
            "colorbar": {
             "outlinewidth": 0,
             "ticks": ""
            },
            "type": "contourcarpet"
           }
          ],
          "heatmap": [
           {
            "colorbar": {
             "outlinewidth": 0,
             "ticks": ""
            },
            "colorscale": [
             [
              0,
              "#0d0887"
             ],
             [
              0.1111111111111111,
              "#46039f"
             ],
             [
              0.2222222222222222,
              "#7201a8"
             ],
             [
              0.3333333333333333,
              "#9c179e"
             ],
             [
              0.4444444444444444,
              "#bd3786"
             ],
             [
              0.5555555555555556,
              "#d8576b"
             ],
             [
              0.6666666666666666,
              "#ed7953"
             ],
             [
              0.7777777777777778,
              "#fb9f3a"
             ],
             [
              0.8888888888888888,
              "#fdca26"
             ],
             [
              1,
              "#f0f921"
             ]
            ],
            "type": "heatmap"
           }
          ],
          "heatmapgl": [
           {
            "colorbar": {
             "outlinewidth": 0,
             "ticks": ""
            },
            "colorscale": [
             [
              0,
              "#0d0887"
             ],
             [
              0.1111111111111111,
              "#46039f"
             ],
             [
              0.2222222222222222,
              "#7201a8"
             ],
             [
              0.3333333333333333,
              "#9c179e"
             ],
             [
              0.4444444444444444,
              "#bd3786"
             ],
             [
              0.5555555555555556,
              "#d8576b"
             ],
             [
              0.6666666666666666,
              "#ed7953"
             ],
             [
              0.7777777777777778,
              "#fb9f3a"
             ],
             [
              0.8888888888888888,
              "#fdca26"
             ],
             [
              1,
              "#f0f921"
             ]
            ],
            "type": "heatmapgl"
           }
          ],
          "histogram": [
           {
            "marker": {
             "pattern": {
              "fillmode": "overlay",
              "size": 10,
              "solidity": 0.2
             }
            },
            "type": "histogram"
           }
          ],
          "histogram2d": [
           {
            "colorbar": {
             "outlinewidth": 0,
             "ticks": ""
            },
            "colorscale": [
             [
              0,
              "#0d0887"
             ],
             [
              0.1111111111111111,
              "#46039f"
             ],
             [
              0.2222222222222222,
              "#7201a8"
             ],
             [
              0.3333333333333333,
              "#9c179e"
             ],
             [
              0.4444444444444444,
              "#bd3786"
             ],
             [
              0.5555555555555556,
              "#d8576b"
             ],
             [
              0.6666666666666666,
              "#ed7953"
             ],
             [
              0.7777777777777778,
              "#fb9f3a"
             ],
             [
              0.8888888888888888,
              "#fdca26"
             ],
             [
              1,
              "#f0f921"
             ]
            ],
            "type": "histogram2d"
           }
          ],
          "histogram2dcontour": [
           {
            "colorbar": {
             "outlinewidth": 0,
             "ticks": ""
            },
            "colorscale": [
             [
              0,
              "#0d0887"
             ],
             [
              0.1111111111111111,
              "#46039f"
             ],
             [
              0.2222222222222222,
              "#7201a8"
             ],
             [
              0.3333333333333333,
              "#9c179e"
             ],
             [
              0.4444444444444444,
              "#bd3786"
             ],
             [
              0.5555555555555556,
              "#d8576b"
             ],
             [
              0.6666666666666666,
              "#ed7953"
             ],
             [
              0.7777777777777778,
              "#fb9f3a"
             ],
             [
              0.8888888888888888,
              "#fdca26"
             ],
             [
              1,
              "#f0f921"
             ]
            ],
            "type": "histogram2dcontour"
           }
          ],
          "mesh3d": [
           {
            "colorbar": {
             "outlinewidth": 0,
             "ticks": ""
            },
            "type": "mesh3d"
           }
          ],
          "parcoords": [
           {
            "line": {
             "colorbar": {
              "outlinewidth": 0,
              "ticks": ""
             }
            },
            "type": "parcoords"
           }
          ],
          "pie": [
           {
            "automargin": true,
            "type": "pie"
           }
          ],
          "scatter": [
           {
            "fillpattern": {
             "fillmode": "overlay",
             "size": 10,
             "solidity": 0.2
            },
            "type": "scatter"
           }
          ],
          "scatter3d": [
           {
            "line": {
             "colorbar": {
              "outlinewidth": 0,
              "ticks": ""
             }
            },
            "marker": {
             "colorbar": {
              "outlinewidth": 0,
              "ticks": ""
             }
            },
            "type": "scatter3d"
           }
          ],
          "scattercarpet": [
           {
            "marker": {
             "colorbar": {
              "outlinewidth": 0,
              "ticks": ""
             }
            },
            "type": "scattercarpet"
           }
          ],
          "scattergeo": [
           {
            "marker": {
             "colorbar": {
              "outlinewidth": 0,
              "ticks": ""
             }
            },
            "type": "scattergeo"
           }
          ],
          "scattergl": [
           {
            "marker": {
             "colorbar": {
              "outlinewidth": 0,
              "ticks": ""
             }
            },
            "type": "scattergl"
           }
          ],
          "scattermapbox": [
           {
            "marker": {
             "colorbar": {
              "outlinewidth": 0,
              "ticks": ""
             }
            },
            "type": "scattermapbox"
           }
          ],
          "scatterpolar": [
           {
            "marker": {
             "colorbar": {
              "outlinewidth": 0,
              "ticks": ""
             }
            },
            "type": "scatterpolar"
           }
          ],
          "scatterpolargl": [
           {
            "marker": {
             "colorbar": {
              "outlinewidth": 0,
              "ticks": ""
             }
            },
            "type": "scatterpolargl"
           }
          ],
          "scatterternary": [
           {
            "marker": {
             "colorbar": {
              "outlinewidth": 0,
              "ticks": ""
             }
            },
            "type": "scatterternary"
           }
          ],
          "surface": [
           {
            "colorbar": {
             "outlinewidth": 0,
             "ticks": ""
            },
            "colorscale": [
             [
              0,
              "#0d0887"
             ],
             [
              0.1111111111111111,
              "#46039f"
             ],
             [
              0.2222222222222222,
              "#7201a8"
             ],
             [
              0.3333333333333333,
              "#9c179e"
             ],
             [
              0.4444444444444444,
              "#bd3786"
             ],
             [
              0.5555555555555556,
              "#d8576b"
             ],
             [
              0.6666666666666666,
              "#ed7953"
             ],
             [
              0.7777777777777778,
              "#fb9f3a"
             ],
             [
              0.8888888888888888,
              "#fdca26"
             ],
             [
              1,
              "#f0f921"
             ]
            ],
            "type": "surface"
           }
          ],
          "table": [
           {
            "cells": {
             "fill": {
              "color": "#EBF0F8"
             },
             "line": {
              "color": "white"
             }
            },
            "header": {
             "fill": {
              "color": "#C8D4E3"
             },
             "line": {
              "color": "white"
             }
            },
            "type": "table"
           }
          ]
         },
         "layout": {
          "annotationdefaults": {
           "arrowcolor": "#2a3f5f",
           "arrowhead": 0,
           "arrowwidth": 1
          },
          "autotypenumbers": "strict",
          "coloraxis": {
           "colorbar": {
            "outlinewidth": 0,
            "ticks": ""
           }
          },
          "colorscale": {
           "diverging": [
            [
             0,
             "#8e0152"
            ],
            [
             0.1,
             "#c51b7d"
            ],
            [
             0.2,
             "#de77ae"
            ],
            [
             0.3,
             "#f1b6da"
            ],
            [
             0.4,
             "#fde0ef"
            ],
            [
             0.5,
             "#f7f7f7"
            ],
            [
             0.6,
             "#e6f5d0"
            ],
            [
             0.7,
             "#b8e186"
            ],
            [
             0.8,
             "#7fbc41"
            ],
            [
             0.9,
             "#4d9221"
            ],
            [
             1,
             "#276419"
            ]
           ],
           "sequential": [
            [
             0,
             "#0d0887"
            ],
            [
             0.1111111111111111,
             "#46039f"
            ],
            [
             0.2222222222222222,
             "#7201a8"
            ],
            [
             0.3333333333333333,
             "#9c179e"
            ],
            [
             0.4444444444444444,
             "#bd3786"
            ],
            [
             0.5555555555555556,
             "#d8576b"
            ],
            [
             0.6666666666666666,
             "#ed7953"
            ],
            [
             0.7777777777777778,
             "#fb9f3a"
            ],
            [
             0.8888888888888888,
             "#fdca26"
            ],
            [
             1,
             "#f0f921"
            ]
           ],
           "sequentialminus": [
            [
             0,
             "#0d0887"
            ],
            [
             0.1111111111111111,
             "#46039f"
            ],
            [
             0.2222222222222222,
             "#7201a8"
            ],
            [
             0.3333333333333333,
             "#9c179e"
            ],
            [
             0.4444444444444444,
             "#bd3786"
            ],
            [
             0.5555555555555556,
             "#d8576b"
            ],
            [
             0.6666666666666666,
             "#ed7953"
            ],
            [
             0.7777777777777778,
             "#fb9f3a"
            ],
            [
             0.8888888888888888,
             "#fdca26"
            ],
            [
             1,
             "#f0f921"
            ]
           ]
          },
          "colorway": [
           "#636efa",
           "#EF553B",
           "#00cc96",
           "#ab63fa",
           "#FFA15A",
           "#19d3f3",
           "#FF6692",
           "#B6E880",
           "#FF97FF",
           "#FECB52"
          ],
          "font": {
           "color": "#2a3f5f"
          },
          "geo": {
           "bgcolor": "white",
           "lakecolor": "white",
           "landcolor": "#E5ECF6",
           "showlakes": true,
           "showland": true,
           "subunitcolor": "white"
          },
          "hoverlabel": {
           "align": "left"
          },
          "hovermode": "closest",
          "mapbox": {
           "style": "light"
          },
          "paper_bgcolor": "white",
          "plot_bgcolor": "#E5ECF6",
          "polar": {
           "angularaxis": {
            "gridcolor": "white",
            "linecolor": "white",
            "ticks": ""
           },
           "bgcolor": "#E5ECF6",
           "radialaxis": {
            "gridcolor": "white",
            "linecolor": "white",
            "ticks": ""
           }
          },
          "scene": {
           "xaxis": {
            "backgroundcolor": "#E5ECF6",
            "gridcolor": "white",
            "gridwidth": 2,
            "linecolor": "white",
            "showbackground": true,
            "ticks": "",
            "zerolinecolor": "white"
           },
           "yaxis": {
            "backgroundcolor": "#E5ECF6",
            "gridcolor": "white",
            "gridwidth": 2,
            "linecolor": "white",
            "showbackground": true,
            "ticks": "",
            "zerolinecolor": "white"
           },
           "zaxis": {
            "backgroundcolor": "#E5ECF6",
            "gridcolor": "white",
            "gridwidth": 2,
            "linecolor": "white",
            "showbackground": true,
            "ticks": "",
            "zerolinecolor": "white"
           }
          },
          "shapedefaults": {
           "line": {
            "color": "#2a3f5f"
           }
          },
          "ternary": {
           "aaxis": {
            "gridcolor": "white",
            "linecolor": "white",
            "ticks": ""
           },
           "baxis": {
            "gridcolor": "white",
            "linecolor": "white",
            "ticks": ""
           },
           "bgcolor": "#E5ECF6",
           "caxis": {
            "gridcolor": "white",
            "linecolor": "white",
            "ticks": ""
           }
          },
          "title": {
           "x": 0.05
          },
          "xaxis": {
           "automargin": true,
           "gridcolor": "white",
           "linecolor": "white",
           "ticks": "",
           "title": {
            "standoff": 15
           },
           "zerolinecolor": "white",
           "zerolinewidth": 2
          },
          "yaxis": {
           "automargin": true,
           "gridcolor": "white",
           "linecolor": "white",
           "ticks": "",
           "title": {
            "standoff": 15
           },
           "zerolinecolor": "white",
           "zerolinewidth": 2
          }
         }
        },
        "title": {
         "text": "Up/Downlink Schedule"
        },
        "xaxis": {
         "anchor": "y",
         "domain": [
          0,
          1
         ],
         "type": "date"
        },
        "yaxis": {
         "anchor": "x",
         "categoryorder": "category descending",
         "domain": [
          0,
          1
         ],
         "title": {
          "text": "antenna"
         }
        }
       }
      }
     },
     "metadata": {},
     "output_type": "display_data"
    },
    {
     "data": {
      "application/vnd.plotly.v1+json": {
       "config": {
        "plotlyServerURL": "https://plot.ly"
       },
       "data": [
        {
         "alignmentgroup": "True",
         "base": [
          "2024-10-31T00:15:20.000086+00:00",
          "2024-10-31T03:31:30.000087+00:00",
          "2024-10-31T00:03:20.000086+00:00",
          "2024-10-31T01:26:00.000086+00:00",
          "2024-10-31T03:07:00.000086+00:00",
          "2024-10-31T04:48:00.000086+00:00",
          "2024-10-31T01:13:10.000086+00:00",
          "2024-10-31T01:00:40.000086+00:00",
          "2024-10-31T02:41:10.000087+00:00",
          "2024-10-31T00:48:10.000086+00:00",
          "2024-10-31T00:35:40.000086+00:00",
          "2024-10-31T02:16:20.000086+00:00",
          "2024-10-31T04:09:00.000086+00:00",
          "2024-10-31T03:57:20.000086+00:00",
          "2024-10-31T00:27:30.000086+00:00",
          "2024-10-31T08:08:20.000086+00:00",
          "2024-10-31T11:27:50.000086+00:00",
          "2024-10-31T07:52:50.000086+00:00",
          "2024-10-31T07:39:50.000086+00:00",
          "2024-10-31T09:19:20.000086+00:00",
          "2024-10-31T11:00:10.000086+00:00",
          "2024-10-31T07:32:30.000086+00:00",
          "2024-10-31T07:37:30.000086+00:00",
          "2024-10-31T09:06:00.000087+00:00",
          "2024-10-31T10:46:40.000087+00:00",
          "2024-10-31T05:50:50.000086+00:00",
          "2024-10-31T08:54:20.000086+00:00",
          "2024-10-31T08:42:30.000086+00:00",
          "2024-10-31T10:23:10.000086+00:00",
          "2024-10-31T08:29:20.000086+00:00",
          "2024-10-31T08:21:00.000087+00:00",
          "2024-10-31T09:56:10.000086+00:00"
         ],
         "hovertemplate": "antenna=Dundee<br>start=%{base}<br>end=%{x}<br>target=%{y}<extra></extra>",
         "legendgroup": "Dundee",
         "marker": {
          "color": "#636efa",
          "pattern": {
           "shape": ""
          }
         },
         "name": "Dundee",
         "offsetgroup": "Dundee",
         "orientation": "h",
         "showlegend": true,
         "textposition": "auto",
         "type": "bar",
         "x": [
          80000.001,
          749999.999,
          20000.001,
          820000,
          820000,
          100000,
          770000,
          750000,
          689999.999,
          750000,
          750000,
          640000,
          30000,
          150000,
          490000,
          110000,
          520000,
          420000,
          770000,
          830000,
          770000,
          50000,
          100000,
          799999.999,
          809999.999,
          390000,
          700000.001,
          710000,
          620000,
          790000,
          499999.999,
          700000
         ],
         "xaxis": "x",
         "y": [
          "Spacecraft 1-1",
          "Spacecraft 1-1",
          "Spacecraft 1-2",
          "Spacecraft 1-3",
          "Spacecraft 1-3",
          "Spacecraft 1-3",
          "Spacecraft 1-4",
          "Spacecraft 1-5",
          "Spacecraft 1-5",
          "Spacecraft 1-6",
          "Spacecraft 1-7",
          "Spacecraft 1-7",
          "Spacecraft 1-7",
          "Spacecraft 1-7",
          "Spacecraft 1-8",
          "Spacecraft 2-1",
          "Spacecraft 2-1",
          "Spacecraft 2-2",
          "Spacecraft 2-3",
          "Spacecraft 2-3",
          "Spacecraft 2-3",
          "Spacecraft 2-4",
          "Spacecraft 2-4",
          "Spacecraft 2-4",
          "Spacecraft 2-4",
          "Spacecraft 2-4",
          "Spacecraft 2-5",
          "Spacecraft 2-6",
          "Spacecraft 2-6",
          "Spacecraft 2-7",
          "Spacecraft 2-8",
          "Spacecraft 2-8"
         ],
         "yaxis": "y"
        },
        {
         "alignmentgroup": "True",
         "base": [
          "2024-10-31T03:55:40.000086+00:00",
          "2024-10-31T02:10:30.000086+00:00",
          "2024-10-31T05:24:50.000086+00:00",
          "2024-10-31T04:49:40.000086+00:00",
          "2024-10-31T04:21:20.000086+00:00",
          "2024-10-31T01:25:10.000086+00:00",
          "2024-10-31T11:25:00.000086+00:00",
          "2024-10-31T01:49:20.000086+00:00",
          "2024-10-31T01:37:10.000087+00:00",
          "2024-10-31T09:26:30.000086+00:00",
          "2024-10-31T09:55:20.000086+00:00",
          "2024-10-31T09:42:10.000086+00:00"
         ],
         "hovertemplate": "antenna=Dubai<br>start=%{base}<br>end=%{x}<br>target=%{y}<extra></extra>",
         "legendgroup": "Dubai",
         "marker": {
          "color": "#EF553B",
          "pattern": {
           "shape": ""
          }
         },
         "name": "Dubai",
         "offsetgroup": "Dubai",
         "orientation": "h",
         "showlegend": true,
         "textposition": "auto",
         "type": "bar",
         "x": [
          230000,
          130000,
          60000,
          640000,
          30000,
          670000,
          170000,
          240000,
          719999.999,
          250000,
          260000,
          750000
         ],
         "xaxis": "x",
         "y": [
          "Spacecraft 1-1",
          "Spacecraft 1-1",
          "Spacecraft 1-2",
          "Spacecraft 1-4",
          "Spacecraft 1-7",
          "Spacecraft 2-1",
          "Spacecraft 2-3",
          "Spacecraft 2-7",
          "Spacecraft 2-8",
          "Spacecraft 3-1",
          "Spacecraft 3-6",
          "Spacecraft 3-7"
         ],
         "yaxis": "y"
        },
        {
         "alignmentgroup": "True",
         "base": [
          "2024-10-31T04:21:50.000086+00:00",
          "2024-10-31T07:43:20.000086+00:00",
          "2024-10-31T02:27:00.000086+00:00",
          "2024-10-31T04:09:30.000086+00:00",
          "2024-10-31T05:50:50.000086+00:00",
          "2024-10-31T07:31:30.000086+00:00",
          "2024-10-31T09:16:00.000086+00:00",
          "2024-10-31T04:00:00.000086+00:00",
          "2024-10-31T05:38:50.000086+00:00",
          "2024-10-31T09:00:40.000087+00:00",
          "2024-10-31T02:01:30.000087+00:00",
          "2024-10-31T03:44:00.000086+00:00",
          "2024-10-31T08:47:10.000086+00:00",
          "2024-10-31T01:48:30.000086+00:00",
          "2024-10-31T05:12:30.000086+00:00",
          "2024-10-31T08:33:40.000086+00:00",
          "2024-10-31T08:38:20.000086+00:00",
          "2024-10-31T05:00:20.000086+00:00",
          "2024-10-31T08:21:50.000086+00:00",
          "2024-10-31T03:18:20.000086+00:00",
          "2024-10-31T08:10:00.000086+00:00",
          "2024-10-31T02:52:40.000086+00:00",
          "2024-10-31T04:35:00.000086+00:00",
          "2024-10-31T07:56:50.000086+00:00",
          "2024-10-31T07:12:00.000086+00:00",
          "2024-10-31T10:33:30.000086+00:00",
          "2024-10-31T07:00:10.000086+00:00",
          "2024-10-31T06:47:40.000086+00:00",
          "2024-10-31T10:07:50.000086+00:00",
          "2024-10-31T11:50:20.000086+00:00",
          "2024-10-31T06:35:00.000087+00:00",
          "2024-10-31T11:36:30.000086+00:00",
          "2024-10-31T09:42:20.000086+00:00",
          "2024-10-31T06:12:30.000087+00:00",
          "2024-10-31T11:13:00.000086+00:00",
          "2024-10-31T00:53:40.000086+00:00",
          "2024-10-31T00:40:50.000086+00:00",
          "2024-10-31T00:28:20.000086+00:00",
          "2024-10-31T00:15:40.000086+00:00",
          "2024-10-31T00:03:00.000087+00:00",
          "2024-10-31T01:19:00.000086+00:00",
          "2024-10-31T01:06:20.000086+00:00"
         ],
         "hovertemplate": "antenna=Awarua<br>start=%{base}<br>end=%{x}<br>target=%{y}<extra></extra>",
         "legendgroup": "Awarua",
         "marker": {
          "color": "#00cc96",
          "pattern": {
           "shape": ""
          }
         },
         "name": "Awarua",
         "offsetgroup": "Awarua",
         "orientation": "h",
         "showlegend": true,
         "textposition": "auto",
         "type": "bar",
         "x": [
          710000.001,
          820000,
          760000,
          710000,
          1560000,
          710000,
          460000,
          540000,
          720000,
          519999.999,
          769999.999,
          700000,
          730000,
          780000.001,
          740000,
          90000,
          480000,
          730000,
          710000,
          720000,
          710000,
          740000,
          710000,
          180000,
          750000,
          750000,
          710000,
          680000,
          770000,
          570000,
          640000,
          700000,
          790000,
          509999.999,
          720000,
          740000,
          770000,
          750000,
          760000,
          759999.999,
          660000,
          700000
         ],
         "xaxis": "x",
         "y": [
          "Spacecraft 1-1",
          "Spacecraft 1-1",
          "Spacecraft 1-2",
          "Spacecraft 1-2",
          "Spacecraft 1-2",
          "Spacecraft 1-2",
          "Spacecraft 1-2",
          "Spacecraft 1-3",
          "Spacecraft 1-3",
          "Spacecraft 1-3",
          "Spacecraft 1-4",
          "Spacecraft 1-4",
          "Spacecraft 1-4",
          "Spacecraft 1-5",
          "Spacecraft 1-5",
          "Spacecraft 1-5",
          "Spacecraft 1-5",
          "Spacecraft 1-6",
          "Spacecraft 1-6",
          "Spacecraft 1-6",
          "Spacecraft 1-7",
          "Spacecraft 1-8",
          "Spacecraft 1-8",
          "Spacecraft 1-8",
          "Spacecraft 2-1",
          "Spacecraft 2-1",
          "Spacecraft 2-2",
          "Spacecraft 2-3",
          "Spacecraft 2-3",
          "Spacecraft 2-3",
          "Spacecraft 2-4",
          "Spacecraft 2-4",
          "Spacecraft 2-5",
          "Spacecraft 2-6",
          "Spacecraft 2-6",
          "Spacecraft 3-1",
          "Spacecraft 3-2",
          "Spacecraft 3-3",
          "Spacecraft 3-4",
          "Spacecraft 3-5",
          "Spacecraft 3-7",
          "Spacecraft 3-8"
         ],
         "yaxis": "y"
        },
        {
         "alignmentgroup": "True",
         "base": [
          "2024-10-31T06:32:50.000086+00:00",
          "2024-10-31T04:33:40.000087+00:00",
          "2024-10-31T05:37:40.000086+00:00",
          "2024-10-31T07:18:20.000086+00:00",
          "2024-10-31T06:45:40.000087+00:00",
          "2024-10-31T00:00:00.000086+00:00",
          "2024-10-31T01:38:00.000086+00:00",
          "2024-10-31T01:24:30.000086+00:00",
          "2024-10-31T00:45:30.000086+00:00",
          "2024-10-31T00:33:00.000086+00:00",
          "2024-10-31T08:01:00.000086+00:00",
          "2024-10-31T05:56:00.000086+00:00",
          "2024-10-31T09:05:50.000086+00:00",
          "2024-10-31T08:38:20.000086+00:00"
         ],
         "hovertemplate": "antenna=Mojave<br>start=%{base}<br>end=%{x}<br>target=%{y}<extra></extra>",
         "legendgroup": "Mojave",
         "marker": {
          "color": "#ab63fa",
          "pattern": {
           "shape": ""
          }
         },
         "name": "Mojave",
         "offsetgroup": "Mojave",
         "orientation": "h",
         "showlegend": true,
         "textposition": "auto",
         "type": "bar",
         "x": [
          770000.001,
          79999.999,
          70000,
          50000,
          500000,
          500000.001,
          370000,
          40000,
          710000,
          720000,
          790000,
          120000,
          590000,
          130000.001
         ],
         "xaxis": "x",
         "y": [
          "Spacecraft 1-1",
          "Spacecraft 1-3",
          "Spacecraft 1-6",
          "Spacecraft 1-6",
          "Spacecraft 1-8",
          "Spacecraft 2-3",
          "Spacecraft 2-3",
          "Spacecraft 2-4",
          "Spacecraft 2-7",
          "Spacecraft 2-8",
          "Spacecraft 3-2",
          "Spacecraft 3-4",
          "Spacecraft 3-5",
          "Spacecraft 3-7"
         ],
         "yaxis": "y"
        },
        {
         "alignmentgroup": "True",
         "base": [
          "2024-10-31T08:00:00.000086+00:00",
          "2024-10-31T08:00:00.000086+00:00",
          "2024-10-31T07:19:10.000086+00:00",
          "2024-10-31T05:25:50.000086+00:00",
          "2024-10-31T07:05:50.000087+00:00",
          "2024-10-31T06:41:30.000087+00:00",
          "2024-10-31T03:37:00.000086+00:00",
          "2024-10-31T05:05:50.000086+00:00",
          "2024-10-31T03:11:50.000086+00:00",
          "2024-10-31T04:52:20.000086+00:00",
          "2024-10-31T04:01:40.000087+00:00",
          "2024-10-31T05:45:30.000086+00:00",
          "2024-10-31T10:41:30.000086+00:00",
          "2024-10-31T00:00:00.000086+00:00",
          "2024-10-31T11:55:20.000087+00:00"
         ],
         "hovertemplate": "antenna=Tahiti<br>start=%{base}<br>end=%{x}<br>target=%{y}<extra></extra>",
         "legendgroup": "Tahiti",
         "marker": {
          "color": "#FFA15A",
          "pattern": {
           "shape": ""
          }
         },
         "name": "Tahiti",
         "offsetgroup": "Tahiti",
         "orientation": "h",
         "showlegend": true,
         "textposition": "auto",
         "type": "bar",
         "x": [
          370000.001,
          370000.001,
          740000,
          710000,
          749999.999,
          820000,
          820000,
          680000,
          760000,
          730000,
          799999.999,
          420000,
          680000,
          100000,
          269999.999
         ],
         "xaxis": "x",
         "y": [
          "Spacecraft 1-1",
          "Spacecraft 1-1",
          "Spacecraft 1-4",
          "Spacecraft 1-5",
          "Spacecraft 1-5",
          "Spacecraft 1-7",
          "Spacecraft 2-2",
          "Spacecraft 2-3",
          "Spacecraft 2-4",
          "Spacecraft 2-4",
          "Spacecraft 2-8",
          "Spacecraft 2-8",
          "Spacecraft 3-6",
          "Spacecraft 3-7",
          "Spacecraft 3-8"
         ],
         "yaxis": "y"
        },
        {
         "alignmentgroup": "True",
         "base": [
          "2024-10-31T09:45:20.000086+00:00",
          "2024-10-31T09:35:40.000086+00:00",
          "2024-10-31T06:54:00.000087+00:00",
          "2024-10-31T02:03:40.000086+00:00",
          "2024-10-31T02:42:30.000086+00:00",
          "2024-10-31T02:29:20.000086+00:00",
          "2024-10-31T02:16:40.000086+00:00",
          "2024-10-31T01:06:00.000086+00:00",
          "2024-10-31T11:25:20.000086+00:00",
          "2024-10-31T11:02:30.000086+00:00",
          "2024-10-31T10:34:50.000087+00:00",
          "2024-10-31T00:00:00.000086+00:00",
          "2024-10-31T01:39:40.000086+00:00",
          "2024-10-31T10:16:00.000086+00:00",
          "2024-10-31T01:36:20.000086+00:00",
          "2024-10-31T10:11:10.000087+00:00",
          "2024-10-31T11:45:20.000086+00:00"
         ],
         "hovertemplate": "antenna=Paumalu<br>start=%{base}<br>end=%{x}<br>target=%{y}<extra></extra>",
         "legendgroup": "Paumalu",
         "marker": {
          "color": "#19d3f3",
          "pattern": {
           "shape": ""
          }
         },
         "name": "Paumalu",
         "offsetgroup": "Paumalu",
         "orientation": "h",
         "showlegend": true,
         "textposition": "auto",
         "type": "bar",
         "x": [
          150000,
          580000,
          259999.999,
          90000,
          1020000.001,
          10000,
          30000,
          20000,
          20000,
          960000,
          39999.999,
          120000,
          110000,
          380000,
          200000,
          289999.999,
          350000.001
         ],
         "xaxis": "x",
         "y": [
          "Spacecraft 1-1",
          "Spacecraft 1-2",
          "Spacecraft 1-7",
          "Spacecraft 2-1",
          "Spacecraft 2-6",
          "Spacecraft 2-7",
          "Spacecraft 2-8",
          "Spacecraft 3-2",
          "Spacecraft 3-2",
          "Spacecraft 3-4",
          "Spacecraft 3-6",
          "Spacecraft 3-7",
          "Spacecraft 3-7",
          "Spacecraft 3-7",
          "Spacecraft 3-8",
          "Spacecraft 3-8",
          "Spacecraft 3-8"
         ],
         "yaxis": "y"
        },
        {
         "alignmentgroup": "True",
         "base": [
          "2024-10-31T09:57:20.000086+00:00",
          "2024-10-31T11:23:40.000086+00:00",
          "2024-10-31T11:12:20.000086+00:00",
          "2024-10-31T10:59:00.000086+00:00",
          "2024-10-31T09:09:20.000086+00:00",
          "2024-10-31T10:34:40.000086+00:00",
          "2024-10-31T10:23:10.000086+00:00",
          "2024-10-31T08:35:10.000086+00:00",
          "2024-10-31T10:10:20.000086+00:00",
          "2024-10-31T11:48:10.000086+00:00",
          "2024-10-31T00:47:00.000086+00:00",
          "2024-10-31T01:28:40.000086+00:00",
          "2024-10-31T03:05:50.000086+00:00",
          "2024-10-31T04:44:30.000086+00:00",
          "2024-10-31T04:31:40.000086+00:00",
          "2024-10-31T09:30:40.000086+00:00",
          "2024-10-31T02:40:50.000086+00:00",
          "2024-10-31T04:19:00.000086+00:00",
          "2024-10-31T05:58:00.000086+00:00",
          "2024-10-31T02:28:50.000086+00:00",
          "2024-10-31T04:07:00.000087+00:00",
          "2024-10-31T02:16:50.000087+00:00",
          "2024-10-31T03:55:00.000086+00:00",
          "2024-10-31T05:34:10.000086+00:00",
          "2024-10-31T00:41:20.000086+00:00",
          "2024-10-31T02:04:40.000086+00:00",
          "2024-10-31T03:42:20.000086+00:00",
          "2024-10-31T05:21:20.000086+00:00",
          "2024-10-31T08:40:30.000087+00:00",
          "2024-10-31T01:52:20.000086+00:00",
          "2024-10-31T03:29:50.000086+00:00",
          "2024-10-31T03:17:50.000087+00:00"
         ],
         "hovertemplate": "antenna=Utqiagvik<br>start=%{base}<br>end=%{x}<br>target=%{y}<extra></extra>",
         "legendgroup": "Utqiagvik",
         "marker": {
          "color": "#FF6692",
          "pattern": {
           "shape": ""
          }
         },
         "name": "Utqiagvik",
         "offsetgroup": "Utqiagvik",
         "orientation": "h",
         "showlegend": true,
         "textposition": "auto",
         "type": "bar",
         "x": [
          550000,
          680000,
          670000,
          660000,
          400000,
          630000,
          630000.001,
          190000,
          580000.001,
          700000,
          630000.001,
          460000,
          660000,
          740000,
          730000,
          530000,
          620000.001,
          710000,
          1310000,
          610000,
          710000,
          599999.999,
          290000,
          1270000.001,
          240000,
          560000,
          700000.001,
          730000,
          629999.999,
          530000,
          680000,
          669999.999
         ],
         "xaxis": "x",
         "y": [
          "Spacecraft 1-1",
          "Spacecraft 1-2",
          "Spacecraft 1-3",
          "Spacecraft 1-4",
          "Spacecraft 1-5",
          "Spacecraft 1-6",
          "Spacecraft 1-7",
          "Spacecraft 1-8",
          "Spacecraft 1-8",
          "Spacecraft 1-8",
          "Spacecraft 2-6",
          "Spacecraft 3-1",
          "Spacecraft 3-1",
          "Spacecraft 3-1",
          "Spacecraft 3-2",
          "Spacecraft 3-2",
          "Spacecraft 3-3",
          "Spacecraft 3-3",
          "Spacecraft 3-3",
          "Spacecraft 3-4",
          "Spacecraft 3-4",
          "Spacecraft 3-5",
          "Spacecraft 3-5",
          "Spacecraft 3-5",
          "Spacecraft 3-5",
          "Spacecraft 3-6",
          "Spacecraft 3-6",
          "Spacecraft 3-6",
          "Spacecraft 3-6",
          "Spacecraft 3-7",
          "Spacecraft 3-7",
          "Spacecraft 3-8"
         ],
         "yaxis": "y"
        },
        {
         "alignmentgroup": "True",
         "base": [
          "2024-10-31T10:33:40.000087+00:00",
          "2024-10-31T10:13:50.000086+00:00",
          "2024-10-31T10:06:30.000086+00:00",
          "2024-10-31T09:47:50.000086+00:00",
          "2024-10-31T07:57:00.000086+00:00",
          "2024-10-31T09:23:40.000086+00:00",
          "2024-10-31T10:56:40.000086+00:00",
          "2024-10-31T08:59:20.000086+00:00",
          "2024-10-31T04:34:20.000086+00:00",
          "2024-10-31T06:01:20.000086+00:00",
          "2024-10-31T07:33:20.000086+00:00",
          "2024-10-31T03:59:00.000086+00:00",
          "2024-10-31T05:35:00.000086+00:00",
          "2024-10-31T05:17:10.000086+00:00",
          "2024-10-31T05:04:30.000086+00:00",
          "2024-10-31T06:45:40.000087+00:00",
          "2024-10-31T04:45:40.000086+00:00",
          "2024-10-31T06:25:30.000087+00:00",
          "2024-10-31T02:01:10.000086+00:00",
          "2024-10-31T00:02:00.000086+00:00",
          "2024-10-31T01:41:30.000086+00:00",
          "2024-10-31T01:18:00.000086+00:00",
          "2024-10-31T03:02:00.000086+00:00",
          "2024-10-31T02:39:00.000086+00:00",
          "2024-10-31T02:26:50.000086+00:00",
          "2024-10-31T02:14:00.000086+00:00"
         ],
         "hovertemplate": "antenna=Sunyani<br>start=%{base}<br>end=%{x}<br>target=%{y}<extra></extra>",
         "legendgroup": "Sunyani",
         "marker": {
          "color": "#B6E880",
          "pattern": {
           "shape": ""
          }
         },
         "name": "Sunyani",
         "offsetgroup": "Sunyani",
         "orientation": "h",
         "showlegend": true,
         "textposition": "auto",
         "type": "bar",
         "x": [
          59999.999,
          630000,
          230000,
          570000,
          170000,
          720000,
          120000,
          80000.001,
          680000,
          670000.001,
          250000,
          50000,
          630000,
          420000,
          80000,
          119999.999,
          400000,
          570000,
          210000,
          60000.001,
          650000,
          640000,
          130000,
          110000,
          120000,
          170000.001
         ],
         "xaxis": "x",
         "y": [
          "Spacecraft 1-1",
          "Spacecraft 1-2",
          "Spacecraft 1-3",
          "Spacecraft 1-4",
          "Spacecraft 1-5",
          "Spacecraft 1-6",
          "Spacecraft 1-7",
          "Spacecraft 1-8",
          "Spacecraft 2-1",
          "Spacecraft 2-2",
          "Spacecraft 2-3",
          "Spacecraft 2-4",
          "Spacecraft 2-4",
          "Spacecraft 2-6",
          "Spacecraft 2-7",
          "Spacecraft 2-7",
          "Spacecraft 2-8",
          "Spacecraft 2-8",
          "Spacecraft 3-1",
          "Spacecraft 3-2",
          "Spacecraft 3-2",
          "Spacecraft 3-4",
          "Spacecraft 3-4",
          "Spacecraft 3-6",
          "Spacecraft 3-7",
          "Spacecraft 3-8"
         ],
         "yaxis": "y"
        },
        {
         "alignmentgroup": "True",
         "base": [
          "2024-10-31T06:58:20.000086+00:00",
          "2024-10-31T08:46:20.000086+00:00",
          "2024-10-31T06:20:50.000087+00:00",
          "2024-10-31T08:06:10.000087+00:00",
          "2024-10-31T06:16:50.000086+00:00",
          "2024-10-31T02:59:30.000087+00:00",
          "2024-10-31T04:24:10.000087+00:00",
          "2024-10-31T02:29:30.000086+00:00",
          "2024-10-31T04:15:00.000086+00:00",
          "2024-10-31T02:17:10.000086+00:00",
          "2024-10-31T04:00:00.000086+00:00",
          "2024-10-31T02:05:10.000086+00:00",
          "2024-10-31T03:50:40.000086+00:00",
          "2024-10-31T01:53:20.000086+00:00",
          "2024-10-31T03:24:30.000086+00:00",
          "2024-10-31T10:52:50.000086+00:00",
          "2024-10-31T10:35:30.000086+00:00",
          "2024-10-31T10:22:20.000086+00:00",
          "2024-10-31T11:51:10.000087+00:00",
          "2024-10-31T09:59:40.000086+00:00",
          "2024-10-31T11:25:40.000086+00:00",
          "2024-10-31T11:18:30.000086+00:00"
         ],
         "hovertemplate": "antenna=Mwulire<br>start=%{base}<br>end=%{x}<br>target=%{y}<extra></extra>",
         "legendgroup": "Mwulire",
         "marker": {
          "color": "#FF97FF",
          "pattern": {
           "shape": ""
          }
         },
         "name": "Mwulire",
         "offsetgroup": "Mwulire",
         "orientation": "h",
         "showlegend": true,
         "textposition": "auto",
         "type": "bar",
         "x": [
          450000.001,
          50000,
          719999.999,
          229999.999,
          240000.001,
          739999.999,
          609999.999,
          780000,
          420000,
          730000,
          100000.001,
          690000,
          420000,
          620000,
          750000,
          580000,
          360000,
          750000.001,
          250000,
          690000.001,
          1180000,
          410000
         ],
         "xaxis": "x",
         "y": [
          "Spacecraft 1-2",
          "Spacecraft 1-2",
          "Spacecraft 1-5",
          "Spacecraft 1-5",
          "Spacecraft 1-6",
          "Spacecraft 2-1",
          "Spacecraft 2-2",
          "Spacecraft 2-3",
          "Spacecraft 2-3",
          "Spacecraft 2-4",
          "Spacecraft 2-4",
          "Spacecraft 2-5",
          "Spacecraft 2-5",
          "Spacecraft 2-6",
          "Spacecraft 2-7",
          "Spacecraft 3-1",
          "Spacecraft 3-2",
          "Spacecraft 3-3",
          "Spacecraft 3-4",
          "Spacecraft 3-5",
          "Spacecraft 3-6",
          "Spacecraft 3-7"
         ],
         "yaxis": "y"
        },
        {
         "alignmentgroup": "True",
         "base": [
          "2024-10-31T00:16:40.000087+00:00",
          "2024-10-31T10:53:20.000086+00:00",
          "2024-10-31T10:58:40.000086+00:00",
          "2024-10-31T00:03:40.000087+00:00",
          "2024-10-31T10:45:10.000086+00:00",
          "2024-10-31T00:00:00.000086+00:00",
          "2024-10-31T10:20:00.000087+00:00",
          "2024-10-31T11:42:10.000086+00:00",
          "2024-10-31T11:35:00.000086+00:00",
          "2024-10-31T06:59:00.000086+00:00",
          "2024-10-31T08:10:10.000086+00:00",
          "2024-10-31T06:21:00.000086+00:00",
          "2024-10-31T08:00:00.000086+00:00",
          "2024-10-31T07:24:30.000086+00:00",
          "2024-10-31T05:40:00.000086+00:00",
          "2024-10-31T02:51:10.000087+00:00",
          "2024-10-31T04:30:50.000086+00:00",
          "2024-10-31T04:00:00.000086+00:00",
          "2024-10-31T03:54:00.000087+00:00",
          "2024-10-31T05:33:30.000086+00:00",
          "2024-10-31T05:17:10.000086+00:00",
          "2024-10-31T04:56:50.000086+00:00",
          "2024-10-31T02:58:50.000086+00:00",
          "2024-10-31T03:04:10.000086+00:00"
         ],
         "hovertemplate": "antenna=Harmon<br>start=%{base}<br>end=%{x}<br>target=%{y}<extra></extra>",
         "legendgroup": "Harmon",
         "marker": {
          "color": "#FECB52",
          "pattern": {
           "shape": ""
          }
         },
         "name": "Harmon",
         "offsetgroup": "Harmon",
         "orientation": "h",
         "showlegend": true,
         "textposition": "auto",
         "type": "bar",
         "x": [
          649999.999,
          200000,
          20000,
          699999.999,
          310000,
          200000,
          180000,
          360000,
          420000,
          70000,
          650000.001,
          270000.001,
          500000,
          480000,
          610000,
          349999.999,
          50000,
          420000.001,
          59999.999,
          40000,
          670000,
          1430000,
          190000,
          100000
         ],
         "xaxis": "x",
         "y": [
          "Spacecraft 1-3",
          "Spacecraft 1-3",
          "Spacecraft 1-3",
          "Spacecraft 1-4",
          "Spacecraft 1-4",
          "Spacecraft 1-5",
          "Spacecraft 1-6",
          "Spacecraft 1-7",
          "Spacecraft 1-8",
          "Spacecraft 2-1",
          "Spacecraft 2-3",
          "Spacecraft 2-4",
          "Spacecraft 2-4",
          "Spacecraft 2-7",
          "Spacecraft 2-7",
          "Spacecraft 3-1",
          "Spacecraft 3-1",
          "Spacecraft 3-3",
          "Spacecraft 3-4",
          "Spacecraft 3-4",
          "Spacecraft 3-5",
          "Spacecraft 3-7",
          "Spacecraft 3-8",
          "Spacecraft 3-8"
         ],
         "yaxis": "y"
        },
        {
         "alignmentgroup": "True",
         "base": [
          "2024-10-31T00:08:20.000087+00:00",
          "2024-10-31T01:49:10.000086+00:00",
          "2024-10-31T01:36:20.000086+00:00",
          "2024-10-31T01:21:30.000086+00:00",
          "2024-10-31T01:09:30.000086+00:00",
          "2024-10-31T00:57:20.000086+00:00",
          "2024-10-31T04:22:00.000086+00:00",
          "2024-10-31T05:56:20.000086+00:00",
          "2024-10-31T00:45:00.000086+00:00",
          "2024-10-31T03:57:40.000086+00:00",
          "2024-10-31T05:31:10.000086+00:00",
          "2024-10-31T05:24:10.000086+00:00",
          "2024-10-31T06:19:50.000086+00:00",
          "2024-10-31T09:39:30.000086+00:00",
          "2024-10-31T08:00:00.000086+00:00",
          "2024-10-31T07:49:40.000086+00:00",
          "2024-10-31T09:10:50.000086+00:00",
          "2024-10-31T07:15:40.000086+00:00",
          "2024-10-31T09:04:10.000086+00:00",
          "2024-10-31T04:00:00.000086+00:00",
          "2024-10-31T07:11:10.000087+00:00",
          "2024-10-31T08:51:00.000086+00:00",
          "2024-10-31T06:36:50.000086+00:00",
          "2024-10-31T06:26:10.000087+00:00",
          "2024-10-31T08:14:10.000086+00:00",
          "2024-10-31T09:54:40.000086+00:00"
         ],
         "hovertemplate": "antenna=Chitose<br>start=%{base}<br>end=%{x}<br>target=%{y}<extra></extra>",
         "legendgroup": "Chitose",
         "marker": {
          "color": "#636efa",
          "pattern": {
           "shape": ""
          }
         },
         "name": "Chitose",
         "offsetgroup": "Chitose",
         "orientation": "h",
         "showlegend": true,
         "textposition": "auto",
         "type": "bar",
         "x": [
          1479999.999,
          10000,
          50000.001,
          180000,
          720000,
          730000,
          130000.001,
          300000,
          30000,
          80000,
          230000,
          420000,
          380000.001,
          160000,
          410000,
          610000,
          940000,
          2040000,
          310000,
          370000,
          269999.999,
          790000,
          2060000.001,
          639999.999,
          1450000,
          40000
         ],
         "xaxis": "x",
         "y": [
          "Spacecraft 2-1",
          "Spacecraft 2-1",
          "Spacecraft 2-2",
          "Spacecraft 2-3",
          "Spacecraft 2-4",
          "Spacecraft 2-5",
          "Spacecraft 2-5",
          "Spacecraft 2-5",
          "Spacecraft 2-6",
          "Spacecraft 2-7",
          "Spacecraft 2-7",
          "Spacecraft 2-8",
          "Spacecraft 3-1",
          "Spacecraft 3-1",
          "Spacecraft 3-1",
          "Spacecraft 3-2",
          "Spacecraft 3-3",
          "Spacecraft 3-4",
          "Spacecraft 3-4",
          "Spacecraft 3-4",
          "Spacecraft 3-5",
          "Spacecraft 3-5",
          "Spacecraft 3-7",
          "Spacecraft 3-8",
          "Spacecraft 3-8",
          "Spacecraft 3-8"
         ],
         "yaxis": "y"
        }
       ],
       "layout": {
        "barmode": "overlay",
        "legend": {
         "title": {
          "text": "antenna"
         },
         "tracegroupgap": 0
        },
        "template": {
         "data": {
          "bar": [
           {
            "error_x": {
             "color": "#2a3f5f"
            },
            "error_y": {
             "color": "#2a3f5f"
            },
            "marker": {
             "line": {
              "color": "#E5ECF6",
              "width": 0.5
             },
             "pattern": {
              "fillmode": "overlay",
              "size": 10,
              "solidity": 0.2
             }
            },
            "type": "bar"
           }
          ],
          "barpolar": [
           {
            "marker": {
             "line": {
              "color": "#E5ECF6",
              "width": 0.5
             },
             "pattern": {
              "fillmode": "overlay",
              "size": 10,
              "solidity": 0.2
             }
            },
            "type": "barpolar"
           }
          ],
          "carpet": [
           {
            "aaxis": {
             "endlinecolor": "#2a3f5f",
             "gridcolor": "white",
             "linecolor": "white",
             "minorgridcolor": "white",
             "startlinecolor": "#2a3f5f"
            },
            "baxis": {
             "endlinecolor": "#2a3f5f",
             "gridcolor": "white",
             "linecolor": "white",
             "minorgridcolor": "white",
             "startlinecolor": "#2a3f5f"
            },
            "type": "carpet"
           }
          ],
          "choropleth": [
           {
            "colorbar": {
             "outlinewidth": 0,
             "ticks": ""
            },
            "type": "choropleth"
           }
          ],
          "contour": [
           {
            "colorbar": {
             "outlinewidth": 0,
             "ticks": ""
            },
            "colorscale": [
             [
              0,
              "#0d0887"
             ],
             [
              0.1111111111111111,
              "#46039f"
             ],
             [
              0.2222222222222222,
              "#7201a8"
             ],
             [
              0.3333333333333333,
              "#9c179e"
             ],
             [
              0.4444444444444444,
              "#bd3786"
             ],
             [
              0.5555555555555556,
              "#d8576b"
             ],
             [
              0.6666666666666666,
              "#ed7953"
             ],
             [
              0.7777777777777778,
              "#fb9f3a"
             ],
             [
              0.8888888888888888,
              "#fdca26"
             ],
             [
              1,
              "#f0f921"
             ]
            ],
            "type": "contour"
           }
          ],
          "contourcarpet": [
           {
            "colorbar": {
             "outlinewidth": 0,
             "ticks": ""
            },
            "type": "contourcarpet"
           }
          ],
          "heatmap": [
           {
            "colorbar": {
             "outlinewidth": 0,
             "ticks": ""
            },
            "colorscale": [
             [
              0,
              "#0d0887"
             ],
             [
              0.1111111111111111,
              "#46039f"
             ],
             [
              0.2222222222222222,
              "#7201a8"
             ],
             [
              0.3333333333333333,
              "#9c179e"
             ],
             [
              0.4444444444444444,
              "#bd3786"
             ],
             [
              0.5555555555555556,
              "#d8576b"
             ],
             [
              0.6666666666666666,
              "#ed7953"
             ],
             [
              0.7777777777777778,
              "#fb9f3a"
             ],
             [
              0.8888888888888888,
              "#fdca26"
             ],
             [
              1,
              "#f0f921"
             ]
            ],
            "type": "heatmap"
           }
          ],
          "heatmapgl": [
           {
            "colorbar": {
             "outlinewidth": 0,
             "ticks": ""
            },
            "colorscale": [
             [
              0,
              "#0d0887"
             ],
             [
              0.1111111111111111,
              "#46039f"
             ],
             [
              0.2222222222222222,
              "#7201a8"
             ],
             [
              0.3333333333333333,
              "#9c179e"
             ],
             [
              0.4444444444444444,
              "#bd3786"
             ],
             [
              0.5555555555555556,
              "#d8576b"
             ],
             [
              0.6666666666666666,
              "#ed7953"
             ],
             [
              0.7777777777777778,
              "#fb9f3a"
             ],
             [
              0.8888888888888888,
              "#fdca26"
             ],
             [
              1,
              "#f0f921"
             ]
            ],
            "type": "heatmapgl"
           }
          ],
          "histogram": [
           {
            "marker": {
             "pattern": {
              "fillmode": "overlay",
              "size": 10,
              "solidity": 0.2
             }
            },
            "type": "histogram"
           }
          ],
          "histogram2d": [
           {
            "colorbar": {
             "outlinewidth": 0,
             "ticks": ""
            },
            "colorscale": [
             [
              0,
              "#0d0887"
             ],
             [
              0.1111111111111111,
              "#46039f"
             ],
             [
              0.2222222222222222,
              "#7201a8"
             ],
             [
              0.3333333333333333,
              "#9c179e"
             ],
             [
              0.4444444444444444,
              "#bd3786"
             ],
             [
              0.5555555555555556,
              "#d8576b"
             ],
             [
              0.6666666666666666,
              "#ed7953"
             ],
             [
              0.7777777777777778,
              "#fb9f3a"
             ],
             [
              0.8888888888888888,
              "#fdca26"
             ],
             [
              1,
              "#f0f921"
             ]
            ],
            "type": "histogram2d"
           }
          ],
          "histogram2dcontour": [
           {
            "colorbar": {
             "outlinewidth": 0,
             "ticks": ""
            },
            "colorscale": [
             [
              0,
              "#0d0887"
             ],
             [
              0.1111111111111111,
              "#46039f"
             ],
             [
              0.2222222222222222,
              "#7201a8"
             ],
             [
              0.3333333333333333,
              "#9c179e"
             ],
             [
              0.4444444444444444,
              "#bd3786"
             ],
             [
              0.5555555555555556,
              "#d8576b"
             ],
             [
              0.6666666666666666,
              "#ed7953"
             ],
             [
              0.7777777777777778,
              "#fb9f3a"
             ],
             [
              0.8888888888888888,
              "#fdca26"
             ],
             [
              1,
              "#f0f921"
             ]
            ],
            "type": "histogram2dcontour"
           }
          ],
          "mesh3d": [
           {
            "colorbar": {
             "outlinewidth": 0,
             "ticks": ""
            },
            "type": "mesh3d"
           }
          ],
          "parcoords": [
           {
            "line": {
             "colorbar": {
              "outlinewidth": 0,
              "ticks": ""
             }
            },
            "type": "parcoords"
           }
          ],
          "pie": [
           {
            "automargin": true,
            "type": "pie"
           }
          ],
          "scatter": [
           {
            "fillpattern": {
             "fillmode": "overlay",
             "size": 10,
             "solidity": 0.2
            },
            "type": "scatter"
           }
          ],
          "scatter3d": [
           {
            "line": {
             "colorbar": {
              "outlinewidth": 0,
              "ticks": ""
             }
            },
            "marker": {
             "colorbar": {
              "outlinewidth": 0,
              "ticks": ""
             }
            },
            "type": "scatter3d"
           }
          ],
          "scattercarpet": [
           {
            "marker": {
             "colorbar": {
              "outlinewidth": 0,
              "ticks": ""
             }
            },
            "type": "scattercarpet"
           }
          ],
          "scattergeo": [
           {
            "marker": {
             "colorbar": {
              "outlinewidth": 0,
              "ticks": ""
             }
            },
            "type": "scattergeo"
           }
          ],
          "scattergl": [
           {
            "marker": {
             "colorbar": {
              "outlinewidth": 0,
              "ticks": ""
             }
            },
            "type": "scattergl"
           }
          ],
          "scattermapbox": [
           {
            "marker": {
             "colorbar": {
              "outlinewidth": 0,
              "ticks": ""
             }
            },
            "type": "scattermapbox"
           }
          ],
          "scatterpolar": [
           {
            "marker": {
             "colorbar": {
              "outlinewidth": 0,
              "ticks": ""
             }
            },
            "type": "scatterpolar"
           }
          ],
          "scatterpolargl": [
           {
            "marker": {
             "colorbar": {
              "outlinewidth": 0,
              "ticks": ""
             }
            },
            "type": "scatterpolargl"
           }
          ],
          "scatterternary": [
           {
            "marker": {
             "colorbar": {
              "outlinewidth": 0,
              "ticks": ""
             }
            },
            "type": "scatterternary"
           }
          ],
          "surface": [
           {
            "colorbar": {
             "outlinewidth": 0,
             "ticks": ""
            },
            "colorscale": [
             [
              0,
              "#0d0887"
             ],
             [
              0.1111111111111111,
              "#46039f"
             ],
             [
              0.2222222222222222,
              "#7201a8"
             ],
             [
              0.3333333333333333,
              "#9c179e"
             ],
             [
              0.4444444444444444,
              "#bd3786"
             ],
             [
              0.5555555555555556,
              "#d8576b"
             ],
             [
              0.6666666666666666,
              "#ed7953"
             ],
             [
              0.7777777777777778,
              "#fb9f3a"
             ],
             [
              0.8888888888888888,
              "#fdca26"
             ],
             [
              1,
              "#f0f921"
             ]
            ],
            "type": "surface"
           }
          ],
          "table": [
           {
            "cells": {
             "fill": {
              "color": "#EBF0F8"
             },
             "line": {
              "color": "white"
             }
            },
            "header": {
             "fill": {
              "color": "#C8D4E3"
             },
             "line": {
              "color": "white"
             }
            },
            "type": "table"
           }
          ]
         },
         "layout": {
          "annotationdefaults": {
           "arrowcolor": "#2a3f5f",
           "arrowhead": 0,
           "arrowwidth": 1
          },
          "autotypenumbers": "strict",
          "coloraxis": {
           "colorbar": {
            "outlinewidth": 0,
            "ticks": ""
           }
          },
          "colorscale": {
           "diverging": [
            [
             0,
             "#8e0152"
            ],
            [
             0.1,
             "#c51b7d"
            ],
            [
             0.2,
             "#de77ae"
            ],
            [
             0.3,
             "#f1b6da"
            ],
            [
             0.4,
             "#fde0ef"
            ],
            [
             0.5,
             "#f7f7f7"
            ],
            [
             0.6,
             "#e6f5d0"
            ],
            [
             0.7,
             "#b8e186"
            ],
            [
             0.8,
             "#7fbc41"
            ],
            [
             0.9,
             "#4d9221"
            ],
            [
             1,
             "#276419"
            ]
           ],
           "sequential": [
            [
             0,
             "#0d0887"
            ],
            [
             0.1111111111111111,
             "#46039f"
            ],
            [
             0.2222222222222222,
             "#7201a8"
            ],
            [
             0.3333333333333333,
             "#9c179e"
            ],
            [
             0.4444444444444444,
             "#bd3786"
            ],
            [
             0.5555555555555556,
             "#d8576b"
            ],
            [
             0.6666666666666666,
             "#ed7953"
            ],
            [
             0.7777777777777778,
             "#fb9f3a"
            ],
            [
             0.8888888888888888,
             "#fdca26"
            ],
            [
             1,
             "#f0f921"
            ]
           ],
           "sequentialminus": [
            [
             0,
             "#0d0887"
            ],
            [
             0.1111111111111111,
             "#46039f"
            ],
            [
             0.2222222222222222,
             "#7201a8"
            ],
            [
             0.3333333333333333,
             "#9c179e"
            ],
            [
             0.4444444444444444,
             "#bd3786"
            ],
            [
             0.5555555555555556,
             "#d8576b"
            ],
            [
             0.6666666666666666,
             "#ed7953"
            ],
            [
             0.7777777777777778,
             "#fb9f3a"
            ],
            [
             0.8888888888888888,
             "#fdca26"
            ],
            [
             1,
             "#f0f921"
            ]
           ]
          },
          "colorway": [
           "#636efa",
           "#EF553B",
           "#00cc96",
           "#ab63fa",
           "#FFA15A",
           "#19d3f3",
           "#FF6692",
           "#B6E880",
           "#FF97FF",
           "#FECB52"
          ],
          "font": {
           "color": "#2a3f5f"
          },
          "geo": {
           "bgcolor": "white",
           "lakecolor": "white",
           "landcolor": "#E5ECF6",
           "showlakes": true,
           "showland": true,
           "subunitcolor": "white"
          },
          "hoverlabel": {
           "align": "left"
          },
          "hovermode": "closest",
          "mapbox": {
           "style": "light"
          },
          "paper_bgcolor": "white",
          "plot_bgcolor": "#E5ECF6",
          "polar": {
           "angularaxis": {
            "gridcolor": "white",
            "linecolor": "white",
            "ticks": ""
           },
           "bgcolor": "#E5ECF6",
           "radialaxis": {
            "gridcolor": "white",
            "linecolor": "white",
            "ticks": ""
           }
          },
          "scene": {
           "xaxis": {
            "backgroundcolor": "#E5ECF6",
            "gridcolor": "white",
            "gridwidth": 2,
            "linecolor": "white",
            "showbackground": true,
            "ticks": "",
            "zerolinecolor": "white"
           },
           "yaxis": {
            "backgroundcolor": "#E5ECF6",
            "gridcolor": "white",
            "gridwidth": 2,
            "linecolor": "white",
            "showbackground": true,
            "ticks": "",
            "zerolinecolor": "white"
           },
           "zaxis": {
            "backgroundcolor": "#E5ECF6",
            "gridcolor": "white",
            "gridwidth": 2,
            "linecolor": "white",
            "showbackground": true,
            "ticks": "",
            "zerolinecolor": "white"
           }
          },
          "shapedefaults": {
           "line": {
            "color": "#2a3f5f"
           }
          },
          "ternary": {
           "aaxis": {
            "gridcolor": "white",
            "linecolor": "white",
            "ticks": ""
           },
           "baxis": {
            "gridcolor": "white",
            "linecolor": "white",
            "ticks": ""
           },
           "bgcolor": "#E5ECF6",
           "caxis": {
            "gridcolor": "white",
            "linecolor": "white",
            "ticks": ""
           }
          },
          "title": {
           "x": 0.05
          },
          "xaxis": {
           "automargin": true,
           "gridcolor": "white",
           "linecolor": "white",
           "ticks": "",
           "title": {
            "standoff": 15
           },
           "zerolinecolor": "white",
           "zerolinewidth": 2
          },
          "yaxis": {
           "automargin": true,
           "gridcolor": "white",
           "linecolor": "white",
           "ticks": "",
           "title": {
            "standoff": 15
           },
           "zerolinecolor": "white",
           "zerolinewidth": 2
          }
         }
        },
        "title": {
         "text": "Up/Downlink Schedule (Per Spacecraft)"
        },
        "xaxis": {
         "anchor": "y",
         "domain": [
          0,
          1
         ],
         "type": "date"
        },
        "yaxis": {
         "anchor": "x",
         "categoryorder": "category descending",
         "domain": [
          0,
          1
         ],
         "title": {
          "text": "target"
         }
        }
       }
      }
     },
     "metadata": {},
     "output_type": "display_data"
    }
   ],
   "source": [
    "from ipynb.fs.defs.sim_results import make_contact_schedule_plots\n",
    "\n",
    "pure_sim = scenario.simulation.results()\n",
    "ground_segment_results = pure_sim.agent(gs_agent_name)\n",
    "make_contact_schedule_plots(template, ground_segment_results)"
   ]
  }
 ],
 "metadata": {
  "kernelspec": {
   "display_name": ".test",
   "language": "python",
   "name": "python3"
  },
  "language_info": {
   "codemirror_mode": {
    "name": "ipython",
    "version": 3
   },
   "file_extension": ".py",
   "mimetype": "text/x-python",
   "name": "python",
   "nbconvert_exporter": "python",
   "pygments_lexer": "ipython3",
   "version": "3.12.4"
  }
 },
 "nbformat": 4,
 "nbformat_minor": 2
}
