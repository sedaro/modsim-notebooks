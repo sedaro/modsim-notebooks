{
 "cells": [
  {
   "attachments": {},
   "cell_type": "markdown",
   "id": "5a053b78-b637-4e78-93e3-32ac4700d76b",
   "metadata": {},
   "source": [
    "# Sedaro Studies Override Tutorial Notebook \n",
    "Demonstrates Sedaro Studies support via the override features and the sedaro python client using a Jupyter notebook."
   ]
  },
  {
   "attachments": {},
   "cell_type": "markdown",
   "id": "3abf7051-878e-4921-927c-b91b830ac70a",
   "metadata": {},
   "source": [
    "# Introduction  \n",
    "This notebook explains the override features of the new Studies support added to Sedaro. \n",
    "The core of this support is the ability to change starting values of Agent Paramaters of a scenario branch in order to observe its effect on simulation results."
   ]
  },
  {
   "attachments": {},
   "cell_type": "markdown",
   "id": "159380f4-4e05-4f5f-bacf-fc0127f39cc2",
   "metadata": {},
   "source": [
    "# Setup\n",
    "Running this notebook requires the following:\n",
    "- A Sedaro Account            --> https://www.sedaro.com\n",
    "- A Sedaro API Token          --> https://www.sedaro.com/#/account\n",
    "- The Wildfire Demo Branch ID --> login --> select/click or create workspace --> select/click Project: [DEMO] WildFire --> select/click  Repositories: [DEMO] Wildfire Scenarios --> copy main branch ID via clipboard icon (TODO insert screen shot)\n",
    "- Python 3.10+ installed      --> https://www.python.org\n",
    "- Jupyter notebook or lab     --> https://jupyter.org"
   ]
  },
  {
   "attachments": {},
   "cell_type": "markdown",
   "id": "5506746f-6d01-4235-b05b-6a306f63f483",
   "metadata": {},
   "source": [
    "## Pip requirements\n",
    "Create/activate a python venv if desired"
   ]
  },
  {
   "cell_type": "code",
   "execution_count": 1,
   "id": "ef850272-9617-449e-a66a-df1ce475f89f",
   "metadata": {},
   "outputs": [],
   "source": [
    "#!python -m venv /path/to/new/virtual/environment"
   ]
  },
  {
   "attachments": {},
   "cell_type": "markdown",
   "id": "c1030e59-4909-471c-aa8f-3057015ca840",
   "metadata": {},
   "source": [
    "Activate it via this table\n",
    "| Platform | Shell | Command to activate virtual environment |\n",
    "| :- | :- | :- |\n",
    "| POSIX | bash/zsh |  source <venv>/bin/activate |\n",
    "| | fish |  source <venv>/bin/activate.fish |\n",
    "| | csh/tcsh |  source <venv>/bin/activate.csh |\n",
    "| | PowerShell |  <venv>/bin/Activate.ps1 |\n",
    "| Windows | cmd.exe | C:\\> <venv>\\Scripts\\activate.bat |\n",
    "| | PowerShell | PS C:\\> <venv>\\Scripts\\Activate.ps1 |"
   ]
  },
  {
   "attachments": {},
   "cell_type": "markdown",
   "id": "eb0fe246-e57f-4bd6-893f-492b752b6003",
   "metadata": {},
   "source": [
    "Required python modules:\n",
    "> replace *python* with *python3* if needed "
   ]
  },
  {
   "cell_type": "code",
   "execution_count": 2,
   "id": "1a5a0edc-dafa-431e-8e1e-c9a01d7b5a6f",
   "metadata": {},
   "outputs": [],
   "source": [
    "#!python -m pip install -e sedaro pytest matplotlib pandas sweetviz"
   ]
  },
  {
   "attachments": {},
   "cell_type": "markdown",
   "id": "9a3519f2",
   "metadata": {},
   "source": [
    "or"
   ]
  },
  {
   "cell_type": "code",
   "execution_count": 3,
   "id": "cd7cdb22-bfeb-49c0-8686-d36a311ac7e3",
   "metadata": {},
   "outputs": [],
   "source": [
    "#!python3.10 -m pip install  sedaro pytest matplotlib pandas sweetviz"
   ]
  },
  {
   "cell_type": "code",
   "execution_count": 4,
   "id": "2bebfa21-d791-4f00-992f-08e68821385f",
   "metadata": {},
   "outputs": [],
   "source": [
    "#!python3.10 -m pip install sweetviz IProgress"
   ]
  },
  {
   "attachments": {},
   "cell_type": "markdown",
   "id": "524abc97-18a3-497e-9d80-2468b8ae9870",
   "metadata": {},
   "source": [
    "Run the following cells to test if all required python modules are installed correctly"
   ]
  },
  {
   "attachments": {},
   "cell_type": "markdown",
   "id": "cdf741b3-bb16-4605-a230-38dbb39ec564",
   "metadata": {
    "jp-MarkdownHeadingCollapsed": true
   },
   "source": [
    "Optional module needed by the stats() function if desired "
   ]
  },
  {
   "cell_type": "code",
   "execution_count": 1,
   "id": "ffb9ab5d-dae7-4ca9-9dc9-1ad02389aa03",
   "metadata": {},
   "outputs": [],
   "source": [
    "import sedaro\n",
    "import yaml\n",
    "import json\n",
    "import matplotlib.pyplot as plt\n",
    "import pandas as pd\n",
    "import math\n",
    "import numpy as np"
   ]
  },
  {
   "cell_type": "code",
   "execution_count": 2,
   "id": "ddd2aad9-e196-49b3-9b4c-4e3113efe825",
   "metadata": {},
   "outputs": [
    {
     "name": "stderr",
     "output_type": "stream",
     "text": [
      "/usr/local/lib/python3.10/site-packages/tqdm/auto.py:21: TqdmWarning: IProgress not found. Please update jupyter and ipywidgets. See https://ipywidgets.readthedocs.io/en/stable/user_install.html\n",
      "  from .autonotebook import tqdm as notebook_tqdm\n"
     ]
    }
   ],
   "source": [
    "# optional\n",
    "import sweetviz as sv"
   ]
  },
  {
   "attachments": {},
   "cell_type": "markdown",
   "id": "7604a592-a5b7-414f-9ca9-1e33605988b8",
   "metadata": {},
   "source": [
    "## Important: Read Before Running\n",
    "\n",
    "This notebook makes changes to agent and scenario branches indicated in the settings section. Ensure any changes to the target branches are saved prior to running this code. Sedaro recommends committing current changes and creating new branches in the target repositories to avoid loss of work.\n",
    "\n",
    "This notebook also requires that you have previously generated an API key in the web UI. That key should be stored in a file called `secrets.json` in the same directory as this notebook with the following format:\n",
    "\n",
    "```json\n",
    "{\n",
    "    \"API_KEY\": \"<API_KEY>\"\n",
    "}\n",
    "```\n",
    "\n",
    "API keys grant full access to your repositories and should never be shared. If you think your API key has been compromised, you can revoke it in the user settings interface on the Sedaro website."
   ]
  },
  {
   "attachments": {},
   "cell_type": "markdown",
   "id": "e6a45eb2-0af3-4891-95fd-a79e82bf4227",
   "metadata": {},
   "source": [
    "\n",
    "\n",
    "## Sedaro python client setup\n",
    "Note: More information about the sedaro-python client can be found here: [https://github.com/sedaro/sedaro-python]\n",
    "\n",
    "\n",
    "In the next cell, adjust the following variables as needed\n",
    "- *Sedaro_api_host*\n",
    "- *Sedaro_api_token*"
   ]
  },
  {
   "cell_type": "code",
   "execution_count": 3,
   "id": "9aa55f8b-b408-4b2a-b2f3-b8717cf85f83",
   "metadata": {},
   "outputs": [],
   "source": [
    "Sedaro_api_host  = \"http://localhost:80\" # \"api.sedaro.com\"\n",
    "\n",
    "# Set your API token value either directly or via loading a secrets file\n",
    "# !! NOTE !!  Be careful not to check in your API Key into a source control repo  !! Note !!\n",
    "secretPath = '/Users/sedaro/Documents/sedaro/sedaro-satellite/secrets.json'\n",
    "with open(secretPath, 'r') as file:\n",
    "    Sedaro_api_token = json.load(file)['API_KEY']\n",
    "    \n",
    "sedaroAPI = sedaro.SedaroApiClient(api_key=Sedaro_api_token, host=Sedaro_api_host)"
   ]
  },
  {
   "attachments": {},
   "cell_type": "markdown",
   "id": "2d736410-1076-4fdb-ae30-9bad51d65e96",
   "metadata": {},
   "source": [
    "## Load the wildfire scenario branch data\n",
    "Change the value of the *scenario_branch_id* in the next cell to the branch id noted above during the **Setup** section.\n",
    "then run the following cell:"
   ]
  },
  {
   "cell_type": "code",
   "execution_count": 4,
   "id": "6118aee4-8497-4ceb-9b16-75813455a1f9",
   "metadata": {},
   "outputs": [],
   "source": [
    "scenario_branch_id = \"PLS7ksR9fHWl98HnYPZRK8\"\n",
    "wildfire_scenario_branch = sedaroAPI.scenario(scenario_branch_id)"
   ]
  },
  {
   "attachments": {},
   "cell_type": "markdown",
   "id": "625e7a95-66f8-4dfe-967f-2a53f5c1a2eb",
   "metadata": {},
   "source": [
    "# Overview of the overrides feature\n",
    "Override objects provide a means of varying Agent model parameters in a scenario to explore trade spaces and result sensitivities in your Agent design.  They can be defined as JSON or Python objects.\n",
    "\n",
    "Summary of what do override objects do?\n",
    "- Change starting values of model parameters via selected function(s)\n",
    "  - Saves these model parameter changes so they can be loaded and re-run later (called snapshots) \n",
    "- Available functions include \n",
    "  - random draws from various distributions types\n",
    "  - basic math operators\n",
    "  - table lookups\n",
    "  - variable support\n",
    "  - value clamping\n",
    "*Note: The **Function** random choices are deterministic between simulation runs.*"
   ]
  },
  {
   "attachments": {},
   "cell_type": "markdown",
   "id": "267696eb-dc9c-4ae1-bd45-6d7f685bc246",
   "metadata": {},
   "source": [
    "\n",
    "\n",
    "Override objects consist of a:\n",
    " - **path** to the Agent model parameter to change and a \n",
    " - **function** to perform the actual change itself.\n",
    "\n",
    "> Note: *Variables* can be used to hold a value of a model parameter or a constant. They are used to ease modification of override values and provide a means to ensure overall model consistency.\n",
    "\n",
    "The **functions** used to change Agent model parameters support trade-space tables and randomized assignment via functions available in Pythons Random module."
   ]
  },
  {
   "cell_type": "code",
   "execution_count": 6,
   "id": "2b63c654",
   "metadata": {},
   "outputs": [
    {
     "data": {
      "text/plain": [
       "[('Tradespace Example', 'PKghWNfbXwHLq8xBDPKsZg')]"
      ]
     },
     "execution_count": 6,
     "metadata": {},
     "output_type": "execute_result"
    }
   ],
   "source": [
    "# The following code will list all the override sets currently defined for the scenario branch\n",
    "[ (overrideset.name, overrideset.id) for overrideset in wildfire_scenario_branch.OverrideSet.get_all()]"
   ]
  },
  {
   "attachments": {},
   "cell_type": "markdown",
   "id": "d4ec1111-8a2c-47dd-8209-fbea8b8a393d",
   "metadata": {},
   "source": [
    "## Paths\n",
    "An addressing means to access a model parameter of an Agent. Currently there are two versions:\n",
    "- \"**path**\": A human readable format based on the names of models and its components. \n",
    " - Format: Agent Name / blockname / parameter name / sub series\n",
    " - Example: “Wildfire/Crosslink/minTimeBetweenOccurrences/min”\n",
    " - Uses “/“ as a delimiter to mimic file location paths\n",
    "- \"**agent_key**\": Based on the ids of a model and its components.\n",
    " - Format: agent_id.data.blocks.block_id.parameter.subseries\n",
    " - Example: “NT0LWIfSJ1RIenKpUmJEV.data.blocks.NV0bIfUUj9e6l-PX4ql1V.loadDefParams.power”\n",
    " - Uses ‘.’ for the separator\n",
    " - Similar to how Sedaro results streams are named"
   ]
  },
  {
   "attachments": {},
   "cell_type": "markdown",
   "id": "57ec01d5-4de8-491b-ad1b-9a2dc9257b2f",
   "metadata": {},
   "source": [
    "## Variables\n",
    "Used to ensure consistency when assigning random values to parameters. When a model parameter is set with the result of a random fn, its value can be saved to a variable in order to update other model parameters that are affected by the change. \n",
    "\n",
    "> For example if the area of a solar panel is randomly assigned via a selected distribution function, then the mass of the panel and the Agents overall mass, will need to be adjusted accordingly.\n",
    "\n",
    "They are initially defined in the variable section of a JSON or Python Override Object. "
   ]
  },
  {
   "attachments": {},
   "cell_type": "markdown",
   "id": "4c2366d2-e3f6-4765-8542-c862485794b9",
   "metadata": {},
   "source": [
    "### Built-in Variables\n",
    "Always available to use as values for function arguments\n",
    "\n",
    "| Name | Description |\n",
    "| :-: | :- |\n",
    "| x |  Replaced by the value in the parameter path before the function is run |\n",
    "| original | Same as 'x' but more explicit |"
   ]
  },
  {
   "attachments": {},
   "cell_type": "markdown",
   "id": "fb7438a4-6b47-4d7f-a57d-f9dd945f809e",
   "metadata": {},
   "source": [
    "### User defined\n",
    "Defined in the \"variables\" section of the overrides datastructure\n",
    "\n",
    "The following python command will list all currently defined variables for the first OverrideSet as pydantic json objects"
   ]
  },
  {
   "cell_type": "code",
   "execution_count": 7,
   "id": "01d00649-02b9-45cc-8130-99338bed226d",
   "metadata": {},
   "outputs": [
    {
     "data": {
      "text/plain": [
       "[{'agent_key': None,\n",
       "  'equals': None,\n",
       "  'name': 'Baseline_mass',\n",
       "  'path': 'Wildfire/data/mass'},\n",
       " {'agent_key': None,\n",
       "  'equals': 2.2,\n",
       "  'name': 'SAR-10237_mass_delta',\n",
       "  'path': None},\n",
       " {'agent_key': None,\n",
       "  'equals': 3.2,\n",
       "  'name': 'SAR-10239_mass_delta',\n",
       "  'path': None},\n",
       " {'agent_key': None,\n",
       "  'equals': -0.702,\n",
       "  'name': 'P33081_mass_delta',\n",
       "  'path': None},\n",
       " {'agent_key': None,\n",
       "  'equals': None,\n",
       "  'name': 'Baseline_dry_inertia_X.X',\n",
       "  'path': 'Wildfire/data/inertia/0/0'},\n",
       " {'agent_key': None,\n",
       "  'equals': None,\n",
       "  'name': 'Baseline_dry_inertia_Y.Y',\n",
       "  'path': 'Wildfire/data/inertia/1/1'},\n",
       " {'agent_key': None,\n",
       "  'equals': None,\n",
       "  'name': 'Baseline_dry_inertia_Z.Z',\n",
       "  'path': 'Wildfire/data/inertia/2/2'}]"
      ]
     },
     "execution_count": 7,
     "metadata": {},
     "output_type": "execute_result"
    }
   ],
   "source": [
    "wildfire_scenario_branch.OverrideSet.get('PKghWNfbXwHLq8xBDPKsZg').variables"
   ]
  },
  {
   "attachments": {},
   "cell_type": "markdown",
   "id": "3be97c97",
   "metadata": {},
   "source": [
    "\n",
    "\n",
    "or defined as a list of json objects"
   ]
  },
  {
   "attachments": {},
   "cell_type": "markdown",
   "id": "1bdee15a-9280-4db3-8400-2984c3cd5bcb",
   "metadata": {},
   "source": [
    "``` json\n",
    "variables = [\n",
    "    {\n",
    "        \"name\": \"gyroHotTemp\",\n",
    "        \"path\": \"Wildfire/Gyro/hotTempRating/degC\",      \n",
    "    },\n",
    "    {\n",
    "        \"name\": \"gyro_Sandwich\",\n",
    "        \"equals\": \"tasty\"\n",
    "    }\n",
    "]\n",
    "```"
   ]
  },
  {
   "attachments": {},
   "cell_type": "markdown",
   "id": "0512a410-4365-4076-ad7e-7a50dab07ebd",
   "metadata": {},
   "source": [
    "Variables objects must have a 'name' and either:\n",
    "- A **path** or **Agent_path** key which assigned the variable to the parameters current value\n",
    "- or A **equals** key which sets the variable to a given value.\n",
    " - This value must be the same type of the parameter, aka string, int, or float\n",
    "  - A key: value pair is used for paths with sub series\n",
    "   - Example: { \"Degrees\": 90 } \n",
    " - Values in arrays or lists must have the index in the path address\n",
    "   - Example: \n",
    "     - */Wildfire/data/inertia/0* is the first element of the model parameter inertia list aka **inertia[0]**"
   ]
  },
  {
   "attachments": {},
   "cell_type": "markdown",
   "id": "cf2182dd-3f2d-49be-a29a-22a9f9feaceb",
   "metadata": {},
   "source": [
    "## Override Functions\n",
    "A function executed with provided arguments and stores the result in the model parameter listed in the path key."
   ]
  },
  {
   "attachments": {},
   "cell_type": "markdown",
   "id": "8452788e-0d59-4ab4-bcbc-9725beead323",
   "metadata": {},
   "source": [
    "### Available override functions\n",
    "From basic arithmetic to drawing random numbers from a distribution, Sedaro provides a number of built-in functions for use to set starting values of Agent model parameters. \n",
    "\n",
    "#### Fn Summary Table\n",
    "| Basic Math Operators | | Python | Random Module |   |\n",
    "| :-: | -|  - | - | - |\n",
    "| + | | choices | sample | randrange | \n",
    "| - | | uniform |triangular |expovariate | \n",
    "| * | | gammavariate | gauss | normalvariate | \n",
    "| / | | lognormvariate | vonmisesvariate | \n",
    "| = | | paretovariate | weibullvariate |\n"
   ]
  },
  {
   "attachments": {},
   "cell_type": "markdown",
   "id": "be58b0fb-e672-451a-add5-61b4d16e5326",
   "metadata": {},
   "source": [
    "#### Basic math operators +, -, *, /, =\n",
    "Performs the math operator with the current value of the model parameter then stores the results on the given parameter\n",
    "\n",
    "Examples:\n",
    "```\n",
    "{\n",
    "    \"path\": \"Wildfire/Gyro/hotTempRating/degC\",\n",
    "    \"fn\": \"=\",\n",
    "    \"arg\": 90.0\n",
    "},\n",
    "```\n",
    "- Sets the model parameter *Wildfire/Gyro/hotTempRating/degC* to 90.0, overriding its original value of 100.0\n",
    "\n",
    "```\n",
    "{\n",
    "   \"path\": \"Wildfire/Power Processor/thermalCapacitance\",\n",
    "   \"fn\": \"*\",\n",
    "   \"arg\": 1.2\n",
    "}\n",
    "```\n",
    "- Will multiply the original value of the *Wildfire/Power Processor/thermalCapacitance* model parameter by 1.2\n",
    "- Then it will set the result to the *Wildfire/Power Processor/thermalCapacitance* model parameter"
   ]
  },
  {
   "attachments": {},
   "cell_type": "markdown",
   "id": "dce1dbb3-90ef-4ae1-89ca-91033e6f9eb6",
   "metadata": {},
   "source": [
    "#### Python random module functions\n",
    "Allows the use of the functions available in pythons random module. These include various random number draws from various types of distribution curves, choices from a list with weights, and so on. More information about these functions can be found here: [https://docs.python.org/3/library/random.html]\n",
    "\n",
    "---\n",
    "- Functions for integers\n",
    "  - Randrange(start, stop[, step]) \n",
    "    - generates a random integer within the specified range\n",
    "\n",
    "---\n",
    "- Functions for sequences\n",
    "  -  Choices(population, weights=None, *, cum_weights=None, k=1) \n",
    "    - Return a k sized list of elements chosen from the population with replacement. \n",
    "  -  Sample(population, k, *, counts=None) \n",
    "    - Return a k length list of unique elements chosen from the population sequence. Used for random sampling without replacement.\n",
    "\n",
    "---\n",
    "- Real-valued distributions\n",
    "  - Uniform(a, b) \n",
    "    - generates a random float between a and b\n",
    "  - Triangular(low, high, mode) \n",
    "    - Return a random floating point number N such that low <= N <= high\n",
    "  - Expovariate(lambd=1.0) \n",
    "    - Exponential distribution. lambd is 1.0 divided by the desired mean. It should be nonzero.\n",
    "  - gammavariate(alpha, beta) \n",
    "    - Gamma distribution. (Not the gamma function!) The shape and scale parameters, alpha and beta, must have positive values.\n",
    "  - gauss(mu=0.0, sigma=1.0) \n",
    "    - Normal distribution, also called the Gaussian distribution. mu is the mean, and sigma is the standard deviation. \n",
    "  - normalvariate(mu=0.0, sigma=1.0) \n",
    "    - Normal distribution. mu is the mean, and sigma is the standard deviation.\n",
    "  - lognormvariate(mu, sigma) \n",
    "    - Log normal distribution. If you take the natural logarithm of this distribution, you’ll get a normal distribution with mean mu and standard deviation sigma. \n",
    "  - vonmisesvariate(mu, kappa) \n",
    "    - mu is the mean angle, expressed in radians between 0 and 2*pi, and kappa is the concentration parameter, which must be greater than or equal to zero.\n",
    "  - paretovariate(alpha) \n",
    "    - Pareto distribution. alpha is the shape parameter.\n",
    "  - weibullvariate(alpha, beta) \n",
    "    - Weibull distribution. alpha is the scale parameter and beta is the shape parameter.\n",
    "---\n",
    "\n",
    "Examples:\n",
    "```\n",
    "{\n",
    "    \"path\": \"Wildfire/Battery/initialSoc\", # starts as 0.8.\n",
    "    \"fn\": \"choices\",\n",
    "    \"population\": [0.6, 0.9], \n",
    "    \"weights\":[1.0, 0.5], \n",
    "    \"k\":1\n",
    "},\n",
    "```\n",
    "Will run the python *random.choices* function with **[0.6, 0.9]** as its *population* and **[1.0,0.5]** as its *weights* arguements\n",
    "and sets the Agent Model parameter **Wildfire/Battery/initialSoc** to the result.\n",
    "\n",
    "\n",
    "```\n",
    "{\n",
    "    \"path\": \"Wildfire/-Z Surface/temperature/degC\", # 20.0\n",
    "    \"fn\": \"normalvariate\",\n",
    "    \"mu\": \"x\", \n",
    "    \"sigma\": 2.0 \n",
    "},\n",
    "```\n",
    "Runs the python *random.normalvariate* function with the arguement *sigma* set to **2.0** and the *mu* arguement set to the current Agents Model parameter **'Wildfire/-Z Surface/temperature/degC'** value. \n",
    "> In this example: If the current parameter \"Wildfire/-Z Surface/temperature/degC\" value was **20.0**, then the *'x'* is replaced by **20.0** which is then used as the *mu* argument for the function call.\n"
   ]
  },
  {
   "attachments": {},
   "cell_type": "markdown",
   "id": "aae379fc-5029-4c93-87cf-ebd7c8562ec4",
   "metadata": {},
   "source": [
    "##### Function Signatures\n",
    "Varies, based on the signature of the python random module itself. See the Signatures addendix for details. \n",
    "\n",
    "Example:\n",
    "The python random module function \"WeibullVariate\" has the following signature:\n",
    "```\n",
    "class WeibullVariate(PathFn):\n",
    "    fn: Literal[\"weibullvariate\"]\n",
    "    alpha: int | float \n",
    "    beta:  int | float \n",
    "```\n",
    "This states the WeibullVariate function expects its alpha and beta parameters to be an integer, float, or string\n",
    "> Do note arguments can be set with *str* types in this context of defined variable names which are replaced by the variable value before running the function. \n"
   ]
  },
  {
   "attachments": {},
   "cell_type": "markdown",
   "id": "0f133363-97fc-4eb5-a420-99c59a931ae0",
   "metadata": {},
   "source": [
    "### fn_chain\n",
    "Performs the provided list of fn overrides in order, each time storing the result in the given parameter path  \n",
    "\n",
    "Signature:\n",
    "```\n",
    "class FnChain(PathFn):\n",
    "    fn_chain: List[ possible_fns ]\n",
    "```\n",
    "\n",
    "Example:\n",
    "Given the following **fn_chain** override json\n",
    "```\n",
    "{\n",
    "   \"path\": \"Wildfire/Power Processor/thermalCapacitance\",\n",
    "   \"fn_chain\": [\n",
    "          {\"fn\": \"*\", \"arg\": 1.2}, \n",
    "          {\"fn\": \"-\", \"arg\": 1.0}, \n",
    "          {\"fn\": \"triangular\", \"low\": 4000, \"high\": 4500, \"mode\": \"x\" },\n",
    "          {\"fn\": \"clamp\", \"low\": 4100} ]\n",
    "}\n",
    "```\n",
    "- Will first multiply the value located in the *thermalCapacitance* parameter of the *Wildfire/Power Processor* model by **1.2**\n",
    "- Then it will substract **1.0** from the previous result\n",
    "- Then draw a random value from a *triangular* shaped distribution centered around the **current result** *(x is replaced by the current result)*, with low of **4000** and the high of **4500**\n",
    "- Then clamp the final result to be **4100** or greater\n",
    "- the final result is then stored in the *Wildfire/Power Processor/thermalCapacitance* parameter"
   ]
  },
  {
   "attachments": {},
   "cell_type": "markdown",
   "id": "16e4269e-c940-4a83-8a3b-afb9b882f9ec",
   "metadata": {},
   "source": [
    "### sim_index\n",
    "Used to perform tradespace studies. The StudyJob object will create SimJobs each with an unique index. The **sim_index** override will use this index to select from a list of **fn** overrides to use for that SimJob.\n",
    "\n",
    "The **sim_index**  is modulated by the size of the provided override fn list\n",
    "> fn used = fn_list[ int(sim_index)%len(fn_list) ]\n",
    "\n",
    "Signature\n",
    "``` python\n",
    "class SimIndex(PathFn):\n",
    "    sim_index: List[ possible_fns ]\n",
    "```\n",
    "Example:\n",
    "Given the following **sim_index** entry JSON \n",
    "\n",
    "``` json\n",
    "{\n",
    "  \"path\": \"Wildfire/Power Processor/thermalCapacitance\",\n",
    "  \"sim_index\": [ \n",
    "      {\"fn\": \"uniform\",\n",
    "        \"a\": 2900.0, \n",
    "        \"b\": 3100  },\n",
    "      {\"fn\": \"=\", \"arg\": 3000.0}, \n",
    "      {\"fn\": \"*\", \"arg\": 1.2}, \n",
    "  ]\n",
    "}\n",
    "```\n",
    "Assuming a study with 3 iterations, \n",
    "- the first Simulation Job will pull a random value from the uniform distrubation from 2900.0 to 3100.0 \n",
    "  - and set the **Power Processor/thermalCapacitance** model parameter to its result.\n",
    "- The second Simulation will directly set the **Power Processor/thermalCapacitance** model parameter to 3000.0.\n",
    "- The third Simulation will multiply the current  **Power Processor/thermalCapacitance** model parameter by 1.2 and set the parameter value to the result.\n"
   ]
  },
  {
   "attachments": {},
   "cell_type": "markdown",
   "id": "28b2223d-7bdd-4087-a5e2-81ab49735535",
   "metadata": {
    "jp-MarkdownHeadingCollapsed": true
   },
   "source": [
    "### copy_value_to (*Working name*)\n",
    "Copies the current value of a model parameter into a variable. \n",
    "\n",
    "Example:\n",
    "``` json\n",
    "{\n",
    "    \"path\": \"Wildfire/Gyro/hotTempRating/degC\",\n",
    "    \"copy_value_to\": \"gyroHotTemp\"          \n",
    "},\n",
    "```\n",
    "\n",
    "Will place the value of the **Wildfire/Gyro/hotTempRating/degC** model parameter into the **gyroHotTemp** variable."
   ]
  },
  {
   "cell_type": "code",
   "execution_count": 9,
   "id": "de16eac4-73b3-467b-8311-3724c5ed20c3",
   "metadata": {},
   "outputs": [],
   "source": [
    "# or TODO Not possible. Only expose OverrideSet currently\n",
    "# copy_value_override = wildfire_scenario_branch.CopyValueTo.create(path=\"Wildfire/Gyro/hotTempRating/degC\", \n",
    "#                                          copy_value_to=\"gyroHotTemp\")"
   ]
  },
  {
   "attachments": {},
   "cell_type": "markdown",
   "id": "ef70df6e-e33c-4e42-bb58-22ed3aa6db67",
   "metadata": {},
   "source": [
    "### clamp\n",
    "Bounds a parameter value to a given range. Meant to be used with a fn_chain to ensure a randomly set value is within valid bounds.\n",
    "\n",
    "Example:\n",
    "``` json\n",
    "{\n",
    "    \"path\":\"Wildfire/Power Processor/thermalCapacitance\",\n",
    "    \"fn\": \"clamp\", \"low\": 4100 \n",
    "},\n",
    "```\n",
    "Will set the model parameter **Wildfire/Power Processor/thermalCapacitance** to 4100 if its current value is below the *low* value of 4100"
   ]
  },
  {
   "attachments": {},
   "cell_type": "markdown",
   "id": "363f1c99-6279-4a07-b4a0-7ec0e1c4c7a9",
   "metadata": {},
   "source": [
    "### clampRepeat\n",
    "Will rerun a given function up to 5 times if the result is outside a given range. Meant to be used with random based override functions.\n",
    "\n",
    "Example:\n",
    "``` json\n",
    "{ \n",
    "   \n",
    "   \"path\": \"LaserComm-1/Quiescent/loadDefParams/power\",\n",
    "   \"fn\": \"clampRepeat\",\n",
    "   \"low\": 4,\n",
    "   \"high\": 5,\n",
    "   \"overrideFn\": {\n",
    "      \"fn\": \"weibullvariate\",\n",
    "      \"alpha\": 4.5,\n",
    "      \"beta\": 1.2,\n",
    "   }\n",
    "}\n",
    "```\n",
    "Will run the random **weibullvariate** distribution function up to 5 times until a result between 4 and 5 is returned, then it sets the model parameter *LaserComm-1/Quiescent/loadDefParams/power* to it. \n",
    "\n",
    "Note: the model parameter will remain its original value if the result clamp [low high] range requirement is not met."
   ]
  },
  {
   "cell_type": "markdown",
   "metadata": {},
   "source": [
    "# Example Override Json From the Wildfire tradespace study notebook"
   ]
  },
  {
   "cell_type": "markdown",
   "metadata": {},
   "source": [
    "This example first defines the variables used in tradespace, then uses them in the override section. The overrides functions shown include basic math, sim_index, and fn_chains of basic math commands.    "
   ]
  },
  {
   "cell_type": "code",
   "execution_count": null,
   "metadata": {},
   "outputs": [],
   "source": [
    "tradespace_overrides_dict = {\n",
    "  \"name\": \"Tradespace Example\",\n",
    "  \"variables\": [\n",
    "    {\n",
    "      \"name\": \"Baseline_mass\",\n",
    "      \"path\": \"Wildfire/data/mass\"\n",
    "    },\n",
    "    {\n",
    "      \"name\": \"SAR-10237_mass_delta\",\n",
    "      \"equals\": 2.20\n",
    "    },\n",
    "    {\n",
    "      \"name\": \"SAR-10239_mass_delta\",\n",
    "      \"equals\": 3.20\n",
    "    },\n",
    "    {\n",
    "      \"name\": \"P33081_mass_delta\",\n",
    "      \"equals\": -0.702\n",
    "    },\n",
    "    {\n",
    "      \"name\": \"Baseline_dry_inertia_X.X\",\n",
    "      \"path\": \"Wildfire/data/inertia/0/0\"\n",
    "    },\n",
    "    {\n",
    "      \"name\": \"Baseline_dry_inertia_Y.Y\",\n",
    "      \"path\": \"Wildfire/data/inertia/1/1\"\n",
    "    },\n",
    "    {\n",
    "      \"name\": \"Baseline_dry_inertia_Z.Z\",\n",
    "      \"path\": \"Wildfire/data/inertia/2/2\"\n",
    "    }\n",
    "  ],\n",
    "  \"overrides\": [\n",
    "    {\n",
    "      \"path\": \"Wildfire/data/mass\",\n",
    "      \"sim_index\": [ \n",
    "                      {\"fn\": \"=\", \"arg\": \"Baseline_mass\"}, \n",
    "                      {\"fn\": \"+\", \"arg\": \"SAR-10237_mass_delta\"}, \n",
    "                      {\"fn\": \"+\", \"arg\": \"SAR-10239_mass_delta\"}, \n",
    "                      {\"fn\": \"+\", \"arg\": \"P33081_mass_delta\"}, \n",
    "                  ]\n",
    "    },\n",
    "    {\n",
    "      \"agent_key\": \"NT06aqHUT5djI1_JPAsck.data.inertia.0.0\",\n",
    "      \"sim_index\": [ \n",
    "                      {\"fn\": \"=\", \"arg\": \"Baseline_dry_inertia_X.X\"}, \n",
    "                      { \"fn_chain\": [\n",
    "                          {\"fn\": \"/\", \"arg\": \"Baseline_mass\"}, \n",
    "                          {\"fn\": \"*\", \"arg\": \"SAR-10237_mass_delta\"}, \n",
    "                          {\"fn\": \"+\", \"arg\": \"Baseline_dry_inertia_X.X\" } ] \n",
    "                      },\n",
    "                      { \"fn_chain\": [\n",
    "                          {\"fn\": \"/\", \"arg\": \"Baseline_mass\"}, \n",
    "                          {\"fn\": \"*\", \"arg\": \"SAR-10239_mass_delta\"}, \n",
    "                          {\"fn\": \"+\", \"arg\": \"Baseline_dry_inertia_X.X\" } ] \n",
    "                      },\n",
    "                      { \"fn_chain\": [\n",
    "                          {\"fn\": \"/\", \"arg\": \"Baseline_mass\"}, \n",
    "                          {\"fn\": \"*\", \"arg\": \"P33081_mass_delta\"}, \n",
    "                          {\"fn\": \"+\", \"arg\": \"Baseline_dry_inertia_X.X\" } ] \n",
    "                      },\n",
    "                  ]\n",
    "    },\n",
    "    {\n",
    "      \"agent_key\": \"NT06aqHUT5djI1_JPAsck.data.inertia.1.1\",\n",
    "      \"sim_index\": [ \n",
    "                      {\"fn\": \"=\", \"arg\": \"Baseline_dry_inertia_Y.Y\"}, \n",
    "                      { \"fn_chain\": [\n",
    "                          {\"fn\": \"/\", \"arg\": \"Baseline_mass\"}, \n",
    "                          {\"fn\": \"*\", \"arg\": \"SAR-10237_mass_delta\"}, \n",
    "                          {\"fn\": \"+\", \"arg\": \"Baseline_dry_inertia_Y.Y\" } ] \n",
    "                      },\n",
    "                      { \"fn_chain\": [\n",
    "                          {\"fn\": \"/\", \"arg\": \"Baseline_mass\"}, \n",
    "                          {\"fn\": \"*\", \"arg\": \"SAR-10239_mass_delta\"}, \n",
    "                          {\"fn\": \"+\", \"arg\": \"Baseline_dry_inertia_Y.Y\" } ] \n",
    "                      },\n",
    "                      { \"fn_chain\": [\n",
    "                          {\"fn\": \"/\", \"arg\": \"Baseline_mass\"}, \n",
    "                          {\"fn\": \"*\", \"arg\": \"P33081_mass_delta\"}, \n",
    "                          {\"fn\": \"+\", \"arg\": \"Baseline_dry_inertia_Y.Y\" } ] \n",
    "                      },\n",
    "                  ]\n",
    "    },\n",
    "    {\n",
    "      \"agent_key\": \"NT06aqHUT5djI1_JPAsck.data.inertia.2.2\",\n",
    "      \"sim_index\": [ \n",
    "                      {\"fn\": \"=\", \"arg\": \"Baseline_dry_inertia_Z.Z\"}, \n",
    "                      { \"fn_chain\": [\n",
    "                          {\"fn\": \"/\", \"arg\": \"Baseline_mass\"}, \n",
    "                          {\"fn\": \"*\", \"arg\": \"SAR-10237_mass_delta\"}, \n",
    "                          {\"fn\": \"+\", \"arg\": \"Baseline_dry_inertia_Z.Z\" } ] \n",
    "                      },\n",
    "                      { \"fn_chain\": [\n",
    "                          {\"fn\": \"/\", \"arg\": \"Baseline_mass\"}, \n",
    "                          {\"fn\": \"*\", \"arg\": \"SAR-10239_mass_delta\"}, \n",
    "                          {\"fn\": \"+\", \"arg\": \"Baseline_dry_inertia_Z.Z\" } ] \n",
    "                      },\n",
    "                      { \"fn_chain\": [\n",
    "                          {\"fn\": \"/\", \"arg\": \"Baseline_mass\"}, \n",
    "                          {\"fn\": \"*\", \"arg\": \"P33081_mass_delta\"}, \n",
    "                          {\"fn\": \"+\", \"arg\": \"Baseline_dry_inertia_Z.Z\" } ] \n",
    "                      },\n",
    "                  ]\n",
    "    },\n",
    "  ]\n",
    "}"
   ]
  },
  {
   "cell_type": "markdown",
   "metadata": {},
   "source": [
    "This example is from the Monte carlo example notebook and demostrates many of the random-based override functions. "
   ]
  },
  {
   "cell_type": "code",
   "execution_count": null,
   "metadata": {},
   "outputs": [],
   "source": [
    "# TODO copy over montecarlo example"
   ]
  },
  {
   "cell_type": "markdown",
   "metadata": {},
   "source": [
    "# Appendix: Override fn Signatures\n",
    "\n",
    "\n",
    "fn Random module Signatures:\n",
    "\n",
    "## Functions for integers\n",
    "  - class Randrange(PathFn):\n",
    "    - fn: Literal[\"randrange\"]\n",
    "    - start: int | float | str\n",
    "    - stop:  int | float | str\n",
    "    - step:  int | float | str \n",
    "\n",
    "---\n",
    "\n",
    "## Functions for sequences\n",
    "- class Choices(PathFn):\n",
    "  - fn: Literal[\"choices\"]\n",
    "  - weights: list\n",
    "  - population: list   \n",
    "  - k: int | str\n",
    "- class Sample(PathFn):\n",
    "  - fn: Literal[\"sample\"]\n",
    "  - counts: list\n",
    "  - population: list\n",
    "  - k: int\n",
    "\n",
    "---\n",
    "\n",
    "## Real-valued distributions\n",
    "  - class Uniform(PathFn):\n",
    "    - fn: Literal[\"uniform\"]\n",
    "    - a: float | int | str\n",
    "    - b: float | int | str\n",
    "  - class Triangular(PathFn):\n",
    "    - fn: Literal[\"triangular\"]\n",
    "    - low:  int | float | str\n",
    "    - high: int | float | str\n",
    "    - mode: int | float | str\n",
    "  - class Expovariate(PathFn):\n",
    "    - fn: Literal[\"expovariate\"]\n",
    "    - lambd: float | str\n",
    "  - class GammaVariate(PathFn):\n",
    "    - fn: Literal[\"gammavariate\"]\n",
    "    - alpha: int | float | str\n",
    "    - beta:  int | float | str\n",
    "  - class Gauss(PathFn):\n",
    "    - fn: Literal[\"gauss\"]\n",
    "    - mu:    int | float | str\n",
    "    - sigma: int | float | str\n",
    "  - class NormalVariate(PathFn):\n",
    "    - fn: Literal[\"normalvariate\"]\n",
    "    - mu:    int | float | str\n",
    "    - sigma: int | float | str\n",
    "  - class LogNormVariate(PathFn):\n",
    "    - fn: Literal[\"lognormvariate\"]\n",
    "    - mu:    int | float | str\n",
    "    - sigma: int | float | str\n",
    "  - class VonmisesVariate(PathFn):\n",
    "    - fn: Literal[\"vonmisesvariate\"]\n",
    "    - mu:    int | float | str\n",
    "    - kappa: int | float | str\n",
    "  - class ParetoVariate(PathFn):\n",
    "    - fn: Literal[\"paretovariate\"]\n",
    "    - alpha: int | float | str    \n",
    "  - class WeibullVariate(PathFn):\n",
    "    - fn: Literal[\"weibullvariate\"]\n",
    "    - alpha: int | float | str\n",
    "    - beta:  int | float | str"
   ]
  },
  {
   "cell_type": "markdown",
   "metadata": {},
   "source": []
  }
 ],
 "metadata": {
  "kernelspec": {
   "display_name": "Python 3 (ipykernel)",
   "language": "python",
   "name": "python3"
  },
  "language_info": {
   "codemirror_mode": {
    "name": "ipython",
    "version": 3
   },
   "file_extension": ".py",
   "mimetype": "text/x-python",
   "name": "python",
   "nbconvert_exporter": "python",
   "pygments_lexer": "ipython3",
   "version": "3.10.13"
  }
 },
 "nbformat": 4,
 "nbformat_minor": 5
}
