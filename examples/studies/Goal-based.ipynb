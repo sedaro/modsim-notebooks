{
 "cells": [
  {
   "cell_type": "markdown",
   "metadata": {},
   "source": [
    "# Sedaro Studies Example Notebook \n",
    "Demonstrates Sedaro Studies support via the sedaro python client using a Jupyter notebook.\n",
    "\n",
    "# Introduction  \n",
    "This notebook demonstrates how to use the new Studies support added to Sedaro. \n",
    "The core of this support is the new API python client object **SimStudy**.\n",
    "**SimStudy** will generate and run a series of *SimJobs* in parallel up to account capacity limits. The remaining simjobs will be placed in a queue and will be execute when resources are available. \n",
    "\n",
    "Each *SimJob* of a **SimStudy** will set the random seed to a different value in order to generate different output results from the simulation.\n",
    "The **Overrides** feature takes this a step further by providing a means to adjust any starting value of any model of the simulation using a set of pre-defined functions. In other words, each *SimJob* of a **SimStudy** will run a baseline Scenario branch with model parameters variations in order to observe their effects on performance results.\n",
    "\n",
    "# Setup\n",
    "Running this notebook requires the following:\n",
    "- A Sedaro Account             --> https://www.sedaro.com\n",
    "- A Sedaro API Token           --> https://www.sedaro.com/#/account\n",
    "- The Wildfire Demo Branch ID  --> login --> select/click or create workspace --> select/click Project: [DEMO] WildFire --> select/click  Repositories: [DEMO] Wildfire *Scenarios* --> copy main branch ID via clipboard icon (TODO insert screen shot)\n",
    "- The Wildfire Agent branch ID --> login --> select/click or create workspace --> select/click Project: [DEMO] WildFire --> select/click  Repositories: [DEMO] Wildfire *Vehicle* --> copy main branch ID via clipboard icon (TODO insert screen shot)\n",
    "- Python 3.10+ installed       --> https://www.python.org\n",
    "- Jupyter notebook or lab      --> https://jupyter.org\n",
    "\n",
    "## Pip requirements\n",
    "Create/activate a python venv if desired"
   ]
  },
  {
   "cell_type": "code",
   "execution_count": null,
   "metadata": {},
   "outputs": [],
   "source": [
    "#!python -m venv /path/to/new/virtual/environment"
   ]
  },
  {
   "cell_type": "markdown",
   "metadata": {},
   "source": [
    "Activate it via this table\n",
    "| Platform | Shell | Command to activate virtual environment |\n",
    "| :- | :- | :- |\n",
    "| POSIX | bash/zsh |  source <venv>/bin/activate |\n",
    "| | fish |  source <venv>/bin/activate.fish |\n",
    "| | csh/tcsh |  source <venv>/bin/activate.csh |\n",
    "| | PowerShell |  <venv>/bin/Activate.ps1 |\n",
    "| Windows | cmd.exe | C:\\> <venv>\\Scripts\\activate.bat |\n",
    "| | PowerShell | PS C:\\> <venv>\\Scripts\\Activate.ps1 |\n",
    "\n",
    "\n",
    "Required python modules:\n",
    "> replace *python* with *python3* if needed \n"
   ]
  },
  {
   "cell_type": "code",
   "execution_count": null,
   "metadata": {},
   "outputs": [],
   "source": [
    "#!python -m pip install -e sedaro pytest matplotlib pandas sweetviz\n",
    "#!python -m pip install  IProgress flatten_json 'fuzzywuzzy[speedup]' python-Levenshtein"
   ]
  },
  {
   "cell_type": "markdown",
   "metadata": {},
   "source": [
    "or"
   ]
  },
  {
   "cell_type": "code",
   "execution_count": null,
   "metadata": {},
   "outputs": [],
   "source": [
    "#!python3.10 -m pip install  sedaro pytest matplotlib pandas sweetviz\n",
    "#!python3.10 -m pip install  IProgress flatten_json 'fuzzywuzzy[speedup]' python-Levenshtein"
   ]
  },
  {
   "cell_type": "markdown",
   "metadata": {},
   "source": [
    "Run the following cells to test if all required python modules are installed correctly"
   ]
  },
  {
   "cell_type": "code",
   "execution_count": 1,
   "metadata": {},
   "outputs": [
    {
     "name": "stderr",
     "output_type": "stream",
     "text": [
      "/usr/local/lib/python3.10/site-packages/tqdm/auto.py:21: TqdmWarning: IProgress not found. Please update jupyter and ipywidgets. See https://ipywidgets.readthedocs.io/en/stable/user_install.html\n",
      "  from .autonotebook import tqdm as notebook_tqdm\n"
     ]
    }
   ],
   "source": [
    "import sedaro\n",
    "import yaml\n",
    "import json\n",
    "import matplotlib.pyplot as plt\n",
    "import pandas as pd\n",
    "import math\n",
    "import numpy as np\n",
    "import sweetviz as sv"
   ]
  },
  {
   "cell_type": "markdown",
   "metadata": {},
   "source": [
    "## Important: Read Before Running\n",
    "\n",
    "This notebook makes changes to agent and scenario branches indicated in the settings section. Ensure any changes to the target branches are saved prior to running this code. Sedaro recommends committing current changes and creating new branches in the target repositories to avoid loss of work.\n",
    "\n",
    "This notebook also requires that you have previously generated an API key in the web UI. That key should be stored in a file called `secrets.json` in the same directory as this notebook with the following format:\n",
    "\n",
    "```json\n",
    "{\n",
    "    \"API_KEY\": \"<API_KEY>\"\n",
    "}\n",
    "```\n",
    "\n",
    "API keys grant full access to your repositories and should never be shared. If you think your API key has been compromised, you can revoke it in the user settings interface on the Sedaro website.\n",
    "\n",
    "\n",
    "## Sedaro python client setup\n",
    "Note: More information about the sedaro-python client can be found here: [https://github.com/sedaro/sedaro-python]\n",
    "\n",
    "\n",
    "In the next cell, adjust the following variables as needed\n",
    "- *Sedaro_api_host*\n",
    "- *Sedaro_api_token*"
   ]
  },
  {
   "cell_type": "code",
   "execution_count": 2,
   "metadata": {},
   "outputs": [],
   "source": [
    "Sedaro_api_host  = \"http://localhost:80\" # \"api.sedaro.com\"\n",
    "\n",
    "# Set your API token value either directly or via loading a secrets file\n",
    "# !! NOTE !!  Be careful not to check in your API Key into a source control repo  !! Note !!\n",
    "secretPath = '/Users/sedaro/Documents/sedaro/sedaro-satellite/secrets.json'\n",
    "with open(secretPath, 'r') as file:\n",
    "    Sedaro_api_token = json.load(file)['API_KEY']\n",
    "    \n",
    "sedaroAPI = sedaro.SedaroApiClient(api_key=Sedaro_api_token, host=Sedaro_api_host)"
   ]
  },
  {
   "cell_type": "markdown",
   "metadata": {},
   "source": [
    "## Load the wildfire scenario and wildfire agent branch data\n",
    "Change the value of the *scenario_branch_id* and the *wildfire_agent_branch_id* in the next cell to the branch id noted above during the **Setup** section.\n",
    "then run the following cell:"
   ]
  },
  {
   "cell_type": "code",
   "execution_count": 97,
   "metadata": {},
   "outputs": [],
   "source": [
    "scenario_branch_id = \"PLS7ksR9fHWl98HnYPZRK8\"\n",
    "wildfire_scenario_branch = sedaroAPI.scenario(scenario_branch_id)\n",
    "\n",
    "wildfire_agent_branch_id = \"PLS7kqQpYyy5qHXCVVByPQ\"\n",
    "wildfire_agent_branch = sedaroAPI.agent_template(wildfire_agent_branch_id)"
   ]
  },
  {
   "cell_type": "markdown",
   "metadata": {},
   "source": [
    "### Find model parameter path \n",
    "Looking at the Wildfire scenario, it uses the wildfire template so lets search for the parameter paths we are interested in:"
   ]
  },
  {
   "cell_type": "code",
   "execution_count": 98,
   "metadata": {},
   "outputs": [],
   "source": [
    "from sedaro import AgentModelParametersOverridePaths\n",
    "wildfire_agent_paths = AgentModelParametersOverridePaths(wildfire_scenario_branch, wildfire_agent_branch, agent_name='Wildfire')"
   ]
  },
  {
   "cell_type": "markdown",
   "metadata": {},
   "source": [
    "First search for **Reaction wheels (RW-XYZ)**"
   ]
  },
  {
   "cell_type": "code",
   "execution_count": 99,
   "metadata": {},
   "outputs": [
    {
     "data": {
      "text/plain": [
       "['Wildfire/Imaging/id',\n",
       " 'Wildfire/Imaging/name',\n",
       " 'Wildfire/Imaging/type',\n",
       " 'Wildfire/Operating/id',\n",
       " 'Wildfire/GPS/dataSinks',\n",
       " 'Wildfire/GPS/hotMargin',\n",
       " 'Wildfire/Magnetometer/dataSinks',\n",
       " 'Wildfire/Magnetometer/hotMargin',\n",
       " 'Wildfire/Attitude Control/gainC',\n",
       " 'Wildfire/Attitude Control/gainG',\n",
       " 'Wildfire/Attitude Control/gainK',\n",
       " 'Wildfire/data/position',\n",
       " 'Wildfire/Battery/minSoc',\n",
       " 'Wildfire/GPS/coldMargin',\n",
       " 'Wildfire/Magnetometer/coldMargin',\n",
       " 'Wildfire/Gyro/dataSinks',\n",
       " 'Wildfire/Gyro/hotMargin',\n",
       " 'Wildfire/MT-X/dataSinks',\n",
       " 'Wildfire/MT-X/hotMargin',\n",
       " 'Wildfire/MT-Y/dataSinks']"
      ]
     },
     "execution_count": 99,
     "metadata": {},
     "output_type": "execute_result"
    }
   ],
   "source": [
    "wildfire_agent_paths.findPathMatches(\"gain\", 20)"
   ]
  },
  {
   "cell_type": "markdown",
   "metadata": {},
   "source": [
    "#### Create and run Study\n",
    "Uncomment the following to start the study job"
   ]
  },
  {
   "cell_type": "code",
   "execution_count": 6,
   "metadata": {},
   "outputs": [
    {
     "data": {
      "text/plain": [
       "{'id': 'PLVFyTr9zTFLGycLJLKPf8'}"
      ]
     },
     "execution_count": 6,
     "metadata": {},
     "output_type": "execute_result"
    }
   ],
   "source": [
    "create_study_resource_url = f'/simulations/branches/{scenario_branch_id}/control/study/'\n",
    "# new_studyjob = sedaroAPI.request.post(  create_study_resource_url,\n",
    "#                                         body={\n",
    "#                                             \"iterations\": 6,\n",
    "#                                             #\"override_id\": monte_carlo_overrides_id\n",
    "#                                             })\n",
    "new_studyjob = { \"id\": \"PLVFyTr9zTFLGycLJLKPf8\"} \n",
    "new_studyjob"
   ]
  },
  {
   "cell_type": "markdown",
   "metadata": {},
   "source": [
    "Generates a list of all the study jobs in your workspace and its status"
   ]
  },
  {
   "cell_type": "code",
   "execution_count": 7,
   "metadata": {},
   "outputs": [
    {
     "data": {
      "text/plain": [
       "[('PLVFyTr9zTFLGycLJLKPf8', 'SUCCEEDED'), ('PLVCgkW4H8PYWzhH3XYZGj', 'ERROR')]"
      ]
     },
     "execution_count": 7,
     "metadata": {},
     "output_type": "execute_result"
    }
   ],
   "source": [
    "[ (study['id'], study['status']) for study in sedaroAPI.request.get(  create_study_resource_url) ]"
   ]
  },
  {
   "cell_type": "markdown",
   "metadata": {},
   "source": [
    "### Check on Study Status\n",
    "Either set the variable to the correct ID or uncomment to set it from the new_studyjob object"
   ]
  },
  {
   "cell_type": "code",
   "execution_count": 8,
   "metadata": {},
   "outputs": [
    {
     "data": {
      "text/plain": [
       "{'branch': 'PLS7ksR9fHWl98HnYPZRK8',\n",
       " 'dateCreated': '2024-02-12T18:50:56.823Z',\n",
       " 'dateModified': '2024-02-12T19:14:28.191Z',\n",
       " 'id': 'PLVFyTr9zTFLGycLJLKPf8',\n",
       " 'jobType': 'STUDY',\n",
       " 'jobs': ['PLVFyYKWXhCHrmnYYJCtjn',\n",
       "  'PLVCgvvMD7nmjJbS69GvFh',\n",
       "  'PLVCh342C5DN7WXRLBtMDv',\n",
       "  'PLVCh2ZHpS8GJ5tVRW2bLl',\n",
       "  'PLVCgsgPk66vnKrRg6GDsd',\n",
       "  'PLSVkDtZMjjv8vCJzlHMPG'],\n",
       " 'message': 'Started study successfully.',\n",
       " 'predecessor': None,\n",
       " 'scenarioHash': 'b4d77b648e5bccf714a124a864cb0e890eecbde107e711719318d069d439e375',\n",
       " 'status': 'SUCCEEDED',\n",
       " 'successors': [],\n",
       " 'versions': {'sedaro-app': 'dev'},\n",
       " 'workspace': 'PLS7kZdD3PsNjjv4R4pySm'}"
      ]
     },
     "execution_count": 8,
     "metadata": {},
     "output_type": "execute_result"
    }
   ],
   "source": [
    "#study_id = 'PLVCgkW4H8PYWzhH3XYZGj' \n",
    "study_id =  new_studyjob['id'] #\n",
    "study_control_resource = f'/simulations/branches/{scenario_branch_id}/control/study/{study_id}'\n",
    "study_status = sedaroAPI.request.get(study_control_resource)\n",
    "study_status"
   ]
  },
  {
   "cell_type": "markdown",
   "metadata": {},
   "source": [
    "List the status of all the sim jobs of the study job"
   ]
  },
  {
   "cell_type": "code",
   "execution_count": 9,
   "metadata": {},
   "outputs": [
    {
     "data": {
      "text/plain": [
       "[('SimJob ID: PLVFyYKWXhCHrmnYYJCtjn',\n",
       "  'Status: SUCCEEDED',\n",
       "  'Progress:',\n",
       "  {'currentTime': None, 'percentComplete': 100}),\n",
       " ('SimJob ID: PLVCgvvMD7nmjJbS69GvFh',\n",
       "  'Status: SUCCEEDED',\n",
       "  'Progress:',\n",
       "  {'currentTime': None, 'percentComplete': 100}),\n",
       " ('SimJob ID: PLVCh342C5DN7WXRLBtMDv',\n",
       "  'Status: SUCCEEDED',\n",
       "  'Progress:',\n",
       "  {'currentTime': None, 'percentComplete': 100}),\n",
       " ('SimJob ID: PLVCh2ZHpS8GJ5tVRW2bLl',\n",
       "  'Status: SUCCEEDED',\n",
       "  'Progress:',\n",
       "  {'currentTime': None, 'percentComplete': 100}),\n",
       " ('SimJob ID: PLVCgsgPk66vnKrRg6GDsd',\n",
       "  'Status: SUCCEEDED',\n",
       "  'Progress:',\n",
       "  {'currentTime': None, 'percentComplete': 100}),\n",
       " ('SimJob ID: PLSVkDtZMjjv8vCJzlHMPG',\n",
       "  'Status: SUCCEEDED',\n",
       "  'Progress:',\n",
       "  {'currentTime': None, 'percentComplete': 100})]"
      ]
     },
     "execution_count": 9,
     "metadata": {},
     "output_type": "execute_result"
    }
   ],
   "source": [
    "study_job_ids = study_status['jobs']\n",
    "[ ( f\"SimJob ID: {job['id']}\", f\"Status: {job['status']}\", f\"Progress:\", job['progress']) for job_id in study_job_ids for job in [sedaroAPI.request.get(f'/simulations/branches/{scenario_branch_id}/control/{job_id}')] ]"
   ]
  },
  {
   "cell_type": "markdown",
   "metadata": {},
   "source": [
    "### Load the results of the Study SimJobs\n",
    "Load the the Study Results then load the result data from all of its  simulation set. We'll reduce each sim result data set to 2000 points each for this example."
   ]
  },
  {
   "cell_type": "code",
   "execution_count": 10,
   "metadata": {},
   "outputs": [],
   "source": [
    "gb_study_job = wildfire_scenario_branch.study.results(study_status['id'])"
   ]
  },
  {
   "cell_type": "code",
   "execution_count": 11,
   "metadata": {},
   "outputs": [
    {
     "name": "stdout",
     "output_type": "stream",
     "text": [
      "---------------------------------------------------------------------------\n",
      "                        Sedaro Study Result Summary                        \n",
      "                       Job ID PLVFyTr9zTFLGycLJLKPf8                       \n",
      "---------------------------------------------------------------------------\n",
      "✅ Study succeeded\n",
      "\n",
      "📋 Study contains 6 simulations\n",
      "\n",
      " ['PLVFyYKWXhCHrmnYYJCtjn', 'PLVCgvvMD7nmjJbS69GvFh', 'PLVCh342C5DN7WXRLBtMDv', 'PLVCh2ZHpS8GJ5tVRW2bLl', 'PLVCgsgPk66vnKrRg6GDsd', 'PLSVkDtZMjjv8vCJzlHMPG']\n",
      "\n",
      "❗ In-memory simulation result caching is ON\n",
      "---------------------------------------------------------------------------\n",
      "❓ Agent data not yet loaded. Load with .summarize_agents()\n",
      "---------------------------------------------------------------------------\n",
      "❓ First set desired results downsampling with:\n",
      "       .set_result_limit(<# of points>) \n",
      "       .set_result_binWidth( <fraction of overall points> )   \n",
      "---------------------------------------------------------------------------\n",
      "❓ Query individual simulation results with .sim_result(<ID>)\n",
      "❓ Load all Study result data and list Study Agent information with .summarize_agents()\n",
      "❓ Return sim_id to sim_results dict with .study_results_dict()\n",
      "❓ Query study agents with .agents(<NAME>)\n",
      "---------------------------------------------------------------------------\n"
     ]
    }
   ],
   "source": [
    "gb_study_job.summarize() "
   ]
  },
  {
   "cell_type": "code",
   "execution_count": 12,
   "metadata": {},
   "outputs": [
    {
     "name": "stdout",
     "output_type": "stream",
     "text": [
      "💾 Downloading simulation result id PLVFyYKWXhCHrmnYYJCtjn...done!\n",
      "💾 Downloading simulation result id PLVCgvvMD7nmjJbS69GvFh...done!\n",
      "💾 Downloading simulation result id PLVCh342C5DN7WXRLBtMDv...done!\n",
      "💾 Downloading simulation result id PLVCh2ZHpS8GJ5tVRW2bLl...done!\n",
      "💾 Downloading simulation result id PLVCgsgPk66vnKrRg6GDsd...done!\n",
      "💾 Downloading simulation result id PLSVkDtZMjjv8vCJzlHMPG...done!\n",
      "PLVFyYKWXhCHrmnYYJCtjn:✅ Simulation succeeded after 1081.6s\n",
      "PLVCgvvMD7nmjJbS69GvFh:✅ Simulation succeeded after 6934.9s\n",
      "PLVCh342C5DN7WXRLBtMDv:✅ Simulation succeeded after 4032.3s\n",
      "PLVCh2ZHpS8GJ5tVRW2bLl:✅ Simulation succeeded after 2784.6s\n",
      "PLVCgsgPk66vnKrRg6GDsd:✅ Simulation succeeded after 1430.3s\n",
      "PLSVkDtZMjjv8vCJzlHMPG:✅ Simulation succeeded after 1029.3s\n",
      "\n",
      "🛰️ Templated Agents \n",
      "    • Wildfire\n",
      "    • LaserComm-1\n",
      "    • LaserComm-2\n",
      "    • LaserComm-3\n",
      "    • LaserComm-4\n",
      "\n",
      "📡 Peripheral Agents \n",
      "    • Ground Station: Cape Canaveral\n",
      "    • Fire: Brook Mole\n",
      "    • Fire: Chichen Itza\n",
      "    • Fire: Jasper National Park\n",
      "    • Ground Station: Hawaii\n"
     ]
    }
   ],
   "source": [
    "gb_study_job.summarize_agents()"
   ]
  },
  {
   "cell_type": "markdown",
   "metadata": {},
   "source": [
    "Work out propose Score function baseline values"
   ]
  },
  {
   "cell_type": "code",
   "execution_count": 13,
   "metadata": {},
   "outputs": [],
   "source": [
    "study_Wildfire_agents = gb_study_job.agents('Wildfire')"
   ]
  },
  {
   "cell_type": "code",
   "execution_count": 15,
   "metadata": {},
   "outputs": [
    {
     "name": "stdout",
     "output_type": "stream",
     "text": [
      "---------------------------------------------------------------------------\n",
      "                   Study Simulation Block Result Summary                   \n",
      "                                   'RW-X'                                  \n",
      "                     Study ID: 'PLVFyTr9zTFLGycLJLKPf8'                    \n",
      "---------------------------------------------------------------------------\n",
      "---------------------------------------------------------------------------\n",
      "                           Study Simulation ID's                           \n",
      "\n",
      " ['PLVFyYKWXhCHrmnYYJCtjn', 'PLVCgvvMD7nmjJbS69GvFh', 'PLVCh342C5DN7WXRLBtMDv', 'PLVCh2ZHpS8GJ5tVRW2bLl', 'PLVCgsgPk66vnKrRg6GDsd', 'PLSVkDtZMjjv8vCJzlHMPG']\n",
      "---------------------------------------------------------------------------\n",
      "🧩 Simulated Modules\n",
      "    • Command & Data Handling\n",
      "    • Power\n",
      "    • Guidance, Navigation, & Control\n",
      "    • Thermal\n",
      "\n",
      "📋 Variables Available\n",
      "    • activeDataMode\n",
      "    • dissipations\n",
      "    • powerConsumed\n",
      "    • activeFailureMode\n",
      "    • commandedTorqueMagnitude\n",
      "    • momentum\n",
      "    • momentumMargin\n",
      "    • speed\n",
      "    • torque\n",
      "    • torqueMargin\n",
      "    • coldMargin\n",
      "    • hotMargin\n",
      "    • temperature\n",
      "---------------------------------------------------------------------------\n",
      "❓ Query variables with .<VARIABLE_NAME> or .variable( VARIABLE_NAME )\n",
      "⍆ The following commands have an optional variables argument which is a list of variable names prefixes to filter on.\n",
      "Σ Display all block variables statistics for a study simulation with .sim_stats( sim_id, output_html=False, variables=None ) \n",
      "📊 Display all block variables histograms for a study simulation with .sim_histogram( sim_id, output_html=False, variables=None )\n",
      "📈📉 Display block variables scatter matrix plot  \n",
      "📉📈      for a study simulation with .sim_scatter_matrix( sim_id, variables=None )\n"
     ]
    }
   ],
   "source": [
    "study_Wildfire_agents.blocksname(\"RW-X\").summarize()"
   ]
  },
  {
   "cell_type": "code",
   "execution_count": null,
   "metadata": {},
   "outputs": [],
   "source": [
    "study_Wildfire_agents.blocksname(\"RW-X\").ratedMomentum.study_stats()"
   ]
  },
  {
   "cell_type": "code",
   "execution_count": null,
   "metadata": {},
   "outputs": [],
   "source": [
    "study_Wildfire_agents.blocksname(\"RW-Y\").ratedMomentum.study_stats()"
   ]
  },
  {
   "cell_type": "code",
   "execution_count": null,
   "metadata": {},
   "outputs": [],
   "source": [
    "study_Wildfire_agents.blocksname(\"RW-Z\").ratedMomentum.study_stats()"
   ]
  },
  {
   "cell_type": "code",
   "execution_count": 17,
   "metadata": {},
   "outputs": [
    {
     "data": {
      "text/html": [
       "<div>\n",
       "<style scoped>\n",
       "    .dataframe tbody tr th:only-of-type {\n",
       "        vertical-align: middle;\n",
       "    }\n",
       "\n",
       "    .dataframe tbody tr th {\n",
       "        vertical-align: top;\n",
       "    }\n",
       "\n",
       "    .dataframe thead th {\n",
       "        text-align: right;\n",
       "    }\n",
       "</style>\n",
       "<table border=\"1\" class=\"dataframe\">\n",
       "  <thead>\n",
       "    <tr style=\"text-align: right;\">\n",
       "      <th></th>\n",
       "      <th></th>\n",
       "      <th>count</th>\n",
       "      <th>mean</th>\n",
       "      <th>std</th>\n",
       "      <th>min</th>\n",
       "      <th>25%</th>\n",
       "      <th>50%</th>\n",
       "      <th>75%</th>\n",
       "      <th>max</th>\n",
       "    </tr>\n",
       "  </thead>\n",
       "  <tbody>\n",
       "    <tr>\n",
       "      <th>PLVFyYKWXhCHrmnYYJCtjn</th>\n",
       "      <th>momentum</th>\n",
       "      <td>10079.0</td>\n",
       "      <td>-1.008978</td>\n",
       "      <td>3.232228</td>\n",
       "      <td>-8.0</td>\n",
       "      <td>-2.362933</td>\n",
       "      <td>-0.024883</td>\n",
       "      <td>0.276104</td>\n",
       "      <td>8.0</td>\n",
       "    </tr>\n",
       "    <tr>\n",
       "      <th>PLVCgvvMD7nmjJbS69GvFh</th>\n",
       "      <th>momentum</th>\n",
       "      <td>10070.0</td>\n",
       "      <td>-1.006253</td>\n",
       "      <td>3.237032</td>\n",
       "      <td>-8.0</td>\n",
       "      <td>-2.373001</td>\n",
       "      <td>-0.021990</td>\n",
       "      <td>0.284699</td>\n",
       "      <td>8.0</td>\n",
       "    </tr>\n",
       "    <tr>\n",
       "      <th>PLVCh342C5DN7WXRLBtMDv</th>\n",
       "      <th>momentum</th>\n",
       "      <td>10097.0</td>\n",
       "      <td>-0.999460</td>\n",
       "      <td>3.229194</td>\n",
       "      <td>-8.0</td>\n",
       "      <td>-2.356070</td>\n",
       "      <td>-0.030532</td>\n",
       "      <td>0.290668</td>\n",
       "      <td>8.0</td>\n",
       "    </tr>\n",
       "    <tr>\n",
       "      <th>PLVCh2ZHpS8GJ5tVRW2bLl</th>\n",
       "      <th>momentum</th>\n",
       "      <td>10095.0</td>\n",
       "      <td>-1.010724</td>\n",
       "      <td>3.231202</td>\n",
       "      <td>-8.0</td>\n",
       "      <td>-2.372393</td>\n",
       "      <td>-0.028740</td>\n",
       "      <td>0.276956</td>\n",
       "      <td>8.0</td>\n",
       "    </tr>\n",
       "    <tr>\n",
       "      <th>PLVCgsgPk66vnKrRg6GDsd</th>\n",
       "      <th>momentum</th>\n",
       "      <td>10094.0</td>\n",
       "      <td>-1.009860</td>\n",
       "      <td>3.231369</td>\n",
       "      <td>-8.0</td>\n",
       "      <td>-2.364316</td>\n",
       "      <td>-0.036300</td>\n",
       "      <td>0.272428</td>\n",
       "      <td>8.0</td>\n",
       "    </tr>\n",
       "    <tr>\n",
       "      <th>PLSVkDtZMjjv8vCJzlHMPG</th>\n",
       "      <th>momentum</th>\n",
       "      <td>10061.0</td>\n",
       "      <td>-0.931710</td>\n",
       "      <td>3.245517</td>\n",
       "      <td>-8.0</td>\n",
       "      <td>-2.115147</td>\n",
       "      <td>-0.016318</td>\n",
       "      <td>0.326247</td>\n",
       "      <td>8.0</td>\n",
       "    </tr>\n",
       "  </tbody>\n",
       "</table>\n",
       "</div>"
      ],
      "text/plain": [
       "                                   count      mean       std  min       25%   \n",
       "PLVFyYKWXhCHrmnYYJCtjn momentum  10079.0 -1.008978  3.232228 -8.0 -2.362933  \\\n",
       "PLVCgvvMD7nmjJbS69GvFh momentum  10070.0 -1.006253  3.237032 -8.0 -2.373001   \n",
       "PLVCh342C5DN7WXRLBtMDv momentum  10097.0 -0.999460  3.229194 -8.0 -2.356070   \n",
       "PLVCh2ZHpS8GJ5tVRW2bLl momentum  10095.0 -1.010724  3.231202 -8.0 -2.372393   \n",
       "PLVCgsgPk66vnKrRg6GDsd momentum  10094.0 -1.009860  3.231369 -8.0 -2.364316   \n",
       "PLSVkDtZMjjv8vCJzlHMPG momentum  10061.0 -0.931710  3.245517 -8.0 -2.115147   \n",
       "\n",
       "                                      50%       75%  max  \n",
       "PLVFyYKWXhCHrmnYYJCtjn momentum -0.024883  0.276104  8.0  \n",
       "PLVCgvvMD7nmjJbS69GvFh momentum -0.021990  0.284699  8.0  \n",
       "PLVCh342C5DN7WXRLBtMDv momentum -0.030532  0.290668  8.0  \n",
       "PLVCh2ZHpS8GJ5tVRW2bLl momentum -0.028740  0.276956  8.0  \n",
       "PLVCgsgPk66vnKrRg6GDsd momentum -0.036300  0.272428  8.0  \n",
       "PLSVkDtZMjjv8vCJzlHMPG momentum -0.016318  0.326247  8.0  "
      ]
     },
     "execution_count": 17,
     "metadata": {},
     "output_type": "execute_result"
    }
   ],
   "source": [
    "study_Wildfire_agents.blocksname(\"RW-X\").momentum.study_stats()"
   ]
  },
  {
   "cell_type": "code",
   "execution_count": 18,
   "metadata": {},
   "outputs": [
    {
     "data": {
      "text/html": [
       "<div>\n",
       "<style scoped>\n",
       "    .dataframe tbody tr th:only-of-type {\n",
       "        vertical-align: middle;\n",
       "    }\n",
       "\n",
       "    .dataframe tbody tr th {\n",
       "        vertical-align: top;\n",
       "    }\n",
       "\n",
       "    .dataframe thead th {\n",
       "        text-align: right;\n",
       "    }\n",
       "</style>\n",
       "<table border=\"1\" class=\"dataframe\">\n",
       "  <thead>\n",
       "    <tr style=\"text-align: right;\">\n",
       "      <th></th>\n",
       "      <th></th>\n",
       "      <th>count</th>\n",
       "      <th>mean</th>\n",
       "      <th>std</th>\n",
       "      <th>min</th>\n",
       "      <th>25%</th>\n",
       "      <th>50%</th>\n",
       "      <th>75%</th>\n",
       "      <th>max</th>\n",
       "    </tr>\n",
       "  </thead>\n",
       "  <tbody>\n",
       "    <tr>\n",
       "      <th>PLVFyYKWXhCHrmnYYJCtjn</th>\n",
       "      <th>momentum</th>\n",
       "      <td>10079.0</td>\n",
       "      <td>-0.426672</td>\n",
       "      <td>4.123396</td>\n",
       "      <td>-8.0</td>\n",
       "      <td>-1.408662</td>\n",
       "      <td>-0.055275</td>\n",
       "      <td>0.566691</td>\n",
       "      <td>8.0</td>\n",
       "    </tr>\n",
       "    <tr>\n",
       "      <th>PLVCgvvMD7nmjJbS69GvFh</th>\n",
       "      <th>momentum</th>\n",
       "      <td>10070.0</td>\n",
       "      <td>-0.425711</td>\n",
       "      <td>4.132959</td>\n",
       "      <td>-8.0</td>\n",
       "      <td>-1.415514</td>\n",
       "      <td>-0.044944</td>\n",
       "      <td>0.569987</td>\n",
       "      <td>8.0</td>\n",
       "    </tr>\n",
       "    <tr>\n",
       "      <th>PLVCh342C5DN7WXRLBtMDv</th>\n",
       "      <th>momentum</th>\n",
       "      <td>10097.0</td>\n",
       "      <td>-0.416875</td>\n",
       "      <td>4.126847</td>\n",
       "      <td>-8.0</td>\n",
       "      <td>-1.405268</td>\n",
       "      <td>-0.065450</td>\n",
       "      <td>0.587590</td>\n",
       "      <td>8.0</td>\n",
       "    </tr>\n",
       "    <tr>\n",
       "      <th>PLVCh2ZHpS8GJ5tVRW2bLl</th>\n",
       "      <th>momentum</th>\n",
       "      <td>10095.0</td>\n",
       "      <td>-0.411778</td>\n",
       "      <td>4.128747</td>\n",
       "      <td>-8.0</td>\n",
       "      <td>-1.392407</td>\n",
       "      <td>-0.060196</td>\n",
       "      <td>0.570416</td>\n",
       "      <td>8.0</td>\n",
       "    </tr>\n",
       "    <tr>\n",
       "      <th>PLVCgsgPk66vnKrRg6GDsd</th>\n",
       "      <th>momentum</th>\n",
       "      <td>10094.0</td>\n",
       "      <td>-0.411273</td>\n",
       "      <td>4.129552</td>\n",
       "      <td>-8.0</td>\n",
       "      <td>-1.408675</td>\n",
       "      <td>-0.061643</td>\n",
       "      <td>0.576057</td>\n",
       "      <td>8.0</td>\n",
       "    </tr>\n",
       "    <tr>\n",
       "      <th>PLSVkDtZMjjv8vCJzlHMPG</th>\n",
       "      <th>momentum</th>\n",
       "      <td>10061.0</td>\n",
       "      <td>-0.182454</td>\n",
       "      <td>4.175412</td>\n",
       "      <td>-8.0</td>\n",
       "      <td>-1.012042</td>\n",
       "      <td>-0.039236</td>\n",
       "      <td>0.713625</td>\n",
       "      <td>8.0</td>\n",
       "    </tr>\n",
       "  </tbody>\n",
       "</table>\n",
       "</div>"
      ],
      "text/plain": [
       "                                   count      mean       std  min       25%   \n",
       "PLVFyYKWXhCHrmnYYJCtjn momentum  10079.0 -0.426672  4.123396 -8.0 -1.408662  \\\n",
       "PLVCgvvMD7nmjJbS69GvFh momentum  10070.0 -0.425711  4.132959 -8.0 -1.415514   \n",
       "PLVCh342C5DN7WXRLBtMDv momentum  10097.0 -0.416875  4.126847 -8.0 -1.405268   \n",
       "PLVCh2ZHpS8GJ5tVRW2bLl momentum  10095.0 -0.411778  4.128747 -8.0 -1.392407   \n",
       "PLVCgsgPk66vnKrRg6GDsd momentum  10094.0 -0.411273  4.129552 -8.0 -1.408675   \n",
       "PLSVkDtZMjjv8vCJzlHMPG momentum  10061.0 -0.182454  4.175412 -8.0 -1.012042   \n",
       "\n",
       "                                      50%       75%  max  \n",
       "PLVFyYKWXhCHrmnYYJCtjn momentum -0.055275  0.566691  8.0  \n",
       "PLVCgvvMD7nmjJbS69GvFh momentum -0.044944  0.569987  8.0  \n",
       "PLVCh342C5DN7WXRLBtMDv momentum -0.065450  0.587590  8.0  \n",
       "PLVCh2ZHpS8GJ5tVRW2bLl momentum -0.060196  0.570416  8.0  \n",
       "PLVCgsgPk66vnKrRg6GDsd momentum -0.061643  0.576057  8.0  \n",
       "PLSVkDtZMjjv8vCJzlHMPG momentum -0.039236  0.713625  8.0  "
      ]
     },
     "execution_count": 18,
     "metadata": {},
     "output_type": "execute_result"
    }
   ],
   "source": [
    "study_Wildfire_agents.blocksname(\"RW-Y\").momentum.study_stats()"
   ]
  },
  {
   "cell_type": "code",
   "execution_count": 19,
   "metadata": {},
   "outputs": [
    {
     "data": {
      "text/html": [
       "<div>\n",
       "<style scoped>\n",
       "    .dataframe tbody tr th:only-of-type {\n",
       "        vertical-align: middle;\n",
       "    }\n",
       "\n",
       "    .dataframe tbody tr th {\n",
       "        vertical-align: top;\n",
       "    }\n",
       "\n",
       "    .dataframe thead th {\n",
       "        text-align: right;\n",
       "    }\n",
       "</style>\n",
       "<table border=\"1\" class=\"dataframe\">\n",
       "  <thead>\n",
       "    <tr style=\"text-align: right;\">\n",
       "      <th></th>\n",
       "      <th></th>\n",
       "      <th>count</th>\n",
       "      <th>mean</th>\n",
       "      <th>std</th>\n",
       "      <th>min</th>\n",
       "      <th>25%</th>\n",
       "      <th>50%</th>\n",
       "      <th>75%</th>\n",
       "      <th>max</th>\n",
       "    </tr>\n",
       "  </thead>\n",
       "  <tbody>\n",
       "    <tr>\n",
       "      <th>PLVFyYKWXhCHrmnYYJCtjn</th>\n",
       "      <th>momentum</th>\n",
       "      <td>10079.0</td>\n",
       "      <td>-0.803394</td>\n",
       "      <td>3.998075</td>\n",
       "      <td>-8.0</td>\n",
       "      <td>-2.023735</td>\n",
       "      <td>-0.212640</td>\n",
       "      <td>0.206883</td>\n",
       "      <td>8.0</td>\n",
       "    </tr>\n",
       "    <tr>\n",
       "      <th>PLVCgvvMD7nmjJbS69GvFh</th>\n",
       "      <th>momentum</th>\n",
       "      <td>10070.0</td>\n",
       "      <td>-0.818657</td>\n",
       "      <td>3.992794</td>\n",
       "      <td>-8.0</td>\n",
       "      <td>-2.024394</td>\n",
       "      <td>-0.245619</td>\n",
       "      <td>0.174530</td>\n",
       "      <td>8.0</td>\n",
       "    </tr>\n",
       "    <tr>\n",
       "      <th>PLVCh342C5DN7WXRLBtMDv</th>\n",
       "      <th>momentum</th>\n",
       "      <td>10097.0</td>\n",
       "      <td>-0.801814</td>\n",
       "      <td>4.014107</td>\n",
       "      <td>-8.0</td>\n",
       "      <td>-2.051822</td>\n",
       "      <td>-0.243683</td>\n",
       "      <td>0.209647</td>\n",
       "      <td>8.0</td>\n",
       "    </tr>\n",
       "    <tr>\n",
       "      <th>PLVCh2ZHpS8GJ5tVRW2bLl</th>\n",
       "      <th>momentum</th>\n",
       "      <td>10095.0</td>\n",
       "      <td>-0.798247</td>\n",
       "      <td>4.009146</td>\n",
       "      <td>-8.0</td>\n",
       "      <td>-2.045464</td>\n",
       "      <td>-0.217130</td>\n",
       "      <td>0.177729</td>\n",
       "      <td>8.0</td>\n",
       "    </tr>\n",
       "    <tr>\n",
       "      <th>PLVCgsgPk66vnKrRg6GDsd</th>\n",
       "      <th>momentum</th>\n",
       "      <td>10094.0</td>\n",
       "      <td>-0.804115</td>\n",
       "      <td>3.998401</td>\n",
       "      <td>-8.0</td>\n",
       "      <td>-2.071608</td>\n",
       "      <td>-0.212974</td>\n",
       "      <td>0.196794</td>\n",
       "      <td>8.0</td>\n",
       "    </tr>\n",
       "    <tr>\n",
       "      <th>PLSVkDtZMjjv8vCJzlHMPG</th>\n",
       "      <th>momentum</th>\n",
       "      <td>10061.0</td>\n",
       "      <td>-1.062015</td>\n",
       "      <td>3.885358</td>\n",
       "      <td>-8.0</td>\n",
       "      <td>-2.699386</td>\n",
       "      <td>-0.237258</td>\n",
       "      <td>0.159640</td>\n",
       "      <td>8.0</td>\n",
       "    </tr>\n",
       "  </tbody>\n",
       "</table>\n",
       "</div>"
      ],
      "text/plain": [
       "                                   count      mean       std  min       25%   \n",
       "PLVFyYKWXhCHrmnYYJCtjn momentum  10079.0 -0.803394  3.998075 -8.0 -2.023735  \\\n",
       "PLVCgvvMD7nmjJbS69GvFh momentum  10070.0 -0.818657  3.992794 -8.0 -2.024394   \n",
       "PLVCh342C5DN7WXRLBtMDv momentum  10097.0 -0.801814  4.014107 -8.0 -2.051822   \n",
       "PLVCh2ZHpS8GJ5tVRW2bLl momentum  10095.0 -0.798247  4.009146 -8.0 -2.045464   \n",
       "PLVCgsgPk66vnKrRg6GDsd momentum  10094.0 -0.804115  3.998401 -8.0 -2.071608   \n",
       "PLSVkDtZMjjv8vCJzlHMPG momentum  10061.0 -1.062015  3.885358 -8.0 -2.699386   \n",
       "\n",
       "                                      50%       75%  max  \n",
       "PLVFyYKWXhCHrmnYYJCtjn momentum -0.212640  0.206883  8.0  \n",
       "PLVCgvvMD7nmjJbS69GvFh momentum -0.245619  0.174530  8.0  \n",
       "PLVCh342C5DN7WXRLBtMDv momentum -0.243683  0.209647  8.0  \n",
       "PLVCh2ZHpS8GJ5tVRW2bLl momentum -0.217130  0.177729  8.0  \n",
       "PLVCgsgPk66vnKrRg6GDsd momentum -0.212974  0.196794  8.0  \n",
       "PLSVkDtZMjjv8vCJzlHMPG momentum -0.237258  0.159640  8.0  "
      ]
     },
     "execution_count": 19,
     "metadata": {},
     "output_type": "execute_result"
    }
   ],
   "source": [
    "study_Wildfire_agents.blocksname(\"RW-Z\").momentum.study_stats()"
   ]
  },
  {
   "cell_type": "code",
   "execution_count": 23,
   "metadata": {},
   "outputs": [
    {
     "name": "stdout",
     "output_type": "stream",
     "text": [
      "---------------------------------------------------------------------------\n",
      "                         Study Agent Result Summary                        \n",
      "                                 'Wildfire'                                \n",
      "                     Study ID: 'PLVFyTr9zTFLGycLJLKPf8'                    \n",
      "---------------------------------------------------------------------------\n",
      "                           Study Simulation ID's                           \n",
      "\n",
      " ['PLVFyYKWXhCHrmnYYJCtjn', 'PLVCgvvMD7nmjJbS69GvFh', 'PLVCh342C5DN7WXRLBtMDv', 'PLVCh2ZHpS8GJ5tVRW2bLl', 'PLVCgsgPk66vnKrRg6GDsd', 'PLSVkDtZMjjv8vCJzlHMPG']\n",
      "---------------------------------------------------------------------------\n",
      "🧩 Study Simulated Modules\n",
      "    • Command & Data Handling\n",
      "    • Power\n",
      "    • Guidance, Navigation, & Control\n",
      "    • Thermal\n",
      "\n",
      "📦 Available Blocks\n",
      "    ----------------------------------------------------------\n",
      "    |                  id                         name       |\n",
      "    ----------------------------------------------------------\n",
      "    | root                       |                           |\n",
      "    | YddJw9jfT-IveoP86XQjA      | <Unnamed Block>           |\n",
      "    | PKJctGSk2hRGqbyTCvtgzm     | <Unnamed Block>           |\n",
      "    | PKJctGSh45WgNcHZyyw9Pr     | <Unnamed Block>           |\n",
      "    | PKJctGSf5v4NHqMy9fVj3J     | <Unnamed Block>           |\n",
      "    | PKJctGSc45ZfznjQcqQtyc     | <Unnamed Block>           |\n",
      "    | PKJctGSZ5gQ5wrvnCtm2KD     | <Unnamed Block>           |\n",
      "    | NdIPXBHRGPHHj0nN2QnQV      | Communication Chassis <>  |\n",
      "    | NdIPSoVRyPSGOI4p_2Wx-      | Communication Chassis <>  |\n",
      "    | NdHVPaPSqXaJPzWN4hB1-      | Crosslink Interface (T)   |\n",
      "    | NYrjYgLRByQd5po55x0eV      | Crosslink Interface (RS)  |\n",
      "    | NYcZjDwRfLNLX_FGOHwTk      | Crosslink Modem Storage   |\n",
      "    | NYU27SZSBLZ7xv7egmtQF      | Payload Comp. to CL Modem |\n",
      "    | NYTzloWUkeD14ix-4NXRF      | Crosslink FoV             |\n",
      "    | NYTzYcPUpioCrxy0rXgE-      | Crosslink Antenna         |\n",
      "    | NYTzPowStDhWKzEndl0PV      | Crosslink Modem           |\n",
      "    | NUxE63uRxTQfLj5uMYzOV      | Battery Heater B <> Batte |\n",
      "    | NUxE4EMTX9dq0yDb8uuC-      | Battery Heater A <> Batte |\n",
      "    | NUxDraPR6uDXMED-1DALk      | Battery Heater B          |\n",
      "    | NUxDh3fTx5oFQG5D2tAUF      | Battery Heater A          |\n",
      "    | NUx6DmpUK1Is1i9Hc62ak      | Solar Panel +Y Sun Track  |\n",
      "    | NUx62INUeHcZuHtJui53V      | Solar Panel -Y Sun Track  |\n",
      "    | NUx5WNORvmVTAJWAEsNEF      | Solar Panel -Y Sun Track  |\n",
      "    | NUx5Gr6Ura9PFiuTQ3wE-      | Solar Panel +Y Sun Track  |\n",
      "    | NTKMl58UbixLnzGjnyK5-      | Communication Chassis <>  |\n",
      "    | NTKM-JTRQPakywgulRE_V      | Communication Chassis     |\n",
      "    | NTJv0ORRpTJJedhXjObZk      | Comp. to Crosslink Modem  |\n",
      "    | NTJusaJThmMDdathYRTK-      | Operating                 |\n",
      "    | NTJuDGsR19pteyaX1eOLk      | TT&C Storage              |\n",
      "    | NTJcE_USMDog2Sq4hfh2F      | Cam to Payload Comp. Inte |\n",
      "    | NTJa_MxTmXQH2Z2XFRM0-      | Remote Sensing            |\n",
      "    | NTJXvVUSRXOGc7OVgOqd-      | Sensing Storage           |\n",
      "    | NTFkJPBTCqkmS2znJOrtk      | Burn Condition            |\n",
      "    | NTFkBjfTxqmQoXnVaSNXk      | Burn 2 Condition          |\n",
      "    | NTFk83oSzuyVM6IBKyqvV      | Burn 2 Upper Limit        |\n",
      "    | NTFk3eAS1P0MF52V6230k      | Burn 2 Lower Limit        |\n",
      "    | NTFjwKsTt5il4Gnbw7gSV      | Burn 1 Condition          |\n",
      "    | NTFjonYR5irImhO7yD4zV      | Orbit Raising Window      |\n",
      "    | NTFjfNKTyqsFEfgo9sTMk      | Burn 1 Upper Limit        |\n",
      "    | NTFjW26R5mWVv_J52ZRkV      | Burn 1 Lower Limit        |\n",
      "    | NT5IfQ6TjmwtJnYgxS3lV      | Payload Cooler <> Payload |\n",
      "    | NT5I_IfS3yzNZTYBtQ_Q-      | -X Surface <> Payload Coo |\n",
      "    | NT5ICmOSFyDsdj-T7HkIV      | Payload Cooler            |\n",
      "    | NT5EqmbTduUFkiswE8pi-      | Power Chassis <> Spacecra |\n",
      "    | NT5Enx1UYD2thGG0OjmOV      | Power Processor <> Power  |\n",
      "    | NT5EljBTyqgP4sZkhfFFV      | Battery Pack B <> Power C |\n",
      "    | NT5EjhlSiiIDE4eDIS4Mk      | Battery Pack A <> Power C |\n",
      "    | NT5Ef74R7m4pwrT6lMIjV      | Power Chassis             |\n",
      "    | NT5DAEqThyE112o7fKC6-      | Payload Camera <> Payload |\n",
      "    | NT5CboBU79lnFobnwrUBV      | Payload Camera            |\n",
      "    | NT5CR4RRhTEibesfxRT_F      | -Z Surface <> Spacecraft  |\n",
      "    | NT5CPbAR8DqgAOVcQ9DX-      | +Z Surface <> Spacecraft  |\n",
      "    | NT5COczTM907vwlqqrBw-      | -Y Surface <> Spacecraft  |\n",
      "    | NT5CNKES0TkejO8Em_Z0V      | +Y Surface <> Spacecraft  |\n",
      "    | NT5CF2vSdq4qrB0pcZR9k      | +X Surface <> Spacecraft  |\n",
      "    | NT5CBsURJ5d3WcU_Ob_oF      | -Y Fixed Solar Panel <> S |\n",
      "    | NT5C9XYS6T7ye0aEphI_V      | +Y Fixed Solar Panel <> S |\n",
      "    | NT5C0qRUXXrDAU8ukQxVk      | -Y Sun Track Solar Panel  |\n",
      "    | NT5BuxgRNekwk1dHXPeSF      | Solar Panel -Y Fixed Surf |\n",
      "    | NT5BsSIT-PNy56vDGZTLV      | Solar Panel +Y Fixed Surf |\n",
      "    | NT5BJq8UFacRnUfxRXFD-      | +Y Sun Track Solar Panel  |\n",
      "    | NT5BBDmTtyXJtX84SDgQ-      | Solar Panel -Y Sun Track  |\n",
      "    | NT5B6P2RW9uvJf5vjjzAV      | Solar Panel +Y Sun Track  |\n",
      "    | NT5AwWlU7aTWmJcOGmMKk      | Magnetometer <> Control C |\n",
      "    | NT59IhWSnTHs5Q05VdPhk      | Thruster <> Spacecraft Ch |\n",
      "    | NT59GJcRDelTbIim6O-Lk      | Fuel Tank <> Spacecraft C |\n",
      "    | NT56zQ6UnuZ3RmvyCdKG-      | Payload Chassis <> Spacec |\n",
      "    | NT56np7TfLxqOkCfBOLvk      | -Z Surface                |\n",
      "    | NT56iGTRNXw0tLwGP-_xF      | +Z Surface                |\n",
      "    | NT56aNKRhPXGJR6XSPelF      | -Y Surface                |\n",
      "    | NT56WdATN5YJwZv7H5D7V      | +Y Surface                |\n",
      "    | NT56QQRSyigs8ZgkaHKrF      | -X Surface                |\n",
      "    | NT55wIxTs50y5iPfp7fPk      | +X Surface                |\n",
      "    | NT557OdSDLrXvYKk0sQUF      | Star Tracker <> Control C |\n",
      "    | NT54Uc8RSeSKu2C376j8-      | Gyro <> Control Chassis   |\n",
      "    | NT54LF0SEaDZ2HKpxp5a-      | GPS <> Control Chassis    |\n",
      "    | NT53jIgStywJY25FuncjF      | MT-Z <> Control Chassis   |\n",
      "    | NT53hLGTdy6yk6CmMmz5F      | MT-Y <> Control Chassis   |\n",
      "    | NT53fofTxy_bJzhn8mAj-      | MT-X <> Control Chassis   |\n",
      "    | NT53FqyU1HbyYZbU7qJp-      | RW-Z <> Control Chassis   |\n",
      "    | NT53B6oSV1yxISjdEefNF      | RW-Y <> Control Chassis   |\n",
      "    | NT539PPR1qLfNS3-ftHLV      | RW-X <> Control Chassis   |\n",
      "    | NT51mR0TSaV6mu7l00e0V      | Payload Processor <> Payl |\n",
      "    | NT51hDhTWux2HPh3vATfk      | Flight Computer <> Contro |\n",
      "    | NT51Li9Td9zWv0x-tZ6EV      | Control Chassis <> Spacec |\n",
      "    | NT51AuEUHL3fqLgjs5-4F      | Control Chassis           |\n",
      "    | NT4nrY8TTDkw3sJI9RJ7k      | Thruster                  |\n",
      "    | NT4mjhzTwm1CPY3pNfZYF      | Fuel Reservoir            |\n",
      "    | NT4mf0mUmP9PdUmMe79nV      | Fuel Tank                 |\n",
      "    | NT4_rh1U_PlQCLKcKB6a-      | Fixed Panels              |\n",
      "    | NT4_qBCSniEUNJCDidO_V      | Sun Tracking Panels       |\n",
      "    | NT4_mh-ULq2Rls0pd2rd-      | -Y Fixed Solar Panel      |\n",
      "    | NT4_dduSZT824a-xJq1C-      | +Y Fixed Solar Panel      |\n",
      "    | NT4_ZGPR7XLaQlkXn9VQk      | -Y Sun Track Solar Panel  |\n",
      "    | NT4_StgRty9EJhiqQ44A-      | +Y Sun Track Solar Panel  |\n",
      "    | NT4ZQWgR29TZ7djikHTxV      | Solar Panel -Y Fixed Surf |\n",
      "    | NT4ZHhLTxL5M-SdIrAr3V      | Solar Panel +Y Fixed Surf |\n",
      "    | NT4YuQBTV9on4DqlPvdW-      | Solar Panel -Y Sun Track  |\n",
      "    | NT4YpFBUi5w0ODkVd0t_F      | Solar Panel +Y Sun Track  |\n",
      "    | NT4XAEUUhykxZBUGVKfV-      | Payload Computer          |\n",
      "    | NT4X6NiUVigYGNO_s5Eu-      | Payload Chassis           |\n",
      "    | NT4WvizUEu1LQOMLE_lsk      | Payload                   |\n",
      "    | NT4VO8jS_HPyoLi2pu1tF      | Flight Computer           |\n",
      "    | NT4R0nbSgiC96Y2hxvLr-      | 28 V                      |\n",
      "    | NT4QLkERqutpLvRCqU_wV      | 12 V                      |\n",
      "    | NT4PQQCRiTtWCuRLQjRek      | Spacecraft Chassis        |\n",
      "    | NT0U_uSRGPDN0fMdfdp3k      | Battery Pack B            |\n",
      "    | NT0UYspRnaun-vODA4rNk      | Battery Pack A            |\n",
      "    | NT0Ln1gS8elWEK4Y-l7m-      | LaserComm-4               |\n",
      "    | NT0LhZuRIm7Cfvs0RFvW-      | LaserComm-3               |\n",
      "    | NT0LWIfSJ1RIenKpUmJEV      | LaserComm-2               |\n",
      "    | NT0LLnQRA9be3moDIgAq-      | LaserComm-1               |\n",
      "    | NT08TgvRfy6qz5T_YobYk      | Fire: Jasper National Par |\n",
      "    | NT07fkvTc9XNO5IE3oeUF      | Fire: Chichen Itza        |\n",
      "    | NT07_QBTSmnV1S7t9vsVV      | Fire: Brook Mole          |\n",
      "    | NT02IuYSW15sQ0SU8QgGV      | LaserComm Line of Sight   |\n",
      "    | NT-z6txTcqiQFlrpcr_-k      | Non-Eclipse               |\n",
      "    | NT-yaR4SE5lFXsXuWtrFV      | Imaging Elevation Angle   |\n",
      "    | NT-xTr8ReekoIh9WNhfg-      | Battery Nominal           |\n",
      "    | NT-sT2aRN5YF8XZPsYfn-      | RW-Z                      |\n",
      "    | NT-sOVhS9mfh2rkbf6sek      | RW-Y                      |\n",
      "    | NT-sInmRs5Kc4_RwgIAyV      | RW-X                      |\n",
      "    | NT-rPjgUvi4RBq0nIX-8V      | MT-Z                      |\n",
      "    | NT-q1M8U_P09cMpH_Y1fF      | MT-Y                      |\n",
      "    | NT-py3yU9i8KUihtF0kWV      | MT-X                      |\n",
      "    | NT-oRZ6SvP5lHuZyiFIlk      | Gyro                      |\n",
      "    | NT-mw0JS_Dm-jB86pmTQV      | Magnetometer              |\n",
      "    | NT-lCYAS6PMq1xbJ8A8gk      | Star Tracker              |\n",
      "    | NT-kiVbTPLBDGk63KY5H-      | Star Tracker FoV          |\n",
      "    | NT-ir3NSHTrx3r7KjWPYk      | GPS                       |\n",
      "    | NT-gzNsR9XIipaCAF2hvF      | Wildfires                 |\n",
      "    | NT-gucwTh1uB2n5LFj92F      | LaserComm Relays          |\n",
      "    | NSghkyoTLeQzaNfeeckQV      | Structure                 |\n",
      "    | NSghj1hTM9mz2Vl08G5rk      | Thermal                   |\n",
      "    | NSghgp0ThH8gNv5Ady03k      | GNC                       |\n",
      "    | NSgheitRQ51bMoH_95sZk      | Data Handling             |\n",
      "    | NSghcbxRIX9eXogEB0li-      | Command & Control         |\n",
      "    | NSghaQGUD5XkZv-hq4TTV      | Power                     |\n",
      "    | NSghYm2RqDibih0igHFc-      | Power Processor           |\n",
      "    | NSghWfrUj9OyAK8OBAXa-      | <Unnamed Block>           |\n",
      "    ----------------------------------------------------------\n",
      "\n",
      "    89 block(s) with no associated data\n",
      "---------------------------------------------------------------------------\n",
      "❓ Query block results from all study simulations with .blocks(<ID>) or .blocks(<PARTIAL_ID>) or .blocksname(<name>)\n",
      "｛｝ Get a dict of block name to block_id with .blockNameToID\n",
      "｛｝ Get a dict of block ID's to block name with .blockIdToName\n",
      "［］ Get a list of block ID's  with .blockList()\n",
      "---------------------------------------------------------------------------\n",
      "⍆ The following commands have an optional variables argument which is a list of blockname.variable prefixes to filter on.\n",
      "📊 Display a simulation agent module variables statistics with .sim_stats( module, sim_id,variables ) \n",
      "🧩   Where module must be one of the following: ['cdh', 'power', 'gnc', 'thermal'] \n",
      "📊 Display all agent block variables histograms for a study simulation with .sim_histogram( sim_id, output_html=False, variables=None )\n",
      "📈📉 Display block variables scatter matrix plot  \n",
      "📉📈      for a study simulation with .sim_scatter_matrix( sim_id, variables=None )\n"
     ]
    }
   ],
   "source": [
    "study_Wildfire_agents.summarize()"
   ]
  },
  {
   "cell_type": "code",
   "execution_count": 37,
   "metadata": {},
   "outputs": [
    {
     "data": {
      "text/html": [
       "<div>\n",
       "<style scoped>\n",
       "    .dataframe tbody tr th:only-of-type {\n",
       "        vertical-align: middle;\n",
       "    }\n",
       "\n",
       "    .dataframe tbody tr th {\n",
       "        vertical-align: top;\n",
       "    }\n",
       "\n",
       "    .dataframe thead th {\n",
       "        text-align: right;\n",
       "    }\n",
       "</style>\n",
       "<table border=\"1\" class=\"dataframe\">\n",
       "  <thead>\n",
       "    <tr style=\"text-align: right;\">\n",
       "      <th></th>\n",
       "      <th></th>\n",
       "      <th>count</th>\n",
       "      <th>mean</th>\n",
       "      <th>std</th>\n",
       "      <th>min</th>\n",
       "      <th>25%</th>\n",
       "      <th>50%</th>\n",
       "      <th>75%</th>\n",
       "      <th>max</th>\n",
       "    </tr>\n",
       "  </thead>\n",
       "  <tbody>\n",
       "    <tr>\n",
       "      <th>PLVFyYKWXhCHrmnYYJCtjn</th>\n",
       "      <th>pointingErrorAngle.deg</th>\n",
       "      <td>10077.0</td>\n",
       "      <td>34.786806</td>\n",
       "      <td>43.419709</td>\n",
       "      <td>0.108700</td>\n",
       "      <td>1.628421</td>\n",
       "      <td>8.679727</td>\n",
       "      <td>63.330971</td>\n",
       "      <td>179.792142</td>\n",
       "    </tr>\n",
       "    <tr>\n",
       "      <th>PLVCgvvMD7nmjJbS69GvFh</th>\n",
       "      <th>pointingErrorAngle.deg</th>\n",
       "      <td>10068.0</td>\n",
       "      <td>34.703106</td>\n",
       "      <td>43.391442</td>\n",
       "      <td>0.170956</td>\n",
       "      <td>1.628830</td>\n",
       "      <td>8.565667</td>\n",
       "      <td>63.108677</td>\n",
       "      <td>179.503603</td>\n",
       "    </tr>\n",
       "    <tr>\n",
       "      <th>PLVCh342C5DN7WXRLBtMDv</th>\n",
       "      <th>pointingErrorAngle.deg</th>\n",
       "      <td>10095.0</td>\n",
       "      <td>34.859085</td>\n",
       "      <td>43.430362</td>\n",
       "      <td>0.120628</td>\n",
       "      <td>1.624585</td>\n",
       "      <td>8.875162</td>\n",
       "      <td>63.452844</td>\n",
       "      <td>179.733501</td>\n",
       "    </tr>\n",
       "    <tr>\n",
       "      <th>PLVCh2ZHpS8GJ5tVRW2bLl</th>\n",
       "      <th>pointingErrorAngle.deg</th>\n",
       "      <td>10093.0</td>\n",
       "      <td>34.879303</td>\n",
       "      <td>43.487587</td>\n",
       "      <td>0.081162</td>\n",
       "      <td>1.619676</td>\n",
       "      <td>8.830720</td>\n",
       "      <td>63.438808</td>\n",
       "      <td>179.368910</td>\n",
       "    </tr>\n",
       "    <tr>\n",
       "      <th>PLVCgsgPk66vnKrRg6GDsd</th>\n",
       "      <th>pointingErrorAngle.deg</th>\n",
       "      <td>10092.0</td>\n",
       "      <td>34.847433</td>\n",
       "      <td>43.465401</td>\n",
       "      <td>0.188075</td>\n",
       "      <td>1.623997</td>\n",
       "      <td>8.743328</td>\n",
       "      <td>63.439456</td>\n",
       "      <td>179.216083</td>\n",
       "    </tr>\n",
       "    <tr>\n",
       "      <th>PLSVkDtZMjjv8vCJzlHMPG</th>\n",
       "      <th>pointingErrorAngle.deg</th>\n",
       "      <td>10059.0</td>\n",
       "      <td>34.651030</td>\n",
       "      <td>43.319196</td>\n",
       "      <td>0.161697</td>\n",
       "      <td>1.619581</td>\n",
       "      <td>8.473820</td>\n",
       "      <td>63.149583</td>\n",
       "      <td>179.798531</td>\n",
       "    </tr>\n",
       "  </tbody>\n",
       "</table>\n",
       "</div>"
      ],
      "text/plain": [
       "                                                 count       mean        std   \n",
       "PLVFyYKWXhCHrmnYYJCtjn pointingErrorAngle.deg  10077.0  34.786806  43.419709  \\\n",
       "PLVCgvvMD7nmjJbS69GvFh pointingErrorAngle.deg  10068.0  34.703106  43.391442   \n",
       "PLVCh342C5DN7WXRLBtMDv pointingErrorAngle.deg  10095.0  34.859085  43.430362   \n",
       "PLVCh2ZHpS8GJ5tVRW2bLl pointingErrorAngle.deg  10093.0  34.879303  43.487587   \n",
       "PLVCgsgPk66vnKrRg6GDsd pointingErrorAngle.deg  10092.0  34.847433  43.465401   \n",
       "PLSVkDtZMjjv8vCJzlHMPG pointingErrorAngle.deg  10059.0  34.651030  43.319196   \n",
       "\n",
       "                                                    min       25%       50%   \n",
       "PLVFyYKWXhCHrmnYYJCtjn pointingErrorAngle.deg  0.108700  1.628421  8.679727  \\\n",
       "PLVCgvvMD7nmjJbS69GvFh pointingErrorAngle.deg  0.170956  1.628830  8.565667   \n",
       "PLVCh342C5DN7WXRLBtMDv pointingErrorAngle.deg  0.120628  1.624585  8.875162   \n",
       "PLVCh2ZHpS8GJ5tVRW2bLl pointingErrorAngle.deg  0.081162  1.619676  8.830720   \n",
       "PLVCgsgPk66vnKrRg6GDsd pointingErrorAngle.deg  0.188075  1.623997  8.743328   \n",
       "PLSVkDtZMjjv8vCJzlHMPG pointingErrorAngle.deg  0.161697  1.619581  8.473820   \n",
       "\n",
       "                                                     75%         max  \n",
       "PLVFyYKWXhCHrmnYYJCtjn pointingErrorAngle.deg  63.330971  179.792142  \n",
       "PLVCgvvMD7nmjJbS69GvFh pointingErrorAngle.deg  63.108677  179.503603  \n",
       "PLVCh342C5DN7WXRLBtMDv pointingErrorAngle.deg  63.452844  179.733501  \n",
       "PLVCh2ZHpS8GJ5tVRW2bLl pointingErrorAngle.deg  63.438808  179.368910  \n",
       "PLVCgsgPk66vnKrRg6GDsd pointingErrorAngle.deg  63.439456  179.216083  \n",
       "PLSVkDtZMjjv8vCJzlHMPG pointingErrorAngle.deg  63.149583  179.798531  "
      ]
     },
     "execution_count": 37,
     "metadata": {},
     "output_type": "execute_result"
    }
   ],
   "source": [
    "study_Wildfire_agents.blocks('root').pointingErrorAngle['deg'].study_stats()"
   ]
  },
  {
   "cell_type": "markdown",
   "metadata": {},
   "source": [
    "Study 'Score'"
   ]
  },
  {
   "cell_type": "code",
   "execution_count": 39,
   "metadata": {},
   "outputs": [
    {
     "ename": "TypeError",
     "evalue": "cannot convert the series to <class 'float'>",
     "output_type": "error",
     "traceback": [
      "\u001b[0;31m---------------------------------------------------------------------------\u001b[0m",
      "\u001b[0;31mTypeError\u001b[0m                                 Traceback (most recent call last)",
      "\u001b[1;32m/Users/sedaro/Documents/sedaro/modsim-notebooks/Studies/Example_Goal-based.ipynb Cell 41\u001b[0m line \u001b[0;36m1\n\u001b[1;32m      <a href='vscode-notebook-cell:/Users/sedaro/Documents/sedaro/modsim-notebooks/Studies/Example_Goal-based.ipynb#X55sZmlsZQ%3D%3D?line=8'>9</a>\u001b[0m rw_y_avg_momentum \u001b[39m=\u001b[39m study_Wildfire_agents\u001b[39m.\u001b[39mblocksname(\u001b[39m\"\u001b[39m\u001b[39mRW-Y\u001b[39m\u001b[39m\"\u001b[39m)\u001b[39m.\u001b[39mmomentum\u001b[39m.\u001b[39mstudy_stats()[\u001b[39m'\u001b[39m\u001b[39mmean\u001b[39m\u001b[39m'\u001b[39m]\n\u001b[1;32m     <a href='vscode-notebook-cell:/Users/sedaro/Documents/sedaro/modsim-notebooks/Studies/Example_Goal-based.ipynb#X55sZmlsZQ%3D%3D?line=9'>10</a>\u001b[0m rw_z_avg_momentum \u001b[39m=\u001b[39m study_Wildfire_agents\u001b[39m.\u001b[39mblocksname(\u001b[39m\"\u001b[39m\u001b[39mRW-Z\u001b[39m\u001b[39m\"\u001b[39m)\u001b[39m.\u001b[39mmomentum\u001b[39m.\u001b[39mstudy_stats()[\u001b[39m'\u001b[39m\u001b[39mmean\u001b[39m\u001b[39m'\u001b[39m]\n\u001b[0;32m---> <a href='vscode-notebook-cell:/Users/sedaro/Documents/sedaro/modsim-notebooks/Studies/Example_Goal-based.ipynb#X55sZmlsZQ%3D%3D?line=11'>12</a>\u001b[0m score_momentum_rw_x_ratio_squared \u001b[39m=\u001b[39m math\u001b[39m.\u001b[39;49mpow(rw_x_avg_momentum\u001b[39m/\u001b[39;49mmax_rated_momentum, \u001b[39m2.0\u001b[39;49m) \n\u001b[1;32m     <a href='vscode-notebook-cell:/Users/sedaro/Documents/sedaro/modsim-notebooks/Studies/Example_Goal-based.ipynb#X55sZmlsZQ%3D%3D?line=12'>13</a>\u001b[0m score_momentum_rw_y_ratio_squared \u001b[39m=\u001b[39m math\u001b[39m.\u001b[39mpow(rw_y_avg_momentum\u001b[39m/\u001b[39mmax_rated_momentum, \u001b[39m2.0\u001b[39m)\n\u001b[1;32m     <a href='vscode-notebook-cell:/Users/sedaro/Documents/sedaro/modsim-notebooks/Studies/Example_Goal-based.ipynb#X55sZmlsZQ%3D%3D?line=13'>14</a>\u001b[0m score_momentum_rw_z_ratio_squared \u001b[39m=\u001b[39m math\u001b[39m.\u001b[39mpow(rw_z_avg_momentum\u001b[39m/\u001b[39mmax_rated_momentum, \u001b[39m2.0\u001b[39m)\n",
      "File \u001b[0;32m/usr/local/lib/python3.10/site-packages/pandas/core/series.py:230\u001b[0m, in \u001b[0;36m_coerce_method.<locals>.wrapper\u001b[0;34m(self)\u001b[0m\n\u001b[1;32m    222\u001b[0m     warnings\u001b[39m.\u001b[39mwarn(\n\u001b[1;32m    223\u001b[0m         \u001b[39mf\u001b[39m\u001b[39m\"\u001b[39m\u001b[39mCalling \u001b[39m\u001b[39m{\u001b[39;00mconverter\u001b[39m.\u001b[39m\u001b[39m__name__\u001b[39m\u001b[39m}\u001b[39;00m\u001b[39m on a single element Series is \u001b[39m\u001b[39m\"\u001b[39m\n\u001b[1;32m    224\u001b[0m         \u001b[39m\"\u001b[39m\u001b[39mdeprecated and will raise a TypeError in the future. \u001b[39m\u001b[39m\"\u001b[39m\n\u001b[0;32m   (...)\u001b[0m\n\u001b[1;32m    227\u001b[0m         stacklevel\u001b[39m=\u001b[39mfind_stack_level(),\n\u001b[1;32m    228\u001b[0m     )\n\u001b[1;32m    229\u001b[0m     \u001b[39mreturn\u001b[39;00m converter(\u001b[39mself\u001b[39m\u001b[39m.\u001b[39miloc[\u001b[39m0\u001b[39m])\n\u001b[0;32m--> 230\u001b[0m \u001b[39mraise\u001b[39;00m \u001b[39mTypeError\u001b[39;00m(\u001b[39mf\u001b[39m\u001b[39m\"\u001b[39m\u001b[39mcannot convert the series to \u001b[39m\u001b[39m{\u001b[39;00mconverter\u001b[39m}\u001b[39;00m\u001b[39m\"\u001b[39m)\n",
      "\u001b[0;31mTypeError\u001b[0m: cannot convert the series to <class 'float'>"
     ]
    }
   ],
   "source": [
    "weight_momentum_ratio = 1.0\n",
    "weight_pointing_error = 1.0\n",
    "max_rated_momentum    = 8.0\n",
    "# rw_x_max_rated_momentum = study_Wildfire_agents.blocksname(\"RW-X\").ratedMomentum.study_stats()['max']\n",
    "# rw_y_max_rated_momentum = study_Wildfire_agents.blocksname(\"RW-Y\").ratedMomentum.study_stats()['max']\n",
    "# rw_z_max_rated_momentum = study_Wildfire_agents.blocksname(\"RW-Z\").ratedMomentum.study_stats()['max']\n",
    "\n",
    "rw_x_avg_momentum = study_Wildfire_agents.blocksname(\"RW-X\").momentum.study_stats()['mean'] \n",
    "rw_y_avg_momentum = study_Wildfire_agents.blocksname(\"RW-Y\").momentum.study_stats()['mean']\n",
    "rw_z_avg_momentum = study_Wildfire_agents.blocksname(\"RW-Z\").momentum.study_stats()['mean']\n",
    "\n",
    "score_momentum_rw_x_ratio_squared = math.pow(rw_x_avg_momentum/max_rated_momentum, 2.0) \n",
    "score_momentum_rw_y_ratio_squared = math.pow(rw_y_avg_momentum/max_rated_momentum, 2.0)\n",
    "score_momentum_rw_z_ratio_squared = math.pow(rw_z_avg_momentum/max_rated_momentum, 2.0)\n",
    "\n",
    "score_momentum_component = weight_momentum_ratio * math.sqrt(score_momentum_rw_x_ratio_squared + score_momentum_rw_y_ratio_squared + score_momentum_rw_z_ratio_squared)\n",
    "score_pointing_error_component = weight_pointing_error * study_Wildfire_agents.blocksname(\"data\").pointingErrorAngle.study_stats()['avg']\n",
    "\n",
    "final_score = score_momentum_component + score_pointing_error_component\n",
    "final_score"
   ]
  },
  {
   "cell_type": "code",
   "execution_count": 42,
   "metadata": {},
   "outputs": [
    {
     "data": {
      "text/plain": [
       "['PLVFyYKWXhCHrmnYYJCtjn',\n",
       " 'PLVCgvvMD7nmjJbS69GvFh',\n",
       " 'PLVCh342C5DN7WXRLBtMDv',\n",
       " 'PLVCh2ZHpS8GJ5tVRW2bLl',\n",
       " 'PLVCgsgPk66vnKrRg6GDsd',\n",
       " 'PLSVkDtZMjjv8vCJzlHMPG']"
      ]
     },
     "execution_count": 42,
     "metadata": {},
     "output_type": "execute_result"
    }
   ],
   "source": [
    "study_status['jobs']"
   ]
  },
  {
   "cell_type": "code",
   "execution_count": 73,
   "metadata": {},
   "outputs": [
    {
     "data": {
      "text/plain": [
       "-1.0089778047396432"
      ]
     },
     "execution_count": 73,
     "metadata": {},
     "output_type": "execute_result"
    }
   ],
   "source": [
    "simjob_id = study_status['jobs'][0]\n",
    "rw_x_momentum_df = study_Wildfire_agents.blocksname(\"RW-X\").momentum.make_study_dataframe()\n",
    "rw_x_momentum_df.describe().T['mean']['PLVFyYKWXhCHrmnYYJCtjn'].values[0]"
   ]
  },
  {
   "cell_type": "markdown",
   "metadata": {},
   "source": [
    "scoreFn = A * sqrt(sum all wheels( (avg momentum/max rated momentum)^2)) + B * (avg root.pointingErrorAngle)"
   ]
  },
  {
   "cell_type": "code",
   "execution_count": 95,
   "metadata": {},
   "outputs": [],
   "source": [
    "def simjob_scores(study_jobs, study_agents):\n",
    "    weight_momentum_ratio = 4.0\n",
    "    weight_pointing_error = 1.0\n",
    "    max_rated_momentum    = 8.0\n",
    "\n",
    "    for simjob_id in study_jobs:\n",
    "        rw_x_momentum_df = study_agents.blocksname(\"RW-X\").momentum.make_study_dataframe()\n",
    "        rw_y_momentum_df = study_agents.blocksname(\"RW-Y\").momentum.make_study_dataframe()\n",
    "        rw_z_momentum_df = study_agents.blocksname(\"RW-Z\").momentum.make_study_dataframe()\n",
    "\n",
    "        pointing_error_df = study_agents.blocks(\"root\").pointingErrorAngle['rad'].make_study_dataframe()\n",
    "\n",
    "        rw_x_avg_momentum = rw_x_momentum_df.describe().T['mean'][simjob_id].values[0]\n",
    "        rw_y_avg_momentum = rw_y_momentum_df.describe().T['mean'][simjob_id].values[0]\n",
    "        rw_z_avg_momentum = rw_z_momentum_df.describe().T['mean'][simjob_id].values[0]\n",
    "\n",
    "        score_momentum_rw_x_ratio_squared = (rw_x_avg_momentum/max_rated_momentum)**2 \n",
    "        score_momentum_rw_y_ratio_squared = (rw_y_avg_momentum/max_rated_momentum)**2\n",
    "        score_momentum_rw_z_ratio_squared = (rw_z_avg_momentum/max_rated_momentum)**2\n",
    "\n",
    "        score_momentum_component       = weight_momentum_ratio * math.sqrt(score_momentum_rw_x_ratio_squared + score_momentum_rw_y_ratio_squared + score_momentum_rw_z_ratio_squared)\n",
    "        score_pointing_error_component = weight_pointing_error * pointing_error_df.describe().T['mean'][simjob_id].values[0]\n",
    "\n",
    "        final_score = score_momentum_component + score_pointing_error_component\n",
    "        print(f\"SimJob ID: {simjob_id}  Final Score: {final_score} Momentum Ratio: {score_momentum_component}  Pointing Error: {score_pointing_error_component}\")\n"
   ]
  },
  {
   "cell_type": "code",
   "execution_count": 96,
   "metadata": {},
   "outputs": [
    {
     "name": "stdout",
     "output_type": "stream",
     "text": [
      "SimJob ID: PLVFyYKWXhCHrmnYYJCtjn  Final Score: 1.2863952910887124 Momentum Ratio: 0.6792509984993955  Pointing Error: 0.6071442925893168\n",
      "SimJob ID: PLVCgvvMD7nmjJbS69GvFh  Final Score: 1.288320639344283 Momentum Ratio: 0.6826371760057066  Pointing Error: 0.6056834633385763\n",
      "SimJob ID: PLVCh342C5DN7WXRLBtMDv  Final Score: 1.2821286797134026 Momentum Ratio: 0.6737228674578699  Pointing Error: 0.6084058122555326\n",
      "SimJob ID: PLVCh2ZHpS8GJ5tVRW2bLl  Final Score: 1.2848357997408155 Momentum Ratio: 0.676077113510002  Pointing Error: 0.6087586862308136\n",
      "SimJob ID: PLVCgsgPk66vnKrRg6GDsd  Final Score: 1.2856173996270122 Momentum Ratio: 0.6774149567532498  Pointing Error: 0.6082024428737625\n",
      "SimJob ID: PLSVkDtZMjjv8vCJzlHMPG  Final Score: 1.3170328803630593 Momentum Ratio: 0.7122583126226634  Pointing Error: 0.604774567740396\n"
     ]
    }
   ],
   "source": [
    "simjob_scores(study_status['jobs'], study_Wildfire_agents)"
   ]
  },
  {
   "cell_type": "code",
   "execution_count": 92,
   "metadata": {},
   "outputs": [
    {
     "name": "stdout",
     "output_type": "stream",
     "text": [
      "SimJob ID: PLVFyYKWXhCHrmnYYJCtjn  Final Score: 1.2863952910887124 Momentum Ratio: 0.6792509984993955  Pointing Error: 0.6071442925893168\n",
      "SimJob ID: PLVCgvvMD7nmjJbS69GvFh  Final Score: 1.288320639344283 Momentum Ratio: 0.6826371760057066  Pointing Error: 0.6056834633385763\n",
      "SimJob ID: PLVCh342C5DN7WXRLBtMDv  Final Score: 1.2821286797134026 Momentum Ratio: 0.6737228674578699  Pointing Error: 0.6084058122555326\n",
      "SimJob ID: PLVCh2ZHpS8GJ5tVRW2bLl  Final Score: 1.2848357997408155 Momentum Ratio: 0.676077113510002  Pointing Error: 0.6087586862308136\n",
      "SimJob ID: PLVCgsgPk66vnKrRg6GDsd  Final Score: 1.2856173996270122 Momentum Ratio: 0.6774149567532498  Pointing Error: 0.6082024428737625\n",
      "SimJob ID: PLSVkDtZMjjv8vCJzlHMPG  Final Score: 1.3170328803630593 Momentum Ratio: 0.7122583126226634  Pointing Error: 0.604774567740396\n"
     ]
    }
   ],
   "source": [
    "simjob_scores(study_status['jobs'], study_Wildfire_agents)"
   ]
  },
  {
   "cell_type": "code",
   "execution_count": null,
   "metadata": {},
   "outputs": [],
   "source": []
  }
 ],
 "metadata": {
  "kernelspec": {
   "display_name": "Python 3",
   "language": "python",
   "name": "python3"
  },
  "language_info": {
   "codemirror_mode": {
    "name": "ipython",
    "version": 3
   },
   "file_extension": ".py",
   "mimetype": "text/x-python",
   "name": "python",
   "nbconvert_exporter": "python",
   "pygments_lexer": "ipython3",
   "version": "3.10.13"
  }
 },
 "nbformat": 4,
 "nbformat_minor": 2
}
