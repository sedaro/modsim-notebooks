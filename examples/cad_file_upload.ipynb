{
 "cells": [
  {
   "cell_type": "markdown",
   "metadata": {},
   "source": [
    "### Upload a CAD File\n",
    "\n",
    "This notebook demos how to upload a CAD file to a Spacecraft Branch."
   ]
  },
  {
   "cell_type": "markdown",
   "metadata": {},
   "source": [
    "#### Setup\n",
    "\n",
    "Imports and notebook variables:"
   ]
  },
  {
   "cell_type": "code",
   "execution_count": null,
   "metadata": {},
   "outputs": [],
   "source": [
    "from pathlib import Path\n",
    "from urllib3.filepost import encode_multipart_formdata\n",
    "from sedaro import SedaroApiClient\n",
    "\n",
    "BRANCH_ID = ... # str\n",
    "CAD_FILE = Path('path/to/cadfile.glb')\n",
    "SCALE_FACTOR = ... # int, adjust as needed"
   ]
  },
  {
   "cell_type": "markdown",
   "metadata": {},
   "source": [
    "#### Important: Read Before Running\n",
    "\n",
    "This notebook makes changes to an agent branch indicated in the settings section. Ensure any changes to the target branch are saved prior to running this code. Sedaro recommends committing current changes and creating new branches in the target repositories to avoid loss of work.\n",
    "\n",
    "This notebook also requires that you have previously generated an API key in the web UI. That key should be stored in a file called `secrets.json` in the same directory as this notebook with the following format:\n",
    "\n",
    "```json\n",
    "{\n",
    "  \"API_KEY\": \"<API_KEY>\"\n",
    "}\n",
    "```\n",
    "\n",
    "API keys grant full access to your repositories and should never be shared. If you think your API key has been compromised, you can revoke it in the user settings interface on the Sedaro website.\n"
   ]
  },
  {
   "cell_type": "code",
   "execution_count": null,
   "metadata": {},
   "outputs": [],
   "source": [
    "import json\n",
    "\n",
    "with open('../secrets.json', 'r') as file:\n",
    "    API_KEY = json.load(file)['API_KEY']\n",
    "\n",
    "with open('../config.json', 'r') as file:\n",
    "    config = json.load(file)"
   ]
  },
  {
   "cell_type": "markdown",
   "metadata": {},
   "source": [
    "#### Upload the file\n",
    "\n",
    "Upload the CAD file, replacing the existing file on the spacecraft."
   ]
  },
  {
   "cell_type": "code",
   "execution_count": null,
   "metadata": {},
   "outputs": [],
   "source": [
    "sedaro = SedaroApiClient(api_key=API_KEY, host=config['HOST'])\n",
    "\n",
    "with sedaro.api_client() as api_client:\n",
    "    with open(CAD_FILE, 'rb') as f:\n",
    "        file_content = f.read()\n",
    "\n",
    "        fields = (\n",
    "            ('cadFile', (CAD_FILE.name, file_content, 'application/octet-stream')),\n",
    "            ('cadScaleFactor', SCALE_FACTOR),\n",
    "        )\n",
    "\n",
    "        body, content_type = encode_multipart_formdata(fields)\n",
    "        headers = {'Content-Type': content_type}\n",
    "\n",
    "        api_client.call_api(\n",
    "            f'/models/branches/{BRANCH_ID}/cad/',\n",
    "            'POST',\n",
    "            headers=headers,\n",
    "            body=body,\n",
    "        )"
   ]
  }
 ],
 "metadata": {
  "kernelspec": {
   "display_name": "Python 3",
   "language": "python",
   "name": "python3"
  },
  "language_info": {
   "name": "python",
   "version": "3.12.7"
  }
 },
 "nbformat": 4,
 "nbformat_minor": 2
}
