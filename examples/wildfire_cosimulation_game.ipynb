{
 "cells": [
  {
   "cell_type": "markdown",
   "metadata": {},
   "source": [
    "# Wildfire Cosimulation Game\n",
    "\n",
    "This notebook serves as an example of [Cosimulation](https://sedaro.github.io/openapi/#tag/Externals) in Sedaro. Here, Sedaro's external cosimulation interfaces have been applied to create an interactive video game involving the Wildfire demo available to each Sedaro user.\n",
    "\n",
    "_This notebook utilizes newer Python features like the walrus operator (`:=`) from 3.8 and `match`-`case` statements from 3.10. If you are not using an up-to-date version of Python, you will need to make changes to parts of this notebook to account for the absence of newly-supported syntax._\n",
    "\n",
    "#### Important: Read Before Running\n",
    "\n",
    "This notebook makes changes to agent and scenario branches indicated in the settings section. Ensure any changes to the target branches are saved prior to running this code. Sedaro recommends committing current work and creating new branches in the target repositories to avoid loss of work.\n"
   ]
  },
  {
   "cell_type": "markdown",
   "metadata": {},
   "source": [
    "## Necessary Imports & Definitions\n",
    "\n",
    "The following package imports, variables, functions, and classes will be necessary to execute various parts of this notebook.\n"
   ]
  },
  {
   "cell_type": "markdown",
   "metadata": {},
   "source": [
    "### Sedaro Variables\n",
    "\n",
    "You will need to update some of the string values below in your `config.json` file. Get the branch ID for the Wildfire scenario that you would like this notebook to target and input the ID as the Wildfire `SCENARIO_BRANCH_ID` variable. The `WILDFIRE_ID` string below should not require changing, but if you run into problems you may need to check this value to verify that it matches the agent ID of Wildfire in the targeted scenario. The `HOST` and `WEB_HOST` variables should only require updating if you are running a separate, specialized instance of the Sedaro software.\n",
    "\n",
    "With all variables defined with their respective values, the code block below will call the Sedaro API and make `scenario` and `simulation` handles that will be used throughout this notebook.\n",
    "\n",
    "#### API Key\n",
    "\n",
    "This notebook requires that you have previously generated an API key in the web UI. That key should be stored in a file called `secrets.json` in the same directory as this notebook with the following format:\n",
    "\n",
    "```json\n",
    "{\n",
    "  \"API_KEY\": \"<API_KEY>\"\n",
    "}\n",
    "```\n",
    "\n",
    "API keys grant full access to your repositories and should never be shared. If you think your API key has been compromised, you can revoke it in the user settings interface on the Sedaro website.\n"
   ]
  },
  {
   "cell_type": "code",
   "execution_count": null,
   "metadata": {},
   "outputs": [],
   "source": [
    "import json\n",
    "from sedaro import SedaroApiClient\n",
    "\n",
    "with open('../secrets.json', 'r') as file:  # open API key file\n",
    "    API_KEY = json.load(file)['API_KEY']  # read API key from file\n",
    "\n",
    "with open('../config.json', 'r') as file:\n",
    "    config = json.load(file)\n",
    "\n",
    "# Obtain these IDs from the branch list within each repository and add to config.json\n",
    "SCENARIO_BRANCH_ID = config['WILDFIRE']['SCENARIO_BRANCH_ID']                # ID of the scenario branch\n",
    "WILDFIRE_ID = \"NT06aqHUT5djI1_JPAsck\"                                        # Wildfire ID (should not need changing)\n",
    "HOST = config['HOST']                                                        # Sedaro instance URL\n",
    "WEB_HOST = config['WEB_HOST']                                                # Sedaro web URL"
   ]
  },
  {
   "cell_type": "code",
   "execution_count": null,
   "metadata": {},
   "outputs": [],
   "source": [
    "sedaro = SedaroApiClient(host=HOST, api_key=API_KEY)\n",
    "scenario = sedaro.scenario(SCENARIO_BRANCH_ID)\n",
    "simulation = scenario.simulation"
   ]
  },
  {
   "cell_type": "markdown",
   "metadata": {},
   "source": [
    "### Simple Conversion Functions\n",
    "\n",
    "Sedaro outputs the simulation time in MJD and angles in radians. These functions will help to convert MJD dates to `datetime` objects and radians to degrees for easier interpretation.\n"
   ]
  },
  {
   "cell_type": "code",
   "execution_count": null,
   "metadata": {},
   "outputs": [],
   "source": [
    "from math import pi\n",
    "from datetime import datetime, timedelta\n",
    "\n",
    "\n",
    "def mjd2dt(mjd: float) -> datetime:\n",
    "    \"\"\"Convert Modified Julian Date (MJD) float to datetime object.\"\"\"\n",
    "    return datetime(1858, 11, 17) + timedelta(days=mjd)\n",
    "\n",
    "\n",
    "def rad2deg(rad: float) -> float:\n",
    "    \"\"\"Convert radians to degrees.\"\"\"\n",
    "    return rad * 180 / pi"
   ]
  },
  {
   "cell_type": "markdown",
   "metadata": {},
   "source": [
    "### Rotation & Quaternion Functions\n",
    "\n",
    "Below are functions that will allow us to calculate the rotation matrix of a quaternion and convert between the spacecraft body frame and the Local-Vertical/Local-Horizontal (LVLH) frame. Expressing vectors with LVLH components will allow us to calculate yaw and pitch in an intuitive frame of reference.\n"
   ]
  },
  {
   "cell_type": "code",
   "execution_count": null,
   "metadata": {},
   "outputs": [],
   "source": [
    "import numpy as np\n",
    "\n",
    "\n",
    "def quaternion2RotMat(quaternion: np.ndarray) -> np.ndarray:\n",
    "    \"\"\"Convert quaternion to rotation matrix.\"\"\"\n",
    "    if len(quaternion) != 4:\n",
    "        raise ValueError(\"Bad shape\")\n",
    "\n",
    "    rotation = np.zeros((3, 3))\n",
    "\n",
    "    rotation[0, 0] = 1 - 2 * (quaternion[1] * quaternion[1] + quaternion[2] * quaternion[2])\n",
    "    rotation[1, 0] = 2 * (quaternion[0] * quaternion[1] + quaternion[3] * quaternion[2])\n",
    "    rotation[2, 0] = 2 * (quaternion[0] * quaternion[2] - quaternion[3] * quaternion[1])\n",
    "\n",
    "    rotation[0, 1] = 2 * (quaternion[0] * quaternion[1] - quaternion[3] * quaternion[2])\n",
    "    rotation[1, 1] = 1 - 2 * (quaternion[0] * quaternion[0] + quaternion[2] * quaternion[2])\n",
    "    rotation[2, 1] = 2 * (quaternion[1] * quaternion[2] + quaternion[3] * quaternion[0])\n",
    "\n",
    "    rotation[0, 2] = 2 * (quaternion[0] * quaternion[2] + quaternion[3] * quaternion[1])\n",
    "    rotation[1, 2] = 2 * (quaternion[1] * quaternion[2] - quaternion[3] * quaternion[0])\n",
    "    rotation[2, 2] = 1 - 2 * (quaternion[0] * quaternion[0] + quaternion[1] * quaternion[1])\n",
    "\n",
    "    return rotation\n",
    "\n",
    "\n",
    "def body2Lvlh(attitude, lvlh_to_eci):\n",
    "    \"\"\"Calculate body to LVLH rotation matrix.\"\"\"\n",
    "    body_to_eci = quaternion2RotMat(attitude)  # body to ECI rotation matrix\n",
    "    eci_to_lvlh = lvlh_to_eci.T  # transpose for ECI to LVLH rotation matrix\n",
    "    body_to_lvlh = eci_to_lvlh @ body_to_eci  # body to LVLH rotation matrix\n",
    "    return body_to_lvlh"
   ]
  },
  {
   "cell_type": "markdown",
   "metadata": {},
   "source": [
    "### Keyboard Input\n",
    "\n",
    "This notebook utilizes the `pynput` package to interpret keypresses and trigger actions depending on which keys are pressed. These functions define the behavior of the `on_press` and `on_release` callbacks for the keyboard listener. The default keybindings for the `on_press` keypress callback are as follows:\n",
    "| Key | Action |\n",
    "| :-: | :-: |\n",
    "| W | RW-Y forward, pitches down |\n",
    "| S | RW-Y reverse, pitches up |\n",
    "| A | RW-Z reverse, yaws left |\n",
    "| D | RW-Z forward, yaws right |\n",
    "| Q | RW-X reverse, rolls left |\n",
    "| E | RW-X forward, rolls right |\n",
    "| Spacebar | Burn thruster |\n",
    "| 1–9 | Change active operational mode |\n",
    "| Esc | Stop keyboard listener |\n",
    "\n",
    "The `keyboard.Listener` object is initialized, but it will not be listening until it is started later.\n"
   ]
  },
  {
   "cell_type": "code",
   "execution_count": null,
   "metadata": {},
   "outputs": [],
   "source": [
    "from pynput import keyboard\n",
    "\n",
    "\n",
    "def on_press(key):\n",
    "    global RWs, thruster, sat\n",
    "    if isinstance(key, keyboard.KeyCode):\n",
    "        match key.char:\n",
    "            case 'w':\n",
    "                RWs['Y'].forward()  # pitch down\n",
    "            case 's':\n",
    "                RWs['Y'].reverse()  # pitch up\n",
    "            case 'a':\n",
    "                RWs['Z'].reverse()  # yaw left\n",
    "            case 'd':\n",
    "                RWs['Z'].forward()  # yaw right\n",
    "            case 'q':\n",
    "                RWs['X'].reverse()  # roll left\n",
    "            case 'e':\n",
    "                RWs['X'].forward()  # roll right\n",
    "            case n if int(n) in range(1, 10):\n",
    "                sat.setRoutine(int(n))  # set routine\n",
    "    elif isinstance(key, keyboard.Key):\n",
    "        if key == keyboard.Key.space:\n",
    "            thruster.burn()  # fire thruster\n",
    "        elif key == keyboard.Key.esc:\n",
    "            print('Stopping the keyboard listener.')\n",
    "            return False  # stop listener\n",
    "\n",
    "\n",
    "def on_release(key):\n",
    "    global RWs, thruster\n",
    "    if isinstance(key, keyboard.KeyCode):\n",
    "        match key.char:\n",
    "            case 'w' | 's':\n",
    "                RWs['Y'].stop()\n",
    "            case 'a' | 'd':\n",
    "                RWs['Z'].stop()\n",
    "            case 'q' | 'e':\n",
    "                RWs['X'].stop()\n",
    "    elif isinstance(key, keyboard.Key):\n",
    "        if key == keyboard.Key.space:\n",
    "            thruster.stop()\n",
    "\n",
    "\n",
    "listener = keyboard.Listener(on_press=on_press, on_release=on_release)  # initialize keyboard listener"
   ]
  },
  {
   "cell_type": "markdown",
   "metadata": {},
   "source": [
    "### Game Classes\n",
    "\n",
    "These classes will help logically organize, calculate, and recall information during the game loop. They are separate from classes within the `sedaro` Python package; they are purely for game logic.\n",
    "\n",
    "The different classes each handle important roles during the game loop:\n",
    "\n",
    "- `Game`: stores the simulation time and game loop time and handles checking for a simulation update and waiting for the remainder of a game loop\n",
    "- `Satellite`: stores various variables relevant to the satellite as a whole, handles setting the active routine, and calculates LVLH yaw and pitch from its current state\n",
    "- `RW`: stores reaction wheel torque torque and momentum information and handles utilizing the reaction wheels\n",
    "- `Thruster`: stores thruster attributes and handles turning the thruster on and off\n"
   ]
  },
  {
   "cell_type": "code",
   "execution_count": null,
   "metadata": {},
   "outputs": [],
   "source": [
    "from time import sleep\n",
    "\n",
    "\n",
    "class Game:\n",
    "    def __init__(self, clock, min_loop_time=0.2):\n",
    "        self.prevTime = clock.startTime  # initialize previous game loop time to start time\n",
    "        self.minLoopTime = min_loop_time  # minimum game loop time [seconds]\n",
    "        self.time = None\n",
    "        self.loopStart = None\n",
    "        self.loopEnd = None\n",
    "        self.loopTime = None\n",
    "\n",
    "    def startLoop(self):\n",
    "        self.loopStart = datetime.now()\n",
    "\n",
    "    def endLoop(self):\n",
    "        self.loopEnd = datetime.now()\n",
    "        self.loopTime = (self.loopEnd - self.loopStart).total_seconds()  # calculate loop time [seconds]\n",
    "\n",
    "    def wait(self):\n",
    "        if self.loopTime < self.minLoopTime:\n",
    "            sleep(self.minLoopTime - self.loopTime)  # sleep for the remainder of the minimum game loop time\n",
    "\n",
    "    def update(self):\n",
    "        if self.prevTime < self.time:  # if previous time is less than current time (time has changed)\n",
    "            self.prevTime = self.time  # update previous time to current time\n",
    "            return True  # return True because time has changed\n",
    "        else:\n",
    "            return False  # return False because time has not changed\n",
    "\n",
    "\n",
    "class Satellite:\n",
    "    def __init__(self, routines):\n",
    "        self.routines = routines\n",
    "        self.activeRoutine = [routine for routine in routines if routine.name ==\n",
    "                              \"Standby\"][0]  # set active routine to Standby\n",
    "        self.stateOfCharge = None\n",
    "        self.powerLoading = 0\n",
    "        self.solarUtilization = None\n",
    "        self.apogee = None\n",
    "        self.perigee = None\n",
    "        self.attitude = None\n",
    "        self.lvlh2Eci = None\n",
    "        self.yaw = None\n",
    "        self.pitch = None\n",
    "\n",
    "    def calcYawPitch(self, thruster):\n",
    "        \"\"\"Calculate the yaw and pitch angles of the thrust vector in the ram frame\"\"\"\n",
    "        vector = -thruster.exhaustVector  # thrust vector in body frame\n",
    "        vector = body2Lvlh(self.attitude, self.lvlh2Eci) @ vector  # vector in LVLH frame\n",
    "        self.yaw = -np.arctan2(vector[2], vector[1])  # yaw angle from ram in LVLH frame\n",
    "        self.pitch = np.arcsin(vector[0])  # pitch angle from ram in LVLH frame\n",
    "\n",
    "    def setRoutine(self, num: int):\n",
    "        \"\"\"Set the active routine based on number\"\"\"\n",
    "        routine_num = min(num, len(self.routines))  # limit input to number of routines\n",
    "        self.activeRoutine = self.routines[routine_num - 1]  # set active routine\n",
    "\n",
    "\n",
    "class RW:\n",
    "    def __init__(self, ratedTorque: float, ratedMomentum: float):\n",
    "        self.ratedTorque = ratedTorque\n",
    "        self.torque = 0\n",
    "        self.ratedMomentum = ratedMomentum\n",
    "        self.momentum = 0\n",
    "\n",
    "    def forward(self):\n",
    "        self.torque = self.ratedTorque\n",
    "\n",
    "    def reverse(self):\n",
    "        self.torque = -self.ratedTorque\n",
    "\n",
    "    def stop(self):\n",
    "        self.torque = 0\n",
    "\n",
    "\n",
    "class Thruster:\n",
    "    def __init__(self, maxThrust: float, exhaustVector, capacity: float):\n",
    "        self.maxThrust = maxThrust\n",
    "        self.thrust = 0\n",
    "        self.exhaustVector = exhaustVector\n",
    "        self.capacity = capacity\n",
    "        self.fuel = capacity\n",
    "\n",
    "    def burn(self):\n",
    "        self.thrust = self.maxThrust\n",
    "\n",
    "    def stop(self):\n",
    "        self.thrust = 0"
   ]
  },
  {
   "cell_type": "markdown",
   "metadata": {},
   "source": [
    "### User Interface\n",
    "\n",
    "These functions define the format and logic for displaying information during the game loop. `bar` generates a colored capacity bar that will help to visualize various variables. `display` formats information from the game classes and displays a user interface in the [Game Loop](#game-loop) output cell. The colors used by the `bar` and `display` functions are ANSI color codes and can be changed to use any valid color codes that you like.\n"
   ]
  },
  {
   "cell_type": "code",
   "execution_count": null,
   "metadata": {},
   "outputs": [],
   "source": [
    "from IPython.display import clear_output\n",
    "\n",
    "\n",
    "def bar(num: float, minimum: float, maximum: float, start: float = 0, width: int = 101):\n",
    "    bar_color = '\\033[34m'  # blue\n",
    "    slide_color = '\\033[36m'  # cyan\n",
    "    rail_color = '\\033[0m'  # reset\n",
    "\n",
    "    num = max(minimum, min(num, maximum))  # keep num within bounds\n",
    "    w = width - 2  # adjust width for brackets\n",
    "    str = [slide_color + '-'] * w  # create list of slide characters\n",
    "    i_start, i_num = [min(int((n - minimum) / (maximum - minimum) * w), w - 1)\n",
    "                      for n in [start, num]]  # get indices of start and num\n",
    "    # (inclusively) loop between start and num indices\n",
    "    for i in range(i_start, i_num + 1, 1) if i_num > i_start else range(i_start, i_num - 1, -1):\n",
    "        str[i] = bar_color + '\\u2588'  # insert bar at index\n",
    "    str[i_start] = rail_color + '|'  # insert start rail at start index\n",
    "    str.insert(0, rail_color + '[')  # add left bracket\n",
    "    str.append(rail_color + ']')  # add right bracket\n",
    "    return ''.join(str)  # return joined list as string\n",
    "\n",
    "\n",
    "def display(update: bool, game: Game, sat: Satellite, RWs: dict, thruster: Thruster):\n",
    "    update_color = '\\033[92m'  # green\n",
    "    bold = '\\033[1m'  # bold\n",
    "    reset = '\\033[0m'\n",
    "\n",
    "    info_string = \"\\n\".join([\n",
    "        f\"{bold}Loop Time{reset}:           {game.loopTime:.4f} seconds\",\n",
    "        \"\",\n",
    "        f\"{bold}Simulation Time{reset}:     {update_color if update else ''}{mjd2dt(game.time)}{reset}\",\n",
    "        \"\",\n",
    "        f\"{bold}Routine{reset}:             [{sat.routines.index(sat.activeRoutine) + 1}] {sat.activeRoutine.name}\",\n",
    "        \"\",\n",
    "        f\"{bold}---- Orbit ----{reset}\",\n",
    "        f\"  Apogee:            {sat.apogee:9.4f} km\",\n",
    "        f\"  Perigee:           {sat.perigee:9.4f} km\",\n",
    "        \"\",\n",
    "        f\"{bold}---- Attitude ----{reset}\",\n",
    "        f\"  Yaw from Ram:      {bar(rad2deg(sat.yaw), -180, 180)} {rad2deg(sat.yaw):7.2f}\\u00B0\",\n",
    "        f\"  Pitch from Ram:    {bar(rad2deg(sat.pitch), -90, 90)} {rad2deg(sat.pitch):7.2f}\\u00B0\",\n",
    "        \"\",\n",
    "        f\"{bold}---- Actuators ----{reset}\",\n",
    "        f\"                          {bold}Actuation{reset}      |                                                {bold}Capacity{reset}\",\n",
    "        f\"  RW X:              {bar(RWs['X'].torque, -RWs['X'].ratedTorque, RWs['X'].ratedTorque, 0, 9)} {RWs['X'].torque:5.2f} N\\u22C5m | {bar(RWs['X'].momentum, -RWs['X'].ratedMomentum, RWs['X'].ratedMomentum)} {RWs['X'].momentum:5.2f} N\\u22C5s\",\n",
    "        f\"  RW Y:              {bar(RWs['Y'].torque, -RWs['Y'].ratedTorque, RWs['Y'].ratedTorque, 0, 9)} {RWs['Y'].torque:5.2f} N\\u22C5m | {bar(RWs['Y'].momentum, -RWs['Y'].ratedMomentum, RWs['Y'].ratedMomentum)} {RWs['Y'].momentum:5.2f} N\\u22C5s\",\n",
    "        f\"  RW Z:              {bar(RWs['Z'].torque, -RWs['Z'].ratedTorque, RWs['Z'].ratedTorque, 0, 9)} {RWs['Z'].torque:5.2f} N\\u22C5m | {bar(RWs['Z'].momentum, -RWs['Z'].ratedMomentum, RWs['Z'].ratedMomentum)} {RWs['Z'].momentum:5.2f} N\\u22C5s\",\n",
    "        f\"  Thruster:          {bar(thruster.thrust, 0, thruster.maxThrust, 0, 9)} {thruster.thrust:5.1f} N   | {bar(thruster.fuel, 0, thruster.capacity)} {thruster.fuel:5.2f} kg\",\n",
    "        \"\",\n",
    "        f\"{bold}---- Power ----{reset}\",\n",
    "        f\"  Power Loading:     {sat.powerLoading:5.2f} W\",\n",
    "        f\"  Battery Charge:    {bar(sat.stateOfCharge, 0, 1)} {sat.stateOfCharge:7.2%}\",\n",
    "        f\"  Solar Utilization: {bar(sat.solarUtilization, 0, 1)} {sat.solarUtilization:7.2%}\",\n",
    "    ])\n",
    "    clear_output()  # clear output of Jupyter Notebook cell\n",
    "    print(info_string, flush=True)"
   ]
  },
  {
   "cell_type": "markdown",
   "metadata": {},
   "source": [
    "## Scenario Setup\n",
    "\n",
    "Now that the relevant functions and classes have been defined, we need to edit specific scenario blocks and initialize instances of the game classes with information gathered from Wildfire's agent template.\n"
   ]
  },
  {
   "cell_type": "markdown",
   "metadata": {},
   "source": [
    "### External State Block\n",
    "\n",
    "To query and change the current state of variables during the game loop while the simulation is running, this notebook will make use of External State blocks. External State blocks are defined at the scenario level and allow external sources to read from and write to an agent's associated variables within the simulation. There are two kinds of External State blocks:\n",
    "\n",
    "- `PerRoundExternalState`: reads/writes state from an agent for each step of the simulation, with the simulation being blocked until each `PerRoundExternalState` block has consumed and produced its associated variables for that simulation time step\n",
    "- `SpontaneousExternalState`: reads/writes state from an agent whenever called, with the simulation not being blocked if the `SpontaneousExternalState` block is not called\n",
    "\n",
    "Each External State block must define the variables that it intends to read and/or write with the `consume` and `produce` fields. It must also be linked to a specific Agent Block within the scenario via the `agent` relationship. The simulation engine that controls its associated variables must also be specified via the `engineIndex` field. Each `engineIndex` value corresponds to a different engine:\n",
    "\n",
    "0.  Guidance, Navigation, & Control\n",
    "1.  Command & Data Handling\n",
    "2.  Power\n",
    "3.  Thermal\n",
    "\n",
    "For more information on Externals and cosimulation in Sedaro, please see the docs [here](https://sedaro.github.io/openapi/#tag/Externals).\n"
   ]
  },
  {
   "cell_type": "markdown",
   "metadata": {},
   "source": [
    "Before creating the External State blocks for this notebook, it is helpful to ensure that there are no existing External State blocks associated with the target scenario. The code block below will find all existing `ExternalState` blocks and remove them.\n"
   ]
  },
  {
   "cell_type": "code",
   "execution_count": null,
   "metadata": {},
   "outputs": [],
   "source": [
    "if len(extStateIDs := scenario.ExternalState.get_all_ids()) > 0:  # if there are any existing ExternalState blocks\n",
    "    scenario.crud(delete=extStateIDs)  # delete all ExternalState blocks"
   ]
  },
  {
   "cell_type": "markdown",
   "metadata": {},
   "source": [
    "After deleting any residual `ExternalState` blocks from the scenario, we can create the blocks that will facilitate simulation input and output for the variables relevant to the game. Since we are not driving the simulation's time steps and do not need our game loop to be tied to simulation steps, we will use `SpontaneousExternalState` blocks. Below we create 3 different `SpontaneousExternalState` blocks for the Wildfire agent associated with 3 different simulation engines.\n"
   ]
  },
  {
   "cell_type": "code",
   "execution_count": null,
   "metadata": {},
   "outputs": [],
   "source": [
    "gnc_state_block = scenario.SpontaneousExternalState.create(**{\n",
    "    'consumed': [\n",
    "        \"time\",\n",
    "        {\"root\": \"attitude\"},\n",
    "        {\"root\": \"lvlhAxes\"},\n",
    "        {\"ReactionWheel\": \"momentum\"},\n",
    "        {\"FuelTank\": \"wetMass\"},\n",
    "        {\"Orbit\": \"radiusApogee\"},\n",
    "        {\"Orbit\": \"radiusPerigee\"}],\n",
    "    'produced': [\n",
    "        {\"ReactionWheel\": \"commandedTorqueMagnitude\"},\n",
    "        {\"Thruster\": \"thrust\"}],\n",
    "    'engineIndex': 0,\n",
    "    'agents': [WILDFIRE_ID],\n",
    "}\n",
    ")\n",
    "GNC_STATE_ID = gnc_state_block.id\n",
    "cdh_state_block = scenario.SpontaneousExternalState.create(**{\n",
    "    'produced': [{\"CombinationalLogic\": \"activeSubroutine\"}],\n",
    "    'engineIndex': 1,\n",
    "    'agents': [WILDFIRE_ID],\n",
    "}\n",
    ")\n",
    "CDH_STATE_ID = cdh_state_block.id\n",
    "power_state_block = scenario.SpontaneousExternalState.create(**{\n",
    "    'consumed': [\n",
    "        {\"Battery\": \"soc\"},\n",
    "        {\"PowerProcessor\": \"outputPowers\"},\n",
    "        {\"SolarArray\": \"utilization\"}],\n",
    "    'engineIndex': 2,\n",
    "    'agents': [WILDFIRE_ID],\n",
    "}\n",
    ")\n",
    "POWER_STATE_ID = power_state_block.id"
   ]
  },
  {
   "cell_type": "markdown",
   "metadata": {},
   "source": [
    "### Clock Configuration\n",
    "\n",
    "By default, the scenario clock is configured to not limit the speed of the simulation. To make our game more interactive, we set the `ClockConfig` to run in real-time. This only needs to be done once as every subsequent simulation will now run in real-time until this setting is changed back to `realTime=False`.\n"
   ]
  },
  {
   "cell_type": "code",
   "execution_count": null,
   "metadata": {},
   "outputs": [],
   "source": [
    "clock_config = scenario.ClockConfig.get_first()  # get clock config block\n",
    "clock_config.update(realTime=True, syncTime=False)  # set real-time mode with syncTime off"
   ]
  },
  {
   "cell_type": "markdown",
   "metadata": {},
   "source": [
    "### Game Class Initialization\n",
    "\n",
    "The following code blocks will initialize the game class objects with information gathered from the Wildfire agent template. The template will provide information on the reaction wheels, thruster, and operational modes that are necessary for the game's behavior.\n"
   ]
  },
  {
   "cell_type": "code",
   "execution_count": null,
   "metadata": {},
   "outputs": [],
   "source": [
    "agent_block = scenario.block(WILDFIRE_ID)\n",
    "AGENT_TEMPLATE_ID = agent_block.templateRef  # get referenced agent template branch ID\n",
    "agent_template = sedaro.agent_template(AGENT_TEMPLATE_ID)  # get agent template"
   ]
  },
  {
   "cell_type": "markdown",
   "metadata": {},
   "source": [
    "#### Actuator Initialization\n",
    "\n",
    "We initialize the reaction wheel objects using the maximum torque and momentum for each corresponding `ReactionWheel` block on the agent template. The thruster object is initialized with the maximum thrust, exhaust body frame vector, and fuel tank capacity associated with the `Thruster` block on the agent template.\n",
    "\n",
    "_If you have changed the names (or orientations) of Wildfire's reaction wheels, you will need to update the `RW_names` dictionary in the block below as it uses these name values to identify each `ReactionWheel` block._\n"
   ]
  },
  {
   "cell_type": "code",
   "execution_count": null,
   "metadata": {},
   "outputs": [],
   "source": [
    "# Reaction Wheels\n",
    "RW_names = {\n",
    "    'X': \"RW-X\",\n",
    "    'Y': \"RW-Y\",\n",
    "    'Z': \"RW-Z\"\n",
    "}  # reaction wheel names for their corresponding axes\n",
    "RWs = {}\n",
    "reaction_wheel_IDs = agent_template.data['index']['ReactionWheel']  # list of reaction wheel IDs in agent template\n",
    "for rw_ID in reaction_wheel_IDs:  # iterate through reaction wheels to get rated torques\n",
    "    rw_block = agent_template.block(rw_ID)  # reaction wheel block\n",
    "    for axis, name in RW_names.items():\n",
    "        if rw_block.name == name:\n",
    "            RWs[axis] = RW(ratedTorque=rw_block.ratedTorque,\n",
    "                           ratedMomentum=rw_block.ratedMomentum)  # initialize reaction wheel\n",
    "            break\n",
    "\n",
    "# Thruster\n",
    "thruster_ID = agent_template.data['index']['Thruster'][0]  # thruster ID in agent template\n",
    "thruster_block = agent_template.block(thruster_ID)  # thruster block\n",
    "thruster = Thruster(maxThrust=thruster_block.maxThrust,  # maximum thrust of thruster\n",
    "                    exhaustVector=np.array(thruster_block.orientation.unitVector),  # thruster exhaust vector\n",
    "                    # capacity of thruster's fuel tanks\n",
    "                    capacity=sum(tank.capacity for tank in thruster_block.fuelReservoir.fuelTanks),\n",
    "                    )  # initialize thruster"
   ]
  },
  {
   "cell_type": "markdown",
   "metadata": {},
   "source": [
    "#### Routines\n",
    "\n",
    "To define which routines should be options for switching the active routine during the game, we query for all of the `Routine` blocks in the Wildfire agent template, find the first one named \"Root Routine\", and then get its subroutines. A routine will be selected with a corresponding number key and the root routine's `activeSubroutine` state will be set to that routines's ID to change the active subroutine within the simulation.\n"
   ]
  },
  {
   "cell_type": "code",
   "execution_count": null,
   "metadata": {},
   "outputs": [],
   "source": [
    "routines = agent_template.Routine.get_all()  # get all routine blocks\n",
    "root_routine = [routine for routine in routines if routine.name == \"Default Main Routine\"][0]  # get root routine block\n",
    "subroutine_blocks = [routine for routine in routines if routine in root_routine.subroutines]  # get subroutine blocks"
   ]
  },
  {
   "cell_type": "markdown",
   "metadata": {},
   "source": [
    "#### Game & Satellite Initialization\n",
    "\n",
    "The `Game` class object is now created with the Scenario's `ClockConfig` block passed to it and the `Satellite` class object is initialized with the list of subroutine blocks. This is the last necessary step in laying the foundation for the game loop to run.\n"
   ]
  },
  {
   "cell_type": "code",
   "execution_count": null,
   "metadata": {},
   "outputs": [],
   "source": [
    "game = Game(clock_config)  # initialize game object\n",
    "sat = Satellite(subroutine_blocks)  # initialize satellite object with subroutines"
   ]
  },
  {
   "cell_type": "markdown",
   "metadata": {},
   "source": [
    "## Running the Game\n",
    "\n",
    "Now that necessary variables and functions have been defined, scenario blocks have been configured, and game classes have been initialized with information from the agent template, we can finally deploy the simulation and begin the game loop.\n"
   ]
  },
  {
   "cell_type": "markdown",
   "metadata": {},
   "source": [
    "### Starting Simulation & Listener\n",
    "\n",
    "These blocks will start the simulation and the keyboard listener. Starting the simulation can take longer for more complicated scenarios, so you may need to give it some time (~30 seconds). After the simulation is started, the code block below will print a link that you can use to view the scenario results in a web browser.\n"
   ]
  },
  {
   "cell_type": "code",
   "execution_count": null,
   "metadata": {},
   "outputs": [],
   "source": [
    "# start the simulation and wait for it to initialize (this will take a few seconds)\n",
    "simulation_handle = simulation.start(wait=True)\n",
    "# print link to scenario results\n",
    "print(\n",
    "    f\"View the scenario results at {WEB_HOST}/#/agent-analyze/{SCENARIO_BRANCH_ID}/custom/playback?agentId={WILDFIRE_ID}\")"
   ]
  },
  {
   "cell_type": "code",
   "execution_count": null,
   "metadata": {},
   "outputs": [],
   "source": [
    "listener.start()  # start non-blocking keyboard listener in another thread"
   ]
  },
  {
   "cell_type": "markdown",
   "metadata": {},
   "source": [
    "### Game Loop\n",
    "\n",
    "This block contains the game loop, which will continue to run while the keyboard listener is active and the simulation is running. The game loop performs the following steps during each iteration:\n",
    "\n",
    "1.  Start the game loop timer\n",
    "2.  Set the simulation update variable (`sim_updated`) to `False`\n",
    "3.  Consume & produce the simulation state defined by the `SpontaneousExternalState` blocks\n",
    "4.  Unpack the simulation state tuples\n",
    "5.  Update game class attributes\n",
    "6.  Detect if the GNC engine time has updated\n",
    "7.  End game loop timer\n",
    "8.  Update display\n",
    "9.  If necessary, wait for the time remaining in the minimum game time loop\n",
    "\n",
    "If the game loop is completed in less time than defined by the `minLoopTime` attribute of the `Game` class, the loop will wait for the remainder of the minimum loop time and then begin the next loop iteration. The default controls are listed in the [Keyboard Input](#keyboard-input) section. The user interface outlined in the [User Interface](#user-interface) section will be displayed as the output of the game loop cell below. By default, the keyboard listener can be stopped (therefore ending the game loop) by pressing the Esc key.\n"
   ]
  },
  {
   "cell_type": "code",
   "execution_count": null,
   "metadata": {},
   "outputs": [],
   "source": [
    "while listener.running and simulation_handle.status()['status'] == 'RUNNING':\n",
    "    game.startLoop()  # start Game loop timer\n",
    "    sim_updated = False  # set simulation updated flag to False at the start of each loop\n",
    "\n",
    "    # Consume & produce simulation state\n",
    "    # query the simulation for the current GNC state\n",
    "    gnc_state = simulation_handle.consume(agent_id=WILDFIRE_ID, external_state_id=GNC_STATE_ID)\n",
    "    simulation_handle.produce(agent_id=WILDFIRE_ID,\n",
    "                              external_state_id=GNC_STATE_ID,\n",
    "                              values=(\n",
    "                                  [RWs['X'].torque, RWs['Y'].torque, RWs['Z'].torque],\n",
    "                                  [thruster.thrust]))\n",
    "    simulation_handle.produce(agent_id=WILDFIRE_ID,\n",
    "                              external_state_id=CDH_STATE_ID,\n",
    "                              values=([sat.activeRoutine.id,],))\n",
    "    # query the simulation for the current Power state\n",
    "    power_state = simulation_handle.consume(agent_id=WILDFIRE_ID, external_state_id=POWER_STATE_ID)\n",
    "\n",
    "    # Parse simulation output\n",
    "    (\n",
    "        time,  # simulation time [MJD]\n",
    "        attitude,  # attitude quaternion\n",
    "        lvlhAxes,  # LVLH to ECI rotation matrix\n",
    "        momentum,  # reaction wheel momentum list\n",
    "        wetMass,  # tank fuel list [kg]\n",
    "        apogee,  # apogee list [km]\n",
    "        perigee  # perigee list [km]\n",
    "    ) = gnc_state  # unpack the GNC state tuple\n",
    "    (\n",
    "        stateOfCharge,  # battery state of charge list\n",
    "        powerLoading,  # power processor output power list\n",
    "        solarUtilization,  # solar array utilization list\n",
    "    ) = power_state  # unpack the power state tuple\n",
    "\n",
    "    # Update fields\n",
    "    game.time = time  # update game time\n",
    "    sat.attitude = attitude  # update attitude quaternion\n",
    "    sat.lvlh2Eci = lvlhAxes  # update LVLH axes\n",
    "    sat.calcYawPitch(thruster)  # calculate yaw and pitch angles\n",
    "    for rw, m in zip(RWs.values(), momentum):\n",
    "        rw.momentum = m  # update reaction wheel momentum\n",
    "    thruster.fuel = sum(wetMass)  # update thruster fuel\n",
    "    sat.apogee = apogee[0]  # update apogee\n",
    "    sat.perigee = perigee[0]  # update perigee\n",
    "    sat.stateOfCharge = stateOfCharge[0]\n",
    "    sat.powerLoading = powerLoading[0]['total']  # update total power loading\n",
    "    totalUtilization = sum([(util if not np.isnan(util) else 0)\n",
    "                           for util in solarUtilization])  # sum utilization values, ignoring NaNs\n",
    "    sat.solarUtilization = totalUtilization / len(solarUtilization)  # update average solar array utilization\n",
    "\n",
    "    sim_updated = game.update()  # detect if the simulation time has changed & update Game clock\n",
    "    game.endLoop()  # end Game loop timer\n",
    "    display(sim_updated, game, sat, RWs, thruster)  # update display output\n",
    "    game.wait()  # wait if necessary"
   ]
  },
  {
   "cell_type": "markdown",
   "metadata": {},
   "source": [
    "### Stopping Simulation & Listener\n",
    "\n",
    "If they have not already stopped running after ending the game loop, the two blocks below will stop the keyboard listener and terminate the simulation.\n"
   ]
  },
  {
   "cell_type": "code",
   "execution_count": null,
   "metadata": {},
   "outputs": [],
   "source": [
    "listener.stop()  # stop keyboard listener if it hasn't been stopped already"
   ]
  },
  {
   "cell_type": "code",
   "execution_count": null,
   "metadata": {},
   "outputs": [],
   "source": [
    "try:\n",
    "    simulation_handle.terminate()  # stop simulation if it hasn't stopped already\n",
    "except:\n",
    "    pass"
   ]
  }
 ],
 "metadata": {
  "kernelspec": {
   "display_name": "Python 3",
   "language": "python",
   "name": "python3"
  },
  "language_info": {
   "codemirror_mode": {
    "name": "ipython",
    "version": 3
   },
   "file_extension": ".py",
   "mimetype": "text/x-python",
   "name": "python",
   "nbconvert_exporter": "python",
   "pygments_lexer": "ipython3",
   "version": "3.11.6"
  },
  "orig_nbformat": 4
 },
 "nbformat": 4,
 "nbformat_minor": 2
}
