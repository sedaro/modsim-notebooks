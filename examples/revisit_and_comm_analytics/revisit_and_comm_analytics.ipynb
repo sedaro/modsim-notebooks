{
 "cells": [
  {
   "cell_type": "markdown",
   "metadata": {},
   "source": [
    "# Introduction\n",
    "\n",
    "This notebook analyzes the results of an \"observer\" agent group and a \"target\" agent group from a simulation and produces plots to visualize the revisit and data handling behavior between them. To understand the required user inputs, read the [Analysis Configuration](#analysis-configuration) section."
   ]
  },
  {
   "cell_type": "markdown",
   "metadata": {},
   "source": [
    "## Contents\n",
    "\n",
    "This notebook produces the following plots:\n",
    "\n",
    "- Revisit\n",
    "  - [Revisit Timeline](#revisit-timeline)\n",
    "  - [Revisit Duration Distribution](#revisit-duration-distribution)\n",
    "- Data Transmit\n",
    "  - [Transmit Bit Rate by Agent](#transmit-bit-rate-by-agent)\n",
    "  - [Transmit Bit Rate by Target](#transmit-bit-rate-by-target)\n",
    "  - [Transmit Bit Rate by Data Type](#transmit-bit-rate-by-data-type)\n",
    "  - [Cumulative Data Transmitted by Agent](#cumulative-data-transmitted-by-agent)\n",
    "  - [Cumulative Data Transmitted by Target](#cumulative-data-transmitted-by-target)\n",
    "  - [Cumulative Data Transmitted by Data Type](#cumulative-data-transmitted-by-data-type)\n",
    "  - [Cumulative Data Transmitted to All Targets](#cumulative-data-transmitted-to-all-targets)\n",
    "- Data Receive\n",
    "  - [Receive Bit Rate by Agent](#receive-bit-rate-by-agent)\n",
    "  - [Receive Bit Rate by Target](#receive-bit-rate-by-target)\n",
    "  - [Receive Bit Rate by Data Type](#receive-bit-rate-by-data-type)\n",
    "  - [Cumulative Data Received by Agent](#cumulative-data-received-by-agent)\n",
    "  - [Cumulative Data Received by Target](#cumulative-data-received-by-target)\n",
    "  - [Cumulative Data Received by Data Type](#cumulative-data-received-by-data-type)\n",
    "  - [Cumulative Data Received to All Targets](#cumulative-data-received-from-all-targets)\n",
    "- Data Storage\n",
    "  - [Total Data Storage Usage by Agent](#total-data-storage-usage-by-agent)\n",
    "  - [Total Data Storage Usage by all Agents](#total-data-storage-usage-by-all-agents)\n",
    "  - [Data Storage Usage by Data Type](#data-storage-usage-by-data-type)\n",
    "  - [Data Minimum, Maximum, and Average Age by Agent](#data-minimum-maximum-and-average-age-by-agent)"
   ]
  },
  {
   "cell_type": "markdown",
   "metadata": {},
   "source": [
    "# Setup"
   ]
  },
  {
   "cell_type": "markdown",
   "metadata": {},
   "source": [
    "#### Package Installation and Import\n",
    "\n",
    "The following cell should install all necessary packages for this notebook."
   ]
  },
  {
   "cell_type": "code",
   "execution_count": null,
   "metadata": {},
   "outputs": [],
   "source": [
    "%pip install pandas plotly IPython ipywidgets nbformat\n",
    "%pip install \"sedaro>=4.17.3\""
   ]
  },
  {
   "cell_type": "code",
   "execution_count": 97,
   "metadata": {},
   "outputs": [],
   "source": [
    "import json\n",
    "from collections import defaultdict\n",
    "\n",
    "import pandas as pd\n",
    "import plotly.express as px\n",
    "from data_analysis import target_data_results\n",
    "from IPython.display import HTML, display\n",
    "from revisit_analysis import target_revisit_results, target_revisit_statistics\n",
    "from sedaro import SedaroApiClient\n",
    "from sedaro.modsim import data_scale_unit"
   ]
  },
  {
   "cell_type": "markdown",
   "metadata": {},
   "source": [
    "#### Important: Read Before Running\n",
    "\n",
    "This notebook requires that you have previously generated an API key in the web UI. That key should be stored in a file called `secrets.json` in the cloned `modsim-notebooks` directory with the following format:\n",
    "\n",
    "```json\n",
    "{\n",
    "  \"API_KEY\": \"<API_KEY>\"\n",
    "}\n",
    "```\n",
    "\n",
    "API keys grant full access to your repositories and should never be shared. If you think your API key has been compromised, you can revoke it in the user settings interface on the Sedaro website.\n"
   ]
  },
  {
   "cell_type": "code",
   "execution_count": 98,
   "metadata": {},
   "outputs": [],
   "source": [
    "with open('../../secrets.json', 'r') as file:\n",
    "    API_KEY = json.load(file)['API_KEY']\n",
    "\n",
    "with open('../../config.json', 'r') as file:\n",
    "    config = json.load(file)\n",
    "\n",
    "HOST = config['HOST']  # Sedaro instance URL\n",
    "\n",
    "sedaro = SedaroApiClient(API_KEY, HOST)"
   ]
  },
  {
   "cell_type": "markdown",
   "metadata": {},
   "source": [
    "### Analysis Configuration\n",
    "\n",
    "Below are fields that point the notebook to simulation data and drive analysis behavior.\n",
    "- `SCENARIO_BRANCH_ID`: The branch ID of the scenario that you would like to analyze.\n",
    "- `JOB_ID`: An optional field for the ID of the specific simulation job that you would like to analyze. If left as an empty string (`\"\"`), the most recent simulation from your Scenario will be analyzed.\n",
    "- `OBSERVER_AGENT_GROUP_ID`: The ID of the agent group that contains the agents that revisited, transmitted data to, and/or received data from the agents in the target agent group.\n",
    "- `TARGET_AGENT_GROUP_ID`: The ID of the target agent group that contains the agents that were revisited by, transmitted data to, and/or received data from the agents in the observer agent group.\n",
    "- `REVISIT_ANALYSIS`: Whether to perform revisit analysis from the observer agent group to the target agent group.\n",
    "- `REVISIT_ANALYSIS_CONDITION`: The name of the condition that is met when an observer agent revisits a target agent. There must be a `TargetGroupCondition` with this name on each of the observer agent templates.\n",
    "- `DATA_ANALYSIS`: Whether to perform data analysis for the observer agent group and between the observer agent group and the target agent group.\n",
    "- `DATA_ANALYSIS_DATA_TYPES`: The names of the data types that should be considered for data analysis. Data types that are not in this list will not affect data analysis results. If the list is empty, all data types will be considered.\n",
    "- `px.defaults.template`: Set to `\"plotly_dark\"` for dark themed plots or `\"plotly_white\"` for light themed plots.\n",
    "\n",
    "The fields are already filled with values that point towards [the Wildfire demo in the Sedaro Shared Demos workspace](https://satellite.sedaro.com/projects/PKCbxBlcdpFkvHxfKKRKqT). These will allow you to run this notebook without further configuration if you have an account with a valid API key."
   ]
  },
  {
   "cell_type": "code",
   "execution_count": 99,
   "metadata": {},
   "outputs": [],
   "source": [
    "SCENARIO_BRANCH_ID: str = \"PKCbxCXvQhCn8glwd5mkSj\"  # ID of the Scenario branch\n",
    "JOB_ID: str = \"\"  # optional ID of the simulation job\n",
    "\n",
    "OBSERVER_AGENT_GROUP_ID: str = \"NT08_XVROe2Va_eBgCK2k\"  # ID of the observer AgentGroup\n",
    "TARGET_AGENT_GROUP_ID: str = \"NTKAJurTrHOKg99QP6Hpk\"  # ID of the target AgentGroup\n",
    "\n",
    "\n",
    "REVISIT_ANALYSIS: bool = True  # if True, the revisit analysis will be performed\n",
    "REVISIT_ANALYSIS_CONDITION: str = \"Ground Station Elevation Angle\"  # name of the condition that indicates a revisit\n",
    "\n",
    "DATA_ANALYSIS: bool = True  # if True, the data analysis will be performed\n",
    "DATA_ANALYSIS_DATA_TYPES: list[str] = []  # names of the data types to include in the analysis, empty list includes all\n",
    "\n",
    "px.defaults.template = \"plotly_dark\"\n",
    "# px.defaults.template = \"plotly_white\""
   ]
  },
  {
   "cell_type": "markdown",
   "metadata": {},
   "source": [
    "# Analysis"
   ]
  },
  {
   "cell_type": "markdown",
   "metadata": {},
   "source": [
    "## Download Results"
   ]
  },
  {
   "cell_type": "code",
   "execution_count": 100,
   "metadata": {},
   "outputs": [],
   "source": [
    "scenario = sedaro.scenario(SCENARIO_BRANCH_ID)\n",
    "\n",
    "observer_agents = list(scenario.AgentGroup.get(OBSERVER_AGENT_GROUP_ID).agentAssociations.keys())\n",
    "target_agents = list(scenario.AgentGroup.get(TARGET_AGENT_GROUP_ID).agentAssociations.keys())\n",
    "# ^^^ this will get us the names for targets created during build to populate a TG, but not for targets which exist on\n",
    "# the model\n",
    "observer_to_target_mapping = defaultdict(dict)\n",
    "for observer_agent in observer_agents:\n",
    "    for agent_data, mapping_data in observer_agent.targetMapping.items():\n",
    "        for target_id in mapping_data['associatedTargets']:\n",
    "            observer_to_target_mapping[observer_agent.name][target_id] = agent_data.id\n",
    "observer_to_target_mapping = dict(observer_to_target_mapping) # default behavior ok for population, missing key should error below"
   ]
  },
  {
   "cell_type": "code",
   "execution_count": null,
   "metadata": {},
   "outputs": [],
   "source": [
    "results = scenario.simulation.results(JOB_ID)\n",
    "\n",
    "observer_results = {agent.name: results.agent(agent.name) for agent in observer_agents}\n",
    "\n",
    "results.summarize()"
   ]
  },
  {
   "cell_type": "markdown",
   "metadata": {},
   "source": [
    "## Perform Analysis"
   ]
  },
  {
   "cell_type": "code",
   "execution_count": 104,
   "metadata": {},
   "outputs": [],
   "source": [
    "if REVISIT_ANALYSIS or DATA_ANALYSIS:\n",
    "    observer_template_branches = {template_ref: sedaro.agent_template(template_ref)\n",
    "                                  for template_ref in set(agent.templateRef for agent in observer_agents)}\n",
    "    observer_agent_templates = {agent.name: observer_template_branches[agent.templateRef]\n",
    "                                for agent in observer_agents}\n",
    "\n",
    "if REVISIT_ANALYSIS:\n",
    "    revisit_condition_ids = {}\n",
    "    for agent_name, agent_template in observer_agent_templates.items():\n",
    "        revisit_condition_id = next((condition.id for condition in agent_template.TargetGroupCondition.get_all()\n",
    "                                     if condition.name == REVISIT_ANALYSIS_CONDITION), None)\n",
    "        if revisit_condition_id is None:\n",
    "            raise ValueError(\n",
    "                f\"The revisit analysis condition ({REVISIT_ANALYSIS_CONDITION}) is not present in the agent template for {agent_name}.\")\n",
    "        revisit_condition_ids[agent_name] = revisit_condition_id\n",
    "    target_revisits = target_revisit_results(observer_results, revisit_condition_ids,\n",
    "                                             {target.id: target.name for target in target_agents}, observer_to_target_mapping)\n",
    "    revisit_statistics = target_revisit_statistics(target_revisits)\n",
    "\n",
    "if DATA_ANALYSIS:\n",
    "    transmit_data_results, receive_data_results, data_storage_results = target_data_results(\n",
    "        observer_agent_templates, observer_results, {target.id: target.name for target in target_agents}, DATA_ANALYSIS_DATA_TYPES)"
   ]
  },
  {
   "cell_type": "markdown",
   "metadata": {},
   "source": [
    "# Results"
   ]
  },
  {
   "cell_type": "markdown",
   "metadata": {},
   "source": [
    "## Revisit"
   ]
  },
  {
   "cell_type": "markdown",
   "metadata": {},
   "source": [
    "#### Revisit Timeline"
   ]
  },
  {
   "cell_type": "code",
   "execution_count": null,
   "metadata": {},
   "outputs": [],
   "source": [
    "if REVISIT_ANALYSIS:\n",
    "    fig = px.timeline(target_revisits, x_start=\"Start\", x_end=\"End\",\n",
    "                      y=\"Target\", color=\"Agent\", title=\"Revisit Timeline\")\n",
    "    fig.show()\n",
    "    display(HTML(revisit_statistics.to_html(index=False)))\n",
    "else:\n",
    "    print(\"No revisit analysis performed.\")"
   ]
  },
  {
   "cell_type": "markdown",
   "metadata": {},
   "source": [
    "#### Revisit Duration Distribution"
   ]
  },
  {
   "cell_type": "code",
   "execution_count": null,
   "metadata": {},
   "outputs": [],
   "source": [
    "if REVISIT_ANALYSIS:\n",
    "    revisit_distribution_results = target_revisits.copy(deep=True)\n",
    "    # convert durations to datetime for plotly formatting\n",
    "    revisit_distribution_results.Duration = revisit_distribution_results.Duration + pd.to_datetime(\"1970-01-01\")\n",
    "    fig = px.violin(revisit_distribution_results, x=\"Target\", y=\"Duration\",\n",
    "                    box=True, title=\"Revisit Duration Distribution\")\n",
    "    fig.update_yaxes(tickformat=\"%M:%S\", title=\"Duration (MM:SS)\")\n",
    "    fig.show()\n",
    "else:\n",
    "    print(\"No revisit analysis performed.\")"
   ]
  },
  {
   "cell_type": "markdown",
   "metadata": {},
   "source": [
    "## Data Transmit Interfaces"
   ]
  },
  {
   "cell_type": "markdown",
   "metadata": {},
   "source": [
    "### Transmit Bit Rate"
   ]
  },
  {
   "cell_type": "markdown",
   "metadata": {},
   "source": [
    "#### Transmit Bit Rate by Agent"
   ]
  },
  {
   "cell_type": "code",
   "execution_count": null,
   "metadata": {},
   "outputs": [],
   "source": [
    "if DATA_ANALYSIS:\n",
    "    if not transmit_data_results.empty:\n",
    "        df = transmit_data_results.groupby([\"Time\", \"Agent\"])[\"Bit Rate\"].sum().reset_index()\n",
    "        fig = px.line(df, x=\"Time\", y=\"Bit Rate\", color=\"Agent\", title=\"Transmit Bit Rate by Agent\", line_shape=\"hv\")\n",
    "        scale, unit_prefix = data_scale_unit(df[\"Bit Rate\"].max())\n",
    "        fig.for_each_trace(lambda trace: trace.update(y=trace.y / scale))\n",
    "        fig.for_each_yaxis(lambda axis: axis.update(title=f\"Bit Rate ({unit_prefix}bps)\"))\n",
    "        fig.update_yaxes(tickformat=\".3s\")\n",
    "        fig.show()\n",
    "    else:\n",
    "        print(\"No transmit data.\")\n",
    "else:\n",
    "    print(\"No data analysis performed.\")"
   ]
  },
  {
   "cell_type": "markdown",
   "metadata": {},
   "source": [
    "#### Transmit Bit Rate by Target"
   ]
  },
  {
   "cell_type": "code",
   "execution_count": null,
   "metadata": {},
   "outputs": [],
   "source": [
    "if DATA_ANALYSIS:\n",
    "    if not transmit_data_results.empty:\n",
    "        df = transmit_data_results.groupby([\"Time\", \"Target\"])[\"Bit Rate\"].sum().reset_index()\n",
    "        fig = px.line(df, x=\"Time\", y=\"Bit Rate\", color=\"Target\", title=\"Transmit Bit Rate by Target\", line_shape=\"vh\")\n",
    "        scale, unit_prefix = data_scale_unit(df[\"Bit Rate\"].max())\n",
    "        fig.for_each_trace(lambda trace: trace.update(y=trace.y / scale))\n",
    "        fig.for_each_yaxis(lambda axis: axis.update(title=f\"Bit Rate ({unit_prefix}bps)\"))\n",
    "        fig.update_yaxes(tickformat=\".2s\")\n",
    "        fig.show()\n",
    "    else:\n",
    "        print(\"No transmit data.\")\n",
    "else:\n",
    "    print(\"No data analysis performed.\")"
   ]
  },
  {
   "cell_type": "markdown",
   "metadata": {},
   "source": [
    "#### Transmit Bit Rate by Data Type"
   ]
  },
  {
   "cell_type": "code",
   "execution_count": null,
   "metadata": {},
   "outputs": [],
   "source": [
    "if DATA_ANALYSIS:\n",
    "    if not transmit_data_results.empty:\n",
    "        df = transmit_data_results.groupby([\"Time\", \"Data Type\"]).sum().reset_index()\n",
    "        fig = px.line(df, x=\"Time\", y=\"Bit Rate\", color=\"Data Type\",\n",
    "                      title=\"Transmit Bit Rate by Data Type\", line_shape=\"hv\")\n",
    "        scale, unit_prefix = data_scale_unit(df[\"Bit Rate\"].max())\n",
    "        fig.for_each_trace(lambda trace: trace.update(y=trace.y / scale))\n",
    "        fig.for_each_yaxis(lambda axis: axis.update(title=f\"Bit Rate ({unit_prefix}bps)\"))\n",
    "        fig.update_yaxes(tickformat=\".2s\")\n",
    "        fig.show()\n",
    "    else:\n",
    "        print(\"No transmit data.\")\n",
    "else:\n",
    "    print(\"No data analysis performed.\")"
   ]
  },
  {
   "cell_type": "markdown",
   "metadata": {},
   "source": [
    "### Cumulative Data Transmitted"
   ]
  },
  {
   "cell_type": "markdown",
   "metadata": {},
   "source": [
    "#### Cumulative Data Transmitted by Agent"
   ]
  },
  {
   "cell_type": "code",
   "execution_count": null,
   "metadata": {},
   "outputs": [],
   "source": [
    "if DATA_ANALYSIS:\n",
    "    if not transmit_data_results.empty:\n",
    "        df = transmit_data_results.sort_values(by=\"Time\")\n",
    "        df[\"Cumulative Data Transmitted\"] = df.groupby(\"Agent\")[\"Data Transmitted\"].cumsum()\n",
    "        fig = px.line(df, x=\"Time\", y=\"Cumulative Data Transmitted\", color=\"Agent\",\n",
    "                      title=\"Cumulative Data Transmitted by Agent\", line_shape=\"hv\")\n",
    "        scale, unit_prefix = data_scale_unit(df[\"Cumulative Data Transmitted\"].max(), bytes=True)\n",
    "        fig.for_each_trace(lambda trace: trace.update(y=trace.y / scale))\n",
    "        fig.for_each_yaxis(lambda axis: axis.update(title=f\"Cumulative Data Transmitted ({unit_prefix}B)\"))\n",
    "        fig.update_yaxes(tickformat=\".3s\")\n",
    "        fig.show()\n",
    "    else:\n",
    "        print(\"No transmit data.\")\n",
    "else:\n",
    "    print(\"No data analysis performed.\")"
   ]
  },
  {
   "cell_type": "markdown",
   "metadata": {},
   "source": [
    "#### Cumulative Data Transmitted by Target"
   ]
  },
  {
   "cell_type": "code",
   "execution_count": null,
   "metadata": {},
   "outputs": [],
   "source": [
    "if DATA_ANALYSIS:\n",
    "    if not transmit_data_results.empty:\n",
    "        df = transmit_data_results.sort_values(by=\"Time\")\n",
    "        df[\"Cumulative Data Transmitted\"] = df.groupby(\"Target\")[\"Data Transmitted\"].cumsum()\n",
    "        fig = px.line(df, x=\"Time\", y=\"Cumulative Data Transmitted\", color=\"Target\",\n",
    "                      title=\"Cumulative Data Transmitted by Target\", line_shape=\"hv\")\n",
    "        scale, unit_prefix = data_scale_unit(df[\"Cumulative Data Transmitted\"].max(), bytes=True)\n",
    "        fig.for_each_trace(lambda trace: trace.update(y=trace.y / scale))\n",
    "        fig.for_each_yaxis(lambda axis: axis.update(title=f\"Cumulative Data Transmitted ({unit_prefix}B)\"))\n",
    "        fig.update_yaxes(tickformat=\".3s\")\n",
    "        fig.show()\n",
    "    else:\n",
    "        print(\"No transmit data.\")\n",
    "else:\n",
    "    print(\"No data analysis performed.\")"
   ]
  },
  {
   "cell_type": "markdown",
   "metadata": {},
   "source": [
    "#### Cumulative Data Transmitted by Data Type"
   ]
  },
  {
   "cell_type": "code",
   "execution_count": null,
   "metadata": {},
   "outputs": [],
   "source": [
    "if DATA_ANALYSIS:\n",
    "    if not transmit_data_results.empty:\n",
    "        df = transmit_data_results.sort_values(by=\"Time\")\n",
    "        df[\"Cumulative Data Transmitted\"] = df.groupby(\"Data Type\")[\"Data Transmitted\"].cumsum()\n",
    "        fig = px.line(df, x=\"Time\", y=\"Cumulative Data Transmitted\",\n",
    "                      color=\"Data Type\", title=\"Cumulative Data Transmitted by Data Type\", line_shape=\"hv\")\n",
    "        scale, unit_prefix = data_scale_unit(df[\"Cumulative Data Transmitted\"].max(), bytes=True)\n",
    "        fig.for_each_trace(lambda trace: trace.update(y=trace.y / scale))\n",
    "        fig.for_each_yaxis(lambda axis: axis.update(title=f\"Cumulative Data Transmitted ({unit_prefix}B)\"))\n",
    "        fig.update_yaxes(tickformat=\".3s\")\n",
    "        fig.show()\n",
    "    else:\n",
    "        print(\"No transmit data.\")\n",
    "else:\n",
    "    print(\"No data analysis performed.\")"
   ]
  },
  {
   "cell_type": "markdown",
   "metadata": {},
   "source": [
    "#### Cumulative Data Transmitted to All Targets"
   ]
  },
  {
   "cell_type": "code",
   "execution_count": null,
   "metadata": {},
   "outputs": [],
   "source": [
    "if DATA_ANALYSIS:\n",
    "    if not transmit_data_results.empty:\n",
    "        df = transmit_data_results.sort_values(by=\"Time\")\n",
    "        df[\"Cumulative Data Transmitted\"] = df[\"Data Transmitted\"].cumsum()\n",
    "        fig = px.line(df, x=\"Time\", y=\"Cumulative Data Transmitted\",\n",
    "                      title=\"Cumulative Data Transmitted to All Targets\", line_shape=\"hv\")\n",
    "        scale, unit_prefix = data_scale_unit(df[\"Cumulative Data Transmitted\"].max(), bytes=True)\n",
    "        fig.for_each_trace(lambda trace: trace.update(y=trace.y / scale, fill='tozeroy'))\n",
    "        fig.for_each_yaxis(lambda axis: axis.update(title=f\"Cumulative Data Transmitted ({unit_prefix}B)\"))\n",
    "        fig.update_yaxes(tickformat=\".3s\")\n",
    "        fig.show()\n",
    "    else:\n",
    "        print(\"No transmit data.\")\n",
    "else:\n",
    "    print(\"No data analysis performed.\")"
   ]
  },
  {
   "cell_type": "markdown",
   "metadata": {},
   "source": [
    "## Data Receive Interfaces"
   ]
  },
  {
   "cell_type": "markdown",
   "metadata": {},
   "source": [
    "### Receive Bit Rate"
   ]
  },
  {
   "cell_type": "markdown",
   "metadata": {},
   "source": [
    "#### Receive Bit Rate by Agent"
   ]
  },
  {
   "cell_type": "code",
   "execution_count": null,
   "metadata": {},
   "outputs": [],
   "source": [
    "if DATA_ANALYSIS:\n",
    "    if not receive_data_results.empty:\n",
    "        df = receive_data_results.groupby([\"Time\", \"Agent\"])[\"Bit Rate\"].sum().reset_index()\n",
    "        fig = px.line(df, x=\"Time\", y=\"Bit Rate\", color=\"Agent\", title=\"Receive Bit Rate by Agent\", line_shape=\"hv\")\n",
    "        scale, unit_prefix = data_scale_unit(df[\"Bit Rate\"].max())\n",
    "        fig.for_each_trace(lambda trace: trace.update(y=trace.y / scale))\n",
    "        fig.for_each_yaxis(lambda axis: axis.update(title=f\"Bit Rate ({unit_prefix}bps)\"))\n",
    "        fig.update_yaxes(tickformat=\".3s\")\n",
    "        fig.show()\n",
    "    else:\n",
    "        print(\"No receive data.\")\n",
    "else:\n",
    "    print(\"No data analysis performed.\")"
   ]
  },
  {
   "cell_type": "markdown",
   "metadata": {},
   "source": [
    "#### Receive Bit Rate by Target"
   ]
  },
  {
   "cell_type": "code",
   "execution_count": null,
   "metadata": {},
   "outputs": [],
   "source": [
    "if DATA_ANALYSIS:\n",
    "    if not receive_data_results.empty:\n",
    "        df = receive_data_results.groupby([\"Time\", \"Target\"])[\"Bit Rate\"].sum().reset_index()\n",
    "        fig = px.line(df, x=\"Time\", y=\"Bit Rate\", color=\"Target\", title=\"Receive Bit Rate by Target\", line_shape=\"vh\")\n",
    "        scale, unit_prefix = data_scale_unit(df[\"Bit Rate\"].max())\n",
    "        fig.for_each_trace(lambda trace: trace.update(y=trace.y / scale))\n",
    "        fig.for_each_yaxis(lambda axis: axis.update(title=f\"Bit Rate ({unit_prefix}bps)\"))\n",
    "        fig.update_yaxes(tickformat=\".2s\")\n",
    "        fig.show()\n",
    "    else:\n",
    "        print(\"No receive data.\")\n",
    "else:\n",
    "    print(\"No data analysis performed.\")"
   ]
  },
  {
   "cell_type": "markdown",
   "metadata": {},
   "source": [
    "#### Receive Bit Rate by Data Type"
   ]
  },
  {
   "cell_type": "code",
   "execution_count": null,
   "metadata": {},
   "outputs": [],
   "source": [
    "if DATA_ANALYSIS:\n",
    "    if not receive_data_results.empty:\n",
    "        df = receive_data_results.groupby([\"Time\", \"Data Type\"]).sum().reset_index()\n",
    "        fig = px.line(df, x=\"Time\", y=\"Bit Rate\", color=\"Data Type\",\n",
    "                      title=\"Receive Bit Rate by Data Type\", line_shape=\"hv\")\n",
    "        scale, unit_prefix = data_scale_unit(df[\"Bit Rate\"].max())\n",
    "        fig.for_each_trace(lambda trace: trace.update(y=trace.y / scale))\n",
    "        fig.for_each_yaxis(lambda axis: axis.update(title=f\"Bit Rate ({unit_prefix}bps)\"))\n",
    "        fig.update_yaxes(tickformat=\".2s\")\n",
    "        fig.show()\n",
    "    else:\n",
    "        print(\"No receive data.\")\n",
    "else:\n",
    "    print(\"No data analysis performed.\")"
   ]
  },
  {
   "cell_type": "markdown",
   "metadata": {},
   "source": [
    "### Cumulative Data Received"
   ]
  },
  {
   "cell_type": "markdown",
   "metadata": {},
   "source": [
    "#### Cumulative Data Received by Agent"
   ]
  },
  {
   "cell_type": "code",
   "execution_count": null,
   "metadata": {},
   "outputs": [],
   "source": [
    "if DATA_ANALYSIS:\n",
    "    if not receive_data_results.empty:\n",
    "        df = receive_data_results.sort_values(by=\"Time\")\n",
    "        df[\"Cumulative Data Received\"] = df.groupby(\"Agent\")[\"Data Received\"].cumsum()\n",
    "        fig = px.line(df, x=\"Time\", y=\"Cumulative Data Received\", color=\"Agent\",\n",
    "                      title=\"Cumulative Data Received by Agent\", line_shape=\"hv\")\n",
    "        scale, unit_prefix = data_scale_unit(df[\"Cumulative Data Received\"].max(), bytes=True)\n",
    "        fig.for_each_trace(lambda trace: trace.update(y=trace.y / scale))\n",
    "        fig.for_each_yaxis(lambda axis: axis.update(title=f\"Cumulative Data Received ({unit_prefix}B)\"))\n",
    "        fig.update_yaxes(tickformat=\".3s\")\n",
    "        fig.show()\n",
    "    else:\n",
    "        print(\"No receive data.\")\n",
    "else:\n",
    "    print(\"No data analysis performed.\")"
   ]
  },
  {
   "cell_type": "markdown",
   "metadata": {},
   "source": [
    "#### Cumulative Data Received by Target"
   ]
  },
  {
   "cell_type": "code",
   "execution_count": null,
   "metadata": {},
   "outputs": [],
   "source": [
    "if DATA_ANALYSIS:\n",
    "    if not receive_data_results.empty:\n",
    "        df = receive_data_results.sort_values(by=\"Time\")\n",
    "        df[\"Cumulative Data Received\"] = df.groupby(\"Target\")[\"Data Received\"].cumsum()\n",
    "        fig = px.line(df, x=\"Time\", y=\"Cumulative Data Received\", color=\"Target\",\n",
    "                      title=\"Cumulative Data Received by Target\", line_shape=\"hv\")\n",
    "        scale, unit_prefix = data_scale_unit(df[\"Cumulative Data Received\"].max(), bytes=True)\n",
    "        fig.for_each_trace(lambda trace: trace.update(y=trace.y / scale))\n",
    "        fig.for_each_yaxis(lambda axis: axis.update(title=f\"Cumulative Data Received ({unit_prefix}B)\"))\n",
    "        fig.update_yaxes(tickformat=\".3s\")\n",
    "        fig.show()\n",
    "    else:\n",
    "        print(\"No receive data.\")\n",
    "else:\n",
    "    print(\"No data analysis performed.\")"
   ]
  },
  {
   "cell_type": "markdown",
   "metadata": {},
   "source": [
    "#### Cumulative Data Received by Data Type"
   ]
  },
  {
   "cell_type": "code",
   "execution_count": null,
   "metadata": {},
   "outputs": [],
   "source": [
    "if DATA_ANALYSIS:\n",
    "    if not receive_data_results.empty:\n",
    "        df = receive_data_results.sort_values(by=\"Time\")\n",
    "        df[\"Cumulative Data Received\"] = df.groupby(\"Data Type\")[\"Data Received\"].cumsum()\n",
    "        fig = px.line(df, x=\"Time\", y=\"Cumulative Data Received\",\n",
    "                      color=\"Data Type\", title=\"Cumulative Data Received by Data Type\", line_shape=\"hv\")\n",
    "        scale, unit_prefix = data_scale_unit(df[\"Cumulative Data Received\"].max(), bytes=True)\n",
    "        fig.for_each_trace(lambda trace: trace.update(y=trace.y / scale))\n",
    "        fig.for_each_yaxis(lambda axis: axis.update(title=f\"Cumulative Data Received ({unit_prefix}B)\"))\n",
    "        fig.update_yaxes(tickformat=\".3s\")\n",
    "        fig.show()\n",
    "    else:\n",
    "        print(\"No receive data.\")\n",
    "else:\n",
    "    print(\"No data analysis performed.\")"
   ]
  },
  {
   "cell_type": "markdown",
   "metadata": {},
   "source": [
    "#### Cumulative Data Received from All Targets"
   ]
  },
  {
   "cell_type": "code",
   "execution_count": null,
   "metadata": {},
   "outputs": [],
   "source": [
    "if DATA_ANALYSIS:\n",
    "    if not receive_data_results.empty:\n",
    "        df = receive_data_results.sort_values(by=\"Time\")\n",
    "        df[\"Cumulative Data Received\"] = df[\"Data Received\"].cumsum()\n",
    "        fig = px.line(df, x=\"Time\", y=\"Cumulative Data Received\",\n",
    "                      title=\"Cumulative Data Received to All Targets\", line_shape=\"hv\")\n",
    "        scale, unit_prefix = data_scale_unit(df[\"Cumulative Data Received\"].max(), bytes=True)\n",
    "        fig.for_each_trace(lambda trace: trace.update(y=trace.y / scale, fill='tozeroy'))\n",
    "        fig.for_each_yaxis(lambda axis: axis.update(title=f\"Cumulative Data Received ({unit_prefix}B)\"))\n",
    "        fig.update_yaxes(tickformat=\".3s\")\n",
    "        fig.show()\n",
    "    else:\n",
    "        print(\"No receive data.\")\n",
    "else:\n",
    "    print(\"No data analysis performed.\")"
   ]
  },
  {
   "cell_type": "markdown",
   "metadata": {},
   "source": [
    "## Data Storage"
   ]
  },
  {
   "cell_type": "markdown",
   "metadata": {},
   "source": [
    "#### Total Data Storage Usage by Agent"
   ]
  },
  {
   "cell_type": "code",
   "execution_count": null,
   "metadata": {},
   "outputs": [],
   "source": [
    "if DATA_ANALYSIS:\n",
    "    if not data_storage_results.empty:\n",
    "        df = pd.DataFrame(data_storage_results.groupby([\"Time\", \"Agent\"])[\"Usage\"].sum().reset_index())\n",
    "        fig = px.line(df, x=\"Time\", y=\"Usage\", color=\"Agent\",\n",
    "                      title=\"Total Data Storage Usage by Agent\", line_shape=\"hv\")\n",
    "        scale, unit_prefix = data_scale_unit(df[\"Usage\"].max(), bytes=True)\n",
    "        fig.for_each_trace(lambda trace: trace.update(y=trace.y / scale))\n",
    "        fig.for_each_yaxis(lambda axis: axis.update(title=f\"Usage ({unit_prefix}B)\"))\n",
    "        fig.update_yaxes(tickformat=\".3s\")\n",
    "        fig.show()\n",
    "    else:\n",
    "        print(\"No data storage data.\")\n",
    "else:\n",
    "    print(\"No data analysis performed.\")"
   ]
  },
  {
   "cell_type": "markdown",
   "metadata": {},
   "source": [
    "#### Total Data Storage Usage by All Agents"
   ]
  },
  {
   "cell_type": "code",
   "execution_count": null,
   "metadata": {},
   "outputs": [],
   "source": [
    "if DATA_ANALYSIS:\n",
    "    if not data_storage_results.empty:\n",
    "        df = pd.DataFrame(data_storage_results.groupby(\"Time\")[\"Usage\"].sum()).reset_index()\n",
    "        df.rename(columns={\"Usage\": \"Total Usage\"}, inplace=True)\n",
    "        fig = px.line(df, x=\"Time\", y=\"Total Usage\", title=\"Total Data Storage Usage by All Agents\", line_shape=\"hv\")\n",
    "        scale, unit_prefix = data_scale_unit(df[\"Total Usage\"].max(), bytes=True)\n",
    "        fig.for_each_trace(lambda trace: trace.update(y=trace.y / scale, fill='tozeroy'))\n",
    "        fig.for_each_yaxis(lambda axis: axis.update(title=f\"Total Usage ({unit_prefix}B)\"))\n",
    "        fig.update_yaxes(tickformat=\".3s\")\n",
    "        fig.show()\n",
    "    else:\n",
    "        print(\"No data storage data.\")\n",
    "else:\n",
    "    print(\"No data analysis performed.\")"
   ]
  },
  {
   "cell_type": "markdown",
   "metadata": {},
   "source": [
    "#### Data Storage Usage by Data Type"
   ]
  },
  {
   "cell_type": "code",
   "execution_count": null,
   "metadata": {},
   "outputs": [],
   "source": [
    "if DATA_ANALYSIS:\n",
    "    if not data_storage_results.empty:\n",
    "        df = pd.DataFrame(data_storage_results.groupby([\"Time\", \"Data Type\"])[\"Usage\"].sum()).reset_index()\n",
    "        fig = px.line(df, x=\"Time\", y=\"Usage\", color=\"Data Type\",\n",
    "                      title=\"Total Data Storage Usage by Data Type\", line_shape=\"hv\")\n",
    "        scale, unit_prefix = data_scale_unit(df[\"Usage\"].max(), bytes=True)\n",
    "        fig.for_each_trace(lambda trace: trace.update(y=trace.y / scale))\n",
    "        fig.for_each_yaxis(lambda axis: axis.update(title=f\"Usage ({unit_prefix}B)\"))\n",
    "        fig.update_yaxes(tickformat=\".3s\")\n",
    "        fig.show()\n",
    "    else:\n",
    "        print(\"No data storage data.\")\n",
    "else:\n",
    "    print(\"No data analysis performed.\")"
   ]
  },
  {
   "cell_type": "markdown",
   "metadata": {},
   "source": [
    "#### Data Minimum, Maximum, and Average Age by Agent"
   ]
  },
  {
   "cell_type": "code",
   "execution_count": null,
   "metadata": {},
   "outputs": [],
   "source": [
    "if DATA_ANALYSIS:\n",
    "    if not data_storage_results.empty:\n",
    "        df = pd.DataFrame()\n",
    "        df[\"Time\"] = data_storage_results.groupby([\"Time\", \"Agent\"]).sum().reset_index()[\"Time\"]\n",
    "        df[\"Min. Age\"] = data_storage_results.groupby([\"Time\", \"Agent\"])[\"Min. Age\"].min().reset_index()[\"Min. Age\"]\n",
    "        df[\"Max. Age\"] = data_storage_results.groupby([\"Time\", \"Agent\"])[\"Max. Age\"].max().reset_index()[\"Max. Age\"]\n",
    "        df[\"Average Age\"] = data_storage_results.groupby([\"Time\", \"Agent\"]).apply(\n",
    "            lambda x: (x[\"Usage\"] * x[\"Average Age\"]).sum() / x[\"Usage\"].sum() if x[\"Usage\"].sum() != 0 else 0\n",
    "        ).reset_index(level=[0, 1], drop=True)\n",
    "        df[\"Agent\"] = data_storage_results.groupby([\"Time\", \"Agent\"]).first().reset_index()[\"Agent\"]\n",
    "        fig = px.line(df, x=\"Time\", y=[\"Min. Age\", \"Max. Age\"],\n",
    "                      color=\"Agent\", title=\"Data Minimum, Maximum, and Average Age by Agent\", line_shape=\"hv\")\n",
    "        fig.for_each_trace(lambda trace: trace.update(fill='tonexty', opacity=0.5,\n",
    "                                                      line={\"dash\": \"dot\"}, showlegend=False))\n",
    "        fig.add_traces(px.line(df, x=\"Time\", y=\"Average Age\", color=\"Agent\").data)\n",
    "        fig.for_each_trace(lambda trace: trace.update(y=trace.y / 60))\n",
    "        fig.for_each_yaxis(lambda axis: axis.update(title=f\"Age (min)\"))\n",
    "        fig.update_yaxes(tickformat=\".3s\")\n",
    "        fig.show()\n",
    "    else:\n",
    "        print(\"No data storage data.\")\n",
    "else:\n",
    "    print(\"No data analysis performed.\")"
   ]
  }
 ],
 "metadata": {
  "kernelspec": {
   "display_name": ".venv",
   "language": "python",
   "name": "python3"
  },
  "language_info": {
   "codemirror_mode": {
    "name": "ipython",
    "version": 3
   },
   "file_extension": ".py",
   "mimetype": "text/x-python",
   "name": "python",
   "nbconvert_exporter": "python",
   "pygments_lexer": "ipython3",
   "version": "3.11.6"
  }
 },
 "nbformat": 4,
 "nbformat_minor": 2
}
