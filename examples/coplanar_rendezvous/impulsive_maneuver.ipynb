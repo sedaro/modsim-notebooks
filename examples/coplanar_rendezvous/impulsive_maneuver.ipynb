{
 "cells": [
  {
   "cell_type": "markdown",
   "metadata": {},
   "source": [
    "# Sedaro Rendezous Tutorial Notebook \n",
    "Demonstrates using the Sedaro API  to calculate Hohmann Rendezous manevuers between two satelite using a Jupyter notebook.\n",
    "\n",
    "1. Manuever 1: Start a Hohmann transfer to raise the orbit of the chaser satelite to the same altitude as the target satelite.\n",
    "2. Manuever 2: Complete the Hohmann transfer to match the velocity of the target satelite.\n",
    "3. Manuever 3: Engage the Richard WARAT (Wicked Awesome Rendezous Approach Thrust) algorithm "
   ]
  },
  {
   "cell_type": "code",
   "execution_count": 1,
   "metadata": {},
   "outputs": [],
   "source": [
    "import sedaro\n",
    "import json\n",
    "import matplotlib.pyplot as plt\n",
    "import hohmann_utils as hohmann"
   ]
  },
  {
   "cell_type": "markdown",
   "metadata": {},
   "source": [
    "## Important: Read Before Running\n",
    "\n",
    "This notebook makes changes to agent and scenario branches indicated in the settings section. Ensure any changes to the target branches are saved prior to running this code. Sedaro recommends committing current changes and creating new branches in the target repositories to avoid loss of work.\n",
    "\n",
    "This notebook also requires that you have previously generated an API key in the web UI. That key should be stored in a file called `secrets.json` in the same directory as this notebook with the following format:\n",
    "\n",
    "```json\n",
    "{\n",
    "    \"API_KEY\": \"<API_KEY>\"\n",
    "}\n",
    "```\n",
    "\n",
    "API keys grant full access to your repositories and should never be shared. If you think your API key has been compromised, you can revoke it in the user settings interface on the Sedaro website."
   ]
  },
  {
   "cell_type": "markdown",
   "metadata": {},
   "source": [
    "## Sedaro python client setup\n",
    "Note: More information about the sedaro-python client can be found here: [https://github.com/sedaro/sedaro-python]\n",
    "\n",
    "\n",
    "In the next cell, adjust the following variables as needed\n",
    "- *Sedaro_api_host*\n",
    "- *Sedaro_api_token*"
   ]
  },
  {
   "cell_type": "code",
   "execution_count": 2,
   "metadata": {},
   "outputs": [],
   "source": [
    "Sedaro_api_host  = \"https://api.sedaro.com\" \n",
    "\n",
    "# Set your API token value either directly or via loading a secrets file\n",
    "# !! NOTE !!  Be careful not to check in your API Key into a source control repo  !! Note !!\n",
    "secretPath = '/Users/sedaro/Documents/sedaro/sedaro-satellite/secrets.json'\n",
    "with open(secretPath, 'r') as file:\n",
    "    Sedaro_api_token = json.load(file)['API_KEY']\n",
    "    \n",
    "sedaroAPI = sedaro.SedaroApiClient(api_key=Sedaro_api_token, host=Sedaro_api_host)"
   ]
  },
  {
   "cell_type": "markdown",
   "metadata": {},
   "source": [
    "Resources:\n",
    "- Fundamentals of Astrodynamics 1971 (Bate, Mueller, White) pg 163, 362\n",
    "- Fundamentals of Astrodynamics and Applications Fifth Edition 2022 (Vallado) pg 329, 367\n",
    " "
   ]
  },
  {
   "cell_type": "markdown",
   "metadata": {},
   "source": [
    "Orbits based on the Vanguard 1 TLE but made circular"
   ]
  },
  {
   "cell_type": "markdown",
   "metadata": {},
   "source": [
    "\n",
    "```\n",
    "# TLE - 20Mar2024 from https://celestrak.org/NORAD/elements/gp.php?CATNR=5\n",
    "VANGUARD 1              \n",
    "1 00005U 58002B   24078.99142898  .00000601  00000+0  79998-3 0  9992\n",
    "2 00005  34.2449 325.2683 1840098  41.3159 331.2952 10.85238290354123\n",
    "```\n"
   ]
  },
  {
   "cell_type": "code",
   "execution_count": 5,
   "metadata": {},
   "outputs": [],
   "source": [
    "workspace_id = \"PLtYYcbJgKLbL8bcWbPG62\"\n",
    "\n",
    "scenario_branch_id = \"PLtYcxShg3qwn87bVn4nv7\"\n",
    "scenario_branch = sedaroAPI.scenario(scenario_branch_id)\n",
    "\n",
    "chaser_agent_branch_id = \"PLtYdbNnDYHRXhZRphdr6k\"\n",
    "chaser_agent_branch = sedaroAPI.agent_template(chaser_agent_branch_id)\n",
    "\n",
    "target_agent_branch_id = \"PLtYdJg3f28MDqp3Jn5GRw\"\n",
    "target_agent_branch = sedaroAPI.agent_template(target_agent_branch_id)\n"
   ]
  },
  {
   "cell_type": "markdown",
   "metadata": {},
   "source": [
    "# Overview Steps:"
   ]
  },
  {
   "attachments": {
    "image.png": {
     "image/png": "[encoded data removed]"
    }
   },
   "cell_type": "markdown",
   "metadata": {},
   "source": [
    "```mermaid\n",
    "flowchart TB\n",
    "  node_1(\"Orbits\")\n",
    "  node_2(\"Agents\")\n",
    "  node_3(\"Hohmann Calculations\")\n",
    "  node_4[\"Delta V Maneuvers\"]\n",
    "  node_5[\"Simulation\"]\n",
    "  node_1 --> node_3\n",
    "  node_1 --> node_2\n",
    "  node_3 --> node_4\n",
    "  node_4 --> node_2\n",
    "  node_2 --> node_5\n",
    "```\n",
    "\n",
    "![image.png](attachment:image.png)"
   ]
  },
  {
   "cell_type": "markdown",
   "metadata": {},
   "source": [
    "# Define the agents and its orbit\n",
    "Use vanguard OE as a basis for the two coplaner circular orbits"
   ]
  },
  {
   "cell_type": "code",
   "execution_count": 25,
   "metadata": {},
   "outputs": [],
   "source": [
    "chaser_radius_km = 7000.0\n",
    "target_radius_km = 10000.0\n",
    "circuliar_eccentricity = 0.0\n",
    "inclination_deg = 34.2449 # vanguard\n",
    "raan_deg = 325.2683 # vanguard\n",
    "argument_of_latitude_deg = 331 # vanguard\n",
    "# helper constants\n",
    "km_per_ER = 6378.1363\n",
    "earth_u_ER = 1\n",
    "sec_per_TU = 806.811"
   ]
  },
  {
   "cell_type": "markdown",
   "metadata": {},
   "source": [
    "Delete Existing agent and orbits"
   ]
  },
  {
   "cell_type": "code",
   "execution_count": 94,
   "metadata": {},
   "outputs": [],
   "source": [
    "\n",
    "# delete_existing:\n",
    "agent_ids = [entry.id for entry in scenario_branch.Agent.get_all()]\n",
    "orbit_ids = [entry.id for entry in scenario_branch.Orbit.get_all()]\n",
    "if len(agent_ids) + len(orbit_ids) > 0:\n",
    "    scenario_branch.crud(delete=(agent_ids + orbit_ids))\n"
   ]
  },
  {
   "cell_type": "markdown",
   "metadata": {},
   "source": [
    "create the agents and assign orbits"
   ]
  },
  {
   "cell_type": "code",
   "execution_count": 95,
   "metadata": {},
   "outputs": [],
   "source": [
    "chaser_orbit = dict(\n",
    "        type='PropagatedOrbitKinematics',\n",
    "        initialStateDefType='ORBITAL_ELEMENTS',\n",
    "        initialStateDefParams={\n",
    "            'a': chaser_radius_km,\n",
    "            'e': circuliar_eccentricity,\n",
    "            'inc': inclination_deg,\n",
    "            'raan': raan_deg,\n",
    "            'om': 0.0,\n",
    "            'nu': argument_of_latitude_deg\n",
    "        }\n",
    "    )\n",
    "\n",
    "\n",
    "target_orbit = dict(   \n",
    "        type='PropagatedOrbitKinematics',\n",
    "        initialStateDefType='ORBITAL_ELEMENTS',\n",
    "        initialStateDefParams={\n",
    "            'a': target_radius_km,\n",
    "            'e': circuliar_eccentricity,\n",
    "            'inc': inclination_deg,\n",
    "            'raan': raan_deg,\n",
    "            'om': 0.0,\n",
    "            'nu': argument_of_latitude_deg\n",
    "        }\n",
    "    )\n",
    " "
   ]
  },
  {
   "cell_type": "code",
   "execution_count": 96,
   "metadata": {},
   "outputs": [],
   "source": [
    "\n",
    "orbits = [chaser_orbit, target_orbit]\n",
    "result = scenario_branch.crud(blocks=orbits)\n",
    "orbit_ids = result['crud']['blocks']\n"
   ]
  },
  {
   "cell_type": "code",
   "execution_count": 97,
   "metadata": {},
   "outputs": [],
   "source": [
    "   \n",
    "chaser_agent = dict(\n",
    "        type='TemplatedAgent',\n",
    "        name=f'Chaser',\n",
    "        templateRef = chaser_agent_branch_id\n",
    "    )\n",
    "target_agent = dict(\n",
    "        type='TemplatedAgent',\n",
    "        name=f'Target',\n",
    "        templateRef = target_agent_branch_id\n",
    "    )\n"
   ]
  },
  {
   "cell_type": "code",
   "execution_count": 98,
   "metadata": {},
   "outputs": [],
   "source": [
    "\n",
    "agents = [chaser_agent, target_agent]\n",
    "for orbit_id, agent in zip(orbit_ids, agents):\n",
    "    agent['kinematics'] = orbit_id\n",
    "result = scenario_branch.crud(blocks=agents)\n",
    "agent_ids = result['crud']['blocks']\n"
   ]
  },
  {
   "cell_type": "code",
   "execution_count": 99,
   "metadata": {},
   "outputs": [
    {
     "data": {
      "text/plain": [
       "('PLxJwpyLdr7FdzzD6SHHB4', 'PLxJwpyNdz2y29TXxc7YGj')"
      ]
     },
     "execution_count": 99,
     "metadata": {},
     "output_type": "execute_result"
    }
   ],
   "source": [
    "\n",
    "chaser_agent_id = agent_ids[0]\n",
    "target_agent_id = agent_ids[1]\n",
    "chaser_agent_id, target_agent_id"
   ]
  },
  {
   "cell_type": "markdown",
   "metadata": {},
   "source": [
    "Calc the two hohmann manuever times and delta V"
   ]
  },
  {
   "cell_type": "code",
   "execution_count": 100,
   "metadata": {},
   "outputs": [],
   "source": [
    "\n",
    "target_position = target_radius_km\n",
    "chaser_position = chaser_radius_km\n",
    "phase_angle_deg = -80.0 # setup the orbital elements to make this true at start of the simulation "
   ]
  },
  {
   "cell_type": "markdown",
   "metadata": {},
   "source": [
    "Convert to ER units"
   ]
  },
  {
   "cell_type": "code",
   "execution_count": 101,
   "metadata": {},
   "outputs": [
    {
     "data": {
      "text/plain": [
       "(1.0974992804716324, 1.567856114959475)"
      ]
     },
     "execution_count": 101,
     "metadata": {},
     "output_type": "execute_result"
    }
   ],
   "source": [
    "# convert the radii to canonical units\n",
    "a_chaser_ER = hohmann.calc_radii_canonical_units(chaser_radius_km)\n",
    "a_target_ER = hohmann.calc_radii_canonical_units(target_radius_km) \n",
    "a_chaser_ER, a_target_ER"
   ]
  },
  {
   "cell_type": "markdown",
   "metadata": {},
   "source": [
    "Calculate the wait time till the first transfer orbit burn "
   ]
  },
  {
   "cell_type": "code",
   "execution_count": 102,
   "metadata": {},
   "outputs": [
    {
     "data": {
      "text/plain": [
       "12462.670392296208"
      ]
     },
     "execution_count": 102,
     "metadata": {},
     "output_type": "execute_result"
    }
   ],
   "source": [
    "wait_seconds_to_dv1 = hohmann.calc_hohmann_transfer_wait_time(a_chaser_ER, a_target_ER, phase_angle_deg, k=1)*sec_per_TU\n",
    "wait_seconds_to_dv1"
   ]
  },
  {
   "cell_type": "markdown",
   "metadata": {},
   "source": [
    "and how long until dv2"
   ]
  },
  {
   "cell_type": "code",
   "execution_count": 103,
   "metadata": {},
   "outputs": [
    {
     "data": {
      "text/plain": [
       "3899.504072553566"
      ]
     },
     "execution_count": 103,
     "metadata": {},
     "output_type": "execute_result"
    }
   ],
   "source": [
    "transfer_orbit_time_dv1_to_dv2_secs =hohmann.calc_hohmann_transfer_time(a_chaser_ER, a_target_ER)*sec_per_TU\n",
    "transfer_orbit_time_dv1_to_dv2_secs"
   ]
  },
  {
   "cell_type": "markdown",
   "metadata": {},
   "source": [
    "and the actual delta V burn amounts"
   ]
  },
  {
   "cell_type": "code",
   "execution_count": 104,
   "metadata": {},
   "outputs": [
    {
     "data": {
      "text/plain": [
       "(0.6387906775042261, 0.5840903571011151, 1.2228810346053414)"
      ]
     },
     "execution_count": 104,
     "metadata": {},
     "output_type": "execute_result"
    }
   ],
   "source": [
    "dv_start, dv_end = hohmann.calc_hohmann_transfer_dvs(a_chaser_ER, a_target_ER)\n",
    "total_delta_v_ERperTU = dv_start + dv_end \n",
    "dv_start *= Earth_radius_km/sec_per_TU\n",
    "dv_end *= Earth_radius_km/sec_per_TU\n",
    "total_delta = dv_start + dv_end\n",
    "\n",
    "dv_start, dv_end, total_delta"
   ]
  },
  {
   "cell_type": "markdown",
   "metadata": {},
   "source": [
    "Set the first impulsive burn along the velocity vector to enter transfer orbit\n",
    "chaser_agent_branch"
   ]
  },
  {
   "cell_type": "code",
   "execution_count": 105,
   "metadata": {},
   "outputs": [],
   "source": [
    "chase_first_dv = dict(\n",
    "    type='ImpulsiveDeltaVAlgorithm',\n",
    "    name=\"Delta V1 @ T1\",\n",
    "    #agent=chaser_agent_id,\n",
    "    epoch={'s':wait_seconds_to_dv1},\n",
    "    delta=[0, dv_start, 0]\n",
    ")\n",
    "\n",
    "chase_second_dv = dict(\n",
    "    type='ImpulsiveDeltaVAlgorithm',\n",
    "    name=\"Delta V2 @ T2\",\n",
    "    #agent=chaser_agent_id,\n",
    "    epoch={'s':wait_seconds_to_dv1 + transfer_orbit_time_dv1_to_dv2_secs},\n",
    "    delta=[0, dv_end, 0]\n",
    ")"
   ]
  },
  {
   "cell_type": "markdown",
   "metadata": {},
   "source": [
    "First delete existing Burns"
   ]
  },
  {
   "cell_type": "code",
   "execution_count": 106,
   "metadata": {},
   "outputs": [],
   "source": [
    "burn_ids = [entry.id for entry in chaser_agent_branch.ImpulsiveDeltaVAlgorithm.get_all()]\n",
    "if len(burn_ids) > 0:\n",
    "    chaser_agent_branch.crud(delete=(burn_ids))"
   ]
  },
  {
   "cell_type": "code",
   "execution_count": 107,
   "metadata": {},
   "outputs": [],
   "source": [
    "burns = [chase_first_dv, chase_second_dv]\n",
    "result = chaser_agent_branch.crud(blocks=burns)\n"
   ]
  },
  {
   "cell_type": "code",
   "execution_count": 108,
   "metadata": {},
   "outputs": [
    {
     "data": {
      "text/plain": [
       "['PLxBzFxMZ3FKVvCBtTH6C5',\n",
       " 'PLxC4NqXlgXjkdKyzp82Mb',\n",
       " 'PLxJx3SPMqCNHjB7LghmGw',\n",
       " 'PLxJx3SRPwQWtggfTMyR5V']"
      ]
     },
     "execution_count": 108,
     "metadata": {},
     "output_type": "execute_result"
    }
   ],
   "source": [
    "\n",
    "burn_ids = result['crud']['blocks']\n",
    "burn_ids"
   ]
  },
  {
   "cell_type": "markdown",
   "metadata": {},
   "source": [
    "Run the Sim"
   ]
  },
  {
   "cell_type": "code",
   "execution_count": 109,
   "metadata": {},
   "outputs": [
    {
     "name": "stdout",
     "output_type": "stream",
     "text": [
      "[■■■■■■■■■■■■■■■■■■■■■■■■■■■■■■■■■■■■■■■■■■■■■■■□□□] (94.27%)\r"
     ]
    },
    {
     "name": "stderr",
     "output_type": "stream",
     "text": [
      "Downloading...: 100%|██████████[00:01<00:00]"
     ]
    },
    {
     "name": "stdout",
     "output_type": "stream",
     "text": [
      "---------------------------------------------------------------------------\n",
      "                      Sedaro Simulation Result Summary                     \n",
      "---------------------------------------------------------------------------\n",
      "✅ Simulation succeeded after 36.0s\n",
      "\n",
      "🛰️ Templated Agents \n",
      "    • Chaser\n",
      "    • Target\n",
      "---------------------------------------------------------------------------\n",
      "❓ Query agent results with .agent(<NAME>)\n"
     ]
    },
    {
     "name": "stderr",
     "output_type": "stream",
     "text": [
      "\n"
     ]
    }
   ],
   "source": [
    "sim = scenario_branch.simulation\n",
    "# Start scenario\n",
    "sim.start()\n",
    "\n",
    "# Wait for it to finish, then get results\n",
    "results = sim.results_poll()\n",
    "\n",
    "# Summarize results\n",
    "results.summarize()"
   ]
  },
  {
   "cell_type": "markdown",
   "metadata": {},
   "source": [
    "Load results and analyse"
   ]
  },
  {
   "cell_type": "code",
   "execution_count": 42,
   "metadata": {},
   "outputs": [
    {
     "data": {
      "image/png": "[encoded data removed]",
      "text/plain": [
       "<Figure size 640x480 with 1 Axes>"
      ]
     },
     "metadata": {},
     "output_type": "display_data"
    },
    {
     "data": {
      "image/png": "[encoded data removed]",
      "text/plain": [
       "<Figure size 640x480 with 1 Axes>"
      ]
     },
     "metadata": {},
     "output_type": "display_data"
    }
   ],
   "source": [
    "results.agent('Target').block('YddJw9jfT-IveoP86XQjA').orbitalElements.a.plot()\n",
    "results.agent('Chaser').block('YddJw9jfT-IveoP86XQjA').orbitalElements.a.plot()"
   ]
  },
  {
   "cell_type": "markdown",
   "metadata": {},
   "source": [
    "Cleanup"
   ]
  },
  {
   "cell_type": "code",
   "execution_count": null,
   "metadata": {},
   "outputs": [],
   "source": [
    "# Delete created Agents and Orbits\n",
    "scenario_branch.crud(delete=agent_ids + orbit_ids)"
   ]
  },
  {
   "cell_type": "code",
   "execution_count": 44,
   "metadata": {},
   "outputs": [],
   "source": [
    "# delete the Maneuvers\n",
    "burn_ids = [entry.id for entry in chaser_agent_branch.ImpulsiveDeltaVAlgorithm.get_all()]\n",
    "if len(burn_ids) > 0:\n",
    "    chaser_agent_branch.crud(delete=(burn_ids))"
   ]
  },
  {
   "cell_type": "code",
   "execution_count": null,
   "metadata": {},
   "outputs": [],
   "source": []
  }
 ],
 "metadata": {
  "kernelspec": {
   "display_name": "Python 3",
   "language": "python",
   "name": "python3"
  },
  "language_info": {
   "codemirror_mode": {
    "name": "ipython",
    "version": 3
   },
   "file_extension": ".py",
   "mimetype": "text/x-python",
   "name": "python",
   "nbconvert_exporter": "python",
   "pygments_lexer": "ipython3",
   "version": "3.10.13"
  }
 },
 "nbformat": 4,
 "nbformat_minor": 2
}
