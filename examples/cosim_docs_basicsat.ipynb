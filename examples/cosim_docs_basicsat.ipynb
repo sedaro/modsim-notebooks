{
 "cells": [
  {
   "cell_type": "markdown",
   "metadata": {
    "tags": [
     "remove_cell"
    ],
    "vscode": {
     "languageId": "plaintext"
    }
   },
   "source": [
    "# Cosimulation Documentation Notebook\n",
    "This notebook serves as documentation and testing for the cosimulation and `ExternalState` blocks in Sedaro. This notebook starts a simulation of the Wildfire scenario and interacts with it through the cosimulation interface."
   ]
  },
  {
   "cell_type": "markdown",
   "metadata": {
    "tags": [
     "remove_cell"
    ]
   },
   "source": [
    "## Setup\n"
   ]
  },
  {
   "cell_type": "markdown",
   "metadata": {
    "tags": [
     "remove_cell"
    ]
   },
   "source": [
    "#### Important: Read Before Running\n",
    "\n",
    "These notebooks may make changes to agent and scenario branches in your account. Ensure any changes to the target branches are saved prior to running any code. Sedaro recommends committing current work and creating new branches in the target repositories to avoid loss of work.\n",
    "\n",
    "These notebooks also require that you have previously generated an API key in the web UI. That key should be stored in a file called `secrets.json` in the same directory as these notebooks with the following format:\n",
    "\n",
    "```json\n",
    "{\n",
    "  \"API_KEY\": \"<API_KEY>\"\n",
    "}\n",
    "```\n",
    "\n",
    "API keys grant full access to your repositories and should never be shared. If you think your API key has been compromised, you can revoke it in the user settings interface on the Sedaro website.\n"
   ]
  },
  {
   "cell_type": "code",
   "execution_count": 73,
   "metadata": {
    "tags": [
     "remove_cell"
    ]
   },
   "outputs": [],
   "source": [
    "import json\n",
    "\n",
    "with open('../secrets.json', 'r') as file:\n",
    "    API_KEY = json.load(file)['API_KEY']\n",
    "\n",
    "with open('../config.json', 'r') as file:\n",
    "    config = json.load(file)\n",
    "\n",
    "# Obtain these IDs from the branch list within each repository and add to config.json\n",
    "SCENARIO_BRANCH_ID = config['BASICSAT']['SCENARIO_BRANCH_ID']                # ID of the scenario branch\n",
    "BASICSAT1_ID = \"PQQtlQggyzHgX2y9zyT5Kw\"                                      # Wildfire ID (should not need changing)\n",
    "BASICSAT2_ID = \"PQQtlyCFycdBcPR7TDJvDq\"\n",
    "HOST = config['HOST']                                                        # Sedaro instance URL\n",
    "WEB_HOST = config['WEB_HOST']                                                # Sedaro web URL\n"
   ]
  },
  {
   "cell_type": "markdown",
   "metadata": {},
   "source": [
    "# Cosimulation in Sedaro\n",
    "In Sedaro, *cosimulation* refers to the ablity of a running simulation to interact with hardware, software, and other simulations outside Sedaro. This is achieved through the creation of cosimulation [blocks](https://docs.sedaro.com/KeyConcepts/blocks), which use the query language to specify a set of consumed and produced values for a given cosimulation interface.\n",
    "\n",
    "## Cosimulation modes\n",
    "Each cosimulation interface is either *per-round*, meaning it consumes simulation data and produces a new output at every timestep, or *spontaneous*, meaning that it can produce and consume state at any time. If the simulator state depends on data provided by a per-round cosimulation interface, the simulation will block until the cosimulator returns. \n",
    "\n",
    "Spontaneous cosimulation is recommended for real-time simulations. Produced spontaneous state is timestamped, and will affect the simulation at the round at or immediately following the timestamp. Spontaneous state production is also unique in that it is not required to ever provide a value and can remain optionally unused during a simulation. In this case, the simulation will continue to consume the initial value for the state until a new value is provided.\n",
    "\n",
    "Each cosimulation interface is independent meaning some may be Per Round while others are Spontaneous. This also means that individual cosimulators can consume/produce state simultaneously over different interfaces."
   ]
  },
  {
   "cell_type": "markdown",
   "metadata": {},
   "source": [
    "## Connecting to the Sedaro API\n",
    "To connect to the Sedaro API, you need to have generated an API key in the web UI for your instance. API keys grant full access to your repositories and should never be shared. If you think your API key has been compromised, you can revoke it in the user settings interface on the Sedaro website.\n",
    "\n",
    "Once you have the API key, you can create a SedaroApiClient object which will connect to the API and handle future communication."
   ]
  },
  {
   "cell_type": "code",
   "execution_count": 74,
   "metadata": {},
   "outputs": [],
   "source": [
    "from sedaro import SedaroApiClient\n",
    "\n",
    "# We recommend loading your API key from an environment variable or configuration file.\n",
    "sedaro = SedaroApiClient(host=HOST, api_key=API_KEY)"
   ]
  },
  {
   "cell_type": "markdown",
   "metadata": {},
   "source": [
    "## Selecting and interacting with a scenario branch\n",
    "Cosimulation blocks are defined at the scenario level, which allows them to be used without modifying agent templates that may be used across multiple scenarios. To add cosimulation blocks to your scenario, you'll need to know the id of the branch you want to modify. For this example, we'll be starting with the BasicSat demo scenario. You may wish to set it to run in real time."
   ]
  },
  {
   "cell_type": "code",
   "execution_count": 75,
   "metadata": {},
   "outputs": [],
   "source": [
    "# Replace SCENARIO_BRANCH_ID with an ID copied from the web UI\n",
    "scenario = sedaro.scenario(SCENARIO_BRANCH_ID)"
   ]
  },
  {
   "cell_type": "code",
   "execution_count": 76,
   "metadata": {},
   "outputs": [],
   "source": [
    "cosim_blocks = dict()"
   ]
  },
  {
   "cell_type": "markdown",
   "metadata": {},
   "source": [
    "## Creating a cosimulation block\n",
    "New blocks can be added to the scenario via the `scenario` object created above. The `scenario` object contains a field for each concrete block type available on scenarios, and those have a `create` method that fills in the data for a specific block and returns a handle to it. Each cosimulation block specifies a set of agents to run on, what engine to use within those agents, and a set of consumed inputs and produced outputs. The agents are specified as a list of IDs, the engine by its name, and the inputs and outputs by query strings."
   ]
  },
  {
   "cell_type": "markdown",
   "metadata": {},
   "source": [
    "# SedaroQL queries\n"
   ]
  },
  {
   "cell_type": "markdown",
   "metadata": {},
   "source": [
    "## Accessing blocks and state variables"
   ]
  },
  {
   "cell_type": "markdown",
   "metadata": {},
   "source": [
    "### Specifying a block by its ID\n",
    "To get a specific block, use the `block!(id)` syntax, with the block's ID as a quoted string. By itself, this will result in the block's ID, but can also be used with other operators that expect a block."
   ]
  },
  {
   "cell_type": "markdown",
   "metadata": {},
   "source": [
    "### Accessing state from a block\n",
    "To access state from a block, use the `.` operator. When the left-hand side is a block and the right-hand side is the name of a field, it will get the value of that field."
   ]
  },
  {
   "cell_type": "code",
   "execution_count": null,
   "metadata": {},
   "outputs": [],
   "source": [
    "cosim_blocks[\"active_subroutine\"] = scenario.SpontaneousExternalState.create(\n",
    "    consumed='''(\n",
    "        block!(\"PLCZKQWpjfNLcRbLg65yw6\").activeSubroutine,\n",
    "    )''',\n",
    "    produced='''()''',\n",
    "    engine='cdh',\n",
    "    agents=[BASICSAT1_ID]\n",
    ")"
   ]
  },
  {
   "cell_type": "markdown",
   "metadata": {},
   "source": [
    "### Accessing state from the agent root\n",
    "Certain fields such as position and velocity are part of the agent's root block. To access the root block, use the `root!` keyword."
   ]
  },
  {
   "cell_type": "code",
   "execution_count": null,
   "metadata": {},
   "outputs": [],
   "source": [
    "cosim_blocks[\"root_position_velocity\"] = scenario.SpontaneousExternalState.create(\n",
    "    consumed='''(\n",
    "        root!.position,\n",
    "        root!.velocity\n",
    "    )''',\n",
    "    produced='''()''',\n",
    "    engine='gnc',\n",
    "    agents=[BASICSAT1_ID]\n",
    ")"
   ]
  },
  {
   "cell_type": "markdown",
   "metadata": {},
   "source": [
    "### Specifying a block via a relation\n",
    "When the `.` syntax is used with the name of a relation rather than a field, it results in the block that is the current value of that relation. For a many-sided relation, the result will be a list of blocks."
   ]
  },
  {
   "cell_type": "code",
   "execution_count": null,
   "metadata": {},
   "outputs": [],
   "source": [
    "cosim_blocks[\"pointing_mode_name\"] = scenario.SpontaneousExternalState.create(\n",
    "    consumed='''(\n",
    "        root!.activePointingMode.name,\n",
    "    )''',\n",
    "    produced='''()''',\n",
    "    engine='gnc',\n",
    "    agents=[BASICSAT1_ID]\n",
    ")"
   ]
  },
  {
   "cell_type": "markdown",
   "metadata": {},
   "source": [
    "### Specifying all blocks of a type\n",
    "To specify all blocks of a type, use the block type's name. This will result in a list containing all blocks of that type."
   ]
  },
  {
   "cell_type": "markdown",
   "metadata": {},
   "source": [
    "### Accessing state from a list of blocks\n",
    "When the left side of a `.` access specifies a list of blocks, the result will be the list of values derived from loading that field from each of the specified blocks. For instance, the following query will get a list containing the speed of each reaction wheel on the BasicSat 1 agent."
   ]
  },
  {
   "cell_type": "code",
   "execution_count": null,
   "metadata": {},
   "outputs": [],
   "source": [
    "cosim_blocks[\"reaction_wheel_speeds\"] = scenario.SpontaneousExternalState.create(\n",
    "    consumed='''(\n",
    "        ReactionWheel.speed,\n",
    "    )''',\n",
    "    produced='''()''',\n",
    "    engine='gnc',\n",
    "    agents=[BASICSAT1_ID]\n",
    ")"
   ]
  },
  {
   "cell_type": "markdown",
   "metadata": {},
   "source": [
    "List of lists"
   ]
  },
  {
   "cell_type": "markdown",
   "metadata": {},
   "source": [
    "### Converting units and reference frames\n",
    "To convert scalar quantitied between units or vectors between reference frames, use the `as` keyword. The left side of the `as` is the value to convert, and the right side is the unit or reference frame to convert to."
   ]
  },
  {
   "cell_type": "code",
   "execution_count": null,
   "metadata": {},
   "outputs": [],
   "source": [
    "cosim_blocks[\"position_in_ecef\"] = scenario.SpontaneousExternalState.create(\n",
    "    consumed='''(\n",
    "        root!.position as Position.ecef,\n",
    "    )''',\n",
    "    produced='''()''',\n",
    "    engine='gnc',\n",
    "    agents=[BASICSAT1_ID]\n",
    ")"
   ]
  },
  {
   "cell_type": "markdown",
   "metadata": {},
   "source": [
    "### Reading values from a dictionary"
   ]
  },
  {
   "cell_type": "code",
   "execution_count": 34,
   "metadata": {},
   "outputs": [],
   "source": [
    "cosim_blocks[\"orbital_eccentricity\"] = scenario.SpontaneousExternalState.create(\n",
    "    consumed='''(\n",
    "        root!.orbitalElements[\"e\"],\n",
    "    )''',\n",
    "    produced='''()''',\n",
    "    engine='gnc',\n",
    "    agents=[BASICSAT1_ID]\n",
    ")"
   ]
  },
  {
   "cell_type": "markdown",
   "metadata": {},
   "source": [
    "## Conditional queries"
   ]
  },
  {
   "cell_type": "markdown",
   "metadata": {},
   "source": [
    "### Conditional queries with if/else\n",
    "The if/else syntax allwos you to pick between two result queries depending on the current simulation state. The condition must be a query that results in a boolean."
   ]
  },
  {
   "cell_type": "code",
   "execution_count": null,
   "metadata": {},
   "outputs": [],
   "source": [
    "cosim_blocks[\"iss_target_range\"] = scenario.SpontaneousExternalState.create(\n",
    "    consumed='''(\n",
    "        if block!(\"PQQtQRfgr45p9Y3bv6SqH2\").lineOfSight {\n",
    "            block!(\"PQQtQRfgr45p9Y3bv6SqH2\").range\n",
    "        } else {\n",
    "            null\n",
    "        },\n",
    "    )''',\n",
    "    produced='''()''',\n",
    "    engine='gnc',\n",
    "    agents=[BASICSAT1_ID]\n",
    ")"
   ]
  },
  {
   "cell_type": "markdown",
   "metadata": {},
   "source": [
    "### Conditional queries with dynamic match\n",
    "The `match` syntax allows you to check a dynamic value against a list of match pairs. Each *match pair* consists of a *pattern* and a *result query*. Patterns currently consist of quoted string constants, which match identical strings, and the `_` pattern, which will match with any value. The result of the match will be the result query of the first match pair with a pattern that matches the argument."
   ]
  },
  {
   "cell_type": "code",
   "execution_count": null,
   "metadata": {},
   "outputs": [],
   "source": [
    "cosim_blocks[\"pointing_mode\"] = scenario.SpontaneousExternalState.create(\n",
    "    consumed='''(\n",
    "        match root!.activePointingMode.name {\n",
    "            \"ISS Pointing Mode\" => \"ISS\",\n",
    "            \"Other BasicSat Pointing Mode\" => \"BasicSat\",\n",
    "            _ => \"Unknown\"\n",
    "        },\n",
    "    )''',\n",
    "    produced='''()''',\n",
    "    engine='gnc',\n",
    "    agents=[BASICSAT1_ID]\n",
    ")"
   ]
  },
  {
   "cell_type": "markdown",
   "metadata": {},
   "source": [
    "### Matching against a field statically\n",
    "The `static match` syntax works similarly to the dynamic `match` syntax, but requires that the argument be evaluated statically. This allows better optimization in some cases."
   ]
  },
  {
   "cell_type": "code",
   "execution_count": null,
   "metadata": {},
   "outputs": [],
   "source": [
    "cosim_blocks[\"celestial_vector\"] = scenario.SpontaneousExternalState.create(\n",
    "    consumed='''(\n",
    "        static match CelestialVector.celestialPointingDirection {\n",
    "            \"SUN\" => \"The Sun\",\n",
    "            \"MOON\" => \"The Moon\",\n",
    "            _ => \"A Planet\"\n",
    "        },\n",
    "    )''',\n",
    "    produced='''()''',\n",
    "    engine='gnc',\n",
    "    agents=[BASICSAT1_ID]\n",
    ")"
   ]
  },
  {
   "cell_type": "markdown",
   "metadata": {},
   "source": [
    "### Conditioning on the type of a block\n",
    "In some cases, the fields you want to access may only be available on certain subtypes of a block type. In this case, a dynamic match on the type of the block won't work. Instead, use the `type match` syntax, which uses block type names instead of patterns. Additionally, the results in a type match use spread elements rather than query expressions."
   ]
  },
  {
   "cell_type": "code",
   "execution_count": null,
   "metadata": {},
   "outputs": [],
   "source": [
    "cosim_blocks[\"actuator_ratings\"] = scenario.SpontaneousExternalState.create(\n",
    "    consumed='''(\n",
    "        type match Actuator {\n",
    "            ReactionWheel => (\n",
    "                name,\n",
    "                \"ratedTorque\",\n",
    "                ratedTorque\n",
    "            ),\n",
    "            Magnetorquer => (\n",
    "                name,\n",
    "                \"ratedMagneticMoment\",\n",
    "                ratedMagneticMoment\n",
    "            )\n",
    "        },\n",
    "    )''',\n",
    "    produced='''()''',\n",
    "    engine='gnc',\n",
    "    agents=[BASICSAT1_ID]\n",
    ")"
   ]
  },
  {
   "cell_type": "markdown",
   "metadata": {},
   "source": [
    "## Spread Syntax\n",
    "Certain forms of queries use *spread elements*, which allow multiple operations to be applied to a single *base expression*. Not all operations available as expressions are available as spread elements.\n",
    "\n",
    "Informally, you can think of a spread element as being like an expression missing its leftmost operand, which will be supplied by the surrounding *spread context*."
   ]
  },
  {
   "cell_type": "markdown",
   "metadata": {},
   "source": [
    "### Spread Expressions\n",
    "The most common form of expression that uses spread elements is the *spread expression* `base.(spread1, spread2)`. In a spread expression, the base expression is the left-hand side of the `.`, and the spread elements appear in parentheses, separated by commas. The result of a spread expression is a tuple in which each spread element is separately applied to the base expression."
   ]
  },
  {
   "cell_type": "code",
   "execution_count": null,
   "metadata": {},
   "outputs": [],
   "source": [
    "cosim_blocks[\"reaction_wheel_spread\"] = scenario.SpontaneousExternalState.create(\n",
    "    consumed='''(\n",
    "        ReactionWheel.(commandedTorqueMagnitude, achievedTorqueMagnitude),\n",
    "    )''',\n",
    "    produced='''()''',\n",
    "    engine='gnc',\n",
    "    agents=[BASICSAT1_ID]\n",
    ")"
   ]
  },
  {
   "cell_type": "markdown",
   "metadata": {},
   "source": [
    "### Spread Accesses\n",
    "In the query `base.(field1, relation.field2)` you can see two forms of spread access. `field1` is a *base spread access*, which applies directly to the context's base expression. Like a normal access expression, `base` specifies a block and the `field1` specifies the name of the field to read from it. `relation.field2` is a *chained spread access*, in which the left-hand side (`relation`) is applied to the context's base expression to select a block and then the right-hand side is used to select the field to read from it."
   ]
  },
  {
   "cell_type": "code",
   "execution_count": null,
   "metadata": {},
   "outputs": [],
   "source": [
    "cosim_blocks[\"attitude_pointing_mode\"] = scenario.SpontaneousExternalState.create(\n",
    "    consumed='''(\n",
    "        root!.(attitude, activePointingMode.name),\n",
    "    )''',\n",
    "    produced='''()''',\n",
    "    engine='gnc',\n",
    "    agents=[BASICSAT1_ID]\n",
    ")"
   ]
  },
  {
   "cell_type": "markdown",
   "metadata": {},
   "source": [
    "### Spread Tuples\n",
    "A *spread tuple* `(spread1, spread2)` is a spread element that contains further spread elements, and applies them to the context's base expression to produce an inner tuple."
   ]
  },
  {
   "cell_type": "code",
   "execution_count": null,
   "metadata": {},
   "outputs": [],
   "source": [
    "cosim_blocks[\"spread2\"] = scenario.SpontaneousExternalState.create(\n",
    "    consumed='''(\n",
    "        root!.(\n",
    "        position,\n",
    "        (attitude, activePointingMode.name)),\n",
    "    )''',\n",
    "    produced='''()''',\n",
    "    engine='gnc',\n",
    "    agents=[BASICSAT1_ID]\n",
    ")"
   ]
  },
  {
   "cell_type": "markdown",
   "metadata": {},
   "source": [
    "### Inner Spreads\n",
    "An *inner spread* `spread1.(spread2, spread3)` applies its left-hand side `spread1` to the context's base expression to produce an intermediate value, and then forms a tuple by applying each element of its right-hand side to the intermediate value."
   ]
  },
  {
   "cell_type": "code",
   "execution_count": null,
   "metadata": {},
   "outputs": [],
   "source": [
    "cosim_blocks[\"actual_attitude_commanded_attitude\"] = scenario.SpontaneousExternalState.create(\n",
    "    consumed='''(\n",
    "        root!.(\n",
    "            attitude,\n",
    "            activePointingMode.(\n",
    "                name,\n",
    "                commandedAttitude\n",
    "            )\n",
    "        ),\n",
    "    )''',\n",
    "    produced='''()''',\n",
    "    engine='gnc',\n",
    "    agents=[BASICSAT1_ID]\n",
    ")"
   ]
  },
  {
   "cell_type": "markdown",
   "metadata": {},
   "source": [
    "### Spread conversions\n",
    "A *spread conversion* `spread as Kind.unit` applies its left-hand side `spread` to the context's base expression and then converts the resulting value to the unit or reference frame specified by `Kind.unit`."
   ]
  },
  {
   "cell_type": "code",
   "execution_count": null,
   "metadata": {},
   "outputs": [],
   "source": [
    "cosim_blocks[\"position_lla_attitude_eci_body\"] = scenario.SpontaneousExternalState.create(\n",
    "    consumed='''(\n",
    "        root!.(position as Position.lla, attitude as Quaternion.eci_body),\n",
    "    )''',\n",
    "    produced='''()''',\n",
    "    engine='gnc',\n",
    "    agents=[BASICSAT1_ID]\n",
    ")"
   ]
  },
  {
   "cell_type": "markdown",
   "metadata": {},
   "source": [
    "### Invariant Spreads\n",
    "Some spread elements, such as constants and ephemerides, don't use the value of the base at all. These are mostly used in type matches."
   ]
  },
  {
   "cell_type": "code",
   "execution_count": null,
   "metadata": {},
   "outputs": [],
   "source": [
    "cosim_blocks[\"constant_spread\"] = scenario.SpontaneousExternalState.create(\n",
    "    consumed='''(\n",
    "        root!.(0, \"a string\", null),\n",
    "    )''',\n",
    "    produced='''()''',\n",
    "    engine='gnc',\n",
    "    agents=[BASICSAT1_ID]\n",
    ")"
   ]
  },
  {
   "cell_type": "markdown",
   "metadata": {},
   "source": [
    "# Cosimulating"
   ]
  },
  {
   "cell_type": "markdown",
   "metadata": {},
   "source": [
    "## Starting a simulation\n",
    "Once you've set up the blocks on the simulation, you'll need to start the simulation in order to cosimulate. Once you start a simulation and receive a handle to it, you can run the spontaneous cosimulators to observe and modify the simulation state as it runs."
   ]
  },
  {
   "cell_type": "code",
   "execution_count": 81,
   "metadata": {},
   "outputs": [],
   "source": [
    "simulation_handle = scenario.simulation.start(wait=True, streamTelemetry=True)"
   ]
  },
  {
   "cell_type": "markdown",
   "metadata": {},
   "source": [
    "## Consuming simulation data\n",
    "For a cosimulator to consume data from the simulation, call the `consume` method on the simulation handle, passing the agent ID to consume data from and the ID of the external state block. This returns a Python object containing the data specified by the `consumed` query on the external state block."
   ]
  },
  {
   "cell_type": "code",
   "execution_count": null,
   "metadata": {},
   "outputs": [],
   "source": [
    "if simulation_handle.status()['status'] == 'RUNNING':\n",
    "    # consume and unpack state from the simulation\n",
    "    for name, block in cosim_blocks.items():\n",
    "        state = simulation_handle.consume(agent_id=BASICSAT1_ID, external_state_id=block.id)\n",
    "        print(f\"{name}: {state}\", flush=True)\n",
    "else:\n",
    "    print(\"Simulation not running!\")"
   ]
  }
 ],
 "metadata": {
  "kernelspec": {
   "display_name": "dev",
   "language": "python",
   "name": "python3"
  },
  "language_info": {
   "codemirror_mode": {
    "name": "ipython",
    "version": 3
   },
   "file_extension": ".py",
   "mimetype": "text/x-python",
   "name": "python",
   "nbconvert_exporter": "python",
   "pygments_lexer": "ipython3",
   "version": "3.11.11"
  }
 },
 "nbformat": 4,
 "nbformat_minor": 2
}
