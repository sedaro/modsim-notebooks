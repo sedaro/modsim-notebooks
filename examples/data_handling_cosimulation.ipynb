{
 "cells": [
  {
   "cell_type": "markdown",
   "metadata": {},
   "source": [
    "# Data Handling Co-simulation Notebook\n",
    "\n",
    "This notebook showcases co-simulation with Sedaro by creating `ExternalState` blocks in the Data Handling Co-simulation Scenario to receive and send simulation state to a running scenario simulation. This notebook starts a simulation of the scenario and consumes state from the satellite agent to calculate the signal strength of a data interface and produces state for the agent to activate a data interface."
   ]
  },
  {
   "cell_type": "markdown",
   "metadata": {},
   "source": [
    "## Setup\n"
   ]
  },
  {
   "cell_type": "markdown",
   "metadata": {},
   "source": [
    "### Notebook Variables\n"
   ]
  },
  {
   "cell_type": "code",
   "execution_count": null,
   "metadata": {},
   "outputs": [],
   "source": [
    "SCENARIO_BRANCH_ID = ...\n",
    "\n",
    "MIN_RECEIVER_POWER = ...  # [W]\n",
    "WAVELENGTH = ...  # [m]\n",
    "TX_GAIN = ...\n",
    "RX_GAIN = ..."
   ]
  },
  {
   "cell_type": "markdown",
   "metadata": {},
   "source": [
    "#### Important: Read Before Running\n",
    "\n",
    "These notebooks may make changes to agent and scenario branches in your account. Ensure any changes to the target branches are saved prior to running any code. Sedaro recommends committing current work and creating new branches in the target repositories to avoid loss of work.\n",
    "\n",
    "These notebooks also require that you have previously generated an API key in the web UI. That key should be stored in a file called `secrets.json` in the same directory as these notebooks with the following format:\n",
    "\n",
    "```json\n",
    "{\n",
    "  \"API_KEY\": \"<API_KEY>\"\n",
    "}\n",
    "```\n",
    "\n",
    "API keys grant full access to your repositories and should never be shared. If you think your API key has been compromised, you can revoke it in the user settings interface on the Sedaro website.\n"
   ]
  },
  {
   "cell_type": "code",
   "execution_count": null,
   "metadata": {},
   "outputs": [],
   "source": [
    "import json\n",
    "\n",
    "with open('../secrets.json', 'r') as file:\n",
    "    API_KEY = json.load(file)['API_KEY']\n",
    "\n",
    "with open('../config.json', 'r') as file:\n",
    "    config = json.load(file)"
   ]
  },
  {
   "cell_type": "markdown",
   "metadata": {},
   "source": [
    "### Client Objects\n"
   ]
  },
  {
   "cell_type": "code",
   "execution_count": null,
   "metadata": {},
   "outputs": [],
   "source": [
    "from sedaro import SedaroApiClient\n",
    "\n",
    "client = SedaroApiClient(api_key=API_KEY, host=config['HOST'])\n",
    "scenario = client.scenario(SCENARIO_BRANCH_ID)\n",
    "simulation = scenario.simulation"
   ]
  },
  {
   "cell_type": "markdown",
   "metadata": {},
   "source": [
    "### Scenario Information\n"
   ]
  },
  {
   "cell_type": "code",
   "execution_count": null,
   "metadata": {},
   "outputs": [],
   "source": [
    "ground_agent_names_by_id = {agent.id: agent.name for agent in scenario.PeripheralGroundPoint.get_all()}"
   ]
  },
  {
   "cell_type": "markdown",
   "metadata": {},
   "source": [
    "### Agent Template Blocks\n"
   ]
  },
  {
   "cell_type": "code",
   "execution_count": null,
   "metadata": {},
   "outputs": [],
   "source": [
    "satellite = scenario.TemplatedAgent.get_first()\n",
    "satellite_template = client.agent_template(satellite.templateRef)\n",
    "\n",
    "data_interface = satellite_template.CooperativeLineOfSightTransmitInterface.get_first()\n",
    "\n",
    "modem = satellite_template.Modem.get_first()\n",
    "modem_load_state = modem.loadStates[0]\n",
    "modem_load = modem_load_state.loads[0]\n",
    "\n",
    "power_processor = satellite_template.PowerProcessor.get_first()\n",
    "controller_power_rating = power_processor.topologyParams['outputPowerRating']\n",
    "\n",
    "target_group = satellite_template.TargetGroup.get_first()"
   ]
  },
  {
   "cell_type": "markdown",
   "metadata": {},
   "source": [
    "### External State Blocks\n"
   ]
  },
  {
   "cell_type": "code",
   "execution_count": null,
   "metadata": {},
   "outputs": [],
   "source": [
    "scenario.delete_all_external_state_blocks()"
   ]
  },
  {
   "cell_type": "code",
   "execution_count": null,
   "metadata": {},
   "outputs": [],
   "source": [
    "cdh_state_block = scenario.SpontaneousExternalState.create(\n",
    "    consumed=[{f\"block.{target_group.id}.activeTarget\": [\n",
    "        {\"static\": \"id\"},\n",
    "        {\"agentElevation.as\": \"Angle.deg\"},\n",
    "        \"lineOfSight\",\n",
    "        {\"range.as\": \"Distance.m\"},\n",
    "        {\"rangeRate.as\": \"Speed.km/s\"},\n",
    "    ]}],\n",
    "    produced=[{f\"block.{data_interface.id}\": \"isActive\"}],\n",
    "    engineIndex=1,\n",
    "    agents=[satellite.id],\n",
    ")"
   ]
  },
  {
   "cell_type": "code",
   "execution_count": null,
   "metadata": {},
   "outputs": [],
   "source": [
    "power_state_block = scenario.SpontaneousExternalState.create(\n",
    "    consumed=[{\"PowerProcessor\": {\"prev\": {\"outputPowers\": {\"index\": \"total\"}}}}],\n",
    "    produced=[\n",
    "        {f\"block.{modem.id}\": \"activeLoadState\"},\n",
    "        {f\"block.{modem_load.id}\": \"isActive\"},\n",
    "        {f\"block.{modem_load.id}\": \"powerConsumed\"},\n",
    "    ],\n",
    "    engineIndex=2,\n",
    "    agents=[satellite.id],\n",
    ")"
   ]
  },
  {
   "cell_type": "markdown",
   "metadata": {},
   "source": [
    "### Interface Functions\n"
   ]
  },
  {
   "cell_type": "code",
   "execution_count": null,
   "metadata": {},
   "outputs": [],
   "source": [
    "from math import pi\n",
    "\n",
    "\n",
    "def friis_power_ratio(\n",
    "        distance: float,\n",
    "        wavelength: float,\n",
    "        transmitter_gain: float,\n",
    "        receiver_gain: float,\n",
    ") -> float:\n",
    "    \"\"\"Calculate the received power to transmitted power ratio using the Friis transmission equation.\"\"\"\n",
    "    return transmitter_gain * receiver_gain * (wavelength / (4 * pi * distance))**2\n",
    "\n",
    "\n",
    "def interface_state(\n",
    "        elevation_angle: float,\n",
    "        line_of_sight: bool,\n",
    "        range_: float,\n",
    "        total_power_consumed: float,\n",
    "        controller_power_rating: float,\n",
    "        min_receiver_power: float,\n",
    "        wavelength: float,\n",
    "        transmitter_gain: float,\n",
    "        receiver_gain: float,\n",
    ") -> tuple[bool, float]:\n",
    "    \"\"\"Determine if the data interface should be active and how much power the modem should consume based on target state.\"\"\"\n",
    "    available_power = controller_power_rating - total_power_consumed\n",
    "    necessary_transmission_power = min_receiver_power / \\\n",
    "        friis_power_ratio(range_, wavelength, transmitter_gain, receiver_gain)\n",
    "    if line_of_sight \\\n",
    "            and elevation_angle > 10 \\\n",
    "            and necessary_transmission_power < available_power:\n",
    "        is_active = True\n",
    "        modem_power = necessary_transmission_power\n",
    "    else:\n",
    "        is_active = False\n",
    "        modem_power = 0.\n",
    "\n",
    "    return is_active, modem_power"
   ]
  },
  {
   "cell_type": "markdown",
   "metadata": {},
   "source": [
    "## Simulation\n"
   ]
  },
  {
   "cell_type": "code",
   "execution_count": null,
   "metadata": {},
   "outputs": [],
   "source": [
    "from IPython.display import clear_output\n",
    "\n",
    "with scenario.simulation.start(wait=True) as simulation_handle:\n",
    "    while simulation_handle.status()['status'] == 'RUNNING':\n",
    "        # consume and unpack state from the simulation\n",
    "        cdh_state = simulation_handle.consume(agent_id=satellite.id, external_state_id=cdh_state_block.id)\n",
    "        (\n",
    "            active_target_id,\n",
    "            elevation_angle,\n",
    "            line_of_sight,\n",
    "            range_,\n",
    "            range_rate\n",
    "        ) = cdh_state[0]\n",
    "        power_state = simulation_handle.consume(agent_id=satellite.id, external_state_id=power_state_block.id)\n",
    "        (\n",
    "            total_power_consumed,\n",
    "        ) = power_state[0]\n",
    "\n",
    "        # calculate state for the interface and modem\n",
    "        is_interface_active, modem_power_consumed = interface_state(\n",
    "            elevation_angle,\n",
    "            line_of_sight,\n",
    "            range_,\n",
    "            total_power_consumed,\n",
    "            controller_power_rating,\n",
    "            MIN_RECEIVER_POWER,\n",
    "            WAVELENGTH,\n",
    "            TX_GAIN,\n",
    "            RX_GAIN\n",
    "        )\n",
    "\n",
    "        # produce state to the simulation\n",
    "        simulation_handle.produce(agent_id=satellite.id,\n",
    "                                  external_state_id=cdh_state_block.id,\n",
    "                                  values=(is_interface_active,))\n",
    "        simulation_handle.produce(agent_id=satellite.id,\n",
    "                                  external_state_id=power_state_block.id,\n",
    "                                  values=(\n",
    "                                      modem_load_state.id if modem_power_consumed else None,\n",
    "                                      True if modem_power_consumed else False,\n",
    "                                      modem_power_consumed\n",
    "                                  ))\n",
    "\n",
    "        # print simulation state\n",
    "        clear_output(wait=True)\n",
    "        print(\"\\n\".join([\n",
    "            f\"Active Target:\\t\\t\\t\\t{ground_agent_names_by_id[active_target_id]}\",\n",
    "            f\"Target to Satellite Elevation Angle:\\t{elevation_angle:.6f}\\t[deg]\",\n",
    "            f\"Line of Sight:\\t\\t\\t\\t{line_of_sight}\",\n",
    "            f\"Range to Target:\\t\\t\\t{range_ / 1000:.6f}\\t[km]\",\n",
    "            f\"Range Rate to Target:\\t\\t\\t{range_rate:.6f}\\t[km/s]\",\n",
    "            f\"Total Agent Power Consumed:\\t\\t{total_power_consumed:.6f}\\t[W]\",\n",
    "            f\"Data Interface Active:\\t\\t\\t{is_interface_active}\",\n",
    "            f\"Modem Power Consumed:\\t\\t\\t{modem_power_consumed:.6f}\\t[W]\",\n",
    "        ]), flush=True)"
   ]
  }
 ],
 "metadata": {
  "kernelspec": {
   "display_name": ".venv",
   "language": "python",
   "name": "python3"
  },
  "language_info": {
   "codemirror_mode": {
    "name": "ipython",
    "version": 3
   },
   "file_extension": ".py",
   "mimetype": "text/x-python",
   "name": "python",
   "nbconvert_exporter": "python",
   "pygments_lexer": "ipython3",
   "version": "3.11.4"
  }
 },
 "nbformat": 4,
 "nbformat_minor": 2
}
