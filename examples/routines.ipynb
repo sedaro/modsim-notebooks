{
 "cells": [
  {
   "cell_type": "markdown",
   "metadata": {},
   "source": [
    "#### Important: Read Before Running\n",
    "\n",
    "This notebook makes changes to agent and scenario branches indicated in the settings section. Ensure any changes to the target branches are saved prior to running this code. Sedaro recommends committing current changes and creating new branches in the target repositories to avoid loss of work.\n",
    "\n",
    "This notebook also requires that you have previously generated an API key in the web UI. That key should be stored in a file called `secrets.json` in the same directory as this notebook with the following format:\n",
    "\n",
    "```json\n",
    "{\n",
    "  \"API_KEY\": \"<API_KEY>\"\n",
    "}\n",
    "```\n",
    "\n",
    "API keys grant full access to your repositories and should never be shared. If you think your API key has been compromised, you can revoke it in the user settings interface on the Sedaro website.\n"
   ]
  },
  {
   "cell_type": "code",
   "execution_count": null,
   "metadata": {},
   "outputs": [],
   "source": [
    "import json\n",
    "\n",
    "with open('../secrets.json', 'r') as file:\n",
    "    API_KEY = json.load(file)['API_KEY']\n",
    "\n",
    "with open('../config.json', 'r') as file:\n",
    "    config = json.load(file)\n",
    "HOST = config['HOST']\n",
    "\n",
    "AGENT_TEMPLATE_BRANCH_ID = \"\"\n",
    "assert AGENT_TEMPLATE_BRANCH_ID, \"You need to specify an agent branch ID to run the examples in this notebook.\""
   ]
  },
  {
   "cell_type": "markdown",
   "metadata": {},
   "source": [
    "#### Branch\n"
   ]
  },
  {
   "cell_type": "code",
   "execution_count": 3,
   "metadata": {},
   "outputs": [],
   "source": [
    "from sedaro import SedaroApiClient\n",
    "sedaro = SedaroApiClient(api_key=API_KEY, host=HOST)\n",
    "agent_template = sedaro.agent_template(AGENT_TEMPLATE_BRANCH_ID)"
   ]
  },
  {
   "cell_type": "markdown",
   "metadata": {},
   "source": [
    "#### Example Setup\n",
    "\n",
    "The following cell creates two generic `Routine` blocks and two conditions as placeholders for the code examples later in this notebook.\n"
   ]
  },
  {
   "cell_type": "code",
   "execution_count": 4,
   "metadata": {},
   "outputs": [],
   "source": [
    "example_routine_1 = agent_template.Routine.create(name=\"Example Routine 1\")\n",
    "example_routine_2 = agent_template.Routine.create(name=\"Example Routine 2\")\n",
    "example_condition_1 = agent_template.TimeCondition.create(\n",
    "    name=\"Example Condition 1\", relationship=\"GREATER\", scalar=60000)\n",
    "example_condition_2 = agent_template.ElapsedTimeCondition.create(\n",
    "    name=\"Example Condition 2\", relationship=\"GREATER\", scalar={'hour': 1})"
   ]
  },
  {
   "cell_type": "markdown",
   "metadata": {},
   "source": [
    "## Routines\n",
    "\n",
    "Before Sedaro 4.9, the internal logic of agents was mostly driven by operational modes. These provided significant utility, but they also had limitations, such as the inability to have two operational modes active simultaneously or to drive the selection of the active operational mode with logic other than conditions and priority. Since the release of 4.9, the functionality of `OperationalMode` has been replaced by `Routine`, which allows for much more comprehensive, complicated, and customizable behavior for agents in Sedaro. Routines are similar to operational modes in that they are used to drive important behavioral logic like active modes and interfaces, but they come in different types that each have their own functionality.\n",
    "\n",
    "#### `Routine` Types\n",
    "\n",
    "- [`Routine`](#generic-routine): the generic `Routine` block\n",
    "- [`CombinationalLogic`](#combinationallogic-routines): A specialized `Routine` block that is associated with various prioritized `LogicalConfiguration` options and re-creates the functionality of operational modes\n",
    "- [`Schedule`](#schedule-routines): A specialized `Routine` block with a list of subroutines and times that determines when each subroutine will be active\n",
    "- [`FiniteStateMachine`](#finitestatemachine-routines): A specialized `Routine` block that is associated with `StateTransition` blocks for transitions between subroutines\n",
    "\n",
    "#### `Routine` Terminology\n",
    "\n",
    "- A specialized `Routine` chooses between its `subroutines`.\n",
    "- A set of associated routines with a common ancestor (which itself does not have any parent routines) is called a \"program\".\n",
    "\n",
    "#### `Routine` Behavior\n",
    "\n",
    "- A specialized `Routine` can have at most one active subroutine.\n",
    "- Otherwise, more than one `Routine` can be active at a time.\n",
    "- Some behaviors are controlled by the combination of active `Routine`s within a single program. For example, since only one pointing mode can be active at a time, only one `Routine` program may control the agent's active pointing mode.\n"
   ]
  },
  {
   "cell_type": "markdown",
   "metadata": {},
   "source": [
    "### Generic `Routine`\n",
    "\n",
    "The generic `Routine` block is the most basic type of routine. The `Routine` block is used as a leaf subroutine for the more specialized types of routines (`CombinationalLogic`, `Schedule`, and `FiniteStateMachine`) and itself cannot have `subroutines`.\n",
    "\n",
    "#### `Routine` Example\n"
   ]
  },
  {
   "cell_type": "code",
   "execution_count": null,
   "metadata": {},
   "outputs": [],
   "source": [
    "generic_routine = agent_template.Routine.create(name=\"Generic Routine\")"
   ]
  },
  {
   "cell_type": "markdown",
   "metadata": {},
   "source": [
    "### `CombinationalLogic` Routines\n",
    "\n",
    "Each subroutine of a `CombinationalLogic` is associated with a `LogicalConfiguration` block. Each `LogicalConfiguration` can be defined by a list of conditions, priority, a minimum occurrence duration, maximum occurrence duration, and a minimum time between occurrences. The active subroutine is the one whose `LogicalConfiguration` has the highest `priority` and is compliant. This is equivalent to the behavior of Operational Modes except that any subroutine may optionally be designated as the default subroutine, becoming active when no associated `LogicalConfiguration`s are compliant. \n",
    "\n",
    "#### `CombinationalLogic` Example\n"
   ]
  },
  {
   "cell_type": "code",
   "execution_count": 5,
   "metadata": {},
   "outputs": [],
   "source": [
    "logical_configuration_1 = agent_template.LogicalConfiguration.create(\n",
    "    conditions=[example_condition_1.id],\n",
    "    priority=1,\n",
    "    routine=example_routine_1.id\n",
    ")\n",
    "logical_configuration_2 = agent_template.LogicalConfiguration.create(\n",
    "    conditions=[example_condition_2.id],\n",
    "    priority=2,\n",
    "    routine=example_routine_2.id\n",
    ")\n",
    "\n",
    "combinational_logic = agent_template.CombinationalLogic.create(\n",
    "    name=\"Combinational Logic Routine\",\n",
    "    logicalConfigurations=[logical_configuration_1.id, logical_configuration_2.id]\n",
    ")"
   ]
  },
  {
   "cell_type": "markdown",
   "metadata": {},
   "source": [
    "### `Schedule` Routines\n",
    "\n",
    "A `Schedule` routine allows you to plan when each of its `subroutines` will be active by defining a set of start and stop times for each subroutine. Like any other kind of `Routine`, only one child routine can be active at a given time.\n",
    "\n",
    "There are two kinds of `Schedule`: `FixedSchedule` and `RelativeSchedule`. A `FixedSchedule` has the times in its `activeTimes` field set with MJD, which is the default unit of time in Sedaro. A `RelativeSchedule` has the times in its `activeTimes` field set with time since the simulation start time (with a variety of time units available).\n",
    "\n",
    "#### `FixedSchedule` Example\n"
   ]
  },
  {
   "cell_type": "code",
   "execution_count": 6,
   "metadata": {},
   "outputs": [],
   "source": [
    "fixed_schedule = agent_template.FixedSchedule.create(\n",
    "    name=\"Fixed Schedule Routine\",\n",
    "    scheduleData={\n",
    "        example_routine_1.id: {'activeTimes': [(60000, 60000.1), (60000.2, 60000.3)]},\n",
    "        example_routine_2.id: {'activeTimes': [(60000.4, 60000.5), (60000.6, 60000.7)]}\n",
    "    },\n",
    "    subroutines=[example_routine_1.id, example_routine_2.id]\n",
    ")"
   ]
  },
  {
   "cell_type": "markdown",
   "metadata": {},
   "source": [
    "#### `RelativeSchedule` Example\n"
   ]
  },
  {
   "cell_type": "code",
   "execution_count": 7,
   "metadata": {},
   "outputs": [],
   "source": [
    "relative_schedule = agent_template.RelativeSchedule.create(\n",
    "    name=\"Relative Schedule Routine\",\n",
    "    scheduleData={\n",
    "        example_routine_1.id: {'activeTimes': [({'min': 1}, {'min': 2}), ({'min': 5}, {'min': 10})]},\n",
    "        example_routine_2.id: {'activeTimes': [({'min': 20}, {'min': 30}), ({'min': 60}, {'min': 120})]}\n",
    "    },\n",
    "    subroutines=[example_routine_1.id, example_routine_2.id]\n",
    ")"
   ]
  },
  {
   "cell_type": "markdown",
   "metadata": {},
   "source": [
    "### `FiniteStateMachine` Routines\n",
    "\n",
    "A `FiniteStateMachine` has a set of `StateTransition` blocks that can transition from one `activeSubroutine` to another. Each `StateTransition` has a set of `conditions` that must all be true for the transition from the `fromState` to the `toState` to occur. The `conditions` of a `StateTransition` block with a higher `priority` are checked before `StateTransition` blocks with a lower `priority`. Unlike other types of `Routine`, the `activeSubroutine` field on the `FiniteStateMachine` block needs to be set to indicate its initial state.\n",
    "\n",
    "#### `FiniteStateMachine` Example\n"
   ]
  },
  {
   "cell_type": "code",
   "execution_count": 9,
   "metadata": {},
   "outputs": [],
   "source": [
    "transition_1 = agent_template.StateTransition.create(\n",
    "    conditions=[example_condition_1.id],\n",
    "    priority=1,\n",
    "    fromState=example_routine_1.id,\n",
    "    toState=example_routine_2.id\n",
    ")\n",
    "transition_2 = agent_template.StateTransition.create(\n",
    "    conditions=[example_condition_2.id],\n",
    "    priority=2,\n",
    "    fromState=example_routine_2.id,\n",
    "    toState=example_routine_1.id\n",
    ")\n",
    "\n",
    "finite_state_machine = agent_template.FiniteStateMachine.create(\n",
    "    name=\"Finite State Machine Routine\",\n",
    "    transitions=[transition_1.id, transition_2.id],\n",
    "    activeSubroutine=example_routine_1.id\n",
    ")"
   ]
  }
 ],
 "metadata": {
  "kernelspec": {
   "display_name": ".venv",
   "language": "python",
   "name": "python3"
  },
  "language_info": {
   "codemirror_mode": {
    "name": "ipython",
    "version": 3
   },
   "file_extension": ".py",
   "mimetype": "text/x-python",
   "name": "python",
   "nbconvert_exporter": "python",
   "pygments_lexer": "ipython3",
   "version": "3.11.6"
  }
 },
 "nbformat": 4,
 "nbformat_minor": 2
}
