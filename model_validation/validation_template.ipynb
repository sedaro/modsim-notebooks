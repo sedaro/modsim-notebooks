{
 "cells": [
  {
   "attachments": {},
   "cell_type": "markdown",
   "metadata": {},
   "source": [
    "## Sedaro Validaton Notebook\n",
    "### _Subtitle Describing Topic_\n",
    "\n",
    "Short description of what is being compared here, reference sources, etc. Copy everything in this section to a `README.md` file in the same directory to make it look nice on Github."
   ]
  },
  {
   "cell_type": "markdown",
   "metadata": {},
   "source": [
    "### Reproducing our Results\n",
    "\n",
    "To ensure reproducibility, the directory containing this notebook also includes a `requirements.txt` file that specifies the exact package versions that were used. To create a similar environment, use the following sequence of commands with Python `3.11` and the built-in `venv` package. See the [venv documentation](https://docs.python.org/3/library/venv.html) for more details on how this works.\n",
    "\n",
    "- In a unix-like terminal:\n",
    "\n",
    "    ```zsh\n",
    "    > python -m venv .venv\n",
    "    > source .venv/bin/activate\n",
    "    > pip install -r requirements.txt\n",
    "    ```\n",
    "\n",
    "- In a Windows `cmd.exe` terminal:\n",
    "    ```bat\n",
    "    C:\\> python -m venv .venv\n",
    "    C:\\> .venv\\Scripts\\activate.bat\n",
    "    C:\\> pip install -r requirements.txt\n",
    "    ```\n",
    "\n",
    "- In Windows PowerShell:\n",
    "\n",
    "    ```bat\n",
    "    C:\\> python -m venv .venv\n",
    "    C:\\> .venv\\Scripts\\Activate.ps1\n",
    "    C:\\> pip install -r requirements.txt\n",
    "    ```\n",
    "\n",
    "Confirm that the Jupyter notebook is using this virtual evironment before running the code below."
   ]
  },
  {
   "cell_type": "code",
   "execution_count": null,
   "metadata": {},
   "outputs": [],
   "source": [
    "# FIXME: Use pip freeze > requirements.txt when the notebook is finalized.\n",
    "#        Ensure that there are no unnecessary packages or local installations.\n",
    "import json\n",
    "import pprint\n",
    "\n",
    "from sedaro import SedaroApiClient"
   ]
  },
  {
   "attachments": {},
   "cell_type": "markdown",
   "metadata": {},
   "source": [
    "### Important: Read Before Running\n",
    "\n",
    "This notebook requires that you have previously generated an API key in the web UI. That key should be stored in a file called `secrets.json` in the same directory as this notebook with the following format:\n",
    "\n",
    "```json\n",
    "{\n",
    "    \"API_KEY\": \"<API_KEY>\"\n",
    "}\n",
    "```\n",
    "\n",
    "API keys grant full access to your repositories and should never be shared. If you think your API key has been compromised, you can revoke it in the user settings interface on the Sedaro website."
   ]
  },
  {
   "cell_type": "code",
   "execution_count": null,
   "metadata": {},
   "outputs": [],
   "source": [
    "with open('../secrets.json', 'r') as file:\n",
    "    API_KEY = json.load(file)['API_KEY']"
   ]
  },
  {
   "attachments": {},
   "cell_type": "markdown",
   "metadata": {},
   "source": [
    "## Download Scenario Data\n",
    "\n",
    "This notebook considers the following reference scenario(s):\n",
    "- [Scenario Name 1](https://satellite.sedaro.com/shareable_link)\n",
    "- [Scenario Name 2](https://satellite.sedaro.com/shareable_link)"
   ]
  },
  {
   "cell_type": "code",
   "execution_count": null,
   "metadata": {},
   "outputs": [],
   "source": [
    "SCENARIO_BRANCH_ID = 'ABCD'  # FIXME: Populate this, since it is static\n",
    "\n",
    "sedaro = SedaroApiClient(API_KEY)\n",
    "sim = sedaro.scenario(SCENARIO_BRANCH_ID).simulation"
   ]
  },
  {
   "cell_type": "markdown",
   "metadata": {},
   "source": [
    "## Prepare Reference Data"
   ]
  },
  {
   "cell_type": "code",
   "execution_count": null,
   "metadata": {},
   "outputs": [],
   "source": [
    "# Generate data or load from local file\n",
    "# Try to avoid non-Python external dependencies for now and just\n",
    "# load the data from a file. Make sure that any files necessary to generate\n",
    "# the data are included in the folder and well-organized."
   ]
  },
  {
   "cell_type": "markdown",
   "metadata": {},
   "source": [
    "## Compare Results"
   ]
  },
  {
   "cell_type": "code",
   "execution_count": null,
   "metadata": {},
   "outputs": [],
   "source": [
    "# Compare things here, split into subsections as needed"
   ]
  }
 ],
 "metadata": {
  "kernelspec": {
   "display_name": ".venv",
   "language": "python",
   "name": "python3"
  },
  "language_info": {
   "codemirror_mode": {
    "name": "ipython",
    "version": 3
   },
   "file_extension": ".py",
   "mimetype": "text/x-python",
   "name": "python",
   "nbconvert_exporter": "python",
   "pygments_lexer": "ipython3",
   "version": "3.11.6"
  },
  "orig_nbformat": 4,
  "vscode": {
   "interpreter": {
    "hash": "57ef9f7306e2966b9a4e81196535973301de2420feb6cef905a8935fc008d3d3"
   }
  }
 },
 "nbformat": 4,
 "nbformat_minor": 2
}
