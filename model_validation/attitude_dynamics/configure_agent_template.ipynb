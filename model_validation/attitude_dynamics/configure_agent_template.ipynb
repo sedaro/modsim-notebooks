{
    "cells": [
        {
            "cell_type": "markdown",
            "metadata": {},
            "source": [
                "(Optional) These commands were used to configure the agent templates used in the example scenario to facilitate the best comparison with Basilisk. The most important thing is to used a fixed time step since that is Basilisk's native behavior. You do not need to run this notebook to perform the comparison in attitude_dynamics.ipynb, but it will be helpful if you want to conduct your own validation."
            ]
        },
        {
            "cell_type": "code",
            "execution_count": null,
            "metadata": {},
            "outputs": [],
            "source": [
                "from utils import sedaroLogin"
            ]
        },
        {
            "cell_type": "code",
            "execution_count": null,
            "metadata": {},
            "outputs": [],
            "source": [
                "sedaro = sedaroLogin()"
            ]
        },
        {
            "cell_type": "markdown",
            "metadata": {},
            "source": [
                "Set to the id of your Agent Template."
            ]
        },
        {
            "cell_type": "code",
            "execution_count": null,
            "metadata": {},
            "outputs": [],
            "source": [
                "AGENT_TEMPLATE_ID = ''\n",
                "vehicle = sedaro.agent_template(AGENT_TEMPLATE_ID)"
            ]
        },
        {
            "cell_type": "code",
            "execution_count": null,
            "metadata": {},
            "outputs": [],
            "source": [
                "_ = vehicle.root.update(timeStepConstraints={'gnc': {'min': 1., 'max': 1.}})"
            ]
        },
        {
            "cell_type": "markdown",
            "metadata": {},
            "source": [
                "Since it makes the most sense for the simulation, I also set the target group priority to be in descending order of satellite elevation. This way, the satellite will point at the target which it is most overhead."
            ]
        },
        {
            "cell_type": "code",
            "execution_count": null,
            "metadata": {},
            "outputs": [],
            "source": [
                "_ = vehicle.TargetGroup.get_first().update(sortValue='ELEVATION', sortOrder='DESCENDING')"
            ]
        }
    ],
    "metadata": {
        "language_info": {
            "name": "python"
        }
    },
    "nbformat": 4,
    "nbformat_minor": 2
}
