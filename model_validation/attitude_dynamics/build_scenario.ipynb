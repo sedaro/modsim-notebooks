{
    "cells": [
        {
            "cell_type": "markdown",
            "metadata": {},
            "source": [
                "(Optional) This notebook was used to generate the test scenario. Feel free to modify and run this notebook if you would like to generate your own similar test scenario.\n"
            ]
        },
        {
            "cell_type": "code",
            "execution_count": 1,
            "metadata": {},
            "outputs": [],
            "source": [
                "from utils import sedaroLogin\n",
                "import numpy as np\n",
                "import pandas"
            ]
        },
        {
            "cell_type": "code",
            "execution_count": 2,
            "metadata": {},
            "outputs": [],
            "source": [
                "sedaro = sedaroLogin()"
            ]
        },
        {
            "cell_type": "code",
            "execution_count": 4,
            "metadata": {},
            "outputs": [],
            "source": [
                "# Set to the id of your scenario branch\n",
                "SCENARIO_BRANCH_ID = ''\n",
                "\n",
                "scenario = sedaro.scenario(SCENARIO_BRANCH_ID)"
            ]
        },
        {
            "cell_type": "markdown",
            "metadata": {},
            "source": [
                "Create ground agents and an agent group for the train stations in reference_data/stations.csv"
            ]
        },
        {
            "cell_type": "code",
            "execution_count": 8,
            "metadata": {},
            "outputs": [],
            "source": [
                "stations = pandas.read_csv('reference_data/stations.csv')\n",
                "kinematics = scenario.EcefStationaryKinematics.create() # This will make the ground agent fixed in ECEF\n",
                "# Helper fn\n",
                "def get_lat(lat_str:str) -> float:\n",
                "    s = lat_str.split('°')\n",
                "    if s[1] == ' N':\n",
                "        return float(s[0])\n",
                "    else:\n",
                "        return -float(s[0])\n",
                "def get_lon(lon_str:str) -> float:\n",
                "    s = lon_str.split('°')\n",
                "    if s[1] == ' E':\n",
                "        return float(s[0])\n",
                "    else:\n",
                "        return -float(s[0])\n",
                "\n",
                "# Add stations as agent and as tg\n",
                "crud = []\n",
                "names = []\n",
                "for _, row in stations.iterrows():\n",
                "    name = row['Train Station']\n",
                "    if name in names:\n",
                "        name = row['City'] + ' ' + name\n",
                "    names.append(name)\n",
                "    crud.append({\n",
                "        'name': name[:32],\n",
                "        'type': 'PeripheralGroundPoint',\n",
                "        'lat': {'deg': get_lat(row['Latitude'])},\n",
                "        'lon': {'deg': get_lon(row['Longitude'])},\n",
                "        'alt': {'km': 0},\n",
                "        'id': f'${name}',\n",
                "        'kinematics': kinematics.id,\n",
                "    })\n",
                "crud.append({\n",
                "    'name': 'Some Train Stations',\n",
                "    'type': 'AgentGroup',\n",
                "    'agentType': 'GroundTarget',\n",
                "    'agentAssociations': {f'${name}': {'priority': i} for i, name in enumerate(names)},\n",
                "})\n",
                "_ = scenario.crud(blocks=crud)"
            ]
        },
        {
            "cell_type": "markdown",
            "metadata": {},
            "source": [
                "Create copies of an existing agent with differing orbital inclinations. I tinkered with RAAN as well so the spacecraft would start in the Eastern hemisphere."
            ]
        },
        {
            "cell_type": "code",
            "execution_count": null,
            "metadata": {},
            "outputs": [],
            "source": [
                "base_agent = scenario.TemplatedAgent.get_first()\n",
                "base_orbit = base_agent.kinematics\n",
                "orbit_params = base_orbit.initialStateDefParams\n",
                "\n",
                "for i, inc in enumerate(np.linspace(0, 170, 10)):\n",
                "    new_orbit = base_orbit.clone()\n",
                "    new_orbit = new_orbit.update(initialStateDefParams={\n",
                "        **orbit_params,\n",
                "        'inc': inc,\n",
                "        'raan': 90,\n",
                "    })\n",
                "    new_agent = base_agent.clone().update(kinematics=new_orbit.id, name=f'Agent {i}')"
            ]
        }
    ],
    "metadata": {
        "kernelspec": {
            "display_name": "sedaro",
            "language": "python",
            "name": "sedaro"
        },
        "language_info": {
            "codemirror_mode": {
                "name": "ipython",
                "version": 3
            },
            "file_extension": ".py",
            "mimetype": "text/x-python",
            "name": "python",
            "nbconvert_exporter": "python",
            "pygments_lexer": "ipython3",
            "version": "3.11.3"
        }
    },
    "nbformat": 4,
    "nbformat_minor": 2
}
