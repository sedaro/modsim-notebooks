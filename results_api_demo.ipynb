{
 "cells": [
  {
   "attachments": {},
   "cell_type": "markdown",
   "metadata": {},
   "source": [
    "### Sedaro Results API Example\n",
    "\n",
    "This notebook exercises funcionality of the Sedaro results API tools. The notebook can be pointed at any scenario branch that has previously been simulated. Examples will step through downloading the data and exploring the results."
   ]
  },
  {
   "cell_type": "code",
   "execution_count": null,
   "metadata": {},
   "outputs": [],
   "source": [
    "import json\n",
    "from datetime import datetime\n",
    "\n",
    "from sedaro import SedaroAgentResult, SedaroBlockResult, SedaroSeries, SedaroSimulationResult"
   ]
  },
  {
   "attachments": {},
   "cell_type": "markdown",
   "metadata": {},
   "source": [
    "#### Important: Read Before Running\n",
    "\n",
    "This notebook makes changes to agent and scenario branches indicated in the settings section. Ensure any changes to the target branches are saved prior to running this code. Sedaro recommends committing current work and creating new branches in the target repositories to avoid loss of work.\n",
    "\n",
    "This notebook also requires that you have previously generated an API key in the web UI. That key should be stored in a file called `secrets.json` in the same directory as this notebook with the following format:\n",
    "\n",
    "```json\n",
    "{\n",
    "    \"API_KEY\": \"<API_KEY>\"\n",
    "}\n",
    "```\n",
    "\n",
    "API keys grant full access to your repositories and should never be shared. If you think your API key has been compromised, you can revoke it in the user settings interface on the Sedaro website."
   ]
  },
  {
   "cell_type": "code",
   "execution_count": null,
   "metadata": {},
   "outputs": [],
   "source": [
    "# Settings\n",
    "with open('./secrets.json', 'r') as file:\n",
    "    API_KEY = json.load(file)['API_KEY']\n",
    "\n",
    "with open('./config.json', 'r') as file:\n",
    "    config = json.load(file)\n",
    "\n",
    "# Obtain these IDs from the branch list within each repository and add to config.json\n",
    "SCENARIO_BRANCH_ID = config['SCENARIO_BRANCH_ID']  # ID of the scenario template branch\n",
    "HOST = config['HOST']                              # Sedaro instance URL"
   ]
  },
  {
   "attachments": {},
   "cell_type": "markdown",
   "metadata": {},
   "source": [
    "### Downloading and Navigating Results\n",
    "\n",
    "The primary entrypoint of the results API is the `SedaroSimulationResult` class. This class offers a few methods for pulling data from scenarios. The most commonly-used method is `.get_scenario_latest` that pulls the latest results into a new result object. If the simulation is not complete, the resulting object will indicate the status is \"Running\" and not contain any results. Alternatively, use the `.poll_scenario_latest` method to wait for an in-progress simulation to complete and download results after.\n",
    "\n",
    "Any object in the results API will provide a descriptive summary of its contents when the `.summarize` method is called."
   ]
  },
  {
   "cell_type": "code",
   "execution_count": null,
   "metadata": {},
   "outputs": [],
   "source": [
    "# Query scenario and do not wait if still running\n",
    "result = SedaroSimulationResult.get_scenario_latest(API_KEY, SCENARIO_BRANCH_ID, host=HOST)\n",
    "\n",
    "# Query scenario and wait for it to finish\n",
    "# result = SedaroSimulationResult.poll_scenario_latest(API_KEY, SCENARIO_BRANCH_ID, host=HOST)\n",
    "\n",
    "result.summarize()"
   ]
  },
  {
   "attachments": {},
   "cell_type": "markdown",
   "metadata": {},
   "source": [
    "Top-level results are broken down by agent. You can view results for any agent (templated or peripheral) by calling the `.agent` method with the name of an agent listed above. The result class also has helper methods containing lists of the available agents: `.templated_agents` and `peripheral_agents`."
   ]
  },
  {
   "cell_type": "code",
   "execution_count": null,
   "metadata": {},
   "outputs": [],
   "source": [
    "agent_result = result.agent(result.templated_agents[0])\n",
    "agent_result.summarize()"
   ]
  },
  {
   "attachments": {},
   "cell_type": "markdown",
   "metadata": {},
   "source": [
    "Agent results are organized by blocks, where blocks are the basic elements that make up each simulation. Results for any blocks can be queried by a complete or partial ID, as listed in the ID column above. Note that partial IDs will only return a result if it matches the beginning of only one block ID. The block result class also has a helper attribute, `.blocks`, that returns a list of all block IDs contained in that instance.\n",
    "\n",
    "There is one special entry in the block list: `root`. This index captures all variables that exist on the lowest level of the simulated agent and do not belong to any block. For example, the agent `position` will usually exist in `root`."
   ]
  },
  {
   "cell_type": "code",
   "execution_count": null,
   "metadata": {},
   "outputs": [],
   "source": [
    "block_result = agent_result.block('root')\n",
    "block_result.summarize()"
   ]
  },
  {
   "attachments": {},
   "cell_type": "markdown",
   "metadata": {},
   "source": [
    "Block results contain the time histories of state variables associated with that block. State variables can be queried directly through the `.<VARIABLE_NAME>` attribute or the `.variable` method. The `.variables` attribute returns a list of the names of all variables available in the object.\n",
    "\n",
    "Querying a particular variable returns a time series object."
   ]
  },
  {
   "cell_type": "code",
   "execution_count": null,
   "metadata": {},
   "outputs": [],
   "source": [
    "series = block_result.perturbationTorque\n",
    "series.summarize()"
   ]
  },
  {
   "attachments": {},
   "cell_type": "markdown",
   "metadata": {},
   "source": [
    "Series allow direct access to the data through three attributes:\n",
    "* `.mjd`: Returns a list of epochs as Modified Julian Dates.\n",
    "* `.elapsed_time`: Returns a list of elapsed times from the initial epoch in seconds.\n",
    "* `.values`: Returns a list of state variable values corresponding to the times above.\n",
    "\n",
    "Alternatively, a series is iterable and can be traversed as shown below."
   ]
  },
  {
   "cell_type": "code",
   "execution_count": null,
   "metadata": {},
   "outputs": [],
   "source": [
    "for mjd, elapsed_time, value in series:\n",
    "    print(mjd, elapsed_time, value)\n",
    "    if elapsed_time > 10:\n",
    "        break"
   ]
  },
  {
   "attachments": {},
   "cell_type": "markdown",
   "metadata": {},
   "source": [
    "Sometimes, a series contains multiple sub-series. This can happen when, for example, multiple frame or unit representations are available for that series. A subseries can be queried through the `.<SERIES_NAME>` attribute and will return a new series."
   ]
  },
  {
   "cell_type": "code",
   "execution_count": null,
   "metadata": {},
   "outputs": [],
   "source": [
    "block_result.position.summarize()"
   ]
  },
  {
   "cell_type": "code",
   "execution_count": null,
   "metadata": {},
   "outputs": [],
   "source": [
    "block_result.position.ecef.summarize()"
   ]
  },
  {
   "attachments": {},
   "cell_type": "markdown",
   "metadata": {},
   "source": [
    "### Saving and Loading Results Locally\n",
    "\n",
    "Every Sedaro result object supports saving and restoring results to and from a file. This functionality can be helpful when working with large results to avoid re-downloading the same data. To save data, call the `.to_file` method on any result object. Note that the save operation will return an error if the file already exists."
   ]
  },
  {
   "cell_type": "code",
   "execution_count": null,
   "metadata": {},
   "outputs": [],
   "source": [
    "filename = f'SimulationResult_{datetime.now().strftime(\"%d%m%Y_%H%M%S\")}.bak'\n",
    "result.to_file(filename)"
   ]
  },
  {
   "attachments": {},
   "cell_type": "markdown",
   "metadata": {},
   "source": [
    "Use the `.from_file` class method to load previously-saved results."
   ]
  },
  {
   "cell_type": "code",
   "execution_count": null,
   "metadata": {},
   "outputs": [],
   "source": [
    "new_result = SedaroSimulationResult.from_file(filename)\n",
    "new_result.summarize()"
   ]
  },
  {
   "attachments": {},
   "cell_type": "markdown",
   "metadata": {},
   "source": [
    "Saving and loading also works for agent, block, and series results using the same methods. Uncomment examples below to try the functionality for different types."
   ]
  },
  {
   "cell_type": "code",
   "execution_count": null,
   "metadata": {},
   "outputs": [],
   "source": [
    "# Saving/loading reference examples\n",
    "\n",
    "# agent_result.to_file('AgentResult.bak')\n",
    "# new_agent_result = SedaroAgentResult.from_file('AgentResult.bak')\n",
    "\n",
    "# block_result.to_file('BlockResult.bak')\n",
    "# new_block_result = SedaroBlockResult.from_file('BlockResult.bak')\n",
    "\n",
    "# series.to_file('SeriesResult.bak')\n",
    "# new_series = SedaroSeries.from_file('SeriesResult.bak')"
   ]
  },
  {
   "attachments": {},
   "cell_type": "markdown",
   "metadata": {},
   "source": [
    "### Plotting"
   ]
  },
  {
   "attachments": {},
   "cell_type": "markdown",
   "metadata": {},
   "source": [
    "Series objects also offer some basic plotting functionality for quick visualizations of data through integration with `matplotlib`. If `matplotlib` is not available, the commands below will raise an exception. In some cases, the underlying data is not a plottable data type and the commands below will raise an exception indicating that the operation could not complete.\n",
    "\n",
    "The `.plot` command accepts arbitrary formatting keyword arguments supported by `matplotlib.pyplot.plot` and will pass them directly to that function."
   ]
  },
  {
   "cell_type": "code",
   "execution_count": null,
   "metadata": {},
   "outputs": [],
   "source": [
    "block_result.position.eci.plot(linewidth=1)"
   ]
  },
  {
   "attachments": {},
   "cell_type": "markdown",
   "metadata": {},
   "source": [
    "An optional keyword argument, `show`, allows for plotting multiple series on the same figure. By default, the `.plot` command will show the figure immediately after plotting. With `show=False`, the plot command will not display the figure until a future command uses `show=True` or the user explicitly calls `matplotlib.pyplot.show()`."
   ]
  },
  {
   "cell_type": "code",
   "execution_count": null,
   "metadata": {},
   "outputs": [],
   "source": [
    "block_result.position.eci.plot(linewidth=1, show=False)\n",
    "block_result.position.ecef.plot(linewidth=1)"
   ]
  }
 ],
 "metadata": {
  "kernelspec": {
   "display_name": ".venv",
   "language": "python",
   "name": "python3"
  },
  "language_info": {
   "codemirror_mode": {
    "name": "ipython",
    "version": 3
   },
   "file_extension": ".py",
   "mimetype": "text/x-python",
   "name": "python",
   "nbconvert_exporter": "python",
   "pygments_lexer": "ipython3",
   "version": "3.10.4"
  },
  "orig_nbformat": 4,
  "vscode": {
   "interpreter": {
    "hash": "57ef9f7306e2966b9a4e81196535973301de2420feb6cef905a8935fc008d3d3"
   }
  }
 },
 "nbformat": 4,
 "nbformat_minor": 2
}
